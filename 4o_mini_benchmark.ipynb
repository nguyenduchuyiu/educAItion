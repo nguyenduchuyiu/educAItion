{
 "cells": [
  {
   "cell_type": "code",
   "execution_count": 1,
   "metadata": {},
   "outputs": [
    {
     "name": "stdout",
     "output_type": "stream",
     "text": [
      "Total number of questions: 162\n"
     ]
    }
   ],
   "source": [
    "import json\n",
    "\n",
    "with open(\"/home/huy/Project/educAItion/data.json\", \"r\", encoding=\"utf-8\") as file:\n",
    "    data = json.load(file)\n",
    "\n",
    "question_count = sum(len(topic[\"questions\"]) for chapter in data[\"data\"] for topic in chapter[\"topics\"])\n",
    "\n",
    "print(\"Total number of questions:\", question_count)\n"
   ]
  },
  {
   "cell_type": "code",
   "execution_count": 2,
   "metadata": {},
   "outputs": [],
   "source": [
    "\n",
    "\n",
    "PROMPT_text = \"\"\"\n",
    "Hãy giải bài toán theo từng bước, và giải thích bước làm.\n",
    "Hãy trả về kết quả dạng LaTeX cho các công thức toán học (để trong $...$ cho các biểu thức, số), bảng biến thiên, đồ thị,... nếu có.\n",
    "\n",
    "=========\n",
    "Đây là bài toán:\n",
    "{problem}\n",
    "\n",
    "=========\n",
    "\n",
    "LƯU Ý: \n",
    "- Hãy giải bằng cách ngắn gọn, hiệu quả nhất.\n",
    "- Hãy trình bày khoa học và dùng các ký hiệu toán học nếu có thể để thay cho chữ \n",
    "- Ví dụ dùng kí hiệu toán là dấu \"hoặc\", \"và\" khi giải phương trình, bất phương trình; Hay vẽ bảng biến thiên khảo sát hàm số hay xét dấu,.... \n",
    "- Nên xuống dòng khi cần thiết, tránh một dòng quá dài.\n",
    "-Trả về dưới dạng tag : <solution>solution<solution> <answer>answer<answer> trong đó solution là cách giải, anser là kết quả cuối cùng theo yêu cầu bài toán.\n",
    "-Trả về kết quả dưới dạng Latex\n",
    "\"\"\""
   ]
  },
  {
   "cell_type": "code",
   "execution_count": 1,
   "metadata": {},
   "outputs": [],
   "source": [
    "\n",
    "from dotenv import load_dotenv\n",
    "import os\n",
    "from google import genai\n",
    "\n",
    "load_dotenv()\n",
    "\n",
    "api_key = os.getenv(\"OPENAI_API_KEY\")\n",
    "gemini_api_key = os.getenv(\"GEMINI_API_KEY\")\n",
    "\n",
    "from langchain_openai import OpenAI, ChatOpenAI\n",
    "from typing import List, Dict, Any, Optional, Tuple\n",
    "from abc import ABC, abstractmethod\n",
    "from langchain.schema.messages import HumanMessage, SystemMessage\n",
    "\n",
    "\n",
    "class LLM(ABC):\n",
    "    @abstractmethod\n",
    "    def generate(self, prompt: str) -> str:\n",
    "        pass\n",
    "    \n",
    "    @abstractmethod\n",
    "    def stream_generate(self, prompt: str):\n",
    "        pass\n",
    "\n",
    "class LangchainOpenAI(LLM):\n",
    "    def __init__(self, model_name=\"gpt-4o-mini\"):\n",
    "        self.chat_model = ChatOpenAI(\n",
    "            model=model_name,\n",
    "            temperature=0\n",
    "        )\n",
    "        self.stream_model = ChatOpenAI(\n",
    "            model=model_name,\n",
    "            temperature=0,\n",
    "            streaming=True\n",
    "        )\n",
    "    \n",
    "    def generate(self, prompt: str) -> str:\n",
    "        messages = [HumanMessage(content=prompt)]\n",
    "        return self.chat_model.invoke(messages).content\n",
    "    \n",
    "    def stream_generate(self, prompt: str):\n",
    "        messages = [HumanMessage(content=prompt)]\n",
    "        for chunk in self.stream_model.stream(messages):\n",
    "            if chunk.content:\n",
    "                yield chunk.content\n",
    "\n",
    "class GeminiAI(LLM):\n",
    "    def __init__(self):\n",
    "        self.client = genai.Client(api_key=gemini_api_key)\n",
    "    \n",
    "    def generate(self, prompt: str) -> str:\n",
    "        response = self.client.models.generate_content(model=\"gemini-2.0-flash\",contents=[prompt])\n",
    "        return response.text\n",
    "    \n",
    "\n",
    "    def stream_generate(self, prompt: str):\n",
    "        response = self.client.models.generate_content_stream(model=\"gemini-2.0-flash\",contents=[prompt])\n",
    "        \n",
    "        for chunk in response:\n",
    "            if chunk.text:\n",
    "                yield chunk.text"
   ]
  },
  {
   "cell_type": "code",
   "execution_count": 2,
   "metadata": {},
   "outputs": [],
   "source": [
    "\n",
    "import re\n",
    "import pandas as pd\n",
    "\n",
    "from IPython.display import display, Latex\n",
    "import json\n",
    "\n",
    "from tqdm import tqdm\n",
    "\n",
    "model = LangchainOpenAI()\n",
    "def get_answer(problem):\n",
    "    response =  model.generate(PROMPT_text.format(problem=problem))\n",
    "    if response is None:\n",
    "            return {\"solution\": \"AI failed to generate a solution\", \"answer\": \"AI failed to generate an answer\"}\n",
    "    solution_match = re.search(r\"<solution>(.*?)</solution>\", response, re.DOTALL)\n",
    "    answer_match = re.search(r\"<answer>(.*?)</answer>\", response, re.DOTALL)\n",
    "    \n",
    "    # Extracted values or default\n",
    "    solution = solution_match.group(1) if solution_match else \"No solution found\"\n",
    "    answer = answer_match.group(1) if answer_match else \"No answer found\"\n",
    "    \n",
    "    return {\"solution\": solution, \"answer\": answer}"
   ]
  },
  {
   "cell_type": "code",
   "execution_count": 5,
   "metadata": {},
   "outputs": [
    {
     "data": {
      "text/latex": [
       "\n",
       "Để giải phương trình $z^3 - 8 = 0$, ta có thể viết lại phương trình dưới dạng:\n",
       "\n",
       "$$\n",
       "z^3 = 8\n",
       "$$\n",
       "\n",
       "Tiếp theo, ta nhận thấy rằng $8$ có thể được viết dưới dạng số phức như sau:\n",
       "\n",
       "$$\n",
       "8 = 8 \\cdot (\\cos(0) + i \\sin(0))\n",
       "$$\n",
       "\n",
       "Bây giờ, ta sẽ sử dụng công thức De Moivre để tìm các nghiệm của phương trình. Các nghiệm của phương trình $z^n = r(\\cos \\theta + i \\sin \\theta)$ được cho bởi:\n",
       "\n",
       "$$\n",
       "z_k = r^{1/n} \\left( \\cos\\left(\\frac{\\theta + 2k\\pi}{n}\\right) + i \\sin\\left(\\frac{\\theta + 2k\\pi}{n}\\right) \\right), \\quad k = 0, 1, \\ldots, n-1\n",
       "$$\n",
       "\n",
       "Trong trường hợp này, $r = 8$, $\\theta = 0$, và $n = 3$. \n",
       "\n",
       "Tính $r^{1/3}$:\n",
       "\n",
       "$$\n",
       "r^{1/3} = 8^{1/3} = 2\n",
       "$$\n",
       "\n",
       "Bây giờ, ta sẽ tính các nghiệm cho $k = 0, 1, 2$:\n",
       "\n",
       "1. Với $k = 0$:\n",
       "\n",
       "$$\n",
       "z_0 = 2 \\left( \\cos\\left(\\frac{0 + 2 \\cdot 0 \\cdot \\pi}{3}\\right) + i \\sin\\left(\\frac{0 + 2 \\cdot 0 \\cdot \\pi}{3}\\right) \\right) = 2 \\left( \\cos(0) + i \\sin(0) \\right) = 2\n",
       "$$\n",
       "\n",
       "2. Với $k = 1$:\n",
       "\n",
       "$$\n",
       "z_1 = 2 \\left( \\cos\\left(\\frac{0 + 2 \\cdot 1 \\cdot \\pi}{3}\\right) + i \\sin\\left(\\frac{0 + 2 \\cdot 1 \\cdot \\pi}{3}\\right) \\right) = 2 \\left( \\cos\\left(\\frac{2\\pi}{3}\\right) + i \\sin\\left(\\frac{2\\pi}{3}\\right) \\right)\n",
       "$$\n",
       "\n",
       "Tính giá trị:\n",
       "\n",
       "$$\n",
       "\\cos\\left(\\frac{2\\pi}{3}\\right) = -\\frac{1}{2}, \\quad \\sin\\left(\\frac{2\\pi}{3}\\right) = \\frac{\\sqrt{3}}{2}\n",
       "$$\n",
       "\n",
       "Vậy:\n",
       "\n",
       "$$\n",
       "z_1 = 2 \\left( -\\frac{1}{2} + i \\frac{\\sqrt{3}}{2} \\right) = -1 + i\\sqrt{3}\n",
       "$$\n",
       "\n",
       "3. Với $k = 2$:\n",
       "\n",
       "$$\n",
       "z_2 = 2 \\left( \\cos\\left(\\frac{0 + 2 \\cdot 2 \\cdot \\pi}{3}\\right) + i \\sin\\left(\\frac{0 + 2 \\cdot 2 \\cdot \\pi}{3}\\right) \\right) = 2 \\left( \\cos\\left(\\frac{4\\pi}{3}\\right) + i \\sin\\left(\\frac{4\\pi}{3}\\right) \\right)\n",
       "$$\n",
       "\n",
       "Tính giá trị:\n",
       "\n",
       "$$\n",
       "\\cos\\left(\\frac{4\\pi}{3}\\right) = -\\frac{1}{2}, \\quad \\sin\\left(\\frac{4\\pi}{3}\\right) = -\\frac{\\sqrt{3}}{2}\n",
       "$$\n",
       "\n",
       "Vậy:\n",
       "\n",
       "$$\n",
       "z_2 = 2 \\left( -\\frac{1}{2} - i \\frac{\\sqrt{3}}{2} \\right) = -1 - i\\sqrt{3}\n",
       "$$\n",
       "\n",
       "Tóm lại, các nghiệm của phương trình $z^3 - 8 = 0$ là:\n",
       "\n",
       "$$\n",
       "z_0 = 2, \\quad z_1 = -1 + i\\sqrt{3}, \\quad z_2 = -1 - i\\sqrt{3}\n",
       "$$\n"
      ],
      "text/plain": [
       "<IPython.core.display.Latex object>"
      ]
     },
     "metadata": {},
     "output_type": "display_data"
    },
    {
     "name": "stderr",
     "output_type": "stream",
     "text": [
      "Processing Questions:  17%|█▋        | 28/162 [03:25<19:19,  8.65s/it]"
     ]
    },
    {
     "data": {
      "text/latex": [
       "\n",
       "Để giải phương trình $z^2 + 3iz + 4 = 0$, chúng ta sẽ sử dụng công thức nghiệm của phương trình bậc hai:\n",
       "\n",
       "\\[\n",
       "z = \\frac{-b \\pm \\sqrt{b^2 - 4ac}}{2a}\n",
       "\\]\n",
       "\n",
       "Trong đó, $a = 1$, $b = 3i$, và $c = 4$. \n",
       "\n",
       "Bước 1: Tính $b^2 - 4ac$.\n",
       "\n",
       "\\[\n",
       "b^2 = (3i)^2 = 9i^2 = 9(-1) = -9\n",
       "\\]\n",
       "\n",
       "\\[\n",
       "4ac = 4 \\cdot 1 \\cdot 4 = 16\n",
       "\\]\n",
       "\n",
       "Vậy:\n",
       "\n",
       "\\[\n",
       "b^2 - 4ac = -9 - 16 = -25\n",
       "\\]\n",
       "\n",
       "Bước 2: Tính $\\sqrt{b^2 - 4ac}$.\n",
       "\n",
       "\\[\n",
       "\\sqrt{-25} = 5i\n",
       "\\]\n",
       "\n",
       "Bước 3: Thay vào công thức nghiệm.\n",
       "\n",
       "\\[\n",
       "z = \\frac{-3i \\pm 5i}{2}\n",
       "\\]\n",
       "\n",
       "Bước 4: Tính các nghiệm.\n",
       "\n",
       "Nghiệm thứ nhất:\n",
       "\n",
       "\\[\n",
       "z_1 = \\frac{-3i + 5i}{2} = \\frac{2i}{2} = i\n",
       "\\]\n",
       "\n",
       "Nghiệm thứ hai:\n",
       "\n",
       "\\[\n",
       "z_2 = \\frac{-3i - 5i}{2} = \\frac{-8i}{2} = -4i\n",
       "\\]\n",
       "\n",
       "Vậy nghiệm của phương trình $z^2 + 3iz + 4 = 0$ là:\n",
       "\n",
       "\\[\n",
       "z_1 = i \\quad \\text{và} \\quad z_2 = -4i\n",
       "\\]\n"
      ],
      "text/plain": [
       "<IPython.core.display.Latex object>"
      ]
     },
     "metadata": {},
     "output_type": "display_data"
    },
    {
     "name": "stderr",
     "output_type": "stream",
     "text": [
      "Processing Questions:  18%|█▊        | 29/162 [03:31<17:16,  7.79s/it]"
     ]
    },
    {
     "data": {
      "text/latex": [
       "\n",
       "Để tìm căn bậc hai của số phức $z = 1 - i$, trước tiên chúng ta sẽ chuyển đổi số phức này sang dạng lượng giác.\n",
       "\n",
       "1. **Tính mô-đun của $z$**:\n",
       "   Mô-đun của một số phức $z = a + bi$ được tính bằng công thức:\n",
       "   \\[\n",
       "   |z| = \\sqrt{a^2 + b^2}\n",
       "   \\]\n",
       "   Trong trường hợp này, $a = 1$ và $b = -1$. Do đó:\n",
       "   \\[\n",
       "   |z| = \\sqrt{1^2 + (-1)^2} = \\sqrt{1 + 1} = \\sqrt{2}\n",
       "   \\]\n",
       "\n",
       "2. **Tính góc của $z$**:\n",
       "   Góc $\\theta$ của số phức $z$ được tính bằng công thức:\n",
       "   \\[\n",
       "   \\theta = \\tan^{-1}\\left(\\frac{b}{a}\\right)\n",
       "   \\]\n",
       "   Ở đây, $b = -1$ và $a = 1$, do đó:\n",
       "   \\[\n",
       "   \\theta = \\tan^{-1}\\left(\\frac{-1}{1}\\right) = \\tan^{-1}(-1) = -\\frac{\\pi}{4}\n",
       "   \\]\n",
       "   Tuy nhiên, góc này nằm trong phần tư IV, nên chúng ta có thể viết lại góc này dưới dạng:\n",
       "   \\[\n",
       "   \\theta = \\frac{7\\pi}{4} \\quad (\\text{để nằm trong khoảng } [0, 2\\pi))\n",
       "   \\]\n",
       "\n",
       "3. **Chuyển đổi sang dạng lượng giác**:\n",
       "   Số phức $z$ có thể được viết dưới dạng lượng giác như sau:\n",
       "   \\[\n",
       "   z = |z| \\left(\\cos \\theta + i \\sin \\theta\\right) = \\sqrt{2} \\left(\\cos\\left(-\\frac{\\pi}{4}\\right) + i \\sin\\left(-\\frac{\\pi}{4}\\right)\\right)\n",
       "   \\]\n",
       "\n",
       "4. **Tìm căn bậc hai của $z$**:\n",
       "   Căn bậc hai của một số phức trong dạng lượng giác được tính bằng công thức:\n",
       "   \\[\n",
       "   \\sqrt{z} = \\sqrt{|z|} \\left(\\cos\\left(\\frac{\\theta + 2k\\pi}{2}\\right) + i \\sin\\left(\\frac{\\theta + 2k\\pi}{2}\\right)\\right) \\quad (k = 0, 1)\n",
       "   \\]\n",
       "   Tính $\\sqrt{|z|}$:\n",
       "   \\[\n",
       "   \\sqrt{|z|} = \\sqrt{\\sqrt{2}} = 2^{1/4} = \\sqrt[4]{2}\n",
       "   \\]\n",
       "\n",
       "   Với $k = 0$:\n",
       "   \\[\n",
       "   \\sqrt{z}_0 = \\sqrt[4]{2} \\left(\\cos\\left(\\frac{-\\frac{\\pi}{4}}{2}\\right) + i \\sin\\left(\\frac{-\\frac{\\pi}{4}}{2}\\right)\\right) = \\sqrt[4]{2} \\left(\\cos\\left(-\\frac{\\pi}{8}\\right) + i \\sin\\left(-\\frac{\\pi}{8}\\right)\\right)\n",
       "   \\]\n",
       "\n",
       "   Với $k = 1$:\n",
       "   \\[\n",
       "   \\sqrt{z}_1 = \\sqrt[4]{2} \\left(\\cos\\left(\\frac{-\\frac{\\pi}{4} + 2\\pi}{2}\\right) + i \\sin\\left(\\frac{-\\frac{\\pi}{4} + 2\\pi}{2}\\right)\\right) = \\sqrt[4]{2} \\left(\\cos\\left(\\frac{7\\pi}{8}\\right) + i \\sin\\left(\\frac{7\\pi}{8}\\right)\\right)\n",
       "   \\]\n",
       "\n",
       "5. **Kết quả**:\n",
       "   Vậy hai căn bậc hai của $z = 1 - i$ là:\n",
       "   \\[\n",
       "   \\sqrt{z}_0 = \\sqrt[4]{2} \\left(\\cos\\left(-\\frac{\\pi}{8}\\right) + i \\sin\\left(-\\frac{\\pi}{8}\\right)\\right)\n",
       "   \\]\n",
       "   và\n",
       "   \\[\n",
       "   \\sqrt{z}_1 = \\sqrt[4]{2} \\left(\\cos\\left(\\frac{7\\pi}{8}\\right) + i \\sin\\left(\\frac{7\\pi}{8}\\right)\\right)\n",
       "   \\]\n"
      ],
      "text/plain": [
       "<IPython.core.display.Latex object>"
      ]
     },
     "metadata": {},
     "output_type": "display_data"
    },
    {
     "name": "stderr",
     "output_type": "stream",
     "text": [
      "Processing Questions:  19%|█▊        | 30/162 [03:45<21:20,  9.70s/it]"
     ]
    },
    {
     "data": {
      "text/latex": [
       "\n",
       "Để tìm các căn bậc hai của số phức $w = -5 + 12i$, ta sẽ sử dụng công thức tìm căn bậc hai của một số phức.\n",
       "\n",
       "Giả sử $z = x + yi$ là căn bậc hai của $w$, tức là:\n",
       "\n",
       "\\[\n",
       "z^2 = w\n",
       "\\]\n",
       "\n",
       "Khi đó, ta có:\n",
       "\n",
       "\\[\n",
       "(x + yi)^2 = -5 + 12i\n",
       "\\]\n",
       "\n",
       "Mở rộng vế trái:\n",
       "\n",
       "\\[\n",
       "x^2 + 2xyi - y^2 = -5 + 12i\n",
       "\\]\n",
       "\n",
       "Tách phần thực và phần ảo:\n",
       "\n",
       "\\[\n",
       "(x^2 - y^2) + (2xy)i = -5 + 12i\n",
       "\\]\n",
       "\n",
       "Từ đây, ta có hệ phương trình:\n",
       "\n",
       "1. $x^2 - y^2 = -5$ (1)\n",
       "2. $2xy = 12$ (2)\n",
       "\n",
       "Từ phương trình (2), ta có:\n",
       "\n",
       "\\[\n",
       "xy = 6 \\implies y = \\frac{6}{x} \\quad (x \\neq 0)\n",
       "\\]\n",
       "\n",
       "Thay $y$ vào phương trình (1):\n",
       "\n",
       "\\[\n",
       "x^2 - \\left(\\frac{6}{x}\\right)^2 = -5\n",
       "\\]\n",
       "\n",
       "Giải phương trình này:\n",
       "\n",
       "\\[\n",
       "x^2 - \\frac{36}{x^2} = -5\n",
       "\\]\n",
       "\n",
       "Nhân cả hai vế với $x^2$ (với $x \\neq 0$):\n",
       "\n",
       "\\[\n",
       "x^4 + 5x^2 - 36 = 0\n",
       "\\]\n",
       "\n",
       "Đặt $u = x^2$, ta có phương trình bậc hai:\n",
       "\n",
       "\\[\n",
       "u^2 + 5u - 36 = 0\n",
       "\\]\n",
       "\n",
       "Áp dụng công thức nghiệm của phương trình bậc hai:\n",
       "\n",
       "\\[\n",
       "u = \\frac{-b \\pm \\sqrt{b^2 - 4ac}}{2a} = \\frac{-5 \\pm \\sqrt{5^2 - 4 \\cdot 1 \\cdot (-36)}}{2 \\cdot 1}\n",
       "\\]\n",
       "\n",
       "Tính toán:\n",
       "\n",
       "\\[\n",
       "u = \\frac{-5 \\pm \\sqrt{25 + 144}}{2} = \\frac{-5 \\pm \\sqrt{169}}{2} = \\frac{-5 \\pm 13}{2}\n",
       "\\]\n",
       "\n",
       "Tìm các nghiệm:\n",
       "\n",
       "1. $u_1 = \\frac{8}{2} = 4 \\implies x^2 = 4 \\implies x = 2 \\text{ hoặc } x = -2$\n",
       "2. $u_2 = \\frac{-18}{2} = -9 \\implies x^2 = -9 \\text{ (không có nghiệm thực)}$\n",
       "\n",
       "Với $x = 2$, ta có:\n",
       "\n",
       "\\[\n",
       "y = \\frac{6}{2} = 3\n",
       "\\]\n",
       "\n",
       "Với $x = -2$, ta có:\n",
       "\n",
       "\\[\n",
       "y = \\frac{6}{-2} = -3\n",
       "\\]\n",
       "\n",
       "Vậy các căn bậc hai của $w$ là:\n",
       "\n",
       "\\[\n",
       "z_1 = 2 + 3i \\quad \\text{và} \\quad z_2 = -2 - 3i\n",
       "\\]\n",
       "\n",
       "Kết luận, các căn bậc hai của $w = -5 + 12i$ là:\n",
       "\n",
       "\\[\n",
       "z_1 = 2 + 3i \\quad \\text{và} \\quad z_2 = -2 - 3i\n",
       "\\]\n"
      ],
      "text/plain": [
       "<IPython.core.display.Latex object>"
      ]
     },
     "metadata": {},
     "output_type": "display_data"
    },
    {
     "name": "stderr",
     "output_type": "stream",
     "text": [
      "Processing Questions:  19%|█▉        | 31/162 [03:57<22:31, 10.32s/it]"
     ]
    },
    {
     "data": {
      "text/latex": [
       "\n",
       "Để khai căn bậc hai số phức $z = -3 + 4i$, ta sử dụng công thức khai căn bậc hai cho số phức. Một số phức $z = x + yi$ có thể được viết dưới dạng $r(\\cos \\theta + i \\sin \\theta)$, trong đó $r = |z|$ là độ lớn của số phức và $\\theta = \\arg(z)$ là góc của số phức.\n",
       "\n",
       "1. **Tính độ lớn $r$ của số phức $z$:**\n",
       "   \\[\n",
       "   r = |z| = \\sqrt{x^2 + y^2} = \\sqrt{(-3)^2 + (4)^2} = \\sqrt{9 + 16} = \\sqrt{25} = 5\n",
       "   \\]\n",
       "\n",
       "2. **Tính góc $\\theta$:**\n",
       "   \\[\n",
       "   \\theta = \\tan^{-1}\\left(\\frac{y}{x}\\right) = \\tan^{-1}\\left(\\frac{4}{-3}\\right)\n",
       "   \\]\n",
       "   Số phức $z$ nằm ở phần tư II, do đó:\n",
       "   \\[\n",
       "   \\theta = \\pi + \\tan^{-1}\\left(\\frac{4}{-3}\\right) = \\pi - \\tan^{-1}\\left(\\frac{4}{3}\n",
       "   \\]\n",
       "\n",
       "3. **Khai căn bậc hai:**\n",
       "   Số phức có dạng $z = r(\\cos \\theta + i \\sin \\theta)$, do đó:\n",
       "   \\[\n",
       "   \\sqrt{z} = \\sqrt{r}\\left(\\cos\\left(\\frac{\\theta}{2}\\right) + i \\sin\\left(\\frac{\\theta}{2}\\right)\\right)\n",
       "   \\]\n",
       "   Với $r = 5$, ta có:\n",
       "   \\[\n",
       "   \\sqrt{r} = \\sqrt{5}\n",
       "   \\]\n",
       "\n",
       "4. **Tính $\\frac{\\theta}{2}$:**\n",
       "   \\[\n",
       "   \\frac{\\theta}{2} = \\frac{\\pi - \\tan^{-1}\\left(\\frac{4}{3}\\right)}{2}\n",
       "   \\]\n",
       "\n",
       "5. **Kết quả cuối cùng:**\n",
       "   Do đó, ta có hai nghiệm cho $\\sqrt{z}$:\n",
       "   \\[\n",
       "   \\sqrt{z} = \\sqrt{5}\\left(\\cos\\left(\\frac{\\theta}{2}\\right) + i \\sin\\left(\\frac{\\theta}{2}\\right)\\right) \\quad \\text{hoặc} \\quad \\sqrt{5}\\left(\\cos\\left(\\frac{\\theta}{2} + \\pi\\right) + i \\sin\\left(\\frac{\\theta}{2} + \\pi\\right)\\right)\n",
       "   \\]\n",
       "\n",
       "Kết quả cuối cùng là:\n",
       "\\[\n",
       "\\sqrt{z} = \\sqrt{5}\\left(\\cos\\left(\\frac{\\pi - \\tan^{-1}\\left(\\frac{4}{3}\\right)}{2}\\right) + i \\sin\\left(\\frac{\\pi - \\tan^{-1}\\left(\\frac{4}{3}\\right)}{2}\\right)\\right) \\quad \\text{và} \\quad \\sqrt{5}\\left(\\cos\\left(\\frac{\\pi - \\tan^{-1}\\left(\\frac{4}{3}\\right)}{2} + \\pi\\right) + i \\sin\\left(\\frac{\\pi - \\tan^{-1}\\left(\\frac{4}{3}\\right)}{2} + \\pi\\right)\\right)\n",
       "\\]\n"
      ],
      "text/plain": [
       "<IPython.core.display.Latex object>"
      ]
     },
     "metadata": {},
     "output_type": "display_data"
    },
    {
     "name": "stderr",
     "output_type": "stream",
     "text": [
      "Processing Questions:  20%|█▉        | 32/162 [04:09<23:41, 10.94s/it]"
     ]
    },
    {
     "data": {
      "text/latex": [
       "\n",
       "Để tính căn bậc hai của số phức $z = 8 + 6i$, ta sẽ sử dụng công thức tổng quát cho căn bậc hai của một số phức.\n",
       "\n",
       "Giả sử căn bậc hai của $z$ có dạng $w = x + yi$, trong đó $x$ và $y$ là các số thực. Ta có:\n",
       "\n",
       "\\[\n",
       "w^2 = z \\implies (x + yi)^2 = 8 + 6i\n",
       "\\]\n",
       "\n",
       "Khai triển vế trái:\n",
       "\n",
       "\\[\n",
       "x^2 + 2xyi - y^2 = 8 + 6i\n",
       "\\]\n",
       "\n",
       "Từ đó, ta tách thành hai phương trình thực và ảo:\n",
       "\n",
       "1. Phương trình thực: $x^2 - y^2 = 8$\n",
       "2. Phương trình ảo: $2xy = 6$\n",
       "\n",
       "Từ phương trình 2, ta có:\n",
       "\n",
       "\\[\n",
       "xy = 3 \\implies y = \\frac{3}{x} \\quad (x \\neq 0)\n",
       "\\]\n",
       "\n",
       "Thay $y$ vào phương trình 1:\n",
       "\n",
       "\\[\n",
       "x^2 - \\left(\\frac{3}{x}\\right)^2 = 8\n",
       "\\]\n",
       "\n",
       "Giải phương trình này:\n",
       "\n",
       "\\[\n",
       "x^2 - \\frac{9}{x^2} = 8\n",
       "\\]\n",
       "\n",
       "Nhân cả hai vế với $x^2$ (với $x \\neq 0$):\n",
       "\n",
       "\\[\n",
       "x^4 - 8x^2 - 9 = 0\n",
       "\\]\n",
       "\n",
       "Đặt $u = x^2$, ta có phương trình bậc hai:\n",
       "\n",
       "\\[\n",
       "u^2 - 8u - 9 = 0\n",
       "\\]\n",
       "\n",
       "Áp dụng công thức nghiệm của phương trình bậc hai:\n",
       "\n",
       "\\[\n",
       "u = \\frac{8 \\pm \\sqrt{(-8)^2 - 4 \\cdot 1 \\cdot (-9)}}{2 \\cdot 1} = \\frac{8 \\pm \\sqrt{64 + 36}}{2} = \\frac{8 \\pm \\sqrt{100}}{2} = \\frac{8 \\pm 10}{2}\n",
       "\\]\n",
       "\n",
       "Tính các nghiệm:\n",
       "\n",
       "1. $u_1 = \\frac{18}{2} = 9 \\implies x^2 = 9 \\implies x = 3$ hoặc $x = -3$.\n",
       "2. $u_2 = \\frac{-2}{2} = -1$ (không có nghiệm thực).\n",
       "\n",
       "Với $x = 3$, ta tính $y$:\n",
       "\n",
       "\\[\n",
       "y = \\frac{3}{3} = 1\n",
       "\\]\n",
       "\n",
       "Với $x = -3$, ta cũng có:\n",
       "\n",
       "\\[\n",
       "y = \\frac{3}{-3} = -1\n",
       "\\]\n",
       "\n",
       "Vậy, các nghiệm của $w$ là:\n",
       "\n",
       "\\[\n",
       "w_1 = 3 + i \\quad \\text{và} \\quad w_2 = -3 - i\n",
       "\\]\n",
       "\n",
       "Do đó, căn bậc hai của số phức $z = 8 + 6i$ là:\n",
       "\n",
       "\\[\n",
       "w = 3 + i \\quad \\text{hoặc} \\quad w = -3 - i\n",
       "\\]\n"
      ],
      "text/plain": [
       "<IPython.core.display.Latex object>"
      ]
     },
     "metadata": {},
     "output_type": "display_data"
    },
    {
     "name": "stderr",
     "output_type": "stream",
     "text": [
      "Processing Questions:  20%|██        | 33/162 [04:16<21:07,  9.82s/it]"
     ]
    },
    {
     "data": {
      "text/latex": [
       "\n",
       "Để tìm căn bậc hai của số phức $z = 3 + 4i$, ta sẽ sử dụng công thức tổng quát cho căn bậc hai của một số phức.\n",
       "\n",
       "Giả sử căn bậc hai của $z$ là $w = x + yi$, với $x$ và $y$ là các số thực. Ta có:\n",
       "\n",
       "\\[\n",
       "w^2 = z \\implies (x + yi)^2 = 3 + 4i\n",
       "\\]\n",
       "\n",
       "Khai triển vế trái:\n",
       "\n",
       "\\[\n",
       "x^2 + 2xyi - y^2 = 3 + 4i\n",
       "\\]\n",
       "\n",
       "Từ đó, ta tách thành hai phương trình thực và ảo:\n",
       "\n",
       "1. Phương trình thực: $x^2 - y^2 = 3$\n",
       "2. Phương trình ảo: $2xy = 4$\n",
       "\n",
       "Từ phương trình 2, ta có:\n",
       "\n",
       "\\[\n",
       "xy = 2 \\implies y = \\frac{2}{x} \\quad (x \\neq 0)\n",
       "\\]\n",
       "\n",
       "Thay $y$ vào phương trình 1:\n",
       "\n",
       "\\[\n",
       "x^2 - \\left(\\frac{2}{x}\\right)^2 = 3\n",
       "\\]\n",
       "\n",
       "Giải phương trình này:\n",
       "\n",
       "\\[\n",
       "x^2 - \\frac{4}{x^2} = 3\n",
       "\\]\n",
       "\n",
       "Nhân cả hai vế với $x^2$ (với $x \\neq 0$):\n",
       "\n",
       "\\[\n",
       "x^4 - 3x^2 - 4 = 0\n",
       "\\]\n",
       "\n",
       "Đặt $u = x^2$, ta có phương trình bậc hai:\n",
       "\n",
       "\\[\n",
       "u^2 - 3u - 4 = 0\n",
       "\\]\n",
       "\n",
       "Áp dụng công thức nghiệm của phương trình bậc hai:\n",
       "\n",
       "\\[\n",
       "u = \\frac{-b \\pm \\sqrt{b^2 - 4ac}}{2a} = \\frac{3 \\pm \\sqrt{(-3)^2 - 4 \\cdot 1 \\cdot (-4)}}{2 \\cdot 1} = \\frac{3 \\pm \\sqrt{9 + 16}}{2} = \\frac{3 \\pm 5}{2}\n",
       "\\]\n",
       "\n",
       "Tính toán các nghiệm:\n",
       "\n",
       "1. $u_1 = \\frac{8}{2} = 4 \\implies x^2 = 4 \\implies x = 2$ hoặc $x = -2$.\n",
       "2. $u_2 = \\frac{-2}{2} = -1$ (không có nghiệm thực).\n",
       "\n",
       "Với $x = 2$, ta tính $y$:\n",
       "\n",
       "\\[\n",
       "y = \\frac{2}{x} = \\frac{2}{2} = 1\n",
       "\\]\n",
       "\n",
       "Với $x = -2$, ta cũng có:\n",
       "\n",
       "\\[\n",
       "y = \\frac{2}{-2} = -1\n",
       "\\]\n",
       "\n",
       "Vậy, các căn bậc hai của $z$ là:\n",
       "\n",
       "\\[\n",
       "w_1 = 2 + i \\quad \\text{và} \\quad w_2 = -2 - i\n",
       "\\]\n",
       "\n",
       "Kết luận, căn bậc hai của số phức $z = 3 + 4i$ là:\n",
       "\n",
       "\\[\n",
       "w = 2 + i \\quad \\text{hoặc} \\quad w = -2 - i\n",
       "\\]\n"
      ],
      "text/plain": [
       "<IPython.core.display.Latex object>"
      ]
     },
     "metadata": {},
     "output_type": "display_data"
    },
    {
     "name": "stderr",
     "output_type": "stream",
     "text": [
      "Processing Questions:  21%|██        | 34/162 [04:38<28:22, 13.30s/it]"
     ]
    },
    {
     "data": {
      "text/latex": [
       "\n",
       "Để tìm căn bậc hai của số phức $z = 4 + 6\\sqrt{5}i$, ta sẽ sử dụng công thức cho căn bậc hai của số phức.\n",
       "\n",
       "Giả sử căn bậc hai của $z$ là $w = x + yi$, trong đó $x$ và $y$ là các số thực. Ta có:\n",
       "\n",
       "\\[\n",
       "w^2 = z \\implies (x + yi)^2 = 4 + 6\\sqrt{5}i\n",
       "\\]\n",
       "\n",
       "Khi khai triển vế trái, ta có:\n",
       "\n",
       "\\[\n",
       "x^2 + 2xyi - y^2 = 4 + 6\\sqrt{5}i\n",
       "\\]\n",
       "\n",
       "Từ đây, ta tách phần thực và phần ảo:\n",
       "\n",
       "1. Phần thực: $x^2 - y^2 = 4$\n",
       "2. Phần ảo: $2xy = 6\\sqrt{5}$\n",
       "\n",
       "Bây giờ, ta có hệ phương trình:\n",
       "\n",
       "\\[\n",
       "\\begin{cases}\n",
       "x^2 - y^2 = 4 \\quad (1) \\\\\n",
       "2xy = 6\\sqrt{5} \\quad (2)\n",
       "\\end{cases}\n",
       "\\]\n",
       "\n",
       "Từ phương trình (2), ta có:\n",
       "\n",
       "\\[\n",
       "xy = 3\\sqrt{5} \\implies y = \\frac{3\\sqrt{5}}{x} \\quad (3)\n",
       "\\]\n",
       "\n",
       "Thay (3) vào (1):\n",
       "\n",
       "\\[\n",
       "x^2 - \\left(\\frac{3\\sqrt{5}}{x}\\right)^2 = 4\n",
       "\\]\n",
       "\n",
       "Giải phương trình này:\n",
       "\n",
       "\\[\n",
       "x^2 - \\frac{45}{x^2} = 4\n",
       "\\]\n",
       "\n",
       "Nhân cả hai vế với $x^2$ (với $x \\neq 0$):\n",
       "\n",
       "\\[\n",
       "x^4 - 4x^2 - 45 = 0\n",
       "\\]\n",
       "\n",
       "Đặt $u = x^2$, ta có phương trình bậc hai:\n",
       "\n",
       "\\[\n",
       "u^2 - 4u - 45 = 0\n",
       "\\]\n",
       "\n",
       "Áp dụng công thức nghiệm:\n",
       "\n",
       "\\[\n",
       "u = \\frac{4 \\pm \\sqrt{(-4)^2 - 4 \\cdot 1 \\cdot (-45)}}{2 \\cdot 1} = \\frac{4 \\pm \\sqrt{16 + 180}}{2} = \\frac{4 \\pm \\sqrt{196}}{2} = \\frac{4 \\pm 14}{2}\n",
       "\\]\n",
       "\n",
       "Từ đó, ta có hai nghiệm:\n",
       "\n",
       "\\[\n",
       "u_1 = \\frac{18}{2} = 9 \\quad \\text{và} \\quad u_2 = \\frac{-10}{2} = -5 \\quad (\\text{loại bỏ vì } u = x^2 \\geq 0)\n",
       "\\]\n",
       "\n",
       "Vậy $x^2 = 9 \\implies x = 3$ hoặc $x = -3$.\n",
       "\n",
       "Thay $x = 3$ vào (3):\n",
       "\n",
       "\\[\n",
       "y = \\frac{3\\sqrt{5}}{3} = \\sqrt{5}\n",
       "\\]\n",
       "\n",
       "Vậy một nghiệm là $w_1 = 3 + \\sqrt{5}i$.\n",
       "\n",
       "Nếu $x = -3$, ta có:\n",
       "\n",
       "\\[\n",
       "y = \\frac{3\\sqrt{5}}{-3} = -\\sqrt{5}\n",
       "\\]\n",
       "\n",
       "Vậy nghiệm còn lại là $w_2 = -3 - \\sqrt{5}i$.\n",
       "\n",
       "Cuối cùng, căn bậc hai của số phức $4 + 6\\sqrt{5}i$ là:\n",
       "\n",
       "\\[\n",
       "w = 3 + \\sqrt{5}i \\quad \\text{hoặc} \\quad w = -3 - \\sqrt{5}i\n",
       "\\]\n"
      ],
      "text/plain": [
       "<IPython.core.display.Latex object>"
      ]
     },
     "metadata": {},
     "output_type": "display_data"
    },
    {
     "name": "stderr",
     "output_type": "stream",
     "text": [
      "Processing Questions:  22%|██▏       | 35/162 [04:53<29:34, 13.98s/it]"
     ]
    },
    {
     "data": {
      "text/latex": [
       "\n",
       "Để tìm phần thực của số phức $z = \\sqrt{33 - 56i}$ với điều kiện phần ảo của $z$ âm, ta thực hiện các bước sau:\n",
       "\n",
       "1. **Biểu diễn số phức dưới dạng cực**:\n",
       "   Số phức $33 - 56i$ có thể được biểu diễn dưới dạng cực. Đầu tiên, ta tính mô-đun và góc của số phức này.\n",
       "\n",
       "   Mô-đun được tính bằng công thức:\n",
       "   \\[\n",
       "   r = |33 - 56i| = \\sqrt{33^2 + (-56)^2} = \\sqrt{1089 + 3136} = \\sqrt{4225} = 65\n",
       "   \\]\n",
       "\n",
       "   Góc $\\theta$ được tính bằng:\n",
       "   \\[\n",
       "   \\theta = \\tan^{-1}\\left(\\frac{-56}{33}\\right)\n",
       "   \\]\n",
       "\n",
       "   Tính giá trị của $\\theta$:\n",
       "   \\[\n",
       "   \\theta \\approx \\tan^{-1}\\left(-1.696\\right) \\approx -59.04^\\circ \\quad (\\text{hoặc } -\\frac{59.04 \\pi}{180} \\text{ rad})\n",
       "   \\]\n",
       "\n",
       "2. **Biểu diễn số phức dưới dạng lượng giác**:\n",
       "   Số phức $33 - 56i$ có thể viết lại dưới dạng:\n",
       "   \\[\n",
       "   33 - 56i = 65\\left(\\cos(-59.04^\\circ) + i\\sin(-59.04^\\circ)\\right)\n",
       "   \\]\n",
       "\n",
       "3. **Tính căn bậc hai**:\n",
       "   Căn bậc hai của số phức có thể được tính bằng công thức:\n",
       "   \\[\n",
       "   z = \\sqrt{r}\\left(\\cos\\left(\\frac{\\theta + 2k\\pi}{2}\\right) + i\\sin\\left(\\frac{\\theta + 2k\\pi}{2}\\right)\\right) \\quad (k = 0, 1)\n",
       "   \\]\n",
       "\n",
       "   Với $r = 65$ và $\\theta \\approx -59.04^\\circ$, ta có:\n",
       "   \\[\n",
       "   \\sqrt{r} = \\sqrt{65}\n",
       "   \\]\n",
       "\n",
       "   Tính cho $k = 0$:\n",
       "   \\[\n",
       "   z_0 = \\sqrt{65}\\left(\\cos\\left(\\frac{-59.04^\\circ}{2}\\right) + i\\sin\\left(\\frac{-59.04^\\circ}{2}\\right)\\right)\n",
       "   \\]\n",
       "\n",
       "   Tính cho $k = 1$:\n",
       "   \\[\n",
       "   z_1 = \\sqrt{65}\\left(\\cos\\left(\\frac{-59.04^\\circ + 360^\\circ}{2}\\right) + i\\sin\\left(\\frac{-59.04^\\circ + 360^\\circ}{2}\\right)\\right)\n",
       "   \\]\n",
       "\n",
       "   Tính cho $k = 0$:\n",
       "   \\[\n",
       "   z_0 = \\sqrt{65}\\left(\\cos(-29.52^\\circ) + i\\sin(-29.52^\\circ)\\right)\n",
       "   \\]\n",
       "\n",
       "   Tính cho $k = 1$:\n",
       "   \\[\n",
       "   z_1 = \\sqrt{65}\\left(\\cos(150.48^\\circ) + i\\sin(150.48^\\circ)\\right)\n",
       "   \\]\n",
       "\n",
       "4. **Tính phần thực**:\n",
       "   Phần thực của $z_0$ và $z_1$ lần lượt là:\n",
       "   \\[\n",
       "   \\text{Re}(z_0) = \\sqrt{65}\\cos(-29.52^\\circ)\n",
       "   \\]\n",
       "   \\[\n",
       "   \\text{Re}(z_1) = \\sqrt{65}\\cos(150.48^\\circ)\n",
       "   \\]\n",
       "\n",
       "   Tính giá trị cụ thể:\n",
       "   \\[\n",
       "   \\text{Re}(z_0) \\approx \\sqrt{65} \\cdot 0.8746 \\approx 6.5\n",
       "   \\]\n",
       "   \\[\n",
       "   \\text{Re}(z_1) \\approx \\sqrt{65} \\cdot (-0.8746) \\approx -6.5\n",
       "   \\]\n",
       "\n",
       "   Vì phần ảo của $z$ phải âm, ta chọn $z_1$.\n",
       "\n",
       "5. **Kết luận**:\n",
       "   Phần thực của $z$ là:\n",
       "   \\[\n",
       "   \\text{Re}(z) = -\\sqrt{65} \\cdot 0.8746 \\approx -6.5\n",
       "   \\]\n",
       "\n"
      ],
      "text/plain": [
       "<IPython.core.display.Latex object>"
      ]
     },
     "metadata": {},
     "output_type": "display_data"
    },
    {
     "name": "stderr",
     "output_type": "stream",
     "text": [
      "Processing Questions:  22%|██▏       | 36/162 [05:04<27:06, 12.91s/it]"
     ]
    },
    {
     "data": {
      "text/latex": [
       "\n",
       "Để tìm căn bậc hai của số -121, ta cần nhớ rằng căn bậc hai của một số âm không phải là một số thực. Thay vào đó, nó thuộc về tập số phức.\n",
       "\n",
       "Cụ thể, ta có:\n",
       "\n",
       "\\[\n",
       "\\sqrt{-121} = \\sqrt{121} \\cdot \\sqrt{-1}\n",
       "\\]\n",
       "\n",
       "Biết rằng:\n",
       "\n",
       "\\[\n",
       "\\sqrt{121} = 11\n",
       "\\]\n",
       "\n",
       "Và:\n",
       "\n",
       "\\[\n",
       "\\sqrt{-1} = i\n",
       "\\]\n",
       "\n",
       "Do đó, ta có:\n",
       "\n",
       "\\[\n",
       "\\sqrt{-121} = 11i\n",
       "\\]\n",
       "\n",
       "Vậy căn bậc hai của -121 là $11i$.\n"
      ],
      "text/plain": [
       "<IPython.core.display.Latex object>"
      ]
     },
     "metadata": {},
     "output_type": "display_data"
    },
    {
     "name": "stderr",
     "output_type": "stream",
     "text": [
      "Processing Questions:  23%|██▎       | 37/162 [05:06<20:23,  9.79s/it]"
     ]
    },
    {
     "data": {
      "text/latex": [
       "\n",
       "Để tìm các căn bậc hai của số -9, ta cần sử dụng khái niệm số phức, vì căn bậc hai của một số âm không tồn tại trong tập hợp số thực.\n",
       "\n",
       "1. **Định nghĩa căn bậc hai**: Căn bậc hai của một số $x$ là một số $y$ sao cho $y^2 = x$.\n",
       "\n",
       "2. **Áp dụng vào bài toán**: Ta cần tìm $y$ sao cho:\n",
       "   \\[\n",
       "   y^2 = -9\n",
       "   \\]\n",
       "\n",
       "3. **Chuyển đổi sang số phức**: Ta biết rằng $-1$ có thể được biểu diễn dưới dạng số phức như sau:\n",
       "   \\[\n",
       "   -1 = i^2\n",
       "   \\]\n",
       "   với $i$ là đơn vị ảo.\n",
       "\n",
       "4. **Thay thế vào phương trình**:\n",
       "   \\[\n",
       "   y^2 = -9 \\implies y^2 = 9 \\cdot (-1) = 9 \\cdot i^2\n",
       "   \\]\n",
       "\n",
       "5. **Lấy căn bậc hai**: Ta có:\n",
       "   \\[\n",
       "   y = \\pm \\sqrt{9 \\cdot i^2} = \\pm \\sqrt{9} \\cdot \\sqrt{i^2} = \\pm 3i\n",
       "   \\]\n",
       "\n",
       "6. **Kết luận**: Các căn bậc hai của -9 là:\n",
       "   \\[\n",
       "   y = 3i \\quad \\text{hoặc} \\quad y = -3i\n",
       "   \\]\n",
       "\n"
      ],
      "text/plain": [
       "<IPython.core.display.Latex object>"
      ]
     },
     "metadata": {},
     "output_type": "display_data"
    },
    {
     "name": "stderr",
     "output_type": "stream",
     "text": [
      "Processing Questions:  23%|██▎       | 38/162 [05:12<17:26,  8.44s/it]"
     ]
    },
    {
     "data": {
      "text/latex": [
       "\n",
       "Để viết số phức $z = 6 + 6i$ dưới dạng lượng giác, ta cần xác định hai thông số: độ lớn $r$ và góc $\\theta$.\n",
       "\n",
       "1. **Tính độ lớn $r$**:\n",
       "   Độ lớn của số phức $z$ được tính bằng công thức:\n",
       "   \\[\n",
       "   r = |z| = \\sqrt{x^2 + y^2}\n",
       "   \\]\n",
       "   với $x$ là phần thực và $y$ là phần ảo của số phức. Ở đây, $x = 6$ và $y = 6$.\n",
       "\n",
       "   Thay vào công thức:\n",
       "   \\[\n",
       "   r = \\sqrt{6^2 + 6^2} = \\sqrt{36 + 36} = \\sqrt{72} = 6\\sqrt{2}\n",
       "   \\]\n",
       "\n",
       "2. **Tính góc $\\theta$**:\n",
       "   Góc $\\theta$ được tính bằng công thức:\n",
       "   \\[\n",
       "   \\theta = \\tan^{-1}\\left(\\frac{y}{x}\\right)\n",
       "   \\]\n",
       "   Thay $y = 6$ và $x = 6$ vào công thức:\n",
       "   \\[\n",
       "   \\theta = \\tan^{-1}\\left(\\frac{6}{6}\\right) = \\tan^{-1}(1) = \\frac{\\pi}{4}\n",
       "   \\]\n",
       "\n",
       "3. **Viết số phức dưới dạng lượng giác**:\n",
       "   Số phức $z$ có thể được viết dưới dạng lượng giác như sau:\n",
       "   \\[\n",
       "   z = r(\\cos \\theta + i \\sin \\theta)\n",
       "   \\]\n",
       "   Thay $r$ và $\\theta$ vào:\n",
       "   \\[\n",
       "   z = 6\\sqrt{2} \\left( \\cos\\left(\\frac{\\pi}{4}\\right) + i \\sin\\left(\\frac{\\pi}{4}\\right) \\right)\n",
       "   \\]\n",
       "\n",
       "Vậy số phức $z = 6 + 6i$ dưới dạng lượng giác là:\n",
       "\\[\n",
       "z = 6\\sqrt{2} \\left( \\cos\\left(\\frac{\\pi}{4}\\right) + i \\sin\\left(\\frac{\\pi}{4}\\right) \\right)\n",
       "\\]\n"
      ],
      "text/plain": [
       "<IPython.core.display.Latex object>"
      ]
     },
     "metadata": {},
     "output_type": "display_data"
    },
    {
     "name": "stderr",
     "output_type": "stream",
     "text": [
      "Processing Questions:  24%|██▍       | 39/162 [05:19<16:31,  8.06s/it]"
     ]
    },
    {
     "data": {
      "text/latex": [
       "\n",
       "Để viết số $10$ dưới dạng lượng giác, ta có thể sử dụng các hàm lượng giác như $\\sin$ và $\\cos$. Một cách đơn giản để biểu diễn số $10$ là sử dụng công thức:\n",
       "\n",
       "\\[\n",
       "10 = 10 \\cdot \\left( \\cos(0) + i \\sin(0) \\right)\n",
       "\\]\n",
       "\n",
       "Trong đó, $i$ là đơn vị ảo. Tuy nhiên, để biểu diễn số thực $10$ mà không cần đến phần ảo, ta có thể viết:\n",
       "\n",
       "\\[\n",
       "10 = 10 \\cdot \\cos(0)\n",
       "\\]\n",
       "\n",
       "hoặc\n",
       "\n",
       "\\[\n",
       "10 = 10 \\cdot \\sin\\left(\\frac{\\pi}{2}\\right)\n",
       "\\]\n",
       "\n",
       "Cả hai biểu thức trên đều đúng vì:\n",
       "\n",
       "- $\\cos(0) = 1$\n",
       "- $\\sin\\left(\\frac{\\pi}{2}\\right) = 1$\n",
       "\n",
       "Do đó, số $10$ có thể được viết dưới dạng lượng giác như sau:\n",
       "\n",
       "\\[\n",
       "10 = 10 \\cdot \\cos(0) = 10 \\cdot \\sin\\left(\\frac{\\pi}{2}\\right)\n",
       "\\]\n",
       "\n"
      ],
      "text/plain": [
       "<IPython.core.display.Latex object>"
      ]
     },
     "metadata": {},
     "output_type": "display_data"
    },
    {
     "name": "stderr",
     "output_type": "stream",
     "text": [
      "Processing Questions:  25%|██▍       | 40/162 [05:24<14:25,  7.09s/it]"
     ]
    },
    {
     "data": {
      "text/latex": [
       "\n",
       "Để viết $-\\frac{\\sqrt{3}}{2}$ dưới dạng lượng giác, ta cần tìm một góc $\\theta$ sao cho:\n",
       "\n",
       "\\[\n",
       "\\sin(\\theta) = -\\frac{\\sqrt{3}}{2}\n",
       "\\]\n",
       "\n",
       "Ta biết rằng:\n",
       "\n",
       "\\[\n",
       "\\sin\\left(-\\frac{\\pi}{3}\\right) = -\\sin\\left(\\frac{\\pi}{3}\\right) = -\\frac{\\sqrt{3}}{2}\n",
       "\\]\n",
       "\n",
       "Ngoài ra, $\\sin\\left(\\frac{4\\pi}{3}\\right)$ cũng cho giá trị tương tự, vì:\n",
       "\n",
       "\\[\n",
       "\\sin\\left(\\frac{4\\pi}{3}\\right) = -\\frac{\\sqrt{3}}{2}\n",
       "\\]\n",
       "\n",
       "Vậy, các góc $\\theta$ có thể viết dưới dạng lượng giác là:\n",
       "\n",
       "\\[\n",
       "\\theta = -\\frac{\\pi}{3} + 2k\\pi \\quad \\text{hoặc} \\quad \\theta = \\frac{4\\pi}{3} + 2k\\pi \\quad (k \\in \\mathbb{Z})\n",
       "\\]\n",
       "\n",
       "Do đó, $-\\frac{\\sqrt{3}}{2}$ có thể được viết dưới dạng lượng giác như sau:\n",
       "\n",
       "\\[\n",
       "-\\frac{\\sqrt{3}}{2} = \\sin\\left(-\\frac{\\pi}{3}\\right) \\quad \\text{hoặc} \\quad \\sin\\left(\\frac{4\\pi}{3}\\right)\n",
       "\\]\n"
      ],
      "text/plain": [
       "<IPython.core.display.Latex object>"
      ]
     },
     "metadata": {},
     "output_type": "display_data"
    },
    {
     "name": "stderr",
     "output_type": "stream",
     "text": [
      "Processing Questions:  25%|██▌       | 41/162 [05:28<12:32,  6.22s/it]"
     ]
    },
    {
     "data": {
      "text/latex": [
       "\n",
       "Để viết số phức $z = \\frac{1}{2 + 2i}$ dưới dạng lượng giác, ta thực hiện các bước sau:\n",
       "\n",
       "1. **Nhân tử liên hợp**: Để loại bỏ phần ảo trong mẫu số, ta nhân cả tử và mẫu với tử liên hợp của mẫu số. Tử liên hợp của $2 + 2i$ là $2 - 2i$.\n",
       "\n",
       "   \\[\n",
       "   z = \\frac{1}{2 + 2i} \\cdot \\frac{2 - 2i}{2 - 2i} = \\frac{2 - 2i}{(2 + 2i)(2 - 2i)}\n",
       "   \\]\n",
       "\n",
       "2. **Tính mẫu số**: Tính tích $(2 + 2i)(2 - 2i)$:\n",
       "\n",
       "   \\[\n",
       "   (2 + 2i)(2 - 2i) = 2^2 - (2i)^2 = 4 - (-4) = 4 + 4 = 8\n",
       "   \\]\n",
       "\n",
       "3. **Thay vào biểu thức**: Thay giá trị mẫu số vào biểu thức của $z$:\n",
       "\n",
       "   \\[\n",
       "   z = \\frac{2 - 2i}{8} = \\frac{1}{4} - \\frac{1}{4}i\n",
       "   \\]\n",
       "\n",
       "4. **Chuyển sang dạng lượng giác**: Để chuyển sang dạng lượng giác, ta cần tính độ lớn và góc của số phức.\n",
       "\n",
       "   - **Độ lớn**: \n",
       "\n",
       "   \\[\n",
       "   |z| = \\sqrt{\\left(\\frac{1}{4}\\right)^2 + \\left(-\\frac{1}{4}\\right)^2} = \\sqrt{\\frac{1}{16} + \\frac{1}{16}} = \\sqrt{\\frac{2}{16}} = \\sqrt{\\frac{1}{8}} = \\frac{1}{2\\sqrt{2}} = \\frac{\\sqrt{2}}{4}\n",
       "   \\]\n",
       "\n",
       "   - **Góc**: \n",
       "\n",
       "   \\[\n",
       "   \\theta = \\tan^{-1}\\left(\\frac{-\\frac{1}{4}}{\\frac{1}{4}}\\right) = \\tan^{-1}(-1) = -\\frac{\\pi}{4}\n",
       "   \\]\n",
       "\n",
       "5. **Viết dưới dạng lượng giác**: Cuối cùng, ta có thể viết số phức $z$ dưới dạng lượng giác:\n",
       "\n",
       "   \\[\n",
       "   z = |z| \\left( \\cos \\theta + i \\sin \\theta \\right) = \\frac{\\sqrt{2}}{4} \\left( \\cos\\left(-\\frac{\\pi}{4}\\right) + i \\sin\\left(-\\frac{\\pi}{4}\\right) \\right)\n",
       "   \\]\n",
       "\n",
       "   Hoặc có thể viết gọn lại:\n",
       "\n",
       "   \\[\n",
       "   z = \\frac{\\sqrt{2}}{4} \\text{cis}\\left(-\\frac{\\pi}{4}\\right)\n",
       "   \\]\n",
       "\n"
      ],
      "text/plain": [
       "<IPython.core.display.Latex object>"
      ]
     },
     "metadata": {},
     "output_type": "display_data"
    },
    {
     "name": "stderr",
     "output_type": "stream",
     "text": [
      "Processing Questions:  26%|██▌       | 42/162 [05:37<14:10,  7.09s/it]"
     ]
    },
    {
     "data": {
      "text/latex": [
       "\n",
       "Để viết số phức $z = 100i$ dưới dạng lượng giác, ta cần xác định mô-đun và góc của số phức này.\n",
       "\n",
       "1. **Mô-đun**: Mô-đun của số phức $z = a + bi$ được tính bằng công thức:\n",
       "   \\[\n",
       "   |z| = \\sqrt{a^2 + b^2}\n",
       "   \\]\n",
       "   Trong trường hợp này, $a = 0$ và $b = 100$. Do đó:\n",
       "   \\[\n",
       "   |z| = \\sqrt{0^2 + 100^2} = \\sqrt{10000} = 100\n",
       "   \\]\n",
       "\n",
       "2. **Góc**: Góc của số phức được tính bằng công thức:\n",
       "   \\[\n",
       "   \\theta = \\tan^{-1}\\left(\\frac{b}{a}\\right)\n",
       "   \\]\n",
       "   Ở đây, $a = 0$ và $b = 100$. Vì $a = 0$ và $b > 0$, số phức nằm trên trục ảo dương, do đó:\n",
       "   \\[\n",
       "   \\theta = \\frac{\\pi}{2}\n",
       "   \\]\n",
       "\n",
       "3. **Dạng lượng giác**: Số phức có thể được viết dưới dạng lượng giác như sau:\n",
       "   \\[\n",
       "   z = |z| \\left( \\cos \\theta + i \\sin \\theta \\right)\n",
       "   \\]\n",
       "   Thay các giá trị đã tìm được vào công thức:\n",
       "   \\[\n",
       "   z = 100 \\left( \\cos\\left(\\frac{\\pi}{2}\\right) + i \\sin\\left(\\frac{\\pi}{2}\\right) \\right)\n",
       "   \\]\n",
       "\n",
       "Vậy số phức $z = 100i$ dưới dạng lượng giác là:\n",
       "\\[\n",
       "z = 100 \\left( 0 + i \\cdot 1 \\right) = 100 \\left( \\cos\\left(\\frac{\\pi}{2}\\right) + i \\sin\\left(\\frac{\\pi}{2}\\right) \\right)\n",
       "\\]\n"
      ],
      "text/plain": [
       "<IPython.core.display.Latex object>"
      ]
     },
     "metadata": {},
     "output_type": "display_data"
    },
    {
     "name": "stderr",
     "output_type": "stream",
     "text": [
      "Processing Questions:  27%|██▋       | 43/162 [05:43<13:32,  6.83s/it]"
     ]
    },
    {
     "data": {
      "text/latex": [
       "\n",
       "Để viết số phức $z = (1 - i\\sqrt{3})(1 + i)$ dưới dạng lượng giác, ta thực hiện các bước sau:\n",
       "\n",
       "1. **Tính tích của hai số phức**:\n",
       "   \\[\n",
       "   z = (1 - i\\sqrt{3})(1 + i) = 1 \\cdot 1 + 1 \\cdot i - i\\sqrt{3} \\cdot 1 - i\\sqrt{3} \\cdot i\n",
       "   \\]\n",
       "   \\[\n",
       "   = 1 + i - i\\sqrt{3} + \\sqrt{3}\n",
       "   \\]\n",
       "   \\[\n",
       "   = (1 + \\sqrt{3}) + (1 - \\sqrt{3})i\n",
       "   \\]\n",
       "\n",
       "2. **Xác định phần thực và phần ảo**:\n",
       "   - Phần thực: $a = 1 + \\sqrt{3}$\n",
       "   - Phần ảo: $b = 1 - \\sqrt{3}$\n",
       "\n",
       "3. **Tính độ lớn của số phức**:\n",
       "   \\[\n",
       "   |z| = \\sqrt{a^2 + b^2} = \\sqrt{(1 + \\sqrt{3})^2 + (1 - \\sqrt{3})^2}\n",
       "   \\]\n",
       "   Tính từng phần:\n",
       "   \\[\n",
       "   (1 + \\sqrt{3})^2 = 1 + 2\\sqrt{3} + 3 = 4 + 2\\sqrt{3}\n",
       "   \\]\n",
       "   \\[\n",
       "   (1 - \\sqrt{3})^2 = 1 - 2\\sqrt{3} + 3 = 4 - 2\\sqrt{3}\n",
       "   \\]\n",
       "   Cộng lại:\n",
       "   \\[\n",
       "   |z| = \\sqrt{(4 + 2\\sqrt{3}) + (4 - 2\\sqrt{3})} = \\sqrt{8} = 2\\sqrt{2}\n",
       "   \\]\n",
       "\n",
       "4. **Tính góc của số phức**:\n",
       "   \\[\n",
       "   \\theta = \\tan^{-1}\\left(\\frac{b}{a}\\right) = \\tan^{-1}\\left(\\frac{1 - \\sqrt{3}}{1 + \\sqrt{3}}\\right)\n",
       "   \\]\n",
       "   Để tính $\\theta$, ta có thể sử dụng công thức:\n",
       "   \\[\n",
       "   \\tan(\\theta) = \\frac{1 - \\sqrt{3}}{1 + \\sqrt{3}} = \\frac{(1 - \\sqrt{3})(1 - \\sqrt{3})}{(1 + \\sqrt{3})(1 - \\sqrt{3})} = \\frac{(1 - 2\\sqrt{3} + 3)}{(1 - 3)} = \\frac{4 - 2\\sqrt{3}}{-2} = \\sqrt{3} - 2\n",
       "   \\]\n",
       "   Từ đó, ta có thể xác định góc $\\theta$.\n",
       "\n",
       "5. **Viết số phức dưới dạng lượng giác**:\n",
       "   Cuối cùng, số phức $z$ có thể được viết dưới dạng lượng giác như sau:\n",
       "   \\[\n",
       "   z = |z| \\left( \\cos(\\theta) + i \\sin(\\theta) \\right)\n",
       "   \\]\n",
       "   Thay vào:\n",
       "   \\[\n",
       "   z = 2\\sqrt{2} \\left( \\cos(\\theta) + i \\sin(\\theta) \\right)\n",
       "   \\]\n",
       "\n",
       "Kết quả cuối cùng là:\n",
       "\\[\n",
       "z = 2\\sqrt{2} \\left( \\cos(\\theta) + i \\sin(\\theta) \\right)\n",
       "\\]\n"
      ],
      "text/plain": [
       "<IPython.core.display.Latex object>"
      ]
     },
     "metadata": {},
     "output_type": "display_data"
    },
    {
     "name": "stderr",
     "output_type": "stream",
     "text": [
      "Processing Questions:  27%|██▋       | 44/162 [05:55<16:32,  8.41s/it]"
     ]
    },
    {
     "data": {
      "text/latex": [
       "\n",
       "Để viết số phức $z = \\frac{2 + 2i}{1 + \\sqrt{3}i}$ dưới dạng lượng giác, ta thực hiện các bước sau:\n",
       "\n",
       "1. **Nhân tử liên hợp**: Để loại bỏ phần ảo ở mẫu số, ta nhân cả tử và mẫu với liên hợp của mẫu số. Liên hợp của $1 + \\sqrt{3}i$ là $1 - \\sqrt{3}i$.\n",
       "\n",
       "   \\[\n",
       "   z = \\frac{(2 + 2i)(1 - \\sqrt{3}i)}{(1 + \\sqrt{3}i)(1 - \\sqrt{3}i)}\n",
       "   \\]\n",
       "\n",
       "2. **Tính mẫu số**: \n",
       "\n",
       "   \\[\n",
       "   (1 + \\sqrt{3}i)(1 - \\sqrt{3}i) = 1^2 - (\\sqrt{3}i)^2 = 1 - (-3) = 1 + 3 = 4\n",
       "   \\]\n",
       "\n",
       "3. **Tính tử số**:\n",
       "\n",
       "   \\[\n",
       "   (2 + 2i)(1 - \\sqrt{3}i) = 2 \\cdot 1 + 2 \\cdot (-\\sqrt{3}i) + 2i \\cdot 1 + 2i \\cdot (-\\sqrt{3}i\n",
       "   \\]\n",
       "   \\[\n",
       "   = 2 - 2\\sqrt{3}i + 2i - 2\\sqrt{3}(-1) = 2 + 2\\sqrt{3} + (2 - 2\\sqrt{3})i\n",
       "   \\]\n",
       "   \\[\n",
       "   = (2 + 2\\sqrt{3}) + (2 - 2\\sqrt{3})i\n",
       "   \\]\n",
       "\n",
       "4. **Kết hợp lại**:\n",
       "\n",
       "   \\[\n",
       "   z = \\frac{(2 + 2\\sqrt{3}) + (2 - 2\\sqrt{3})i}{4} = \\frac{2 + 2\\sqrt{3}}{4} + \\frac{(2 - 2\\sqrt{3})i}{4}\n",
       "   \\]\n",
       "   \\[\n",
       "   = \\frac{1 + \\sqrt{3}}{2} + \\frac{1 - \\sqrt{3}}{2}i\n",
       "   \\]\n",
       "\n",
       "5. **Chuyển sang dạng lượng giác**: Để chuyển sang dạng lượng giác, ta cần tính độ lớn và góc của số phức.\n",
       "\n",
       "   - **Độ lớn**:\n",
       "\n",
       "   \\[\n",
       "   |z| = \\sqrt{\\left(\\frac{1 + \\sqrt{3}}{2}\\right)^2 + \\left(\\frac{1 - \\sqrt{3}}{2}\\right)^2}\n",
       "   \\]\n",
       "   \\[\n",
       "   = \\sqrt{\\frac{(1 + \\sqrt{3})^2 + (1 - \\sqrt{3})^2}{4}} = \\sqrt{\\frac{1 + 2\\sqrt{3} + 3 + 1 - 2\\sqrt{3} + 3}{4}} = \\sqrt{\\frac{8}{4}} = \\sqrt{2}\n",
       "   \\]\n",
       "\n",
       "   - **Góc**:\n",
       "\n",
       "   \\[\n",
       "   \\theta = \\tan^{-1}\\left(\\frac{\\frac{1 - \\sqrt{3}}{2}}{\\frac{1 + \\sqrt{3}}{2}}\\right) = \\tan^{-1}\\left(\\frac{1 - \\sqrt{3}}{1 + \\sqrt{3}}\\right)\n",
       "   \\]\n",
       "\n",
       "   Để tính $\\theta$, ta có thể sử dụng công thức:\n",
       "\n",
       "   \\[\n",
       "   \\tan(\\theta) = \\frac{1 - \\sqrt{3}}{1 + \\sqrt{3}} = \\tan\\left(-\\frac{\\pi}{6}\\right)\n",
       "   \\]\n",
       "\n",
       "   Vậy $\\theta = -\\frac{\\pi}{6}$.\n",
       "\n",
       "6. **Viết dưới dạng lượng giác**:\n",
       "\n",
       "   Cuối cùng, số phức $z$ có thể được viết dưới dạng lượng giác như sau:\n",
       "\n",
       "   \\[\n",
       "   z = |z| \\left(\\cos(\\theta) + i\\sin(\\theta)\\right) = \\sqrt{2} \\left(\\cos\\left(-\\frac{\\pi}{6}\\right) + i\\sin\\left(-\\frac{\\pi}{6}\\right)\\right)\n",
       "   \\]\n",
       "\n",
       "   Hoặc:\n",
       "\n",
       "   \\[\n",
       "   z = \\sqrt{2} \\text{cis}\\left(-\\frac{\\pi}{6}\\right)\n",
       "   \\]\n",
       "\n"
      ],
      "text/plain": [
       "<IPython.core.display.Latex object>"
      ]
     },
     "metadata": {},
     "output_type": "display_data"
    },
    {
     "name": "stderr",
     "output_type": "stream",
     "text": [
      "Processing Questions:  28%|██▊       | 45/162 [06:10<20:02, 10.27s/it]"
     ]
    },
    {
     "data": {
      "text/latex": [
       "\n",
       "Để viết số phức $z = \\frac{3}{10\\sqrt{3} + 10i}$ dưới dạng lượng giác, ta thực hiện các bước sau:\n",
       "\n",
       "1. **Nhân tử liên hợp**: Để loại bỏ phần ảo trong mẫu số, ta nhân cả tử và mẫu với liên hợp của mẫu số. Liên hợp của $10\\sqrt{3} + 10i$ là $10\\sqrt{3} - 10i$.\n",
       "\n",
       "   \\[\n",
       "   z = \\frac{3(10\\sqrt{3} - 10i)}{(10\\sqrt{3} + 10i)(10\\sqrt{3} - 10i)}\n",
       "   \\]\n",
       "\n",
       "2. **Tính mẫu số**: Sử dụng công thức $(a + b)(a - b) = a^2 - b^2$:\n",
       "\n",
       "   \\[\n",
       "   (10\\sqrt{3})^2 - (10i)^2 = 300 - (-100) = 300 + 100 = 400\n",
       "   \\]\n",
       "\n",
       "3. **Tính tử số**:\n",
       "\n",
       "   \\[\n",
       "   3(10\\sqrt{3} - 10i) = 30\\sqrt{3} - 30i\n",
       "   \\]\n",
       "\n",
       "4. **Viết lại số phức**:\n",
       "\n",
       "   \\[\n",
       "   z = \\frac{30\\sqrt{3} - 30i}{400} = \\frac{30\\sqrt{3}}{400} - \\frac{30i}{400} = \\frac{3\\sqrt{3}}{40} - \\frac{3i}{40}\n",
       "   \\]\n",
       "\n",
       "5. **Chuyển sang dạng lượng giác**: Để chuyển sang dạng lượng giác, ta cần tính mô-đun và góc của số phức.\n",
       "\n",
       "   - **Mô-đun**:\n",
       "\n",
       "   \\[\n",
       "   |z| = \\sqrt{\\left(\\frac{3\\sqrt{3}}{40}\\right)^2 + \\left(-\\frac{3}{40}\\right)^2} = \\sqrt{\\frac{27}{1600} + \\frac{9}{1600}} = \\sqrt{\\frac{36}{1600}} = \\frac{6}{40} = \\frac{3}{20}\n",
       "   \\]\n",
       "\n",
       "   - **Góc**:\n",
       "\n",
       "   \\[\n",
       "   \\theta = \\tan^{-1}\\left(\\frac{-\\frac{3}{40}}{\\frac{3\\sqrt{3}}{40}}\\right) = \\tan^{-1}\\left(-\\frac{1}{\\sqrt{3}}\\right) = -\\frac{\\pi}{6}\n",
       "   \\]\n",
       "\n",
       "6. **Viết dưới dạng lượng giác**:\n",
       "\n",
       "   \\[\n",
       "   z = |z| \\left(\\cos \\theta + i \\sin \\theta\\right) = \\frac{3}{20} \\left(\\cos\\left(-\\frac{\\pi}{6}\\right) + i \\sin\\left(-\\frac{\\pi}{6}\\right)\\right)\n",
       "   \\]\n",
       "\n",
       "   Sử dụng tính chất của cos và sin:\n",
       "\n",
       "   \\[\n",
       "   z = \\frac{3}{20} \\left(\\frac{\\sqrt{3}}{2} - i \\frac{1}{2}\\right)\n",
       "   \\]\n",
       "\n",
       "   Cuối cùng, ta có:\n",
       "\n",
       "   \\[\n",
       "   z = \\frac{3\\sqrt{3}}{40} - \\frac{3i}{40}\n",
       "   \\]\n",
       "\n"
      ],
      "text/plain": [
       "<IPython.core.display.Latex object>"
      ]
     },
     "metadata": {},
     "output_type": "display_data"
    },
    {
     "name": "stderr",
     "output_type": "stream",
     "text": [
      "Processing Questions:  28%|██▊       | 46/162 [06:23<21:13, 10.98s/it]"
     ]
    },
    {
     "data": {
      "text/latex": [
       "\n",
       "Để viết số phức $z = \\frac{1 - i}{(\\sqrt{3} + i)(2 + 2i)}$ dưới dạng lượng giác, ta thực hiện các bước sau:\n",
       "\n",
       "**Bước 1: Tính mẫu số**\n",
       "\n",
       "Tính tích của hai số phức trong mẫu số:\n",
       "\n",
       "\\[\n",
       "(\\sqrt{3} + i)(2 + 2i) = \\sqrt{3} \\cdot 2 + \\sqrt{3} \\cdot 2i + i \\cdot 2 + i \\cdot 2i\n",
       "\\]\n",
       "\n",
       "Tính từng phần:\n",
       "\n",
       "- Phần thực: $2\\sqrt{3} - 2$ (vì $i^2 = -1$)\n",
       "- Phần ảo: $2\\sqrt{3} + 2$\n",
       "\n",
       "Vậy:\n",
       "\n",
       "\\[\n",
       "(\\sqrt{3} + i)(2 + 2i) = (2\\sqrt{3} - 2) + (2\\sqrt{3} + 2)i\n",
       "\\]\n",
       "\n",
       "**Bước 2: Tính tử số**\n",
       "\n",
       "Tử số là $1 - i$.\n",
       "\n",
       "**Bước 3: Chia số phức**\n",
       "\n",
       "Ta có:\n",
       "\n",
       "\\[\n",
       "z = \\frac{1 - i}{(2\\sqrt{3} - 2) + (2\\sqrt{3} + 2)i}\n",
       "\\]\n",
       "\n",
       "Để chia số phức, ta nhân cả tử và mẫu với phần liên hợp của mẫu số:\n",
       "\n",
       "\\[\n",
       "z = \\frac{(1 - i)((2\\sqrt{3} - 2) - (2\\sqrt{3} + 2)i)}{((2\\sqrt{3} - 2) + (2\\sqrt{3} + 2)i)((2\\sqrt{3} - 2) - (2\\sqrt{3} + 2)i)}\n",
       "\\]\n",
       "\n",
       "**Bước 4: Tính mẫu số sau khi nhân với liên hợp**\n",
       "\n",
       "Mẫu số trở thành:\n",
       "\n",
       "\\[\n",
       "(2\\sqrt{3} - 2)^2 + (2\\sqrt{3} + 2)^2\n",
       "\\]\n",
       "\n",
       "Tính từng phần:\n",
       "\n",
       "\\[\n",
       "(2\\sqrt{3} - 2)^2 = 4(3) - 8\\sqrt{3} + 4 = 12 - 8\\sqrt{3} + 4 = 16 - 8\\sqrt{3}\n",
       "\\]\n",
       "\n",
       "\\[\n",
       "(2\\sqrt{3} + 2)^2 = 4(3) + 8\\sqrt{3} + 4 = 12 + 8\\sqrt{3} + 4 = 16 + 8\\sqrt{3}\n",
       "\\]\n",
       "\n",
       "Vậy:\n",
       "\n",
       "\\[\n",
       "(2\\sqrt{3} - 2)^2 + (2\\sqrt{3} + 2)^2 = (16 - 8\\sqrt{3}) + (16 + 8\\sqrt{3}) = 32\n",
       "\\]\n",
       "\n",
       "**Bước 5: Tính tử số**\n",
       "\n",
       "Tử số là:\n",
       "\n",
       "\\[\n",
       "(1 - i)((2\\sqrt{3} - 2) - (2\\sqrt{3} + 2)i) = (1 \\cdot (2\\sqrt{3} - 2) - i(2\\sqrt{3} - 2) - i(2\\sqrt{3} + 2) + i^2(2\\sqrt{3} + 2))\n",
       "\\]\n",
       "\n",
       "Tính từng phần:\n",
       "\n",
       "\\[\n",
       "= (2\\sqrt{3} - 2) - (2\\sqrt{3} - 2)i - (2\\sqrt{3} + 2)i - (2\\sqrt{3} + 2)\n",
       "\\]\n",
       "\n",
       "\\[\n",
       "= (2\\sqrt{3} - 2 - (2\\sqrt{3} + 2)) + (-(2\\sqrt{3} - 2) - (2\\sqrt{3} + 2))i\n",
       "\\]\n",
       "\n",
       "\\[\n",
       "= (2\\sqrt{3} - 2 - 2\\sqrt{3} - 2) + (-(2\\sqrt{3} - 2 + 2\\sqrt{3} + 2))i\n",
       "\\]\n",
       "\n",
       "\\[\n",
       "= -4 + (-4\\sqrt{3})i\n",
       "\\]\n",
       "\n",
       "**Bước 6: Kết quả cuối cùng**\n",
       "\n",
       "Vậy:\n",
       "\n",
       "\\[\n",
       "z = \\frac{-4 - 4\\sqrt{3}i}{32} = -\\frac{1}{8} - \\frac{\\sqrt{3}}{8}i\n",
       "\\]\n",
       "\n",
       "**Bước 7: Chuyển sang dạng lượng giác**\n",
       "\n",
       "Để chuyển sang dạng lượng giác, ta tính độ lớn và góc:\n",
       "\n",
       "- Độ lớn:\n",
       "\n",
       "\\[\n",
       "|z| = \\sqrt{\\left(-\\frac{1}{8}\\right)^2 + \\left(-\\frac{\\sqrt{3}}{8}\\right)^2} = \\sqrt{\\frac{1}{64} + \\frac{3}{64}} = \\sqrt{\\frac{4}{64}} = \\frac{1}{4}\n",
       "\\]\n",
       "\n",
       "- Góc:\n",
       "\n",
       "\\[\n",
       "\\theta = \\tan^{-1}\\left(\\frac{-\\frac{\\sqrt{3}}{8}}{-\\frac{1}{8}}\\right) = \\tan^{-1}(\\sqrt{3}) = \\frac{5\\pi}{3} \\text{ (vì z nằm trong phần tư 3)}\n",
       "\\]\n",
       "\n",
       "Vậy số phức $z$ dưới dạng lượng giác là:\n",
       "\n",
       "\\[\n",
       "z = \\frac{1}{4} \\left( \\cos\\left(\\frac{5\\pi}{3}\\right) + i \\sin\\left(\\frac{5\\pi}{3}\\right) \\right)\n",
       "\\]\n",
       "\n"
      ],
      "text/plain": [
       "<IPython.core.display.Latex object>"
      ]
     },
     "metadata": {},
     "output_type": "display_data"
    },
    {
     "name": "stderr",
     "output_type": "stream",
     "text": [
      "Processing Questions:  29%|██▉       | 47/162 [06:47<28:48, 15.03s/it]"
     ]
    },
    {
     "data": {
      "text/latex": [
       "\n",
       "Để viết số phức $z = (\\sqrt{2} + \\sqrt{2}i)^{10}$ dưới dạng lượng giác, ta thực hiện các bước sau:\n",
       "\n",
       "1. **Tìm mô-đun và góc của số phức**:\n",
       "   - Mô-đun của số phức $z_0 = \\sqrt{2} + \\sqrt{2}i$ được tính bằng công thức:\n",
       "     \\[\n",
       "     r = |z_0| = \\sqrt{(\\sqrt{2})^2 + (\\sqrt{2})^2} = \\sqrt{2 + 2} = \\sqrt{4} = 2\n",
       "     \\]\n",
       "   - Góc (argument) của số phức $z_0$ được tính bằng:\n",
       "     \\[\n",
       "     \\theta = \\tan^{-1}\\left(\\frac{\\text{Im}(z_0)}{\\text{Re}(z_0)}\\right) = \\tan^{-1}\\left(\\frac{\\sqrt{2}}{\\sqrt{2}}\\right) = \\tan^{-1}(1) = \\frac{\\pi}{4}\n",
       "     \\]\n",
       "\n",
       "2. **Viết số phức dưới dạng lượng giác**:\n",
       "   - Số phức $z_0$ có thể được viết dưới dạng lượng giác như sau:\n",
       "     \\[\n",
       "     z_0 = r(\\cos \\theta + i \\sin \\theta) = 2\\left(\\cos\\frac{\\pi}{4} + i \\sin\\frac{\\pi}{4}\\right)\n",
       "     \\]\n",
       "\n",
       "3. **Tính lũy thừa của số phức**:\n",
       "   - Theo định lý De Moivre, ta có:\n",
       "     \\[\n",
       "     z = z_0^{10} = r^{10}\\left(\\cos(10\\theta) + i \\sin(10\\theta)\\right)\n",
       "     \\]\n",
       "   - Tính $r^{10}$:\n",
       "     \\[\n",
       "     r^{10} = 2^{10} = 1024\n",
       "     \\]\n",
       "   - Tính $10\\theta$:\n",
       "     \\[\n",
       "     10\\theta = 10 \\cdot \\frac{\\pi}{4} = \\frac{10\\pi}{4} = \\frac{5\\pi}{2}\n",
       "     \\]\n",
       "\n",
       "4. **Tính cos và sin của góc**:\n",
       "   - Ta có:\n",
       "     \\[\n",
       "     \\cos\\left(\\frac{5\\pi}{2}\\right) = \\cos\\left(\\frac{\\pi}{2}\\right) = 0\n",
       "     \\]\n",
       "     \\[\n",
       "     \\sin\\left(\\frac{5\\pi}{2}\\right) = \\sin\\left(\\frac{\\pi}{2}\\right) = 1\n",
       "     \\]\n",
       "\n",
       "5. **Kết hợp lại để có kết quả cuối cùng**:\n",
       "   - Vậy số phức $z$ được viết dưới dạng lượng giác là:\n",
       "     \\[\n",
       "     z = 1024\\left(\\cos\\left(\\frac{5\\pi}{2}\\right) + i \\sin\\left(\\frac{5\\pi}{2}\\right)\\right) = 1024(0 + i \\cdot 1) = 1024i\n",
       "     \\]\n",
       "\n"
      ],
      "text/plain": [
       "<IPython.core.display.Latex object>"
      ]
     },
     "metadata": {},
     "output_type": "display_data"
    },
    {
     "name": "stderr",
     "output_type": "stream",
     "text": [
      "Processing Questions:  30%|██▉       | 48/162 [06:56<25:17, 13.31s/it]"
     ]
    },
    {
     "data": {
      "text/latex": [
       "\n",
       "Để viết số phức $z = \\frac{(1 - i)^{10}}{(\\sqrt{3} + i)^9}$ dưới dạng lượng giác, ta sẽ thực hiện các bước sau:\n",
       "\n",
       "**Bước 1: Chuyển đổi từng số phức sang dạng lượng giác.**\n",
       "\n",
       "1. **Số phức $1 - i$:**\n",
       "   - Độ lớn: \n",
       "   \\[\n",
       "   r_1 = |1 - i| = \\sqrt{1^2 + (-1)^2} = \\sqrt{2}\n",
       "   \\]\n",
       "   - Góc: \n",
       "   \\[\n",
       "   \\theta_1 = \\tan^{-1}\\left(\\frac{-1}{1}\\right) = -\\frac{\\pi}{4}\n",
       "   \\]\n",
       "   - Dạng lượng giác:\n",
       "   \\[\n",
       "   1 - i = \\sqrt{2} \\left(\\cos\\left(-\\frac{\\pi}{4}\\right) + i \\sin\\left(-\\frac{\\pi}{4}\\right)\\right)\n",
       "   \\]\n",
       "\n",
       "2. **Số phức $\\sqrt{3} + i$:**\n",
       "   - Độ lớn: \n",
       "   \\[\n",
       "   r_2 = |\\sqrt{3} + i| = \\sqrt{(\\sqrt{3})^2 + 1^2} = \\sqrt{4} = 2\n",
       "   \\]\n",
       "   - Góc: \n",
       "   \\[\n",
       "   \\theta_2 = \\tan^{-1}\\left(\\frac{1}{\\sqrt{3}}\\right) = \\frac{\\pi}{6}\n",
       "   \\]\n",
       "   - Dạng lượng giác:\n",
       "   \\[\n",
       "   \\sqrt{3} + i = 2 \\left(\\cos\\left(\\frac{\\pi}{6}\\right) + i \\sin\\left(\\frac{\\pi}{6}\\right)\\right)\n",
       "   \\]\n",
       "\n",
       "**Bước 2: Tính lũy thừa của các số phức.**\n",
       "\n",
       "1. **Tính $(1 - i)^{10}$:**\n",
       "   \\[\n",
       "   (1 - i)^{10} = \\left(\\sqrt{2}\\right)^{10} \\left(\\cos\\left(10 \\cdot -\\frac{\\pi}{4}\\right) + i \\sin\\left(10 \\cdot -\\frac{\\pi}{4}\\right)\\right) = 2^5 \\left(\\cos\\left(-\\frac{10\\pi}{4}\\right) + i \\sin\\left(-\\frac{10\\pi}{4}\\right)\\right)\n",
       "   \\]\n",
       "   \\[\n",
       "   = 32 \\left(\\cos\\left(-\\frac{5\\pi}{2}\\right) + i \\sin\\left(-\\frac{5\\pi}{2}\\right)\\right) = 32 \\left(\\cos\\left(-\\frac{\\pi}{2}\\right) + i \\sin\\left(-\\frac{\\pi}{2}\\right)\\right) = 32(0 - i) = -32i\n",
       "   \\]\n",
       "\n",
       "2. **Tính $(\\sqrt{3} + i)^9$:**\n",
       "   \\[\n",
       "   (\\sqrt{3} + i)^9 = 2^9 \\left(\\cos\\left(9 \\cdot \\frac{\\pi}{6}\\right) + i \\sin\\left(9 \\cdot \\frac{\\pi}{6}\\right)\\right) = 512 \\left(\\cos\\left(\\frac{3\\pi}{2}\\right) + i \\sin\\left(\\frac{3\\pi}{2}\\right)\\right)\n",
       "   \\]\n",
       "   \\[\n",
       "   = 512(0 - i) = -512i\n",
       "   \\]\n",
       "\n",
       "**Bước 3: Tính $z$.**\n",
       "\n",
       "\\[\n",
       "z = \\frac{(1 - i)^{10}}{(\\sqrt{3} + i)^9} = \\frac{-32i}{-512i} = \\frac{32}{512} = \\frac{1}{16}\n",
       "\\]\n",
       "\n",
       "**Bước 4: Viết kết quả dưới dạng lượng giác.**\n",
       "\n",
       "Số phức $z$ có thể được viết dưới dạng lượng giác như sau:\n",
       "\\[\n",
       "z = \\frac{1}{16} \\left(\\cos(0) + i \\sin(0)\\right)\n",
       "\\]\n",
       "\n"
      ],
      "text/plain": [
       "<IPython.core.display.Latex object>"
      ]
     },
     "metadata": {},
     "output_type": "display_data"
    },
    {
     "name": "stderr",
     "output_type": "stream",
     "text": [
      "Processing Questions:  30%|███       | 49/162 [07:12<26:14, 13.93s/it]"
     ]
    },
    {
     "data": {
      "text/latex": [
       "\n",
       "Để tìm phần ảo của số phức $z = \\left(\\cos \\frac{\\pi}{3} - i \\sin \\frac{\\pi}{3}\\right)^5 (1 + \\sqrt{3}i)^7$, ta sẽ thực hiện các bước sau:\n",
       "\n",
       "1. **Biểu diễn số phức dưới dạng số phức Euler**:\n",
       "   - Số phức $\\cos \\frac{\\pi}{3} - i \\sin \\frac{\\pi}{3}$ có thể viết lại dưới dạng số phức Euler:\n",
       "     \\[\n",
       "     \\cos \\frac{\\pi}{3} - i \\sin \\frac{\\pi}{3} = e^{-i \\frac{\\pi}{3}}\n",
       "     \\]\n",
       "   - Do đó, ta có:\n",
       "     \\[\n",
       "     \\left(\\cos \\frac{\\pi}{3} - i \\sin \\frac{\\pi}{3}\\right)^5 = \\left(e^{-i \\frac{\\pi}{3}}\\right)^5 = e^{-i \\frac{5\\pi}{3}}\n",
       "     \\]\n",
       "\n",
       "2. **Tính số phức $1 + \\sqrt{3}i$**:\n",
       "   - Để biểu diễn số phức này dưới dạng số phức Euler, ta tính mô-đun và góc:\n",
       "     \\[\n",
       "     |1 + \\sqrt{3}i| = \\sqrt{1^2 + (\\sqrt{3})^2} = \\sqrt{1 + 3} = 2\n",
       "     \\]\n",
       "     \\[\n",
       "     \\theta = \\tan^{-1}\\left(\\frac{\\sqrt{3}}{1}\\right) = \\frac{\\pi}{3}\n",
       "     \\]\n",
       "   - Vậy:\n",
       "     \\[\n",
       "     1 + \\sqrt{3}i = 2 \\left(\\cos \\frac{\\pi}{3} + i \\sin \\frac{\\pi}{3}\\right) = 2 e^{i \\frac{\\pi}{3}}\n",
       "     \\]\n",
       "   - Do đó:\n",
       "     \\[\n",
       "     (1 + \\sqrt{3}i)^7 = (2 e^{i \\frac{\\pi}{3}})^7 = 2^7 e^{i \\frac{7\\pi}{3}} = 128 e^{i \\frac{7\\pi}{3}}\n",
       "     \\]\n",
       "\n",
       "3. **Kết hợp các phần lại**:\n",
       "   - Ta có:\n",
       "     \\[\n",
       "     z = e^{-i \\frac{5\\pi}{3}} \\cdot 128 e^{i \\frac{7\\pi}{3}} = 128 e^{i \\left(-\\frac{5\\pi}{3} + \\frac{7\\pi}{3}\\right)} = 128 e^{i \\frac{2\\pi}{3}}\n",
       "     \\]\n",
       "\n",
       "4. **Tính phần ảo của số phức**:\n",
       "   - Phần ảo của số phức $z$ được tính bằng:\n",
       "     \\[\n",
       "     \\text{Im}(z) = 128 \\sin\\left(\\frac{2\\pi}{3}\\right)\n",
       "     \\]\n",
       "   - Ta biết rằng:\n",
       "     \\[\n",
       "     \\sin\\left(\\frac{2\\pi}{3}\\right) = \\sin\\left(\\pi - \\frac{\\pi}{3}\\right) = \\sin\\left(\\frac{\\pi}{3}\\right) = \\frac{\\sqrt{3}}{2}\n",
       "     \\]\n",
       "   - Vậy:\n",
       "     \\[\n",
       "     \\text{Im}(z) = 128 \\cdot \\frac{\\sqrt{3}}{2} = 64\\sqrt{3}\n",
       "     \\]\n",
       "\n",
       "Cuối cùng, phần ảo của số phức là $64\\sqrt{3}$.\n"
      ],
      "text/plain": [
       "<IPython.core.display.Latex object>"
      ]
     },
     "metadata": {},
     "output_type": "display_data"
    },
    {
     "name": "stderr",
     "output_type": "stream",
     "text": [
      "Processing Questions:  31%|███       | 50/162 [07:22<23:42, 12.70s/it]"
     ]
    },
    {
     "data": {
      "text/latex": [
       "\n",
       "Để tính số phức $z = \\frac{(1 - i)^{10}(\\sqrt{3} + i)^5}{(-1 - i\\sqrt{3})^{10}}$, ta sẽ sử dụng dạng lượng giác của số phức.\n",
       "\n",
       "**Bước 1: Tính $(1 - i)^{10}$**\n",
       "\n",
       "Số phức $1 - i$ có thể viết dưới dạng lượng giác:\n",
       "\\[\n",
       "1 - i = \\sqrt{2} \\left( \\cos\\left(-\\frac{\\pi}{4}\\right) + i \\sin\\left(-\\frac{\\pi}{4}\\right) \\right)\n",
       "\\]\n",
       "Do đó,\n",
       "\\[\n",
       "(1 - i)^{10} = \\left(\\sqrt{2}\\right)^{10} \\left( \\cos\\left(-\\frac{10\\pi}{4}\\right) + i \\sin\\left(-\\frac{10\\pi}{4}\\right) \\right) = 2^5 \\left( \\cos\\left(-\\frac{5\\pi}{2}\\right) + i \\sin\\left(-\\frac{5\\pi}{2}\\right) \\right)\n",
       "\\]\n",
       "Vì $\\cos\\left(-\\frac{5\\pi}{2}\\right) = 0$ và $\\sin\\left(-\\frac{5\\pi}{2}\\right) = -1$, ta có:\n",
       "\\[\n",
       "(1 - i)^{10} = 32(-i) = -32i\n",
       "\\]\n",
       "\n",
       "**Bước 2: Tính $(\\sqrt{3} + i)^5$**\n",
       "\n",
       "Số phức $\\sqrt{3} + i$ cũng có thể viết dưới dạng lượng giác:\n",
       "\\[\n",
       "\\sqrt{3} + i = 2 \\left( \\cos\\left(\\frac{\\pi}{6}\\right) + i \\sin\\left(\\frac{\\pi}{6}\\right) \\right)\n",
       "\\]\n",
       "Do đó,\n",
       "\\[\n",
       "(\\sqrt{3} + i)^5 = 2^5 \\left( \\cos\\left(\\frac{5\\pi}{6}\\right) + i \\sin\\left(\\frac{5\\pi}{6}\\right) \\right) = 32 \\left( -\\frac{\\sqrt{3}}{2} + i \\frac{1}{2} \\right) = -16\\sqrt{3} + 16i\n",
       "\\]\n",
       "\n",
       "**Bước 3: Tính $(-1 - i\\sqrt{3})^{10}$**\n",
       "\n",
       "Số phức $-1 - i\\sqrt{3}$ có thể viết dưới dạng lượng giác:\n",
       "\\[\n",
       "-1 - i\\sqrt{3} = 2 \\left( \\cos\\left(-\\frac{2\\pi}{3}\\right) + i \\sin\\left(-\\frac{2\\pi}{3}\\right) \\right)\n",
       "\\]\n",
       "Do đó,\n",
       "\\[\n",
       "(-1 - i\\sqrt{3})^{10} = 2^{10} \\left( \\cos\\left(-\\frac{20\\pi}{3}\\right) + i \\sin\\left(-\\frac{20\\pi}{3}\\right) \\right) = 1024 \\left( \\cos\\left(-\\frac{2\\pi}{3}\\right) + i \\sin\\left(-\\frac{2\\pi}{3}\\right) \\right)\n",
       "\\]\n",
       "Vì $\\cos\\left(-\\frac{2\\pi}{3}\\right) = -\\frac{1}{2}$ và $\\sin\\left(-\\frac{2\\pi}{3}\\right) = -\\frac{\\sqrt{3}}{2}$, ta có:\n",
       "\\[\n",
       "(-1 - i\\sqrt{3})^{10} = 1024 \\left( -\\frac{1}{2} - i\\frac{\\sqrt{3}}{2} \\right) = -512 - 512i\\sqrt{3}\n",
       "\\]\n",
       "\n",
       "**Bước 4: Tính $z$**\n",
       "\n",
       "Bây giờ ta có:\n",
       "\\[\n",
       "z = \\frac{(-32i)(-16\\sqrt{3} + 16i)}{-512 - 512i\\sqrt{3}}\n",
       "\\]\n",
       "Tính tử số:\n",
       "\\[\n",
       "(-32i)(-16\\sqrt{3} + 16i) = 32 \\cdot 16 \\left( i\\sqrt{3} - 1 \\right) = 512i\\sqrt{3} - 512i^2 = 512i\\sqrt{3} + 512 = 512 + 512i\\sqrt{3}\n",
       "\\]\n",
       "Tính mẫu số:\n",
       "\\[\n",
       "-512 - 512i\\sqrt{3}\n",
       "\\]\n",
       "Vậy ta có:\n",
       "\\[\n",
       "z = \\frac{512 + 512i\\sqrt{3}}{-512 - 512i\\sqrt{3}} = -1\n",
       "\\]\n",
       "\n",
       "**Kết luận:**\n",
       "\\[\n",
       "z = -1\n",
       "\\]\n"
      ],
      "text/plain": [
       "<IPython.core.display.Latex object>"
      ]
     },
     "metadata": {},
     "output_type": "display_data"
    },
    {
     "name": "stderr",
     "output_type": "stream",
     "text": [
      "Processing Questions:  31%|███▏      | 51/162 [07:35<24:01, 12.99s/it]"
     ]
    },
    {
     "data": {
      "text/latex": [
       "\n",
       "Để tính $z^{2012}$ với $z = 1 - \\cos\\frac{\\pi}{8} + i \\sin\\frac{\\pi}{8}$, trước tiên ta sẽ chuyển đổi số phức này sang dạng lượng giác.\n",
       "\n",
       "1. **Tính toán phần thực và phần ảo**:\n",
       "   - Phần thực: $Re(z) = 1 - \\cos\\frac{\\pi}{8}$\n",
       "   - Phần ảo: $Im(z) = \\sin\\frac{\\pi}{8}$\n",
       "\n",
       "2. **Tính độ lớn của $z$**:\n",
       "   \\[\n",
       "   |z| = \\sqrt{(1 - \\cos\\frac{\\pi}{8})^2 + \\sin^2\\frac{\\pi}{8}}\n",
       "   \\]\n",
       "   Sử dụng công thức $\\sin^2 x + \\cos^2 x = 1$, ta có:\n",
       "   \\[\n",
       "   |z| = \\sqrt{(1 - \\cos\\frac{\\pi}{8})^2 + (1 - \\cos^2\\frac{\\pi}{8})} = \\sqrt{(1 - \\cos\\frac{\\pi}{8})^2 + \\sin^2\\frac{\\pi}{8}}\n",
       "   \\]\n",
       "   \\[\n",
       "   = \\sqrt{(1 - \\cos\\frac{\\pi}{8})^2 + (1 - \\cos^2\\frac{\\pi}{8})} = \\sqrt{(1 - \\cos\\frac{\\pi}{8})^2 + (1 - (1 - \\sin^2\\frac{\\pi}{8}))} = \\sqrt{(1 - \\cos\\frac{\\pi}{8})^2 + \\sin^2\\frac{\\pi}{8}}\n",
       "   \\]\n",
       "\n",
       "3. **Tính góc của $z$**:\n",
       "   \\[\n",
       "   \\theta = \\tan^{-1}\\left(\\frac{\\sin\\frac{\\pi}{8}}{1 - \\cos\\frac{\\pi}{8}}\\right)\n",
       "   \\]\n",
       "\n",
       "4. **Chuyển sang dạng lượng giác**:\n",
       "   Ta có thể viết $z$ dưới dạng:\n",
       "   \\[\n",
       "   z = r(\\cos \\theta + i \\sin \\theta)\n",
       "   \\]\n",
       "   với $r = |z|$ và $\\theta = \\tan^{-1}\\left(\\frac{\\sin\\frac{\\pi}{8}}{1 - \\cos\\frac{\\pi}{8}}\\right)$.\n",
       "\n",
       "5. **Sử dụng định lý De Moivre**:\n",
       "   \\[\n",
       "   z^{2012} = r^{2012} \\left( \\cos(2012\\theta) + i \\sin(2012\\theta) \\right)\n",
       "   \\]\n",
       "\n",
       "6. **Tính $r^{2012}$**:\n",
       "   Tính giá trị $r$ từ bước 2 và sau đó tính $r^{2012}$.\n",
       "\n",
       "7. **Tính $2012\\theta$**:\n",
       "   Tính giá trị $2012\\theta$ và sau đó tính $\\cos(2012\\theta)$ và $\\sin(2012\\theta)$.\n",
       "\n",
       "Cuối cùng, kết hợp các kết quả trên để có được giá trị của $z^{2012}$.\n",
       "\n",
       "Tuy nhiên, để đơn giản hóa, ta có thể nhận thấy rằng $z$ có thể được viết lại dưới dạng:\n",
       "\\[\n",
       "z = e^{i\\frac{\\pi}{8}} \\text{ (sau khi tính toán)}\n",
       "\\]\n",
       "Do đó:\n",
       "\\[\n",
       "z^{2012} = \\left(e^{i\\frac{\\pi}{8}}\\right)^{2012} = e^{i\\frac{2012\\pi}{8}} = e^{i251.5\\pi}\n",
       "\\]\n",
       "Vì $e^{i\\pi} = -1$, ta có:\n",
       "\\[\n",
       "e^{i251.5\\pi} = e^{i(251\\pi + 0.5\\pi)} = e^{i251\\pi} \\cdot e^{i0.5\\pi} = (-1)^{251} \\cdot i = -i\n",
       "\\]\n",
       "\n",
       "Vậy kết quả cuối cùng là:\n",
       "\\[\n",
       "z^{2012} = -i\n",
       "\\]\n"
      ],
      "text/plain": [
       "<IPython.core.display.Latex object>"
      ]
     },
     "metadata": {},
     "output_type": "display_data"
    },
    {
     "name": "stderr",
     "output_type": "stream",
     "text": [
      "Processing Questions:  32%|███▏      | 52/162 [07:47<23:17, 12.70s/it]"
     ]
    },
    {
     "data": {
      "text/latex": [
       "\n",
       "Để giải phương trình $z^5 + z^4 + z^3 + z^2 + z + 1 = 0$, ta có thể sử dụng một số phương pháp như phân tích đa thức hoặc sử dụng công thức nghiệm của đa thức.\n",
       "\n",
       "Bước 1: Nhận diện đa thức\n",
       "Ta có thể viết lại phương trình như sau:\n",
       "$$\n",
       "z^5 + z^4 + z^3 + z^2 + z + 1 = 0\n",
       "$$\n",
       "\n",
       "Bước 2: Sử dụng công thức tổng quát\n",
       "Ta nhận thấy rằng đa thức này có thể được viết dưới dạng:\n",
       "$$\n",
       "\\frac{z^6 - 1}{z - 1} = 0 \\quad (z \\neq 1)\n",
       "$$\n",
       "Điều này có nghĩa là $z^6 - 1 = 0$.\n",
       "\n",
       "Bước 3: Giải phương trình $z^6 - 1 = 0$\n",
       "Phương trình này có nghiệm là các số phức bậc 6, được cho bởi công thức:\n",
       "$$\n",
       "z = e^{i \\frac{2k\\pi}{6}} \\quad (k = 0, 1, 2, 3, 4, 5)\n",
       "$$\n",
       "Từ đó, ta có các nghiệm:\n",
       "- $z_0 = e^{i 0} = 1$\n",
       "- $z_1 = e^{i \\frac{\\pi}{3}} = \\frac{1}{2} + i \\frac{\\sqrt{3}}{2}$\n",
       "- $z_2 = e^{i \\frac{2\\pi}{3}} = -\\frac{1}{2} + i \\frac{\\sqrt{3}}{2}$\n",
       "- $z_3 = e^{i \\pi} = -1$\n",
       "- $z_4 = e^{i \\frac{4\\pi}{3}} = -\\frac{1}{2} - i \\frac{\\sqrt{3}}{2}$\n",
       "- $z_5 = e^{i \\frac{5\\pi}{3}} = \\frac{1}{2} - i \\frac{\\sqrt{3}}{2}$\n",
       "\n",
       "Bước 4: Lọc nghiệm\n",
       "Vì phương trình ban đầu có điều kiện $z \\neq 1$, ta loại bỏ nghiệm $z_0 = 1$.\n",
       "\n",
       "Vậy các nghiệm của phương trình $z^5 + z^4 + z^3 + z^2 + z + 1 = 0$ là:\n",
       "$$\n",
       "z_1 = \\frac{1}{2} + i \\frac{\\sqrt{3}}{2}, \\quad z_2 = -\\frac{1}{2} + i \\frac{\\sqrt{3}}{2}, \\quad z_3 = -1, \\quad z_4 = -\\frac{1}{2} - i \\frac{\\sqrt{3}}{2}, \\quad z_5 = \\frac{1}{2} - i \\frac{\\sqrt{3}}{2}\n",
       "$$\n"
      ],
      "text/plain": [
       "<IPython.core.display.Latex object>"
      ]
     },
     "metadata": {},
     "output_type": "display_data"
    },
    {
     "name": "stderr",
     "output_type": "stream",
     "text": [
      "Processing Questions:  33%|███▎      | 53/162 [07:59<22:44, 12.52s/it]"
     ]
    },
    {
     "data": {
      "text/latex": [
       "\n",
       "Để giải phương trình $z^6 + 64 = 0$, ta có thể viết lại phương trình dưới dạng:\n",
       "\n",
       "$$ z^6 = -64 $$\n",
       "\n",
       "Ta nhận thấy rằng $-64$ có thể được viết dưới dạng số phức với mô-đun và góc. Cụ thể, ta có:\n",
       "\n",
       "$$ -64 = 64 \\text{cis} (180^\\circ) $$\n",
       "\n",
       "Trong đó, $\\text{cis}(\\theta) = \\cos(\\theta) + i\\sin(\\theta)$.\n",
       "\n",
       "Bây giờ, ta sẽ sử dụng định lý De Moivre để tìm các nghiệm của phương trình. Theo định lý De Moivre, các nghiệm của phương trình $z^n = r \\text{cis}(\\theta)$ được cho bởi:\n",
       "\n",
       "$$ z_k = r^{1/n} \\text{cis} \\left( \\frac{\\theta + 360^\\circ k}{n} \\right) \\quad (k = 0, 1, 2, \\ldots, n-1) $$\n",
       "\n",
       "Trong trường hợp này, $r = 64$ và $\\theta = 180^\\circ$, với $n = 6$. \n",
       "\n",
       "Tính mô-đun:\n",
       "\n",
       "$$ r^{1/6} = 64^{1/6} = 2 $$\n",
       "\n",
       "Tính các góc:\n",
       "\n",
       "$$ z_k = 2 \\text{cis} \\left( \\frac{180^\\circ + 360^\\circ k}{6} \\right) $$\n",
       "\n",
       "Bây giờ, ta tính các nghiệm cho $k = 0, 1, 2, 3, 4, 5$:\n",
       "\n",
       "- Với $k = 0$:\n",
       "  $$ z_0 = 2 \\text{cis} \\left( \\frac{180^\\circ}{6} \\right) = 2 \\text{cis} (30^\\circ) = 2 \\left( \\cos(30^\\circ) + i\\sin(30^\\circ) \\right) = 2 \\left( \\frac{\\sqrt{3}}{2} + i\\frac{1}{2} \\right) = \\sqrt{3} + i $$\n",
       "\n",
       "- Với $k = 1$:\n",
       "  $$ z_1 = 2 \\text{cis} \\left( \\frac{180^\\circ + 360^\\circ}{6} \\right) = 2 \\text{cis} (90^\\circ) = 2i $$\n",
       "\n",
       "- Với $k = 2$:\n",
       "  $$ z_2 = 2 \\text{cis} \\left( \\frac{180^\\circ + 720^\\circ}{6} \\right) = 2 \\text{cis} (150^\\circ) = 2 \\left( \\cos(150^\\circ) + i\\sin(150^\\circ) \\right) = 2 \\left( -\\frac{\\sqrt{3}}{2} + i\\frac{1}{2} \\right) = -\\sqrt{3} + i $$\n",
       "\n",
       "- Với $k = 3$:\n",
       "  $$ z_3 = 2 \\text{cis} \\left( \\frac{180^\\circ + 1080^\\circ}{6} \\right) = 2 \\text{cis} (210^\\circ) = 2 \\left( \\cos(210^\\circ) + i\\sin(210^\\circ) \\right) = 2 \\left( -\\frac{\\sqrt{3}}{2} - i\\frac{1}{2} \\right) = -\\sqrt{3} - i $$\n",
       "\n",
       "- Với $k = 4$:\n",
       "  $$ z_4 = 2 \\text{cis} \\left( \\frac{180^\\circ + 1440^\\circ}{6} \\right) = 2 \\text{cis} (270^\\circ) = -2i $$\n",
       "\n",
       "- Với $k = 5$:\n",
       "  $$ z_5 = 2 \\text{cis} \\left( \\frac{180^\\circ + 1800^\\circ}{6} \\right) = 2 \\text{cis} (330^\\circ) = 2 \\left( \\cos(330^\\circ) + i\\sin(330^\\circ) \\right) = 2 \\left( \\frac{\\sqrt{3}}{2} - i\\frac{1}{2} \\right) = \\sqrt{3} - i $$\n",
       "\n",
       "Tóm lại, các nghiệm của phương trình $z^6 + 64 = 0$ là:\n",
       "\n",
       "$$ z_0 = \\sqrt{3} + i, \\quad z_1 = 2i, \\quad z_2 = -\\sqrt{3} + i, \\quad z_3 = -\\sqrt{3} - i, \\quad z_4 = -2i, \\quad z_5 = \\sqrt{3} - i $$\n",
       "\n"
      ],
      "text/plain": [
       "<IPython.core.display.Latex object>"
      ]
     },
     "metadata": {},
     "output_type": "display_data"
    },
    {
     "name": "stderr",
     "output_type": "stream",
     "text": [
      "Processing Questions:  33%|███▎      | 54/162 [08:15<24:07, 13.40s/it]"
     ]
    },
    {
     "data": {
      "text/latex": [
       "\n",
       "Để giải bài toán, ta cần xác định điều kiện để số phức $z = (1 + i\\sqrt{3})^n$ là số thực. \n",
       "\n",
       "1. **Tính mô-đun và lập phương của số phức**:\n",
       "   Số phức $1 + i\\sqrt{3}$ có mô-đun được tính như sau:\n",
       "   \\[\n",
       "   |1 + i\\sqrt{3}| = \\sqrt{1^2 + (\\sqrt{3})^2} = \\sqrt{1 + 3} = \\sqrt{4} = 2.\n",
       "   \\]\n",
       "\n",
       "2. **Tính arg của số phức**:\n",
       "   Để tính được $arg(1 + i\\sqrt{3})$, ta có:\n",
       "   \\[\n",
       "   \\tan(\\theta) = \\frac{\\sqrt{3}}{1} \\implies \\theta = \\frac{\\pi}{3}.\n",
       "   \\]\n",
       "   Vậy, ta có:\n",
       "   \\[\n",
       "   1 + i\\sqrt{3} = 2 \\left( \\cos\\frac{\\pi}{3} + i\\sin\\frac{\\pi}{3} \\right).\n",
       "   \\]\n",
       "\n",
       "3. **Biểu diễn số phức dưới dạng số phức mũ**:\n",
       "   Số phức $z$ có thể được viết lại như sau:\n",
       "   \\[\n",
       "   z = (1 + i\\sqrt{3})^n = 2^n \\left( \\cos\\left(n \\cdot \\frac{\\pi}{3}\\right) + i\\sin\\left(n \\cdot \\frac{\\pi}{3}\\right) \\right).\n",
       "   \\]\n",
       "\n",
       "4. **Điều kiện để $z$ là số thực**:\n",
       "   Để $z$ là số thực, phần ảo của nó phải bằng 0, tức là:\n",
       "   \\[\n",
       "   \\sin\\left(n \\cdot \\frac{\\pi}{3}\\right) = 0.\n",
       "   \\]\n",
       "   Điều này xảy ra khi:\n",
       "   \\[\n",
       "   n \\cdot \\frac{\\pi}{3} = k\\pi \\quad (k \\in \\mathbb{Z}) \\implies n = 3k.\n",
       "   \\]\n",
       "\n",
       "5. **Xác định các giá trị của $n$ trong khoảng $[1; 10]$**:\n",
       "   Ta cần tìm các giá trị nguyên dương của $n$ thỏa mãn $n = 3k$ và $1 \\leq n \\leq 10$:\n",
       "   - Với $k = 1$: $n = 3 \\cdot 1 = 3$.\n",
       "   - Với $k = 2$: $n = 3 \\cdot 2 = 6$.\n",
       "   - Với $k = 3$: $n = 3 \\cdot 3 = 9$.\n",
       "   - Với $k = 4$: $n = 3 \\cdot 4 = 12$ (không thỏa mãn điều kiện).\n",
       "\n",
       "   Vậy các giá trị của $n$ là: $3, 6, 9$.\n",
       "\n",
       "6. **Số phần tử của tập hợp S**:\n",
       "   Tập hợp $S = \\{3, 6, 9\\}$ có 3 phần tử.\n",
       "\n",
       "Kết luận, số phần tử của tập hợp $S$ là 3.\n"
      ],
      "text/plain": [
       "<IPython.core.display.Latex object>"
      ]
     },
     "metadata": {},
     "output_type": "display_data"
    },
    {
     "name": "stderr",
     "output_type": "stream",
     "text": [
      "Processing Questions:  34%|███▍      | 55/162 [08:26<22:59, 12.89s/it]"
     ]
    },
    {
     "data": {
      "text/latex": [
       "\n",
       "Để tìm số phức $z$ sao cho $z^5$ và $\\frac{1}{\\overline{z}^2}$ là hai số phức liên hợp, ta có thể viết điều kiện này dưới dạng:\n",
       "\n",
       "$$ z^5 = \\overline{\\left(\\frac{1}{\\overline{z}^2}\\right)} $$\n",
       "\n",
       "Bước 1: Tính $\\overline{\\left(\\frac{1}{\\overline{z}^2}\\right)}$.\n",
       "\n",
       "Ta có:\n",
       "\n",
       "$$ \\overline{\\left(\\frac{1}{\\overline{z}^2}\\right)} = \\frac{1}{z^2} $$\n",
       "\n",
       "Bước 2: Thiết lập phương trình.\n",
       "\n",
       "Từ điều kiện trên, ta có:\n",
       "\n",
       "$$ z^5 = \\frac{1}{z^2} $$\n",
       "\n",
       "Bước 3: Nhân cả hai vế với $z^2$ (với điều kiện $z \\neq 0$):\n",
       "\n",
       "$$ z^7 = 1 $$\n",
       "\n",
       "Bước 4: Giải phương trình $z^7 = 1$.\n",
       "\n",
       "Phương trình này có nghiệm là các số phức bậc 7, được cho bởi công thức:\n",
       "\n",
       "$$ z_k = e^{\\frac{2\\pi i k}{7}} \\quad (k = 0, 1, 2, 3, 4, 5, 6) $$\n",
       "\n",
       "Bước 5: Liệt kê các nghiệm.\n",
       "\n",
       "Các nghiệm cụ thể là:\n",
       "\n",
       "- $z_0 = e^{0} = 1$\n",
       "- $z_1 = e^{\\frac{2\\pi i}{7}}$\n",
       "- $z_2 = e^{\\frac{4\\pi i}{7}}$\n",
       "- $z_3 = e^{\\frac{6\\pi i}{7}}$\n",
       "- $z_4 = e^{\\frac{8\\pi i}{7}}$\n",
       "- $z_5 = e^{\\frac{10\\pi i}{7}}$\n",
       "- $z_6 = e^{\\frac{12\\pi i}{7}}$\n",
       "\n",
       "Bước 6: Kết luận.\n",
       "\n",
       "Vậy các số phức $z$ thỏa mãn điều kiện là:\n",
       "\n",
       "$$ z = e^{\\frac{2\\pi i k}{7}} \\quad (k = 0, 1, 2, 3, 4, 5, 6) $$\n"
      ],
      "text/plain": [
       "<IPython.core.display.Latex object>"
      ]
     },
     "metadata": {},
     "output_type": "display_data"
    },
    {
     "name": "stderr",
     "output_type": "stream",
     "text": [
      "Processing Questions:  35%|███▍      | 56/162 [08:34<20:03, 11.35s/it]"
     ]
    },
    {
     "data": {
      "text/latex": [
       "\n",
       "Để tính giá trị của $S_1 = C_n^0 - C_n^2 + C_n^4 - C_n^6 + C_n^8 - ...$, chúng ta sẽ sử dụng định lý nhị thức và một số tính chất của các hệ số nhị thức.\n",
       "\n",
       "1. **Xác định tổng**: \n",
       "   Tổng $S_1$ có thể được viết lại dưới dạng tổng của các hệ số nhị thức với dấu hiệu thay đổi. Chúng ta có thể viết lại như sau:\n",
       "   \\[\n",
       "   S_1 = \\sum_{k=0}^{\\lfloor n/2 \\rfloor} (-1)^k C_n^{2k}\n",
       "   \\]\n",
       "\n",
       "2. **Sử dụng định lý nhị thức**:\n",
       "   Theo định lý nhị thức, ta có:\n",
       "   \\[\n",
       "   (1 + x)^n = \\sum_{k=0}^{n} C_n^k x^k\n",
       "   \\]\n",
       "   Nếu chúng ta thay $x = -1$, ta có:\n",
       "   \\[\n",
       "   (1 - 1)^n = 0 = \\sum_{k=0}^{n} C_n^k (-1)^k\n",
       "   \\]\n",
       "   Điều này cho thấy tổng các hệ số nhị thức với dấu thay đổi là 0.\n",
       "\n",
       "3. **Tính tổng các hệ số chẵn**:\n",
       "   Để tách riêng các hệ số chẵn, ta có thể sử dụng công thức:\n",
       "   \\[\n",
       "   (1 + x)^n + (1 - x)^n = 2 \\sum_{k \\text{ chẵn}} C_n^k x^k\n",
       "   \\]\n",
       "   Thay $x = 1$ vào công thức trên:\n",
       "   \\[\n",
       "   (1 + 1)^n + (1 - 1)^n = 2 \\sum_{k \\text{ chẵn}} C_n^k\n",
       "   \\]\n",
       "   Ta có:\n",
       "   \\[\n",
       "   2^n + 0 = 2 \\sum_{k \\text{ chẵn}} C_n^k\n",
       "   \\]\n",
       "   Do đó:\n",
       "   \\[\n",
       "   \\sum_{k \\text{ chẵn}} C_n^k = 2^{n-1}\n",
       "   \\]\n",
       "\n",
       "4. **Tính tổng các hệ số chẵn với dấu thay đổi**:\n",
       "   Tương tự, ta có:\n",
       "   \\[\n",
       "   (1 + i)^n + (1 - i)^n = 2 \\sum_{k \\text{ chẵn}} C_n^k i^k\n",
       "   \\]\n",
       "   Trong đó $i$ là đơn vị ảo. Tính toán:\n",
       "   \\[\n",
       "   (1 + i)^n = \\sqrt{2}^n \\left( \\cos\\left(\\frac{n\\pi}{4}\\right) + i \\sin\\left(\\frac{n\\pi}{4}\\right) \\right)\n",
       "   \\]\n",
       "   \\[\n",
       "   (1 - i)^n = \\sqrt{2}^n \\left( \\cos\\left(-\\frac{n\\pi}{4}\\right) + i \\sin\\left(-\\frac{n\\pi}{4}\\right) \\right)\n",
       "   \\]\n",
       "   Cộng hai biểu thức trên lại, ta có:\n",
       "   \\[\n",
       "   (1 + i)^n + (1 - i)^n = 2^{n/2} \\cdot 2 \\cos\\left(\\frac{n\\pi}{4}\\right)\n",
       "   \\]\n",
       "   Do đó:\n",
       "   \\[\n",
       "   S_1 = \\sum_{k=0}^{\\lfloor n/2 \\rfloor} (-1)^k C_n^{2k} = 2^{n-1} \\cos\\left(\\frac{n\\pi}{4}\\right)\n",
       "   \\]\n",
       "\n",
       "5. **Kết luận**:\n",
       "   Vậy giá trị của $S_1$ là:\n",
       "   \\[\n",
       "   S_1 = 2^{n-1} \\cos\\left(\\frac{n\\pi}{4}\\right)\n",
       "   \\]\n",
       "\n"
      ],
      "text/plain": [
       "<IPython.core.display.Latex object>"
      ]
     },
     "metadata": {},
     "output_type": "display_data"
    },
    {
     "name": "stderr",
     "output_type": "stream",
     "text": [
      "Processing Questions:  35%|███▌      | 57/162 [08:48<21:00, 12.00s/it]"
     ]
    },
    {
     "data": {
      "text/latex": [
       "\n",
       "Để giải bài toán, ta cần phân tích điều kiện $|z - (1 + i)| = |z + 2i|$. \n",
       "\n",
       "1. **Đặt $z$ dưới dạng số phức**: \n",
       "   Gọi $z = x + yi$, với $x, y \\in \\mathbb{R}$.\n",
       "\n",
       "2. **Thay vào điều kiện**:\n",
       "   Ta có:\n",
       "   \\[\n",
       "   |z - (1 + i)| = |(x - 1) + (y - 1)i| = \\sqrt{(x - 1)^2 + (y - 1)^2}\n",
       "   \\]\n",
       "   và\n",
       "   \\[\n",
       "   |z + 2i| = |x + (y + 2)i| = \\sqrt{x^2 + (y + 2)^2}\n",
       "   \\]\n",
       "\n",
       "3. **Thiết lập phương trình**:\n",
       "   Từ điều kiện đã cho, ta có:\n",
       "   \\[\n",
       "   \\sqrt{(x - 1)^2 + (y - 1)^2} = \\sqrt{x^2 + (y + 2)^2}\n",
       "   \\]\n",
       "\n",
       "4. **Bình phương hai vế**:\n",
       "   \\[\n",
       "   (x - 1)^2 + (y - 1)^2 = x^2 + (y + 2)^2\n",
       "   \\]\n",
       "\n",
       "5. **Giải phương trình**:\n",
       "   Mở rộng hai vế:\n",
       "   \\[\n",
       "   (x^2 - 2x + 1) + (y^2 - 2y + 1) = x^2 + (y^2 + 4y + 4)\n",
       "   \\]\n",
       "   Rút gọn:\n",
       "   \\[\n",
       "   -2x + 2 - 2y = 4y + 4\n",
       "   \\]\n",
       "   \\[\n",
       "   -2x - 6y + 2 = 0\n",
       "   \\]\n",
       "   \\[\n",
       "   2x + 6y = 2\n",
       "   \\]\n",
       "   Chia cả hai vế cho 2:\n",
       "   \\[\n",
       "   x + 3y = 1\n",
       "   \\]\n",
       "\n",
       "6. **Kết luận**:\n",
       "   Phương trình $x + 3y = 1$ là phương trình của một đường thẳng trong mặt phẳng tọa độ $xy$.\n",
       "\n"
      ],
      "text/plain": [
       "<IPython.core.display.Latex object>"
      ]
     },
     "metadata": {},
     "output_type": "display_data"
    },
    {
     "name": "stderr",
     "output_type": "stream",
     "text": [
      "Processing Questions:  36%|███▌      | 58/162 [08:55<18:17, 10.56s/it]"
     ]
    },
    {
     "data": {
      "text/latex": [
       "\n",
       "Để giải bài toán, ta cần tìm tập hợp các điểm $M$ biểu diễn số phức $z$ trong mặt phẳng phức thỏa mãn điều kiện:\n",
       "\n",
       "\\[\n",
       "|z - 2i| = |z + 1|\n",
       "\\]\n",
       "\n",
       "1. **Giải thích điều kiện**: \n",
       "   Điều kiện này có thể được hiểu là khoảng cách từ điểm $M$ đến điểm $2i$ bằng khoảng cách từ điểm $M$ đến điểm $-1$. \n",
       "\n",
       "2. **Biểu diễn số phức**: \n",
       "   Gọi số phức $z$ có dạng $z = x + yi$, với $x$ và $y$ là các số thực. \n",
       "\n",
       "3. **Thay vào điều kiện**:\n",
       "   Ta có:\n",
       "   \\[\n",
       "   |z - 2i| = |(x + yi) - 2i| = |x + (y - 2)i| = \\sqrt{x^2 + (y - 2)^2}\n",
       "   \\]\n",
       "   và\n",
       "   \\[\n",
       "   |z + 1| = |(x + yi) + 1| = |(x + 1) + yi| = \\sqrt{(x + 1)^2 + y^2}\n",
       "   \\]\n",
       "\n",
       "4. **Thiết lập phương trình**:\n",
       "   Từ điều kiện đã cho, ta có:\n",
       "   \\[\n",
       "   \\sqrt{x^2 + (y - 2)^2} = \\sqrt{(x + 1)^2 + y^2}\n",
       "   \\]\n",
       "\n",
       "5. **Bình phương hai vế**:\n",
       "   Bình phương hai vế để loại bỏ căn:\n",
       "   \\[\n",
       "   x^2 + (y - 2)^2 = (x + 1)^2 + y^2\n",
       "   \\]\n",
       "\n",
       "6. **Giải phương trình**:\n",
       "   Mở rộng và rút gọn:\n",
       "   \\[\n",
       "   x^2 + (y^2 - 4y + 4) = (x^2 + 2x + 1) + y^2\n",
       "   \\]\n",
       "   \\[\n",
       "   x^2 + y^2 - 4y + 4 = x^2 + 2x + 1 + y^2\n",
       "   \\]\n",
       "   Rút gọn:\n",
       "   \\[\n",
       "   -4y + 4 = 2x + 1\n",
       "   \\]\n",
       "   \\[\n",
       "   2x + 4y = 3\n",
       "   \\]\n",
       "\n",
       "7. **Phương trình đường thẳng**:\n",
       "   Phương trình $2x + 4y = 3$ có thể viết lại dưới dạng:\n",
       "   \\[\n",
       "   y = -\\frac{1}{2}x + \\frac{3}{4}\n",
       "   \\]\n",
       "   Đây là phương trình của một đường thẳng trong mặt phẳng tọa độ.\n",
       "\n",
       "8. **Tập hợp các điểm**:\n",
       "   Tập hợp các điểm $M$ thỏa mãn điều kiện là tất cả các điểm nằm trên đường thẳng $y = -\\frac{1}{2}x + \\frac{3}{4}$.\n",
       "\n"
      ],
      "text/plain": [
       "<IPython.core.display.Latex object>"
      ]
     },
     "metadata": {},
     "output_type": "display_data"
    },
    {
     "name": "stderr",
     "output_type": "stream",
     "text": [
      "Processing Questions:  36%|███▋      | 59/162 [09:05<18:06, 10.55s/it]"
     ]
    },
    {
     "data": {
      "text/latex": [
       "\n",
       "Để giải bài toán, ta cần phân tích điều kiện $|z - 2 + 3i| = |z - 4i|$.\n",
       "\n",
       "1. **Đặt $z$ dưới dạng số phức**:\n",
       "   Gọi $z = x + yi$, với $x, y \\in \\mathbb{R}$.\n",
       "\n",
       "2. **Thay vào điều kiện**:\n",
       "   Ta có:\n",
       "   \\[\n",
       "   |z - 2 + 3i| = |(x - 2) + (y + 3)i| = \\sqrt{(x - 2)^2 + (y + 3)^2}\n",
       "   \\]\n",
       "   và\n",
       "   \\[\n",
       "   |z - 4i| = |x + (y - 4)i| = \\sqrt{x^2 + (y - 4)^2}\n",
       "   \\]\n",
       "\n",
       "3. **Thiết lập phương trình**:\n",
       "   Từ điều kiện đã cho, ta có:\n",
       "   \\[\n",
       "   \\sqrt{(x - 2)^2 + (y + 3)^2} = \\sqrt{x^2 + (y - 4)^2}\n",
       "   \\]\n",
       "\n",
       "4. **Bình phương hai vế**:\n",
       "   Bình phương hai vế để loại bỏ căn:\n",
       "   \\[\n",
       "   (x - 2)^2 + (y + 3)^2 = x^2 + (y - 4)^2\n",
       "   \\]\n",
       "\n",
       "5. **Mở rộng và rút gọn**:\n",
       "   Mở rộng hai vế:\n",
       "   \\[\n",
       "   (x^2 - 4x + 4) + (y^2 + 6y + 9) = x^2 + (y^2 - 8y + 16)\n",
       "   \\]\n",
       "   Rút gọn:\n",
       "   \\[\n",
       "   -4x + 4 + 6y + 9 = -8y + 16\n",
       "   \\]\n",
       "   \\[\n",
       "   -4x + 14y - 3 = 0\n",
       "   \\]\n",
       "\n",
       "6. **Biến đổi phương trình**:\n",
       "   Ta có phương trình:\n",
       "   \\[\n",
       "   4x - 14y + 3 = 0\n",
       "   \\]\n",
       "   Hay viết lại dưới dạng:\n",
       "   \\[\n",
       "   y = \\frac{2}{7}x + \\frac{3}{14}\n",
       "   \\]\n",
       "\n",
       "7. **Kết luận**:\n",
       "   Đường thẳng $y = \\frac{2}{7}x + \\frac{3}{14}$ là tập hợp các điểm biểu diễn các số phức $z$ thỏa mãn điều kiện đã cho.\n",
       "\n"
      ],
      "text/plain": [
       "<IPython.core.display.Latex object>"
      ]
     },
     "metadata": {},
     "output_type": "display_data"
    },
    {
     "name": "stderr",
     "output_type": "stream",
     "text": [
      "Processing Questions:  37%|███▋      | 60/162 [09:12<15:48,  9.30s/it]"
     ]
    },
    {
     "data": {
      "text/latex": [
       "\n",
       "Để giải bài toán, ta cần phân tích biểu thức $|z - 2 + 5i| = 4$.\n",
       "\n",
       "1. **Xác định số phức**: \n",
       "   Gọi $z = x + yi$, trong đó $x$ và $y$ lần lượt là phần thực và phần ảo của số phức $z$. \n",
       "\n",
       "2. **Thay thế vào biểu thức**:\n",
       "   Ta có:\n",
       "   \\[\n",
       "   |z - 2 + 5i| = |(x - 2) + (y + 5)i|\n",
       "   \\]\n",
       "\n",
       "3. **Tính độ dài**:\n",
       "   Độ dài của số phức này được tính bằng công thức:\n",
       "   \\[\n",
       "   |(x - 2) + (y + 5)i| = \\sqrt{(x - 2)^2 + (y + 5)^2}\n",
       "   \\]\n",
       "\n",
       "4. **Thiết lập phương trình**:\n",
       "   Theo đề bài, ta có:\n",
       "   \\[\n",
       "   \\sqrt{(x - 2)^2 + (y + 5)^2} = 4\n",
       "   \\]\n",
       "\n",
       "5. **Bình phương hai vế**:\n",
       "   Bình phương hai vế để loại bỏ căn:\n",
       "   \\[\n",
       "   (x - 2)^2 + (y + 5)^2 = 16\n",
       "   \\]\n",
       "\n",
       "6. **Nhận diện hình học**:\n",
       "   Phương trình trên là phương trình của một đường tròn với:\n",
       "   - Tâm: $T(2, -5)$\n",
       "   - Bán kính: $R = 4$\n",
       "\n",
       "7. **Kết luận**:\n",
       "   Tập hợp các điểm $M$ biểu diễn số phức $z$ thỏa mãn điều kiện trên là một đường tròn có tâm tại điểm $(2, -5)$ và bán kính $4$.\n",
       "\n"
      ],
      "text/plain": [
       "<IPython.core.display.Latex object>"
      ]
     },
     "metadata": {},
     "output_type": "display_data"
    },
    {
     "name": "stderr",
     "output_type": "stream",
     "text": [
      "Processing Questions:  38%|███▊      | 61/162 [09:21<15:31,  9.22s/it]"
     ]
    },
    {
     "data": {
      "text/latex": [
       "\n",
       "Bài toán cho số phức $z$ thỏa mãn điều kiện $|z - 2| = 2$. Điều này có nghĩa là $z$ nằm trên đường tròn có tâm tại $2$ và bán kính $2$ trong mặt phẳng phức.\n",
       "\n",
       "1. **Xác định đường tròn của $z$**:\n",
       "   - Tâm: $2$ (tức là điểm $(2, 0)$ trong mặt phẳng phức).\n",
       "   - Bán kính: $2$.\n",
       "\n",
       "   Do đó, tập hợp các điểm $z$ có thể được biểu diễn bằng phương trình:\n",
       "   \\[\n",
       "   z = 2 + 2e^{i\\theta}, \\quad \\theta \\in [0, 2\\pi)\n",
       "   \\]\n",
       "\n",
       "2. **Tính $w$**:\n",
       "   - Theo đề bài, $w = (1 - i)z + i$.\n",
       "   - Thay $z$ vào biểu thức $w$:\n",
       "   \\[\n",
       "   w = (1 - i)(2 + 2e^{i\\theta}) + i\n",
       "   \\]\n",
       "   - Tính toán:\n",
       "   \\[\n",
       "   w = (1 - i)2 + (1 - i)2e^{i\\theta} + i\n",
       "   \\]\n",
       "   \\[\n",
       "   = 2 - 2i + 2e^{i\\theta} - 2ie^{i\\theta} + i\n",
       "   \\]\n",
       "   \\[\n",
       "   = 2 + (1 - 2e^{i\\theta}) - (2e^{i\\theta} - 2i)\n",
       "   \\]\n",
       "   \\[\n",
       "   = 2 + 2e^{i\\theta} - 2ie^{i\\theta} - 2i\n",
       "   \\]\n",
       "   \\[\n",
       "   = 2 + 2e^{i\\theta} - 2i(1 + e^{i\\theta})\n",
       "   \\]\n",
       "\n",
       "3. **Xác định dạng của $w$**:\n",
       "   - Để tìm bán kính của đường tròn biểu diễn $w$, ta cần xác định tâm và bán kính của nó.\n",
       "   - Đặt $w = x + yi$, ta có:\n",
       "   \\[\n",
       "   w = 2 + 2\\cos(\\theta) + (2\\sin(\\theta) - 2)i\n",
       "   \\]\n",
       "   - Từ đó, ta có thể thấy rằng $w$ cũng là một đường tròn.\n",
       "\n",
       "4. **Tính bán kính**:\n",
       "   - Để tìm bán kính của đường tròn $w$, ta cần xác định độ dài của phần biến thiên trong biểu thức $w$.\n",
       "   - Từ biểu thức $w$, ta có thể thấy rằng phần biến thiên là $2\\sqrt{(1)^2 + (1)^2} = 2\\sqrt{2}$.\n",
       "   - Tuy nhiên, do $w$ được biến đổi từ $z$, bán kính của đường tròn $w$ sẽ là $2$ (bán kính của $z$) nhân với hệ số $|(1 - i)|$.\n",
       "\n",
       "   Tính $|(1 - i)|$:\n",
       "   \\[\n",
       "   |1 - i| = \\sqrt{1^2 + (-1)^2} = \\sqrt{2}\n",
       "   \\]\n",
       "\n",
       "   Do đó, bán kính $r$ của đường tròn $w$ là:\n",
       "   \\[\n",
       "   r = 2 \\cdot |1 - i| = 2 \\cdot \\sqrt{2}\n",
       "   \\]\n",
       "\n"
      ],
      "text/plain": [
       "<IPython.core.display.Latex object>"
      ]
     },
     "metadata": {},
     "output_type": "display_data"
    },
    {
     "name": "stderr",
     "output_type": "stream",
     "text": [
      "Processing Questions:  38%|███▊      | 62/162 [09:30<15:11,  9.11s/it]"
     ]
    },
    {
     "data": {
      "text/latex": [
       "\n",
       "Để giải bài toán, ta sẽ thực hiện các bước sau:\n",
       "\n",
       "1. **Xác định tập hợp điểm biểu diễn của số phức $z$**:\n",
       "   - Điều kiện $|z - 1| = 2$ mô tả một đường tròn trong mặt phẳng phức với tâm tại điểm $1$ (tức là $1 + 0i$) và bán kính $2$.\n",
       "   - Do đó, tập hợp điểm biểu diễn của $z$ là đường tròn có phương trình:\n",
       "     $$(x - 1)^2 + y^2 = 2^2$$\n",
       "   - Trong đó, $z = x + yi$ với $x$ và $y$ là các số thực.\n",
       "\n",
       "2. **Tính toán số phức $w$**:\n",
       "   - Ta có $w = (1 + \\sqrt{3}i)z + 2$.\n",
       "   - Để tìm tập hợp điểm biểu diễn của $w$, ta thay $z$ vào biểu thức của $w$:\n",
       "     $$w = (1 + \\sqrt{3}i)(x + yi) + 2$$\n",
       "   - Mở rộng biểu thức:\n",
       "     $$w = (1 + \\sqrt{3}i)x + (1 + \\sqrt{3}i)yi + 2$$\n",
       "     $$= (x - \\sqrt{3}y + 2) + (y + \\sqrt{3}x)i$$\n",
       "\n",
       "3. **Xác định hình dạng của tập hợp điểm biểu diễn của $w$**:\n",
       "   - Để xác định hình dạng của tập hợp điểm biểu diễn của $w$, ta cần tìm các hệ số của $x$ và $y$ trong phần thực và phần ảo.\n",
       "   - Gọi $u = x - \\sqrt{3}y + 2$ và $v = y + \\sqrt{3}x$.\n",
       "   - Ta cần tìm mối quan hệ giữa $u$ và $v$.\n",
       "\n",
       "4. **Tính toán bán kính của đường tròn**:\n",
       "   - Để tìm bán kính của đường tròn biểu diễn bởi $w$, ta sẽ sử dụng tính chất của phép biến đổi tuyến tính.\n",
       "   - Đầu tiên, ta tính độ dài của vector $(1 + \\sqrt{3}i)$:\n",
       "     $$|1 + \\sqrt{3}i| = \\sqrt{1^2 + (\\sqrt{3})^2} = \\sqrt{1 + 3} = \\sqrt{4} = 2$$\n",
       "   - Bán kính của đường tròn $w$ sẽ là bán kính của đường tròn $z$ nhân với độ dài của vector $(1 + \\sqrt{3}i)$:\n",
       "     $$R_w = 2 \\cdot 2 = 4$$\n",
       "\n",
       "Vậy bán kính của đường tròn biểu diễn số phức $w$ là $4$.\n"
      ],
      "text/plain": [
       "<IPython.core.display.Latex object>"
      ]
     },
     "metadata": {},
     "output_type": "display_data"
    },
    {
     "name": "stderr",
     "output_type": "stream",
     "text": [
      "Processing Questions:  39%|███▉      | 63/162 [09:38<14:40,  8.89s/it]"
     ]
    },
    {
     "data": {
      "text/latex": [
       "\n",
       "Để tìm các họ nguyên hàm, chúng ta sẽ giải từng phần một.\n",
       "\n",
       "### a) Tính $\\int \\frac{x^3}{1+x^2} dx$\n",
       "\n",
       "**Bước 1: Phân tích biểu thức**\n",
       "\n",
       "Chúng ta có thể phân tích biểu thức $\\frac{x^3}{1+x^2}$ như sau:\n",
       "\n",
       "\\[\n",
       "\\frac{x^3}{1+x^2} = \\frac{x^3 + x^2 - x^2}{1+x^2} = \\frac{x^2(1+x^2) - x^2}{1+x^2} = x^2 - \\frac{x^2}{1+x^2}\n",
       "\\]\n",
       "\n",
       "**Bước 2: Tính từng phần**\n",
       "\n",
       "Vậy ta có:\n",
       "\n",
       "\\[\n",
       "\\int \\frac{x^3}{1+x^2} dx = \\int \\left( x^2 - \\frac{x^2}{1+x^2} \\right) dx\n",
       "\\]\n",
       "\n",
       "Chia thành hai phần:\n",
       "\n",
       "1. $\\int x^2 dx = \\frac{x^3}{3} + C_1$\n",
       "2. Tính $\\int \\frac{x^2}{1+x^2} dx$ bằng cách sử dụng phép chia:\n",
       "\n",
       "\\[\n",
       "\\frac{x^2}{1+x^2} = 1 - \\frac{1}{1+x^2}\n",
       "\\]\n",
       "\n",
       "Vậy:\n",
       "\n",
       "\\[\n",
       "\\int \\frac{x^2}{1+x^2} dx = \\int \\left( 1 - \\frac{1}{1+x^2} \\right) dx = x - \\tan^{-1}(x) + C_2\n",
       "\\]\n",
       "\n",
       "**Bước 3: Kết hợp lại**\n",
       "\n",
       "Kết hợp các phần lại, ta có:\n",
       "\n",
       "\\[\n",
       "\\int \\frac{x^3}{1+x^2} dx = \\frac{x^3}{3} - \\left( x - \\tan^{-1}(x) \\right) + C\n",
       "\\]\n",
       "\n",
       "Kết quả cuối cùng là:\n",
       "\n",
       "\\[\n",
       "\\int \\frac{x^3}{1+x^2} dx = \\frac{x^3}{3} - x + \\tan^{-1}(x) + C\n",
       "\\]\n",
       "\n",
       "### b) Tính $\\int x^2 \\sqrt{x^2+9} dx$\n",
       "\n",
       "**Bước 1: Sử dụng phương pháp tích phân từng phần**\n",
       "\n",
       "Chọn $u = \\sqrt{x^2 + 9}$ và $dv = x^2 dx$.\n",
       "\n",
       "**Bước 2: Tính đạo hàm và vi phân**\n",
       "\n",
       "Tính $du$ và $v$:\n",
       "\n",
       "\\[\n",
       "u = \\sqrt{x^2 + 9} \\implies du = \\frac{x}{\\sqrt{x^2 + 9}} dx\n",
       "\\]\n",
       "\\[\n",
       "dv = x^2 dx \\implies v = \\frac{x^3}{3}\n",
       "\\]\n",
       "\n",
       "**Bước 3: Áp dụng công thức tích phân từng phần**\n",
       "\n",
       "Áp dụng công thức:\n",
       "\n",
       "\\[\n",
       "\\int u \\, dv = uv - \\int v \\, du\n",
       "\\]\n",
       "\n",
       "Ta có:\n",
       "\n",
       "\\[\n",
       "\\int x^2 \\sqrt{x^2 + 9} dx = \\frac{x^3}{3} \\sqrt{x^2 + 9} - \\int \\frac{x^3}{3} \\cdot \\frac{x}{\\sqrt{x^2 + 9}} dx\n",
       "\\]\n",
       "\n",
       "**Bước 4: Tính phần còn lại**\n",
       "\n",
       "Tính $\\int \\frac{x^4}{3\\sqrt{x^2 + 9}} dx$. Sử dụng phép đổi biến $x = 3\\tan(\\theta)$:\n",
       "\n",
       "\\[\n",
       "dx = 3\\sec^2(\\theta) d\\theta, \\quad x^2 + 9 = 9\\sec^2(\\theta)\n",
       "\\]\n",
       "\n",
       "Thay vào:\n",
       "\n",
       "\\[\n",
       "\\int \\frac{(3\\tan(\\theta))^4}{3\\cdot 3\\sec(\\theta)} \\cdot 3\\sec^2(\\theta) d\\theta = 9 \\int \\tan^4(\\theta) d\\theta\n",
       "\\]\n",
       "\n",
       "Sử dụng công thức $\\tan^4(\\theta) = \\sec^4(\\theta) - 2\\sec^2(\\theta) + 1$:\n",
       "\n",
       "\\[\n",
       "= 9 \\left( \\int \\sec^4(\\theta) d\\theta - 2\\int \\sec^2(\\theta) d\\theta + \\int d\\theta \\right)\n",
       "\\]\n",
       "\n",
       "Tính từng phần:\n",
       "\n",
       "1. $\\int \\sec^2(\\theta) d\\theta = \\tan(\\theta)$\n",
       "2. $\\int \\sec^4(\\theta) d\\theta = \\frac{1}{3}\\tan^3(\\theta) + \\tan(\\theta)$\n",
       "\n",
       "Kết hợp lại và thay đổi về biến $x$.\n",
       "\n",
       "**Bước 5: Kết quả cuối cùng**\n",
       "\n",
       "Kết quả cuối cùng cho phần b là:\n",
       "\n",
       "\\[\n",
       "\\int x^2 \\sqrt{x^2 + 9} dx = \\frac{x^3}{3} \\sqrt{x^2 + 9} - \\frac{9}{5}(x^2 + 9)^{5/2} + C\n",
       "\\]\n",
       "\n"
      ],
      "text/plain": [
       "<IPython.core.display.Latex object>"
      ]
     },
     "metadata": {},
     "output_type": "display_data"
    },
    {
     "name": "stderr",
     "output_type": "stream",
     "text": [
      "Processing Questions:  40%|███▉      | 64/162 [09:53<17:32, 10.74s/it]"
     ]
    },
    {
     "data": {
      "text/latex": [
       "\n",
       "Để giải bài toán này, chúng ta sẽ thực hiện từng phần một.\n",
       "\n",
       "### Phần a: Tính nguyên hàm $\\int \\frac{2\\sin x}{1+3\\cos x} dx$\n",
       "\n",
       "**Bước 1: Thay đổi biến số**\n",
       "\n",
       "Chúng ta sẽ sử dụng phương pháp thay đổi biến số. Đặt $u = 1 + 3\\cos x$, thì $du = -3\\sin x \\, dx$, hay $dx = -\\frac{du}{3\\sin x}$.\n",
       "\n",
       "**Bước 2: Biểu diễn $\\sin x$ theo $u$**\n",
       "\n",
       "Từ $u = 1 + 3\\cos x$, ta có $\\cos x = \\frac{u - 1}{3}$. Sử dụng công thức $\\sin^2 x + \\cos^2 x = 1$, ta có:\n",
       "\n",
       "\\[\n",
       "\\sin^2 x = 1 - \\left(\\frac{u - 1}{3}\\right)^2 = 1 - \\frac{(u - 1)^2}{9} = \\frac{9 - (u - 1)^2}{9}\n",
       "\\]\n",
       "\n",
       "**Bước 3: Tính nguyên hàm**\n",
       "\n",
       "Thay vào nguyên hàm:\n",
       "\n",
       "\\[\n",
       "\\int \\frac{2\\sin x}{1 + 3\\cos x} dx = \\int \\frac{2\\sin x}{u} \\left(-\\frac{du}{3\\sin x}\\right) = -\\frac{2}{3} \\int \\frac{1}{u} du\n",
       "\\]\n",
       "\n",
       "**Bước 4: Tính nguyên hàm của $\\frac{1}{u}$**\n",
       "\n",
       "Nguyên hàm của $\\frac{1}{u}$ là $\\ln |u|$, do đó:\n",
       "\n",
       "\\[\n",
       "-\\frac{2}{3} \\int \\frac{1}{u} du = -\\frac{2}{3} \\ln |u| + C\n",
       "\\]\n",
       "\n",
       "**Bước 5: Thay lại biến**\n",
       "\n",
       "Thay $u = 1 + 3\\cos x$ vào kết quả:\n",
       "\n",
       "\\[\n",
       "-\\frac{2}{3} \\ln |1 + 3\\cos x| + C\n",
       "\\]\n",
       "\n",
       "### Phần b: Tính nguyên hàm $\\int \\frac{\\ln^{x-1}}{x \\ln x} dx$\n",
       "\n",
       "**Bước 1: Thay đổi biến số**\n",
       "\n",
       "Đặt $u = \\ln x$, thì $du = \\frac{1}{x} dx$, hay $dx = x \\, du = e^u \\, du$.\n",
       "\n",
       "**Bước 2: Biểu diễn nguyên hàm theo $u$**\n",
       "\n",
       "Khi $x = e^u$, ta có:\n",
       "\n",
       "\\[\n",
       "\\int \\frac{\\ln^{x-1}}{x \\ln x} dx = \\int \\frac{u^{e^u - 1}}{e^u u} e^u \\, du = \\int u^{e^u - 1} \\, du\n",
       "\\]\n",
       "\n",
       "**Bước 3: Tính nguyên hàm**\n",
       "\n",
       "Nguyên hàm này không có dạng đơn giản và thường được tính bằng phương pháp số hoặc các phương pháp khác. Tuy nhiên, chúng ta có thể để nguyên như vậy.\n",
       "\n",
       "### Kết quả\n",
       "\n",
       "Vậy kết quả cho các nguyên hàm là:\n",
       "\n",
       "1. a) $\\int \\frac{2\\sin x}{1+3\\cos x} dx = -\\frac{2}{3} \\ln |1 + 3\\cos x| + C_1$\n",
       "2. b) $\\int \\frac{\\ln^{x-1}}{x \\ln x} dx = \\int u^{e^u - 1} \\, du + C_2$\n",
       "\n"
      ],
      "text/plain": [
       "<IPython.core.display.Latex object>"
      ]
     },
     "metadata": {},
     "output_type": "display_data"
    },
    {
     "name": "stderr",
     "output_type": "stream",
     "text": [
      "Processing Questions:  40%|████      | 65/162 [10:03<16:44, 10.35s/it]"
     ]
    },
    {
     "data": {
      "text/latex": [
       "\n",
       "Để tìm các họ nguyên hàm, chúng ta sẽ sử dụng các phương pháp tích phân thích hợp cho từng bài toán.\n",
       "\n",
       "a) Tính nguyên hàm $\\int xe^{x^2} dx$:\n",
       "\n",
       "Bước 1: Sử dụng phương pháp đổi biến. Đặt $u = x^2$, do đó $du = 2x \\, dx$ hay $dx = \\frac{du}{2x}$.\n",
       "\n",
       "Bước 2: Thay thế vào nguyên hàm:\n",
       "\\[\n",
       "\\int xe^{x^2} dx = \\int xe^u \\cdot \\frac{du}{2x} = \\frac{1}{2} \\int e^u du\n",
       "\\]\n",
       "\n",
       "Bước 3: Tính nguyên hàm của $e^u$:\n",
       "\\[\n",
       "\\int e^u du = e^u + C\n",
       "\\]\n",
       "\n",
       "Bước 4: Thay lại biến $u$:\n",
       "\\[\n",
       "\\int xe^{x^2} dx = \\frac{1}{2} e^{x^2} + C\n",
       "\\]\n",
       "\n",
       "b) Tính nguyên hàm $\\int \\frac{e^{\\tan x}}{\\cos^2 x} dx$:\n",
       "\n",
       "Bước 1: Sử dụng phương pháp đổi biến. Đặt $u = \\tan x$, do đó $du = \\sec^2 x \\, dx = \\frac{1}{\\cos^2 x} \\, dx$ hay $dx = \\cos^2 x \\, du$.\n",
       "\n",
       "Bước 2: Thay thế vào nguyên hàm:\n",
       "\\[\n",
       "\\int \\frac{e^{\\tan x}}{\\cos^2 x} dx = \\int e^u \\, du\n",
       "\\]\n",
       "\n",
       "Bước 3: Tính nguyên hàm của $e^u$:\n",
       "\\[\n",
       "\\int e^u du = e^u + C\n",
       "\\]\n",
       "\n",
       "Bước 4: Thay lại biến $u$:\n",
       "\\[\n",
       "\\int \\frac{e^{\\tan x}}{\\cos^2 x} dx = e^{\\tan x} + C\n",
       "\\]\n",
       "\n",
       "Tóm lại, chúng ta có kết quả cho các nguyên hàm như sau:\n"
      ],
      "text/plain": [
       "<IPython.core.display.Latex object>"
      ]
     },
     "metadata": {},
     "output_type": "display_data"
    },
    {
     "name": "stderr",
     "output_type": "stream",
     "text": [
      "Processing Questions:  41%|████      | 66/162 [10:11<15:39,  9.79s/it]"
     ]
    },
    {
     "data": {
      "text/latex": [
       "\n",
       "Để tìm họ nguyên hàm của hàm số $f(x) = \\sqrt[3]{x} - 2$, ta sẽ thực hiện các bước sau:\n",
       "\n",
       "1. **Tách hàm số**: \n",
       "   Ta có thể tách hàm số thành hai phần:\n",
       "   \\[\n",
       "   f(x) = \\sqrt[3]{x} - 2 = x^{1/3} - 2\n",
       "   \\]\n",
       "\n",
       "2. **Tính nguyên hàm từng phần**:\n",
       "   - Nguyên hàm của $x^{1/3}$:\n",
       "     \\[\n",
       "     \\int x^{1/3} \\, dx = \\frac{x^{1/3 + 1}}{1/3 + 1} = \\frac{x^{4/3}}{4/3} = \\frac{3}{4} x^{4/3}\n",
       "     \\]\n",
       "   - Nguyên hàm của $-2$:\n",
       "     \\[\n",
       "     \\int -2 \\, dx = -2x\n",
       "     \\]\n",
       "\n",
       "3. **Cộng các nguyên hàm lại**:\n",
       "   Kết hợp các kết quả trên, ta có:\n",
       "   \\[\n",
       "   \\int (\\sqrt[3]{x} - 2) \\, dx = \\frac{3}{4} x^{4/3} - 2x + C\n",
       "   \\]\n",
       "   trong đó $C$ là hằng số tích phân.\n",
       "\n",
       "4. **Kết luận**:\n",
       "   Vậy họ nguyên hàm của hàm số $f(x)$ là:\n",
       "   \\[\n",
       "   F(x) = \\frac{3}{4} x^{4/3} - 2x + C\n",
       "   \\]\n",
       "\n"
      ],
      "text/plain": [
       "<IPython.core.display.Latex object>"
      ]
     },
     "metadata": {},
     "output_type": "display_data"
    },
    {
     "name": "stderr",
     "output_type": "stream",
     "text": [
      "Processing Questions:  41%|████▏     | 67/162 [10:23<16:34, 10.46s/it]"
     ]
    },
    {
     "data": {
      "text/latex": [
       "\n",
       "Để tìm nguyên hàm của hàm số $I = \\int e^{\\sin^2 x} \\sin 2x \\, dx$, ta sẽ sử dụng phương pháp tích phân từng phần.\n",
       "\n",
       "1. **Chọn các hàm để tích phân từng phần**:\n",
       "   - Đặt $u = e^{\\sin^2 x}$, do đó $du = e^{\\sin^2 x} \\cdot 2\\sin x \\cos x \\, dx = e^{\\sin^2 x} \\sin 2x \\, dx$.\n",
       "   - Đặt $dv = \\sin 2x \\, dx$, do đó $v = -\\frac{1}{2} \\cos 2x$.\n",
       "\n",
       "2. **Áp dụng công thức tích phân từng phần**:\n",
       "   \\[\n",
       "   I = uv - \\int v \\, du\n",
       "   \\]\n",
       "   Thay các giá trị đã chọn vào công thức:\n",
       "   \\[\n",
       "   I = e^{\\sin^2 x} \\left(-\\frac{1}{2} \\cos 2x\\right) - \\int \\left(-\\frac{1}{2} \\cos 2x\\right) \\cdot e^{\\sin^2 x} \\cdot 2\\sin x \\cos x \\, dx\n",
       "   \\]\n",
       "   \\[\n",
       "   = -\\frac{1}{2} e^{\\sin^2 x} \\cos 2x + \\int e^{\\sin^2 x} \\sin 2x \\, dx\n",
       "   \\]\n",
       "\n",
       "3. **Giải phương trình**:\n",
       "   Đặt $I = \\int e^{\\sin^2 x} \\sin 2x \\, dx$, ta có:\n",
       "   \\[\n",
       "   I = -\\frac{1}{2} e^{\\sin^2 x} \\cos 2x + I\n",
       "   \\]\n",
       "   Rút gọn:\n",
       "   \\[\n",
       "   0 = -\\frac{1}{2} e^{\\sin^2 x} \\cos 2x\n",
       "   \\]\n",
       "   Điều này cho thấy rằng $I$ không thể được tách ra một cách đơn giản hơn.\n",
       "\n",
       "4. **Kết luận**:\n",
       "   Do đó, nguyên hàm của hàm số $I$ không thể được biểu diễn bằng các hàm nguyên hàm cơ bản. Tuy nhiên, ta có thể viết kết quả dưới dạng:\n",
       "   \\[\n",
       "   I = -\\frac{1}{2} e^{\\sin^2 x} \\cos 2x + C\n",
       "   \\]\n",
       "   với $C$ là hằng số tích phân.\n",
       "\n"
      ],
      "text/plain": [
       "<IPython.core.display.Latex object>"
      ]
     },
     "metadata": {},
     "output_type": "display_data"
    },
    {
     "name": "stderr",
     "output_type": "stream",
     "text": [
      "Processing Questions:  42%|████▏     | 68/162 [10:30<14:50,  9.47s/it]"
     ]
    },
    {
     "data": {
      "text/latex": [
       "\n",
       "Để tìm nguyên hàm của hàm số $I = \\int \\frac{x}{(2x+1)^3} dx$, ta sẽ sử dụng phương pháp đổi biến.\n",
       "\n",
       "Bước 1: Đổi biến\n",
       "Ta đặt $u = 2x + 1$. Khi đó, ta có:\n",
       "\\[\n",
       "du = 2dx \\quad \\Rightarrow \\quad dx = \\frac{du}{2}\n",
       "\\]\n",
       "Và từ $u$, ta có:\n",
       "\\[\n",
       "x = \\frac{u - 1}{2}\n",
       "\\]\n",
       "\n",
       "Bước 2: Thay thế vào nguyên hàm\n",
       "Thay $x$ và $dx$ vào biểu thức nguyên hàm:\n",
       "\\[\n",
       "I = \\int \\frac{\\frac{u - 1}{2}}{u^3} \\cdot \\frac{du}{2} = \\int \\frac{u - 1}{4u^3} du\n",
       "\\]\n",
       "\\[\n",
       "= \\frac{1}{4} \\int \\left( \\frac{u}{u^3} - \\frac{1}{u^3} \\right) du = \\frac{1}{4} \\int \\left( \\frac{1}{u^2} - \\frac{1}{u^3} \\right) du\n",
       "\\]\n",
       "\n",
       "Bước 3: Tính từng phần của nguyên hàm\n",
       "Ta tính từng phần:\n",
       "\\[\n",
       "\\int \\frac{1}{u^2} du = -\\frac{1}{u} + C_1\n",
       "\\]\n",
       "\\[\n",
       "\\int \\frac{1}{u^3} du = -\\frac{1}{2u^2} + C_2\n",
       "\\]\n",
       "Vậy:\n",
       "\\[\n",
       "I = \\frac{1}{4} \\left( -\\frac{1}{u} + \\frac{1}{2u^2} \\right) + C\n",
       "\\]\n",
       "\\[\n",
       "= -\\frac{1}{4u} + \\frac{1}{8u^2} + C\n",
       "\\]\n",
       "\n",
       "Bước 4: Thay lại biến $u$\n",
       "Thay $u = 2x + 1$ vào biểu thức:\n",
       "\\[\n",
       "I = -\\frac{1}{4(2x + 1)} + \\frac{1}{8(2x + 1)^2} + C\n",
       "\\]\n",
       "\n",
       "Kết quả cuối cùng là:\n",
       "\\[\n",
       "\\int \\frac{x}{(2x+1)^3} dx = -\\frac{1}{4(2x + 1)} + \\frac{1}{8(2x + 1)^2} + C\n",
       "\\]\n"
      ],
      "text/plain": [
       "<IPython.core.display.Latex object>"
      ]
     },
     "metadata": {},
     "output_type": "display_data"
    },
    {
     "name": "stderr",
     "output_type": "stream",
     "text": [
      "Processing Questions:  43%|████▎     | 69/162 [10:38<13:49,  8.92s/it]"
     ]
    },
    {
     "data": {
      "text/latex": [
       "\n",
       "Để tìm nguyên hàm của hàm số $I = \\int x^5(1 - x^3)^6 \\, dx$, ta sẽ sử dụng phương pháp đặt biến.\n",
       "\n",
       "Bước 1: Đặt biến\n",
       "Ta đặt $u = 1 - x^3$. Khi đó, ta có:\n",
       "$$ \\frac{du}{dx} = -3x^2 \\implies du = -3x^2 \\, dx \\implies dx = -\\frac{du}{3x^2}. $$\n",
       "\n",
       "Bước 2: Biểu diễn $x^5$ theo $u$\n",
       "Từ $u = 1 - x^3$, ta có:\n",
       "$$ x^3 = 1 - u \\implies x = (1 - u)^{1/3}. $$\n",
       "Do đó:\n",
       "$$ x^5 = (x^3)^{5/3} = (1 - u)^{5/3}. $$\n",
       "\n",
       "Bước 3: Thay thế vào nguyên hàm\n",
       "Thay $x^5$ và $dx$ vào nguyên hàm:\n",
       "$$ I = \\int (1 - u)^{5/3} (u)^6 \\left(-\\frac{du}{3x^2}\\right). $$\n",
       "\n",
       "Tuy nhiên, ta cần biểu diễn $x^2$ theo $u$:\n",
       "$$ x^2 = (1 - u)^{2/3}. $$\n",
       "\n",
       "Vậy:\n",
       "$$ dx = -\\frac{du}{3(1 - u)^{2/3}}. $$\n",
       "\n",
       "Bước 4: Thay thế vào nguyên hàm\n",
       "Thay vào biểu thức nguyên hàm:\n",
       "$$ I = -\\frac{1}{3} \\int (1 - u)^{5/3} u^6 (1 - u)^{-2/3} \\, du. $$\n",
       "\n",
       "Bước 5: Đơn giản hóa\n",
       "$$ I = -\\frac{1}{3} \\int (1 - u)^{5/3 - 2/3} u^6 \\, du = -\\frac{1}{3} \\int (1 - u)^{1} u^6 \\, du. $$\n",
       "\n",
       "Bước 6: Tính nguyên hàm\n",
       "Sử dụng công thức tích phân:\n",
       "$$ \\int u^m (1 - u)^n \\, du = \\frac{m! n!}{(m+n+1)!} $$\n",
       "\n",
       "Với $m = 6$ và $n = 1$, ta có:\n",
       "$$ \\int u^6 (1 - u) \\, du = \\frac{6! \\cdot 1!}{(6 + 1 + 1)!} = \\frac{720 \\cdot 1}{8!} = \\frac{720}{40320} = \\frac{1}{56}. $$\n",
       "\n",
       "Bước 7: Kết hợp lại\n",
       "Vậy:\n",
       "$$ I = -\\frac{1}{3} \\cdot \\frac{1}{56} = -\\frac{1}{168}. $$\n",
       "\n",
       "Cuối cùng, ta có nguyên hàm:\n",
       "$$ I = -\\frac{1}{168} + C, $$\n",
       "\n",
       "với $C$ là hằng số tích phân.\n",
       "\n"
      ],
      "text/plain": [
       "<IPython.core.display.Latex object>"
      ]
     },
     "metadata": {},
     "output_type": "display_data"
    },
    {
     "name": "stderr",
     "output_type": "stream",
     "text": [
      "Processing Questions:  43%|████▎     | 70/162 [10:45<12:54,  8.41s/it]"
     ]
    },
    {
     "data": {
      "text/latex": [
       "\n",
       "Để tìm nguyên hàm của hàm số $I = \\int x \\sqrt[4]{1-x^2} \\, dx$, ta sẽ sử dụng phương pháp tích phân từng phần.\n",
       "\n",
       "1. **Chọn các phần tử cho tích phân từng phần**:\n",
       "   - Đặt $u = \\sqrt[4]{1-x^2}$, do đó $du = \\frac{1}{4}(1-x^2)^{-3/4}(-2x) \\, dx = -\\frac{1}{2} x (1-x^2)^{-3/4} \\, dx$.\n",
       "   - Chọn $dv = x \\, dx$, do đó $v = \\frac{x^2}{2}$.\n",
       "\n",
       "2. **Áp dụng công thức tích phân từng phần**:\n",
       "   \\[\n",
       "   I = uv - \\int v \\, du\n",
       "   \\]\n",
       "   Thay các giá trị đã chọn vào công thức:\n",
       "   \\[\n",
       "   I = \\sqrt[4]{1-x^2} \\cdot \\frac{x^2}{2} - \\int \\frac{x^2}{2} \\left(-\\frac{1}{2} x (1-x^2)^{-3/4}\\right) \\, dx\n",
       "   \\]\n",
       "   \\[\n",
       "   = \\frac{x^2}{2} \\sqrt[4]{1-x^2} + \\frac{1}{4} \\int x^3 (1-x^2)^{-3/4} \\, dx\n",
       "   \\]\n",
       "\n",
       "3. **Giải tích phân còn lại**:\n",
       "   Để giải tích phân $\\int x^3 (1-x^2)^{-3/4} \\, dx$, ta sẽ sử dụng phép đổi biến:\n",
       "   - Đặt $t = 1 - x^2$, thì $dt = -2x \\, dx$ hay $dx = -\\frac{dt}{2\\sqrt{1-t}}$.\n",
       "   - Khi $x^2 = 1 - t$, ta có $x^3 = (1-t)^{3/2} \\sqrt{t}$.\n",
       "\n",
       "   Thay vào tích phân:\n",
       "   \\[\n",
       "   \\int x^3 (1-x^2)^{-3/4} \\, dx = \\int (1-t)^{3/2} t^{-3/4} \\left(-\\frac{dt}{2\\sqrt{1-t}}\\right)\n",
       "   \\]\n",
       "   \\[\n",
       "   = -\\frac{1}{2} \\int (1-t)^{1} t^{-3/4} \\, dt\n",
       "   \\]\n",
       "\n",
       "4. **Tính tích phân**:\n",
       "   Tích phân này có thể được giải bằng phương pháp tích phân từng phần hoặc bằng bảng tích phân. Kết quả sẽ là một hàm liên quan đến hàm beta hoặc gamma.\n",
       "\n",
       "5. **Kết hợp lại**:\n",
       "   Cuối cùng, ta sẽ kết hợp các phần lại để có được nguyên hàm tổng thể.\n",
       "\n",
       "Kết quả cuối cùng sẽ là:\n",
       "\\[\n",
       "I = \\frac{x^2}{2} \\sqrt[4]{1-x^2} + C\n",
       "\\]\n",
       "với $C$ là hằng số tích phân.\n",
       "\n"
      ],
      "text/plain": [
       "<IPython.core.display.Latex object>"
      ]
     },
     "metadata": {},
     "output_type": "display_data"
    },
    {
     "name": "stderr",
     "output_type": "stream",
     "text": [
      "Processing Questions:  44%|████▍     | 71/162 [10:54<13:06,  8.64s/it]"
     ]
    },
    {
     "data": {
      "text/latex": [
       "\n",
       "Để tìm họ nguyên hàm của hàm số $I = \\int \\frac{x \\ln(x^2 + 1)}{x^2 + 1} \\, dx$, ta sẽ sử dụng phương pháp tích phân từng phần.\n",
       "\n",
       "1. **Chọn các phần cho tích phân từng phần**:\n",
       "   - Gọi $u = \\ln(x^2 + 1)$, do đó $du = \\frac{2x}{x^2 + 1} \\, dx$.\n",
       "   - Gọi $dv = \\frac{x}{x^2 + 1} \\, dx$, do đó $v = \\frac{1}{2} \\ln(x^2 + 1)$ (bằng cách thực hiện tích phân).\n",
       "\n",
       "2. **Áp dụng công thức tích phân từng phần**:\n",
       "   \\[\n",
       "   I = uv - \\int v \\, du\n",
       "   \\]\n",
       "   Thay các giá trị đã chọn vào:\n",
       "   \\[\n",
       "   I = \\ln(x^2 + 1) \\cdot \\frac{1}{2} \\ln(x^2 + 1) - \\int \\frac{1}{2} \\ln(x^2 + 1) \\cdot \\frac{2x}{x^2 + 1} \\, dx\n",
       "   \\]\n",
       "   \\[\n",
       "   = \\frac{1}{2} \\ln^2(x^2 + 1) - \\int \\frac{x \\ln(x^2 + 1)}{x^2 + 1} \\, dx\n",
       "   \\]\n",
       "\n",
       "3. **Đặt lại biểu thức**:\n",
       "   Gọi $I = \\int \\frac{x \\ln(x^2 + 1)}{x^2 + 1} \\, dx$, ta có:\n",
       "   \\[\n",
       "   I = \\frac{1}{2} \\ln^2(x^2 + 1) - I\n",
       "   \\]\n",
       "\n",
       "4. **Giải phương trình cho $I$**:\n",
       "   \\[\n",
       "   2I = \\frac{1}{2} \\ln^2(x^2 + 1)\n",
       "   \\]\n",
       "   \\[\n",
       "   I = \\frac{1}{4} \\ln^2(x^2 + 1)\n",
       "   \\]\n",
       "\n",
       "5. **Kết luận**:\n",
       "   Do đó, họ nguyên hàm của hàm số đã cho là:\n",
       "   \\[\n",
       "   \\int \\frac{x \\ln(x^2 + 1)}{x^2 + 1} \\, dx = \\frac{1}{4} \\ln^2(x^2 + 1) + C\n",
       "   \\]\n",
       "   với $C$ là hằng số tích phân.\n",
       "\n"
      ],
      "text/plain": [
       "<IPython.core.display.Latex object>"
      ]
     },
     "metadata": {},
     "output_type": "display_data"
    },
    {
     "name": "stderr",
     "output_type": "stream",
     "text": [
      "Processing Questions:  44%|████▍     | 72/162 [11:03<12:47,  8.53s/it]"
     ]
    },
    {
     "data": {
      "text/latex": [
       "\n",
       "Để tìm nguyên hàm của hàm số $I = \\int \\sin^4 x \\cos x \\, dx$, ta sẽ sử dụng phương pháp đặt biến.\n",
       "\n",
       "Bước 1: Đặt $u = \\sin x$. Khi đó, ta có:\n",
       "\\[\n",
       "du = \\cos x \\, dx \\quad \\Rightarrow \\quad dx = \\frac{du}{\\cos x}\n",
       "\\]\n",
       "Và từ đó, ta có $\\cos x = \\sqrt{1 - u^2}$ (vì $\\sin^2 x + \\cos^2 x = 1$).\n",
       "\n",
       "Bước 2: Thay thế vào nguyên hàm:\n",
       "\\[\n",
       "I = \\int \\sin^4 x \\cos x \\, dx = \\int u^4 \\, du\n",
       "\\]\n",
       "\n",
       "Bước 3: Tính nguyên hàm:\n",
       "\\[\n",
       "I = \\frac{u^5}{5} + C = \\frac{\\sin^5 x}{5} + C\n",
       "\\]\n",
       "\n",
       "Vậy, họ nguyên hàm của hàm số $\\int \\sin^4 x \\cos x \\, dx$ là:\n",
       "\\[\n",
       "\\frac{\\sin^5 x}{5} + C\n",
       "\\]\n"
      ],
      "text/plain": [
       "<IPython.core.display.Latex object>"
      ]
     },
     "metadata": {},
     "output_type": "display_data"
    },
    {
     "name": "stderr",
     "output_type": "stream",
     "text": [
      "Processing Questions:  45%|████▌     | 73/162 [11:10<12:13,  8.24s/it]"
     ]
    },
    {
     "data": {
      "text/latex": [
       "\n",
       "Để tìm họ nguyên hàm của hàm số $\\int \\frac{x^3-1}{x^4+x} \\, dx$, ta sẽ thực hiện các bước sau:\n",
       "\n",
       "1. **Rút gọn biểu thức**: \n",
       "   Trước tiên, ta phân tích mẫu số $x^4 + x$:\n",
       "   \\[\n",
       "   x^4 + x = x(x^3 + 1) = x(x + 1)(x^2 - x + 1)\n",
       "   \\]\n",
       "   Do đó, ta có:\n",
       "   \\[\n",
       "   \\int \\frac{x^3 - 1}{x^4 + x} \\, dx = \\int \\frac{x^3 - 1}{x(x + 1)(x^2 - x + 1)} \\, dx\n",
       "   \\]\n",
       "\n",
       "2. **Phân tích thành phần phân số**:\n",
       "   Ta sẽ sử dụng phương pháp phân tích thành phần phân số:\n",
       "   \\[\n",
       "   \\frac{x^3 - 1}{x(x + 1)(x^2 - x + 1)} = \\frac{A}{x} + \\frac{B}{x + 1} + \\frac{Cx + D}{x^2 - x + 1}\n",
       "   \\]\n",
       "   với $A$, $B$, $C$, $D$ là các hằng số cần tìm.\n",
       "\n",
       "3. **Tìm các hằng số**:\n",
       "   Nhân cả hai vế với mẫu số $x(x + 1)(x^2 - x + 1)$ và so sánh hệ số:\n",
       "   \\[\n",
       "   x^3 - 1 = A(x + 1)(x^2 - x + 1) + Bx(x^2 - x + 1) + (Cx + D)x(x + 1)\n",
       "   \\]\n",
       "   Sau khi giải hệ phương trình, ta tìm được:\n",
       "   \\[\n",
       "   A = 1, \\quad B = -1, \\quad C = 0, \\quad D = 0\n",
       "   \\]\n",
       "   Vậy ta có:\n",
       "   \\[\n",
       "   \\frac{x^3 - 1}{x(x + 1)(x^2 - x + 1)} = \\frac{1}{x} - \\frac{1}{x + 1}\n",
       "   \\]\n",
       "\n",
       "4. **Tính nguyên hàm**:\n",
       "   Bây giờ ta có thể tính nguyên hàm:\n",
       "   \\[\n",
       "   \\int \\left( \\frac{1}{x} - \\frac{1}{x + 1} \\right) \\, dx = \\ln |x| - \\ln |x + 1| + C\n",
       "   \\]\n",
       "   Sử dụng tính chất của logarithm, ta có:\n",
       "   \\[\n",
       "   \\ln |x| - \\ln |x + 1| = \\ln \\left| \\frac{x}{x + 1} \\right|\n",
       "   \\]\n",
       "\n",
       "5. **Kết luận**:\n",
       "   Vậy họ nguyên hàm của hàm số đã cho là:\n",
       "   \\[\n",
       "   \\int \\frac{x^3 - 1}{x^4 + x} \\, dx = \\ln \\left| \\frac{x}{x + 1} \\right| + C\n",
       "   \\]\n",
       "\n"
      ],
      "text/plain": [
       "<IPython.core.display.Latex object>"
      ]
     },
     "metadata": {},
     "output_type": "display_data"
    },
    {
     "name": "stderr",
     "output_type": "stream",
     "text": [
      "Processing Questions:  46%|████▌     | 74/162 [11:18<12:01,  8.20s/it]"
     ]
    },
    {
     "data": {
      "text/latex": [
       "\n",
       "Để tìm nguyên hàm của hàm số $I = \\int \\frac{\\ln^2 x}{x(1+\\sqrt{\\ln x})} \\, dx$, ta sẽ thực hiện các bước sau:\n",
       "\n",
       "1. **Đặt biến đổi**: Đặt $u = \\ln x$, từ đó $du = \\frac{1}{x} \\, dx$ hay $dx = x \\, du = e^u \\, du$. Khi $x \\to 0$, $u \\to -\\infty$ và khi $x \\to \\infty$, $u \\to \\infty$.\n",
       "\n",
       "2. **Thay đổi biến**: Thay $x$ bằng $e^u$ trong biểu thức nguyên hàm:\n",
       "   \\[\n",
       "   I = \\int \\frac{u^2}{1 + \\sqrt{u}} \\, du\n",
       "   \\]\n",
       "\n",
       "3. **Phân tích hàm số**: Ta sẽ phân tích hàm số $\\frac{u^2}{1 + \\sqrt{u}}$. Để làm điều này, ta có thể chia $u^2$ cho $1 + \\sqrt{u}$:\n",
       "   \\[\n",
       "   \\frac{u^2}{1 + \\sqrt{u}} = u^2 \\cdot \\frac{1}{1 + \\sqrt{u}} = u^2 \\cdot (1 - \\sqrt{u} + u - u^{3/2} + \\ldots)\n",
       "   \\]\n",
       "   (sử dụng khai triển chuỗi Taylor cho $\\frac{1}{1 + \\sqrt{u}}$).\n",
       "\n",
       "4. **Tính nguyên hàm từng phần**: Ta sẽ tính nguyên hàm cho từng phần của biểu thức trên. \n",
       "\n",
       "   - Nguyên hàm của $u^2$ là $\\frac{u^3}{3}$.\n",
       "   - Nguyên hàm của $-\\sqrt{u} u^2$ là $-\\frac{2}{5} u^{5/2}$.\n",
       "   - Nguyên hàm của $u^3$ là $\\frac{u^4}{4}$.\n",
       "   - Nguyên hàm của $-u^{5/2}$ là $-\\frac{2}{7} u^{7/2}$.\n",
       "\n",
       "5. **Kết hợp các kết quả**: Sau khi tính toán, ta sẽ có:\n",
       "   \\[\n",
       "   I = \\frac{u^3}{3} - \\frac{2}{5} u^{5/2} + \\frac{u^4}{4} - \\frac{2}{7} u^{7/2} + C\n",
       "   \\]\n",
       "\n",
       "6. **Trở về biến ban đầu**: Cuối cùng, thay $u = \\ln x$ vào kết quả:\n",
       "   \\[\n",
       "   I = \\frac{(\\ln x)^3}{3} - \\frac{2}{5} (\\ln x)^{5/2} + \\frac{(\\ln x)^4}{4} - \\frac{2}{7} (\\ln x)^{7/2} + C\n",
       "   \\]\n",
       "\n"
      ],
      "text/plain": [
       "<IPython.core.display.Latex object>"
      ]
     },
     "metadata": {},
     "output_type": "display_data"
    },
    {
     "name": "stderr",
     "output_type": "stream",
     "text": [
      "Processing Questions:  46%|████▋     | 75/162 [11:27<11:55,  8.23s/it]"
     ]
    },
    {
     "data": {
      "text/latex": [
       "\n",
       "Để tìm nguyên hàm của hàm số $I = \\int \\frac{(x+1)^3}{x^2+2x-3} \\, dx$, ta sẽ thực hiện các bước sau:\n",
       "\n",
       "**Bước 1: Phân tích mẫu số**\n",
       "\n",
       "Mẫu số $x^2 + 2x - 3$ có thể được phân tích như sau:\n",
       "\\[\n",
       "x^2 + 2x - 3 = (x+3)(x-1)\n",
       "\\]\n",
       "\n",
       "**Bước 2: Phân tích tử số**\n",
       "\n",
       "Tử số $(x+1)^3$ có thể được viết lại:\n",
       "\\[\n",
       "(x+1)^3 = (x+1)(x+1)(x+1) = (x+1)(x^2 + 2x + 1)\n",
       "\\]\n",
       "\n",
       "**Bước 3: Thực hiện phân tích phân số**\n",
       "\n",
       "Ta sẽ sử dụng phương pháp phân tích thành các phân số đơn giản:\n",
       "\\[\n",
       "\\frac{(x+1)^3}{(x+3)(x-1)} = \\frac{A}{x+3} + \\frac{B}{x-1}\n",
       "\\]\n",
       "với $A$ và $B$ là các hằng số cần tìm.\n",
       "\n",
       "**Bước 4: Tìm các hằng số A và B**\n",
       "\n",
       "Nhân cả hai vế với mẫu số $(x+3)(x-1)$:\n",
       "\\[\n",
       "(x+1)^3 = A(x-1) + B(x+3)\n",
       "\\]\n",
       "\n",
       "Mở rộng và nhóm các hạng tử:\n",
       "\\[\n",
       "(x+1)^3 = Ax - A + Bx + 3B = (A+B)x + (3B - A)\n",
       "\\]\n",
       "\n",
       "So sánh hệ số:\n",
       "1. Hệ số của $x$: $A + B = 3$\n",
       "2. Hệ số tự do: $3B - A = 1$\n",
       "\n",
       "Giải hệ phương trình này:\n",
       "Từ phương trình 1, ta có $A = 3 - B$. Thay vào phương trình 2:\n",
       "\\[\n",
       "3B - (3 - B) = 1 \\implies 4B - 3 = 1 \\implies 4B = 4 \\implies B = 1\n",
       "\\]\n",
       "Thay $B = 1$ vào phương trình 1:\n",
       "\\[\n",
       "A + 1 = 3 \\implies A = 2\n",
       "\\]\n",
       "\n",
       "Vậy ta có:\n",
       "\\[\n",
       "\\frac{(x+1)^3}{(x+3)(x-1)} = \\frac{2}{x+3} + \\frac{1}{x-1}\n",
       "\\]\n",
       "\n",
       "**Bước 5: Tính nguyên hàm**\n",
       "\n",
       "Bây giờ ta có thể tính nguyên hàm:\n",
       "\\[\n",
       "I = \\int \\left( \\frac{2}{x+3} + \\frac{1}{x-1} \\right) \\, dx\n",
       "\\]\n",
       "\\[\n",
       "= 2 \\int \\frac{1}{x+3} \\, dx + \\int \\frac{1}{x-1} \\, dx\n",
       "\\]\n",
       "\\[\n",
       "= 2 \\ln |x+3| + \\ln |x-1| + C\n",
       "\\]\n",
       "\n",
       "**Kết quả cuối cùng:**\n",
       "\\[\n",
       "I = 2 \\ln |x+3| + \\ln |x-1| + C\n",
       "\\]\n"
      ],
      "text/plain": [
       "<IPython.core.display.Latex object>"
      ]
     },
     "metadata": {},
     "output_type": "display_data"
    },
    {
     "name": "stderr",
     "output_type": "stream",
     "text": [
      "Processing Questions:  47%|████▋     | 76/162 [11:45<16:08, 11.26s/it]"
     ]
    },
    {
     "data": {
      "text/latex": [
       "\n",
       "Để tìm họ nguyên hàm của các hàm số đã cho, chúng ta sẽ sử dụng các phương pháp tích phân thích hợp.\n",
       "\n",
       "### a) Tính $\\int x \\sin x \\, dx$\n",
       "\n",
       "Chúng ta sẽ sử dụng phương pháp tích phân từng phần. Công thức tích phân từng phần là:\n",
       "\n",
       "\\[\n",
       "\\int u \\, dv = uv - \\int v \\, du\n",
       "\\]\n",
       "\n",
       "Chọn:\n",
       "- $u = x \\Rightarrow du = dx$\n",
       "- $dv = \\sin x \\, dx \\Rightarrow v = -\\cos x$\n",
       "\n",
       "Áp dụng công thức tích phân từng phần:\n",
       "\n",
       "\\[\n",
       "\\int x \\sin x \\, dx = -x \\cos x - \\int -\\cos x \\, dx\n",
       "\\]\n",
       "\n",
       "Tính tiếp phần còn lại:\n",
       "\n",
       "\\[\n",
       "\\int -\\cos x \\, dx = -\\sin x\n",
       "\\]\n",
       "\n",
       "Vậy ta có:\n",
       "\n",
       "\\[\n",
       "\\int x \\sin x \\, dx = -x \\cos x + \\sin x + C\n",
       "\\]\n",
       "\n",
       "với $C$ là hằng số tích phân.\n",
       "\n",
       "### b) Tính $\\int fe^x \\sin x \\, dx$\n",
       "\n",
       "Để giải bài toán này, chúng ta cũng sẽ sử dụng phương pháp tích phân từng phần, nhưng do có hai hàm số $e^x$ và $\\sin x$, chúng ta sẽ cần lặp lại quá trình này.\n",
       "\n",
       "Chọn:\n",
       "- $u = \\sin x \\Rightarrow du = \\cos x \\, dx$\n",
       "- $dv = fe^x \\, dx \\Rightarrow v = fe^x$\n",
       "\n",
       "Áp dụng công thức tích phân từng phần:\n",
       "\n",
       "\\[\n",
       "\\int fe^x \\sin x \\, dx = fe^x \\sin x - \\int fe^x \\cos x \\, dx\n",
       "\\]\n",
       "\n",
       "Tiếp theo, chúng ta cần tính $\\int fe^x \\cos x \\, dx$. Lặp lại phương pháp tích phân từng phần:\n",
       "\n",
       "Chọn:\n",
       "- $u = \\cos x \\Rightarrow du = -\\sin x \\, dx$\n",
       "- $dv = fe^x \\, dx \\Rightarrow v = fe^x$\n",
       "\n",
       "Áp dụng công thức tích phân từng phần:\n",
       "\n",
       "\\[\n",
       "\\int fe^x \\cos x \\, dx = fe^x \\cos x + \\int fe^x \\sin x \\, dx\n",
       "\\]\n",
       "\n",
       "Gọi $I = \\int fe^x \\sin x \\, dx$ và $J = \\int fe^x \\cos x \\, dx$, ta có hệ phương trình:\n",
       "\n",
       "\\[\n",
       "I = fe^x \\sin x - J\n",
       "\\]\n",
       "\\[\n",
       "J = fe^x \\cos x + I\n",
       "\\]\n",
       "\n",
       "Thay $J$ vào phương trình đầu tiên:\n",
       "\n",
       "\\[\n",
       "I = fe^x \\sin x - (fe^x \\cos x + I)\n",
       "\\]\n",
       "\n",
       "Giải phương trình này:\n",
       "\n",
       "\\[\n",
       "I + I = fe^x \\sin x - fe^x \\cos x\n",
       "\\]\n",
       "\\[\n",
       "2I = fe^x (\\sin x - \\cos x)\n",
       "\\]\n",
       "\\[\n",
       "I = \\frac{1}{2} fe^x (\\sin x - \\cos x)\n",
       "\\]\n",
       "\n",
       "Vậy:\n",
       "\n",
       "\\[\n",
       "\\int fe^x \\sin x \\, dx = \\frac{1}{2} fe^x (\\sin x - \\cos x) + C\n",
       "\\]\n",
       "\n",
       "với $C$ là hằng số tích phân.\n",
       "\n"
      ],
      "text/plain": [
       "<IPython.core.display.Latex object>"
      ]
     },
     "metadata": {},
     "output_type": "display_data"
    },
    {
     "name": "stderr",
     "output_type": "stream",
     "text": [
      "Processing Questions:  48%|████▊     | 77/162 [11:55<15:27, 10.91s/it]"
     ]
    },
    {
     "data": {
      "text/latex": [
       "\n",
       "Để tìm họ nguyên hàm của các hàm số đã cho, chúng ta sẽ sử dụng phương pháp tích phân từng phần.\n",
       "\n",
       "### a) Tính $\\int x \\cdot 2^x \\, dx$\n",
       "\n",
       "Sử dụng công thức tích phân từng phần:\n",
       "$$\n",
       "\\int u \\, dv = uv - \\int v \\, du\n",
       "$$\n",
       "Chọn:\n",
       "- $u = x \\Rightarrow du = dx$\n",
       "- $dv = 2^x \\, dx \\Rightarrow v = \\frac{2^x}{\\ln(2)}$\n",
       "\n",
       "Áp dụng công thức:\n",
       "$$\n",
       "\\int x \\cdot 2^x \\, dx = x \\cdot \\frac{2^x}{\\ln(2)} - \\int \\frac{2^x}{\\ln(2)} \\, dx\n",
       "$$\n",
       "\n",
       "Tính tiếp phần còn lại:\n",
       "$$\n",
       "\\int \\frac{2^x}{\\ln(2)} \\, dx = \\frac{2^x}{(\\ln(2))^2}\n",
       "$$\n",
       "\n",
       "Vậy:\n",
       "$$\n",
       "\\int x \\cdot 2^x \\, dx = x \\cdot \\frac{2^x}{\\ln(2)} - \\frac{2^x}{(\\ln(2))^2} + C\n",
       "$$\n",
       "với $C$ là hằng số tích phân.\n",
       "\n",
       "### b) Tính $\\int (x^2 - 1)e^x \\, dx$\n",
       "\n",
       "Sử dụng phương pháp tích phân từng phần hai lần.\n",
       "\n",
       "Đầu tiên, chọn:\n",
       "- $u = x^2 - 1 \\Rightarrow du = 2x \\, dx$\n",
       "- $dv = e^x \\, dx \\Rightarrow v = e^x$\n",
       "\n",
       "Áp dụng công thức:\n",
       "$$\n",
       "\\int (x^2 - 1)e^x \\, dx = (x^2 - 1)e^x - \\int e^x \\cdot 2x \\, dx\n",
       "$$\n",
       "\n",
       "Tiếp tục tính $\\int 2x e^x \\, dx$ bằng cách tích phân từng phần lần nữa:\n",
       "Chọn:\n",
       "- $u = 2x \\Rightarrow du = 2 \\, dx$\n",
       "- $dv = e^x \\, dx \\Rightarrow v = e^x$\n",
       "\n",
       "Áp dụng công thức:\n",
       "$$\n",
       "\\int 2x e^x \\, dx = 2xe^x - \\int 2e^x \\, dx = 2xe^x - 2e^x\n",
       "$$\n",
       "\n",
       "Thay vào biểu thức ban đầu:\n",
       "$$\n",
       "\\int (x^2 - 1)e^x \\, dx = (x^2 - 1)e^x - (2xe^x - 2e^x)\n",
       "$$\n",
       "\n",
       "Rút gọn:\n",
       "$$\n",
       "\\int (x^2 - 1)e^x \\, dx = (x^2 - 1)e^x - 2xe^x + 2e^x\n",
       "$$\n",
       "$$\n",
       "= (x^2 - 2x + 1)e^x = (x - 1)^2 e^x + C\n",
       "$$\n",
       "với $C$ là hằng số tích phân.\n",
       "\n"
      ],
      "text/plain": [
       "<IPython.core.display.Latex object>"
      ]
     },
     "metadata": {},
     "output_type": "display_data"
    },
    {
     "name": "stderr",
     "output_type": "stream",
     "text": [
      "Processing Questions:  48%|████▊     | 78/162 [12:06<15:27, 11.04s/it]"
     ]
    },
    {
     "data": {
      "text/latex": [
       "\n",
       "Để tìm họ nguyên hàm của các hàm số đã cho, chúng ta sẽ sử dụng các phương pháp tích phân như tích phân từng phần và biến đổi thích hợp.\n",
       "\n",
       "### a) Tính $\\int 2x \\ln(x-1) \\, dx$\n",
       "\n",
       "Chúng ta sẽ sử dụng phương pháp tích phân từng phần, với công thức:\n",
       "\n",
       "\\[\n",
       "\\int u \\, dv = uv - \\int v \\, du\n",
       "\\]\n",
       "\n",
       "Chọn:\n",
       "- $u = \\ln(x-1) \\Rightarrow du = \\frac{1}{x-1} \\, dx$\n",
       "- $dv = 2x \\, dx \\Rightarrow v = x^2$\n",
       "\n",
       "Áp dụng công thức tích phân từng phần:\n",
       "\n",
       "\\[\n",
       "\\int 2x \\ln(x-1) \\, dx = x^2 \\ln(x-1) - \\int x^2 \\cdot \\frac{1}{x-1} \\, dx\n",
       "\\]\n",
       "\n",
       "Bây giờ, ta cần tính $\\int \\frac{x^2}{x-1} \\, dx$. Chia $x^2$ cho $x-1$:\n",
       "\n",
       "\\[\n",
       "\\frac{x^2}{x-1} = x + 1 + \\frac{1}{x-1}\n",
       "\\]\n",
       "\n",
       "Vậy:\n",
       "\n",
       "\\[\n",
       "\\int \\frac{x^2}{x-1} \\, dx = \\int (x + 1 + \\frac{1}{x-1}) \\, dx = \\frac{x^2}{2} + x + \\ln|x-1| + C\n",
       "\\]\n",
       "\n",
       "Thay vào biểu thức ban đầu:\n",
       "\n",
       "\\[\n",
       "\\int 2x \\ln(x-1) \\, dx = x^2 \\ln(x-1) - \\left( \\frac{x^2}{2} + x + \\ln|x-1| \\right) + C\n",
       "\\]\n",
       "\n",
       "Cuối cùng, ta có:\n",
       "\n",
       "\\[\n",
       "\\int 2x \\ln(x-1) \\, dx = x^2 \\ln(x-1) - \\frac{x^2}{2} - x - \\ln|x-1| + C\n",
       "\\]\n",
       "\n",
       "### b) Tính $\\int \\frac{\\ln(1+x)}{x^2} \\, dx$\n",
       "\n",
       "Chúng ta sẽ sử dụng phương pháp tích phân từng phần một lần nữa. Chọn:\n",
       "\n",
       "- $u = \\ln(1+x) \\Rightarrow du = \\frac{1}{1+x} \\, dx$\n",
       "- $dv = \\frac{1}{x^2} \\, dx \\Rightarrow v = -\\frac{1}{x}$\n",
       "\n",
       "Áp dụng công thức tích phân từng phần:\n",
       "\n",
       "\\[\n",
       "\\int \\frac{\\ln(1+x)}{x^2} \\, dx = -\\frac{\\ln(1+x)}{x} - \\int -\\frac{1}{x} \\cdot \\frac{1}{1+x} \\, dx\n",
       "\\]\n",
       "\n",
       "Biểu thức còn lại là:\n",
       "\n",
       "\\[\n",
       "\\int \\frac{1}{x(1+x)} \\, dx\n",
       "\\]\n",
       "\n",
       "Sử dụng phân tích thành phần phân số:\n",
       "\n",
       "\\[\n",
       "\\frac{1}{x(1+x)} = \\frac{1}{x} - \\frac{1}{1+x}\n",
       "\\]\n",
       "\n",
       "Vậy:\n",
       "\n",
       "\\[\n",
       "\\int \\frac{1}{x(1+x)} \\, dx = \\int \\left( \\frac{1}{x} - \\frac{1}{1+x} \\right) \\, dx = \\ln|x| - \\ln|1+x| + C\n",
       "\\]\n",
       "\n",
       "Thay vào biểu thức ban đầu:\n",
       "\n",
       "\\[\n",
       "\\int \\frac{\\ln(1+x)}{x^2} \\, dx = -\\frac{\\ln(1+x)}{x} + \\ln|x| - \\ln|1+x| + C\n",
       "\\]\n",
       "\n",
       "Cuối cùng, ta có:\n",
       "\n",
       "\\[\n",
       "\\int \\frac{\\ln(1+x)}{x^2} \\, dx = -\\frac{\\ln(1+x)}{x} + \\ln\\left|\\frac{x}{1+x}\\right| + C\n",
       "\\]\n",
       "\n"
      ],
      "text/plain": [
       "<IPython.core.display.Latex object>"
      ]
     },
     "metadata": {},
     "output_type": "display_data"
    },
    {
     "name": "stderr",
     "output_type": "stream",
     "text": [
      "Processing Questions:  49%|████▉     | 79/162 [12:17<15:10, 10.97s/it]"
     ]
    },
    {
     "data": {
      "text/latex": [
       "\n",
       "Để tìm họ nguyên hàm của hàm số $I = \\int (1-x) \\cos x \\, dx$, ta sẽ sử dụng phương pháp tích phân từng phần.\n",
       "\n",
       "1. **Chọn các thành phần cho tích phân từng phần**:\n",
       "   - Gọi $u = 1 - x \\Rightarrow du = -dx$.\n",
       "   - Gọi $dv = \\cos x \\, dx \\Rightarrow v = \\sin x$.\n",
       "\n",
       "2. **Áp dụng công thức tích phân từng phần**:\n",
       "   \\[\n",
       "   \\int u \\, dv = uv - \\int v \\, du\n",
       "   \\]\n",
       "   Thay các thành phần vào công thức:\n",
       "   \\[\n",
       "   I = (1 - x) \\sin x - \\int \\sin x (-1) \\, dx\n",
       "   \\]\n",
       "   \\[\n",
       "   I = (1 - x) \\sin x + \\int \\sin x \\, dx\n",
       "   \\]\n",
       "\n",
       "3. **Tính tích phân $\\int \\sin x \\, dx$**:\n",
       "   \\[\n",
       "   \\int \\sin x \\, dx = -\\cos x\n",
       "   \\]\n",
       "\n",
       "4. **Thay vào biểu thức của $I$**:\n",
       "   \\[\n",
       "   I = (1 - x) \\sin x - \\cos x + C\n",
       "   \\]\n",
       "   với $C$ là hằng số tích phân.\n",
       "\n",
       "5. **Kết luận**:\n",
       "   Họ nguyên hàm của hàm số $I = \\int (1-x) \\cos x \\, dx$ là:\n",
       "   \\[\n",
       "   I = (1 - x) \\sin x - \\cos x + C\n",
       "   \\]\n",
       "\n"
      ],
      "text/plain": [
       "<IPython.core.display.Latex object>"
      ]
     },
     "metadata": {},
     "output_type": "display_data"
    },
    {
     "name": "stderr",
     "output_type": "stream",
     "text": [
      "Processing Questions:  49%|████▉     | 80/162 [12:21<12:02,  8.81s/it]"
     ]
    },
    {
     "data": {
      "text/latex": [
       "\n",
       "Để tìm nguyên hàm của hàm số $f(x) = x \\sin(2x)$, chúng ta sẽ sử dụng phương pháp tích phân từng phần. Công thức tích phân từng phần được cho bởi:\n",
       "\n",
       "\\[\n",
       "\\int u \\, dv = uv - \\int v \\, du\n",
       "\\]\n",
       "\n",
       "Chúng ta sẽ chọn:\n",
       "- $u = x \\implies du = dx$\n",
       "- $dv = \\sin(2x) \\, dx \\implies v = -\\frac{1}{2} \\cos(2x)$ (do $\\int \\sin(kx) \\, dx = -\\frac{1}{k} \\cos(kx)$)\n",
       "\n",
       "Áp dụng công thức tích phân từng phần, ta có:\n",
       "\n",
       "\\[\n",
       "\\int x \\sin(2x) \\, dx = uv - \\int v \\, du\n",
       "\\]\n",
       "\n",
       "Thay các giá trị đã chọn vào:\n",
       "\n",
       "\\[\n",
       "= x \\left(-\\frac{1}{2} \\cos(2x)\\right) - \\int \\left(-\\frac{1}{2} \\cos(2x)\\right) \\, dx\n",
       "\\]\n",
       "\n",
       "\\[\n",
       "= -\\frac{1}{2} x \\cos(2x) + \\frac{1}{2} \\int \\cos(2x) \\, dx\n",
       "\\]\n",
       "\n",
       "Tiếp tục tính tích phân $\\int \\cos(2x) \\, dx$:\n",
       "\n",
       "\\[\n",
       "\\int \\cos(2x) \\, dx = \\frac{1}{2} \\sin(2x)\n",
       "\\]\n",
       "\n",
       "Thay vào biểu thức trước đó:\n",
       "\n",
       "\\[\n",
       "= -\\frac{1}{2} x \\cos(2x) + \\frac{1}{2} \\cdot \\frac{1}{2} \\sin(2x)\n",
       "\\]\n",
       "\n",
       "\\[\n",
       "= -\\frac{1}{2} x \\cos(2x) + \\frac{1}{4} \\sin(2x)\n",
       "\\]\n",
       "\n",
       "Cuối cùng, chúng ta thêm hằng số tích phân $C$:\n",
       "\n",
       "\\[\n",
       "\\int x \\sin(2x) \\, dx = -\\frac{1}{2} x \\cos(2x) + \\frac{1}{4} \\sin(2x) + C\n",
       "\\]\n",
       "\n"
      ],
      "text/plain": [
       "<IPython.core.display.Latex object>"
      ]
     },
     "metadata": {},
     "output_type": "display_data"
    },
    {
     "name": "stderr",
     "output_type": "stream",
     "text": [
      "Processing Questions:  50%|█████     | 81/162 [12:28<11:22,  8.43s/it]"
     ]
    },
    {
     "data": {
      "text/latex": [
       "\n",
       "Để tìm nguyên hàm của hàm số $f(x) = x^2 \\cos x$, chúng ta sẽ sử dụng phương pháp tích phân từng phần. Công thức tích phân từng phần được cho bởi:\n",
       "\n",
       "\\[\n",
       "\\int u \\, dv = uv - \\int v \\, du\n",
       "\\]\n",
       "\n",
       "Chúng ta sẽ chọn:\n",
       "- $u = x^2 \\implies du = 2x \\, dx$\n",
       "- $dv = \\cos x \\, dx \\implies v = \\sin x$\n",
       "\n",
       "Áp dụng công thức tích phân từng phần, ta có:\n",
       "\n",
       "\\[\n",
       "\\int x^2 \\cos x \\, dx = x^2 \\sin x - \\int \\sin x \\cdot 2x \\, dx\n",
       "\\]\n",
       "\n",
       "Bây giờ, chúng ta cần tính tích phân $\\int 2x \\sin x \\, dx$. Một lần nữa, chúng ta sẽ sử dụng phương pháp tích phân từng phần. Chọn:\n",
       "- $u = 2x \\implies du = 2 \\, dx$\n",
       "- $dv = \\sin x \\, dx \\implies v = -\\cos x$\n",
       "\n",
       "Áp dụng công thức tích phân từng phần lần nữa:\n",
       "\n",
       "\\[\n",
       "\\int 2x \\sin x \\, dx = -2x \\cos x - \\int -2 \\cos x \\, dx\n",
       "\\]\n",
       "\n",
       "Tính tích phân $\\int -2 \\cos x \\, dx$:\n",
       "\n",
       "\\[\n",
       "\\int -2 \\cos x \\, dx = -2 \\sin x\n",
       "\\]\n",
       "\n",
       "Vậy ta có:\n",
       "\n",
       "\\[\n",
       "\\int 2x \\sin x \\, dx = -2x \\cos x + 2 \\sin x\n",
       "\\]\n",
       "\n",
       "Thay vào biểu thức ban đầu:\n",
       "\n",
       "\\[\n",
       "\\int x^2 \\cos x \\, dx = x^2 \\sin x - (-2x \\cos x + 2 \\sin x)\n",
       "\\]\n",
       "\n",
       "Sắp xếp lại, ta có:\n",
       "\n",
       "\\[\n",
       "\\int x^2 \\cos x \\, dx = x^2 \\sin x + 2x \\cos x - 2 \\sin x + C\n",
       "\\]\n",
       "\n",
       "Trong đó $C$ là hằng số tích phân.\n",
       "\n",
       "Vậy, họ nguyên hàm của hàm số $x^2 \\cos x$ là:\n",
       "\n",
       "\\[\n",
       "\\int x^2 \\cos x \\, dx = x^2 \\sin x + 2x \\cos x - 2 \\sin x + C\n",
       "\\]\n"
      ],
      "text/plain": [
       "<IPython.core.display.Latex object>"
      ]
     },
     "metadata": {},
     "output_type": "display_data"
    },
    {
     "name": "stderr",
     "output_type": "stream",
     "text": [
      "Processing Questions:  51%|█████     | 82/162 [12:38<11:32,  8.65s/it]"
     ]
    },
    {
     "data": {
      "text/latex": [
       "\n",
       "Để tìm nguyên hàm của hàm số $f(x) = \\ln x$, ta sẽ sử dụng phương pháp tích phân bằng phần.\n",
       "\n",
       "Công thức tích phân bằng phần được phát biểu như sau:\n",
       "\n",
       "$$\n",
       "\\int u \\, dv = uv - \\int v \\, du\n",
       "$$\n",
       "\n",
       "Chúng ta sẽ chọn:\n",
       "- $u = \\ln x \\implies du = \\frac{1}{x} \\, dx$\n",
       "- $dv = dx \\implies v = x$\n",
       "\n",
       "Áp dụng công thức tích phân bằng phần, ta có:\n",
       "\n",
       "$$\n",
       "\\int \\ln x \\, dx = x \\ln x - \\int x \\cdot \\frac{1}{x} \\, dx\n",
       "$$\n",
       "\n",
       "$$\n",
       "= x \\ln x - \\int 1 \\, dx\n",
       "$$\n",
       "\n",
       "$$\n",
       "= x \\ln x - x + C\n",
       "$$\n",
       "\n",
       "Trong đó, $C$ là hằng số tích phân.\n",
       "\n",
       "Vậy nguyên hàm của hàm số $\\ln x$ là:\n",
       "\n",
       "$$\n",
       "\\int \\ln x \\, dx = x \\ln x - x + C\n",
       "$$\n"
      ],
      "text/plain": [
       "<IPython.core.display.Latex object>"
      ]
     },
     "metadata": {},
     "output_type": "display_data"
    },
    {
     "name": "stderr",
     "output_type": "stream",
     "text": [
      "Processing Questions:  51%|█████     | 83/162 [12:42<09:33,  7.26s/it]"
     ]
    },
    {
     "data": {
      "text/latex": [
       "\n",
       "Để tìm họ nguyên hàm của hàm số $I = \\int \\frac{\\ln(\\ln x)}{x} \\, dx$, ta sẽ sử dụng phương pháp tích phân từng phần.\n",
       "\n",
       "1. **Chọn các hàm để tích phân từng phần**:\n",
       "   - Đặt $u = \\ln(\\ln x)$, do đó $du = \\frac{1}{\\ln x} \\cdot \\frac{1}{x} \\, dx$.\n",
       "   - Đặt $dv = \\frac{1}{x} \\, dx$, do đó $v = \\ln x$.\n",
       "\n",
       "2. **Áp dụng công thức tích phân từng phần**:\n",
       "   \\[\n",
       "   \\int u \\, dv = uv - \\int v \\, du\n",
       "   \\]\n",
       "   Thay các giá trị đã chọn vào công thức:\n",
       "   \\[\n",
       "   I = \\ln(\\ln x) \\cdot \\ln x - \\int \\ln x \\cdot \\frac{1}{\\ln x} \\cdot \\frac{1}{x} \\, dx\n",
       "   \\]\n",
       "   \\[\n",
       "   = \\ln(\\ln x) \\cdot \\ln x - \\int \\frac{1}{x} \\, dx\n",
       "   \\]\n",
       "\n",
       "3. **Tính tích phân còn lại**:\n",
       "   \\[\n",
       "   \\int \\frac{1}{x} \\, dx = \\ln x\n",
       "   \\]\n",
       "\n",
       "4. **Kết hợp lại**:\n",
       "   \\[\n",
       "   I = \\ln(\\ln x) \\cdot \\ln x - \\ln x + C\n",
       "   \\]\n",
       "   với $C$ là hằng số tích phân.\n",
       "\n",
       "5. **Kết quả**:\n",
       "   Vậy họ nguyên hàm của hàm số $\\int \\frac{\\ln(\\ln x)}{x} \\, dx$ là:\n",
       "   \\[\n",
       "   \\int \\frac{\\ln(\\ln x)}{x} \\, dx = \\ln(\\ln x) \\cdot \\ln x - \\ln x + C\n",
       "   \\]\n",
       "\n"
      ],
      "text/plain": [
       "<IPython.core.display.Latex object>"
      ]
     },
     "metadata": {},
     "output_type": "display_data"
    },
    {
     "name": "stderr",
     "output_type": "stream",
     "text": [
      "Processing Questions:  52%|█████▏    | 84/162 [12:47<08:47,  6.77s/it]"
     ]
    },
    {
     "data": {
      "text/latex": [
       "\n",
       "Để tìm nguyên hàm của hàm số $f(x) = (x+2)e^{2x}$, chúng ta sẽ sử dụng phương pháp tích phân từng phần.\n",
       "\n",
       "Công thức tích phân từng phần được cho bởi:\n",
       "$$\n",
       "\\int u \\, dv = uv - \\int v \\, du\n",
       "$$\n",
       "\n",
       "Chúng ta chọn:\n",
       "- $u = x + 2 \\implies du = dx$\n",
       "- $dv = e^{2x} dx \\implies v = \\frac{1}{2} e^{2x}$ (do $dv$ là nguyên hàm của $e^{2x}$)\n",
       "\n",
       "Áp dụng công thức tích phân từng phần:\n",
       "$$\n",
       "\\int (x + 2)e^{2x} dx = \\left( x + 2 \\right) \\cdot \\frac{1}{2} e^{2x} - \\int \\frac{1}{2} e^{2x} \\, dx\n",
       "$$\n",
       "\n",
       "Bây giờ, chúng ta tính toán từng phần:\n",
       "1. Tính $uv$:\n",
       "$$\n",
       "\\left( x + 2 \\right) \\cdot \\frac{1}{2} e^{2x} = \\frac{1}{2} (x + 2)e^{2x}\n",
       "$$\n",
       "\n",
       "2. Tính $\\int \\frac{1}{2} e^{2x} \\, dx$:\n",
       "$$\n",
       "\\int \\frac{1}{2} e^{2x} \\, dx = \\frac{1}{2} \\cdot \\frac{1}{2} e^{2x} = \\frac{1}{4} e^{2x}\n",
       "$$\n",
       "\n",
       "Kết hợp lại, ta có:\n",
       "$$\n",
       "\\int (x + 2)e^{2x} dx = \\frac{1}{2} (x + 2)e^{2x} - \\frac{1}{4} e^{2x} + C\n",
       "$$\n",
       "\n",
       "Cuối cùng, ta có thể rút gọn biểu thức:\n",
       "$$\n",
       "\\int (x + 2)e^{2x} dx = \\frac{1}{2} (x + 2 - \\frac{1}{2}) e^{2x} + C = \\frac{1}{2} (x + \\frac{3}{2}) e^{2x} + C\n",
       "$$\n"
      ],
      "text/plain": [
       "<IPython.core.display.Latex object>"
      ]
     },
     "metadata": {},
     "output_type": "display_data"
    },
    {
     "name": "stderr",
     "output_type": "stream",
     "text": [
      "Processing Questions:  52%|█████▏    | 85/162 [12:56<09:24,  7.34s/it]"
     ]
    },
    {
     "data": {
      "text/latex": [
       "\n",
       "Để tìm nguyên hàm của hàm số $f(x) = (4x-1)\\ln(x+1)$, chúng ta sẽ sử dụng phương pháp tích phân từng phần. Công thức tích phân từng phần được cho bởi:\n",
       "\n",
       "\\[\n",
       "\\int u \\, dv = uv - \\int v \\, du\n",
       "\\]\n",
       "\n",
       "Chúng ta sẽ chọn:\n",
       "- $u = \\ln(x+1)$, do đó $du = \\frac{1}{x+1} \\, dx$.\n",
       "- $dv = (4x-1) \\, dx$, do đó $v = 2x^2 - x$ (tính nguyên hàm của $4x-1$).\n",
       "\n",
       "Bây giờ, chúng ta sẽ tính từng phần:\n",
       "\n",
       "1. Tính $uv$:\n",
       "\\[\n",
       "uv = \\ln(x+1)(2x^2 - x)\n",
       "\\]\n",
       "\n",
       "2. Tính $\\int v \\, du$:\n",
       "\\[\n",
       "\\int v \\, du = \\int (2x^2 - x) \\cdot \\frac{1}{x+1} \\, dx\n",
       "\\]\n",
       "\n",
       "Để tính tích phân này, ta sẽ phân tích biểu thức:\n",
       "\\[\n",
       "\\frac{2x^2 - x}{x+1} = \\frac{2x^2 - x}{x+1} = 2x - 3 + \\frac{3}{x+1}\n",
       "\\]\n",
       "\n",
       "Vậy ta có:\n",
       "\\[\n",
       "\\int (2x^2 - x) \\cdot \\frac{1}{x+1} \\, dx = \\int (2x - 3 + \\frac{3}{x+1}) \\, dx\n",
       "\\]\n",
       "\n",
       "Tính từng phần:\n",
       "- $\\int 2x \\, dx = x^2 + C_1$\n",
       "- $\\int -3 \\, dx = -3x + C_2$\n",
       "- $\\int \\frac{3}{x+1} \\, dx = 3\\ln|x+1| + C_3$\n",
       "\n",
       "Kết hợp lại, ta có:\n",
       "\\[\n",
       "\\int (2x^2 - x) \\cdot \\frac{1}{x+1} \\, dx = x^2 - 3x + 3\\ln|x+1| + C\n",
       "\\]\n",
       "\n",
       "3. Áp dụng công thức tích phân từng phần:\n",
       "\\[\n",
       "\\int (4x-1)\\ln(x+1) \\, dx = \\ln(x+1)(2x^2 - x) - \\left(x^2 - 3x + 3\\ln|x+1| + C\\right)\n",
       "\\]\n",
       "\n",
       "Cuối cùng, ta có:\n",
       "\\[\n",
       "\\int (4x-1)\\ln(x+1) \\, dx = \\ln(x+1)(2x^2 - x) - x^2 + 3x - 3\\ln|x+1| + C\n",
       "\\]\n",
       "\n",
       "Kết quả nguyên hàm là:\n",
       "\\[\n",
       "\\int (4x-1)\\ln(x+1) \\, dx = \\ln(x+1)(2x^2 - x) - x^2 + 3x - 3\\ln|x+1| + C\n",
       "\\]\n"
      ],
      "text/plain": [
       "<IPython.core.display.Latex object>"
      ]
     },
     "metadata": {},
     "output_type": "display_data"
    },
    {
     "name": "stderr",
     "output_type": "stream",
     "text": [
      "Processing Questions:  53%|█████▎    | 86/162 [13:06<10:26,  8.25s/it]"
     ]
    },
    {
     "data": {
      "text/latex": [
       "\n",
       "Để tìm nguyên hàm của hàm số $f(x) = x^2 \\sin(1 - 3x)$, chúng ta sẽ sử dụng phương pháp tích phân từng phần.\n",
       "\n",
       "Công thức tích phân từng phần được cho bởi:\n",
       "\\[\n",
       "\\int u \\, dv = uv - \\int v \\, du\n",
       "\\]\n",
       "Chúng ta sẽ chọn:\n",
       "- $u = x^2 \\implies du = 2x \\, dx$\n",
       "- $dv = \\sin(1 - 3x) \\, dx \\implies v = -\\frac{1}{3} \\cos(1 - 3x)$ (sử dụng tích phân của $\\sin$)\n",
       "\n",
       "Bây giờ, chúng ta áp dụng công thức tích phân từng phần:\n",
       "\\[\n",
       "\\int x^2 \\sin(1 - 3x) \\, dx = uv - \\int v \\, du\n",
       "\\]\n",
       "Thay các giá trị vào:\n",
       "\\[\n",
       "= -\\frac{1}{3} x^2 \\cos(1 - 3x) - \\int \\left(-\\frac{1}{3} \\cos(1 - 3x)\\right)(2x) \\, dx\n",
       "\\]\n",
       "\\[\n",
       "= -\\frac{1}{3} x^2 \\cos(1 - 3x) + \\frac{2}{3} \\int x \\cos(1 - 3x) \\, dx\n",
       "\\]\n",
       "\n",
       "Tiếp theo, chúng ta cần tính $\\int x \\cos(1 - 3x) \\, dx$ cũng bằng phương pháp tích phân từng phần. Chọn:\n",
       "- $u = x \\implies du = dx$\n",
       "- $dv = \\cos(1 - 3x) \\, dx \\implies v = \\frac{1}{3} \\sin(1 - 3x)$\n",
       "\n",
       "Áp dụng công thức tích phân từng phần một lần nữa:\n",
       "\\[\n",
       "\\int x \\cos(1 - 3x) \\, dx = uv - \\int v \\, du\n",
       "\\]\n",
       "\\[\n",
       "= \\frac{1}{3} x \\sin(1 - 3x) - \\int \\frac{1}{3} \\sin(1 - 3x) \\, dx\n",
       "\\]\n",
       "\\[\n",
       "= \\frac{1}{3} x \\sin(1 - 3x) + \\frac{1}{9} \\cos(1 - 3x)\n",
       "\\]\n",
       "\n",
       "Bây giờ, thay kết quả này vào biểu thức trước đó:\n",
       "\\[\n",
       "\\int x^2 \\sin(1 - 3x) \\, dx = -\\frac{1}{3} x^2 \\cos(1 - 3x) + \\frac{2}{3} \\left( \\frac{1}{3} x \\sin(1 - 3x) + \\frac{1}{9} \\cos(1 - 3x) \\right)\n",
       "\\]\n",
       "\\[\n",
       "= -\\frac{1}{3} x^2 \\cos(1 - 3x) + \\frac{2}{9} x \\sin(1 - 3x) + \\frac{2}{27} \\cos(1 - 3x)\n",
       "\\]\n",
       "\n",
       "Cuối cùng, chúng ta có nguyên hàm của hàm số:\n",
       "\\[\n",
       "\\int x^2 \\sin(1 - 3x) \\, dx = -\\frac{1}{3} x^2 \\cos(1 - 3x) + \\frac{2}{9} x \\sin(1 - 3x) + \\frac{2}{27} \\cos(1 - 3x) + C\n",
       "\\]\n",
       "với $C$ là hằng số tích phân.\n",
       "\n"
      ],
      "text/plain": [
       "<IPython.core.display.Latex object>"
      ]
     },
     "metadata": {},
     "output_type": "display_data"
    },
    {
     "name": "stderr",
     "output_type": "stream",
     "text": [
      "Processing Questions:  54%|█████▎    | 87/162 [13:17<11:03,  8.85s/it]"
     ]
    },
    {
     "data": {
      "text/latex": [
       "\n",
       "Để tìm nguyên hàm $F(x)$ của hàm số $f(x) = \\frac{1}{x^2 + x - 2}$, ta thực hiện các bước sau:\n",
       "\n",
       "**Bước 1: Phân tích mẫu số**\n",
       "\n",
       "Trước tiên, ta cần phân tích đa thức trong mẫu số:\n",
       "\n",
       "\\[\n",
       "x^2 + x - 2 = (x - 1)(x + 2)\n",
       "\\]\n",
       "\n",
       "**Bước 2: Phân tích thành phần phân số**\n",
       "\n",
       "Ta sẽ sử dụng phương pháp phân tích thành phần phân số:\n",
       "\n",
       "\\[\n",
       "\\frac{1}{(x - 1)(x + 2)} = \\frac{A}{x - 1} + \\frac{B}{x + 2}\n",
       "\\]\n",
       "\n",
       "Với $A$ và $B$ là các hằng số cần tìm. Nhân cả hai vế với mẫu số $(x - 1)(x + 2)$, ta có:\n",
       "\n",
       "\\[\n",
       "1 = A(x + 2) + B(x - 1)\n",
       "\\]\n",
       "\n",
       "**Bước 3: Giải hệ phương trình**\n",
       "\n",
       "Mở rộng và nhóm các hạng tử:\n",
       "\n",
       "\\[\n",
       "1 = Ax + 2A + Bx - B = (A + B)x + (2A - B)\n",
       "\\]\n",
       "\n",
       "Từ đây, ta có hệ phương trình:\n",
       "\n",
       "\\[\n",
       "\\begin{cases}\n",
       "A + B = 0 \\\\\n",
       "2A - B = 1\n",
       "\\end{cases}\n",
       "\\]\n",
       "\n",
       "Giải hệ phương trình này:\n",
       "\n",
       "Từ phương trình đầu tiên, ta có $B = -A$. Thay vào phương trình thứ hai:\n",
       "\n",
       "\\[\n",
       "2A - (-A) = 1 \\implies 3A = 1 \\implies A = \\frac{1}{3}\n",
       "\\]\n",
       "\n",
       "Suy ra:\n",
       "\n",
       "\\[\n",
       "B = -\\frac{1}{3}\n",
       "\\]\n",
       "\n",
       "**Bước 4: Viết lại phân số**\n",
       "\n",
       "Thay $A$ và $B$ vào biểu thức phân số:\n",
       "\n",
       "\\[\n",
       "\\frac{1}{(x - 1)(x + 2)} = \\frac{1/3}{x - 1} - \\frac{1/3}{x + 2}\n",
       "\\]\n",
       "\n",
       "**Bước 5: Tính nguyên hàm**\n",
       "\n",
       "Bây giờ, ta tính nguyên hàm:\n",
       "\n",
       "\\[\n",
       "F(x) = \\int f(x) \\, dx = \\int \\left( \\frac{1/3}{x - 1} - \\frac{1/3}{x + 2} \\right) dx\n",
       "\\]\n",
       "\n",
       "Tính từng phần:\n",
       "\n",
       "\\[\n",
       "F(x) = \\frac{1}{3} \\ln |x - 1| - \\frac{1}{3} \\ln |x + 2| + C\n",
       "\\]\n",
       "\n",
       "Kết hợp các logarit:\n",
       "\n",
       "\\[\n",
       "F(x) = \\frac{1}{3} \\ln \\left| \\frac{x - 1}{x + 2} \\right| + C\n",
       "\\]\n",
       "\n",
       "**Kết luận:**\n",
       "\n",
       "Nguyên hàm của hàm số $f(x)$ là:\n",
       "\n",
       "\\[\n",
       "F(x) = \\frac{1}{3} \\ln \\left| \\frac{x - 1}{x + 2} \\right| + C\n",
       "\\]\n"
      ],
      "text/plain": [
       "<IPython.core.display.Latex object>"
      ]
     },
     "metadata": {},
     "output_type": "display_data"
    },
    {
     "name": "stderr",
     "output_type": "stream",
     "text": [
      "Processing Questions:  54%|█████▍    | 88/162 [13:27<11:27,  9.29s/it]"
     ]
    },
    {
     "data": {
      "text/latex": [
       "\n",
       "Để tìm nguyên hàm $F(x)$ của hàm số $I = \\int \\frac{x^3-1}{x+1}dx$, ta sẽ thực hiện các bước sau:\n",
       "\n",
       "1. **Phân tích phân thức**: \n",
       "   Chúng ta sẽ thực hiện phép chia đa thức để đơn giản hóa biểu thức $\\frac{x^3 - 1}{x + 1}$.\n",
       "\n",
       "   Thực hiện phép chia:\n",
       "   \\[\n",
       "   x^3 - 1 = (x + 1)(x^2 - x + 1) - 2\n",
       "   \\]\n",
       "   Do đó, ta có:\n",
       "   \\[\n",
       "   \\frac{x^3 - 1}{x + 1} = x^2 - x + 1 - \\frac{2}{x + 1}\n",
       "   \\]\n",
       "\n",
       "2. **Viết lại tích phân**:\n",
       "   Thay vào biểu thức tích phân, ta có:\n",
       "   \\[\n",
       "   I = \\int \\left( x^2 - x + 1 - \\frac{2}{x + 1} \\right) dx\n",
       "   \\]\n",
       "\n",
       "3. **Tính từng phần của tích phân**:\n",
       "   Chia tích phân thành các phần:\n",
       "   \\[\n",
       "   I = \\int (x^2 - x + 1) dx - \\int \\frac{2}{x + 1} dx\n",
       "   \\]\n",
       "\n",
       "   - Tính nguyên hàm của từng phần:\n",
       "     \\[\n",
       "     \\int (x^2 - x + 1) dx = \\frac{x^3}{3} - \\frac{x^2}{2} + x + C_1\n",
       "     \\]\n",
       "     \\[\n",
       "     \\int \\frac{2}{x + 1} dx = 2 \\ln |x + 1| + C_2\n",
       "     \\]\n",
       "\n",
       "4. **Kết hợp các kết quả**:\n",
       "   Kết hợp các nguyên hàm lại, ta có:\n",
       "   \\[\n",
       "   I = \\left( \\frac{x^3}{3} - \\frac{x^2}{2} + x \\right) - \\left( 2 \\ln |x + 1| \\right) + C\n",
       "   \\]\n",
       "\n",
       "5. **Kết quả cuối cùng**:\n",
       "   Do đó, nguyên hàm $F(x)$ của hàm số đã cho là:\n",
       "   \\[\n",
       "   F(x) = \\frac{x^3}{3} - \\frac{x^2}{2} + x - 2 \\ln |x + 1| + C\n",
       "   \\]\n"
      ],
      "text/plain": [
       "<IPython.core.display.Latex object>"
      ]
     },
     "metadata": {},
     "output_type": "display_data"
    },
    {
     "name": "stderr",
     "output_type": "stream",
     "text": [
      "Processing Questions:  55%|█████▍    | 89/162 [13:35<10:49,  8.90s/it]"
     ]
    },
    {
     "data": {
      "text/latex": [
       "\n",
       "Để tìm nguyên hàm $F(x)$ của hàm số $f(x) = \\frac{1}{x^2 - 6x + 10}$, ta thực hiện các bước sau:\n",
       "\n",
       "**Bước 1: Đưa hàm số về dạng dễ tích phân**\n",
       "\n",
       "Trước tiên, ta cần biến đổi mẫu số $x^2 - 6x + 10$ thành dạng hoàn thành bình phương. \n",
       "\n",
       "Ta có:\n",
       "\\[\n",
       "x^2 - 6x + 10 = (x - 3)^2 + 1\n",
       "\\]\n",
       "\n",
       "Vậy hàm số trở thành:\n",
       "\\[\n",
       "f(x) = \\frac{1}{(x - 3)^2 + 1}\n",
       "\\]\n",
       "\n",
       "**Bước 2: Sử dụng công thức nguyên hàm**\n",
       "\n",
       "Hàm số $f(x)$ có dạng $\\frac{1}{u^2 + a^2}$, với $u = x - 3$ và $a = 1$. Nguyên hàm của hàm này là:\n",
       "\\[\n",
       "\\int \\frac{1}{u^2 + a^2} \\, du = \\frac{1}{a} \\tan^{-1} \\left( \\frac{u}{a} \\right) + C\n",
       "\\]\n",
       "\n",
       "Áp dụng vào trường hợp của chúng ta:\n",
       "\\[\n",
       "\\int f(x) \\, dx = \\int \\frac{1}{(x - 3)^2 + 1} \\, dx = \\tan^{-1}(x - 3) + C\n",
       "\\]\n",
       "\n",
       "**Bước 3: Kết luận**\n",
       "\n",
       "Vậy nguyên hàm $F(x)$ của hàm số $f(x)$ là:\n",
       "\\[\n",
       "F(x) = \\tan^{-1}(x - 3) + C\n",
       "\\]\n",
       "với $C$ là hằng số tích phân.\n",
       "\n"
      ],
      "text/plain": [
       "<IPython.core.display.Latex object>"
      ]
     },
     "metadata": {},
     "output_type": "display_data"
    },
    {
     "name": "stderr",
     "output_type": "stream",
     "text": [
      "Processing Questions:  56%|█████▌    | 90/162 [13:40<09:28,  7.89s/it]"
     ]
    },
    {
     "data": {
      "text/latex": [
       "\n",
       "Để tính nguyên hàm $F(x)$ của hàm số $f(x) = \\frac{x+1}{x-1}$, ta sẽ sử dụng phương pháp phân tích thành các phần đơn giản hơn.\n",
       "\n",
       "Bước 1: Phân tích hàm số\n",
       "Ta có thể phân tích hàm số $f(x)$ như sau:\n",
       "\n",
       "\\[\n",
       "f(x) = \\frac{x+1}{x-1} = \\frac{x-1 + 2}{x-1} = 1 + \\frac{2}{x-1}\n",
       "\\]\n",
       "\n",
       "Bước 2: Tính nguyên hàm\n",
       "Bây giờ, ta sẽ tính nguyên hàm của từng phần:\n",
       "\n",
       "\\[\n",
       "F(x) = \\int f(x) \\, dx = \\int \\left( 1 + \\frac{2}{x-1} \\right) \\, dx\n",
       "\\]\n",
       "\n",
       "Ta tách nguyên hàm thành hai phần:\n",
       "\n",
       "\\[\n",
       "F(x) = \\int 1 \\, dx + \\int \\frac{2}{x-1} \\, dx\n",
       "\\]\n",
       "\n",
       "Bước 3: Tính từng nguyên hàm\n",
       "- Nguyên hàm của $1$ là $x$.\n",
       "- Nguyên hàm của $\\frac{2}{x-1}$ là $2 \\ln |x-1|$.\n",
       "\n",
       "Vậy ta có:\n",
       "\n",
       "\\[\n",
       "F(x) = x + 2 \\ln |x-1| + C\n",
       "\\]\n",
       "\n",
       "với $C$ là hằng số tích phân.\n",
       "\n",
       "Bước 4: Kết luận\n",
       "Nguyên hàm của hàm số $f(x) = \\frac{x+1}{x-1}$ là:\n",
       "\n",
       "\\[\n",
       "F(x) = x + 2 \\ln |x-1| + C\n",
       "\\]\n",
       "\n"
      ],
      "text/plain": [
       "<IPython.core.display.Latex object>"
      ]
     },
     "metadata": {},
     "output_type": "display_data"
    },
    {
     "name": "stderr",
     "output_type": "stream",
     "text": [
      "Processing Questions:  56%|█████▌    | 91/162 [13:45<08:03,  6.81s/it]"
     ]
    },
    {
     "data": {
      "text/latex": [
       "\n",
       "Để tính nguyên hàm $F(x) = \\int \\frac{3x+3}{-x^2 - x + 2} \\, dx$, ta sẽ thực hiện các bước sau:\n",
       "\n",
       "**Bước 1: Phân tích mẫu số**\n",
       "\n",
       "Trước tiên, ta cần phân tích mẫu số $-x^2 - x + 2$. Ta có thể viết lại mẫu số như sau:\n",
       "\n",
       "\\[\n",
       "-x^2 - x + 2 = -(x^2 + x - 2)\n",
       "\\]\n",
       "\n",
       "Tiến hành phân tích đa thức $x^2 + x - 2$:\n",
       "\n",
       "\\[\n",
       "x^2 + x - 2 = (x - 1)(x + 2)\n",
       "\\]\n",
       "\n",
       "Vậy ta có:\n",
       "\n",
       "\\[\n",
       "-x^2 - x + 2 = -(x - 1)(x + 2)\n",
       "\\]\n",
       "\n",
       "**Bước 2: Phân tích phân số**\n",
       "\n",
       "Ta sẽ phân tích phân số $\\frac{3x + 3}{-(x - 1)(x + 2)}$ bằng cách sử dụng phương pháp phân tích thành phân số đơn giản:\n",
       "\n",
       "\\[\n",
       "\\frac{3x + 3}{-(x - 1)(x + 2)} = \\frac{A}{x - 1} + \\frac{B}{x + 2}\n",
       "\\]\n",
       "\n",
       "Nhân cả hai vế với mẫu số $-(x - 1)(x + 2)$:\n",
       "\n",
       "\\[\n",
       "3x + 3 = -A(x + 2) - B(x - 1)\n",
       "\\]\n",
       "\n",
       "Mở rộng và nhóm các hệ số:\n",
       "\n",
       "\\[\n",
       "3x + 3 = -Ax - 2A - Bx + B = -(A + B)x + (B - 2A)\n",
       "\\]\n",
       "\n",
       "**Bước 3: Giải hệ phương trình**\n",
       "\n",
       "So sánh hệ số của hai vế, ta có:\n",
       "\n",
       "1. $-(A + B) = 3 \\implies A + B = -3$\n",
       "2. $B - 2A = 3$\n",
       "\n",
       "Giải hệ phương trình này:\n",
       "\n",
       "Từ phương trình 1, ta có $B = -3 - A$. Thay vào phương trình 2:\n",
       "\n",
       "\\[\n",
       "-3 - A - 2A = 3 \\implies -3 - 3A = 3 \\implies -3A = 6 \\implies A = -2\n",
       "\\]\n",
       "\n",
       "Thay $A = -2$ vào phương trình 1:\n",
       "\n",
       "\\[\n",
       "-2 + B = -3 \\implies B = -1\n",
       "\\]\n",
       "\n",
       "Vậy ta có:\n",
       "\n",
       "\\[\n",
       "\\frac{3x + 3}{-(x - 1)(x + 2)} = \\frac{-2}{x - 1} + \\frac{-1}{x + 2}\n",
       "\\]\n",
       "\n",
       "**Bước 4: Tính nguyên hàm**\n",
       "\n",
       "Giờ ta có thể tính nguyên hàm:\n",
       "\n",
       "\\[\n",
       "F(x) = \\int \\left( \\frac{-2}{x - 1} + \\frac{-1}{x + 2} \\right) \\, dx\n",
       "\\]\n",
       "\n",
       "Tính từng phần:\n",
       "\n",
       "\\[\n",
       "F(x) = -2 \\int \\frac{1}{x - 1} \\, dx - \\int \\frac{1}{x + 2} \\, dx\n",
       "\\]\n",
       "\n",
       "Kết quả là:\n",
       "\n",
       "\\[\n",
       "F(x) = -2 \\ln |x - 1| - \\ln |x + 2| + C\n",
       "\\]\n",
       "\n",
       "**Bước 5: Kết luận**\n",
       "\n",
       "Vậy nguyên hàm của hàm số đã cho là:\n",
       "\n",
       "\\[\n",
       "F(x) = -2 \\ln |x - 1| - \\ln |x + 2| + C\n",
       "\\]\n",
       "\n"
      ],
      "text/plain": [
       "<IPython.core.display.Latex object>"
      ]
     },
     "metadata": {},
     "output_type": "display_data"
    },
    {
     "name": "stderr",
     "output_type": "stream",
     "text": [
      "Processing Questions:  57%|█████▋    | 92/162 [13:53<08:23,  7.20s/it]"
     ]
    },
    {
     "data": {
      "text/latex": [
       "\n",
       "Để tính nguyên hàm $F(x) = \\int \\frac{1}{x^2 - 7x + 6} \\, dx$, trước tiên ta cần phân tích mẫu số $x^2 - 7x + 6$.\n",
       "\n",
       "1. **Phân tích đa thức**:\n",
       "   Ta có thể phân tích đa thức $x^2 - 7x + 6$ như sau:\n",
       "   \\[\n",
       "   x^2 - 7x + 6 = (x - 1)(x - 6)\n",
       "   \\]\n",
       "\n",
       "2. **Sử dụng phân tích thành phân số**:\n",
       "   Ta sẽ phân tích $\\frac{1}{(x - 1)(x - 6)}$ thành các phân số đơn giản:\n",
       "   \\[\n",
       "   \\frac{1}{(x - 1)(x - 6)} = \\frac{A}{x - 1} + \\frac{B}{x - 6}\n",
       "   \\]\n",
       "   Nhân hai vế với $(x - 1)(x - 6)$, ta có:\n",
       "   \\[\n",
       "   1 = A(x - 6) + B(x - 1)\n",
       "   \\]\n",
       "   Đặt $x = 1$:\n",
       "   \\[\n",
       "   1 = A(1 - 6) + B(1 - 1) \\implies 1 = -5A \\implies A = -\\frac{1}{5}\n",
       "   \\]\n",
       "   Đặt $x = 6$:\n",
       "   \\[\n",
       "   1 = A(6 - 6) + B(6 - 1) \\implies 1 = 5B \\implies B = \\frac{1}{5}\n",
       "   \\]\n",
       "   Vậy ta có:\n",
       "   \\[\n",
       "   \\frac{1}{(x - 1)(x - 6)} = -\\frac{1}{5(x - 1)} + \\frac{1}{5(x - 6)}\n",
       "   \\]\n",
       "\n",
       "3. **Tính nguyên hàm**:\n",
       "   Bây giờ ta có thể tính nguyên hàm:\n",
       "   \\[\n",
       "   F(x) = \\int \\left(-\\frac{1}{5(x - 1)} + \\frac{1}{5(x - 6)}\\right) \\, dx\n",
       "   \\]\n",
       "   Tính từng phần:\n",
       "   \\[\n",
       "   F(x) = -\\frac{1}{5} \\int \\frac{1}{x - 1} \\, dx + \\frac{1}{5} \\int \\frac{1}{x - 6} \\, dx\n",
       "   \\]\n",
       "   Kết quả là:\n",
       "   \\[\n",
       "   F(x) = -\\frac{1}{5} \\ln |x - 1| + \\frac{1}{5} \\ln |x - 6| + C\n",
       "   \\]\n",
       "   Trong đó $C$ là hằng số tích phân.\n",
       "\n",
       "4. **Kết hợp các logarit**:\n",
       "   Ta có thể kết hợp các logarit lại:\n",
       "   \\[\n",
       "   F(x) = \\frac{1}{5} \\ln \\left| \\frac{x - 6}{x - 1} \\right| + C\n",
       "   \\]\n",
       "\n"
      ],
      "text/plain": [
       "<IPython.core.display.Latex object>"
      ]
     },
     "metadata": {},
     "output_type": "display_data"
    },
    {
     "name": "stderr",
     "output_type": "stream",
     "text": [
      "Processing Questions:  57%|█████▋    | 93/162 [14:01<08:39,  7.53s/it]"
     ]
    },
    {
     "data": {
      "text/latex": [
       "\n",
       "Để tính nguyên hàm $I = \\int \\frac{2x^2+x+1}{x-1} \\, dx$, ta sẽ thực hiện các bước sau:\n",
       "\n",
       "1. **Phân tích phân thức**: \n",
       "   Chúng ta sẽ thực hiện phép chia đa thức để đơn giản hóa biểu thức. Chia $2x^2 + x + 1$ cho $x - 1$.\n",
       "\n",
       "   - Chia $2x^2$ cho $x$ được $2x$.\n",
       "   - Nhân $2x$ với $x - 1$ được $2x^2 - 2x$.\n",
       "   - Trừ đi: \n",
       "     \\[\n",
       "     (2x^2 + x + 1) - (2x^2 - 2x) = 3x + 1\n",
       "     \\]\n",
       "   - Tiếp tục chia $3x + 1$ cho $x - 1$:\n",
       "     - Chia $3x$ cho $x$ được $3$.\n",
       "     - Nhân $3$ với $x - 1$ được $3x - 3$.\n",
       "     - Trừ đi:\n",
       "     \\[\n",
       "     (3x + 1) - (3x - 3) = 4\n",
       "     \\]\n",
       "\n",
       "   Vậy ta có:\n",
       "   \\[\n",
       "   \\frac{2x^2 + x + 1}{x - 1} = 2x + 3 + \\frac{4}{x - 1}\n",
       "   \\]\n",
       "\n",
       "2. **Tính nguyên hàm**:\n",
       "   Thay vào biểu thức nguyên hàm:\n",
       "   \\[\n",
       "   I = \\int \\left(2x + 3 + \\frac{4}{x - 1}\\right) \\, dx\n",
       "   \\]\n",
       "\n",
       "   Tính từng phần:\n",
       "   - Nguyên hàm của $2x$ là $x^2$.\n",
       "   - Nguyên hàm của $3$ là $3x$.\n",
       "   - Nguyên hàm của $\\frac{4}{x - 1}$ là $4 \\ln |x - 1|$.\n",
       "\n",
       "   Kết hợp lại, ta có:\n",
       "   \\[\n",
       "   I = x^2 + 3x + 4 \\ln |x - 1| + C\n",
       "   \\]\n",
       "   với $C$ là hằng số tích phân.\n",
       "\n",
       "3. **Kết luận**:\n",
       "   Vậy nguyên hàm của hàm số đã cho là:\n",
       "   \\[\n",
       "   F(x) = x^2 + 3x + 4 \\ln |x - 1| + C\n",
       "   \\]\n",
       "\n"
      ],
      "text/plain": [
       "<IPython.core.display.Latex object>"
      ]
     },
     "metadata": {},
     "output_type": "display_data"
    },
    {
     "name": "stderr",
     "output_type": "stream",
     "text": [
      "Processing Questions:  58%|█████▊    | 94/162 [14:07<07:56,  7.01s/it]"
     ]
    },
    {
     "data": {
      "text/latex": [
       "\n",
       "Để tính nguyên hàm $J = \\int \\frac{x^3 + 2x + 1}{x^2 + 2x + 1} \\, dx$, ta sẽ thực hiện các bước sau:\n",
       "\n",
       "1. **Rút gọn phân thức**: \n",
       "   Đầu tiên, ta sẽ phân tích tử số $x^3 + 2x + 1$ và mẫu số $x^2 + 2x + 1$.\n",
       "\n",
       "   Mẫu số có thể viết lại như sau:\n",
       "   \\[\n",
       "   x^2 + 2x + 1 = (x + 1)^2\n",
       "   \\]\n",
       "\n",
       "   Để rút gọn phân thức, ta sẽ thực hiện phép chia đa thức:\n",
       "   \\[\n",
       "   \\frac{x^3 + 2x + 1}{x^2 + 2x + 1} = \\frac{x^3 + 2x + 1}{(x + 1)^2}\n",
       "   \\]\n",
       "\n",
       "   Thực hiện phép chia đa thức:\n",
       "   - Chia $x^3$ cho $x^2$ được $x$.\n",
       "   - Nhân $x$ với $(x + 1)^2$ và trừ đi từ tử số:\n",
       "   \\[\n",
       "   x^3 + 2x + 1 - (x^3 + 2x^2 + x) = -2x^2 + 1\n",
       "   \\]\n",
       "\n",
       "   Vậy ta có:\n",
       "   \\[\n",
       "   \\frac{x^3 + 2x + 1}{(x + 1)^2} = x + \\frac{-2x^2 + 1}{(x + 1)^2}\n",
       "   \\]\n",
       "\n",
       "2. **Tính nguyên hàm**:\n",
       "   Bây giờ ta có thể viết lại nguyên hàm:\n",
       "   \\[\n",
       "   J = \\int \\left( x + \\frac{-2x^2 + 1}{(x + 1)^2} \\right) \\, dx\n",
       "   \\]\n",
       "   Chia thành hai phần:\n",
       "   \\[\n",
       "   J = \\int x \\, dx + \\int \\frac{-2x^2 + 1}{(x + 1)^2} \\, dx\n",
       "   \\]\n",
       "\n",
       "   - Tính nguyên hàm phần đầu:\n",
       "   \\[\n",
       "   \\int x \\, dx = \\frac{x^2}{2}\n",
       "   \\]\n",
       "\n",
       "   - Tính nguyên hàm phần thứ hai:\n",
       "   Để tính $\\int \\frac{-2x^2 + 1}{(x + 1)^2} \\, dx$, ta có thể tách thành hai phần:\n",
       "   \\[\n",
       "   \\int \\frac{-2x^2}{(x + 1)^2} \\, dx + \\int \\frac{1}{(x + 1)^2} \\, dx\n",
       "   \\]\n",
       "\n",
       "   - Đối với phần thứ nhất, ta có thể sử dụng phương pháp phân tích thành phần:\n",
       "   \\[\n",
       "   \\frac{-2x^2}{(x + 1)^2} = -2 + \\frac{2}{x + 1}\n",
       "   \\]\n",
       "   Vậy:\n",
       "   \\[\n",
       "   \\int \\frac{-2x^2}{(x + 1)^2} \\, dx = \\int -2 \\, dx + \\int \\frac{2}{x + 1} \\, dx = -2x + 2 \\ln |x + 1|\n",
       "   \\]\n",
       "\n",
       "   - Đối với phần thứ hai:\n",
       "   \\[\n",
       "   \\int \\frac{1}{(x + 1)^2} \\, dx = -\\frac{1}{x + 1}\n",
       "   \\]\n",
       "\n",
       "   Kết hợp lại, ta có:\n",
       "   \\[\n",
       "   \\int \\frac{-2x^2 + 1}{(x + 1)^2} \\, dx = -2x + 2 \\ln |x + 1| - \\frac{1}{x + 1}\n",
       "   \\]\n",
       "\n",
       "3. **Kết hợp các phần lại**:\n",
       "   Cuối cùng, ta kết hợp tất cả các phần lại:\n",
       "   \\[\n",
       "   J = \\frac{x^2}{2} - 2x + 2 \\ln |x + 1| - \\frac{1}{x + 1} + C\n",
       "   \\]\n",
       "\n",
       "   Trong đó $C$ là hằng số tích phân.\n",
       "\n"
      ],
      "text/plain": [
       "<IPython.core.display.Latex object>"
      ]
     },
     "metadata": {},
     "output_type": "display_data"
    },
    {
     "name": "stderr",
     "output_type": "stream",
     "text": [
      "Processing Questions:  59%|█████▊    | 95/162 [14:20<09:50,  8.81s/it]"
     ]
    },
    {
     "data": {
      "text/latex": [
       "\n",
       "Để tính nguyên hàm $F(x) = \\int \\frac{2x^2+1}{(x+1)^5} \\, dx$, ta sẽ sử dụng phương pháp phân tích phân số.\n",
       "\n",
       "Bước 1: Phân tích tử số.\n",
       "Ta có:\n",
       "$$\n",
       "2x^2 + 1 = 2(x^2 + \\frac{1}{2}) = 2\\left(x^2 + 1\\right) - 1.\n",
       "$$\n",
       "Vậy ta có thể viết lại nguyên hàm như sau:\n",
       "$$\n",
       "F(x) = \\int \\frac{2(x^2 + 1) - 1}{(x+1)^5} \\, dx = \\int \\frac{2(x^2 + 1)}{(x+1)^5} \\, dx - \\int \\frac{1}{(x+1)^5} \\, dx.\n",
       "$$\n",
       "\n",
       "Bước 2: Tính từng phần.\n",
       "- Tính nguyên hàm thứ nhất:\n",
       "$$\n",
       "\\int \\frac{2(x^2 + 1)}{(x+1)^5} \\, dx.\n",
       "$$\n",
       "Ta sẽ sử dụng phép chia đa thức. Chia $x^2 + 1$ cho $(x+1)^5$ sẽ cho kết quả là một hàm bậc thấp hơn. Tuy nhiên, để đơn giản hơn, ta có thể sử dụng phương pháp thay thế.\n",
       "\n",
       "Đặt $u = x + 1 \\Rightarrow x = u - 1 \\Rightarrow dx = du$.\n",
       "Khi đó, ta có:\n",
       "$$\n",
       "F(x) = \\int \\frac{2((u-1)^2 + 1)}{u^5} \\, du - \\int \\frac{1}{u^5} \\, du.\n",
       "$$\n",
       "Tính $((u-1)^2 + 1)$:\n",
       "$$\n",
       "(u-1)^2 + 1 = u^2 - 2u + 1 + 1 = u^2 - 2u + 2.\n",
       "$$\n",
       "Vậy:\n",
       "$$\n",
       "F(x) = \\int \\frac{2(u^2 - 2u + 2)}{u^5} \\, du - \\int \\frac{1}{u^5} \\, du.\n",
       "$$\n",
       "$$\n",
       "= 2\\int \\left(\\frac{2}{u^3} - \\frac{4}{u^4} + \\frac{2}{u^5}\\right) \\, du - \\int \\frac{1}{u^5} \\, du.\n",
       "$$\n",
       "\n",
       "Bước 3: Tính từng nguyên hàm.\n",
       "- Tính từng phần:\n",
       "$$\n",
       "2\\int \\frac{2}{u^3} \\, du = 2 \\cdot \\left(-\\frac{2}{2u^2}\\right) = -\\frac{2}{u^2},\n",
       "$$\n",
       "$$\n",
       "2\\int \\frac{4}{u^4} \\, du = 2 \\cdot \\left(-\\frac{4}{3u^3}\\right) = -\\frac{8}{3u^3},\n",
       "$$\n",
       "$$\n",
       "2\\int \\frac{2}{u^5} \\, du = 2 \\cdot \\left(-\\frac{2}{4u^4}\\right) = -\\frac{1}{2u^4},\n",
       "$$\n",
       "$$\n",
       "\\int \\frac{1}{u^5} \\, du = -\\frac{1}{4u^4}.\n",
       "$$\n",
       "\n",
       "Bước 4: Kết hợp các kết quả lại.\n",
       "$$\n",
       "F(x) = -\\frac{2}{u^2} + \\frac{8}{3u^3} - \\frac{1}{2u^4} + \\frac{1}{4u^4} + C.\n",
       "$$\n",
       "$$\n",
       "= -\\frac{2}{(x+1)^2} + \\frac{8}{3(x+1)^3} - \\left(\\frac{1}{2} - \\frac{1}{4}\\right)\\frac{1}{(x+1)^4} + C.\n",
       "$$\n",
       "$$\n",
       "= -\\frac{2}{(x+1)^2} + \\frac{8}{3(x+1)^3} - \\frac{1}{4(x+1)^4} + C.\n",
       "$$\n",
       "\n",
       "Bước 5: Kết quả cuối cùng.\n",
       "$$\n",
       "F(x) = -\\frac{2}{(x+1)^2} + \\frac{8}{3(x+1)^3} - \\frac{1}{4(x+1)^4} + C.\n",
       "$$\n"
      ],
      "text/plain": [
       "<IPython.core.display.Latex object>"
      ]
     },
     "metadata": {},
     "output_type": "display_data"
    },
    {
     "name": "stderr",
     "output_type": "stream",
     "text": [
      "Processing Questions:  59%|█████▉    | 96/162 [14:35<11:37, 10.56s/it]"
     ]
    },
    {
     "data": {
      "text/latex": [
       "No solution found"
      ],
      "text/plain": [
       "<IPython.core.display.Latex object>"
      ]
     },
     "metadata": {},
     "output_type": "display_data"
    },
    {
     "name": "stderr",
     "output_type": "stream",
     "text": [
      "Processing Questions:  60%|█████▉    | 97/162 [14:48<12:14, 11.30s/it]"
     ]
    },
    {
     "data": {
      "text/latex": [
       "\n",
       "Để tìm nguyên hàm $F(x)$ của hàm số $f(x) = (4x+1)e^x$, chúng ta sẽ sử dụng phương pháp tích phân từng phần.\n",
       "\n",
       "1. **Chọn các thành phần cho tích phân từng phần**:\n",
       "   - Đặt $u = 4x + 1 \\Rightarrow du = 4dx$.\n",
       "   - Đặt $dv = e^x dx \\Rightarrow v = e^x$.\n",
       "\n",
       "2. **Áp dụng công thức tích phân từng phần**:\n",
       "   \\[\n",
       "   \\int u \\, dv = uv - \\int v \\, du\n",
       "   \\]\n",
       "   Thay các thành phần vào công thức:\n",
       "   \\[\n",
       "   \\int (4x + 1)e^x \\, dx = (4x + 1)e^x - \\int e^x \\cdot 4 \\, dx\n",
       "   \\]\n",
       "\n",
       "3. **Tính tích phân còn lại**:\n",
       "   \\[\n",
       "   \\int e^x \\cdot 4 \\, dx = 4e^x\n",
       "   \\]\n",
       "   Vậy ta có:\n",
       "   \\[\n",
       "   \\int (4x + 1)e^x \\, dx = (4x + 1)e^x - 4e^x + C\n",
       "   \\]\n",
       "   \\[\n",
       "   = (4x + 1 - 4)e^x + C = (4x - 3)e^x + C\n",
       "   \\]\n",
       "\n",
       "4. **Tìm hằng số $C$ bằng điều kiện $F(1) = e$**:\n",
       "   \\[\n",
       "   F(1) = (4 \\cdot 1 - 3)e^1 + C = (4 - 3)e + C = e + C\n",
       "   \\]\n",
       "   Theo điều kiện, ta có:\n",
       "   \\[\n",
       "   e + C = e \\Rightarrow C = 0\n",
       "   \\]\n",
       "\n",
       "5. **Kết luận**:\n",
       "   Nguyên hàm $F(x)$ thỏa mãn điều kiện là:\n",
       "   \\[\n",
       "   F(x) = (4x - 3)e^x\n",
       "   \\]\n",
       "\n"
      ],
      "text/plain": [
       "<IPython.core.display.Latex object>"
      ]
     },
     "metadata": {},
     "output_type": "display_data"
    },
    {
     "name": "stderr",
     "output_type": "stream",
     "text": [
      "Processing Questions:  60%|██████    | 98/162 [14:53<10:18,  9.67s/it]"
     ]
    },
    {
     "data": {
      "text/latex": [
       "\n",
       "Để giải bài toán này, ta cần tìm nguyên hàm $F(x)$ của hàm số $f(x) = \\frac{1}{x-1}$. \n",
       "\n",
       "Bước 1: Tính nguyên hàm $F(x)$.\n",
       "\n",
       "Nguyên hàm của hàm số $f(x)$ được tính như sau:\n",
       "\n",
       "\\[\n",
       "F(x) = \\int f(x) \\, dx = \\int \\frac{1}{x-1} \\, dx\n",
       "\\]\n",
       "\n",
       "Sử dụng công thức nguyên hàm của hàm số $\\frac{1}{x-a}$, ta có:\n",
       "\n",
       "\\[\n",
       "F(x) = \\ln |x-1| + C\n",
       "\\]\n",
       "\n",
       "Trong đó $C$ là hằng số tích phân.\n",
       "\n",
       "Bước 2: Sử dụng điều kiện $F(2) = 1$ để tìm hằng số $C$.\n",
       "\n",
       "Thay $x = 2$ vào biểu thức của $F(x)$:\n",
       "\n",
       "\\[\n",
       "F(2) = \\ln |2-1| + C = \\ln 1 + C = 0 + C = C\n",
       "\\]\n",
       "\n",
       "Theo điều kiện bài toán, ta có:\n",
       "\n",
       "\\[\n",
       "C = 1\n",
       "\\]\n",
       "\n",
       "Vậy nguyên hàm $F(x)$ là:\n",
       "\n",
       "\\[\n",
       "F(x) = \\ln |x-1| + 1\n",
       "\\]\n",
       "\n",
       "Bước 3: Tính $F(3)$.\n",
       "\n",
       "Thay $x = 3$ vào biểu thức của $F(x)$:\n",
       "\n",
       "\\[\n",
       "F(3) = \\ln |3-1| + 1 = \\ln 2 + 1\n",
       "\\]\n",
       "\n",
       "Vậy kết quả cuối cùng là:\n",
       "\n",
       "\\[\n",
       "F(3) = \\ln 2 + 1\n",
       "\\]\n"
      ],
      "text/plain": [
       "<IPython.core.display.Latex object>"
      ]
     },
     "metadata": {},
     "output_type": "display_data"
    },
    {
     "name": "stderr",
     "output_type": "stream",
     "text": [
      "Processing Questions:  61%|██████    | 99/162 [15:02<09:50,  9.37s/it]"
     ]
    },
    {
     "data": {
      "text/latex": [
       "\n",
       "Để giải bài toán này, ta cần tìm nguyên hàm của hàm số $f(x) = x \\sin(2x)$ và sau đó sử dụng điều kiện $F(0) + F(\\pi) = -\\frac{\\pi}{2}$ để xác định hằng số của nguyên hàm.\n",
       "\n",
       "**Bước 1: Tính nguyên hàm $F(x)$ của $f(x)$**\n",
       "\n",
       "Ta sử dụng phương pháp tích phân từng phần. Theo công thức tích phân từng phần:\n",
       "\n",
       "\\[\n",
       "\\int u \\, dv = uv - \\int v \\, du\n",
       "\\]\n",
       "\n",
       "Chọn:\n",
       "- $u = x \\Rightarrow du = dx$\n",
       "- $dv = \\sin(2x) \\, dx \\Rightarrow v = -\\frac{1}{2} \\cos(2x)$\n",
       "\n",
       "Áp dụng công thức tích phân từng phần:\n",
       "\n",
       "\\[\n",
       "F(x) = \\int x \\sin(2x) \\, dx = -\\frac{1}{2} x \\cos(2x) - \\int -\\frac{1}{2} \\cos(2x) \\, dx\n",
       "\\]\n",
       "\n",
       "Tính tiếp phần còn lại:\n",
       "\n",
       "\\[\n",
       "\\int -\\frac{1}{2} \\cos(2x) \\, dx = -\\frac{1}{2} \\cdot \\frac{1}{2} \\sin(2x) = -\\frac{1}{4} \\sin(2x)\n",
       "\\]\n",
       "\n",
       "Vậy:\n",
       "\n",
       "\\[\n",
       "F(x) = -\\frac{1}{2} x \\cos(2x) + \\frac{1}{4} \\sin(2x) + C\n",
       "\\]\n",
       "\n",
       "**Bước 2: Sử dụng điều kiện $F(0) + F(\\pi) = -\\frac{\\pi}{2}$ để tìm $C$**\n",
       "\n",
       "Tính $F(0)$:\n",
       "\n",
       "\\[\n",
       "F(0) = -\\frac{1}{2} \\cdot 0 \\cdot \\cos(0) + \\frac{1}{4} \\sin(0) + C = C\n",
       "\\]\n",
       "\n",
       "Tính $F(\\pi)$:\n",
       "\n",
       "\\[\n",
       "F(\\pi) = -\\frac{1}{2} \\cdot \\pi \\cdot \\cos(2\\pi) + \\frac{1}{4} \\sin(2\\pi) + C = -\\frac{1}{2} \\pi + C\n",
       "\\]\n",
       "\n",
       "Thay vào điều kiện:\n",
       "\n",
       "\\[\n",
       "C + \\left(-\\frac{1}{2} \\pi + C\\right) = -\\frac{\\pi}{2}\n",
       "\\]\n",
       "\n",
       "Giải phương trình:\n",
       "\n",
       "\\[\n",
       "2C - \\frac{1}{2} \\pi = -\\frac{\\pi}{2}\n",
       "\\]\n",
       "\n",
       "\\[\n",
       "2C = 0 \\Rightarrow C = 0\n",
       "\\]\n",
       "\n",
       "Vậy $F(x) = -\\frac{1}{2} x \\cos(2x) + \\frac{1}{4} \\sin(2x)$.\n",
       "\n",
       "**Bước 3: Tính $F\\left(\\frac{\\pi}{4}\\right)$**\n",
       "\n",
       "Thay $x = \\frac{\\pi}{4}$ vào $F(x)$:\n",
       "\n",
       "\\[\n",
       "F\\left(\\frac{\\pi}{4}\\right) = -\\frac{1}{2} \\cdot \\frac{\\pi}{4} \\cos\\left(\\frac{\\pi}{2}\\right) + \\frac{1}{4} \\sin\\left(\\frac{\\pi}{2}\\right)\n",
       "\\]\n",
       "\n",
       "Biết rằng $\\cos\\left(\\frac{\\pi}{2}\\right) = 0$ và $\\sin\\left(\\frac{\\pi}{2}\\right) = 1$, ta có:\n",
       "\n",
       "\\[\n",
       "F\\left(\\frac{\\pi}{4}\\right) = 0 + \\frac{1}{4} = \\frac{1}{4}\n",
       "\\]\n",
       "\n"
      ],
      "text/plain": [
       "<IPython.core.display.Latex object>"
      ]
     },
     "metadata": {},
     "output_type": "display_data"
    },
    {
     "name": "stderr",
     "output_type": "stream",
     "text": [
      "Processing Questions:  62%|██████▏   | 100/162 [15:14<10:27, 10.13s/it]"
     ]
    },
    {
     "data": {
      "text/latex": [
       "\n",
       "Để tìm nguyên hàm $F(x)$ của hàm số $f(x) = \\sin^2\\frac{x}{2}$, ta sẽ sử dụng công thức biến đổi hàm lượng giác.\n",
       "\n",
       "1. **Sử dụng công thức lượng giác**:\n",
       "   \\[\n",
       "   \\sin^2 a = \\frac{1 - \\cos(2a)}{2}\n",
       "   \\]\n",
       "   Áp dụng cho $a = \\frac{x}{2}$, ta có:\n",
       "   \\[\n",
       "   \\sin^2\\frac{x}{2} = \\frac{1 - \\cos x}{2}\n",
       "   \\]\n",
       "\n",
       "2. **Tính nguyên hàm**:\n",
       "   Ta cần tính nguyên hàm của $f(x)$:\n",
       "   \\[\n",
       "   F(x) = \\int \\sin^2\\frac{x}{2} \\, dx = \\int \\frac{1 - \\cos x}{2} \\, dx\n",
       "   \\]\n",
       "   Tách nguyên hàm:\n",
       "   \\[\n",
       "   F(x) = \\frac{1}{2} \\int (1 - \\cos x) \\, dx = \\frac{1}{2} \\left( \\int 1 \\, dx - \\int \\cos x \\, dx \\right)\n",
       "   \\]\n",
       "   Tính từng phần:\n",
       "   \\[\n",
       "   \\int 1 \\, dx = x \\quad \\text{và} \\quad \\int \\cos x \\, dx = \\sin x\n",
       "   \\]\n",
       "   Do đó:\n",
       "   \\[\n",
       "   F(x) = \\frac{1}{2} \\left( x - \\sin x \\right) + C\n",
       "   \\]\n",
       "\n",
       "3. **Xác định hằng số $C$**:\n",
       "   Sử dụng điều kiện $F\\left(\\frac{\\pi}{2}\\right) = \\frac{\\pi}{4}$:\n",
       "   \\[\n",
       "   F\\left(\\frac{\\pi}{2}\\right) = \\frac{1}{2} \\left( \\frac{\\pi}{2} - \\sin\\left(\\frac{\\pi}{2}\\right) \\right) + C = \\frac{1}{2} \\left( \\frac{\\pi}{2} - 1 \\right) + C\n",
       "   \\]\n",
       "   Đặt phương trình:\n",
       "   \\[\n",
       "   \\frac{1}{2} \\left( \\frac{\\pi}{2} - 1 \\right) + C = \\frac{\\pi}{4}\n",
       "   \\]\n",
       "   Giải phương trình:\n",
       "   \\[\n",
       "   C = \\frac{\\pi}{4} - \\frac{1}{2} \\left( \\frac{\\pi}{2} - 1 \\right) = \\frac{\\pi}{4} - \\frac{\\pi}{4} + \\frac{1}{2} = \\frac{1}{2}\n",
       "   \\]\n",
       "\n",
       "4. **Kết luận**:\n",
       "   Vậy nguyên hàm $F(x)$ là:\n",
       "   \\[\n",
       "   F(x) = \\frac{1}{2} \\left( x - \\sin x \\right) + \\frac{1}{2}\n",
       "   \\]\n",
       "   Hoặc viết gọn lại:\n",
       "   \\[\n",
       "   F(x) = \\frac{x - \\sin x + 1}{2}\n",
       "   \\]\n"
      ],
      "text/plain": [
       "<IPython.core.display.Latex object>"
      ]
     },
     "metadata": {},
     "output_type": "display_data"
    },
    {
     "name": "stderr",
     "output_type": "stream",
     "text": [
      "Processing Questions:  62%|██████▏   | 101/162 [15:22<09:39,  9.50s/it]"
     ]
    },
    {
     "data": {
      "text/latex": [
       "\n",
       "Để tìm nguyên hàm $F(x)$ của hàm số $f(x) = 2x + \\frac{1}{\\sin^2 x}$, ta sẽ thực hiện các bước sau:\n",
       "\n",
       "1. **Tính nguyên hàm từng phần**:\n",
       "   - Nguyên hàm của $2x$:\n",
       "     \\[\n",
       "     \\int 2x \\, dx = x^2 + C_1\n",
       "     \\]\n",
       "   - Nguyên hàm của $\\frac{1}{\\sin^2 x}$:\n",
       "     \\[\n",
       "     \\int \\frac{1}{\\sin^2 x} \\, dx = -\\cot x + C_2\n",
       "     \\]\n",
       "   - Kết hợp lại, ta có:\n",
       "     \\[\n",
       "     F(x) = x^2 - \\cot x + C\n",
       "     \\]\n",
       "   trong đó $C = C_1 + C_2$ là hằng số tích phân.\n",
       "\n",
       "2. **Sử dụng điều kiện $F\\left(\\frac{\\pi}{4}\\right) = -1$ để tìm $C$**:\n",
       "   - Tính $F\\left(\\frac{\\pi}{4}\\right)$:\n",
       "     \\[\n",
       "     F\\left(\\frac{\\pi}{4}\\right) = \\left(\\frac{\\pi}{4}\\right)^2 - \\cot\\left(\\frac{\\pi}{4}\\right) + C\n",
       "     \\]\n",
       "   - Biết rằng $\\cot\\left(\\frac{\\pi}{4}\\right) = 1$, ta có:\n",
       "     \\[\n",
       "     F\\left(\\frac{\\pi}{4}\\right) = \\frac{\\pi^2}{16} - 1 + C\n",
       "     \\]\n",
       "   - Đặt điều kiện:\n",
       "     \\[\n",
       "     \\frac{\\pi^2}{16} - 1 + C = -1\n",
       "     \\]\n",
       "   - Giải phương trình trên để tìm $C$:\n",
       "     \\[\n",
       "     C = -1 + 1 - \\frac{\\pi^2}{16} = -\\frac{\\pi^2}{16}\n",
       "     \\]\n",
       "\n",
       "3. **Kết luận**:\n",
       "   - Thay giá trị của $C$ vào công thức nguyên hàm:\n",
       "     \\[\n",
       "     F(x) = x^2 - \\cot x - \\frac{\\pi^2}{16}\n",
       "     \\]\n",
       "\n",
       "Vậy nguyên hàm $F(x)$ của hàm số $f(x)$ thỏa mãn điều kiện đã cho là:\n",
       "\\[\n",
       "F(x) = x^2 - \\cot x - \\frac{\\pi^2}{16}\n",
       "\\]\n"
      ],
      "text/plain": [
       "<IPython.core.display.Latex object>"
      ]
     },
     "metadata": {},
     "output_type": "display_data"
    },
    {
     "name": "stderr",
     "output_type": "stream",
     "text": [
      "Processing Questions:  63%|██████▎   | 102/162 [15:29<08:50,  8.84s/it]"
     ]
    },
    {
     "data": {
      "text/latex": [
       "\n",
       "Để giải bài toán này, ta cần tìm nguyên hàm của hàm số $y = \\frac{\\ln x}{x}$. \n",
       "\n",
       "Bước 1: Tính nguyên hàm $F(x)$ của hàm số $y = \\frac{\\ln x}{x}$.\n",
       "\n",
       "Ta có thể sử dụng phương pháp tích phân từng phần. Đặt:\n",
       "- $u = \\ln x \\Rightarrow du = \\frac{1}{x}dx$\n",
       "- $dv = \\frac{1}{x}dx \\Rightarrow v = \\ln x$\n",
       "\n",
       "Áp dụng công thức tích phân từng phần:\n",
       "\\[\n",
       "\\int u \\, dv = uv - \\int v \\, du\n",
       "\\]\n",
       "Ta có:\n",
       "\\[\n",
       "F(x) = \\int \\frac{\\ln x}{x} \\, dx = \\ln x \\cdot \\ln x - \\int \\ln x \\cdot \\frac{1}{x} \\, dx\n",
       "\\]\n",
       "Tuy nhiên, để đơn giản hơn, ta có thể sử dụng một phép biến đổi khác. \n",
       "\n",
       "Bước 2: Sử dụng phép biến đổi:\n",
       "\\[\n",
       "F(x) = \\int \\frac{\\ln x}{x} \\, dx\n",
       "\\]\n",
       "Ta có thể sử dụng công thức:\n",
       "\\[\n",
       "F(x) = \\frac{(\\ln x)^2}{2} + C\n",
       "\\]\n",
       "với $C$ là hằng số.\n",
       "\n",
       "Bước 3: Sử dụng điều kiện $F(e^2) = 4$ để tìm $C$.\n",
       "\\[\n",
       "F(e^2) = \\frac{(\\ln e^2)^2}{2} + C = \\frac{(2)^2}{2} + C = \\frac{4}{2} + C = 2 + C\n",
       "\\]\n",
       "Theo đề bài, ta có:\n",
       "\\[\n",
       "2 + C = 4 \\Rightarrow C = 2\n",
       "\\]\n",
       "\n",
       "Vậy nguyên hàm $F(x)$ là:\n",
       "\\[\n",
       "F(x) = \\frac{(\\ln x)^2}{2} + 2\n",
       "\\]\n",
       "\n",
       "Bước 4: Tính $F(e)$.\n",
       "\\[\n",
       "F(e) = \\frac{(\\ln e)^2}{2} + 2 = \\frac{(1)^2}{2} + 2 = \\frac{1}{2} + 2 = \\frac{1}{2} + \\frac{4}{2} = \\frac{5}{2}\n",
       "\\]\n",
       "\n",
       "Kết quả cuối cùng là:\n",
       "\\[\n",
       "F(e) = \\frac{5}{2}\n",
       "\\]\n"
      ],
      "text/plain": [
       "<IPython.core.display.Latex object>"
      ]
     },
     "metadata": {},
     "output_type": "display_data"
    },
    {
     "name": "stderr",
     "output_type": "stream",
     "text": [
      "Processing Questions:  64%|██████▎   | 103/162 [15:38<08:46,  8.93s/it]"
     ]
    },
    {
     "data": {
      "text/latex": [
       "\n",
       "Để tìm nguyên hàm $F(x)$ của hàm số $f(x) = ax + \\frac{b}{x^2}$, ta sẽ thực hiện các bước sau:\n",
       "\n",
       "1. **Tính nguyên hàm $F(x)$**:\n",
       "   \\[\n",
       "   F(x) = \\int f(x) \\, dx = \\int \\left( ax + \\frac{b}{x^2} \\right) dx\n",
       "   \\]\n",
       "   Ta tách nguyên hàm thành hai phần:\n",
       "   \\[\n",
       "   F(x) = \\int ax \\, dx + \\int \\frac{b}{x^2} \\, dx\n",
       "   \\]\n",
       "\n",
       "   - Tính nguyên hàm phần đầu:\n",
       "   \\[\n",
       "   \\int ax \\, dx = \\frac{a}{2} x^2 + C_1\n",
       "   \\]\n",
       "\n",
       "   - Tính nguyên hàm phần thứ hai:\n",
       "   \\[\n",
       "   \\int \\frac{b}{x^2} \\, dx = -\\frac{b}{x} + C_2\n",
       "   \\]\n",
       "\n",
       "   Kết hợp lại, ta có:\n",
       "   \\[\n",
       "   F(x) = \\frac{a}{2} x^2 - \\frac{b}{x} + C\n",
       "   \\]\n",
       "   với $C = C_1 + C_2$ là hằng số tích phân.\n",
       "\n",
       "2. **Sử dụng điều kiện để tìm hằng số $C$**:\n",
       "   Ta có các điều kiện:\n",
       "   - $F(-1) = 1$\n",
       "   - $F(1) = 4$\n",
       "   - $f(1) = 0$\n",
       "\n",
       "   Từ điều kiện $f(1) = 0$, ta có:\n",
       "   \\[\n",
       "   f(1) = a(1) + \\frac{b}{1^2} = a + b = 0 \\implies b = -a\n",
       "   \\]\n",
       "\n",
       "   Thay $b = -a$ vào $F(x)$:\n",
       "   \\[\n",
       "   F(x) = \\frac{a}{2} x^2 + \\frac{a}{x} + C\n",
       "   \\]\n",
       "\n",
       "   Bây giờ, ta sử dụng điều kiện $F(-1) = 1$:\n",
       "   \\[\n",
       "   F(-1) = \\frac{a}{2} (-1)^2 + \\frac{a}{-1} + C = \\frac{a}{2} - a + C = 1\n",
       "   \\]\n",
       "   \\[\n",
       "   \\frac{a}{2} - a + C = 1 \\implies -\\frac{a}{2} + C = 1 \\implies C = 1 + \\frac{a}{2}\n",
       "   \\]\n",
       "\n",
       "   Tiếp theo, sử dụng điều kiện $F(1) = 4$:\n",
       "   \\[\n",
       "   F(1) = \\frac{a}{2} (1)^2 + \\frac{a}{1} + C = \\frac{a}{2} + a + C = 4\n",
       "   \\]\n",
       "   Thay $C = 1 + \\frac{a}{2}$ vào:\n",
       "   \\[\n",
       "   \\frac{a}{2} + a + 1 + \\frac{a}{2} = 4 \\implies 2a + 1 = 4 \\implies 2a = 3 \\implies a = \\frac{3}{2}\n",
       "   \\]\n",
       "\n",
       "   Từ đó, ta tìm được $b$:\n",
       "   \\[\n",
       "   b = -a = -\\frac{3}{2}\n",
       "   \\]\n",
       "\n",
       "3. **Tìm nguyên hàm cuối cùng**:\n",
       "   Thay $a$ và $b$ vào $F(x)$:\n",
       "   \\[\n",
       "   F(x) = \\frac{3}{4} x^2 + \\frac{-\\frac{3}{2}}{x} + \\left(1 + \\frac{3}{4}\\right) = \\frac{3}{4} x^2 - \\frac{3}{2x} + \\frac{7}{4}\n",
       "   \\]\n",
       "\n",
       "Vậy nguyên hàm $F(x)$ là:\n",
       "\\[\n",
       "F(x) = \\frac{3}{4} x^2 - \\frac{3}{2x} + \\frac{7}{4}\n",
       "\\]\n"
      ],
      "text/plain": [
       "<IPython.core.display.Latex object>"
      ]
     },
     "metadata": {},
     "output_type": "display_data"
    },
    {
     "name": "stderr",
     "output_type": "stream",
     "text": [
      "Processing Questions:  64%|██████▍   | 104/162 [15:49<09:07,  9.44s/it]"
     ]
    },
    {
     "data": {
      "text/latex": [
       "\n",
       "Để giải bài toán, ta cần tìm nguyên hàm $F(x)$ của hàm số $f(x) = \\frac{4m}{\\pi} + \\sin^2 x$ và xác định giá trị của tham số $m$ sao cho $F(0) = 1$ và $F\\left(\\frac{\\pi}{4}\\right) = \\frac{\\pi}{8}$.\n",
       "\n",
       "**Bước 1: Tính nguyên hàm $F(x)$**\n",
       "\n",
       "Ta có:\n",
       "\\[\n",
       "F(x) = \\int f(x) \\, dx = \\int \\left( \\frac{4m}{\\pi} + \\sin^2 x \\right) dx\n",
       "\\]\n",
       "\n",
       "Sử dụng công thức nguyên hàm cho $\\sin^2 x$:\n",
       "\\[\n",
       "\\int \\sin^2 x \\, dx = \\frac{x}{2} - \\frac{\\sin(2x)}{4} + C\n",
       "\\]\n",
       "\n",
       "Vậy ta có:\n",
       "\\[\n",
       "F(x) = \\frac{4m}{\\pi} x + \\left( \\frac{x}{2} - \\frac{\\sin(2x)}{4} \\right) + C\n",
       "\\]\n",
       "\\[\n",
       "= \\left( \\frac{4m}{\\pi} + \\frac{1}{2} \\right)x - \\frac{\\sin(2x)}{4} + C\n",
       "\\]\n",
       "\n",
       "**Bước 2: Sử dụng điều kiện $F(0) = 1$**\n",
       "\n",
       "Thay $x = 0$ vào $F(x)$:\n",
       "\\[\n",
       "F(0) = \\left( \\frac{4m}{\\pi} + \\frac{1}{2} \\right) \\cdot 0 - \\frac{\\sin(0)}{4} + C = C\n",
       "\\]\n",
       "Do đó, từ điều kiện $F(0) = 1$, ta có:\n",
       "\\[\n",
       "C = 1\n",
       "\\]\n",
       "\n",
       "**Bước 3: Sử dụng điều kiện $F\\left(\\frac{\\pi}{4}\\right) = \\frac{\\pi}{8}$**\n",
       "\n",
       "Thay $x = \\frac{\\pi}{4}$ vào $F(x)$:\n",
       "\\[\n",
       "F\\left(\\frac{\\pi}{4}\\right) = \\left( \\frac{4m}{\\pi} + \\frac{1}{2} \\right) \\cdot \\frac{\\pi}{4} - \\frac{\\sin\\left(\\frac{\\pi}{2}\\right)}{4} + 1\n",
       "\\]\n",
       "\\[\n",
       "= \\left( \\frac{4m}{\\pi} + \\frac{1}{2} \\right) \\cdot \\frac{\\pi}{4} - \\frac{1}{4} + 1\n",
       "\\]\n",
       "\\[\n",
       "= \\left( m + \\frac{\\pi}{8} \\right) - \\frac{1}{4} + 1\n",
       "\\]\n",
       "\\[\n",
       "= m + \\frac{\\pi}{8} + \\frac{3}{4}\n",
       "\\]\n",
       "\n",
       "Đặt điều kiện:\n",
       "\\[\n",
       "m + \\frac{\\pi}{8} + \\frac{3}{4} = \\frac{\\pi}{8}\n",
       "\\]\n",
       "\\[\n",
       "m + \\frac{3}{4} = 0\n",
       "\\]\n",
       "\\[\n",
       "m = -\\frac{3}{4}\n",
       "\\]\n",
       "\n",
       "**Kết luận:**\n",
       "Giá trị của tham số $m$ để nguyên hàm $F(x)$ thỏa mãn các điều kiện đã cho là:\n",
       "\\[\n",
       "m = -\\frac{3}{4}\n",
       "\\]\n"
      ],
      "text/plain": [
       "<IPython.core.display.Latex object>"
      ]
     },
     "metadata": {},
     "output_type": "display_data"
    },
    {
     "name": "stderr",
     "output_type": "stream",
     "text": [
      "Processing Questions:  65%|██████▍   | 105/162 [15:58<08:42,  9.17s/it]"
     ]
    },
    {
     "data": {
      "text/latex": [
       "\n",
       "Để tìm hàm số $F(x)$ là một nguyên hàm của hàm số $f(x) = \\sqrt{x}$, ta cần thực hiện các bước sau:\n",
       "\n",
       "1. **Tính nguyên hàm của $f(x)$**:\n",
       "   Ta có:\n",
       "   \\[\n",
       "   F(x) = \\int f(x) \\, dx = \\int \\sqrt{x} \\, dx\n",
       "   \\]\n",
       "   Sử dụng công thức nguyên hàm:\n",
       "   \\[\n",
       "   \\int x^n \\, dx = \\frac{x^{n+1}}{n+1} + C \\quad (n \\neq -1)\n",
       "   \\]\n",
       "   với $n = \\frac{1}{2}$, ta có:\n",
       "   \\[\n",
       "   F(x) = \\int x^{\\frac{1}{2}} \\, dx = \\frac{x^{\\frac{1}{2} + 1}}{\\frac{1}{2} + 1} + C = \\frac{x^{\\frac{3}{2}}}{\\frac{3}{2}} + C = \\frac{2}{3} x^{\\frac{3}{2}} + C\n",
       "   \\]\n",
       "\n",
       "2. **Sử dụng điều kiện $F(1) = 1$ để tìm hằng số $C$**:\n",
       "   Thay $x = 1$ vào biểu thức $F(x)$:\n",
       "   \\[\n",
       "   F(1) = \\frac{2}{3} \\cdot 1^{\\frac{3}{2}} + C = \\frac{2}{3} + C\n",
       "   \\]\n",
       "   Theo điều kiện bài toán, ta có:\n",
       "   \\[\n",
       "   \\frac{2}{3} + C = 1\n",
       "   \\]\n",
       "   Giải phương trình này để tìm $C$:\n",
       "   \\[\n",
       "   C = 1 - \\frac{2}{3} = \\frac{1}{3}\n",
       "   \\]\n",
       "\n",
       "3. **Viết lại hàm số $F(x)$**:\n",
       "   Thay giá trị của $C$ vào biểu thức của $F(x)$:\n",
       "   \\[\n",
       "   F(x) = \\frac{2}{3} x^{\\frac{3}{2}} + \\frac{1}{3}\n",
       "   \\]\n",
       "\n",
       "Vậy hàm số $F(x)$ cần tìm là:\n",
       "\\[\n",
       "F(x) = \\frac{2}{3} x^{\\frac{3}{2}} + \\frac{1}{3}\n",
       "\\]\n"
      ],
      "text/plain": [
       "<IPython.core.display.Latex object>"
      ]
     },
     "metadata": {},
     "output_type": "display_data"
    },
    {
     "name": "stderr",
     "output_type": "stream",
     "text": [
      "Processing Questions:  65%|██████▌   | 106/162 [16:06<08:23,  8.99s/it]"
     ]
    },
    {
     "data": {
      "text/latex": [
       "\n",
       "Để tìm nguyên hàm $F(x)$ của hàm số $f(x) = \\frac{\\sin 2x}{1 + \\cos x}$, trước tiên ta sẽ biến đổi hàm số này.\n",
       "\n",
       "Ta biết rằng $\\sin 2x = 2 \\sin x \\cos x$. Do đó, ta có:\n",
       "\n",
       "\\[\n",
       "f(x) = \\frac{2 \\sin x \\cos x}{1 + \\cos x}\n",
       "\\]\n",
       "\n",
       "Tiếp theo, ta sẽ sử dụng phương pháp phân tích để tìm nguyên hàm. Ta có thể viết lại hàm số như sau:\n",
       "\n",
       "\\[\n",
       "f(x) = 2 \\sin x \\cdot \\frac{\\cos x}{1 + \\cos x}\n",
       "\\]\n",
       "\n",
       "Đặt $u = 1 + \\cos x$, thì $du = -\\sin x \\, dx$, hay $dx = -\\frac{du}{\\sin x}$. Khi đó, ta có:\n",
       "\n",
       "\\[\n",
       "\\cos x = u - 1\n",
       "\\]\n",
       "\n",
       "Và hàm số trở thành:\n",
       "\n",
       "\\[\n",
       "f(x) = 2 \\sin x \\cdot \\frac{u - 1}{u}\n",
       "\\]\n",
       "\n",
       "Nguyên hàm của $f(x)$ sẽ là:\n",
       "\n",
       "\\[\n",
       "F(x) = \\int f(x) \\, dx = \\int \\frac{2 \\sin x (u - 1)}{u} \\, dx\n",
       "\\]\n",
       "\n",
       "Tuy nhiên, để đơn giản hơn, ta sẽ sử dụng một phương pháp khác. Ta có thể viết lại $f(x)$ như sau:\n",
       "\n",
       "\\[\n",
       "f(x) = \\frac{\\sin 2x}{1 + \\cos x} = \\frac{2 \\sin x \\cos x}{1 + \\cos x}\n",
       "\\]\n",
       "\n",
       "Ta sẽ sử dụng công thức tích phân:\n",
       "\n",
       "\\[\n",
       "F(x) = -2 \\ln |1 + \\cos x| + C\n",
       "\\]\n",
       "\n",
       "Bây giờ, ta cần xác định hằng số $C$ bằng cách sử dụng điều kiện $F\\left(\\frac{\\pi}{2}\\right) = 0$.\n",
       "\n",
       "Tính $F\\left(\\frac{\\pi}{2}\\right)$:\n",
       "\n",
       "\\[\n",
       "F\\left(\\frac{\\pi}{2}\\right) = -2 \\ln |1 + \\cos\\left(\\frac{\\pi}{2}\\right)| + C = -2 \\ln |1 + 0| + C = C\n",
       "\\]\n",
       "\n",
       "Vì $F\\left(\\frac{\\pi}{2}\\right) = 0$, nên $C = 0$. Vậy:\n",
       "\n",
       "\\[\n",
       "F(x) = -2 \\ln |1 + \\cos x|\n",
       "\\]\n",
       "\n",
       "Cuối cùng, ta tính $F(0)$:\n",
       "\n",
       "\\[\n",
       "F(0) = -2 \\ln |1 + \\cos(0)| = -2 \\ln |1 + 1| = -2 \\ln 2\n",
       "\\]\n",
       "\n",
       "Vậy kết quả cuối cùng là:\n",
       "\n",
       "\\[\n",
       "F(0) = -2 \\ln 2\n",
       "\\]\n"
      ],
      "text/plain": [
       "<IPython.core.display.Latex object>"
      ]
     },
     "metadata": {},
     "output_type": "display_data"
    },
    {
     "name": "stderr",
     "output_type": "stream",
     "text": [
      "Processing Questions:  66%|██████▌   | 107/162 [16:13<07:46,  8.47s/it]"
     ]
    },
    {
     "data": {
      "text/latex": [
       "\n",
       "Để giải bài toán, ta thực hiện các bước sau:\n",
       "\n",
       "1. **Tìm nguyên hàm $F(x)$ của hàm số $f(x) = xe^{-x}$**:\n",
       "   Ta sử dụng phương pháp tích phân từng phần. Đặt:\n",
       "   - $u = x \\Rightarrow du = dx$\n",
       "   - $dv = e^{-x}dx \\Rightarrow v = -e^{-x}$\n",
       "\n",
       "   Áp dụng công thức tích phân từng phần:\n",
       "   \\[\n",
       "   \\int u \\, dv = uv - \\int v \\, du\n",
       "   \\]\n",
       "   Ta có:\n",
       "   \\[\n",
       "   F(x) = -xe^{-x} - \\int -e^{-x} \\, dx = -xe^{-x} + e^{-x} + C\n",
       "   \\]\n",
       "   Do đó:\n",
       "   \\[\n",
       "   F(x) = e^{-x}(1 - x) + C\n",
       "   \\]\n",
       "\n",
       "2. **Sử dụng điều kiện $F(0) = -1$ để tìm hằng số $C$**:\n",
       "   Tính $F(0)$:\n",
       "   \\[\n",
       "   F(0) = e^{0}(1 - 0) + C = 1 + C\n",
       "   \\]\n",
       "   Đặt $F(0) = -1$:\n",
       "   \\[\n",
       "   1 + C = -1 \\Rightarrow C = -2\n",
       "   \\]\n",
       "   Vậy:\n",
       "   \\[\n",
       "   F(x) = e^{-x}(1 - x) - 2\n",
       "   \\]\n",
       "\n",
       "3. **Tính đạo hàm $F'(x)$**:\n",
       "   Sử dụng quy tắc đạo hàm của tích:\n",
       "   \\[\n",
       "   F'(x) = \\frac{d}{dx}(e^{-x}(1 - x)) + 0 = e^{-x}(1 - x)' + (1 - x)(e^{-x})' \n",
       "   \\]\n",
       "   Tính các đạo hàm:\n",
       "   \\[\n",
       "   (1 - x)' = -1 \\quad \\text{và} \\quad (e^{-x})' = -e^{-x}\n",
       "   \\]\n",
       "   Do đó:\n",
       "   \\[\n",
       "   F'(x) = e^{-x}(-1) + (1 - x)(-e^{-x}) = -e^{-x} + e^{-x}(x - 1) = e^{-x}(x - 2)\n",
       "   \\]\n",
       "\n",
       "4. **Thay $F(x)$ và $F'(x)$ vào phương trình $F(x) + F'(x) + 1 = 0$**:\n",
       "   \\[\n",
       "   F(x) + F'(x) + 1 = \\left(e^{-x}(1 - x) - 2\\right) + e^{-x}(x - 2) + 1 = 0\n",
       "   \\]\n",
       "   Rút gọn:\n",
       "   \\[\n",
       "   e^{-x}(1 - x + x - 2) - 2 + 1 = 0 \\Rightarrow e^{-x}(-1) - 1 = 0\n",
       "   \\]\n",
       "   \\[\n",
       "   -e^{-x} - 1 = 0 \\Rightarrow e^{-x} = -1\n",
       "   \\]\n",
       "   Phương trình này không có nghiệm thực.\n",
       "\n",
       "5. **Tính tổng $S$ các nghiệm của phương trình**:\n",
       "   Vì phương trình $F(x) + F'(x) + 1 = 0$ không có nghiệm thực, nên tổng $S$ các nghiệm là:\n",
       "   \\[\n",
       "   S = 0\n",
       "   \\]\n",
       "\n"
      ],
      "text/plain": [
       "<IPython.core.display.Latex object>"
      ]
     },
     "metadata": {},
     "output_type": "display_data"
    },
    {
     "name": "stderr",
     "output_type": "stream",
     "text": [
      "Processing Questions:  67%|██████▋   | 108/162 [16:27<09:02, 10.05s/it]"
     ]
    },
    {
     "data": {
      "text/latex": [
       "\n",
       "Để tìm nguyên hàm $F(x)$ của hàm số $f(x) = \\frac{\\sin(2x)}{\\sin^2(x) + 3}$ thỏa mãn điều kiện $F(0) = 0$, ta thực hiện các bước sau:\n",
       "\n",
       "1. **Sử dụng Định lý Nguyên hàm**: \n",
       "   Ta cần tìm nguyên hàm của $f(x)$. Để làm điều này, ta có thể sử dụng công thức biến đổi cho $\\sin(2x)$:\n",
       "   \\[\n",
       "   \\sin(2x) = 2\\sin(x)\\cos(x)\n",
       "   \\]\n",
       "   Do đó, ta có:\n",
       "   \\[\n",
       "   f(x) = \\frac{2\\sin(x)\\cos(x)}{\\sin^2(x) + 3}\n",
       "   \\]\n",
       "\n",
       "2. **Thực hiện phép biến đổi**:\n",
       "   Đặt $u = \\sin(x)$, thì $du = \\cos(x)dx$. Khi đó, ta có:\n",
       "   \\[\n",
       "   f(x) = \\frac{2u}{u^2 + 3} \\cdot \\frac{du}{\\cos(x)}\n",
       "   \\]\n",
       "   Tuy nhiên, để đơn giản hơn, ta sẽ tính nguyên hàm trực tiếp.\n",
       "\n",
       "3. **Tính nguyên hàm**:\n",
       "   Ta có thể sử dụng phương pháp phân tích thành phần:\n",
       "   \\[\n",
       "   F(x) = \\int f(x) \\, dx = \\int \\frac{\\sin(2x)}{\\sin^2(x) + 3} \\, dx\n",
       "   \\]\n",
       "   Sử dụng phương pháp tích phân từng phần hoặc các công thức tích phân có sẵn, ta có thể tìm được nguyên hàm.\n",
       "\n",
       "   Sau khi tính toán, ta có:\n",
       "   \\[\n",
       "   F(x) = -\\sqrt{3} \\cdot \\tan^{-1}\\left(\\frac{\\sin(x)}{\\sqrt{3}}\\right) + C\n",
       "   \\]\n",
       "\n",
       "4. **Xác định hằng số C**:\n",
       "   Để tìm hằng số $C$, ta sử dụng điều kiện $F(0) = 0$:\n",
       "   \\[\n",
       "   F(0) = -\\sqrt{3} \\cdot \\tan^{-1}\\left(0\\right) + C = 0\n",
       "   \\]\n",
       "   Do đó, $C = 0$.\n",
       "\n",
       "5. **Kết luận**:\n",
       "   Vậy nguyên hàm $F(x)$ thỏa mãn điều kiện là:\n",
       "   \\[\n",
       "   F(x) = -\\sqrt{3} \\cdot \\tan^{-1}\\left(\\frac{\\sin(x)}{\\sqrt{3}}\\right)\n",
       "   \\]\n",
       "\n"
      ],
      "text/plain": [
       "<IPython.core.display.Latex object>"
      ]
     },
     "metadata": {},
     "output_type": "display_data"
    },
    {
     "name": "stderr",
     "output_type": "stream",
     "text": [
      "Processing Questions:  67%|██████▋   | 109/162 [16:34<08:02,  9.10s/it]"
     ]
    },
    {
     "data": {
      "text/latex": [
       "\n",
       "Để giải bài toán, ta thực hiện các bước sau:\n",
       "\n",
       "1. **Tìm nguyên hàm $F(x)$ của hàm số $f(x) = \\frac{1}{e^x + 1}$**:\n",
       "   Ta có:\n",
       "   \\[\n",
       "   F(x) = \\int f(x) \\, dx = \\int \\frac{1}{e^x + 1} \\, dx\n",
       "   \\]\n",
       "   Để tính nguyên hàm này, ta có thể sử dụng phương pháp thay biến. Đặt $u = e^x + 1$, thì $du = e^x \\, dx$ hay $dx = \\frac{du}{e^x} = \\frac{du}{u - 1}$. Khi $x \\to -\\infty$, $u \\to 1$ và khi $x \\to 0$, $u \\to 2$. \n",
       "\n",
       "   Thay vào nguyên hàm, ta có:\n",
       "   \\[\n",
       "   F(x) = \\int \\frac{1}{u} \\cdot \\frac{du}{u - 1} = \\int \\frac{1}{u(u - 1)} \\, du\n",
       "   \\]\n",
       "   Sử dụng phân tích thành phần:\n",
       "   \\[\n",
       "   \\frac{1}{u(u - 1)} = \\frac{1}{u} + \\frac{1}{1 - u}\n",
       "   \\]\n",
       "   Ta có:\n",
       "   \\[\n",
       "   F(x) = \\ln|u| - \\ln|1 - u| + C = \\ln(e^x + 1) - \\ln(1 - (e^x + 1)) + C\n",
       "   \\]\n",
       "   Từ đó, ta có:\n",
       "   \\[\n",
       "   F(x) = \\ln(e^x + 1) + C\n",
       "   \\]\n",
       "\n",
       "2. **Sử dụng điều kiện $F(0) = -\\ln 2$ để tìm hằng số $C$**:\n",
       "   Tính $F(0)$:\n",
       "   \\[\n",
       "   F(0) = \\ln(e^0 + 1) + C = \\ln(2) + C\n",
       "   \\]\n",
       "   Đặt $F(0) = -\\ln 2$, ta có:\n",
       "   \\[\n",
       "   \\ln(2) + C = -\\ln 2 \\implies C = -2\\ln 2\n",
       "   \\]\n",
       "   Vậy:\n",
       "   \\[\n",
       "   F(x) = \\ln(e^x + 1) - 2\\ln 2 = \\ln\\left(\\frac{e^x + 1}{4}\\right)\n",
       "   \\]\n",
       "\n",
       "3. **Giải phương trình $F(x) + \\ln(e^x + 1) = 3$**:\n",
       "   Thay $F(x)$ vào phương trình:\n",
       "   \\[\n",
       "   \\ln\\left(\\frac{e^x + 1}{4}\\right) + \\ln(e^x + 1) = 3\n",
       "   \\]\n",
       "   Sử dụng tính chất của logarit:\n",
       "   \\[\n",
       "   \\ln\\left(\\frac{e^x + 1}{4} \\cdot (e^x + 1)\\right) = 3\n",
       "   \\]\n",
       "   Hay:\n",
       "   \\[\n",
       "   \\ln\\left(\\frac{(e^x + 1)^2}{4}\\right) = 3\n",
       "   \\]\n",
       "   Giải phương trình logarit:\n",
       "   \\[\n",
       "   \\frac{(e^x + 1)^2}{4} = e^3 \\implies (e^x + 1)^2 = 4e^3\n",
       "   \\]\n",
       "   Lấy căn hai hai bên:\n",
       "   \\[\n",
       "   e^x + 1 = 2e^{3/2} \\quad \\text{hoặc} \\quad e^x + 1 = -2e^{3/2} \\quad (\\text{không có nghiệm})\n",
       "   \\]\n",
       "   Vậy:\n",
       "   \\[\n",
       "   e^x = 2e^{3/2} - 1\n",
       "   \\]\n",
       "   Từ đó:\n",
       "   \\[\n",
       "   x = \\ln(2e^{3/2} - 1)\n",
       "   \\]\n",
       "\n",
       "4. **Tập nghiệm $S$**:\n",
       "   Tập nghiệm $S$ là:\n",
       "   \\[\n",
       "   S = \\left\\{ \\ln(2e^{3/2} - 1) \\right\\}\n",
       "   \\]\n",
       "\n"
      ],
      "text/plain": [
       "<IPython.core.display.Latex object>"
      ]
     },
     "metadata": {},
     "output_type": "display_data"
    },
    {
     "name": "stderr",
     "output_type": "stream",
     "text": [
      "Processing Questions:  68%|██████▊   | 110/162 [16:49<09:25, 10.87s/it]"
     ]
    },
    {
     "data": {
      "text/latex": [
       "\n",
       "Để tính tích phân $I = \\int_{-1}^{1}(x^3 + 3x + 2)dx$, ta sẽ thực hiện các bước sau:\n",
       "\n",
       "1. **Tách tích phân**: \n",
       "   Chúng ta có thể tách tích phân thành các phần riêng biệt:\n",
       "   \\[\n",
       "   I = \\int_{-1}^{1} x^3 \\, dx + \\int_{-1}^{1} 3x \\, dx + \\int_{-1}^{1} 2 \\, dx\n",
       "   \\]\n",
       "\n",
       "2. **Tính từng tích phân**:\n",
       "   - Tính tích phân $\\int_{-1}^{1} x^3 \\, dx$:\n",
       "     Hàm $x^3$ là một hàm lẻ, do đó:\n",
       "     \\[\n",
       "     \\int_{-1}^{1} x^3 \\, dx = 0\n",
       "     \\]\n",
       "\n",
       "   - Tính tích phân $\\int_{-1}^{1} 3x \\, dx$:\n",
       "     Hàm $3x$ cũng là một hàm lẻ, do đó:\n",
       "     \\[\n",
       "     \\int_{-1}^{1} 3x \\, dx = 0\n",
       "     \\]\n",
       "\n",
       "   - Tính tích phân $\\int_{-1}^{1} 2 \\, dx$:\n",
       "     Đây là một hàm hằng, ta có:\n",
       "     \\[\n",
       "     \\int_{-1}^{1} 2 \\, dx = 2 \\cdot (1 - (-1)) = 2 \\cdot 2 = 4\n",
       "     \\]\n",
       "\n",
       "3. **Kết hợp các kết quả**:\n",
       "   Từ các kết quả trên, ta có:\n",
       "   \\[\n",
       "   I = 0 + 0 + 4 = 4\n",
       "   \\]\n",
       "\n",
       "Vậy, giá trị của tích phân là $I = 4$.\n"
      ],
      "text/plain": [
       "<IPython.core.display.Latex object>"
      ]
     },
     "metadata": {},
     "output_type": "display_data"
    },
    {
     "name": "stderr",
     "output_type": "stream",
     "text": [
      "Processing Questions:  69%|██████▊   | 111/162 [16:54<07:46,  9.15s/it]"
     ]
    },
    {
     "data": {
      "text/latex": [
       "\n",
       "Để tính tích phân $I = \\int_{1}^{2} \\left( \\frac{1}{x^2} + 2x \\right) dx$, ta sẽ tách tích phân thành hai phần:\n",
       "\n",
       "\\[\n",
       "I = \\int_{1}^{2} \\frac{1}{x^2} \\, dx + \\int_{1}^{2} 2x \\, dx\n",
       "\\]\n",
       "\n",
       "Bước 1: Tính tích phân $\\int_{1}^{2} \\frac{1}{x^2} \\, dx$.\n",
       "\n",
       "Ta biết rằng:\n",
       "\n",
       "\\[\n",
       "\\int \\frac{1}{x^2} \\, dx = -\\frac{1}{x} + C\n",
       "\\]\n",
       "\n",
       "Vậy:\n",
       "\n",
       "\\[\n",
       "\\int_{1}^{2} \\frac{1}{x^2} \\, dx = \\left[-\\frac{1}{x}\\right]_{1}^{2} = -\\frac{1}{2} - \\left(-\\frac{1}{1}\\right) = -\\frac{1}{2} + 1 = \\frac{1}{2}\n",
       "\\]\n",
       "\n",
       "Bước 2: Tính tích phân $\\int_{1}^{2} 2x \\, dx$.\n",
       "\n",
       "Ta có:\n",
       "\n",
       "\\[\n",
       "\\int 2x \\, dx = x^2 + C\n",
       "\\]\n",
       "\n",
       "Vậy:\n",
       "\n",
       "\\[\n",
       "\\int_{1}^{2} 2x \\, dx = \\left[x^2\\right]_{1}^{2} = 2^2 - 1^2 = 4 - 1 = 3\n",
       "\\]\n",
       "\n",
       "Bước 3: Cộng hai kết quả lại để tìm $I$.\n",
       "\n",
       "\\[\n",
       "I = \\frac{1}{2} + 3 = \\frac{1}{2} + \\frac{6}{2} = \\frac{7}{2}\n",
       "\\]\n",
       "\n",
       "Vậy kết quả cuối cùng là:\n",
       "\n",
       "\\[\n",
       "I = \\frac{7}{2}\n",
       "\\]\n"
      ],
      "text/plain": [
       "<IPython.core.display.Latex object>"
      ]
     },
     "metadata": {},
     "output_type": "display_data"
    },
    {
     "name": "stderr",
     "output_type": "stream",
     "text": [
      "Processing Questions:  69%|██████▉   | 112/162 [17:02<07:11,  8.63s/it]"
     ]
    },
    {
     "data": {
      "text/latex": [
       "\n",
       "Để tính tích phân $I = \\int_{\\frac{\\pi}{2}}^{\\pi} (\\sin 2x - \\cos 3x) \\, dx$, ta sẽ tách tích phân thành hai phần:\n",
       "\n",
       "\\[\n",
       "I = \\int_{\\frac{\\pi}{2}}^{\\pi} \\sin 2x \\, dx - \\int_{\\frac{\\pi}{2}}^{\\pi} \\cos 3x \\, dx\n",
       "\\]\n",
       "\n",
       "Bước 1: Tính tích phân $\\int \\sin 2x \\, dx$.\n",
       "\n",
       "Áp dụng công thức tích phân:\n",
       "\n",
       "\\[\n",
       "\\int \\sin kx \\, dx = -\\frac{1}{k} \\cos kx + C\n",
       "\\]\n",
       "\n",
       "Với $k = 2$, ta có:\n",
       "\n",
       "\\[\n",
       "\\int \\sin 2x \\, dx = -\\frac{1}{2} \\cos 2x + C\n",
       "\\]\n",
       "\n",
       "Bây giờ, tính từ $\\frac{\\pi}{2}$ đến $\\pi$:\n",
       "\n",
       "\\[\n",
       "\\int_{\\frac{\\pi}{2}}^{\\pi} \\sin 2x \\, dx = \\left[-\\frac{1}{2} \\cos 2x\\right]_{\\frac{\\pi}{2}}^{\\pi}\n",
       "\\]\n",
       "\n",
       "Tính giá trị tại các giới hạn:\n",
       "\n",
       "- Tại $x = \\pi$: $\\cos 2\\pi = 1$\n",
       "- Tại $x = \\frac{\\pi}{2}$: $\\cos \\pi = -1$\n",
       "\n",
       "Vậy:\n",
       "\n",
       "\\[\n",
       "\\int_{\\frac{\\pi}{2}}^{\\pi} \\sin 2x \\, dx = -\\frac{1}{2} (1 - (-1)) = -\\frac{1}{2} (1 + 1) = -\\frac{1}{2} \\cdot 2 = -1\n",
       "\\]\n",
       "\n",
       "Bước 2: Tính tích phân $\\int \\cos 3x \\, dx$.\n",
       "\n",
       "Áp dụng công thức tích phân:\n",
       "\n",
       "\\[\n",
       "\\int \\cos kx \\, dx = \\frac{1}{k} \\sin kx + C\n",
       "\\]\n",
       "\n",
       "Với $k = 3$, ta có:\n",
       "\n",
       "\\[\n",
       "\\int \\cos 3x \\, dx = \\frac{1}{3} \\sin 3x + C\n",
       "\\]\n",
       "\n",
       "Tính từ $\\frac{\\pi}{2}$ đến $\\pi$:\n",
       "\n",
       "\\[\n",
       "\\int_{\\frac{\\pi}{2}}^{\\pi} \\cos 3x \\, dx = \\left[\\frac{1}{3} \\sin 3x\\right]_{\\frac{\\pi}{2}}^{\\pi}\n",
       "\\]\n",
       "\n",
       "Tính giá trị tại các giới hạn:\n",
       "\n",
       "- Tại $x = \\pi$: $\\sin 3\\pi = 0$\n",
       "- Tại $x = \\frac{\\pi}{2}$: $\\sin \\frac{3\\pi}{2} = -1$\n",
       "\n",
       "Vậy:\n",
       "\n",
       "\\[\n",
       "\\int_{\\frac{\\pi}{2}}^{\\pi} \\cos 3x \\, dx = \\frac{1}{3} (0 - (-1)) = \\frac{1}{3} \\cdot 1 = \\frac{1}{3}\n",
       "\\]\n",
       "\n",
       "Bước 3: Kết hợp các kết quả lại.\n",
       "\n",
       "\\[\n",
       "I = -1 - \\frac{1}{3} = -\\frac{3}{3} - \\frac{1}{3} = -\\frac{4}{3}\n",
       "\\]\n",
       "\n",
       "Vậy kết quả cuối cùng là:\n",
       "\n",
       "\\[\n",
       "I = -\\frac{4}{3}\n",
       "\\]\n"
      ],
      "text/plain": [
       "<IPython.core.display.Latex object>"
      ]
     },
     "metadata": {},
     "output_type": "display_data"
    },
    {
     "name": "stderr",
     "output_type": "stream",
     "text": [
      "Processing Questions:  70%|██████▉   | 113/162 [17:10<07:00,  8.57s/it]"
     ]
    },
    {
     "data": {
      "text/latex": [
       "\n",
       "Để tính tích phân $I = \\int_{0}^{1} \\frac{x}{4-x^2} \\, dx$, ta sẽ sử dụng phương pháp phân tích phân số.\n",
       "\n",
       "Bước 1: Phân tích mẫu số\n",
       "Ta có thể viết lại mẫu số $4 - x^2$ như sau:\n",
       "$$\n",
       "4 - x^2 = (2 - x)(2 + x)\n",
       "$$\n",
       "\n",
       "Bước 2: Phân tích phân số\n",
       "Ta sẽ phân tích phân số $\\frac{x}{4 - x^2}$ thành các phân số đơn giản:\n",
       "$$\n",
       "\\frac{x}{4 - x^2} = \\frac{x}{(2 - x)(2 + x)}\n",
       "$$\n",
       "Ta sẽ tìm các hằng số $A$ và $B$ sao cho:\n",
       "$$\n",
       "\\frac{x}{(2 - x)(2 + x)} = \\frac{A}{2 - x} + \\frac{B}{2 + x}\n",
       "$$\n",
       "\n",
       "Bước 3: Tìm $A$ và $B$\n",
       "Nhân cả hai vế với mẫu số chung $(2 - x)(2 + x)$, ta có:\n",
       "$$\n",
       "x = A(2 + x) + B(2 - x)\n",
       "$$\n",
       "Mở rộng và nhóm lại:\n",
       "$$\n",
       "x = (2A + 2B) + (A - B)x\n",
       "$$\n",
       "So sánh hệ số, ta có:\n",
       "1. $A - B = 1$\n",
       "2. $2A + 2B = 0$\n",
       "\n",
       "Giải hệ phương trình này:\n",
       "Từ phương trình 2, ta có $A + B = 0 \\Rightarrow B = -A$.\n",
       "Thay vào phương trình 1:\n",
       "$$\n",
       "A - (-A) = 1 \\Rightarrow 2A = 1 \\Rightarrow A = \\frac{1}{2} \\Rightarrow B = -\\frac{1}{2}\n",
       "$$\n",
       "\n",
       "Vậy ta có:\n",
       "$$\n",
       "\\frac{x}{4 - x^2} = \\frac{1/2}{2 - x} - \\frac{1/2}{2 + x}\n",
       "$$\n",
       "\n",
       "Bước 4: Tính tích phân\n",
       "Thay vào tích phân:\n",
       "$$\n",
       "I = \\int_{0}^{1} \\left( \\frac{1/2}{2 - x} - \\frac{1/2}{2 + x} \\right) dx\n",
       "$$\n",
       "$$\n",
       "= \\frac{1}{2} \\int_{0}^{1} \\frac{1}{2 - x} \\, dx - \\frac{1}{2} \\int_{0}^{1} \\frac{1}{2 + x} \\, dx\n",
       "$$\n",
       "\n",
       "Tính từng tích phân:\n",
       "1. Tích phân đầu tiên:\n",
       "$$\n",
       "\\int \\frac{1}{2 - x} \\, dx = -\\ln |2 - x| + C\n",
       "$$\n",
       "Vậy:\n",
       "$$\n",
       "\\int_{0}^{1} \\frac{1}{2 - x} \\, dx = \\left[-\\ln |2 - x|\\right]_{0}^{1} = -\\ln(1) + \\ln(2) = \\ln(2)\n",
       "$$\n",
       "\n",
       "2. Tích phân thứ hai:\n",
       "$$\n",
       "\\int \\frac{1}{2 + x} \\, dx = \\ln |2 + x| + C\n",
       "$$\n",
       "Vậy:\n",
       "$$\n",
       "\\int_{0}^{1} \\frac{1}{2 + x} \\, dx = \\left[\\ln |2 + x|\\right]_{0}^{1} = \\ln(3) - \\ln(2) = \\ln\\left(\\frac{3}{2}\\right)\n",
       "$$\n",
       "\n",
       "Bước 5: Kết hợp kết quả\n",
       "Thay vào công thức cho $I$:\n",
       "$$\n",
       "I = \\frac{1}{2} \\ln(2) - \\frac{1}{2} \\ln\\left(\\frac{3}{2}\\right)\n",
       "$$\n",
       "$$\n",
       "= \\frac{1}{2} \\left( \\ln(2) - \\ln\\left(\\frac{3}{2}\\right) \\right) = \\frac{1}{2} \\ln\\left(\\frac{2}{\\frac{3}{2}}\\right) = \\frac{1}{2} \\ln\\left(\\frac{4}{3}\\right)\n",
       "$$\n",
       "\n",
       "Vậy kết quả cuối cùng là:\n",
       "$$\n",
       "I = \\frac{1}{2} \\ln\\left(\\frac{4}{3}\\right)\n",
       "$$\n"
      ],
      "text/plain": [
       "<IPython.core.display.Latex object>"
      ]
     },
     "metadata": {},
     "output_type": "display_data"
    },
    {
     "name": "stderr",
     "output_type": "stream",
     "text": [
      "Processing Questions:  70%|███████   | 114/162 [17:27<08:53, 11.11s/it]"
     ]
    },
    {
     "data": {
      "text/latex": [
       "\n",
       "Để tính tích phân $I = \\int_{0}^{1} \\frac{dx}{(1+x)^3}$, ta sẽ sử dụng phương pháp đổi biến.\n",
       "\n",
       "Bước 1: Đổi biến\n",
       "Ta đặt $u = 1 + x$, do đó $du = dx$ và khi $x = 0$, $u = 1$; khi $x = 1$, $u = 2$. \n",
       "\n",
       "Bước 2: Thay đổi giới hạn và biểu thức tích phân\n",
       "Tích phân trở thành:\n",
       "\\[\n",
       "I = \\int_{1}^{2} \\frac{du}{u^3}\n",
       "\\]\n",
       "\n",
       "Bước 3: Tính tích phân\n",
       "Tích phân $\\int \\frac{du}{u^3}$ có thể được tính như sau:\n",
       "\\[\n",
       "\\int \\frac{du}{u^3} = -\\frac{1}{2u^2} + C\n",
       "\\]\n",
       "\n",
       "Bước 4: Tính giá trị của tích phân từ 1 đến 2\n",
       "Áp dụng định lý cơ bản của tích phân, ta có:\n",
       "\\[\n",
       "I = \\left[-\\frac{1}{2u^2}\\right]_{1}^{2} = -\\frac{1}{2(2^2)} - \\left(-\\frac{1}{2(1^2)}\\right)\n",
       "\\]\n",
       "\\[\n",
       "= -\\frac{1}{8} + \\frac{1}{2} = -\\frac{1}{8} + \\frac{4}{8} = \\frac{3}{8}\n",
       "\\]\n",
       "\n",
       "Vậy kết quả của tích phân là:\n",
       "\\[\n",
       "I = \\frac{3}{8}\n",
       "\\]\n"
      ],
      "text/plain": [
       "<IPython.core.display.Latex object>"
      ]
     },
     "metadata": {},
     "output_type": "display_data"
    },
    {
     "name": "stderr",
     "output_type": "stream",
     "text": [
      "Processing Questions:  71%|███████   | 115/162 [17:34<07:36,  9.72s/it]"
     ]
    },
    {
     "data": {
      "text/latex": [
       "\n",
       "Để tính tích phân $I = \\int_{0}^{1} \\frac{x-2}{x^2-4x+5} \\, dx$, ta sẽ thực hiện các bước sau:\n",
       "\n",
       "1. **Phân tích mẫu số**:\n",
       "   Mẫu số là $x^2 - 4x + 5$. Ta có thể viết lại mẫu số này dưới dạng hoàn thành bình phương:\n",
       "   \\[\n",
       "   x^2 - 4x + 5 = (x-2)^2 + 1\n",
       "   \\]\n",
       "   Như vậy, ta có:\n",
       "   \\[\n",
       "   I = \\int_{0}^{1} \\frac{x-2}{(x-2)^2 + 1} \\, dx\n",
       "   \\]\n",
       "\n",
       "2. **Thực hiện phép biến đổi**:\n",
       "   Đặt $u = (x-2)$, thì $du = dx$ và khi $x = 0$, $u = -2$; khi $x = 1$, $u = -1$. Tích phân trở thành:\n",
       "   \\[\n",
       "   I = \\int_{-2}^{-1} \\frac{u}{u^2 + 1} \\, du\n",
       "   \\]\n",
       "\n",
       "3. **Tính tích phân**:\n",
       "   Tích phân này có thể được tính bằng cách sử dụng phương pháp phân tích thành từng phần hoặc nhận biết rằng:\n",
       "   \\[\n",
       "   \\int \\frac{u}{u^2 + 1} \\, du = \\frac{1}{2} \\ln |u^2 + 1| + C\n",
       "   \\]\n",
       "   Do đó, ta có:\n",
       "   \\[\n",
       "   I = \\left[ \\frac{1}{2} \\ln |u^2 + 1| \\right]_{-2}^{-1}\n",
       "   \\]\n",
       "\n",
       "4. **Tính giá trị tại các giới hạn**:\n",
       "   Tính giá trị tại $u = -1$ và $u = -2$:\n",
       "   \\[\n",
       "   I = \\frac{1}{2} \\ln((-1)^2 + 1) - \\frac{1}{2} \\ln((-2)^2 + 1)\n",
       "   \\]\n",
       "   \\[\n",
       "   = \\frac{1}{2} \\ln(1 + 1) - \\frac{1}{2} \\ln(4 + 1)\n",
       "   \\]\n",
       "   \\[\n",
       "   = \\frac{1}{2} \\ln(2) - \\frac{1}{2} \\ln(5)\n",
       "   \\]\n",
       "   \\[\n",
       "   = \\frac{1}{2} (\\ln(2) - \\ln(5)) = \\frac{1}{2} \\ln\\left(\\frac{2}{5}\\right)\n",
       "   \\]\n",
       "\n",
       "5. **Kết luận**:\n",
       "   Vậy kết quả của tích phân là:\n",
       "   \\[\n",
       "   I = \\frac{1}{2} \\ln\\left(\\frac{2}{5}\\right)\n",
       "   \\]\n",
       "\n"
      ],
      "text/plain": [
       "<IPython.core.display.Latex object>"
      ]
     },
     "metadata": {},
     "output_type": "display_data"
    },
    {
     "name": "stderr",
     "output_type": "stream",
     "text": [
      "Processing Questions:  72%|███████▏  | 116/162 [17:42<07:09,  9.35s/it]"
     ]
    },
    {
     "data": {
      "text/latex": [
       "\n",
       "Để tính tích phân $I = \\int_{-1}^{0} \\frac{dx}{(2x-1)^2}$, ta sẽ thực hiện các bước sau:\n",
       "\n",
       "1. **Xét hàm số trong tích phân**:\n",
       "   Hàm số $f(x) = \\frac{1}{(2x-1)^2}$ có điểm không xác định tại $x = \\frac{1}{2}$. Tuy nhiên, trong khoảng $[-1, 0]$, hàm số này là xác định và liên tục.\n",
       "\n",
       "2. **Tính tích phân**:\n",
       "   Ta sẽ sử dụng phương pháp đổi biến để tính tích phân. Đặt $u = 2x - 1$, từ đó suy ra $du = 2dx$ hay $dx = \\frac{du}{2}$. Khi $x = -1$, $u = 2(-1) - 1 = -3$; khi $x = 0$, $u = 2(0) - 1 = -1$.\n",
       "\n",
       "   Thay đổi giới hạn và biến trong tích phân, ta có:\n",
       "   \\[\n",
       "   I = \\int_{-3}^{-1} \\frac{1}{u^2} \\cdot \\frac{du}{2} = \\frac{1}{2} \\int_{-3}^{-1} u^{-2} du\n",
       "   \\]\n",
       "\n",
       "3. **Tính tích phân $u^{-2}$**:\n",
       "   Tích phân của $u^{-2}$ là:\n",
       "   \\[\n",
       "   \\int u^{-2} du = -\\frac{1}{u} + C\n",
       "   \\]\n",
       "   Do đó, ta có:\n",
       "   \\[\n",
       "   I = \\frac{1}{2} \\left[-\\frac{1}{u}\\right]_{-3}^{-1} = \\frac{1}{2} \\left(-\\frac{1}{-1} - \\left(-\\frac{1}{-3}\\right)\\right)\n",
       "   \\]\n",
       "\n",
       "4. **Tính giá trị tại các giới hạn**:\n",
       "   \\[\n",
       "   I = \\frac{1}{2} \\left(1 - \\frac{1}{3}\\right) = \\frac{1}{2} \\left(\\frac{3}{3} - \\frac{1}{3}\\right) = \\frac{1}{2} \\cdot \\frac{2}{3} = \\frac{1}{3}\n",
       "   \\]\n",
       "\n",
       "Vậy kết quả của tích phân là:\n",
       "\\[\n",
       "I = \\frac{1}{3}\n",
       "\\]\n"
      ],
      "text/plain": [
       "<IPython.core.display.Latex object>"
      ]
     },
     "metadata": {},
     "output_type": "display_data"
    },
    {
     "name": "stderr",
     "output_type": "stream",
     "text": [
      "Processing Questions:  72%|███████▏  | 117/162 [17:54<07:34, 10.10s/it]"
     ]
    },
    {
     "data": {
      "text/latex": [
       "\n",
       "Để tính tích phân $I = \\int_{0}^{1} \\frac{e^x}{e^x+1} dx$, ta sẽ sử dụng một phương pháp biến đổi.\n",
       "\n",
       "Đầu tiên, ta có thể biến đổi biểu thức trong tích phân như sau:\n",
       "\n",
       "\\[\n",
       "\\frac{e^x}{e^x + 1} = 1 - \\frac{1}{e^x + 1}\n",
       "\\]\n",
       "\n",
       "Do đó, ta có thể viết lại tích phân $I$ như sau:\n",
       "\n",
       "\\[\n",
       "I = \\int_{0}^{1} \\left( 1 - \\frac{1}{e^x + 1} \\right) dx\n",
       "\\]\n",
       "\n",
       "Tách tích phân ra, ta có:\n",
       "\n",
       "\\[\n",
       "I = \\int_{0}^{1} 1 \\, dx - \\int_{0}^{1} \\frac{1}{e^x + 1} \\, dx\n",
       "\\]\n",
       "\n",
       "Tính tích phân đầu tiên:\n",
       "\n",
       "\\[\n",
       "\\int_{0}^{1} 1 \\, dx = [x]_{0}^{1} = 1 - 0 = 1\n",
       "\\]\n",
       "\n",
       "Tiếp theo, ta cần tính tích phân thứ hai:\n",
       "\n",
       "\\[\n",
       "\\int_{0}^{1} \\frac{1}{e^x + 1} \\, dx\n",
       "\\]\n",
       "\n",
       "Để tính tích phân này, ta sẽ sử dụng phép biến đổi $u = 1 - x$, từ đó $du = -dx$. Khi $x = 0$, $u = 1$ và khi $x = 1$, $u = 0$. Tích phân trở thành:\n",
       "\n",
       "\\[\n",
       "\\int_{1}^{0} \\frac{1}{e^{1-u} + 1} (-du) = \\int_{0}^{1} \\frac{1}{\\frac{e}{e^u} + 1} du = \\int_{0}^{1} \\frac{e^u}{e + e^u} du\n",
       "\\]\n",
       "\n",
       "Bây giờ, ta có hai tích phân:\n",
       "\n",
       "1. $I = 1 - \\int_{0}^{1} \\frac{1}{e^x + 1} \\, dx$\n",
       "2. $J = \\int_{0}^{1} \\frac{e^x}{e^x + 1} \\, dx$\n",
       "\n",
       "Ta nhận thấy rằng $I + J = 1$. \n",
       "\n",
       "Vì vậy, ta có:\n",
       "\n",
       "\\[\n",
       "I + I = 1 \\implies 2I = 1 \\implies I = \\frac{1}{2}\n",
       "\\]\n",
       "\n",
       "Cuối cùng, ta có kết quả:\n",
       "\n",
       "\\[\n",
       "I = \\frac{1}{2}\n",
       "\\]\n"
      ],
      "text/plain": [
       "<IPython.core.display.Latex object>"
      ]
     },
     "metadata": {},
     "output_type": "display_data"
    },
    {
     "name": "stderr",
     "output_type": "stream",
     "text": [
      "Processing Questions:  73%|███████▎  | 118/162 [18:00<06:32,  8.92s/it]"
     ]
    },
    {
     "data": {
      "text/latex": [
       "\n",
       "Để tính tích phân $I = \\int_{0}^{\\frac{\\pi}{2}} \\sin^2 x \\cos x \\, dx$, ta có thể sử dụng phương pháp đổi biến.\n",
       "\n",
       "Bước 1: Đổi biến\n",
       "Ta đặt $u = \\sin x$. Khi đó, đạo hàm của $u$ là $du = \\cos x \\, dx$. \n",
       "\n",
       "Khi $x = 0$, thì $u = \\sin(0) = 0$.\n",
       "Khi $x = \\frac{\\pi}{2}$, thì $u = \\sin\\left(\\frac{\\pi}{2}\\right) = 1$.\n",
       "\n",
       "Bước 2: Thay đổi giới hạn và biểu thức\n",
       "Tích phân trở thành:\n",
       "\\[\n",
       "I = \\int_{0}^{1} u^2 \\, du\n",
       "\\]\n",
       "\n",
       "Bước 3: Tính tích phân\n",
       "Tính tích phân $I$:\n",
       "\\[\n",
       "I = \\int_{0}^{1} u^2 \\, du = \\left[ \\frac{u^3}{3} \\right]_{0}^{1} = \\frac{1^3}{3} - \\frac{0^3}{3} = \\frac{1}{3}\n",
       "\\]\n",
       "\n",
       "Vậy kết quả của tích phân là:\n",
       "\\[\n",
       "I = \\frac{1}{3}\n",
       "\\]\n"
      ],
      "text/plain": [
       "<IPython.core.display.Latex object>"
      ]
     },
     "metadata": {},
     "output_type": "display_data"
    },
    {
     "name": "stderr",
     "output_type": "stream",
     "text": [
      "Processing Questions:  73%|███████▎  | 119/162 [18:04<05:21,  7.47s/it]"
     ]
    },
    {
     "data": {
      "text/latex": [
       "\n",
       "Để tính tích phân $I = \\int_{0}^{\\frac{\\pi}{4}} \\frac{\\sin x}{\\cos x} \\, dx$, ta có thể sử dụng một số phép biến đổi đơn giản.\n",
       "\n",
       "Bước 1: Nhận diện hàm số trong tích phân.\n",
       "Ta có:\n",
       "$$ \\frac{\\sin x}{\\cos x} = \\tan x $$\n",
       "\n",
       "Bước 2: Thay thế hàm số trong tích phân.\n",
       "Vậy tích phân trở thành:\n",
       "$$ I = \\int_{0}^{\\frac{\\pi}{4}} \\tan x \\, dx $$\n",
       "\n",
       "Bước 3: Tính tích phân của hàm $\\tan x$.\n",
       "Tích phân của $\\tan x$ là:\n",
       "$$ \\int \\tan x \\, dx = -\\ln |\\cos x| + C $$\n",
       "\n",
       "Bước 4: Áp dụng định lý cơ bản của tích phân.\n",
       "Ta tính tích phân từ $0$ đến $\\frac{\\pi}{4}$:\n",
       "$$ I = \\left[-\\ln |\\cos x|\\right]_{0}^{\\frac{\\pi}{4}} $$\n",
       "\n",
       "Bước 5: Tính giá trị tại các giới hạn.\n",
       "- Tại $x = \\frac{\\pi}{4}$:\n",
       "$$ \\cos\\left(\\frac{\\pi}{4}\\right) = \\frac{1}{\\sqrt{2}} \\Rightarrow -\\ln\\left(\\frac{1}{\\sqrt{2}}\\right) = \\ln(\\sqrt{2}) = \\frac{1}{2} \\ln(2) $$\n",
       "\n",
       "- Tại $x = 0$:\n",
       "$$ \\cos(0) = 1 \\Rightarrow -\\ln(1) = 0 $$\n",
       "\n",
       "Bước 6: Kết hợp các giá trị.\n",
       "Vậy:\n",
       "$$ I = \\frac{1}{2} \\ln(2) - 0 = \\frac{1}{2} \\ln(2) $$\n",
       "\n",
       "Cuối cùng, ta có kết quả của tích phân:\n",
       "$$ I = \\frac{1}{2} \\ln(2) $$\n",
       "\n"
      ],
      "text/plain": [
       "<IPython.core.display.Latex object>"
      ]
     },
     "metadata": {},
     "output_type": "display_data"
    },
    {
     "name": "stderr",
     "output_type": "stream",
     "text": [
      "Processing Questions:  74%|███████▍  | 120/162 [18:09<04:41,  6.70s/it]"
     ]
    },
    {
     "data": {
      "text/latex": [
       "\n",
       "Để tính tích phân $I = \\int_{0}^{\\frac{\\pi}{2}}(x + \\sin^2 x) \\cos x \\, dx$, ta sẽ tách tích phân thành hai phần:\n",
       "\n",
       "\\[\n",
       "I = \\int_{0}^{\\frac{\\pi}{2}} x \\cos x \\, dx + \\int_{0}^{\\frac{\\pi}{2}} \\sin^2 x \\cos x \\, dx\n",
       "\\]\n",
       "\n",
       "**Bước 1: Tính tích phân thứ nhất $I_1 = \\int_{0}^{\\frac{\\pi}{2}} x \\cos x \\, dx$**\n",
       "\n",
       "Để tính $I_1$, ta sử dụng phương pháp tích phân từng phần. Gọi:\n",
       "\n",
       "- $u = x \\Rightarrow du = dx$\n",
       "- $dv = \\cos x \\, dx \\Rightarrow v = \\sin x$\n",
       "\n",
       "Áp dụng công thức tích phân từng phần:\n",
       "\n",
       "\\[\n",
       "I_1 = uv \\bigg|_{0}^{\\frac{\\pi}{2}} - \\int v \\, du\n",
       "\\]\n",
       "\n",
       "Tính $uv$ tại các giới hạn:\n",
       "\n",
       "\\[\n",
       "uv \\bigg|_{0}^{\\frac{\\pi}{2}} = \\left( \\frac{\\pi}{2} \\sin \\frac{\\pi}{2} \\right) - \\left( 0 \\cdot \\sin 0 \\right) = \\frac{\\pi}{2}\n",
       "\\]\n",
       "\n",
       "Tính tích phân còn lại:\n",
       "\n",
       "\\[\n",
       "\\int_{0}^{\\frac{\\pi}{2}} \\sin x \\, dx = -\\cos x \\bigg|_{0}^{\\frac{\\pi}{2}} = -\\left( \\cos \\frac{\\pi}{2} - \\cos 0 \\right) = -\\left( 0 - 1 \\right) = 1\n",
       "\\]\n",
       "\n",
       "Vậy:\n",
       "\n",
       "\\[\n",
       "I_1 = \\frac{\\pi}{2} - 1\n",
       "\\]\n",
       "\n",
       "**Bước 2: Tính tích phân thứ hai $I_2 = \\int_{0}^{\\frac{\\pi}{2}} \\sin^2 x \\cos x \\, dx$**\n",
       "\n",
       "Sử dụng phép đổi biến, đặt $u = \\sin x \\Rightarrow du = \\cos x \\, dx$. Khi $x = 0$, $u = 0$; khi $x = \\frac{\\pi}{2}$, $u = 1$. \n",
       "\n",
       "Tích phân trở thành:\n",
       "\n",
       "\\[\n",
       "I_2 = \\int_{0}^{1} u^2 \\, du\n",
       "\\]\n",
       "\n",
       "Tính tích phân:\n",
       "\n",
       "\\[\n",
       "I_2 = \\frac{u^3}{3} \\bigg|_{0}^{1} = \\frac{1^3}{3} - \\frac{0^3}{3} = \\frac{1}{3}\n",
       "\\]\n",
       "\n",
       "**Bước 3: Tính tổng $I$**\n",
       "\n",
       "Kết hợp hai kết quả:\n",
       "\n",
       "\\[\n",
       "I = I_1 + I_2 = \\left( \\frac{\\pi}{2} - 1 \\right) + \\frac{1}{3}\n",
       "\\]\n",
       "\n",
       "Đưa về cùng mẫu:\n",
       "\n",
       "\\[\n",
       "I = \\frac{3\\pi}{6} - \\frac{6}{6} + \\frac{2}{6} = \\frac{3\\pi - 4}{6}\n",
       "\\]\n",
       "\n",
       "Vậy kết quả cuối cùng là:\n",
       "\n",
       "\\[\n",
       "I = \\frac{3\\pi - 4}{6}\n",
       "\\]\n"
      ],
      "text/plain": [
       "<IPython.core.display.Latex object>"
      ]
     },
     "metadata": {},
     "output_type": "display_data"
    },
    {
     "name": "stderr",
     "output_type": "stream",
     "text": [
      "Processing Questions:  75%|███████▍  | 121/162 [18:24<06:11,  9.06s/it]"
     ]
    },
    {
     "data": {
      "text/latex": [
       "\n",
       "Để tính tích phân $I = \\int_{1}^{2} (4x + 3) \\ln x \\, dx$, ta sẽ sử dụng phương pháp tích phân từng phần.\n",
       "\n",
       "1. **Chọn các hàm để tích phân từng phần**:\n",
       "   - Gọi $u = \\ln x \\Rightarrow du = \\frac{1}{x} \\, dx$.\n",
       "   - Gọi $dv = (4x + 3) \\, dx \\Rightarrow v = 2x^2 + 3x$ (tính nguyên hàm).\n",
       "\n",
       "2. **Áp dụng công thức tích phân từng phần**:\n",
       "   \\[\n",
       "   \\int u \\, dv = uv - \\int v \\, du\n",
       "   \\]\n",
       "   Thay vào công thức, ta có:\n",
       "   \\[\n",
       "   I = \\left[ (2x^2 + 3x) \\ln x \\right]_{1}^{2} - \\int_{1}^{2} (2x^2 + 3x) \\cdot \\frac{1}{x} \\, dx\n",
       "   \\]\n",
       "\n",
       "3. **Tính giá trị của $uv$ tại các giới hạn**:\n",
       "   - Tại $x = 2$:\n",
       "     \\[\n",
       "     (2(2^2) + 3(2)) \\ln 2 = (8 + 6) \\ln 2 = 14 \\ln 2\n",
       "     \\]\n",
       "   - Tại $x = 1$:\n",
       "     \\[\n",
       "     (2(1^2) + 3(1)) \\ln 1 = (2 + 3) \\cdot 0 = 0\n",
       "     \\]\n",
       "   Vậy:\n",
       "   \\[\n",
       "   \\left[ (2x^2 + 3x) \\ln x \\right]_{1}^{2} = 14 \\ln 2 - 0 = 14 \\ln 2\n",
       "   \\]\n",
       "\n",
       "4. **Tính tích phân còn lại**:\n",
       "   \\[\n",
       "   \\int_{1}^{2} (2x^2 + 3x) \\cdot \\frac{1}{x} \\, dx = \\int_{1}^{2} (2x + 3) \\, dx\n",
       "   \\]\n",
       "   Tính nguyên hàm:\n",
       "   \\[\n",
       "   \\int (2x + 3) \\, dx = x^2 + 3x\n",
       "   \\]\n",
       "   Tính giá trị tại các giới hạn:\n",
       "   \\[\n",
       "   \\left[ x^2 + 3x \\right]_{1}^{2} = (2^2 + 3 \\cdot 2) - (1^2 + 3 \\cdot 1) = (4 + 6) - (1 + 3) = 10 - 4 = 6\n",
       "   \\]\n",
       "\n",
       "5. **Kết hợp lại**:\n",
       "   \\[\n",
       "   I = 14 \\ln 2 - 6\n",
       "   \\]\n",
       "\n",
       "Vậy kết quả cuối cùng là:\n",
       "\\[\n",
       "I = 14 \\ln 2 - 6\n",
       "\\]\n"
      ],
      "text/plain": [
       "<IPython.core.display.Latex object>"
      ]
     },
     "metadata": {},
     "output_type": "display_data"
    },
    {
     "name": "stderr",
     "output_type": "stream",
     "text": [
      "Processing Questions:  75%|███████▌  | 122/162 [18:33<06:04,  9.11s/it]"
     ]
    },
    {
     "data": {
      "text/latex": [
       "\n",
       "Để tính tích phân $I = \\int_{0}^{\\frac{\\pi}{2}} x(2 + \\sin 2x) \\, dx$, ta sẽ tách tích phân thành hai phần:\n",
       "\n",
       "\\[\n",
       "I = \\int_{0}^{\\frac{\\pi}{2}} 2x \\, dx + \\int_{0}^{\\frac{\\pi}{2}} x \\sin 2x \\, dx\n",
       "\\]\n",
       "\n",
       "**Bước 1: Tính phần đầu tiên**\n",
       "\n",
       "Tính tích phân $\\int_{0}^{\\frac{\\pi}{2}} 2x \\, dx$:\n",
       "\n",
       "\\[\n",
       "\\int 2x \\, dx = x^2 + C\n",
       "\\]\n",
       "\n",
       "Áp dụng giới hạn:\n",
       "\n",
       "\\[\n",
       "\\int_{0}^{\\frac{\\pi}{2}} 2x \\, dx = \\left[ x^2 \\right]_{0}^{\\frac{\\pi}{2}} = \\left( \\frac{\\pi}{2} \\right)^2 - 0^2 = \\frac{\\pi^2}{4}\n",
       "\\]\n",
       "\n",
       "**Bước 2: Tính phần thứ hai**\n",
       "\n",
       "Tính tích phân $\\int_{0}^{\\frac{\\pi}{2}} x \\sin 2x \\, dx$ bằng phương pháp tích phân từng phần. Chọn:\n",
       "\n",
       "- $u = x \\Rightarrow du = dx$\n",
       "- $dv = \\sin 2x \\, dx \\Rightarrow v = -\\frac{1}{2} \\cos 2x$\n",
       "\n",
       "Áp dụng công thức tích phân từng phần:\n",
       "\n",
       "\\[\n",
       "\\int u \\, dv = uv - \\int v \\, du\n",
       "\\]\n",
       "\n",
       "Ta có:\n",
       "\n",
       "\\[\n",
       "\\int x \\sin 2x \\, dx = -\\frac{1}{2} x \\cos 2x \\bigg|_{0}^{\\frac{\\pi}{2}} + \\frac{1}{2} \\int \\cos 2x \\, dx\n",
       "\\]\n",
       "\n",
       "Tính từng phần:\n",
       "\n",
       "1. Tính $-\\frac{1}{2} x \\cos 2x \\bigg|_{0}^{\\frac{\\pi}{2}}$:\n",
       "\n",
       "\\[\n",
       "-\\frac{1}{2} \\left( \\frac{\\pi}{2} \\cos(\\pi) - 0 \\cdot \\cos(0) \\right) = -\\frac{1}{2} \\left( \\frac{\\pi}{2} \\cdot (-1) \\right) = \\frac{\\pi}{4}\n",
       "\\]\n",
       "\n",
       "2. Tính $\\frac{1}{2} \\int \\cos 2x \\, dx$:\n",
       "\n",
       "\\[\n",
       "\\int \\cos 2x \\, dx = \\frac{1}{2} \\sin 2x + C\n",
       "\\]\n",
       "\n",
       "Áp dụng giới hạn:\n",
       "\n",
       "\\[\n",
       "\\frac{1}{2} \\left[ \\frac{1}{2} \\sin 2x \\right]_{0}^{\\frac{\\pi}{2}} = \\frac{1}{2} \\left( \\frac{1}{2} \\sin(\\pi) - \\frac{1}{2} \\sin(0) \\right) = 0\n",
       "\\]\n",
       "\n",
       "Vậy:\n",
       "\n",
       "\\[\n",
       "\\int_{0}^{\\frac{\\pi}{2}} x \\sin 2x \\, dx = \\frac{\\pi}{4} + 0 = \\frac{\\pi}{4}\n",
       "\\]\n",
       "\n",
       "**Bước 3: Tính tổng**\n",
       "\n",
       "Cuối cùng, ta có:\n",
       "\n",
       "\\[\n",
       "I = \\frac{\\pi^2}{4} + \\frac{\\pi}{4} = \\frac{\\pi^2 + \\pi}{4}\n",
       "\\]\n",
       "\n",
       "Kết quả cuối cùng là:\n",
       "\n",
       "\\[\n",
       "I = \\frac{\\pi^2 + \\pi}{4}\n",
       "\\]\n"
      ],
      "text/plain": [
       "<IPython.core.display.Latex object>"
      ]
     },
     "metadata": {},
     "output_type": "display_data"
    },
    {
     "name": "stderr",
     "output_type": "stream",
     "text": [
      "Processing Questions:  76%|███████▌  | 123/162 [18:45<06:35, 10.13s/it]"
     ]
    },
    {
     "data": {
      "text/latex": [
       "\n",
       "Để tính tích phân $I = \\int_{2}^{3} x[3x - 2\\ln(x - 1)]dx$, ta sẽ tách tích phân thành hai phần:\n",
       "\n",
       "\\[\n",
       "I = \\int_{2}^{3} 3x^2 \\, dx - 2 \\int_{2}^{3} x \\ln(x - 1) \\, dx\n",
       "\\]\n",
       "\n",
       "**Bước 1: Tính tích phân đầu tiên**\n",
       "\n",
       "Tính tích phân $\\int_{2}^{3} 3x^2 \\, dx$:\n",
       "\n",
       "\\[\n",
       "\\int 3x^2 \\, dx = x^3 + C\n",
       "\\]\n",
       "\n",
       "Áp dụng giới hạn từ 2 đến 3:\n",
       "\n",
       "\\[\n",
       "\\int_{2}^{3} 3x^2 \\, dx = [x^3]_{2}^{3} = 3^3 - 2^3 = 27 - 8 = 19\n",
       "\\]\n",
       "\n",
       "**Bước 2: Tính tích phân thứ hai**\n",
       "\n",
       "Tính tích phân $\\int_{2}^{3} x \\ln(x - 1) \\, dx$ bằng phương pháp tích phân từng phần. Chọn:\n",
       "\n",
       "- $u = \\ln(x - 1) \\Rightarrow du = \\frac{1}{x - 1} \\, dx$\n",
       "- $dv = x \\, dx \\Rightarrow v = \\frac{x^2}{2}$\n",
       "\n",
       "Áp dụng công thức tích phân từng phần:\n",
       "\n",
       "\\[\n",
       "\\int u \\, dv = uv - \\int v \\, du\n",
       "\\]\n",
       "\n",
       "Ta có:\n",
       "\n",
       "\\[\n",
       "\\int x \\ln(x - 1) \\, dx = \\frac{x^2}{2} \\ln(x - 1) - \\int \\frac{x^2}{2} \\cdot \\frac{1}{x - 1} \\, dx\n",
       "\\]\n",
       "\n",
       "Tính $\\int \\frac{x^2}{2(x - 1)} \\, dx$:\n",
       "\n",
       "\\[\n",
       "\\frac{x^2}{2(x - 1)} = \\frac{x^2}{2} \\cdot \\frac{1}{x - 1} = \\frac{x^2}{2} \\cdot \\left( \\frac{1}{x - 1} \\right)\n",
       "\\]\n",
       "\n",
       "Sử dụng phân tích phân số:\n",
       "\n",
       "\\[\n",
       "\\frac{x^2}{2(x - 1)} = \\frac{x^2}{2} \\cdot \\left( \\frac{1}{x - 1} \\right) = \\frac{x^2}{2} \\cdot \\left( \\frac{1}{x - 1} \\right) = \\frac{x^2}{2} \\cdot \\left( \\frac{1}{x - 1} \\right)\n",
       "\\]\n",
       "\n",
       "Tính tích phân này có thể phức tạp, nhưng ta có thể sử dụng phần mềm hoặc bảng tích phân để tìm:\n",
       "\n",
       "\\[\n",
       "\\int x \\ln(x - 1) \\, dx = \\frac{x^2}{2} \\ln(x - 1) - \\frac{x^2}{4} + C\n",
       "\\]\n",
       "\n",
       "Áp dụng giới hạn từ 2 đến 3:\n",
       "\n",
       "\\[\n",
       "\\left[ \\frac{x^2}{2} \\ln(x - 1) - \\frac{x^2}{4} \\right]_{2}^{3}\n",
       "\\]\n",
       "\n",
       "Tính giá trị tại $x = 3$:\n",
       "\n",
       "\\[\n",
       "= \\frac{3^2}{2} \\ln(3 - 1) - \\frac{3^2}{4} = \\frac{9}{2} \\ln(2) - \\frac{9}{4}\n",
       "\\]\n",
       "\n",
       "Tính giá trị tại $x = 2$:\n",
       "\n",
       "\\[\n",
       "= \\frac{2^2}{2} \\ln(2 - 1) - \\frac{2^2}{4} = 2 \\cdot 0 - 1 = -1\n",
       "\\]\n",
       "\n",
       "Vậy:\n",
       "\n",
       "\\[\n",
       "\\int_{2}^{3} x \\ln(x - 1) \\, dx = \\left( \\frac{9}{2} \\ln(2) - \\frac{9}{4} \\right) - (-1) = \\frac{9}{2} \\ln(2) - \\frac{9}{4} + 1\n",
       "\\]\n",
       "\n",
       "**Bước 3: Kết hợp các kết quả**\n",
       "\n",
       "Giờ ta có:\n",
       "\n",
       "\\[\n",
       "I = 19 - 2 \\left( \\frac{9}{2} \\ln(2) - \\frac{9}{4} + 1 \\right)\n",
       "\\]\n",
       "\n",
       "Tính toán:\n",
       "\n",
       "\\[\n",
       "= 19 - 9 \\ln(2) + \\frac{9}{2} - 2\n",
       "\\]\n",
       "\n",
       "\\[\n",
       "= 17.5 - 9 \\ln(2)\n",
       "\\]\n",
       "\n",
       "**Kết quả cuối cùng:**\n",
       "\n",
       "\\[\n",
       "I = 17.5 - 9 \\ln(2)\n",
       "\\]\n"
      ],
      "text/plain": [
       "<IPython.core.display.Latex object>"
      ]
     },
     "metadata": {},
     "output_type": "display_data"
    },
    {
     "name": "stderr",
     "output_type": "stream",
     "text": [
      "Processing Questions:  77%|███████▋  | 124/162 [19:00<07:16, 11.48s/it]"
     ]
    },
    {
     "data": {
      "text/latex": [
       "\n",
       "Để tính tích phân $I = \\int_{0}^{1} x(\\sqrt{x^2+1} + e^x)dx$, ta sẽ tách tích phân thành hai phần:\n",
       "\n",
       "\\[\n",
       "I = \\int_{0}^{1} x\\sqrt{x^2+1} \\, dx + \\int_{0}^{1} xe^x \\, dx\n",
       "\\]\n",
       "\n",
       "**Bước 1: Tính tích phân thứ nhất** \n",
       "\n",
       "Tích phân $I_1 = \\int_{0}^{1} x\\sqrt{x^2+1} \\, dx$ có thể được tính bằng cách sử dụng phương pháp đổi biến. Đặt $u = x^2 + 1$, thì $du = 2x \\, dx$, hay $dx = \\frac{du}{2x}$. Khi $x = 0$, $u = 1$; khi $x = 1$, $u = 2$. \n",
       "\n",
       "Thay vào tích phân, ta có:\n",
       "\n",
       "\\[\n",
       "I_1 = \\int_{1}^{2} \\sqrt{u} \\cdot \\frac{1}{2} \\, du = \\frac{1}{2} \\int_{1}^{2} u^{1/2} \\, du\n",
       "\\]\n",
       "\n",
       "Tính tích phân:\n",
       "\n",
       "\\[\n",
       "\\int u^{1/2} \\, du = \\frac{u^{3/2}}{3/2} = \\frac{2}{3} u^{3/2}\n",
       "\\]\n",
       "\n",
       "Vậy:\n",
       "\n",
       "\\[\n",
       "I_1 = \\frac{1}{2} \\cdot \\left[ \\frac{2}{3} u^{3/2} \\right]_{1}^{2} = \\frac{1}{3} \\left[ 2^{3/2} - 1^{3/2} \\right] = \\frac{1}{3} \\left[ 2\\sqrt{2} - 1 \\right]\n",
       "\\]\n",
       "\n",
       "**Bước 2: Tính tích phân thứ hai**\n",
       "\n",
       "Tích phân $I_2 = \\int_{0}^{1} xe^x \\, dx$ có thể được tính bằng phương pháp tích phân từng phần. Đặt:\n",
       "\n",
       "- $u = x \\Rightarrow du = dx$\n",
       "- $dv = e^x \\, dx \\Rightarrow v = e^x$\n",
       "\n",
       "Áp dụng công thức tích phân từng phần:\n",
       "\n",
       "\\[\n",
       "I_2 = uv - \\int v \\, du = x e^x \\bigg|_{0}^{1} - \\int_{0}^{1} e^x \\, dx\n",
       "\\]\n",
       "\n",
       "Tính từng phần:\n",
       "\n",
       "\\[\n",
       "x e^x \\bigg|_{0}^{1} = 1 \\cdot e^1 - 0 \\cdot e^0 = e\n",
       "\\]\n",
       "\n",
       "Và:\n",
       "\n",
       "\\[\n",
       "\\int_{0}^{1} e^x \\, dx = e^x \\bigg|_{0}^{1} = e - 1\n",
       "\\]\n",
       "\n",
       "Vậy:\n",
       "\n",
       "\\[\n",
       "I_2 = e - (e - 1) = 1\n",
       "\\]\n",
       "\n",
       "**Bước 3: Tính tổng các tích phân**\n",
       "\n",
       "Cuối cùng, ta có:\n",
       "\n",
       "\\[\n",
       "I = I_1 + I_2 = \\frac{1}{3} (2\\sqrt{2} - 1) + 1\n",
       "\\]\n",
       "\n",
       "Kết hợp lại:\n",
       "\n",
       "\\[\n",
       "I = \\frac{1}{3} (2\\sqrt{2} - 1) + \\frac{3}{3} = \\frac{2\\sqrt{2} + 2}{3}\n",
       "\\]\n",
       "\n",
       "Vậy kết quả cuối cùng là:\n",
       "\n",
       "\\[\n",
       "I = \\frac{2\\sqrt{2} + 2}{3}\n",
       "\\]\n"
      ],
      "text/plain": [
       "<IPython.core.display.Latex object>"
      ]
     },
     "metadata": {},
     "output_type": "display_data"
    },
    {
     "name": "stderr",
     "output_type": "stream",
     "text": [
      "Processing Questions:  77%|███████▋  | 125/162 [19:11<06:59, 11.35s/it]"
     ]
    },
    {
     "data": {
      "text/latex": [
       "\n",
       "Để tính tích phân $I = \\int_{0}^{\\pi} (x + \\cos^5 x) \\sin x \\, dx$, ta sẽ tách tích phân thành hai phần:\n",
       "\n",
       "\\[\n",
       "I = \\int_{0}^{\\pi} x \\sin x \\, dx + \\int_{0}^{\\pi} \\cos^5 x \\sin x \\, dx\n",
       "\\]\n",
       "\n",
       "**Bước 1: Tính tích phân thứ nhất $I_1 = \\int_{0}^{\\pi} x \\sin x \\, dx$**\n",
       "\n",
       "Để tính $I_1$, ta sử dụng phương pháp tích phân từng phần. Gọi:\n",
       "\n",
       "- $u = x \\Rightarrow du = dx$\n",
       "- $dv = \\sin x \\, dx \\Rightarrow v = -\\cos x$\n",
       "\n",
       "Áp dụng công thức tích phân từng phần:\n",
       "\n",
       "\\[\n",
       "I_1 = \\left[ -x \\cos x \\right]_{0}^{\\pi} + \\int_{0}^{\\pi} \\cos x \\, dx\n",
       "\\]\n",
       "\n",
       "Tính từng phần:\n",
       "\n",
       "- Tại $x = \\pi$: $-x \\cos x = -\\pi \\cdot (-1) = \\pi$\n",
       "- Tại $x = 0$: $-x \\cos x = 0$\n",
       "\n",
       "Vậy:\n",
       "\n",
       "\\[\n",
       "\\left[ -x \\cos x \\right]_{0}^{\\pi} = \\pi - 0 = \\pi\n",
       "\\]\n",
       "\n",
       "Tiếp theo, tính tích phân $\\int_{0}^{\\pi} \\cos x \\, dx$:\n",
       "\n",
       "\\[\n",
       "\\int_{0}^{\\pi} \\cos x \\, dx = [\\sin x]_{0}^{\\pi} = \\sin(\\pi) - \\sin(0) = 0\n",
       "\\]\n",
       "\n",
       "Do đó:\n",
       "\n",
       "\\[\n",
       "I_1 = \\pi + 0 = \\pi\n",
       "\\]\n",
       "\n",
       "**Bước 2: Tính tích phân thứ hai $I_2 = \\int_{0}^{\\pi} \\cos^5 x \\sin x \\, dx$**\n",
       "\n",
       "Sử dụng phương pháp thay biến. Đặt $u = \\cos x \\Rightarrow du = -\\sin x \\, dx$. Khi $x = 0$, $u = 1$; khi $x = \\pi$, $u = -1$. Tích phân trở thành:\n",
       "\n",
       "\\[\n",
       "I_2 = -\\int_{1}^{-1} u^5 \\, du = \\int_{-1}^{1} u^5 \\, du\n",
       "\\]\n",
       "\n",
       "Tính tích phân:\n",
       "\n",
       "\\[\n",
       "\\int u^5 \\, du = \\frac{u^6}{6} \\Rightarrow \\left[ \\frac{u^6}{6} \\right]_{-1}^{1} = \\frac{1^6}{6} - \\frac{(-1)^6}{6} = \\frac{1}{6} - \\frac{1}{6} = 0\n",
       "\\]\n",
       "\n",
       "**Bước 3: Kết hợp kết quả**\n",
       "\n",
       "Tổng hợp lại, ta có:\n",
       "\n",
       "\\[\n",
       "I = I_1 + I_2 = \\pi + 0 = \\pi\n",
       "\\]\n",
       "\n",
       "Vậy kết quả cuối cùng là:\n",
       "\n",
       "\\[\n",
       "\\boxed{I = \\pi}\n",
       "\\]\n"
      ],
      "text/plain": [
       "<IPython.core.display.Latex object>"
      ]
     },
     "metadata": {},
     "output_type": "display_data"
    },
    {
     "name": "stderr",
     "output_type": "stream",
     "text": [
      "Processing Questions:  78%|███████▊  | 126/162 [19:19<06:14, 10.41s/it]"
     ]
    },
    {
     "data": {
      "text/latex": [
       "\n",
       "Để tính tích phân $I = \\int_{1}^{e} \\left( \\frac{1}{x} + \\frac{1}{x^2} \\right) \\ln x \\, dx$, ta sẽ tách tích phân thành hai phần:\n",
       "\n",
       "\\[\n",
       "I = \\int_{1}^{e} \\frac{1}{x} \\ln x \\, dx + \\int_{1}^{e} \\frac{1}{x^2} \\ln x \\, dx\n",
       "\\]\n",
       "\n",
       "**Bước 1: Tính tích phân đầu tiên**\n",
       "\n",
       "Xét tích phân $I_1 = \\int_{1}^{e} \\frac{1}{x} \\ln x \\, dx$. \n",
       "\n",
       "Để tính tích phân này, ta sử dụng phương pháp tích phân từng phần với:\n",
       "\n",
       "- $u = \\ln x \\Rightarrow du = \\frac{1}{x} dx$\n",
       "- $dv = dx \\Rightarrow v = x$\n",
       "\n",
       "Áp dụng công thức tích phân từng phần:\n",
       "\n",
       "\\[\n",
       "I_1 = uv \\bigg|_{1}^{e} - \\int v \\, du\n",
       "\\]\n",
       "\n",
       "Tính $uv$ tại các giới hạn:\n",
       "\n",
       "\\[\n",
       "uv \\bigg|_{1}^{e} = \\ln e \\cdot e - \\ln 1 \\cdot 1 = 1 \\cdot e - 0 = e\n",
       "\\]\n",
       "\n",
       "Tính tích phân còn lại:\n",
       "\n",
       "\\[\n",
       "\\int v \\, du = \\int x \\cdot \\frac{1}{x} \\, dx = \\int dx = x \\bigg|_{1}^{e} = e - 1\n",
       "\\]\n",
       "\n",
       "Vậy:\n",
       "\n",
       "\\[\n",
       "I_1 = e - (e - 1) = 1\n",
       "\\]\n",
       "\n",
       "**Bước 2: Tính tích phân thứ hai**\n",
       "\n",
       "Xét tích phân $I_2 = \\int_{1}^{e} \\frac{1}{x^2} \\ln x \\, dx$. \n",
       "\n",
       "Sử dụng phương pháp tích phân từng phần với:\n",
       "\n",
       "- $u = \\ln x \\Rightarrow du = \\frac{1}{x} dx$\n",
       "- $dv = \\frac{1}{x^2} dx \\Rightarrow v = -\\frac{1}{x}$\n",
       "\n",
       "Áp dụng công thức tích phân từng phần:\n",
       "\n",
       "\\[\n",
       "I_2 = uv \\bigg|_{1}^{e} - \\int v \\, du\n",
       "\\]\n",
       "\n",
       "Tính $uv$ tại các giới hạn:\n",
       "\n",
       "\\[\n",
       "uv \\bigg|_{1}^{e} = \\ln e \\cdot \\left(-\\frac{1}{e}\\right) - \\ln 1 \\cdot \\left(-1\\right) = 1 \\cdot \\left(-\\frac{1}{e}\\right) - 0 = -\\frac{1}{e}\n",
       "\\]\n",
       "\n",
       "Tính tích phân còn lại:\n",
       "\n",
       "\\[\n",
       "\\int v \\, du = -\\int \\frac{1}{x} \\, dx = -\\ln x \\bigg|_{1}^{e} = -(\\ln e - \\ln 1) = -1\n",
       "\\]\n",
       "\n",
       "Vậy:\n",
       "\n",
       "\\[\n",
       "I_2 = -\\frac{1}{e} - (-1) = -\\frac{1}{e} + 1 = 1 - \\frac{1}{e}\n",
       "\\]\n",
       "\n",
       "**Bước 3: Tính tổng $I$**\n",
       "\n",
       "Cuối cùng, ta có:\n",
       "\n",
       "\\[\n",
       "I = I_1 + I_2 = 1 + \\left(1 - \\frac{1}{e}\\right) = 2 - \\frac{1}{e}\n",
       "\\]\n",
       "\n",
       "Kết quả cuối cùng là:\n",
       "\n",
       "\\[\n",
       "I = 2 - \\frac{1}{e}\n",
       "\\]\n"
      ],
      "text/plain": [
       "<IPython.core.display.Latex object>"
      ]
     },
     "metadata": {},
     "output_type": "display_data"
    },
    {
     "name": "stderr",
     "output_type": "stream",
     "text": [
      "Processing Questions:  78%|███████▊  | 127/162 [19:29<05:59, 10.29s/it]"
     ]
    },
    {
     "data": {
      "text/latex": [
       "\n",
       "Để tính tích phân $I = \\int_{0}^{1} x^5(1 - x^3)^6 \\, dx$, ta sẽ sử dụng phương pháp đặt biến.\n",
       "\n",
       "Bước 1: Đặt biến\n",
       "Ta đặt $u = 1 - x^3$. Khi đó, ta có:\n",
       "\\[\n",
       "du = -3x^2 \\, dx \\quad \\Rightarrow \\quad dx = -\\frac{du}{3x^2}\n",
       "\\]\n",
       "Khi $x = 0$, $u = 1 - 0^3 = 1$; khi $x = 1$, $u = 1 - 1^3 = 0$.\n",
       "\n",
       "Bước 2: Thay đổi giới hạn và biểu thức\n",
       "Tích phân trở thành:\n",
       "\\[\n",
       "I = \\int_{1}^{0} x^5 u^6 \\left(-\\frac{du}{3x^2}\\right) = \\frac{1}{3} \\int_{0}^{1} x^3 u^6 \\, du\n",
       "\\]\n",
       "\n",
       "Bước 3: Tính $x^3$ theo $u$\n",
       "Từ $u = 1 - x^3$, ta có $x^3 = 1 - u$. Do đó, $x^3 = 1 - u$ và $x^5 = (x^3)^{5/3} = (1 - u)^{5/3}$.\n",
       "\n",
       "Bước 4: Thay vào tích phân\n",
       "Tích phân trở thành:\n",
       "\\[\n",
       "I = \\frac{1}{3} \\int_{0}^{1} (1 - u)^{5/3} u^6 \\, du\n",
       "\\]\n",
       "\n",
       "Bước 5: Tính tích phân\n",
       "Tích phân này có thể tính bằng công thức tích phân Beta:\n",
       "\\[\n",
       "\\int_{0}^{1} x^{m-1} (1-x)^{n-1} \\, dx = B(m, n) = \\frac{\\Gamma(m) \\Gamma(n)}{\\Gamma(m+n)}\n",
       "\\]\n",
       "Trong trường hợp này, $m = 7$ và $n = \\frac{8}{3}$.\n",
       "\n",
       "Bước 6: Tính giá trị\n",
       "Áp dụng công thức Beta:\n",
       "\\[\n",
       "I = \\frac{1}{3} B(7, \\frac{8}{3}) = \\frac{1}{3} \\cdot \\frac{\\Gamma(7) \\Gamma(\\frac{8}{3})}{\\Gamma(7 + \\frac{8}{3})}\n",
       "\\]\n",
       "\n",
       "Bước 7: Tính các giá trị Gamma\n",
       "Ta có:\n",
       "\\[\n",
       "\\Gamma(7) = 6! = 720\n",
       "\\]\n",
       "Và sử dụng công thức Gamma cho số không nguyên:\n",
       "\\[\n",
       "\\Gamma\\left(\\frac{8}{3}\\right) = \\frac{5}{3} \\Gamma\\left(\\frac{5}{3}\\right)\n",
       "\\]\n",
       "Và $\\Gamma\\left(\\frac{5}{3}\\right) = \\frac{2}{3} \\Gamma\\left(\\frac{2}{3}\\right)$.\n",
       "\n",
       "Cuối cùng, ta tính $\\Gamma(7 + \\frac{8}{3}) = \\Gamma(\\frac{29}{3})$.\n",
       "\n",
       "Bước 8: Kết quả cuối cùng\n",
       "Sau khi tính toán, ta sẽ có giá trị của tích phân $I$.\n",
       "\n",
       "Kết quả cuối cùng là:\n",
       "\\[\n",
       "I = \\frac{720 \\cdot \\Gamma\\left(\\frac{8}{3}\\right)}{3 \\cdot \\Gamma\\left(\\frac{29}{3}\\right)}\n",
       "\\]\n"
      ],
      "text/plain": [
       "<IPython.core.display.Latex object>"
      ]
     },
     "metadata": {},
     "output_type": "display_data"
    },
    {
     "name": "stderr",
     "output_type": "stream",
     "text": [
      "Processing Questions:  79%|███████▉  | 128/162 [19:41<06:00, 10.61s/it]"
     ]
    },
    {
     "data": {
      "text/latex": [
       "\n",
       "Để tính tích phân $I = \\int_{-1}^{0} x^2(x + 1)^9 \\, dx$, ta sẽ sử dụng phương pháp đổi biến.\n",
       "\n",
       "Bước 1: Đổi biến\n",
       "Ta đặt $u = x + 1$. Khi đó, ta có:\n",
       "- $du = dx$\n",
       "- Khi $x = -1$, $u = 0$.\n",
       "- Khi $x = 0$, $u = 1$.\n",
       "\n",
       "Bước 2: Thay đổi giới hạn và biểu thức\n",
       "Từ đó, tích phân trở thành:\n",
       "\\[\n",
       "I = \\int_{0}^{1} (u - 1)^2 u^9 \\, du\n",
       "\\]\n",
       "\n",
       "Bước 3: Mở rộng biểu thức\n",
       "Ta có:\n",
       "\\[\n",
       "(u - 1)^2 = u^2 - 2u + 1\n",
       "\\]\n",
       "Vậy:\n",
       "\\[\n",
       "I = \\int_{0}^{1} (u^2 - 2u + 1) u^9 \\, du = \\int_{0}^{1} (u^{11} - 2u^{10} + u^9) \\, du\n",
       "\\]\n",
       "\n",
       "Bước 4: Tính từng tích phân\n",
       "Ta tính từng phần:\n",
       "\\[\n",
       "\\int_{0}^{1} u^{11} \\, du = \\left[ \\frac{u^{12}}{12} \\right]_{0}^{1} = \\frac{1}{12}\n",
       "\\]\n",
       "\\[\n",
       "\\int_{0}^{1} u^{10} \\, du = \\left[ \\frac{u^{11}}{11} \\right]_{0}^{1} = \\frac{1}{11}\n",
       "\\]\n",
       "\\[\n",
       "\\int_{0}^{1} u^{9} \\, du = \\left[ \\frac{u^{10}}{10} \\right]_{0}^{1} = \\frac{1}{10}\n",
       "\\]\n",
       "\n",
       "Bước 5: Thay vào biểu thức\n",
       "Vậy:\n",
       "\\[\n",
       "I = \\frac{1}{12} - 2 \\cdot \\frac{1}{11} + \\frac{1}{10}\n",
       "\\]\n",
       "\n",
       "Bước 6: Tính giá trị\n",
       "Tính toán:\n",
       "\\[\n",
       "I = \\frac{1}{12} - \\frac{2}{11} + \\frac{1}{10}\n",
       "\\]\n",
       "Đưa về mẫu số chung là 660:\n",
       "\\[\n",
       "I = \\frac{55}{660} - \\frac{120}{660} + \\frac{66}{660} = \\frac{55 - 120 + 66}{660} = \\frac{1}{660}\n",
       "\\]\n",
       "\n",
       "Kết quả cuối cùng là:\n",
       "\\[\n",
       "I = \\frac{1}{660}\n",
       "\\]\n"
      ],
      "text/plain": [
       "<IPython.core.display.Latex object>"
      ]
     },
     "metadata": {},
     "output_type": "display_data"
    },
    {
     "name": "stderr",
     "output_type": "stream",
     "text": [
      "Processing Questions:  80%|███████▉  | 129/162 [19:49<05:29,  9.98s/it]"
     ]
    },
    {
     "data": {
      "text/latex": [
       "\n",
       "Để tính tích phân $I = \\int_{0}^{1} (1 + 3x)(1 + 2x + 3x^2)^{10} dx$, ta sẽ sử dụng phương pháp đặt biến.\n",
       "\n",
       "Bước 1: Đặt $u = 1 + 2x + 3x^2$. \n",
       "\n",
       "Tính đạo hàm của $u$:\n",
       "\\[\n",
       "\\frac{du}{dx} = 2 + 6x \\implies du = (2 + 6x)dx.\n",
       "\\]\n",
       "\n",
       "Bước 2: Tính $dx$ theo $du$:\n",
       "\\[\n",
       "dx = \\frac{du}{2 + 6x}.\n",
       "\\]\n",
       "\n",
       "Bước 3: Tính $x$ theo $u$:\n",
       "Giải phương trình $u = 1 + 2x + 3x^2$ để tìm $x$:\n",
       "\\[\n",
       "3x^2 + 2x + (1 - u) = 0.\n",
       "\\]\n",
       "Áp dụng công thức nghiệm:\n",
       "\\[\n",
       "x = \\frac{-2 \\pm \\sqrt{(2)^2 - 4 \\cdot 3 \\cdot (1 - u)}}{2 \\cdot 3} = \\frac{-2 \\pm \\sqrt{4 - 12 + 12u}}{6} = \\frac{-2 \\pm \\sqrt{12u - 8}}{6}.\n",
       "\\]\n",
       "\n",
       "Bước 4: Tính giới hạn của $u$ khi $x = 0$ và $x = 1$:\n",
       "- Khi $x = 0$: $u(0) = 1 + 2(0) + 3(0)^2 = 1$.\n",
       "- Khi $x = 1$: $u(1) = 1 + 2(1) + 3(1)^2 = 6$.\n",
       "\n",
       "Vậy, giới hạn của $u$ là từ $1$ đến $6$.\n",
       "\n",
       "Bước 5: Thay vào tích phân:\n",
       "\\[\n",
       "I = \\int_{1}^{6} (1 + 3x) u^{10} \\frac{du}{2 + 6x}.\n",
       "\\]\n",
       "\n",
       "Bước 6: Tính $1 + 3x$ và $2 + 6x$ theo $u$:\n",
       "Từ $u = 1 + 2x + 3x^2$, ta có thể tính $x$ và thay vào $1 + 3x$ và $2 + 6x$.\n",
       "\n",
       "Bước 7: Tính tích phân:\n",
       "Sau khi thay thế và đơn giản hóa, ta sẽ có một tích phân có thể tính được.\n",
       "\n",
       "Cuối cùng, sau khi thực hiện các bước trên, ta sẽ có kết quả cho tích phân $I$.\n",
       "\n",
       "Kết quả cuối cùng là:\n",
       "\\[\n",
       "I = \\frac{1}{11} \\left( (1 + 2 \\cdot 1 + 3 \\cdot 1^2)^{11} - (1 + 2 \\cdot 0 + 3 \\cdot 0^2)^{11} \\right) = \\frac{1}{11} (6^{11} - 1).\n",
       "\\]\n"
      ],
      "text/plain": [
       "<IPython.core.display.Latex object>"
      ]
     },
     "metadata": {},
     "output_type": "display_data"
    },
    {
     "name": "stderr",
     "output_type": "stream",
     "text": [
      "Processing Questions:  80%|████████  | 130/162 [19:59<05:16,  9.91s/it]"
     ]
    },
    {
     "data": {
      "text/latex": [
       "\n",
       "Để tính tích phân $I = \\int_{2}^{\\sqrt{7}} \\frac{x}{\\sqrt{x^2-3}} \\, dx$, ta sẽ sử dụng phương pháp đổi biến.\n",
       "\n",
       "Bước 1: Đổi biến\n",
       "Ta đặt $u = x^2 - 3$. Khi đó, ta có:\n",
       "\\[\n",
       "du = 2x \\, dx \\quad \\Rightarrow \\quad dx = \\frac{du}{2x}\n",
       "\\]\n",
       "Và khi $x = 2$, ta có:\n",
       "\\[\n",
       "u = 2^2 - 3 = 1\n",
       "\\]\n",
       "Khi $x = \\sqrt{7}$, ta có:\n",
       "\\[\n",
       "u = (\\sqrt{7})^2 - 3 = 4\n",
       "\\]\n",
       "\n",
       "Bước 2: Thay đổi giới hạn và biểu thức\n",
       "Tích phân trở thành:\n",
       "\\[\n",
       "I = \\int_{1}^{4} \\frac{x}{\\sqrt{u}} \\cdot \\frac{du}{2x} = \\int_{1}^{4} \\frac{1}{2\\sqrt{u}} \\, du\n",
       "\\]\n",
       "\n",
       "Bước 3: Tính tích phân\n",
       "Tích phân $\\int \\frac{1}{\\sqrt{u}} \\, du$ có kết quả là $2\\sqrt{u}$. Do đó, ta có:\n",
       "\\[\n",
       "I = \\frac{1}{2} \\cdot 2\\sqrt{u} \\bigg|_{1}^{4} = \\sqrt{u} \\bigg|_{1}^{4} = \\sqrt{4} - \\sqrt{1} = 2 - 1 = 1\n",
       "\\]\n",
       "\n",
       "Kết quả cuối cùng là:\n",
       "\\[\n",
       "I = 1\n",
       "\\]\n"
      ],
      "text/plain": [
       "<IPython.core.display.Latex object>"
      ]
     },
     "metadata": {},
     "output_type": "display_data"
    },
    {
     "name": "stderr",
     "output_type": "stream",
     "text": [
      "Processing Questions:  81%|████████  | 131/162 [20:05<04:28,  8.65s/it]"
     ]
    },
    {
     "data": {
      "text/latex": [
       "\n",
       "Để tính tích phân $I = \\int_{1}^{e} \\frac{1}{x(1+\\ln x)} \\, dx$, ta sẽ sử dụng phương pháp đổi biến.\n",
       "\n",
       "Bước 1: Đổi biến\n",
       "Ta đặt $u = \\ln x$. Khi đó, ta có:\n",
       "\\[\n",
       "du = \\frac{1}{x} \\, dx \\quad \\Rightarrow \\quad dx = x \\, du = e^u \\, du\n",
       "\\]\n",
       "Khi $x = 1$, thì $u = \\ln 1 = 0$; khi $x = e$, thì $u = \\ln e = 1$.\n",
       "\n",
       "Bước 2: Thay đổi giới hạn và biểu thức tích phân\n",
       "Tích phân trở thành:\n",
       "\\[\n",
       "I = \\int_{0}^{1} \\frac{1}{e^u(1+u)} e^u \\, du = \\int_{0}^{1} \\frac{1}{1+u} \\, du\n",
       "\\]\n",
       "\n",
       "Bước 3: Tính tích phân\n",
       "Tích phân $\\int \\frac{1}{1+u} \\, du$ có kết quả là $\\ln(1+u)$. Do đó, ta có:\n",
       "\\[\n",
       "I = \\left[ \\ln(1+u) \\right]_{0}^{1} = \\ln(1+1) - \\ln(1+0) = \\ln 2 - \\ln 1 = \\ln 2\n",
       "\\]\n",
       "\n",
       "Vậy kết quả của tích phân là:\n",
       "\\[\n",
       "I = \\ln 2\n",
       "\\]\n"
      ],
      "text/plain": [
       "<IPython.core.display.Latex object>"
      ]
     },
     "metadata": {},
     "output_type": "display_data"
    },
    {
     "name": "stderr",
     "output_type": "stream",
     "text": [
      "Processing Questions:  81%|████████▏ | 132/162 [20:09<03:40,  7.36s/it]"
     ]
    },
    {
     "data": {
      "text/latex": [
       "\n",
       "Để tính tích phân $I = \\int_{1}^{e} \\frac{\\sin(\\ln x)}{x} \\, dx$, ta sẽ sử dụng phương pháp đổi biến.\n",
       "\n",
       "Bước 1: Đổi biến\n",
       "Ta đặt $u = \\ln x$. Khi đó, đạo hàm của $u$ theo $x$ là:\n",
       "$$\n",
       "\\frac{du}{dx} = \\frac{1}{x} \\implies du = \\frac{1}{x} \\, dx \\implies dx = x \\, du = e^u \\, du.\n",
       "$$\n",
       "\n",
       "Bước 2: Thay đổi giới hạn\n",
       "Khi $x = 1$, thì $u = \\ln 1 = 0$.\n",
       "Khi $x = e$, thì $u = \\ln e = 1$.\n",
       "\n",
       "Bước 3: Thay vào tích phân\n",
       "Tích phân trở thành:\n",
       "$$\n",
       "I = \\int_{0}^{1} \\sin(u) \\, du.\n",
       "$$\n",
       "\n",
       "Bước 4: Tính tích phân\n",
       "Tích phân $\\int \\sin(u) \\, du$ có kết quả là $-\\cos(u) + C$. Do đó, ta có:\n",
       "$$\n",
       "I = \\left[-\\cos(u)\\right]_{0}^{1} = -\\cos(1) - (-\\cos(0)) = -\\cos(1) + 1.\n",
       "$$\n",
       "\n",
       "Bước 5: Kết luận\n",
       "Vậy kết quả cuối cùng của tích phân là:\n",
       "$$\n",
       "I = 1 - \\cos(1).\n",
       "$$\n"
      ],
      "text/plain": [
       "<IPython.core.display.Latex object>"
      ]
     },
     "metadata": {},
     "output_type": "display_data"
    },
    {
     "name": "stderr",
     "output_type": "stream",
     "text": [
      "Processing Questions:  82%|████████▏ | 133/162 [20:14<03:12,  6.65s/it]"
     ]
    },
    {
     "data": {
      "text/latex": [
       "\n",
       "Để tính tích phân $I = \\int_{e}^{e^2} \\frac{\\ln^2 x}{x \\ln^5 x} \\, dx$, ta sẽ thực hiện một phép biến đổi thích hợp.\n",
       "\n",
       "Bước 1: Thực hiện phép đổi biến. Đặt $u = \\ln x$. Khi đó, ta có:\n",
       "- $du = \\frac{1}{x} \\, dx \\implies dx = x \\, du = e^u \\, du$.\n",
       "- Khi $x = e$, thì $u = 1$; khi $x = e^2$, thì $u = 2$.\n",
       "\n",
       "Bước 2: Thay đổi giới hạn và biểu thức trong tích phân:\n",
       "\\[\n",
       "I = \\int_{1}^{2} \\frac{u^2}{e^u u^5} e^u \\, du = \\int_{1}^{2} \\frac{u^2}{u^5} \\, du = \\int_{1}^{2} \\frac{1}{u^3} \\, du.\n",
       "\\]\n",
       "\n",
       "Bước 3: Tính tích phân:\n",
       "\\[\n",
       "I = \\int_{1}^{2} u^{-3} \\, du.\n",
       "\\]\n",
       "Áp dụng công thức tích phân:\n",
       "\\[\n",
       "\\int u^n \\, du = \\frac{u^{n+1}}{n+1} + C \\quad (n \\neq -1).\n",
       "\\]\n",
       "Với $n = -3$, ta có:\n",
       "\\[\n",
       "I = \\left[ \\frac{u^{-2}}{-2} \\right]_{1}^{2} = -\\frac{1}{2} \\left( \\frac{1}{2^2} - \\frac{1}{1^2} \\right) = -\\frac{1}{2} \\left( \\frac{1}{4} - 1 \\right) = -\\frac{1}{2} \\left( -\\frac{3}{4} \\right) = \\frac{3}{8}.\n",
       "\\]\n",
       "\n",
       "Kết quả cuối cùng là:\n",
       "\\[\n",
       "I = \\frac{3}{8}.\n",
       "\\]\n"
      ],
      "text/plain": [
       "<IPython.core.display.Latex object>"
      ]
     },
     "metadata": {},
     "output_type": "display_data"
    },
    {
     "name": "stderr",
     "output_type": "stream",
     "text": [
      "Processing Questions:  83%|████████▎ | 134/162 [20:21<03:13,  6.90s/it]"
     ]
    },
    {
     "data": {
      "text/latex": [
       "\n",
       "Để tính tích phân $I = \\int_{\\frac{\\pi}{3}}^{\\frac{\\pi}{2}} \\frac{1 + \\sin x}{\\cos^2 x} \\, dx$, ta có thể tách tích phân thành hai phần:\n",
       "\n",
       "\\[\n",
       "I = \\int_{\\frac{\\pi}{3}}^{\\frac{\\pi}{2}} \\frac{1}{\\cos^2 x} \\, dx + \\int_{\\frac{\\pi}{3}}^{\\frac{\\pi}{2}} \\frac{\\sin x}{\\cos^2 x} \\, dx\n",
       "\\]\n",
       "\n",
       "Ta sẽ tính từng phần một.\n",
       "\n",
       "1. **Tính phần đầu tiên**:\n",
       "\n",
       "\\[\n",
       "\\int \\frac{1}{\\cos^2 x} \\, dx = \\tan x + C\n",
       "\\]\n",
       "\n",
       "Vậy:\n",
       "\n",
       "\\[\n",
       "\\int_{\\frac{\\pi}{3}}^{\\frac{\\pi}{2}} \\frac{1}{\\cos^2 x} \\, dx = \\left[ \\tan x \\right]_{\\frac{\\pi}{3}}^{\\frac{\\pi}{2}} = \\tan\\left(\\frac{\\pi}{2}\\right) - \\tan\\left(\\frac{\\pi}{3}\\right)\n",
       "\\]\n",
       "\n",
       "Lưu ý rằng $\\tan\\left(\\frac{\\pi}{2}\\right)$ không xác định, nhưng ta có thể xem xét giới hạn:\n",
       "\n",
       "\\[\n",
       "\\lim_{x \\to \\frac{\\pi}{2}^-} \\tan x = +\\infty\n",
       "\\]\n",
       "\n",
       "Vì vậy, phần này sẽ cho kết quả là $+\\infty$.\n",
       "\n",
       "2. **Tính phần thứ hai**:\n",
       "\n",
       "\\[\n",
       "\\int \\frac{\\sin x}{\\cos^2 x} \\, dx\n",
       "\\]\n",
       "\n",
       "Sử dụng phương pháp đổi biến, đặt $u = \\cos x$, thì $du = -\\sin x \\, dx$, hay $dx = -\\frac{du}{\\sin x}$. Khi $x = \\frac{\\pi}{3}$, $u = \\cos\\left(\\frac{\\pi}{3}\\right) = \\frac{1}{2}$; khi $x = \\frac{\\pi}{2}$, $u = \\cos\\left(\\frac{\\pi}{2}\\right) = 0$.\n",
       "\n",
       "Tích phân trở thành:\n",
       "\n",
       "\\[\n",
       "\\int_{\\frac{1}{2}}^{0} \\frac{-1}{u^2} \\, du = \\int_{0}^{\\frac{1}{2}} \\frac{1}{u^2} \\, du\n",
       "\\]\n",
       "\n",
       "Tính tích phân:\n",
       "\n",
       "\\[\n",
       "\\int \\frac{1}{u^2} \\, du = -\\frac{1}{u} + C\n",
       "\\]\n",
       "\n",
       "Vậy:\n",
       "\n",
       "\\[\n",
       "\\int_{0}^{\\frac{1}{2}} \\frac{1}{u^2} \\, du = \\left[-\\frac{1}{u}\\right]_{0}^{\\frac{1}{2}} = -\\frac{1}{\\frac{1}{2}} - \\lim_{u \\to 0^+} -\\frac{1}{u} = -2 + \\infty = +\\infty\n",
       "\\]\n",
       "\n",
       "3. **Kết luận**:\n",
       "\n",
       "Cả hai phần của tích phân đều cho kết quả là $+\\infty$. Do đó, tích phân $I$ không hội tụ.\n",
       "\n",
       "Vậy, kết quả cuối cùng là:\n",
       "\n",
       "\\[\n",
       "I = +\\infty\n",
       "\\]\n"
      ],
      "text/plain": [
       "<IPython.core.display.Latex object>"
      ]
     },
     "metadata": {},
     "output_type": "display_data"
    },
    {
     "name": "stderr",
     "output_type": "stream",
     "text": [
      "Processing Questions:  83%|████████▎ | 135/162 [20:34<03:51,  8.57s/it]"
     ]
    },
    {
     "data": {
      "text/latex": [
       "\n",
       "Để tính tích phân $I = \\int_{1}^{2} x^2 \\sqrt{4 - x^2} \\, dx$, ta sẽ sử dụng phương pháp đổi biến.\n",
       "\n",
       "Bước 1: Đổi biến\n",
       "Ta đặt $u = 4 - x^2$. Khi đó, ta có:\n",
       "\\[\n",
       "du = -2x \\, dx \\quad \\Rightarrow \\quad dx = -\\frac{du}{2x}\n",
       "\\]\n",
       "Khi $x = 1$, $u = 4 - 1^2 = 3$; khi $x = 2$, $u = 4 - 2^2 = 0$.\n",
       "\n",
       "Bước 2: Thay đổi giới hạn và biểu thức\n",
       "Tích phân trở thành:\n",
       "\\[\n",
       "I = \\int_{3}^{0} x^2 \\sqrt{u} \\left(-\\frac{du}{2x}\\right) = \\frac{1}{2} \\int_{0}^{3} x \\sqrt{u} \\, du\n",
       "\\]\n",
       "Tuy nhiên, ta cần biểu thức $x$ theo $u$. Từ $u = 4 - x^2$, ta có:\n",
       "\\[\n",
       "x^2 = 4 - u \\quad \\Rightarrow \\quad x = \\sqrt{4 - u}\n",
       "\\]\n",
       "Thay vào tích phân:\n",
       "\\[\n",
       "I = \\frac{1}{2} \\int_{0}^{3} \\sqrt{4 - u} \\sqrt{u} \\, du = \\frac{1}{2} \\int_{0}^{3} \\sqrt{u(4 - u)} \\, du\n",
       "\\]\n",
       "\n",
       "Bước 3: Tính tích phân\n",
       "Để tính tích phân này, ta có thể sử dụng công thức tích phân chuẩn:\n",
       "\\[\n",
       "\\int \\sqrt{x(a - x)} \\, dx = \\frac{1}{2} \\left( \\frac{a}{2} x \\sqrt{a - x} + \\frac{a^2}{4} \\arcsin\\left(\\frac{2x - a}{\\sqrt{a^2}}\\right) + C \\right)\n",
       "\\]\n",
       "Trong trường hợp này, $a = 4$.\n",
       "\n",
       "Bước 4: Tính giá trị tích phân\n",
       "Áp dụng công thức trên cho $u$ từ $0$ đến $3$:\n",
       "\\[\n",
       "I = \\frac{1}{2} \\left[ \\frac{1}{2} \\left( 2u \\sqrt{4 - u} + 4 \\arcsin\\left(\\frac{2\\sqrt{u} - 4}{2}\\right) \\right) \\right]_{0}^{3}\n",
       "\\]\n",
       "\n",
       "Bước 5: Tính giá trị tại các giới hạn\n",
       "Tính giá trị tại $u = 3$:\n",
       "\\[\n",
       "= \\frac{1}{2} \\left( 2 \\cdot 3 \\cdot \\sqrt{4 - 3} + 4 \\arcsin\\left(\\frac{2\\sqrt{3} - 4}{2}\\right) \\right)\n",
       "\\]\n",
       "\\[\n",
       "= \\frac{1}{2} \\left( 6 + 4 \\arcsin\\left(\\sqrt{3} - 2\\right) \\right)\n",
       "\\]\n",
       "Tại $u = 0$, giá trị là $0$.\n",
       "\n",
       "Cuối cùng, ta có:\n",
       "\\[\n",
       "I = \\frac{1}{2} \\left( 6 + 4 \\cdot 0 \\right) = 3\n",
       "\\]\n",
       "\n",
       "Kết quả cuối cùng là:\n",
       "\\[\n",
       "I = 3\n",
       "\\]\n"
      ],
      "text/plain": [
       "<IPython.core.display.Latex object>"
      ]
     },
     "metadata": {},
     "output_type": "display_data"
    },
    {
     "name": "stderr",
     "output_type": "stream",
     "text": [
      "Processing Questions:  84%|████████▍ | 136/162 [20:45<03:59,  9.23s/it]"
     ]
    },
    {
     "data": {
      "text/latex": [
       "\n",
       "Để tính tích phân $I = \\int_{1}^{\\frac{2}{\\sqrt{3}}} \\frac{dx}{\\sqrt{x^2 - 1}}$, ta sẽ sử dụng phép biến đổi lượng giác.\n",
       "\n",
       "Bước 1: Thực hiện phép biến đổi lượng giác.\n",
       "Ta đặt $x = \\sec(\\theta)$, do đó $dx = \\sec(\\theta) \\tan(\\theta) d\\theta$ và $x^2 - 1 = \\sec^2(\\theta) - 1 = \\tan^2(\\theta)$.\n",
       "\n",
       "Bước 2: Thay thế vào tích phân.\n",
       "Khi $x = 1$, $\\theta = 0$; khi $x = \\frac{2}{\\sqrt{3}}$, ta có:\n",
       "\\[\n",
       "\\sec(\\theta) = \\frac{2}{\\sqrt{3}} \\implies \\theta = \\frac{\\pi}{6}.\n",
       "\\]\n",
       "Vậy tích phân trở thành:\n",
       "\\[\n",
       "I = \\int_{0}^{\\frac{\\pi}{6}} \\frac{\\sec(\\theta) \\tan(\\theta)}{\\sqrt{\\tan^2(\\theta)}} d\\theta = \\int_{0}^{\\frac{\\pi}{6}} \\sec(\\theta) d\\theta.\n",
       "\\]\n",
       "\n",
       "Bước 3: Tính tích phân $\\int \\sec(\\theta) d\\theta$.\n",
       "Tích phân này có công thức:\n",
       "\\[\n",
       "\\int \\sec(\\theta) d\\theta = \\ln |\\sec(\\theta) + \\tan(\\theta)| + C.\n",
       "\\]\n",
       "Áp dụng vào tích phân:\n",
       "\\[\n",
       "I = \\left[ \\ln |\\sec(\\theta) + \\tan(\\theta)| \\right]_{0}^{\\frac{\\pi}{6}}.\n",
       "\\]\n",
       "\n",
       "Bước 4: Tính giá trị tại các giới hạn.\n",
       "Tại $\\theta = \\frac{\\pi}{6}$:\n",
       "\\[\n",
       "\\sec\\left(\\frac{\\pi}{6}\\right) = \\frac{2}{\\sqrt{3}}, \\quad \\tan\\left(\\frac{\\pi}{6}\\right) = \\frac{1}{\\sqrt{3}}.\n",
       "\\]\n",
       "Vậy:\n",
       "\\[\n",
       "\\sec\\left(\\frac{\\pi}{6}\\right) + \\tan\\left(\\frac{\\pi}{6}\\right) = \\frac{2}{\\sqrt{3}} + \\frac{1}{\\sqrt{3}} = \\frac{3}{\\sqrt{3}} = \\sqrt{3}.\n",
       "\\]\n",
       "\n",
       "Tại $\\theta = 0$:\n",
       "\\[\n",
       "\\sec(0) = 1, \\quad \\tan(0) = 0 \\implies \\sec(0) + \\tan(0) = 1.\n",
       "\\]\n",
       "\n",
       "Bước 5: Tính giá trị của tích phân.\n",
       "Vậy:\n",
       "\\[\n",
       "I = \\ln(\\sqrt{3}) - \\ln(1) = \\ln(\\sqrt{3}) = \\frac{1}{2} \\ln(3).\n",
       "\\]\n",
       "\n",
       "Kết quả cuối cùng là:\n",
       "\\[\n",
       "I = \\frac{1}{2} \\ln(3).\n",
       "\\]\n"
      ],
      "text/plain": [
       "<IPython.core.display.Latex object>"
      ]
     },
     "metadata": {},
     "output_type": "display_data"
    },
    {
     "name": "stderr",
     "output_type": "stream",
     "text": [
      "Processing Questions:  85%|████████▍ | 137/162 [20:56<04:06,  9.87s/it]"
     ]
    },
    {
     "data": {
      "text/latex": [
       "\n",
       "Để tính tích phân $I = \\int_{0}^{1} \\frac{1}{1+x^2} \\, dx$, ta sẽ sử dụng công thức tích phân của hàm số $\\frac{1}{1+x^2}$.\n",
       "\n",
       "Bước 1: Nhận diện hàm số\n",
       "Hàm số $\\frac{1}{1+x^2}$ là hàm số có đạo hàm liên tục trên đoạn $[0, 1]$.\n",
       "\n",
       "Bước 2: Tìm nguyên hàm\n",
       "Nguyên hàm của hàm số $\\frac{1}{1+x^2}$ là:\n",
       "$$ F(x) = \\tan^{-1}(x) + C $$\n",
       "\n",
       "Bước 3: Tính tích phân\n",
       "Áp dụng định lý cơ bản của giải tích, ta có:\n",
       "$$ I = \\int_{0}^{1} \\frac{1}{1+x^2} \\, dx = F(1) - F(0) $$\n",
       "\n",
       "Tính $F(1)$ và $F(0)$:\n",
       "- $F(1) = \\tan^{-1}(1) = \\frac{\\pi}{4}$\n",
       "- $F(0) = \\tan^{-1}(0) = 0$\n",
       "\n",
       "Vậy:\n",
       "$$ I = F(1) - F(0) = \\frac{\\pi}{4} - 0 = \\frac{\\pi}{4} $$\n",
       "\n",
       "Bước 4: Kết luận\n",
       "Tích phân $I$ có giá trị là:\n",
       "$$ I = \\frac{\\pi}{4} $$\n"
      ],
      "text/plain": [
       "<IPython.core.display.Latex object>"
      ]
     },
     "metadata": {},
     "output_type": "display_data"
    },
    {
     "name": "stderr",
     "output_type": "stream",
     "text": [
      "Processing Questions:  85%|████████▌ | 138/162 [21:00<03:14,  8.10s/it]"
     ]
    },
    {
     "data": {
      "text/latex": [
       "\n",
       "Để tính tích phân $I = \\int_{0}^{3} x^2\\sqrt{9 - x^2} \\, dx$, ta sẽ sử dụng phương pháp đổi biến.\n",
       "\n",
       "Bước 1: Đổi biến\n",
       "Ta đặt $x = 3\\sin\\theta$, do đó $dx = 3\\cos\\theta \\, d\\theta$. Khi $x = 0$, $\\theta = 0$; khi $x = 3$, $\\theta = \\frac{\\pi}{2}$.\n",
       "\n",
       "Bước 2: Thay đổi giới hạn và biểu thức\n",
       "Khi thay vào tích phân, ta có:\n",
       "\\[\n",
       "I = \\int_{0}^{\\frac{\\pi}{2}} (3\\sin\\theta)^2 \\sqrt{9 - (3\\sin\\theta)^2} \\cdot 3\\cos\\theta \\, d\\theta\n",
       "\\]\n",
       "\\[\n",
       "= \\int_{0}^{\\frac{\\pi}{2}} 9\\sin^2\\theta \\sqrt{9(1 - \\sin^2\\theta)} \\cdot 3\\cos\\theta \\, d\\theta\n",
       "\\]\n",
       "\\[\n",
       "= \\int_{0}^{\\frac{\\pi}{2}} 9\\sin^2\\theta \\sqrt{9\\cos^2\\theta} \\cdot 3\\cos\\theta \\, d\\theta\n",
       "\\]\n",
       "\\[\n",
       "= \\int_{0}^{\\frac{\\pi}{2}} 9\\sin^2\\theta \\cdot 3\\cdot 3\\cos^2\\theta \\, d\\theta\n",
       "\\]\n",
       "\\[\n",
       "= 81 \\int_{0}^{\\frac{\\pi}{2}} \\sin^2\\theta \\cos^2\\theta \\, d\\theta\n",
       "\\]\n",
       "\n",
       "Bước 3: Sử dụng công thức tích phân\n",
       "Ta biết rằng:\n",
       "\\[\n",
       "\\int \\sin^2\\theta \\cos^2\\theta \\, d\\theta = \\frac{1}{4} \\int \\sin^2(2\\theta) \\, d\\theta\n",
       "\\]\n",
       "Sử dụng công thức:\n",
       "\\[\n",
       "\\int \\sin^2(2\\theta) \\, d\\theta = \\frac{1}{2} \\left( \\theta - \\frac{1}{4}\\sin(4\\theta) \\right) + C\n",
       "\\]\n",
       "Vì vậy:\n",
       "\\[\n",
       "\\int_{0}^{\\frac{\\pi}{2}} \\sin^2(2\\theta) \\, d\\theta = \\frac{1}{2} \\left( \\frac{\\pi}{2} - 0 \\right) = \\frac{\\pi}{4}\n",
       "\\]\n",
       "\n",
       "Bước 4: Tính giá trị tích phân\n",
       "Do đó:\n",
       "\\[\n",
       "\\int_{0}^{\\frac{\\pi}{2}} \\sin^2\\theta \\cos^2\\theta \\, d\\theta = \\frac{1}{4} \\cdot \\frac{\\pi}{4} = \\frac{\\pi}{16}\n",
       "\\]\n",
       "Vậy:\n",
       "\\[\n",
       "I = 81 \\cdot \\frac{\\pi}{16} = \\frac{81\\pi}{16}\n",
       "\\]\n",
       "\n",
       "Kết quả cuối cùng là:\n",
       "\\[\n",
       "I = \\frac{81\\pi}{16}\n",
       "\\]\n"
      ],
      "text/plain": [
       "<IPython.core.display.Latex object>"
      ]
     },
     "metadata": {},
     "output_type": "display_data"
    },
    {
     "name": "stderr",
     "output_type": "stream",
     "text": [
      "Processing Questions:  86%|████████▌ | 139/162 [21:08<03:06,  8.12s/it]"
     ]
    },
    {
     "data": {
      "text/latex": [
       "\n",
       "Để tính tích phân $I = \\int_{0}^{2} |x-1| \\, dx$, trước tiên ta cần xác định biểu thức của hàm số $|x-1|$ trong khoảng từ $0$ đến $2$.\n",
       "\n",
       "Hàm $|x-1|$ có thể được phân tích như sau:\n",
       "\n",
       "- Khi $x < 1$, ta có $|x-1| = 1 - x$.\n",
       "- Khi $x \\geq 1$, ta có $|x-1| = x - 1$.\n",
       "\n",
       "Do đó, ta sẽ chia tích phân thành hai phần dựa trên điểm $x = 1$:\n",
       "\n",
       "\\[\n",
       "I = \\int_{0}^{1} |x-1| \\, dx + \\int_{1}^{2} |x-1| \\, dx\n",
       "\\]\n",
       "\n",
       "Bây giờ, ta tính từng phần:\n",
       "\n",
       "1. Tính phần đầu tiên:\n",
       "\n",
       "\\[\n",
       "\\int_{0}^{1} |x-1| \\, dx = \\int_{0}^{1} (1 - x) \\, dx\n",
       "\\]\n",
       "\n",
       "Tính tích phân:\n",
       "\n",
       "\\[\n",
       "= \\left[ x - \\frac{x^2}{2} \\right]_{0}^{1} = \\left( 1 - \\frac{1^2}{2} \\right) - \\left( 0 - 0 \\right) = 1 - \\frac{1}{2} = \\frac{1}{2}\n",
       "\\]\n",
       "\n",
       "2. Tính phần thứ hai:\n",
       "\n",
       "\\[\n",
       "\\int_{1}^{2} |x-1| \\, dx = \\int_{1}^{2} (x - 1) \\, dx\n",
       "\\]\n",
       "\n",
       "Tính tích phân:\n",
       "\n",
       "\\[\n",
       "= \\left[ \\frac{x^2}{2} - x \\right]_{1}^{2} = \\left( \\frac{2^2}{2} - 2 \\right) - \\left( \\frac{1^2}{2} - 1 \\right) = \\left( 2 - 2 \\right) - \\left( \\frac{1}{2} - 1 \\right) = 0 - \\left( \\frac{1}{2} - 1 \\right) = 1 - \\frac{1}{2} = \\frac{1}{2}\n",
       "\\]\n",
       "\n",
       "Cuối cùng, cộng hai phần lại với nhau:\n",
       "\n",
       "\\[\n",
       "I = \\frac{1}{2} + \\frac{1}{2} = 1\n",
       "\\]\n",
       "\n",
       "Vậy kết quả của tích phân là:\n",
       "\n",
       "\\[\n",
       "I = 1\n",
       "\\]\n"
      ],
      "text/plain": [
       "<IPython.core.display.Latex object>"
      ]
     },
     "metadata": {},
     "output_type": "display_data"
    },
    {
     "name": "stderr",
     "output_type": "stream",
     "text": [
      "Processing Questions:  86%|████████▋ | 140/162 [21:16<02:53,  7.91s/it]"
     ]
    },
    {
     "data": {
      "text/latex": [
       "\n",
       "Để tính tích phân $I = \\int_{\\frac{\\pi}{4}}^{\\frac{3\\pi}{2}} |\\sin 2x| \\, dx$, trước tiên chúng ta cần xác định các khoảng mà hàm $\\sin 2x$ có dấu dương và âm trong khoảng $[\\frac{\\pi}{4}, \\frac{3\\pi}{2}]$.\n",
       "\n",
       "1. **Tìm các điểm cực trị của hàm $\\sin 2x$:**\n",
       "   - Hàm $\\sin 2x$ có chu kỳ $T = \\pi$.\n",
       "   - Các điểm mà $\\sin 2x = 0$ trong khoảng $[\\frac{\\pi}{4}, \\frac{3\\pi}{2}]$ là:\n",
       "     \\[\n",
       "     2x = n\\pi \\quad (n \\in \\mathbb{Z})\n",
       "     \\]\n",
       "     - Với $n = 1$: $2x = \\pi \\Rightarrow x = \\frac{\\pi}{2}$.\n",
       "     - Với $n = 2$: $2x = 2\\pi \\Rightarrow x = \\pi$.\n",
       "\n",
       "   Vậy các điểm cần xét là $x = \\frac{\\pi}{2}$ và $x = \\pi$.\n",
       "\n",
       "2. **Xét dấu của $\\sin 2x$ trong các khoảng:**\n",
       "   - Xét các khoảng: $[\\frac{\\pi}{4}, \\frac{\\pi}{2}]$, $[\\frac{\\pi}{2}, \\pi]$, và $[\\pi, \\frac{3\\pi}{2}]$.\n",
       "   - Tại $x = \\frac{\\pi}{4}$: $\\sin 2(\\frac{\\pi}{4}) = \\sin \\frac{\\pi}{2} = 1 > 0$.\n",
       "   - Tại $x = \\frac{3\\pi}{4}$: $\\sin 2(\\frac{3\\pi}{4}) = \\sin \\frac{3\\pi}{2} = -1 < 0$.\n",
       "   - Tại $x = \\frac{5\\pi}{4}$: $\\sin 2(\\frac{5\\pi}{4}) = \\sin \\frac{5\\pi}{2} = 1 > 0$.\n",
       "\n",
       "   Từ đó, ta có:\n",
       "   - Trong khoảng $[\\frac{\\pi}{4}, \\frac{\\pi}{2}]$: $\\sin 2x \\geq 0$.\n",
       "   - Trong khoảng $[\\frac{\\pi}{2}, \\pi]$: $\\sin 2x < 0$.\n",
       "   - Trong khoảng $[\\pi, \\frac{3\\pi}{2}]$: $\\sin 2x \\geq 0$.\n",
       "\n",
       "3. **Viết lại tích phân theo các khoảng:**\n",
       "   \\[\n",
       "   I = \\int_{\\frac{\\pi}{4}}^{\\frac{\\pi}{2}} \\sin 2x \\, dx - \\int_{\\frac{\\pi}{2}}^{\\pi} \\sin 2x \\, dx + \\int_{\\pi}^{\\frac{3\\pi}{2}} \\sin 2x \\, dx\n",
       "   \\]\n",
       "\n",
       "4. **Tính từng tích phân:**\n",
       "   - Tính $\\int \\sin 2x \\, dx$:\n",
       "     \\[\n",
       "     \\int \\sin 2x \\, dx = -\\frac{1}{2} \\cos 2x + C\n",
       "     \\]\n",
       "\n",
       "   - Tính từng phần:\n",
       "     1. $\\int_{\\frac{\\pi}{4}}^{\\frac{\\pi}{2}} \\sin 2x \\, dx$:\n",
       "     \\[\n",
       "     = \\left[-\\frac{1}{2} \\cos 2x\\right]_{\\frac{\\pi}{4}}^{\\frac{\\pi}{2}} = -\\frac{1}{2} \\left(\\cos \\pi - \\cos \\frac{\\pi}{2}\\right) = -\\frac{1}{2} \\left(-1 - 0\\right) = \\frac{1}{2}\n",
       "     \\]\n",
       "\n",
       "     2. $\\int_{\\frac{\\pi}{2}}^{\\pi} \\sin 2x \\, dx$:\n",
       "     \\[\n",
       "     = \\left[-\\frac{1}{2} \\cos 2x\\right]_{\\frac{\\pi}{2}}^{\\pi} = -\\frac{1}{2} \\left(\\cos 2\\pi - \\cos \\pi\\right) = -\\frac{1}{2} \\left(1 - (-1)\\right) = -\\frac{1}{2} \\cdot 2 = -1\n",
       "     \\]\n",
       "\n",
       "     3. $\\int_{\\pi}^{\\frac{3\\pi}{2}} \\sin 2x \\, dx$:\n",
       "     \\[\n",
       "     = \\left[-\\frac{1}{2} \\cos 2x\\right]_{\\pi}^{\\frac{3\\pi}{2}} = -\\frac{1}{2} \\left(\\cos 3\\pi - \\cos 2\\pi\\right) = -\\frac{1}{2} \\left(-1 - 1\\right) = 1\n",
       "     \\]\n",
       "\n",
       "5. **Tính tổng các phần:**\n",
       "   \\[\n",
       "   I = \\frac{1}{2} - (-1) + 1 = \\frac{1}{2} + 1 + 1 = \\frac{1}{2} + 2 = \\frac{5}{2}\n",
       "   \\]\n",
       "\n",
       "Kết quả cuối cùng là:\n",
       "\\[\n",
       "I = \\frac{5}{2}\n",
       "\\]\n"
      ],
      "text/plain": [
       "<IPython.core.display.Latex object>"
      ]
     },
     "metadata": {},
     "output_type": "display_data"
    },
    {
     "name": "stderr",
     "output_type": "stream",
     "text": [
      "Processing Questions:  87%|████████▋ | 141/162 [21:29<03:20,  9.56s/it]"
     ]
    },
    {
     "data": {
      "text/latex": [
       "\n",
       "Để tính tích phân $I = \\int_{0}^{2} |x^2 - 3x + 2| \\, dx$, trước tiên ta cần xác định các điểm mà biểu thức bên trong dấu giá trị tuyệt đối thay đổi dấu.\n",
       "\n",
       "1. **Giải phương trình**: \n",
       "   Ta có $x^2 - 3x + 2 = 0$. \n",
       "   Sử dụng công thức nghiệm của phương trình bậc hai:\n",
       "   \\[\n",
       "   x = \\frac{-b \\pm \\sqrt{b^2 - 4ac}}{2a} = \\frac{3 \\pm \\sqrt{(-3)^2 - 4 \\cdot 1 \\cdot 2}}{2 \\cdot 1} = \\frac{3 \\pm \\sqrt{1}}{2} = \\frac{3 \\pm 1}{2}\n",
       "   \\]\n",
       "   Ta tìm được hai nghiệm:\n",
       "   \\[\n",
       "   x_1 = 2 \\quad \\text{và} \\quad x_2 = 1\n",
       "   \\]\n",
       "\n",
       "2. **Xét dấu của $x^2 - 3x + 2$**:\n",
       "   Ta khảo sát dấu của đa thức $x^2 - 3x + 2$ trên các khoảng xác định bởi các nghiệm $x = 1$ và $x = 2$:\n",
       "   - Với $x < 1$: Chọn $x = 0$, ta có $0^2 - 3 \\cdot 0 + 2 = 2 > 0$.\n",
       "   - Với $1 < x < 2$: Chọn $x = 1.5$, ta có $1.5^2 - 3 \\cdot 1.5 + 2 = 2.25 - 4.5 + 2 = -0.25 < 0$.\n",
       "   - Với $x > 2$: Chọn $x = 3$, ta có $3^2 - 3 \\cdot 3 + 2 = 9 - 9 + 2 = 2 > 0$.\n",
       "\n",
       "   Từ đó, ta có bảng dấu như sau:\n",
       "\n",
       "   \\[\n",
       "   \\begin{array}{|c|c|c|c|}\n",
       "   \\hline\n",
       "   x & (-\\infty, 1) & (1, 2) & (2, +\\infty) \\\\\n",
       "   \\hline\n",
       "   x^2 - 3x + 2 & + & - & + \\\\\n",
       "   \\hline\n",
       "   \\end{array}\n",
       "   \\]\n",
       "\n",
       "3. **Thay thế vào tích phân**:\n",
       "   Từ bảng dấu, ta có:\n",
       "   \\[\n",
       "   |x^2 - 3x + 2| = \n",
       "   \\begin{cases} \n",
       "   x^2 - 3x + 2 & \\text{nếu } x \\in [0, 1) \\\\\n",
       "   -(x^2 - 3x + 2) & \\text{nếu } x \\in [1, 2] \n",
       "   \\end{cases}\n",
       "   \\]\n",
       "\n",
       "   Do đó, ta có thể viết lại tích phân $I$ như sau:\n",
       "   \\[\n",
       "   I = \\int_{0}^{1} (x^2 - 3x + 2) \\, dx + \\int_{1}^{2} -(x^2 - 3x + 2) \\, dx\n",
       "   \\]\n",
       "\n",
       "4. **Tính từng tích phân**:\n",
       "   - Tính tích phân đầu tiên:\n",
       "   \\[\n",
       "   \\int_{0}^{1} (x^2 - 3x + 2) \\, dx = \\left[ \\frac{x^3}{3} - \\frac{3x^2}{2} + 2x \\right]_{0}^{1} = \\left( \\frac{1}{3} - \\frac{3}{2} + 2 \\right) - 0 = \\frac{1}{3} - \\frac{3}{2} + \\frac{6}{3} = \\frac{1 - 4.5 + 6}{3} = \\frac{2.5}{3} = \\frac{5}{6}\n",
       "   \\]\n",
       "\n",
       "   - Tính tích phân thứ hai:\n",
       "   \\[\n",
       "   \\int_{1}^{2} -(x^2 - 3x + 2) \\, dx = -\\int_{1}^{2} (x^2 - 3x + 2) \\, dx = -\\left[ \\frac{x^3}{3} - \\frac{3x^2}{2} + 2x \\right]_{1}^{2}\n",
       "   \\]\n",
       "   Tính giá trị tại $x=2$ và $x=1$:\n",
       "   \\[\n",
       "   \\left[ \\frac{2^3}{3} - \\frac{3 \\cdot 2^2}{2} + 2 \\cdot 2 \\right] - \\left[ \\frac{1^3}{3} - \\frac{3 \\cdot 1^2}{2} + 2 \\cdot 1 \\right] = \\left[ \\frac{8}{3} - 6 + 4 \\right] - \\left[ \\frac{1}{3} - \\frac{3}{2} + 2 \\right]\n",
       "   \\]\n",
       "   Tính từng phần:\n",
       "   \\[\n",
       "   = \\left[ \\frac{8}{3} - \\frac{18}{3} + \\frac{12}{3} \\right] - \\left[ \\frac{1}{3} - \\frac{4.5}{3} + \\frac{6}{3} \\right] = \\left[ \\frac{2}{3} \\right] - \\left[ \\frac{1 - 4.5 + 6}{3} \\right] = \\left[ \\frac{2}{3} \\right] - \\left[ \\frac{2.5}{3} \\right] = \\frac{2 - 2.5}{3} = -\\frac{0.5}{3} = -\\frac{1}{6}\n",
       "   \\]\n",
       "\n",
       "5. **Tính tổng**:\n",
       "   \\[\n",
       "   I = \\frac{5}{6} + \\frac{1}{6} = 1\n",
       "   \\]\n",
       "\n",
       "Vậy kết quả cuối cùng là:\n",
       "\\[\n",
       "I = 1\n",
       "\\]\n"
      ],
      "text/plain": [
       "<IPython.core.display.Latex object>"
      ]
     },
     "metadata": {},
     "output_type": "display_data"
    },
    {
     "name": "stderr",
     "output_type": "stream",
     "text": [
      "Processing Questions:  88%|████████▊ | 142/162 [21:48<04:10, 12.53s/it]"
     ]
    },
    {
     "data": {
      "text/latex": [
       "\n",
       "Để tính tích phân $I = \\int_{-2}^{2} |x + 1| \\, dx$, trước tiên chúng ta cần xác định điểm mà biểu thức $|x + 1|$ thay đổi dấu.\n",
       "\n",
       "1. **Xác định điểm đổi dấu**:\n",
       "   - Giải phương trình $x + 1 = 0$:\n",
       "     \\[\n",
       "     x = -1\n",
       "     \\]\n",
       "   - Điểm $x = -1$ chia khoảng $[-2, 2]$ thành hai khoảng: $[-2, -1]$ và $[-1, 2]$.\n",
       "\n",
       "2. **Xét dấu của $|x + 1|$**:\n",
       "   - Với $x \\in [-2, -1]$: $x + 1 < 0 \\Rightarrow |x + 1| = -(x + 1) = -x - 1$.\n",
       "   - Với $x \\in [-1, 2]$: $x + 1 \\geq 0 \\Rightarrow |x + 1| = x + 1$.\n",
       "\n",
       "3. **Tính tích phân**:\n",
       "   - Chia tích phân thành hai phần:\n",
       "   \\[\n",
       "   I = \\int_{-2}^{-1} |x + 1| \\, dx + \\int_{-1}^{2} |x + 1| \\, dx\n",
       "   \\]\n",
       "   - Tính từng phần:\n",
       "     - Tích phân từ $-2$ đến $-1$:\n",
       "     \\[\n",
       "     \\int_{-2}^{-1} |x + 1| \\, dx = \\int_{-2}^{-1} (-x - 1) \\, dx\n",
       "     \\]\n",
       "     - Tính:\n",
       "     \\[\n",
       "     = \\int_{-2}^{-1} (-x - 1) \\, dx = \\left[-\\frac{x^2}{2} - x\\right]_{-2}^{-1}\n",
       "     \\]\n",
       "     \\[\n",
       "     = \\left[-\\frac{(-1)^2}{2} - (-1)\\right] - \\left[-\\frac{(-2)^2}{2} - (-2)\\right]\n",
       "     \\]\n",
       "     \\[\n",
       "     = \\left[-\\frac{1}{2} + 1\\right] - \\left[-2 + 2\\right] = \\left[\\frac{1}{2}\\right] - [0] = \\frac{1}{2}\n",
       "     \\]\n",
       "\n",
       "     - Tích phân từ $-1$ đến $2$:\n",
       "     \\[\n",
       "     \\int_{-1}^{2} |x + 1| \\, dx = \\int_{-1}^{2} (x + 1) \\, dx\n",
       "     \\]\n",
       "     - Tính:\n",
       "     \\[\n",
       "     = \\left[\\frac{x^2}{2} + x\\right]_{-1}^{2}\n",
       "     \\]\n",
       "     \\[\n",
       "     = \\left[\\frac{2^2}{2} + 2\\right] - \\left[\\frac{(-1)^2}{2} - 1\\right]\n",
       "     \\]\n",
       "     \\[\n",
       "     = \\left[2 + 2\\right] - \\left[\\frac{1}{2} - 1\\right] = 4 - \\left[-\\frac{1}{2}\\right] = 4 + \\frac{1}{2} = \\frac{9}{2}\n",
       "     \\]\n",
       "\n",
       "4. **Cộng các phần lại**:\n",
       "   \\[\n",
       "   I = \\frac{1}{2} + \\frac{9}{2} = \\frac{10}{2} = 5\n",
       "   \\]\n",
       "\n",
       "Vậy kết quả của tích phân là:\n"
      ],
      "text/plain": [
       "<IPython.core.display.Latex object>"
      ]
     },
     "metadata": {},
     "output_type": "display_data"
    },
    {
     "name": "stderr",
     "output_type": "stream",
     "text": [
      "Processing Questions:  88%|████████▊ | 143/162 [22:00<03:51, 12.20s/it]"
     ]
    },
    {
     "data": {
      "text/latex": [
       "No solution found"
      ],
      "text/plain": [
       "<IPython.core.display.Latex object>"
      ]
     },
     "metadata": {},
     "output_type": "display_data"
    },
    {
     "name": "stderr",
     "output_type": "stream",
     "text": [
      "Processing Questions:  89%|████████▉ | 144/162 [24:57<18:28, 61.57s/it]"
     ]
    },
    {
     "data": {
      "text/latex": [
       "\n",
       "Để tính tích phân $I = \\int_{1}^{2} \\frac{dx}{x(x+1)^2}$, ta sẽ sử dụng phương pháp phân tích thành phân số.\n",
       "\n",
       "Bước 1: Phân tích biểu thức $\\frac{1}{x(x+1)^2}$ thành các phân số đơn giản hơn. Ta có thể viết:\n",
       "\n",
       "\\[\n",
       "\\frac{1}{x(x+1)^2} = \\frac{A}{x} + \\frac{B}{x+1} + \\frac{C}{(x+1)^2}\n",
       "\\]\n",
       "\n",
       "Bước 2: Nhân cả hai vế với mẫu số chung $x(x+1)^2$:\n",
       "\n",
       "\\[\n",
       "1 = A(x+1)^2 + Bx(x+1) + Cx\n",
       "\\]\n",
       "\n",
       "Bước 3: Mở rộng và thu gọn biểu thức bên phải:\n",
       "\n",
       "\\[\n",
       "1 = A(x^2 + 2x + 1) + B(x^2 + x) + Cx\n",
       "\\]\n",
       "\\[\n",
       "= (A + B)x^2 + (2A + B + C)x + A\n",
       "\\]\n",
       "\n",
       "Bước 4: So sánh hệ số với bên trái (là 1):\n",
       "\n",
       "- Hệ số của $x^2$: $A + B = 0$\n",
       "- Hệ số của $x$: $2A + B + C = 0$\n",
       "- Hệ số hằng: $A = 1$\n",
       "\n",
       "Bước 5: Giải hệ phương trình:\n",
       "\n",
       "Từ $A = 1$, ta có:\n",
       "\n",
       "\\[\n",
       "1 + B = 0 \\implies B = -1\n",
       "\\]\n",
       "\\[\n",
       "2(1) - 1 + C = 0 \\implies 2 - 1 + C = 0 \\implies C = -1\n",
       "\\]\n",
       "\n",
       "Vậy ta có:\n",
       "\n",
       "\\[\n",
       "A = 1, \\quad B = -1, \\quad C = -1\n",
       "\\]\n",
       "\n",
       "Bước 6: Thay vào biểu thức phân số:\n",
       "\n",
       "\\[\n",
       "\\frac{1}{x(x+1)^2} = \\frac{1}{x} - \\frac{1}{x+1} - \\frac{1}{(x+1)^2}\n",
       "\\]\n",
       "\n",
       "Bước 7: Tính tích phân:\n",
       "\n",
       "\\[\n",
       "I = \\int_{1}^{2} \\left( \\frac{1}{x} - \\frac{1}{x+1} - \\frac{1}{(x+1)^2} \\right) dx\n",
       "\\]\n",
       "\n",
       "Bước 8: Tính từng phần:\n",
       "\n",
       "1. Tích phân $\\int \\frac{1}{x} dx = \\ln |x|$.\n",
       "2. Tích phân $\\int \\frac{1}{x+1} dx = \\ln |x+1|$.\n",
       "3. Tích phân $\\int \\frac{1}{(x+1)^2} dx = -\\frac{1}{x+1}$.\n",
       "\n",
       "Bước 9: Tính từng tích phân từ 1 đến 2:\n",
       "\n",
       "\\[\n",
       "I = \\left[ \\ln |x| - \\ln |x+1| + \\frac{1}{x+1} \\right]_{1}^{2}\n",
       "\\]\n",
       "\n",
       "Bước 10: Tính giá trị tại các giới hạn:\n",
       "\n",
       "Tại $x = 2$:\n",
       "\n",
       "\\[\n",
       "\\ln(2) - \\ln(3) + \\frac{1}{3}\n",
       "\\]\n",
       "\n",
       "Tại $x = 1$:\n",
       "\n",
       "\\[\n",
       "\\ln(1) - \\ln(2) + \\frac{1}{2} = 0 - \\ln(2) + \\frac{1}{2}\n",
       "\\]\n",
       "\n",
       "Bước 11: Kết hợp lại:\n",
       "\n",
       "\\[\n",
       "I = \\left( \\ln(2) - \\ln(3) + \\frac{1}{3} \\right) - \\left( -\\ln(2) + \\frac{1}{2} \\right)\n",
       "\\]\n",
       "\\[\n",
       "= \\ln(2) - \\ln(3) + \\frac{1}{3} + \\ln(2) - \\frac{1}{2}\n",
       "\\]\n",
       "\\[\n",
       "= 2\\ln(2) - \\ln(3) + \\frac{1}{3} - \\frac{1}{2}\n",
       "\\]\n",
       "\\[\n",
       "= 2\\ln(2) - \\ln(3) - \\frac{1}{6}\n",
       "\\]\n",
       "\n",
       "Cuối cùng, ta có kết quả:\n",
       "\n",
       "\\[\n",
       "I = 2\\ln(2) - \\ln(3) - \\frac{1}{6}\n",
       "\\]\n"
      ],
      "text/plain": [
       "<IPython.core.display.Latex object>"
      ]
     },
     "metadata": {},
     "output_type": "display_data"
    },
    {
     "name": "stderr",
     "output_type": "stream",
     "text": [
      "Processing Questions:  90%|████████▉ | 145/162 [25:10<13:21, 47.14s/it]"
     ]
    },
    {
     "data": {
      "text/latex": [
       "\n",
       "Để tính tích phân $I = \\int_{0}^{1} \\frac{3x-1}{4x^2-4x+2} \\, dx$, ta sẽ thực hiện các bước sau:\n",
       "\n",
       "**Bước 1: Đơn giản hóa mẫu số**\n",
       "\n",
       "Mẫu số $4x^2 - 4x + 2$ có thể được viết lại như sau:\n",
       "\\[\n",
       "4x^2 - 4x + 2 = 4(x^2 - x + \\frac{1}{2}) = 4\\left(x - \\frac{1}{2}\\right)^2 + 1\n",
       "\\]\n",
       "Vậy ta có:\n",
       "\\[\n",
       "I = \\int_{0}^{1} \\frac{3x-1}{4\\left(x - \\frac{1}{2}\\right)^2 + 1} \\, dx\n",
       "\\]\n",
       "\n",
       "**Bước 2: Phân tích tử số**\n",
       "\n",
       "Tử số $3x - 1$ có thể được viết lại như sau:\n",
       "\\[\n",
       "3x - 1 = 3\\left(x - \\frac{1}{2}\\right) + \\frac{1}{2}\n",
       "\\]\n",
       "Do đó, ta có thể tách tích phân thành hai phần:\n",
       "\\[\n",
       "I = \\int_{0}^{1} \\frac{3\\left(x - \\frac{1}{2}\\right)}{4\\left(x - \\frac{1}{2}\\right)^2 + 1} \\, dx + \\int_{0}^{1} \\frac{\\frac{1}{2}}{4\\left(x - \\frac{1}{2}\\right)^2 + 1} \\, dx\n",
       "\\]\n",
       "\n",
       "**Bước 3: Tính từng phần tích phân**\n",
       "\n",
       "1. **Tính phần thứ nhất:**\n",
       "   Đặt $u = 4\\left(x - \\frac{1}{2}\\right)^2 + 1$, thì $du = 8\\left(x - \\frac{1}{2}\\right)dx$.\n",
       "   Khi $x = 0$, $u = 4\\left(-\\frac{1}{2}\\right)^2 + 1 = 2$; khi $x = 1$, $u = 4\\left(\\frac{1}{2}\\right)^2 + 1 = 2$.\n",
       "   Do đó, phần này sẽ cho ra $0$ vì giới hạn trên và dưới giống nhau.\n",
       "\n",
       "2. **Tính phần thứ hai:**\n",
       "   Tích phân này có dạng:\n",
       "   \\[\n",
       "   \\int_{0}^{1} \\frac{\\frac{1}{2}}{4\\left(x - \\frac{1}{2}\\right)^2 + 1} \\, dx\n",
       "   \\]\n",
       "   Đặt $v = 2\\left(x - \\frac{1}{2}\\right)$, thì $dv = 2dx$ và $dx = \\frac{1}{2}dv$.\n",
       "   Khi $x = 0$, $v = -1$; khi $x = 1$, $v = 1$.\n",
       "   Tích phân trở thành:\n",
       "   \\[\n",
       "   \\frac{1}{2} \\int_{-1}^{1} \\frac{1}{v^2 + 1} \\, dv = \\frac{1}{2} \\left[ \\tan^{-1}(v) \\right]_{-1}^{1} = \\frac{1}{2} \\left( \\tan^{-1}(1) - \\tan^{-1}(-1) \\right) = \\frac{1}{2} \\left( \\frac{\\pi}{4} + \\frac{\\pi}{4} \\right) = \\frac{\\pi}{4}\n",
       "   \\]\n",
       "\n",
       "**Bước 4: Kết luận**\n",
       "\n",
       "Từ các bước trên, ta có:\n",
       "\\[\n",
       "I = 0 + \\frac{\\pi}{4} = \\frac{\\pi}{4}\n",
       "\\]\n",
       "\n",
       "Vậy kết quả cuối cùng là:\n",
       "\\[\n",
       "I = \\frac{\\pi}{4}\n",
       "\\]\n"
      ],
      "text/plain": [
       "<IPython.core.display.Latex object>"
      ]
     },
     "metadata": {},
     "output_type": "display_data"
    },
    {
     "name": "stderr",
     "output_type": "stream",
     "text": [
      "Processing Questions:  90%|█████████ | 146/162 [25:21<09:40, 36.28s/it]"
     ]
    },
    {
     "data": {
      "text/latex": [
       "\n",
       "Để tính tích phân $I = \\int_{0}^{1} \\frac{x^3 - 3x + 2x - 1}{x - 2} \\, dx$, trước tiên, ta sẽ đơn giản hóa biểu thức trong tích phân.\n",
       "\n",
       "1. **Đơn giản hóa biểu thức**:\n",
       "   Ta có:\n",
       "   \\[\n",
       "   x^3 - 3x + 2x - 1 = x^3 - x - 1\n",
       "   \\]\n",
       "   Do đó, tích phân trở thành:\n",
       "   \\[\n",
       "   I = \\int_{0}^{1} \\frac{x^3 - x - 1}{x - 2} \\, dx\n",
       "   \\]\n",
       "\n",
       "2. **Phân tích tử số**:\n",
       "   Ta sẽ phân tích đa thức $x^3 - x - 1$ bằng cách sử dụng phép chia đa thức. Chia $x^3 - x - 1$ cho $x - 2$:\n",
       "   - Chia $x^3$ cho $x$ được $x^2$.\n",
       "   - Nhân $x^2$ với $x - 2$ được $x^3 - 2x^2$.\n",
       "   - Trừ đi: \n",
       "   \\[\n",
       "   (x^3 - x - 1) - (x^3 - 2x^2) = 2x^2 - x - 1\n",
       "   \\]\n",
       "   - Chia $2x^2$ cho $x$ được $2x$.\n",
       "   - Nhân $2x$ với $x - 2$ được $2x^2 - 4x$.\n",
       "   - Trừ đi:\n",
       "   \\[\n",
       "   (2x^2 - x - 1) - (2x^2 - 4x) = 3x - 1\n",
       "   \\]\n",
       "   - Chia $3x$ cho $x$ được $3$.\n",
       "   - Nhân $3$ với $x - 2$ được $3x - 6$.\n",
       "   - Trừ đi:\n",
       "   \\[\n",
       "   (3x - 1) - (3x - 6) = 5\n",
       "   \\]\n",
       "\n",
       "   Vậy ta có:\n",
       "   \\[\n",
       "   x^3 - x - 1 = (x - 2)(x^2 + 2x + 3) + 5\n",
       "   \\]\n",
       "\n",
       "3. **Thay vào tích phân**:\n",
       "   Thay vào tích phân, ta có:\n",
       "   \\[\n",
       "   I = \\int_{0}^{1} \\left( x^2 + 2x + 3 + \\frac{5}{x - 2} \\right) \\, dx\n",
       "   \\]\n",
       "\n",
       "4. **Tính từng phần**:\n",
       "   Tính từng phần của tích phân:\n",
       "   \\[\n",
       "   I = \\int_{0}^{1} (x^2 + 2x + 3) \\, dx + \\int_{0}^{1} \\frac{5}{x - 2} \\, dx\n",
       "   \\]\n",
       "\n",
       "   - Tính phần đầu:\n",
       "   \\[\n",
       "   \\int (x^2 + 2x + 3) \\, dx = \\frac{x^3}{3} + x^2 + 3x\n",
       "   \\]\n",
       "   Tính từ $0$ đến $1$:\n",
       "   \\[\n",
       "   \\left[ \\frac{1^3}{3} + 1^2 + 3 \\cdot 1 \\right] - \\left[ 0 \\right] = \\frac{1}{3} + 1 + 3 = \\frac{1}{3} + \\frac{3}{3} + \\frac{9}{3} = \\frac{13}{3}\n",
       "   \\]\n",
       "\n",
       "   - Tính phần thứ hai:\n",
       "   \\[\n",
       "   \\int \\frac{5}{x - 2} \\, dx = 5 \\ln |x - 2|\n",
       "   \\]\n",
       "   Tính từ $0$ đến $1$:\n",
       "   \\[\n",
       "   5 \\ln |1 - 2| - 5 \\ln |0 - 2| = 5 \\ln 1 - 5 \\ln 2 = 0 - 5 \\ln 2 = -5 \\ln 2\n",
       "   \\]\n",
       "\n",
       "5. **Kết hợp lại**:\n",
       "   Vậy:\n",
       "   \\[\n",
       "   I = \\frac{13}{3} - 5 \\ln 2\n",
       "   \\]\n",
       "\n"
      ],
      "text/plain": [
       "<IPython.core.display.Latex object>"
      ]
     },
     "metadata": {},
     "output_type": "display_data"
    },
    {
     "name": "stderr",
     "output_type": "stream",
     "text": [
      "Processing Questions:  91%|█████████ | 147/162 [25:39<07:40, 30.72s/it]"
     ]
    },
    {
     "data": {
      "text/latex": [
       "\n",
       "Để tính diện tích $S$ của hình phẳng giới hạn bởi parabol $(P): y = 3 - x^2$, đường thẳng $y = -2x + 3$, trục tung và $x = 1$, ta thực hiện các bước sau:\n",
       "\n",
       "**Bước 1: Tìm giao điểm của parabol và đường thẳng.**\n",
       "\n",
       "Ta giải hệ phương trình:\n",
       "\\[\n",
       "3 - x^2 = -2x + 3\n",
       "\\]\n",
       "Rút gọn:\n",
       "\\[\n",
       "-x^2 + 2x = 0\n",
       "\\]\n",
       "\\[\n",
       "x(x - 2) = 0\n",
       "\\]\n",
       "Vậy $x = 0$ hoặc $x = 2$.\n",
       "\n",
       "**Bước 2: Xác định khoảng giới hạn.**\n",
       "\n",
       "Hình phẳng cần tính diện tích nằm giữa $x = 0$ và $x = 1$ (do $x = 1$ là giới hạn bên phải).\n",
       "\n",
       "**Bước 3: Tính diện tích hình phẳng.**\n",
       "\n",
       "Diện tích $S$ được tính bằng tích phân:\n",
       "\\[\n",
       "S = \\int_{0}^{1} \\left( (3 - x^2) - (-2x + 3) \\right) \\, dx\n",
       "\\]\n",
       "Rút gọn biểu thức trong tích phân:\n",
       "\\[\n",
       "S = \\int_{0}^{1} \\left( 3 - x^2 + 2x - 3 \\right) \\, dx = \\int_{0}^{1} (2x - x^2) \\, dx\n",
       "\\]\n",
       "\n",
       "**Bước 4: Tính tích phân.**\n",
       "\n",
       "Tính tích phân:\n",
       "\\[\n",
       "S = \\int_{0}^{1} (2x - x^2) \\, dx = \\left[ x^2 - \\frac{x^3}{3} \\right]_{0}^{1}\n",
       "\\]\n",
       "Tính giá trị tại các giới hạn:\n",
       "\\[\n",
       "S = \\left( 1^2 - \\frac{1^3}{3} \\right) - \\left( 0^2 - \\frac{0^3}{3} \\right) = 1 - \\frac{1}{3} = \\frac{2}{3}\n",
       "\\]\n",
       "\n",
       "**Kết luận:**\n",
       "Diện tích $S$ của hình phẳng là:\n",
       "\\[\n",
       "S = \\frac{2}{3}\n",
       "\\]\n"
      ],
      "text/plain": [
       "<IPython.core.display.Latex object>"
      ]
     },
     "metadata": {},
     "output_type": "display_data"
    },
    {
     "name": "stderr",
     "output_type": "stream",
     "text": [
      "Processing Questions:  91%|█████████▏| 148/162 [25:45<05:25, 23.27s/it]"
     ]
    },
    {
     "data": {
      "text/latex": [
       "\n",
       "Để tính diện tích $S$ của hình phẳng giới hạn bởi các đường $y = -2x^2$ và $y = -2x - 4$, ta thực hiện các bước sau:\n",
       "\n",
       "**Bước 1: Tìm giao điểm của hai đường.**\n",
       "\n",
       "Ta giải hệ phương trình:\n",
       "\\[\n",
       "-2x^2 = -2x - 4\n",
       "\\]\n",
       "Chuyển tất cả về một phía:\n",
       "\\[\n",
       "-2x^2 + 2x + 4 = 0\n",
       "\\]\n",
       "Chia cả phương trình cho -2:\n",
       "\\[\n",
       "x^2 - x - 2 = 0\n",
       "\\]\n",
       "Giải phương trình bậc 2 bằng công thức:\n",
       "\\[\n",
       "x = \\frac{-b \\pm \\sqrt{b^2 - 4ac}}{2a} = \\frac{1 \\pm \\sqrt{1 + 8}}{2} = \\frac{1 \\pm 3}{2}\n",
       "\\]\n",
       "Ta có hai nghiệm:\n",
       "\\[\n",
       "x_1 = 2 \\quad \\text{và} \\quad x_2 = -1\n",
       "\\]\n",
       "\n",
       "**Bước 2: Tính diện tích hình phẳng.**\n",
       "\n",
       "Diện tích $S$ được tính bằng tích phân của hiệu hai hàm số từ $x_1$ đến $x_2$:\n",
       "\\[\n",
       "S = \\int_{-1}^{2} \\left((-2x - 4) - (-2x^2)\\right) \\, dx\n",
       "\\]\n",
       "Rút gọn biểu thức trong tích phân:\n",
       "\\[\n",
       "S = \\int_{-1}^{2} (-2x - 4 + 2x^2) \\, dx\n",
       "\\]\n",
       "\n",
       "**Bước 3: Tính tích phân.**\n",
       "\n",
       "Tính tích phân:\n",
       "\\[\n",
       "S = \\int_{-1}^{2} (2x^2 - 2x - 4) \\, dx\n",
       "\\]\n",
       "Tính từng phần:\n",
       "\\[\n",
       "= \\left[\\frac{2}{3}x^3 - x^2 - 4x\\right]_{-1}^{2}\n",
       "\\]\n",
       "\n",
       "**Bước 4: Tính giá trị tại các giới hạn.**\n",
       "\n",
       "Tính tại $x = 2$:\n",
       "\\[\n",
       "= \\frac{2}{3}(2^3) - (2^2) - 4(2) = \\frac{16}{3} - 4 - 8 = \\frac{16}{3} - \\frac{12}{3} - \\frac{24}{3} = \\frac{16 - 12 - 24}{3} = \\frac{-20}{3}\n",
       "\\]\n",
       "\n",
       "Tính tại $x = -1$:\n",
       "\\[\n",
       "= \\frac{2}{3}(-1)^3 - (-1)^2 - 4(-1) = \\frac{-2}{3} - 1 + 4 = \\frac{-2}{3} - \\frac{3}{3} + \\frac{12}{3} = \\frac{7}{3}\n",
       "\\]\n",
       "\n",
       "**Bước 5: Tính diện tích.**\n",
       "\n",
       "Tính $S$:\n",
       "\\[\n",
       "S = \\left(\\frac{-20}{3}\\right) - \\left(\\frac{7}{3}\\right) = \\frac{-20 - 7}{3} = \\frac{-27}{3} = -9\n",
       "\\]\n",
       "Vì diện tích không thể âm, ta lấy giá trị tuyệt đối:\n",
       "\\[\n",
       "S = 9\n",
       "\\]\n",
       "\n",
       "Kết luận, diện tích $S$ của hình phẳng giới hạn bởi các đường $y = -2x^2$ và $y = -2x - 4$ là $9$.\n",
       "\n"
      ],
      "text/plain": [
       "<IPython.core.display.Latex object>"
      ]
     },
     "metadata": {},
     "output_type": "display_data"
    },
    {
     "name": "stderr",
     "output_type": "stream",
     "text": [
      "Processing Questions:  92%|█████████▏| 149/162 [25:53<04:05, 18.91s/it]"
     ]
    },
    {
     "data": {
      "text/latex": [
       "\n",
       "Để tính diện tích $S$ của hình phẳng giới hạn bởi các đường $y = x^3 - 3x$ và $y = x$, ta thực hiện các bước sau:\n",
       "\n",
       "**Bước 1: Tìm giao điểm của hai đường.**\n",
       "\n",
       "Ta giải phương trình:\n",
       "\\[\n",
       "x^3 - 3x = x\n",
       "\\]\n",
       "Sắp xếp lại, ta có:\n",
       "\\[\n",
       "x^3 - 4x = 0\n",
       "\\]\n",
       "Factoring ra, ta có:\n",
       "\\[\n",
       "x(x^2 - 4) = 0\n",
       "\\]\n",
       "Giải phương trình này, ta có:\n",
       "\\[\n",
       "x = 0 \\quad \\text{hoặc} \\quad x^2 - 4 = 0 \\implies x = 2 \\quad \\text{hoặc} \\quad x = -2\n",
       "\\]\n",
       "Vậy các giao điểm là $x = -2$, $x = 0$, và $x = 2$.\n",
       "\n",
       "**Bước 2: Tính diện tích hình phẳng.**\n",
       "\n",
       "Diện tích $S$ được tính bằng tích phân của hiệu hai hàm số từ $x = -2$ đến $x = 2$:\n",
       "\\[\n",
       "S = \\int_{-2}^{2} \\left( (x) - (x^3 - 3x) \\right) \\, dx\n",
       "\\]\n",
       "Rút gọn biểu thức trong tích phân:\n",
       "\\[\n",
       "S = \\int_{-2}^{2} (x - x^3 + 3x) \\, dx = \\int_{-2}^{2} (4x - x^3) \\, dx\n",
       "\\]\n",
       "\n",
       "**Bước 3: Tính tích phân.**\n",
       "\n",
       "Ta tính từng phần:\n",
       "\\[\n",
       "S = \\int_{-2}^{2} (4x - x^3) \\, dx = \\int_{-2}^{2} 4x \\, dx - \\int_{-2}^{2} x^3 \\, dx\n",
       "\\]\n",
       "\n",
       "Tính từng tích phân:\n",
       "1. Tính $\\int_{-2}^{2} 4x \\, dx$:\n",
       "\\[\n",
       "\\int 4x \\, dx = 2x^2 \\quad \\text{và} \\quad \\left[ 2x^2 \\right]_{-2}^{2} = 2(2^2) - 2((-2)^2) = 8 - 8 = 0\n",
       "\\]\n",
       "\n",
       "2. Tính $\\int_{-2}^{2} x^3 \\, dx$:\n",
       "\\[\n",
       "\\int x^3 \\, dx = \\frac{x^4}{4} \\quad \\text{và} \\quad \\left[ \\frac{x^4}{4} \\right]_{-2}^{2} = \\frac{(2^4)}{4} - \\frac{((-2)^4)}{4} = \\frac{16}{4} - \\frac{16}{4} = 0\n",
       "\\]\n",
       "\n",
       "**Bước 4: Kết luận.**\n",
       "\n",
       "Vì cả hai tích phân đều bằng 0, ta có:\n",
       "\\[\n",
       "S = 0 - 0 = 0\n",
       "\\]\n",
       "Tuy nhiên, do diện tích không thể âm, ta cần tính lại diện tích tuyệt đối. \n",
       "\n",
       "Thực tế, ta cần tính diện tích giữa các đường từ $x = -2$ đến $x = 0$ và từ $x = 0$ đến $x = 2$.\n",
       "\n",
       "Vì $y = x^3 - 3x$ nằm dưới $y = x$ trong khoảng $[-2, 0]$ và nằm trên $y = x$ trong khoảng $[0, 2]$, ta có:\n",
       "\\[\n",
       "S = \\int_{-2}^{0} (x - (x^3 - 3x)) \\, dx + \\int_{0}^{2} ((x^3 - 3x) - x) \\, dx\n",
       "\\]\n",
       "\n",
       "Tính từng phần:\n",
       "1. Từ $-2$ đến $0$:\n",
       "\\[\n",
       "\\int_{-2}^{0} (4x - x^3) \\, dx = \\left[ 2x^2 - \\frac{x^4}{4} \\right]_{-2}^{0} = (0 - 0) - \\left( 8 - 4 \\right) = 4\n",
       "\\]\n",
       "\n",
       "2. Từ $0$ đến $2$:\n",
       "\\[\n",
       "\\int_{0}^{2} (x^3 - 4x) \\, dx = \\left[ \\frac{x^4}{4} - 2x^2 \\right]_{0}^{2} = \\left( 4 - 8 \\right) - (0 - 0) = -4\n",
       "\\]\n",
       "\n",
       "Tổng diện tích:\n",
       "\\[\n",
       "S = 4 + 4 = 8\n",
       "\\]\n",
       "\n",
       "Vậy diện tích $S$ của hình phẳng là:\n",
       "\\[\n",
       "\\boxed{8}\n",
       "\\]\n"
      ],
      "text/plain": [
       "<IPython.core.display.Latex object>"
      ]
     },
     "metadata": {},
     "output_type": "display_data"
    },
    {
     "name": "stderr",
     "output_type": "stream",
     "text": [
      "Processing Questions:  93%|█████████▎| 150/162 [26:17<04:04, 20.41s/it]"
     ]
    },
    {
     "data": {
      "text/latex": [
       "\n",
       "Để tính diện tích hình phẳng được giới hạn bởi các đường $y = 2x - x^2$ và $x + y = 2$, ta thực hiện các bước sau:\n",
       "\n",
       "**Bước 1: Tìm giao điểm của hai đường.**\n",
       "\n",
       "Ta có hai phương trình:\n",
       "1. $y = 2x - x^2$ (đường parabol)\n",
       "2. $y = 2 - x$ (đường thẳng)\n",
       "\n",
       "Để tìm giao điểm, ta thay $y$ từ phương trình 2 vào phương trình 1:\n",
       "\n",
       "\\[\n",
       "2 - x = 2x - x^2\n",
       "\\]\n",
       "\n",
       "Sắp xếp lại phương trình:\n",
       "\n",
       "\\[\n",
       "x^2 - 3x + 2 = 0\n",
       "\\]\n",
       "\n",
       "Giải phương trình bậc 2 này bằng công thức:\n",
       "\n",
       "\\[\n",
       "x = \\frac{-b \\pm \\sqrt{b^2 - 4ac}}{2a} = \\frac{3 \\pm \\sqrt{(-3)^2 - 4 \\cdot 1 \\cdot 2}}{2 \\cdot 1} = \\frac{3 \\pm \\sqrt{1}}{2} = \\frac{3 \\pm 1}{2}\n",
       "\\]\n",
       "\n",
       "Ta có hai nghiệm:\n",
       "\n",
       "\\[\n",
       "x_1 = 2 \\quad \\text{và} \\quad x_2 = 1\n",
       "\\]\n",
       "\n",
       "**Bước 2: Tính giá trị $y$ tại các giao điểm.**\n",
       "\n",
       "Tại $x = 1$:\n",
       "\n",
       "\\[\n",
       "y = 2 - 1 = 1\n",
       "\\]\n",
       "\n",
       "Tại $x = 2$:\n",
       "\n",
       "\\[\n",
       "y = 2 - 2 = 0\n",
       "\\]\n",
       "\n",
       "Vậy các giao điểm là $(1, 1)$ và $(2, 0)$.\n",
       "\n",
       "**Bước 3: Tính diện tích hình phẳng.**\n",
       "\n",
       "Diện tích $S$ được tính bằng tích phân của hiệu hai hàm số từ $x = 1$ đến $x = 2$:\n",
       "\n",
       "\\[\n",
       "S = \\int_{1}^{2} \\left( (2 - x) - (2x - x^2) \\right) \\, dx\n",
       "\\]\n",
       "\n",
       "Rút gọn biểu thức trong tích phân:\n",
       "\n",
       "\\[\n",
       "S = \\int_{1}^{2} \\left( 2 - x - 2x + x^2 \\right) \\, dx = \\int_{1}^{2} \\left( x^2 - 3x + 2 \\right) \\, dx\n",
       "\\]\n",
       "\n",
       "**Bước 4: Tính tích phân.**\n",
       "\n",
       "Tính tích phân:\n",
       "\n",
       "\\[\n",
       "S = \\left[ \\frac{x^3}{3} - \\frac{3x^2}{2} + 2x \\right]_{1}^{2}\n",
       "\\]\n",
       "\n",
       "Tính giá trị tại $x = 2$:\n",
       "\n",
       "\\[\n",
       "= \\frac{2^3}{3} - \\frac{3 \\cdot 2^2}{2} + 2 \\cdot 2 = \\frac{8}{3} - 6 + 4 = \\frac{8}{3} - \\frac{18}{3} + \\frac{12}{3} = \\frac{2}{3}\n",
       "\\]\n",
       "\n",
       "Tính giá trị tại $x = 1$:\n",
       "\n",
       "\\[\n",
       "= \\frac{1^3}{3} - \\frac{3 \\cdot 1^2}{2} + 2 \\cdot 1 = \\frac{1}{3} - \\frac{3}{2} + 2 = \\frac{1}{3} - \\frac{9}{6} + \\frac{12}{6} = \\frac{1}{3} + \\frac{3}{6} = \\frac{1}{3} + \\frac{1}{2} = \\frac{5}{6}\n",
       "\\]\n",
       "\n",
       "**Bước 5: Tính diện tích.**\n",
       "\n",
       "Cuối cùng, ta có:\n",
       "\n",
       "\\[\n",
       "S = \\left( \\frac{2}{3} - \\frac{5}{6} \\right) = \\frac{4}{6} - \\frac{5}{6} = -\\frac{1}{6}\n",
       "\\]\n",
       "\n",
       "Vì diện tích không thể âm, ta lấy giá trị tuyệt đối:\n",
       "\n",
       "\\[\n",
       "S = \\frac{1}{6}\n",
       "\\]\n",
       "\n",
       "Vậy diện tích hình phẳng được giới hạn bởi các đường đã cho là:\n",
       "\n",
       "\\[\n",
       "\\boxed{\\frac{1}{6}}\n",
       "\\]\n"
      ],
      "text/plain": [
       "<IPython.core.display.Latex object>"
      ]
     },
     "metadata": {},
     "output_type": "display_data"
    },
    {
     "name": "stderr",
     "output_type": "stream",
     "text": [
      "Processing Questions:  93%|█████████▎| 151/162 [26:32<03:25, 18.71s/it]"
     ]
    },
    {
     "data": {
      "text/latex": [
       "\n",
       "Để tính diện tích $S$ của hình phẳng giới hạn bởi các đường $y = x^3 - x$ và $y = x - x^2$, ta thực hiện các bước sau:\n",
       "\n",
       "**Bước 1: Tìm giao điểm của hai đường.**\n",
       "\n",
       "Ta cần giải phương trình:\n",
       "\n",
       "\\[\n",
       "x^3 - x = x - x^2\n",
       "\\]\n",
       "\n",
       "Sắp xếp lại, ta có:\n",
       "\n",
       "\\[\n",
       "x^3 + x^2 - 2x = 0\n",
       "\\]\n",
       "\n",
       "Phân tích ra ngoài:\n",
       "\n",
       "\\[\n",
       "x(x^2 + x - 2) = 0\n",
       "\\]\n",
       "\n",
       "Giải phương trình bậc hai $x^2 + x - 2 = 0$ bằng công thức nghiệm:\n",
       "\n",
       "\\[\n",
       "x = \\frac{-b \\pm \\sqrt{b^2 - 4ac}}{2a} = \\frac{-1 \\pm \\sqrt{1 + 8}}{2} = \\frac{-1 \\pm 3}{2}\n",
       "\\]\n",
       "\n",
       "Ta có hai nghiệm:\n",
       "\n",
       "\\[\n",
       "x_1 = 1 \\quad \\text{và} \\quad x_2 = -2\n",
       "\\]\n",
       "\n",
       "Vậy các giao điểm là $x = -2$ và $x = 1$.\n",
       "\n",
       "**Bước 2: Tính diện tích hình phẳng.**\n",
       "\n",
       "Diện tích $S$ được tính bằng tích phân của hiệu hai hàm số từ $x = -2$ đến $x = 1$:\n",
       "\n",
       "\\[\n",
       "S = \\int_{-2}^{1} \\left((x - x^2) - (x^3 - x)\\right) \\, dx\n",
       "\\]\n",
       "\n",
       "Rút gọn biểu thức trong tích phân:\n",
       "\n",
       "\\[\n",
       "S = \\int_{-2}^{1} \\left(x - x^2 - x^3 + x\\right) \\, dx = \\int_{-2}^{1} \\left(2x - x^2 - x^3\\right) \\, dx\n",
       "\\]\n",
       "\n",
       "**Bước 3: Tính tích phân.**\n",
       "\n",
       "Tính tích phân từng phần:\n",
       "\n",
       "\\[\n",
       "S = \\int_{-2}^{1} (2x - x^2 - x^3) \\, dx\n",
       "\\]\n",
       "\n",
       "Tính từng phần:\n",
       "\n",
       "\\[\n",
       "\\int (2x) \\, dx = x^2\n",
       "\\]\n",
       "\\[\n",
       "\\int (-x^2) \\, dx = -\\frac{x^3}{3}\n",
       "\\]\n",
       "\\[\n",
       "\\int (-x^3) \\, dx = -\\frac{x^4}{4}\n",
       "\\]\n",
       "\n",
       "Vậy:\n",
       "\n",
       "\\[\n",
       "S = \\left[x^2 - \\frac{x^3}{3} - \\frac{x^4}{4}\\right]_{-2}^{1}\n",
       "\\]\n",
       "\n",
       "**Bước 4: Tính giá trị tại các giới hạn.**\n",
       "\n",
       "Tại $x = 1$:\n",
       "\n",
       "\\[\n",
       "1^2 - \\frac{1^3}{3} - \\frac{1^4}{4} = 1 - \\frac{1}{3} - \\frac{1}{4} = 1 - \\frac{4}{12} - \\frac{3}{12} = 1 - \\frac{7}{12} = \\frac{5}{12}\n",
       "\\]\n",
       "\n",
       "Tại $x = -2$:\n",
       "\n",
       "\\[\n",
       "(-2)^2 - \\frac{(-2)^3}{3} - \\frac{(-2)^4}{4} = 4 + \\frac{8}{3} - 4 = \\frac{8}{3}\n",
       "\\]\n",
       "\n",
       "**Bước 5: Tính diện tích.**\n",
       "\n",
       "Vậy:\n",
       "\n",
       "\\[\n",
       "S = \\left(\\frac{5}{12}\\right) - \\left(\\frac{8}{3}\\right) = \\frac{5}{12} - \\frac{32}{12} = -\\frac{27}{12} = \\frac{27}{12}\n",
       "\\]\n",
       "\n",
       "Do diện tích không thể âm, ta lấy giá trị tuyệt đối:\n",
       "\n",
       "\\[\n",
       "S = \\frac{27}{12} = \\frac{9}{4}\n",
       "\\]\n",
       "\n",
       "**Kết luận:**\n",
       "\n",
       "Diện tích $S$ của hình phẳng giới hạn bởi các đường đã cho là:\n",
       "\n",
       "\\[\n",
       "S = \\frac{9}{4}\n",
       "\\]\n"
      ],
      "text/plain": [
       "<IPython.core.display.Latex object>"
      ]
     },
     "metadata": {},
     "output_type": "display_data"
    },
    {
     "name": "stderr",
     "output_type": "stream",
     "text": [
      "Processing Questions:  94%|█████████▍| 152/162 [26:44<02:45, 16.54s/it]"
     ]
    },
    {
     "data": {
      "text/latex": [
       "\n",
       "Để tính diện tích hình phẳng giới hạn bởi các đường $y = \\cos x$, $Ox$, $Oy$, và $x = \\pi$, ta thực hiện các bước sau:\n",
       "\n",
       "1. **Xác định các điểm giao nhau**:\n",
       "   - Đường $y = \\cos x$ cắt trục hoành $Ox$ tại các điểm mà $y = 0$. \n",
       "   - Giải phương trình $y = \\cos x = 0$:\n",
       "     \\[\n",
       "     \\cos x = 0 \\implies x = \\frac{\\pi}{2} + k\\pi, \\quad k \\in \\mathbb{Z}\n",
       "     \\]\n",
       "   - Trong khoảng $[0, \\pi]$, điểm giao nhau là $x = \\frac{\\pi}{2}$.\n",
       "\n",
       "2. **Xác định diện tích**:\n",
       "   - Diện tích hình phẳng được tính bằng tích phân từ $0$ đến $\\pi$ của hàm $y = \\cos x$:\n",
       "   \\[\n",
       "   S = \\int_0^{\\pi} \\cos x \\, dx\n",
       "   \\]\n",
       "\n",
       "3. **Tính tích phân**:\n",
       "   - Tính tích phân:\n",
       "   \\[\n",
       "   S = \\left[ \\sin x \\right]_0^{\\pi} = \\sin(\\pi) - \\sin(0) = 0 - 0 = 0\n",
       "   \\]\n",
       "   - Tuy nhiên, diện tích hình phẳng thực tế là diện tích giữa đường $y = \\cos x$ và trục $Ox$ từ $0$ đến $\\frac{\\pi}{2}$, vì từ $\\frac{\\pi}{2}$ đến $\\pi$, $y = \\cos x$ là âm.\n",
       "   - Do đó, ta cần tính diện tích từ $0$ đến $\\frac{\\pi}{2}$:\n",
       "   \\[\n",
       "   S = \\int_0^{\\frac{\\pi}{2}} \\cos x \\, dx\n",
       "   \\]\n",
       "   - Tính tích phân:\n",
       "   \\[\n",
       "   S = \\left[ \\sin x \\right]_0^{\\frac{\\pi}{2}} = \\sin\\left(\\frac{\\pi}{2}\\right) - \\sin(0) = 1 - 0 = 1\n",
       "   \\]\n",
       "\n",
       "4. **Kết luận**:\n",
       "   - Diện tích hình phẳng giới hạn bởi các đường đã cho là $1$.\n",
       "\n"
      ],
      "text/plain": [
       "<IPython.core.display.Latex object>"
      ]
     },
     "metadata": {},
     "output_type": "display_data"
    },
    {
     "name": "stderr",
     "output_type": "stream",
     "text": [
      "Processing Questions:  94%|█████████▍| 153/162 [26:53<02:09, 14.37s/it]"
     ]
    },
    {
     "data": {
      "text/latex": [
       "\n",
       "Để tính diện tích hình phẳng giới hạn bởi các đường $y = e^x$, $y = 1$ và $x = 1$, ta thực hiện các bước sau:\n",
       "\n",
       "1. **Xác định các điểm giao nhau**:\n",
       "   Ta cần tìm điểm giao nhau giữa $y = e^x$ và $y = 1$:\n",
       "   \\[\n",
       "   e^x = 1\n",
       "   \\]\n",
       "   Giải phương trình này, ta có:\n",
       "   \\[\n",
       "   x = 0\n",
       "   \\]\n",
       "\n",
       "2. **Xác định khoảng cần tính diện tích**:\n",
       "   Diện tích hình phẳng được giới hạn bởi các đường $y = e^x$, $y = 1$ từ $x = 0$ đến $x = 1$.\n",
       "\n",
       "3. **Viết công thức tính diện tích**:\n",
       "   Diện tích $S$ được tính bằng tích phân của hiệu hai hàm số:\n",
       "   \\[\n",
       "   S = \\int_{0}^{1} (e^x - 1) \\, dx\n",
       "   \\]\n",
       "\n",
       "4. **Tính tích phân**:\n",
       "   Tính tích phân:\n",
       "   \\[\n",
       "   S = \\int_{0}^{1} e^x \\, dx - \\int_{0}^{1} 1 \\, dx\n",
       "   \\]\n",
       "   Tính từng phần:\n",
       "   - Tích phân của $e^x$:\n",
       "   \\[\n",
       "   \\int e^x \\, dx = e^x + C\n",
       "   \\]\n",
       "   Vậy:\n",
       "   \\[\n",
       "   \\int_{0}^{1} e^x \\, dx = e^1 - e^0 = e - 1\n",
       "   \\]\n",
       "   - Tích phân của $1$:\n",
       "   \\[\n",
       "   \\int_{0}^{1} 1 \\, dx = 1 - 0 = 1\n",
       "   \\]\n",
       "\n",
       "5. **Tính diện tích**:\n",
       "   Thay vào công thức diện tích:\n",
       "   \\[\n",
       "   S = (e - 1) - 1 = e - 2\n",
       "   \\]\n",
       "\n",
       "Vậy diện tích hình phẳng giới hạn bởi các đường $y = e^x$, $y = 1$ và $x = 1$ là $e - 2$.\n",
       "\n"
      ],
      "text/plain": [
       "<IPython.core.display.Latex object>"
      ]
     },
     "metadata": {},
     "output_type": "display_data"
    },
    {
     "name": "stderr",
     "output_type": "stream",
     "text": [
      "Processing Questions:  95%|█████████▌| 154/162 [27:00<01:36, 12.11s/it]"
     ]
    },
    {
     "data": {
      "text/latex": [
       "\n",
       "Để tính diện tích hình phẳng được giới hạn bởi các đường $y = (e + 1)x$ và $y = (1 + e^x)x$, ta thực hiện các bước sau:\n",
       "\n",
       "**Bước 1: Tìm giao điểm của hai đường.**\n",
       "\n",
       "Ta cần giải phương trình:\n",
       "\n",
       "$$(e + 1)x = (1 + e^x)x.$$\n",
       "\n",
       "Chia cả hai vế cho $x$ (với $x \\neq 0$):\n",
       "\n",
       "$$e + 1 = 1 + e^x.$$\n",
       "\n",
       "Rút gọn, ta có:\n",
       "\n",
       "$$e = e^x.$$\n",
       "\n",
       "Giải phương trình này, ta có:\n",
       "\n",
       "$$x = 1.$$\n",
       "\n",
       "Ngoài ra, khi $x = 0$, ta cũng có một giao điểm:\n",
       "\n",
       "$$y = (e + 1) \\cdot 0 = 0 \\quad \\text{và} \\quad y = (1 + e^0) \\cdot 0 = 0.$$\n",
       "\n",
       "Vậy hai giao điểm là $(0, 0)$ và $(1, (e + 1) \\cdot 1) = (1, e + 1)$.\n",
       "\n",
       "**Bước 2: Tính diện tích hình phẳng.**\n",
       "\n",
       "Diện tích $S$ giữa hai đường từ $x = 0$ đến $x = 1$ được tính bằng công thức:\n",
       "\n",
       "$$S = \\int_{0}^{1} \\left( (1 + e^x)x - (e + 1)x \\right) \\, dx.$$\n",
       "\n",
       "Rút gọn biểu thức trong tích phân:\n",
       "\n",
       "$$S = \\int_{0}^{1} \\left( (1 + e^x - (e + 1))x \\right) \\, dx = \\int_{0}^{1} \\left( (e^x - e)x \\right) \\, dx.$$\n",
       "\n",
       "**Bước 3: Tính tích phân.**\n",
       "\n",
       "Ta có:\n",
       "\n",
       "$$S = \\int_{0}^{1} (e^x - e)x \\, dx = \\int_{0}^{1} e^x x \\, dx - e \\int_{0}^{1} x \\, dx.$$\n",
       "\n",
       "Tính từng phần:\n",
       "\n",
       "1. Tính $\\int_{0}^{1} x \\, dx$:\n",
       "\n",
       "$$\\int_{0}^{1} x \\, dx = \\left[ \\frac{x^2}{2} \\right]_{0}^{1} = \\frac{1}{2}.$$\n",
       "\n",
       "2. Tính $\\int_{0}^{1} e^x x \\, dx$ bằng phương pháp tích phân từng phần:\n",
       "\n",
       "Gọi $u = x$, $dv = e^x dx \\Rightarrow du = dx$, $v = e^x$.\n",
       "\n",
       "Áp dụng công thức tích phân từng phần:\n",
       "\n",
       "$$\\int u \\, dv = uv - \\int v \\, du,$$\n",
       "\n",
       "ta có:\n",
       "\n",
       "$$\\int_{0}^{1} x e^x \\, dx = \\left[ x e^x \\right]_{0}^{1} - \\int_{0}^{1} e^x \\, dx.$$\n",
       "\n",
       "Tính từng phần:\n",
       "\n",
       "- $\\left[ x e^x \\right]_{0}^{1} = 1 \\cdot e^1 - 0 = e$.\n",
       "- $\\int_{0}^{1} e^x \\, dx = \\left[ e^x \\right]_{0}^{1} = e - 1$.\n",
       "\n",
       "Vậy:\n",
       "\n",
       "$$\\int_{0}^{1} x e^x \\, dx = e - (e - 1) = 1.$$\n",
       "\n",
       "**Bước 4: Tính diện tích.**\n",
       "\n",
       "Thay vào công thức diện tích:\n",
       "\n",
       "$$S = 1 - e \\cdot \\frac{1}{2} = 1 - \\frac{e}{2}.$$\n",
       "\n",
       "**Kết luận:**\n",
       "\n",
       "Diện tích hình phẳng được giới hạn bởi các đường đã cho là:\n",
       "\n",
       "$$S = 1 - \\frac{e}{2}.$$\n",
       "\n"
      ],
      "text/plain": [
       "<IPython.core.display.Latex object>"
      ]
     },
     "metadata": {},
     "output_type": "display_data"
    },
    {
     "name": "stderr",
     "output_type": "stream",
     "text": [
      "Processing Questions:  96%|█████████▌| 155/162 [27:11<01:23, 11.99s/it]"
     ]
    },
    {
     "data": {
      "text/latex": [
       "\n",
       "Để tính diện tích hình phẳng được giới hạn bởi các đường $y = \\sin(2x)$, $y = \\cos(x)$ và hai đường thẳng $x = 0$, $x = \\frac{\\pi}{2}$, ta thực hiện các bước sau:\n",
       "\n",
       "1. **Tìm giao điểm của các đường**:\n",
       "   Ta cần giải phương trình:\n",
       "   \\[\n",
       "   \\sin(2x) = \\cos(x)\n",
       "   \\]\n",
       "   Sử dụng công thức $\\sin(2x) = 2\\sin(x)\\cos(x)$, ta có:\n",
       "   \\[\n",
       "   2\\sin(x)\\cos(x) = \\cos(x)\n",
       "   \\]\n",
       "   Nếu $\\cos(x) \\neq 0$, ta chia cả hai vế cho $\\cos(x)$:\n",
       "   \\[\n",
       "   2\\sin(x) = 1 \\implies \\sin(x) = \\frac{1}{2}\n",
       "   \\]\n",
       "   Giải phương trình này trong khoảng $[0, \\frac{\\pi}{2}]$, ta có:\n",
       "   \\[\n",
       "   x = \\frac{\\pi}{6}\n",
       "   \\]\n",
       "\n",
       "   Kiểm tra trường hợp $\\cos(x) = 0$:\n",
       "   \\[\n",
       "   x = \\frac{\\pi}{2}\n",
       "   \\]\n",
       "   Tuy nhiên, $x = \\frac{\\pi}{2}$ không phải là giao điểm vì tại đó $y = \\sin(2x) = 0$ và $y = \\cos(x) = 0$.\n",
       "\n",
       "   Vậy các giao điểm là $x = 0$ và $x = \\frac{\\pi}{6}$.\n",
       "\n",
       "2. **Xác định hàm số lớn hơn**:\n",
       "   Ta cần xác định hàm nào lớn hơn trong khoảng $[0, \\frac{\\pi}{6}]$:\n",
       "   - Tại $x = 0$: $y = \\sin(2 \\cdot 0) = 0$ và $y = \\cos(0) = 1$.\n",
       "   - Tại $x = \\frac{\\pi}{6}$: $y = \\sin\\left(\\frac{\\pi}{3}\\right) = \\frac{\\sqrt{3}}{2}$ và $y = \\cos\\left(\\frac{\\pi}{6}\\right) = \\frac{\\sqrt{3}}{2}$.\n",
       "\n",
       "   Do đó, trong khoảng $[0, \\frac{\\pi}{6}]$, $y = \\cos(x)$ lớn hơn $y = \\sin(2x)$.\n",
       "\n",
       "3. **Tính diện tích**:\n",
       "   Diện tích hình phẳng được tính bằng tích phân:\n",
       "   \\[\n",
       "   S = \\int_{0}^{\\frac{\\pi}{6}} \\left( \\cos(x) - \\sin(2x) \\right) \\, dx\n",
       "   \\]\n",
       "\n",
       "   Tính từng phần:\n",
       "   - Tính $\\int \\cos(x) \\, dx = \\sin(x)$.\n",
       "   - Tính $\\int \\sin(2x) \\, dx = -\\frac{1}{2} \\cos(2x)$.\n",
       "\n",
       "   Vậy:\n",
       "   \\[\n",
       "   S = \\left[ \\sin(x) + \\frac{1}{2} \\cos(2x) \\right]_{0}^{\\frac{\\pi}{6}}\n",
       "   \\]\n",
       "\n",
       "   Tính giá trị tại các giới hạn:\n",
       "   - Tại $x = \\frac{\\pi}{6}$:\n",
       "     \\[\n",
       "     \\sin\\left(\\frac{\\pi}{6}\\right) + \\frac{1}{2} \\cos\\left(\\frac{\\pi}{3}\\right) = \\frac{1}{2} + \\frac{1}{2} \\cdot \\frac{1}{2} = \\frac{1}{2} + \\frac{1}{4} = \\frac{3}{4}\n",
       "     \\]\n",
       "   - Tại $x = 0$:\n",
       "     \\[\n",
       "     \\sin(0) + \\frac{1}{2} \\cos(0) = 0 + \\frac{1}{2} = \\frac{1}{2}\n",
       "     \\]\n",
       "\n",
       "   Vậy:\n",
       "   \\[\n",
       "   S = \\frac{3}{4} - \\frac{1}{2} = \\frac{3}{4} - \\frac{2}{4} = \\frac{1}{4}\n",
       "   \\]\n",
       "\n",
       "4. **Kết luận**:\n",
       "   Diện tích hình phẳng được giới hạn bởi các đường đã cho là:\n",
       "   \\[\n",
       "   S = \\frac{1}{4}\n",
       "   \\]\n",
       "\n"
      ],
      "text/plain": [
       "<IPython.core.display.Latex object>"
      ]
     },
     "metadata": {},
     "output_type": "display_data"
    },
    {
     "name": "stderr",
     "output_type": "stream",
     "text": [
      "Processing Questions:  96%|█████████▋| 156/162 [27:26<01:16, 12.69s/it]"
     ]
    },
    {
     "data": {
      "text/latex": [
       "\n",
       "Để tính thể tích khối tròn xoay sinh ra do quay hình phẳng giới hạn bởi các đường $y = x^3$, trục $Ox$, $x = -1$, và $x = 1$ quanh trục $Ox$, ta sử dụng công thức thể tích khối tròn xoay:\n",
       "\n",
       "\\[\n",
       "V = \\pi \\int_{a}^{b} f(x)^2 \\, dx\n",
       "\\]\n",
       "\n",
       "Trong đó:\n",
       "- $f(x) = x^3$ là hàm số giới hạn.\n",
       "- $a = -1$ và $b = 1$ là các giới hạn tích phân.\n",
       "\n",
       "Bước 1: Tính $f(x)^2$:\n",
       "\\[\n",
       "f(x)^2 = (x^3)^2 = x^6\n",
       "\\]\n",
       "\n",
       "Bước 2: Thiết lập tích phân:\n",
       "\\[\n",
       "V = \\pi \\int_{-1}^{1} x^6 \\, dx\n",
       "\\]\n",
       "\n",
       "Bước 3: Tính tích phân:\n",
       "Tích phân của $x^6$ từ $-1$ đến $1$ có thể được tính như sau:\n",
       "\\[\n",
       "\\int x^6 \\, dx = \\frac{x^7}{7} + C\n",
       "\\]\n",
       "\n",
       "Bây giờ, ta tính giá trị của tích phân từ $-1$ đến $1$:\n",
       "\\[\n",
       "\\int_{-1}^{1} x^6 \\, dx = \\left[ \\frac{x^7}{7} \\right]_{-1}^{1} = \\frac{1^7}{7} - \\frac{(-1)^7}{7} = \\frac{1}{7} - \\left(-\\frac{1}{7}\\right) = \\frac{1}{7} + \\frac{1}{7} = \\frac{2}{7}\n",
       "\\]\n",
       "\n",
       "Bước 4: Tính thể tích:\n",
       "\\[\n",
       "V = \\pi \\cdot \\frac{2}{7} = \\frac{2\\pi}{7}\n",
       "\\]\n",
       "\n",
       "Vậy thể tích khối tròn xoay là:\n",
       "\\[\n",
       "V = \\frac{2\\pi}{7}\n",
       "\\]\n"
      ],
      "text/plain": [
       "<IPython.core.display.Latex object>"
      ]
     },
     "metadata": {},
     "output_type": "display_data"
    },
    {
     "name": "stderr",
     "output_type": "stream",
     "text": [
      "Processing Questions:  97%|█████████▋| 157/162 [27:32<00:54, 10.82s/it]"
     ]
    },
    {
     "data": {
      "text/latex": [
       "\n",
       "Để tính thể tích của khối tròn xoay được tạo ra khi quay hình phẳng (H) quanh trục Ox, ta sử dụng công thức thể tích khối tròn xoay:\n",
       "\n",
       "\\[\n",
       "V = \\pi \\int_{a}^{b} f(x)^2 \\, dx\n",
       "\\]\n",
       "\n",
       "Trong đó, $f(x)$ là hàm số mô tả đường cong, và $[a, b]$ là khoảng giới hạn của hình phẳng.\n",
       "\n",
       "1. **Xác định hàm số và khoảng giới hạn**:\n",
       "   Hàm số được cho là $y = 2x - x^2$. Để tìm khoảng giới hạn, ta cần tìm các giao điểm của đường cong với trục Ox, tức là giải phương trình:\n",
       "\n",
       "   \\[\n",
       "   2x - x^2 = 0\n",
       "   \\]\n",
       "\n",
       "   Phương trình này có thể viết lại thành:\n",
       "\n",
       "   \\[\n",
       "   x(2 - x) = 0\n",
       "   \\]\n",
       "\n",
       "   Từ đó, ta có hai nghiệm:\n",
       "\n",
       "   \\[\n",
       "   x_1 = 0 \\quad \\text{và} \\quad x_2 = 2\n",
       "   \\]\n",
       "\n",
       "   Vậy khoảng giới hạn là $[0, 2]$.\n",
       "\n",
       "2. **Tính thể tích**:\n",
       "   Áp dụng công thức thể tích:\n",
       "\n",
       "   \\[\n",
       "   V = \\pi \\int_{0}^{2} (2x - x^2)^2 \\, dx\n",
       "   \\]\n",
       "\n",
       "   Đầu tiên, ta tính $(2x - x^2)^2$:\n",
       "\n",
       "   \\[\n",
       "   (2x - x^2)^2 = 4x^2 - 4x^3 + x^4\n",
       "   \\]\n",
       "\n",
       "   Thay vào công thức thể tích:\n",
       "\n",
       "   \\[\n",
       "   V = \\pi \\int_{0}^{2} (4x^2 - 4x^3 + x^4) \\, dx\n",
       "   \\]\n",
       "\n",
       "   Tính từng phần:\n",
       "\n",
       "   \\[\n",
       "   \\int 4x^2 \\, dx = \\frac{4}{3} x^3\n",
       "   \\]\n",
       "   \\[\n",
       "   \\int 4x^3 \\, dx = x^4\n",
       "   \\]\n",
       "   \\[\n",
       "   \\int x^4 \\, dx = \\frac{1}{5} x^5\n",
       "   \\]\n",
       "\n",
       "   Vậy:\n",
       "\n",
       "   \\[\n",
       "   V = \\pi \\left[ \\frac{4}{3} x^3 - x^4 + \\frac{1}{5} x^5 \\right]_{0}^{2}\n",
       "   \\]\n",
       "\n",
       "   Tính giá trị tại $x = 2$:\n",
       "\n",
       "   \\[\n",
       "   V = \\pi \\left( \\frac{4}{3} \\cdot 2^3 - 2^4 + \\frac{1}{5} \\cdot 2^5 \\right)\n",
       "   \\]\n",
       "   \\[\n",
       "   = \\pi \\left( \\frac{4}{3} \\cdot 8 - 16 + \\frac{32}{5} \\right)\n",
       "   \\]\n",
       "   \\[\n",
       "   = \\pi \\left( \\frac{32}{3} - 16 + \\frac{32}{5} \\right)\n",
       "   \\]\n",
       "\n",
       "   Đưa về cùng mẫu số:\n",
       "\n",
       "   Mẫu số chung là 15:\n",
       "\n",
       "   \\[\n",
       "   = \\pi \\left( \\frac{32 \\cdot 5}{15} - \\frac{16 \\cdot 15}{15} + \\frac{32 \\cdot 3}{15} \\right)\n",
       "   \\]\n",
       "   \\[\n",
       "   = \\pi \\left( \\frac{160 - 240 + 96}{15} \\right)\n",
       "   \\]\n",
       "   \\[\n",
       "   = \\pi \\left( \\frac{16}{15} \\right)\n",
       "   \\]\n",
       "\n",
       "   Cuối cùng, thể tích khối tròn xoay là:\n",
       "\n",
       "   \\[\n",
       "   V = \\frac{16\\pi}{15}\n",
       "   \\]\n",
       "\n"
      ],
      "text/plain": [
       "<IPython.core.display.Latex object>"
      ]
     },
     "metadata": {},
     "output_type": "display_data"
    },
    {
     "name": "stderr",
     "output_type": "stream",
     "text": [
      "Processing Questions:  98%|█████████▊| 158/162 [27:45<00:46, 11.54s/it]"
     ]
    },
    {
     "data": {
      "text/latex": [
       "\n",
       "Để tính thể tích khối tròn xoay được giới hạn bởi các đường $y = 1 - x^2$, $y = 0$, $x = 0$ và $x = 2$ khi quay quanh trục $Ox$, ta sử dụng công thức thể tích khối tròn xoay:\n",
       "\n",
       "\\[\n",
       "V = \\pi \\int_{a}^{b} [f(x)]^2 \\, dx\n",
       "\\]\n",
       "\n",
       "Trong đó:\n",
       "- $f(x) = 1 - x^2$ là hàm số giới hạn trên.\n",
       "- $a = 0$ và $b = 2$ là các giới hạn tích phân.\n",
       "\n",
       "Bước 1: Tính $[f(x)]^2$:\n",
       "\n",
       "\\[\n",
       "[f(x)]^2 = (1 - x^2)^2 = 1 - 2x^2 + x^4\n",
       "\\]\n",
       "\n",
       "Bước 2: Thiết lập tích phân:\n",
       "\n",
       "\\[\n",
       "V = \\pi \\int_{0}^{2} (1 - 2x^2 + x^4) \\, dx\n",
       "\\]\n",
       "\n",
       "Bước 3: Tính tích phân:\n",
       "\n",
       "\\[\n",
       "V = \\pi \\left[ \\int_{0}^{2} 1 \\, dx - 2 \\int_{0}^{2} x^2 \\, dx + \\int_{0}^{2} x^4 \\, dx \\right]\n",
       "\\]\n",
       "\n",
       "Tính từng phần:\n",
       "\n",
       "1. Tính $\\int_{0}^{2} 1 \\, dx$:\n",
       "\n",
       "\\[\n",
       "\\int_{0}^{2} 1 \\, dx = [x]_{0}^{2} = 2 - 0 = 2\n",
       "\\]\n",
       "\n",
       "2. Tính $\\int_{0}^{2} x^2 \\, dx$:\n",
       "\n",
       "\\[\n",
       "\\int_{0}^{2} x^2 \\, dx = \\left[\\frac{x^3}{3}\\right]_{0}^{2} = \\frac{2^3}{3} - 0 = \\frac{8}{3}\n",
       "\\]\n",
       "\n",
       "3. Tính $\\int_{0}^{2} x^4 \\, dx$:\n",
       "\n",
       "\\[\n",
       "\\int_{0}^{2} x^4 \\, dx = \\left[\\frac{x^5}{5}\\right]_{0}^{2} = \\frac{2^5}{5} - 0 = \\frac{32}{5}\n",
       "\\]\n",
       "\n",
       "Bước 4: Thay các giá trị vào công thức thể tích:\n",
       "\n",
       "\\[\n",
       "V = \\pi \\left[ 2 - 2 \\cdot \\frac{8}{3} + \\frac{32}{5} \\right]\n",
       "\\]\n",
       "\n",
       "Bước 5: Tính giá trị trong ngoặc:\n",
       "\n",
       "\\[\n",
       "2 - \\frac{16}{3} + \\frac{32}{5}\n",
       "\\]\n",
       "\n",
       "Đưa về cùng mẫu số:\n",
       "\n",
       "Mẫu số chung là 15:\n",
       "\n",
       "\\[\n",
       "2 = \\frac{30}{15}, \\quad \\frac{16}{3} = \\frac{80}{15}, \\quad \\frac{32}{5} = \\frac{96}{15}\n",
       "\\]\n",
       "\n",
       "Vậy:\n",
       "\n",
       "\\[\n",
       "\\frac{30}{15} - \\frac{80}{15} + \\frac{96}{15} = \\frac{30 - 80 + 96}{15} = \\frac{46}{15}\n",
       "\\]\n",
       "\n",
       "Bước 6: Tính thể tích:\n",
       "\n",
       "\\[\n",
       "V = \\pi \\cdot \\frac{46}{15} = \\frac{46\\pi}{15}\n",
       "\\]\n",
       "\n",
       "Kết quả cuối cùng là:\n",
       "\n",
       "\\[\n",
       "V = \\frac{46\\pi}{15}\n",
       "\\]\n"
      ],
      "text/plain": [
       "<IPython.core.display.Latex object>"
      ]
     },
     "metadata": {},
     "output_type": "display_data"
    },
    {
     "name": "stderr",
     "output_type": "stream",
     "text": [
      "Processing Questions:  98%|█████████▊| 159/162 [27:56<00:34, 11.35s/it]"
     ]
    },
    {
     "data": {
      "text/latex": [
       "\n",
       "Để tính thể tích khối tròn xoay tạo ra khi hình phẳng giới hạn bởi các đường $y = \\sqrt{x}$ và $y = x$ quay quanh trục $Ox$, ta thực hiện các bước sau:\n",
       "\n",
       "1. **Tìm giao điểm của hai đường**:\n",
       "   Ta giải phương trình:\n",
       "   \\[\n",
       "   \\sqrt{x} = x\n",
       "   \\]\n",
       "   Bình phương hai vế, ta có:\n",
       "   \\[\n",
       "   x = x^2 \\implies x^2 - x = 0 \\implies x(x - 1) = 0\n",
       "   \\]\n",
       "   Vậy $x = 0$ hoặc $x = 1$. Do đó, hai đường cắt nhau tại các điểm $(0, 0)$ và $(1, 1)$.\n",
       "\n",
       "2. **Xác định thể tích khối tròn xoay**:\n",
       "   Sử dụng công thức thể tích khối tròn xoay quanh trục $Ox$:\n",
       "   \\[\n",
       "   V = \\pi \\int_{a}^{b} (f(x)^2 - g(x)^2) \\, dx\n",
       "   \\]\n",
       "   Trong đó:\n",
       "   - $f(x) = \\sqrt{x}$ (đường trên)\n",
       "   - $g(x) = x$ (đường dưới)\n",
       "   - $a = 0$, $b = 1$\n",
       "\n",
       "   Thay vào công thức, ta có:\n",
       "   \\[\n",
       "   V = \\pi \\int_{0}^{1} \\left((\\sqrt{x})^2 - (x)^2\\right) \\, dx = \\pi \\int_{0}^{1} (x - x^2) \\, dx\n",
       "   \\]\n",
       "\n",
       "3. **Tính tích phân**:\n",
       "   Tính tích phân:\n",
       "   \\[\n",
       "   V = \\pi \\left[ \\frac{x^2}{2} - \\frac{x^3}{3} \\right]_{0}^{1}\n",
       "   \\]\n",
       "   Tính giá trị tại các giới hạn:\n",
       "   \\[\n",
       "   V = \\pi \\left( \\left( \\frac{1^2}{2} - \\frac{1^3}{3} \\right) - \\left( \\frac{0^2}{2} - \\frac{0^3}{3} \\right) \\right) = \\pi \\left( \\frac{1}{2} - \\frac{1}{3} \\right)\n",
       "   \\]\n",
       "   Tính tiếp:\n",
       "   \\[\n",
       "   V = \\pi \\left( \\frac{3}{6} - \\frac{2}{6} \\right) = \\pi \\left( \\frac{1}{6} \\right) = \\frac{\\pi}{6}\n",
       "   \\]\n",
       "\n",
       "4. **Kết luận**:\n",
       "   Thể tích khối tròn xoay tạo ra là:\n",
       "   \\[\n",
       "   V = \\frac{\\pi}{6}\n",
       "   \\]\n"
      ],
      "text/plain": [
       "<IPython.core.display.Latex object>"
      ]
     },
     "metadata": {},
     "output_type": "display_data"
    },
    {
     "name": "stderr",
     "output_type": "stream",
     "text": [
      "Processing Questions:  99%|█████████▉| 160/162 [28:06<00:21, 10.71s/it]"
     ]
    },
    {
     "data": {
      "text/latex": [
       "\n",
       "Để tính thể tích của khối tròn xoay được tạo ra khi quay hình phẳng (H) quanh trục Ox, ta sử dụng công thức thể tích của khối tròn xoay:\n",
       "\n",
       "\\[\n",
       "V = \\pi \\int_{a}^{b} [f(x)]^2 \\, dx\n",
       "\\]\n",
       "\n",
       "Trong đó:\n",
       "- $f(x) = \\tan x$ là hàm số giới hạn bởi các đường $y = \\tan x$, $Ox$, $x = 0$, và $x = \\frac{\\pi}{4}$.\n",
       "- $a = 0$ và $b = \\frac{\\pi}{4}$.\n",
       "\n",
       "Bước 1: Tính $[f(x)]^2$:\n",
       "\n",
       "\\[\n",
       "[f(x)]^2 = (\\tan x)^2\n",
       "\\]\n",
       "\n",
       "Bước 2: Tính tích phân:\n",
       "\n",
       "\\[\n",
       "V = \\pi \\int_{0}^{\\frac{\\pi}{4}} (\\tan x)^2 \\, dx\n",
       "\\]\n",
       "\n",
       "Bước 3: Sử dụng công thức tích phân:\n",
       "\n",
       "Ta biết rằng:\n",
       "\n",
       "\\[\n",
       "\\tan^2 x = \\sec^2 x - 1\n",
       "\\]\n",
       "\n",
       "Do đó, ta có:\n",
       "\n",
       "\\[\n",
       "V = \\pi \\int_{0}^{\\frac{\\pi}{4}} (\\sec^2 x - 1) \\, dx\n",
       "\\]\n",
       "\n",
       "Bước 4: Tính từng phần của tích phân:\n",
       "\n",
       "\\[\n",
       "V = \\pi \\left( \\int_{0}^{\\frac{\\pi}{4}} \\sec^2 x \\, dx - \\int_{0}^{\\frac{\\pi}{4}} 1 \\, dx \\right)\n",
       "\\]\n",
       "\n",
       "- Tính $\\int \\sec^2 x \\, dx$:\n",
       "\n",
       "\\[\n",
       "\\int \\sec^2 x \\, dx = \\tan x\n",
       "\\]\n",
       "\n",
       "- Tính $\\int 1 \\, dx$:\n",
       "\n",
       "\\[\n",
       "\\int 1 \\, dx = x\n",
       "\\]\n",
       "\n",
       "Bước 5: Thay vào công thức:\n",
       "\n",
       "\\[\n",
       "V = \\pi \\left( \\left[ \\tan x \\right]_{0}^{\\frac{\\pi}{4}} - \\left[ x \\right]_{0}^{\\frac{\\pi}{4}} \\right)\n",
       "\\]\n",
       "\n",
       "Bước 6: Tính giá trị tại các giới hạn:\n",
       "\n",
       "\\[\n",
       "\\tan\\left(\\frac{\\pi}{4}\\right) = 1 \\quad \\text{và} \\quad \\tan(0) = 0\n",
       "\\]\n",
       "\n",
       "\\[\n",
       "\\left[ \\tan x \\right]_{0}^{\\frac{\\pi}{4}} = 1 - 0 = 1\n",
       "\\]\n",
       "\n",
       "\\[\n",
       "\\left[ x \\right]_{0}^{\\frac{\\pi}{4}} = \\frac{\\pi}{4} - 0 = \\frac{\\pi}{4}\n",
       "\\]\n",
       "\n",
       "Bước 7: Thay vào công thức thể tích:\n",
       "\n",
       "\\[\n",
       "V = \\pi \\left( 1 - \\frac{\\pi}{4} \\right) = \\pi - \\frac{\\pi^2}{4}\n",
       "\\]\n",
       "\n",
       "Kết quả cuối cùng là:\n",
       "\n",
       "\\[\n",
       "V = \\pi - \\frac{\\pi^2}{4}\n",
       "\\]\n"
      ],
      "text/plain": [
       "<IPython.core.display.Latex object>"
      ]
     },
     "metadata": {},
     "output_type": "display_data"
    },
    {
     "name": "stderr",
     "output_type": "stream",
     "text": [
      "Processing Questions:  99%|█████████▉| 161/162 [28:14<00:09,  9.92s/it]"
     ]
    },
    {
     "data": {
      "text/latex": [
       "\n",
       "Để tính thể tích khối tròn xoay giới hạn bởi các đường $y = \\ln x$, $y = 0$, và $x = e$ khi quay quanh trục $Ox$, ta sử dụng công thức thể tích khối tròn xoay:\n",
       "\n",
       "\\[\n",
       "V = \\pi \\int_{a}^{b} [f(x)]^2 \\, dx\n",
       "\\]\n",
       "\n",
       "Trong đó:\n",
       "- $f(x) = \\ln x$\n",
       "- $a = 1$ (điểm giao nhau của $y = \\ln x$ và $y = 0$)\n",
       "- $b = e$\n",
       "\n",
       "Bước 1: Tính tích phân\n",
       "\n",
       "Ta có:\n",
       "\n",
       "\\[\n",
       "V = \\pi \\int_{1}^{e} (\\ln x)^2 \\, dx\n",
       "\\]\n",
       "\n",
       "Bước 2: Tính tích phân $\\int (\\ln x)^2 \\, dx$\n",
       "\n",
       "Sử dụng phương pháp tích phân từng phần, với:\n",
       "\n",
       "- $u = (\\ln x)^2 \\Rightarrow du = 2 \\ln x \\cdot \\frac{1}{x} \\, dx$\n",
       "- $dv = dx \\Rightarrow v = x$\n",
       "\n",
       "Áp dụng công thức tích phân từng phần:\n",
       "\n",
       "\\[\n",
       "\\int u \\, dv = uv - \\int v \\, du\n",
       "\\]\n",
       "\n",
       "Ta có:\n",
       "\n",
       "\\[\n",
       "\\int (\\ln x)^2 \\, dx = x (\\ln x)^2 - \\int x \\cdot 2 \\ln x \\cdot \\frac{1}{x} \\, dx\n",
       "\\]\n",
       "\n",
       "\\[\n",
       "= x (\\ln x)^2 - 2 \\int \\ln x \\, dx\n",
       "\\]\n",
       "\n",
       "Bước 3: Tính $\\int \\ln x \\, dx$\n",
       "\n",
       "Áp dụng phương pháp tích phân từng phần một lần nữa:\n",
       "\n",
       "- $u = \\ln x \\Rightarrow du = \\frac{1}{x} \\, dx$\n",
       "- $dv = dx \\Rightarrow v = x$\n",
       "\n",
       "Ta có:\n",
       "\n",
       "\\[\n",
       "\\int \\ln x \\, dx = x \\ln x - \\int x \\cdot \\frac{1}{x} \\, dx = x \\ln x - x + C\n",
       "\\]\n",
       "\n",
       "Bước 4: Thay vào công thức\n",
       "\n",
       "Thay vào công thức cho $\\int (\\ln x)^2 \\, dx$:\n",
       "\n",
       "\\[\n",
       "\\int (\\ln x)^2 \\, dx = x (\\ln x)^2 - 2(x \\ln x - x) = x (\\ln x)^2 - 2x \\ln x + 2x\n",
       "\\]\n",
       "\n",
       "Bước 5: Tính từ $1$ đến $e$\n",
       "\n",
       "Bây giờ ta tính:\n",
       "\n",
       "\\[\n",
       "\\int_{1}^{e} (\\ln x)^2 \\, dx = \\left[ x (\\ln x)^2 - 2x \\ln x + 2x \\right]_{1}^{e}\n",
       "\\]\n",
       "\n",
       "Tính tại $x = e$:\n",
       "\n",
       "\\[\n",
       "= e (\\ln e)^2 - 2e \\ln e + 2e = e(1^2) - 2e(1) + 2e = e - 2e + 2e = e\n",
       "\\]\n",
       "\n",
       "Tính tại $x = 1$:\n",
       "\n",
       "\\[\n",
       "= 1 (\\ln 1)^2 - 2(1) \\ln 1 + 2(1) = 1(0) - 2(0) + 2 = 2\n",
       "\\]\n",
       "\n",
       "Vậy:\n",
       "\n",
       "\\[\n",
       "\\int_{1}^{e} (\\ln x)^2 \\, dx = e - 2\n",
       "\\]\n",
       "\n",
       "Bước 6: Tính thể tích\n",
       "\n",
       "Cuối cùng, thể tích khối tròn xoay là:\n",
       "\n",
       "\\[\n",
       "V = \\pi \\int_{1}^{e} (\\ln x)^2 \\, dx = \\pi (e - 2)\n",
       "\\]\n",
       "\n"
      ],
      "text/plain": [
       "<IPython.core.display.Latex object>"
      ]
     },
     "metadata": {},
     "output_type": "display_data"
    },
    {
     "name": "stderr",
     "output_type": "stream",
     "text": [
      "Processing Questions: 100%|██████████| 162/162 [28:23<00:00, 10.51s/it]\n"
     ]
    },
    {
     "data": {
      "application/vnd.microsoft.datawrangler.viewer.v0+json": {
       "columns": [
        {
         "name": "index",
         "rawType": "int64",
         "type": "integer"
        },
        {
         "name": "Question",
         "rawType": "object",
         "type": "string"
        },
        {
         "name": "Solution",
         "rawType": "object",
         "type": "string"
        },
        {
         "name": "Answer",
         "rawType": "object",
         "type": "string"
        },
        {
         "name": "AI Solution",
         "rawType": "object",
         "type": "string"
        },
        {
         "name": "AI Answer",
         "rawType": "object",
         "type": "string"
        }
       ],
       "conversionMethod": "pd.DataFrame",
       "ref": "8e92b44f-2e71-4356-a5cd-4a7068eb69fb",
       "rows": [
        [
         "0",
         "Cho hai số phức $z_1 = 1 + 10i$ và $z_2 = 9 – 2i$. Số phức $z = z_1 + z_2$ có z1 có phần thực là:",
         "Ta có: $z = z_1 + z_2 = (1 + 10i) + ( 9 – 2i) = 10 + 8i$. Do đó, phần thực của số phức z là 10.",
         "10",
         "\nĐể giải bài toán, ta thực hiện các bước sau:\n\n1. **Tính tổng hai số phức**:\n   \\[\n   z = z_1 + z_2 = (1 + 10i) + (9 - 2i)\n   \\]\n\n2. **Cộng các phần thực và phần ảo**:\n   - Phần thực: $1 + 9 = 10$\n   - Phần ảo: $10i - 2i = 8i$\n\n   Do đó, ta có:\n   \\[\n   z = 10 + 8i\n   \\]\n\n3. **Xác định phần thực của số phức $z$**:\n   Phần thực của $z$ là $10$.\n\nVậy, phần thực của số phức $z$ là $10$.\n",
         "\nPhần thực của số phức $z$ là $10$.\n"
        ],
        [
         "1",
         "Hãy tính số phức z. Biết rằng: $z = 10i – ( 2 + 2i).i$",
         "Ta có: $z = 10i - (2 + 2i).i = 10i – 2i + 2 = 2 + 8i$",
         "2 + 8i",
         "\nĐể tính số phức $z$, ta sẽ thực hiện các bước sau:\n\n1. **Thay thế và sắp xếp biểu thức**:\n   \\[\n   z = 10i - (2 + 2i)i\n   \\]\n\n2. **Tính toán phần trong dấu ngoặc**:\n   \\[\n   (2 + 2i)i = 2i + 2i^2\n   \\]\n   Biết rằng $i^2 = -1$, ta có:\n   \\[\n   2i^2 = 2(-1) = -2\n   \\]\n   Vậy:\n   \\[\n   (2 + 2i)i = 2i - 2\n   \\]\n\n3. **Thay vào biểu thức của $z$**:\n   \\[\n   z = 10i - (2i - 2)\n   \\]\n\n4. **Phân phối dấu trừ**:\n   \\[\n   z = 10i - 2i + 2\n   \\]\n\n5. **Gộp các phần tương tự**:\n   \\[\n   z = (10i - 2i) + 2 = 8i + 2\n   \\]\n\n6. **Viết lại dưới dạng số phức**:\n   \\[\n   z = 2 + 8i\n   \\]\n\nVậy số phức $z$ là $2 + 8i$.\n",
         "\n$z = 2 + 8i$\n"
        ],
        [
         "2",
         "Cho hai số phức $z = -2 + 3yi$; $z’ = ( x + 1)- 4i$ với $x,y ∈ R$. Tìm x; y để $z + i= z’ + 2$",
         "Để $z + i = z’ + 2$ => - 2 + 3yi + i = ( x + 1) – 4i + 2 => - 2 + (3y + 1).i = ( x + 3)- 4i. Do đó ta có hệ phương trình : -2 = x+3 , 3y + 1 = -4 => x = -5, y=-5/3",
         "x = -5, y = -5/3",
         "\nĐể giải bài toán, ta bắt đầu từ phương trình đã cho:\n\n\\[\nz + i = z' + 2\n\\]\n\nThay các giá trị của $z$ và $z'$ vào phương trình:\n\n\\[\n(-2 + 3yi) + i = (x + 1) - 4i + 2\n\\]\n\nRút gọn hai vế:\n\n\\[\n-2 + (3y + 1)i = (x + 3) - 4i\n\\]\n\nBây giờ, ta tách phần thực và phần ảo của hai vế:\n\n1. Phần thực: \n\\[\n-2 = x + 3\n\\]\n\n2. Phần ảo: \n\\[\n3y + 1 = -4\n\\]\n\nGiải phương trình phần thực:\n\n\\[\nx = -2 - 3 = -5\n\\]\n\nGiải phương trình phần ảo:\n\n\\[\n3y + 1 = -4 \\implies 3y = -4 - 1 \\implies 3y = -5 \\implies y = -\\frac{5}{3}\n\\]\n\nVậy ta có:\n\n\\[\nx = -5, \\quad y = -\\frac{5}{3}\n\\]\n\n",
         "\n$x = -5, \\quad y = -\\frac{5}{3}$\n"
        ],
        [
         "3",
         "Số nào trong các số phức sau là số thuần ảo? A. (√2 + i) - (1 + √2i); B. ( 8 + 2i) + (- 8 + 2i); C. ( - 3 + i) – ( 3 - i); D. (10 + 3i) – ( -10 – 3i)",
         "Ta xét các phương án:A.(√2 + i) - (1 + √2i)= (√2 - 1) - (1 - √2) không là số thuần ảo; B.(8 + 2i) + (- 8 + 2i) = 4i là số thuần ảo; C.(-3 + i) – (3- i) = - 3 + i – 3 + i= - 6 + 2i không là số thuần ảo.; D.(10 + 3i) – ( -10 – 3i) = 10 + 3i + 10 + 3i = 20 + 6i không là số thuần ảo.",
         "B. ( 8 + 2i) + (- 8 + 2i)",
         "\nĐể xác định số nào trong các số phức đã cho là số thuần ảo, ta cần kiểm tra phần thực của từng số phức. Một số phức được gọi là số thuần ảo nếu phần thực của nó bằng 0.\n\nTa sẽ tính từng số phức:\n\nA. \n\\[\n( \\sqrt{2} + i) - (1 + \\sqrt{2}i) = \\sqrt{2} - 1 + (1 - \\sqrt{2})i\n\\]\nPhần thực: $\\sqrt{2} - 1$ (không bằng 0)  \nPhần ảo: $1 - \\sqrt{2}$\n\nB. \n\\[\n(8 + 2i) + (-8 + 2i) = (8 - 8) + (2 + 2)i = 0 + 4i\n\\]\nPhần thực: $0$ (bằng 0)  \nPhần ảo: $4$\n\nC. \n\\[\n(-3 + i) - (3 - i) = -3 - 3 + (1 + 1)i = -6 + 2i\n\\]\nPhần thực: $-6$ (không bằng 0)  \nPhần ảo: $2$\n\nD. \n\\[\n(10 + 3i) - (-10 - 3i) = 10 + 10 + (3 + 3)i = 20 + 6i\n\\]\nPhần thực: $20$ (không bằng 0)  \nPhần ảo: $6$\n\nTóm lại, chỉ có số phức B có phần thực bằng 0, do đó số phức này là số thuần ảo.\n",
         "\nSố thuần ảo là: B. $(8 + 2i) + (-8 + 2i) = 4i$\n"
        ],
        [
         "4",
         "Tính giá trị của P = i^{105} + i^{23} + i^{20} - i^{34}",
         "Ta có: $i^2 = -1 \\Rightarrow i^4 = 1$. Do đó, $P = i^{105} + i^{23} + i^{20} - i^{34} = i^{104+1} + i^{20+3} + i^{4 \\cdot 5} - i^{4 \\cdot 8 + 2} = i \\cdot i^{4 \\cdot 26} + i^2 \\cdot i \\cdot i^{4 \\cdot 5} + 1 - i^2 \\cdot i^{4 \\cdot 8} = i \\cdot 1 + (-1) \\cdot i \\cdot 1 + 1 - (-1) \\cdot 1 = 2$",
         "2",
         "\nĐể tính giá trị của biểu thức $P = i^{105} + i^{23} + i^{20} - i^{34}$, trước tiên chúng ta cần nhớ rằng số ảo $i$ có tính chất đặc biệt:\n\n\\[\ni^1 = i, \\quad i^2 = -1, \\quad i^3 = -i, \\quad i^4 = 1\n\\]\n\nSau đó, các lũy thừa của $i$ sẽ lặp lại theo chu kỳ 4. Do đó, để tính $i^n$, chúng ta chỉ cần tính $n \\mod 4$.\n\n1. **Tính $i^{105}$**:\n   \\[\n   105 \\mod 4 = 1 \\quad \\Rightarrow \\quad i^{105} = i^1 = i\n   \\]\n\n2. **Tính $i^{23}$**:\n   \\[\n   23 \\mod 4 = 3 \\quad \\Rightarrow \\quad i^{23} = i^3 = -i\n   \\]\n\n3. **Tính $i^{20}$**:\n   \\[\n   20 \\mod 4 = 0 \\quad \\Rightarrow \\quad i^{20} = i^0 = 1\n   \\]\n\n4. **Tính $i^{34}$**:\n   \\[\n   34 \\mod 4 = 2 \\quad \\Rightarrow \\quad i^{34} = i^2 = -1\n   \\]\n\nBây giờ, chúng ta thay các giá trị đã tính vào biểu thức $P$:\n\n\\[\nP = i + (-i) + 1 - (-1)\n\\]\n\nTiến hành tính toán:\n\n\\[\nP = i - i + 1 + 1 = 0 + 2 = 2\n\\]\n\nVậy giá trị của $P$ là:\n\n\\[\nP = 2\n\\]\n",
         "\nP = 2\n"
        ],
        [
         "5",
         "Giá trị của biểu thức $A = \\left( \\frac{1+i}{1-i} \\right)^{2016} + \\left( \\frac{1-i}{1+i} \\right)^{2018}$ bằng ?",
         "Ta có: $\\frac{1+i}{1-i} = \\frac{(1+i)^2}{(1-i).(1+i)} = \\frac{1+2i+i^2}{1-i^2} = \\frac{2i}{2} = i$; $\\frac{1-i}{1+i} = \\frac{(1-i)^2}{(1+i).(1-i)} = \\frac{1-2i+i^2}{1-i^2} = \\frac{-2i}{2} = -i$; Suy ra: $A = \\left( \\frac{1+i}{1-i} \\right)^{2016} + \\left( \\frac{1-i}{1+i} \\right)^{2018} = i^{2016} + (-i)^{2018} = (i^2)^{1008} + (i^2)^{1009} = (-1)^{1008} + (-1)^{1009} = 1 - 1 = 0$",
         "0",
         "\nĐể giải bài toán, ta sẽ tính giá trị của biểu thức $A = \\left( \\frac{1+i}{1-i} \\right)^{2016} + \\left( \\frac{1-i}{1+i} \\right)^{2018}$.\n\nBước 1: Tính giá trị của $\\frac{1+i}{1-i}$.\n\nTa có:\n\\[\n\\frac{1+i}{1-i} = \\frac{(1+i)(1+i)}{(1-i)(1+i)} = \\frac{1 + 2i - 1}{1 + 1} = \\frac{2i}{2} = i\n\\]\n\nBước 2: Tính giá trị của $\\frac{1-i}{1+i}$.\n\nTương tự, ta có:\n\\[\n\\frac{1-i}{1+i} = \\frac{(1-i)(1-i)}{(1+i)(1-i)} = \\frac{1 - 2i - 1}{1 + 1} = \\frac{-2i}{2} = -i\n\\]\n\nBước 3: Thay vào biểu thức $A$.\n\nTa có:\n\\[\nA = \\left( i \\right)^{2016} + \\left( -i \\right)^{2018}\n\\]\n\nBước 4: Tính từng phần.\n\n- Tính $i^{2016}$:\n  - Nhận thấy rằng $i^4 = 1$, do đó $i^{2016} = (i^4)^{504} = 1^{504} = 1$.\n\n- Tính $(-i)^{2018}$:\n  - Ta có $(-i)^{2018} = (-1)^{2018} \\cdot i^{2018} = 1 \\cdot (i^4)^{504} \\cdot i^2 = 1 \\cdot 1 \\cdot (-1) = -1$.\n\nBước 5: Kết hợp các kết quả lại.\n\nVậy:\n\\[\nA = 1 + (-1) = 0\n\\]\n\nCuối cùng, giá trị của biểu thức $A$ là $0$.\n",
         "\n$0$\n"
        ],
        [
         "6",
         "Cho $P = 1 + i + i^2 + i^3 + ... + i^{2017}$. Tính P?",
         "Ta có: $P = 1 + i + i^2 + i^3 + ... + i^{2017}$ $iP = i + i^2 + i^3 + ... + i^{2018}$ $\\Rightarrow P - iP = 1 - i^{2018}$ $\\Rightarrow P = \\frac{1 - i^{2018}}{1 - i} = \\frac{1 - (i^2)^{1009}}{1-i} = \\frac{2}{1-i} = \\frac{2(1+i)}{(1-i).(1+i)} = \\frac{2(1+i)}{2} = 1 + i$",
         "1 + i",
         "\nĐể tính giá trị của $P = 1 + i + i^2 + i^3 + ... + i^{2017}$, ta nhận thấy rằng dãy số này là một chuỗi số phức với cơ số là $i$. \n\nTrước tiên, ta cần biết rằng $i$ là đơn vị ảo, với tính chất:\n\\[\ni^1 = i, \\quad i^2 = -1, \\quad i^3 = -i, \\quad i^4 = 1\n\\]\nSau đó, chu kỳ của $i$ là 4, tức là:\n\\[\ni^n = \n\\begin{cases} \n1 & \\text{nếu } n \\equiv 0 \\mod 4 \\\\ \ni & \\text{nếu } n \\equiv 1 \\mod 4 \\\\ \n-1 & \\text{nếu } n \\equiv 2 \\mod 4 \\\\ \n-i & \\text{nếu } n \\equiv 3 \\mod 4 \n\\end{cases}\n\\]\n\nBây giờ, ta sẽ tính tổng $P$ bằng cách sử dụng công thức tổng của một cấp số cộng. \n\nSố hạng đầu tiên là $1$ và số hạng cuối cùng là $i^{2017}$. Để tìm $i^{2017}$, ta tính $2017 \\mod 4$:\n\\[\n2017 \\div 4 = 504 \\quad \\text{và dư } 1 \\quad \\Rightarrow \\quad 2017 \\equiv 1 \\mod 4 \\quad \\Rightarrow \\quad i^{2017} = i\n\\]\n\nVậy ta có:\n\\[\nP = 1 + i + i^2 + i^3 + ... + i^{2017} = 1 + i + (-1) + (-i) + \\text{(các nhóm 4 số hạng tiếp theo)}\n\\]\n\nMỗi nhóm 4 số hạng $1 + i - 1 - i = 0$. \n\nSố lượng các số hạng từ $i^0$ đến $i^{2017}$ là $2018$ (từ $0$ đến $2017$). \n\nChia $2018$ cho $4$:\n\\[\n2018 \\div 4 = 504 \\quad \\text{và dư } 2\n\\]\nĐiều này có nghĩa là có $504$ nhóm $4$ số hạng, mỗi nhóm cho tổng là $0$, và còn lại $2$ số hạng cuối cùng là $1 + i$.\n\nDo đó, tổng $P$ sẽ là:\n\\[\nP = 504 \\cdot 0 + (1 + i) = 1 + i\n\\]\n",
         "\n$P = 1 + i$\n"
        ],
        [
         "7",
         "Cho $A = 1 + i^2 + i^4 + .. + i^{4k-2} + i^{4k}$ với k là số nguyên dương. Tính A?",
         "Do A là tổng của một cấp số nhân (gồm 2k + 1 số hạng) với số hạng đầu $u_1 = 1$, công bội q = $i^2$. Suy ra $A = 1 + i^2 + i^4 + .. + i^{4k-2} + i^{4k} = \\frac{1 - (i^2)^{2k+1}}{1 - i^2} = \\frac{1 - (-1)^{2k+1}}{1 - (-1)} = \\frac{1 - (-1)^{2k} \\cdot (-1)^1}{2} = 1$",
         "1",
         "\nĐể tính giá trị của $A = 1 + i^2 + i^4 + \\ldots + i^{4k-2} + i^{4k}$, trước tiên ta cần biết các giá trị của số ảo $i$.\n\nSố ảo $i$ được định nghĩa là $i = \\sqrt{-1}$. Các lũy thừa của $i$ có chu kỳ 4 như sau:\n\\[\n\\begin{align*}\ni^0 & = 1, \\\\\ni^1 & = i, \\\\\ni^2 & = -1, \\\\\ni^3 & = -i, \\\\\ni^4 & = 1, \\\\\ni^5 & = i, \\\\\n& \\vdots\n\\end{align*}\n\\]\n\nTừ đó, ta có thể thấy rằng:\n- $i^{4k} = 1$,\n- $i^{4k-2} = -1$,\n- $i^{4k-4} = 1$,\n- $i^{4k-6} = -1$, và cứ tiếp tục như vậy.\n\nBây giờ, ta sẽ nhóm các hạng tử trong $A$:\n\\[\nA = (1 + i^2) + (i^4 + i^6) + \\ldots + (i^{4k-2} + i^{4k}).\n\\]\n\nTa có thể viết lại $A$ như sau:\n\\[\nA = 1 + (-1) + 1 + (-1) + \\ldots + 1 + (-1).\n\\]\n\nSố lượng các hạng tử trong $A$ là $k + 1$ hạng tử (từ $i^0$ đến $i^{4k}$). Trong đó, có $k$ hạng tử là $1$ và $k$ hạng tử là $-1$.\n\nNếu $k$ là số nguyên dương, thì số hạng $1$ và $-1$ sẽ có số lượng bằng nhau, do đó:\n- Nếu $k$ là chẵn, số hạng $1$ và $-1$ sẽ triệt tiêu nhau, và $A = 1$.\n- Nếu $k$ là lẻ, số hạng $1$ sẽ nhiều hơn một hạng tử $-1$, do đó $A = 1$.\n\nVì vậy, trong cả hai trường hợp, ta có:\n\\[\nA = 1.\n\\]\n",
         "\n$A = 1$\n"
        ],
        [
         "8",
         "Tìm số phức liên hợp của số phức $z = (3 - 2i).(2 + 3i)$",
         "Ta có: $z = (3 - 2i).(2 + 3i) = 6 + 9i - 4i + 6 = 12 + 5i$ \\Rightarrow Số phức liên hợp với số phức z là $\\overline{z} = 12 - 5i$",
         "$12 - 5i$",
         "\nĐể tìm số phức liên hợp của số phức $z = (3 - 2i)(2 + 3i)$, ta thực hiện các bước sau:\n\n1. **Tính tích của hai số phức**:\n   Sử dụng quy tắc phân phối để tính tích:\n   \\[\n   z = (3 - 2i)(2 + 3i) = 3 \\cdot 2 + 3 \\cdot 3i - 2i \\cdot 2 - 2i \\cdot 3i\n   \\]\n   Tính từng phần:\n   - $3 \\cdot 2 = 6$\n   - $3 \\cdot 3i = 9i$\n   - $-2i \\cdot 2 = -4i$\n   - $-2i \\cdot 3i = 6$ (vì $i^2 = -1$)\n\n   Kết hợp lại:\n   \\[\n   z = 6 + 9i - 4i + 6 = 12 + 5i\n   \\]\n\n2. **Tìm số phức liên hợp**:\n   Số phức liên hợp của một số phức $a + bi$ là $a - bi$. \n   Ở đây, với $z = 12 + 5i$, số phức liên hợp sẽ là:\n   \\[\n   \\overline{z} = 12 - 5i\n   \\]\n\n3. **Kết luận**:\n   Số phức liên hợp của $z$ là $12 - 5i$.\n",
         "\n$\\overline{z} = 12 - 5i$\n"
        ],
        [
         "9",
         "Cho số phức $z = 5 - 3i$. Tính $1 + \\overline{z} + (\\overline{z})^2$ ta được kết quả:",
         "Ta có $z = 5 - 3i \\Rightarrow \\overline{z} = 5 + 3i$ Suy ra : $1 + \\overline{z} + (\\overline{z})^2 = 1 + (5 + 3i) + (5 + 3i)^2 = (6 + 3i) + (25 + 30i - 9) = 22 + 33i$",
         "22 + 33i",
         "\nĐể giải bài toán, ta thực hiện các bước sau:\n\n1. **Tính giá trị của $\\overline{z}$**:\n   Số phức $z = 5 - 3i$ có phần thực là $5$ và phần ảo là $-3$. Do đó, số phức liên hợp của $z$ được tính như sau:\n   \\[\n   \\overline{z} = 5 + 3i\n   \\]\n\n2. **Tính giá trị của $(\\overline{z})^2$**:\n   Ta sẽ tính bình phương của số phức liên hợp:\n   \\[\n   (\\overline{z})^2 = (5 + 3i)^2\n   \\]\n   Sử dụng công thức bình phương của một tổng:\n   \\[\n   (a + b)^2 = a^2 + 2ab + b^2\n   \\]\n   với $a = 5$ và $b = 3i$, ta có:\n   \\[\n   (5 + 3i)^2 = 5^2 + 2 \\cdot 5 \\cdot 3i + (3i)^2 = 25 + 30i + 9i^2\n   \\]\n   Biết rằng $i^2 = -1$, ta thay vào:\n   \\[\n   9i^2 = 9(-1) = -9\n   \\]\n   Vậy:\n   \\[\n   (5 + 3i)^2 = 25 + 30i - 9 = 16 + 30i\n   \\]\n\n3. **Tính giá trị của $1 + \\overline{z} + (\\overline{z})^2$**:\n   Bây giờ ta thay các giá trị đã tính vào biểu thức:\n   \\[\n   1 + \\overline{z} + (\\overline{z})^2 = 1 + (5 + 3i) + (16 + 30i)\n   \\]\n   Tính từng phần:\n   \\[\n   = 1 + 5 + 16 + (3i + 30i) = 22 + 33i\n   \\]\n\nKết quả cuối cùng là:\n\\[\n1 + \\overline{z} + (\\overline{z})^2 = 22 + 33i\n\\]\n",
         "\n$22 + 33i$\n"
        ],
        [
         "10",
         "Cho số phức z thỏa $(1 + 3i)z - (2 + 5i) = (2 + i)z$. Tìm số phức liên hợp của số phức z.",
         "Theo giả thiết ta có: $(1 + 3i)z - (2 + 5i) = (2 + i)z \\Rightarrow (1 + 3i - 2 - i)z = 2 + 5i \\Leftrightarrow (-1 + 2i)z = 2 + 5i \\Rightarrow z = \\frac{2 + 5i}{-1 + 2i} = \\frac{8}{5} + \\frac{9}{5}i$",
         "$\\frac{8}{5} + \\frac{9}{5}i$",
         "\nBắt đầu từ phương trình đã cho:\n\n$$(1 + 3i)z - (2 + 5i) = (2 + i)z.$$\n\nChúng ta sẽ đưa tất cả các hạng tử về một phía:\n\n$$(1 + 3i)z - (2 + i)z = 2 + 5i.$$\n\nGom nhóm các hạng tử có chứa $z$:\n\n$$(1 + 3i - 2 - i)z = 2 + 5i.$$\n\nTính toán các hệ số:\n\n$$(-1 + 2i)z = 2 + 5i.$$\n\nBây giờ, để tìm $z$, ta chia cả hai vế cho $(-1 + 2i)$:\n\n$$z = \\frac{2 + 5i}{-1 + 2i}.$$\n\nĐể thực hiện phép chia số phức, ta nhân cả tử và mẫu với liên hợp của mẫu:\n\n$$z = \\frac{(2 + 5i)(-1 - 2i)}{(-1 + 2i)(-1 - 2i)}.$$\n\nTính mẫu:\n\n$$(-1 + 2i)(-1 - 2i) = 1 + 4 = 5.$$\n\nTính tử:\n\n\\[\n(2 + 5i)(-1 - 2i) = 2(-1) + 2(-2i) + 5i(-1) + 5i(-2i) = -2 - 4i - 5i + 10 = 8 - 9i.\n\\]\n\nVậy ta có:\n\n$$z = \\frac{8 - 9i}{5} = \\frac{8}{5} - \\frac{9}{5}i.$$\n\nCuối cùng, để tìm số phức liên hợp của $z$, ta chỉ cần đổi dấu phần ảo:\n\n$$\\overline{z} = \\frac{8}{5} + \\frac{9}{5}i.$$\n",
         "\n$$\\overline{z} = \\frac{8}{5} + \\frac{9}{5}i.$$\n"
        ],
        [
         "11",
         "Tìm số phức z, biết $z + 2i\\overline{z} + 4 = i$",
         "Gọi số phức z cần tìm là $z = a + bi$ ($a, b \\in R$). Số phức liên hợp với số phức z là: $\\overline{z} = a - bi$. Theo giả thiết: $z + 2i\\overline{z} + 4 = i \\Rightarrow a + bi + 2i(a - bi) + 4 = i \\Rightarrow a + bi + 2ai + 2b + 4 - i = 0 \\Rightarrow (a + 2b + 4) + (b + 2a - 1)i = 0 \\Rightarrow \\begin{cases} a + 2b = -4 \\\\ b + 2a = 1 \\end{cases} \\Rightarrow \\begin{cases} a = 2 \\\\ b = -3 \\end{cases}$ Suy ra $z = 2 - 3i$",
         "2 - 3i",
         "\nĐể giải bài toán, ta bắt đầu từ phương trình đã cho:\n\n\\[\nz + 2i\\overline{z} + 4 = i\n\\]\n\nGọi số phức \\( z \\) có dạng \\( z = x + yi \\), trong đó \\( x \\) và \\( y \\) là các số thực. Khi đó, phần liên hợp của \\( z \\) là \\( \\overline{z} = x - yi \\).\n\nThay vào phương trình, ta có:\n\n\\[\n(x + yi) + 2i(x - yi) + 4 = i\n\\]\n\nTiến hành tính toán:\n\n\\[\nx + yi + 2i(x - yi) + 4 = i\n\\]\n\n\\[\nx + yi + 2ix - 2y + 4 = i\n\\]\n\nNhóm các phần thực và phần ảo lại với nhau:\n\n\\[\n(x + 4 - 2y) + (y + 2x)i = i\n\\]\n\nSo sánh phần thực và phần ảo của hai vế, ta có hệ phương trình:\n\n1. \\( x + 4 - 2y = 0 \\)\n2. \\( y + 2x = 1 \\)\n\nGiải hệ phương trình này:\n\nTừ phương trình (1), ta có:\n\n\\[\nx - 2y = -4 \\quad (1)\n\\]\n\nTừ phương trình (2):\n\n\\[\ny + 2x = 1 \\quad (2)\n\\]\n\nTừ (1), ta có \\( x = 2y - 4 \\). Thay vào (2):\n\n\\[\ny + 2(2y - 4) = 1\n\\]\n\n\\[\ny + 4y - 8 = 1\n\\]\n\n\\[\n5y - 8 = 1\n\\]\n\n\\[\n5y = 9 \\implies y = \\frac{9}{5}\n\\]\n\nThay giá trị của \\( y \\) vào (1):\n\n\\[\nx + 4 - 2\\left(\\frac{9}{5}\\right) = 0\n\\]\n\n\\[\nx + 4 - \\frac{18}{5} = 0\n\\]\n\n\\[\nx = \\frac{18}{5} - 4 = \\frac{18}{5} - \\frac{20}{5} = -\\frac{2}{5}\n\\]\n\nVậy ta có:\n\n\\[\nx = -\\frac{2}{5}, \\quad y = \\frac{9}{5}\n\\]\n\nDo đó, số phức \\( z \\) là:\n\n\\[\nz = -\\frac{2}{5} + \\frac{9}{5}i\n\\]\n",
         "\n\\[\nz = -\\frac{2}{5} + \\frac{9}{5}i\n\\]\n"
        ],
        [
         "12",
         "Tìm số phức z, biết $|z| = \\sqrt{5}$, phần thực bằng 2 lần phần ảo và phần thực dương",
         "Cho số phức $z = a + bi$, ($a, b \\in R$) và $a > 0$. Do phần thực bằng 2 lần phần ảo nên: $a = 2b$ (1). mà $|z| = \\sqrt{5} \\Leftrightarrow \\sqrt{a^2 + b^2} = \\sqrt{5} \\Rightarrow a^2 + b^2 = 5$ (2). Từ (1) và (2) ta có hệ phương trình: $\\begin{cases} a = 2b \\\\ a^2 + b^2 = 5 \\end{cases} \\Leftrightarrow \\begin{cases} a = 2 \\\\ b = 1 \\end{cases}$ Vậy số phức cần tìm là $z = 2 + i$.",
         "2 + i",
         "\nĐể tìm số phức $z$, ta có thể biểu diễn nó dưới dạng $z = x + yi$, trong đó $x$ là phần thực và $y$ là phần ảo.\n\nTheo đề bài, ta có các điều kiện sau:\n\n1. $|z| = \\sqrt{5}$, tức là $|x + yi| = \\sqrt{x^2 + y^2} = \\sqrt{5}$.\n2. Phần thực bằng 2 lần phần ảo: $x = 2y$.\n3. Phần thực dương: $x > 0$.\n\nBước 1: Sử dụng điều kiện $|z| = \\sqrt{5}$.\n\nTa có:\n\\[\n\\sqrt{x^2 + y^2} = \\sqrt{5} \\implies x^2 + y^2 = 5.\n\\]\n\nBước 2: Thay thế $x$ bằng $2y$ trong phương trình trên.\n\nThay $x = 2y$ vào phương trình $x^2 + y^2 = 5$:\n\\[\n(2y)^2 + y^2 = 5 \\implies 4y^2 + y^2 = 5 \\implies 5y^2 = 5 \\implies y^2 = 1.\n\\]\n\nBước 3: Giải phương trình $y^2 = 1$.\n\nTa có:\n\\[\ny = 1 \\quad \\text{hoặc} \\quad y = -1.\n\\]\n\nBước 4: Tìm giá trị của $x$.\n\n- Nếu $y = 1$, thì $x = 2y = 2 \\cdot 1 = 2$.\n- Nếu $y = -1$, thì $x = 2y = 2 \\cdot (-1) = -2$ (không thỏa mãn điều kiện $x > 0$).\n\nVậy chỉ có nghiệm duy nhất là $y = 1$ và $x = 2$.\n\nBước 5: Kết luận.\n\nSố phức $z$ là:\n\\[\nz = x + yi = 2 + 1i = 2 + i.\n\\]\n",
         "\n$z = 2 + i$\n"
        ],
        [
         "13",
         "Cho số phức z có phần thực là số nguyên và z thỏa mãn: $|z| - 2\\overline{z} = -7 + 3i + z$. Tính môđun của số phức: $\\omega = 1 - z + z^2$",
         "Gọi số phức cần tìm là $z = a + bi$, ($a, b \\in R$). Số phức liên hợp của số phức z là: $\\overline{z} = a - bi$ và $|z| = \\sqrt{a^2 + b^2}$. Theo giả thiết ta có: $|z| - 2\\overline{z} = -7 + 3i + z \\Leftrightarrow \\sqrt{a^2 + b^2} - 2(a - bi) = -7 + 3i + a + bi \\Leftrightarrow \\begin{cases} \\sqrt{a^2 + b^2} - 2a = -7 + a \\\\ 2b = 3 + b \\end{cases} \\Leftrightarrow \\begin{cases} 8a^2 - 42a + 40 = 0 \\\\ b = 3 \\end{cases} \\Leftrightarrow \\begin{cases} a \\geq \\frac{7}{3} \\\\ b = 3 \\end{cases} \\Leftrightarrow \\begin{cases} a = 4 \\\\ b = 3 \\end{cases}$. vậy $z = 4 + 3i \\Rightarrow \\omega = 1 - (4 + 3i) + (4 + 3i)^2 = 4 + 21i \\Rightarrow |\\omega| = \\sqrt{4^2 + 21^2} = \\sqrt{457}$",
         "$\\sqrt{457}$",
         "\nĐể giải bài toán, ta bắt đầu từ phương trình đã cho:\n\n$$|z| - 2\\overline{z} = -7 + 3i + z.$$\n\nGọi số phức $z$ có phần thực là $x$ (số nguyên) và phần ảo là $y$, tức là $z = x + yi$. Khi đó, ta có:\n\n$$\\overline{z} = x - yi,$$\n$$|z| = \\sqrt{x^2 + y^2}.$$\n\nThay vào phương trình, ta có:\n\n$$\\sqrt{x^2 + y^2} - 2(x - yi) = -7 + 3i + (x + yi).$$\n\nRút gọn phương trình:\n\n$$\\sqrt{x^2 + y^2} - 2x + 2yi = -7 + 3i + x + yi.$$\n\nTách phần thực và phần ảo:\n\n1. Phần thực: \n$$\\sqrt{x^2 + y^2} - 2x = -7 + x,$$\n$$\\sqrt{x^2 + y^2} = -7 + 3x.$$\n\n2. Phần ảo:\n$$2y = 3 + y,$$\n$$y = 3.$$\n\nThay $y = 3$ vào phương trình phần thực:\n\n$$\\sqrt{x^2 + 3^2} = -7 + 3x,$$\n$$\\sqrt{x^2 + 9} = -7 + 3x.$$\n\nBình phương hai vế:\n\n$$x^2 + 9 = (-7 + 3x)^2,$$\n$$x^2 + 9 = 49 - 42x + 9x^2.$$\n\nRút gọn:\n\n$$0 = 8x^2 - 42x + 40,$$\n$$0 = 4x^2 - 21x + 20.$$\n\nGiải phương trình bậc hai bằng công thức:\n\n$$x = \\frac{-b \\pm \\sqrt{b^2 - 4ac}}{2a} = \\frac{21 \\pm \\sqrt{(-21)^2 - 4 \\cdot 4 \\cdot 20}}{2 \\cdot 4} = \\frac{21 \\pm \\sqrt{441 - 320}}{8} = \\frac{21 \\pm \\sqrt{121}}{8} = \\frac{21 \\pm 11}{8}.$$\n\nTính các nghiệm:\n\n1. $x_1 = \\frac{32}{8} = 4$.\n2. $x_2 = \\frac{10}{8} = \\frac{5}{4}$ (không phải số nguyên).\n\nVậy $x = 4$ và $y = 3$, suy ra:\n\n$$z = 4 + 3i.$$\n\nTiếp theo, ta tính môđun của số phức $\\omega = 1 - z + z^2$:\n\n$$z^2 = (4 + 3i)^2 = 16 + 24i - 9 = 7 + 24i.$$\n\nVậy:\n\n$$\\omega = 1 - (4 + 3i) + (7 + 24i) = 1 - 4 + 7 + (24 - 3)i = 4 + 21i.$$\n\nCuối cùng, tính môđun của $\\omega$:\n\n$$|\\omega| = |4 + 21i| = \\sqrt{4^2 + 21^2} = \\sqrt{16 + 441} = \\sqrt{457}.$$\n\n",
         "\n$|\\omega| = \\sqrt{457}$\n"
        ],
        [
         "14",
         "Cho hai số phức $z_1$ và $z_2$ thỏa mãn $|z_1| = |z_2| = 1$; $|z_1 + z_2| = \\sqrt{3}$. Tính $|z_1 - z_2|$",
         "Ta có: $3 = |z_1 + z_2|^2 = (z_1 + z_2)(\\overline{z_1} + \\overline{z_2}) \\Rightarrow z_1 \\overline{z_2} + z_2 \\overline{z_1} + z_1 \\overline{z_1} + z_2 \\overline{z_2} = 3 \\Rightarrow z_1 \\overline{z_2} + z_2 \\overline{z_1} = 1$ Vì $|z_1| = |z_2| = 1$ nên $z_1 \\cdot \\overline{z_1} = 1$; $z_2 \\cdot \\overline{z_2} = 1$. Khi đó: $|z_1 - z_2|^2 = (z_1 - z_2)(\\overline{z_1} - \\overline{z_2}) = |z_1|^2 + |z_2|^2 - (z_1 \\overline{z_2} + z_2 \\overline{z_1}) = 1$",
         "1",
         "\nĐể giải bài toán, ta sẽ sử dụng các tính chất của số phức và định lý về độ dài của vector.\n\n1. **Giả sử**: \n   Gọi $z_1 = e^{i\\theta_1}$ và $z_2 = e^{i\\theta_2}$, với $\\theta_1, \\theta_2 \\in \\mathbb{R}$, vì $|z_1| = |z_2| = 1$.\n\n2. **Tính độ dài của tổng**:\n   Ta có:\n   \\[\n   |z_1 + z_2| = |e^{i\\theta_1} + e^{i\\theta_2}| = |e^{i\\theta_1}(1 + e^{i(\\theta_2 - \\theta_1)})| = |1 + e^{i(\\theta_2 - \\theta_1)}|\n   \\]\n   Do đó, ta có:\n   \\[\n   |1 + e^{i(\\theta_2 - \\theta_1)}| = \\sqrt{3}\n   \\]\n\n3. **Sử dụng công thức độ dài**:\n   Gọi $\\phi = \\theta_2 - \\theta_1$. Ta có:\n   \\[\n   |1 + e^{i\\phi}| = \\sqrt{3}\n   \\]\n   Sử dụng công thức độ dài:\n   \\[\n   |1 + e^{i\\phi}|^2 = (1 + \\cos \\phi)^2 + \\sin^2 \\phi = 1 + 2\\cos \\phi + \\cos^2 \\phi + \\sin^2 \\phi = 2 + 2\\cos \\phi\n   \\]\n   Do đó:\n   \\[\n   2 + 2\\cos \\phi = 3 \\implies 2\\cos \\phi = 1 \\implies \\cos \\phi = \\frac{1}{2}\n   \\]\n   Điều này dẫn đến:\n   \\[\n   \\phi = \\frac{\\pi}{3} \\text{ hoặc } \\phi = -\\frac{\\pi}{3}\n   \\]\n\n4. **Tính độ dài của hiệu**:\n   Ta cần tính $|z_1 - z_2|$:\n   \\[\n   |z_1 - z_2| = |e^{i\\theta_1} - e^{i\\theta_2}| = |e^{i\\theta_1}(1 - e^{i(\\theta_2 - \\theta_1)})| = |1 - e^{i\\phi}|\n   \\]\n   Tương tự như trên, ta có:\n   \\[\n   |1 - e^{i\\phi}|^2 = (1 - \\cos \\phi)^2 + \\sin^2 \\phi = 1 - 2\\cos \\phi + \\cos^2 \\phi + \\sin^2 \\phi = 2 - 2\\cos \\phi\n   \\]\n   Thay $\\cos \\phi = \\frac{1}{2}$ vào:\n   \\[\n   |1 - e^{i\\phi}|^2 = 2 - 2 \\cdot \\frac{1}{2} = 1 \\implies |1 - e^{i\\phi}| = 1\n   \\]\n\n5. **Kết luận**:\n   Vậy ta có:\n   \\[\n   |z_1 - z_2| = 1\n   \\]\n",
         "\n$|z_1 - z_2| = 1$\n"
        ],
        [
         "15",
         "Cho số phức z thỏa mãn $|z + 3| = 5$ và $|z - 2i| = |z - 2 - 2i|$. Tính $|z|$.",
         "Gọi số phức z cần tìm là $z = a + bi$ ($a, b \\in R$). Ta có: $|z + 3| = 5 \\Leftrightarrow |a + bi + 3| = 5 \\Leftrightarrow (a + 3)^2 + b^2 = 25$ (*). $|z - 2i| = |z - 2 - 2i| \\Leftrightarrow |a + bi - 2i| = |a + bi - 2 - 2i| \\Leftrightarrow a^2 + (b - 2)^2 = (a - 2)^2 + (b - 2)^2 \\Leftrightarrow a^2 = (a - 2)^2 \\Leftrightarrow \\begin{cases} a - 2 = a \\\\ a - 2 = -a \\end{cases}$. Thế a = 1 vào (*) ta được $16 + b^2 = 25 \\Rightarrow b^2 = 9$. Do đó, môđun của z là: $|z| = \\sqrt{1^2 + 9} = \\sqrt{10}$",
         "$\\sqrt{10}$",
         "\nĐể giải bài toán, ta sẽ phân tích từng điều kiện của số phức $z$.\n\n1. **Điều kiện đầu tiên**: $|z + 3| = 5$.\n\n   Điều này có nghĩa là số phức $z$ nằm trên một đường tròn có tâm tại $-3$ (trong mặt phẳng phức) và bán kính $5$. Ta có thể viết lại điều kiện này như sau:\n   \\[\n   |z + 3| = 5 \\implies z + 3 = 5e^{i\\theta} \\quad (\\theta \\in [0, 2\\pi])\n   \\]\n   Từ đó, ta có:\n   \\[\n   z = 5e^{i\\theta} - 3\n   \\]\n\n2. **Điều kiện thứ hai**: $|z - 2i| = |z - 2 - 2i|$.\n\n   Điều này có nghĩa là khoảng cách từ $z$ đến $2i$ bằng khoảng cách từ $z$ đến $2 + 2i$. Ta có thể hiểu điều này là $z$ nằm trên đường trung trực của đoạn thẳng nối hai điểm $2i$ và $2 + 2i$.\n\n   Tính tọa độ của hai điểm:\n   - Điểm $A(0, 2)$ (tương ứng với $2i$)\n   - Điểm $B(2, 2)$ (tương ứng với $2 + 2i$)\n\n   Đường trung trực của đoạn thẳng $AB$ là đường thẳng đi qua trung điểm $M(1, 2)$ và vuông góc với đoạn thẳng $AB$. Đoạn thẳng $AB$ nằm ngang, do đó đường trung trực sẽ là đường thẳng đứng tại $x = 1$.\n\n   Vậy điều kiện thứ hai có thể viết lại là:\n   \\[\n   \\text{Re}(z) = 1\n   \\]\n\n3. **Kết hợp hai điều kiện**:\n\n   Từ điều kiện đầu tiên, ta có:\n   \\[\n   z = 5e^{i\\theta} - 3\n   \\]\n   Từ điều kiện thứ hai, ta có:\n   \\[\n   \\text{Re}(z) = 1 \\implies \\text{Re}(5e^{i\\theta} - 3) = 1\n   \\]\n   Suy ra:\n   \\[\n   5\\cos(\\theta) - 3 = 1 \\implies 5\\cos(\\theta) = 4 \\implies \\cos(\\theta) = \\frac{4}{5}\n   \\]\n\n   Từ đó, ta có thể tính được $\\sin(\\theta)$ bằng định lý Pythagore:\n   \\[\n   \\sin^2(\\theta) + \\cos^2(\\theta) = 1 \\implies \\sin^2(\\theta) = 1 - \\left(\\frac{4}{5}\\right)^2 = 1 - \\frac{16}{25} = \\frac{9}{25} \\implies \\sin(\\theta) = \\pm \\frac{3}{5}\n   \\]\n\n4. **Tính $z$**:\n\n   Ta có hai trường hợp cho $z$:\n   - Trường hợp 1: $\\sin(\\theta) = \\frac{3}{5} \\implies z = 5\\left(\\frac{4}{5} + i\\frac{3}{5}\\right) - 3 = 4 + 3i - 3 = 1 + 3i$.\n   - Trường hợp 2: $\\sin(\\theta) = -\\frac{3}{5} \\implies z = 5\\left(\\frac{4}{5} - i\\frac{3}{5}\\right) - 3 = 4 - 3i - 3 = 1 - 3i$.\n\n5. **Tính $|z|$**:\n\n   Tính độ lớn của $z$ trong cả hai trường hợp:\n   - Trường hợp 1: \n   \\[\n   |z| = |1 + 3i| = \\sqrt{1^2 + 3^2} = \\sqrt{10}\n   \\]\n   - Trường hợp 2: \n   \\[\n   |z| = |1 - 3i| = \\sqrt{1^2 + (-3)^2} = \\sqrt{10}\n   \\]\n\nVậy kết quả cuối cùng là:\n\\[\n|z| = \\sqrt{10}\n\\]\n",
         "\n$|z| = \\sqrt{10}$\n"
        ],
        [
         "16",
         "Cho số phức $z = 2m + (m + 2)i, (m \\in R)$. Tìm z biết rằng $z^2$ là một số phức có phần thực bằng -5.",
         "Ta có: $z^2 = 4m^2 + 2m(m + 2)i + [(m + 2)i]^2 = 3m^2 + 2m(m + 2)i - 4m - 4$. Do $z^2$ là số phức có phần thực bằng -5 nên ta có: $3m^2 - 4m - 4 = -5 \\Leftrightarrow 3m^2 - 4m + 1 = 0 \\Leftrightarrow m = 1; m = \\frac{1}{3}$. Vậy có hai số phức thỏa mãn là $z_1 = 2 + 3i$ và $z_2 = \\frac{2}{3} + \\frac{7}{3}i$.",
         "$z = 2 + 3i, z = \\frac{2}{3} + \\frac{7}{3}i$",
         "\nĐể giải bài toán, ta bắt đầu với số phức $z = 2m + (m + 2)i$, với $m \\in \\mathbb{R}$. \n\nBước 1: Tính $z^2$.\n\\[\nz^2 = (2m + (m + 2)i)^2\n\\]\nÁp dụng công thức bình phương của một tổng:\n\\[\nz^2 = (2m)^2 + 2(2m)((m + 2)i) + ((m + 2)i)^2\n\\]\n\\[\n= 4m^2 + 4m(m + 2)i + (m + 2)^2 i^2\n\\]\nVì $i^2 = -1$, ta có:\n\\[\n= 4m^2 + 4m(m + 2)i - (m + 2)^2\n\\]\n\\[\n= (4m^2 - (m + 2)^2) + 4m(m + 2)i\n\\]\n\nBước 2: Tính phần thực của $z^2$.\n\\[\n\\text{Phần thực} = 4m^2 - (m + 2)^2\n\\]\nMở rộng $(m + 2)^2$:\n\\[\n= 4m^2 - (m^2 + 4m + 4) = 4m^2 - m^2 - 4m - 4 = 3m^2 - 4m - 4\n\\]\n\nBước 3: Đặt điều kiện cho phần thực.\nTheo đề bài, phần thực của $z^2$ bằng -5:\n\\[\n3m^2 - 4m - 4 = -5\n\\]\nGiải phương trình:\n\\[\n3m^2 - 4m - 4 + 5 = 0 \\implies 3m^2 - 4m + 1 = 0\n\\]\n\nBước 4: Tính nghiệm của phương trình bậc 2.\nÁp dụng công thức nghiệm:\n\\[\nm = \\frac{-b \\pm \\sqrt{b^2 - 4ac}}{2a} = \\frac{4 \\pm \\sqrt{(-4)^2 - 4 \\cdot 3 \\cdot 1}}{2 \\cdot 3}\n\\]\n\\[\n= \\frac{4 \\pm \\sqrt{16 - 12}}{6} = \\frac{4 \\pm \\sqrt{4}}{6} = \\frac{4 \\pm 2}{6}\n\\]\nTính các nghiệm:\n\\[\nm_1 = \\frac{6}{6} = 1, \\quad m_2 = \\frac{2}{6} = \\frac{1}{3}\n\\]\n\nBước 5: Tính giá trị của $z$.\nVới $m = 1$:\n\\[\nz_1 = 2(1) + (1 + 2)i = 2 + 3i\n\\]\nVới $m = \\frac{1}{3}$:\n\\[\nz_2 = 2\\left(\\frac{1}{3}\\right) + \\left(\\frac{1}{3} + 2\\right)i = \\frac{2}{3} + \\left(\\frac{1}{3} + \\frac{6}{3}\\right)i = \\frac{2}{3} + \\frac{7}{3}i\n\\]\n\nKết luận: Các giá trị của $z$ là:\n\\[\nz_1 = 2 + 3i \\quad \\text{và} \\quad z_2 = \\frac{2}{3} + \\frac{7}{3}i\n\\]\n",
         "\n$z_1 = 2 + 3i$ và $z_2 = \\frac{2}{3} + \\frac{7}{3}i$\n"
        ],
        [
         "17",
         "Cho số phức $z = m + (m-1)i$; ($m \\in R$) và số phức $z' = 2n + (2-3n)i$ ($n\\in R$). Tìm m và n biết rằng $z - z' = 1 + 7i$",
         "Ta có: $z - z' = [m + (m - 1).i] - [2n + (2 - 3n).i] = (m - 2n) + (m + 3n - 3). i$. Theo giả thiết $z - z' = 1 + 7i$ nên ta có: $(m - 2n) + (m + 3n - 3).i = 1 + 7i$. Từ đó ta có hệ phương trình sau: $\\begin{cases} m - 2n = 1 \\\\ m + 3n - 3 = 7 \\end{cases} \\Leftrightarrow \\begin{cases} m - 2n = 1 \\\\ m + 3n = 10 \\end{cases} \\Leftrightarrow \\begin{cases} m = \\frac{23}{5} \\\\ n = \\frac{9}{5} \\end{cases}$",
         "$m = \\frac{23}{5}; n = \\frac{9}{5}$",
         "\nBắt đầu từ phương trình đã cho:\n\n$$ z - z' = 1 + 7i $$\n\nThay thế $z$ và $z'$ vào phương trình:\n\n$$ (m + (m-1)i) - (2n + (2-3n)i) = 1 + 7i $$\n\nTiến hành tính toán:\n\n$$ m - 2n + ((m-1) - (2-3n))i = 1 + 7i $$\n\nTách phần thực và phần ảo:\n\n1. Phần thực: \n   $$ m - 2n = 1 \\quad (1) $$\n\n2. Phần ảo: \n   $$ (m - 1) - (2 - 3n) = 7 $$\n   $$ m - 1 - 2 + 3n = 7 $$\n   $$ m + 3n - 3 = 7 $$\n   $$ m + 3n = 10 \\quad (2) $$\n\nBây giờ, chúng ta có hệ phương trình:\n\n$$\n\\begin{cases}\nm - 2n = 1 \\quad (1) \\\\\nm + 3n = 10 \\quad (2)\n\\end{cases}\n$$\n\nGiải hệ phương trình này. Từ phương trình (1), ta có:\n\n$$ m = 2n + 1 $$\n\nThay vào phương trình (2):\n\n$$ (2n + 1) + 3n = 10 $$\n$$ 5n + 1 = 10 $$\n$$ 5n = 9 $$\n$$ n = \\frac{9}{5} $$\n\nThay giá trị của $n$ vào phương trình (1) để tìm $m$:\n\n$$ m - 2\\left(\\frac{9}{5}\\right) = 1 $$\n$$ m - \\frac{18}{5} = 1 $$\n$$ m = 1 + \\frac{18}{5} $$\n$$ m = \\frac{5}{5} + \\frac{18}{5} = \\frac{23}{5} $$\n\nVậy ta có:\n\n$$ m = \\frac{23}{5}, \\quad n = \\frac{9}{5} $$\n",
         "\n$m = \\frac{23}{5}, \\quad n = \\frac{9}{5}$\n"
        ],
        [
         "18",
         "Tìm số phức $z = x + yi, (x, y \\in R)$ thỏa mãn $z + 3x = 2\\overline{z} - 3i$. Tìm $|z|$",
         "Vì $z + 3x = 2\\overline{z} - 3i \\Leftrightarrow x + yi + 3x = 2(x - yi) - 3i \\Leftrightarrow 4x + yi = 2x - (2y + 3)i \\Leftrightarrow \\begin{cases} 4x = 2x \\\\ y = -2y - 3 \\end{cases} \\Leftrightarrow \\begin{cases} x = 0 \\\\ y = -1 \\end{cases}$. Do đó, số phức thỏa mãn đầu $z = -i$ và $|z| = 1$",
         "1",
         "\nĐể giải bài toán, ta bắt đầu từ phương trình đã cho:\n\n\\[\nz + 3x = 2\\overline{z} - 3i\n\\]\n\nTrong đó, $z = x + yi$ và $\\overline{z} = x - yi$. Thay thế vào phương trình:\n\n\\[\n(x + yi) + 3x = 2(x - yi) - 3i\n\\]\n\nRút gọn phương trình:\n\n\\[\nx + yi + 3x = 2x - 2yi - 3i\n\\]\n\n\\[\n4x + yi = 2x - 2yi - 3i\n\\]\n\nBây giờ, ta tách phần thực và phần ảo:\n\nPhần thực:\n\n\\[\n4x = 2x \\implies 2x = 0 \\implies x = 0\n\\]\n\nPhần ảo:\n\n\\[\ny = -2y - 3 \\implies 3y = -3 \\implies y = -1\n\\]\n\nVậy ta có:\n\n\\[\nx = 0, \\quad y = -1\n\\]\n\nDo đó, số phức $z$ là:\n\n\\[\nz = 0 - i = -i\n\\]\n\nTiếp theo, ta cần tính độ lớn của số phức $z$:\n\n\\[\n|z| = \\sqrt{x^2 + y^2} = \\sqrt{0^2 + (-1)^2} = \\sqrt{1} = 1\n\\]\n\nVậy kết quả cuối cùng là:\n\n\\[\n|z| = 1\n\\]\n",
         "\n1\n"
        ],
        [
         "19",
         "Có bao nhiêu số phức z có phần ảo gấp ba lần phần thực, đồng thời $|z| = \\sqrt{10}(z + \\overline{z})$",
         "Gọi số phức cần tìm là $z = a + bi$, ($a, b \\in R$). Do số phức z có phần ảo gấp ba lần phần thực nên b = 3a. $\\Rightarrow$ Số phức cần tìm có dạng: $z = a + 3ai$. Số phức liên hợp của số phức z là: $\\overline{z} = a - 3ai$. Theo giả thiết ta có: $|z| = \\sqrt{10}(z + \\overline{z}) \\Leftrightarrow \\sqrt{a^2 + 9a^2} = \\sqrt{10}(a + 3ai + a - 3ai) \\Leftrightarrow \\sqrt{10a^2} = \\sqrt{20}a \\Leftrightarrow 10a^2 = 20a \\Leftrightarrow \\begin{cases} a = 0 \\\\ a = 2 \\end{cases}$. Với a = 0 thì z = 0. Với a = 2 thì z = 2 + 6i. Vậy có hai số phức thỏa mãn là z = 0 hoặc z = 2 + 6i.",
         "2",
         "\nĐể giải bài toán, ta bắt đầu với việc biểu diễn số phức $z$ dưới dạng:\n\n$$ z = x + yi $$\n\nTrong đó $x$ là phần thực và $y$ là phần ảo của số phức $z$. Theo đề bài, phần ảo gấp ba lần phần thực, tức là:\n\n$$ y = 3x $$\n\nTiếp theo, ta thay $y$ vào biểu thức của $z$:\n\n$$ z = x + 3xi = x(1 + 3i) $$\n\nBây giờ, ta cần xem xét điều kiện thứ hai: \n\n$$ |z| = \\sqrt{10}(z + \\overline{z}) $$\n\nTính $|z|$:\n\n$$ |z| = |x(1 + 3i)| = |x| \\cdot |1 + 3i| $$\n\nTính $|1 + 3i|$:\n\n$$ |1 + 3i| = \\sqrt{1^2 + 3^2} = \\sqrt{10} $$\n\nVậy:\n\n$$ |z| = |x| \\cdot \\sqrt{10} $$\n\nTiếp theo, tính $z + \\overline{z}$:\n\n$$ \\overline{z} = x - 3xi = x(1 - 3i) $$\n\nDo đó:\n\n$$ z + \\overline{z} = x(1 + 3i) + x(1 - 3i) = x(2) = 2x $$\n\nThay vào điều kiện thứ hai:\n\n$$ |z| = \\sqrt{10}(z + \\overline{z}) $$\n\nTa có:\n\n$$ |x| \\cdot \\sqrt{10} = \\sqrt{10} \\cdot 2x $$\n\nChia cả hai vế cho $\\sqrt{10}$ (với điều kiện $x \\neq 0$):\n\n$$ |x| = 2x $$\n\nXét hai trường hợp:\n\n1. **Trường hợp 1**: $x \\geq 0$:\n\n   $$ x = 2x \\implies x = 0 $$\n\n2. **Trường hợp 2**: $x < 0$:\n\n   $$ -x = 2x \\implies 3x = 0 \\implies x = 0 $$\n\nTừ cả hai trường hợp, ta thấy $x = 0$. Khi $x = 0$, ta có:\n\n$$ y = 3x = 0 $$\n\nVậy số phức $z$ duy nhất thỏa mãn điều kiện là:\n\n$$ z = 0 + 0i = 0 $$\n\nDo đó, có **1 số phức** thỏa mãn điều kiện đề bài.\n\n",
         "1"
        ],
        [
         "20",
         "Trong mặt phẳng Oxy cho điểm A là điểm biểu diễn của số phức $z = 1 + 2i$, B là điểm thuộc đường thẳng y=2 sao cho tam giác OAB cân tại O. Tìm số z biểu diễn B.",
         "Ta có, điểm A biểu diễn số phức $z = 1 + 2i$ nên tọa độ A(1 ; 2). Do điểm B nằm trên đường thẳng y=2 nên tọa độ B(x ; 2) ; (x $\\neq$ 1 ). Để tam giác OAB cân tại O khi và chỉ khi OA = OB. $\\Leftrightarrow \\sqrt{1^2 + 2^2} = \\sqrt{x^2 + 2^2} \\Leftrightarrow x^2 + 4 = 5 \\Leftrightarrow \\begin{cases} x = 1 (l) \\\\ x = -1 \\end{cases}$. Suy ra, tọa độ B (-1 ; 2). Do đó,số phức biểu diễn B là $z = -1 + 2i$.",
         "-1 + 2i",
         "\nĐể giải bài toán, ta cần tìm tọa độ điểm B sao cho tam giác OAB cân tại O. \n\n1. **Xác định tọa độ điểm A**:\n   - Điểm A tương ứng với số phức $z = 1 + 2i$, do đó tọa độ của A là $A(1, 2)$.\n\n2. **Xác định đường thẳng y = 2**:\n   - Đường thẳng này là một đường ngang, tức là tất cả các điểm trên đường thẳng này có tọa độ dạng $B(x, 2)$ với $x$ là số thực.\n\n3. **Điều kiện tam giác OAB cân tại O**:\n   - Tam giác OAB cân tại O nếu $OA = OB$. \n   - Tính độ dài OA và OB:\n     - Độ dài $OA = \\sqrt{(1 - 0)^2 + (2 - 0)^2} = \\sqrt{1^2 + 2^2} = \\sqrt{5}$.\n     - Độ dài $OB = \\sqrt{(x - 0)^2 + (2 - 0)^2} = \\sqrt{x^2 + 2^2} = \\sqrt{x^2 + 4}$.\n\n4. **Thiết lập phương trình**:\n   - Để tam giác OAB cân tại O, ta có:\n   $$\n   OA = OB \\implies \\sqrt{5} = \\sqrt{x^2 + 4}\n   $$\n   - Bình phương hai vế:\n   $$\n   5 = x^2 + 4\n   $$\n   - Giải phương trình:\n   $$\n   x^2 = 5 - 4 = 1 \\implies x = \\pm 1\n   $$\n\n5. **Tìm tọa độ điểm B**:\n   - Với $x = 1$, ta có điểm $B(1, 2)$.\n   - Với $x = -1$, ta có điểm $B(-1, 2)$.\n\n6. **Kết luận**:\n   - Số phức biểu diễn điểm B có thể là $z_B = 1 + 2i$ hoặc $z_B = -1 + 2i$.\n\nVậy, số phức biểu diễn điểm B là $z_B = 1 + 2i$ hoặc $z_B = -1 + 2i$.\n",
         "\n$z_B = 1 + 2i \\text{ hoặc } z_B = -1 + 2i$\n"
        ],
        [
         "21",
         "Cho số phức z thỏa mãn: $(2 + i)z + 2 - i = 0$. Tìm phần thực của số phức.",
         "Ta có: $(2 + i).z + 2 - i = 0 \\Leftrightarrow (2 + i)z = -2 + i \\Leftrightarrow z = \\frac{-2 + i}{2 + i} = \\frac{(-2 + i)(2 - i)}{(2 + i).(2 - i)} \\Leftrightarrow z = \\frac{-4 + 2i + 2i - i^2}{4 - i^2} = \\frac{-3 + 4i}{5}$. Do đó, phần thực của số phức cần tìm là $\\frac{-3}{5}$",
         "$\\frac{-3}{5}$",
         "\nĐể giải bài toán, ta bắt đầu từ phương trình đã cho:\n\n$$(2 + i)z + 2 - i = 0.$$\n\nBước 1: Chuyển vế để tìm $z$.\n\nTa có:\n\n$$(2 + i)z = - (2 - i).$$\n\nBước 2: Chia cả hai vế cho $(2 + i)$ để tìm $z$.\n\n$$z = \\frac{-(2 - i)}{2 + i}.$$\n\nBước 3: Để thực hiện phép chia số phức, ta nhân cả tử và mẫu với phần liên hợp của mẫu:\n\n$$z = \\frac{-(2 - i)(2 - i)}{(2 + i)(2 - i)}.$$\n\nBước 4: Tính toán phần mẫu:\n\n$$(2 + i)(2 - i) = 2^2 - i^2 = 4 + 1 = 5.$$\n\nBước 5: Tính toán phần tử:\n\n$$-(2 - i)(2 - i) = -(4 - 4i + i^2) = - (4 - 4i - 1) = - (3 - 4i) = -3 + 4i.$$\n\nBước 6: Thay vào biểu thức cho $z$:\n\n$$z = \\frac{-3 + 4i}{5} = -\\frac{3}{5} + \\frac{4}{5}i.$$\n\nBước 7: Tìm phần thực của số phức $z$.\n\nPhần thực của $z$ là:\n\n$$\\text{Re}(z) = -\\frac{3}{5}.$$\n\nKết luận, phần thực của số phức $z$ là $-\\frac{3}{5}$.\n",
         "\n-\\frac{3}{5}\n"
        ],
        [
         "22",
         "Giải phương trình $iz + 3 - 2i = 1 + i$",
         "Ta có: $iz + 3 - 2i = 1 + i \\Leftrightarrow iz = 1 + i - 3 + 2i \\Leftrightarrow iz = -2 + 3i \\Leftrightarrow z = \\frac{-2 + 3i}{i} = \\frac{2i - 3i^2}{-i^2} = 3 + 2i$",
         "3 + 2i",
         "\nĐể giải phương trình $iz + 3 - 2i = 1 + i$, ta thực hiện các bước sau:\n\n1. **Chuyển các hạng tử về một phía**:\n   \\[\n   iz + 3 - 2i - 1 - i = 0\n   \\]\n   Rút gọn lại:\n   \\[\n   iz + 2 - 3i = 0\n   \\]\n\n2. **Chuyển hạng tử tự do sang phía bên phải**:\n   \\[\n   iz = 3i - 2\n   \\]\n\n3. **Chia cả hai vế cho $i$** (nhớ rằng $i^2 = -1$):\n   \\[\n   z = \\frac{3i - 2}{i}\n   \\]\n\n4. **Nhân cả tử và mẫu với $-i$ để loại bỏ số ảo trong mẫu**:\n   \\[\n   z = \\frac{(3i - 2)(-i)}{i(-i)} = \\frac{-3i^2 + 2i}{1} = 3 + 2i\n   \\]\n\n5. **Kết luận**:\n   Vậy nghiệm của phương trình là:\n   \\[\n   z = 3 + 2i\n   \\]\n",
         "\n$z = 3 + 2i$\n"
        ],
        [
         "23",
         "Giải phương trình: $(2 + 4i)z + (4 - 2i)z + 2 - 2i = 0$",
         "Ta có: $(2 + 4i).z + (4 - 2i)z + 2 - 2i = 0 \\Leftrightarrow (2 + 4i + 4 - 2i)z = - 2 + 2i \\Leftrightarrow (6 + 2i). z = - 2 + 2i \\Leftrightarrow z = \\frac{-2 + 2i}{6 + 2i} = \\frac{-1 + i}{3 + i} \\Leftrightarrow z = \\frac{(-1 + i).(3 - i)}{(3 + i)(3 - i)} \\Leftrightarrow z = \\frac{-3 + i + 3i - i^2}{9 - i^2} = \\frac{-2 + 4i}{10} = \\frac{-1 + 2i}{5}$",
         "$\\frac{-1 + 2i}{5}$",
         "\nĐể giải phương trình $(2 + 4i)z + (4 - 2i)z + 2 - 2i = 0$, ta thực hiện các bước sau:\n\n1. **Gộp các hạng tử**: \n   Ta có thể gộp các hạng tử chứa $z$ lại với nhau:\n   $$(2 + 4i)z + (4 - 2i)z = ((2 + 4i) + (4 - 2i))z = (6 + 2i)z.$$\n\n   Vậy phương trình trở thành:\n   $$(6 + 2i)z + 2 - 2i = 0.$$\n\n2. **Chuyển hạng tử tự do sang bên phải**:\n   $$ (6 + 2i)z = - (2 - 2i). $$\n\n3. **Chia cả hai vế cho $(6 + 2i)$**:\n   $$ z = \\frac{-(2 - 2i)}{6 + 2i}. $$\n\n4. **Rút gọn phân số**:\n   Để rút gọn, ta nhân tử số và mẫu số với liên hợp của mẫu số:\n   $$ z = \\frac{-(2 - 2i)(6 - 2i)}{(6 + 2i)(6 - 2i)}. $$\n\n   Tính mẫu số:\n   $$(6 + 2i)(6 - 2i) = 6^2 - (2i)^2 = 36 - (-4) = 36 + 4 = 40.$$\n\n   Tính tử số:\n   \\[\n   -(2 - 2i)(6 - 2i) = -[(2 \\cdot 6) + (2 \\cdot -2i) + (-2i \\cdot 6) + (-2i \\cdot -2i)] = -[12 - 4i - 12i + 4] = -[16 - 16i] = -16 + 16i.\n   \\]\n\n   Vậy ta có:\n   $$ z = \\frac{-16 + 16i}{40} = \\frac{-2 + 2i}{5} = -\\frac{2}{5} + \\frac{2}{5}i. $$\n\n5. **Kết luận**:\n   Vậy nghiệm của phương trình là:\n   $$ z = -\\frac{2}{5} + \\frac{2}{5}i. $$\n\n",
         "\n$z = -\\frac{2}{5} + \\frac{2}{5}i$\n"
        ],
        [
         "24",
         "Giải phương trình $(1 + 2i)z + \\frac{2 + 6i}{1 - i} = 0$",
         "Ta có: $(1 + 2i)z + \\frac{2 + 6i}{1 - i} = 0 \\Leftrightarrow (1 + 2i)z = \\frac{-2 - 6i}{1 - i} \\Leftrightarrow (1 + 2i)z = \\frac{(-2 - 6i).(1 + i)}{(1 - i)(1 + i)} \\Leftrightarrow (1 + 2i)z = \\frac{-2 - 2i - 6i - 6i^2}{2} \\Leftrightarrow (1 + 2i)z = \\frac{4 - 8i}{2} \\Leftrightarrow (1 + 2i)z = -2 + 4i \\Leftrightarrow z = \\frac{-2 + 4i}{1 + 2i} = \\frac{(-2 + 4i)(1 - 2i)}{(1 + 2i)(1 - 2i)} \\Leftrightarrow z = \\frac{-2 + 4i + 4i - 8i^2}{1 - 4i^2} \\Leftrightarrow z = \\frac{6 + 8i}{5}$",
         "$\\frac{6 + 8i}{5}$",
         "\nĐể giải phương trình $(1 + 2i)z + \\frac{2 + 6i}{1 - i} = 0$, ta thực hiện các bước sau:\n\n**Bước 1: Tính giá trị của $\\frac{2 + 6i}{1 - i}$**\n\nĐể tính giá trị này, ta nhân tử số và mẫu số với liên hợp của mẫu số:\n\n\\[\n\\frac{2 + 6i}{1 - i} \\cdot \\frac{1 + i}{1 + i} = \\frac{(2 + 6i)(1 + i)}{(1 - i)(1 + i)}\n\\]\n\nTính mẫu số:\n\n\\[\n(1 - i)(1 + i) = 1^2 - i^2 = 1 - (-1) = 2\n\\]\n\nTính tử số:\n\n\\[\n(2 + 6i)(1 + i) = 2 \\cdot 1 + 2 \\cdot i + 6i \\cdot 1 + 6i \\cdot i = 2 + 2i + 6i - 6 = -4 + 8i\n\\]\n\nVậy ta có:\n\n\\[\n\\frac{2 + 6i}{1 - i} = \\frac{-4 + 8i}{2} = -2 + 4i\n\\]\n\n**Bước 2: Thay vào phương trình ban đầu**\n\nThay giá trị vừa tính vào phương trình:\n\n\\[\n(1 + 2i)z - 2 + 4i = 0\n\\]\n\n**Bước 3: Giải phương trình cho $z$**\n\nChuyển hạng tử sang bên phải:\n\n\\[\n(1 + 2i)z = 2 - 4i\n\\]\n\nChia cả hai vế cho $(1 + 2i)$:\n\n\\[\nz = \\frac{2 - 4i}{1 + 2i}\n\\]\n\n**Bước 4: Tính giá trị của $z$**\n\nTương tự như trước, ta nhân tử số và mẫu số với liên hợp của mẫu số:\n\n\\[\nz = \\frac{(2 - 4i)(1 - 2i)}{(1 + 2i)(1 - 2i)}\n\\]\n\nTính mẫu số:\n\n\\[\n(1 + 2i)(1 - 2i) = 1^2 - (2i)^2 = 1 - (-4) = 5\n\\]\n\nTính tử số:\n\n\\[\n(2 - 4i)(1 - 2i) = 2 \\cdot 1 - 2 \\cdot 2i - 4i \\cdot 1 + 8i^2 = 2 - 4i - 4i - 8 = -6 - 8i\n\\]\n\nVậy ta có:\n\n\\[\nz = \\frac{-6 - 8i}{5} = -\\frac{6}{5} - \\frac{8}{5}i\n\\]\n\n**Kết luận:**\n\nGiá trị của $z$ là:\n\n\\[\nz = -\\frac{6}{5} - \\frac{8}{5}i\n\\]\n",
         "\n$z = -\\frac{6}{5} - \\frac{8}{5}i$\n"
        ],
        [
         "25",
         "Giải phương trình bậc hai sau: $z^2 - z + 1 = 0$",
         "Ta có: a = 1 ; b = -1 ; c = 1 nên $\\Delta = b^2 - 4ac = -3 < 0$. Phương trình có hai nghiệm phức phân biệt là $x_{1,2} = \\frac{1 \\pm i\\sqrt{3}}{2}$",
         "$\\frac{1 \\pm i\\sqrt{3}}{2}$",
         "\nĐể giải phương trình bậc hai $z^2 - z + 1 = 0$, ta sẽ sử dụng công thức nghiệm của phương trình bậc hai:\n\n$$ z = \\frac{-b \\pm \\sqrt{b^2 - 4ac}}{2a} $$\n\nTrong đó, $a = 1$, $b = -1$, và $c = 1$. \n\nBước 1: Tính $b^2 - 4ac$:\n\n$$ b^2 - 4ac = (-1)^2 - 4 \\cdot 1 \\cdot 1 = 1 - 4 = -3 $$\n\nBước 2: Thay vào công thức nghiệm:\n\n$$ z = \\frac{-(-1) \\pm \\sqrt{-3}}{2 \\cdot 1} = \\frac{1 \\pm \\sqrt{-3}}{2} $$\n\nBước 3: Biểu diễn nghiệm dưới dạng số phức:\n\n$$ z = \\frac{1}{2} \\pm \\frac{\\sqrt{3}}{2} i $$\n\nVậy nghiệm của phương trình là:\n\n$$ z_1 = \\frac{1}{2} + \\frac{\\sqrt{3}}{2} i $$\n$$ z_2 = \\frac{1}{2} - \\frac{\\sqrt{3}}{2} i $$\n\n",
         "\nNghiệm của phương trình $z^2 - z + 1 = 0$ là $z_1 = \\frac{1}{2} + \\frac{\\sqrt{3}}{2} i$ và $z_2 = \\frac{1}{2} - \\frac{\\sqrt{3}}{2} i$.\n"
        ],
        [
         "26",
         "Trong C , nghiệm của phương trình $z^2 + \\sqrt{5} = 0$ là:",
         "$z^2 + \\sqrt{5} = 0 \\Leftrightarrow z^2 = -\\sqrt{5} \\Leftrightarrow z^2 = i^2\\sqrt{5} \\Leftrightarrow z = \\pm i^4\\sqrt{5}$",
         "$\\pm i^4\\sqrt{5}$",
         "\nĐể giải phương trình $z^2 + \\sqrt{5} = 0$, ta thực hiện các bước sau:\n\n1. **Chuyển hạng tử**: \n   Ta có thể chuyển hạng tử $\\sqrt{5}$ sang bên phải phương trình:\n   \\[\n   z^2 = -\\sqrt{5}\n   \\]\n\n2. **Lấy căn bậc hai**: \n   Để tìm $z$, ta lấy căn bậc hai của cả hai vế. Lưu ý rằng khi lấy căn bậc hai của một số âm, ta sẽ có nghiệm phức:\n   \\[\n   z = \\pm \\sqrt{-\\sqrt{5}} = \\pm i \\sqrt{\\sqrt{5}} = \\pm i \\cdot 5^{1/4}\n   \\]\n\n3. **Kết luận**: \n   Vậy nghiệm của phương trình $z^2 + \\sqrt{5} = 0$ là:\n   \\[\n   z = i \\cdot 5^{1/4} \\quad \\text{hoặc} \\quad z = -i \\cdot 5^{1/4}\n   \\]\n\n",
         "\n$z = i \\cdot 5^{1/4} \\quad \\text{hoặc} \\quad z = -i \\cdot 5^{1/4}$\n"
        ],
        [
         "27",
         "Trong C , nghiệm của phương trình $z^3 - 8 = 0$ là:",
         "Sử dụng hằng đẳng thức số 7, ta có: $z^3 - 8 = 0 \\Leftrightarrow (z - 2)(z^2 + 2z + 4) = 0 \\Leftrightarrow \\begin{bmatrix} z = 2 \\\\ z^2 + 2z + 4 = 0 \\end{bmatrix} \\Leftrightarrow \\begin{bmatrix} z = 2 \\\\ (z + 1)^2 = -3 \\end{bmatrix} \\Leftrightarrow \\begin{bmatrix} z = 2 \\\\ z + 1 = \\sqrt{3}i \\\\ z + 1 = -\\sqrt{3}i \\end{bmatrix} \\Leftrightarrow \\begin{bmatrix} z = 2 \\\\ z = -1 + \\sqrt{3}i \\\\ z = -1 - \\sqrt{3}i \\end{bmatrix}$. Vậy phương trình đã cho có 3 nghiệm phân biệt.",
         "$\\begin{bmatrix} z = 2 \\\\ z = -1 + \\sqrt{3}i \\\\ z = -1 - \\sqrt{3}i \\end{bmatrix}$",
         "\nĐể giải phương trình $z^3 - 8 = 0$, ta có thể viết lại phương trình dưới dạng:\n\n$$\nz^3 = 8\n$$\n\nTiếp theo, ta nhận thấy rằng $8$ có thể được viết dưới dạng số phức như sau:\n\n$$\n8 = 8 \\cdot (\\cos(0) + i \\sin(0))\n$$\n\nBây giờ, ta sẽ sử dụng công thức De Moivre để tìm các nghiệm của phương trình. Các nghiệm của phương trình $z^n = r(\\cos \\theta + i \\sin \\theta)$ được cho bởi:\n\n$$\nz_k = r^{1/n} \\left( \\cos\\left(\\frac{\\theta + 2k\\pi}{n}\\right) + i \\sin\\left(\\frac{\\theta + 2k\\pi}{n}\\right) \\right), \\quad k = 0, 1, \\ldots, n-1\n$$\n\nTrong trường hợp này, $r = 8$, $\\theta = 0$, và $n = 3$. \n\nTính $r^{1/3}$:\n\n$$\nr^{1/3} = 8^{1/3} = 2\n$$\n\nBây giờ, ta sẽ tính các nghiệm cho $k = 0, 1, 2$:\n\n1. Với $k = 0$:\n\n$$\nz_0 = 2 \\left( \\cos\\left(\\frac{0 + 2 \\cdot 0 \\cdot \\pi}{3}\\right) + i \\sin\\left(\\frac{0 + 2 \\cdot 0 \\cdot \\pi}{3}\\right) \\right) = 2 \\left( \\cos(0) + i \\sin(0) \\right) = 2\n$$\n\n2. Với $k = 1$:\n\n$$\nz_1 = 2 \\left( \\cos\\left(\\frac{0 + 2 \\cdot 1 \\cdot \\pi}{3}\\right) + i \\sin\\left(\\frac{0 + 2 \\cdot 1 \\cdot \\pi}{3}\\right) \\right) = 2 \\left( \\cos\\left(\\frac{2\\pi}{3}\\right) + i \\sin\\left(\\frac{2\\pi}{3}\\right) \\right)\n$$\n\nTính giá trị:\n\n$$\n\\cos\\left(\\frac{2\\pi}{3}\\right) = -\\frac{1}{2}, \\quad \\sin\\left(\\frac{2\\pi}{3}\\right) = \\frac{\\sqrt{3}}{2}\n$$\n\nVậy:\n\n$$\nz_1 = 2 \\left( -\\frac{1}{2} + i \\frac{\\sqrt{3}}{2} \\right) = -1 + i\\sqrt{3}\n$$\n\n3. Với $k = 2$:\n\n$$\nz_2 = 2 \\left( \\cos\\left(\\frac{0 + 2 \\cdot 2 \\cdot \\pi}{3}\\right) + i \\sin\\left(\\frac{0 + 2 \\cdot 2 \\cdot \\pi}{3}\\right) \\right) = 2 \\left( \\cos\\left(\\frac{4\\pi}{3}\\right) + i \\sin\\left(\\frac{4\\pi}{3}\\right) \\right)\n$$\n\nTính giá trị:\n\n$$\n\\cos\\left(\\frac{4\\pi}{3}\\right) = -\\frac{1}{2}, \\quad \\sin\\left(\\frac{4\\pi}{3}\\right) = -\\frac{\\sqrt{3}}{2}\n$$\n\nVậy:\n\n$$\nz_2 = 2 \\left( -\\frac{1}{2} - i \\frac{\\sqrt{3}}{2} \\right) = -1 - i\\sqrt{3}\n$$\n\nTóm lại, các nghiệm của phương trình $z^3 - 8 = 0$ là:\n\n$$\nz_0 = 2, \\quad z_1 = -1 + i\\sqrt{3}, \\quad z_2 = -1 - i\\sqrt{3}\n$$\n",
         "\nCác nghiệm của phương trình $z^3 - 8 = 0$ là $z_0 = 2$, $z_1 = -1 + i\\sqrt{3}$, $z_2 = -1 - i\\sqrt{3}$.\n"
        ],
        [
         "28",
         "Trong C , phương trình $z^2 + 3iz + 4 = 0$ có nghiệm là:",
         "Ta có : a = 1 ; b = i ; c = 4 nên : $\\Delta = b^2 - 4ac = (3i)^2 - 4.1.4 = -25 < 0$. Phương trình có hai nghiệm phức là: $z_1 = \\frac{-3i + 5i}{2} = i$ và $z_2 = \\frac{-3i - 5i}{2} = -4i$",
         "$\\begin{bmatrix} z = i \\\\ z = -4i \\end{bmatrix}$",
         "\nĐể giải phương trình $z^2 + 3iz + 4 = 0$, chúng ta sẽ sử dụng công thức nghiệm của phương trình bậc hai:\n\n\\[\nz = \\frac{-b \\pm \\sqrt{b^2 - 4ac}}{2a}\n\\]\n\nTrong đó, $a = 1$, $b = 3i$, và $c = 4$. \n\nBước 1: Tính $b^2 - 4ac$.\n\n\\[\nb^2 = (3i)^2 = 9i^2 = 9(-1) = -9\n\\]\n\n\\[\n4ac = 4 \\cdot 1 \\cdot 4 = 16\n\\]\n\nVậy:\n\n\\[\nb^2 - 4ac = -9 - 16 = -25\n\\]\n\nBước 2: Tính $\\sqrt{b^2 - 4ac}$.\n\n\\[\n\\sqrt{-25} = 5i\n\\]\n\nBước 3: Thay vào công thức nghiệm.\n\n\\[\nz = \\frac{-3i \\pm 5i}{2}\n\\]\n\nBước 4: Tính các nghiệm.\n\nNghiệm thứ nhất:\n\n\\[\nz_1 = \\frac{-3i + 5i}{2} = \\frac{2i}{2} = i\n\\]\n\nNghiệm thứ hai:\n\n\\[\nz_2 = \\frac{-3i - 5i}{2} = \\frac{-8i}{2} = -4i\n\\]\n\nVậy nghiệm của phương trình $z^2 + 3iz + 4 = 0$ là:\n\n\\[\nz_1 = i \\quad \\text{và} \\quad z_2 = -4i\n\\]\n",
         "\nNghiệm của phương trình là $z_1 = i$ và $z_2 = -4i$.\n"
        ],
        [
         "29",
         "Cho z = 1 - i. Tìm căn bậc hai dạng lượng giác của z:",
         "Ta có $z = 1 - i = \\sqrt{2} \\begin{bmatrix} cos(-\\frac{\\pi}{4}) + i sin(-\\frac{\\pi}{4}) \\end{bmatrix}$ có các căn bậc hai là: $w_1 = ^4\\sqrt{2}(cos(\\frac{7\\pi}{8}) + i sin(\\frac{7\\pi}{8})) ; w_2 = ^4\\sqrt{2}(cos(-\\frac{\\pi}{8}) + i sin(-\\frac{-\\pi}{8}))$",
         "$^4\\sqrt{2}(cos(\\frac{7\\pi}{8}) + i sin(\\frac{7\\pi}{8})) ; ^4\\sqrt{2}(cos(-\\frac{\\pi}{8}) + i sin(-\\frac{-\\pi}{8}))$",
         "\nĐể tìm căn bậc hai của số phức $z = 1 - i$, trước tiên chúng ta sẽ chuyển đổi số phức này sang dạng lượng giác.\n\n1. **Tính mô-đun của $z$**:\n   Mô-đun của một số phức $z = a + bi$ được tính bằng công thức:\n   \\[\n   |z| = \\sqrt{a^2 + b^2}\n   \\]\n   Trong trường hợp này, $a = 1$ và $b = -1$. Do đó:\n   \\[\n   |z| = \\sqrt{1^2 + (-1)^2} = \\sqrt{1 + 1} = \\sqrt{2}\n   \\]\n\n2. **Tính góc của $z$**:\n   Góc $\\theta$ của số phức $z$ được tính bằng công thức:\n   \\[\n   \\theta = \\tan^{-1}\\left(\\frac{b}{a}\\right)\n   \\]\n   Ở đây, $b = -1$ và $a = 1$, do đó:\n   \\[\n   \\theta = \\tan^{-1}\\left(\\frac{-1}{1}\\right) = \\tan^{-1}(-1) = -\\frac{\\pi}{4}\n   \\]\n   Tuy nhiên, góc này nằm trong phần tư IV, nên chúng ta có thể viết lại góc này dưới dạng:\n   \\[\n   \\theta = \\frac{7\\pi}{4} \\quad (\\text{để nằm trong khoảng } [0, 2\\pi))\n   \\]\n\n3. **Chuyển đổi sang dạng lượng giác**:\n   Số phức $z$ có thể được viết dưới dạng lượng giác như sau:\n   \\[\n   z = |z| \\left(\\cos \\theta + i \\sin \\theta\\right) = \\sqrt{2} \\left(\\cos\\left(-\\frac{\\pi}{4}\\right) + i \\sin\\left(-\\frac{\\pi}{4}\\right)\\right)\n   \\]\n\n4. **Tìm căn bậc hai của $z$**:\n   Căn bậc hai của một số phức trong dạng lượng giác được tính bằng công thức:\n   \\[\n   \\sqrt{z} = \\sqrt{|z|} \\left(\\cos\\left(\\frac{\\theta + 2k\\pi}{2}\\right) + i \\sin\\left(\\frac{\\theta + 2k\\pi}{2}\\right)\\right) \\quad (k = 0, 1)\n   \\]\n   Tính $\\sqrt{|z|}$:\n   \\[\n   \\sqrt{|z|} = \\sqrt{\\sqrt{2}} = 2^{1/4} = \\sqrt[4]{2}\n   \\]\n\n   Với $k = 0$:\n   \\[\n   \\sqrt{z}_0 = \\sqrt[4]{2} \\left(\\cos\\left(\\frac{-\\frac{\\pi}{4}}{2}\\right) + i \\sin\\left(\\frac{-\\frac{\\pi}{4}}{2}\\right)\\right) = \\sqrt[4]{2} \\left(\\cos\\left(-\\frac{\\pi}{8}\\right) + i \\sin\\left(-\\frac{\\pi}{8}\\right)\\right)\n   \\]\n\n   Với $k = 1$:\n   \\[\n   \\sqrt{z}_1 = \\sqrt[4]{2} \\left(\\cos\\left(\\frac{-\\frac{\\pi}{4} + 2\\pi}{2}\\right) + i \\sin\\left(\\frac{-\\frac{\\pi}{4} + 2\\pi}{2}\\right)\\right) = \\sqrt[4]{2} \\left(\\cos\\left(\\frac{7\\pi}{8}\\right) + i \\sin\\left(\\frac{7\\pi}{8}\\right)\\right)\n   \\]\n\n5. **Kết quả**:\n   Vậy hai căn bậc hai của $z = 1 - i$ là:\n   \\[\n   \\sqrt{z}_0 = \\sqrt[4]{2} \\left(\\cos\\left(-\\frac{\\pi}{8}\\right) + i \\sin\\left(-\\frac{\\pi}{8}\\right)\\right)\n   \\]\n   và\n   \\[\n   \\sqrt{z}_1 = \\sqrt[4]{2} \\left(\\cos\\left(\\frac{7\\pi}{8}\\right) + i \\sin\\left(\\frac{7\\pi}{8}\\right)\\right)\n   \\]\n",
         "\nCăn bậc hai của $z = 1 - i$ là:\n\\[\n\\sqrt{z}_0 = \\sqrt[4]{2} \\left(\\cos\\left(-\\frac{\\pi}{8}\\right) + i \\sin\\left(-\\frac{\\pi}{8}\\right)\\right) \\quad \\text{và} \\quad \\sqrt{z}_1 = \\sqrt[4]{2} \\left(\\cos\\left(\\frac{7\\pi}{8}\\right) + i \\sin\\left(\\frac{7\\pi}{8}\\right)\\right)\n\\]\n"
        ],
        [
         "30",
         "Tìm các căn bậc hai của $w = -5 + 12i$.",
         "Gọi $z = x + yi$ là một căn bậc hai của số phức $w = -5 + 12i$. Ta có $z^2 = w <=>$ $(x + yi)^2 = -5 + 12i$ $<=> \\begin{cases} x^2 - y^2 = -5 \\\\ 2xy = 12 \\end{cases} <=> \\begin{cases} x^2 = 4 \\\\ y = \\frac{6}{x} \\end{cases} <=> \\begin{cases} x = 2 \\\\ y = 3 \\end{cases} \\\\  \\begin{cases} x = -2 \\\\ y = -3 \\end{cases}$ Vậy số phức w có hai căn bậc hai là $2 + 3i$ và $-2 - 3i$.",
         "$2 + 3i$ và $-2 - 3i$",
         "\nĐể tìm các căn bậc hai của số phức $w = -5 + 12i$, ta sẽ sử dụng công thức tìm căn bậc hai của một số phức.\n\nGiả sử $z = x + yi$ là căn bậc hai của $w$, tức là:\n\n\\[\nz^2 = w\n\\]\n\nKhi đó, ta có:\n\n\\[\n(x + yi)^2 = -5 + 12i\n\\]\n\nMở rộng vế trái:\n\n\\[\nx^2 + 2xyi - y^2 = -5 + 12i\n\\]\n\nTách phần thực và phần ảo:\n\n\\[\n(x^2 - y^2) + (2xy)i = -5 + 12i\n\\]\n\nTừ đây, ta có hệ phương trình:\n\n1. $x^2 - y^2 = -5$ (1)\n2. $2xy = 12$ (2)\n\nTừ phương trình (2), ta có:\n\n\\[\nxy = 6 \\implies y = \\frac{6}{x} \\quad (x \\neq 0)\n\\]\n\nThay $y$ vào phương trình (1):\n\n\\[\nx^2 - \\left(\\frac{6}{x}\\right)^2 = -5\n\\]\n\nGiải phương trình này:\n\n\\[\nx^2 - \\frac{36}{x^2} = -5\n\\]\n\nNhân cả hai vế với $x^2$ (với $x \\neq 0$):\n\n\\[\nx^4 + 5x^2 - 36 = 0\n\\]\n\nĐặt $u = x^2$, ta có phương trình bậc hai:\n\n\\[\nu^2 + 5u - 36 = 0\n\\]\n\nÁp dụng công thức nghiệm của phương trình bậc hai:\n\n\\[\nu = \\frac{-b \\pm \\sqrt{b^2 - 4ac}}{2a} = \\frac{-5 \\pm \\sqrt{5^2 - 4 \\cdot 1 \\cdot (-36)}}{2 \\cdot 1}\n\\]\n\nTính toán:\n\n\\[\nu = \\frac{-5 \\pm \\sqrt{25 + 144}}{2} = \\frac{-5 \\pm \\sqrt{169}}{2} = \\frac{-5 \\pm 13}{2}\n\\]\n\nTìm các nghiệm:\n\n1. $u_1 = \\frac{8}{2} = 4 \\implies x^2 = 4 \\implies x = 2 \\text{ hoặc } x = -2$\n2. $u_2 = \\frac{-18}{2} = -9 \\implies x^2 = -9 \\text{ (không có nghiệm thực)}$\n\nVới $x = 2$, ta có:\n\n\\[\ny = \\frac{6}{2} = 3\n\\]\n\nVới $x = -2$, ta có:\n\n\\[\ny = \\frac{6}{-2} = -3\n\\]\n\nVậy các căn bậc hai của $w$ là:\n\n\\[\nz_1 = 2 + 3i \\quad \\text{và} \\quad z_2 = -2 - 3i\n\\]\n\nKết luận, các căn bậc hai của $w = -5 + 12i$ là:\n\n\\[\nz_1 = 2 + 3i \\quad \\text{và} \\quad z_2 = -2 - 3i\n\\]\n",
         "\nCác căn bậc hai của $w = -5 + 12i$ là $2 + 3i$ và $-2 - 3i$.\n"
        ],
        [
         "31",
         "Khai căn bậc hai số phức $z = -3 + 4i$ có kết quả:",
         "Giả sử $w = x + yi$ là một căn bậc hai của số phức $z = -3 + 4i$. Ta có: $w^2 = z <=> (x + yi)^2 = -3 + 4i$ $<=> \\begin{cases} x^2 - y^2 = -3 \\\\ 2xy = 4 \\end{cases} <=> \\begin{cases} x^2 = 1 \\\\ y = \\frac{2}{x} \\end{cases} <=> \\begin{cases} x = 1 \\\\ y = 2 \\end{cases} \\\\  \\begin{cases} x = -1 \\\\ y = -2 \\end{cases}$ Do đó z có hai căn bậc hai là: $z_1 = 1 + 2i$ và $z_2 = -1 - 2i$",
         "$z_1 = 1 + 2i$ và $z_2 = -1 - 2i$",
         "\nĐể khai căn bậc hai số phức $z = -3 + 4i$, ta sử dụng công thức khai căn bậc hai cho số phức. Một số phức $z = x + yi$ có thể được viết dưới dạng $r(\\cos \\theta + i \\sin \\theta)$, trong đó $r = |z|$ là độ lớn của số phức và $\\theta = \\arg(z)$ là góc của số phức.\n\n1. **Tính độ lớn $r$ của số phức $z$:**\n   \\[\n   r = |z| = \\sqrt{x^2 + y^2} = \\sqrt{(-3)^2 + (4)^2} = \\sqrt{9 + 16} = \\sqrt{25} = 5\n   \\]\n\n2. **Tính góc $\\theta$:**\n   \\[\n   \\theta = \\tan^{-1}\\left(\\frac{y}{x}\\right) = \\tan^{-1}\\left(\\frac{4}{-3}\\right)\n   \\]\n   Số phức $z$ nằm ở phần tư II, do đó:\n   \\[\n   \\theta = \\pi + \\tan^{-1}\\left(\\frac{4}{-3}\\right) = \\pi - \\tan^{-1}\\left(\\frac{4}{3}\n   \\]\n\n3. **Khai căn bậc hai:**\n   Số phức có dạng $z = r(\\cos \\theta + i \\sin \\theta)$, do đó:\n   \\[\n   \\sqrt{z} = \\sqrt{r}\\left(\\cos\\left(\\frac{\\theta}{2}\\right) + i \\sin\\left(\\frac{\\theta}{2}\\right)\\right)\n   \\]\n   Với $r = 5$, ta có:\n   \\[\n   \\sqrt{r} = \\sqrt{5}\n   \\]\n\n4. **Tính $\\frac{\\theta}{2}$:**\n   \\[\n   \\frac{\\theta}{2} = \\frac{\\pi - \\tan^{-1}\\left(\\frac{4}{3}\\right)}{2}\n   \\]\n\n5. **Kết quả cuối cùng:**\n   Do đó, ta có hai nghiệm cho $\\sqrt{z}$:\n   \\[\n   \\sqrt{z} = \\sqrt{5}\\left(\\cos\\left(\\frac{\\theta}{2}\\right) + i \\sin\\left(\\frac{\\theta}{2}\\right)\\right) \\quad \\text{hoặc} \\quad \\sqrt{5}\\left(\\cos\\left(\\frac{\\theta}{2} + \\pi\\right) + i \\sin\\left(\\frac{\\theta}{2} + \\pi\\right)\\right)\n   \\]\n\nKết quả cuối cùng là:\n\\[\n\\sqrt{z} = \\sqrt{5}\\left(\\cos\\left(\\frac{\\pi - \\tan^{-1}\\left(\\frac{4}{3}\\right)}{2}\\right) + i \\sin\\left(\\frac{\\pi - \\tan^{-1}\\left(\\frac{4}{3}\\right)}{2}\\right)\\right) \\quad \\text{và} \\quad \\sqrt{5}\\left(\\cos\\left(\\frac{\\pi - \\tan^{-1}\\left(\\frac{4}{3}\\right)}{2} + \\pi\\right) + i \\sin\\left(\\frac{\\pi - \\tan^{-1}\\left(\\frac{4}{3}\\right)}{2} + \\pi\\right)\\right)\n\\]\n",
         "\n$\\sqrt{z} = \\sqrt{5}\\left(\\cos\\left(\\frac{\\pi - \\tan^{-1}\\left(\\frac{4}{3}\\right)}{2}\\right) + i \\sin\\left(\\frac{\\pi - \\tan^{-1}\\left(\\frac{4}{3}\\right)}{2}\\right)\\right) \\quad \\text{và} \\quad \\sqrt{5}\\left(\\cos\\left(\\frac{\\pi - \\tan^{-1}\\left(\\frac{4}{3}\\right)}{2} + \\pi\\right) + i \\sin\\left(\\frac{\\pi - \\tan^{-1}\\left(\\frac{4}{3}\\right)}{2} + \\pi\\right)\\right)$\n"
        ],
        [
         "32",
         "Tính căn bậc hai của số phức $z = 8 + 6i$ ra kết quả:",
         "Giả sử $w = x + yi$ là một căn bậc hai của số phức $z = 8 + 6i$. $w^2 = z <=> (x + yi)^2 = 8 + 6i <=> \\begin{cases} x^2 - y^2 = 8 \\\\ 2xy = 6 \\end{cases} <=> \\begin{cases} x^2 = 9 \\\\ y = \\frac{3}{x} \\end{cases} <=> \\begin{cases} x = 3 \\\\ y = 1 \\end{cases} \\\\  \\begin{cases} x = -3 \\\\ y = -1 \\end{cases}$ Ta có: Do đó z có hai căn bậc hai là: $\\begin{bmatrix} z_1 = 3 + i \\\\ z_2 = -3 - i \\end{bmatrix}$",
         "$\\begin{bmatrix} z_1 = 3 + i \\\\ z_2 = -3 - i \\end{bmatrix}$",
         "\nĐể tính căn bậc hai của số phức $z = 8 + 6i$, ta sẽ sử dụng công thức tổng quát cho căn bậc hai của một số phức.\n\nGiả sử căn bậc hai của $z$ có dạng $w = x + yi$, trong đó $x$ và $y$ là các số thực. Ta có:\n\n\\[\nw^2 = z \\implies (x + yi)^2 = 8 + 6i\n\\]\n\nKhai triển vế trái:\n\n\\[\nx^2 + 2xyi - y^2 = 8 + 6i\n\\]\n\nTừ đó, ta tách thành hai phương trình thực và ảo:\n\n1. Phương trình thực: $x^2 - y^2 = 8$\n2. Phương trình ảo: $2xy = 6$\n\nTừ phương trình 2, ta có:\n\n\\[\nxy = 3 \\implies y = \\frac{3}{x} \\quad (x \\neq 0)\n\\]\n\nThay $y$ vào phương trình 1:\n\n\\[\nx^2 - \\left(\\frac{3}{x}\\right)^2 = 8\n\\]\n\nGiải phương trình này:\n\n\\[\nx^2 - \\frac{9}{x^2} = 8\n\\]\n\nNhân cả hai vế với $x^2$ (với $x \\neq 0$):\n\n\\[\nx^4 - 8x^2 - 9 = 0\n\\]\n\nĐặt $u = x^2$, ta có phương trình bậc hai:\n\n\\[\nu^2 - 8u - 9 = 0\n\\]\n\nÁp dụng công thức nghiệm của phương trình bậc hai:\n\n\\[\nu = \\frac{8 \\pm \\sqrt{(-8)^2 - 4 \\cdot 1 \\cdot (-9)}}{2 \\cdot 1} = \\frac{8 \\pm \\sqrt{64 + 36}}{2} = \\frac{8 \\pm \\sqrt{100}}{2} = \\frac{8 \\pm 10}{2}\n\\]\n\nTính các nghiệm:\n\n1. $u_1 = \\frac{18}{2} = 9 \\implies x^2 = 9 \\implies x = 3$ hoặc $x = -3$.\n2. $u_2 = \\frac{-2}{2} = -1$ (không có nghiệm thực).\n\nVới $x = 3$, ta tính $y$:\n\n\\[\ny = \\frac{3}{3} = 1\n\\]\n\nVới $x = -3$, ta cũng có:\n\n\\[\ny = \\frac{3}{-3} = -1\n\\]\n\nVậy, các nghiệm của $w$ là:\n\n\\[\nw_1 = 3 + i \\quad \\text{và} \\quad w_2 = -3 - i\n\\]\n\nDo đó, căn bậc hai của số phức $z = 8 + 6i$ là:\n\n\\[\nw = 3 + i \\quad \\text{hoặc} \\quad w = -3 - i\n\\]\n",
         "\nCăn bậc hai của số phức $z = 8 + 6i$ là $3 + i$ hoặc $-3 - i$.\n"
        ],
        [
         "33",
         "Cho z = 3 + 4i. Tìm căn bậc hai của z.",
         "Giả sử $w = x + yi$ là một căn bậc hai của số phức $z = 3 + 4i$. Ta có: $w^2 = z <=> (x + yi)^2 = 3 + 4i <=> \\begin{cases} x^2 - y^2 = 3 \\\\ 2xy = 4 \\end{cases} <=> \\begin{cases} x^2 = 4 \\\\ y = \\frac{2}{x} \\end{cases} <=> \\begin{cases} x = 2 \\\\ y = 1 \\end{cases} \\\\  \\begin{cases} x = -2 \\\\ y = -1 \\end{cases}$ Do đó z có hai căn bậc hai là $\\begin{bmatrix} z = 2 + i \\\\ z = -2 - i \\end{bmatrix}$",
         "$\\begin{bmatrix} z = 2 + i \\\\ z = -2 - i \\end{bmatrix}$",
         "\nĐể tìm căn bậc hai của số phức $z = 3 + 4i$, ta sẽ sử dụng công thức tổng quát cho căn bậc hai của một số phức.\n\nGiả sử căn bậc hai của $z$ là $w = x + yi$, với $x$ và $y$ là các số thực. Ta có:\n\n\\[\nw^2 = z \\implies (x + yi)^2 = 3 + 4i\n\\]\n\nKhai triển vế trái:\n\n\\[\nx^2 + 2xyi - y^2 = 3 + 4i\n\\]\n\nTừ đó, ta tách thành hai phương trình thực và ảo:\n\n1. Phương trình thực: $x^2 - y^2 = 3$\n2. Phương trình ảo: $2xy = 4$\n\nTừ phương trình 2, ta có:\n\n\\[\nxy = 2 \\implies y = \\frac{2}{x} \\quad (x \\neq 0)\n\\]\n\nThay $y$ vào phương trình 1:\n\n\\[\nx^2 - \\left(\\frac{2}{x}\\right)^2 = 3\n\\]\n\nGiải phương trình này:\n\n\\[\nx^2 - \\frac{4}{x^2} = 3\n\\]\n\nNhân cả hai vế với $x^2$ (với $x \\neq 0$):\n\n\\[\nx^4 - 3x^2 - 4 = 0\n\\]\n\nĐặt $u = x^2$, ta có phương trình bậc hai:\n\n\\[\nu^2 - 3u - 4 = 0\n\\]\n\nÁp dụng công thức nghiệm của phương trình bậc hai:\n\n\\[\nu = \\frac{-b \\pm \\sqrt{b^2 - 4ac}}{2a} = \\frac{3 \\pm \\sqrt{(-3)^2 - 4 \\cdot 1 \\cdot (-4)}}{2 \\cdot 1} = \\frac{3 \\pm \\sqrt{9 + 16}}{2} = \\frac{3 \\pm 5}{2}\n\\]\n\nTính toán các nghiệm:\n\n1. $u_1 = \\frac{8}{2} = 4 \\implies x^2 = 4 \\implies x = 2$ hoặc $x = -2$.\n2. $u_2 = \\frac{-2}{2} = -1$ (không có nghiệm thực).\n\nVới $x = 2$, ta tính $y$:\n\n\\[\ny = \\frac{2}{x} = \\frac{2}{2} = 1\n\\]\n\nVới $x = -2$, ta cũng có:\n\n\\[\ny = \\frac{2}{-2} = -1\n\\]\n\nVậy, các căn bậc hai của $z$ là:\n\n\\[\nw_1 = 2 + i \\quad \\text{và} \\quad w_2 = -2 - i\n\\]\n\nKết luận, căn bậc hai của số phức $z = 3 + 4i$ là:\n\n\\[\nw = 2 + i \\quad \\text{hoặc} \\quad w = -2 - i\n\\]\n",
         "\nCăn bậc hai của $z = 3 + 4i$ là $2 + i$ hoặc $-2 - i$.\n"
        ],
        [
         "34",
         "Căn bậc hai của số phức 4 + 6$\\sqrt{5}$i là:",
         "Giả sử w là một căn bậc hai của 4 + 6$\\sqrt{5}$i. Ta có: $w^2 = 4 + 6\\sqrt{5}i <=> w^2 = (3 + \\sqrt{5}i)^2 => w = \\pm (3 + \\sqrt{5}i).$",
         "$\\pm (3 + \\sqrt{5}i)$",
         "\nĐể tìm căn bậc hai của số phức $z = 4 + 6\\sqrt{5}i$, ta sẽ sử dụng công thức cho căn bậc hai của số phức.\n\nGiả sử căn bậc hai của $z$ là $w = x + yi$, trong đó $x$ và $y$ là các số thực. Ta có:\n\n\\[\nw^2 = z \\implies (x + yi)^2 = 4 + 6\\sqrt{5}i\n\\]\n\nKhi khai triển vế trái, ta có:\n\n\\[\nx^2 + 2xyi - y^2 = 4 + 6\\sqrt{5}i\n\\]\n\nTừ đây, ta tách phần thực và phần ảo:\n\n1. Phần thực: $x^2 - y^2 = 4$\n2. Phần ảo: $2xy = 6\\sqrt{5}$\n\nBây giờ, ta có hệ phương trình:\n\n\\[\n\\begin{cases}\nx^2 - y^2 = 4 \\quad (1) \\\\\n2xy = 6\\sqrt{5} \\quad (2)\n\\end{cases}\n\\]\n\nTừ phương trình (2), ta có:\n\n\\[\nxy = 3\\sqrt{5} \\implies y = \\frac{3\\sqrt{5}}{x} \\quad (3)\n\\]\n\nThay (3) vào (1):\n\n\\[\nx^2 - \\left(\\frac{3\\sqrt{5}}{x}\\right)^2 = 4\n\\]\n\nGiải phương trình này:\n\n\\[\nx^2 - \\frac{45}{x^2} = 4\n\\]\n\nNhân cả hai vế với $x^2$ (với $x \\neq 0$):\n\n\\[\nx^4 - 4x^2 - 45 = 0\n\\]\n\nĐặt $u = x^2$, ta có phương trình bậc hai:\n\n\\[\nu^2 - 4u - 45 = 0\n\\]\n\nÁp dụng công thức nghiệm:\n\n\\[\nu = \\frac{4 \\pm \\sqrt{(-4)^2 - 4 \\cdot 1 \\cdot (-45)}}{2 \\cdot 1} = \\frac{4 \\pm \\sqrt{16 + 180}}{2} = \\frac{4 \\pm \\sqrt{196}}{2} = \\frac{4 \\pm 14}{2}\n\\]\n\nTừ đó, ta có hai nghiệm:\n\n\\[\nu_1 = \\frac{18}{2} = 9 \\quad \\text{và} \\quad u_2 = \\frac{-10}{2} = -5 \\quad (\\text{loại bỏ vì } u = x^2 \\geq 0)\n\\]\n\nVậy $x^2 = 9 \\implies x = 3$ hoặc $x = -3$.\n\nThay $x = 3$ vào (3):\n\n\\[\ny = \\frac{3\\sqrt{5}}{3} = \\sqrt{5}\n\\]\n\nVậy một nghiệm là $w_1 = 3 + \\sqrt{5}i$.\n\nNếu $x = -3$, ta có:\n\n\\[\ny = \\frac{3\\sqrt{5}}{-3} = -\\sqrt{5}\n\\]\n\nVậy nghiệm còn lại là $w_2 = -3 - \\sqrt{5}i$.\n\nCuối cùng, căn bậc hai của số phức $4 + 6\\sqrt{5}i$ là:\n\n\\[\nw = 3 + \\sqrt{5}i \\quad \\text{hoặc} \\quad w = -3 - \\sqrt{5}i\n\\]\n",
         "\nCăn bậc hai của số phức $4 + 6\\sqrt{5}i$ là $3 + \\sqrt{5}i$ hoặc $-3 - \\sqrt{5}i$.\n"
        ],
        [
         "35",
         "Gọi z là căn bậc hai có phần ảo âm của 33 - 56i . Phần thực của z là:",
         "Ta có: 33 - 56i = (7 - 4i)^2 => z = 7 - 4i Do đó phần thực của z là 7.",
         "7",
         "\nĐể tìm phần thực của số phức $z = \\sqrt{33 - 56i}$ với điều kiện phần ảo của $z$ âm, ta thực hiện các bước sau:\n\n1. **Biểu diễn số phức dưới dạng cực**:\n   Số phức $33 - 56i$ có thể được biểu diễn dưới dạng cực. Đầu tiên, ta tính mô-đun và góc của số phức này.\n\n   Mô-đun được tính bằng công thức:\n   \\[\n   r = |33 - 56i| = \\sqrt{33^2 + (-56)^2} = \\sqrt{1089 + 3136} = \\sqrt{4225} = 65\n   \\]\n\n   Góc $\\theta$ được tính bằng:\n   \\[\n   \\theta = \\tan^{-1}\\left(\\frac{-56}{33}\\right)\n   \\]\n\n   Tính giá trị của $\\theta$:\n   \\[\n   \\theta \\approx \\tan^{-1}\\left(-1.696\\right) \\approx -59.04^\\circ \\quad (\\text{hoặc } -\\frac{59.04 \\pi}{180} \\text{ rad})\n   \\]\n\n2. **Biểu diễn số phức dưới dạng lượng giác**:\n   Số phức $33 - 56i$ có thể viết lại dưới dạng:\n   \\[\n   33 - 56i = 65\\left(\\cos(-59.04^\\circ) + i\\sin(-59.04^\\circ)\\right)\n   \\]\n\n3. **Tính căn bậc hai**:\n   Căn bậc hai của số phức có thể được tính bằng công thức:\n   \\[\n   z = \\sqrt{r}\\left(\\cos\\left(\\frac{\\theta + 2k\\pi}{2}\\right) + i\\sin\\left(\\frac{\\theta + 2k\\pi}{2}\\right)\\right) \\quad (k = 0, 1)\n   \\]\n\n   Với $r = 65$ và $\\theta \\approx -59.04^\\circ$, ta có:\n   \\[\n   \\sqrt{r} = \\sqrt{65}\n   \\]\n\n   Tính cho $k = 0$:\n   \\[\n   z_0 = \\sqrt{65}\\left(\\cos\\left(\\frac{-59.04^\\circ}{2}\\right) + i\\sin\\left(\\frac{-59.04^\\circ}{2}\\right)\\right)\n   \\]\n\n   Tính cho $k = 1$:\n   \\[\n   z_1 = \\sqrt{65}\\left(\\cos\\left(\\frac{-59.04^\\circ + 360^\\circ}{2}\\right) + i\\sin\\left(\\frac{-59.04^\\circ + 360^\\circ}{2}\\right)\\right)\n   \\]\n\n   Tính cho $k = 0$:\n   \\[\n   z_0 = \\sqrt{65}\\left(\\cos(-29.52^\\circ) + i\\sin(-29.52^\\circ)\\right)\n   \\]\n\n   Tính cho $k = 1$:\n   \\[\n   z_1 = \\sqrt{65}\\left(\\cos(150.48^\\circ) + i\\sin(150.48^\\circ)\\right)\n   \\]\n\n4. **Tính phần thực**:\n   Phần thực của $z_0$ và $z_1$ lần lượt là:\n   \\[\n   \\text{Re}(z_0) = \\sqrt{65}\\cos(-29.52^\\circ)\n   \\]\n   \\[\n   \\text{Re}(z_1) = \\sqrt{65}\\cos(150.48^\\circ)\n   \\]\n\n   Tính giá trị cụ thể:\n   \\[\n   \\text{Re}(z_0) \\approx \\sqrt{65} \\cdot 0.8746 \\approx 6.5\n   \\]\n   \\[\n   \\text{Re}(z_1) \\approx \\sqrt{65} \\cdot (-0.8746) \\approx -6.5\n   \\]\n\n   Vì phần ảo của $z$ phải âm, ta chọn $z_1$.\n\n5. **Kết luận**:\n   Phần thực của $z$ là:\n   \\[\n   \\text{Re}(z) = -\\sqrt{65} \\cdot 0.8746 \\approx -6.5\n   \\]\n\n",
         "\n$\\text{Re}(z) \\approx -6.5$\n"
        ],
        [
         "36",
         "Trong C , căn bậc hai của -121 là:",
         "Ta có: z = -121 nên z = (11i)^2. Do đó z có hai căn bậc hai là z = 11i và z = -11i",
         "11i và -11i",
         "\nĐể tìm căn bậc hai của số -121, ta cần nhớ rằng căn bậc hai của một số âm không phải là một số thực. Thay vào đó, nó thuộc về tập số phức.\n\nCụ thể, ta có:\n\n\\[\n\\sqrt{-121} = \\sqrt{121} \\cdot \\sqrt{-1}\n\\]\n\nBiết rằng:\n\n\\[\n\\sqrt{121} = 11\n\\]\n\nVà:\n\n\\[\n\\sqrt{-1} = i\n\\]\n\nDo đó, ta có:\n\n\\[\n\\sqrt{-121} = 11i\n\\]\n\nVậy căn bậc hai của -121 là $11i$.\n",
         "\n$11i$\n"
        ],
        [
         "37",
         "Tìm các căn bậc hai của -9.",
         "Ta có -9 = 9i^2 nên -9 có các căn bậc hai là 3i và -3i.",
         "3i và -3i",
         "\nĐể tìm các căn bậc hai của số -9, ta cần sử dụng khái niệm số phức, vì căn bậc hai của một số âm không tồn tại trong tập hợp số thực.\n\n1. **Định nghĩa căn bậc hai**: Căn bậc hai của một số $x$ là một số $y$ sao cho $y^2 = x$.\n\n2. **Áp dụng vào bài toán**: Ta cần tìm $y$ sao cho:\n   \\[\n   y^2 = -9\n   \\]\n\n3. **Chuyển đổi sang số phức**: Ta biết rằng $-1$ có thể được biểu diễn dưới dạng số phức như sau:\n   \\[\n   -1 = i^2\n   \\]\n   với $i$ là đơn vị ảo.\n\n4. **Thay thế vào phương trình**:\n   \\[\n   y^2 = -9 \\implies y^2 = 9 \\cdot (-1) = 9 \\cdot i^2\n   \\]\n\n5. **Lấy căn bậc hai**: Ta có:\n   \\[\n   y = \\pm \\sqrt{9 \\cdot i^2} = \\pm \\sqrt{9} \\cdot \\sqrt{i^2} = \\pm 3i\n   \\]\n\n6. **Kết luận**: Các căn bậc hai của -9 là:\n   \\[\n   y = 3i \\quad \\text{hoặc} \\quad y = -3i\n   \\]\n\n",
         "\nCác căn bậc hai của -9 là $3i$ và $-3i$.\n"
        ],
        [
         "38",
         "Viết số phức $z = 6 + 6i$ dưới dạng lượng giác?",
         "Ta có: $|z| = r = \\sqrt{6^2 + 6^2} = 6\\sqrt{2}$. Chọn $\\varphi$ là số thực thỏa mãn \\sqrt{6^2 + 6^2} $\\Rightarrow \\varphi = \\frac{\\pi}{4}$. Do đó, dạng lượng giác của số phức z là: $z = 6\\sqrt{2}(cos\\frac{\\pi}{4} + i.sin\\frac{\\pi}{4})$",
         "$z = 6\\sqrt{2}(cos\\frac{\\pi}{4} + i.sin\\frac{\\pi}{4})$",
         "\nĐể viết số phức $z = 6 + 6i$ dưới dạng lượng giác, ta cần xác định hai thông số: độ lớn $r$ và góc $\\theta$.\n\n1. **Tính độ lớn $r$**:\n   Độ lớn của số phức $z$ được tính bằng công thức:\n   \\[\n   r = |z| = \\sqrt{x^2 + y^2}\n   \\]\n   với $x$ là phần thực và $y$ là phần ảo của số phức. Ở đây, $x = 6$ và $y = 6$.\n\n   Thay vào công thức:\n   \\[\n   r = \\sqrt{6^2 + 6^2} = \\sqrt{36 + 36} = \\sqrt{72} = 6\\sqrt{2}\n   \\]\n\n2. **Tính góc $\\theta$**:\n   Góc $\\theta$ được tính bằng công thức:\n   \\[\n   \\theta = \\tan^{-1}\\left(\\frac{y}{x}\\right)\n   \\]\n   Thay $y = 6$ và $x = 6$ vào công thức:\n   \\[\n   \\theta = \\tan^{-1}\\left(\\frac{6}{6}\\right) = \\tan^{-1}(1) = \\frac{\\pi}{4}\n   \\]\n\n3. **Viết số phức dưới dạng lượng giác**:\n   Số phức $z$ có thể được viết dưới dạng lượng giác như sau:\n   \\[\n   z = r(\\cos \\theta + i \\sin \\theta)\n   \\]\n   Thay $r$ và $\\theta$ vào:\n   \\[\n   z = 6\\sqrt{2} \\left( \\cos\\left(\\frac{\\pi}{4}\\right) + i \\sin\\left(\\frac{\\pi}{4}\\right) \\right)\n   \\]\n\nVậy số phức $z = 6 + 6i$ dưới dạng lượng giác là:\n\\[\nz = 6\\sqrt{2} \\left( \\cos\\left(\\frac{\\pi}{4}\\right) + i \\sin\\left(\\frac{\\pi}{4}\\right) \\right)\n\\]\n",
         "\n$z = 6\\sqrt{2} \\left( \\cos\\left(\\frac{\\pi}{4}\\right) + i \\sin\\left(\\frac{\\pi}{4}\\right) \\right)$\n"
        ],
        [
         "39",
         "Viết số 10 dưới dạng lượng giác?",
         "Ta có: Số 10 có mô đun là 10 và có một acgumen bằng 0 nên nó có dạng lượng giác là: $10.(cos0 + i.sin0).$",
         "$10.(cos0 + i.sin0)$",
         "\nĐể viết số $10$ dưới dạng lượng giác, ta có thể sử dụng các hàm lượng giác như $\\sin$ và $\\cos$. Một cách đơn giản để biểu diễn số $10$ là sử dụng công thức:\n\n\\[\n10 = 10 \\cdot \\left( \\cos(0) + i \\sin(0) \\right)\n\\]\n\nTrong đó, $i$ là đơn vị ảo. Tuy nhiên, để biểu diễn số thực $10$ mà không cần đến phần ảo, ta có thể viết:\n\n\\[\n10 = 10 \\cdot \\cos(0)\n\\]\n\nhoặc\n\n\\[\n10 = 10 \\cdot \\sin\\left(\\frac{\\pi}{2}\\right)\n\\]\n\nCả hai biểu thức trên đều đúng vì:\n\n- $\\cos(0) = 1$\n- $\\sin\\left(\\frac{\\pi}{2}\\right) = 1$\n\nDo đó, số $10$ có thể được viết dưới dạng lượng giác như sau:\n\n\\[\n10 = 10 \\cdot \\cos(0) = 10 \\cdot \\sin\\left(\\frac{\\pi}{2}\\right)\n\\]\n\n",
         "\n$10 = 10 \\cdot \\cos(0) = 10 \\cdot \\sin\\left(\\frac{\\pi}{2}\\right)$\n"
        ],
        [
         "40",
         "Viết $-\\frac{\\sqrt{3}}{2}$ dưới dạng lượng giác.",
         "Số $-\\frac{\\sqrt{3}}{2}$ có mô đun là $\\frac{\\sqrt{3}}{2}$, có một acgumen là $\\pi$ nên số đó có dạng lượng giác là: $-\\frac{\\sqrt{3}}{2} = \\frac{\\sqrt{3}}{2}(cos\\pi + i.sin\\pi)$",
         "$-\\frac{\\sqrt{3}}{2} = \\frac{\\sqrt{3}}{2}(cos\\pi + i.sin\\pi)$",
         "\nĐể viết $-\\frac{\\sqrt{3}}{2}$ dưới dạng lượng giác, ta cần tìm một góc $\\theta$ sao cho:\n\n\\[\n\\sin(\\theta) = -\\frac{\\sqrt{3}}{2}\n\\]\n\nTa biết rằng:\n\n\\[\n\\sin\\left(-\\frac{\\pi}{3}\\right) = -\\sin\\left(\\frac{\\pi}{3}\\right) = -\\frac{\\sqrt{3}}{2}\n\\]\n\nNgoài ra, $\\sin\\left(\\frac{4\\pi}{3}\\right)$ cũng cho giá trị tương tự, vì:\n\n\\[\n\\sin\\left(\\frac{4\\pi}{3}\\right) = -\\frac{\\sqrt{3}}{2}\n\\]\n\nVậy, các góc $\\theta$ có thể viết dưới dạng lượng giác là:\n\n\\[\n\\theta = -\\frac{\\pi}{3} + 2k\\pi \\quad \\text{hoặc} \\quad \\theta = \\frac{4\\pi}{3} + 2k\\pi \\quad (k \\in \\mathbb{Z})\n\\]\n\nDo đó, $-\\frac{\\sqrt{3}}{2}$ có thể được viết dưới dạng lượng giác như sau:\n\n\\[\n-\\frac{\\sqrt{3}}{2} = \\sin\\left(-\\frac{\\pi}{3}\\right) \\quad \\text{hoặc} \\quad \\sin\\left(\\frac{4\\pi}{3}\\right)\n\\]\n",
         "\n$-\\frac{\\sqrt{3}}{2} = \\sin\\left(-\\frac{\\pi}{3}\\right) \\quad \\text{hoặc} \\quad \\sin\\left(\\frac{4\\pi}{3}\\right)$\n"
        ],
        [
         "41",
         "Viết số phức $z = \\frac{1}{2 + 2i}$ dưới dạng lượng giác?",
         "Ta có : $z = \\frac{1}{2 + 2i} = \\frac{1}{2(1 + i)} = \\frac{1 - i}{2(1 + i)(1 - i)} = \\frac{1 - i}{4} = \\frac{1}{4} - \\frac{i}{4}$. Ta có $|z| = \\sqrt{(\\frac{1}{4})^2 + (\\frac{-1}{4})^2} = \\frac{\\sqrt{2}}{4}$. Một acgumen là $\\varphi$ thỏa mãn: $cos\\varphi = \\frac{1}{\\sqrt{2}}$; $sin\\varphi = \\frac{-1}{\\sqrt{2}} => \\varphi = -\\frac{\\pi}{4}$. Do đó ,dạng lượng giác của số phức z là: $z = \\frac{1}{2 + 2i} = \\frac{\\sqrt{2}}{4}[cos(-\\frac{\\pi}{4}) + i sin(-\\frac{\\pi}{4})].$",
         "$z = \\frac{1}{2 + 2i} = \\frac{\\sqrt{2}}{4}[cos(-\\frac{\\pi}{4}) + i sin(-\\frac{\\pi}{4})].$",
         "\nĐể viết số phức $z = \\frac{1}{2 + 2i}$ dưới dạng lượng giác, ta thực hiện các bước sau:\n\n1. **Nhân tử liên hợp**: Để loại bỏ phần ảo trong mẫu số, ta nhân cả tử và mẫu với tử liên hợp của mẫu số. Tử liên hợp của $2 + 2i$ là $2 - 2i$.\n\n   \\[\n   z = \\frac{1}{2 + 2i} \\cdot \\frac{2 - 2i}{2 - 2i} = \\frac{2 - 2i}{(2 + 2i)(2 - 2i)}\n   \\]\n\n2. **Tính mẫu số**: Tính tích $(2 + 2i)(2 - 2i)$:\n\n   \\[\n   (2 + 2i)(2 - 2i) = 2^2 - (2i)^2 = 4 - (-4) = 4 + 4 = 8\n   \\]\n\n3. **Thay vào biểu thức**: Thay giá trị mẫu số vào biểu thức của $z$:\n\n   \\[\n   z = \\frac{2 - 2i}{8} = \\frac{1}{4} - \\frac{1}{4}i\n   \\]\n\n4. **Chuyển sang dạng lượng giác**: Để chuyển sang dạng lượng giác, ta cần tính độ lớn và góc của số phức.\n\n   - **Độ lớn**: \n\n   \\[\n   |z| = \\sqrt{\\left(\\frac{1}{4}\\right)^2 + \\left(-\\frac{1}{4}\\right)^2} = \\sqrt{\\frac{1}{16} + \\frac{1}{16}} = \\sqrt{\\frac{2}{16}} = \\sqrt{\\frac{1}{8}} = \\frac{1}{2\\sqrt{2}} = \\frac{\\sqrt{2}}{4}\n   \\]\n\n   - **Góc**: \n\n   \\[\n   \\theta = \\tan^{-1}\\left(\\frac{-\\frac{1}{4}}{\\frac{1}{4}}\\right) = \\tan^{-1}(-1) = -\\frac{\\pi}{4}\n   \\]\n\n5. **Viết dưới dạng lượng giác**: Cuối cùng, ta có thể viết số phức $z$ dưới dạng lượng giác:\n\n   \\[\n   z = |z| \\left( \\cos \\theta + i \\sin \\theta \\right) = \\frac{\\sqrt{2}}{4} \\left( \\cos\\left(-\\frac{\\pi}{4}\\right) + i \\sin\\left(-\\frac{\\pi}{4}\\right) \\right)\n   \\]\n\n   Hoặc có thể viết gọn lại:\n\n   \\[\n   z = \\frac{\\sqrt{2}}{4} \\text{cis}\\left(-\\frac{\\pi}{4}\\right)\n   \\]\n\n",
         "\n$z = \\frac{\\sqrt{2}}{4} \\text{cis}\\left(-\\frac{\\pi}{4}\\right)$\n"
        ],
        [
         "42",
         "Viết số phức z = 100i dưới dạng lượng giác?",
         "Ta có: $|z| = \\sqrt{0^2 + 100^2} = 100$. Gọi $\\varphi$ là một acgumen của z thì $\\varphi$ thỏa mãn: $cos\\varphi = 0; sin\\varphi = 1 => \\varphi = \\frac{\\pi}{2}$. Do đó, dạng lượng giác của số phức z là: $z = 100(cos\\frac{\\pi}{2} + i.sin\\frac{\\pi}{2})$",
         "$z = 100(cos\\frac{\\pi}{2} + i.sin\\frac{\\pi}{2})$",
         "\nĐể viết số phức $z = 100i$ dưới dạng lượng giác, ta cần xác định mô-đun và góc của số phức này.\n\n1. **Mô-đun**: Mô-đun của số phức $z = a + bi$ được tính bằng công thức:\n   \\[\n   |z| = \\sqrt{a^2 + b^2}\n   \\]\n   Trong trường hợp này, $a = 0$ và $b = 100$. Do đó:\n   \\[\n   |z| = \\sqrt{0^2 + 100^2} = \\sqrt{10000} = 100\n   \\]\n\n2. **Góc**: Góc của số phức được tính bằng công thức:\n   \\[\n   \\theta = \\tan^{-1}\\left(\\frac{b}{a}\\right)\n   \\]\n   Ở đây, $a = 0$ và $b = 100$. Vì $a = 0$ và $b > 0$, số phức nằm trên trục ảo dương, do đó:\n   \\[\n   \\theta = \\frac{\\pi}{2}\n   \\]\n\n3. **Dạng lượng giác**: Số phức có thể được viết dưới dạng lượng giác như sau:\n   \\[\n   z = |z| \\left( \\cos \\theta + i \\sin \\theta \\right)\n   \\]\n   Thay các giá trị đã tìm được vào công thức:\n   \\[\n   z = 100 \\left( \\cos\\left(\\frac{\\pi}{2}\\right) + i \\sin\\left(\\frac{\\pi}{2}\\right) \\right)\n   \\]\n\nVậy số phức $z = 100i$ dưới dạng lượng giác là:\n\\[\nz = 100 \\left( 0 + i \\cdot 1 \\right) = 100 \\left( \\cos\\left(\\frac{\\pi}{2}\\right) + i \\sin\\left(\\frac{\\pi}{2}\\right) \\right)\n\\]\n",
         "\n$z = 100 \\left( \\cos\\left(\\frac{\\pi}{2}\\right) + i \\sin\\left(\\frac{\\pi}{2}\\right) \\right)$\n"
        ],
        [
         "43",
         "Viết số phức sau dưới dạng lượng giác $z = (1 - i\\sqrt{3}).(1 + i)$",
         "Ta có: $1 - i\\sqrt{3} = 2.[cos(-\\frac{\\pi}{3}) + i sin(-\\frac{\\pi}{3})]$ và $1 + i = \\sqrt{2}[cos\\frac{\\pi}{4} + i.sin\\frac{\\pi}{4}]$. Áp dụng công thức nhân, chia số phức ta được: $z = (1 - i\\sqrt{3})(1 + i) = 2\\sqrt{2}[cos(-\\frac{\\pi}{12}) + i.sin(-\\frac{\\pi}{12})]$",
         "$2\\sqrt{2}[cos(-\\frac{\\pi}{12}) + i.sin(-\\frac{\\pi}{12})]$",
         "\nĐể viết số phức $z = (1 - i\\sqrt{3})(1 + i)$ dưới dạng lượng giác, ta thực hiện các bước sau:\n\n1. **Tính tích của hai số phức**:\n   \\[\n   z = (1 - i\\sqrt{3})(1 + i) = 1 \\cdot 1 + 1 \\cdot i - i\\sqrt{3} \\cdot 1 - i\\sqrt{3} \\cdot i\n   \\]\n   \\[\n   = 1 + i - i\\sqrt{3} + \\sqrt{3}\n   \\]\n   \\[\n   = (1 + \\sqrt{3}) + (1 - \\sqrt{3})i\n   \\]\n\n2. **Xác định phần thực và phần ảo**:\n   - Phần thực: $a = 1 + \\sqrt{3}$\n   - Phần ảo: $b = 1 - \\sqrt{3}$\n\n3. **Tính độ lớn của số phức**:\n   \\[\n   |z| = \\sqrt{a^2 + b^2} = \\sqrt{(1 + \\sqrt{3})^2 + (1 - \\sqrt{3})^2}\n   \\]\n   Tính từng phần:\n   \\[\n   (1 + \\sqrt{3})^2 = 1 + 2\\sqrt{3} + 3 = 4 + 2\\sqrt{3}\n   \\]\n   \\[\n   (1 - \\sqrt{3})^2 = 1 - 2\\sqrt{3} + 3 = 4 - 2\\sqrt{3}\n   \\]\n   Cộng lại:\n   \\[\n   |z| = \\sqrt{(4 + 2\\sqrt{3}) + (4 - 2\\sqrt{3})} = \\sqrt{8} = 2\\sqrt{2}\n   \\]\n\n4. **Tính góc của số phức**:\n   \\[\n   \\theta = \\tan^{-1}\\left(\\frac{b}{a}\\right) = \\tan^{-1}\\left(\\frac{1 - \\sqrt{3}}{1 + \\sqrt{3}}\\right)\n   \\]\n   Để tính $\\theta$, ta có thể sử dụng công thức:\n   \\[\n   \\tan(\\theta) = \\frac{1 - \\sqrt{3}}{1 + \\sqrt{3}} = \\frac{(1 - \\sqrt{3})(1 - \\sqrt{3})}{(1 + \\sqrt{3})(1 - \\sqrt{3})} = \\frac{(1 - 2\\sqrt{3} + 3)}{(1 - 3)} = \\frac{4 - 2\\sqrt{3}}{-2} = \\sqrt{3} - 2\n   \\]\n   Từ đó, ta có thể xác định góc $\\theta$.\n\n5. **Viết số phức dưới dạng lượng giác**:\n   Cuối cùng, số phức $z$ có thể được viết dưới dạng lượng giác như sau:\n   \\[\n   z = |z| \\left( \\cos(\\theta) + i \\sin(\\theta) \\right)\n   \\]\n   Thay vào:\n   \\[\n   z = 2\\sqrt{2} \\left( \\cos(\\theta) + i \\sin(\\theta) \\right)\n   \\]\n\nKết quả cuối cùng là:\n\\[\nz = 2\\sqrt{2} \\left( \\cos(\\theta) + i \\sin(\\theta) \\right)\n\\]\n",
         "\n$z = 2\\sqrt{2} \\left( \\cos(\\theta) + i \\sin(\\theta) \\right)$\n"
        ],
        [
         "44",
         "Viết số phức sau dưới dạng lượng giác $z = \\frac{2 + 2i}{1 + \\sqrt{3}i}$",
         "Ta có: $2 + 2i = 2\\sqrt{2}[cos\\frac{\\pi}{4} + i.sin\\frac{\\pi}{4}]$ và $1 + \\sqrt{3}i = 2.[cos\\frac{\\pi}{3} + i.sin\\frac{\\pi}{3}]$. Do đó: $z = \\frac{2 + 2i}{1 + \\sqrt{3}i} = \\frac{2\\sqrt{2}[cos\\frac{\\pi}{4} + i.sin\\frac{\\pi}{4}]}{2.[cos\\frac{\\pi}{3} + i.sin\\frac{\\pi}{3}]} = \\sqrt{2}[cos(-\\frac{\\pi}{12}) + i.sin(-\\frac{\\pi}{12})]$",
         "$\\sqrt{2}[cos(-\\frac{\\pi}{12}) + i.sin(-\\frac{\\pi}{12})]$",
         "\nĐể viết số phức $z = \\frac{2 + 2i}{1 + \\sqrt{3}i}$ dưới dạng lượng giác, ta thực hiện các bước sau:\n\n1. **Nhân tử liên hợp**: Để loại bỏ phần ảo ở mẫu số, ta nhân cả tử và mẫu với liên hợp của mẫu số. Liên hợp của $1 + \\sqrt{3}i$ là $1 - \\sqrt{3}i$.\n\n   \\[\n   z = \\frac{(2 + 2i)(1 - \\sqrt{3}i)}{(1 + \\sqrt{3}i)(1 - \\sqrt{3}i)}\n   \\]\n\n2. **Tính mẫu số**: \n\n   \\[\n   (1 + \\sqrt{3}i)(1 - \\sqrt{3}i) = 1^2 - (\\sqrt{3}i)^2 = 1 - (-3) = 1 + 3 = 4\n   \\]\n\n3. **Tính tử số**:\n\n   \\[\n   (2 + 2i)(1 - \\sqrt{3}i) = 2 \\cdot 1 + 2 \\cdot (-\\sqrt{3}i) + 2i \\cdot 1 + 2i \\cdot (-\\sqrt{3}i\n   \\]\n   \\[\n   = 2 - 2\\sqrt{3}i + 2i - 2\\sqrt{3}(-1) = 2 + 2\\sqrt{3} + (2 - 2\\sqrt{3})i\n   \\]\n   \\[\n   = (2 + 2\\sqrt{3}) + (2 - 2\\sqrt{3})i\n   \\]\n\n4. **Kết hợp lại**:\n\n   \\[\n   z = \\frac{(2 + 2\\sqrt{3}) + (2 - 2\\sqrt{3})i}{4} = \\frac{2 + 2\\sqrt{3}}{4} + \\frac{(2 - 2\\sqrt{3})i}{4}\n   \\]\n   \\[\n   = \\frac{1 + \\sqrt{3}}{2} + \\frac{1 - \\sqrt{3}}{2}i\n   \\]\n\n5. **Chuyển sang dạng lượng giác**: Để chuyển sang dạng lượng giác, ta cần tính độ lớn và góc của số phức.\n\n   - **Độ lớn**:\n\n   \\[\n   |z| = \\sqrt{\\left(\\frac{1 + \\sqrt{3}}{2}\\right)^2 + \\left(\\frac{1 - \\sqrt{3}}{2}\\right)^2}\n   \\]\n   \\[\n   = \\sqrt{\\frac{(1 + \\sqrt{3})^2 + (1 - \\sqrt{3})^2}{4}} = \\sqrt{\\frac{1 + 2\\sqrt{3} + 3 + 1 - 2\\sqrt{3} + 3}{4}} = \\sqrt{\\frac{8}{4}} = \\sqrt{2}\n   \\]\n\n   - **Góc**:\n\n   \\[\n   \\theta = \\tan^{-1}\\left(\\frac{\\frac{1 - \\sqrt{3}}{2}}{\\frac{1 + \\sqrt{3}}{2}}\\right) = \\tan^{-1}\\left(\\frac{1 - \\sqrt{3}}{1 + \\sqrt{3}}\\right)\n   \\]\n\n   Để tính $\\theta$, ta có thể sử dụng công thức:\n\n   \\[\n   \\tan(\\theta) = \\frac{1 - \\sqrt{3}}{1 + \\sqrt{3}} = \\tan\\left(-\\frac{\\pi}{6}\\right)\n   \\]\n\n   Vậy $\\theta = -\\frac{\\pi}{6}$.\n\n6. **Viết dưới dạng lượng giác**:\n\n   Cuối cùng, số phức $z$ có thể được viết dưới dạng lượng giác như sau:\n\n   \\[\n   z = |z| \\left(\\cos(\\theta) + i\\sin(\\theta)\\right) = \\sqrt{2} \\left(\\cos\\left(-\\frac{\\pi}{6}\\right) + i\\sin\\left(-\\frac{\\pi}{6}\\right)\\right)\n   \\]\n\n   Hoặc:\n\n   \\[\n   z = \\sqrt{2} \\text{cis}\\left(-\\frac{\\pi}{6}\\right)\n   \\]\n\n",
         "\n$z = \\sqrt{2} \\text{cis}\\left(-\\frac{\\pi}{6}\\right)$\n"
        ],
        [
         "45",
         "Viết số phức sau dưới dạng lượng giác $z = \\frac{3}{10\\sqrt{3} + 10i}$",
         "Ta có: $3 = 3.(cos0 + i.sin0)$ và $10\\sqrt{3} + 10i = 20.(cos\\frac{\\pi}{6} + i.sin\\frac{\\pi}{6})$. Do đó, $z = \\frac{3}{10\\sqrt{3} + 10i} = \\frac{3.(cos 0 + i.sin 0)}{20.(cos\\frac{\\pi}{6} + i.sin\\frac{\\pi}{6})} = \\frac{3}{20}(cos(-\\frac{\\pi}{6}) + i.sin(-\\frac{\\pi}{6}))$",
         "$\\frac{3}{20}(cos(-\\frac{\\pi}{6}) + i.sin(-\\frac{\\pi}{6}))$",
         "\nĐể viết số phức $z = \\frac{3}{10\\sqrt{3} + 10i}$ dưới dạng lượng giác, ta thực hiện các bước sau:\n\n1. **Nhân tử liên hợp**: Để loại bỏ phần ảo trong mẫu số, ta nhân cả tử và mẫu với liên hợp của mẫu số. Liên hợp của $10\\sqrt{3} + 10i$ là $10\\sqrt{3} - 10i$.\n\n   \\[\n   z = \\frac{3(10\\sqrt{3} - 10i)}{(10\\sqrt{3} + 10i)(10\\sqrt{3} - 10i)}\n   \\]\n\n2. **Tính mẫu số**: Sử dụng công thức $(a + b)(a - b) = a^2 - b^2$:\n\n   \\[\n   (10\\sqrt{3})^2 - (10i)^2 = 300 - (-100) = 300 + 100 = 400\n   \\]\n\n3. **Tính tử số**:\n\n   \\[\n   3(10\\sqrt{3} - 10i) = 30\\sqrt{3} - 30i\n   \\]\n\n4. **Viết lại số phức**:\n\n   \\[\n   z = \\frac{30\\sqrt{3} - 30i}{400} = \\frac{30\\sqrt{3}}{400} - \\frac{30i}{400} = \\frac{3\\sqrt{3}}{40} - \\frac{3i}{40}\n   \\]\n\n5. **Chuyển sang dạng lượng giác**: Để chuyển sang dạng lượng giác, ta cần tính mô-đun và góc của số phức.\n\n   - **Mô-đun**:\n\n   \\[\n   |z| = \\sqrt{\\left(\\frac{3\\sqrt{3}}{40}\\right)^2 + \\left(-\\frac{3}{40}\\right)^2} = \\sqrt{\\frac{27}{1600} + \\frac{9}{1600}} = \\sqrt{\\frac{36}{1600}} = \\frac{6}{40} = \\frac{3}{20}\n   \\]\n\n   - **Góc**:\n\n   \\[\n   \\theta = \\tan^{-1}\\left(\\frac{-\\frac{3}{40}}{\\frac{3\\sqrt{3}}{40}}\\right) = \\tan^{-1}\\left(-\\frac{1}{\\sqrt{3}}\\right) = -\\frac{\\pi}{6}\n   \\]\n\n6. **Viết dưới dạng lượng giác**:\n\n   \\[\n   z = |z| \\left(\\cos \\theta + i \\sin \\theta\\right) = \\frac{3}{20} \\left(\\cos\\left(-\\frac{\\pi}{6}\\right) + i \\sin\\left(-\\frac{\\pi}{6}\\right)\\right)\n   \\]\n\n   Sử dụng tính chất của cos và sin:\n\n   \\[\n   z = \\frac{3}{20} \\left(\\frac{\\sqrt{3}}{2} - i \\frac{1}{2}\\right)\n   \\]\n\n   Cuối cùng, ta có:\n\n   \\[\n   z = \\frac{3\\sqrt{3}}{40} - \\frac{3i}{40}\n   \\]\n\n",
         "\n$z = \\frac{3}{20} \\left(\\cos\\left(-\\frac{\\pi}{6}\\right) + i \\sin\\left(-\\frac{\\pi}{6}\\right)\\right)$\n"
        ],
        [
         "46",
         "Viết số phức sau dưới dạng lượng giác $z = \\frac{1 - i}{(\\sqrt{3} + i)(2 + 2i)}$",
         "Ta có: $\\sqrt{3} + i = 2(cos\\frac{\\pi}{6} + i.sin\\frac{\\pi}{6})$ và $2 + 2i = 2\\sqrt{2}.(cos\\frac{\\pi}{4} + i.sin\\frac{\\pi}{4}) \\Rightarrow (\\sqrt{3} + 1)(2 + 2i) = 4\\sqrt{2}(cos\\frac{5\\pi}{12} + i.sin\\frac{5\\pi}{12})$. Lại có: $1 - i = \\sqrt{2}.(cos(-\\frac{\\pi}{4}) + i.sin(-\\frac{\\pi}{4}))$. Suy ra: $z = \\frac{1 - i}{(\\sqrt{3} + i)(2 + 2i)} = \\frac{\\sqrt{2}}{4\\sqrt{2}}[cos(-\\frac{5\\pi}{12}) + i.sin(-\\frac{5\\pi}{12})] = \\frac{1}{4}[cos(-\\frac{2\\pi}{3}) + i.sin(-\\frac{2\\pi}{3})]$",
         "$\\frac{1}{4}[cos(-\\frac{2\\pi}{3}) + i.sin(-\\frac{2\\pi}{3})]$",
         "\nĐể viết số phức $z = \\frac{1 - i}{(\\sqrt{3} + i)(2 + 2i)}$ dưới dạng lượng giác, ta thực hiện các bước sau:\n\n**Bước 1: Tính mẫu số**\n\nTính tích của hai số phức trong mẫu số:\n\n\\[\n(\\sqrt{3} + i)(2 + 2i) = \\sqrt{3} \\cdot 2 + \\sqrt{3} \\cdot 2i + i \\cdot 2 + i \\cdot 2i\n\\]\n\nTính từng phần:\n\n- Phần thực: $2\\sqrt{3} - 2$ (vì $i^2 = -1$)\n- Phần ảo: $2\\sqrt{3} + 2$\n\nVậy:\n\n\\[\n(\\sqrt{3} + i)(2 + 2i) = (2\\sqrt{3} - 2) + (2\\sqrt{3} + 2)i\n\\]\n\n**Bước 2: Tính tử số**\n\nTử số là $1 - i$.\n\n**Bước 3: Chia số phức**\n\nTa có:\n\n\\[\nz = \\frac{1 - i}{(2\\sqrt{3} - 2) + (2\\sqrt{3} + 2)i}\n\\]\n\nĐể chia số phức, ta nhân cả tử và mẫu với phần liên hợp của mẫu số:\n\n\\[\nz = \\frac{(1 - i)((2\\sqrt{3} - 2) - (2\\sqrt{3} + 2)i)}{((2\\sqrt{3} - 2) + (2\\sqrt{3} + 2)i)((2\\sqrt{3} - 2) - (2\\sqrt{3} + 2)i)}\n\\]\n\n**Bước 4: Tính mẫu số sau khi nhân với liên hợp**\n\nMẫu số trở thành:\n\n\\[\n(2\\sqrt{3} - 2)^2 + (2\\sqrt{3} + 2)^2\n\\]\n\nTính từng phần:\n\n\\[\n(2\\sqrt{3} - 2)^2 = 4(3) - 8\\sqrt{3} + 4 = 12 - 8\\sqrt{3} + 4 = 16 - 8\\sqrt{3}\n\\]\n\n\\[\n(2\\sqrt{3} + 2)^2 = 4(3) + 8\\sqrt{3} + 4 = 12 + 8\\sqrt{3} + 4 = 16 + 8\\sqrt{3}\n\\]\n\nVậy:\n\n\\[\n(2\\sqrt{3} - 2)^2 + (2\\sqrt{3} + 2)^2 = (16 - 8\\sqrt{3}) + (16 + 8\\sqrt{3}) = 32\n\\]\n\n**Bước 5: Tính tử số**\n\nTử số là:\n\n\\[\n(1 - i)((2\\sqrt{3} - 2) - (2\\sqrt{3} + 2)i) = (1 \\cdot (2\\sqrt{3} - 2) - i(2\\sqrt{3} - 2) - i(2\\sqrt{3} + 2) + i^2(2\\sqrt{3} + 2))\n\\]\n\nTính từng phần:\n\n\\[\n= (2\\sqrt{3} - 2) - (2\\sqrt{3} - 2)i - (2\\sqrt{3} + 2)i - (2\\sqrt{3} + 2)\n\\]\n\n\\[\n= (2\\sqrt{3} - 2 - (2\\sqrt{3} + 2)) + (-(2\\sqrt{3} - 2) - (2\\sqrt{3} + 2))i\n\\]\n\n\\[\n= (2\\sqrt{3} - 2 - 2\\sqrt{3} - 2) + (-(2\\sqrt{3} - 2 + 2\\sqrt{3} + 2))i\n\\]\n\n\\[\n= -4 + (-4\\sqrt{3})i\n\\]\n\n**Bước 6: Kết quả cuối cùng**\n\nVậy:\n\n\\[\nz = \\frac{-4 - 4\\sqrt{3}i}{32} = -\\frac{1}{8} - \\frac{\\sqrt{3}}{8}i\n\\]\n\n**Bước 7: Chuyển sang dạng lượng giác**\n\nĐể chuyển sang dạng lượng giác, ta tính độ lớn và góc:\n\n- Độ lớn:\n\n\\[\n|z| = \\sqrt{\\left(-\\frac{1}{8}\\right)^2 + \\left(-\\frac{\\sqrt{3}}{8}\\right)^2} = \\sqrt{\\frac{1}{64} + \\frac{3}{64}} = \\sqrt{\\frac{4}{64}} = \\frac{1}{4}\n\\]\n\n- Góc:\n\n\\[\n\\theta = \\tan^{-1}\\left(\\frac{-\\frac{\\sqrt{3}}{8}}{-\\frac{1}{8}}\\right) = \\tan^{-1}(\\sqrt{3}) = \\frac{5\\pi}{3} \\text{ (vì z nằm trong phần tư 3)}\n\\]\n\nVậy số phức $z$ dưới dạng lượng giác là:\n\n\\[\nz = \\frac{1}{4} \\left( \\cos\\left(\\frac{5\\pi}{3}\\right) + i \\sin\\left(\\frac{5\\pi}{3}\\right) \\right)\n\\]\n\n",
         "\n$z = \\frac{1}{4} \\left( \\cos\\left(\\frac{5\\pi}{3}\\right) + i \\sin\\left(\\frac{5\\pi}{3}\\right) \\right)$\n"
        ],
        [
         "47",
         "Viết số phức sau dưới dạng lượng giác: $z = (\\sqrt{2} + \\sqrt{2}i)^{10}$",
         "Ta có: $\\sqrt{2} + \\sqrt{2}i = 2.(cos\\frac{\\pi}{4} + i.sin\\frac{\\pi}{4})$. Do đó, $z = (\\sqrt{2} + \\sqrt{2}i)^{10} = [2.(cos\\frac{\\pi}{4} + i.sin\\frac{\\pi}{4})]^{10} = 2^{10}.(cos\\frac{10\\pi}{4} + i.sin\\frac{10\\pi}{4}) = 2^{10}.(cos\\frac{5\\pi}{2} + i.sin\\frac{5\\pi}{2})$",
         "$2^{10}.(cos\\frac{5\\pi}{2} + i.sin\\frac{5\\pi}{2})$",
         "\nĐể viết số phức $z = (\\sqrt{2} + \\sqrt{2}i)^{10}$ dưới dạng lượng giác, ta thực hiện các bước sau:\n\n1. **Tìm mô-đun và góc của số phức**:\n   - Mô-đun của số phức $z_0 = \\sqrt{2} + \\sqrt{2}i$ được tính bằng công thức:\n     \\[\n     r = |z_0| = \\sqrt{(\\sqrt{2})^2 + (\\sqrt{2})^2} = \\sqrt{2 + 2} = \\sqrt{4} = 2\n     \\]\n   - Góc (argument) của số phức $z_0$ được tính bằng:\n     \\[\n     \\theta = \\tan^{-1}\\left(\\frac{\\text{Im}(z_0)}{\\text{Re}(z_0)}\\right) = \\tan^{-1}\\left(\\frac{\\sqrt{2}}{\\sqrt{2}}\\right) = \\tan^{-1}(1) = \\frac{\\pi}{4}\n     \\]\n\n2. **Viết số phức dưới dạng lượng giác**:\n   - Số phức $z_0$ có thể được viết dưới dạng lượng giác như sau:\n     \\[\n     z_0 = r(\\cos \\theta + i \\sin \\theta) = 2\\left(\\cos\\frac{\\pi}{4} + i \\sin\\frac{\\pi}{4}\\right)\n     \\]\n\n3. **Tính lũy thừa của số phức**:\n   - Theo định lý De Moivre, ta có:\n     \\[\n     z = z_0^{10} = r^{10}\\left(\\cos(10\\theta) + i \\sin(10\\theta)\\right)\n     \\]\n   - Tính $r^{10}$:\n     \\[\n     r^{10} = 2^{10} = 1024\n     \\]\n   - Tính $10\\theta$:\n     \\[\n     10\\theta = 10 \\cdot \\frac{\\pi}{4} = \\frac{10\\pi}{4} = \\frac{5\\pi}{2}\n     \\]\n\n4. **Tính cos và sin của góc**:\n   - Ta có:\n     \\[\n     \\cos\\left(\\frac{5\\pi}{2}\\right) = \\cos\\left(\\frac{\\pi}{2}\\right) = 0\n     \\]\n     \\[\n     \\sin\\left(\\frac{5\\pi}{2}\\right) = \\sin\\left(\\frac{\\pi}{2}\\right) = 1\n     \\]\n\n5. **Kết hợp lại để có kết quả cuối cùng**:\n   - Vậy số phức $z$ được viết dưới dạng lượng giác là:\n     \\[\n     z = 1024\\left(\\cos\\left(\\frac{5\\pi}{2}\\right) + i \\sin\\left(\\frac{5\\pi}{2}\\right)\\right) = 1024(0 + i \\cdot 1) = 1024i\n     \\]\n\n",
         "\n$z = 1024i$\n"
        ],
        [
         "48",
         "Viết số phức sau dưới dạng lượng giác $z = \\frac{(1 - i)^{10}}{(\\sqrt{3} + i)^9}$",
         "Ta có: $1 - i = \\sqrt{2}[cos(-\\frac{\\pi}{4}) + i.sin(-\\frac{\\pi}{4})] \\Rightarrow (1 - i)^{10} = (\\sqrt{2})^{10}.[cos(-10.\\frac{\\pi}{4}) + i.sin(-10.\\frac{\\pi}{4})] = 2^5[cos(-\\frac{5\\pi}{2}) + i.sin(-\\frac{5\\pi}{2})]$. Lại có: $\\sqrt{3} + i = 2(cos\\frac{\\pi}{6} + i.sin\\frac{\\pi}{6}) \\Rightarrow (\\sqrt{3} + i)^9 = 2^9.(cos9.\\frac{\\pi}{6} + i.sin9.\\frac{\\pi}{6}) = 2^9.(cos\\frac{3\\pi}{2} + i.sin\\frac{3\\pi}{2})$. Do đó, $z = \\frac{(1 - i)^{10}}{(\\sqrt{3} + i)^9} = \\frac{2^5[cos(-\\frac{5\\pi}{2}) + i.sin(-\\frac{5\\pi}{2})]}{2^9.(cos\\frac{3\\pi}{2} + i.sin\\frac{3\\pi}{2})} = \\frac{1}{2^4}(cos(-4\\pi) + i.sin(-4\\pi))$",
         "$\\frac{1}{2^4}(cos(-4\\pi) + i.sin(-4\\pi))$",
         "\nĐể viết số phức $z = \\frac{(1 - i)^{10}}{(\\sqrt{3} + i)^9}$ dưới dạng lượng giác, ta sẽ thực hiện các bước sau:\n\n**Bước 1: Chuyển đổi từng số phức sang dạng lượng giác.**\n\n1. **Số phức $1 - i$:**\n   - Độ lớn: \n   \\[\n   r_1 = |1 - i| = \\sqrt{1^2 + (-1)^2} = \\sqrt{2}\n   \\]\n   - Góc: \n   \\[\n   \\theta_1 = \\tan^{-1}\\left(\\frac{-1}{1}\\right) = -\\frac{\\pi}{4}\n   \\]\n   - Dạng lượng giác:\n   \\[\n   1 - i = \\sqrt{2} \\left(\\cos\\left(-\\frac{\\pi}{4}\\right) + i \\sin\\left(-\\frac{\\pi}{4}\\right)\\right)\n   \\]\n\n2. **Số phức $\\sqrt{3} + i$:**\n   - Độ lớn: \n   \\[\n   r_2 = |\\sqrt{3} + i| = \\sqrt{(\\sqrt{3})^2 + 1^2} = \\sqrt{4} = 2\n   \\]\n   - Góc: \n   \\[\n   \\theta_2 = \\tan^{-1}\\left(\\frac{1}{\\sqrt{3}}\\right) = \\frac{\\pi}{6}\n   \\]\n   - Dạng lượng giác:\n   \\[\n   \\sqrt{3} + i = 2 \\left(\\cos\\left(\\frac{\\pi}{6}\\right) + i \\sin\\left(\\frac{\\pi}{6}\\right)\\right)\n   \\]\n\n**Bước 2: Tính lũy thừa của các số phức.**\n\n1. **Tính $(1 - i)^{10}$:**\n   \\[\n   (1 - i)^{10} = \\left(\\sqrt{2}\\right)^{10} \\left(\\cos\\left(10 \\cdot -\\frac{\\pi}{4}\\right) + i \\sin\\left(10 \\cdot -\\frac{\\pi}{4}\\right)\\right) = 2^5 \\left(\\cos\\left(-\\frac{10\\pi}{4}\\right) + i \\sin\\left(-\\frac{10\\pi}{4}\\right)\\right)\n   \\]\n   \\[\n   = 32 \\left(\\cos\\left(-\\frac{5\\pi}{2}\\right) + i \\sin\\left(-\\frac{5\\pi}{2}\\right)\\right) = 32 \\left(\\cos\\left(-\\frac{\\pi}{2}\\right) + i \\sin\\left(-\\frac{\\pi}{2}\\right)\\right) = 32(0 - i) = -32i\n   \\]\n\n2. **Tính $(\\sqrt{3} + i)^9$:**\n   \\[\n   (\\sqrt{3} + i)^9 = 2^9 \\left(\\cos\\left(9 \\cdot \\frac{\\pi}{6}\\right) + i \\sin\\left(9 \\cdot \\frac{\\pi}{6}\\right)\\right) = 512 \\left(\\cos\\left(\\frac{3\\pi}{2}\\right) + i \\sin\\left(\\frac{3\\pi}{2}\\right)\\right)\n   \\]\n   \\[\n   = 512(0 - i) = -512i\n   \\]\n\n**Bước 3: Tính $z$.**\n\n\\[\nz = \\frac{(1 - i)^{10}}{(\\sqrt{3} + i)^9} = \\frac{-32i}{-512i} = \\frac{32}{512} = \\frac{1}{16}\n\\]\n\n**Bước 4: Viết kết quả dưới dạng lượng giác.**\n\nSố phức $z$ có thể được viết dưới dạng lượng giác như sau:\n\\[\nz = \\frac{1}{16} \\left(\\cos(0) + i \\sin(0)\\right)\n\\]\n\n",
         "\n$z = \\frac{1}{16} \\left(\\cos(0) + i \\sin(0)\\right)$\n"
        ],
        [
         "49",
         "Cho số phức $(\\cos \\frac{\\pi}{3} - i.sin\\frac{\\pi}{3})^5(1 + \\sqrt{3}i)^7$. Tìm phần ảo của số phức.",
         "Ta có: $1 + \\sqrt{3}i = 2.(cos\\frac{\\pi}{3} + i.sin\\frac{\\pi}{3})$ và $i^4 = 1$ nên ta có: $(\\cos \\frac{\\pi}{3} - i.sin\\frac{\\pi}{3})^5(1 + \\sqrt{3}i)^7 = (\\cos \\frac{\\pi}{3} - i.sin\\frac{\\pi}{3})^5.i.[2(cos\\frac{\\pi}{3} + i.sin\\frac{\\pi}{3})]^7 = 2^7(cos(-\\frac{\\pi}{3}) + i.sin(-\\frac{\\pi}{3})).[(\\cos \\frac{7\\pi}{3} + i.sin\\frac{7\\pi}{3})] = 2^7[cos2\\pi + i.sin2\\pi] i = 2^7 i$. Vậy phần ảo bằng $2^7 = 128$.",
         "128",
         "\nĐể tìm phần ảo của số phức $z = \\left(\\cos \\frac{\\pi}{3} - i \\sin \\frac{\\pi}{3}\\right)^5 (1 + \\sqrt{3}i)^7$, ta sẽ thực hiện các bước sau:\n\n1. **Biểu diễn số phức dưới dạng số phức Euler**:\n   - Số phức $\\cos \\frac{\\pi}{3} - i \\sin \\frac{\\pi}{3}$ có thể viết lại dưới dạng số phức Euler:\n     \\[\n     \\cos \\frac{\\pi}{3} - i \\sin \\frac{\\pi}{3} = e^{-i \\frac{\\pi}{3}}\n     \\]\n   - Do đó, ta có:\n     \\[\n     \\left(\\cos \\frac{\\pi}{3} - i \\sin \\frac{\\pi}{3}\\right)^5 = \\left(e^{-i \\frac{\\pi}{3}}\\right)^5 = e^{-i \\frac{5\\pi}{3}}\n     \\]\n\n2. **Tính số phức $1 + \\sqrt{3}i$**:\n   - Để biểu diễn số phức này dưới dạng số phức Euler, ta tính mô-đun và góc:\n     \\[\n     |1 + \\sqrt{3}i| = \\sqrt{1^2 + (\\sqrt{3})^2} = \\sqrt{1 + 3} = 2\n     \\]\n     \\[\n     \\theta = \\tan^{-1}\\left(\\frac{\\sqrt{3}}{1}\\right) = \\frac{\\pi}{3}\n     \\]\n   - Vậy:\n     \\[\n     1 + \\sqrt{3}i = 2 \\left(\\cos \\frac{\\pi}{3} + i \\sin \\frac{\\pi}{3}\\right) = 2 e^{i \\frac{\\pi}{3}}\n     \\]\n   - Do đó:\n     \\[\n     (1 + \\sqrt{3}i)^7 = (2 e^{i \\frac{\\pi}{3}})^7 = 2^7 e^{i \\frac{7\\pi}{3}} = 128 e^{i \\frac{7\\pi}{3}}\n     \\]\n\n3. **Kết hợp các phần lại**:\n   - Ta có:\n     \\[\n     z = e^{-i \\frac{5\\pi}{3}} \\cdot 128 e^{i \\frac{7\\pi}{3}} = 128 e^{i \\left(-\\frac{5\\pi}{3} + \\frac{7\\pi}{3}\\right)} = 128 e^{i \\frac{2\\pi}{3}}\n     \\]\n\n4. **Tính phần ảo của số phức**:\n   - Phần ảo của số phức $z$ được tính bằng:\n     \\[\n     \\text{Im}(z) = 128 \\sin\\left(\\frac{2\\pi}{3}\\right)\n     \\]\n   - Ta biết rằng:\n     \\[\n     \\sin\\left(\\frac{2\\pi}{3}\\right) = \\sin\\left(\\pi - \\frac{\\pi}{3}\\right) = \\sin\\left(\\frac{\\pi}{3}\\right) = \\frac{\\sqrt{3}}{2}\n     \\]\n   - Vậy:\n     \\[\n     \\text{Im}(z) = 128 \\cdot \\frac{\\sqrt{3}}{2} = 64\\sqrt{3}\n     \\]\n\nCuối cùng, phần ảo của số phức là $64\\sqrt{3}$.\n",
         "\n$64\\sqrt{3}$\n"
        ]
       ],
       "shape": {
        "columns": 5,
        "rows": 162
       }
      },
      "text/html": [
       "<div>\n",
       "<style scoped>\n",
       "    .dataframe tbody tr th:only-of-type {\n",
       "        vertical-align: middle;\n",
       "    }\n",
       "\n",
       "    .dataframe tbody tr th {\n",
       "        vertical-align: top;\n",
       "    }\n",
       "\n",
       "    .dataframe thead th {\n",
       "        text-align: right;\n",
       "    }\n",
       "</style>\n",
       "<table border=\"1\" class=\"dataframe\">\n",
       "  <thead>\n",
       "    <tr style=\"text-align: right;\">\n",
       "      <th></th>\n",
       "      <th>Question</th>\n",
       "      <th>Solution</th>\n",
       "      <th>Answer</th>\n",
       "      <th>AI Solution</th>\n",
       "      <th>AI Answer</th>\n",
       "    </tr>\n",
       "  </thead>\n",
       "  <tbody>\n",
       "    <tr>\n",
       "      <th>0</th>\n",
       "      <td>Cho hai số phức $z_1 = 1 + 10i$ và $z_2 = 9 – ...</td>\n",
       "      <td>Ta có: $z = z_1 + z_2 = (1 + 10i) + ( 9 – 2i) ...</td>\n",
       "      <td>10</td>\n",
       "      <td>\\nĐể giải bài toán, ta thực hiện các bước sau:...</td>\n",
       "      <td>\\nPhần thực của số phức $z$ là $10$.\\n</td>\n",
       "    </tr>\n",
       "    <tr>\n",
       "      <th>1</th>\n",
       "      <td>Hãy tính số phức z. Biết rằng: $z = 10i – ( 2 ...</td>\n",
       "      <td>Ta có: $z = 10i - (2 + 2i).i = 10i – 2i + 2 = ...</td>\n",
       "      <td>2 + 8i</td>\n",
       "      <td>\\nĐể tính số phức $z$, ta sẽ thực hiện các bướ...</td>\n",
       "      <td>\\n$z = 2 + 8i$\\n</td>\n",
       "    </tr>\n",
       "    <tr>\n",
       "      <th>2</th>\n",
       "      <td>Cho hai số phức $z = -2 + 3yi$; $z’ = ( x + 1)...</td>\n",
       "      <td>Để $z + i = z’ + 2$ =&gt; - 2 + 3yi + i = ( x + 1...</td>\n",
       "      <td>x = -5, y = -5/3</td>\n",
       "      <td>\\nĐể giải bài toán, ta bắt đầu từ phương trình...</td>\n",
       "      <td>\\n$x = -5, \\quad y = -\\frac{5}{3}$\\n</td>\n",
       "    </tr>\n",
       "    <tr>\n",
       "      <th>3</th>\n",
       "      <td>Số nào trong các số phức sau là số thuần ảo? A...</td>\n",
       "      <td>Ta xét các phương án:A.(√2 + i) - (1 + √2i)= (...</td>\n",
       "      <td>B. ( 8 + 2i) + (- 8 + 2i)</td>\n",
       "      <td>\\nĐể xác định số nào trong các số phức đã cho ...</td>\n",
       "      <td>\\nSố thuần ảo là: B. $(8 + 2i) + (-8 + 2i) = 4...</td>\n",
       "    </tr>\n",
       "    <tr>\n",
       "      <th>4</th>\n",
       "      <td>Tính giá trị của P = i^{105} + i^{23} + i^{20}...</td>\n",
       "      <td>Ta có: $i^2 = -1 \\Rightarrow i^4 = 1$. Do đó, ...</td>\n",
       "      <td>2</td>\n",
       "      <td>\\nĐể tính giá trị của biểu thức $P = i^{105} +...</td>\n",
       "      <td>\\nP = 2\\n</td>\n",
       "    </tr>\n",
       "    <tr>\n",
       "      <th>...</th>\n",
       "      <td>...</td>\n",
       "      <td>...</td>\n",
       "      <td>...</td>\n",
       "      <td>...</td>\n",
       "      <td>...</td>\n",
       "    </tr>\n",
       "    <tr>\n",
       "      <th>157</th>\n",
       "      <td>Gọi (H) là hình phẳng giới hạn bởi các đường y...</td>\n",
       "      <td>Phương trình hoành độ giao điểm:\\n$2x-x^2 = 0 ...</td>\n",
       "      <td>16/15pi</td>\n",
       "      <td>\\nĐể tính thể tích của khối tròn xoay được tạo...</td>\n",
       "      <td>\\n$V = \\frac{16\\pi}{15}$\\n</td>\n",
       "    </tr>\n",
       "    <tr>\n",
       "      <th>158</th>\n",
       "      <td>Tính thể tích khối tròn xoay được giới hạn bởi...</td>\n",
       "      <td>Thể tích khối tròn xoay được giới hạn bởi các ...</td>\n",
       "      <td>46/15pi</td>\n",
       "      <td>\\nĐể tính thể tích khối tròn xoay được giới hạ...</td>\n",
       "      <td>\\n$V = \\frac{46\\pi}{15}$\\n</td>\n",
       "    </tr>\n",
       "    <tr>\n",
       "      <th>159</th>\n",
       "      <td>Cho hình phẳng giới hạn bởi các đường y=\\sqrt{...</td>\n",
       "      <td>Giải phương trình $\\sqrt{x} = x \\Leftrightarro...</td>\n",
       "      <td>pi/6</td>\n",
       "      <td>\\nĐể tính thể tích khối tròn xoay tạo ra khi h...</td>\n",
       "      <td>\\n$V = \\frac{\\pi}{6}$\\n</td>\n",
       "    </tr>\n",
       "    <tr>\n",
       "      <th>160</th>\n",
       "      <td>Gọi (H) là hình phẳng giới hạn bởi các đường y...</td>\n",
       "      <td>Thể tích khối tròn xoay được giới hạn bởi các ...</td>\n",
       "      <td>pi - pi^2/4</td>\n",
       "      <td>\\nĐể tính thể tích của khối tròn xoay được tạo...</td>\n",
       "      <td>\\n$V = \\pi - \\frac{\\pi^2}{4}$\\n</td>\n",
       "    </tr>\n",
       "    <tr>\n",
       "      <th>161</th>\n",
       "      <td>Tính thể tích khối tròn xoay giới hạn bởi y=ln...</td>\n",
       "      <td>Phương trình hoành độ giao điểm: $lnx=0 \\Leftr...</td>\n",
       "      <td>pi(e-2)</td>\n",
       "      <td>\\nĐể tính thể tích khối tròn xoay giới hạn bởi...</td>\n",
       "      <td>\\n$V = \\pi (e - 2)$\\n</td>\n",
       "    </tr>\n",
       "  </tbody>\n",
       "</table>\n",
       "<p>162 rows × 5 columns</p>\n",
       "</div>"
      ],
      "text/plain": [
       "                                              Question  \\\n",
       "0    Cho hai số phức $z_1 = 1 + 10i$ và $z_2 = 9 – ...   \n",
       "1    Hãy tính số phức z. Biết rằng: $z = 10i – ( 2 ...   \n",
       "2    Cho hai số phức $z = -2 + 3yi$; $z’ = ( x + 1)...   \n",
       "3    Số nào trong các số phức sau là số thuần ảo? A...   \n",
       "4    Tính giá trị của P = i^{105} + i^{23} + i^{20}...   \n",
       "..                                                 ...   \n",
       "157  Gọi (H) là hình phẳng giới hạn bởi các đường y...   \n",
       "158  Tính thể tích khối tròn xoay được giới hạn bởi...   \n",
       "159  Cho hình phẳng giới hạn bởi các đường y=\\sqrt{...   \n",
       "160  Gọi (H) là hình phẳng giới hạn bởi các đường y...   \n",
       "161  Tính thể tích khối tròn xoay giới hạn bởi y=ln...   \n",
       "\n",
       "                                              Solution  \\\n",
       "0    Ta có: $z = z_1 + z_2 = (1 + 10i) + ( 9 – 2i) ...   \n",
       "1    Ta có: $z = 10i - (2 + 2i).i = 10i – 2i + 2 = ...   \n",
       "2    Để $z + i = z’ + 2$ => - 2 + 3yi + i = ( x + 1...   \n",
       "3    Ta xét các phương án:A.(√2 + i) - (1 + √2i)= (...   \n",
       "4    Ta có: $i^2 = -1 \\Rightarrow i^4 = 1$. Do đó, ...   \n",
       "..                                                 ...   \n",
       "157  Phương trình hoành độ giao điểm:\\n$2x-x^2 = 0 ...   \n",
       "158  Thể tích khối tròn xoay được giới hạn bởi các ...   \n",
       "159  Giải phương trình $\\sqrt{x} = x \\Leftrightarro...   \n",
       "160  Thể tích khối tròn xoay được giới hạn bởi các ...   \n",
       "161  Phương trình hoành độ giao điểm: $lnx=0 \\Leftr...   \n",
       "\n",
       "                        Answer  \\\n",
       "0                           10   \n",
       "1                       2 + 8i   \n",
       "2             x = -5, y = -5/3   \n",
       "3    B. ( 8 + 2i) + (- 8 + 2i)   \n",
       "4                            2   \n",
       "..                         ...   \n",
       "157                    16/15pi   \n",
       "158                    46/15pi   \n",
       "159                       pi/6   \n",
       "160                pi - pi^2/4   \n",
       "161                    pi(e-2)   \n",
       "\n",
       "                                           AI Solution  \\\n",
       "0    \\nĐể giải bài toán, ta thực hiện các bước sau:...   \n",
       "1    \\nĐể tính số phức $z$, ta sẽ thực hiện các bướ...   \n",
       "2    \\nĐể giải bài toán, ta bắt đầu từ phương trình...   \n",
       "3    \\nĐể xác định số nào trong các số phức đã cho ...   \n",
       "4    \\nĐể tính giá trị của biểu thức $P = i^{105} +...   \n",
       "..                                                 ...   \n",
       "157  \\nĐể tính thể tích của khối tròn xoay được tạo...   \n",
       "158  \\nĐể tính thể tích khối tròn xoay được giới hạ...   \n",
       "159  \\nĐể tính thể tích khối tròn xoay tạo ra khi h...   \n",
       "160  \\nĐể tính thể tích của khối tròn xoay được tạo...   \n",
       "161  \\nĐể tính thể tích khối tròn xoay giới hạn bởi...   \n",
       "\n",
       "                                             AI Answer  \n",
       "0               \\nPhần thực của số phức $z$ là $10$.\\n  \n",
       "1                                     \\n$z = 2 + 8i$\\n  \n",
       "2                 \\n$x = -5, \\quad y = -\\frac{5}{3}$\\n  \n",
       "3    \\nSố thuần ảo là: B. $(8 + 2i) + (-8 + 2i) = 4...  \n",
       "4                                            \\nP = 2\\n  \n",
       "..                                                 ...  \n",
       "157                         \\n$V = \\frac{16\\pi}{15}$\\n  \n",
       "158                         \\n$V = \\frac{46\\pi}{15}$\\n  \n",
       "159                            \\n$V = \\frac{\\pi}{6}$\\n  \n",
       "160                    \\n$V = \\pi - \\frac{\\pi^2}{4}$\\n  \n",
       "161                              \\n$V = \\pi (e - 2)$\\n  \n",
       "\n",
       "[162 rows x 5 columns]"
      ]
     },
     "metadata": {},
     "output_type": "display_data"
    }
   ],
   "source": [
    "rows = []\n",
    "questions_list = [q for chapter in data[\"data\"] for topic in chapter[\"topics\"] for q in topic[\"questions\"]]\n",
    "\n",
    "for q in tqdm(questions_list, desc=\"Processing Questions\"):\n",
    "    ai_response = get_answer(q[\"question\"])\n",
    "    display(Latex(ai_response[\"solution\"]))\n",
    "    rows.append([\n",
    "        q[\"question\"], \n",
    "        q[\"solution\"], \n",
    "        q[\"answer\"], \n",
    "        ai_response[\"solution\"], \n",
    "        ai_response[\"answer\"]\n",
    "    ])\n",
    "\n",
    "# Create DataFrame\n",
    "df = pd.DataFrame(rows, columns=[\"Question\", \"Solution\", \"Answer\", \"AI Solution\", \"AI Answer\"])\n",
    "\n",
    "\n",
    "# Display DataFrame\n",
    "display(df)"
   ]
  },
  {
   "cell_type": "code",
   "execution_count": 6,
   "metadata": {},
   "outputs": [],
   "source": [
    "df.to_csv(\"4o_mini_test_results.csv\")"
   ]
  },
  {
   "cell_type": "code",
   "execution_count": 4,
   "metadata": {},
   "outputs": [],
   "source": [
    "df = pd.read_csv(\"4o_mini_test_results.csv\").drop([\"Category\", \"Explanation\"], axis=1)\n",
    "model = GeminiAI()"
   ]
  },
  {
   "cell_type": "code",
   "execution_count": 5,
   "metadata": {},
   "outputs": [
    {
     "name": "stderr",
     "output_type": "stream",
     "text": [
      "Checking AI Answers:   1%|          | 1/162 [00:05<15:13,  5.67s/it]"
     ]
    },
    {
     "name": "stdout",
     "output_type": "stream",
     "text": [
      "Processed 1/162 - Category: Both Correct\n"
     ]
    },
    {
     "name": "stderr",
     "output_type": "stream",
     "text": [
      "Checking AI Answers:   1%|          | 2/162 [00:10<13:38,  5.12s/it]"
     ]
    },
    {
     "name": "stdout",
     "output_type": "stream",
     "text": [
      "Processed 2/162 - Category: Both Correct\n"
     ]
    },
    {
     "name": "stderr",
     "output_type": "stream",
     "text": [
      "Checking AI Answers:   2%|▏         | 3/162 [00:16<14:10,  5.35s/it]"
     ]
    },
    {
     "name": "stdout",
     "output_type": "stream",
     "text": [
      "Processed 3/162 - Category: Both Correct\n"
     ]
    },
    {
     "name": "stderr",
     "output_type": "stream",
     "text": [
      "Checking AI Answers:   2%|▏         | 4/162 [00:22<15:26,  5.86s/it]"
     ]
    },
    {
     "name": "stdout",
     "output_type": "stream",
     "text": [
      "Processed 4/162 - Category: Correct Answer, Wrong Explanation\n"
     ]
    },
    {
     "name": "stderr",
     "output_type": "stream",
     "text": [
      "Checking AI Answers:   3%|▎         | 5/162 [00:28<15:12,  5.81s/it]"
     ]
    },
    {
     "name": "stdout",
     "output_type": "stream",
     "text": [
      "Processed 5/162 - Category: Both Correct\n"
     ]
    },
    {
     "name": "stderr",
     "output_type": "stream",
     "text": [
      "Checking AI Answers:   4%|▎         | 6/162 [00:34<14:58,  5.76s/it]"
     ]
    },
    {
     "name": "stdout",
     "output_type": "stream",
     "text": [
      "Processed 6/162 - Category: Both Correct\n"
     ]
    },
    {
     "name": "stderr",
     "output_type": "stream",
     "text": [
      "Checking AI Answers:   4%|▍         | 7/162 [00:38<14:09,  5.48s/it]"
     ]
    },
    {
     "name": "stdout",
     "output_type": "stream",
     "text": [
      "Processed 7/162 - Category: Both Correct\n"
     ]
    },
    {
     "name": "stderr",
     "output_type": "stream",
     "text": [
      "Checking AI Answers:   5%|▍         | 8/162 [00:44<14:31,  5.66s/it]"
     ]
    },
    {
     "name": "stdout",
     "output_type": "stream",
     "text": [
      "Processed 8/162 - Category: Both Correct\n"
     ]
    },
    {
     "name": "stderr",
     "output_type": "stream",
     "text": [
      "Checking AI Answers:   6%|▌         | 9/162 [00:49<13:40,  5.36s/it]"
     ]
    },
    {
     "name": "stdout",
     "output_type": "stream",
     "text": [
      "Processed 9/162 - Category: Both Correct\n"
     ]
    },
    {
     "name": "stderr",
     "output_type": "stream",
     "text": [
      "Checking AI Answers:   6%|▌         | 10/162 [00:55<13:52,  5.48s/it]"
     ]
    },
    {
     "name": "stdout",
     "output_type": "stream",
     "text": [
      "Processed 10/162 - Category: Both Correct\n"
     ]
    },
    {
     "name": "stderr",
     "output_type": "stream",
     "text": [
      "Checking AI Answers:   7%|▋         | 11/162 [01:01<13:50,  5.50s/it]"
     ]
    },
    {
     "name": "stdout",
     "output_type": "stream",
     "text": [
      "Processed 11/162 - Category: Both Correct\n"
     ]
    },
    {
     "name": "stderr",
     "output_type": "stream",
     "text": [
      "Checking AI Answers:   7%|▋         | 12/162 [01:06<14:03,  5.62s/it]"
     ]
    },
    {
     "name": "stdout",
     "output_type": "stream",
     "text": [
      "Processed 12/162 - Category: Both Incorrect\n"
     ]
    },
    {
     "name": "stderr",
     "output_type": "stream",
     "text": [
      "Checking AI Answers:   8%|▊         | 13/162 [01:11<13:14,  5.33s/it]"
     ]
    },
    {
     "name": "stdout",
     "output_type": "stream",
     "text": [
      "Processed 13/162 - Category: Both Correct\n"
     ]
    },
    {
     "name": "stderr",
     "output_type": "stream",
     "text": [
      "Checking AI Answers:   9%|▊         | 14/162 [01:17<13:24,  5.44s/it]"
     ]
    },
    {
     "name": "stdout",
     "output_type": "stream",
     "text": [
      "Processed 14/162 - Category: Both Correct\n"
     ]
    },
    {
     "name": "stderr",
     "output_type": "stream",
     "text": [
      "Checking AI Answers:   9%|▉         | 15/162 [01:23<13:46,  5.62s/it]"
     ]
    },
    {
     "name": "stdout",
     "output_type": "stream",
     "text": [
      "Processed 15/162 - Category: Wrong Answer, Correct Explanation\n"
     ]
    },
    {
     "name": "stderr",
     "output_type": "stream",
     "text": [
      "Checking AI Answers:  10%|▉         | 16/162 [01:29<13:50,  5.69s/it]"
     ]
    },
    {
     "name": "stdout",
     "output_type": "stream",
     "text": [
      "Processed 16/162 - Category: Both Correct\n"
     ]
    },
    {
     "name": "stderr",
     "output_type": "stream",
     "text": [
      "Checking AI Answers:  10%|█         | 17/162 [01:35<13:55,  5.76s/it]"
     ]
    },
    {
     "name": "stdout",
     "output_type": "stream",
     "text": [
      "Processed 17/162 - Category: Both Correct\n"
     ]
    },
    {
     "name": "stderr",
     "output_type": "stream",
     "text": [
      "Checking AI Answers:  11%|█         | 18/162 [01:39<13:07,  5.47s/it]"
     ]
    },
    {
     "name": "stdout",
     "output_type": "stream",
     "text": [
      "Processed 18/162 - Category: Both Correct\n"
     ]
    },
    {
     "name": "stderr",
     "output_type": "stream",
     "text": [
      "Checking AI Answers:  12%|█▏        | 19/162 [01:45<13:09,  5.52s/it]"
     ]
    },
    {
     "name": "stdout",
     "output_type": "stream",
     "text": [
      "Processed 19/162 - Category: Both Correct\n"
     ]
    },
    {
     "name": "stderr",
     "output_type": "stream",
     "text": [
      "Checking AI Answers:  12%|█▏        | 20/162 [01:51<13:35,  5.74s/it]"
     ]
    },
    {
     "name": "stdout",
     "output_type": "stream",
     "text": [
      "Processed 20/162 - Category: Wrong Answer, Correct Explanation\n"
     ]
    },
    {
     "name": "stderr",
     "output_type": "stream",
     "text": [
      "Checking AI Answers:  13%|█▎        | 21/162 [01:56<13:07,  5.59s/it]"
     ]
    },
    {
     "name": "stdout",
     "output_type": "stream",
     "text": [
      "Processed 21/162 - Category: Correct Answer, Wrong Explanation\n"
     ]
    },
    {
     "name": "stderr",
     "output_type": "stream",
     "text": [
      "Checking AI Answers:  14%|█▎        | 22/162 [02:02<13:08,  5.63s/it]"
     ]
    },
    {
     "name": "stdout",
     "output_type": "stream",
     "text": [
      "Processed 22/162 - Category: Both Correct\n"
     ]
    },
    {
     "name": "stderr",
     "output_type": "stream",
     "text": [
      "Checking AI Answers:  14%|█▍        | 23/162 [02:07<12:24,  5.36s/it]"
     ]
    },
    {
     "name": "stdout",
     "output_type": "stream",
     "text": [
      "Processed 23/162 - Category: Both Correct\n"
     ]
    },
    {
     "name": "stderr",
     "output_type": "stream",
     "text": [
      "Checking AI Answers:  15%|█▍        | 24/162 [02:13<13:00,  5.65s/it]"
     ]
    },
    {
     "name": "stdout",
     "output_type": "stream",
     "text": [
      "Processed 24/162 - Category: Wrong Answer, Correct Explanation\n"
     ]
    },
    {
     "name": "stderr",
     "output_type": "stream",
     "text": [
      "Checking AI Answers:  15%|█▌        | 25/162 [02:18<12:33,  5.50s/it]"
     ]
    },
    {
     "name": "stdout",
     "output_type": "stream",
     "text": [
      "Processed 25/162 - Category: Both Incorrect\n"
     ]
    },
    {
     "name": "stderr",
     "output_type": "stream",
     "text": [
      "Checking AI Answers:  16%|█▌        | 26/162 [02:24<12:11,  5.38s/it]"
     ]
    },
    {
     "name": "stdout",
     "output_type": "stream",
     "text": [
      "Processed 26/162 - Category: Both Correct\n"
     ]
    },
    {
     "name": "stderr",
     "output_type": "stream",
     "text": [
      "Checking AI Answers:  17%|█▋        | 27/162 [02:31<13:43,  6.10s/it]"
     ]
    },
    {
     "name": "stdout",
     "output_type": "stream",
     "text": [
      "Processed 27/162 - Category: Both Correct\n"
     ]
    },
    {
     "name": "stderr",
     "output_type": "stream",
     "text": [
      "Checking AI Answers:  17%|█▋        | 28/162 [02:37<13:26,  6.02s/it]"
     ]
    },
    {
     "name": "stdout",
     "output_type": "stream",
     "text": [
      "Processed 28/162 - Category: Both Correct\n"
     ]
    },
    {
     "name": "stderr",
     "output_type": "stream",
     "text": [
      "Checking AI Answers:  18%|█▊        | 29/162 [02:42<12:32,  5.66s/it]"
     ]
    },
    {
     "name": "stdout",
     "output_type": "stream",
     "text": [
      "Processed 29/162 - Category: Both Correct\n"
     ]
    },
    {
     "name": "stderr",
     "output_type": "stream",
     "text": [
      "Checking AI Answers:  19%|█▊        | 30/162 [02:48<12:33,  5.71s/it]"
     ]
    },
    {
     "name": "stdout",
     "output_type": "stream",
     "text": [
      "Processed 30/162 - Category: Both Correct\n"
     ]
    },
    {
     "name": "stderr",
     "output_type": "stream",
     "text": [
      "Checking AI Answers:  19%|█▉        | 31/162 [02:53<12:01,  5.51s/it]"
     ]
    },
    {
     "name": "stdout",
     "output_type": "stream",
     "text": [
      "Processed 31/162 - Category: Both Correct\n"
     ]
    },
    {
     "name": "stderr",
     "output_type": "stream",
     "text": [
      "Checking AI Answers:  20%|█▉        | 32/162 [03:38<37:34, 17.34s/it]"
     ]
    },
    {
     "name": "stdout",
     "output_type": "stream",
     "text": [
      "Processed 32/162 - Category: Both Incorrect\n"
     ]
    },
    {
     "name": "stderr",
     "output_type": "stream",
     "text": [
      "Checking AI Answers:  20%|██        | 33/162 [03:44<30:15, 14.07s/it]"
     ]
    },
    {
     "name": "stdout",
     "output_type": "stream",
     "text": [
      "Processed 33/162 - Category: Both Correct\n"
     ]
    },
    {
     "name": "stderr",
     "output_type": "stream",
     "text": [
      "Checking AI Answers:  21%|██        | 34/162 [03:49<24:13, 11.36s/it]"
     ]
    },
    {
     "name": "stdout",
     "output_type": "stream",
     "text": [
      "Processed 34/162 - Category: Both Correct\n"
     ]
    },
    {
     "name": "stderr",
     "output_type": "stream",
     "text": [
      "Checking AI Answers:  22%|██▏       | 35/162 [03:55<20:24,  9.64s/it]"
     ]
    },
    {
     "name": "stdout",
     "output_type": "stream",
     "text": [
      "Processed 35/162 - Category: Both Correct\n"
     ]
    },
    {
     "name": "stderr",
     "output_type": "stream",
     "text": [
      "Checking AI Answers:  22%|██▏       | 36/162 [04:01<17:54,  8.53s/it]"
     ]
    },
    {
     "name": "stdout",
     "output_type": "stream",
     "text": [
      "Processed 36/162 - Category: Wrong Answer, Correct Explanation\n"
     ]
    },
    {
     "name": "stderr",
     "output_type": "stream",
     "text": [
      "Checking AI Answers:  23%|██▎       | 37/162 [04:07<16:01,  7.69s/it]"
     ]
    },
    {
     "name": "stdout",
     "output_type": "stream",
     "text": [
      "Processed 37/162 - Category: Both Incorrect\n"
     ]
    },
    {
     "name": "stderr",
     "output_type": "stream",
     "text": [
      "Checking AI Answers:  23%|██▎       | 38/162 [04:12<14:40,  7.10s/it]"
     ]
    },
    {
     "name": "stdout",
     "output_type": "stream",
     "text": [
      "Processed 38/162 - Category: Both Correct\n"
     ]
    },
    {
     "name": "stderr",
     "output_type": "stream",
     "text": [
      "Checking AI Answers:  24%|██▍       | 39/162 [04:17<13:09,  6.42s/it]"
     ]
    },
    {
     "name": "stdout",
     "output_type": "stream",
     "text": [
      "Processed 39/162 - Category: Both Correct\n"
     ]
    },
    {
     "name": "stderr",
     "output_type": "stream",
     "text": [
      "Checking AI Answers:  25%|██▍       | 40/162 [04:24<13:19,  6.55s/it]"
     ]
    },
    {
     "name": "stdout",
     "output_type": "stream",
     "text": [
      "Processed 40/162 - Category: Correct Answer, Wrong Explanation\n"
     ]
    },
    {
     "name": "stderr",
     "output_type": "stream",
     "text": [
      "Checking AI Answers:  25%|██▌       | 41/162 [04:29<12:35,  6.24s/it]"
     ]
    },
    {
     "name": "stdout",
     "output_type": "stream",
     "text": [
      "Processed 41/162 - Category: Both Correct\n"
     ]
    },
    {
     "name": "stderr",
     "output_type": "stream",
     "text": [
      "Checking AI Answers:  26%|██▌       | 42/162 [04:34<11:37,  5.82s/it]"
     ]
    },
    {
     "name": "stdout",
     "output_type": "stream",
     "text": [
      "Processed 42/162 - Category: Both Correct\n"
     ]
    },
    {
     "name": "stderr",
     "output_type": "stream",
     "text": [
      "Checking AI Answers:  27%|██▋       | 43/162 [04:40<11:28,  5.79s/it]"
     ]
    },
    {
     "name": "stdout",
     "output_type": "stream",
     "text": [
      "Processed 43/162 - Category: Both Correct\n"
     ]
    },
    {
     "name": "stderr",
     "output_type": "stream",
     "text": [
      "Checking AI Answers:  27%|██▋       | 44/162 [04:48<12:27,  6.34s/it]"
     ]
    },
    {
     "name": "stdout",
     "output_type": "stream",
     "text": [
      "Processed 44/162 - Category: Both Correct\n"
     ]
    },
    {
     "name": "stderr",
     "output_type": "stream",
     "text": [
      "Checking AI Answers:  28%|██▊       | 45/162 [04:53<11:45,  6.03s/it]"
     ]
    },
    {
     "name": "stdout",
     "output_type": "stream",
     "text": [
      "Processed 45/162 - Category: Wrong Answer, Correct Explanation\n"
     ]
    },
    {
     "name": "stderr",
     "output_type": "stream",
     "text": [
      "Checking AI Answers:  28%|██▊       | 46/162 [04:59<11:24,  5.90s/it]"
     ]
    },
    {
     "name": "stdout",
     "output_type": "stream",
     "text": [
      "Processed 46/162 - Category: Both Correct\n"
     ]
    },
    {
     "name": "stderr",
     "output_type": "stream",
     "text": [
      "Checking AI Answers:  29%|██▉       | 47/162 [05:05<11:23,  5.95s/it]"
     ]
    },
    {
     "name": "stdout",
     "output_type": "stream",
     "text": [
      "Processed 47/162 - Category: Both Correct\n"
     ]
    },
    {
     "name": "stderr",
     "output_type": "stream",
     "text": [
      "Checking AI Answers:  30%|██▉       | 48/162 [05:11<11:21,  5.97s/it]"
     ]
    },
    {
     "name": "stdout",
     "output_type": "stream",
     "text": [
      "Processed 48/162 - Category: Both Correct\n"
     ]
    },
    {
     "name": "stderr",
     "output_type": "stream",
     "text": [
      "Checking AI Answers:  30%|███       | 49/162 [05:17<11:13,  5.96s/it]"
     ]
    },
    {
     "name": "stdout",
     "output_type": "stream",
     "text": [
      "Processed 49/162 - Category: Both Correct\n"
     ]
    },
    {
     "name": "stderr",
     "output_type": "stream",
     "text": [
      "Checking AI Answers:  31%|███       | 50/162 [05:22<11:05,  5.94s/it]"
     ]
    },
    {
     "name": "stdout",
     "output_type": "stream",
     "text": [
      "Processed 50/162 - Category: Wrong Answer, Correct Explanation\n"
     ]
    },
    {
     "name": "stderr",
     "output_type": "stream",
     "text": [
      "Checking AI Answers:  31%|███▏      | 51/162 [05:29<11:04,  5.99s/it]"
     ]
    },
    {
     "name": "stdout",
     "output_type": "stream",
     "text": [
      "Processed 51/162 - Category: Both Correct\n"
     ]
    },
    {
     "name": "stderr",
     "output_type": "stream",
     "text": [
      "Checking AI Answers:  32%|███▏      | 52/162 [05:35<10:57,  5.98s/it]"
     ]
    },
    {
     "name": "stdout",
     "output_type": "stream",
     "text": [
      "Processed 52/162 - Category: Wrong Answer, Correct Explanation\n"
     ]
    },
    {
     "name": "stderr",
     "output_type": "stream",
     "text": [
      "Checking AI Answers:  33%|███▎      | 53/162 [05:40<10:43,  5.90s/it]"
     ]
    },
    {
     "name": "stdout",
     "output_type": "stream",
     "text": [
      "Processed 53/162 - Category: Both Correct\n"
     ]
    },
    {
     "name": "stderr",
     "output_type": "stream",
     "text": [
      "Checking AI Answers:  33%|███▎      | 54/162 [05:45<10:15,  5.70s/it]"
     ]
    },
    {
     "name": "stdout",
     "output_type": "stream",
     "text": [
      "Processed 54/162 - Category: Both Correct\n"
     ]
    },
    {
     "name": "stderr",
     "output_type": "stream",
     "text": [
      "Checking AI Answers:  34%|███▍      | 55/162 [05:51<10:07,  5.68s/it]"
     ]
    },
    {
     "name": "stdout",
     "output_type": "stream",
     "text": [
      "Processed 55/162 - Category: Both Correct\n"
     ]
    },
    {
     "name": "stderr",
     "output_type": "stream",
     "text": [
      "Checking AI Answers:  35%|███▍      | 56/162 [05:57<09:58,  5.65s/it]"
     ]
    },
    {
     "name": "stdout",
     "output_type": "stream",
     "text": [
      "Processed 56/162 - Category: Wrong Answer, Correct Explanation\n"
     ]
    },
    {
     "name": "stderr",
     "output_type": "stream",
     "text": [
      "Checking AI Answers:  35%|███▌      | 57/162 [06:03<10:24,  5.95s/it]"
     ]
    },
    {
     "name": "stdout",
     "output_type": "stream",
     "text": [
      "Processed 57/162 - Category: Wrong Answer, Correct Explanation\n"
     ]
    },
    {
     "name": "stderr",
     "output_type": "stream",
     "text": [
      "Checking AI Answers:  36%|███▌      | 58/162 [06:08<09:50,  5.68s/it]"
     ]
    },
    {
     "name": "stdout",
     "output_type": "stream",
     "text": [
      "Processed 58/162 - Category: Both Correct\n"
     ]
    },
    {
     "name": "stderr",
     "output_type": "stream",
     "text": [
      "Checking AI Answers:  36%|███▋      | 59/162 [06:15<10:02,  5.85s/it]"
     ]
    },
    {
     "name": "stdout",
     "output_type": "stream",
     "text": [
      "Processed 59/162 - Category: Both Correct\n"
     ]
    },
    {
     "name": "stderr",
     "output_type": "stream",
     "text": [
      "Checking AI Answers:  37%|███▋      | 60/162 [06:21<10:10,  5.99s/it]"
     ]
    },
    {
     "name": "stdout",
     "output_type": "stream",
     "text": [
      "Processed 60/162 - Category: Correct Answer, Wrong Explanation\n"
     ]
    },
    {
     "name": "stderr",
     "output_type": "stream",
     "text": [
      "Checking AI Answers:  38%|███▊      | 61/162 [06:27<09:54,  5.89s/it]"
     ]
    },
    {
     "name": "stdout",
     "output_type": "stream",
     "text": [
      "Processed 61/162 - Category: Both Correct\n"
     ]
    },
    {
     "name": "stderr",
     "output_type": "stream",
     "text": [
      "Checking AI Answers:  38%|███▊      | 62/162 [06:32<09:45,  5.85s/it]"
     ]
    },
    {
     "name": "stdout",
     "output_type": "stream",
     "text": [
      "Processed 62/162 - Category: Both Correct\n"
     ]
    },
    {
     "name": "stderr",
     "output_type": "stream",
     "text": [
      "Checking AI Answers:  39%|███▉      | 63/162 [06:37<09:15,  5.61s/it]"
     ]
    },
    {
     "name": "stdout",
     "output_type": "stream",
     "text": [
      "Processed 63/162 - Category: Both Correct\n"
     ]
    },
    {
     "name": "stderr",
     "output_type": "stream",
     "text": [
      "Checking AI Answers:  40%|███▉      | 64/162 [06:43<09:21,  5.73s/it]"
     ]
    },
    {
     "name": "stdout",
     "output_type": "stream",
     "text": [
      "Processed 64/162 - Category: Both Incorrect\n"
     ]
    },
    {
     "name": "stderr",
     "output_type": "stream",
     "text": [
      "Checking AI Answers:  40%|████      | 65/162 [06:50<09:51,  6.10s/it]"
     ]
    },
    {
     "name": "stdout",
     "output_type": "stream",
     "text": [
      "Processed 65/162 - Category: Correct Answer, Wrong Explanation\n"
     ]
    },
    {
     "name": "stderr",
     "output_type": "stream",
     "text": [
      "Checking AI Answers:  41%|████      | 66/162 [06:55<09:08,  5.71s/it]"
     ]
    },
    {
     "name": "stdout",
     "output_type": "stream",
     "text": [
      "Processed 66/162 - Category: Both Correct\n"
     ]
    },
    {
     "name": "stderr",
     "output_type": "stream",
     "text": [
      "Checking AI Answers:  41%|████▏     | 67/162 [07:01<09:10,  5.80s/it]"
     ]
    },
    {
     "name": "stdout",
     "output_type": "stream",
     "text": [
      "Processed 67/162 - Category: Both Incorrect\n"
     ]
    },
    {
     "name": "stderr",
     "output_type": "stream",
     "text": [
      "Checking AI Answers:  42%|████▏     | 68/162 [07:09<09:53,  6.31s/it]"
     ]
    },
    {
     "name": "stdout",
     "output_type": "stream",
     "text": [
      "Processed 68/162 - Category: Wrong Answer, Correct Explanation\n"
     ]
    },
    {
     "name": "stderr",
     "output_type": "stream",
     "text": [
      "Checking AI Answers:  43%|████▎     | 69/162 [07:14<09:29,  6.12s/it]"
     ]
    },
    {
     "name": "stdout",
     "output_type": "stream",
     "text": [
      "Processed 69/162 - Category: Both Correct\n"
     ]
    },
    {
     "name": "stderr",
     "output_type": "stream",
     "text": [
      "Checking AI Answers:  43%|████▎     | 70/162 [07:20<09:05,  5.93s/it]"
     ]
    },
    {
     "name": "stdout",
     "output_type": "stream",
     "text": [
      "Processed 70/162 - Category: Wrong Answer, Correct Explanation\n"
     ]
    },
    {
     "name": "stderr",
     "output_type": "stream",
     "text": [
      "Checking AI Answers:  44%|████▍     | 71/162 [07:25<08:35,  5.67s/it]"
     ]
    },
    {
     "name": "stdout",
     "output_type": "stream",
     "text": [
      "Processed 71/162 - Category: Wrong Answer, Correct Explanation\n"
     ]
    },
    {
     "name": "stderr",
     "output_type": "stream",
     "text": [
      "Checking AI Answers:  44%|████▍     | 72/162 [07:31<08:39,  5.77s/it]"
     ]
    },
    {
     "name": "stdout",
     "output_type": "stream",
     "text": [
      "Processed 72/162 - Category: Both Correct\n"
     ]
    },
    {
     "name": "stderr",
     "output_type": "stream",
     "text": [
      "Checking AI Answers:  45%|████▌     | 73/162 [07:36<08:16,  5.58s/it]"
     ]
    },
    {
     "name": "stdout",
     "output_type": "stream",
     "text": [
      "Processed 73/162 - Category: Both Correct\n"
     ]
    },
    {
     "name": "stderr",
     "output_type": "stream",
     "text": [
      "Checking AI Answers:  46%|████▌     | 74/162 [07:42<08:25,  5.74s/it]"
     ]
    },
    {
     "name": "stdout",
     "output_type": "stream",
     "text": [
      "Processed 74/162 - Category: Both Incorrect\n"
     ]
    },
    {
     "name": "stderr",
     "output_type": "stream",
     "text": [
      "Checking AI Answers:  46%|████▋     | 75/162 [07:48<08:27,  5.83s/it]"
     ]
    },
    {
     "name": "stdout",
     "output_type": "stream",
     "text": [
      "Processed 75/162 - Category: Both Incorrect\n"
     ]
    },
    {
     "name": "stderr",
     "output_type": "stream",
     "text": [
      "Checking AI Answers:  47%|████▋     | 76/162 [07:58<10:08,  7.08s/it]"
     ]
    },
    {
     "name": "stdout",
     "output_type": "stream",
     "text": [
      "Processed 76/162 - Category: Correct Answer, Wrong Explanation\n"
     ]
    },
    {
     "name": "stderr",
     "output_type": "stream",
     "text": [
      "Checking AI Answers:  48%|████▊     | 77/162 [08:04<09:31,  6.72s/it]"
     ]
    },
    {
     "name": "stdout",
     "output_type": "stream",
     "text": [
      "Processed 77/162 - Category: Both Correct\n"
     ]
    },
    {
     "name": "stderr",
     "output_type": "stream",
     "text": [
      "Checking AI Answers:  48%|████▊     | 78/162 [08:11<09:23,  6.70s/it]"
     ]
    },
    {
     "name": "stdout",
     "output_type": "stream",
     "text": [
      "Processed 78/162 - Category: Both Correct\n"
     ]
    },
    {
     "name": "stderr",
     "output_type": "stream",
     "text": [
      "Checking AI Answers:  49%|████▉     | 79/162 [08:18<09:17,  6.72s/it]"
     ]
    },
    {
     "name": "stdout",
     "output_type": "stream",
     "text": [
      "Processed 79/162 - Category: Correct Answer, Wrong Explanation\n"
     ]
    },
    {
     "name": "stderr",
     "output_type": "stream",
     "text": [
      "Checking AI Answers:  49%|████▉     | 80/162 [08:23<08:46,  6.43s/it]"
     ]
    },
    {
     "name": "stdout",
     "output_type": "stream",
     "text": [
      "Processed 80/162 - Category: Both Correct\n"
     ]
    },
    {
     "name": "stderr",
     "output_type": "stream",
     "text": [
      "Checking AI Answers:  50%|█████     | 81/162 [08:28<08:01,  5.94s/it]"
     ]
    },
    {
     "name": "stdout",
     "output_type": "stream",
     "text": [
      "Processed 81/162 - Category: Both Correct\n"
     ]
    },
    {
     "name": "stderr",
     "output_type": "stream",
     "text": [
      "Checking AI Answers:  51%|█████     | 82/162 [08:34<08:05,  6.06s/it]"
     ]
    },
    {
     "name": "stdout",
     "output_type": "stream",
     "text": [
      "Processed 82/162 - Category: Both Correct\n"
     ]
    },
    {
     "name": "stderr",
     "output_type": "stream",
     "text": [
      "Checking AI Answers:  51%|█████     | 83/162 [08:40<07:53,  5.99s/it]"
     ]
    },
    {
     "name": "stdout",
     "output_type": "stream",
     "text": [
      "Processed 83/162 - Category: Both Correct\n"
     ]
    },
    {
     "name": "stderr",
     "output_type": "stream",
     "text": [
      "Checking AI Answers:  52%|█████▏    | 84/162 [08:46<07:41,  5.92s/it]"
     ]
    },
    {
     "name": "stdout",
     "output_type": "stream",
     "text": [
      "Processed 84/162 - Category: Both Correct\n"
     ]
    },
    {
     "name": "stderr",
     "output_type": "stream",
     "text": [
      "Checking AI Answers:  52%|█████▏    | 85/162 [08:52<07:45,  6.05s/it]"
     ]
    },
    {
     "name": "stdout",
     "output_type": "stream",
     "text": [
      "Processed 85/162 - Category: Both Correct\n"
     ]
    },
    {
     "name": "stderr",
     "output_type": "stream",
     "text": [
      "Checking AI Answers:  53%|█████▎    | 86/162 [08:58<07:22,  5.83s/it]"
     ]
    },
    {
     "name": "stdout",
     "output_type": "stream",
     "text": [
      "Processed 86/162 - Category: Both Correct\n"
     ]
    },
    {
     "name": "stderr",
     "output_type": "stream",
     "text": [
      "Checking AI Answers:  54%|█████▎    | 87/162 [09:03<07:12,  5.77s/it]"
     ]
    },
    {
     "name": "stdout",
     "output_type": "stream",
     "text": [
      "Processed 87/162 - Category: Both Correct\n"
     ]
    },
    {
     "name": "stderr",
     "output_type": "stream",
     "text": [
      "Checking AI Answers:  54%|█████▍    | 88/162 [09:09<07:13,  5.85s/it]"
     ]
    },
    {
     "name": "stdout",
     "output_type": "stream",
     "text": [
      "Processed 88/162 - Category: Both Correct\n"
     ]
    },
    {
     "name": "stderr",
     "output_type": "stream",
     "text": [
      "Checking AI Answers:  55%|█████▍    | 89/162 [09:15<07:04,  5.82s/it]"
     ]
    },
    {
     "name": "stdout",
     "output_type": "stream",
     "text": [
      "Processed 89/162 - Category: Both Correct\n"
     ]
    },
    {
     "name": "stderr",
     "output_type": "stream",
     "text": [
      "Checking AI Answers:  56%|█████▌    | 90/162 [09:22<07:25,  6.18s/it]"
     ]
    },
    {
     "name": "stdout",
     "output_type": "stream",
     "text": [
      "Processed 90/162 - Category: Both Correct\n"
     ]
    },
    {
     "name": "stderr",
     "output_type": "stream",
     "text": [
      "Checking AI Answers:  56%|█████▌    | 91/162 [09:31<08:20,  7.04s/it]"
     ]
    },
    {
     "name": "stdout",
     "output_type": "stream",
     "text": [
      "Processed 91/162 - Category: Both Correct\n"
     ]
    },
    {
     "name": "stderr",
     "output_type": "stream",
     "text": [
      "Checking AI Answers:  57%|█████▋    | 92/162 [09:37<07:45,  6.65s/it]"
     ]
    },
    {
     "name": "stdout",
     "output_type": "stream",
     "text": [
      "Processed 92/162 - Category: Both Correct\n"
     ]
    },
    {
     "name": "stderr",
     "output_type": "stream",
     "text": [
      "Checking AI Answers:  57%|█████▋    | 93/162 [09:47<08:43,  7.59s/it]"
     ]
    },
    {
     "name": "stdout",
     "output_type": "stream",
     "text": [
      "Processed 93/162 - Category: Both Correct\n"
     ]
    },
    {
     "name": "stderr",
     "output_type": "stream",
     "text": [
      "Checking AI Answers:  58%|█████▊    | 94/162 [09:53<08:18,  7.33s/it]"
     ]
    },
    {
     "name": "stdout",
     "output_type": "stream",
     "text": [
      "Processed 94/162 - Category: Both Correct\n"
     ]
    },
    {
     "name": "stderr",
     "output_type": "stream",
     "text": [
      "Checking AI Answers:  59%|█████▊    | 95/162 [09:59<07:30,  6.72s/it]"
     ]
    },
    {
     "name": "stdout",
     "output_type": "stream",
     "text": [
      "Processed 95/162 - Category: Wrong Answer, Correct Explanation\n"
     ]
    },
    {
     "name": "stderr",
     "output_type": "stream",
     "text": [
      "Checking AI Answers:  59%|█████▉    | 96/162 [10:04<07:04,  6.43s/it]"
     ]
    },
    {
     "name": "stdout",
     "output_type": "stream",
     "text": [
      "Processed 96/162 - Category: Wrong Answer, Correct Explanation\n"
     ]
    },
    {
     "name": "stderr",
     "output_type": "stream",
     "text": [
      "Checking AI Answers:  60%|█████▉    | 97/162 [10:10<06:43,  6.21s/it]"
     ]
    },
    {
     "name": "stdout",
     "output_type": "stream",
     "text": [
      "Processed 97/162 - Category: AI Not Generated\n"
     ]
    },
    {
     "name": "stderr",
     "output_type": "stream",
     "text": [
      "Checking AI Answers:  60%|██████    | 98/162 [10:16<06:24,  6.01s/it]"
     ]
    },
    {
     "name": "stdout",
     "output_type": "stream",
     "text": [
      "Processed 98/162 - Category: Both Correct\n"
     ]
    },
    {
     "name": "stderr",
     "output_type": "stream",
     "text": [
      "Checking AI Answers:  61%|██████    | 99/162 [10:21<05:57,  5.68s/it]"
     ]
    },
    {
     "name": "stdout",
     "output_type": "stream",
     "text": [
      "Processed 99/162 - Category: Both Correct\n"
     ]
    },
    {
     "name": "stderr",
     "output_type": "stream",
     "text": [
      "Checking AI Answers:  62%|██████▏   | 100/162 [10:27<06:09,  5.96s/it]"
     ]
    },
    {
     "name": "stdout",
     "output_type": "stream",
     "text": [
      "Processed 100/162 - Category: Both Correct\n"
     ]
    },
    {
     "name": "stderr",
     "output_type": "stream",
     "text": [
      "Checking AI Answers:  62%|██████▏   | 101/162 [10:33<05:58,  5.87s/it]"
     ]
    },
    {
     "name": "stdout",
     "output_type": "stream",
     "text": [
      "Processed 101/162 - Category: Both Correct\n"
     ]
    },
    {
     "name": "stderr",
     "output_type": "stream",
     "text": [
      "Checking AI Answers:  63%|██████▎   | 102/162 [10:38<05:35,  5.60s/it]"
     ]
    },
    {
     "name": "stdout",
     "output_type": "stream",
     "text": [
      "Processed 102/162 - Category: Both Correct\n"
     ]
    },
    {
     "name": "stderr",
     "output_type": "stream",
     "text": [
      "Checking AI Answers:  64%|██████▎   | 103/162 [10:43<05:17,  5.37s/it]"
     ]
    },
    {
     "name": "stdout",
     "output_type": "stream",
     "text": [
      "Processed 103/162 - Category: Both Correct\n"
     ]
    },
    {
     "name": "stderr",
     "output_type": "stream",
     "text": [
      "Checking AI Answers:  64%|██████▍   | 104/162 [10:49<05:22,  5.55s/it]"
     ]
    },
    {
     "name": "stdout",
     "output_type": "stream",
     "text": [
      "Processed 104/162 - Category: Wrong Answer, Correct Explanation\n"
     ]
    },
    {
     "name": "stderr",
     "output_type": "stream",
     "text": [
      "Checking AI Answers:  65%|██████▍   | 105/162 [10:54<05:21,  5.64s/it]"
     ]
    },
    {
     "name": "stdout",
     "output_type": "stream",
     "text": [
      "Processed 105/162 - Category: Correct Answer, Wrong Explanation\n"
     ]
    },
    {
     "name": "stderr",
     "output_type": "stream",
     "text": [
      "Checking AI Answers:  65%|██████▌   | 106/162 [10:59<04:59,  5.35s/it]"
     ]
    },
    {
     "name": "stdout",
     "output_type": "stream",
     "text": [
      "Processed 106/162 - Category: Both Correct\n"
     ]
    },
    {
     "name": "stderr",
     "output_type": "stream",
     "text": [
      "Checking AI Answers:  66%|██████▌   | 107/162 [11:05<05:10,  5.64s/it]"
     ]
    },
    {
     "name": "stdout",
     "output_type": "stream",
     "text": [
      "Processed 107/162 - Category: Wrong Answer, Correct Explanation\n"
     ]
    },
    {
     "name": "stderr",
     "output_type": "stream",
     "text": [
      "Checking AI Answers:  67%|██████▋   | 108/162 [11:11<04:57,  5.50s/it]"
     ]
    },
    {
     "name": "stdout",
     "output_type": "stream",
     "text": [
      "Processed 108/162 - Category: Wrong Answer, Correct Explanation\n"
     ]
    },
    {
     "name": "stderr",
     "output_type": "stream",
     "text": [
      "Checking AI Answers:  67%|██████▋   | 109/162 [11:17<04:56,  5.60s/it]"
     ]
    },
    {
     "name": "stdout",
     "output_type": "stream",
     "text": [
      "Processed 109/162 - Category: Both Incorrect\n"
     ]
    },
    {
     "name": "stderr",
     "output_type": "stream",
     "text": [
      "Checking AI Answers:  68%|██████▊   | 110/162 [11:22<04:48,  5.55s/it]"
     ]
    },
    {
     "name": "stdout",
     "output_type": "stream",
     "text": [
      "Processed 110/162 - Category: Correct Answer, Wrong Explanation\n"
     ]
    },
    {
     "name": "stderr",
     "output_type": "stream",
     "text": [
      "Checking AI Answers:  69%|██████▊   | 111/162 [11:28<04:45,  5.61s/it]"
     ]
    },
    {
     "name": "stdout",
     "output_type": "stream",
     "text": [
      "Processed 111/162 - Category: Both Correct\n"
     ]
    },
    {
     "name": "stderr",
     "output_type": "stream",
     "text": [
      "Checking AI Answers:  69%|██████▉   | 112/162 [11:33<04:31,  5.43s/it]"
     ]
    },
    {
     "name": "stdout",
     "output_type": "stream",
     "text": [
      "Processed 112/162 - Category: Both Correct\n"
     ]
    },
    {
     "name": "stderr",
     "output_type": "stream",
     "text": [
      "Checking AI Answers:  70%|██████▉   | 113/162 [11:38<04:17,  5.25s/it]"
     ]
    },
    {
     "name": "stdout",
     "output_type": "stream",
     "text": [
      "Processed 113/162 - Category: Both Incorrect\n"
     ]
    },
    {
     "name": "stderr",
     "output_type": "stream",
     "text": [
      "Checking AI Answers:  70%|███████   | 114/162 [11:43<04:21,  5.45s/it]"
     ]
    },
    {
     "name": "stdout",
     "output_type": "stream",
     "text": [
      "Processed 114/162 - Category: Both Correct\n"
     ]
    },
    {
     "name": "stderr",
     "output_type": "stream",
     "text": [
      "Checking AI Answers:  71%|███████   | 115/162 [11:49<04:20,  5.54s/it]"
     ]
    },
    {
     "name": "stdout",
     "output_type": "stream",
     "text": [
      "Processed 115/162 - Category: Both Correct\n"
     ]
    },
    {
     "name": "stderr",
     "output_type": "stream",
     "text": [
      "Checking AI Answers:  72%|███████▏  | 116/162 [11:55<04:16,  5.57s/it]"
     ]
    },
    {
     "name": "stdout",
     "output_type": "stream",
     "text": [
      "Processed 116/162 - Category: Both Correct\n"
     ]
    },
    {
     "name": "stderr",
     "output_type": "stream",
     "text": [
      "Checking AI Answers:  72%|███████▏  | 117/162 [12:00<04:10,  5.57s/it]"
     ]
    },
    {
     "name": "stdout",
     "output_type": "stream",
     "text": [
      "Processed 117/162 - Category: Both Correct\n"
     ]
    },
    {
     "name": "stderr",
     "output_type": "stream",
     "text": [
      "Checking AI Answers:  73%|███████▎  | 118/162 [12:06<04:07,  5.63s/it]"
     ]
    },
    {
     "name": "stdout",
     "output_type": "stream",
     "text": [
      "Processed 118/162 - Category: Wrong Answer, Correct Explanation\n"
     ]
    },
    {
     "name": "stderr",
     "output_type": "stream",
     "text": [
      "Checking AI Answers:  73%|███████▎  | 119/162 [12:12<04:02,  5.64s/it]"
     ]
    },
    {
     "name": "stdout",
     "output_type": "stream",
     "text": [
      "Processed 119/162 - Category: Both Correct\n"
     ]
    },
    {
     "name": "stderr",
     "output_type": "stream",
     "text": [
      "Checking AI Answers:  74%|███████▍  | 120/162 [12:18<04:04,  5.82s/it]"
     ]
    },
    {
     "name": "stdout",
     "output_type": "stream",
     "text": [
      "Processed 120/162 - Category: Both Correct\n"
     ]
    },
    {
     "name": "stderr",
     "output_type": "stream",
     "text": [
      "Checking AI Answers:  75%|███████▍  | 121/162 [12:24<03:58,  5.82s/it]"
     ]
    },
    {
     "name": "stdout",
     "output_type": "stream",
     "text": [
      "Processed 121/162 - Category: Both Correct\n"
     ]
    },
    {
     "name": "stderr",
     "output_type": "stream",
     "text": [
      "Checking AI Answers:  75%|███████▌  | 122/162 [12:30<03:51,  5.80s/it]"
     ]
    },
    {
     "name": "stdout",
     "output_type": "stream",
     "text": [
      "Processed 122/162 - Category: Both Correct\n"
     ]
    },
    {
     "name": "stderr",
     "output_type": "stream",
     "text": [
      "Checking AI Answers:  76%|███████▌  | 123/162 [12:35<03:45,  5.78s/it]"
     ]
    },
    {
     "name": "stdout",
     "output_type": "stream",
     "text": [
      "Processed 123/162 - Category: Both Correct\n"
     ]
    },
    {
     "name": "stderr",
     "output_type": "stream",
     "text": [
      "Checking AI Answers:  77%|███████▋  | 124/162 [12:45<04:18,  6.81s/it]"
     ]
    },
    {
     "name": "stdout",
     "output_type": "stream",
     "text": [
      "Processed 124/162 - Category: Both Correct\n"
     ]
    },
    {
     "name": "stderr",
     "output_type": "stream",
     "text": [
      "Checking AI Answers:  77%|███████▋  | 125/162 [12:50<04:01,  6.52s/it]"
     ]
    },
    {
     "name": "stdout",
     "output_type": "stream",
     "text": [
      "Processed 125/162 - Category: Both Incorrect\n"
     ]
    },
    {
     "name": "stderr",
     "output_type": "stream",
     "text": [
      "Checking AI Answers:  78%|███████▊  | 126/162 [12:56<03:47,  6.31s/it]"
     ]
    },
    {
     "name": "stdout",
     "output_type": "stream",
     "text": [
      "Processed 126/162 - Category: Wrong Answer, Correct Explanation\n"
     ]
    },
    {
     "name": "stderr",
     "output_type": "stream",
     "text": [
      "Checking AI Answers:  78%|███████▊  | 127/162 [13:27<07:52, 13.50s/it]"
     ]
    },
    {
     "name": "stdout",
     "output_type": "stream",
     "text": [
      "Processed 127/162 - Category: Wrong Answer, Correct Explanation\n"
     ]
    },
    {
     "name": "stderr",
     "output_type": "stream",
     "text": [
      "Checking AI Answers:  79%|███████▉  | 128/162 [13:42<07:58, 14.07s/it]"
     ]
    },
    {
     "name": "stdout",
     "output_type": "stream",
     "text": [
      "Processed 128/162 - Category: Both Incorrect\n"
     ]
    },
    {
     "name": "stderr",
     "output_type": "stream",
     "text": [
      "Checking AI Answers:  80%|███████▉  | 129/162 [13:48<06:21, 11.57s/it]"
     ]
    },
    {
     "name": "stdout",
     "output_type": "stream",
     "text": [
      "Processed 129/162 - Category: Both Correct\n"
     ]
    },
    {
     "name": "stderr",
     "output_type": "stream",
     "text": [
      "Checking AI Answers:  80%|████████  | 130/162 [13:53<05:14,  9.82s/it]"
     ]
    },
    {
     "name": "stdout",
     "output_type": "stream",
     "text": [
      "Processed 130/162 - Category: Wrong Answer, Correct Explanation\n"
     ]
    },
    {
     "name": "stderr",
     "output_type": "stream",
     "text": [
      "Checking AI Answers:  81%|████████  | 131/162 [13:59<04:28,  8.65s/it]"
     ]
    },
    {
     "name": "stdout",
     "output_type": "stream",
     "text": [
      "Processed 131/162 - Category: Both Correct\n"
     ]
    },
    {
     "name": "stderr",
     "output_type": "stream",
     "text": [
      "Checking AI Answers:  81%|████████▏ | 132/162 [14:05<03:56,  7.87s/it]"
     ]
    },
    {
     "name": "stdout",
     "output_type": "stream",
     "text": [
      "Processed 132/162 - Category: Both Correct\n"
     ]
    },
    {
     "name": "stderr",
     "output_type": "stream",
     "text": [
      "Checking AI Answers:  82%|████████▏ | 133/162 [14:10<03:22,  6.98s/it]"
     ]
    },
    {
     "name": "stdout",
     "output_type": "stream",
     "text": [
      "Processed 133/162 - Category: Both Correct\n"
     ]
    },
    {
     "name": "stderr",
     "output_type": "stream",
     "text": [
      "Checking AI Answers:  83%|████████▎ | 134/162 [14:16<03:00,  6.46s/it]"
     ]
    },
    {
     "name": "stdout",
     "output_type": "stream",
     "text": [
      "Processed 134/162 - Category: Wrong Answer, Correct Explanation\n"
     ]
    },
    {
     "name": "stderr",
     "output_type": "stream",
     "text": [
      "Checking AI Answers:  83%|████████▎ | 135/162 [14:21<02:49,  6.27s/it]"
     ]
    },
    {
     "name": "stdout",
     "output_type": "stream",
     "text": [
      "Processed 135/162 - Category: Both Incorrect\n"
     ]
    },
    {
     "name": "stderr",
     "output_type": "stream",
     "text": [
      "Checking AI Answers:  84%|████████▍ | 136/162 [14:27<02:41,  6.20s/it]"
     ]
    },
    {
     "name": "stdout",
     "output_type": "stream",
     "text": [
      "Processed 136/162 - Category: Both Incorrect\n"
     ]
    },
    {
     "name": "stderr",
     "output_type": "stream",
     "text": [
      "Checking AI Answers:  85%|████████▍ | 137/162 [14:33<02:33,  6.15s/it]"
     ]
    },
    {
     "name": "stdout",
     "output_type": "stream",
     "text": [
      "Processed 137/162 - Category: Both Correct\n"
     ]
    },
    {
     "name": "stderr",
     "output_type": "stream",
     "text": [
      "Checking AI Answers:  85%|████████▌ | 138/162 [14:39<02:24,  6.02s/it]"
     ]
    },
    {
     "name": "stdout",
     "output_type": "stream",
     "text": [
      "Processed 138/162 - Category: Both Correct\n"
     ]
    },
    {
     "name": "stderr",
     "output_type": "stream",
     "text": [
      "Checking AI Answers:  86%|████████▌ | 139/162 [14:44<02:10,  5.67s/it]"
     ]
    },
    {
     "name": "stdout",
     "output_type": "stream",
     "text": [
      "Processed 139/162 - Category: Both Correct\n"
     ]
    },
    {
     "name": "stderr",
     "output_type": "stream",
     "text": [
      "Checking AI Answers:  86%|████████▋ | 140/162 [14:49<01:59,  5.41s/it]"
     ]
    },
    {
     "name": "stdout",
     "output_type": "stream",
     "text": [
      "Processed 140/162 - Category: Both Correct\n"
     ]
    },
    {
     "name": "stderr",
     "output_type": "stream",
     "text": [
      "Checking AI Answers:  87%|████████▋ | 141/162 [14:54<01:52,  5.36s/it]"
     ]
    },
    {
     "name": "stdout",
     "output_type": "stream",
     "text": [
      "Processed 141/162 - Category: Wrong Answer, Correct Explanation\n"
     ]
    },
    {
     "name": "stderr",
     "output_type": "stream",
     "text": [
      "Checking AI Answers:  88%|████████▊ | 142/162 [15:00<01:49,  5.47s/it]"
     ]
    },
    {
     "name": "stdout",
     "output_type": "stream",
     "text": [
      "Processed 142/162 - Category: Both Correct\n"
     ]
    },
    {
     "name": "stderr",
     "output_type": "stream",
     "text": [
      "Checking AI Answers:  88%|████████▊ | 143/162 [15:04<01:39,  5.22s/it]"
     ]
    },
    {
     "name": "stdout",
     "output_type": "stream",
     "text": [
      "Processed 143/162 - Category: Both Correct\n"
     ]
    },
    {
     "name": "stderr",
     "output_type": "stream",
     "text": [
      "Checking AI Answers:  89%|████████▉ | 144/162 [15:10<01:36,  5.37s/it]"
     ]
    },
    {
     "name": "stdout",
     "output_type": "stream",
     "text": [
      "Processed 144/162 - Category: AI Not Generated\n"
     ]
    },
    {
     "name": "stderr",
     "output_type": "stream",
     "text": [
      "Checking AI Answers:  90%|████████▉ | 145/162 [15:17<01:38,  5.81s/it]"
     ]
    },
    {
     "name": "stdout",
     "output_type": "stream",
     "text": [
      "Processed 145/162 - Category: Both Incorrect\n"
     ]
    },
    {
     "name": "stderr",
     "output_type": "stream",
     "text": [
      "Checking AI Answers:  90%|█████████ | 146/162 [15:22<01:28,  5.51s/it]"
     ]
    },
    {
     "name": "stdout",
     "output_type": "stream",
     "text": [
      "Processed 146/162 - Category: Both Correct\n"
     ]
    },
    {
     "name": "stderr",
     "output_type": "stream",
     "text": [
      "Checking AI Answers:  91%|█████████ | 147/162 [15:28<01:24,  5.60s/it]"
     ]
    },
    {
     "name": "stdout",
     "output_type": "stream",
     "text": [
      "Processed 147/162 - Category: Both Incorrect\n"
     ]
    },
    {
     "name": "stderr",
     "output_type": "stream",
     "text": [
      "Checking AI Answers:  91%|█████████▏| 148/162 [15:34<01:20,  5.77s/it]"
     ]
    },
    {
     "name": "stdout",
     "output_type": "stream",
     "text": [
      "Processed 148/162 - Category: Wrong Answer, Correct Explanation\n"
     ]
    },
    {
     "name": "stderr",
     "output_type": "stream",
     "text": [
      "Checking AI Answers:  92%|█████████▏| 149/162 [15:39<01:14,  5.73s/it]"
     ]
    },
    {
     "name": "stdout",
     "output_type": "stream",
     "text": [
      "Processed 149/162 - Category: Both Correct\n"
     ]
    },
    {
     "name": "stderr",
     "output_type": "stream",
     "text": [
      "Checking AI Answers:  93%|█████████▎| 150/162 [15:45<01:08,  5.73s/it]"
     ]
    },
    {
     "name": "stdout",
     "output_type": "stream",
     "text": [
      "Processed 150/162 - Category: Both Correct\n"
     ]
    },
    {
     "name": "stderr",
     "output_type": "stream",
     "text": [
      "Checking AI Answers:  93%|█████████▎| 151/162 [15:51<01:03,  5.80s/it]"
     ]
    },
    {
     "name": "stdout",
     "output_type": "stream",
     "text": [
      "Processed 151/162 - Category: Wrong Answer, Correct Explanation\n"
     ]
    },
    {
     "name": "stderr",
     "output_type": "stream",
     "text": [
      "Checking AI Answers:  94%|█████████▍| 152/162 [15:56<00:55,  5.58s/it]"
     ]
    },
    {
     "name": "stdout",
     "output_type": "stream",
     "text": [
      "Processed 152/162 - Category: Wrong Answer, Correct Explanation\n"
     ]
    },
    {
     "name": "stderr",
     "output_type": "stream",
     "text": [
      "Checking AI Answers:  94%|█████████▍| 153/162 [16:04<00:55,  6.13s/it]"
     ]
    },
    {
     "name": "stdout",
     "output_type": "stream",
     "text": [
      "Processed 153/162 - Category: Wrong Answer, Correct Explanation\n"
     ]
    },
    {
     "name": "stderr",
     "output_type": "stream",
     "text": [
      "Checking AI Answers:  95%|█████████▌| 154/162 [16:09<00:48,  6.02s/it]"
     ]
    },
    {
     "name": "stdout",
     "output_type": "stream",
     "text": [
      "Processed 154/162 - Category: Both Correct\n"
     ]
    },
    {
     "name": "stderr",
     "output_type": "stream",
     "text": [
      "Checking AI Answers:  96%|█████████▌| 155/162 [16:15<00:41,  5.86s/it]"
     ]
    },
    {
     "name": "stdout",
     "output_type": "stream",
     "text": [
      "Processed 155/162 - Category: Both Incorrect\n"
     ]
    },
    {
     "name": "stderr",
     "output_type": "stream",
     "text": [
      "Checking AI Answers:  96%|█████████▋| 156/162 [16:20<00:34,  5.76s/it]"
     ]
    },
    {
     "name": "stdout",
     "output_type": "stream",
     "text": [
      "Processed 156/162 - Category: Wrong Answer, Correct Explanation\n"
     ]
    },
    {
     "name": "stderr",
     "output_type": "stream",
     "text": [
      "Checking AI Answers:  97%|█████████▋| 157/162 [16:26<00:29,  5.82s/it]"
     ]
    },
    {
     "name": "stdout",
     "output_type": "stream",
     "text": [
      "Processed 157/162 - Category: Both Correct\n"
     ]
    },
    {
     "name": "stderr",
     "output_type": "stream",
     "text": [
      "Checking AI Answers:  98%|█████████▊| 158/162 [16:32<00:23,  5.79s/it]"
     ]
    },
    {
     "name": "stdout",
     "output_type": "stream",
     "text": [
      "Processed 158/162 - Category: Both Correct\n"
     ]
    },
    {
     "name": "stderr",
     "output_type": "stream",
     "text": [
      "Checking AI Answers:  98%|█████████▊| 159/162 [16:37<00:16,  5.53s/it]"
     ]
    },
    {
     "name": "stdout",
     "output_type": "stream",
     "text": [
      "Processed 159/162 - Category: Both Correct\n"
     ]
    },
    {
     "name": "stderr",
     "output_type": "stream",
     "text": [
      "Checking AI Answers:  99%|█████████▉| 160/162 [16:43<00:11,  5.56s/it]"
     ]
    },
    {
     "name": "stdout",
     "output_type": "stream",
     "text": [
      "Processed 160/162 - Category: Both Correct\n"
     ]
    },
    {
     "name": "stderr",
     "output_type": "stream",
     "text": [
      "Checking AI Answers:  99%|█████████▉| 161/162 [16:48<00:05,  5.58s/it]"
     ]
    },
    {
     "name": "stdout",
     "output_type": "stream",
     "text": [
      "Processed 161/162 - Category: Both Correct\n"
     ]
    },
    {
     "name": "stderr",
     "output_type": "stream",
     "text": [
      "Checking AI Answers: 100%|██████████| 162/162 [16:54<00:00,  6.26s/it]"
     ]
    },
    {
     "name": "stdout",
     "output_type": "stream",
     "text": [
      "Processed 162/162 - Category: Both Correct\n"
     ]
    },
    {
     "name": "stderr",
     "output_type": "stream",
     "text": [
      "\n"
     ]
    },
    {
     "data": {
      "application/vnd.microsoft.datawrangler.viewer.v0+json": {
       "columns": [
        {
         "name": "index",
         "rawType": "int64",
         "type": "integer"
        },
        {
         "name": "Unnamed: 0.1",
         "rawType": "int64",
         "type": "integer"
        },
        {
         "name": "Unnamed: 0",
         "rawType": "int64",
         "type": "integer"
        },
        {
         "name": "Question",
         "rawType": "object",
         "type": "string"
        },
        {
         "name": "Solution",
         "rawType": "object",
         "type": "string"
        },
        {
         "name": "Answer",
         "rawType": "object",
         "type": "string"
        },
        {
         "name": "AI Solution",
         "rawType": "object",
         "type": "string"
        },
        {
         "name": "AI Answer",
         "rawType": "object",
         "type": "string"
        },
        {
         "name": "Category",
         "rawType": "object",
         "type": "string"
        },
        {
         "name": "Explanation",
         "rawType": "object",
         "type": "string"
        }
       ],
       "conversionMethod": "pd.DataFrame",
       "ref": "6288b25b-2bbf-472d-b601-7b15113444fc",
       "rows": [
        [
         "0",
         "0",
         "0",
         "Cho hai số phức $z_1 = 1 + 10i$ và $z_2 = 9 – 2i$. Số phức $z = z_1 + z_2$ có z1 có phần thực là:",
         "Ta có: $z = z_1 + z_2 = (1 + 10i) + ( 9 – 2i) = 10 + 8i$. Do đó, phần thực của số phức z là 10.",
         "10",
         "\nĐể giải bài toán, ta thực hiện các bước sau:\n\n1. **Tính tổng hai số phức**:\n   \\[\n   z = z_1 + z_2 = (1 + 10i) + (9 - 2i)\n   \\]\n\n2. **Cộng các phần thực và phần ảo**:\n   - Phần thực: $1 + 9 = 10$\n   - Phần ảo: $10i - 2i = 8i$\n\n   Do đó, ta có:\n   \\[\n   z = 10 + 8i\n   \\]\n\n3. **Xác định phần thực của số phức $z$**:\n   Phần thực của $z$ là $10$.\n\nVậy, phần thực của số phức $z$ là $10$.\n",
         "\nPhần thực của số phức $z$ là $10$.\n",
         "Both Correct",
         "No explanation provided"
        ],
        [
         "1",
         "1",
         "1",
         "Hãy tính số phức z. Biết rằng: $z = 10i – ( 2 + 2i).i$",
         "Ta có: $z = 10i - (2 + 2i).i = 10i – 2i + 2 = 2 + 8i$",
         "2 + 8i",
         "\nĐể tính số phức $z$, ta sẽ thực hiện các bước sau:\n\n1. **Thay thế và sắp xếp biểu thức**:\n   \\[\n   z = 10i - (2 + 2i)i\n   \\]\n\n2. **Tính toán phần trong dấu ngoặc**:\n   \\[\n   (2 + 2i)i = 2i + 2i^2\n   \\]\n   Biết rằng $i^2 = -1$, ta có:\n   \\[\n   2i^2 = 2(-1) = -2\n   \\]\n   Vậy:\n   \\[\n   (2 + 2i)i = 2i - 2\n   \\]\n\n3. **Thay vào biểu thức của $z$**:\n   \\[\n   z = 10i - (2i - 2)\n   \\]\n\n4. **Phân phối dấu trừ**:\n   \\[\n   z = 10i - 2i + 2\n   \\]\n\n5. **Gộp các phần tương tự**:\n   \\[\n   z = (10i - 2i) + 2 = 8i + 2\n   \\]\n\n6. **Viết lại dưới dạng số phức**:\n   \\[\n   z = 2 + 8i\n   \\]\n\nVậy số phức $z$ là $2 + 8i$.\n",
         "\n$z = 2 + 8i$\n",
         "Both Correct",
         "No explanation provided"
        ],
        [
         "2",
         "2",
         "2",
         "Cho hai số phức $z = -2 + 3yi$; $z’ = ( x + 1)- 4i$ với $x,y ∈ R$. Tìm x; y để $z + i= z’ + 2$",
         "Để $z + i = z’ + 2$ => - 2 + 3yi + i = ( x + 1) – 4i + 2 => - 2 + (3y + 1).i = ( x + 3)- 4i. Do đó ta có hệ phương trình : -2 = x+3 , 3y + 1 = -4 => x = -5, y=-5/3",
         "x = -5, y = -5/3",
         "\nĐể giải bài toán, ta bắt đầu từ phương trình đã cho:\n\n\\[\nz + i = z' + 2\n\\]\n\nThay các giá trị của $z$ và $z'$ vào phương trình:\n\n\\[\n(-2 + 3yi) + i = (x + 1) - 4i + 2\n\\]\n\nRút gọn hai vế:\n\n\\[\n-2 + (3y + 1)i = (x + 3) - 4i\n\\]\n\nBây giờ, ta tách phần thực và phần ảo của hai vế:\n\n1. Phần thực: \n\\[\n-2 = x + 3\n\\]\n\n2. Phần ảo: \n\\[\n3y + 1 = -4\n\\]\n\nGiải phương trình phần thực:\n\n\\[\nx = -2 - 3 = -5\n\\]\n\nGiải phương trình phần ảo:\n\n\\[\n3y + 1 = -4 \\implies 3y = -4 - 1 \\implies 3y = -5 \\implies y = -\\frac{5}{3}\n\\]\n\nVậy ta có:\n\n\\[\nx = -5, \\quad y = -\\frac{5}{3}\n\\]\n\n",
         "\n$x = -5, \\quad y = -\\frac{5}{3}$\n",
         "Both Correct",
         "No explanation provided"
        ],
        [
         "3",
         "3",
         "3",
         "Số nào trong các số phức sau là số thuần ảo? A. (√2 + i) - (1 + √2i); B. ( 8 + 2i) + (- 8 + 2i); C. ( - 3 + i) – ( 3 - i); D. (10 + 3i) – ( -10 – 3i)",
         "Ta xét các phương án:A.(√2 + i) - (1 + √2i)= (√2 - 1) - (1 - √2) không là số thuần ảo; B.(8 + 2i) + (- 8 + 2i) = 4i là số thuần ảo; C.(-3 + i) – (3- i) = - 3 + i – 3 + i= - 6 + 2i không là số thuần ảo.; D.(10 + 3i) – ( -10 – 3i) = 10 + 3i + 10 + 3i = 20 + 6i không là số thuần ảo.",
         "B. ( 8 + 2i) + (- 8 + 2i)",
         "\nĐể xác định số nào trong các số phức đã cho là số thuần ảo, ta cần kiểm tra phần thực của từng số phức. Một số phức được gọi là số thuần ảo nếu phần thực của nó bằng 0.\n\nTa sẽ tính từng số phức:\n\nA. \n\\[\n( \\sqrt{2} + i) - (1 + \\sqrt{2}i) = \\sqrt{2} - 1 + (1 - \\sqrt{2})i\n\\]\nPhần thực: $\\sqrt{2} - 1$ (không bằng 0)  \nPhần ảo: $1 - \\sqrt{2}$\n\nB. \n\\[\n(8 + 2i) + (-8 + 2i) = (8 - 8) + (2 + 2)i = 0 + 4i\n\\]\nPhần thực: $0$ (bằng 0)  \nPhần ảo: $4$\n\nC. \n\\[\n(-3 + i) - (3 - i) = -3 - 3 + (1 + 1)i = -6 + 2i\n\\]\nPhần thực: $-6$ (không bằng 0)  \nPhần ảo: $2$\n\nD. \n\\[\n(10 + 3i) - (-10 - 3i) = 10 + 10 + (3 + 3)i = 20 + 6i\n\\]\nPhần thực: $20$ (không bằng 0)  \nPhần ảo: $6$\n\nTóm lại, chỉ có số phức B có phần thực bằng 0, do đó số phức này là số thuần ảo.\n",
         "\nSố thuần ảo là: B. $(8 + 2i) + (-8 + 2i) = 4i$\n",
         "Correct Answer, Wrong Explanation",
         "No explanation provided"
        ],
        [
         "4",
         "4",
         "4",
         "Tính giá trị của P = i^{105} + i^{23} + i^{20} - i^{34}",
         "Ta có: $i^2 = -1 \\Rightarrow i^4 = 1$. Do đó, $P = i^{105} + i^{23} + i^{20} - i^{34} = i^{104+1} + i^{20+3} + i^{4 \\cdot 5} - i^{4 \\cdot 8 + 2} = i \\cdot i^{4 \\cdot 26} + i^2 \\cdot i \\cdot i^{4 \\cdot 5} + 1 - i^2 \\cdot i^{4 \\cdot 8} = i \\cdot 1 + (-1) \\cdot i \\cdot 1 + 1 - (-1) \\cdot 1 = 2$",
         "2",
         "\nĐể tính giá trị của biểu thức $P = i^{105} + i^{23} + i^{20} - i^{34}$, trước tiên chúng ta cần nhớ rằng số ảo $i$ có tính chất đặc biệt:\n\n\\[\ni^1 = i, \\quad i^2 = -1, \\quad i^3 = -i, \\quad i^4 = 1\n\\]\n\nSau đó, các lũy thừa của $i$ sẽ lặp lại theo chu kỳ 4. Do đó, để tính $i^n$, chúng ta chỉ cần tính $n \\mod 4$.\n\n1. **Tính $i^{105}$**:\n   \\[\n   105 \\mod 4 = 1 \\quad \\Rightarrow \\quad i^{105} = i^1 = i\n   \\]\n\n2. **Tính $i^{23}$**:\n   \\[\n   23 \\mod 4 = 3 \\quad \\Rightarrow \\quad i^{23} = i^3 = -i\n   \\]\n\n3. **Tính $i^{20}$**:\n   \\[\n   20 \\mod 4 = 0 \\quad \\Rightarrow \\quad i^{20} = i^0 = 1\n   \\]\n\n4. **Tính $i^{34}$**:\n   \\[\n   34 \\mod 4 = 2 \\quad \\Rightarrow \\quad i^{34} = i^2 = -1\n   \\]\n\nBây giờ, chúng ta thay các giá trị đã tính vào biểu thức $P$:\n\n\\[\nP = i + (-i) + 1 - (-1)\n\\]\n\nTiến hành tính toán:\n\n\\[\nP = i - i + 1 + 1 = 0 + 2 = 2\n\\]\n\nVậy giá trị của $P$ là:\n\n\\[\nP = 2\n\\]\n",
         "\nP = 2\n",
         "Both Correct",
         "No explanation provided"
        ],
        [
         "5",
         "5",
         "5",
         "Giá trị của biểu thức $A = \\left( \\frac{1+i}{1-i} \\right)^{2016} + \\left( \\frac{1-i}{1+i} \\right)^{2018}$ bằng ?",
         "Ta có: $\\frac{1+i}{1-i} = \\frac{(1+i)^2}{(1-i).(1+i)} = \\frac{1+2i+i^2}{1-i^2} = \\frac{2i}{2} = i$; $\\frac{1-i}{1+i} = \\frac{(1-i)^2}{(1+i).(1-i)} = \\frac{1-2i+i^2}{1-i^2} = \\frac{-2i}{2} = -i$; Suy ra: $A = \\left( \\frac{1+i}{1-i} \\right)^{2016} + \\left( \\frac{1-i}{1+i} \\right)^{2018} = i^{2016} + (-i)^{2018} = (i^2)^{1008} + (i^2)^{1009} = (-1)^{1008} + (-1)^{1009} = 1 - 1 = 0$",
         "0",
         "\nĐể giải bài toán, ta sẽ tính giá trị của biểu thức $A = \\left( \\frac{1+i}{1-i} \\right)^{2016} + \\left( \\frac{1-i}{1+i} \\right)^{2018}$.\n\nBước 1: Tính giá trị của $\\frac{1+i}{1-i}$.\n\nTa có:\n\\[\n\\frac{1+i}{1-i} = \\frac{(1+i)(1+i)}{(1-i)(1+i)} = \\frac{1 + 2i - 1}{1 + 1} = \\frac{2i}{2} = i\n\\]\n\nBước 2: Tính giá trị của $\\frac{1-i}{1+i}$.\n\nTương tự, ta có:\n\\[\n\\frac{1-i}{1+i} = \\frac{(1-i)(1-i)}{(1+i)(1-i)} = \\frac{1 - 2i - 1}{1 + 1} = \\frac{-2i}{2} = -i\n\\]\n\nBước 3: Thay vào biểu thức $A$.\n\nTa có:\n\\[\nA = \\left( i \\right)^{2016} + \\left( -i \\right)^{2018}\n\\]\n\nBước 4: Tính từng phần.\n\n- Tính $i^{2016}$:\n  - Nhận thấy rằng $i^4 = 1$, do đó $i^{2016} = (i^4)^{504} = 1^{504} = 1$.\n\n- Tính $(-i)^{2018}$:\n  - Ta có $(-i)^{2018} = (-1)^{2018} \\cdot i^{2018} = 1 \\cdot (i^4)^{504} \\cdot i^2 = 1 \\cdot 1 \\cdot (-1) = -1$.\n\nBước 5: Kết hợp các kết quả lại.\n\nVậy:\n\\[\nA = 1 + (-1) = 0\n\\]\n\nCuối cùng, giá trị của biểu thức $A$ là $0$.\n",
         "\n$0$\n",
         "Both Correct",
         "No explanation provided"
        ],
        [
         "6",
         "6",
         "6",
         "Cho $P = 1 + i + i^2 + i^3 + ... + i^{2017}$. Tính P?",
         "Ta có: $P = 1 + i + i^2 + i^3 + ... + i^{2017}$ $iP = i + i^2 + i^3 + ... + i^{2018}$ $\\Rightarrow P - iP = 1 - i^{2018}$ $\\Rightarrow P = \\frac{1 - i^{2018}}{1 - i} = \\frac{1 - (i^2)^{1009}}{1-i} = \\frac{2}{1-i} = \\frac{2(1+i)}{(1-i).(1+i)} = \\frac{2(1+i)}{2} = 1 + i$",
         "1 + i",
         "\nĐể tính giá trị của $P = 1 + i + i^2 + i^3 + ... + i^{2017}$, ta nhận thấy rằng dãy số này là một chuỗi số phức với cơ số là $i$. \n\nTrước tiên, ta cần biết rằng $i$ là đơn vị ảo, với tính chất:\n\\[\ni^1 = i, \\quad i^2 = -1, \\quad i^3 = -i, \\quad i^4 = 1\n\\]\nSau đó, chu kỳ của $i$ là 4, tức là:\n\\[\ni^n = \n\\begin{cases} \n1 & \\text{nếu } n \\equiv 0 \\mod 4 \\\\ \ni & \\text{nếu } n \\equiv 1 \\mod 4 \\\\ \n-1 & \\text{nếu } n \\equiv 2 \\mod 4 \\\\ \n-i & \\text{nếu } n \\equiv 3 \\mod 4 \n\\end{cases}\n\\]\n\nBây giờ, ta sẽ tính tổng $P$ bằng cách sử dụng công thức tổng của một cấp số cộng. \n\nSố hạng đầu tiên là $1$ và số hạng cuối cùng là $i^{2017}$. Để tìm $i^{2017}$, ta tính $2017 \\mod 4$:\n\\[\n2017 \\div 4 = 504 \\quad \\text{và dư } 1 \\quad \\Rightarrow \\quad 2017 \\equiv 1 \\mod 4 \\quad \\Rightarrow \\quad i^{2017} = i\n\\]\n\nVậy ta có:\n\\[\nP = 1 + i + i^2 + i^3 + ... + i^{2017} = 1 + i + (-1) + (-i) + \\text{(các nhóm 4 số hạng tiếp theo)}\n\\]\n\nMỗi nhóm 4 số hạng $1 + i - 1 - i = 0$. \n\nSố lượng các số hạng từ $i^0$ đến $i^{2017}$ là $2018$ (từ $0$ đến $2017$). \n\nChia $2018$ cho $4$:\n\\[\n2018 \\div 4 = 504 \\quad \\text{và dư } 2\n\\]\nĐiều này có nghĩa là có $504$ nhóm $4$ số hạng, mỗi nhóm cho tổng là $0$, và còn lại $2$ số hạng cuối cùng là $1 + i$.\n\nDo đó, tổng $P$ sẽ là:\n\\[\nP = 504 \\cdot 0 + (1 + i) = 1 + i\n\\]\n",
         "\n$P = 1 + i$\n",
         "Both Correct",
         "No explanation provided"
        ],
        [
         "7",
         "7",
         "7",
         "Cho $A = 1 + i^2 + i^4 + .. + i^{4k-2} + i^{4k}$ với k là số nguyên dương. Tính A?",
         "Do A là tổng của một cấp số nhân (gồm 2k + 1 số hạng) với số hạng đầu $u_1 = 1$, công bội q = $i^2$. Suy ra $A = 1 + i^2 + i^4 + .. + i^{4k-2} + i^{4k} = \\frac{1 - (i^2)^{2k+1}}{1 - i^2} = \\frac{1 - (-1)^{2k+1}}{1 - (-1)} = \\frac{1 - (-1)^{2k} \\cdot (-1)^1}{2} = 1$",
         "1",
         "\nĐể tính giá trị của $A = 1 + i^2 + i^4 + \\ldots + i^{4k-2} + i^{4k}$, trước tiên ta cần biết các giá trị của số ảo $i$.\n\nSố ảo $i$ được định nghĩa là $i = \\sqrt{-1}$. Các lũy thừa của $i$ có chu kỳ 4 như sau:\n\\[\n\\begin{align*}\ni^0 & = 1, \\\\\ni^1 & = i, \\\\\ni^2 & = -1, \\\\\ni^3 & = -i, \\\\\ni^4 & = 1, \\\\\ni^5 & = i, \\\\\n& \\vdots\n\\end{align*}\n\\]\n\nTừ đó, ta có thể thấy rằng:\n- $i^{4k} = 1$,\n- $i^{4k-2} = -1$,\n- $i^{4k-4} = 1$,\n- $i^{4k-6} = -1$, và cứ tiếp tục như vậy.\n\nBây giờ, ta sẽ nhóm các hạng tử trong $A$:\n\\[\nA = (1 + i^2) + (i^4 + i^6) + \\ldots + (i^{4k-2} + i^{4k}).\n\\]\n\nTa có thể viết lại $A$ như sau:\n\\[\nA = 1 + (-1) + 1 + (-1) + \\ldots + 1 + (-1).\n\\]\n\nSố lượng các hạng tử trong $A$ là $k + 1$ hạng tử (từ $i^0$ đến $i^{4k}$). Trong đó, có $k$ hạng tử là $1$ và $k$ hạng tử là $-1$.\n\nNếu $k$ là số nguyên dương, thì số hạng $1$ và $-1$ sẽ có số lượng bằng nhau, do đó:\n- Nếu $k$ là chẵn, số hạng $1$ và $-1$ sẽ triệt tiêu nhau, và $A = 1$.\n- Nếu $k$ là lẻ, số hạng $1$ sẽ nhiều hơn một hạng tử $-1$, do đó $A = 1$.\n\nVì vậy, trong cả hai trường hợp, ta có:\n\\[\nA = 1.\n\\]\n",
         "\n$A = 1$\n",
         "Both Correct",
         "No explanation provided"
        ],
        [
         "8",
         "8",
         "8",
         "Tìm số phức liên hợp của số phức $z = (3 - 2i).(2 + 3i)$",
         "Ta có: $z = (3 - 2i).(2 + 3i) = 6 + 9i - 4i + 6 = 12 + 5i$ \\Rightarrow Số phức liên hợp với số phức z là $\\overline{z} = 12 - 5i$",
         "$12 - 5i$",
         "\nĐể tìm số phức liên hợp của số phức $z = (3 - 2i)(2 + 3i)$, ta thực hiện các bước sau:\n\n1. **Tính tích của hai số phức**:\n   Sử dụng quy tắc phân phối để tính tích:\n   \\[\n   z = (3 - 2i)(2 + 3i) = 3 \\cdot 2 + 3 \\cdot 3i - 2i \\cdot 2 - 2i \\cdot 3i\n   \\]\n   Tính từng phần:\n   - $3 \\cdot 2 = 6$\n   - $3 \\cdot 3i = 9i$\n   - $-2i \\cdot 2 = -4i$\n   - $-2i \\cdot 3i = 6$ (vì $i^2 = -1$)\n\n   Kết hợp lại:\n   \\[\n   z = 6 + 9i - 4i + 6 = 12 + 5i\n   \\]\n\n2. **Tìm số phức liên hợp**:\n   Số phức liên hợp của một số phức $a + bi$ là $a - bi$. \n   Ở đây, với $z = 12 + 5i$, số phức liên hợp sẽ là:\n   \\[\n   \\overline{z} = 12 - 5i\n   \\]\n\n3. **Kết luận**:\n   Số phức liên hợp của $z$ là $12 - 5i$.\n",
         "\n$\\overline{z} = 12 - 5i$\n",
         "Both Correct",
         "No explanation provided"
        ],
        [
         "9",
         "9",
         "9",
         "Cho số phức $z = 5 - 3i$. Tính $1 + \\overline{z} + (\\overline{z})^2$ ta được kết quả:",
         "Ta có $z = 5 - 3i \\Rightarrow \\overline{z} = 5 + 3i$ Suy ra : $1 + \\overline{z} + (\\overline{z})^2 = 1 + (5 + 3i) + (5 + 3i)^2 = (6 + 3i) + (25 + 30i - 9) = 22 + 33i$",
         "22 + 33i",
         "\nĐể giải bài toán, ta thực hiện các bước sau:\n\n1. **Tính giá trị của $\\overline{z}$**:\n   Số phức $z = 5 - 3i$ có phần thực là $5$ và phần ảo là $-3$. Do đó, số phức liên hợp của $z$ được tính như sau:\n   \\[\n   \\overline{z} = 5 + 3i\n   \\]\n\n2. **Tính giá trị của $(\\overline{z})^2$**:\n   Ta sẽ tính bình phương của số phức liên hợp:\n   \\[\n   (\\overline{z})^2 = (5 + 3i)^2\n   \\]\n   Sử dụng công thức bình phương của một tổng:\n   \\[\n   (a + b)^2 = a^2 + 2ab + b^2\n   \\]\n   với $a = 5$ và $b = 3i$, ta có:\n   \\[\n   (5 + 3i)^2 = 5^2 + 2 \\cdot 5 \\cdot 3i + (3i)^2 = 25 + 30i + 9i^2\n   \\]\n   Biết rằng $i^2 = -1$, ta thay vào:\n   \\[\n   9i^2 = 9(-1) = -9\n   \\]\n   Vậy:\n   \\[\n   (5 + 3i)^2 = 25 + 30i - 9 = 16 + 30i\n   \\]\n\n3. **Tính giá trị của $1 + \\overline{z} + (\\overline{z})^2$**:\n   Bây giờ ta thay các giá trị đã tính vào biểu thức:\n   \\[\n   1 + \\overline{z} + (\\overline{z})^2 = 1 + (5 + 3i) + (16 + 30i)\n   \\]\n   Tính từng phần:\n   \\[\n   = 1 + 5 + 16 + (3i + 30i) = 22 + 33i\n   \\]\n\nKết quả cuối cùng là:\n\\[\n1 + \\overline{z} + (\\overline{z})^2 = 22 + 33i\n\\]\n",
         "\n$22 + 33i$\n",
         "Both Correct",
         "No explanation provided"
        ],
        [
         "10",
         "10",
         "10",
         "Cho số phức z thỏa $(1 + 3i)z - (2 + 5i) = (2 + i)z$. Tìm số phức liên hợp của số phức z.",
         "Theo giả thiết ta có: $(1 + 3i)z - (2 + 5i) = (2 + i)z \\Rightarrow (1 + 3i - 2 - i)z = 2 + 5i \\Leftrightarrow (-1 + 2i)z = 2 + 5i \\Rightarrow z = \\frac{2 + 5i}{-1 + 2i} = \\frac{8}{5} + \\frac{9}{5}i$",
         "$\\frac{8}{5} + \\frac{9}{5}i$",
         "\nBắt đầu từ phương trình đã cho:\n\n$$(1 + 3i)z - (2 + 5i) = (2 + i)z.$$\n\nChúng ta sẽ đưa tất cả các hạng tử về một phía:\n\n$$(1 + 3i)z - (2 + i)z = 2 + 5i.$$\n\nGom nhóm các hạng tử có chứa $z$:\n\n$$(1 + 3i - 2 - i)z = 2 + 5i.$$\n\nTính toán các hệ số:\n\n$$(-1 + 2i)z = 2 + 5i.$$\n\nBây giờ, để tìm $z$, ta chia cả hai vế cho $(-1 + 2i)$:\n\n$$z = \\frac{2 + 5i}{-1 + 2i}.$$\n\nĐể thực hiện phép chia số phức, ta nhân cả tử và mẫu với liên hợp của mẫu:\n\n$$z = \\frac{(2 + 5i)(-1 - 2i)}{(-1 + 2i)(-1 - 2i)}.$$\n\nTính mẫu:\n\n$$(-1 + 2i)(-1 - 2i) = 1 + 4 = 5.$$\n\nTính tử:\n\n\\[\n(2 + 5i)(-1 - 2i) = 2(-1) + 2(-2i) + 5i(-1) + 5i(-2i) = -2 - 4i - 5i + 10 = 8 - 9i.\n\\]\n\nVậy ta có:\n\n$$z = \\frac{8 - 9i}{5} = \\frac{8}{5} - \\frac{9}{5}i.$$\n\nCuối cùng, để tìm số phức liên hợp của $z$, ta chỉ cần đổi dấu phần ảo:\n\n$$\\overline{z} = \\frac{8}{5} + \\frac{9}{5}i.$$\n",
         "\n$$\\overline{z} = \\frac{8}{5} + \\frac{9}{5}i.$$\n",
         "Both Correct",
         "No explanation provided"
        ],
        [
         "11",
         "11",
         "11",
         "Tìm số phức z, biết $z + 2i\\overline{z} + 4 = i$",
         "Gọi số phức z cần tìm là $z = a + bi$ ($a, b \\in R$). Số phức liên hợp với số phức z là: $\\overline{z} = a - bi$. Theo giả thiết: $z + 2i\\overline{z} + 4 = i \\Rightarrow a + bi + 2i(a - bi) + 4 = i \\Rightarrow a + bi + 2ai + 2b + 4 - i = 0 \\Rightarrow (a + 2b + 4) + (b + 2a - 1)i = 0 \\Rightarrow \\begin{cases} a + 2b = -4 \\\\ b + 2a = 1 \\end{cases} \\Rightarrow \\begin{cases} a = 2 \\\\ b = -3 \\end{cases}$ Suy ra $z = 2 - 3i$",
         "2 - 3i",
         "\nĐể giải bài toán, ta bắt đầu từ phương trình đã cho:\n\n\\[\nz + 2i\\overline{z} + 4 = i\n\\]\n\nGọi số phức \\( z \\) có dạng \\( z = x + yi \\), trong đó \\( x \\) và \\( y \\) là các số thực. Khi đó, phần liên hợp của \\( z \\) là \\( \\overline{z} = x - yi \\).\n\nThay vào phương trình, ta có:\n\n\\[\n(x + yi) + 2i(x - yi) + 4 = i\n\\]\n\nTiến hành tính toán:\n\n\\[\nx + yi + 2i(x - yi) + 4 = i\n\\]\n\n\\[\nx + yi + 2ix - 2y + 4 = i\n\\]\n\nNhóm các phần thực và phần ảo lại với nhau:\n\n\\[\n(x + 4 - 2y) + (y + 2x)i = i\n\\]\n\nSo sánh phần thực và phần ảo của hai vế, ta có hệ phương trình:\n\n1. \\( x + 4 - 2y = 0 \\)\n2. \\( y + 2x = 1 \\)\n\nGiải hệ phương trình này:\n\nTừ phương trình (1), ta có:\n\n\\[\nx - 2y = -4 \\quad (1)\n\\]\n\nTừ phương trình (2):\n\n\\[\ny + 2x = 1 \\quad (2)\n\\]\n\nTừ (1), ta có \\( x = 2y - 4 \\). Thay vào (2):\n\n\\[\ny + 2(2y - 4) = 1\n\\]\n\n\\[\ny + 4y - 8 = 1\n\\]\n\n\\[\n5y - 8 = 1\n\\]\n\n\\[\n5y = 9 \\implies y = \\frac{9}{5}\n\\]\n\nThay giá trị của \\( y \\) vào (1):\n\n\\[\nx + 4 - 2\\left(\\frac{9}{5}\\right) = 0\n\\]\n\n\\[\nx + 4 - \\frac{18}{5} = 0\n\\]\n\n\\[\nx = \\frac{18}{5} - 4 = \\frac{18}{5} - \\frac{20}{5} = -\\frac{2}{5}\n\\]\n\nVậy ta có:\n\n\\[\nx = -\\frac{2}{5}, \\quad y = \\frac{9}{5}\n\\]\n\nDo đó, số phức \\( z \\) là:\n\n\\[\nz = -\\frac{2}{5} + \\frac{9}{5}i\n\\]\n",
         "\n\\[\nz = -\\frac{2}{5} + \\frac{9}{5}i\n\\]\n",
         "Both Incorrect",
         "No explanation provided"
        ],
        [
         "12",
         "12",
         "12",
         "Tìm số phức z, biết $|z| = \\sqrt{5}$, phần thực bằng 2 lần phần ảo và phần thực dương",
         "Cho số phức $z = a + bi$, ($a, b \\in R$) và $a > 0$. Do phần thực bằng 2 lần phần ảo nên: $a = 2b$ (1). mà $|z| = \\sqrt{5} \\Leftrightarrow \\sqrt{a^2 + b^2} = \\sqrt{5} \\Rightarrow a^2 + b^2 = 5$ (2). Từ (1) và (2) ta có hệ phương trình: $\\begin{cases} a = 2b \\\\ a^2 + b^2 = 5 \\end{cases} \\Leftrightarrow \\begin{cases} a = 2 \\\\ b = 1 \\end{cases}$ Vậy số phức cần tìm là $z = 2 + i$.",
         "2 + i",
         "\nĐể tìm số phức $z$, ta có thể biểu diễn nó dưới dạng $z = x + yi$, trong đó $x$ là phần thực và $y$ là phần ảo.\n\nTheo đề bài, ta có các điều kiện sau:\n\n1. $|z| = \\sqrt{5}$, tức là $|x + yi| = \\sqrt{x^2 + y^2} = \\sqrt{5}$.\n2. Phần thực bằng 2 lần phần ảo: $x = 2y$.\n3. Phần thực dương: $x > 0$.\n\nBước 1: Sử dụng điều kiện $|z| = \\sqrt{5}$.\n\nTa có:\n\\[\n\\sqrt{x^2 + y^2} = \\sqrt{5} \\implies x^2 + y^2 = 5.\n\\]\n\nBước 2: Thay thế $x$ bằng $2y$ trong phương trình trên.\n\nThay $x = 2y$ vào phương trình $x^2 + y^2 = 5$:\n\\[\n(2y)^2 + y^2 = 5 \\implies 4y^2 + y^2 = 5 \\implies 5y^2 = 5 \\implies y^2 = 1.\n\\]\n\nBước 3: Giải phương trình $y^2 = 1$.\n\nTa có:\n\\[\ny = 1 \\quad \\text{hoặc} \\quad y = -1.\n\\]\n\nBước 4: Tìm giá trị của $x$.\n\n- Nếu $y = 1$, thì $x = 2y = 2 \\cdot 1 = 2$.\n- Nếu $y = -1$, thì $x = 2y = 2 \\cdot (-1) = -2$ (không thỏa mãn điều kiện $x > 0$).\n\nVậy chỉ có nghiệm duy nhất là $y = 1$ và $x = 2$.\n\nBước 5: Kết luận.\n\nSố phức $z$ là:\n\\[\nz = x + yi = 2 + 1i = 2 + i.\n\\]\n",
         "\n$z = 2 + i$\n",
         "Both Correct",
         "No explanation provided"
        ],
        [
         "13",
         "13",
         "13",
         "Cho số phức z có phần thực là số nguyên và z thỏa mãn: $|z| - 2\\overline{z} = -7 + 3i + z$. Tính môđun của số phức: $\\omega = 1 - z + z^2$",
         "Gọi số phức cần tìm là $z = a + bi$, ($a, b \\in R$). Số phức liên hợp của số phức z là: $\\overline{z} = a - bi$ và $|z| = \\sqrt{a^2 + b^2}$. Theo giả thiết ta có: $|z| - 2\\overline{z} = -7 + 3i + z \\Leftrightarrow \\sqrt{a^2 + b^2} - 2(a - bi) = -7 + 3i + a + bi \\Leftrightarrow \\begin{cases} \\sqrt{a^2 + b^2} - 2a = -7 + a \\\\ 2b = 3 + b \\end{cases} \\Leftrightarrow \\begin{cases} 8a^2 - 42a + 40 = 0 \\\\ b = 3 \\end{cases} \\Leftrightarrow \\begin{cases} a \\geq \\frac{7}{3} \\\\ b = 3 \\end{cases} \\Leftrightarrow \\begin{cases} a = 4 \\\\ b = 3 \\end{cases}$. vậy $z = 4 + 3i \\Rightarrow \\omega = 1 - (4 + 3i) + (4 + 3i)^2 = 4 + 21i \\Rightarrow |\\omega| = \\sqrt{4^2 + 21^2} = \\sqrt{457}$",
         "$\\sqrt{457}$",
         "\nĐể giải bài toán, ta bắt đầu từ phương trình đã cho:\n\n$$|z| - 2\\overline{z} = -7 + 3i + z.$$\n\nGọi số phức $z$ có phần thực là $x$ (số nguyên) và phần ảo là $y$, tức là $z = x + yi$. Khi đó, ta có:\n\n$$\\overline{z} = x - yi,$$\n$$|z| = \\sqrt{x^2 + y^2}.$$\n\nThay vào phương trình, ta có:\n\n$$\\sqrt{x^2 + y^2} - 2(x - yi) = -7 + 3i + (x + yi).$$\n\nRút gọn phương trình:\n\n$$\\sqrt{x^2 + y^2} - 2x + 2yi = -7 + 3i + x + yi.$$\n\nTách phần thực và phần ảo:\n\n1. Phần thực: \n$$\\sqrt{x^2 + y^2} - 2x = -7 + x,$$\n$$\\sqrt{x^2 + y^2} = -7 + 3x.$$\n\n2. Phần ảo:\n$$2y = 3 + y,$$\n$$y = 3.$$\n\nThay $y = 3$ vào phương trình phần thực:\n\n$$\\sqrt{x^2 + 3^2} = -7 + 3x,$$\n$$\\sqrt{x^2 + 9} = -7 + 3x.$$\n\nBình phương hai vế:\n\n$$x^2 + 9 = (-7 + 3x)^2,$$\n$$x^2 + 9 = 49 - 42x + 9x^2.$$\n\nRút gọn:\n\n$$0 = 8x^2 - 42x + 40,$$\n$$0 = 4x^2 - 21x + 20.$$\n\nGiải phương trình bậc hai bằng công thức:\n\n$$x = \\frac{-b \\pm \\sqrt{b^2 - 4ac}}{2a} = \\frac{21 \\pm \\sqrt{(-21)^2 - 4 \\cdot 4 \\cdot 20}}{2 \\cdot 4} = \\frac{21 \\pm \\sqrt{441 - 320}}{8} = \\frac{21 \\pm \\sqrt{121}}{8} = \\frac{21 \\pm 11}{8}.$$\n\nTính các nghiệm:\n\n1. $x_1 = \\frac{32}{8} = 4$.\n2. $x_2 = \\frac{10}{8} = \\frac{5}{4}$ (không phải số nguyên).\n\nVậy $x = 4$ và $y = 3$, suy ra:\n\n$$z = 4 + 3i.$$\n\nTiếp theo, ta tính môđun của số phức $\\omega = 1 - z + z^2$:\n\n$$z^2 = (4 + 3i)^2 = 16 + 24i - 9 = 7 + 24i.$$\n\nVậy:\n\n$$\\omega = 1 - (4 + 3i) + (7 + 24i) = 1 - 4 + 7 + (24 - 3)i = 4 + 21i.$$\n\nCuối cùng, tính môđun của $\\omega$:\n\n$$|\\omega| = |4 + 21i| = \\sqrt{4^2 + 21^2} = \\sqrt{16 + 441} = \\sqrt{457}.$$\n\n",
         "\n$|\\omega| = \\sqrt{457}$\n",
         "Both Correct",
         "No explanation provided"
        ],
        [
         "14",
         "14",
         "14",
         "Cho hai số phức $z_1$ và $z_2$ thỏa mãn $|z_1| = |z_2| = 1$; $|z_1 + z_2| = \\sqrt{3}$. Tính $|z_1 - z_2|$",
         "Ta có: $3 = |z_1 + z_2|^2 = (z_1 + z_2)(\\overline{z_1} + \\overline{z_2}) \\Rightarrow z_1 \\overline{z_2} + z_2 \\overline{z_1} + z_1 \\overline{z_1} + z_2 \\overline{z_2} = 3 \\Rightarrow z_1 \\overline{z_2} + z_2 \\overline{z_1} = 1$ Vì $|z_1| = |z_2| = 1$ nên $z_1 \\cdot \\overline{z_1} = 1$; $z_2 \\cdot \\overline{z_2} = 1$. Khi đó: $|z_1 - z_2|^2 = (z_1 - z_2)(\\overline{z_1} - \\overline{z_2}) = |z_1|^2 + |z_2|^2 - (z_1 \\overline{z_2} + z_2 \\overline{z_1}) = 1$",
         "1",
         "\nĐể giải bài toán, ta sẽ sử dụng các tính chất của số phức và định lý về độ dài của vector.\n\n1. **Giả sử**: \n   Gọi $z_1 = e^{i\\theta_1}$ và $z_2 = e^{i\\theta_2}$, với $\\theta_1, \\theta_2 \\in \\mathbb{R}$, vì $|z_1| = |z_2| = 1$.\n\n2. **Tính độ dài của tổng**:\n   Ta có:\n   \\[\n   |z_1 + z_2| = |e^{i\\theta_1} + e^{i\\theta_2}| = |e^{i\\theta_1}(1 + e^{i(\\theta_2 - \\theta_1)})| = |1 + e^{i(\\theta_2 - \\theta_1)}|\n   \\]\n   Do đó, ta có:\n   \\[\n   |1 + e^{i(\\theta_2 - \\theta_1)}| = \\sqrt{3}\n   \\]\n\n3. **Sử dụng công thức độ dài**:\n   Gọi $\\phi = \\theta_2 - \\theta_1$. Ta có:\n   \\[\n   |1 + e^{i\\phi}| = \\sqrt{3}\n   \\]\n   Sử dụng công thức độ dài:\n   \\[\n   |1 + e^{i\\phi}|^2 = (1 + \\cos \\phi)^2 + \\sin^2 \\phi = 1 + 2\\cos \\phi + \\cos^2 \\phi + \\sin^2 \\phi = 2 + 2\\cos \\phi\n   \\]\n   Do đó:\n   \\[\n   2 + 2\\cos \\phi = 3 \\implies 2\\cos \\phi = 1 \\implies \\cos \\phi = \\frac{1}{2}\n   \\]\n   Điều này dẫn đến:\n   \\[\n   \\phi = \\frac{\\pi}{3} \\text{ hoặc } \\phi = -\\frac{\\pi}{3}\n   \\]\n\n4. **Tính độ dài của hiệu**:\n   Ta cần tính $|z_1 - z_2|$:\n   \\[\n   |z_1 - z_2| = |e^{i\\theta_1} - e^{i\\theta_2}| = |e^{i\\theta_1}(1 - e^{i(\\theta_2 - \\theta_1)})| = |1 - e^{i\\phi}|\n   \\]\n   Tương tự như trên, ta có:\n   \\[\n   |1 - e^{i\\phi}|^2 = (1 - \\cos \\phi)^2 + \\sin^2 \\phi = 1 - 2\\cos \\phi + \\cos^2 \\phi + \\sin^2 \\phi = 2 - 2\\cos \\phi\n   \\]\n   Thay $\\cos \\phi = \\frac{1}{2}$ vào:\n   \\[\n   |1 - e^{i\\phi}|^2 = 2 - 2 \\cdot \\frac{1}{2} = 1 \\implies |1 - e^{i\\phi}| = 1\n   \\]\n\n5. **Kết luận**:\n   Vậy ta có:\n   \\[\n   |z_1 - z_2| = 1\n   \\]\n",
         "\n$|z_1 - z_2| = 1$\n",
         "Wrong Answer, Correct Explanation",
         "No explanation provided"
        ],
        [
         "15",
         "15",
         "15",
         "Cho số phức z thỏa mãn $|z + 3| = 5$ và $|z - 2i| = |z - 2 - 2i|$. Tính $|z|$.",
         "Gọi số phức z cần tìm là $z = a + bi$ ($a, b \\in R$). Ta có: $|z + 3| = 5 \\Leftrightarrow |a + bi + 3| = 5 \\Leftrightarrow (a + 3)^2 + b^2 = 25$ (*). $|z - 2i| = |z - 2 - 2i| \\Leftrightarrow |a + bi - 2i| = |a + bi - 2 - 2i| \\Leftrightarrow a^2 + (b - 2)^2 = (a - 2)^2 + (b - 2)^2 \\Leftrightarrow a^2 = (a - 2)^2 \\Leftrightarrow \\begin{cases} a - 2 = a \\\\ a - 2 = -a \\end{cases}$. Thế a = 1 vào (*) ta được $16 + b^2 = 25 \\Rightarrow b^2 = 9$. Do đó, môđun của z là: $|z| = \\sqrt{1^2 + 9} = \\sqrt{10}$",
         "$\\sqrt{10}$",
         "\nĐể giải bài toán, ta sẽ phân tích từng điều kiện của số phức $z$.\n\n1. **Điều kiện đầu tiên**: $|z + 3| = 5$.\n\n   Điều này có nghĩa là số phức $z$ nằm trên một đường tròn có tâm tại $-3$ (trong mặt phẳng phức) và bán kính $5$. Ta có thể viết lại điều kiện này như sau:\n   \\[\n   |z + 3| = 5 \\implies z + 3 = 5e^{i\\theta} \\quad (\\theta \\in [0, 2\\pi])\n   \\]\n   Từ đó, ta có:\n   \\[\n   z = 5e^{i\\theta} - 3\n   \\]\n\n2. **Điều kiện thứ hai**: $|z - 2i| = |z - 2 - 2i|$.\n\n   Điều này có nghĩa là khoảng cách từ $z$ đến $2i$ bằng khoảng cách từ $z$ đến $2 + 2i$. Ta có thể hiểu điều này là $z$ nằm trên đường trung trực của đoạn thẳng nối hai điểm $2i$ và $2 + 2i$.\n\n   Tính tọa độ của hai điểm:\n   - Điểm $A(0, 2)$ (tương ứng với $2i$)\n   - Điểm $B(2, 2)$ (tương ứng với $2 + 2i$)\n\n   Đường trung trực của đoạn thẳng $AB$ là đường thẳng đi qua trung điểm $M(1, 2)$ và vuông góc với đoạn thẳng $AB$. Đoạn thẳng $AB$ nằm ngang, do đó đường trung trực sẽ là đường thẳng đứng tại $x = 1$.\n\n   Vậy điều kiện thứ hai có thể viết lại là:\n   \\[\n   \\text{Re}(z) = 1\n   \\]\n\n3. **Kết hợp hai điều kiện**:\n\n   Từ điều kiện đầu tiên, ta có:\n   \\[\n   z = 5e^{i\\theta} - 3\n   \\]\n   Từ điều kiện thứ hai, ta có:\n   \\[\n   \\text{Re}(z) = 1 \\implies \\text{Re}(5e^{i\\theta} - 3) = 1\n   \\]\n   Suy ra:\n   \\[\n   5\\cos(\\theta) - 3 = 1 \\implies 5\\cos(\\theta) = 4 \\implies \\cos(\\theta) = \\frac{4}{5}\n   \\]\n\n   Từ đó, ta có thể tính được $\\sin(\\theta)$ bằng định lý Pythagore:\n   \\[\n   \\sin^2(\\theta) + \\cos^2(\\theta) = 1 \\implies \\sin^2(\\theta) = 1 - \\left(\\frac{4}{5}\\right)^2 = 1 - \\frac{16}{25} = \\frac{9}{25} \\implies \\sin(\\theta) = \\pm \\frac{3}{5}\n   \\]\n\n4. **Tính $z$**:\n\n   Ta có hai trường hợp cho $z$:\n   - Trường hợp 1: $\\sin(\\theta) = \\frac{3}{5} \\implies z = 5\\left(\\frac{4}{5} + i\\frac{3}{5}\\right) - 3 = 4 + 3i - 3 = 1 + 3i$.\n   - Trường hợp 2: $\\sin(\\theta) = -\\frac{3}{5} \\implies z = 5\\left(\\frac{4}{5} - i\\frac{3}{5}\\right) - 3 = 4 - 3i - 3 = 1 - 3i$.\n\n5. **Tính $|z|$**:\n\n   Tính độ lớn của $z$ trong cả hai trường hợp:\n   - Trường hợp 1: \n   \\[\n   |z| = |1 + 3i| = \\sqrt{1^2 + 3^2} = \\sqrt{10}\n   \\]\n   - Trường hợp 2: \n   \\[\n   |z| = |1 - 3i| = \\sqrt{1^2 + (-3)^2} = \\sqrt{10}\n   \\]\n\nVậy kết quả cuối cùng là:\n\\[\n|z| = \\sqrt{10}\n\\]\n",
         "\n$|z| = \\sqrt{10}$\n",
         "Both Correct",
         "No explanation provided"
        ],
        [
         "16",
         "16",
         "16",
         "Cho số phức $z = 2m + (m + 2)i, (m \\in R)$. Tìm z biết rằng $z^2$ là một số phức có phần thực bằng -5.",
         "Ta có: $z^2 = 4m^2 + 2m(m + 2)i + [(m + 2)i]^2 = 3m^2 + 2m(m + 2)i - 4m - 4$. Do $z^2$ là số phức có phần thực bằng -5 nên ta có: $3m^2 - 4m - 4 = -5 \\Leftrightarrow 3m^2 - 4m + 1 = 0 \\Leftrightarrow m = 1; m = \\frac{1}{3}$. Vậy có hai số phức thỏa mãn là $z_1 = 2 + 3i$ và $z_2 = \\frac{2}{3} + \\frac{7}{3}i$.",
         "$z = 2 + 3i, z = \\frac{2}{3} + \\frac{7}{3}i$",
         "\nĐể giải bài toán, ta bắt đầu với số phức $z = 2m + (m + 2)i$, với $m \\in \\mathbb{R}$. \n\nBước 1: Tính $z^2$.\n\\[\nz^2 = (2m + (m + 2)i)^2\n\\]\nÁp dụng công thức bình phương của một tổng:\n\\[\nz^2 = (2m)^2 + 2(2m)((m + 2)i) + ((m + 2)i)^2\n\\]\n\\[\n= 4m^2 + 4m(m + 2)i + (m + 2)^2 i^2\n\\]\nVì $i^2 = -1$, ta có:\n\\[\n= 4m^2 + 4m(m + 2)i - (m + 2)^2\n\\]\n\\[\n= (4m^2 - (m + 2)^2) + 4m(m + 2)i\n\\]\n\nBước 2: Tính phần thực của $z^2$.\n\\[\n\\text{Phần thực} = 4m^2 - (m + 2)^2\n\\]\nMở rộng $(m + 2)^2$:\n\\[\n= 4m^2 - (m^2 + 4m + 4) = 4m^2 - m^2 - 4m - 4 = 3m^2 - 4m - 4\n\\]\n\nBước 3: Đặt điều kiện cho phần thực.\nTheo đề bài, phần thực của $z^2$ bằng -5:\n\\[\n3m^2 - 4m - 4 = -5\n\\]\nGiải phương trình:\n\\[\n3m^2 - 4m - 4 + 5 = 0 \\implies 3m^2 - 4m + 1 = 0\n\\]\n\nBước 4: Tính nghiệm của phương trình bậc 2.\nÁp dụng công thức nghiệm:\n\\[\nm = \\frac{-b \\pm \\sqrt{b^2 - 4ac}}{2a} = \\frac{4 \\pm \\sqrt{(-4)^2 - 4 \\cdot 3 \\cdot 1}}{2 \\cdot 3}\n\\]\n\\[\n= \\frac{4 \\pm \\sqrt{16 - 12}}{6} = \\frac{4 \\pm \\sqrt{4}}{6} = \\frac{4 \\pm 2}{6}\n\\]\nTính các nghiệm:\n\\[\nm_1 = \\frac{6}{6} = 1, \\quad m_2 = \\frac{2}{6} = \\frac{1}{3}\n\\]\n\nBước 5: Tính giá trị của $z$.\nVới $m = 1$:\n\\[\nz_1 = 2(1) + (1 + 2)i = 2 + 3i\n\\]\nVới $m = \\frac{1}{3}$:\n\\[\nz_2 = 2\\left(\\frac{1}{3}\\right) + \\left(\\frac{1}{3} + 2\\right)i = \\frac{2}{3} + \\left(\\frac{1}{3} + \\frac{6}{3}\\right)i = \\frac{2}{3} + \\frac{7}{3}i\n\\]\n\nKết luận: Các giá trị của $z$ là:\n\\[\nz_1 = 2 + 3i \\quad \\text{và} \\quad z_2 = \\frac{2}{3} + \\frac{7}{3}i\n\\]\n",
         "\n$z_1 = 2 + 3i$ và $z_2 = \\frac{2}{3} + \\frac{7}{3}i$\n",
         "Both Correct",
         "No explanation provided"
        ],
        [
         "17",
         "17",
         "17",
         "Cho số phức $z = m + (m-1)i$; ($m \\in R$) và số phức $z' = 2n + (2-3n)i$ ($n\\in R$). Tìm m và n biết rằng $z - z' = 1 + 7i$",
         "Ta có: $z - z' = [m + (m - 1).i] - [2n + (2 - 3n).i] = (m - 2n) + (m + 3n - 3). i$. Theo giả thiết $z - z' = 1 + 7i$ nên ta có: $(m - 2n) + (m + 3n - 3).i = 1 + 7i$. Từ đó ta có hệ phương trình sau: $\\begin{cases} m - 2n = 1 \\\\ m + 3n - 3 = 7 \\end{cases} \\Leftrightarrow \\begin{cases} m - 2n = 1 \\\\ m + 3n = 10 \\end{cases} \\Leftrightarrow \\begin{cases} m = \\frac{23}{5} \\\\ n = \\frac{9}{5} \\end{cases}$",
         "$m = \\frac{23}{5}; n = \\frac{9}{5}$",
         "\nBắt đầu từ phương trình đã cho:\n\n$$ z - z' = 1 + 7i $$\n\nThay thế $z$ và $z'$ vào phương trình:\n\n$$ (m + (m-1)i) - (2n + (2-3n)i) = 1 + 7i $$\n\nTiến hành tính toán:\n\n$$ m - 2n + ((m-1) - (2-3n))i = 1 + 7i $$\n\nTách phần thực và phần ảo:\n\n1. Phần thực: \n   $$ m - 2n = 1 \\quad (1) $$\n\n2. Phần ảo: \n   $$ (m - 1) - (2 - 3n) = 7 $$\n   $$ m - 1 - 2 + 3n = 7 $$\n   $$ m + 3n - 3 = 7 $$\n   $$ m + 3n = 10 \\quad (2) $$\n\nBây giờ, chúng ta có hệ phương trình:\n\n$$\n\\begin{cases}\nm - 2n = 1 \\quad (1) \\\\\nm + 3n = 10 \\quad (2)\n\\end{cases}\n$$\n\nGiải hệ phương trình này. Từ phương trình (1), ta có:\n\n$$ m = 2n + 1 $$\n\nThay vào phương trình (2):\n\n$$ (2n + 1) + 3n = 10 $$\n$$ 5n + 1 = 10 $$\n$$ 5n = 9 $$\n$$ n = \\frac{9}{5} $$\n\nThay giá trị của $n$ vào phương trình (1) để tìm $m$:\n\n$$ m - 2\\left(\\frac{9}{5}\\right) = 1 $$\n$$ m - \\frac{18}{5} = 1 $$\n$$ m = 1 + \\frac{18}{5} $$\n$$ m = \\frac{5}{5} + \\frac{18}{5} = \\frac{23}{5} $$\n\nVậy ta có:\n\n$$ m = \\frac{23}{5}, \\quad n = \\frac{9}{5} $$\n",
         "\n$m = \\frac{23}{5}, \\quad n = \\frac{9}{5}$\n",
         "Both Correct",
         "No explanation provided"
        ],
        [
         "18",
         "18",
         "18",
         "Tìm số phức $z = x + yi, (x, y \\in R)$ thỏa mãn $z + 3x = 2\\overline{z} - 3i$. Tìm $|z|$",
         "Vì $z + 3x = 2\\overline{z} - 3i \\Leftrightarrow x + yi + 3x = 2(x - yi) - 3i \\Leftrightarrow 4x + yi = 2x - (2y + 3)i \\Leftrightarrow \\begin{cases} 4x = 2x \\\\ y = -2y - 3 \\end{cases} \\Leftrightarrow \\begin{cases} x = 0 \\\\ y = -1 \\end{cases}$. Do đó, số phức thỏa mãn đầu $z = -i$ và $|z| = 1$",
         "1",
         "\nĐể giải bài toán, ta bắt đầu từ phương trình đã cho:\n\n\\[\nz + 3x = 2\\overline{z} - 3i\n\\]\n\nTrong đó, $z = x + yi$ và $\\overline{z} = x - yi$. Thay thế vào phương trình:\n\n\\[\n(x + yi) + 3x = 2(x - yi) - 3i\n\\]\n\nRút gọn phương trình:\n\n\\[\nx + yi + 3x = 2x - 2yi - 3i\n\\]\n\n\\[\n4x + yi = 2x - 2yi - 3i\n\\]\n\nBây giờ, ta tách phần thực và phần ảo:\n\nPhần thực:\n\n\\[\n4x = 2x \\implies 2x = 0 \\implies x = 0\n\\]\n\nPhần ảo:\n\n\\[\ny = -2y - 3 \\implies 3y = -3 \\implies y = -1\n\\]\n\nVậy ta có:\n\n\\[\nx = 0, \\quad y = -1\n\\]\n\nDo đó, số phức $z$ là:\n\n\\[\nz = 0 - i = -i\n\\]\n\nTiếp theo, ta cần tính độ lớn của số phức $z$:\n\n\\[\n|z| = \\sqrt{x^2 + y^2} = \\sqrt{0^2 + (-1)^2} = \\sqrt{1} = 1\n\\]\n\nVậy kết quả cuối cùng là:\n\n\\[\n|z| = 1\n\\]\n",
         "\n1\n",
         "Both Correct",
         "No explanation provided"
        ],
        [
         "19",
         "19",
         "19",
         "Có bao nhiêu số phức z có phần ảo gấp ba lần phần thực, đồng thời $|z| = \\sqrt{10}(z + \\overline{z})$",
         "Gọi số phức cần tìm là $z = a + bi$, ($a, b \\in R$). Do số phức z có phần ảo gấp ba lần phần thực nên b = 3a. $\\Rightarrow$ Số phức cần tìm có dạng: $z = a + 3ai$. Số phức liên hợp của số phức z là: $\\overline{z} = a - 3ai$. Theo giả thiết ta có: $|z| = \\sqrt{10}(z + \\overline{z}) \\Leftrightarrow \\sqrt{a^2 + 9a^2} = \\sqrt{10}(a + 3ai + a - 3ai) \\Leftrightarrow \\sqrt{10a^2} = \\sqrt{20}a \\Leftrightarrow 10a^2 = 20a \\Leftrightarrow \\begin{cases} a = 0 \\\\ a = 2 \\end{cases}$. Với a = 0 thì z = 0. Với a = 2 thì z = 2 + 6i. Vậy có hai số phức thỏa mãn là z = 0 hoặc z = 2 + 6i.",
         "2",
         "\nĐể giải bài toán, ta bắt đầu với việc biểu diễn số phức $z$ dưới dạng:\n\n$$ z = x + yi $$\n\nTrong đó $x$ là phần thực và $y$ là phần ảo của số phức $z$. Theo đề bài, phần ảo gấp ba lần phần thực, tức là:\n\n$$ y = 3x $$\n\nTiếp theo, ta thay $y$ vào biểu thức của $z$:\n\n$$ z = x + 3xi = x(1 + 3i) $$\n\nBây giờ, ta cần xem xét điều kiện thứ hai: \n\n$$ |z| = \\sqrt{10}(z + \\overline{z}) $$\n\nTính $|z|$:\n\n$$ |z| = |x(1 + 3i)| = |x| \\cdot |1 + 3i| $$\n\nTính $|1 + 3i|$:\n\n$$ |1 + 3i| = \\sqrt{1^2 + 3^2} = \\sqrt{10} $$\n\nVậy:\n\n$$ |z| = |x| \\cdot \\sqrt{10} $$\n\nTiếp theo, tính $z + \\overline{z}$:\n\n$$ \\overline{z} = x - 3xi = x(1 - 3i) $$\n\nDo đó:\n\n$$ z + \\overline{z} = x(1 + 3i) + x(1 - 3i) = x(2) = 2x $$\n\nThay vào điều kiện thứ hai:\n\n$$ |z| = \\sqrt{10}(z + \\overline{z}) $$\n\nTa có:\n\n$$ |x| \\cdot \\sqrt{10} = \\sqrt{10} \\cdot 2x $$\n\nChia cả hai vế cho $\\sqrt{10}$ (với điều kiện $x \\neq 0$):\n\n$$ |x| = 2x $$\n\nXét hai trường hợp:\n\n1. **Trường hợp 1**: $x \\geq 0$:\n\n   $$ x = 2x \\implies x = 0 $$\n\n2. **Trường hợp 2**: $x < 0$:\n\n   $$ -x = 2x \\implies 3x = 0 \\implies x = 0 $$\n\nTừ cả hai trường hợp, ta thấy $x = 0$. Khi $x = 0$, ta có:\n\n$$ y = 3x = 0 $$\n\nVậy số phức $z$ duy nhất thỏa mãn điều kiện là:\n\n$$ z = 0 + 0i = 0 $$\n\nDo đó, có **1 số phức** thỏa mãn điều kiện đề bài.\n\n",
         "1",
         "Wrong Answer, Correct Explanation",
         "No explanation provided"
        ],
        [
         "20",
         "20",
         "20",
         "Trong mặt phẳng Oxy cho điểm A là điểm biểu diễn của số phức $z = 1 + 2i$, B là điểm thuộc đường thẳng y=2 sao cho tam giác OAB cân tại O. Tìm số z biểu diễn B.",
         "Ta có, điểm A biểu diễn số phức $z = 1 + 2i$ nên tọa độ A(1 ; 2). Do điểm B nằm trên đường thẳng y=2 nên tọa độ B(x ; 2) ; (x $\\neq$ 1 ). Để tam giác OAB cân tại O khi và chỉ khi OA = OB. $\\Leftrightarrow \\sqrt{1^2 + 2^2} = \\sqrt{x^2 + 2^2} \\Leftrightarrow x^2 + 4 = 5 \\Leftrightarrow \\begin{cases} x = 1 (l) \\\\ x = -1 \\end{cases}$. Suy ra, tọa độ B (-1 ; 2). Do đó,số phức biểu diễn B là $z = -1 + 2i$.",
         "-1 + 2i",
         "\nĐể giải bài toán, ta cần tìm tọa độ điểm B sao cho tam giác OAB cân tại O. \n\n1. **Xác định tọa độ điểm A**:\n   - Điểm A tương ứng với số phức $z = 1 + 2i$, do đó tọa độ của A là $A(1, 2)$.\n\n2. **Xác định đường thẳng y = 2**:\n   - Đường thẳng này là một đường ngang, tức là tất cả các điểm trên đường thẳng này có tọa độ dạng $B(x, 2)$ với $x$ là số thực.\n\n3. **Điều kiện tam giác OAB cân tại O**:\n   - Tam giác OAB cân tại O nếu $OA = OB$. \n   - Tính độ dài OA và OB:\n     - Độ dài $OA = \\sqrt{(1 - 0)^2 + (2 - 0)^2} = \\sqrt{1^2 + 2^2} = \\sqrt{5}$.\n     - Độ dài $OB = \\sqrt{(x - 0)^2 + (2 - 0)^2} = \\sqrt{x^2 + 2^2} = \\sqrt{x^2 + 4}$.\n\n4. **Thiết lập phương trình**:\n   - Để tam giác OAB cân tại O, ta có:\n   $$\n   OA = OB \\implies \\sqrt{5} = \\sqrt{x^2 + 4}\n   $$\n   - Bình phương hai vế:\n   $$\n   5 = x^2 + 4\n   $$\n   - Giải phương trình:\n   $$\n   x^2 = 5 - 4 = 1 \\implies x = \\pm 1\n   $$\n\n5. **Tìm tọa độ điểm B**:\n   - Với $x = 1$, ta có điểm $B(1, 2)$.\n   - Với $x = -1$, ta có điểm $B(-1, 2)$.\n\n6. **Kết luận**:\n   - Số phức biểu diễn điểm B có thể là $z_B = 1 + 2i$ hoặc $z_B = -1 + 2i$.\n\nVậy, số phức biểu diễn điểm B là $z_B = 1 + 2i$ hoặc $z_B = -1 + 2i$.\n",
         "\n$z_B = 1 + 2i \\text{ hoặc } z_B = -1 + 2i$\n",
         "Correct Answer, Wrong Explanation",
         "No explanation provided"
        ],
        [
         "21",
         "21",
         "21",
         "Cho số phức z thỏa mãn: $(2 + i)z + 2 - i = 0$. Tìm phần thực của số phức.",
         "Ta có: $(2 + i).z + 2 - i = 0 \\Leftrightarrow (2 + i)z = -2 + i \\Leftrightarrow z = \\frac{-2 + i}{2 + i} = \\frac{(-2 + i)(2 - i)}{(2 + i).(2 - i)} \\Leftrightarrow z = \\frac{-4 + 2i + 2i - i^2}{4 - i^2} = \\frac{-3 + 4i}{5}$. Do đó, phần thực của số phức cần tìm là $\\frac{-3}{5}$",
         "$\\frac{-3}{5}$",
         "\nĐể giải bài toán, ta bắt đầu từ phương trình đã cho:\n\n$$(2 + i)z + 2 - i = 0.$$\n\nBước 1: Chuyển vế để tìm $z$.\n\nTa có:\n\n$$(2 + i)z = - (2 - i).$$\n\nBước 2: Chia cả hai vế cho $(2 + i)$ để tìm $z$.\n\n$$z = \\frac{-(2 - i)}{2 + i}.$$\n\nBước 3: Để thực hiện phép chia số phức, ta nhân cả tử và mẫu với phần liên hợp của mẫu:\n\n$$z = \\frac{-(2 - i)(2 - i)}{(2 + i)(2 - i)}.$$\n\nBước 4: Tính toán phần mẫu:\n\n$$(2 + i)(2 - i) = 2^2 - i^2 = 4 + 1 = 5.$$\n\nBước 5: Tính toán phần tử:\n\n$$-(2 - i)(2 - i) = -(4 - 4i + i^2) = - (4 - 4i - 1) = - (3 - 4i) = -3 + 4i.$$\n\nBước 6: Thay vào biểu thức cho $z$:\n\n$$z = \\frac{-3 + 4i}{5} = -\\frac{3}{5} + \\frac{4}{5}i.$$\n\nBước 7: Tìm phần thực của số phức $z$.\n\nPhần thực của $z$ là:\n\n$$\\text{Re}(z) = -\\frac{3}{5}.$$\n\nKết luận, phần thực của số phức $z$ là $-\\frac{3}{5}$.\n",
         "\n-\\frac{3}{5}\n",
         "Both Correct",
         "No explanation provided"
        ],
        [
         "22",
         "22",
         "22",
         "Giải phương trình $iz + 3 - 2i = 1 + i$",
         "Ta có: $iz + 3 - 2i = 1 + i \\Leftrightarrow iz = 1 + i - 3 + 2i \\Leftrightarrow iz = -2 + 3i \\Leftrightarrow z = \\frac{-2 + 3i}{i} = \\frac{2i - 3i^2}{-i^2} = 3 + 2i$",
         "3 + 2i",
         "\nĐể giải phương trình $iz + 3 - 2i = 1 + i$, ta thực hiện các bước sau:\n\n1. **Chuyển các hạng tử về một phía**:\n   \\[\n   iz + 3 - 2i - 1 - i = 0\n   \\]\n   Rút gọn lại:\n   \\[\n   iz + 2 - 3i = 0\n   \\]\n\n2. **Chuyển hạng tử tự do sang phía bên phải**:\n   \\[\n   iz = 3i - 2\n   \\]\n\n3. **Chia cả hai vế cho $i$** (nhớ rằng $i^2 = -1$):\n   \\[\n   z = \\frac{3i - 2}{i}\n   \\]\n\n4. **Nhân cả tử và mẫu với $-i$ để loại bỏ số ảo trong mẫu**:\n   \\[\n   z = \\frac{(3i - 2)(-i)}{i(-i)} = \\frac{-3i^2 + 2i}{1} = 3 + 2i\n   \\]\n\n5. **Kết luận**:\n   Vậy nghiệm của phương trình là:\n   \\[\n   z = 3 + 2i\n   \\]\n",
         "\n$z = 3 + 2i$\n",
         "Both Correct",
         "No explanation provided"
        ],
        [
         "23",
         "23",
         "23",
         "Giải phương trình: $(2 + 4i)z + (4 - 2i)z + 2 - 2i = 0$",
         "Ta có: $(2 + 4i).z + (4 - 2i)z + 2 - 2i = 0 \\Leftrightarrow (2 + 4i + 4 - 2i)z = - 2 + 2i \\Leftrightarrow (6 + 2i). z = - 2 + 2i \\Leftrightarrow z = \\frac{-2 + 2i}{6 + 2i} = \\frac{-1 + i}{3 + i} \\Leftrightarrow z = \\frac{(-1 + i).(3 - i)}{(3 + i)(3 - i)} \\Leftrightarrow z = \\frac{-3 + i + 3i - i^2}{9 - i^2} = \\frac{-2 + 4i}{10} = \\frac{-1 + 2i}{5}$",
         "$\\frac{-1 + 2i}{5}$",
         "\nĐể giải phương trình $(2 + 4i)z + (4 - 2i)z + 2 - 2i = 0$, ta thực hiện các bước sau:\n\n1. **Gộp các hạng tử**: \n   Ta có thể gộp các hạng tử chứa $z$ lại với nhau:\n   $$(2 + 4i)z + (4 - 2i)z = ((2 + 4i) + (4 - 2i))z = (6 + 2i)z.$$\n\n   Vậy phương trình trở thành:\n   $$(6 + 2i)z + 2 - 2i = 0.$$\n\n2. **Chuyển hạng tử tự do sang bên phải**:\n   $$ (6 + 2i)z = - (2 - 2i). $$\n\n3. **Chia cả hai vế cho $(6 + 2i)$**:\n   $$ z = \\frac{-(2 - 2i)}{6 + 2i}. $$\n\n4. **Rút gọn phân số**:\n   Để rút gọn, ta nhân tử số và mẫu số với liên hợp của mẫu số:\n   $$ z = \\frac{-(2 - 2i)(6 - 2i)}{(6 + 2i)(6 - 2i)}. $$\n\n   Tính mẫu số:\n   $$(6 + 2i)(6 - 2i) = 6^2 - (2i)^2 = 36 - (-4) = 36 + 4 = 40.$$\n\n   Tính tử số:\n   \\[\n   -(2 - 2i)(6 - 2i) = -[(2 \\cdot 6) + (2 \\cdot -2i) + (-2i \\cdot 6) + (-2i \\cdot -2i)] = -[12 - 4i - 12i + 4] = -[16 - 16i] = -16 + 16i.\n   \\]\n\n   Vậy ta có:\n   $$ z = \\frac{-16 + 16i}{40} = \\frac{-2 + 2i}{5} = -\\frac{2}{5} + \\frac{2}{5}i. $$\n\n5. **Kết luận**:\n   Vậy nghiệm của phương trình là:\n   $$ z = -\\frac{2}{5} + \\frac{2}{5}i. $$\n\n",
         "\n$z = -\\frac{2}{5} + \\frac{2}{5}i$\n",
         "Wrong Answer, Correct Explanation",
         "The correct answer is $\\frac{-1 + 2i}{5} = -\\frac{1}{5} + \\frac{2}{5}i$. The AI-generated answer is $z = -\\frac{2}{5} + \\frac{2}{5}i$, which is incorrect. The imaginary part is correct, but the real part is not. The explanation is likely valid as long as it correctly uses the conjugate to rationalize the denominator, even though the final answer is wrong."
        ],
        [
         "24",
         "24",
         "24",
         "Giải phương trình $(1 + 2i)z + \\frac{2 + 6i}{1 - i} = 0$",
         "Ta có: $(1 + 2i)z + \\frac{2 + 6i}{1 - i} = 0 \\Leftrightarrow (1 + 2i)z = \\frac{-2 - 6i}{1 - i} \\Leftrightarrow (1 + 2i)z = \\frac{(-2 - 6i).(1 + i)}{(1 - i)(1 + i)} \\Leftrightarrow (1 + 2i)z = \\frac{-2 - 2i - 6i - 6i^2}{2} \\Leftrightarrow (1 + 2i)z = \\frac{4 - 8i}{2} \\Leftrightarrow (1 + 2i)z = -2 + 4i \\Leftrightarrow z = \\frac{-2 + 4i}{1 + 2i} = \\frac{(-2 + 4i)(1 - 2i)}{(1 + 2i)(1 - 2i)} \\Leftrightarrow z = \\frac{-2 + 4i + 4i - 8i^2}{1 - 4i^2} \\Leftrightarrow z = \\frac{6 + 8i}{5}$",
         "$\\frac{6 + 8i}{5}$",
         "\nĐể giải phương trình $(1 + 2i)z + \\frac{2 + 6i}{1 - i} = 0$, ta thực hiện các bước sau:\n\n**Bước 1: Tính giá trị của $\\frac{2 + 6i}{1 - i}$**\n\nĐể tính giá trị này, ta nhân tử số và mẫu số với liên hợp của mẫu số:\n\n\\[\n\\frac{2 + 6i}{1 - i} \\cdot \\frac{1 + i}{1 + i} = \\frac{(2 + 6i)(1 + i)}{(1 - i)(1 + i)}\n\\]\n\nTính mẫu số:\n\n\\[\n(1 - i)(1 + i) = 1^2 - i^2 = 1 - (-1) = 2\n\\]\n\nTính tử số:\n\n\\[\n(2 + 6i)(1 + i) = 2 \\cdot 1 + 2 \\cdot i + 6i \\cdot 1 + 6i \\cdot i = 2 + 2i + 6i - 6 = -4 + 8i\n\\]\n\nVậy ta có:\n\n\\[\n\\frac{2 + 6i}{1 - i} = \\frac{-4 + 8i}{2} = -2 + 4i\n\\]\n\n**Bước 2: Thay vào phương trình ban đầu**\n\nThay giá trị vừa tính vào phương trình:\n\n\\[\n(1 + 2i)z - 2 + 4i = 0\n\\]\n\n**Bước 3: Giải phương trình cho $z$**\n\nChuyển hạng tử sang bên phải:\n\n\\[\n(1 + 2i)z = 2 - 4i\n\\]\n\nChia cả hai vế cho $(1 + 2i)$:\n\n\\[\nz = \\frac{2 - 4i}{1 + 2i}\n\\]\n\n**Bước 4: Tính giá trị của $z$**\n\nTương tự như trước, ta nhân tử số và mẫu số với liên hợp của mẫu số:\n\n\\[\nz = \\frac{(2 - 4i)(1 - 2i)}{(1 + 2i)(1 - 2i)}\n\\]\n\nTính mẫu số:\n\n\\[\n(1 + 2i)(1 - 2i) = 1^2 - (2i)^2 = 1 - (-4) = 5\n\\]\n\nTính tử số:\n\n\\[\n(2 - 4i)(1 - 2i) = 2 \\cdot 1 - 2 \\cdot 2i - 4i \\cdot 1 + 8i^2 = 2 - 4i - 4i - 8 = -6 - 8i\n\\]\n\nVậy ta có:\n\n\\[\nz = \\frac{-6 - 8i}{5} = -\\frac{6}{5} - \\frac{8}{5}i\n\\]\n\n**Kết luận:**\n\nGiá trị của $z$ là:\n\n\\[\nz = -\\frac{6}{5} - \\frac{8}{5}i\n\\]\n",
         "\n$z = -\\frac{6}{5} - \\frac{8}{5}i$\n",
         "Both Incorrect",
         "No explanation provided"
        ],
        [
         "25",
         "25",
         "25",
         "Giải phương trình bậc hai sau: $z^2 - z + 1 = 0$",
         "Ta có: a = 1 ; b = -1 ; c = 1 nên $\\Delta = b^2 - 4ac = -3 < 0$. Phương trình có hai nghiệm phức phân biệt là $x_{1,2} = \\frac{1 \\pm i\\sqrt{3}}{2}$",
         "$\\frac{1 \\pm i\\sqrt{3}}{2}$",
         "\nĐể giải phương trình bậc hai $z^2 - z + 1 = 0$, ta sẽ sử dụng công thức nghiệm của phương trình bậc hai:\n\n$$ z = \\frac{-b \\pm \\sqrt{b^2 - 4ac}}{2a} $$\n\nTrong đó, $a = 1$, $b = -1$, và $c = 1$. \n\nBước 1: Tính $b^2 - 4ac$:\n\n$$ b^2 - 4ac = (-1)^2 - 4 \\cdot 1 \\cdot 1 = 1 - 4 = -3 $$\n\nBước 2: Thay vào công thức nghiệm:\n\n$$ z = \\frac{-(-1) \\pm \\sqrt{-3}}{2 \\cdot 1} = \\frac{1 \\pm \\sqrt{-3}}{2} $$\n\nBước 3: Biểu diễn nghiệm dưới dạng số phức:\n\n$$ z = \\frac{1}{2} \\pm \\frac{\\sqrt{3}}{2} i $$\n\nVậy nghiệm của phương trình là:\n\n$$ z_1 = \\frac{1}{2} + \\frac{\\sqrt{3}}{2} i $$\n$$ z_2 = \\frac{1}{2} - \\frac{\\sqrt{3}}{2} i $$\n\n",
         "\nNghiệm của phương trình $z^2 - z + 1 = 0$ là $z_1 = \\frac{1}{2} + \\frac{\\sqrt{3}}{2} i$ và $z_2 = \\frac{1}{2} - \\frac{\\sqrt{3}}{2} i$.\n",
         "Both Correct",
         "No explanation provided"
        ],
        [
         "26",
         "26",
         "26",
         "Trong C , nghiệm của phương trình $z^2 + \\sqrt{5} = 0$ là:",
         "$z^2 + \\sqrt{5} = 0 \\Leftrightarrow z^2 = -\\sqrt{5} \\Leftrightarrow z^2 = i^2\\sqrt{5} \\Leftrightarrow z = \\pm i^4\\sqrt{5}$",
         "$\\pm i^4\\sqrt{5}$",
         "\nĐể giải phương trình $z^2 + \\sqrt{5} = 0$, ta thực hiện các bước sau:\n\n1. **Chuyển hạng tử**: \n   Ta có thể chuyển hạng tử $\\sqrt{5}$ sang bên phải phương trình:\n   \\[\n   z^2 = -\\sqrt{5}\n   \\]\n\n2. **Lấy căn bậc hai**: \n   Để tìm $z$, ta lấy căn bậc hai của cả hai vế. Lưu ý rằng khi lấy căn bậc hai của một số âm, ta sẽ có nghiệm phức:\n   \\[\n   z = \\pm \\sqrt{-\\sqrt{5}} = \\pm i \\sqrt{\\sqrt{5}} = \\pm i \\cdot 5^{1/4}\n   \\]\n\n3. **Kết luận**: \n   Vậy nghiệm của phương trình $z^2 + \\sqrt{5} = 0$ là:\n   \\[\n   z = i \\cdot 5^{1/4} \\quad \\text{hoặc} \\quad z = -i \\cdot 5^{1/4}\n   \\]\n\n",
         "\n$z = i \\cdot 5^{1/4} \\quad \\text{hoặc} \\quad z = -i \\cdot 5^{1/4}$\n",
         "Both Correct",
         "No explanation provided"
        ],
        [
         "27",
         "27",
         "27",
         "Trong C , nghiệm của phương trình $z^3 - 8 = 0$ là:",
         "Sử dụng hằng đẳng thức số 7, ta có: $z^3 - 8 = 0 \\Leftrightarrow (z - 2)(z^2 + 2z + 4) = 0 \\Leftrightarrow \\begin{bmatrix} z = 2 \\\\ z^2 + 2z + 4 = 0 \\end{bmatrix} \\Leftrightarrow \\begin{bmatrix} z = 2 \\\\ (z + 1)^2 = -3 \\end{bmatrix} \\Leftrightarrow \\begin{bmatrix} z = 2 \\\\ z + 1 = \\sqrt{3}i \\\\ z + 1 = -\\sqrt{3}i \\end{bmatrix} \\Leftrightarrow \\begin{bmatrix} z = 2 \\\\ z = -1 + \\sqrt{3}i \\\\ z = -1 - \\sqrt{3}i \\end{bmatrix}$. Vậy phương trình đã cho có 3 nghiệm phân biệt.",
         "$\\begin{bmatrix} z = 2 \\\\ z = -1 + \\sqrt{3}i \\\\ z = -1 - \\sqrt{3}i \\end{bmatrix}$",
         "\nĐể giải phương trình $z^3 - 8 = 0$, ta có thể viết lại phương trình dưới dạng:\n\n$$\nz^3 = 8\n$$\n\nTiếp theo, ta nhận thấy rằng $8$ có thể được viết dưới dạng số phức như sau:\n\n$$\n8 = 8 \\cdot (\\cos(0) + i \\sin(0))\n$$\n\nBây giờ, ta sẽ sử dụng công thức De Moivre để tìm các nghiệm của phương trình. Các nghiệm của phương trình $z^n = r(\\cos \\theta + i \\sin \\theta)$ được cho bởi:\n\n$$\nz_k = r^{1/n} \\left( \\cos\\left(\\frac{\\theta + 2k\\pi}{n}\\right) + i \\sin\\left(\\frac{\\theta + 2k\\pi}{n}\\right) \\right), \\quad k = 0, 1, \\ldots, n-1\n$$\n\nTrong trường hợp này, $r = 8$, $\\theta = 0$, và $n = 3$. \n\nTính $r^{1/3}$:\n\n$$\nr^{1/3} = 8^{1/3} = 2\n$$\n\nBây giờ, ta sẽ tính các nghiệm cho $k = 0, 1, 2$:\n\n1. Với $k = 0$:\n\n$$\nz_0 = 2 \\left( \\cos\\left(\\frac{0 + 2 \\cdot 0 \\cdot \\pi}{3}\\right) + i \\sin\\left(\\frac{0 + 2 \\cdot 0 \\cdot \\pi}{3}\\right) \\right) = 2 \\left( \\cos(0) + i \\sin(0) \\right) = 2\n$$\n\n2. Với $k = 1$:\n\n$$\nz_1 = 2 \\left( \\cos\\left(\\frac{0 + 2 \\cdot 1 \\cdot \\pi}{3}\\right) + i \\sin\\left(\\frac{0 + 2 \\cdot 1 \\cdot \\pi}{3}\\right) \\right) = 2 \\left( \\cos\\left(\\frac{2\\pi}{3}\\right) + i \\sin\\left(\\frac{2\\pi}{3}\\right) \\right)\n$$\n\nTính giá trị:\n\n$$\n\\cos\\left(\\frac{2\\pi}{3}\\right) = -\\frac{1}{2}, \\quad \\sin\\left(\\frac{2\\pi}{3}\\right) = \\frac{\\sqrt{3}}{2}\n$$\n\nVậy:\n\n$$\nz_1 = 2 \\left( -\\frac{1}{2} + i \\frac{\\sqrt{3}}{2} \\right) = -1 + i\\sqrt{3}\n$$\n\n3. Với $k = 2$:\n\n$$\nz_2 = 2 \\left( \\cos\\left(\\frac{0 + 2 \\cdot 2 \\cdot \\pi}{3}\\right) + i \\sin\\left(\\frac{0 + 2 \\cdot 2 \\cdot \\pi}{3}\\right) \\right) = 2 \\left( \\cos\\left(\\frac{4\\pi}{3}\\right) + i \\sin\\left(\\frac{4\\pi}{3}\\right) \\right)\n$$\n\nTính giá trị:\n\n$$\n\\cos\\left(\\frac{4\\pi}{3}\\right) = -\\frac{1}{2}, \\quad \\sin\\left(\\frac{4\\pi}{3}\\right) = -\\frac{\\sqrt{3}}{2}\n$$\n\nVậy:\n\n$$\nz_2 = 2 \\left( -\\frac{1}{2} - i \\frac{\\sqrt{3}}{2} \\right) = -1 - i\\sqrt{3}\n$$\n\nTóm lại, các nghiệm của phương trình $z^3 - 8 = 0$ là:\n\n$$\nz_0 = 2, \\quad z_1 = -1 + i\\sqrt{3}, \\quad z_2 = -1 - i\\sqrt{3}\n$$\n",
         "\nCác nghiệm của phương trình $z^3 - 8 = 0$ là $z_0 = 2$, $z_1 = -1 + i\\sqrt{3}$, $z_2 = -1 - i\\sqrt{3}$.\n",
         "Both Correct",
         "No explanation provided"
        ],
        [
         "28",
         "28",
         "28",
         "Trong C , phương trình $z^2 + 3iz + 4 = 0$ có nghiệm là:",
         "Ta có : a = 1 ; b = i ; c = 4 nên : $\\Delta = b^2 - 4ac = (3i)^2 - 4.1.4 = -25 < 0$. Phương trình có hai nghiệm phức là: $z_1 = \\frac{-3i + 5i}{2} = i$ và $z_2 = \\frac{-3i - 5i}{2} = -4i$",
         "$\\begin{bmatrix} z = i \\\\ z = -4i \\end{bmatrix}$",
         "\nĐể giải phương trình $z^2 + 3iz + 4 = 0$, chúng ta sẽ sử dụng công thức nghiệm của phương trình bậc hai:\n\n\\[\nz = \\frac{-b \\pm \\sqrt{b^2 - 4ac}}{2a}\n\\]\n\nTrong đó, $a = 1$, $b = 3i$, và $c = 4$. \n\nBước 1: Tính $b^2 - 4ac$.\n\n\\[\nb^2 = (3i)^2 = 9i^2 = 9(-1) = -9\n\\]\n\n\\[\n4ac = 4 \\cdot 1 \\cdot 4 = 16\n\\]\n\nVậy:\n\n\\[\nb^2 - 4ac = -9 - 16 = -25\n\\]\n\nBước 2: Tính $\\sqrt{b^2 - 4ac}$.\n\n\\[\n\\sqrt{-25} = 5i\n\\]\n\nBước 3: Thay vào công thức nghiệm.\n\n\\[\nz = \\frac{-3i \\pm 5i}{2}\n\\]\n\nBước 4: Tính các nghiệm.\n\nNghiệm thứ nhất:\n\n\\[\nz_1 = \\frac{-3i + 5i}{2} = \\frac{2i}{2} = i\n\\]\n\nNghiệm thứ hai:\n\n\\[\nz_2 = \\frac{-3i - 5i}{2} = \\frac{-8i}{2} = -4i\n\\]\n\nVậy nghiệm của phương trình $z^2 + 3iz + 4 = 0$ là:\n\n\\[\nz_1 = i \\quad \\text{và} \\quad z_2 = -4i\n\\]\n",
         "\nNghiệm của phương trình là $z_1 = i$ và $z_2 = -4i$.\n",
         "Both Correct",
         "No explanation provided"
        ],
        [
         "29",
         "29",
         "29",
         "Cho z = 1 - i. Tìm căn bậc hai dạng lượng giác của z:",
         "Ta có $z = 1 - i = \\sqrt{2} \\begin{bmatrix} cos(-\\frac{\\pi}{4}) + i sin(-\\frac{\\pi}{4}) \\end{bmatrix}$ có các căn bậc hai là: $w_1 = ^4\\sqrt{2}(cos(\\frac{7\\pi}{8}) + i sin(\\frac{7\\pi}{8})) ; w_2 = ^4\\sqrt{2}(cos(-\\frac{\\pi}{8}) + i sin(-\\frac{-\\pi}{8}))$",
         "$^4\\sqrt{2}(cos(\\frac{7\\pi}{8}) + i sin(\\frac{7\\pi}{8})) ; ^4\\sqrt{2}(cos(-\\frac{\\pi}{8}) + i sin(-\\frac{-\\pi}{8}))$",
         "\nĐể tìm căn bậc hai của số phức $z = 1 - i$, trước tiên chúng ta sẽ chuyển đổi số phức này sang dạng lượng giác.\n\n1. **Tính mô-đun của $z$**:\n   Mô-đun của một số phức $z = a + bi$ được tính bằng công thức:\n   \\[\n   |z| = \\sqrt{a^2 + b^2}\n   \\]\n   Trong trường hợp này, $a = 1$ và $b = -1$. Do đó:\n   \\[\n   |z| = \\sqrt{1^2 + (-1)^2} = \\sqrt{1 + 1} = \\sqrt{2}\n   \\]\n\n2. **Tính góc của $z$**:\n   Góc $\\theta$ của số phức $z$ được tính bằng công thức:\n   \\[\n   \\theta = \\tan^{-1}\\left(\\frac{b}{a}\\right)\n   \\]\n   Ở đây, $b = -1$ và $a = 1$, do đó:\n   \\[\n   \\theta = \\tan^{-1}\\left(\\frac{-1}{1}\\right) = \\tan^{-1}(-1) = -\\frac{\\pi}{4}\n   \\]\n   Tuy nhiên, góc này nằm trong phần tư IV, nên chúng ta có thể viết lại góc này dưới dạng:\n   \\[\n   \\theta = \\frac{7\\pi}{4} \\quad (\\text{để nằm trong khoảng } [0, 2\\pi))\n   \\]\n\n3. **Chuyển đổi sang dạng lượng giác**:\n   Số phức $z$ có thể được viết dưới dạng lượng giác như sau:\n   \\[\n   z = |z| \\left(\\cos \\theta + i \\sin \\theta\\right) = \\sqrt{2} \\left(\\cos\\left(-\\frac{\\pi}{4}\\right) + i \\sin\\left(-\\frac{\\pi}{4}\\right)\\right)\n   \\]\n\n4. **Tìm căn bậc hai của $z$**:\n   Căn bậc hai của một số phức trong dạng lượng giác được tính bằng công thức:\n   \\[\n   \\sqrt{z} = \\sqrt{|z|} \\left(\\cos\\left(\\frac{\\theta + 2k\\pi}{2}\\right) + i \\sin\\left(\\frac{\\theta + 2k\\pi}{2}\\right)\\right) \\quad (k = 0, 1)\n   \\]\n   Tính $\\sqrt{|z|}$:\n   \\[\n   \\sqrt{|z|} = \\sqrt{\\sqrt{2}} = 2^{1/4} = \\sqrt[4]{2}\n   \\]\n\n   Với $k = 0$:\n   \\[\n   \\sqrt{z}_0 = \\sqrt[4]{2} \\left(\\cos\\left(\\frac{-\\frac{\\pi}{4}}{2}\\right) + i \\sin\\left(\\frac{-\\frac{\\pi}{4}}{2}\\right)\\right) = \\sqrt[4]{2} \\left(\\cos\\left(-\\frac{\\pi}{8}\\right) + i \\sin\\left(-\\frac{\\pi}{8}\\right)\\right)\n   \\]\n\n   Với $k = 1$:\n   \\[\n   \\sqrt{z}_1 = \\sqrt[4]{2} \\left(\\cos\\left(\\frac{-\\frac{\\pi}{4} + 2\\pi}{2}\\right) + i \\sin\\left(\\frac{-\\frac{\\pi}{4} + 2\\pi}{2}\\right)\\right) = \\sqrt[4]{2} \\left(\\cos\\left(\\frac{7\\pi}{8}\\right) + i \\sin\\left(\\frac{7\\pi}{8}\\right)\\right)\n   \\]\n\n5. **Kết quả**:\n   Vậy hai căn bậc hai của $z = 1 - i$ là:\n   \\[\n   \\sqrt{z}_0 = \\sqrt[4]{2} \\left(\\cos\\left(-\\frac{\\pi}{8}\\right) + i \\sin\\left(-\\frac{\\pi}{8}\\right)\\right)\n   \\]\n   và\n   \\[\n   \\sqrt{z}_1 = \\sqrt[4]{2} \\left(\\cos\\left(\\frac{7\\pi}{8}\\right) + i \\sin\\left(\\frac{7\\pi}{8}\\right)\\right)\n   \\]\n",
         "\nCăn bậc hai của $z = 1 - i$ là:\n\\[\n\\sqrt{z}_0 = \\sqrt[4]{2} \\left(\\cos\\left(-\\frac{\\pi}{8}\\right) + i \\sin\\left(-\\frac{\\pi}{8}\\right)\\right) \\quad \\text{và} \\quad \\sqrt{z}_1 = \\sqrt[4]{2} \\left(\\cos\\left(\\frac{7\\pi}{8}\\right) + i \\sin\\left(\\frac{7\\pi}{8}\\right)\\right)\n\\]\n",
         "Both Correct",
         "No explanation provided"
        ],
        [
         "30",
         "30",
         "30",
         "Tìm các căn bậc hai của $w = -5 + 12i$.",
         "Gọi $z = x + yi$ là một căn bậc hai của số phức $w = -5 + 12i$. Ta có $z^2 = w <=>$ $(x + yi)^2 = -5 + 12i$ $<=> \\begin{cases} x^2 - y^2 = -5 \\\\ 2xy = 12 \\end{cases} <=> \\begin{cases} x^2 = 4 \\\\ y = \\frac{6}{x} \\end{cases} <=> \\begin{cases} x = 2 \\\\ y = 3 \\end{cases} \\\\  \\begin{cases} x = -2 \\\\ y = -3 \\end{cases}$ Vậy số phức w có hai căn bậc hai là $2 + 3i$ và $-2 - 3i$.",
         "$2 + 3i$ và $-2 - 3i$",
         "\nĐể tìm các căn bậc hai của số phức $w = -5 + 12i$, ta sẽ sử dụng công thức tìm căn bậc hai của một số phức.\n\nGiả sử $z = x + yi$ là căn bậc hai của $w$, tức là:\n\n\\[\nz^2 = w\n\\]\n\nKhi đó, ta có:\n\n\\[\n(x + yi)^2 = -5 + 12i\n\\]\n\nMở rộng vế trái:\n\n\\[\nx^2 + 2xyi - y^2 = -5 + 12i\n\\]\n\nTách phần thực và phần ảo:\n\n\\[\n(x^2 - y^2) + (2xy)i = -5 + 12i\n\\]\n\nTừ đây, ta có hệ phương trình:\n\n1. $x^2 - y^2 = -5$ (1)\n2. $2xy = 12$ (2)\n\nTừ phương trình (2), ta có:\n\n\\[\nxy = 6 \\implies y = \\frac{6}{x} \\quad (x \\neq 0)\n\\]\n\nThay $y$ vào phương trình (1):\n\n\\[\nx^2 - \\left(\\frac{6}{x}\\right)^2 = -5\n\\]\n\nGiải phương trình này:\n\n\\[\nx^2 - \\frac{36}{x^2} = -5\n\\]\n\nNhân cả hai vế với $x^2$ (với $x \\neq 0$):\n\n\\[\nx^4 + 5x^2 - 36 = 0\n\\]\n\nĐặt $u = x^2$, ta có phương trình bậc hai:\n\n\\[\nu^2 + 5u - 36 = 0\n\\]\n\nÁp dụng công thức nghiệm của phương trình bậc hai:\n\n\\[\nu = \\frac{-b \\pm \\sqrt{b^2 - 4ac}}{2a} = \\frac{-5 \\pm \\sqrt{5^2 - 4 \\cdot 1 \\cdot (-36)}}{2 \\cdot 1}\n\\]\n\nTính toán:\n\n\\[\nu = \\frac{-5 \\pm \\sqrt{25 + 144}}{2} = \\frac{-5 \\pm \\sqrt{169}}{2} = \\frac{-5 \\pm 13}{2}\n\\]\n\nTìm các nghiệm:\n\n1. $u_1 = \\frac{8}{2} = 4 \\implies x^2 = 4 \\implies x = 2 \\text{ hoặc } x = -2$\n2. $u_2 = \\frac{-18}{2} = -9 \\implies x^2 = -9 \\text{ (không có nghiệm thực)}$\n\nVới $x = 2$, ta có:\n\n\\[\ny = \\frac{6}{2} = 3\n\\]\n\nVới $x = -2$, ta có:\n\n\\[\ny = \\frac{6}{-2} = -3\n\\]\n\nVậy các căn bậc hai của $w$ là:\n\n\\[\nz_1 = 2 + 3i \\quad \\text{và} \\quad z_2 = -2 - 3i\n\\]\n\nKết luận, các căn bậc hai của $w = -5 + 12i$ là:\n\n\\[\nz_1 = 2 + 3i \\quad \\text{và} \\quad z_2 = -2 - 3i\n\\]\n",
         "\nCác căn bậc hai của $w = -5 + 12i$ là $2 + 3i$ và $-2 - 3i$.\n",
         "Both Correct",
         "No explanation provided"
        ],
        [
         "31",
         "31",
         "31",
         "Khai căn bậc hai số phức $z = -3 + 4i$ có kết quả:",
         "Giả sử $w = x + yi$ là một căn bậc hai của số phức $z = -3 + 4i$. Ta có: $w^2 = z <=> (x + yi)^2 = -3 + 4i$ $<=> \\begin{cases} x^2 - y^2 = -3 \\\\ 2xy = 4 \\end{cases} <=> \\begin{cases} x^2 = 1 \\\\ y = \\frac{2}{x} \\end{cases} <=> \\begin{cases} x = 1 \\\\ y = 2 \\end{cases} \\\\  \\begin{cases} x = -1 \\\\ y = -2 \\end{cases}$ Do đó z có hai căn bậc hai là: $z_1 = 1 + 2i$ và $z_2 = -1 - 2i$",
         "$z_1 = 1 + 2i$ và $z_2 = -1 - 2i$",
         "\nĐể khai căn bậc hai số phức $z = -3 + 4i$, ta sử dụng công thức khai căn bậc hai cho số phức. Một số phức $z = x + yi$ có thể được viết dưới dạng $r(\\cos \\theta + i \\sin \\theta)$, trong đó $r = |z|$ là độ lớn của số phức và $\\theta = \\arg(z)$ là góc của số phức.\n\n1. **Tính độ lớn $r$ của số phức $z$:**\n   \\[\n   r = |z| = \\sqrt{x^2 + y^2} = \\sqrt{(-3)^2 + (4)^2} = \\sqrt{9 + 16} = \\sqrt{25} = 5\n   \\]\n\n2. **Tính góc $\\theta$:**\n   \\[\n   \\theta = \\tan^{-1}\\left(\\frac{y}{x}\\right) = \\tan^{-1}\\left(\\frac{4}{-3}\\right)\n   \\]\n   Số phức $z$ nằm ở phần tư II, do đó:\n   \\[\n   \\theta = \\pi + \\tan^{-1}\\left(\\frac{4}{-3}\\right) = \\pi - \\tan^{-1}\\left(\\frac{4}{3}\n   \\]\n\n3. **Khai căn bậc hai:**\n   Số phức có dạng $z = r(\\cos \\theta + i \\sin \\theta)$, do đó:\n   \\[\n   \\sqrt{z} = \\sqrt{r}\\left(\\cos\\left(\\frac{\\theta}{2}\\right) + i \\sin\\left(\\frac{\\theta}{2}\\right)\\right)\n   \\]\n   Với $r = 5$, ta có:\n   \\[\n   \\sqrt{r} = \\sqrt{5}\n   \\]\n\n4. **Tính $\\frac{\\theta}{2}$:**\n   \\[\n   \\frac{\\theta}{2} = \\frac{\\pi - \\tan^{-1}\\left(\\frac{4}{3}\\right)}{2}\n   \\]\n\n5. **Kết quả cuối cùng:**\n   Do đó, ta có hai nghiệm cho $\\sqrt{z}$:\n   \\[\n   \\sqrt{z} = \\sqrt{5}\\left(\\cos\\left(\\frac{\\theta}{2}\\right) + i \\sin\\left(\\frac{\\theta}{2}\\right)\\right) \\quad \\text{hoặc} \\quad \\sqrt{5}\\left(\\cos\\left(\\frac{\\theta}{2} + \\pi\\right) + i \\sin\\left(\\frac{\\theta}{2} + \\pi\\right)\\right)\n   \\]\n\nKết quả cuối cùng là:\n\\[\n\\sqrt{z} = \\sqrt{5}\\left(\\cos\\left(\\frac{\\pi - \\tan^{-1}\\left(\\frac{4}{3}\\right)}{2}\\right) + i \\sin\\left(\\frac{\\pi - \\tan^{-1}\\left(\\frac{4}{3}\\right)}{2}\\right)\\right) \\quad \\text{và} \\quad \\sqrt{5}\\left(\\cos\\left(\\frac{\\pi - \\tan^{-1}\\left(\\frac{4}{3}\\right)}{2} + \\pi\\right) + i \\sin\\left(\\frac{\\pi - \\tan^{-1}\\left(\\frac{4}{3}\\right)}{2} + \\pi\\right)\\right)\n\\]\n",
         "\n$\\sqrt{z} = \\sqrt{5}\\left(\\cos\\left(\\frac{\\pi - \\tan^{-1}\\left(\\frac{4}{3}\\right)}{2}\\right) + i \\sin\\left(\\frac{\\pi - \\tan^{-1}\\left(\\frac{4}{3}\\right)}{2}\\right)\\right) \\quad \\text{và} \\quad \\sqrt{5}\\left(\\cos\\left(\\frac{\\pi - \\tan^{-1}\\left(\\frac{4}{3}\\right)}{2} + \\pi\\right) + i \\sin\\left(\\frac{\\pi - \\tan^{-1}\\left(\\frac{4}{3}\\right)}{2} + \\pi\\right)\\right)$\n",
         "Both Incorrect",
         "No explanation provided"
        ],
        [
         "32",
         "32",
         "32",
         "Tính căn bậc hai của số phức $z = 8 + 6i$ ra kết quả:",
         "Giả sử $w = x + yi$ là một căn bậc hai của số phức $z = 8 + 6i$. $w^2 = z <=> (x + yi)^2 = 8 + 6i <=> \\begin{cases} x^2 - y^2 = 8 \\\\ 2xy = 6 \\end{cases} <=> \\begin{cases} x^2 = 9 \\\\ y = \\frac{3}{x} \\end{cases} <=> \\begin{cases} x = 3 \\\\ y = 1 \\end{cases} \\\\  \\begin{cases} x = -3 \\\\ y = -1 \\end{cases}$ Ta có: Do đó z có hai căn bậc hai là: $\\begin{bmatrix} z_1 = 3 + i \\\\ z_2 = -3 - i \\end{bmatrix}$",
         "$\\begin{bmatrix} z_1 = 3 + i \\\\ z_2 = -3 - i \\end{bmatrix}$",
         "\nĐể tính căn bậc hai của số phức $z = 8 + 6i$, ta sẽ sử dụng công thức tổng quát cho căn bậc hai của một số phức.\n\nGiả sử căn bậc hai của $z$ có dạng $w = x + yi$, trong đó $x$ và $y$ là các số thực. Ta có:\n\n\\[\nw^2 = z \\implies (x + yi)^2 = 8 + 6i\n\\]\n\nKhai triển vế trái:\n\n\\[\nx^2 + 2xyi - y^2 = 8 + 6i\n\\]\n\nTừ đó, ta tách thành hai phương trình thực và ảo:\n\n1. Phương trình thực: $x^2 - y^2 = 8$\n2. Phương trình ảo: $2xy = 6$\n\nTừ phương trình 2, ta có:\n\n\\[\nxy = 3 \\implies y = \\frac{3}{x} \\quad (x \\neq 0)\n\\]\n\nThay $y$ vào phương trình 1:\n\n\\[\nx^2 - \\left(\\frac{3}{x}\\right)^2 = 8\n\\]\n\nGiải phương trình này:\n\n\\[\nx^2 - \\frac{9}{x^2} = 8\n\\]\n\nNhân cả hai vế với $x^2$ (với $x \\neq 0$):\n\n\\[\nx^4 - 8x^2 - 9 = 0\n\\]\n\nĐặt $u = x^2$, ta có phương trình bậc hai:\n\n\\[\nu^2 - 8u - 9 = 0\n\\]\n\nÁp dụng công thức nghiệm của phương trình bậc hai:\n\n\\[\nu = \\frac{8 \\pm \\sqrt{(-8)^2 - 4 \\cdot 1 \\cdot (-9)}}{2 \\cdot 1} = \\frac{8 \\pm \\sqrt{64 + 36}}{2} = \\frac{8 \\pm \\sqrt{100}}{2} = \\frac{8 \\pm 10}{2}\n\\]\n\nTính các nghiệm:\n\n1. $u_1 = \\frac{18}{2} = 9 \\implies x^2 = 9 \\implies x = 3$ hoặc $x = -3$.\n2. $u_2 = \\frac{-2}{2} = -1$ (không có nghiệm thực).\n\nVới $x = 3$, ta tính $y$:\n\n\\[\ny = \\frac{3}{3} = 1\n\\]\n\nVới $x = -3$, ta cũng có:\n\n\\[\ny = \\frac{3}{-3} = -1\n\\]\n\nVậy, các nghiệm của $w$ là:\n\n\\[\nw_1 = 3 + i \\quad \\text{và} \\quad w_2 = -3 - i\n\\]\n\nDo đó, căn bậc hai của số phức $z = 8 + 6i$ là:\n\n\\[\nw = 3 + i \\quad \\text{hoặc} \\quad w = -3 - i\n\\]\n",
         "\nCăn bậc hai của số phức $z = 8 + 6i$ là $3 + i$ hoặc $-3 - i$.\n",
         "Both Correct",
         "The AI provides the two square roots of the complex number, which matches the given answer (although in a slightly different format)."
        ],
        [
         "33",
         "33",
         "33",
         "Cho z = 3 + 4i. Tìm căn bậc hai của z.",
         "Giả sử $w = x + yi$ là một căn bậc hai của số phức $z = 3 + 4i$. Ta có: $w^2 = z <=> (x + yi)^2 = 3 + 4i <=> \\begin{cases} x^2 - y^2 = 3 \\\\ 2xy = 4 \\end{cases} <=> \\begin{cases} x^2 = 4 \\\\ y = \\frac{2}{x} \\end{cases} <=> \\begin{cases} x = 2 \\\\ y = 1 \\end{cases} \\\\  \\begin{cases} x = -2 \\\\ y = -1 \\end{cases}$ Do đó z có hai căn bậc hai là $\\begin{bmatrix} z = 2 + i \\\\ z = -2 - i \\end{bmatrix}$",
         "$\\begin{bmatrix} z = 2 + i \\\\ z = -2 - i \\end{bmatrix}$",
         "\nĐể tìm căn bậc hai của số phức $z = 3 + 4i$, ta sẽ sử dụng công thức tổng quát cho căn bậc hai của một số phức.\n\nGiả sử căn bậc hai của $z$ là $w = x + yi$, với $x$ và $y$ là các số thực. Ta có:\n\n\\[\nw^2 = z \\implies (x + yi)^2 = 3 + 4i\n\\]\n\nKhai triển vế trái:\n\n\\[\nx^2 + 2xyi - y^2 = 3 + 4i\n\\]\n\nTừ đó, ta tách thành hai phương trình thực và ảo:\n\n1. Phương trình thực: $x^2 - y^2 = 3$\n2. Phương trình ảo: $2xy = 4$\n\nTừ phương trình 2, ta có:\n\n\\[\nxy = 2 \\implies y = \\frac{2}{x} \\quad (x \\neq 0)\n\\]\n\nThay $y$ vào phương trình 1:\n\n\\[\nx^2 - \\left(\\frac{2}{x}\\right)^2 = 3\n\\]\n\nGiải phương trình này:\n\n\\[\nx^2 - \\frac{4}{x^2} = 3\n\\]\n\nNhân cả hai vế với $x^2$ (với $x \\neq 0$):\n\n\\[\nx^4 - 3x^2 - 4 = 0\n\\]\n\nĐặt $u = x^2$, ta có phương trình bậc hai:\n\n\\[\nu^2 - 3u - 4 = 0\n\\]\n\nÁp dụng công thức nghiệm của phương trình bậc hai:\n\n\\[\nu = \\frac{-b \\pm \\sqrt{b^2 - 4ac}}{2a} = \\frac{3 \\pm \\sqrt{(-3)^2 - 4 \\cdot 1 \\cdot (-4)}}{2 \\cdot 1} = \\frac{3 \\pm \\sqrt{9 + 16}}{2} = \\frac{3 \\pm 5}{2}\n\\]\n\nTính toán các nghiệm:\n\n1. $u_1 = \\frac{8}{2} = 4 \\implies x^2 = 4 \\implies x = 2$ hoặc $x = -2$.\n2. $u_2 = \\frac{-2}{2} = -1$ (không có nghiệm thực).\n\nVới $x = 2$, ta tính $y$:\n\n\\[\ny = \\frac{2}{x} = \\frac{2}{2} = 1\n\\]\n\nVới $x = -2$, ta cũng có:\n\n\\[\ny = \\frac{2}{-2} = -1\n\\]\n\nVậy, các căn bậc hai của $z$ là:\n\n\\[\nw_1 = 2 + i \\quad \\text{và} \\quad w_2 = -2 - i\n\\]\n\nKết luận, căn bậc hai của số phức $z = 3 + 4i$ là:\n\n\\[\nw = 2 + i \\quad \\text{hoặc} \\quad w = -2 - i\n\\]\n",
         "\nCăn bậc hai của $z = 3 + 4i$ là $2 + i$ hoặc $-2 - i$.\n",
         "Both Correct",
         "No explanation provided"
        ],
        [
         "34",
         "34",
         "34",
         "Căn bậc hai của số phức 4 + 6$\\sqrt{5}$i là:",
         "Giả sử w là một căn bậc hai của 4 + 6$\\sqrt{5}$i. Ta có: $w^2 = 4 + 6\\sqrt{5}i <=> w^2 = (3 + \\sqrt{5}i)^2 => w = \\pm (3 + \\sqrt{5}i).$",
         "$\\pm (3 + \\sqrt{5}i)$",
         "\nĐể tìm căn bậc hai của số phức $z = 4 + 6\\sqrt{5}i$, ta sẽ sử dụng công thức cho căn bậc hai của số phức.\n\nGiả sử căn bậc hai của $z$ là $w = x + yi$, trong đó $x$ và $y$ là các số thực. Ta có:\n\n\\[\nw^2 = z \\implies (x + yi)^2 = 4 + 6\\sqrt{5}i\n\\]\n\nKhi khai triển vế trái, ta có:\n\n\\[\nx^2 + 2xyi - y^2 = 4 + 6\\sqrt{5}i\n\\]\n\nTừ đây, ta tách phần thực và phần ảo:\n\n1. Phần thực: $x^2 - y^2 = 4$\n2. Phần ảo: $2xy = 6\\sqrt{5}$\n\nBây giờ, ta có hệ phương trình:\n\n\\[\n\\begin{cases}\nx^2 - y^2 = 4 \\quad (1) \\\\\n2xy = 6\\sqrt{5} \\quad (2)\n\\end{cases}\n\\]\n\nTừ phương trình (2), ta có:\n\n\\[\nxy = 3\\sqrt{5} \\implies y = \\frac{3\\sqrt{5}}{x} \\quad (3)\n\\]\n\nThay (3) vào (1):\n\n\\[\nx^2 - \\left(\\frac{3\\sqrt{5}}{x}\\right)^2 = 4\n\\]\n\nGiải phương trình này:\n\n\\[\nx^2 - \\frac{45}{x^2} = 4\n\\]\n\nNhân cả hai vế với $x^2$ (với $x \\neq 0$):\n\n\\[\nx^4 - 4x^2 - 45 = 0\n\\]\n\nĐặt $u = x^2$, ta có phương trình bậc hai:\n\n\\[\nu^2 - 4u - 45 = 0\n\\]\n\nÁp dụng công thức nghiệm:\n\n\\[\nu = \\frac{4 \\pm \\sqrt{(-4)^2 - 4 \\cdot 1 \\cdot (-45)}}{2 \\cdot 1} = \\frac{4 \\pm \\sqrt{16 + 180}}{2} = \\frac{4 \\pm \\sqrt{196}}{2} = \\frac{4 \\pm 14}{2}\n\\]\n\nTừ đó, ta có hai nghiệm:\n\n\\[\nu_1 = \\frac{18}{2} = 9 \\quad \\text{và} \\quad u_2 = \\frac{-10}{2} = -5 \\quad (\\text{loại bỏ vì } u = x^2 \\geq 0)\n\\]\n\nVậy $x^2 = 9 \\implies x = 3$ hoặc $x = -3$.\n\nThay $x = 3$ vào (3):\n\n\\[\ny = \\frac{3\\sqrt{5}}{3} = \\sqrt{5}\n\\]\n\nVậy một nghiệm là $w_1 = 3 + \\sqrt{5}i$.\n\nNếu $x = -3$, ta có:\n\n\\[\ny = \\frac{3\\sqrt{5}}{-3} = -\\sqrt{5}\n\\]\n\nVậy nghiệm còn lại là $w_2 = -3 - \\sqrt{5}i$.\n\nCuối cùng, căn bậc hai của số phức $4 + 6\\sqrt{5}i$ là:\n\n\\[\nw = 3 + \\sqrt{5}i \\quad \\text{hoặc} \\quad w = -3 - \\sqrt{5}i\n\\]\n",
         "\nCăn bậc hai của số phức $4 + 6\\sqrt{5}i$ là $3 + \\sqrt{5}i$ hoặc $-3 - \\sqrt{5}i$.\n",
         "Both Correct",
         "No explanation provided"
        ],
        [
         "35",
         "35",
         "35",
         "Gọi z là căn bậc hai có phần ảo âm của 33 - 56i . Phần thực của z là:",
         "Ta có: 33 - 56i = (7 - 4i)^2 => z = 7 - 4i Do đó phần thực của z là 7.",
         "7",
         "\nĐể tìm phần thực của số phức $z = \\sqrt{33 - 56i}$ với điều kiện phần ảo của $z$ âm, ta thực hiện các bước sau:\n\n1. **Biểu diễn số phức dưới dạng cực**:\n   Số phức $33 - 56i$ có thể được biểu diễn dưới dạng cực. Đầu tiên, ta tính mô-đun và góc của số phức này.\n\n   Mô-đun được tính bằng công thức:\n   \\[\n   r = |33 - 56i| = \\sqrt{33^2 + (-56)^2} = \\sqrt{1089 + 3136} = \\sqrt{4225} = 65\n   \\]\n\n   Góc $\\theta$ được tính bằng:\n   \\[\n   \\theta = \\tan^{-1}\\left(\\frac{-56}{33}\\right)\n   \\]\n\n   Tính giá trị của $\\theta$:\n   \\[\n   \\theta \\approx \\tan^{-1}\\left(-1.696\\right) \\approx -59.04^\\circ \\quad (\\text{hoặc } -\\frac{59.04 \\pi}{180} \\text{ rad})\n   \\]\n\n2. **Biểu diễn số phức dưới dạng lượng giác**:\n   Số phức $33 - 56i$ có thể viết lại dưới dạng:\n   \\[\n   33 - 56i = 65\\left(\\cos(-59.04^\\circ) + i\\sin(-59.04^\\circ)\\right)\n   \\]\n\n3. **Tính căn bậc hai**:\n   Căn bậc hai của số phức có thể được tính bằng công thức:\n   \\[\n   z = \\sqrt{r}\\left(\\cos\\left(\\frac{\\theta + 2k\\pi}{2}\\right) + i\\sin\\left(\\frac{\\theta + 2k\\pi}{2}\\right)\\right) \\quad (k = 0, 1)\n   \\]\n\n   Với $r = 65$ và $\\theta \\approx -59.04^\\circ$, ta có:\n   \\[\n   \\sqrt{r} = \\sqrt{65}\n   \\]\n\n   Tính cho $k = 0$:\n   \\[\n   z_0 = \\sqrt{65}\\left(\\cos\\left(\\frac{-59.04^\\circ}{2}\\right) + i\\sin\\left(\\frac{-59.04^\\circ}{2}\\right)\\right)\n   \\]\n\n   Tính cho $k = 1$:\n   \\[\n   z_1 = \\sqrt{65}\\left(\\cos\\left(\\frac{-59.04^\\circ + 360^\\circ}{2}\\right) + i\\sin\\left(\\frac{-59.04^\\circ + 360^\\circ}{2}\\right)\\right)\n   \\]\n\n   Tính cho $k = 0$:\n   \\[\n   z_0 = \\sqrt{65}\\left(\\cos(-29.52^\\circ) + i\\sin(-29.52^\\circ)\\right)\n   \\]\n\n   Tính cho $k = 1$:\n   \\[\n   z_1 = \\sqrt{65}\\left(\\cos(150.48^\\circ) + i\\sin(150.48^\\circ)\\right)\n   \\]\n\n4. **Tính phần thực**:\n   Phần thực của $z_0$ và $z_1$ lần lượt là:\n   \\[\n   \\text{Re}(z_0) = \\sqrt{65}\\cos(-29.52^\\circ)\n   \\]\n   \\[\n   \\text{Re}(z_1) = \\sqrt{65}\\cos(150.48^\\circ)\n   \\]\n\n   Tính giá trị cụ thể:\n   \\[\n   \\text{Re}(z_0) \\approx \\sqrt{65} \\cdot 0.8746 \\approx 6.5\n   \\]\n   \\[\n   \\text{Re}(z_1) \\approx \\sqrt{65} \\cdot (-0.8746) \\approx -6.5\n   \\]\n\n   Vì phần ảo của $z$ phải âm, ta chọn $z_1$.\n\n5. **Kết luận**:\n   Phần thực của $z$ là:\n   \\[\n   \\text{Re}(z) = -\\sqrt{65} \\cdot 0.8746 \\approx -6.5\n   \\]\n\n",
         "\n$\\text{Re}(z) \\approx -6.5$\n",
         "Wrong Answer, Correct Explanation",
         "No explanation provided"
        ],
        [
         "36",
         "36",
         "36",
         "Trong C , căn bậc hai của -121 là:",
         "Ta có: z = -121 nên z = (11i)^2. Do đó z có hai căn bậc hai là z = 11i và z = -11i",
         "11i và -11i",
         "\nĐể tìm căn bậc hai của số -121, ta cần nhớ rằng căn bậc hai của một số âm không phải là một số thực. Thay vào đó, nó thuộc về tập số phức.\n\nCụ thể, ta có:\n\n\\[\n\\sqrt{-121} = \\sqrt{121} \\cdot \\sqrt{-1}\n\\]\n\nBiết rằng:\n\n\\[\n\\sqrt{121} = 11\n\\]\n\nVà:\n\n\\[\n\\sqrt{-1} = i\n\\]\n\nDo đó, ta có:\n\n\\[\n\\sqrt{-121} = 11i\n\\]\n\nVậy căn bậc hai của -121 là $11i$.\n",
         "\n$11i$\n",
         "Both Incorrect",
         "No explanation provided"
        ],
        [
         "37",
         "37",
         "37",
         "Tìm các căn bậc hai của -9.",
         "Ta có -9 = 9i^2 nên -9 có các căn bậc hai là 3i và -3i.",
         "3i và -3i",
         "\nĐể tìm các căn bậc hai của số -9, ta cần sử dụng khái niệm số phức, vì căn bậc hai của một số âm không tồn tại trong tập hợp số thực.\n\n1. **Định nghĩa căn bậc hai**: Căn bậc hai của một số $x$ là một số $y$ sao cho $y^2 = x$.\n\n2. **Áp dụng vào bài toán**: Ta cần tìm $y$ sao cho:\n   \\[\n   y^2 = -9\n   \\]\n\n3. **Chuyển đổi sang số phức**: Ta biết rằng $-1$ có thể được biểu diễn dưới dạng số phức như sau:\n   \\[\n   -1 = i^2\n   \\]\n   với $i$ là đơn vị ảo.\n\n4. **Thay thế vào phương trình**:\n   \\[\n   y^2 = -9 \\implies y^2 = 9 \\cdot (-1) = 9 \\cdot i^2\n   \\]\n\n5. **Lấy căn bậc hai**: Ta có:\n   \\[\n   y = \\pm \\sqrt{9 \\cdot i^2} = \\pm \\sqrt{9} \\cdot \\sqrt{i^2} = \\pm 3i\n   \\]\n\n6. **Kết luận**: Các căn bậc hai của -9 là:\n   \\[\n   y = 3i \\quad \\text{hoặc} \\quad y = -3i\n   \\]\n\n",
         "\nCác căn bậc hai của -9 là $3i$ và $-3i$.\n",
         "Both Correct",
         "No explanation provided"
        ],
        [
         "38",
         "38",
         "38",
         "Viết số phức $z = 6 + 6i$ dưới dạng lượng giác?",
         "Ta có: $|z| = r = \\sqrt{6^2 + 6^2} = 6\\sqrt{2}$. Chọn $\\varphi$ là số thực thỏa mãn \\sqrt{6^2 + 6^2} $\\Rightarrow \\varphi = \\frac{\\pi}{4}$. Do đó, dạng lượng giác của số phức z là: $z = 6\\sqrt{2}(cos\\frac{\\pi}{4} + i.sin\\frac{\\pi}{4})$",
         "$z = 6\\sqrt{2}(cos\\frac{\\pi}{4} + i.sin\\frac{\\pi}{4})$",
         "\nĐể viết số phức $z = 6 + 6i$ dưới dạng lượng giác, ta cần xác định hai thông số: độ lớn $r$ và góc $\\theta$.\n\n1. **Tính độ lớn $r$**:\n   Độ lớn của số phức $z$ được tính bằng công thức:\n   \\[\n   r = |z| = \\sqrt{x^2 + y^2}\n   \\]\n   với $x$ là phần thực và $y$ là phần ảo của số phức. Ở đây, $x = 6$ và $y = 6$.\n\n   Thay vào công thức:\n   \\[\n   r = \\sqrt{6^2 + 6^2} = \\sqrt{36 + 36} = \\sqrt{72} = 6\\sqrt{2}\n   \\]\n\n2. **Tính góc $\\theta$**:\n   Góc $\\theta$ được tính bằng công thức:\n   \\[\n   \\theta = \\tan^{-1}\\left(\\frac{y}{x}\\right)\n   \\]\n   Thay $y = 6$ và $x = 6$ vào công thức:\n   \\[\n   \\theta = \\tan^{-1}\\left(\\frac{6}{6}\\right) = \\tan^{-1}(1) = \\frac{\\pi}{4}\n   \\]\n\n3. **Viết số phức dưới dạng lượng giác**:\n   Số phức $z$ có thể được viết dưới dạng lượng giác như sau:\n   \\[\n   z = r(\\cos \\theta + i \\sin \\theta)\n   \\]\n   Thay $r$ và $\\theta$ vào:\n   \\[\n   z = 6\\sqrt{2} \\left( \\cos\\left(\\frac{\\pi}{4}\\right) + i \\sin\\left(\\frac{\\pi}{4}\\right) \\right)\n   \\]\n\nVậy số phức $z = 6 + 6i$ dưới dạng lượng giác là:\n\\[\nz = 6\\sqrt{2} \\left( \\cos\\left(\\frac{\\pi}{4}\\right) + i \\sin\\left(\\frac{\\pi}{4}\\right) \\right)\n\\]\n",
         "\n$z = 6\\sqrt{2} \\left( \\cos\\left(\\frac{\\pi}{4}\\right) + i \\sin\\left(\\frac{\\pi}{4}\\right) \\right)$\n",
         "Both Correct",
         "No explanation provided"
        ],
        [
         "39",
         "39",
         "39",
         "Viết số 10 dưới dạng lượng giác?",
         "Ta có: Số 10 có mô đun là 10 và có một acgumen bằng 0 nên nó có dạng lượng giác là: $10.(cos0 + i.sin0).$",
         "$10.(cos0 + i.sin0)$",
         "\nĐể viết số $10$ dưới dạng lượng giác, ta có thể sử dụng các hàm lượng giác như $\\sin$ và $\\cos$. Một cách đơn giản để biểu diễn số $10$ là sử dụng công thức:\n\n\\[\n10 = 10 \\cdot \\left( \\cos(0) + i \\sin(0) \\right)\n\\]\n\nTrong đó, $i$ là đơn vị ảo. Tuy nhiên, để biểu diễn số thực $10$ mà không cần đến phần ảo, ta có thể viết:\n\n\\[\n10 = 10 \\cdot \\cos(0)\n\\]\n\nhoặc\n\n\\[\n10 = 10 \\cdot \\sin\\left(\\frac{\\pi}{2}\\right)\n\\]\n\nCả hai biểu thức trên đều đúng vì:\n\n- $\\cos(0) = 1$\n- $\\sin\\left(\\frac{\\pi}{2}\\right) = 1$\n\nDo đó, số $10$ có thể được viết dưới dạng lượng giác như sau:\n\n\\[\n10 = 10 \\cdot \\cos(0) = 10 \\cdot \\sin\\left(\\frac{\\pi}{2}\\right)\n\\]\n\n",
         "\n$10 = 10 \\cdot \\cos(0) = 10 \\cdot \\sin\\left(\\frac{\\pi}{2}\\right)$\n",
         "Correct Answer, Wrong Explanation",
         "No explanation provided"
        ],
        [
         "40",
         "40",
         "40",
         "Viết $-\\frac{\\sqrt{3}}{2}$ dưới dạng lượng giác.",
         "Số $-\\frac{\\sqrt{3}}{2}$ có mô đun là $\\frac{\\sqrt{3}}{2}$, có một acgumen là $\\pi$ nên số đó có dạng lượng giác là: $-\\frac{\\sqrt{3}}{2} = \\frac{\\sqrt{3}}{2}(cos\\pi + i.sin\\pi)$",
         "$-\\frac{\\sqrt{3}}{2} = \\frac{\\sqrt{3}}{2}(cos\\pi + i.sin\\pi)$",
         "\nĐể viết $-\\frac{\\sqrt{3}}{2}$ dưới dạng lượng giác, ta cần tìm một góc $\\theta$ sao cho:\n\n\\[\n\\sin(\\theta) = -\\frac{\\sqrt{3}}{2}\n\\]\n\nTa biết rằng:\n\n\\[\n\\sin\\left(-\\frac{\\pi}{3}\\right) = -\\sin\\left(\\frac{\\pi}{3}\\right) = -\\frac{\\sqrt{3}}{2}\n\\]\n\nNgoài ra, $\\sin\\left(\\frac{4\\pi}{3}\\right)$ cũng cho giá trị tương tự, vì:\n\n\\[\n\\sin\\left(\\frac{4\\pi}{3}\\right) = -\\frac{\\sqrt{3}}{2}\n\\]\n\nVậy, các góc $\\theta$ có thể viết dưới dạng lượng giác là:\n\n\\[\n\\theta = -\\frac{\\pi}{3} + 2k\\pi \\quad \\text{hoặc} \\quad \\theta = \\frac{4\\pi}{3} + 2k\\pi \\quad (k \\in \\mathbb{Z})\n\\]\n\nDo đó, $-\\frac{\\sqrt{3}}{2}$ có thể được viết dưới dạng lượng giác như sau:\n\n\\[\n-\\frac{\\sqrt{3}}{2} = \\sin\\left(-\\frac{\\pi}{3}\\right) \\quad \\text{hoặc} \\quad \\sin\\left(\\frac{4\\pi}{3}\\right)\n\\]\n",
         "\n$-\\frac{\\sqrt{3}}{2} = \\sin\\left(-\\frac{\\pi}{3}\\right) \\quad \\text{hoặc} \\quad \\sin\\left(\\frac{4\\pi}{3}\\right)$\n",
         "Both Correct",
         "**\n\n*   **Correct Answer:** Expresses $-\\frac{\\sqrt{3}}{2}$ in terms of complex exponential form using Euler's formula, which is a valid representation.\n*   **AI Answer:** Expresses $-\\frac{\\sqrt{3}}{2}$ as the sine of $-\\frac{\\pi}{3}$ and $\\frac{4\\pi}{3}$, which are both correct.\n\nBoth answers are valid expressions of the given value, just using different trigonometric functions."
        ],
        [
         "41",
         "41",
         "41",
         "Viết số phức $z = \\frac{1}{2 + 2i}$ dưới dạng lượng giác?",
         "Ta có : $z = \\frac{1}{2 + 2i} = \\frac{1}{2(1 + i)} = \\frac{1 - i}{2(1 + i)(1 - i)} = \\frac{1 - i}{4} = \\frac{1}{4} - \\frac{i}{4}$. Ta có $|z| = \\sqrt{(\\frac{1}{4})^2 + (\\frac{-1}{4})^2} = \\frac{\\sqrt{2}}{4}$. Một acgumen là $\\varphi$ thỏa mãn: $cos\\varphi = \\frac{1}{\\sqrt{2}}$; $sin\\varphi = \\frac{-1}{\\sqrt{2}} => \\varphi = -\\frac{\\pi}{4}$. Do đó ,dạng lượng giác của số phức z là: $z = \\frac{1}{2 + 2i} = \\frac{\\sqrt{2}}{4}[cos(-\\frac{\\pi}{4}) + i sin(-\\frac{\\pi}{4})].$",
         "$z = \\frac{1}{2 + 2i} = \\frac{\\sqrt{2}}{4}[cos(-\\frac{\\pi}{4}) + i sin(-\\frac{\\pi}{4})].$",
         "\nĐể viết số phức $z = \\frac{1}{2 + 2i}$ dưới dạng lượng giác, ta thực hiện các bước sau:\n\n1. **Nhân tử liên hợp**: Để loại bỏ phần ảo trong mẫu số, ta nhân cả tử và mẫu với tử liên hợp của mẫu số. Tử liên hợp của $2 + 2i$ là $2 - 2i$.\n\n   \\[\n   z = \\frac{1}{2 + 2i} \\cdot \\frac{2 - 2i}{2 - 2i} = \\frac{2 - 2i}{(2 + 2i)(2 - 2i)}\n   \\]\n\n2. **Tính mẫu số**: Tính tích $(2 + 2i)(2 - 2i)$:\n\n   \\[\n   (2 + 2i)(2 - 2i) = 2^2 - (2i)^2 = 4 - (-4) = 4 + 4 = 8\n   \\]\n\n3. **Thay vào biểu thức**: Thay giá trị mẫu số vào biểu thức của $z$:\n\n   \\[\n   z = \\frac{2 - 2i}{8} = \\frac{1}{4} - \\frac{1}{4}i\n   \\]\n\n4. **Chuyển sang dạng lượng giác**: Để chuyển sang dạng lượng giác, ta cần tính độ lớn và góc của số phức.\n\n   - **Độ lớn**: \n\n   \\[\n   |z| = \\sqrt{\\left(\\frac{1}{4}\\right)^2 + \\left(-\\frac{1}{4}\\right)^2} = \\sqrt{\\frac{1}{16} + \\frac{1}{16}} = \\sqrt{\\frac{2}{16}} = \\sqrt{\\frac{1}{8}} = \\frac{1}{2\\sqrt{2}} = \\frac{\\sqrt{2}}{4}\n   \\]\n\n   - **Góc**: \n\n   \\[\n   \\theta = \\tan^{-1}\\left(\\frac{-\\frac{1}{4}}{\\frac{1}{4}}\\right) = \\tan^{-1}(-1) = -\\frac{\\pi}{4}\n   \\]\n\n5. **Viết dưới dạng lượng giác**: Cuối cùng, ta có thể viết số phức $z$ dưới dạng lượng giác:\n\n   \\[\n   z = |z| \\left( \\cos \\theta + i \\sin \\theta \\right) = \\frac{\\sqrt{2}}{4} \\left( \\cos\\left(-\\frac{\\pi}{4}\\right) + i \\sin\\left(-\\frac{\\pi}{4}\\right) \\right)\n   \\]\n\n   Hoặc có thể viết gọn lại:\n\n   \\[\n   z = \\frac{\\sqrt{2}}{4} \\text{cis}\\left(-\\frac{\\pi}{4}\\right)\n   \\]\n\n",
         "\n$z = \\frac{\\sqrt{2}}{4} \\text{cis}\\left(-\\frac{\\pi}{4}\\right)$\n",
         "Both Correct",
         "No explanation provided"
        ],
        [
         "42",
         "42",
         "42",
         "Viết số phức z = 100i dưới dạng lượng giác?",
         "Ta có: $|z| = \\sqrt{0^2 + 100^2} = 100$. Gọi $\\varphi$ là một acgumen của z thì $\\varphi$ thỏa mãn: $cos\\varphi = 0; sin\\varphi = 1 => \\varphi = \\frac{\\pi}{2}$. Do đó, dạng lượng giác của số phức z là: $z = 100(cos\\frac{\\pi}{2} + i.sin\\frac{\\pi}{2})$",
         "$z = 100(cos\\frac{\\pi}{2} + i.sin\\frac{\\pi}{2})$",
         "\nĐể viết số phức $z = 100i$ dưới dạng lượng giác, ta cần xác định mô-đun và góc của số phức này.\n\n1. **Mô-đun**: Mô-đun của số phức $z = a + bi$ được tính bằng công thức:\n   \\[\n   |z| = \\sqrt{a^2 + b^2}\n   \\]\n   Trong trường hợp này, $a = 0$ và $b = 100$. Do đó:\n   \\[\n   |z| = \\sqrt{0^2 + 100^2} = \\sqrt{10000} = 100\n   \\]\n\n2. **Góc**: Góc của số phức được tính bằng công thức:\n   \\[\n   \\theta = \\tan^{-1}\\left(\\frac{b}{a}\\right)\n   \\]\n   Ở đây, $a = 0$ và $b = 100$. Vì $a = 0$ và $b > 0$, số phức nằm trên trục ảo dương, do đó:\n   \\[\n   \\theta = \\frac{\\pi}{2}\n   \\]\n\n3. **Dạng lượng giác**: Số phức có thể được viết dưới dạng lượng giác như sau:\n   \\[\n   z = |z| \\left( \\cos \\theta + i \\sin \\theta \\right)\n   \\]\n   Thay các giá trị đã tìm được vào công thức:\n   \\[\n   z = 100 \\left( \\cos\\left(\\frac{\\pi}{2}\\right) + i \\sin\\left(\\frac{\\pi}{2}\\right) \\right)\n   \\]\n\nVậy số phức $z = 100i$ dưới dạng lượng giác là:\n\\[\nz = 100 \\left( 0 + i \\cdot 1 \\right) = 100 \\left( \\cos\\left(\\frac{\\pi}{2}\\right) + i \\sin\\left(\\frac{\\pi}{2}\\right) \\right)\n\\]\n",
         "\n$z = 100 \\left( \\cos\\left(\\frac{\\pi}{2}\\right) + i \\sin\\left(\\frac{\\pi}{2}\\right) \\right)$\n",
         "Both Correct",
         "No explanation provided"
        ],
        [
         "43",
         "43",
         "43",
         "Viết số phức sau dưới dạng lượng giác $z = (1 - i\\sqrt{3}).(1 + i)$",
         "Ta có: $1 - i\\sqrt{3} = 2.[cos(-\\frac{\\pi}{3}) + i sin(-\\frac{\\pi}{3})]$ và $1 + i = \\sqrt{2}[cos\\frac{\\pi}{4} + i.sin\\frac{\\pi}{4}]$. Áp dụng công thức nhân, chia số phức ta được: $z = (1 - i\\sqrt{3})(1 + i) = 2\\sqrt{2}[cos(-\\frac{\\pi}{12}) + i.sin(-\\frac{\\pi}{12})]$",
         "$2\\sqrt{2}[cos(-\\frac{\\pi}{12}) + i.sin(-\\frac{\\pi}{12})]$",
         "\nĐể viết số phức $z = (1 - i\\sqrt{3})(1 + i)$ dưới dạng lượng giác, ta thực hiện các bước sau:\n\n1. **Tính tích của hai số phức**:\n   \\[\n   z = (1 - i\\sqrt{3})(1 + i) = 1 \\cdot 1 + 1 \\cdot i - i\\sqrt{3} \\cdot 1 - i\\sqrt{3} \\cdot i\n   \\]\n   \\[\n   = 1 + i - i\\sqrt{3} + \\sqrt{3}\n   \\]\n   \\[\n   = (1 + \\sqrt{3}) + (1 - \\sqrt{3})i\n   \\]\n\n2. **Xác định phần thực và phần ảo**:\n   - Phần thực: $a = 1 + \\sqrt{3}$\n   - Phần ảo: $b = 1 - \\sqrt{3}$\n\n3. **Tính độ lớn của số phức**:\n   \\[\n   |z| = \\sqrt{a^2 + b^2} = \\sqrt{(1 + \\sqrt{3})^2 + (1 - \\sqrt{3})^2}\n   \\]\n   Tính từng phần:\n   \\[\n   (1 + \\sqrt{3})^2 = 1 + 2\\sqrt{3} + 3 = 4 + 2\\sqrt{3}\n   \\]\n   \\[\n   (1 - \\sqrt{3})^2 = 1 - 2\\sqrt{3} + 3 = 4 - 2\\sqrt{3}\n   \\]\n   Cộng lại:\n   \\[\n   |z| = \\sqrt{(4 + 2\\sqrt{3}) + (4 - 2\\sqrt{3})} = \\sqrt{8} = 2\\sqrt{2}\n   \\]\n\n4. **Tính góc của số phức**:\n   \\[\n   \\theta = \\tan^{-1}\\left(\\frac{b}{a}\\right) = \\tan^{-1}\\left(\\frac{1 - \\sqrt{3}}{1 + \\sqrt{3}}\\right)\n   \\]\n   Để tính $\\theta$, ta có thể sử dụng công thức:\n   \\[\n   \\tan(\\theta) = \\frac{1 - \\sqrt{3}}{1 + \\sqrt{3}} = \\frac{(1 - \\sqrt{3})(1 - \\sqrt{3})}{(1 + \\sqrt{3})(1 - \\sqrt{3})} = \\frac{(1 - 2\\sqrt{3} + 3)}{(1 - 3)} = \\frac{4 - 2\\sqrt{3}}{-2} = \\sqrt{3} - 2\n   \\]\n   Từ đó, ta có thể xác định góc $\\theta$.\n\n5. **Viết số phức dưới dạng lượng giác**:\n   Cuối cùng, số phức $z$ có thể được viết dưới dạng lượng giác như sau:\n   \\[\n   z = |z| \\left( \\cos(\\theta) + i \\sin(\\theta) \\right)\n   \\]\n   Thay vào:\n   \\[\n   z = 2\\sqrt{2} \\left( \\cos(\\theta) + i \\sin(\\theta) \\right)\n   \\]\n\nKết quả cuối cùng là:\n\\[\nz = 2\\sqrt{2} \\left( \\cos(\\theta) + i \\sin(\\theta) \\right)\n\\]\n",
         "\n$z = 2\\sqrt{2} \\left( \\cos(\\theta) + i \\sin(\\theta) \\right)$\n",
         "Both Correct",
         "No explanation provided"
        ],
        [
         "44",
         "44",
         "44",
         "Viết số phức sau dưới dạng lượng giác $z = \\frac{2 + 2i}{1 + \\sqrt{3}i}$",
         "Ta có: $2 + 2i = 2\\sqrt{2}[cos\\frac{\\pi}{4} + i.sin\\frac{\\pi}{4}]$ và $1 + \\sqrt{3}i = 2.[cos\\frac{\\pi}{3} + i.sin\\frac{\\pi}{3}]$. Do đó: $z = \\frac{2 + 2i}{1 + \\sqrt{3}i} = \\frac{2\\sqrt{2}[cos\\frac{\\pi}{4} + i.sin\\frac{\\pi}{4}]}{2.[cos\\frac{\\pi}{3} + i.sin\\frac{\\pi}{3}]} = \\sqrt{2}[cos(-\\frac{\\pi}{12}) + i.sin(-\\frac{\\pi}{12})]$",
         "$\\sqrt{2}[cos(-\\frac{\\pi}{12}) + i.sin(-\\frac{\\pi}{12})]$",
         "\nĐể viết số phức $z = \\frac{2 + 2i}{1 + \\sqrt{3}i}$ dưới dạng lượng giác, ta thực hiện các bước sau:\n\n1. **Nhân tử liên hợp**: Để loại bỏ phần ảo ở mẫu số, ta nhân cả tử và mẫu với liên hợp của mẫu số. Liên hợp của $1 + \\sqrt{3}i$ là $1 - \\sqrt{3}i$.\n\n   \\[\n   z = \\frac{(2 + 2i)(1 - \\sqrt{3}i)}{(1 + \\sqrt{3}i)(1 - \\sqrt{3}i)}\n   \\]\n\n2. **Tính mẫu số**: \n\n   \\[\n   (1 + \\sqrt{3}i)(1 - \\sqrt{3}i) = 1^2 - (\\sqrt{3}i)^2 = 1 - (-3) = 1 + 3 = 4\n   \\]\n\n3. **Tính tử số**:\n\n   \\[\n   (2 + 2i)(1 - \\sqrt{3}i) = 2 \\cdot 1 + 2 \\cdot (-\\sqrt{3}i) + 2i \\cdot 1 + 2i \\cdot (-\\sqrt{3}i\n   \\]\n   \\[\n   = 2 - 2\\sqrt{3}i + 2i - 2\\sqrt{3}(-1) = 2 + 2\\sqrt{3} + (2 - 2\\sqrt{3})i\n   \\]\n   \\[\n   = (2 + 2\\sqrt{3}) + (2 - 2\\sqrt{3})i\n   \\]\n\n4. **Kết hợp lại**:\n\n   \\[\n   z = \\frac{(2 + 2\\sqrt{3}) + (2 - 2\\sqrt{3})i}{4} = \\frac{2 + 2\\sqrt{3}}{4} + \\frac{(2 - 2\\sqrt{3})i}{4}\n   \\]\n   \\[\n   = \\frac{1 + \\sqrt{3}}{2} + \\frac{1 - \\sqrt{3}}{2}i\n   \\]\n\n5. **Chuyển sang dạng lượng giác**: Để chuyển sang dạng lượng giác, ta cần tính độ lớn và góc của số phức.\n\n   - **Độ lớn**:\n\n   \\[\n   |z| = \\sqrt{\\left(\\frac{1 + \\sqrt{3}}{2}\\right)^2 + \\left(\\frac{1 - \\sqrt{3}}{2}\\right)^2}\n   \\]\n   \\[\n   = \\sqrt{\\frac{(1 + \\sqrt{3})^2 + (1 - \\sqrt{3})^2}{4}} = \\sqrt{\\frac{1 + 2\\sqrt{3} + 3 + 1 - 2\\sqrt{3} + 3}{4}} = \\sqrt{\\frac{8}{4}} = \\sqrt{2}\n   \\]\n\n   - **Góc**:\n\n   \\[\n   \\theta = \\tan^{-1}\\left(\\frac{\\frac{1 - \\sqrt{3}}{2}}{\\frac{1 + \\sqrt{3}}{2}}\\right) = \\tan^{-1}\\left(\\frac{1 - \\sqrt{3}}{1 + \\sqrt{3}}\\right)\n   \\]\n\n   Để tính $\\theta$, ta có thể sử dụng công thức:\n\n   \\[\n   \\tan(\\theta) = \\frac{1 - \\sqrt{3}}{1 + \\sqrt{3}} = \\tan\\left(-\\frac{\\pi}{6}\\right)\n   \\]\n\n   Vậy $\\theta = -\\frac{\\pi}{6}$.\n\n6. **Viết dưới dạng lượng giác**:\n\n   Cuối cùng, số phức $z$ có thể được viết dưới dạng lượng giác như sau:\n\n   \\[\n   z = |z| \\left(\\cos(\\theta) + i\\sin(\\theta)\\right) = \\sqrt{2} \\left(\\cos\\left(-\\frac{\\pi}{6}\\right) + i\\sin\\left(-\\frac{\\pi}{6}\\right)\\right)\n   \\]\n\n   Hoặc:\n\n   \\[\n   z = \\sqrt{2} \\text{cis}\\left(-\\frac{\\pi}{6}\\right)\n   \\]\n\n",
         "\n$z = \\sqrt{2} \\text{cis}\\left(-\\frac{\\pi}{6}\\right)$\n",
         "Wrong Answer, Correct Explanation",
         "No explanation provided"
        ],
        [
         "45",
         "45",
         "45",
         "Viết số phức sau dưới dạng lượng giác $z = \\frac{3}{10\\sqrt{3} + 10i}$",
         "Ta có: $3 = 3.(cos0 + i.sin0)$ và $10\\sqrt{3} + 10i = 20.(cos\\frac{\\pi}{6} + i.sin\\frac{\\pi}{6})$. Do đó, $z = \\frac{3}{10\\sqrt{3} + 10i} = \\frac{3.(cos 0 + i.sin 0)}{20.(cos\\frac{\\pi}{6} + i.sin\\frac{\\pi}{6})} = \\frac{3}{20}(cos(-\\frac{\\pi}{6}) + i.sin(-\\frac{\\pi}{6}))$",
         "$\\frac{3}{20}(cos(-\\frac{\\pi}{6}) + i.sin(-\\frac{\\pi}{6}))$",
         "\nĐể viết số phức $z = \\frac{3}{10\\sqrt{3} + 10i}$ dưới dạng lượng giác, ta thực hiện các bước sau:\n\n1. **Nhân tử liên hợp**: Để loại bỏ phần ảo trong mẫu số, ta nhân cả tử và mẫu với liên hợp của mẫu số. Liên hợp của $10\\sqrt{3} + 10i$ là $10\\sqrt{3} - 10i$.\n\n   \\[\n   z = \\frac{3(10\\sqrt{3} - 10i)}{(10\\sqrt{3} + 10i)(10\\sqrt{3} - 10i)}\n   \\]\n\n2. **Tính mẫu số**: Sử dụng công thức $(a + b)(a - b) = a^2 - b^2$:\n\n   \\[\n   (10\\sqrt{3})^2 - (10i)^2 = 300 - (-100) = 300 + 100 = 400\n   \\]\n\n3. **Tính tử số**:\n\n   \\[\n   3(10\\sqrt{3} - 10i) = 30\\sqrt{3} - 30i\n   \\]\n\n4. **Viết lại số phức**:\n\n   \\[\n   z = \\frac{30\\sqrt{3} - 30i}{400} = \\frac{30\\sqrt{3}}{400} - \\frac{30i}{400} = \\frac{3\\sqrt{3}}{40} - \\frac{3i}{40}\n   \\]\n\n5. **Chuyển sang dạng lượng giác**: Để chuyển sang dạng lượng giác, ta cần tính mô-đun và góc của số phức.\n\n   - **Mô-đun**:\n\n   \\[\n   |z| = \\sqrt{\\left(\\frac{3\\sqrt{3}}{40}\\right)^2 + \\left(-\\frac{3}{40}\\right)^2} = \\sqrt{\\frac{27}{1600} + \\frac{9}{1600}} = \\sqrt{\\frac{36}{1600}} = \\frac{6}{40} = \\frac{3}{20}\n   \\]\n\n   - **Góc**:\n\n   \\[\n   \\theta = \\tan^{-1}\\left(\\frac{-\\frac{3}{40}}{\\frac{3\\sqrt{3}}{40}}\\right) = \\tan^{-1}\\left(-\\frac{1}{\\sqrt{3}}\\right) = -\\frac{\\pi}{6}\n   \\]\n\n6. **Viết dưới dạng lượng giác**:\n\n   \\[\n   z = |z| \\left(\\cos \\theta + i \\sin \\theta\\right) = \\frac{3}{20} \\left(\\cos\\left(-\\frac{\\pi}{6}\\right) + i \\sin\\left(-\\frac{\\pi}{6}\\right)\\right)\n   \\]\n\n   Sử dụng tính chất của cos và sin:\n\n   \\[\n   z = \\frac{3}{20} \\left(\\frac{\\sqrt{3}}{2} - i \\frac{1}{2}\\right)\n   \\]\n\n   Cuối cùng, ta có:\n\n   \\[\n   z = \\frac{3\\sqrt{3}}{40} - \\frac{3i}{40}\n   \\]\n\n",
         "\n$z = \\frac{3}{20} \\left(\\cos\\left(-\\frac{\\pi}{6}\\right) + i \\sin\\left(-\\frac{\\pi}{6}\\right)\\right)$\n",
         "Both Correct",
         "No explanation provided"
        ],
        [
         "46",
         "46",
         "46",
         "Viết số phức sau dưới dạng lượng giác $z = \\frac{1 - i}{(\\sqrt{3} + i)(2 + 2i)}$",
         "Ta có: $\\sqrt{3} + i = 2(cos\\frac{\\pi}{6} + i.sin\\frac{\\pi}{6})$ và $2 + 2i = 2\\sqrt{2}.(cos\\frac{\\pi}{4} + i.sin\\frac{\\pi}{4}) \\Rightarrow (\\sqrt{3} + 1)(2 + 2i) = 4\\sqrt{2}(cos\\frac{5\\pi}{12} + i.sin\\frac{5\\pi}{12})$. Lại có: $1 - i = \\sqrt{2}.(cos(-\\frac{\\pi}{4}) + i.sin(-\\frac{\\pi}{4}))$. Suy ra: $z = \\frac{1 - i}{(\\sqrt{3} + i)(2 + 2i)} = \\frac{\\sqrt{2}}{4\\sqrt{2}}[cos(-\\frac{5\\pi}{12}) + i.sin(-\\frac{5\\pi}{12})] = \\frac{1}{4}[cos(-\\frac{2\\pi}{3}) + i.sin(-\\frac{2\\pi}{3})]$",
         "$\\frac{1}{4}[cos(-\\frac{2\\pi}{3}) + i.sin(-\\frac{2\\pi}{3})]$",
         "\nĐể viết số phức $z = \\frac{1 - i}{(\\sqrt{3} + i)(2 + 2i)}$ dưới dạng lượng giác, ta thực hiện các bước sau:\n\n**Bước 1: Tính mẫu số**\n\nTính tích của hai số phức trong mẫu số:\n\n\\[\n(\\sqrt{3} + i)(2 + 2i) = \\sqrt{3} \\cdot 2 + \\sqrt{3} \\cdot 2i + i \\cdot 2 + i \\cdot 2i\n\\]\n\nTính từng phần:\n\n- Phần thực: $2\\sqrt{3} - 2$ (vì $i^2 = -1$)\n- Phần ảo: $2\\sqrt{3} + 2$\n\nVậy:\n\n\\[\n(\\sqrt{3} + i)(2 + 2i) = (2\\sqrt{3} - 2) + (2\\sqrt{3} + 2)i\n\\]\n\n**Bước 2: Tính tử số**\n\nTử số là $1 - i$.\n\n**Bước 3: Chia số phức**\n\nTa có:\n\n\\[\nz = \\frac{1 - i}{(2\\sqrt{3} - 2) + (2\\sqrt{3} + 2)i}\n\\]\n\nĐể chia số phức, ta nhân cả tử và mẫu với phần liên hợp của mẫu số:\n\n\\[\nz = \\frac{(1 - i)((2\\sqrt{3} - 2) - (2\\sqrt{3} + 2)i)}{((2\\sqrt{3} - 2) + (2\\sqrt{3} + 2)i)((2\\sqrt{3} - 2) - (2\\sqrt{3} + 2)i)}\n\\]\n\n**Bước 4: Tính mẫu số sau khi nhân với liên hợp**\n\nMẫu số trở thành:\n\n\\[\n(2\\sqrt{3} - 2)^2 + (2\\sqrt{3} + 2)^2\n\\]\n\nTính từng phần:\n\n\\[\n(2\\sqrt{3} - 2)^2 = 4(3) - 8\\sqrt{3} + 4 = 12 - 8\\sqrt{3} + 4 = 16 - 8\\sqrt{3}\n\\]\n\n\\[\n(2\\sqrt{3} + 2)^2 = 4(3) + 8\\sqrt{3} + 4 = 12 + 8\\sqrt{3} + 4 = 16 + 8\\sqrt{3}\n\\]\n\nVậy:\n\n\\[\n(2\\sqrt{3} - 2)^2 + (2\\sqrt{3} + 2)^2 = (16 - 8\\sqrt{3}) + (16 + 8\\sqrt{3}) = 32\n\\]\n\n**Bước 5: Tính tử số**\n\nTử số là:\n\n\\[\n(1 - i)((2\\sqrt{3} - 2) - (2\\sqrt{3} + 2)i) = (1 \\cdot (2\\sqrt{3} - 2) - i(2\\sqrt{3} - 2) - i(2\\sqrt{3} + 2) + i^2(2\\sqrt{3} + 2))\n\\]\n\nTính từng phần:\n\n\\[\n= (2\\sqrt{3} - 2) - (2\\sqrt{3} - 2)i - (2\\sqrt{3} + 2)i - (2\\sqrt{3} + 2)\n\\]\n\n\\[\n= (2\\sqrt{3} - 2 - (2\\sqrt{3} + 2)) + (-(2\\sqrt{3} - 2) - (2\\sqrt{3} + 2))i\n\\]\n\n\\[\n= (2\\sqrt{3} - 2 - 2\\sqrt{3} - 2) + (-(2\\sqrt{3} - 2 + 2\\sqrt{3} + 2))i\n\\]\n\n\\[\n= -4 + (-4\\sqrt{3})i\n\\]\n\n**Bước 6: Kết quả cuối cùng**\n\nVậy:\n\n\\[\nz = \\frac{-4 - 4\\sqrt{3}i}{32} = -\\frac{1}{8} - \\frac{\\sqrt{3}}{8}i\n\\]\n\n**Bước 7: Chuyển sang dạng lượng giác**\n\nĐể chuyển sang dạng lượng giác, ta tính độ lớn và góc:\n\n- Độ lớn:\n\n\\[\n|z| = \\sqrt{\\left(-\\frac{1}{8}\\right)^2 + \\left(-\\frac{\\sqrt{3}}{8}\\right)^2} = \\sqrt{\\frac{1}{64} + \\frac{3}{64}} = \\sqrt{\\frac{4}{64}} = \\frac{1}{4}\n\\]\n\n- Góc:\n\n\\[\n\\theta = \\tan^{-1}\\left(\\frac{-\\frac{\\sqrt{3}}{8}}{-\\frac{1}{8}}\\right) = \\tan^{-1}(\\sqrt{3}) = \\frac{5\\pi}{3} \\text{ (vì z nằm trong phần tư 3)}\n\\]\n\nVậy số phức $z$ dưới dạng lượng giác là:\n\n\\[\nz = \\frac{1}{4} \\left( \\cos\\left(\\frac{5\\pi}{3}\\right) + i \\sin\\left(\\frac{5\\pi}{3}\\right) \\right)\n\\]\n\n",
         "\n$z = \\frac{1}{4} \\left( \\cos\\left(\\frac{5\\pi}{3}\\right) + i \\sin\\left(\\frac{5\\pi}{3}\\right) \\right)$\n",
         "Both Correct",
         "No explanation provided"
        ],
        [
         "47",
         "47",
         "47",
         "Viết số phức sau dưới dạng lượng giác: $z = (\\sqrt{2} + \\sqrt{2}i)^{10}$",
         "Ta có: $\\sqrt{2} + \\sqrt{2}i = 2.(cos\\frac{\\pi}{4} + i.sin\\frac{\\pi}{4})$. Do đó, $z = (\\sqrt{2} + \\sqrt{2}i)^{10} = [2.(cos\\frac{\\pi}{4} + i.sin\\frac{\\pi}{4})]^{10} = 2^{10}.(cos\\frac{10\\pi}{4} + i.sin\\frac{10\\pi}{4}) = 2^{10}.(cos\\frac{5\\pi}{2} + i.sin\\frac{5\\pi}{2})$",
         "$2^{10}.(cos\\frac{5\\pi}{2} + i.sin\\frac{5\\pi}{2})$",
         "\nĐể viết số phức $z = (\\sqrt{2} + \\sqrt{2}i)^{10}$ dưới dạng lượng giác, ta thực hiện các bước sau:\n\n1. **Tìm mô-đun và góc của số phức**:\n   - Mô-đun của số phức $z_0 = \\sqrt{2} + \\sqrt{2}i$ được tính bằng công thức:\n     \\[\n     r = |z_0| = \\sqrt{(\\sqrt{2})^2 + (\\sqrt{2})^2} = \\sqrt{2 + 2} = \\sqrt{4} = 2\n     \\]\n   - Góc (argument) của số phức $z_0$ được tính bằng:\n     \\[\n     \\theta = \\tan^{-1}\\left(\\frac{\\text{Im}(z_0)}{\\text{Re}(z_0)}\\right) = \\tan^{-1}\\left(\\frac{\\sqrt{2}}{\\sqrt{2}}\\right) = \\tan^{-1}(1) = \\frac{\\pi}{4}\n     \\]\n\n2. **Viết số phức dưới dạng lượng giác**:\n   - Số phức $z_0$ có thể được viết dưới dạng lượng giác như sau:\n     \\[\n     z_0 = r(\\cos \\theta + i \\sin \\theta) = 2\\left(\\cos\\frac{\\pi}{4} + i \\sin\\frac{\\pi}{4}\\right)\n     \\]\n\n3. **Tính lũy thừa của số phức**:\n   - Theo định lý De Moivre, ta có:\n     \\[\n     z = z_0^{10} = r^{10}\\left(\\cos(10\\theta) + i \\sin(10\\theta)\\right)\n     \\]\n   - Tính $r^{10}$:\n     \\[\n     r^{10} = 2^{10} = 1024\n     \\]\n   - Tính $10\\theta$:\n     \\[\n     10\\theta = 10 \\cdot \\frac{\\pi}{4} = \\frac{10\\pi}{4} = \\frac{5\\pi}{2}\n     \\]\n\n4. **Tính cos và sin của góc**:\n   - Ta có:\n     \\[\n     \\cos\\left(\\frac{5\\pi}{2}\\right) = \\cos\\left(\\frac{\\pi}{2}\\right) = 0\n     \\]\n     \\[\n     \\sin\\left(\\frac{5\\pi}{2}\\right) = \\sin\\left(\\frac{\\pi}{2}\\right) = 1\n     \\]\n\n5. **Kết hợp lại để có kết quả cuối cùng**:\n   - Vậy số phức $z$ được viết dưới dạng lượng giác là:\n     \\[\n     z = 1024\\left(\\cos\\left(\\frac{5\\pi}{2}\\right) + i \\sin\\left(\\frac{5\\pi}{2}\\right)\\right) = 1024(0 + i \\cdot 1) = 1024i\n     \\]\n\n",
         "\n$z = 1024i$\n",
         "Both Correct",
         "No explanation provided"
        ],
        [
         "48",
         "48",
         "48",
         "Viết số phức sau dưới dạng lượng giác $z = \\frac{(1 - i)^{10}}{(\\sqrt{3} + i)^9}$",
         "Ta có: $1 - i = \\sqrt{2}[cos(-\\frac{\\pi}{4}) + i.sin(-\\frac{\\pi}{4})] \\Rightarrow (1 - i)^{10} = (\\sqrt{2})^{10}.[cos(-10.\\frac{\\pi}{4}) + i.sin(-10.\\frac{\\pi}{4})] = 2^5[cos(-\\frac{5\\pi}{2}) + i.sin(-\\frac{5\\pi}{2})]$. Lại có: $\\sqrt{3} + i = 2(cos\\frac{\\pi}{6} + i.sin\\frac{\\pi}{6}) \\Rightarrow (\\sqrt{3} + i)^9 = 2^9.(cos9.\\frac{\\pi}{6} + i.sin9.\\frac{\\pi}{6}) = 2^9.(cos\\frac{3\\pi}{2} + i.sin\\frac{3\\pi}{2})$. Do đó, $z = \\frac{(1 - i)^{10}}{(\\sqrt{3} + i)^9} = \\frac{2^5[cos(-\\frac{5\\pi}{2}) + i.sin(-\\frac{5\\pi}{2})]}{2^9.(cos\\frac{3\\pi}{2} + i.sin\\frac{3\\pi}{2})} = \\frac{1}{2^4}(cos(-4\\pi) + i.sin(-4\\pi))$",
         "$\\frac{1}{2^4}(cos(-4\\pi) + i.sin(-4\\pi))$",
         "\nĐể viết số phức $z = \\frac{(1 - i)^{10}}{(\\sqrt{3} + i)^9}$ dưới dạng lượng giác, ta sẽ thực hiện các bước sau:\n\n**Bước 1: Chuyển đổi từng số phức sang dạng lượng giác.**\n\n1. **Số phức $1 - i$:**\n   - Độ lớn: \n   \\[\n   r_1 = |1 - i| = \\sqrt{1^2 + (-1)^2} = \\sqrt{2}\n   \\]\n   - Góc: \n   \\[\n   \\theta_1 = \\tan^{-1}\\left(\\frac{-1}{1}\\right) = -\\frac{\\pi}{4}\n   \\]\n   - Dạng lượng giác:\n   \\[\n   1 - i = \\sqrt{2} \\left(\\cos\\left(-\\frac{\\pi}{4}\\right) + i \\sin\\left(-\\frac{\\pi}{4}\\right)\\right)\n   \\]\n\n2. **Số phức $\\sqrt{3} + i$:**\n   - Độ lớn: \n   \\[\n   r_2 = |\\sqrt{3} + i| = \\sqrt{(\\sqrt{3})^2 + 1^2} = \\sqrt{4} = 2\n   \\]\n   - Góc: \n   \\[\n   \\theta_2 = \\tan^{-1}\\left(\\frac{1}{\\sqrt{3}}\\right) = \\frac{\\pi}{6}\n   \\]\n   - Dạng lượng giác:\n   \\[\n   \\sqrt{3} + i = 2 \\left(\\cos\\left(\\frac{\\pi}{6}\\right) + i \\sin\\left(\\frac{\\pi}{6}\\right)\\right)\n   \\]\n\n**Bước 2: Tính lũy thừa của các số phức.**\n\n1. **Tính $(1 - i)^{10}$:**\n   \\[\n   (1 - i)^{10} = \\left(\\sqrt{2}\\right)^{10} \\left(\\cos\\left(10 \\cdot -\\frac{\\pi}{4}\\right) + i \\sin\\left(10 \\cdot -\\frac{\\pi}{4}\\right)\\right) = 2^5 \\left(\\cos\\left(-\\frac{10\\pi}{4}\\right) + i \\sin\\left(-\\frac{10\\pi}{4}\\right)\\right)\n   \\]\n   \\[\n   = 32 \\left(\\cos\\left(-\\frac{5\\pi}{2}\\right) + i \\sin\\left(-\\frac{5\\pi}{2}\\right)\\right) = 32 \\left(\\cos\\left(-\\frac{\\pi}{2}\\right) + i \\sin\\left(-\\frac{\\pi}{2}\\right)\\right) = 32(0 - i) = -32i\n   \\]\n\n2. **Tính $(\\sqrt{3} + i)^9$:**\n   \\[\n   (\\sqrt{3} + i)^9 = 2^9 \\left(\\cos\\left(9 \\cdot \\frac{\\pi}{6}\\right) + i \\sin\\left(9 \\cdot \\frac{\\pi}{6}\\right)\\right) = 512 \\left(\\cos\\left(\\frac{3\\pi}{2}\\right) + i \\sin\\left(\\frac{3\\pi}{2}\\right)\\right)\n   \\]\n   \\[\n   = 512(0 - i) = -512i\n   \\]\n\n**Bước 3: Tính $z$.**\n\n\\[\nz = \\frac{(1 - i)^{10}}{(\\sqrt{3} + i)^9} = \\frac{-32i}{-512i} = \\frac{32}{512} = \\frac{1}{16}\n\\]\n\n**Bước 4: Viết kết quả dưới dạng lượng giác.**\n\nSố phức $z$ có thể được viết dưới dạng lượng giác như sau:\n\\[\nz = \\frac{1}{16} \\left(\\cos(0) + i \\sin(0)\\right)\n\\]\n\n",
         "\n$z = \\frac{1}{16} \\left(\\cos(0) + i \\sin(0)\\right)$\n",
         "Both Correct",
         "No explanation provided"
        ],
        [
         "49",
         "49",
         "49",
         "Cho số phức $(\\cos \\frac{\\pi}{3} - i.sin\\frac{\\pi}{3})^5(1 + \\sqrt{3}i)^7$. Tìm phần ảo của số phức.",
         "Ta có: $1 + \\sqrt{3}i = 2.(cos\\frac{\\pi}{3} + i.sin\\frac{\\pi}{3})$ và $i^4 = 1$ nên ta có: $(\\cos \\frac{\\pi}{3} - i.sin\\frac{\\pi}{3})^5(1 + \\sqrt{3}i)^7 = (\\cos \\frac{\\pi}{3} - i.sin\\frac{\\pi}{3})^5.i.[2(cos\\frac{\\pi}{3} + i.sin\\frac{\\pi}{3})]^7 = 2^7(cos(-\\frac{\\pi}{3}) + i.sin(-\\frac{\\pi}{3})).[(\\cos \\frac{7\\pi}{3} + i.sin\\frac{7\\pi}{3})] = 2^7[cos2\\pi + i.sin2\\pi] i = 2^7 i$. Vậy phần ảo bằng $2^7 = 128$.",
         "128",
         "\nĐể tìm phần ảo của số phức $z = \\left(\\cos \\frac{\\pi}{3} - i \\sin \\frac{\\pi}{3}\\right)^5 (1 + \\sqrt{3}i)^7$, ta sẽ thực hiện các bước sau:\n\n1. **Biểu diễn số phức dưới dạng số phức Euler**:\n   - Số phức $\\cos \\frac{\\pi}{3} - i \\sin \\frac{\\pi}{3}$ có thể viết lại dưới dạng số phức Euler:\n     \\[\n     \\cos \\frac{\\pi}{3} - i \\sin \\frac{\\pi}{3} = e^{-i \\frac{\\pi}{3}}\n     \\]\n   - Do đó, ta có:\n     \\[\n     \\left(\\cos \\frac{\\pi}{3} - i \\sin \\frac{\\pi}{3}\\right)^5 = \\left(e^{-i \\frac{\\pi}{3}}\\right)^5 = e^{-i \\frac{5\\pi}{3}}\n     \\]\n\n2. **Tính số phức $1 + \\sqrt{3}i$**:\n   - Để biểu diễn số phức này dưới dạng số phức Euler, ta tính mô-đun và góc:\n     \\[\n     |1 + \\sqrt{3}i| = \\sqrt{1^2 + (\\sqrt{3})^2} = \\sqrt{1 + 3} = 2\n     \\]\n     \\[\n     \\theta = \\tan^{-1}\\left(\\frac{\\sqrt{3}}{1}\\right) = \\frac{\\pi}{3}\n     \\]\n   - Vậy:\n     \\[\n     1 + \\sqrt{3}i = 2 \\left(\\cos \\frac{\\pi}{3} + i \\sin \\frac{\\pi}{3}\\right) = 2 e^{i \\frac{\\pi}{3}}\n     \\]\n   - Do đó:\n     \\[\n     (1 + \\sqrt{3}i)^7 = (2 e^{i \\frac{\\pi}{3}})^7 = 2^7 e^{i \\frac{7\\pi}{3}} = 128 e^{i \\frac{7\\pi}{3}}\n     \\]\n\n3. **Kết hợp các phần lại**:\n   - Ta có:\n     \\[\n     z = e^{-i \\frac{5\\pi}{3}} \\cdot 128 e^{i \\frac{7\\pi}{3}} = 128 e^{i \\left(-\\frac{5\\pi}{3} + \\frac{7\\pi}{3}\\right)} = 128 e^{i \\frac{2\\pi}{3}}\n     \\]\n\n4. **Tính phần ảo của số phức**:\n   - Phần ảo của số phức $z$ được tính bằng:\n     \\[\n     \\text{Im}(z) = 128 \\sin\\left(\\frac{2\\pi}{3}\\right)\n     \\]\n   - Ta biết rằng:\n     \\[\n     \\sin\\left(\\frac{2\\pi}{3}\\right) = \\sin\\left(\\pi - \\frac{\\pi}{3}\\right) = \\sin\\left(\\frac{\\pi}{3}\\right) = \\frac{\\sqrt{3}}{2}\n     \\]\n   - Vậy:\n     \\[\n     \\text{Im}(z) = 128 \\cdot \\frac{\\sqrt{3}}{2} = 64\\sqrt{3}\n     \\]\n\nCuối cùng, phần ảo của số phức là $64\\sqrt{3}$.\n",
         "\n$64\\sqrt{3}$\n",
         "Wrong Answer, Correct Explanation",
         "The AI answer $64\\sqrt{3}$ is incorrect as it doesn't equal 128, but the reasoning to obtain this value might be valid depending on the problem."
        ]
       ],
       "shape": {
        "columns": 9,
        "rows": 162
       }
      },
      "text/html": [
       "<div>\n",
       "<style scoped>\n",
       "    .dataframe tbody tr th:only-of-type {\n",
       "        vertical-align: middle;\n",
       "    }\n",
       "\n",
       "    .dataframe tbody tr th {\n",
       "        vertical-align: top;\n",
       "    }\n",
       "\n",
       "    .dataframe thead th {\n",
       "        text-align: right;\n",
       "    }\n",
       "</style>\n",
       "<table border=\"1\" class=\"dataframe\">\n",
       "  <thead>\n",
       "    <tr style=\"text-align: right;\">\n",
       "      <th></th>\n",
       "      <th>Unnamed: 0.1</th>\n",
       "      <th>Unnamed: 0</th>\n",
       "      <th>Question</th>\n",
       "      <th>Solution</th>\n",
       "      <th>Answer</th>\n",
       "      <th>AI Solution</th>\n",
       "      <th>AI Answer</th>\n",
       "      <th>Category</th>\n",
       "      <th>Explanation</th>\n",
       "    </tr>\n",
       "  </thead>\n",
       "  <tbody>\n",
       "    <tr>\n",
       "      <th>0</th>\n",
       "      <td>0</td>\n",
       "      <td>0</td>\n",
       "      <td>Cho hai số phức $z_1 = 1 + 10i$ và $z_2 = 9 – ...</td>\n",
       "      <td>Ta có: $z = z_1 + z_2 = (1 + 10i) + ( 9 – 2i) ...</td>\n",
       "      <td>10</td>\n",
       "      <td>\\nĐể giải bài toán, ta thực hiện các bước sau:...</td>\n",
       "      <td>\\nPhần thực của số phức $z$ là $10$.\\n</td>\n",
       "      <td>Both Correct</td>\n",
       "      <td>No explanation provided</td>\n",
       "    </tr>\n",
       "    <tr>\n",
       "      <th>1</th>\n",
       "      <td>1</td>\n",
       "      <td>1</td>\n",
       "      <td>Hãy tính số phức z. Biết rằng: $z = 10i – ( 2 ...</td>\n",
       "      <td>Ta có: $z = 10i - (2 + 2i).i = 10i – 2i + 2 = ...</td>\n",
       "      <td>2 + 8i</td>\n",
       "      <td>\\nĐể tính số phức $z$, ta sẽ thực hiện các bướ...</td>\n",
       "      <td>\\n$z = 2 + 8i$\\n</td>\n",
       "      <td>Both Correct</td>\n",
       "      <td>No explanation provided</td>\n",
       "    </tr>\n",
       "    <tr>\n",
       "      <th>2</th>\n",
       "      <td>2</td>\n",
       "      <td>2</td>\n",
       "      <td>Cho hai số phức $z = -2 + 3yi$; $z’ = ( x + 1)...</td>\n",
       "      <td>Để $z + i = z’ + 2$ =&gt; - 2 + 3yi + i = ( x + 1...</td>\n",
       "      <td>x = -5, y = -5/3</td>\n",
       "      <td>\\nĐể giải bài toán, ta bắt đầu từ phương trình...</td>\n",
       "      <td>\\n$x = -5, \\quad y = -\\frac{5}{3}$\\n</td>\n",
       "      <td>Both Correct</td>\n",
       "      <td>No explanation provided</td>\n",
       "    </tr>\n",
       "    <tr>\n",
       "      <th>3</th>\n",
       "      <td>3</td>\n",
       "      <td>3</td>\n",
       "      <td>Số nào trong các số phức sau là số thuần ảo? A...</td>\n",
       "      <td>Ta xét các phương án:A.(√2 + i) - (1 + √2i)= (...</td>\n",
       "      <td>B. ( 8 + 2i) + (- 8 + 2i)</td>\n",
       "      <td>\\nĐể xác định số nào trong các số phức đã cho ...</td>\n",
       "      <td>\\nSố thuần ảo là: B. $(8 + 2i) + (-8 + 2i) = 4...</td>\n",
       "      <td>Correct Answer, Wrong Explanation</td>\n",
       "      <td>No explanation provided</td>\n",
       "    </tr>\n",
       "    <tr>\n",
       "      <th>4</th>\n",
       "      <td>4</td>\n",
       "      <td>4</td>\n",
       "      <td>Tính giá trị của P = i^{105} + i^{23} + i^{20}...</td>\n",
       "      <td>Ta có: $i^2 = -1 \\Rightarrow i^4 = 1$. Do đó, ...</td>\n",
       "      <td>2</td>\n",
       "      <td>\\nĐể tính giá trị của biểu thức $P = i^{105} +...</td>\n",
       "      <td>\\nP = 2\\n</td>\n",
       "      <td>Both Correct</td>\n",
       "      <td>No explanation provided</td>\n",
       "    </tr>\n",
       "    <tr>\n",
       "      <th>...</th>\n",
       "      <td>...</td>\n",
       "      <td>...</td>\n",
       "      <td>...</td>\n",
       "      <td>...</td>\n",
       "      <td>...</td>\n",
       "      <td>...</td>\n",
       "      <td>...</td>\n",
       "      <td>...</td>\n",
       "      <td>...</td>\n",
       "    </tr>\n",
       "    <tr>\n",
       "      <th>157</th>\n",
       "      <td>157</td>\n",
       "      <td>157</td>\n",
       "      <td>Gọi (H) là hình phẳng giới hạn bởi các đường y...</td>\n",
       "      <td>Phương trình hoành độ giao điểm:\\n$2x-x^2 = 0 ...</td>\n",
       "      <td>16/15pi</td>\n",
       "      <td>\\nĐể tính thể tích của khối tròn xoay được tạo...</td>\n",
       "      <td>\\n$V = \\frac{16\\pi}{15}$\\n</td>\n",
       "      <td>Both Correct</td>\n",
       "      <td>No explanation provided</td>\n",
       "    </tr>\n",
       "    <tr>\n",
       "      <th>158</th>\n",
       "      <td>158</td>\n",
       "      <td>158</td>\n",
       "      <td>Tính thể tích khối tròn xoay được giới hạn bởi...</td>\n",
       "      <td>Thể tích khối tròn xoay được giới hạn bởi các ...</td>\n",
       "      <td>46/15pi</td>\n",
       "      <td>\\nĐể tính thể tích khối tròn xoay được giới hạ...</td>\n",
       "      <td>\\n$V = \\frac{46\\pi}{15}$\\n</td>\n",
       "      <td>Both Correct</td>\n",
       "      <td>No explanation provided</td>\n",
       "    </tr>\n",
       "    <tr>\n",
       "      <th>159</th>\n",
       "      <td>159</td>\n",
       "      <td>159</td>\n",
       "      <td>Cho hình phẳng giới hạn bởi các đường y=\\sqrt{...</td>\n",
       "      <td>Giải phương trình $\\sqrt{x} = x \\Leftrightarro...</td>\n",
       "      <td>pi/6</td>\n",
       "      <td>\\nĐể tính thể tích khối tròn xoay tạo ra khi h...</td>\n",
       "      <td>\\n$V = \\frac{\\pi}{6}$\\n</td>\n",
       "      <td>Both Correct</td>\n",
       "      <td>No explanation provided</td>\n",
       "    </tr>\n",
       "    <tr>\n",
       "      <th>160</th>\n",
       "      <td>160</td>\n",
       "      <td>160</td>\n",
       "      <td>Gọi (H) là hình phẳng giới hạn bởi các đường y...</td>\n",
       "      <td>Thể tích khối tròn xoay được giới hạn bởi các ...</td>\n",
       "      <td>pi - pi^2/4</td>\n",
       "      <td>\\nĐể tính thể tích của khối tròn xoay được tạo...</td>\n",
       "      <td>\\n$V = \\pi - \\frac{\\pi^2}{4}$\\n</td>\n",
       "      <td>Both Correct</td>\n",
       "      <td>No explanation provided</td>\n",
       "    </tr>\n",
       "    <tr>\n",
       "      <th>161</th>\n",
       "      <td>161</td>\n",
       "      <td>161</td>\n",
       "      <td>Tính thể tích khối tròn xoay giới hạn bởi y=ln...</td>\n",
       "      <td>Phương trình hoành độ giao điểm: $lnx=0 \\Leftr...</td>\n",
       "      <td>pi(e-2)</td>\n",
       "      <td>\\nĐể tính thể tích khối tròn xoay giới hạn bởi...</td>\n",
       "      <td>\\n$V = \\pi (e - 2)$\\n</td>\n",
       "      <td>Both Correct</td>\n",
       "      <td>No explanation provided</td>\n",
       "    </tr>\n",
       "  </tbody>\n",
       "</table>\n",
       "<p>162 rows × 9 columns</p>\n",
       "</div>"
      ],
      "text/plain": [
       "     Unnamed: 0.1  Unnamed: 0  \\\n",
       "0               0           0   \n",
       "1               1           1   \n",
       "2               2           2   \n",
       "3               3           3   \n",
       "4               4           4   \n",
       "..            ...         ...   \n",
       "157           157         157   \n",
       "158           158         158   \n",
       "159           159         159   \n",
       "160           160         160   \n",
       "161           161         161   \n",
       "\n",
       "                                              Question  \\\n",
       "0    Cho hai số phức $z_1 = 1 + 10i$ và $z_2 = 9 – ...   \n",
       "1    Hãy tính số phức z. Biết rằng: $z = 10i – ( 2 ...   \n",
       "2    Cho hai số phức $z = -2 + 3yi$; $z’ = ( x + 1)...   \n",
       "3    Số nào trong các số phức sau là số thuần ảo? A...   \n",
       "4    Tính giá trị của P = i^{105} + i^{23} + i^{20}...   \n",
       "..                                                 ...   \n",
       "157  Gọi (H) là hình phẳng giới hạn bởi các đường y...   \n",
       "158  Tính thể tích khối tròn xoay được giới hạn bởi...   \n",
       "159  Cho hình phẳng giới hạn bởi các đường y=\\sqrt{...   \n",
       "160  Gọi (H) là hình phẳng giới hạn bởi các đường y...   \n",
       "161  Tính thể tích khối tròn xoay giới hạn bởi y=ln...   \n",
       "\n",
       "                                              Solution  \\\n",
       "0    Ta có: $z = z_1 + z_2 = (1 + 10i) + ( 9 – 2i) ...   \n",
       "1    Ta có: $z = 10i - (2 + 2i).i = 10i – 2i + 2 = ...   \n",
       "2    Để $z + i = z’ + 2$ => - 2 + 3yi + i = ( x + 1...   \n",
       "3    Ta xét các phương án:A.(√2 + i) - (1 + √2i)= (...   \n",
       "4    Ta có: $i^2 = -1 \\Rightarrow i^4 = 1$. Do đó, ...   \n",
       "..                                                 ...   \n",
       "157  Phương trình hoành độ giao điểm:\\n$2x-x^2 = 0 ...   \n",
       "158  Thể tích khối tròn xoay được giới hạn bởi các ...   \n",
       "159  Giải phương trình $\\sqrt{x} = x \\Leftrightarro...   \n",
       "160  Thể tích khối tròn xoay được giới hạn bởi các ...   \n",
       "161  Phương trình hoành độ giao điểm: $lnx=0 \\Leftr...   \n",
       "\n",
       "                        Answer  \\\n",
       "0                           10   \n",
       "1                       2 + 8i   \n",
       "2             x = -5, y = -5/3   \n",
       "3    B. ( 8 + 2i) + (- 8 + 2i)   \n",
       "4                            2   \n",
       "..                         ...   \n",
       "157                    16/15pi   \n",
       "158                    46/15pi   \n",
       "159                       pi/6   \n",
       "160                pi - pi^2/4   \n",
       "161                    pi(e-2)   \n",
       "\n",
       "                                           AI Solution  \\\n",
       "0    \\nĐể giải bài toán, ta thực hiện các bước sau:...   \n",
       "1    \\nĐể tính số phức $z$, ta sẽ thực hiện các bướ...   \n",
       "2    \\nĐể giải bài toán, ta bắt đầu từ phương trình...   \n",
       "3    \\nĐể xác định số nào trong các số phức đã cho ...   \n",
       "4    \\nĐể tính giá trị của biểu thức $P = i^{105} +...   \n",
       "..                                                 ...   \n",
       "157  \\nĐể tính thể tích của khối tròn xoay được tạo...   \n",
       "158  \\nĐể tính thể tích khối tròn xoay được giới hạ...   \n",
       "159  \\nĐể tính thể tích khối tròn xoay tạo ra khi h...   \n",
       "160  \\nĐể tính thể tích của khối tròn xoay được tạo...   \n",
       "161  \\nĐể tính thể tích khối tròn xoay giới hạn bởi...   \n",
       "\n",
       "                                             AI Answer  \\\n",
       "0               \\nPhần thực của số phức $z$ là $10$.\\n   \n",
       "1                                     \\n$z = 2 + 8i$\\n   \n",
       "2                 \\n$x = -5, \\quad y = -\\frac{5}{3}$\\n   \n",
       "3    \\nSố thuần ảo là: B. $(8 + 2i) + (-8 + 2i) = 4...   \n",
       "4                                            \\nP = 2\\n   \n",
       "..                                                 ...   \n",
       "157                         \\n$V = \\frac{16\\pi}{15}$\\n   \n",
       "158                         \\n$V = \\frac{46\\pi}{15}$\\n   \n",
       "159                            \\n$V = \\frac{\\pi}{6}$\\n   \n",
       "160                    \\n$V = \\pi - \\frac{\\pi^2}{4}$\\n   \n",
       "161                              \\n$V = \\pi (e - 2)$\\n   \n",
       "\n",
       "                              Category              Explanation  \n",
       "0                         Both Correct  No explanation provided  \n",
       "1                         Both Correct  No explanation provided  \n",
       "2                         Both Correct  No explanation provided  \n",
       "3    Correct Answer, Wrong Explanation  No explanation provided  \n",
       "4                         Both Correct  No explanation provided  \n",
       "..                                 ...                      ...  \n",
       "157                       Both Correct  No explanation provided  \n",
       "158                       Both Correct  No explanation provided  \n",
       "159                       Both Correct  No explanation provided  \n",
       "160                       Both Correct  No explanation provided  \n",
       "161                       Both Correct  No explanation provided  \n",
       "\n",
       "[162 rows x 9 columns]"
      ]
     },
     "metadata": {},
     "output_type": "display_data"
    }
   ],
   "source": [
    "import time\n",
    "import re\n",
    "import pandas as pd\n",
    "from tqdm import tqdm\n",
    "\n",
    "# Function to classify AI answer correctness\n",
    "def check_answer(correct_answer, ai_answer):\n",
    "    prompt = (f'''Compare the correct answer '{correct_answer}' with the AI-generated answer '{ai_answer}'. \n",
    "              Categorize the result into one of the following:\n",
    "              1. 'Both Correct' - AI answer is meaningfully correct.\n",
    "              2. 'Both Incorrect' - AI uses incorrect reasoning, both are incorrect.\n",
    "              3. 'Correct Answer, Wrong Explanation' - The answer is correct, but the reasoning is flawed.\n",
    "              4. 'Wrong Answer, Correct Explanation' - The answer is wrong, but the reasoning is valid.\n",
    "              5. 'AI Not Generated' - AI did not produce an answer.\n",
    "              \n",
    "              Be lenient in formatting and minor differences as long as the meaning aligns. \n",
    "              Return only the category and a brief explanation.\n",
    "              ''')\n",
    "\n",
    "    global last_api_call_time\n",
    "\n",
    "    # Enforce rate limit (one request every 4 seconds)\n",
    "    elapsed_time = time.time() - last_api_call_time\n",
    "    if elapsed_time < 4:\n",
    "        time.sleep(4 - elapsed_time)\n",
    "\n",
    "    response = model.generate(prompt)  # API call\n",
    "    last_api_call_time = time.time()\n",
    "\n",
    "    if not response:\n",
    "        return \"AI Not Generated\", \"AI failed to generate a response\"\n",
    "\n",
    "    # Ensure response is a string before applying regex\n",
    "    response = str(response)\n",
    "\n",
    "    match = re.search(r\"(Both Correct|Both Incorrect|Correct Answer, Wrong Explanation|Wrong Answer, Correct Explanation|AI Not Generated)\", response)\n",
    "    explanation_match = re.search(r\"Explanation:\\s*(.*)\", response, re.DOTALL)\n",
    "\n",
    "    category = match.group(1) if match else \"Unknown\"\n",
    "    explanation = explanation_match.group(1).strip() if explanation_match else \"No explanation provided\"\n",
    "\n",
    "    return category, explanation\n",
    "\n",
    "# Initialize rate limit tracking\n",
    "last_api_call_time = time.time()\n",
    "\n",
    "# Ensure necessary columns exist\n",
    "if \"Category\" not in df.columns:\n",
    "    df[\"Category\"] = None\n",
    "if \"Explanation\" not in df.columns:\n",
    "    df[\"Explanation\"] = None\n",
    "\n",
    "# Process only unanswered rows\n",
    "for index, row in tqdm(df.iterrows(), total=df.shape[0], desc=\"Checking AI Answers\"):\n",
    "    if pd.notna(row[\"Category\"]):  # Skip rows already processed\n",
    "        continue\n",
    "    \n",
    "    category, explanation = check_answer(row[\"Answer\"], row[\"AI Answer\"])\n",
    "    df.at[index, \"Category\"] = category\n",
    "    df.at[index, \"Explanation\"] = explanation\n",
    "\n",
    "    print(f\"Processed {index + 1}/{df.shape[0]} - Category: {category}\")  # Progress tracking\n",
    "\n",
    "# Display updated DataFrame\n",
    "display(df)\n"
   ]
  },
  {
   "cell_type": "code",
   "execution_count": 6,
   "metadata": {},
   "outputs": [
    {
     "name": "stdout",
     "output_type": "stream",
     "text": [
      "Statistical Summary of AI Answer Classification:\n",
      "Both Correct                         106\n",
      "Wrong Answer, Correct Explanation     28\n",
      "Both Incorrect                        17\n",
      "Correct Answer, Wrong Explanation      9\n",
      "AI Not Generated                       2\n",
      "Name: Category, dtype: int64\n",
      "\n",
      "Percentage Distribution:\n",
      "Both Correct                         65.432099\n",
      "Wrong Answer, Correct Explanation    17.283951\n",
      "Both Incorrect                       10.493827\n",
      "Correct Answer, Wrong Explanation     5.555556\n",
      "AI Not Generated                      1.234568\n",
      "Name: Category, dtype: float64\n"
     ]
    },
    {
     "data": {
      "image/png": "[encoded data removed]",
      "text/plain": [
       "<Figure size 800x500 with 1 Axes>"
      ]
     },
     "metadata": {},
     "output_type": "display_data"
    }
   ],
   "source": [
    "import pandas as pd\n",
    "import matplotlib.pyplot as plt\n",
    "\n",
    "# Count occurrences of each classification category\n",
    "category_counts = df[\"Category\"].value_counts()\n",
    "\n",
    "# Compute percentages\n",
    "category_percentages = (category_counts / len(df)) * 100\n",
    "\n",
    "# Display statistical summary\n",
    "print(\"Statistical Summary of AI Answer Classification:\")\n",
    "print(category_counts)\n",
    "print(\"\\nPercentage Distribution:\")\n",
    "print(category_percentages)\n",
    "\n",
    "# Plot bar chart for better visualization\n",
    "plt.figure(figsize=(8, 5))\n",
    "category_counts.plot(kind=\"bar\", color=[\"green\", \"red\", \"orange\", \"blue\", \"gray\"])\n",
    "plt.xlabel(\"Category\")\n",
    "plt.ylabel(\"Count\")\n",
    "plt.title(\"Distribution of AI Answer Classifications\")\n",
    "plt.xticks(rotation=45)\n",
    "plt.grid(axis=\"y\", linestyle=\"--\", alpha=0.7)\n",
    "plt.show()\n"
   ]
  },
  {
   "cell_type": "code",
   "execution_count": 8,
   "metadata": {},
   "outputs": [],
   "source": [
    "df.to_csv(\"4o_mini_test_results.csv\")"
   ]
  }
 ],
 "metadata": {
  "kernelspec": {
   "display_name": "mira",
   "language": "python",
   "name": "python3"
  },
  "language_info": {
   "codemirror_mode": {
    "name": "ipython",
    "version": 3
   },
   "file_extension": ".py",
   "mimetype": "text/x-python",
   "name": "python",
   "nbconvert_exporter": "python",
   "pygments_lexer": "ipython3",
   "version": "3.10.12"
  }
 },
 "nbformat": 4,
 "nbformat_minor": 2
}
