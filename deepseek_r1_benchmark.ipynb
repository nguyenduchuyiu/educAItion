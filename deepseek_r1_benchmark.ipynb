{
 "cells": [
  {
   "cell_type": "code",
   "execution_count": 1,
   "metadata": {},
   "outputs": [
    {
     "name": "stdout",
     "output_type": "stream",
     "text": [
      "Total number of questions: 162\n"
     ]
    }
   ],
   "source": [
    "import json\n",
    "\n",
    "with open(\"/home/huy/Project/educAItion/data.json\", \"r\", encoding=\"utf-8\") as file:\n",
    "    data = json.load(file)\n",
    "\n",
    "question_count = sum(len(topic[\"questions\"]) for chapter in data[\"data\"] for topic in chapter[\"topics\"])\n",
    "\n",
    "print(\"Total number of questions:\", question_count)\n"
   ]
  },
  {
   "cell_type": "code",
   "execution_count": 2,
   "metadata": {},
   "outputs": [],
   "source": [
    "\n",
    "\n",
    "PROMPT_text = \"\"\"\n",
    "Hãy giải bài toán theo từng bước, và giải thích bước làm.\n",
    "Hãy trả về kết quả dạng LaTeX cho các công thức toán học (để trong $...$ cho các biểu thức, số), bảng biến thiên, đồ thị,... nếu có.\n",
    "\n",
    "=========\n",
    "Đây là bài toán:\n",
    "{problem}\n",
    "\n",
    "=========\n",
    "\n",
    "LƯU Ý: \n",
    "- Hãy giải bằng cách ngắn gọn, hiệu quả nhất.\n",
    "- Hãy trình bày khoa học và dùng các ký hiệu toán học nếu có thể để thay cho chữ \n",
    "- Ví dụ dùng kí hiệu toán là dấu \"hoặc\", \"và\" khi giải phương trình, bất phương trình; Hay vẽ bảng biến thiên khảo sát hàm số hay xét dấu,.... \n",
    "- Nên xuống dòng khi cần thiết, tránh một dòng quá dài.\n",
    "-Trả về dưới dạng tag : <solution>solution<solution> <answer>answer<answer> trong đó solution là cách giải, anser là kết quả cuối cùng theo yêu cầu bài toán.\n",
    "-Trả về kết quả dưới dạng Latex\n",
    "\"\"\""
   ]
  },
  {
   "cell_type": "code",
   "execution_count": 7,
   "metadata": {},
   "outputs": [],
   "source": [
    "from together import Together\n",
    "import os\n",
    "deepseek_api = \"bc78c30583e4ad9887e42feada1c4ddc320378fc4b44f18d6a9cbdb97ac2ae1c\"\n",
    "client = Together(api_key=deepseek_api)"
   ]
  },
  {
   "cell_type": "code",
   "execution_count": null,
   "metadata": {},
   "outputs": [],
   "source": [
    "\n",
    "import re\n",
    "import pandas as pd\n",
    "import os\n",
    "import json\n",
    "\n",
    "from IPython.display import display, Latex\n",
    "\n",
    "from tqdm import tqdm\n",
    "\n",
    "def get_answer(problem):\n",
    "        response = client.chat.completions.create(\n",
    "                model=\"deepseek-ai/DeepSeek-R1\",\n",
    "                messages=[{\"role\": \"user\", \"content\": PROMPT_text.format(problem=problem)}],\n",
    "                ).choices[0].message.content\n",
    "        if response is None:\n",
    "                return {\"solution\": \"AI failed to generate a solution\", \"answer\": \"AI failed to generate an answer\"}\n",
    "        solution_match = re.search(r\"<solution>(.*?)</solution>\", response, re.DOTALL)\n",
    "        answer_match = re.search(r\"<answer>(.*?)</answer>\", response, re.DOTALL)\n",
    "\n",
    "        # Extracted values or default\n",
    "        solution = solution_match.group(1) if solution_match else \"No solution found\"\n",
    "        answer = answer_match.group(1) if answer_match else \"No answer found\"\n",
    "\n",
    "        return {\"solution\": solution, \"answer\": answer}"
   ]
  },
  {
   "cell_type": "code",
   "execution_count": null,
   "metadata": {},
   "outputs": [],
   "source": [
    "import time\n",
    "\n",
    "rows = []\n",
    "questions_list = [q for chapter in data[\"data\"] for topic in chapter[\"topics\"] for q in topic[\"questions\"]]\n",
    "\n",
    "for q in tqdm(questions_list[], desc=\"Processing Questions\"):\n",
    "    ai_response = get_answer(q[\"question\"])  # API Call\n",
    "    display(Latex(ai_response[\"solution\"]))\n",
    "    rows.append([\n",
    "        q[\"question\"], \n",
    "        q[\"solution\"], \n",
    "        q[\"answer\"], \n",
    "        ai_response[\"solution\"], \n",
    "        ai_response[\"answer\"]\n",
    "    ])\n",
    "    \n",
    "    time.sleep(60 / 1.2)  # Sleep to respect 1.2 RPM\n",
    "\n",
    "# Create DataFrame\n",
    "df = pd.DataFrame(rows, columns=[\"Question\", \"Solution\", \"Answer\", \"AI Solution\", \"AI Answer\"])\n",
    "\n",
    "\n",
    "# Display DataFrame\n",
    "display(df)"
   ]
  },
  {
   "cell_type": "code",
   "execution_count": null,
   "metadata": {},
   "outputs": [],
   "source": [
    "for q in tqdm(questions_list[76:], desc=\"Processing Questions\"):\n",
    "    ai_response = get_answer(q[\"question\"])  # API Call\n",
    "    display(Latex(ai_response[\"solution\"]))\n",
    "    rows.append([\n",
    "        q[\"question\"], \n",
    "        q[\"solution\"], \n",
    "        q[\"answer\"], \n",
    "        ai_response[\"solution\"], \n",
    "        ai_response[\"answer\"]\n",
    "    ])\n",
    "    \n",
    "    time.sleep(60 / 1.2)  # Sleep to respect 1.2 RPM\n",
    "\n",
    "# Create DataFrame\n",
    "df = pd.DataFrame(rows, columns=[\"Question\", \"Solution\", \"Answer\", \"AI Solution\", \"AI Answer\"])\n",
    "\n",
    "\n",
    "# Display DataFrame\n",
    "display(df)"
   ]
  },
  {
   "cell_type": "code",
   "execution_count": null,
   "metadata": {},
   "outputs": [],
   "source": [
    "df.to_csv(\"deepseek_r1_test_results.csv\")"
   ]
  },
  {
   "cell_type": "markdown",
   "metadata": {},
   "source": [
    "# Test results"
   ]
  },
  {
   "cell_type": "code",
   "execution_count": 10,
   "metadata": {},
   "outputs": [],
   "source": [
    "import pandas as pd\n",
    "from abc import ABC, abstractmethod\n",
    "from google import genai\n",
    "\n",
    "import re\n",
    "import pandas as pd\n",
    "import os\n",
    "import json\n",
    "from IPython.display import display, Latex\n",
    "from tqdm import tqdm\n",
    "\n",
    "df = pd.read_csv(\"deepseek_r1_test_results.csv\")\n",
    "gemini_api_key = os.getenv(\"GOOGLE_API_KEY\")\n",
    "\n",
    "\n",
    "class LLM(ABC):\n",
    "    @abstractmethod\n",
    "    def generate(self, prompt: str) -> str:\n",
    "        pass\n",
    "    \n",
    "    @abstractmethod\n",
    "    def stream_generate(self, prompt: str):\n",
    "        pass\n",
    "\n",
    "        \n",
    "class GeminiAI(LLM):\n",
    "    def __init__(self):\n",
    "        self.client = genai.Client(api_key=gemini_api_key)\n",
    "    \n",
    "    def generate(self, prompt: str) -> str:\n",
    "        response = self.client.models.generate_content(model=\"gemini-2.0-flash\",contents=[prompt])\n",
    "        return response.text\n",
    "    \n",
    "\n",
    "    def stream_generate(self, prompt: str):\n",
    "        response = self.client.models.generate_content_stream(model=\"gemini-2.0-flash\",contents=[prompt])\n",
    "        \n",
    "        for chunk in response:\n",
    "            if chunk.text:\n",
    "                yield chunk.text\n",
    "        pass\n",
    "\n",
    "model = GeminiAI()"
   ]
  },
  {
   "cell_type": "code",
   "execution_count": null,
   "metadata": {},
   "outputs": [],
   "source": []
  },
  {
   "cell_type": "code",
   "execution_count": 11,
   "metadata": {},
   "outputs": [
    {
     "name": "stderr",
     "output_type": "stream",
     "text": [
      "Checking AI Answers:   1%|          | 1/162 [00:04<12:59,  4.84s/it]"
     ]
    },
    {
     "name": "stdout",
     "output_type": "stream",
     "text": [
      "Processed 1/162 - Category: Wrong Answer, Correct Explanation\n"
     ]
    },
    {
     "name": "stderr",
     "output_type": "stream",
     "text": [
      "Checking AI Answers:   1%|          | 2/162 [00:10<14:06,  5.29s/it]"
     ]
    },
    {
     "name": "stdout",
     "output_type": "stream",
     "text": [
      "Processed 2/162 - Category: Both Correct\n"
     ]
    },
    {
     "name": "stderr",
     "output_type": "stream",
     "text": [
      "Checking AI Answers:   2%|▏         | 3/162 [00:15<13:24,  5.06s/it]"
     ]
    },
    {
     "name": "stdout",
     "output_type": "stream",
     "text": [
      "Processed 3/162 - Category: Both Correct\n"
     ]
    },
    {
     "name": "stderr",
     "output_type": "stream",
     "text": [
      "Checking AI Answers:   2%|▏         | 4/162 [00:20<13:56,  5.29s/it]"
     ]
    },
    {
     "name": "stdout",
     "output_type": "stream",
     "text": [
      "Processed 4/162 - Category: AI Not Generated\n"
     ]
    },
    {
     "name": "stderr",
     "output_type": "stream",
     "text": [
      "Checking AI Answers:   3%|▎         | 5/162 [00:26<14:06,  5.39s/it]"
     ]
    },
    {
     "name": "stdout",
     "output_type": "stream",
     "text": [
      "Processed 5/162 - Category: Both Correct\n"
     ]
    },
    {
     "name": "stderr",
     "output_type": "stream",
     "text": [
      "Checking AI Answers:   4%|▎         | 6/162 [00:31<13:24,  5.16s/it]"
     ]
    },
    {
     "name": "stdout",
     "output_type": "stream",
     "text": [
      "Processed 6/162 - Category: Both Correct\n"
     ]
    },
    {
     "name": "stderr",
     "output_type": "stream",
     "text": [
      "Checking AI Answers:   4%|▍         | 7/162 [00:35<12:56,  5.01s/it]"
     ]
    },
    {
     "name": "stdout",
     "output_type": "stream",
     "text": [
      "Processed 7/162 - Category: Both Correct\n"
     ]
    },
    {
     "name": "stderr",
     "output_type": "stream",
     "text": [
      "Checking AI Answers:   5%|▍         | 8/162 [00:41<13:19,  5.19s/it]"
     ]
    },
    {
     "name": "stdout",
     "output_type": "stream",
     "text": [
      "Processed 8/162 - Category: Both Correct\n"
     ]
    },
    {
     "name": "stderr",
     "output_type": "stream",
     "text": [
      "Checking AI Answers:   6%|▌         | 9/162 [00:47<13:32,  5.31s/it]"
     ]
    },
    {
     "name": "stdout",
     "output_type": "stream",
     "text": [
      "Processed 9/162 - Category: Both Correct\n"
     ]
    },
    {
     "name": "stderr",
     "output_type": "stream",
     "text": [
      "Checking AI Answers:   6%|▌         | 10/162 [00:51<13:00,  5.14s/it]"
     ]
    },
    {
     "name": "stdout",
     "output_type": "stream",
     "text": [
      "Processed 10/162 - Category: Both Correct\n"
     ]
    },
    {
     "name": "stderr",
     "output_type": "stream",
     "text": [
      "Checking AI Answers:   7%|▋         | 11/162 [00:57<13:17,  5.28s/it]"
     ]
    },
    {
     "name": "stdout",
     "output_type": "stream",
     "text": [
      "Processed 11/162 - Category: Both Correct\n"
     ]
    },
    {
     "name": "stderr",
     "output_type": "stream",
     "text": [
      "Checking AI Answers:   7%|▋         | 12/162 [01:02<13:24,  5.36s/it]"
     ]
    },
    {
     "name": "stdout",
     "output_type": "stream",
     "text": [
      "Processed 12/162 - Category: Both Correct\n"
     ]
    },
    {
     "name": "stderr",
     "output_type": "stream",
     "text": [
      "Checking AI Answers:   8%|▊         | 13/162 [01:08<13:34,  5.46s/it]"
     ]
    },
    {
     "name": "stdout",
     "output_type": "stream",
     "text": [
      "Processed 13/162 - Category: Both Correct\n"
     ]
    },
    {
     "name": "stderr",
     "output_type": "stream",
     "text": [
      "Checking AI Answers:   9%|▊         | 14/162 [01:14<13:36,  5.52s/it]"
     ]
    },
    {
     "name": "stdout",
     "output_type": "stream",
     "text": [
      "Processed 14/162 - Category: Both Correct\n"
     ]
    },
    {
     "name": "stderr",
     "output_type": "stream",
     "text": [
      "Checking AI Answers:   9%|▉         | 15/162 [01:19<13:35,  5.55s/it]"
     ]
    },
    {
     "name": "stdout",
     "output_type": "stream",
     "text": [
      "Processed 15/162 - Category: Both Correct\n"
     ]
    },
    {
     "name": "stderr",
     "output_type": "stream",
     "text": [
      "Checking AI Answers:  10%|▉         | 16/162 [01:24<12:56,  5.32s/it]"
     ]
    },
    {
     "name": "stdout",
     "output_type": "stream",
     "text": [
      "Processed 16/162 - Category: Both Correct\n"
     ]
    },
    {
     "name": "stderr",
     "output_type": "stream",
     "text": [
      "Checking AI Answers:  10%|█         | 17/162 [01:30<13:04,  5.41s/it]"
     ]
    },
    {
     "name": "stdout",
     "output_type": "stream",
     "text": [
      "Processed 17/162 - Category: Both Correct\n"
     ]
    },
    {
     "name": "stderr",
     "output_type": "stream",
     "text": [
      "Checking AI Answers:  11%|█         | 18/162 [01:34<12:28,  5.20s/it]"
     ]
    },
    {
     "name": "stdout",
     "output_type": "stream",
     "text": [
      "Processed 18/162 - Category: Both Correct\n"
     ]
    },
    {
     "name": "stderr",
     "output_type": "stream",
     "text": [
      "Checking AI Answers:  12%|█▏        | 19/162 [01:40<12:43,  5.34s/it]"
     ]
    },
    {
     "name": "stdout",
     "output_type": "stream",
     "text": [
      "Processed 19/162 - Category: Both Correct\n"
     ]
    },
    {
     "name": "stderr",
     "output_type": "stream",
     "text": [
      "Checking AI Answers:  12%|█▏        | 20/162 [01:45<12:27,  5.27s/it]"
     ]
    },
    {
     "name": "stdout",
     "output_type": "stream",
     "text": [
      "Processed 20/162 - Category: Wrong Answer, Correct Explanation\n"
     ]
    },
    {
     "name": "stderr",
     "output_type": "stream",
     "text": [
      "Checking AI Answers:  13%|█▎        | 21/162 [01:51<12:40,  5.39s/it]"
     ]
    },
    {
     "name": "stdout",
     "output_type": "stream",
     "text": [
      "Processed 21/162 - Category: Both Correct\n"
     ]
    },
    {
     "name": "stderr",
     "output_type": "stream",
     "text": [
      "Checking AI Answers:  14%|█▎        | 22/162 [01:56<12:12,  5.23s/it]"
     ]
    },
    {
     "name": "stdout",
     "output_type": "stream",
     "text": [
      "Processed 22/162 - Category: Both Correct\n"
     ]
    },
    {
     "name": "stderr",
     "output_type": "stream",
     "text": [
      "Checking AI Answers:  14%|█▍        | 23/162 [02:00<11:43,  5.06s/it]"
     ]
    },
    {
     "name": "stdout",
     "output_type": "stream",
     "text": [
      "Processed 23/162 - Category: Both Correct\n"
     ]
    },
    {
     "name": "stderr",
     "output_type": "stream",
     "text": [
      "Checking AI Answers:  15%|█▍        | 24/162 [02:06<11:56,  5.19s/it]"
     ]
    },
    {
     "name": "stdout",
     "output_type": "stream",
     "text": [
      "Processed 24/162 - Category: Both Correct\n"
     ]
    },
    {
     "name": "stderr",
     "output_type": "stream",
     "text": [
      "Checking AI Answers:  15%|█▌        | 25/162 [02:12<12:25,  5.44s/it]"
     ]
    },
    {
     "name": "stdout",
     "output_type": "stream",
     "text": [
      "Processed 25/162 - Category: Both Incorrect\n"
     ]
    },
    {
     "name": "stderr",
     "output_type": "stream",
     "text": [
      "Checking AI Answers:  16%|█▌        | 26/162 [02:17<11:58,  5.28s/it]"
     ]
    },
    {
     "name": "stdout",
     "output_type": "stream",
     "text": [
      "Processed 26/162 - Category: Both Correct\n"
     ]
    },
    {
     "name": "stderr",
     "output_type": "stream",
     "text": [
      "Checking AI Answers:  17%|█▋        | 27/162 [02:22<12:00,  5.34s/it]"
     ]
    },
    {
     "name": "stdout",
     "output_type": "stream",
     "text": [
      "Processed 27/162 - Category: Both Correct\n"
     ]
    },
    {
     "name": "stderr",
     "output_type": "stream",
     "text": [
      "Checking AI Answers:  17%|█▋        | 28/162 [02:28<12:05,  5.41s/it]"
     ]
    },
    {
     "name": "stdout",
     "output_type": "stream",
     "text": [
      "Processed 28/162 - Category: Both Correct\n"
     ]
    },
    {
     "name": "stderr",
     "output_type": "stream",
     "text": [
      "Checking AI Answers:  18%|█▊        | 29/162 [02:34<12:10,  5.49s/it]"
     ]
    },
    {
     "name": "stdout",
     "output_type": "stream",
     "text": [
      "Processed 29/162 - Category: Both Correct\n"
     ]
    },
    {
     "name": "stderr",
     "output_type": "stream",
     "text": [
      "Checking AI Answers:  19%|█▊        | 30/162 [02:38<11:39,  5.30s/it]"
     ]
    },
    {
     "name": "stdout",
     "output_type": "stream",
     "text": [
      "Processed 30/162 - Category: Both Correct\n"
     ]
    },
    {
     "name": "stderr",
     "output_type": "stream",
     "text": [
      "Checking AI Answers:  19%|█▉        | 31/162 [02:43<11:17,  5.17s/it]"
     ]
    },
    {
     "name": "stdout",
     "output_type": "stream",
     "text": [
      "Processed 31/162 - Category: Both Correct\n"
     ]
    },
    {
     "name": "stderr",
     "output_type": "stream",
     "text": [
      "Checking AI Answers:  20%|█▉        | 32/162 [02:48<10:58,  5.07s/it]"
     ]
    },
    {
     "name": "stdout",
     "output_type": "stream",
     "text": [
      "Processed 32/162 - Category: Both Correct\n"
     ]
    },
    {
     "name": "stderr",
     "output_type": "stream",
     "text": [
      "Checking AI Answers:  20%|██        | 33/162 [02:54<11:17,  5.25s/it]"
     ]
    },
    {
     "name": "stdout",
     "output_type": "stream",
     "text": [
      "Processed 33/162 - Category: Both Correct\n"
     ]
    },
    {
     "name": "stderr",
     "output_type": "stream",
     "text": [
      "Checking AI Answers:  21%|██        | 34/162 [03:00<11:30,  5.39s/it]"
     ]
    },
    {
     "name": "stdout",
     "output_type": "stream",
     "text": [
      "Processed 34/162 - Category: Both Correct\n"
     ]
    },
    {
     "name": "stderr",
     "output_type": "stream",
     "text": [
      "Checking AI Answers:  22%|██▏       | 35/162 [03:05<11:39,  5.50s/it]"
     ]
    },
    {
     "name": "stdout",
     "output_type": "stream",
     "text": [
      "Processed 35/162 - Category: Both Correct\n"
     ]
    },
    {
     "name": "stderr",
     "output_type": "stream",
     "text": [
      "Checking AI Answers:  22%|██▏       | 36/162 [03:11<11:38,  5.54s/it]"
     ]
    },
    {
     "name": "stdout",
     "output_type": "stream",
     "text": [
      "Processed 36/162 - Category: Both Correct\n"
     ]
    },
    {
     "name": "stderr",
     "output_type": "stream",
     "text": [
      "Checking AI Answers:  23%|██▎       | 37/162 [03:17<11:35,  5.56s/it]"
     ]
    },
    {
     "name": "stdout",
     "output_type": "stream",
     "text": [
      "Processed 37/162 - Category: Both Correct\n"
     ]
    },
    {
     "name": "stderr",
     "output_type": "stream",
     "text": [
      "Checking AI Answers:  23%|██▎       | 38/162 [03:21<11:03,  5.35s/it]"
     ]
    },
    {
     "name": "stdout",
     "output_type": "stream",
     "text": [
      "Processed 38/162 - Category: Both Correct\n"
     ]
    },
    {
     "name": "stderr",
     "output_type": "stream",
     "text": [
      "Checking AI Answers:  24%|██▍       | 39/162 [03:26<10:35,  5.16s/it]"
     ]
    },
    {
     "name": "stdout",
     "output_type": "stream",
     "text": [
      "Processed 39/162 - Category: Both Correct\n"
     ]
    },
    {
     "name": "stderr",
     "output_type": "stream",
     "text": [
      "Checking AI Answers:  25%|██▍       | 40/162 [03:32<10:50,  5.33s/it]"
     ]
    },
    {
     "name": "stdout",
     "output_type": "stream",
     "text": [
      "Processed 40/162 - Category: Both Correct\n"
     ]
    },
    {
     "name": "stderr",
     "output_type": "stream",
     "text": [
      "Checking AI Answers:  25%|██▌       | 41/162 [03:37<10:55,  5.42s/it]"
     ]
    },
    {
     "name": "stdout",
     "output_type": "stream",
     "text": [
      "Processed 41/162 - Category: Both Correct\n"
     ]
    },
    {
     "name": "stderr",
     "output_type": "stream",
     "text": [
      "Checking AI Answers:  26%|██▌       | 42/162 [03:43<11:04,  5.54s/it]"
     ]
    },
    {
     "name": "stdout",
     "output_type": "stream",
     "text": [
      "Processed 42/162 - Category: Both Correct\n"
     ]
    },
    {
     "name": "stderr",
     "output_type": "stream",
     "text": [
      "Checking AI Answers:  27%|██▋       | 43/162 [03:49<11:04,  5.58s/it]"
     ]
    },
    {
     "name": "stdout",
     "output_type": "stream",
     "text": [
      "Processed 43/162 - Category: Both Correct\n"
     ]
    },
    {
     "name": "stderr",
     "output_type": "stream",
     "text": [
      "Checking AI Answers:  27%|██▋       | 44/162 [03:54<10:50,  5.51s/it]"
     ]
    },
    {
     "name": "stdout",
     "output_type": "stream",
     "text": [
      "Processed 44/162 - Category: Both Correct\n"
     ]
    },
    {
     "name": "stderr",
     "output_type": "stream",
     "text": [
      "Checking AI Answers:  28%|██▊       | 45/162 [04:01<11:10,  5.73s/it]"
     ]
    },
    {
     "name": "stdout",
     "output_type": "stream",
     "text": [
      "Processed 45/162 - Category: Both Correct\n"
     ]
    },
    {
     "name": "stderr",
     "output_type": "stream",
     "text": [
      "Checking AI Answers:  28%|██▊       | 46/162 [04:06<11:01,  5.70s/it]"
     ]
    },
    {
     "name": "stdout",
     "output_type": "stream",
     "text": [
      "Processed 46/162 - Category: Both Correct\n"
     ]
    },
    {
     "name": "stderr",
     "output_type": "stream",
     "text": [
      "Checking AI Answers:  29%|██▉       | 47/162 [04:12<10:57,  5.72s/it]"
     ]
    },
    {
     "name": "stdout",
     "output_type": "stream",
     "text": [
      "Processed 47/162 - Category: Both Correct\n"
     ]
    },
    {
     "name": "stderr",
     "output_type": "stream",
     "text": [
      "Checking AI Answers:  30%|██▉       | 48/162 [04:18<11:00,  5.79s/it]"
     ]
    },
    {
     "name": "stdout",
     "output_type": "stream",
     "text": [
      "Processed 48/162 - Category: Correct Answer, Wrong Explanation\n"
     ]
    },
    {
     "name": "stderr",
     "output_type": "stream",
     "text": [
      "Checking AI Answers:  30%|███       | 49/162 [04:24<10:56,  5.81s/it]"
     ]
    },
    {
     "name": "stdout",
     "output_type": "stream",
     "text": [
      "Processed 49/162 - Category: Both Correct\n"
     ]
    },
    {
     "name": "stderr",
     "output_type": "stream",
     "text": [
      "Checking AI Answers:  31%|███       | 50/162 [04:29<10:30,  5.63s/it]"
     ]
    },
    {
     "name": "stdout",
     "output_type": "stream",
     "text": [
      "Processed 50/162 - Category: Wrong Answer, Correct Explanation\n"
     ]
    },
    {
     "name": "stderr",
     "output_type": "stream",
     "text": [
      "Checking AI Answers:  31%|███▏      | 51/162 [04:34<09:51,  5.33s/it]"
     ]
    },
    {
     "name": "stdout",
     "output_type": "stream",
     "text": [
      "Processed 51/162 - Category: Both Correct\n"
     ]
    },
    {
     "name": "stderr",
     "output_type": "stream",
     "text": [
      "Checking AI Answers:  32%|███▏      | 52/162 [04:39<09:37,  5.25s/it]"
     ]
    },
    {
     "name": "stdout",
     "output_type": "stream",
     "text": [
      "Processed 52/162 - Category: Both Correct\n"
     ]
    },
    {
     "name": "stderr",
     "output_type": "stream",
     "text": [
      "Checking AI Answers:  33%|███▎      | 53/162 [04:44<09:48,  5.40s/it]"
     ]
    },
    {
     "name": "stdout",
     "output_type": "stream",
     "text": [
      "Processed 53/162 - Category: Both Correct\n"
     ]
    },
    {
     "name": "stderr",
     "output_type": "stream",
     "text": [
      "Checking AI Answers:  33%|███▎      | 54/162 [04:50<09:54,  5.51s/it]"
     ]
    },
    {
     "name": "stdout",
     "output_type": "stream",
     "text": [
      "Processed 54/162 - Category: Both Correct\n"
     ]
    },
    {
     "name": "stderr",
     "output_type": "stream",
     "text": [
      "Checking AI Answers:  34%|███▍      | 55/162 [04:55<09:20,  5.24s/it]"
     ]
    },
    {
     "name": "stdout",
     "output_type": "stream",
     "text": [
      "Processed 55/162 - Category: Both Correct\n"
     ]
    },
    {
     "name": "stderr",
     "output_type": "stream",
     "text": [
      "Checking AI Answers:  35%|███▍      | 56/162 [05:01<09:38,  5.46s/it]"
     ]
    },
    {
     "name": "stdout",
     "output_type": "stream",
     "text": [
      "Processed 56/162 - Category: Wrong Answer, Correct Explanation\n"
     ]
    },
    {
     "name": "stderr",
     "output_type": "stream",
     "text": [
      "Checking AI Answers:  35%|███▌      | 57/162 [05:06<09:17,  5.31s/it]"
     ]
    },
    {
     "name": "stdout",
     "output_type": "stream",
     "text": [
      "Processed 57/162 - Category: Both Correct\n"
     ]
    },
    {
     "name": "stderr",
     "output_type": "stream",
     "text": [
      "Checking AI Answers:  36%|███▌      | 58/162 [05:12<09:34,  5.52s/it]"
     ]
    },
    {
     "name": "stdout",
     "output_type": "stream",
     "text": [
      "Processed 58/162 - Category: Correct Answer, Wrong Explanation\n"
     ]
    },
    {
     "name": "stderr",
     "output_type": "stream",
     "text": [
      "Checking AI Answers:  36%|███▋      | 59/162 [05:17<09:13,  5.37s/it]"
     ]
    },
    {
     "name": "stdout",
     "output_type": "stream",
     "text": [
      "Processed 59/162 - Category: Both Correct\n"
     ]
    },
    {
     "name": "stderr",
     "output_type": "stream",
     "text": [
      "Checking AI Answers:  37%|███▋      | 60/162 [05:23<09:40,  5.69s/it]"
     ]
    },
    {
     "name": "stdout",
     "output_type": "stream",
     "text": [
      "Processed 60/162 - Category: Correct Answer, Wrong Explanation\n"
     ]
    },
    {
     "name": "stderr",
     "output_type": "stream",
     "text": [
      "Checking AI Answers:  38%|███▊      | 61/162 [05:28<09:04,  5.39s/it]"
     ]
    },
    {
     "name": "stdout",
     "output_type": "stream",
     "text": [
      "Processed 61/162 - Category: Both Correct\n"
     ]
    },
    {
     "name": "stderr",
     "output_type": "stream",
     "text": [
      "Checking AI Answers:  38%|███▊      | 62/162 [05:33<08:45,  5.25s/it]"
     ]
    },
    {
     "name": "stdout",
     "output_type": "stream",
     "text": [
      "Processed 62/162 - Category: Both Correct\n"
     ]
    },
    {
     "name": "stderr",
     "output_type": "stream",
     "text": [
      "Checking AI Answers:  39%|███▉      | 63/162 [05:39<09:11,  5.58s/it]"
     ]
    },
    {
     "name": "stdout",
     "output_type": "stream",
     "text": [
      "Processed 63/162 - Category: Both Correct\n"
     ]
    },
    {
     "name": "stderr",
     "output_type": "stream",
     "text": [
      "Checking AI Answers:  40%|███▉      | 64/162 [05:45<09:06,  5.58s/it]"
     ]
    },
    {
     "name": "stdout",
     "output_type": "stream",
     "text": [
      "Processed 64/162 - Category: Wrong Answer, Correct Explanation\n"
     ]
    },
    {
     "name": "stderr",
     "output_type": "stream",
     "text": [
      "Checking AI Answers:  40%|████      | 65/162 [05:50<08:50,  5.47s/it]"
     ]
    },
    {
     "name": "stdout",
     "output_type": "stream",
     "text": [
      "Processed 65/162 - Category: Correct Answer, Wrong Explanation\n"
     ]
    },
    {
     "name": "stderr",
     "output_type": "stream",
     "text": [
      "Checking AI Answers:  41%|████      | 66/162 [05:55<08:28,  5.29s/it]"
     ]
    },
    {
     "name": "stdout",
     "output_type": "stream",
     "text": [
      "Processed 66/162 - Category: Both Correct\n"
     ]
    },
    {
     "name": "stderr",
     "output_type": "stream",
     "text": [
      "Checking AI Answers:  41%|████▏     | 67/162 [06:00<08:24,  5.31s/it]"
     ]
    },
    {
     "name": "stdout",
     "output_type": "stream",
     "text": [
      "Processed 67/162 - Category: Wrong Answer, Correct Explanation\n"
     ]
    },
    {
     "name": "stderr",
     "output_type": "stream",
     "text": [
      "Checking AI Answers:  42%|████▏     | 68/162 [06:06<08:26,  5.39s/it]"
     ]
    },
    {
     "name": "stdout",
     "output_type": "stream",
     "text": [
      "Processed 68/162 - Category: Both Correct\n"
     ]
    },
    {
     "name": "stderr",
     "output_type": "stream",
     "text": [
      "Checking AI Answers:  43%|████▎     | 69/162 [06:12<08:38,  5.57s/it]"
     ]
    },
    {
     "name": "stdout",
     "output_type": "stream",
     "text": [
      "Processed 69/162 - Category: Wrong Answer, Correct Explanation\n"
     ]
    },
    {
     "name": "stderr",
     "output_type": "stream",
     "text": [
      "Checking AI Answers:  43%|████▎     | 70/162 [06:17<08:33,  5.58s/it]"
     ]
    },
    {
     "name": "stdout",
     "output_type": "stream",
     "text": [
      "Processed 70/162 - Category: Both Correct\n"
     ]
    },
    {
     "name": "stderr",
     "output_type": "stream",
     "text": [
      "Checking AI Answers:  44%|████▍     | 71/162 [06:22<08:04,  5.33s/it]"
     ]
    },
    {
     "name": "stdout",
     "output_type": "stream",
     "text": [
      "Processed 71/162 - Category: Wrong Answer, Correct Explanation\n"
     ]
    },
    {
     "name": "stderr",
     "output_type": "stream",
     "text": [
      "Checking AI Answers:  44%|████▍     | 72/162 [06:27<07:41,  5.13s/it]"
     ]
    },
    {
     "name": "stdout",
     "output_type": "stream",
     "text": [
      "Processed 72/162 - Category: Both Correct\n"
     ]
    },
    {
     "name": "stderr",
     "output_type": "stream",
     "text": [
      "Checking AI Answers:  45%|████▌     | 73/162 [06:32<07:26,  5.02s/it]"
     ]
    },
    {
     "name": "stdout",
     "output_type": "stream",
     "text": [
      "Processed 73/162 - Category: Both Correct\n"
     ]
    },
    {
     "name": "stderr",
     "output_type": "stream",
     "text": [
      "Checking AI Answers:  46%|████▌     | 74/162 [06:38<07:49,  5.34s/it]"
     ]
    },
    {
     "name": "stdout",
     "output_type": "stream",
     "text": [
      "Processed 74/162 - Category: Correct Answer, Wrong Explanation\n"
     ]
    },
    {
     "name": "stderr",
     "output_type": "stream",
     "text": [
      "Checking AI Answers:  46%|████▋     | 75/162 [06:44<08:24,  5.80s/it]"
     ]
    },
    {
     "name": "stdout",
     "output_type": "stream",
     "text": [
      "Processed 75/162 - Category: Both Incorrect\n"
     ]
    },
    {
     "name": "stderr",
     "output_type": "stream",
     "text": [
      "Checking AI Answers:  47%|████▋     | 76/162 [06:50<08:00,  5.58s/it]"
     ]
    },
    {
     "name": "stdout",
     "output_type": "stream",
     "text": [
      "Processed 76/162 - Category: Wrong Answer, Correct Explanation\n"
     ]
    },
    {
     "name": "stderr",
     "output_type": "stream",
     "text": [
      "Checking AI Answers:  48%|████▊     | 77/162 [06:54<07:33,  5.33s/it]"
     ]
    },
    {
     "name": "stdout",
     "output_type": "stream",
     "text": [
      "Processed 77/162 - Category: Both Correct\n"
     ]
    },
    {
     "name": "stderr",
     "output_type": "stream",
     "text": [
      "Checking AI Answers:  48%|████▊     | 78/162 [07:01<08:02,  5.75s/it]"
     ]
    },
    {
     "name": "stdout",
     "output_type": "stream",
     "text": [
      "Processed 78/162 - Category: Both Correct\n"
     ]
    },
    {
     "name": "stderr",
     "output_type": "stream",
     "text": [
      "Checking AI Answers:  49%|████▉     | 79/162 [07:12<09:57,  7.20s/it]"
     ]
    },
    {
     "name": "stdout",
     "output_type": "stream",
     "text": [
      "Processed 79/162 - Category: Wrong Answer, Correct Explanation\n"
     ]
    },
    {
     "name": "stderr",
     "output_type": "stream",
     "text": [
      "Checking AI Answers:  49%|████▉     | 80/162 [07:17<08:54,  6.52s/it]"
     ]
    },
    {
     "name": "stdout",
     "output_type": "stream",
     "text": [
      "Processed 80/162 - Category: Both Correct\n"
     ]
    },
    {
     "name": "stderr",
     "output_type": "stream",
     "text": [
      "Checking AI Answers:  50%|█████     | 81/162 [07:22<08:27,  6.26s/it]"
     ]
    },
    {
     "name": "stdout",
     "output_type": "stream",
     "text": [
      "Processed 81/162 - Category: Both Correct\n"
     ]
    },
    {
     "name": "stderr",
     "output_type": "stream",
     "text": [
      "Checking AI Answers:  51%|█████     | 82/162 [07:48<16:11, 12.15s/it]"
     ]
    },
    {
     "name": "stdout",
     "output_type": "stream",
     "text": [
      "Processed 82/162 - Category: Both Correct\n"
     ]
    },
    {
     "name": "stderr",
     "output_type": "stream",
     "text": [
      "Checking AI Answers:  51%|█████     | 83/162 [07:53<13:02,  9.90s/it]"
     ]
    },
    {
     "name": "stdout",
     "output_type": "stream",
     "text": [
      "Processed 83/162 - Category: Both Correct\n"
     ]
    },
    {
     "name": "stderr",
     "output_type": "stream",
     "text": [
      "Checking AI Answers:  52%|█████▏    | 84/162 [07:58<10:56,  8.42s/it]"
     ]
    },
    {
     "name": "stdout",
     "output_type": "stream",
     "text": [
      "Processed 84/162 - Category: Both Correct\n"
     ]
    },
    {
     "name": "stderr",
     "output_type": "stream",
     "text": [
      "Checking AI Answers:  52%|█████▏    | 85/162 [08:03<09:26,  7.36s/it]"
     ]
    },
    {
     "name": "stdout",
     "output_type": "stream",
     "text": [
      "Processed 85/162 - Category: Both Correct\n"
     ]
    },
    {
     "name": "stderr",
     "output_type": "stream",
     "text": [
      "Checking AI Answers:  53%|█████▎    | 86/162 [08:08<08:23,  6.63s/it]"
     ]
    },
    {
     "name": "stdout",
     "output_type": "stream",
     "text": [
      "Processed 86/162 - Category: Both Correct\n"
     ]
    },
    {
     "name": "stderr",
     "output_type": "stream",
     "text": [
      "Checking AI Answers:  54%|█████▎    | 87/162 [08:13<07:55,  6.35s/it]"
     ]
    },
    {
     "name": "stdout",
     "output_type": "stream",
     "text": [
      "Processed 87/162 - Category: Wrong Answer, Correct Explanation\n"
     ]
    },
    {
     "name": "stderr",
     "output_type": "stream",
     "text": [
      "Checking AI Answers:  54%|█████▍    | 88/162 [08:18<07:13,  5.86s/it]"
     ]
    },
    {
     "name": "stdout",
     "output_type": "stream",
     "text": [
      "Processed 88/162 - Category: Both Correct\n"
     ]
    },
    {
     "name": "stderr",
     "output_type": "stream",
     "text": [
      "Checking AI Answers:  55%|█████▍    | 89/162 [08:23<06:42,  5.51s/it]"
     ]
    },
    {
     "name": "stdout",
     "output_type": "stream",
     "text": [
      "Processed 89/162 - Category: Both Correct\n"
     ]
    },
    {
     "name": "stderr",
     "output_type": "stream",
     "text": [
      "Checking AI Answers:  56%|█████▌    | 90/162 [08:28<06:38,  5.54s/it]"
     ]
    },
    {
     "name": "stdout",
     "output_type": "stream",
     "text": [
      "Processed 90/162 - Category: Both Correct\n"
     ]
    },
    {
     "name": "stderr",
     "output_type": "stream",
     "text": [
      "Checking AI Answers:  56%|█████▌    | 91/162 [08:33<06:15,  5.29s/it]"
     ]
    },
    {
     "name": "stdout",
     "output_type": "stream",
     "text": [
      "Processed 91/162 - Category: Both Correct\n"
     ]
    },
    {
     "name": "stderr",
     "output_type": "stream",
     "text": [
      "Checking AI Answers:  57%|█████▋    | 92/162 [08:39<06:18,  5.40s/it]"
     ]
    },
    {
     "name": "stdout",
     "output_type": "stream",
     "text": [
      "Processed 92/162 - Category: Both Correct\n"
     ]
    },
    {
     "name": "stderr",
     "output_type": "stream",
     "text": [
      "Checking AI Answers:  57%|█████▋    | 93/162 [08:43<05:59,  5.20s/it]"
     ]
    },
    {
     "name": "stdout",
     "output_type": "stream",
     "text": [
      "Processed 93/162 - Category: Both Correct\n"
     ]
    },
    {
     "name": "stderr",
     "output_type": "stream",
     "text": [
      "Checking AI Answers:  58%|█████▊    | 94/162 [08:48<05:43,  5.06s/it]"
     ]
    },
    {
     "name": "stdout",
     "output_type": "stream",
     "text": [
      "Processed 94/162 - Category: Both Correct\n"
     ]
    },
    {
     "name": "stderr",
     "output_type": "stream",
     "text": [
      "Checking AI Answers:  59%|█████▊    | 95/162 [08:54<05:49,  5.22s/it]"
     ]
    },
    {
     "name": "stdout",
     "output_type": "stream",
     "text": [
      "Processed 95/162 - Category: Both Correct\n"
     ]
    },
    {
     "name": "stderr",
     "output_type": "stream",
     "text": [
      "Checking AI Answers:  59%|█████▉    | 96/162 [08:59<05:51,  5.33s/it]"
     ]
    },
    {
     "name": "stdout",
     "output_type": "stream",
     "text": [
      "Processed 96/162 - Category: Both Correct\n"
     ]
    },
    {
     "name": "stderr",
     "output_type": "stream",
     "text": [
      "Checking AI Answers:  60%|█████▉    | 97/162 [09:08<07:01,  6.48s/it]"
     ]
    },
    {
     "name": "stdout",
     "output_type": "stream",
     "text": [
      "Processed 97/162 - Category: Both Correct\n"
     ]
    },
    {
     "name": "stderr",
     "output_type": "stream",
     "text": [
      "Checking AI Answers:  60%|██████    | 98/162 [09:14<06:36,  6.20s/it]"
     ]
    },
    {
     "name": "stdout",
     "output_type": "stream",
     "text": [
      "Processed 98/162 - Category: Both Correct\n"
     ]
    },
    {
     "name": "stderr",
     "output_type": "stream",
     "text": [
      "Checking AI Answers:  61%|██████    | 99/162 [09:19<06:17,  6.00s/it]"
     ]
    },
    {
     "name": "stdout",
     "output_type": "stream",
     "text": [
      "Processed 99/162 - Category: Both Correct\n"
     ]
    },
    {
     "name": "stderr",
     "output_type": "stream",
     "text": [
      "Checking AI Answers:  62%|██████▏   | 100/162 [09:25<06:04,  5.88s/it]"
     ]
    },
    {
     "name": "stdout",
     "output_type": "stream",
     "text": [
      "Processed 100/162 - Category: Both Correct\n"
     ]
    },
    {
     "name": "stderr",
     "output_type": "stream",
     "text": [
      "Checking AI Answers:  62%|██████▏   | 101/162 [09:31<05:52,  5.78s/it]"
     ]
    },
    {
     "name": "stdout",
     "output_type": "stream",
     "text": [
      "Processed 101/162 - Category: Both Correct\n"
     ]
    },
    {
     "name": "stderr",
     "output_type": "stream",
     "text": [
      "Checking AI Answers:  63%|██████▎   | 102/162 [09:36<05:46,  5.77s/it]"
     ]
    },
    {
     "name": "stdout",
     "output_type": "stream",
     "text": [
      "Processed 102/162 - Category: Both Correct\n"
     ]
    },
    {
     "name": "stderr",
     "output_type": "stream",
     "text": [
      "Checking AI Answers:  64%|██████▎   | 103/162 [09:41<05:22,  5.46s/it]"
     ]
    },
    {
     "name": "stdout",
     "output_type": "stream",
     "text": [
      "Processed 103/162 - Category: Both Correct\n"
     ]
    },
    {
     "name": "stderr",
     "output_type": "stream",
     "text": [
      "Checking AI Answers:  64%|██████▍   | 104/162 [09:46<05:10,  5.35s/it]"
     ]
    },
    {
     "name": "stdout",
     "output_type": "stream",
     "text": [
      "Processed 104/162 - Category: Both Correct\n"
     ]
    },
    {
     "name": "stderr",
     "output_type": "stream",
     "text": [
      "Checking AI Answers:  65%|██████▍   | 105/162 [09:52<05:13,  5.51s/it]"
     ]
    },
    {
     "name": "stdout",
     "output_type": "stream",
     "text": [
      "Processed 105/162 - Category: Both Correct\n"
     ]
    },
    {
     "name": "stderr",
     "output_type": "stream",
     "text": [
      "Checking AI Answers:  65%|██████▌   | 106/162 [09:57<04:55,  5.28s/it]"
     ]
    },
    {
     "name": "stdout",
     "output_type": "stream",
     "text": [
      "Processed 106/162 - Category: Both Correct\n"
     ]
    },
    {
     "name": "stderr",
     "output_type": "stream",
     "text": [
      "Checking AI Answers:  66%|██████▌   | 107/162 [10:03<04:57,  5.41s/it]"
     ]
    },
    {
     "name": "stdout",
     "output_type": "stream",
     "text": [
      "Processed 107/162 - Category: Both Correct\n"
     ]
    },
    {
     "name": "stderr",
     "output_type": "stream",
     "text": [
      "Checking AI Answers:  67%|██████▋   | 108/162 [10:07<04:42,  5.22s/it]"
     ]
    },
    {
     "name": "stdout",
     "output_type": "stream",
     "text": [
      "Processed 108/162 - Category: Both Incorrect\n"
     ]
    },
    {
     "name": "stderr",
     "output_type": "stream",
     "text": [
      "Checking AI Answers:  67%|██████▋   | 109/162 [10:13<04:49,  5.47s/it]"
     ]
    },
    {
     "name": "stdout",
     "output_type": "stream",
     "text": [
      "Processed 109/162 - Category: Both Correct\n"
     ]
    },
    {
     "name": "stderr",
     "output_type": "stream",
     "text": [
      "Checking AI Answers:  68%|██████▊   | 110/162 [10:18<04:31,  5.23s/it]"
     ]
    },
    {
     "name": "stdout",
     "output_type": "stream",
     "text": [
      "Processed 110/162 - Category: Both Correct\n"
     ]
    },
    {
     "name": "stderr",
     "output_type": "stream",
     "text": [
      "Checking AI Answers:  69%|██████▊   | 111/162 [10:24<04:31,  5.32s/it]"
     ]
    },
    {
     "name": "stdout",
     "output_type": "stream",
     "text": [
      "Processed 111/162 - Category: Both Correct\n"
     ]
    },
    {
     "name": "stderr",
     "output_type": "stream",
     "text": [
      "Checking AI Answers:  69%|██████▉   | 112/162 [10:29<04:30,  5.41s/it]"
     ]
    },
    {
     "name": "stdout",
     "output_type": "stream",
     "text": [
      "Processed 112/162 - Category: Both Correct\n"
     ]
    },
    {
     "name": "stderr",
     "output_type": "stream",
     "text": [
      "Checking AI Answers:  70%|██████▉   | 113/162 [10:34<04:18,  5.27s/it]"
     ]
    },
    {
     "name": "stdout",
     "output_type": "stream",
     "text": [
      "Processed 113/162 - Category: Both Incorrect\n"
     ]
    },
    {
     "name": "stderr",
     "output_type": "stream",
     "text": [
      "Checking AI Answers:  70%|███████   | 114/162 [10:40<04:21,  5.45s/it]"
     ]
    },
    {
     "name": "stdout",
     "output_type": "stream",
     "text": [
      "Processed 114/162 - Category: Both Correct\n"
     ]
    },
    {
     "name": "stderr",
     "output_type": "stream",
     "text": [
      "Checking AI Answers:  71%|███████   | 115/162 [10:46<04:17,  5.48s/it]"
     ]
    },
    {
     "name": "stdout",
     "output_type": "stream",
     "text": [
      "Processed 115/162 - Category: Both Correct\n"
     ]
    },
    {
     "name": "stderr",
     "output_type": "stream",
     "text": [
      "Checking AI Answers:  72%|███████▏  | 116/162 [10:50<04:00,  5.24s/it]"
     ]
    },
    {
     "name": "stdout",
     "output_type": "stream",
     "text": [
      "Processed 116/162 - Category: Both Correct\n"
     ]
    },
    {
     "name": "stderr",
     "output_type": "stream",
     "text": [
      "Checking AI Answers:  72%|███████▏  | 117/162 [10:56<04:03,  5.42s/it]"
     ]
    },
    {
     "name": "stdout",
     "output_type": "stream",
     "text": [
      "Processed 117/162 - Category: Both Correct\n"
     ]
    },
    {
     "name": "stderr",
     "output_type": "stream",
     "text": [
      "Checking AI Answers:  73%|███████▎  | 118/162 [11:01<03:49,  5.21s/it]"
     ]
    },
    {
     "name": "stdout",
     "output_type": "stream",
     "text": [
      "Processed 118/162 - Category: Both Correct\n"
     ]
    },
    {
     "name": "stderr",
     "output_type": "stream",
     "text": [
      "Checking AI Answers:  73%|███████▎  | 119/162 [11:06<03:48,  5.32s/it]"
     ]
    },
    {
     "name": "stdout",
     "output_type": "stream",
     "text": [
      "Processed 119/162 - Category: Both Correct\n"
     ]
    },
    {
     "name": "stderr",
     "output_type": "stream",
     "text": [
      "Checking AI Answers:  74%|███████▍  | 120/162 [11:11<03:41,  5.26s/it]"
     ]
    },
    {
     "name": "stdout",
     "output_type": "stream",
     "text": [
      "Processed 120/162 - Category: Both Correct\n"
     ]
    },
    {
     "name": "stderr",
     "output_type": "stream",
     "text": [
      "Checking AI Answers:  75%|███████▍  | 121/162 [11:17<03:38,  5.34s/it]"
     ]
    },
    {
     "name": "stdout",
     "output_type": "stream",
     "text": [
      "Processed 121/162 - Category: Both Correct\n"
     ]
    },
    {
     "name": "stderr",
     "output_type": "stream",
     "text": [
      "Checking AI Answers:  75%|███████▌  | 122/162 [11:22<03:25,  5.13s/it]"
     ]
    },
    {
     "name": "stdout",
     "output_type": "stream",
     "text": [
      "Processed 122/162 - Category: Both Correct\n"
     ]
    },
    {
     "name": "stderr",
     "output_type": "stream",
     "text": [
      "Checking AI Answers:  76%|███████▌  | 123/162 [11:27<03:18,  5.09s/it]"
     ]
    },
    {
     "name": "stdout",
     "output_type": "stream",
     "text": [
      "Processed 123/162 - Category: Both Correct\n"
     ]
    },
    {
     "name": "stderr",
     "output_type": "stream",
     "text": [
      "Checking AI Answers:  77%|███████▋  | 124/162 [11:32<03:19,  5.24s/it]"
     ]
    },
    {
     "name": "stdout",
     "output_type": "stream",
     "text": [
      "Processed 124/162 - Category: Both Correct\n"
     ]
    },
    {
     "name": "stderr",
     "output_type": "stream",
     "text": [
      "Checking AI Answers:  77%|███████▋  | 125/162 [11:38<03:22,  5.48s/it]"
     ]
    },
    {
     "name": "stdout",
     "output_type": "stream",
     "text": [
      "Processed 125/162 - Category: Both Incorrect\n"
     ]
    },
    {
     "name": "stderr",
     "output_type": "stream",
     "text": [
      "Checking AI Answers:  78%|███████▊  | 126/162 [11:44<03:25,  5.70s/it]"
     ]
    },
    {
     "name": "stdout",
     "output_type": "stream",
     "text": [
      "Processed 126/162 - Category: Wrong Answer, Correct Explanation\n"
     ]
    },
    {
     "name": "stderr",
     "output_type": "stream",
     "text": [
      "Checking AI Answers:  78%|███████▊  | 127/162 [11:49<03:12,  5.49s/it]"
     ]
    },
    {
     "name": "stdout",
     "output_type": "stream",
     "text": [
      "Processed 127/162 - Category: Both Correct\n"
     ]
    },
    {
     "name": "stderr",
     "output_type": "stream",
     "text": [
      "Checking AI Answers:  79%|███████▉  | 128/162 [11:54<02:59,  5.27s/it]"
     ]
    },
    {
     "name": "stdout",
     "output_type": "stream",
     "text": [
      "Processed 128/162 - Category: Both Correct\n"
     ]
    },
    {
     "name": "stderr",
     "output_type": "stream",
     "text": [
      "Checking AI Answers:  80%|███████▉  | 129/162 [11:59<02:47,  5.09s/it]"
     ]
    },
    {
     "name": "stdout",
     "output_type": "stream",
     "text": [
      "Processed 129/162 - Category: Both Correct\n"
     ]
    },
    {
     "name": "stderr",
     "output_type": "stream",
     "text": [
      "Checking AI Answers:  80%|████████  | 130/162 [12:04<02:39,  4.97s/it]"
     ]
    },
    {
     "name": "stdout",
     "output_type": "stream",
     "text": [
      "Processed 130/162 - Category: Both Correct\n"
     ]
    },
    {
     "name": "stderr",
     "output_type": "stream",
     "text": [
      "Checking AI Answers:  81%|████████  | 131/162 [12:08<02:31,  4.89s/it]"
     ]
    },
    {
     "name": "stdout",
     "output_type": "stream",
     "text": [
      "Processed 131/162 - Category: Both Correct\n"
     ]
    },
    {
     "name": "stderr",
     "output_type": "stream",
     "text": [
      "Checking AI Answers:  81%|████████▏ | 132/162 [12:13<02:24,  4.83s/it]"
     ]
    },
    {
     "name": "stdout",
     "output_type": "stream",
     "text": [
      "Processed 132/162 - Category: Both Correct\n"
     ]
    },
    {
     "name": "stderr",
     "output_type": "stream",
     "text": [
      "Checking AI Answers:  82%|████████▏ | 133/162 [12:18<02:18,  4.78s/it]"
     ]
    },
    {
     "name": "stdout",
     "output_type": "stream",
     "text": [
      "Processed 133/162 - Category: Both Correct\n"
     ]
    },
    {
     "name": "stderr",
     "output_type": "stream",
     "text": [
      "Checking AI Answers:  83%|████████▎ | 134/162 [12:24<02:24,  5.18s/it]"
     ]
    },
    {
     "name": "stdout",
     "output_type": "stream",
     "text": [
      "Processed 134/162 - Category: Wrong Answer, Correct Explanation\n"
     ]
    },
    {
     "name": "stderr",
     "output_type": "stream",
     "text": [
      "Checking AI Answers:  83%|████████▎ | 135/162 [12:29<02:17,  5.08s/it]"
     ]
    },
    {
     "name": "stdout",
     "output_type": "stream",
     "text": [
      "Processed 135/162 - Category: Both Incorrect\n"
     ]
    },
    {
     "name": "stderr",
     "output_type": "stream",
     "text": [
      "Checking AI Answers:  84%|████████▍ | 136/162 [12:34<02:17,  5.29s/it]"
     ]
    },
    {
     "name": "stdout",
     "output_type": "stream",
     "text": [
      "Processed 136/162 - Category: Wrong Answer, Correct Explanation\n"
     ]
    },
    {
     "name": "stderr",
     "output_type": "stream",
     "text": [
      "Checking AI Answers:  85%|████████▍ | 137/162 [12:39<02:10,  5.22s/it]"
     ]
    },
    {
     "name": "stdout",
     "output_type": "stream",
     "text": [
      "Processed 137/162 - Category: Both Correct\n"
     ]
    },
    {
     "name": "stderr",
     "output_type": "stream",
     "text": [
      "Checking AI Answers:  85%|████████▌ | 138/162 [12:45<02:09,  5.40s/it]"
     ]
    },
    {
     "name": "stdout",
     "output_type": "stream",
     "text": [
      "Processed 138/162 - Category: Both Correct\n"
     ]
    },
    {
     "name": "stderr",
     "output_type": "stream",
     "text": [
      "Checking AI Answers:  86%|████████▌ | 139/162 [12:51<02:05,  5.45s/it]"
     ]
    },
    {
     "name": "stdout",
     "output_type": "stream",
     "text": [
      "Processed 139/162 - Category: Both Correct\n"
     ]
    },
    {
     "name": "stderr",
     "output_type": "stream",
     "text": [
      "Checking AI Answers:  86%|████████▋ | 140/162 [12:56<01:54,  5.23s/it]"
     ]
    },
    {
     "name": "stdout",
     "output_type": "stream",
     "text": [
      "Processed 140/162 - Category: Both Correct\n"
     ]
    },
    {
     "name": "stderr",
     "output_type": "stream",
     "text": [
      "Checking AI Answers:  87%|████████▋ | 141/162 [13:02<01:55,  5.52s/it]"
     ]
    },
    {
     "name": "stdout",
     "output_type": "stream",
     "text": [
      "Processed 141/162 - Category: Wrong Answer, Correct Explanation\n"
     ]
    },
    {
     "name": "stderr",
     "output_type": "stream",
     "text": [
      "Checking AI Answers:  88%|████████▊ | 142/162 [13:07<01:51,  5.55s/it]"
     ]
    },
    {
     "name": "stdout",
     "output_type": "stream",
     "text": [
      "Processed 142/162 - Category: Both Correct\n"
     ]
    },
    {
     "name": "stderr",
     "output_type": "stream",
     "text": [
      "Checking AI Answers:  88%|████████▊ | 143/162 [13:13<01:46,  5.61s/it]"
     ]
    },
    {
     "name": "stdout",
     "output_type": "stream",
     "text": [
      "Processed 143/162 - Category: Both Correct\n"
     ]
    },
    {
     "name": "stderr",
     "output_type": "stream",
     "text": [
      "Checking AI Answers:  89%|████████▉ | 144/162 [13:19<01:40,  5.59s/it]"
     ]
    },
    {
     "name": "stdout",
     "output_type": "stream",
     "text": [
      "Processed 144/162 - Category: Both Correct\n"
     ]
    },
    {
     "name": "stderr",
     "output_type": "stream",
     "text": [
      "Checking AI Answers:  90%|████████▉ | 145/162 [13:33<02:20,  8.28s/it]"
     ]
    },
    {
     "name": "stdout",
     "output_type": "stream",
     "text": [
      "Processed 145/162 - Category: Both Correct\n"
     ]
    },
    {
     "name": "stderr",
     "output_type": "stream",
     "text": [
      "Checking AI Answers:  90%|█████████ | 146/162 [13:39<02:00,  7.52s/it]"
     ]
    },
    {
     "name": "stdout",
     "output_type": "stream",
     "text": [
      "Processed 146/162 - Category: Wrong Answer, Correct Explanation\n"
     ]
    },
    {
     "name": "stderr",
     "output_type": "stream",
     "text": [
      "Checking AI Answers:  91%|█████████ | 147/162 [13:45<01:44,  6.97s/it]"
     ]
    },
    {
     "name": "stdout",
     "output_type": "stream",
     "text": [
      "Processed 147/162 - Category: Both Incorrect\n"
     ]
    },
    {
     "name": "stderr",
     "output_type": "stream",
     "text": [
      "Checking AI Answers:  91%|█████████▏| 148/162 [13:50<01:30,  6.45s/it]"
     ]
    },
    {
     "name": "stdout",
     "output_type": "stream",
     "text": [
      "Processed 148/162 - Category: Wrong Answer, Correct Explanation\n"
     ]
    },
    {
     "name": "stderr",
     "output_type": "stream",
     "text": [
      "Checking AI Answers:  92%|█████████▏| 149/162 [13:56<01:20,  6.21s/it]"
     ]
    },
    {
     "name": "stdout",
     "output_type": "stream",
     "text": [
      "Processed 149/162 - Category: Both Correct\n"
     ]
    },
    {
     "name": "stderr",
     "output_type": "stream",
     "text": [
      "Checking AI Answers:  93%|█████████▎| 150/162 [14:01<01:12,  6.06s/it]"
     ]
    },
    {
     "name": "stdout",
     "output_type": "stream",
     "text": [
      "Processed 150/162 - Category: Both Correct\n"
     ]
    },
    {
     "name": "stderr",
     "output_type": "stream",
     "text": [
      "Checking AI Answers:  93%|█████████▎| 151/162 [14:06<01:03,  5.81s/it]"
     ]
    },
    {
     "name": "stdout",
     "output_type": "stream",
     "text": [
      "Processed 151/162 - Category: Wrong Answer, Correct Explanation\n"
     ]
    },
    {
     "name": "stderr",
     "output_type": "stream",
     "text": [
      "Checking AI Answers:  94%|█████████▍| 152/162 [14:11<00:55,  5.57s/it]"
     ]
    },
    {
     "name": "stdout",
     "output_type": "stream",
     "text": [
      "Processed 152/162 - Category: Both Correct\n"
     ]
    },
    {
     "name": "stderr",
     "output_type": "stream",
     "text": [
      "Checking AI Answers:  94%|█████████▍| 153/162 [14:17<00:50,  5.62s/it]"
     ]
    },
    {
     "name": "stdout",
     "output_type": "stream",
     "text": [
      "Processed 153/162 - Category: Both Correct\n"
     ]
    },
    {
     "name": "stderr",
     "output_type": "stream",
     "text": [
      "Checking AI Answers:  95%|█████████▌| 154/162 [14:23<00:44,  5.61s/it]"
     ]
    },
    {
     "name": "stdout",
     "output_type": "stream",
     "text": [
      "Processed 154/162 - Category: Both Correct\n"
     ]
    },
    {
     "name": "stderr",
     "output_type": "stream",
     "text": [
      "Checking AI Answers:  96%|█████████▌| 155/162 [14:28<00:39,  5.59s/it]"
     ]
    },
    {
     "name": "stdout",
     "output_type": "stream",
     "text": [
      "Processed 155/162 - Category: Both Correct\n"
     ]
    },
    {
     "name": "stderr",
     "output_type": "stream",
     "text": [
      "Checking AI Answers:  96%|█████████▋| 156/162 [14:33<00:32,  5.41s/it]"
     ]
    },
    {
     "name": "stdout",
     "output_type": "stream",
     "text": [
      "Processed 156/162 - Category: Both Correct\n"
     ]
    },
    {
     "name": "stderr",
     "output_type": "stream",
     "text": [
      "Checking AI Answers:  97%|█████████▋| 157/162 [14:38<00:25,  5.18s/it]"
     ]
    },
    {
     "name": "stdout",
     "output_type": "stream",
     "text": [
      "Processed 157/162 - Category: Both Correct\n"
     ]
    },
    {
     "name": "stderr",
     "output_type": "stream",
     "text": [
      "Checking AI Answers:  98%|█████████▊| 158/162 [14:44<00:21,  5.30s/it]"
     ]
    },
    {
     "name": "stdout",
     "output_type": "stream",
     "text": [
      "Processed 158/162 - Category: Both Correct\n"
     ]
    },
    {
     "name": "stderr",
     "output_type": "stream",
     "text": [
      "Checking AI Answers:  98%|█████████▊| 159/162 [14:49<00:16,  5.40s/it]"
     ]
    },
    {
     "name": "stdout",
     "output_type": "stream",
     "text": [
      "Processed 159/162 - Category: Both Correct\n"
     ]
    },
    {
     "name": "stderr",
     "output_type": "stream",
     "text": [
      "Checking AI Answers:  99%|█████████▉| 160/162 [14:54<00:10,  5.21s/it]"
     ]
    },
    {
     "name": "stdout",
     "output_type": "stream",
     "text": [
      "Processed 160/162 - Category: Both Correct\n"
     ]
    },
    {
     "name": "stderr",
     "output_type": "stream",
     "text": [
      "Checking AI Answers:  99%|█████████▉| 161/162 [15:00<00:05,  5.33s/it]"
     ]
    },
    {
     "name": "stdout",
     "output_type": "stream",
     "text": [
      "Processed 161/162 - Category: Both Correct\n"
     ]
    },
    {
     "name": "stderr",
     "output_type": "stream",
     "text": [
      "Checking AI Answers: 100%|██████████| 162/162 [15:05<00:00,  5.59s/it]"
     ]
    },
    {
     "name": "stdout",
     "output_type": "stream",
     "text": [
      "Processed 162/162 - Category: Both Correct\n"
     ]
    },
    {
     "name": "stderr",
     "output_type": "stream",
     "text": [
      "\n"
     ]
    },
    {
     "data": {
      "text/html": [
       "<div>\n",
       "<style scoped>\n",
       "    .dataframe tbody tr th:only-of-type {\n",
       "        vertical-align: middle;\n",
       "    }\n",
       "\n",
       "    .dataframe tbody tr th {\n",
       "        vertical-align: top;\n",
       "    }\n",
       "\n",
       "    .dataframe thead th {\n",
       "        text-align: right;\n",
       "    }\n",
       "</style>\n",
       "<table border=\"1\" class=\"dataframe\">\n",
       "  <thead>\n",
       "    <tr style=\"text-align: right;\">\n",
       "      <th></th>\n",
       "      <th>Unnamed: 0</th>\n",
       "      <th>Question</th>\n",
       "      <th>Solution</th>\n",
       "      <th>Answer</th>\n",
       "      <th>AI Solution</th>\n",
       "      <th>AI Answer</th>\n",
       "      <th>Category</th>\n",
       "      <th>Explanation</th>\n",
       "    </tr>\n",
       "  </thead>\n",
       "  <tbody>\n",
       "    <tr>\n",
       "      <th>0</th>\n",
       "      <td>0</td>\n",
       "      <td>Cho hai số phức $z_1 = 1 + 10i$ và $z_2 = 9 – ...</td>\n",
       "      <td>Ta có: $z = z_1 + z_2 = (1 + 10i) + ( 9 – 2i) ...</td>\n",
       "      <td>10</td>\n",
       "      <td>\\nĐể tìm phần thực của số phức $z_1$ khi biết ...</td>\n",
       "      <td>\\n$\\boxed{1}$\\n</td>\n",
       "      <td>Wrong Answer, Correct Explanation</td>\n",
       "      <td>The AI provided an answer, but it was incorrec...</td>\n",
       "    </tr>\n",
       "    <tr>\n",
       "      <th>1</th>\n",
       "      <td>1</td>\n",
       "      <td>Hãy tính số phức z. Biết rằng: $z = 10i – ( 2 ...</td>\n",
       "      <td>Ta có: $z = 10i - (2 + 2i).i = 10i – 2i + 2 = ...</td>\n",
       "      <td>2 + 8i</td>\n",
       "      <td>\\nĐể tính số phức \\( z \\), ta thực hiện các bư...</td>\n",
       "      <td>\\n\\( z = \\boxed{2 + 8i} \\)\\n</td>\n",
       "      <td>Both Correct</td>\n",
       "      <td>No explanation provided</td>\n",
       "    </tr>\n",
       "    <tr>\n",
       "      <th>2</th>\n",
       "      <td>2</td>\n",
       "      <td>Cho hai số phức $z = -2 + 3yi$; $z’ = ( x + 1)...</td>\n",
       "      <td>Để $z + i = z’ + 2$ =&gt; - 2 + 3yi + i = ( x + 1...</td>\n",
       "      <td>x = -5, y = -5/3</td>\n",
       "      <td>\\nĐể tìm $x, y \\in \\mathbb{R}$ thỏa mãn $z + i...</td>\n",
       "      <td>\\nVậy nghiệm của bài toán là $\\boxed{x = -5}$ ...</td>\n",
       "      <td>Both Correct</td>\n",
       "      <td>No explanation provided</td>\n",
       "    </tr>\n",
       "    <tr>\n",
       "      <th>3</th>\n",
       "      <td>3</td>\n",
       "      <td>Số nào trong các số phức sau là số thuần ảo? A...</td>\n",
       "      <td>Ta xét các phương án:A.(√2 + i) - (1 + √2i)= (...</td>\n",
       "      <td>B. ( 8 + 2i) + (- 8 + 2i)</td>\n",
       "      <td>\\nXét từng phương án:\\n\\n**A.** $(\\sqrt{2} + i...</td>\n",
       "      <td>$\\boxed{B}$</td>\n",
       "      <td>AI Not Generated</td>\n",
       "      <td>No explanation provided</td>\n",
       "    </tr>\n",
       "    <tr>\n",
       "      <th>4</th>\n",
       "      <td>4</td>\n",
       "      <td>Tính giá trị của P = i^{105} + i^{23} + i^{20}...</td>\n",
       "      <td>Ta có: $i^2 = -1 \\Rightarrow i^4 = 1$. Do đó, ...</td>\n",
       "      <td>2</td>\n",
       "      <td>\\nTa có chu kỳ của lũy thừa số phức $i$ là 4:\\...</td>\n",
       "      <td>\\n$\\boxed{2}$\\n</td>\n",
       "      <td>Both Correct</td>\n",
       "      <td>No explanation provided</td>\n",
       "    </tr>\n",
       "    <tr>\n",
       "      <th>...</th>\n",
       "      <td>...</td>\n",
       "      <td>...</td>\n",
       "      <td>...</td>\n",
       "      <td>...</td>\n",
       "      <td>...</td>\n",
       "      <td>...</td>\n",
       "      <td>...</td>\n",
       "      <td>...</td>\n",
       "    </tr>\n",
       "    <tr>\n",
       "      <th>157</th>\n",
       "      <td>157</td>\n",
       "      <td>Gọi (H) là hình phẳng giới hạn bởi các đường y...</td>\n",
       "      <td>Phương trình hoành độ giao điểm:\\n$2x-x^2 = 0 ...</td>\n",
       "      <td>16/15pi</td>\n",
       "      <td>\\nĐể tính thể tích khối tròn xoay tạo bởi hình...</td>\n",
       "      <td>\\n$\\boxed{\\dfrac{16\\pi}{15}}$\\n</td>\n",
       "      <td>Both Correct</td>\n",
       "      <td>No explanation provided</td>\n",
       "    </tr>\n",
       "    <tr>\n",
       "      <th>158</th>\n",
       "      <td>158</td>\n",
       "      <td>Tính thể tích khối tròn xoay được giới hạn bởi...</td>\n",
       "      <td>Thể tích khối tròn xoay được giới hạn bởi các ...</td>\n",
       "      <td>46/15pi</td>\n",
       "      <td>\\nĐể tính thể tích khối tròn xoay tạo bởi các ...</td>\n",
       "      <td>\\nThể tích khối tròn xoay là \\(\\boxed{\\dfrac{4...</td>\n",
       "      <td>Both Correct</td>\n",
       "      <td>No explanation provided</td>\n",
       "    </tr>\n",
       "    <tr>\n",
       "      <th>159</th>\n",
       "      <td>159</td>\n",
       "      <td>Cho hình phẳng giới hạn bởi các đường y=\\sqrt{...</td>\n",
       "      <td>Giải phương trình $\\sqrt{x} = x \\Leftrightarro...</td>\n",
       "      <td>pi/6</td>\n",
       "      <td>\\nĐể tính thể tích khối tròn xoay tạo bởi hình...</td>\n",
       "      <td>\\n$\\boxed{\\dfrac{\\pi}{6}}$\\n</td>\n",
       "      <td>Both Correct</td>\n",
       "      <td>No explanation provided</td>\n",
       "    </tr>\n",
       "    <tr>\n",
       "      <th>160</th>\n",
       "      <td>160</td>\n",
       "      <td>Gọi (H) là hình phẳng giới hạn bởi các đường y...</td>\n",
       "      <td>Thể tích khối tròn xoay được giới hạn bởi các ...</td>\n",
       "      <td>pi - pi^2/4</td>\n",
       "      <td>\\nĐể tính thể tích khối tròn xoay tạo bởi hình...</td>\n",
       "      <td>\\nThể tích khối tròn xoay là $\\boxed{\\pi - \\df...</td>\n",
       "      <td>Both Correct</td>\n",
       "      <td>No explanation provided</td>\n",
       "    </tr>\n",
       "    <tr>\n",
       "      <th>161</th>\n",
       "      <td>161</td>\n",
       "      <td>Tính thể tích khối tròn xoay giới hạn bởi y=ln...</td>\n",
       "      <td>Phương trình hoành độ giao điểm: $lnx=0 \\Leftr...</td>\n",
       "      <td>pi(e-2)</td>\n",
       "      <td>\\nĐể tính thể tích khối tròn xoay tạo bởi $y =...</td>\n",
       "      <td>\\nThể tích khối tròn xoay là $\\boxed{\\pi (e - ...</td>\n",
       "      <td>Both Correct</td>\n",
       "      <td>No explanation provided</td>\n",
       "    </tr>\n",
       "  </tbody>\n",
       "</table>\n",
       "<p>162 rows × 8 columns</p>\n",
       "</div>"
      ],
      "text/plain": [
       "     Unnamed: 0                                           Question  \\\n",
       "0             0  Cho hai số phức $z_1 = 1 + 10i$ và $z_2 = 9 – ...   \n",
       "1             1  Hãy tính số phức z. Biết rằng: $z = 10i – ( 2 ...   \n",
       "2             2  Cho hai số phức $z = -2 + 3yi$; $z’ = ( x + 1)...   \n",
       "3             3  Số nào trong các số phức sau là số thuần ảo? A...   \n",
       "4             4  Tính giá trị của P = i^{105} + i^{23} + i^{20}...   \n",
       "..          ...                                                ...   \n",
       "157         157  Gọi (H) là hình phẳng giới hạn bởi các đường y...   \n",
       "158         158  Tính thể tích khối tròn xoay được giới hạn bởi...   \n",
       "159         159  Cho hình phẳng giới hạn bởi các đường y=\\sqrt{...   \n",
       "160         160  Gọi (H) là hình phẳng giới hạn bởi các đường y...   \n",
       "161         161  Tính thể tích khối tròn xoay giới hạn bởi y=ln...   \n",
       "\n",
       "                                              Solution  \\\n",
       "0    Ta có: $z = z_1 + z_2 = (1 + 10i) + ( 9 – 2i) ...   \n",
       "1    Ta có: $z = 10i - (2 + 2i).i = 10i – 2i + 2 = ...   \n",
       "2    Để $z + i = z’ + 2$ => - 2 + 3yi + i = ( x + 1...   \n",
       "3    Ta xét các phương án:A.(√2 + i) - (1 + √2i)= (...   \n",
       "4    Ta có: $i^2 = -1 \\Rightarrow i^4 = 1$. Do đó, ...   \n",
       "..                                                 ...   \n",
       "157  Phương trình hoành độ giao điểm:\\n$2x-x^2 = 0 ...   \n",
       "158  Thể tích khối tròn xoay được giới hạn bởi các ...   \n",
       "159  Giải phương trình $\\sqrt{x} = x \\Leftrightarro...   \n",
       "160  Thể tích khối tròn xoay được giới hạn bởi các ...   \n",
       "161  Phương trình hoành độ giao điểm: $lnx=0 \\Leftr...   \n",
       "\n",
       "                        Answer  \\\n",
       "0                           10   \n",
       "1                       2 + 8i   \n",
       "2             x = -5, y = -5/3   \n",
       "3    B. ( 8 + 2i) + (- 8 + 2i)   \n",
       "4                            2   \n",
       "..                         ...   \n",
       "157                    16/15pi   \n",
       "158                    46/15pi   \n",
       "159                       pi/6   \n",
       "160                pi - pi^2/4   \n",
       "161                    pi(e-2)   \n",
       "\n",
       "                                           AI Solution  \\\n",
       "0    \\nĐể tìm phần thực của số phức $z_1$ khi biết ...   \n",
       "1    \\nĐể tính số phức \\( z \\), ta thực hiện các bư...   \n",
       "2    \\nĐể tìm $x, y \\in \\mathbb{R}$ thỏa mãn $z + i...   \n",
       "3    \\nXét từng phương án:\\n\\n**A.** $(\\sqrt{2} + i...   \n",
       "4    \\nTa có chu kỳ của lũy thừa số phức $i$ là 4:\\...   \n",
       "..                                                 ...   \n",
       "157  \\nĐể tính thể tích khối tròn xoay tạo bởi hình...   \n",
       "158  \\nĐể tính thể tích khối tròn xoay tạo bởi các ...   \n",
       "159  \\nĐể tính thể tích khối tròn xoay tạo bởi hình...   \n",
       "160  \\nĐể tính thể tích khối tròn xoay tạo bởi hình...   \n",
       "161  \\nĐể tính thể tích khối tròn xoay tạo bởi $y =...   \n",
       "\n",
       "                                             AI Answer  \\\n",
       "0                                      \\n$\\boxed{1}$\\n   \n",
       "1                         \\n\\( z = \\boxed{2 + 8i} \\)\\n   \n",
       "2    \\nVậy nghiệm của bài toán là $\\boxed{x = -5}$ ...   \n",
       "3                                          $\\boxed{B}$   \n",
       "4                                      \\n$\\boxed{2}$\\n   \n",
       "..                                                 ...   \n",
       "157                    \\n$\\boxed{\\dfrac{16\\pi}{15}}$\\n   \n",
       "158  \\nThể tích khối tròn xoay là \\(\\boxed{\\dfrac{4...   \n",
       "159                       \\n$\\boxed{\\dfrac{\\pi}{6}}$\\n   \n",
       "160  \\nThể tích khối tròn xoay là $\\boxed{\\pi - \\df...   \n",
       "161  \\nThể tích khối tròn xoay là $\\boxed{\\pi (e - ...   \n",
       "\n",
       "                              Category  \\\n",
       "0    Wrong Answer, Correct Explanation   \n",
       "1                         Both Correct   \n",
       "2                         Both Correct   \n",
       "3                     AI Not Generated   \n",
       "4                         Both Correct   \n",
       "..                                 ...   \n",
       "157                       Both Correct   \n",
       "158                       Both Correct   \n",
       "159                       Both Correct   \n",
       "160                       Both Correct   \n",
       "161                       Both Correct   \n",
       "\n",
       "                                           Explanation  \n",
       "0    The AI provided an answer, but it was incorrec...  \n",
       "1                              No explanation provided  \n",
       "2                              No explanation provided  \n",
       "3                              No explanation provided  \n",
       "4                              No explanation provided  \n",
       "..                                                 ...  \n",
       "157                            No explanation provided  \n",
       "158                            No explanation provided  \n",
       "159                            No explanation provided  \n",
       "160                            No explanation provided  \n",
       "161                            No explanation provided  \n",
       "\n",
       "[162 rows x 8 columns]"
      ]
     },
     "metadata": {},
     "output_type": "display_data"
    }
   ],
   "source": [
    "import time\n",
    "import re\n",
    "import pandas as pd\n",
    "from tqdm import tqdm\n",
    "\n",
    "# Function to classify AI answer correctness\n",
    "def check_answer(correct_answer, ai_answer):\n",
    "    prompt = (f'''Compare the correct answer '{correct_answer}' with the AI-generated answer '{ai_answer}'. \n",
    "              Categorize the result into one of the following:\n",
    "              1. 'Both Correct' - AI answer is meaningfully correct.\n",
    "              2. 'Both Incorrect' - AI uses incorrect reasoning, both are incorrect.\n",
    "              3. 'Correct Answer, Wrong Explanation' - The answer is correct, but the reasoning is flawed.\n",
    "              4. 'Wrong Answer, Correct Explanation' - The answer is wrong, but the reasoning is valid.\n",
    "              5. 'AI Not Generated' - AI did not produce an answer.\n",
    "              \n",
    "              Be lenient in formatting and minor differences as long as the meaning aligns. \n",
    "              Return only the category and a brief explanation.\n",
    "              ''')\n",
    "\n",
    "    global last_api_call_time\n",
    "\n",
    "    # Enforce rate limit (one request every 4 seconds)\n",
    "    elapsed_time = time.time() - last_api_call_time\n",
    "    if elapsed_time < 4:\n",
    "        time.sleep(4 - elapsed_time)\n",
    "\n",
    "    response = model.generate(prompt)  # API call\n",
    "    last_api_call_time = time.time()\n",
    "\n",
    "    if not response:\n",
    "        return \"AI Not Generated\", \"AI failed to generate a response\"\n",
    "\n",
    "    # Ensure response is a string before applying regex\n",
    "    response = str(response)\n",
    "\n",
    "    match = re.search(r\"(Both Correct|Both Incorrect|Correct Answer, Wrong Explanation|Wrong Answer, Correct Explanation|AI Not Generated)\", response)\n",
    "    explanation_match = re.search(r\"Explanation:\\s*(.*)\", response, re.DOTALL)\n",
    "\n",
    "    category = match.group(1) if match else \"Unknown\"\n",
    "    explanation = explanation_match.group(1).strip() if explanation_match else \"No explanation provided\"\n",
    "\n",
    "    return category, explanation\n",
    "\n",
    "# Initialize rate limit tracking\n",
    "last_api_call_time = time.time()\n",
    "\n",
    "# Ensure necessary columns exist\n",
    "if \"Category\" not in df.columns:\n",
    "    df[\"Category\"] = None\n",
    "if \"Explanation\" not in df.columns:\n",
    "    df[\"Explanation\"] = None\n",
    "\n",
    "# Process only unanswered rows\n",
    "for index, row in tqdm(df.iterrows(), total=df.shape[0], desc=\"Checking AI Answers\"):\n",
    "    if pd.notna(row[\"Category\"]):  # Skip rows already processed\n",
    "        continue\n",
    "    \n",
    "    category, explanation = check_answer(row[\"Answer\"], row[\"AI Answer\"])\n",
    "    df.at[index, \"Category\"] = category\n",
    "    df.at[index, \"Explanation\"] = explanation\n",
    "\n",
    "    print(f\"Processed {index + 1}/{df.shape[0]} - Category: {category}\")  # Progress tracking\n",
    "\n",
    "# Display updated DataFrame\n",
    "display(df)\n"
   ]
  },
  {
   "cell_type": "code",
   "execution_count": 12,
   "metadata": {},
   "outputs": [
    {
     "name": "stdout",
     "output_type": "stream",
     "text": [
      "Statistical Summary of AI Answer Classification:\n",
      "Category\n",
      "Both Correct                         131\n",
      "Wrong Answer, Correct Explanation     18\n",
      "Both Incorrect                         7\n",
      "Correct Answer, Wrong Explanation      5\n",
      "AI Not Generated                       1\n",
      "Name: count, dtype: int64\n",
      "\n",
      "Percentage Distribution:\n",
      "Category\n",
      "Both Correct                         80.864198\n",
      "Wrong Answer, Correct Explanation    11.111111\n",
      "Both Incorrect                        4.320988\n",
      "Correct Answer, Wrong Explanation     3.086420\n",
      "AI Not Generated                      0.617284\n",
      "Name: count, dtype: float64\n"
     ]
    },
    {
     "data": {
      "image/png": "[encoded data removed]",
      "text/plain": [
       "<Figure size 800x500 with 1 Axes>"
      ]
     },
     "metadata": {},
     "output_type": "display_data"
    }
   ],
   "source": [
    "import pandas as pd\n",
    "import matplotlib.pyplot as plt\n",
    "\n",
    "# Count occurrences of each classification category\n",
    "category_counts = df[\"Category\"].value_counts()\n",
    "\n",
    "# Compute percentages\n",
    "category_percentages = (category_counts / len(df)) * 100\n",
    "\n",
    "# Display statistical summary\n",
    "print(\"Statistical Summary of AI Answer Classification:\")\n",
    "print(category_counts)\n",
    "print(\"\\nPercentage Distribution:\")\n",
    "print(category_percentages)\n",
    "\n",
    "# Plot bar chart for better visualization\n",
    "plt.figure(figsize=(8, 5))\n",
    "category_counts.plot(kind=\"bar\", color=[\"green\", \"red\", \"orange\", \"blue\", \"gray\"])\n",
    "plt.xlabel(\"Category\")\n",
    "plt.ylabel(\"Count\")\n",
    "plt.title(\"Distribution of AI Answer Classifications\")\n",
    "plt.xticks(rotation=45)\n",
    "plt.grid(axis=\"y\", linestyle=\"--\", alpha=0.7)\n",
    "plt.show()\n"
   ]
  },
  {
   "cell_type": "code",
   "execution_count": 13,
   "metadata": {},
   "outputs": [],
   "source": [
    "df.to_csv(\"deepseek_r1_test_results.csv\")"
   ]
  },
  {
   "cell_type": "code",
   "execution_count": null,
   "metadata": {},
   "outputs": [],
   "source": []
  },
  {
   "cell_type": "code",
   "execution_count": null,
   "metadata": {},
   "outputs": [],
   "source": []
  }
 ],
 "metadata": {
  "kernelspec": {
   "display_name": "Python 3",
   "language": "python",
   "name": "python3"
  },
  "language_info": {
   "codemirror_mode": {
    "name": "ipython",
    "version": 3
   },
   "file_extension": ".py",
   "mimetype": "text/x-python",
   "name": "python",
   "nbconvert_exporter": "python",
   "pygments_lexer": "ipython3",
   "version": "3.11.9"
  }
 },
 "nbformat": 4,
 "nbformat_minor": 2
}
