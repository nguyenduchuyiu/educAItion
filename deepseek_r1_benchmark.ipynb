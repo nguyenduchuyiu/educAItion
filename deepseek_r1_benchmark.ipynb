{
 "cells": [
  {
   "cell_type": "code",
   "execution_count": 1,
   "metadata": {},
   "outputs": [
    {
     "name": "stdout",
     "output_type": "stream",
     "text": [
      "Total number of questions: 162\n"
     ]
    }
   ],
   "source": [
    "import json\n",
    "\n",
    "with open(\"/home/huy/Project/educAItion/data.json\", \"r\", encoding=\"utf-8\") as file:\n",
    "    data = json.load(file)\n",
    "\n",
    "question_count = sum(len(topic[\"questions\"]) for chapter in data[\"data\"] for topic in chapter[\"topics\"])\n",
    "\n",
    "print(\"Total number of questions:\", question_count)\n"
   ]
  },
  {
   "cell_type": "code",
   "execution_count": 2,
   "metadata": {},
   "outputs": [],
   "source": [
    "\n",
    "\n",
    "PROMPT_text = \"\"\"\n",
    "Hãy giải bài toán theo từng bước, và giải thích bước làm.\n",
    "Hãy trả về kết quả dạng LaTeX cho các công thức toán học (để trong $...$ cho các biểu thức, số), bảng biến thiên, đồ thị,... nếu có.\n",
    "\n",
    "=========\n",
    "Đây là bài toán:\n",
    "{problem}\n",
    "\n",
    "=========\n",
    "\n",
    "LƯU Ý: \n",
    "- Hãy giải bằng cách ngắn gọn, hiệu quả nhất.\n",
    "- Hãy trình bày khoa học và dùng các ký hiệu toán học nếu có thể để thay cho chữ \n",
    "- Ví dụ dùng kí hiệu toán là dấu \"hoặc\", \"và\" khi giải phương trình, bất phương trình; Hay vẽ bảng biến thiên khảo sát hàm số hay xét dấu,.... \n",
    "- Nên xuống dòng khi cần thiết, tránh một dòng quá dài.\n",
    "-Trả về dưới dạng tag : <solution>solution<solution> <answer>answer<answer> trong đó solution là cách giải, anser là kết quả cuối cùng theo yêu cầu bài toán.\n",
    "-Trả về kết quả dưới dạng Latex\n",
    "\"\"\""
   ]
  },
  {
   "cell_type": "code",
   "execution_count": 8,
   "metadata": {},
   "outputs": [],
   "source": [
    "from together import Together\n",
    "import os\n",
    "deepseek_api = \"bc78c30583e4ad9887e42feada1c4ddc320378fc4b44f18d6a9cbdb97ac2ae1c\"\n",
    "client = Together(api_key=deepseek_api)"
   ]
  },
  {
   "cell_type": "code",
   "execution_count": 9,
   "metadata": {},
   "outputs": [],
   "source": [
    "\n",
    "import re\n",
    "import pandas as pd\n",
    "\n",
    "from IPython.display import display, Latex\n",
    "\n",
    "from tqdm import tqdm\n",
    "\n",
    "def get_answer(problem):\n",
    "        response = client.chat.completions.create(\n",
    "                model=\"deepseek-ai/DeepSeek-R1\",\n",
    "                messages=[{\"role\": \"user\", \"content\": PROMPT_text.format(problem=problem)}],\n",
    "                ).choices[0].message.content\n",
    "        if response is None:\n",
    "                return {\"solution\": \"AI failed to generate a solution\", \"answer\": \"AI failed to generate an answer\"}\n",
    "        solution_match = re.search(r\"<solution>(.*?)</solution>\", response, re.DOTALL)\n",
    "        answer_match = re.search(r\"<answer>(.*?)</answer>\", response, re.DOTALL)\n",
    "\n",
    "        # Extracted values or default\n",
    "        solution = solution_match.group(1) if solution_match else \"No solution found\"\n",
    "        answer = answer_match.group(1) if answer_match else \"No answer found\"\n",
    "\n",
    "        return {\"solution\": solution, \"answer\": answer}"
   ]
  },
  {
   "cell_type": "code",
   "execution_count": null,
   "metadata": {},
   "outputs": [
    {
     "name": "stderr",
     "output_type": "stream",
     "text": [
      "Processing Questions:   0%|          | 0/162 [00:00<?, ?it/s]"
     ]
    },
    {
     "data": {
      "text/latex": [
       "\n",
       "Để tìm phần thực của số phức $z_1$ khi biết $z = z_1 + z_2$, ta thực hiện các bước sau:\n",
       "\n",
       "1. **Xác định phần thực của $z_1$:**  \n",
       "   Số phức $z_1$ được cho là $z_1 = 1 + 10i$.  \n",
       "   Dạng tổng quát của số phức là $a + bi$ với $a$ là phần thực.  \n",
       "   → Phần thực của $z_1$ là $1$.\n",
       "\n",
       "2. **Kết luận:**  \n",
       "   Dù $z = z_1 + z_2 = (1 + 9) + (10i - 2i) = 10 + 8i$, phần thực của $z_1$ vẫn không thay đổi và là $1$.\n"
      ],
      "text/plain": [
       "<IPython.core.display.Latex object>"
      ]
     },
     "metadata": {},
     "output_type": "display_data"
    },
    {
     "name": "stderr",
     "output_type": "stream",
     "text": [
      "Processing Questions:   1%|          | 1/162 [01:33<4:11:22, 93.68s/it]"
     ]
    },
    {
     "data": {
      "text/latex": [
       "\n",
       "Để tính số phức \\( z \\), ta thực hiện các bước sau:\n",
       "\n",
       "1. **Tính tích \\( (2 + 2i) \\cdot i \\):**\n",
       "\\[\n",
       "(2 + 2i) \\cdot i = 2i + 2i^2\n",
       "\\]\n",
       "2. **Thay \\( i^2 = -1 \\):**\n",
       "\\[\n",
       "2i + 2(-1) = 2i - 2\n",
       "\\]\n",
       "3. **Thay vào biểu thức của \\( z \\):**\n",
       "\\[\n",
       "z = 10i - (2i - 2) = 10i - 2i + 2\n",
       "\\]\n",
       "4. **Kết hợp các số hạng:**\n",
       "\\[\n",
       "z = 2 + 8i\n",
       "\\]\n"
      ],
      "text/plain": [
       "<IPython.core.display.Latex object>"
      ]
     },
     "metadata": {},
     "output_type": "display_data"
    },
    {
     "name": "stderr",
     "output_type": "stream",
     "text": [
      "Processing Questions:   1%|          | 2/162 [02:32<3:15:34, 73.34s/it]"
     ]
    },
    {
     "data": {
      "text/latex": [
       "\n",
       "Để tìm $x, y \\in \\mathbb{R}$ thỏa mãn $z + i = z' + 2$, ta thực hiện các bước sau:\n",
       "\n",
       "1. **Thay thế các số phức vào phương trình:**\n",
       "   \\[\n",
       "   (-2 + 3yi) + i = (x + 1 - 4i) + 2\n",
       "   \\]\n",
       "\n",
       "2. **Rút gọn hai vế:**\n",
       "   - Vế trái: $-2 + (3y + 1)i$\n",
       "   - Vế phải: $(x + 3) - 4i$\n",
       "\n",
       "3. **Đồng nhất phần thực và phần ảo:**\n",
       "   \\[\n",
       "   \\begin{cases}\n",
       "   -2 = x + 3 & \\text{(phần thực)} \\\\\n",
       "   3y + 1 = -4 & \\text{(phần ảo)}\n",
       "   \\end{cases}\n",
       "   \\]\n",
       "\n",
       "4. **Giải hệ phương trình:**\n",
       "   - Từ phương trình phần thực: $x = -2 - 3 = -5$\n",
       "   - Từ phương trình phần ảo: $3y = -5 \\Rightarrow y = -\\dfrac{5}{3}$\n"
      ],
      "text/plain": [
       "<IPython.core.display.Latex object>"
      ]
     },
     "metadata": {},
     "output_type": "display_data"
    },
    {
     "name": "stderr",
     "output_type": "stream",
     "text": [
      "Processing Questions:   2%|▏         | 3/162 [03:37<3:03:46, 69.35s/it]"
     ]
    },
    {
     "data": {
      "text/latex": [
       "\n",
       "Xét từng phương án:\n",
       "\n",
       "**A.** $(\\sqrt{2} + i) - (1 + \\sqrt{2}i)$  \n",
       "Phần thực: $\\sqrt{2} - 1$  \n",
       "Phần ảo: $1 - \\sqrt{2}$  \n",
       "→ Kết quả: $(\\sqrt{2} - 1) + (1 - \\sqrt{2})i$ (có phần thực $\\neq 0$ → không thuần ảo)\n",
       "\n",
       "**B.** $(8 + 2i) + (-8 + 2i)$  \n",
       "Phần thực: $8 + (-8) = 0$  \n",
       "Phần ảo: $2i + 2i = 4i$  \n",
       "→ Kết quả: $0 + 4i$ (phần thực bằng 0 → thuần ảo)\n",
       "\n",
       "**C.** $(-3 + i) - (3 - i)$  \n",
       "Phần thực: $-3 - 3 = -6$  \n",
       "Phần ảo: $i - (-i) = 2i$  \n",
       "→ Kết quả: $-6 + 2i$ (có phần thực $\\neq 0$ → không thuần ảo)\n",
       "\n",
       "**D.** $(10 + 3i) - (-10 - 3i)$  \n",
       "Phần thực: $10 - (-10) = 20$  \n",
       "Phần ảo: $3i - (-3i) = 6i$  \n",
       "→ Kết quả: $20 + 6i$ (có phần thực $\\neq 0$ → không thuần ảo)\n",
       "\n",
       "Vậy phương án **B** là số thuần ảo.\n"
      ],
      "text/plain": [
       "<IPython.core.display.Latex object>"
      ]
     },
     "metadata": {},
     "output_type": "display_data"
    },
    {
     "name": "stderr",
     "output_type": "stream",
     "text": [
      "Processing Questions:   2%|▏         | 4/162 [04:40<2:55:52, 66.79s/it]"
     ]
    },
    {
     "data": {
      "text/latex": [
       "\n",
       "Ta có chu kỳ của lũy thừa số phức $i$ là 4:\n",
       "\\[\n",
       "i^1 = i,\\quad i^2 = -1,\\quad i^3 = -i,\\quad i^4 = 1\n",
       "\\]\n",
       "Xét từng hạng tử:\n",
       "- $i^{105}$: Vì $105 = 4 \\cdot 26 + 1$ nên $i^{105} = i^{4 \\cdot 26 + 1} = (i^4)^{26} \\cdot i = 1^{26} \\cdot i = i$\n",
       "- $i^{23}$: Vì $23 = 4 \\cdot 5 + 3$ nên $i^{23} = i^{4 \\cdot 5 + 3} = (i^4)^5 \\cdot i^3 = 1^5 \\cdot (-i) = -i$\n",
       "- $i^{20}$: Vì $20 = 4 \\cdot 5$ nên $i^{20} = (i^4)^5 = 1^5 = 1$\n",
       "- $-i^{34}$: Vì $34 = 4 \\cdot 8 + 2$ nên $i^{34} = i^{4 \\cdot 8 + 2} = (i^4)^8 \\cdot i^2 = 1^8 \\cdot (-1) = -1$  \n",
       "$\\Rightarrow -i^{34} = -(-1) = 1$\n",
       "\n",
       "Cộng các kết quả:\n",
       "\\[\n",
       "P = i^{105} + i^{23} + i^{20} - i^{34} = i + (-i) + 1 + 1 = (i - i) + (1 + 1) = 0 + 2 = 2\n",
       "\\]\n"
      ],
      "text/plain": [
       "<IPython.core.display.Latex object>"
      ]
     },
     "metadata": {},
     "output_type": "display_data"
    },
    {
     "name": "stderr",
     "output_type": "stream",
     "text": [
      "Processing Questions:   3%|▎         | 5/162 [05:47<2:54:45, 66.79s/it]"
     ]
    },
    {
     "data": {
      "text/latex": [
       "\n",
       "Đầu tiên, ta rút gọn các phân số phức:\n",
       "\n",
       "\\[\n",
       "\\frac{1+i}{1-i} = \\frac{(1+i)(1+i)}{(1-i)(1+i)} = \\frac{2i}{2} = i\n",
       "\\]\n",
       "\\[\n",
       "\\frac{1-i}{1+i} = \\frac{(1-i)(1-i)}{(1+i)(1-i)} = \\frac{-2i}{2} = -i\n",
       "\\]\n",
       "\n",
       "Thay vào biểu thức \\(A\\):\n",
       "\\[\n",
       "A = i^{2016} + (-i)^{2018}\n",
       "\\]\n",
       "\n",
       "Tính từng số hạng:\n",
       "- Vì \\(i^4 = 1\\), nên \\(i^{2016} = (i^4)^{504} = 1^{504} = 1\\).\n",
       "- \\((-i)^{2018} = (-1)^{2018} \\cdot i^{2018} = 1 \\cdot i^{2018}\\). Do \\(i^{2018} = i^{4 \\cdot 504 + 2} = (i^4)^{504} \\cdot i^2 = 1^{504} \\cdot (-1) = -1\\).\n",
       "\n",
       "Vậy:\n",
       "\\[\n",
       "A = 1 + (-1) = 0\n",
       "\\]\n"
      ],
      "text/plain": [
       "<IPython.core.display.Latex object>"
      ]
     },
     "metadata": {},
     "output_type": "display_data"
    },
    {
     "name": "stderr",
     "output_type": "stream",
     "text": [
      "Processing Questions:   4%|▎         | 6/162 [07:07<3:06:08, 71.60s/it]"
     ]
    },
    {
     "data": {
      "text/latex": [
       "\n",
       "Tổng $P$ là một cấp số nhân với số hạng đầu $a = 1$, công bội $r = i$, và có $2018$ số hạng (từ $i^0$ đến $i^{2017}$). Áp dụng công thức tổng cấp số nhân:\n",
       "\\[\n",
       "P = \\frac{1 - r^{n}}{1 - r} = \\frac{1 - i^{2018}}{1 - i}\n",
       "\\]\n",
       "Tính $i^{2018}$: Vì $i^4 = 1$, ta có $2018 = 4 \\cdot 504 + 2$ nên:\n",
       "\\[\n",
       "i^{2018} = i^{4 \\cdot 504 + 2} = (i^4)^{504} \\cdot i^2 = 1^{504} \\cdot (-1) = -1\n",
       "\\]\n",
       "Thay vào công thức tổng:\n",
       "\\[\n",
       "P = \\frac{1 - (-1)}{1 - i} = \\frac{2}{1 - i}\n",
       "\\]\n",
       "Nhân tử và mẫu với $(1 + i)$:\n",
       "\\[\n",
       "P = \\frac{2(1 + i)}{(1 - i)(1 + i)} = \\frac{2(1 + i)}{1 - i^2} = \\frac{2(1 + i)}{2} = 1 + i\n",
       "\\]\n"
      ],
      "text/plain": [
       "<IPython.core.display.Latex object>"
      ]
     },
     "metadata": {},
     "output_type": "display_data"
    },
    {
     "name": "stderr",
     "output_type": "stream",
     "text": [
      "Processing Questions:   4%|▍         | 7/162 [08:15<3:01:22, 70.21s/it]"
     ]
    },
    {
     "data": {
      "text/latex": [
       "\n",
       "Xét tổng $A = 1 + i^2 + i^4 + \\dots + i^{4k-2} + i^{4k}$ với $k$ là số nguyên dương.\n",
       "\n",
       "Nhận xét:\n",
       "- Các số mũ của $i$ là các số chẵn từ $0$ đến $4k$, tạo thành cấp số cộng với công sai $2$.\n",
       "- Số hạng tổng quát: $i^{2n}$ với $n = 0, 1, 2, \\dots, 2k$.\n",
       "- Số lượng số hạng: $2k + 1$.\n",
       "\n",
       "Biến đổi các số hạng:\n",
       "\\[\n",
       "i^{2n} = (i^2)^n = (-1)^n\n",
       "\\]\n",
       "Do đó, tổng $A$ trở thành:\n",
       "\\[\n",
       "A = \\sum_{n=0}^{2k} (-1)^n\n",
       "\\]\n",
       "Đây là tổng của cấp số nhân với:\n",
       "- Số hạng đầu $a = 1$,\n",
       "- Công bội $r = -1$,\n",
       "- Số lượng số hạng $N = 2k + 1$.\n",
       "\n",
       "Áp dụng công thức tổng cấp số nhân:\n",
       "\\[\n",
       "A = \\frac{a(1 - r^N)}{1 - r} = \\frac{1 \\cdot \\left(1 - (-1)^{2k+1}\\right)}{1 - (-1)} = \\frac{1 - (-1)^{2k+1}}{2}\n",
       "\\]\n",
       "Vì $2k + 1$ là số lẻ nên $(-1)^{2k+1} = -1$:\n",
       "\\[\n",
       "A = \\frac{1 - (-1)}{2} = \\frac{2}{2} = 1\n",
       "\\]\n",
       "\n",
       "**Kết luận:** Tổng $A$ luôn bằng $1$ với mọi số nguyên dương $k$.\n"
      ],
      "text/plain": [
       "<IPython.core.display.Latex object>"
      ]
     },
     "metadata": {},
     "output_type": "display_data"
    },
    {
     "name": "stderr",
     "output_type": "stream",
     "text": [
      "Processing Questions:   5%|▍         | 8/162 [09:31<3:04:48, 72.00s/it]"
     ]
    },
    {
     "data": {
      "text/latex": [
       "\n",
       "Để tìm số phức liên hợp của $z = (3 - 2i)(2 + 3i)$, ta thực hiện các bước sau:\n",
       "\n",
       "**Bước 1:** Thực hiện phép nhân hai số phức:\n",
       "\\[\n",
       "\\begin{aligned}\n",
       "z &= (3 - 2i)(2 + 3i) \\\\\n",
       "&= 3 \\cdot 2 + 3 \\cdot 3i - 2i \\cdot 2 - 2i \\cdot 3i \\\\\n",
       "&= 6 + 9i - 4i - 6i^2 \\\\\n",
       "&= 6 + 5i + 6 \\quad (\\text{vì } i^2 = -1 \\Rightarrow -6i^2 = 6) \\\\\n",
       "&= 12 + 5i.\n",
       "\\end{aligned}\n",
       "\\]\n",
       "\n",
       "**Bước 2:** Tìm số phức liên hợp của $z = 12 + 5i$:\n",
       "\\[\n",
       "\\overline{z} = 12 - 5i.\n",
       "\\]\n"
      ],
      "text/plain": [
       "<IPython.core.display.Latex object>"
      ]
     },
     "metadata": {},
     "output_type": "display_data"
    },
    {
     "name": "stderr",
     "output_type": "stream",
     "text": [
      "Processing Questions:   6%|▌         | 9/162 [10:29<2:52:47, 67.76s/it]"
     ]
    },
    {
     "data": {
      "text/latex": [
       "\n",
       "Cho số phức \\( z = 5 - 3i \\). Số phức liên hợp của \\( z \\) là \\( \\overline{z} = 5 + 3i \\).\n",
       "\n",
       "Ta tính các thành phần:\n",
       "\\[\n",
       "1 + \\overline{z} = 1 + (5 + 3i) = 6 + 3i\n",
       "\\]\n",
       "\\[\n",
       "(\\overline{z})^2 = (5 + 3i)^2 = 5^2 + 2 \\cdot 5 \\cdot 3i + (3i)^2 = 25 + 30i + 9i^2 = 25 + 30i - 9 = 16 + 30i\n",
       "\\]\n",
       "\n",
       "Cộng các kết quả lại:\n",
       "\\[\n",
       "1 + \\overline{z} + (\\overline{z})^2 = (6 + 3i) + (16 + 30i) = 22 + 33i\n",
       "\\]\n"
      ],
      "text/plain": [
       "<IPython.core.display.Latex object>"
      ]
     },
     "metadata": {},
     "output_type": "display_data"
    },
    {
     "name": "stderr",
     "output_type": "stream",
     "text": [
      "Processing Questions:   6%|▌         | 10/162 [11:28<2:44:30, 64.94s/it]"
     ]
    },
    {
     "data": {
      "text/latex": [
       "\n",
       "Giải phương trình để tìm số phức $z$:\n",
       "\n",
       "Phương trình đã cho: \n",
       "\\[\n",
       "(1 + 3i)z - (2 + 5i) = (2 + i)z\n",
       "\\]\n",
       "\n",
       "Chuyển các số hạng chứa $z$ về một vế:\n",
       "\\[\n",
       "(1 + 3i)z - (2 + i)z = 2 + 5i\n",
       "\\]\n",
       "\n",
       "Nhóm hệ số của $z$:\n",
       "\\[\n",
       "\\left[(1 + 3i) - (2 + i)\\right]z = 2 + 5i\n",
       "\\]\n",
       "\n",
       "Tính hệ số:\n",
       "\\[\n",
       "(1 - 2) + (3i - i) = -1 + 2i\n",
       "\\]\n",
       "Phương trình trở thành:\n",
       "\\[\n",
       "(-1 + 2i)z = 2 + 5i\n",
       "\\]\n",
       "\n",
       "Giải $z$:\n",
       "\\[\n",
       "z = \\frac{2 + 5i}{-1 + 2i}\n",
       "\\]\n",
       "Nhân tử và mẫu với liên hợp của mẫu $(-1 - 2i)$:\n",
       "\\[\n",
       "z = \\frac{(2 + 5i)(-1 - 2i)}{(-1)^2 + (2)^2} = \\frac{(2 + 5i)(-1 - 2i)}{5}\n",
       "\\]\n",
       "\n",
       "Tính tử số:\n",
       "\\[\n",
       "(2)(-1) + (2)(-2i) + 5i(-1) + 5i(-2i) = -2 -4i -5i -10i^2 = -2 -9i +10 = 8 -9i\n",
       "\\]\n",
       "Vậy:\n",
       "\\[\n",
       "z = \\frac{8 - 9i}{5} = \\frac{8}{5} - \\frac{9}{5}i\n",
       "\\]\n",
       "\n",
       "Số phức liên hợp của $z$ là:\n",
       "\\[\n",
       "\\overline{z} = \\frac{8}{5} + \\frac{9}{5}i\n",
       "\\]\n"
      ],
      "text/plain": [
       "<IPython.core.display.Latex object>"
      ]
     },
     "metadata": {},
     "output_type": "display_data"
    },
    {
     "name": "stderr",
     "output_type": "stream",
     "text": [
      "Processing Questions:   7%|▋         | 11/162 [12:35<2:45:17, 65.68s/it]"
     ]
    },
    {
     "data": {
      "text/latex": [
       "\n",
       "Giả sử số phức \\( z \\) có dạng \\( z = a + bi \\) với \\( a, b \\in \\mathbb{R} \\). Khi đó, liên hợp của \\( z \\) là \\( \\overline{z} = a - bi \\).\n",
       "\n",
       "Thay vào phương trình đã cho:\n",
       "\\[\n",
       "z + 2i\\overline{z} + 4 = i\n",
       "\\]\n",
       "\\[\n",
       "\\Leftrightarrow (a + bi) + 2i(a - bi) + 4 = i\n",
       "\\]\n",
       "Khai triển và rút gọn:\n",
       "\\[\n",
       "a + bi + 2ai - 2b(i^2) + 4 = i\n",
       "\\]\n",
       "\\[\n",
       "\\Leftrightarrow a + bi + 2ai + 2b + 4 = i \\quad (\\text{vì } i^2 = -1)\n",
       "\\]\n",
       "Nhóm phần thực và phần ảo:\n",
       "\\[\n",
       "(a + 2b + 4) + (b + 2a)i = 0 + 1i\n",
       "\\]\n",
       "Đồng nhất hệ số, ta được hệ phương trình:\n",
       "\\[\n",
       "\\begin{cases}\n",
       "a + 2b + 4 = 0 \\\\\n",
       "b + 2a = 1\n",
       "\\end{cases}\n",
       "\\]\n",
       "Giải hệ:\n",
       "- Từ phương trình thứ nhất: \\( a = -2b - 4 \\)\n",
       "- Thay vào phương trình thứ hai:\n",
       "\\[\n",
       "b + 2(-2b - 4) = 1 \\Leftrightarrow b - 4b - 8 = 1 \\Leftrightarrow -3b = 9 \\Leftrightarrow b = -3\n",
       "\\]\n",
       "Suy ra \\( a = -2(-3) - 4 = 6 - 4 = 2 \\).\n",
       "\n",
       "Vậy số phức cần tìm là \\( z = 2 - 3i \\).\n"
      ],
      "text/plain": [
       "<IPython.core.display.Latex object>"
      ]
     },
     "metadata": {},
     "output_type": "display_data"
    },
    {
     "name": "stderr",
     "output_type": "stream",
     "text": [
      "Processing Questions:   7%|▋         | 12/162 [13:48<2:49:50, 67.93s/it]"
     ]
    },
    {
     "data": {
      "text/latex": [
       "\n",
       "Gọi số phức cần tìm là $z = a + bi$ với $a, b \\in \\mathbb{R}$.\n",
       "\n",
       "Theo đề bài:\n",
       "1. $|z| = \\sqrt{5} \\Rightarrow \\sqrt{a^2 + b^2} = \\sqrt{5} \\Rightarrow a^2 + b^2 = 5$  \n",
       "2. Phần thực bằng 2 lần phần ảo: $a = 2b$  \n",
       "3. Phần thực dương: $a > 0$\n",
       "\n",
       "Thay $a = 2b$ vào phương trình $a^2 + b^2 = 5$:  \n",
       "\\[\n",
       "(2b)^2 + b^2 = 5 \\Rightarrow 4b^2 + b^2 = 5 \\Rightarrow 5b^2 = 5 \\Rightarrow b^2 = 1 \\Rightarrow b = \\pm 1\n",
       "\\]\n",
       "\n",
       "Vì $a = 2b$ và $a > 0$, suy ra $b > 0$. Do đó, $b = 1 \\Rightarrow a = 2 \\cdot 1 = 2$.\n",
       "\n",
       "Vậy số phức cần tìm là $z = 2 + i$.\n"
      ],
      "text/plain": [
       "<IPython.core.display.Latex object>"
      ]
     },
     "metadata": {},
     "output_type": "display_data"
    },
    {
     "name": "stderr",
     "output_type": "stream",
     "text": [
      "Processing Questions:   8%|▊         | 13/162 [14:53<2:46:16, 66.96s/it]"
     ]
    },
    {
     "data": {
      "text/latex": [
       "\n",
       "Gọi số phức $z$ có dạng $z = a + bi$ với $a \\in \\mathbb{Z}$ và $b \\in \\mathbb{R}$. Từ giả thiết:\n",
       "\\[\n",
       "|z| - 2\\overline{z} = -7 + 3i + z\n",
       "\\]\n",
       "Thay $|z| = \\sqrt{a^2 + b^2}$, $\\overline{z} = a - bi$ và $z = a + bi$ vào phương trình:\n",
       "\\[\n",
       "\\sqrt{a^2 + b^2} - 2(a - bi) = -7 + 3i + (a + bi)\n",
       "\\]\n",
       "Tách phần thực và phần ảo:\n",
       "- **Phần thực:** $\\sqrt{a^2 + b^2} - 2a = -7 + a$\n",
       "- **Phần ảo:** $2b = 3 + b \\Rightarrow b = 3$\n",
       "\n",
       "Thay $b = 3$ vào phương trình phần thực:\n",
       "\\[\n",
       "\\sqrt{a^2 + 9} - 2a = a -7 \\Rightarrow \\sqrt{a^2 + 9} = 3a -7\n",
       "\\]\n",
       "Điều kiện $3a -7 \\geq 0 \\Rightarrow a \\geq \\frac{7}{3}$. Vì $a \\in \\mathbb{Z}$ nên $a \\geq 3$. Bình phương hai vế:\n",
       "\\[\n",
       "a^2 + 9 = (3a -7)^2 \\Rightarrow a^2 + 9 = 9a^2 -42a +49 \\Rightarrow 8a^2 -42a +40 =0\n",
       "\\]\n",
       "Giải phương trình:\n",
       "\\[\n",
       "a = \\frac{21 \\pm 11}{8} \\Rightarrow \\left[\\begin{aligned}\n",
       "a &= 4 \\quad (\\text{nhận}) \\\\\n",
       "a &= \\frac{5}{4} \\quad (\\text{loại})\n",
       "\\end{aligned}\\right.\n",
       "\\]\n",
       "Vậy $z = 4 + 3i$. Tính $\\omega = 1 - z + z^2$:\n",
       "\\[\n",
       "z^2 = (4 +3i)^2 = 7 +24i \\quad \\Rightarrow \\quad \\omega = (1 -4 -3i) + (7 +24i) = 4 +21i\n",
       "\\]\n",
       "Môđun của $\\omega$ là:\n",
       "\\[\n",
       "|\\omega| = \\sqrt{4^2 +21^2} = \\sqrt{457}\n",
       "\\]\n"
      ],
      "text/plain": [
       "<IPython.core.display.Latex object>"
      ]
     },
     "metadata": {},
     "output_type": "display_data"
    },
    {
     "name": "stderr",
     "output_type": "stream",
     "text": [
      "Processing Questions:   9%|▊         | 14/162 [16:07<2:50:47, 69.24s/it]"
     ]
    },
    {
     "data": {
      "text/latex": [
       "\n",
       "Cho hai số phức $z_1$ và $z_2$ thỏa mãn $|z_1| = |z_2| = 1$ và $|z_1 + z_2| = \\sqrt{3}$. Áp dụng công thức hình bình hành cho số phức:\n",
       "\\[\n",
       "|z_1 + z_2|^2 + |z_1 - z_2|^2 = 2(|z_1|^2 + |z_2|^2)\n",
       "\\]\n",
       "Thay các giá trị đã cho:\n",
       "\\[\n",
       "(\\sqrt{3})^2 + |z_1 - z_2|^2 = 2(1^2 + 1^2)\n",
       "\\]\n",
       "\\[\n",
       "3 + |z_1 - z_2|^2 = 4\n",
       "\\]\n",
       "Giải phương trình:\n",
       "\\[\n",
       "|z_1 - z_2|^2 = 1 \\implies |z_1 - z_2| = 1\n",
       "\\]\n"
      ],
      "text/plain": [
       "<IPython.core.display.Latex object>"
      ]
     },
     "metadata": {},
     "output_type": "display_data"
    },
    {
     "name": "stderr",
     "output_type": "stream",
     "text": [
      "Processing Questions:   9%|▉         | 15/162 [17:16<2:49:19, 69.11s/it]"
     ]
    },
    {
     "data": {
      "text/latex": [
       "\n",
       "Giả sử số phức $z$ có dạng $z = x + yi$ với $x, y \\in \\mathbb{R}$.\n",
       "\n",
       "**Bước 1:** Từ điều kiện $|z + 3| = 5$, ta có:\n",
       "\\[\n",
       "|(x + 3) + yi| = 5 \\Leftrightarrow \\sqrt{(x + 3)^2 + y^2} = 5\n",
       "\\]\n",
       "Bình phương hai vế:\n",
       "\\[\n",
       "(x + 3)^2 + y^2 = 25 \\quad (1)\n",
       "\\]\n",
       "Đây là phương trình đường tròn tâm $(-3, 0)$, bán kính $5$.\n",
       "\n",
       "**Bước 2:** Từ điều kiện $|z - 2i| = |z - 2 - 2i|$, ta có:\n",
       "\\[\n",
       "|x + (y - 2)i| = |(x - 2) + (y - 2)i|\n",
       "\\]\n",
       "Tính mô-đun:\n",
       "\\[\n",
       "\\sqrt{x^2 + (y - 2)^2} = \\sqrt{(x - 2)^2 + (y - 2)^2}\n",
       "\\]\n",
       "Bình phương hai vế và rút gọn:\n",
       "\\[\n",
       "x^2 = (x - 2)^2 \\Leftrightarrow x^2 = x^2 - 4x + 4 \\Leftrightarrow 4x = 4 \\Leftrightarrow x = 1 \\quad (2)\n",
       "\\]\n",
       "Đây là đường thẳng $x = 1$.\n",
       "\n",
       "**Bước 3:** Thay $x = 1$ vào phương trình (1):\n",
       "\\[\n",
       "(1 + 3)^2 + y^2 = 25 \\Leftrightarrow 16 + y^2 = 25 \\Leftrightarrow y^2 = 9 \\Leftrightarrow y = 3 \\text{ hoặc } y = -3\n",
       "\\]\n",
       "Vậy có hai số phức thỏa mãn là $z = 1 + 3i$ và $z = 1 - 3i$.\n",
       "\n",
       "**Bước 4:** Tính $|z|$:\n",
       "\\[\n",
       "|1 + 3i| = \\sqrt{1^2 + 3^2} = \\sqrt{10}, \\quad |1 - 3i| = \\sqrt{1^2 + (-3)^2} = \\sqrt{10}\n",
       "\\]\n"
      ],
      "text/plain": [
       "<IPython.core.display.Latex object>"
      ]
     },
     "metadata": {},
     "output_type": "display_data"
    },
    {
     "name": "stderr",
     "output_type": "stream",
     "text": [
      "Processing Questions:  10%|▉         | 16/162 [18:31<2:52:32, 70.91s/it]"
     ]
    },
    {
     "data": {
      "text/latex": [
       "\n",
       "Cho số phức $z = 2m + (m + 2)i$ ($m \\in \\mathbb{R}$). Ta cần tìm $z$ sao cho phần thực của $z^2$ bằng $-5$.\n",
       "\n",
       "**Bước 1:** Tính $z^2$:\n",
       "\\[\n",
       "\\begin{aligned}\n",
       "z^2 &= \\left(2m + (m + 2)i\\right)^2 \\\\\n",
       "&= (2m)^2 + 2 \\cdot 2m \\cdot (m + 2)i + \\left((m + 2)i\\right)^2 \\\\\n",
       "&= 4m^2 + 4m(m + 2)i - (m + 2)^2.\n",
       "\\end{aligned}\n",
       "\\]\n",
       "Phần thực của $z^2$ là $4m^2 - (m + 2)^2$.\n",
       "\n",
       "**Bước 2:** Đặt phần thực bằng $-5$:\n",
       "\\[\n",
       "4m^2 - (m + 2)^2 = -5.\n",
       "\\]\n",
       "Khai triển và rút gọn:\n",
       "\\[\n",
       "4m^2 - (m^2 + 4m + 4) = -5 \\implies 3m^2 - 4m - 4 = -5 \\implies 3m^2 - 4m + 1 = 0.\n",
       "\\]\n",
       "\n",
       "**Bước 3:** Giải phương trình bậc hai:\n",
       "\\[\n",
       "\\Delta = (-4)^2 - 4 \\cdot 3 \\cdot 1 = 4 \\implies m = \\frac{4 \\pm 2}{6} \\implies \\left[\\begin{aligned}\n",
       "m &= 1, \\\\\n",
       "m &= \\frac{1}{3}.\n",
       "\\end{aligned}\\right.\n",
       "\\]\n",
       "\n",
       "**Bước 4:** Tìm $z$ tương ứng:\n",
       "- Với $m = 1$: $z = 2(1) + (1 + 2)i = 2 + 3i$.\n",
       "- Với $m = \\dfrac{1}{3}$: $z = 2\\left(\\dfrac{1}{3}\\right) + \\left(\\dfrac{1}{3} + 2\\right)i = \\dfrac{2}{3} + \\dfrac{7}{3}i$.\n",
       "\n",
       "**Kiểm tra:**\n",
       "- $z = 2 + 3i$: $z^2 = -5 + 12i$ (thỏa mãn).\n",
       "- $z = \\dfrac{2}{3} + \\dfrac{7}{3}i$: $z^2 = -5 + \\dfrac{28}{9}i$ (thỏa mãn).\n"
      ],
      "text/plain": [
       "<IPython.core.display.Latex object>"
      ]
     },
     "metadata": {},
     "output_type": "display_data"
    },
    {
     "name": "stderr",
     "output_type": "stream",
     "text": [
      "Processing Questions:  10%|█         | 17/162 [19:45<2:53:05, 71.62s/it]"
     ]
    },
    {
     "data": {
      "text/latex": [
       "\n",
       "Cho hai số phức $z = m + (m-1)i$ và $z' = 2n + (2-3n)i$ ($m, n \\in \\mathbb{R}$). Ta có:\n",
       "\\[\n",
       "z - z' = [m - 2n] + [(m - 1) - (2 - 3n)]i = (m - 2n) + (m + 3n - 3)i\n",
       "\\]\n",
       "Theo đề bài, $z - z' = 1 + 7i$, nên ta có hệ phương trình:\n",
       "\\[\n",
       "\\begin{cases}\n",
       "m - 2n = 1 & \\text{(phần thực)} \\\\\n",
       "m + 3n - 3 = 7 & \\text{(phần ảo)}\n",
       "\\end{cases}\n",
       "\\]\n",
       "Giải hệ phương trình:\n",
       "1. Từ phương trình thứ nhất: $m = 1 + 2n$  \n",
       "2. Thay vào phương trình thứ hai:  \n",
       "\\[\n",
       "(1 + 2n) + 3n - 3 = 7 \\implies 5n - 2 = 7 \\implies 5n = 9 \\implies n = \\dfrac{9}{5}\n",
       "\\]\n",
       "3. Thay $n = \\dfrac{9}{5}$ vào $m = 1 + 2n$:  \n",
       "\\[\n",
       "m = 1 + 2 \\cdot \\dfrac{9}{5} = \\dfrac{23}{5}\n",
       "\\]\n",
       "Vậy $m = \\dfrac{23}{5}$ và $n = \\dfrac{9}{5}$.\n"
      ],
      "text/plain": [
       "<IPython.core.display.Latex object>"
      ]
     },
     "metadata": {},
     "output_type": "display_data"
    },
    {
     "name": "stderr",
     "output_type": "stream",
     "text": [
      "Processing Questions:  11%|█         | 18/162 [20:54<2:50:03, 70.86s/it]"
     ]
    },
    {
     "data": {
      "text/latex": [
       "\n",
       "Giả sử $z = x + yi$ với $x, y \\in \\mathbb{R}$. Thay vào phương trình:\n",
       "\\[\n",
       "z + 3x = 2\\overline{z} - 3i\n",
       "\\]\n",
       "Ta có:\n",
       "\\[\n",
       "(x + yi) + 3x = 2(x - yi) - 3i \\\\\n",
       "\\Leftrightarrow 4x + yi = 2x - 2yi - 3i\n",
       "\\]\n",
       "Tách phần thực và phần ảo:\n",
       "\\[\n",
       "\\begin{cases}\n",
       "4x = 2x \\\\\n",
       "y = -2y - 3\n",
       "\\end{cases}\n",
       "\\]\n",
       "Giải hệ phương trình:\n",
       "- Từ phương trình thực: $4x = 2x \\Rightarrow x = 0$.\n",
       "- Từ phương trình ảo: $y = -2y - 3 \\Rightarrow 3y = -3 \\Rightarrow y = -1$.\n",
       "\n",
       "Vậy $z = 0 - i = -i$. Khi đó:\n",
       "\\[\n",
       "|z| = \\sqrt{0^2 + (-1)^2} = 1\n",
       "\\]\n"
      ],
      "text/plain": [
       "<IPython.core.display.Latex object>"
      ]
     },
     "metadata": {},
     "output_type": "display_data"
    },
    {
     "name": "stderr",
     "output_type": "stream",
     "text": [
      "Processing Questions:  12%|█▏        | 19/162 [21:57<2:43:24, 68.56s/it]"
     ]
    },
    {
     "data": {
      "text/latex": [
       "\n",
       "Gọi số phức $z$ có dạng $z = a + bi$ với $a, b \\in \\mathbb{R}$. Theo đề bài:\n",
       "- Phần ảo gấp ba lần phần thực: $b = 3a$.\n",
       "- Điều kiện $|z| = \\sqrt{10}(z + \\overline{z})$.\n",
       "\n",
       "Thay $b = 3a$ vào $z$, ta được $z = a + 3a i = a(1 + 3i)$.\n",
       "\n",
       "Tính các thành phần:\n",
       "- Môđun: $|z| = \\sqrt{a^2 + (3a)^2} = \\sqrt{10a^2} = |a|\\sqrt{10}$.\n",
       "- $z + \\overline{z} = (a + 3a i) + (a - 3a i) = 2a$.\n",
       "\n",
       "Thay vào phương trình:\n",
       "$$\n",
       "|a|\\sqrt{10} = \\sqrt{10} \\cdot 2a \\quad \\Leftrightarrow \\quad |a| = 2a.\n",
       "$$\n",
       "\n",
       "Giải phương trình $|a| = 2a$:\n",
       "- Nếu $a \\geq 0$: $a = 2a \\Rightarrow a = 0$.\n",
       "- Nếu $a < 0$: $-a = 2a \\Rightarrow 3a = 0 \\Rightarrow a = 0$ (không thỏa $a < 0$).\n",
       "\n",
       "Vậy chỉ có nghiệm $a = 0 \\Rightarrow z = 0$. Do đó, có **1** số phức thỏa mãn.\n"
      ],
      "text/plain": [
       "<IPython.core.display.Latex object>"
      ]
     },
     "metadata": {},
     "output_type": "display_data"
    },
    {
     "name": "stderr",
     "output_type": "stream",
     "text": [
      "Processing Questions:  12%|█▏        | 20/162 [23:24<2:55:44, 74.26s/it]"
     ]
    },
    {
     "data": {
      "text/latex": [
       "\n",
       "Trong mặt phẳng Oxy:\n",
       "- Điểm $A$ biểu diễn số phức $z = 1 + 2i$ nên tọa độ $A(1; 2)$.\n",
       "- Điểm $B$ thuộc đường thẳng $y = 2$ nên tọa độ $B(x; 2)$.\n",
       "\n",
       "Tam giác $OAB$ cân tại $O$ nên $OA = OB$:\n",
       "\\[\n",
       "OA = \\sqrt{(1 - 0)^2 + (2 - 0)^2} = \\sqrt{5}\n",
       "\\]\n",
       "\\[\n",
       "OB = \\sqrt{(x - 0)^2 + (2 - 0)^2} = \\sqrt{x^2 + 4}\n",
       "\\]\n",
       "Giải phương trình $OA = OB$:\n",
       "\\[\n",
       "\\sqrt{5} = \\sqrt{x^2 + 4} \\implies 5 = x^2 + 4 \\implies x^2 = 1 \\implies x = \\pm 1\n",
       "\\]\n",
       "- Với $x = 1$, điểm $B(1; 2)$ trùng với $A$ (loại).\n",
       "- Với $x = -1$, điểm $B(-1; 2)$ thỏa mãn.\n",
       "\n",
       "Vậy số phức biểu diễn điểm $B$ là $z = -1 + 2i$.\n"
      ],
      "text/plain": [
       "<IPython.core.display.Latex object>"
      ]
     },
     "metadata": {},
     "output_type": "display_data"
    },
    {
     "name": "stderr",
     "output_type": "stream",
     "text": [
      "Processing Questions:  13%|█▎        | 21/162 [24:27<2:46:11, 70.72s/it]"
     ]
    },
    {
     "data": {
      "text/latex": [
       "\n",
       "Giải phương trình: $(2 + i)z + 2 - i = 0$\n",
       "\n",
       "**Bước 1:** Chuyển vế hạng tử tự do:\n",
       "$$(2 + i)z = -(2 - i)$$\n",
       "\n",
       "**Bước 2:** Giải tìm $z$ bằng cách chia cả hai vế cho $(2 + i)$:\n",
       "$$z = \\frac{-(2 - i)}{2 + i}$$\n",
       "\n",
       "**Bước 3:** Nhân tử và mẫu với liên hợp của mẫu $(2 - i)$:\n",
       "$$\n",
       "z = \\frac{-(2 - i)(2 - i)}{(2 + i)(2 - i)}\n",
       "$$\n",
       "\n",
       "**Bước 4:** Tính toán mẫu số:\n",
       "$$\n",
       "(2 + i)(2 - i) = 2^2 - i^2 = 4 - (-1) = 5\n",
       "$$\n",
       "\n",
       "**Bước 5:** Khai triển tử số:\n",
       "$$\n",
       "-(2 - i)(2 - i) = -\\left[4 - 2i - 2i + i^2\\right] = -\\left[4 - 4i -1\\right] = -3 + 4i\n",
       "$$\n",
       "\n",
       "**Bước 6:** Kết hợp kết quả:\n",
       "$$\n",
       "z = \\frac{-3 + 4i}{5} = -\\frac{3}{5} + \\frac{4}{5}i\n",
       "$$\n",
       "\n",
       "**Kết luận:** Phần thực của số phức $z$ là $-\\dfrac{3}{5}$.\n"
      ],
      "text/plain": [
       "<IPython.core.display.Latex object>"
      ]
     },
     "metadata": {},
     "output_type": "display_data"
    },
    {
     "name": "stderr",
     "output_type": "stream",
     "text": [
      "Processing Questions:  14%|█▎        | 22/162 [25:34<2:42:48, 69.77s/it]"
     ]
    },
    {
     "data": {
      "text/latex": [
       "\n",
       "Để giải phương trình $iz + 3 - 2i = 1 + i$, ta thực hiện các bước sau:\n",
       "\n",
       "1. **Chuyển vế các hạng tử không chứa $z$**:\n",
       "   \\[\n",
       "   iz = 1 + i - 3 + 2i = -2 + 3i\n",
       "   \\]\n",
       "\n",
       "2. **Giải phương trình cho $z$** bằng cách nhân cả hai vế với $-i$ (nghịch đảo của $i$):\n",
       "   \\[\n",
       "   z = (-2 + 3i) \\cdot (-i)\n",
       "   \\]\n",
       "   \n",
       "3. **Thực hiện phép nhân**:\n",
       "   \\[\n",
       "   z = (-2)(-i) + 3i \\cdot (-i) = 2i - 3i^2\n",
       "   \\]\n",
       "   Vì $i^2 = -1$, nên:\n",
       "   \\[\n",
       "   z = 2i - 3(-1) = 3 + 2i\n",
       "   \\]\n",
       "\n",
       "**Kết luận**: Nghiệm của phương trình là $z = 3 + 2i$.\n"
      ],
      "text/plain": [
       "<IPython.core.display.Latex object>"
      ]
     },
     "metadata": {},
     "output_type": "display_data"
    },
    {
     "name": "stderr",
     "output_type": "stream",
     "text": [
      "Processing Questions:  14%|█▍        | 23/162 [26:43<2:40:44, 69.39s/it]"
     ]
    },
    {
     "data": {
      "text/latex": [
       "\n",
       "Để giải phương trình: $(2 + 4i)z + (4 - 2i)z + 2 - 2i = 0$, ta thực hiện các bước sau:\n",
       "\n",
       "**Bước 1:** Gộp các số hạng chứa $z$:\n",
       "\\[\n",
       "(2 + 4i + 4 - 2i)z + 2 - 2i = 0\n",
       "\\]\n",
       "\\[\n",
       "(6 + 2i)z + 2 - 2i = 0\n",
       "\\]\n",
       "\n",
       "**Bước 2:** Chuyển hạng tử tự do sang vế phải:\n",
       "\\[\n",
       "(6 + 2i)z = - (2 - 2i) = -2 + 2i\n",
       "\\]\n",
       "\n",
       "**Bước 3:** Giải phương trình bằng cách chia cả hai vế cho $(6 + 2i)$:\n",
       "\\[\n",
       "z = \\frac{-2 + 2i}{6 + 2i}\n",
       "\\]\n",
       "Nhân tử và mẫu với liên hợp của mẫu $(6 - 2i)$:\n",
       "\\[\n",
       "z = \\frac{(-2 + 2i)(6 - 2i)}{(6 + 2i)(6 - 2i)}\n",
       "\\]\n",
       "\n",
       "**Bước 4:** Tính toán tử số và mẫu số:\n",
       "- Mẫu số:\n",
       "\\[\n",
       "(6 + 2i)(6 - 2i) = 6^2 - (2i)^2 = 36 - 4(-1) = 40\n",
       "\\]\n",
       "- Tử số:\n",
       "\\[\n",
       "(-2 + 2i)(6 - 2i) = -12 + 4i + 12i - 4i^2 = -12 + 16i + 4 = -8 + 16i\n",
       "\\]\n",
       "\n",
       "**Bước 5:** Rút gọn kết quả:\n",
       "\\[\n",
       "z = \\frac{-8 + 16i}{40} = \\frac{-1}{5} + \\frac{2}{5}i = \\frac{-1 + 2i}{5}\n",
       "\\]\n",
       "\n",
       "**Kiểm tra:** Thay $z = \\frac{-1 + 2i}{5}$ vào phương trình ban đầu, ta thấy thỏa mãn.\n"
      ],
      "text/plain": [
       "<IPython.core.display.Latex object>"
      ]
     },
     "metadata": {},
     "output_type": "display_data"
    },
    {
     "name": "stderr",
     "output_type": "stream",
     "text": [
      "Processing Questions:  15%|█▍        | 24/162 [27:58<2:43:38, 71.15s/it]"
     ]
    },
    {
     "data": {
      "text/latex": [
       "\n",
       "Để giải phương trình $(1 + 2i)z + \\frac{2 + 6i}{1 - i} = 0$, ta thực hiện các bước sau:\n",
       "\n",
       "**Bước 1:** Rút gọn phân số $\\frac{2 + 6i}{1 - i}$ bằng cách nhân tử và mẫu với liên hợp của mẫu:\n",
       "\\[\n",
       "\\frac{2 + 6i}{1 - i} \\cdot \\frac{1 + i}{1 + i} = \\frac{(2 + 6i)(1 + i)}{(1)^2 - (i)^2} = \\frac{(2 + 6i)(1 + i)}{2}\n",
       "\\]\n",
       "Khai triển tử số:\n",
       "\\[\n",
       "(2 + 6i)(1 + i) = 2(1) + 2(i) + 6i(1) + 6i(i) = 2 + 2i + 6i + 6i^2 = 2 + 8i - 6 = -4 + 8i\n",
       "\\]\n",
       "Vậy:\n",
       "\\[\n",
       "\\frac{-4 + 8i}{2} = -2 + 4i\n",
       "\\]\n",
       "\n",
       "**Bước 2:** Thay vào phương trình ban đầu:\n",
       "\\[\n",
       "(1 + 2i)z + (-2 + 4i) = 0 \\implies (1 + 2i)z = 2 - 4i\n",
       "\\]\n",
       "\n",
       "**Bước 3:** Giải phương trình cho $z$ bằng cách chia cả hai vế cho $1 + 2i$:\n",
       "\\[\n",
       "z = \\frac{2 - 4i}{1 + 2i} \\cdot \\frac{1 - 2i}{1 - 2i} = \\frac{(2 - 4i)(1 - 2i)}{(1)^2 - (2i)^2} = \\frac{(2 - 4i)(1 - 2i)}{5}\n",
       "\\]\n",
       "Khai triển tử số:\n",
       "\\[\n",
       "(2 - 4i)(1 - 2i) = 2(1) + 2(-2i) - 4i(1) + (-4i)(-2i) = 2 - 4i - 4i + 8i^2 = 2 - 8i - 8 = -6 - 8i\n",
       "\\]\n",
       "Vậy:\n",
       "\\[\n",
       "z = \\frac{-6 - 8i}{5} = -\\frac{6}{5} - \\frac{8}{5}i\n",
       "\\]\n"
      ],
      "text/plain": [
       "<IPython.core.display.Latex object>"
      ]
     },
     "metadata": {},
     "output_type": "display_data"
    },
    {
     "name": "stderr",
     "output_type": "stream",
     "text": [
      "Processing Questions:  15%|█▌        | 25/162 [29:13<2:45:03, 72.29s/it]"
     ]
    },
    {
     "data": {
      "text/latex": [
       "\n",
       "Phương trình bậc hai $z^2 - z + 1 = 0$ có các hệ số:\n",
       "\\[\n",
       "a = 1,\\quad b = -1,\\quad c = 1\n",
       "\\]\n",
       "Tính biệt thức $\\Delta$:\n",
       "\\[\n",
       "\\Delta = b^2 - 4ac = (-1)^2 - 4 \\cdot 1 \\cdot 1 = 1 - 4 = -3\n",
       "\\]\n",
       "Vì $\\Delta < 0$, phương trình có hai nghiệm phức:\n",
       "\\[\n",
       "z = \\frac{-b \\pm \\sqrt{\\Delta}}{2a} = \\frac{1 \\pm \\sqrt{-3}}{2} = \\frac{1 \\pm i\\sqrt{3}}{2}\n",
       "\\]\n"
      ],
      "text/plain": [
       "<IPython.core.display.Latex object>"
      ]
     },
     "metadata": {},
     "output_type": "display_data"
    },
    {
     "name": "stderr",
     "output_type": "stream",
     "text": [
      "Processing Questions:  16%|█▌        | 26/162 [30:16<2:37:24, 69.44s/it]"
     ]
    },
    {
     "data": {
      "text/latex": [
       "\n",
       "Phương trình: $z^2 + \\sqrt{5} = 0$  \n",
       "$\\Leftrightarrow z^2 = -\\sqrt{5}$  \n",
       "$\\Leftrightarrow z = \\pm \\sqrt{-\\sqrt{5}}$  \n",
       "$\\Leftrightarrow z = \\pm \\sqrt{\\sqrt{5}} \\cdot i$  \n",
       "$\\Leftrightarrow z = \\pm 5^{1/4}i$  \n"
      ],
      "text/plain": [
       "<IPython.core.display.Latex object>"
      ]
     },
     "metadata": {},
     "output_type": "display_data"
    },
    {
     "name": "stderr",
     "output_type": "stream",
     "text": [
      "Processing Questions:  17%|█▋        | 27/162 [31:21<2:33:17, 68.13s/it]"
     ]
    },
    {
     "data": {
      "text/latex": [
       "\n",
       "Phương trình $z^3 - 8 = 0$ tương đương với $z^3 = 8$.  \n",
       "Ta cần tìm các căn bậc ba của 8 trong tập số phức.  \n",
       "Biểu diễn 8 dưới dạng lượng giác:  \n",
       "$8 = 8(\\cos 0 + i \\sin 0)$.  \n",
       "\n",
       "Theo công thức De Moivre, các căn bậc ba của 8 có dạng:  \n",
       "$$\n",
       "z_k = \\sqrt[3]{8} \\left( \\cos \\frac{0 + 2k\\pi}{3} + i \\sin \\frac{0 + 2k\\pi}{3} \\right) \\quad (k = 0, 1, 2)\n",
       "$$\n",
       "\n",
       "Tính toán từng nghiệm:  \n",
       "- Với $k = 0$:  \n",
       "  $z_0 = 2 \\left( \\cos 0 + i \\sin 0 \\right) = 2$.  \n",
       "- Với $k = 1$:  \n",
       "  $z_1 = 2 \\left( \\cos \\frac{2\\pi}{3} + i \\sin \\frac{2\\pi}{3} \\right) = 2 \\left( -\\frac{1}{2} + i \\frac{\\sqrt{3}}{2} \\right) = -1 + i\\sqrt{3}$.  \n",
       "- Với $k = 2$:  \n",
       "  $z_2 = 2 \\left( \\cos \\frac{4\\pi}{3} + i \\sin \\frac{4\\pi}{3} \\right) = 2 \\left( -\\frac{1}{2} - i \\frac{\\sqrt{3}}{2} \\right) = -1 - i\\sqrt{3}$.  \n",
       "\n",
       "**Cách khác:** Phân tích thành nhân tử:  \n",
       "$z^3 - 8 = (z - 2)(z^2 + 2z + 4)$.  \n",
       "Giải phương trình bậc hai $z^2 + 2z + 4 = 0$ bằng công thức nghiệm:  \n",
       "$$\n",
       "z = \\frac{-2 \\pm \\sqrt{(2)^2 - 4 \\cdot 1 \\cdot 4}}{2} = \\frac{-2 \\pm \\sqrt{-12}}{2} = -1 \\pm i\\sqrt{3}.\n",
       "$$\n"
      ],
      "text/plain": [
       "<IPython.core.display.Latex object>"
      ]
     },
     "metadata": {},
     "output_type": "display_data"
    },
    {
     "name": "stderr",
     "output_type": "stream",
     "text": [
      "Processing Questions:  17%|█▋        | 28/162 [32:40<2:39:41, 71.51s/it]"
     ]
    },
    {
     "data": {
      "text/latex": [
       "\n",
       "Giải phương trình bậc hai trong tập số phức $z^2 + 3iz + 4 = 0$:\n",
       "\n",
       "1. **Xác định hệ số:**  \n",
       "   $a = 1$, $b = 3i$, $c = 4$.\n",
       "\n",
       "2. **Tính biệt thức $\\Delta$:**  \n",
       "   \\[\n",
       "   \\Delta = b^2 - 4ac = (3i)^2 - 4 \\cdot 1 \\cdot 4 = 9i^2 - 16 = -9 - 16 = -25\n",
       "   \\]\n",
       "\n",
       "3. **Tính căn bậc hai của $\\Delta$:**  \n",
       "   \\[\n",
       "   \\sqrt{\\Delta} = \\sqrt{-25} = 5i\n",
       "   \\]\n",
       "\n",
       "4. **Áp dụng công thức nghiệm:**  \n",
       "   \\[\n",
       "   z = \\frac{-b \\pm \\sqrt{\\Delta}}{2a} = \\frac{-3i \\pm 5i}{2}\n",
       "   \\]\n",
       "   - **Nghiệm thứ nhất:**  \n",
       "     \\[\n",
       "     z_1 = \\frac{-3i + 5i}{2} = \\frac{2i}{2} = i\n",
       "     \\]\n",
       "   - **Nghiệm thứ hai:**  \n",
       "     \\[\n",
       "     z_2 = \\frac{-3i - 5i}{2} = \\frac{-8i}{2} = -4i\n",
       "     \\]\n",
       "\n",
       "5. **Kiểm tra nghiệm:**  \n",
       "   - Với $z = i$:  \n",
       "     \\[\n",
       "     i^2 + 3i \\cdot i + 4 = -1 - 3 + 4 = 0\n",
       "     \\]\n",
       "   - Với $z = -4i$:  \n",
       "     \\[\n",
       "     (-4i)^2 + 3i \\cdot (-4i) + 4 = -16 + 12 + 4 = 0\n",
       "     \\]\n"
      ],
      "text/plain": [
       "<IPython.core.display.Latex object>"
      ]
     },
     "metadata": {},
     "output_type": "display_data"
    },
    {
     "name": "stderr",
     "output_type": "stream",
     "text": [
      "Processing Questions:  18%|█▊        | 29/162 [33:58<2:42:46, 73.43s/it]"
     ]
    },
    {
     "data": {
      "text/latex": [
       "\n",
       "Để tìm căn bậc hai dạng lượng giác của $z = 1 - i$, ta thực hiện các bước sau:\n",
       "\n",
       "1. **Biểu diễn $z$ dưới dạng lượng giác:**\n",
       "   - Modulus của $z$ là:\n",
       "     \\[\n",
       "     r = |z| = \\sqrt{1^2 + (-1)^2} = \\sqrt{2}\n",
       "     \\]\n",
       "   - Argument của $z$ là:\n",
       "     \\[\n",
       "     \\theta = -\\frac{\\pi}{4} \\quad (\\text{vì } z \\text{ nằm ở góc phần tư thứ IV})\n",
       "     \\]\n",
       "   - Dạng lượng giác của $z$:\n",
       "     \\[\n",
       "     z = \\sqrt{2} \\left[ \\cos\\left(-\\frac{\\pi}{4}\\right) + i \\sin\\left(-\\frac{\\pi}{4}\\right) \\right]\n",
       "     \\]\n",
       "\n",
       "2. **Tìm căn bậc hai dạng lượng giác:**\n",
       "   - Căn bậc hai của $z$ có modulus là $\\sqrt[4]{2}$ và argument là $\\frac{\\theta + 2k\\pi}{2}$ với $k = 0, 1$.\n",
       "   - Với $k = 0$:\n",
       "     \\[\n",
       "     \\alpha_0 = \\frac{-\\frac{\\pi}{4} + 2 \\cdot 0}{2} = -\\frac{\\pi}{8}\n",
       "     \\]\n",
       "     Tuy nhiên, ta biểu diễn góc dương tương đương:\n",
       "     \\[\n",
       "     -\\frac{\\pi}{8} + 2\\pi = \\frac{15\\pi}{8}\n",
       "     \\]\n",
       "   - Với $k = 1$:\n",
       "     \\[\n",
       "     \\alpha_1 = \\frac{-\\frac{\\pi}{4} + 2\\pi}{2} = \\frac{7\\pi}{8}\n",
       "     \\]\n",
       "   - Kết quả hai căn bậc hai dạng lượng giác của $z$:\n",
       "     \\[\n",
       "     \\sqrt[4]{2} \\left[ \\cos\\left(\\frac{7\\pi}{8}\\right) + i \\sin\\left(\\frac{7\\pi}{8}\\right) \\right]\n",
       "     \\]\n",
       "     và\n",
       "     \\[\n",
       "     \\sqrt[4]{2} \\left[ \\cos\\left(\\frac{15\\pi}{8}\\right) + i \\sin\\left(\\frac{15\\pi}{8}\\right) \\right]\n",
       "     \\]\n"
      ],
      "text/plain": [
       "<IPython.core.display.Latex object>"
      ]
     },
     "metadata": {},
     "output_type": "display_data"
    },
    {
     "name": "stderr",
     "output_type": "stream",
     "text": [
      "Processing Questions:  19%|█▊        | 30/162 [35:56<3:10:54, 86.78s/it]"
     ]
    },
    {
     "data": {
      "text/latex": [
       "\n",
       "Giả sử căn bậc hai của $w = -5 + 12i$ là số phức $z = a + bi$ ($a, b \\in \\mathbb{R}$). Khi đó:\n",
       "\\[\n",
       "z^2 = (a + bi)^2 = (a^2 - b^2) + 2abi = -5 + 12i\n",
       "\\]\n",
       "Đồng nhất phần thực và phần ảo, ta có hệ phương trình:\n",
       "\\[\n",
       "\\begin{cases}\n",
       "a^2 - b^2 = -5 \\\\\n",
       "2ab = 12\n",
       "\\end{cases}\n",
       "\\]\n",
       "Từ phương trình thứ hai: $ab = 6 \\Rightarrow b = \\dfrac{6}{a}$. Thay vào phương trình đầu:\n",
       "\\[\n",
       "a^2 - \\left(\\dfrac{6}{a}\\right)^2 = -5 \\Leftrightarrow a^4 + 5a^2 - 36 = 0\n",
       "\\]\n",
       "Đặt $t = a^2 \\geq 0$, phương trình trở thành:\n",
       "\\[\n",
       "t^2 + 5t - 36 = 0 \\Rightarrow t = \\dfrac{-5 \\pm \\sqrt{25 + 144}}{2} = \\dfrac{-5 \\pm 13}{2}\n",
       "\\]\n",
       "Nhận nghiệm $t = 4$ (do $t \\geq 0$), suy ra $a^2 = 4 \\Rightarrow a = \\pm 2$.\n",
       "\n",
       "- Với $a = 2 \\Rightarrow b = \\dfrac{6}{2} = 3$.\n",
       "- Với $a = -2 \\Rightarrow b = \\dfrac{6}{-2} = -3$.\n",
       "\n",
       "Vậy các căn bậc hai của $w$ là $2 + 3i$ và $-2 - 3i$.\n"
      ],
      "text/plain": [
       "<IPython.core.display.Latex object>"
      ]
     },
     "metadata": {},
     "output_type": "display_data"
    },
    {
     "name": "stderr",
     "output_type": "stream",
     "text": [
      "Processing Questions:  19%|█▉        | 31/162 [37:04<2:57:20, 81.23s/it]"
     ]
    },
    {
     "data": {
      "text/latex": [
       "\n",
       "Giả sử căn bậc hai của số phức $z = -3 + 4i$ có dạng $a + bi$ ($a, b \\in \\mathbb{R}$). Khi đó:\n",
       "\\[\n",
       "(a + bi)^2 = -3 + 4i\n",
       "\\]\n",
       "Khai triển vế trái:\n",
       "\\[\n",
       "a^2 - b^2 + 2abi = -3 + 4i\n",
       "\\]\n",
       "Đồng nhất phần thực và phần ảo, ta có hệ phương trình:\n",
       "\\[\n",
       "\\begin{cases}\n",
       "a^2 - b^2 = -3 \\quad (1) \\\\\n",
       "2ab = 4 \\quad (2)\n",
       "\\end{cases}\n",
       "\\]\n",
       "Từ phương trình (2): $ab = 2 \\Rightarrow b = \\dfrac{2}{a}$ (với $a \\neq 0$). Thay vào phương trình (1):\n",
       "\\[\n",
       "a^2 - \\left(\\dfrac{2}{a}\\right)^2 = -3 \\Leftrightarrow a^4 + 3a^2 - 4 = 0\n",
       "\\]\n",
       "Đặt $x = a^2$ ($x \\geq 0$), phương trình trở thành:\n",
       "\\[\n",
       "x^2 + 3x - 4 = 0 \\Leftrightarrow x = 1 \\text{ (nhận) hoặc } x = -4 \\text{ (loại)}\n",
       "\\]\n",
       "Suy ra $a^2 = 1 \\Rightarrow a = \\pm 1$. Thay vào $b = \\dfrac{2}{a}$:\n",
       "\\[\n",
       "\\begin{cases}\n",
       "a = 1 \\Rightarrow b = 2 \\\\\n",
       "a = -1 \\Rightarrow b = -2\n",
       "\\end{cases}\n",
       "\\]\n",
       "Vậy căn bậc hai của $z$ là $1 + 2i$ và $-1 - 2i$.\n"
      ],
      "text/plain": [
       "<IPython.core.display.Latex object>"
      ]
     },
     "metadata": {},
     "output_type": "display_data"
    },
    {
     "name": "stderr",
     "output_type": "stream",
     "text": [
      "Processing Questions:  20%|█▉        | 32/162 [38:14<2:48:41, 77.86s/it]"
     ]
    },
    {
     "data": {
      "text/latex": [
       "\n",
       "Giả sử căn bậc hai của số phức $z = 8 + 6i$ là $w = a + bi$ ($a, b \\in \\mathbb{R}$). Khi đó:\n",
       "\\[\n",
       "w^2 = z \\Leftrightarrow (a + bi)^2 = 8 + 6i\n",
       "\\]\n",
       "Khai triển và đồng nhất phần thực, phần ảo:\n",
       "\\[\n",
       "\\begin{cases}\n",
       "a^2 - b^2 = 8 \\quad (1) \\\\\n",
       "2ab = 6 \\quad \\quad \\quad (2)\n",
       "\\end{cases}\n",
       "\\]\n",
       "Từ (2) suy ra $ab = 3 \\Rightarrow b = \\dfrac{3}{a}$. Thay vào (1):\n",
       "\\[\n",
       "a^2 - \\left(\\dfrac{3}{a}\\right)^2 = 8 \\Leftrightarrow a^4 - 8a^2 - 9 = 0\n",
       "\\]\n",
       "Đặt $t = a^2$ ($t \\geq 0$), phương trình trở thành:\n",
       "\\[\n",
       "t^2 - 8t - 9 = 0 \\Rightarrow t = \\dfrac{8 \\pm \\sqrt{100}}{2} = 9 \\text{ hoặc } -1 \\quad (\\text{loại } t = -1)\n",
       "\\]\n",
       "Suy ra $a^2 = 9 \\Rightarrow a = \\pm 3$. Khi đó:\n",
       "- Với $a = 3 \\Rightarrow b = \\dfrac{3}{3} = 1$\n",
       "- Với $a = -3 \\Rightarrow b = \\dfrac{3}{-3} = -1$\n",
       "\n",
       "Vậy căn bậc hai của $z$ là:\n",
       "\\[\n",
       "\\boxed{3 + i} \\quad \\text{và} \\quad \\boxed{-3 - i}\n",
       "\\]\n"
      ],
      "text/plain": [
       "<IPython.core.display.Latex object>"
      ]
     },
     "metadata": {},
     "output_type": "display_data"
    },
    {
     "name": "stderr",
     "output_type": "stream",
     "text": [
      "Processing Questions:  20%|██        | 33/162 [39:37<2:50:05, 79.11s/it]"
     ]
    },
    {
     "data": {
      "text/latex": [
       "\n",
       "Giả sử căn bậc hai của $z = 3 + 4i$ có dạng $w = a + bi$ ($a, b \\in \\mathbb{R}$). Khi đó:\n",
       "$$\n",
       "w^2 = z \\Leftrightarrow (a + bi)^2 = 3 + 4i\n",
       "$$\n",
       "Khai triển vế trái:\n",
       "$$\n",
       "a^2 + 2abi + (bi)^2 = a^2 - b^2 + 2abi\n",
       "$$\n",
       "Đồng nhất phần thực và phần ảo với $z$, ta có hệ phương trình:\n",
       "\\[\n",
       "\\begin{cases}\n",
       "a^2 - b^2 = 3 \\quad (1) \\\\\n",
       "2ab = 4 \\quad \\quad \\quad (2)\n",
       "\\end{cases}\n",
       "\\]\n",
       "Từ phương trình (2): $ab = 2 \\Rightarrow b = \\dfrac{2}{a}$ (với $a \\neq 0$). Thay vào (1):\n",
       "\\[\n",
       "a^2 - \\left(\\dfrac{2}{a}\\right)^2 = 3 \\Leftrightarrow a^2 - \\dfrac{4}{a^2} = 3\n",
       "\\]\n",
       "Nhân hai vế với $a^2$:\n",
       "\\[\n",
       "a^4 - 3a^2 - 4 = 0\n",
       "\\]\n",
       "Đặt $x = a^2$ ($x \\geq 0$), phương trình trở thành:\n",
       "\\[\n",
       "x^2 - 3x - 4 = 0 \\Leftrightarrow x = \\dfrac{3 \\pm \\sqrt{25}}{2} \\Leftrightarrow \\left[\\begin{aligned}\n",
       "x &= 4 \\\\\n",
       "x &= -1 \\quad (\\text{loại})\n",
       "\\end{aligned}\\right.\n",
       "\\]\n",
       "Suy ra $a^2 = 4 \\Rightarrow a = 2$ hoặc $a = -2$.\n",
       "\n",
       "- Với $a = 2$: $b = \\dfrac{2}{2} = 1$\n",
       "- Với $a = -2$: $b = \\dfrac{2}{-2} = -1$\n",
       "\n",
       "Vậy căn bậc hai của $z$ là $\\boxed{2 + i}$ và $\\boxed{-2 - i}$.\n"
      ],
      "text/plain": [
       "<IPython.core.display.Latex object>"
      ]
     },
     "metadata": {},
     "output_type": "display_data"
    },
    {
     "name": "stderr",
     "output_type": "stream",
     "text": [
      "Processing Questions:  21%|██        | 34/162 [40:51<2:45:31, 77.59s/it]"
     ]
    },
    {
     "data": {
      "text/latex": [
       "\n",
       "Giả sử căn bậc hai của số phức $4 + 6\\sqrt{5}i$ là $z = x + yi$ ($x, y \\in \\mathbb{R}$). Khi đó:\n",
       "\\[\n",
       "z^2 = (x + yi)^2 = x^2 - y^2 + 2xyi = 4 + 6\\sqrt{5}i\n",
       "\\]\n",
       "Đồng nhất phần thực và phần ảo, ta có hệ phương trình:\n",
       "\\[\n",
       "\\begin{cases}\n",
       "x^2 - y^2 = 4 \\\\\n",
       "2xy = 6\\sqrt{5}\n",
       "\\end{cases}\n",
       "\\]\n",
       "Từ phương trình thứ hai, suy ra $xy = 3\\sqrt{5}$. Thay $y = \\dfrac{3\\sqrt{5}}{x}$ vào phương trình đầu:\n",
       "\\[\n",
       "x^2 - \\left(\\dfrac{3\\sqrt{5}}{x}\\right)^2 = 4 \\implies x^2 - \\dfrac{45}{x^2} = 4\n",
       "\\]\n",
       "Nhân hai vế với $x^2$:\n",
       "\\[\n",
       "x^4 - 4x^2 - 45 = 0\n",
       "\\]\n",
       "Đặt $t = x^2 \\geq 0$, phương trình trở thành:\n",
       "\\[\n",
       "t^2 - 4t - 45 = 0 \\implies t = \\dfrac{4 \\pm \\sqrt{196}}{2} = \\dfrac{4 \\pm 14}{2}\n",
       "\\]\n",
       "Suy ra $t = 9$ (vì $t \\geq 0$). Do đó:\n",
       "\\[\n",
       "x^2 = 9 \\implies x = 3 \\text{ hoặc } x = -3\n",
       "\\]\n",
       "- Với $x = 3$: $y = \\dfrac{3\\sqrt{5}}{3} = \\sqrt{5}$\n",
       "- Với $x = -3$: $y = \\dfrac{3\\sqrt{5}}{-3} = -\\sqrt{5}$\n",
       "\n",
       "Vậy các căn bậc hai của $4 + 6\\sqrt{5}i$ là:\n",
       "\\[\n",
       "\\boxed{3 + \\sqrt{5}i} \\quad \\text{và} \\quad \\boxed{-3 - \\sqrt{5}i}\n",
       "\\]\n"
      ],
      "text/plain": [
       "<IPython.core.display.Latex object>"
      ]
     },
     "metadata": {},
     "output_type": "display_data"
    },
    {
     "name": "stderr",
     "output_type": "stream",
     "text": [
      "Processing Questions:  22%|██▏       | 35/162 [42:18<2:50:46, 80.68s/it]"
     ]
    },
    {
     "data": {
      "text/latex": [
       "\n",
       "Giả sử $z = a + bi$ (với $a, b \\in \\mathbb{R}$) là căn bậc hai có phần ảo âm của $33 - 56i$. Khi đó:\n",
       "\\[\n",
       "z^2 = (a + bi)^2 = a^2 - b^2 + 2abi = 33 - 56i\n",
       "\\]\n",
       "Đồng nhất phần thực và phần ảo, ta có hệ phương trình:\n",
       "\\[\n",
       "\\begin{cases}\n",
       "a^2 - b^2 = 33 \\quad (1) \\\\\n",
       "2ab = -56 \\quad (2)\n",
       "\\end{cases}\n",
       "\\]\n",
       "Từ phương trình (2), suy ra $ab = -28$. Vì phần ảo của $z$ âm nên $b < 0$. Thay $b = -\\dfrac{28}{a}$ vào phương trình (1):\n",
       "\\[\n",
       "a^2 - \\left(-\\dfrac{28}{a}\\right)^2 = 33 \\implies a^2 - \\dfrac{784}{a^2} = 33\n",
       "\\]\n",
       "Nhân hai vế với $a^2$:\n",
       "\\[\n",
       "a^4 - 33a^2 - 784 = 0\n",
       "\\]\n",
       "Đặt $x = a^2$ ($x > 0$), phương trình trở thành:\n",
       "\\[\n",
       "x^2 - 33x - 784 = 0 \\implies x = \\dfrac{33 \\pm \\sqrt{33^2 + 4 \\cdot 784}}{2} = \\dfrac{33 \\pm 65}{2}\n",
       "\\]\n",
       "Suy ra $x = 49$ (vì $x = -16$ loại). Do đó:\n",
       "\\[\n",
       "a^2 = 49 \\implies a = \\pm 7\n",
       "\\]\n",
       "Với $a = 7 \\implies b = -\\dfrac{28}{7} = -4$ (thỏa $b < 0$).  \n",
       "Với $a = -7 \\implies b = 4$ (không thỏa $b < 0$).  \n",
       "Vậy phần thực của $z$ là $7$.\n"
      ],
      "text/plain": [
       "<IPython.core.display.Latex object>"
      ]
     },
     "metadata": {},
     "output_type": "display_data"
    },
    {
     "name": "stderr",
     "output_type": "stream",
     "text": [
      "Processing Questions:  22%|██▏       | 36/162 [43:26<2:41:05, 76.71s/it]"
     ]
    },
    {
     "data": {
      "text/latex": [
       "\n",
       "Trong tập số phức $\\mathbb{C}$, căn bậc hai của $-121$ được tìm như sau:\n",
       "\n",
       "Ta có:\n",
       "\\[\n",
       "\\sqrt{-121} = \\sqrt{121 \\cdot (-1)} = \\sqrt{121} \\cdot \\sqrt{-1} = 11i \\quad \\text{hoặc} \\quad -11i\n",
       "\\]\n",
       "(vì $(11i)^2 = 11^2 \\cdot i^2 = 121 \\cdot (-1) = -121$ và tương tự với $(-11i)^2$).\n",
       "\n",
       "Vậy căn bậc hai của $-121$ trong $\\mathbb{C}$ là $11i$ và $-11i$.\n"
      ],
      "text/plain": [
       "<IPython.core.display.Latex object>"
      ]
     },
     "metadata": {},
     "output_type": "display_data"
    },
    {
     "name": "stderr",
     "output_type": "stream",
     "text": [
      "Processing Questions:  23%|██▎       | 37/162 [44:33<2:33:38, 73.74s/it]"
     ]
    },
    {
     "data": {
      "text/latex": [
       "\n",
       "Để tìm các căn bậc hai của $-9$, ta xét số phức $z = a + bi$ ($a, b \\in \\mathbb{R}$) sao cho:\n",
       "\\[\n",
       "z^2 = -9\n",
       "\\]\n",
       "Khai triển $z^2$:\n",
       "\\[\n",
       "(a + bi)^2 = a^2 + 2abi + (bi)^2 = (a^2 - b^2) + 2abi\n",
       "\\]\n",
       "Đồng nhất phần thực và phần ảo với $-9 = -9 + 0i$, ta có hệ phương trình:\n",
       "\\[\n",
       "\\begin{cases}\n",
       "a^2 - b^2 = -9 \\quad \\text{(phần thực)} \\\\\n",
       "2ab = 0 \\quad \\text{(phần ảo)}\n",
       "\\end{cases}\n",
       "\\]\n",
       "Từ phương trình thứ hai:\n",
       "- Nếu $a = 0$, thay vào phương trình đầu: $-b^2 = -9 \\Rightarrow b^2 = 9 \\Rightarrow b = \\pm 3$.\n",
       "- Nếu $b = 0$, thay vào phương trình đầu: $a^2 = -9$ (vô nghiệm vì $a$ là số thực).\n",
       "\n",
       "Vậy các căn bậc hai của $-9$ là:\n",
       "\\[\n",
       "3i \\quad \\text{và} \\quad -3i\n",
       "\\]\n"
      ],
      "text/plain": [
       "<IPython.core.display.Latex object>"
      ]
     },
     "metadata": {},
     "output_type": "display_data"
    },
    {
     "name": "stderr",
     "output_type": "stream",
     "text": [
      "Processing Questions:  23%|██▎       | 38/162 [45:38<2:27:01, 71.14s/it]"
     ]
    },
    {
     "data": {
      "text/latex": [
       "\n",
       "Để viết số phức $z = 6 + 6i$ dưới dạng lượng giác, ta thực hiện các bước sau:\n",
       "\n",
       "1. **Tính môđun của số phức:**\n",
       "   \\[\n",
       "   r = \\sqrt{6^2 + 6^2} = \\sqrt{36 + 36} = \\sqrt{72} = 6\\sqrt{2}\n",
       "   \\]\n",
       "\n",
       "2. **Xác định argument (góc) φ:**\n",
       "   \\[\n",
       "   \\tan \\phi = \\frac{6}{6} = 1 \\implies \\phi = \\arctan(1) = \\frac{\\pi}{4}\n",
       "   \\]\n",
       "   (Vì $z$ nằm ở góc phần tư thứ nhất)\n",
       "\n",
       "3. **Viết dạng lượng giác:**\n",
       "   \\[\n",
       "   z = r \\left( \\cos \\phi + i \\sin \\phi \\right)\n",
       "   \\]\n"
      ],
      "text/plain": [
       "<IPython.core.display.Latex object>"
      ]
     },
     "metadata": {},
     "output_type": "display_data"
    },
    {
     "name": "stderr",
     "output_type": "stream",
     "text": [
      "Processing Questions:  24%|██▍       | 39/162 [46:40<2:20:22, 68.48s/it]"
     ]
    },
    {
     "data": {
      "text/latex": [
       "\n",
       "Để viết số $10$ dưới dạng lượng giác, ta biểu diễn nó như một số phức có dạng $z = r(\\cos \\phi + i \\sin \\phi)$.\n",
       "\n",
       "**Bước 1:** Xác định mô-đun $r$:\n",
       "\\[\n",
       "r = |10| = 10\n",
       "\\]\n",
       "\n",
       "**Bước 2:** Xác định góc $\\phi$ (argument):\n",
       "Vì số $10$ nằm trên trục thực dương trong mặt phẳng phức, góc $\\phi$ tạo với trục Ox là $0$ radian:\n",
       "\\[\n",
       "\\phi = 0\n",
       "\\]\n",
       "\n",
       "**Kết luận:** Số $10$ được viết dưới dạng lượng giác là:\n",
       "\\[\n",
       "10 \\left( \\cos 0 + i \\sin 0 \\right)\n",
       "\\]\n"
      ],
      "text/plain": [
       "<IPython.core.display.Latex object>"
      ]
     },
     "metadata": {},
     "output_type": "display_data"
    },
    {
     "name": "stderr",
     "output_type": "stream",
     "text": [
      "Processing Questions:  25%|██▍       | 40/162 [47:51<2:20:33, 69.13s/it]"
     ]
    },
    {
     "data": {
      "text/latex": [
       "\n",
       "Để viết số $-\\dfrac{\\sqrt{3}}{2}$ dưới dạng lượng giác, ta xem nó như một số phức trên trục thực. Khi đó:\n",
       "\n",
       "- **Môđun** của số phức là:  \n",
       "  \\[\n",
       "  r = \\left| -\\dfrac{\\sqrt{3}}{2} \\right| = \\dfrac{\\sqrt{3}}{2}\n",
       "  \\]\n",
       "\n",
       "- **Argument** (góc) được xác định bởi vị trí của số trên trục thực âm, tương ứng với góc $\\pi$ (180°).  \n",
       "\n",
       "Vậy dạng lượng giác của $-\\dfrac{\\sqrt{3}}{2}$ là:  \n",
       "\\[\n",
       "\\dfrac{\\sqrt{3}}{2} \\left( \\cos \\pi + i \\sin \\pi \\right)\n",
       "\\]\n"
      ],
      "text/plain": [
       "<IPython.core.display.Latex object>"
      ]
     },
     "metadata": {},
     "output_type": "display_data"
    },
    {
     "name": "stderr",
     "output_type": "stream",
     "text": [
      "Processing Questions:  25%|██▌       | 41/162 [50:01<2:56:23, 87.46s/it]"
     ]
    },
    {
     "data": {
      "text/latex": [
       "\n",
       "Để viết số phức $z = \\frac{1}{2 + 2i}$ dưới dạng lượng giác, ta thực hiện các bước sau:\n",
       "\n",
       "**Bước 1:** Rút gọn $z$ về dạng đại số:\n",
       "\\[\n",
       "z = \\frac{1}{2 + 2i} \\cdot \\frac{2 - 2i}{2 - 2i} = \\frac{2 - 2i}{(2)^2 + (2)^2} = \\frac{2 - 2i}{8} = \\frac{1 - i}{4} = \\frac{1}{4} - \\frac{1}{4}i.\n",
       "\\]\n",
       "\n",
       "**Bước 2:** Tính môđun $r$ của $z$:\n",
       "\\[\n",
       "r = \\sqrt{\\left(\\frac{1}{4}\\right)^2 + \\left(-\\frac{1}{4}\\right)^2} = \\sqrt{\\frac{1}{16} + \\frac{1}{16}} = \\sqrt{\\frac{2}{16}} = \\frac{\\sqrt{2}}{4}.\n",
       "\\]\n",
       "\n",
       "**Bước 3:** Xác định argument $\\varphi$ của $z$:\n",
       "Vì $z$ nằm ở góc phần tư thứ IV, ta có:\n",
       "\\[\n",
       "\\tan \\varphi = \\frac{-\\frac{1}{4}}{\\frac{1}{4}} = -1 \\Rightarrow \\varphi = -\\frac{\\pi}{4} \\text{ (hoặc } \\frac{7\\pi}{4} \\text{)}.\n",
       "\\]\n",
       "Chọn $\\varphi = \\frac{7\\pi}{4}$ để đảm bảo $\\varphi \\in [0, 2\\pi)$.\n",
       "\n",
       "**Bước 4:** Biểu diễn $z$ dưới dạng lượng giác:\n",
       "\\[\n",
       "z = \\frac{\\sqrt{2}}{4} \\left( \\cos \\frac{7\\pi}{4} + i \\sin \\frac{7\\pi}{4} \\right).\n",
       "\\]\n"
      ],
      "text/plain": [
       "<IPython.core.display.Latex object>"
      ]
     },
     "metadata": {},
     "output_type": "display_data"
    },
    {
     "name": "stderr",
     "output_type": "stream",
     "text": [
      "Processing Questions:  26%|██▌       | 42/162 [51:14<2:46:15, 83.13s/it]"
     ]
    },
    {
     "data": {
      "text/latex": [
       "\n",
       "Để viết số phức $z = 100i$ dưới dạng lượng giác, ta thực hiện các bước sau:\n",
       "\n",
       "1. **Tính môđun của số phức:**\n",
       "   \\[\n",
       "   r = |z| = \\sqrt{0^2 + 100^2} = \\sqrt{10000} = 100\n",
       "   \\]\n",
       "\n",
       "2. **Xác định argument (góc) $\\theta$:**\n",
       "   Vì $z$ nằm trên trục ảo dương (phần thực bằng $0$, phần ảo dương), nên:\n",
       "   \\[\n",
       "   \\theta = \\frac{\\pi}{2}\n",
       "   \\]\n",
       "\n",
       "3. **Biểu diễn dạng lượng giác:**\n",
       "   \\[\n",
       "   z = r \\left( \\cos \\theta + i \\sin \\theta \\right) = 100 \\left( \\cos \\frac{\\pi}{2} + i \\sin \\frac{\\pi}{2} \\right)\n",
       "   \\]\n"
      ],
      "text/plain": [
       "<IPython.core.display.Latex object>"
      ]
     },
     "metadata": {},
     "output_type": "display_data"
    },
    {
     "name": "stderr",
     "output_type": "stream",
     "text": [
      "Processing Questions:  27%|██▋       | 43/162 [52:18<2:33:47, 77.54s/it]"
     ]
    },
    {
     "data": {
      "text/latex": [
       "\n",
       "**Bước 1: Tính tích hai số phức**\n",
       "\\[\n",
       "(1 - i\\sqrt{3})(1 + i) = 1 \\cdot 1 + 1 \\cdot i - i\\sqrt{3} \\cdot 1 - i\\sqrt{3} \\cdot i = (1 + \\sqrt{3}) + i(1 - \\sqrt{3})\n",
       "\\]\n",
       "\n",
       "**Bước 2: Chuyển từng số phức về dạng lượng giác**\n",
       "- Số phức \\( 1 - i\\sqrt{3} \\):\n",
       "  \\[\n",
       "  r_1 = 2, \\quad \\theta_1 = -\\frac{\\pi}{3} \\quad \\text{(hoặc } \\frac{5\\pi}{3}\\text{)}\n",
       "  \\]\n",
       "  \\[\n",
       "  \\Rightarrow 2\\left(\\cos\\left(-\\frac{\\pi}{3}\\right) + i \\sin\\left(-\\frac{\\pi}{3}\\right)\\right)\n",
       "  \\]\n",
       "  \n",
       "- Số phức \\( 1 + i \\):\n",
       "  \\[\n",
       "  r_2 = \\sqrt{2}, \\quad \\theta_2 = \\frac{\\pi}{4}\n",
       "  \\]\n",
       "  \\[\n",
       "  \\Rightarrow \\sqrt{2}\\left(\\cos\\frac{\\pi}{4} + i \\sin\\frac{\\pi}{4}\\right)\n",
       "  \\]\n",
       "\n",
       "**Bước 3: Nhân hai dạng lượng giác**\n",
       "\\[\n",
       "z = (2 \\cdot \\sqrt{2}) \\left[ \\cos\\left(-\\frac{\\pi}{3} + \\frac{\\pi}{4}\\right) + i \\sin\\left(-\\frac{\\pi}{3} + \\frac{\\pi}{4}\\right) \\right]\n",
       "\\]\n",
       "\\[\n",
       "= 2\\sqrt{2} \\left[ \\cos\\left(-\\frac{\\pi}{12}\\right) + i \\sin\\left(-\\frac{\\pi}{12}\\right) \\right]\n",
       "\\]\n",
       "Đổi góc về dương:\n",
       "\\[\n",
       "= 2\\sqrt{2} \\left[ \\cos\\left(\\frac{23\\pi}{12}\\right) + i \\sin\\left(\\frac{23\\pi}{12}\\right) \\right]\n",
       "\\]\n"
      ],
      "text/plain": [
       "<IPython.core.display.Latex object>"
      ]
     },
     "metadata": {},
     "output_type": "display_data"
    },
    {
     "name": "stderr",
     "output_type": "stream",
     "text": [
      "Processing Questions:  27%|██▋       | 44/162 [53:46<2:38:34, 80.63s/it]"
     ]
    },
    {
     "data": {
      "text/latex": [
       "\n",
       "Để viết số phức $z = \\dfrac{2 + 2i}{1 + \\sqrt{3}i}$ dưới dạng lượng giác, ta thực hiện các bước sau:\n",
       "\n",
       "**Bước 1: Chuyển tử số và mẫu số về dạng lượng giác**\n",
       "- Tử số $2 + 2i$:\n",
       "  - Môđun: $r_1 = \\sqrt{2^2 + 2^2} = 2\\sqrt{2}$\n",
       "  - Argument: $\\theta_1 = \\arctan\\left(\\dfrac{2}{2}\\right) = \\dfrac{\\pi}{4}$\n",
       "  $\\Rightarrow 2 + 2i = 2\\sqrt{2} \\left( \\cos \\dfrac{\\pi}{4} + i \\sin \\dfrac{\\pi}{4} \\right)$\n",
       "\n",
       "- Mẫu số $1 + \\sqrt{3}i$:\n",
       "  - Môđun: $r_2 = \\sqrt{1^2 + (\\sqrt{3})^2} = 2$\n",
       "  - Argument: $\\theta_2 = \\arctan\\left(\\dfrac{\\sqrt{3}}{1}\\right) = \\dfrac{\\pi}{3}$\n",
       "  $\\Rightarrow 1 + \\sqrt{3}i = 2 \\left( \\cos \\dfrac{\\pi}{3} + i \\sin \\dfrac{\\pi}{3} \\right)$\n",
       "\n",
       "**Bước 2: Thực hiện phép chia dạng lượng giác**\n",
       "- Môđun của $z$: $r = \\dfrac{r_1}{r_2} = \\dfrac{2\\sqrt{2}}{2} = \\sqrt{2}$\n",
       "- Argument của $z$: $\\theta = \\theta_1 - \\theta_2 = \\dfrac{\\pi}{4} - \\dfrac{\\pi}{3} = -\\dfrac{\\pi}{12}$  \n",
       "  (Điều chỉnh về góc dương: $-\\dfrac{\\pi}{12} + 2\\pi = \\dfrac{23\\pi}{12}$)\n",
       "\n",
       "**Kết luận**:  \n",
       "Số phức $z$ được viết dưới dạng lượng giác là:\n",
       "$$\n",
       "z = \\sqrt{2} \\left( \\cos \\dfrac{23\\pi}{12} + i \\sin \\dfrac{23\\pi}{12} \\right)\n",
       "$$\n"
      ],
      "text/plain": [
       "<IPython.core.display.Latex object>"
      ]
     },
     "metadata": {},
     "output_type": "display_data"
    },
    {
     "name": "stderr",
     "output_type": "stream",
     "text": [
      "Processing Questions:  28%|██▊       | 45/162 [55:15<2:42:08, 83.15s/it]"
     ]
    },
    {
     "data": {
      "text/latex": [
       "\n",
       "Để viết số phức $z = \\dfrac{3}{10\\sqrt{3} + 10i}$ dưới dạng lượng giác, ta thực hiện các bước sau:\n",
       "\n",
       "**Bước 1:** Rút gọn mẫu số:\n",
       "\\[\n",
       "10\\sqrt{3} + 10i = 10(\\sqrt{3} + i)\n",
       "\\]\n",
       "Suy ra:\n",
       "\\[\n",
       "z = \\dfrac{3}{10(\\sqrt{3} + i)} = \\dfrac{3}{10} \\cdot \\dfrac{1}{\\sqrt{3} + i}\n",
       "\\]\n",
       "\n",
       "**Bước 2:** Biểu diễn $\\sqrt{3} + i$ dưới dạng lượng giác:\n",
       "- Môđun: \n",
       "\\[\n",
       "r = \\sqrt{(\\sqrt{3})^2 + 1^2} = \\sqrt{4} = 2\n",
       "\\]\n",
       "- Argument:\n",
       "\\[\n",
       "\\varphi = \\arctan\\left(\\dfrac{1}{\\sqrt{3}}\\right) = \\dfrac{\\pi}{6}\n",
       "\\]\n",
       "Vậy:\n",
       "\\[\n",
       "\\sqrt{3} + i = 2\\left(\\cos\\dfrac{\\pi}{6} + i\\sin\\dfrac{\\pi}{6}\\right)\n",
       "\\]\n",
       "\n",
       "**Bước 3:** Tính nghịch đảo của $\\sqrt{3} + i$:\n",
       "\\[\n",
       "\\dfrac{1}{\\sqrt{3} + i} = \\dfrac{1}{2}\\left(\\cos\\left(-\\dfrac{\\pi}{6}\\right) + i\\sin\\left(-\\dfrac{\\pi}{6}\\right)\\right)\n",
       "\\]\n",
       "Hoặc viết dưới dạng argument dương:\n",
       "\\[\n",
       "\\cos\\left(-\\dfrac{\\pi}{6}\\right) + i\\sin\\left(-\\dfrac{\\pi}{6}\\right) = \\cos\\dfrac{11\\pi}{6} + i\\sin\\dfrac{11\\pi}{6}\n",
       "\\]\n",
       "\n",
       "**Bước 4:** Thay vào biểu thức của $z$:\n",
       "\\[\n",
       "z = \\dfrac{3}{10} \\cdot \\dfrac{1}{2}\\left(\\cos\\dfrac{11\\pi}{6} + i\\sin\\dfrac{11\\pi}{6}\\right) = \\dfrac{3}{20}\\left(\\cos\\dfrac{11\\pi}{6} + i\\sin\\dfrac{11\\pi}{6}\\right)\n",
       "\\]\n"
      ],
      "text/plain": [
       "<IPython.core.display.Latex object>"
      ]
     },
     "metadata": {},
     "output_type": "display_data"
    },
    {
     "name": "stderr",
     "output_type": "stream",
     "text": [
      "Processing Questions:  28%|██▊       | 46/162 [56:32<2:36:52, 81.14s/it]"
     ]
    },
    {
     "data": {
      "text/latex": [
       "\n",
       "Để viết số phức $z = \\frac{1 - i}{(\\sqrt{3} + i)(2 + 2i)}$ dưới dạng lượng giác, ta thực hiện các bước sau:\n",
       "\n",
       "**Bước 1: Chuyển các số phức ở mẫu về dạng lượng giác**\n",
       "- Xét $\\sqrt{3} + i$:\n",
       "  - Modun: $r_1 = \\sqrt{(\\sqrt{3})^2 + 1^2} = 2$\n",
       "  - Argument: $\\theta_1 = \\arctan\\left(\\frac{1}{\\sqrt{3}}\\right) = \\frac{\\pi}{6}$\n",
       "  $\\Rightarrow \\sqrt{3} + i = 2\\left(\\cos\\frac{\\pi}{6} + i\\sin\\frac{\\pi}{6}\\right)$\n",
       "\n",
       "- Xét $2 + 2i$:\n",
       "  - Modun: $r_2 = \\sqrt{2^2 + 2^2} = 2\\sqrt{2}$\n",
       "  - Argument: $\\theta_2 = \\arctan\\left(\\frac{2}{2}\\right) = \\frac{\\pi}{4}$\n",
       "  $\\Rightarrow 2 + 2i = 2\\sqrt{2}\\left(\\cos\\frac{\\pi}{4} + i\\sin\\frac{\\pi}{4}\\right)$\n",
       "\n",
       "**Bước 2: Nhân hai số phức ở mẫu dưới dạng lượng giác**\n",
       "- Modun mẫu: $R = r_1 \\cdot r_2 = 2 \\cdot 2\\sqrt{2} = 4\\sqrt{2}$\n",
       "- Argument mẫu: $\\theta = \\theta_1 + \\theta_2 = \\frac{\\pi}{6} + \\frac{\\pi}{4} = \\frac{5\\pi}{12}$\n",
       "  $\\Rightarrow (\\sqrt{3} + i)(2 + 2i) = 4\\sqrt{2}\\left(\\cos\\frac{5\\pi}{12} + i\\sin\\frac{5\\pi}{12}\\right)$\n",
       "\n",
       "**Bước 3: Chuyển tử số $1 - i$ về dạng lượng giác**\n",
       "- Modun: $r_3 = \\sqrt{1^2 + (-1)^2} = \\sqrt{2}$\n",
       "- Argument: $\\theta_3 = \\arctan\\left(\\frac{-1}{1}\\right) = \\frac{7\\pi}{4}$\n",
       "  $\\Rightarrow 1 - i = \\sqrt{2}\\left(\\cos\\frac{7\\pi}{4} + i\\sin\\frac{7\\pi}{4}\\right)$\n",
       "\n",
       "**Bước 4: Thực hiện phép chia dưới dạng lượng giác**\n",
       "- Modun của $z$: $\\frac{r_3}{R} = \\frac{\\sqrt{2}}{4\\sqrt{2}} = \\frac{1}{4}$\n",
       "- Argument của $z$: $\\theta_z = \\theta_3 - \\theta = \\frac{7\\pi}{4} - \\frac{5\\pi}{12} = \\frac{21\\pi}{12} - \\frac{5\\pi}{12} = \\frac{16\\pi}{12} = \\frac{4\\pi}{3}$\n",
       "\n",
       "**Kết luận**: Số phức $z$ được viết dưới dạng lượng giác là:\n",
       "$$\n",
       "z = \\frac{1}{4}\\left(\\cos\\frac{4\\pi}{3} + i\\sin\\frac{4\\pi}{3}\\right)\n",
       "$$\n"
      ],
      "text/plain": [
       "<IPython.core.display.Latex object>"
      ]
     },
     "metadata": {},
     "output_type": "display_data"
    },
    {
     "name": "stderr",
     "output_type": "stream",
     "text": [
      "Processing Questions:  29%|██▉       | 47/162 [58:03<2:41:25, 84.22s/it]"
     ]
    },
    {
     "data": {
      "text/latex": [
       "\n",
       "Để viết số phức \\( z = (\\sqrt{2} + \\sqrt{2}i)^{10} \\) dưới dạng lượng giác, ta thực hiện các bước sau:\n",
       "\n",
       "**Bước 1: Biểu diễn \\( \\sqrt{2} + \\sqrt{2}i \\) dưới dạng lượng giác**\n",
       "- **Modulus:** \n",
       "  \\[\n",
       "  r = \\sqrt{(\\sqrt{2})^2 + (\\sqrt{2})^2} = \\sqrt{2 + 2} = \\sqrt{4} = 2\n",
       "  \\]\n",
       "- **Argument:** \n",
       "  \\[\n",
       "  \\theta = \\arctan\\left(\\frac{\\sqrt{2}}{\\sqrt{2}}\\right) = \\arctan(1) = \\frac{\\pi}{4}\n",
       "  \\]\n",
       "  Vậy:\n",
       "  \\[\n",
       "  \\sqrt{2} + \\sqrt{2}i = 2 \\left( \\cos \\frac{\\pi}{4} + i \\sin \\frac{\\pi}{4} \\right)\n",
       "  \\]\n",
       "\n",
       "**Bước 2: Áp dụng công thức Moivre để tính lũy thừa bậc 10**\n",
       "\\[\n",
       "\\left[ 2 \\left( \\cos \\frac{\\pi}{4} + i \\sin \\frac{\\pi}{4} \\right) \\right]^{10} = 2^{10} \\left( \\cos \\left(10 \\cdot \\frac{\\pi}{4}\\right) + i \\sin \\left(10 \\cdot \\frac{\\pi}{4}\\right) \\right)\n",
       "\\]\n",
       "- Tính \\( 2^{10} = 1024 \\)\n",
       "- Tính góc mới:\n",
       "  \\[\n",
       "  10 \\cdot \\frac{\\pi}{4} = \\frac{10\\pi}{4} = \\frac{5\\pi}{2} = 2\\pi + \\frac{\\pi}{2}\n",
       "  \\]\n",
       "  Do hàm cos và sin có chu kỳ \\( 2\\pi \\), nên:\n",
       "  \\[\n",
       "  \\cos \\frac{5\\pi}{2} = \\cos \\frac{\\pi}{2} = 0, \\quad \\sin \\frac{5\\pi}{2} = \\sin \\frac{\\pi}{2} = 1\n",
       "  \\]\n",
       "\n",
       "**Kết quả:**\n",
       "\\[\n",
       "(\\sqrt{2} + \\sqrt{2}i)^{10} = 1024 \\left( \\cos \\frac{\\pi}{2} + i \\sin \\frac{\\pi}{2} \\right)\n",
       "\\]\n"
      ],
      "text/plain": [
       "<IPython.core.display.Latex object>"
      ]
     },
     "metadata": {},
     "output_type": "display_data"
    },
    {
     "name": "stderr",
     "output_type": "stream",
     "text": [
      "Processing Questions:  30%|██▉       | 48/162 [59:15<2:32:54, 80.48s/it]"
     ]
    },
    {
     "data": {
      "text/latex": [
       "\n",
       "Để viết số phức \\( z = \\dfrac{(1 - i)^{10}}{(\\sqrt{3} + i)^9} \\) dưới dạng lượng giác, ta thực hiện các bước sau:\n",
       "\n",
       "**1. Biểu diễn tử số và mẫu số dưới dạng lượng giác:**\n",
       "\n",
       "- **Tử số: \\( (1 - i)^{10} \\):**\n",
       "  - Modulus của \\( 1 - i \\): \\( |1 - i| = \\sqrt{1^2 + (-1)^2} = \\sqrt{2} \\).\n",
       "  - Argument: \\( \\theta_1 = -\\dfrac{\\pi}{4} \\) (vì \\( 1 - i \\) nằm ở góc phần tư thứ IV).\n",
       "  - Dạng lượng giác: \\( 1 - i = \\sqrt{2} \\left( \\cos \\left(-\\dfrac{\\pi}{4}\\right) + i \\sin \\left(-\\dfrac{\\pi}{4}\\right) \\right) \\).\n",
       "  - Áp dụng công thức De Moivre:\n",
       "    \\[\n",
       "    (1 - i)^{10} = \\left( \\sqrt{2} \\right)^{10} \\left[ \\cos \\left(10 \\cdot \\left(-\\dfrac{\\pi}{4}\\right) \\right) + i \\sin \\left(10 \\cdot \\left(-\\dfrac{\\pi}{4}\\right) \\right) \\right]\n",
       "    \\]\n",
       "    \\[\n",
       "    = 2^5 \\left[ \\cos \\left(-\\dfrac{5\\pi}{2}\\right) + i \\sin \\left(-\\dfrac{5\\pi}{2}\\right) \\right]\n",
       "    \\]\n",
       "    Điều chỉnh góc về khoảng \\( [0, 2\\pi) \\):\n",
       "    \\[\n",
       "    -\\dfrac{5\\pi}{2} + 2\\pi \\cdot 2 = \\dfrac{3\\pi}{2}\n",
       "    \\]\n",
       "    Kết quả:\n",
       "    \\[\n",
       "    (1 - i)^{10} = 32 \\left( \\cos \\dfrac{3\\pi}{2} + i \\sin \\dfrac{3\\pi}{2} \\right) = -32i\n",
       "    \\]\n",
       "\n",
       "- **Mẫu số: \\( (\\sqrt{3} + i)^9 \\):**\n",
       "  - Modulus của \\( \\sqrt{3} + i \\): \\( |\\sqrt{3} + i| = \\sqrt{(\\sqrt{3})^2 + 1^2} = 2 \\).\n",
       "  - Argument: \\( \\theta_2 = \\dfrac{\\pi}{6} \\).\n",
       "  - Dạng lượng giác: \\( \\sqrt{3} + i = 2 \\left( \\cos \\dfrac{\\pi}{6} + i \\sin \\dfrac{\\pi}{6} \\right) \\).\n",
       "  - Áp dụng công thức De Moivre:\n",
       "    \\[\n",
       "    (\\sqrt{3} + i)^9 = 2^9 \\left[ \\cos \\left(9 \\cdot \\dfrac{\\pi}{6}\\right) + i \\sin \\left(9 \\cdot \\dfrac{\\pi}{6}\\right) \\right]\n",
       "    \\]\n",
       "    \\[\n",
       "    = 512 \\left[ \\cos \\dfrac{3\\pi}{2} + i \\sin \\dfrac{3\\pi}{2} \\right] = -512i\n",
       "    \\]\n",
       "\n",
       "**2. Thực hiện phép chia:**\n",
       "\\[\n",
       "z = \\dfrac{(1 - i)^{10}}{(\\sqrt{3} + i)^9} = \\dfrac{-32i}{-512i} = \\dfrac{32}{512} = \\dfrac{1}{16}\n",
       "\\]\n",
       "\n",
       "**3. Biểu diễn kết quả dưới dạng lượng giác:**\n",
       "Vì \\( \\dfrac{1}{16} \\) là số thực dương, dạng lượng giác của nó là:\n",
       "\\[\n",
       "\\dfrac{1}{16} \\left( \\cos 0 + i \\sin 0 \\right)\n",
       "\\]\n"
      ],
      "text/plain": [
       "<IPython.core.display.Latex object>"
      ]
     },
     "metadata": {},
     "output_type": "display_data"
    },
    {
     "name": "stderr",
     "output_type": "stream",
     "text": [
      "Processing Questions:  30%|███       | 49/162 [1:01:03<2:47:04, 88.71s/it]"
     ]
    },
    {
     "data": {
      "text/latex": [
       "\n",
       "Để tìm phần ảo của số phức \\( (\\cos \\frac{\\pi}{3} - i \\sin \\frac{\\pi}{3})^5(1 + \\sqrt{3}i)^7 \\), ta thực hiện các bước sau:\n",
       "\n",
       "**Bước 1: Biểu diễn các số phức dưới dạng lượng giác**\n",
       "\n",
       "- Số phức thứ nhất:  \n",
       "  \\( \\cos \\frac{\\pi}{3} - i \\sin \\frac{\\pi}{3} = \\cos(-\\frac{\\pi}{3}) + i \\sin(-\\frac{\\pi}{3}) \\).  \n",
       "  Dạng lượng giác: \\( 1 \\left( \\cos \\left( -\\frac{\\pi}{3} \\right) + i \\sin \\left( -\\frac{\\pi}{3} \\right) \\right) \\).\n",
       "\n",
       "- Số phức thứ hai:  \n",
       "  \\( 1 + \\sqrt{3}i \\) có modulus \\( 2 \\) và argument \\( \\frac{\\pi}{3} \\).  \n",
       "  Dạng lượng giác: \\( 2 \\left( \\cos \\frac{\\pi}{3} + i \\sin \\frac{\\pi}{3} \\right) \\).\n",
       "\n",
       "**Bước 2: Áp dụng công thức De Moivre**\n",
       "\n",
       "- Số phức thứ nhất mũ 5:  \n",
       "  \\[\n",
       "  \\left( \\cos \\left( -\\frac{\\pi}{3} \\right) + i \\sin \\left( -\\frac{\\pi}{3} \\right) \\right)^5 = \\cos \\left( -\\frac{5\\pi}{3} \\right) + i \\sin \\left( -\\frac{5\\pi}{3} \\right).\n",
       "  \\]  \n",
       "  Rút gọn góc: \\( -\\frac{5\\pi}{3} + 2\\pi = \\frac{\\pi}{3} \\).  \n",
       "  Kết quả: \\( \\cos \\frac{\\pi}{3} + i \\sin \\frac{\\pi}{3} \\).\n",
       "\n",
       "- Số phức thứ hai mũ 7:  \n",
       "  \\[\n",
       "  \\left( 2 \\left( \\cos \\frac{\\pi}{3} + i \\sin \\frac{\\pi}{3} \\right) \\right)^7 = 2^7 \\left( \\cos \\frac{7\\pi}{3} + i \\sin \\frac{7\\pi}{3} \\right).\n",
       "  \\]  \n",
       "  Rút gọn góc: \\( \\frac{7\\pi}{3} - 2\\pi = \\frac{\\pi}{3} \\).  \n",
       "  Kết quả: \\( 128 \\left( \\cos \\frac{\\pi}{3} + i \\sin \\frac{\\pi}{3} \\right) \\).\n",
       "\n",
       "**Bước 3: Nhân hai kết quả**\n",
       "\n",
       "Tích của hai số phức:  \n",
       "\\[\n",
       "\\left( \\cos \\frac{\\pi}{3} + i \\sin \\frac{\\pi}{3} \\right) \\cdot 128 \\left( \\cos \\frac{\\pi}{3} + i \\sin \\frac{\\pi}{3} \\right) = 128 \\left( \\cos \\frac{2\\pi}{3} + i \\sin \\frac{2\\pi}{3} \\right).\n",
       "\\]\n",
       "\n",
       "**Bước 4: Tính phần ảo**\n",
       "\n",
       "- \\( \\cos \\frac{2\\pi}{3} = -\\frac{1}{2} \\), \\( \\sin \\frac{2\\pi}{3} = \\frac{\\sqrt{3}}{2} \\).  \n",
       "- Phần ảo của số phức:  \n",
       "  \\[\n",
       "  128 \\cdot \\frac{\\sqrt{3}}{2} = 64\\sqrt{3}.\n",
       "  \\]\n"
      ],
      "text/plain": [
       "<IPython.core.display.Latex object>"
      ]
     },
     "metadata": {},
     "output_type": "display_data"
    },
    {
     "name": "stderr",
     "output_type": "stream",
     "text": [
      "Processing Questions:  31%|███       | 50/162 [1:02:26<2:42:35, 87.10s/it]"
     ]
    },
    {
     "data": {
      "text/latex": [
       "\n",
       "Để tính giá trị của biểu thức số phức $\\frac{(1 - i)^{10}(\\sqrt{3} + i)^5}{(-1 - i\\sqrt{3})^{10}}$, ta chuyển các số phức về dạng lượng giác và áp dụng công thức Moivre.\n",
       "\n",
       "**Bước 1: Chuyển các số phức về dạng lượng giác**\n",
       "- $(1 - i)$ có môđun $r = \\sqrt{1^2 + (-1)^2} = \\sqrt{2}$ và acgumen $\\theta = -\\frac{\\pi}{4}$ (góc phần tư IV).  \n",
       "  $\\Rightarrow 1 - i = \\sqrt{2} \\left[ \\cos\\left(-\\frac{\\pi}{4}\\right) + i\\sin\\left(-\\frac{\\pi}{4}\\right) \\right]$.\n",
       "\n",
       "- $(\\sqrt{3} + i)$ có môđun $r = \\sqrt{(\\sqrt{3})^2 + 1^2} = 2$ và acgumen $\\theta = \\frac{\\pi}{6}$ (góc phần tư I).  \n",
       "  $\\Rightarrow \\sqrt{3} + i = 2 \\left( \\cos\\frac{\\pi}{6} + i\\sin\\frac{\\pi}{6} \\right)$.\n",
       "\n",
       "- $(-1 - i\\sqrt{3})$ có môđun $r = \\sqrt{(-1)^2 + (-\\sqrt{3})^2} = 2$ và acgumen $\\theta = \\frac{4\\pi}{3}$ (góc phần tư III).  \n",
       "  $\\Rightarrow -1 - i\\sqrt{3} = 2 \\left( \\cos\\frac{4\\pi}{3} + i\\sin\\frac{4\\pi}{3} \\right)$.\n",
       "\n",
       "**Bước 2: Áp dụng công thức Moivre để tính lũy thừa**\n",
       "- $(1 - i)^{10} = \\left( \\sqrt{2} \\right)^{10} \\left[ \\cos\\left(-10 \\cdot \\frac{\\pi}{4}\\right) + i\\sin\\left(-10 \\cdot \\frac{\\pi}{4}\\right) \\right] = 2^5 \\left[ \\cos\\left(-\\frac{5\\pi}{2}\\right) + i\\sin\\left(-\\frac{5\\pi}{2}\\right) \\right] = 32 \\left( \\cos\\frac{3\\pi}{2} + i\\sin\\frac{3\\pi}{2} \\right)$.\n",
       "\n",
       "- $(\\sqrt{3} + i)^5 = 2^5 \\left[ \\cos\\left(5 \\cdot \\frac{\\pi}{6}\\right) + i\\sin\\left(5 \\cdot \\frac{\\pi}{6}\\right) \\right] = 32 \\left( \\cos\\frac{5\\pi}{6} + i\\sin\\frac{5\\pi}{6} \\right)$.\n",
       "\n",
       "- $(-1 - i\\sqrt{3})^{10} = 2^{10} \\left[ \\cos\\left(10 \\cdot \\frac{4\\pi}{3}\\right) + i\\sin\\left(10 \\cdot \\frac{4\\pi}{3}\\right) \\right] = 1024 \\left( \\cos\\frac{40\\pi}{3} + i\\sin\\frac{40\\pi}{3} \\right) = 1024 \\left( \\cos\\frac{4\\pi}{3} + i\\sin\\frac{4\\pi}{3} \\right)$ (do $\\frac{40\\pi}{3} \\equiv \\frac{4\\pi}{3} \\pmod{2\\pi}$).\n",
       "\n",
       "**Bước 3: Tính tích và thương các số phức**\n",
       "- Tử số:  \n",
       "  $(1 - i)^{10} (\\sqrt{3} + i)^5 = 32 \\cdot 32 \\left[ \\cos\\left(\\frac{3\\pi}{2} + \\frac{5\\pi}{6}\\right) + i\\sin\\left(\\frac{3\\pi}{2} + \\frac{5\\pi}{6}\\right) \\right] = 1024 \\left( \\cos\\frac{14\\pi}{6} + i\\sin\\frac{14\\pi}{6} \\right) = 1024 \\left( \\cos\\frac{7\\pi}{3} + i\\sin\\frac{7\\pi}{3} \\right)$.\n",
       "\n",
       "- Mẫu số:  \n",
       "  $(-1 - i\\sqrt{3})^{10} = 1024 \\left( \\cos\\frac{4\\pi}{3} + i\\sin\\frac{4\\pi}{3} \\right)$.\n",
       "\n",
       "- Kết quả:  \n",
       "  $$\n",
       "  \\frac{1024 \\left( \\cos\\frac{7\\pi}{3} + i\\sin\\frac{7\\pi}{3} \\right)}{1024 \\left( \\cos\\frac{4\\pi}{3} + i\\sin\\frac{4\\pi}{3} \\right)} = \\cos\\left(\\frac{7\\pi}{3} - \\frac{4\\pi}{3}\\right) + i\\sin\\left(\\frac{7\\pi}{3} - \\frac{4\\pi}{3}\\right) = \\cos\\pi + i\\sin\\pi = -1.\n",
       "  $$\n"
      ],
      "text/plain": [
       "<IPython.core.display.Latex object>"
      ]
     },
     "metadata": {},
     "output_type": "display_data"
    },
    {
     "name": "stderr",
     "output_type": "stream",
     "text": [
      "Processing Questions:  31%|███▏      | 51/162 [1:03:50<2:39:20, 86.13s/it]"
     ]
    },
    {
     "data": {
      "text/latex": [
       "\n",
       "Để tính $z^{2012}$ với $z = 1 - \\cos\\frac{\\pi}{8} + i\\sin\\frac{\\pi}{8}$, ta thực hiện các bước sau:\n",
       "\n",
       "**1. Biểu diễn $z$ dưới dạng lượng giác:**\n",
       "- **Modulus của $z$:**  \n",
       "  \\[\n",
       "  r = \\sqrt{(1 - \\cos\\frac{\\pi}{8})^2 + (\\sin\\frac{\\pi}{8})^2}\n",
       "  \\]\n",
       "  Sử dụng đẳng thức $1 - \\cos x = 2\\sin^2\\frac{x}{2}$ và $\\sin^2x + \\cos^2x = 1$:\n",
       "  \\[\n",
       "  r = \\sqrt{2(1 - \\cos\\frac{\\pi}{8})} = \\sqrt{4\\sin^2\\frac{\\pi}{16}} = 2\\sin\\frac{\\pi}{16}\n",
       "  \\]\n",
       "\n",
       "- **Argument của $z$:**  \n",
       "  Từ phần thực và ảo của $z$:\n",
       "  \\[\n",
       "  \\cos\\theta = \\frac{1 - \\cos\\frac{\\pi}{8}}{2\\sin\\frac{\\pi}{16}} = \\sin\\frac{\\pi}{16}, \\quad \\sin\\theta = \\frac{\\sin\\frac{\\pi}{8}}{2\\sin\\frac{\\pi}{16}} = \\cos\\frac{\\pi}{16}\n",
       "  \\]\n",
       "  Sử dụng $\\sin x = \\cos\\left(\\frac{\\pi}{2} - x\\right)$, ta có:\n",
       "  \\[\n",
       "  \\theta = \\frac{7\\pi}{16}\n",
       "  \\]\n",
       "  Vậy $z = 2\\sin\\frac{\\pi}{16} \\left( \\cos\\frac{7\\pi}{16} + i\\sin\\frac{7\\pi}{16} \\right)$.\n",
       "\n",
       "**2. Áp dụng công thức De Moivre:**\n",
       "\\[\n",
       "z^{2012} = \\left(2\\sin\\frac{\\pi}{16}\\right)^{2012} \\left( \\cos\\left(2012 \\cdot \\frac{7\\pi}{16}\\right) + i\\sin\\left(2012 \\cdot \\frac{7\\pi}{16}\\right) \\right)\n",
       "\\]\n",
       "\n",
       "**3. Rút gọn góc:**\n",
       "\\[\n",
       "2012 \\cdot \\frac{7\\pi}{16} = 875\\pi + \\frac{21\\pi}{4} = \\pi + \\frac{5\\pi}{4} + 874\\pi \\equiv \\frac{\\pi}{4} \\pmod{2\\pi}\n",
       "\\]\n",
       "Do đó:\n",
       "\\[\n",
       "\\cos\\left(\\frac{\\pi}{4}\\right) = \\frac{\\sqrt{2}}{2}, \\quad \\sin\\left(\\frac{\\pi}{4}\\right) = \\frac{\\sqrt{2}}{2}\n",
       "\\]\n",
       "\n",
       "**4. Kết quả cuối cùng:**\n",
       "\\[\n",
       "z^{2012} = \\left(2\\sin\\frac{\\pi}{16}\\right)^{2012} \\cdot \\frac{\\sqrt{2}}{2}(1 + i)\n",
       "\\]\n"
      ],
      "text/plain": [
       "<IPython.core.display.Latex object>"
      ]
     },
     "metadata": {},
     "output_type": "display_data"
    },
    {
     "name": "stderr",
     "output_type": "stream",
     "text": [
      "Processing Questions:  32%|███▏      | 52/162 [1:06:14<3:09:36, 103.43s/it]"
     ]
    },
    {
     "data": {
      "text/latex": [
       "\n",
       "Phương trình đã cho là:\n",
       "\\[\n",
       "z^5 + z^4 + z^3 + z^2 + z + 1 = 0\n",
       "\\]\n",
       "Nhận thấy đây là tổng của cấp số nhân với công bội $z$ và 6 số hạng (từ $z^0$ đến $z^5$). Ta có:\n",
       "\\[\n",
       "\\sum_{k=0}^5 z^k = \\frac{z^6 - 1}{z - 1} \\quad (z \\neq 1)\n",
       "\\]\n",
       "Do đó, phương trình tương đương:\n",
       "\\[\n",
       "\\frac{z^6 - 1}{z - 1} = 0 \\quad \\Rightarrow \\quad z^6 - 1 = 0 \\quad \\text{và} \\quad z \\neq 1\n",
       "\\]\n",
       "Giải phương trình $z^6 = 1$, ta được các nghiệm là căn bậc 6 của đơn vị:\n",
       "\\[\n",
       "z_k = e^{\\frac{2\\pi ik}{6}} \\quad \\text{với} \\quad k = 0, 1, 2, 3, 4, 5\n",
       "\\]\n",
       "Loại nghiệm $z_0 = 1$ (vì $z \\neq 1$), các nghiệm còn lại là:\n",
       "\\[\n",
       "z_k = e^{\\frac{\\pi i}{3}}, \\, e^{\\frac{2\\pi i}{3}}, \\, e^{\\pi i}, \\, e^{\\frac{4\\pi i}{3}}, \\, e^{\\frac{5\\pi i}{3}}\n",
       "\\]\n",
       "Biểu diễn dưới dạng đại số:\n",
       "\\[\n",
       "\\begin{cases}\n",
       "z_1 = \\frac{1}{2} + \\frac{\\sqrt{3}}{2}i \\\\\n",
       "z_2 = -\\frac{1}{2} + \\frac{\\sqrt{3}}{2}i \\\\\n",
       "z_3 = -1 \\\\\n",
       "z_4 = -\\frac{1}{2} - \\frac{\\sqrt{3}}{2}i \\\\\n",
       "z_5 = \\frac{1}{2} - \\frac{\\sqrt{3}}{2}i \\\\\n",
       "\\end{cases}\n",
       "\\]\n"
      ],
      "text/plain": [
       "<IPython.core.display.Latex object>"
      ]
     },
     "metadata": {},
     "output_type": "display_data"
    },
    {
     "name": "stderr",
     "output_type": "stream",
     "text": [
      "Processing Questions:  33%|███▎      | 53/162 [1:07:32<2:54:04, 95.82s/it] "
     ]
    },
    {
     "data": {
      "text/latex": [
       "\n",
       "Để giải phương trình $z^6 + 64 = 0$, ta biến đổi thành:\n",
       "\\[\n",
       "z^6 = -64\n",
       "\\]\n",
       "Biểu diễn $-64$ dưới dạng lượng giác: $-64 = 64 \\cdot e^{i(\\pi + 2k\\pi)}$ với $k \\in \\mathbb{Z}$.  \n",
       "Các nghiệm của phương trình là căn bậc 6 của $-64$, được xác định bởi công thức:\n",
       "\\[\n",
       "z_k = 2 \\cdot \\exp\\left( i \\left( \\frac{\\pi}{6} + \\frac{k\\pi}{3} \\right) \\right) \\quad (k = 0, 1, 2, 3, 4, 5)\n",
       "\\]\n",
       "Thay các giá trị $k$ vào, ta được 6 nghiệm:\n",
       "\\[\n",
       "\\begin{aligned}\n",
       "k = 0: & \\quad z_0 = 2 \\left( \\cos\\frac{\\pi}{6} + i\\sin\\frac{\\pi}{6} \\right) = \\sqrt{3} + i, \\\\\n",
       "k = 1: & \\quad z_1 = 2 \\left( \\cos\\frac{\\pi}{2} + i\\sin\\frac{\\pi}{2} \\right) = 2i, \\\\\n",
       "k = 2: & \\quad z_2 = 2 \\left( \\cos\\frac{5\\pi}{6} + i\\sin\\frac{5\\pi}{6} \\right) = -\\sqrt{3} + i, \\\\\n",
       "k = 3: & \\quad z_3 = 2 \\left( \\cos\\frac{7\\pi}{6} + i\\sin\\frac{7\\pi}{6} \\right) = -\\sqrt{3} - i, \\\\\n",
       "k = 4: & \\quad z_4 = 2 \\left( \\cos\\frac{3\\pi}{2} + i\\sin\\frac{3\\pi}{2} \\right) = -2i, \\\\\n",
       "k = 5: & \\quad z_5 = 2 \\left( \\cos\\frac{11\\pi}{6} + i\\sin\\frac{11\\pi}{6} \\right) = \\sqrt{3} - i.\n",
       "\\end{aligned}\n",
       "\\]\n"
      ],
      "text/plain": [
       "<IPython.core.display.Latex object>"
      ]
     },
     "metadata": {},
     "output_type": "display_data"
    },
    {
     "name": "stderr",
     "output_type": "stream",
     "text": [
      "Processing Questions:  33%|███▎      | 54/162 [1:09:09<2:53:21, 96.31s/it]"
     ]
    },
    {
     "data": {
      "text/latex": [
       "\n",
       "Để tìm các số nguyên dương $n \\in [1; 10]$ sao cho $z = (1 + i\\sqrt{3})^n$ là số thực, ta thực hiện các bước sau:\n",
       "\n",
       "1. **Biểu diễn số phức dưới dạng lượng giác:**\n",
       "   \\[\n",
       "   1 + i\\sqrt{3} = 2 \\left( \\cos \\frac{\\pi}{3} + i \\sin \\frac{\\pi}{3} \\right)\n",
       "   \\]\n",
       "   (vì modulus $r = \\sqrt{1^2 + (\\sqrt{3})^2} = 2$ và argument $\\theta = \\arctan \\frac{\\sqrt{3}}{1} = \\frac{\\pi}{3}$).\n",
       "\n",
       "2. **Sử dụng công thức De Moivre:**\n",
       "   \\[\n",
       "   z = \\left( 1 + i\\sqrt{3} \\right)^n = 2^n \\left( \\cos \\frac{n\\pi}{3} + i \\sin \\frac{n\\pi}{3} \\right)\n",
       "   \\]\n",
       "\n",
       "3. **Điều kiện để $z$ là số thực:**\n",
       "   Phần ảo của $z$ phải bằng 0:\n",
       "   \\[\n",
       "   \\sin \\frac{n\\pi}{3} = 0 \\implies \\frac{n\\pi}{3} = k\\pi \\quad (k \\in \\mathbb{Z}) \\implies n = 3k\n",
       "   \\]\n",
       "\n",
       "4. **Xác định $n$ trong khoảng $[1; 10]$:**\n",
       "   Các giá trị $n$ thỏa mãn là $n = 3k$ với $k \\in \\mathbb{Z}^+$ và $3k \\leq 10$:\n",
       "   \\[\n",
       "   k = 1 \\implies n = 3; \\quad k = 2 \\implies n = 6; \\quad k = 3 \\implies n = 9\n",
       "   \\]\n",
       "\n",
       "5. **Kiểm tra từng giá trị:**\n",
       "   - Với $n = 3$: $z = -8$ (số thực).\n",
       "   - Với $n = 6$: $z = 64$ (số thực).\n",
       "   - Với $n = 9$: $z = -512$ (số thực).\n",
       "\n",
       "Vậy tập hợp $S$ có **3 phần tử** là $\\{3, 6, 9\\}$.\n"
      ],
      "text/plain": [
       "<IPython.core.display.Latex object>"
      ]
     },
     "metadata": {},
     "output_type": "display_data"
    },
    {
     "name": "stderr",
     "output_type": "stream",
     "text": [
      "Processing Questions:  34%|███▍      | 55/162 [1:10:28<2:42:06, 90.90s/it]"
     ]
    },
    {
     "data": {
      "text/latex": [
       "\n",
       "Giả sử số phức $z$ có dạng lượng giác $z = r e^{i\\theta}$ với $r$ là môđun và $\\theta$ là argument.\n",
       "\n",
       "Theo đề bài, $z^5$ và $\\dfrac{1}{\\overline{z}^2}$ là hai số phức liên hợp. Ta có:\n",
       "- $z^5 = r^5 e^{i5\\theta}$\n",
       "- $\\dfrac{1}{\\overline{z}^2} = \\dfrac{1}{(r e^{-i\\theta})^2} = \\dfrac{1}{r^2} e^{i2\\theta}$\n",
       "\n",
       "Vì $z^5$ và $\\dfrac{1}{\\overline{z}^2}$ là liên hợp nên:\n",
       "$$\n",
       "z^5 = \\overline{\\left( \\dfrac{1}{\\overline{z}^2} \\right)} \\Leftrightarrow r^5 e^{i5\\theta} = \\dfrac{1}{r^2} e^{-i2\\theta}\n",
       "$$\n",
       "\n",
       "**Xét phần môđun:**\n",
       "$$\n",
       "r^5 = \\dfrac{1}{r^2} \\Leftrightarrow r^7 = 1 \\Leftrightarrow r = 1 \\quad (\\text{vì } r \\geq 0)\n",
       "$$\n",
       "\n",
       "**Xét phần argument:**\n",
       "$$\n",
       "5\\theta \\equiv -2\\theta \\pmod{2\\pi} \\Leftrightarrow 7\\theta \\equiv 0 \\pmod{2\\pi} \\Leftrightarrow \\theta = \\dfrac{2k\\pi}{7} \\quad (k = 0, 1, 2, 3, 4, 5, 6)\n",
       "$$\n",
       "\n",
       "Vậy các số phức $z$ cần tìm là các căn bậc 7 của đơn vị:\n",
       "$$\n",
       "z = e^{i\\frac{2k\\pi}{7}} \\quad (k = 0, 1, 2, 3, 4, 5, 6)\n",
       "$$\n"
      ],
      "text/plain": [
       "<IPython.core.display.Latex object>"
      ]
     },
     "metadata": {},
     "output_type": "display_data"
    },
    {
     "name": "stderr",
     "output_type": "stream",
     "text": [
      "Processing Questions:  35%|███▍      | 56/162 [1:11:53<2:37:36, 89.21s/it]"
     ]
    },
    {
     "data": {
      "text/latex": [
       "\n",
       "Để tính tổng $S_1 = C_n^0 - C_n^2 + C_n^4 - C_n^6 + \\dots$, ta sử dụng số phức và khai triển nhị thức:\n",
       "\n",
       "1. **Khai triển $(1 + i)^n$:**  \n",
       "   Áp dụng công thức nhị thức Newton:\n",
       "   \\[\n",
       "   (1 + i)^n = \\sum_{k=0}^n C_n^k i^k\n",
       "   \\]\n",
       "   Tách phần thực và phần ảo:\n",
       "   \\[\n",
       "   \\text{Re}\\left[(1 + i)^n\\right] = C_n^0 - C_n^2 + C_n^4 - C_n^6 + \\dots = S_1\n",
       "   \\]\n",
       "\n",
       "2. **Biểu diễn $(1 + i)^n$ dưới dạng lượng giác:**  \n",
       "   Viết $1 + i$ dưới dạng cực:\n",
       "   \\[\n",
       "   1 + i = \\sqrt{2} \\left( \\cos \\frac{\\pi}{4} + i \\sin \\frac{\\pi}{4} \\right)\n",
       "   \\]\n",
       "   Khi nâng lên lũy thừa $n$:\n",
       "   \\[\n",
       "   (1 + i)^n = (\\sqrt{2})^n \\left( \\cos \\frac{n\\pi}{4} + i \\sin \\frac{n\\pi}{4} \\right)\n",
       "   \\]\n",
       "   Phần thực là:\n",
       "   \\[\n",
       "   \\text{Re}\\left[(1 + i)^n\\right] = 2^{n/2} \\cos \\frac{n\\pi}{4}\n",
       "   \\]\n",
       "\n",
       "Vậy tổng $S_1$ được tính bằng:\n",
       "\\[\n",
       "S_1 = 2^{n/2} \\cos \\frac{n\\pi}{4}\n",
       "\\]\n"
      ],
      "text/plain": [
       "<IPython.core.display.Latex object>"
      ]
     },
     "metadata": {},
     "output_type": "display_data"
    },
    {
     "name": "stderr",
     "output_type": "stream",
     "text": [
      "Processing Questions:  35%|███▌      | 57/162 [1:13:02<2:25:21, 83.06s/it]"
     ]
    },
    {
     "data": {
      "text/latex": [
       "\n",
       "Gọi số phức \\( z = x + yi \\) với \\( x, y \\in \\mathbb{R} \\). Điều kiện \\( |z - (1 + i)| = |z + 2i| \\) tương đương:\n",
       "\\[\n",
       "\\sqrt{(x - 1)^2 + (y - 1)^2} = \\sqrt{x^2 + (y + 2)^2}\n",
       "\\]\n",
       "Bình phương hai vế:\n",
       "\\[\n",
       "(x - 1)^2 + (y - 1)^2 = x^2 + (y + 2)^2\n",
       "\\]\n",
       "Khai triển và rút gọn:\n",
       "\\[\n",
       "x^2 - 2x + 1 + y^2 - 2y + 1 = x^2 + y^2 + 4y + 4 \\\\\n",
       "\\Rightarrow -2x - 6y - 2 = 0 \\\\\n",
       "\\Rightarrow x + 3y + 1 = 0\n",
       "\\]\n",
       "Vậy tập hợp điểm biểu diễn số phức \\( z \\) là đường thẳng \\( x + 3y + 1 = 0 \\).\n"
      ],
      "text/plain": [
       "<IPython.core.display.Latex object>"
      ]
     },
     "metadata": {},
     "output_type": "display_data"
    },
    {
     "name": "stderr",
     "output_type": "stream",
     "text": [
      "Processing Questions:  36%|███▌      | 58/162 [1:14:09<2:15:58, 78.45s/it]"
     ]
    },
    {
     "data": {
      "text/latex": [
       "\n",
       "Giả sử số phức $z$ có dạng $z = x + yi$ với $x, y \\in \\mathbb{R}$. Điều kiện $|z - 2i| = |z + 1|$ được viết lại như sau:\n",
       "\n",
       "\\[\n",
       "|x + (y - 2)i| = |(x + 1) + yi|\n",
       "\\]\n",
       "\n",
       "Tính môđun hai vế:\n",
       "\\[\n",
       "\\sqrt{x^2 + (y - 2)^2} = \\sqrt{(x + 1)^2 + y^2}\n",
       "\\]\n",
       "\n",
       "Bình phương hai vế để khử căn:\n",
       "\\[\n",
       "x^2 + (y - 2)^2 = (x + 1)^2 + y^2\n",
       "\\]\n",
       "\n",
       "Khai triển và rút gọn:\n",
       "\\[\n",
       "\\begin{align*}\n",
       "x^2 + y^2 - 4y + 4 &= x^2 + 2x + 1 + y^2 \\\\\n",
       "-4y + 4 &= 2x + 1 \\\\\n",
       "2x + 4y &= 3 \\\\\n",
       "x + 2y &= \\dfrac{3}{2}\n",
       "\\end{align*}\n",
       "\\]\n",
       "\n",
       "Vậy tập hợp điểm $M$ biểu diễn số phức $z$ là đường thẳng có phương trình $x + 2y = \\dfrac{3}{2}$.\n"
      ],
      "text/plain": [
       "<IPython.core.display.Latex object>"
      ]
     },
     "metadata": {},
     "output_type": "display_data"
    },
    {
     "name": "stderr",
     "output_type": "stream",
     "text": [
      "Processing Questions:  36%|███▋      | 59/162 [1:15:22<2:11:49, 76.79s/it]"
     ]
    },
    {
     "data": {
      "text/latex": [
       "\n",
       "Gọi số phức $z = x + yi$ ($x, y \\in \\mathbb{R}$). Điều kiện bài toán trở thành:\n",
       "\\[\n",
       "|(x - 2) + (y + 3)i| = |x + (y - 4)i|\n",
       "\\]\n",
       "Bình phương hai vế:\n",
       "\\[\n",
       "(x - 2)^2 + (y + 3)^2 = x^2 + (y - 4)^2\n",
       "\\]\n",
       "Khai triển và rút gọn:\n",
       "\\[\n",
       "\\begin{align*}\n",
       "x^2 - 4x + 4 + y^2 + 6y + 9 &= x^2 + y^2 - 8y + 16 \\\\\n",
       "-4x + 14y - 3 &= 0 \\\\\n",
       "4x - 14y + 3 &= 0.\n",
       "\\end{align*}\n",
       "\\]\n",
       "Vậy tập hợp điểm biểu diễn số phức $z$ là đường thẳng có phương trình $4x - 14y + 3 = 0$.\n"
      ],
      "text/plain": [
       "<IPython.core.display.Latex object>"
      ]
     },
     "metadata": {},
     "output_type": "display_data"
    },
    {
     "name": "stderr",
     "output_type": "stream",
     "text": [
      "Processing Questions:  37%|███▋      | 60/162 [1:16:54<2:18:00, 81.18s/it]"
     ]
    },
    {
     "data": {
      "text/latex": [
       "\n",
       "Tập hợp các điểm $M$ biểu diễn số phức $z$ thỏa mãn $|z - 2 + 5i| = 4$ là đường tròn trong mặt phẳng phức. \n",
       "\n",
       "Giải thích từng bước:\n",
       "1. Đặt $z = x + yi$ ($x, y \\in \\mathbb{R}$), phương trình trở thành:\n",
       "   \\[\n",
       "   |(x + yi) - 2 + 5i| = 4\n",
       "   \\]\n",
       "2. Rút gọn biểu thức trong môđun:\n",
       "   \\[\n",
       "   |(x - 2) + (y + 5)i| = 4\n",
       "   \\]\n",
       "3. Tính môđun:\n",
       "   \\[\n",
       "   \\sqrt{(x - 2)^2 + (y + 5)^2} = 4\n",
       "   \\]\n",
       "4. Bình phương hai vế:\n",
       "   \\[\n",
       "   (x - 2)^2 + (y + 5)^2 = 16\n",
       "   \\]\n",
       "   \n",
       "Kết luận: Tập hợp điểm $M$ là đường tròn tâm $I(2, -5)$, bán kính $4$.\n"
      ],
      "text/plain": [
       "<IPython.core.display.Latex object>"
      ]
     },
     "metadata": {},
     "output_type": "display_data"
    },
    {
     "name": "stderr",
     "output_type": "stream",
     "text": [
      "Processing Questions:  38%|███▊      | 61/162 [1:18:06<2:12:15, 78.57s/it]"
     ]
    },
    {
     "data": {
      "text/latex": [
       "\n",
       "Giả sử số phức \\( z \\) có dạng \\( z = x + yi \\) (\\( x, y \\in \\mathbb{R} \\)). Từ điều kiện \\( |z - 2| = 2 \\), ta có tập hợp các điểm \\( z \\) là đường tròn tâm \\( (2, 0) \\), bán kính 2.\n",
       "\n",
       "Xét số phức \\( w = (1 - i)z + i \\). Ta biểu diễn \\( z \\) theo \\( w \\):\n",
       "\\[\n",
       "w = (1 - i)z + i \\implies w - i = (1 - i)z \\implies z = \\frac{w - i}{1 - i}\n",
       "\\]\n",
       "Nhân cả tử và mẫu với \\( 1 + i \\):\n",
       "\\[\n",
       "z = \\frac{(w - i)(1 + i)}{(1 - i)(1 + i)} = \\frac{(w - i)(1 + i)}{2}\n",
       "\\]\n",
       "Khai triển tử số:\n",
       "\\[\n",
       "(w - i)(1 + i) = w(1 + i) - i(1 + i) = w + wi - i - i^2 = w + wi - i + 1 = (w + 1) + (w - 1)i\n",
       "\\]\n",
       "Suy ra:\n",
       "\\[\n",
       "z = \\frac{(w + 1) + (w - 1)i}{2}\n",
       "\\]\n",
       "Thay vào điều kiện \\( |z - 2| = 2 \\):\n",
       "\\[\n",
       "\\left| \\frac{(w + 1) + (w - 1)i}{2} - 2 \\right| = 2\n",
       "\\]\n",
       "Rút gọn biểu thức trong module:\n",
       "\\[\n",
       "\\left| \\frac{(w - 3) + (w - 1)i}{2} \\right| = 2 \\implies \\frac{1}{2} \\left| (w - 3) + (w - 1)i \\right| = 2 \\implies \\left| (w - 3) + (w - 1)i \\right| = 4\n",
       "\\]\n",
       "Đặt \\( w = u + vi \\) (\\( u, v \\in \\mathbb{R} \\)), ta có:\n",
       "\\[\n",
       "\\left| (u - 3 + vi) + (u - 1 + vi)i \\right| = 4\n",
       "\\]\n",
       "Khai triển và tách phần thực, ảo:\n",
       "\\[\n",
       "\\left| (u - 3 - v) + (u + v - 1)i \\right| = 4\n",
       "\\]\n",
       "Tính module:\n",
       "\\[\n",
       "\\sqrt{(u - 3 - v)^2 + (u + v - 1)^2} = 4 \\implies (u - 3 - v)^2 + (u + v - 1)^2 = 16\n",
       "\\]\n",
       "Khai triển và rút gọn:\n",
       "\\[\n",
       "(u - 2)^2 + (v + 1)^2 = 8\n",
       "\\]\n",
       "Vậy tập hợp điểm \\( w \\) là đường tròn tâm \\( (2, -1) \\), bán kính \\( r = \\sqrt{8} = 2\\sqrt{2} \\).\n"
      ],
      "text/plain": [
       "<IPython.core.display.Latex object>"
      ]
     },
     "metadata": {},
     "output_type": "display_data"
    },
    {
     "name": "stderr",
     "output_type": "stream",
     "text": [
      "Processing Questions:  38%|███▊      | 62/162 [1:19:42<2:19:41, 83.82s/it]"
     ]
    },
    {
     "data": {
      "text/latex": [
       "\n",
       "Giả sử số phức $z$ có điểm biểu diễn nằm trên đường tròn tâm $1$, bán kính $2$ vì $|z - 1| = 2$.  \n",
       "Xét phép biến đổi $w = (1 + \\sqrt{3}i)z + 2$:  \n",
       "- Phép nhân với $1 + \\sqrt{3}i$ tương đương phép quay góc $60^\\circ$ và phóng to với tỉ lệ $|1 + \\sqrt{3}i| = 2$.  \n",
       "- Phép cộng với $2$ là phép tịnh tiến theo vector $(2, 0)$.  \n",
       "\n",
       "**Bước 1:** Tìm ảnh của tâm đường tròn $z$:  \n",
       "Tâm ban đầu là $z_0 = 1$.  \n",
       "Áp dụng phép biến đổi:  \n",
       "$$\n",
       "w_0 = (1 + \\sqrt{3}i) \\cdot 1 + 2 = 3 + \\sqrt{3}i\n",
       "$$\n",
       "\n",
       "**Bước 2:** Tính bán kính mới:  \n",
       "Bán kính ban đầu là $2$, sau khi phóng to với tỉ lệ $2$, bán kính mới là:  \n",
       "$$\n",
       "2 \\times 2 = 4\n",
       "$$\n",
       "\n",
       "Vậy tập hợp điểm biểu diễn của $w$ là đường tròn có bán kính $\\boxed{4}$.\n"
      ],
      "text/plain": [
       "<IPython.core.display.Latex object>"
      ]
     },
     "metadata": {},
     "output_type": "display_data"
    },
    {
     "name": "stderr",
     "output_type": "stream",
     "text": [
      "Processing Questions:  39%|███▉      | 63/162 [1:20:59<2:14:38, 81.61s/it]"
     ]
    },
    {
     "data": {
      "text/latex": [
       "\n",
       "**a) Tìm nguyên hàm của $\\int \\frac{x^3}{1+x^2} dx$**\n",
       "\n",
       "Bước 1: Chia đa thức để đơn giản hóa biểu thức:\n",
       "\\[\n",
       "\\frac{x^3}{1+x^2} = x - \\frac{x}{1+x^2}\n",
       "\\]\n",
       "\n",
       "Bước 2: Tách nguyên hàm:\n",
       "\\[\n",
       "\\int \\frac{x^3}{1+x^2} dx = \\int x \\, dx - \\int \\frac{x}{1+x^2} dx\n",
       "\\]\n",
       "\n",
       "Bước 3: Tính từng nguyên hàm:\n",
       "- $\\int x \\, dx = \\frac{1}{2}x^2 + C_1$\n",
       "- Đặt $u = 1+x^2 \\Rightarrow du = 2x dx \\Rightarrow \\frac{1}{2}du = x dx$:\n",
       "\\[\n",
       "\\int \\frac{x}{1+x^2} dx = \\frac{1}{2} \\int \\frac{1}{u} du = \\frac{1}{2} \\ln|u| + C_2 = \\frac{1}{2} \\ln(1+x^2) + C_2\n",
       "\\]\n",
       "\n",
       "Bước 4: Kết hợp kết quả:\n",
       "\\[\n",
       "\\int \\frac{x^3}{1+x^2} dx = \\frac{1}{2}x^2 - \\frac{1}{2} \\ln(1+x^2) + C\n",
       "\\]\n",
       "\n",
       "**b) Tìm nguyên hàm của $\\int x^2 \\sqrt{x^2+9} dx$**\n",
       "\n",
       "Bước 1: Đặt $u = x$, $dv = x\\sqrt{x^2+9} dx$:\n",
       "- $du = dx$\n",
       "- Tìm $v$ bằng cách đặt $w = x^2 +9 \\Rightarrow dw = 2x dx$:\n",
       "\\[\n",
       "v = \\frac{1}{3}(x^2 +9)^{3/2}\n",
       "\\]\n",
       "\n",
       "Bước 2: Áp dụng tích phân từng phần:\n",
       "\\[\n",
       "\\int x^2 \\sqrt{x^2+9} dx = \\frac{x}{3}(x^2 +9)^{3/2} - \\frac{1}{3} \\int (x^2 +9)^{3/2} dx\n",
       "\\]\n",
       "\n",
       "Bước 3: Tính $\\int (x^2 +9)^{3/2} dx$ bằng phép thế lượng giác $x = 3 \\tan \\theta$ và rút gọn, sau đó thay ngược lại. Kết quả trung gian:\n",
       "\\[\n",
       "\\int \\sqrt{x^2 +9} dx = \\frac{x}{2} \\sqrt{x^2 +9} + \\frac{9}{2} \\ln\\left(x + \\sqrt{x^2 +9}\\right) + C\n",
       "\\]\n",
       "\n",
       "Bước 4: Thay vào và đơn giản hóa:\n",
       "\\[\n",
       "\\int x^2 \\sqrt{x^2+9} dx = \\frac{x}{8}(2x^2 +9)\\sqrt{x^2 +9} - \\frac{81}{8} \\ln\\left(x + \\sqrt{x^2 +9}\\right) + C\n",
       "\\]\n"
      ],
      "text/plain": [
       "<IPython.core.display.Latex object>"
      ]
     },
     "metadata": {},
     "output_type": "display_data"
    },
    {
     "name": "stderr",
     "output_type": "stream",
     "text": [
      "Processing Questions:  40%|███▉      | 64/162 [1:23:11<2:37:58, 96.72s/it]"
     ]
    },
    {
     "data": {
      "text/latex": [
       "\n",
       "**a) Tìm nguyên hàm của $\\int \\frac{2\\sin x}{1 + 3\\cos x} \\, dx$**\n",
       "\n",
       "- **Bước 1:** Đặt $u = 1 + 3\\cos x$.\n",
       "- **Bước 2:** Tính vi phân $du = -3\\sin x \\, dx \\Rightarrow \\sin x \\, dx = -\\frac{du}{3}$.\n",
       "- **Bước 3:** Thay thế vào nguyên hàm:\n",
       "  \\[\n",
       "  \\int \\frac{2\\sin x}{1 + 3\\cos x} \\, dx = 2 \\int \\frac{-\\frac{du}{3}}{u} = -\\frac{2}{3} \\int \\frac{1}{u} \\, du\n",
       "  \\]\n",
       "- **Bước 4:** Tính nguyên hàm cơ bản:\n",
       "  \\[\n",
       "  -\\frac{2}{3} \\ln |u| + C = -\\frac{2}{3} \\ln |1 + 3\\cos x| + C\n",
       "  \\]\n",
       "\n",
       "**b) Tìm nguyên hàm của $\\int \\frac{\\ln^{x-1} x}{x \\ln x} \\, dx$**\n",
       "\n",
       "- **Bước 1:** Đơn giản hóa biểu thức:\n",
       "  \\[\n",
       "  \\frac{\\ln^{x-1} x}{x \\ln x} = \\frac{(\\ln x)^{x-1}}{x \\ln x} = \\frac{(\\ln x)^{x-2}}{x}\n",
       "  \\]\n",
       "- **Bước 2:** Đặt $t = \\ln x \\Rightarrow dt = \\frac{1}{x} dx \\Rightarrow dx = x \\, dt = e^t \\, dt$.\n",
       "- **Bước 3:** Thay thế vào nguyên hàm:\n",
       "  \\[\n",
       "  \\int \\frac{t^{x-2}}{x} \\, dx = \\int t^{e^t - 2} \\, dt\n",
       "  \\]\n",
       "  Tuy nhiên, nguyên hàm này không biểu diễn được bằng các hàm số sơ cấp do sự phụ thuộc của số mũ vào biến $t$. Do đó, nguyên hàm không tồn tại dưới dạng biểu thức đóng đơn giản.\n",
       "\n"
      ],
      "text/plain": [
       "<IPython.core.display.Latex object>"
      ]
     },
     "metadata": {},
     "output_type": "display_data"
    },
    {
     "name": "stderr",
     "output_type": "stream",
     "text": [
      "Processing Questions:  40%|████      | 65/162 [1:26:02<3:12:26, 119.03s/it]"
     ]
    },
    {
     "data": {
      "text/latex": [
       "\n",
       "**a) Tìm nguyên hàm của $\\int xe^{x^2} dx$**\n",
       "\n",
       "- **Bước 1:** Đặt $u = x^2 \\implies du = 2x dx \\implies x dx = \\frac{du}{2}$.\n",
       "- **Bước 2:** Thay vào nguyên hàm:\n",
       "  \\[\n",
       "  \\int xe^{x^2} dx = \\int e^u \\cdot \\frac{du}{2} = \\frac{1}{2} \\int e^u du\n",
       "  \\]\n",
       "- **Bước 3:** Tính nguyên hàm:\n",
       "  \\[\n",
       "  \\frac{1}{2} e^u + C = \\frac{1}{2} e^{x^2} + C\n",
       "  \\]\n",
       "\n",
       "**b) Tìm nguyên hàm của $\\int \\frac{e^{\\tan x}}{\\cos^2 x} dx$**\n",
       "\n",
       "- **Bước 1:** Đặt $u = \\tan x \\implies du = \\frac{1}{\\cos^2 x} dx$.\n",
       "- **Bước 2:** Thay vào nguyên hàm:\n",
       "  \\[\n",
       "  \\int \\frac{e^{\\tan x}}{\\cos^2 x} dx = \\int e^u du\n",
       "  \\]\n",
       "- **Bước 3:** Tính nguyên hàm:\n",
       "  \\[\n",
       "  e^u + C = e^{\\tan x} + C\n",
       "  \\]\n"
      ],
      "text/plain": [
       "<IPython.core.display.Latex object>"
      ]
     },
     "metadata": {},
     "output_type": "display_data"
    },
    {
     "name": "stderr",
     "output_type": "stream",
     "text": [
      "Processing Questions:  41%|████      | 66/162 [1:27:07<2:44:49, 103.02s/it]"
     ]
    },
    {
     "data": {
      "text/latex": [
       "\n",
       "Để tìm họ nguyên hàm của hàm số $\\int \\left( \\sqrt[3]{x} - 2 \\right) dx$, ta thực hiện các bước sau:\n",
       "\n",
       "1. **Tách tích phân thành tổng các tích phân đơn giản:**\n",
       "   \\[\n",
       "   \\int \\left( x^{\\frac{1}{3}} - 2 \\right) dx = \\int x^{\\frac{1}{3}} dx - \\int 2 dx\n",
       "   \\]\n",
       "\n",
       "2. **Tính từng tích phân riêng lẻ:**\n",
       "   - Áp dụng công thức lũy thừa cho $\\int x^{\\frac{1}{3}} dx$:\n",
       "     \\[\n",
       "     \\int x^{\\frac{1}{3}} dx = \\frac{x^{\\frac{1}{3} + 1}}{\\frac{1}{3} + 1} + C_1 = \\frac{x^{\\frac{4}{3}}}{\\frac{4}{3}} + C_1 = \\frac{3}{4}x^{\\frac{4}{3}} + C_1\n",
       "     \\]\n",
       "   - Tính $\\int 2 dx$:\n",
       "     \\[\n",
       "     \\int 2 dx = 2x + C_2\n",
       "     \\]\n",
       "\n",
       "3. **Kết hợp các kết quả và thêm hằng số tích phân $C$:**\n",
       "   \\[\n",
       "   \\int \\left( \\sqrt[3]{x} - 2 \\right) dx = \\frac{3}{4}x^{\\frac{4}{3}} - 2x + C\n",
       "   \\]\n"
      ],
      "text/plain": [
       "<IPython.core.display.Latex object>"
      ]
     },
     "metadata": {},
     "output_type": "display_data"
    },
    {
     "name": "stderr",
     "output_type": "stream",
     "text": [
      "Processing Questions:  41%|████▏     | 67/162 [1:28:11<2:24:19, 91.15s/it] "
     ]
    },
    {
     "data": {
      "text/latex": [
       "\n",
       "Đặt $u = \\sin^2 x$  \n",
       "$\\Rightarrow du = 2\\sin x \\cos x dx = \\sin 2x dx$  \n",
       "Khi đó:  \n",
       "$\\int e^{\\sin^2 x} \\sin 2x dx = \\int e^u du$  \n",
       "$= e^u + C$  \n",
       "Thay $u = \\sin^2 x$ vào:  \n",
       "$= e^{\\sin^2 x} + C$\n"
      ],
      "text/plain": [
       "<IPython.core.display.Latex object>"
      ]
     },
     "metadata": {},
     "output_type": "display_data"
    },
    {
     "name": "stderr",
     "output_type": "stream",
     "text": [
      "Processing Questions:  42%|████▏     | 68/162 [1:29:14<2:09:47, 82.85s/it]"
     ]
    },
    {
     "data": {
      "text/latex": [
       "\n",
       "Để tìm nguyên hàm của hàm số $\\int \\frac{x}{(2x+1)^3} dx$, ta thực hiện các bước sau:\n",
       "\n",
       "**Bước 1: Đặt ẩn phụ**  \n",
       "Đặt $u = 2x + 1 \\Rightarrow du = 2dx \\Rightarrow dx = \\frac{du}{2}$.  \n",
       "Khi đó, $x = \\frac{u - 1}{2}$.\n",
       "\n",
       "**Bước 2: Thay vào nguyên hàm**  \n",
       "Thay $x$ và $dx$ vào nguyên hàm:\n",
       "\\[\n",
       "\\int \\frac{x}{(2x+1)^3} dx = \\int \\frac{\\frac{u - 1}{2}}{u^3} \\cdot \\frac{du}{2} = \\frac{1}{4} \\int \\frac{u - 1}{u^3} du\n",
       "\\]\n",
       "\n",
       "**Bước 3: Tách phân thức và tích phân**  \n",
       "Tách phân thức:\n",
       "\\[\n",
       "\\frac{1}{4} \\int \\left( \\frac{1}{u^2} - \\frac{1}{u^3} \\right) du = \\frac{1}{4} \\left( -\\frac{1}{u} + \\frac{1}{2u^2} \\right) + C\n",
       "\\]\n",
       "\n",
       "**Bước 4: Thay ngược lại $u = 2x + 1$**  \n",
       "\\[\n",
       "\\frac{1}{4} \\left( -\\frac{1}{2x + 1} + \\frac{1}{2(2x + 1)^2} \\right) + C\n",
       "\\]\n",
       "\n",
       "**Bước 5: Rút gọn biểu thức**  \n",
       "Quy đồng và rút gọn:\n",
       "\\[\n",
       "= \\frac{1}{4} \\cdot \\frac{-2(2x + 1) + 1}{2(2x + 1)^2} + C = \\frac{-4x - 1}{8(2x + 1)^2} + C\n",
       "\\]\n",
       "\n",
       "**Kiểm tra bằng đạo hàm:**  \n",
       "Đạo hàm của kết quả thu được chính là hàm số ban đầu, xác nhận tính đúng đắn.\n"
      ],
      "text/plain": [
       "<IPython.core.display.Latex object>"
      ]
     },
     "metadata": {},
     "output_type": "display_data"
    },
    {
     "name": "stderr",
     "output_type": "stream",
     "text": [
      "Processing Questions:  43%|████▎     | 69/162 [1:30:58<2:18:07, 89.12s/it]"
     ]
    },
    {
     "data": {
      "text/latex": [
       "\n",
       "Đặt $u = 1 - x^3 \\Rightarrow du = -3x^2 dx \\Rightarrow x^2 dx = -\\dfrac{du}{3}$.\\\\\n",
       "Khi đó, nguyên hàm trở thành:\n",
       "\\[\n",
       "\\int x^5(1 - x^3)^6 dx = \\int x^3 \\cdot x^2 (1 - x^3)^6 dx = \\int (1 - u) \\cdot u^6 \\cdot \\left(-\\dfrac{du}{3}\\right)\n",
       "\\]\n",
       "\\[\n",
       "= -\\dfrac{1}{3} \\int (u^6 - u^7) du = -\\dfrac{1}{3} \\left( \\dfrac{u^7}{7} - \\dfrac{u^8}{8} \\right) + C\n",
       "\\]\n",
       "Thay $u = 1 - x^3$ vào, ta được:\n",
       "\\[\n",
       "-\\dfrac{1}{3} \\left( \\dfrac{(1 - x^3)^7}{7} - \\dfrac{(1 - x^3)^8}{8} \\right) + C = -\\dfrac{(1 - x^3)^7}{21} + \\dfrac{(1 - x^3)^8}{24} + C\n",
       "\\]\n"
      ],
      "text/plain": [
       "<IPython.core.display.Latex object>"
      ]
     },
     "metadata": {},
     "output_type": "display_data"
    },
    {
     "name": "stderr",
     "output_type": "stream",
     "text": [
      "Processing Questions:  43%|████▎     | 70/162 [1:32:16<2:11:30, 85.76s/it]"
     ]
    },
    {
     "data": {
      "text/latex": [
       "\n",
       "Đặt $u = 1 - x^2 \\Rightarrow du = -2x dx \\Rightarrow x dx = -\\dfrac{du}{2}$.\\\\\n",
       "Khi đó, nguyên hàm trở thành:\n",
       "\\[\n",
       "\\int x \\sqrt[4]{1 - x^2} dx = \\int \\sqrt[4]{u} \\cdot \\left(-\\dfrac{du}{2}\\right) = -\\dfrac{1}{2} \\int u^{1/4} du\n",
       "\\]\n",
       "Tính nguyên hàm:\n",
       "\\[\n",
       "-\\dfrac{1}{2} \\cdot \\dfrac{u^{5/4}}{5/4} + C = -\\dfrac{1}{2} \\cdot \\dfrac{4}{5} u^{5/4} + C = -\\dfrac{2}{5} u^{5/4} + C\n",
       "\\]\n",
       "Thay $u = 1 - x^2$ vào, ta được:\n",
       "\\[\n",
       "-\\dfrac{2}{5} (1 - x^2)^{5/4} + C\n",
       "\\]\n"
      ],
      "text/plain": [
       "<IPython.core.display.Latex object>"
      ]
     },
     "metadata": {},
     "output_type": "display_data"
    },
    {
     "name": "stderr",
     "output_type": "stream",
     "text": [
      "Processing Questions:  44%|████▍     | 71/162 [1:33:23<2:01:43, 80.26s/it]"
     ]
    },
    {
     "data": {
      "text/latex": [
       "\n",
       "Đặt $u = \\ln(x^2 + 1)$, ta có:\n",
       "\\[\n",
       "du = \\frac{2x}{x^2 + 1}dx \\implies \\frac{x}{x^2 + 1}dx = \\frac{1}{2}du\n",
       "\\]\n",
       "Khi đó, nguyên hàm trở thành:\n",
       "\\[\n",
       "\\int \\frac{x \\ln(x^2 + 1)}{x^2 + 1} dx = \\frac{1}{2} \\int u \\, du = \\frac{1}{2} \\cdot \\frac{u^2}{2} + C = \\frac{u^2}{4} + C\n",
       "\\]\n",
       "Thay $u = \\ln(x^2 + 1)$ vào, ta được:\n",
       "\\[\n",
       "\\frac{[\\ln(x^2 + 1)]^2}{4} + C\n",
       "\\]\n"
      ],
      "text/plain": [
       "<IPython.core.display.Latex object>"
      ]
     },
     "metadata": {},
     "output_type": "display_data"
    },
    {
     "name": "stderr",
     "output_type": "stream",
     "text": [
      "Processing Questions:  44%|████▍     | 72/162 [1:34:40<1:58:32, 79.03s/it]"
     ]
    },
    {
     "data": {
      "text/latex": [
       "\n",
       "Đặt $u = \\sin x \\Rightarrow du = \\cos x \\, dx$.\\\\\n",
       "Khi đó, nguyên hàm trở thành:\n",
       "\\[\n",
       "\\int \\sin^4 x \\cos x \\, dx = \\int u^4 \\, du = \\frac{u^5}{5} + C\n",
       "\\]\n",
       "Thay $u = \\sin x$ vào, ta được:\n",
       "\\[\n",
       "\\frac{\\sin^5 x}{5} + C\n",
       "\\]\n"
      ],
      "text/plain": [
       "<IPython.core.display.Latex object>"
      ]
     },
     "metadata": {},
     "output_type": "display_data"
    },
    {
     "name": "stderr",
     "output_type": "stream",
     "text": [
      "Processing Questions:  45%|████▌     | 73/162 [1:35:40<1:48:57, 73.46s/it]"
     ]
    },
    {
     "data": {
      "text/latex": [
       "\n",
       "Để tìm nguyên hàm của hàm số $\\int \\frac{x^3 - 1}{x^4 + x} \\, dx$, ta thực hiện các bước sau:\n",
       "\n",
       "**Bước 1: Phân tích mẫu số**\n",
       "Mẫu số $x^4 + x$ được phân tích thành:\n",
       "\\[\n",
       "x^4 + x = x(x^3 + 1) = x(x + 1)(x^2 - x + 1)\n",
       "\\]\n",
       "\n",
       "**Bước 2: Tách tử số**\n",
       "Tử số $x^3 - 1$ được viết lại:\n",
       "\\[\n",
       "x^3 - 1 = (x^3 + 1) - 2\n",
       "\\]\n",
       "Khi đó, tích phân trở thành:\n",
       "\\[\n",
       "\\int \\frac{x^3 - 1}{x^4 + x} \\, dx = \\int \\left( \\frac{1}{x} - \\frac{2}{x(x^3 + 1)} \\right) dx\n",
       "\\]\n",
       "\n",
       "**Bước 3: Giải tích phân từng phần**\n",
       "- Tích phân thứ nhất:\n",
       "\\[\n",
       "\\int \\frac{1}{x} \\, dx = \\ln|x| + C_1\n",
       "\\]\n",
       "\n",
       "- Tích phân thứ hai: Sử dụng phân tích đơn giản hóa:\n",
       "\\[\n",
       "\\frac{2}{x(x^3 + 1)} = \\frac{2}{x} - \\frac{2x^2}{x^3 + 1}\n",
       "\\]\n",
       "Do đó:\n",
       "\\[\n",
       "\\int \\frac{2}{x(x^3 + 1)} \\, dx = 2 \\int \\frac{1}{x} \\, dx - 2 \\int \\frac{x^2}{x^3 + 1} \\, dx\n",
       "\\]\n",
       "Với $\\int \\frac{x^2}{x^3 + 1} \\, dx$, đặt $u = x^3 + 1 \\Rightarrow du = 3x^2 dx$:\n",
       "\\[\n",
       "\\int \\frac{x^2}{x^3 + 1} \\, dx = \\frac{1}{3} \\ln|x^3 + 1| + C_2\n",
       "\\]\n",
       "\n",
       "**Bước 4: Tổng hợp kết quả**\n",
       "Kết hợp các kết quả:\n",
       "\\[\n",
       "\\int \\frac{x^3 - 1}{x^4 + x} \\, dx = \\ln|x| - 2 \\left( \\ln|x| - \\frac{1}{3} \\ln|x^3 + 1| \\right) + C\n",
       "\\]\n",
       "Rút gọn:\n",
       "\\[\n",
       "= -\\ln|x| + \\frac{2}{3} \\ln|x^3 + 1| + C\n",
       "\\]\n"
      ],
      "text/plain": [
       "<IPython.core.display.Latex object>"
      ]
     },
     "metadata": {},
     "output_type": "display_data"
    },
    {
     "name": "stderr",
     "output_type": "stream",
     "text": [
      "Processing Questions:  46%|████▌     | 74/162 [1:37:41<2:08:44, 87.78s/it]"
     ]
    },
    {
     "data": {
      "text/latex": [
       "\n",
       "Đặt $t = \\sqrt{\\ln x} \\Rightarrow t^2 = \\ln x \\Rightarrow 2t \\, dt = \\frac{1}{x} dx \\Rightarrow \\frac{dx}{x} = 2t \\, dt$.\n",
       "\n",
       "Khi đó, nguyên hàm trở thành:\n",
       "\\[\n",
       "\\int \\frac{t^4}{1 + t} \\cdot 2t \\, dt = 2 \\int \\frac{t^5}{1 + t} \\, dt\n",
       "\\]\n",
       "\n",
       "Thực hiện phép chia đa thức $t^5$ cho $t + 1$, ta được:\n",
       "\\[\n",
       "\\frac{t^5}{t + 1} = t^4 - t^3 + t^2 - t + 1 - \\frac{1}{t + 1}\n",
       "\\]\n",
       "\n",
       "Tích phân trở thành:\n",
       "\\[\n",
       "2 \\int \\left( t^4 - t^3 + t^2 - t + 1 - \\frac{1}{t + 1} \\right) dt\n",
       "\\]\n",
       "\n",
       "Tính từng tích phân:\n",
       "\\[\n",
       "2 \\left( \\frac{t^5}{5} - \\frac{t^4}{4} + \\frac{t^3}{3} - \\frac{t^2}{2} + t - \\ln|t + 1| \\right) + C\n",
       "\\]\n",
       "\n",
       "Thay $t = \\sqrt{\\ln x}$ vào kết quả:\n",
       "\\[\n",
       "2 \\left( \\frac{(\\sqrt{\\ln x})^5}{5} - \\frac{(\\sqrt{\\ln x})^4}{4} + \\frac{(\\sqrt{\\ln x})^3}{3} - \\frac{(\\sqrt{\\ln x})^2}{2} + \\sqrt{\\ln x} - \\ln(\\sqrt{\\ln x} + 1) \\right) + C\n",
       "\\]\n",
       "\n",
       "Rút gọn các số hạng:\n",
       "\\[\n",
       "\\frac{2}{5} (\\ln x)^{5/2} - \\frac{1}{2} (\\ln x)^2 + \\frac{2}{3} (\\ln x)^{3/2} - \\ln x + 2\\sqrt{\\ln x} - 2\\ln\\left(\\sqrt{\\ln x} + 1\\right) + C\n",
       "\\]\n"
      ],
      "text/plain": [
       "<IPython.core.display.Latex object>"
      ]
     },
     "metadata": {},
     "output_type": "display_data"
    },
    {
     "name": "stderr",
     "output_type": "stream",
     "text": [
      "Processing Questions:  46%|████▋     | 75/162 [1:39:41<2:21:10, 97.36s/it]"
     ]
    },
    {
     "data": {
      "text/latex": [
       "\n",
       "Đầu tiên, ta thực hiện phép chia đa thức cho tử số $(x+1)^3$ và mẫu số $x^2 + 2x - 3$:\n",
       "\n",
       "1. **Khai triển tử số:**\n",
       "   \\[\n",
       "   (x+1)^3 = x^3 + 3x^2 + 3x + 1\n",
       "   \\]\n",
       "\n",
       "2. **Chia đa thức:**\n",
       "   - Chia $x^3$ cho $x^2$ được $x$, nhân ngược lại và trừ:\n",
       "     \\[\n",
       "     (x^3 + 3x^2 + 3x + 1) - x(x^2 + 2x - 3) = x^2 + 6x + 1\n",
       "     \\]\n",
       "   - Chia $x^2$ cho $x^2$ được $1$, nhân ngược lại và trừ:\n",
       "     \\[\n",
       "     (x^2 + 6x + 1) - 1(x^2 + 2x - 3) = 4x + 4\n",
       "     \\]\n",
       "   - Kết quả phép chia: $(x + 1) + \\frac{4x + 4}{x^2 + 2x - 3}$.\n",
       "\n",
       "3. **Tách tích phân:**\n",
       "   \\[\n",
       "   \\int \\frac{(x+1)^3}{x^2 + 2x - 3} dx = \\int (x + 1) dx + \\int \\frac{4x + 4}{x^2 + 2x - 3} dx\n",
       "   \\]\n",
       "\n",
       "4. **Tính từng tích phân:**\n",
       "   - **Tích phân thứ nhất:**\n",
       "     \\[\n",
       "     \\int (x + 1) dx = \\frac{1}{2}x^2 + x + C\n",
       "     \\]\n",
       "   - **Tích phân thứ hai:**  \n",
       "     Nhận thấy $4x + 4 = 2(2x + 2)$ và $2x + 2$ là đạo hàm của mẫu số $x^2 + 2x - 3$, nên:\n",
       "     \\[\n",
       "     \\int \\frac{4x + 4}{x^2 + 2x - 3} dx = 2 \\int \\frac{2x + 2}{x^2 + 2x - 3} dx = 2 \\ln|x^2 + 2x - 3| + C\n",
       "     \\]\n",
       "\n",
       "**Kết hợp kết quả:**\n",
       "\\[\n",
       "\\frac{1}{2}x^2 + x + 2 \\ln|x^2 + 2x - 3| + C\n",
       "\\]\n"
      ],
      "text/plain": [
       "<IPython.core.display.Latex object>"
      ]
     },
     "metadata": {},
     "output_type": "display_data"
    },
    {
     "name": "stderr",
     "output_type": "stream",
     "text": [
      "Processing Questions:  47%|████▋     | 76/162 [1:41:09<1:54:28, 79.87s/it]\n"
     ]
    },
    {
     "ename": "APIError",
     "evalue": "Error code: 402 - {\"message\": \"Credit limit exceeded. Please navigate to https://api.together.xyz/settings/billing to upgrade your plan.\", \"type_\": \"credit_limit\"}",
     "output_type": "error",
     "traceback": [
      "\u001b[0;31m---------------------------------------------------------------------------\u001b[0m",
      "\u001b[0;31mAPIError\u001b[0m                                  Traceback (most recent call last)",
      "Cell \u001b[0;32mIn[5], line 7\u001b[0m\n\u001b[1;32m      4\u001b[0m questions_list \u001b[38;5;241m=\u001b[39m [q \u001b[38;5;28;01mfor\u001b[39;00m chapter \u001b[38;5;129;01min\u001b[39;00m data[\u001b[38;5;124m\"\u001b[39m\u001b[38;5;124mdata\u001b[39m\u001b[38;5;124m\"\u001b[39m] \u001b[38;5;28;01mfor\u001b[39;00m topic \u001b[38;5;129;01min\u001b[39;00m chapter[\u001b[38;5;124m\"\u001b[39m\u001b[38;5;124mtopics\u001b[39m\u001b[38;5;124m\"\u001b[39m] \u001b[38;5;28;01mfor\u001b[39;00m q \u001b[38;5;129;01min\u001b[39;00m topic[\u001b[38;5;124m\"\u001b[39m\u001b[38;5;124mquestions\u001b[39m\u001b[38;5;124m\"\u001b[39m]]\n\u001b[1;32m      6\u001b[0m \u001b[38;5;28;01mfor\u001b[39;00m q \u001b[38;5;129;01min\u001b[39;00m tqdm(questions_list, desc\u001b[38;5;241m=\u001b[39m\u001b[38;5;124m\"\u001b[39m\u001b[38;5;124mProcessing Questions\u001b[39m\u001b[38;5;124m\"\u001b[39m):\n\u001b[0;32m----> 7\u001b[0m     ai_response \u001b[38;5;241m=\u001b[39m \u001b[43mget_answer\u001b[49m\u001b[43m(\u001b[49m\u001b[43mq\u001b[49m\u001b[43m[\u001b[49m\u001b[38;5;124;43m\"\u001b[39;49m\u001b[38;5;124;43mquestion\u001b[39;49m\u001b[38;5;124;43m\"\u001b[39;49m\u001b[43m]\u001b[49m\u001b[43m)\u001b[49m  \u001b[38;5;66;03m# API Call\u001b[39;00m\n\u001b[1;32m      8\u001b[0m     display(Latex(ai_response[\u001b[38;5;124m\"\u001b[39m\u001b[38;5;124msolution\u001b[39m\u001b[38;5;124m\"\u001b[39m]))\n\u001b[1;32m      9\u001b[0m     rows\u001b[38;5;241m.\u001b[39mappend([\n\u001b[1;32m     10\u001b[0m         q[\u001b[38;5;124m\"\u001b[39m\u001b[38;5;124mquestion\u001b[39m\u001b[38;5;124m\"\u001b[39m], \n\u001b[1;32m     11\u001b[0m         q[\u001b[38;5;124m\"\u001b[39m\u001b[38;5;124msolution\u001b[39m\u001b[38;5;124m\"\u001b[39m], \n\u001b[0;32m   (...)\u001b[0m\n\u001b[1;32m     14\u001b[0m         ai_response[\u001b[38;5;124m\"\u001b[39m\u001b[38;5;124manswer\u001b[39m\u001b[38;5;124m\"\u001b[39m]\n\u001b[1;32m     15\u001b[0m     ])\n",
      "Cell \u001b[0;32mIn[4], line 9\u001b[0m, in \u001b[0;36mget_answer\u001b[0;34m(problem)\u001b[0m\n\u001b[1;32m      8\u001b[0m \u001b[38;5;28;01mdef\u001b[39;00m \u001b[38;5;21mget_answer\u001b[39m(problem):\n\u001b[0;32m----> 9\u001b[0m         response \u001b[38;5;241m=\u001b[39m \u001b[43mclient\u001b[49m\u001b[38;5;241;43m.\u001b[39;49m\u001b[43mchat\u001b[49m\u001b[38;5;241;43m.\u001b[39;49m\u001b[43mcompletions\u001b[49m\u001b[38;5;241;43m.\u001b[39;49m\u001b[43mcreate\u001b[49m\u001b[43m(\u001b[49m\n\u001b[1;32m     10\u001b[0m \u001b[43m                \u001b[49m\u001b[43mmodel\u001b[49m\u001b[38;5;241;43m=\u001b[39;49m\u001b[38;5;124;43m\"\u001b[39;49m\u001b[38;5;124;43mdeepseek-ai/DeepSeek-R1\u001b[39;49m\u001b[38;5;124;43m\"\u001b[39;49m\u001b[43m,\u001b[49m\n\u001b[1;32m     11\u001b[0m \u001b[43m                \u001b[49m\u001b[43mmessages\u001b[49m\u001b[38;5;241;43m=\u001b[39;49m\u001b[43m[\u001b[49m\u001b[43m{\u001b[49m\u001b[38;5;124;43m\"\u001b[39;49m\u001b[38;5;124;43mrole\u001b[39;49m\u001b[38;5;124;43m\"\u001b[39;49m\u001b[43m:\u001b[49m\u001b[43m \u001b[49m\u001b[38;5;124;43m\"\u001b[39;49m\u001b[38;5;124;43muser\u001b[39;49m\u001b[38;5;124;43m\"\u001b[39;49m\u001b[43m,\u001b[49m\u001b[43m \u001b[49m\u001b[38;5;124;43m\"\u001b[39;49m\u001b[38;5;124;43mcontent\u001b[39;49m\u001b[38;5;124;43m\"\u001b[39;49m\u001b[43m:\u001b[49m\u001b[43m \u001b[49m\u001b[43mPROMPT_text\u001b[49m\u001b[38;5;241;43m.\u001b[39;49m\u001b[43mformat\u001b[49m\u001b[43m(\u001b[49m\u001b[43mproblem\u001b[49m\u001b[38;5;241;43m=\u001b[39;49m\u001b[43mproblem\u001b[49m\u001b[43m)\u001b[49m\u001b[43m}\u001b[49m\u001b[43m]\u001b[49m\u001b[43m,\u001b[49m\n\u001b[1;32m     12\u001b[0m \u001b[43m                \u001b[49m\u001b[43m)\u001b[49m\u001b[38;5;241m.\u001b[39mchoices[\u001b[38;5;241m0\u001b[39m]\u001b[38;5;241m.\u001b[39mmessage\u001b[38;5;241m.\u001b[39mcontent\n\u001b[1;32m     13\u001b[0m         \u001b[38;5;28;01mif\u001b[39;00m response \u001b[38;5;129;01mis\u001b[39;00m \u001b[38;5;28;01mNone\u001b[39;00m:\n\u001b[1;32m     14\u001b[0m                 \u001b[38;5;28;01mreturn\u001b[39;00m {\u001b[38;5;124m\"\u001b[39m\u001b[38;5;124msolution\u001b[39m\u001b[38;5;124m\"\u001b[39m: \u001b[38;5;124m\"\u001b[39m\u001b[38;5;124mAI failed to generate a solution\u001b[39m\u001b[38;5;124m\"\u001b[39m, \u001b[38;5;124m\"\u001b[39m\u001b[38;5;124manswer\u001b[39m\u001b[38;5;124m\"\u001b[39m: \u001b[38;5;124m\"\u001b[39m\u001b[38;5;124mAI failed to generate an answer\u001b[39m\u001b[38;5;124m\"\u001b[39m}\n",
      "File \u001b[0;32m~/anaconda3/envs/mira/lib/python3.10/site-packages/together/resources/chat/completions.py:141\u001b[0m, in \u001b[0;36mChatCompletions.create\u001b[0;34m(self, messages, model, max_tokens, stop, temperature, top_p, top_k, repetition_penalty, presence_penalty, frequency_penalty, min_p, logit_bias, seed, stream, logprobs, echo, n, safety_model, response_format, tools, tool_choice, **kwargs)\u001b[0m\n\u001b[1;32m    112\u001b[0m requestor \u001b[38;5;241m=\u001b[39m api_requestor\u001b[38;5;241m.\u001b[39mAPIRequestor(\n\u001b[1;32m    113\u001b[0m     client\u001b[38;5;241m=\u001b[39m\u001b[38;5;28mself\u001b[39m\u001b[38;5;241m.\u001b[39m_client,\n\u001b[1;32m    114\u001b[0m )\n\u001b[1;32m    116\u001b[0m parameter_payload \u001b[38;5;241m=\u001b[39m ChatCompletionRequest(\n\u001b[1;32m    117\u001b[0m     model\u001b[38;5;241m=\u001b[39mmodel,\n\u001b[1;32m    118\u001b[0m     messages\u001b[38;5;241m=\u001b[39mmessages,\n\u001b[0;32m   (...)\u001b[0m\n\u001b[1;32m    138\u001b[0m     \u001b[38;5;241m*\u001b[39m\u001b[38;5;241m*\u001b[39mkwargs,\n\u001b[1;32m    139\u001b[0m )\u001b[38;5;241m.\u001b[39mmodel_dump(exclude_none\u001b[38;5;241m=\u001b[39m\u001b[38;5;28;01mTrue\u001b[39;00m)\n\u001b[0;32m--> 141\u001b[0m response, _, _ \u001b[38;5;241m=\u001b[39m \u001b[43mrequestor\u001b[49m\u001b[38;5;241;43m.\u001b[39;49m\u001b[43mrequest\u001b[49m\u001b[43m(\u001b[49m\n\u001b[1;32m    142\u001b[0m \u001b[43m    \u001b[49m\u001b[43moptions\u001b[49m\u001b[38;5;241;43m=\u001b[39;49m\u001b[43mTogetherRequest\u001b[49m\u001b[43m(\u001b[49m\n\u001b[1;32m    143\u001b[0m \u001b[43m        \u001b[49m\u001b[43mmethod\u001b[49m\u001b[38;5;241;43m=\u001b[39;49m\u001b[38;5;124;43m\"\u001b[39;49m\u001b[38;5;124;43mPOST\u001b[39;49m\u001b[38;5;124;43m\"\u001b[39;49m\u001b[43m,\u001b[49m\n\u001b[1;32m    144\u001b[0m \u001b[43m        \u001b[49m\u001b[43murl\u001b[49m\u001b[38;5;241;43m=\u001b[39;49m\u001b[38;5;124;43m\"\u001b[39;49m\u001b[38;5;124;43mchat/completions\u001b[39;49m\u001b[38;5;124;43m\"\u001b[39;49m\u001b[43m,\u001b[49m\n\u001b[1;32m    145\u001b[0m \u001b[43m        \u001b[49m\u001b[43mparams\u001b[49m\u001b[38;5;241;43m=\u001b[39;49m\u001b[43mparameter_payload\u001b[49m\u001b[43m,\u001b[49m\n\u001b[1;32m    146\u001b[0m \u001b[43m    \u001b[49m\u001b[43m)\u001b[49m\u001b[43m,\u001b[49m\n\u001b[1;32m    147\u001b[0m \u001b[43m    \u001b[49m\u001b[43mstream\u001b[49m\u001b[38;5;241;43m=\u001b[39;49m\u001b[43mstream\u001b[49m\u001b[43m,\u001b[49m\n\u001b[1;32m    148\u001b[0m \u001b[43m\u001b[49m\u001b[43m)\u001b[49m\n\u001b[1;32m    150\u001b[0m \u001b[38;5;28;01mif\u001b[39;00m stream:\n\u001b[1;32m    151\u001b[0m     \u001b[38;5;66;03m# must be an iterator\u001b[39;00m\n\u001b[1;32m    152\u001b[0m     \u001b[38;5;28;01massert\u001b[39;00m \u001b[38;5;129;01mnot\u001b[39;00m \u001b[38;5;28misinstance\u001b[39m(response, TogetherResponse)\n",
      "File \u001b[0;32m~/anaconda3/envs/mira/lib/python3.10/site-packages/together/abstract/api_requestor.py:249\u001b[0m, in \u001b[0;36mAPIRequestor.request\u001b[0;34m(self, options, stream, remaining_retries, request_timeout)\u001b[0m\n\u001b[1;32m    231\u001b[0m \u001b[38;5;28;01mdef\u001b[39;00m \u001b[38;5;21mrequest\u001b[39m(\n\u001b[1;32m    232\u001b[0m     \u001b[38;5;28mself\u001b[39m,\n\u001b[1;32m    233\u001b[0m     options: TogetherRequest,\n\u001b[0;32m   (...)\u001b[0m\n\u001b[1;32m    240\u001b[0m     \u001b[38;5;28mstr\u001b[39m \u001b[38;5;241m|\u001b[39m \u001b[38;5;28;01mNone\u001b[39;00m,\n\u001b[1;32m    241\u001b[0m ]:\n\u001b[1;32m    242\u001b[0m     result \u001b[38;5;241m=\u001b[39m \u001b[38;5;28mself\u001b[39m\u001b[38;5;241m.\u001b[39mrequest_raw(\n\u001b[1;32m    243\u001b[0m         options\u001b[38;5;241m=\u001b[39moptions,\n\u001b[1;32m    244\u001b[0m         remaining_retries\u001b[38;5;241m=\u001b[39mremaining_retries \u001b[38;5;129;01mor\u001b[39;00m \u001b[38;5;28mself\u001b[39m\u001b[38;5;241m.\u001b[39mretries,\n\u001b[1;32m    245\u001b[0m         stream\u001b[38;5;241m=\u001b[39mstream,\n\u001b[1;32m    246\u001b[0m         request_timeout\u001b[38;5;241m=\u001b[39mrequest_timeout,\n\u001b[1;32m    247\u001b[0m     )\n\u001b[0;32m--> 249\u001b[0m     resp, got_stream \u001b[38;5;241m=\u001b[39m \u001b[38;5;28;43mself\u001b[39;49m\u001b[38;5;241;43m.\u001b[39;49m\u001b[43m_interpret_response\u001b[49m\u001b[43m(\u001b[49m\u001b[43mresult\u001b[49m\u001b[43m,\u001b[49m\u001b[43m \u001b[49m\u001b[43mstream\u001b[49m\u001b[43m)\u001b[49m\n\u001b[1;32m    250\u001b[0m     \u001b[38;5;28;01mreturn\u001b[39;00m resp, got_stream, \u001b[38;5;28mself\u001b[39m\u001b[38;5;241m.\u001b[39mapi_key\n",
      "File \u001b[0;32m~/anaconda3/envs/mira/lib/python3.10/site-packages/together/abstract/api_requestor.py:635\u001b[0m, in \u001b[0;36mAPIRequestor._interpret_response\u001b[0;34m(self, result, stream)\u001b[0m\n\u001b[1;32m    632\u001b[0m \u001b[38;5;28;01melse\u001b[39;00m:\n\u001b[1;32m    633\u001b[0m     content \u001b[38;5;241m=\u001b[39m result\u001b[38;5;241m.\u001b[39mcontent\u001b[38;5;241m.\u001b[39mdecode(\u001b[38;5;124m\"\u001b[39m\u001b[38;5;124mutf-8\u001b[39m\u001b[38;5;124m\"\u001b[39m)\n\u001b[1;32m    634\u001b[0m \u001b[38;5;28;01mreturn\u001b[39;00m (\n\u001b[0;32m--> 635\u001b[0m     \u001b[38;5;28;43mself\u001b[39;49m\u001b[38;5;241;43m.\u001b[39;49m\u001b[43m_interpret_response_line\u001b[49m\u001b[43m(\u001b[49m\n\u001b[1;32m    636\u001b[0m \u001b[43m        \u001b[49m\u001b[43mcontent\u001b[49m\u001b[43m,\u001b[49m\n\u001b[1;32m    637\u001b[0m \u001b[43m        \u001b[49m\u001b[43mresult\u001b[49m\u001b[38;5;241;43m.\u001b[39;49m\u001b[43mstatus_code\u001b[49m\u001b[43m,\u001b[49m\n\u001b[1;32m    638\u001b[0m \u001b[43m        \u001b[49m\u001b[43mresult\u001b[49m\u001b[38;5;241;43m.\u001b[39;49m\u001b[43mheaders\u001b[49m\u001b[43m,\u001b[49m\n\u001b[1;32m    639\u001b[0m \u001b[43m        \u001b[49m\u001b[43mstream\u001b[49m\u001b[38;5;241;43m=\u001b[39;49m\u001b[38;5;28;43;01mFalse\u001b[39;49;00m\u001b[43m,\u001b[49m\n\u001b[1;32m    640\u001b[0m \u001b[43m    \u001b[49m\u001b[43m)\u001b[49m,\n\u001b[1;32m    641\u001b[0m     \u001b[38;5;28;01mFalse\u001b[39;00m,\n\u001b[1;32m    642\u001b[0m )\n",
      "File \u001b[0;32m~/anaconda3/envs/mira/lib/python3.10/site-packages/together/abstract/api_requestor.py:707\u001b[0m, in \u001b[0;36mAPIRequestor._interpret_response_line\u001b[0;34m(self, rbody, rcode, rheaders, stream)\u001b[0m\n\u001b[1;32m    705\u001b[0m \u001b[38;5;66;03m# Handle streaming errors\u001b[39;00m\n\u001b[1;32m    706\u001b[0m \u001b[38;5;28;01mif\u001b[39;00m \u001b[38;5;129;01mnot\u001b[39;00m \u001b[38;5;241m200\u001b[39m \u001b[38;5;241m<\u001b[39m\u001b[38;5;241m=\u001b[39m rcode \u001b[38;5;241m<\u001b[39m \u001b[38;5;241m300\u001b[39m:\n\u001b[0;32m--> 707\u001b[0m     \u001b[38;5;28;01mraise\u001b[39;00m \u001b[38;5;28mself\u001b[39m\u001b[38;5;241m.\u001b[39mhandle_error_response(resp, rcode, stream_error\u001b[38;5;241m=\u001b[39mstream)\n\u001b[1;32m    708\u001b[0m \u001b[38;5;28;01mreturn\u001b[39;00m resp\n",
      "\u001b[0;31mAPIError\u001b[0m: Error code: 402 - {\"message\": \"Credit limit exceeded. Please navigate to https://api.together.xyz/settings/billing to upgrade your plan.\", \"type_\": \"credit_limit\"}"
     ]
    }
   ],
   "source": [
    "import time\n",
    "\n",
    "rows = []\n",
    "questions_list = [q for chapter in data[\"data\"] for topic in chapter[\"topics\"] for q in topic[\"questions\"]]\n",
    "\n",
    "for q in tqdm(questions_list[], desc=\"Processing Questions\"):\n",
    "    ai_response = get_answer(q[\"question\"])  # API Call\n",
    "    display(Latex(ai_response[\"solution\"]))\n",
    "    rows.append([\n",
    "        q[\"question\"], \n",
    "        q[\"solution\"], \n",
    "        q[\"answer\"], \n",
    "        ai_response[\"solution\"], \n",
    "        ai_response[\"answer\"]\n",
    "    ])\n",
    "    \n",
    "    time.sleep(60 / 1.2)  # Sleep to respect 1.2 RPM\n",
    "\n",
    "# Create DataFrame\n",
    "df = pd.DataFrame(rows, columns=[\"Question\", \"Solution\", \"Answer\", \"AI Solution\", \"AI Answer\"])\n",
    "\n",
    "\n",
    "# Display DataFrame\n",
    "display(df)"
   ]
  },
  {
   "cell_type": "code",
   "execution_count": 10,
   "metadata": {},
   "outputs": [
    {
     "name": "stderr",
     "output_type": "stream",
     "text": [
      "Processing Questions:   0%|          | 0/86 [00:00<?, ?it/s]"
     ]
    },
    {
     "data": {
      "text/latex": [
       "\n",
       "**a) Tìm nguyên hàm của $\\int x \\sin x \\, dx$**\n",
       "\n",
       "Áp dụng phương pháp tích phân từng phần:\n",
       "- Đặt $\\begin{cases} u = x \\\\ dv = \\sin x \\, dx \\end{cases} \\Rightarrow \\begin{cases} du = dx \\\\ v = -\\cos x \\end{cases}$\n",
       "- Khi đó:\n",
       "  \\[\n",
       "  \\int x \\sin x \\, dx = -x \\cos x + \\int \\cos x \\, dx\n",
       "  \\]\n",
       "- Tính $\\int \\cos x \\, dx = \\sin x + C$\n",
       "- Kết hợp lại:\n",
       "  \\[\n",
       "  \\int x \\sin x \\, dx = -x \\cos x + \\sin x + C\n",
       "  \\]\n",
       "\n",
       "**b) Tìm nguyên hàm của $\\int e^x \\sin x \\, dx$**\n",
       "\n",
       "Áp dụng tích phân từng phần 2 lần:\n",
       "- Lần 1: Đặt $\\begin{cases} u = e^x \\\\ dv = \\sin x \\, dx \\end{cases} \\Rightarrow \\begin{cases} du = e^x dx \\\\ v = -\\cos x \\end{cases}$\n",
       "  \\[\n",
       "  \\int e^x \\sin x \\, dx = -e^x \\cos x + \\int e^x \\cos x \\, dx \\quad (1)\n",
       "  \\]\n",
       "- Lần 2: Tính $\\int e^x \\cos x \\, dx$ bằng cách đặt $\\begin{cases} u = e^x \\\\ dv = \\cos x \\, dx \\end{cases} \\Rightarrow \\begin{cases} du = e^x dx \\\\ v = \\sin x \\end{cases}$\n",
       "  \\[\n",
       "  \\int e^x \\cos x \\, dx = e^x \\sin x - \\int e^x \\sin x \\, dx \\quad (2)\n",
       "  \\]\n",
       "- Thay (2) vào (1):\n",
       "  \\[\n",
       "  \\int e^x \\sin x \\, dx = -e^x \\cos x + e^x \\sin x - \\int e^x \\sin x \\, dx\n",
       "  \\]\n",
       "- Gọi $I = \\int e^x \\sin x \\, dx$, ta có:\n",
       "  \\[\n",
       "  I = -e^x \\cos x + e^x \\sin x - I \\Rightarrow 2I = e^x (\\sin x - \\cos x) \\Rightarrow I = \\frac{e^x (\\sin x - \\cos x)}{2} + C\n",
       "  \\]\n"
      ],
      "text/plain": [
       "<IPython.core.display.Latex object>"
      ]
     },
     "metadata": {},
     "output_type": "display_data"
    },
    {
     "name": "stderr",
     "output_type": "stream",
     "text": [
      "Processing Questions:   1%|          | 1/86 [01:16<1:48:21, 76.49s/it]"
     ]
    },
    {
     "data": {
      "text/latex": [
       "\n",
       "**a) Tìm nguyên hàm của $\\int x \\cdot 2^x \\, dx$**\n",
       "\n",
       "Áp dụng phương pháp tích phân từng phần:\n",
       "- Đặt $\\begin{cases} u = x \\\\ dv = 2^x dx \\end{cases} \\Rightarrow \\begin{cases} du = dx \\\\ v = \\dfrac{2^x}{\\ln 2} \\end{cases}$\n",
       "- Theo công thức tích phân từng phần:\n",
       "\\[\n",
       "\\int x \\cdot 2^x \\, dx = x \\cdot \\dfrac{2^x}{\\ln 2} - \\int \\dfrac{2^x}{\\ln 2} \\, dx\n",
       "\\]\n",
       "- Tính tích phân còn lại:\n",
       "\\[\n",
       "\\int 2^x \\, dx = \\dfrac{2^x}{\\ln 2} + C\n",
       "\\]\n",
       "- Thay vào biểu thức trên:\n",
       "\\[\n",
       "\\int x \\cdot 2^x \\, dx = \\dfrac{x \\cdot 2^x}{\\ln 2} - \\dfrac{2^x}{(\\ln 2)^2} + C\n",
       "\\]\n",
       "\n",
       "**b) Tìm nguyên hàm của $\\int (x^2 - 1)e^x \\, dx$**\n",
       "\n",
       "Áp dụng tích phân từng phần hai lần:\n",
       "- **Lần 1**: Đặt $\\begin{cases} u = x^2 - 1 \\\\ dv = e^x dx \\end{cases} \\Rightarrow \\begin{cases} du = 2x \\, dx \\\\ v = e^x \\end{cases}$\n",
       "\\[\n",
       "\\int (x^2 - 1)e^x \\, dx = (x^2 - 1)e^x - \\int 2x \\cdot e^x \\, dx\n",
       "\\]\n",
       "- **Lần 2**: Tính $\\int 2x \\cdot e^x \\, dx$ bằng cách đặt $\\begin{cases} u = 2x \\\\ dv = e^x dx \\end{cases} \\Rightarrow \\begin{cases} du = 2 \\, dx \\\\ v = e^x \\end{cases}$\n",
       "\\[\n",
       "\\int 2x \\cdot e^x \\, dx = 2x \\cdot e^x - \\int 2e^x \\, dx = 2x e^x - 2e^x + C\n",
       "\\]\n",
       "- Thay kết quả vào biểu thức ban đầu:\n",
       "\\[\n",
       "\\int (x^2 - 1)e^x \\, dx = (x^2 - 1)e^x - \\left(2x e^x - 2e^x\\right) + C\n",
       "\\]\n",
       "- Rút gọn:\n",
       "\\[\n",
       "= (x^2 - 1 - 2x + 2)e^x + C = (x^2 - 2x + 1)e^x + C = (x - 1)^2 e^x + C\n",
       "\\]\n"
      ],
      "text/plain": [
       "<IPython.core.display.Latex object>"
      ]
     },
     "metadata": {},
     "output_type": "display_data"
    },
    {
     "name": "stderr",
     "output_type": "stream",
     "text": [
      "Processing Questions:   2%|▏         | 2/86 [02:30<1:44:38, 74.74s/it]"
     ]
    },
    {
     "data": {
      "text/latex": [
       "\n",
       "**a) Tìm nguyên hàm của $\\int 2x\\ln(x-1)dx$**\n",
       "\n",
       "Áp dụng phương pháp tích phân từng phần:\n",
       "- Đặt $\\begin{cases} u = \\ln(x-1) \\\\ dv = 2x \\, dx \\end{cases} \\Rightarrow \\begin{cases} du = \\dfrac{1}{x-1}dx \\\\ v = x^2 \\end{cases}$\n",
       "- Khi đó:\n",
       "  \\[\n",
       "  \\int 2x\\ln(x-1)dx = x^2 \\ln(x-1) - \\int \\dfrac{x^2}{x-1}dx\n",
       "  \\]\n",
       "  \n",
       "Giải tích phân $\\int \\dfrac{x^2}{x-1}dx$:\n",
       "- Thực hiện phép chia đa thức: $\\dfrac{x^2}{x-1} = x + 1 + \\dfrac{1}{x-1}$\n",
       "- Tích phân trở thành:\n",
       "  \\[\n",
       "  \\int \\left( x + 1 + \\dfrac{1}{x-1} \\right)dx = \\dfrac{1}{2}x^2 + x + \\ln|x-1| + C\n",
       "  \\]\n",
       "  \n",
       "Kết hợp các kết quả:\n",
       "\\[\n",
       "\\int 2x\\ln(x-1)dx = x^2 \\ln(x-1) - \\left( \\dfrac{1}{2}x^2 + x + \\ln|x-1| \\right) + C\n",
       "\\]\n",
       "\n",
       "**b) Tìm nguyên hàm của $\\int \\dfrac{\\ln(1+x)}{x^2}dx$**\n",
       "\n",
       "Áp dụng phương pháp tích phân từng phần:\n",
       "- Đặt $\\begin{cases} u = \\ln(1+x) \\\\ dv = \\dfrac{1}{x^2}dx \\end{cases} \\Rightarrow \\begin{cases} du = \\dfrac{1}{1+x}dx \\\\ v = -\\dfrac{1}{x} \\end{cases}$\n",
       "- Khi đó:\n",
       "  \\[\n",
       "  \\int \\dfrac{\\ln(1+x)}{x^2}dx = -\\dfrac{\\ln(1+x)}{x} + \\int \\dfrac{1}{x(1+x)}dx\n",
       "  \\]\n",
       "  \n",
       "Giải tích phân $\\int \\dfrac{1}{x(1+x)}dx$ bằng phân tích thành phân thức đơn giản:\n",
       "- Phân tích: $\\dfrac{1}{x(1+x)} = \\dfrac{1}{x} - \\dfrac{1}{1+x}$\n",
       "- Tích phân trở thành:\n",
       "  \\[\n",
       "  \\int \\left( \\dfrac{1}{x} - \\dfrac{1}{1+x} \\right)dx = \\ln|x| - \\ln|1+x| + C\n",
       "  \\]\n",
       "  \n",
       "Kết hợp các kết quả:\n",
       "\\[\n",
       "\\int \\dfrac{\\ln(1+x)}{x^2}dx = -\\dfrac{\\ln(1+x)}{x} + \\ln\\left| \\dfrac{x}{1+x} \\right| + C\n",
       "\\]\n"
      ],
      "text/plain": [
       "<IPython.core.display.Latex object>"
      ]
     },
     "metadata": {},
     "output_type": "display_data"
    },
    {
     "name": "stderr",
     "output_type": "stream",
     "text": [
      "Processing Questions:   3%|▎         | 3/86 [04:00<1:53:22, 81.96s/it]"
     ]
    },
    {
     "data": {
      "text/latex": [
       "\n",
       "Để tìm nguyên hàm của hàm số $\\int (1 - x)\\cos x \\, dx$, ta sử dụng phương pháp tích phân từng phần:\n",
       "\n",
       "**Bước 1:** Đặt  \n",
       "$\\begin{cases} \n",
       "u = 1 - x \\\\ \n",
       "dv = \\cos x \\, dx \n",
       "\\end{cases}$  \n",
       "$\\Rightarrow \\begin{cases} \n",
       "du = -dx \\\\ \n",
       "v = \\sin x \n",
       "\\end{cases}$\n",
       "\n",
       "**Bước 2:** Áp dụng công thức tích phân từng phần:  \n",
       "$\\int u \\, dv = uv - \\int v \\, du$  \n",
       "Thay vào ta được:  \n",
       "$\\int (1 - x)\\cos x \\, dx = (1 - x)\\sin x - \\int \\sin x \\cdot (-dx)$  \n",
       "$= (1 - x)\\sin x + \\int \\sin x \\, dx$\n",
       "\n",
       "**Bước 3:** Tính $\\int \\sin x \\, dx = -\\cos x + C$  \n",
       "Kết hợp các kết quả:  \n",
       "$\\int (1 - x)\\cos x \\, dx = (1 - x)\\sin x - \\cos x + C$\n",
       "\n",
       "**Kiểm tra:** Đạo hàm kết quả:  \n",
       "$\\frac{d}{dx}\\left[(1 - x)\\sin x - \\cos x\\right] = (1 - x)\\cos x - \\sin x + \\sin x = (1 - x)\\cos x$  \n",
       "→ Đúng với hàm số ban đầu.\n"
      ],
      "text/plain": [
       "<IPython.core.display.Latex object>"
      ]
     },
     "metadata": {},
     "output_type": "display_data"
    },
    {
     "name": "stderr",
     "output_type": "stream",
     "text": [
      "Processing Questions:   5%|▍         | 4/86 [05:05<1:43:00, 75.37s/it]"
     ]
    },
    {
     "data": {
      "text/latex": [
       "\n",
       "Để tìm nguyên hàm của hàm số $\\int x \\sin 2x \\, dx$, ta sử dụng phương pháp tích phân từng phần.\n",
       "\n",
       "**Bước 1:** Đặt $\\begin{cases} \n",
       "u = x \\\\ \n",
       "dv = \\sin 2x \\, dx \n",
       "\\end{cases}$  \n",
       "Suy ra:  \n",
       "$\\begin{cases} \n",
       "du = dx \\\\ \n",
       "v = -\\dfrac{1}{2} \\cos 2x \n",
       "\\end{cases}$\n",
       "\n",
       "**Bước 2:** Áp dụng công thức tích phân từng phần $\\int u \\, dv = uv - \\int v \\, du$:  \n",
       "\\[\n",
       "\\int x \\sin 2x \\, dx = x \\left(-\\dfrac{1}{2} \\cos 2x\\right) - \\int \\left(-\\dfrac{1}{2} \\cos 2x\\right) dx\n",
       "\\]\n",
       "\n",
       "**Bước 3:** Rút gọn biểu thức:  \n",
       "\\[\n",
       "= -\\dfrac{x}{2} \\cos 2x + \\dfrac{1}{2} \\int \\cos 2x \\, dx\n",
       "\\]\n",
       "\n",
       "**Bước 4:** Tính $\\int \\cos 2x \\, dx$:  \n",
       "\\[\n",
       "\\int \\cos 2x \\, dx = \\dfrac{1}{2} \\sin 2x + C\n",
       "\\]\n",
       "\n",
       "**Bước 5:** Thay vào biểu thức và kết luận:  \n",
       "\\[\n",
       "\\int x \\sin 2x \\, dx = -\\dfrac{x}{2} \\cos 2x + \\dfrac{1}{4} \\sin 2x + C\n",
       "\\]\n"
      ],
      "text/plain": [
       "<IPython.core.display.Latex object>"
      ]
     },
     "metadata": {},
     "output_type": "display_data"
    },
    {
     "name": "stderr",
     "output_type": "stream",
     "text": [
      "Processing Questions:   6%|▌         | 5/86 [06:12<1:37:40, 72.36s/it]"
     ]
    },
    {
     "data": {
      "text/latex": [
       "\n",
       "Để tìm nguyên hàm của hàm số $\\int x^2 \\cos x \\, dx$, ta sử dụng phương pháp tích phân từng phần hai lần.\n",
       "\n",
       "**Bước 1:** Đặt $\\begin{cases} \n",
       "u = x^2 \\\\ \n",
       "dv = \\cos x \\, dx \n",
       "\\end{cases} \\Rightarrow \\begin{cases} \n",
       "du = 2x \\, dx \\\\ \n",
       "v = \\sin x \n",
       "\\end{cases}$.\n",
       "\n",
       "Áp dụng công thức tích phân từng phần:\n",
       "\\[\n",
       "\\int x^2 \\cos x \\, dx = x^2 \\sin x - \\int \\sin x \\cdot 2x \\, dx = x^2 \\sin x - 2 \\int x \\sin x \\, dx.\n",
       "\\]\n",
       "\n",
       "**Bước 2:** Tính $\\int x \\sin x \\, dx$ bằng tích phân từng phần lần hai. Đặt $\\begin{cases} \n",
       "u = x \\\\ \n",
       "dv = \\sin x \\, dx \n",
       "\\end{cases} \\Rightarrow \\begin{cases} \n",
       "du = dx \\\\ \n",
       "v = -\\cos x \n",
       "\\end{cases}$.\n",
       "\n",
       "Khi đó:\n",
       "\\[\n",
       "\\int x \\sin x \\, dx = -x \\cos x + \\int \\cos x \\, dx = -x \\cos x + \\sin x + C.\n",
       "\\]\n",
       "\n",
       "**Bước 3:** Thay kết quả vào biểu thức ban đầu:\n",
       "\\[\n",
       "\\int x^2 \\cos x \\, dx = x^2 \\sin x - 2 \\left( -x \\cos x + \\sin x \\right) + C = x^2 \\sin x + 2x \\cos x - 2 \\sin x + C.\n",
       "\\]\n"
      ],
      "text/plain": [
       "<IPython.core.display.Latex object>"
      ]
     },
     "metadata": {},
     "output_type": "display_data"
    },
    {
     "name": "stderr",
     "output_type": "stream",
     "text": [
      "Processing Questions:   7%|▋         | 6/86 [07:20<1:34:28, 70.85s/it]"
     ]
    },
    {
     "data": {
      "text/latex": [
       "\n",
       "Để tìm nguyên hàm của hàm số $\\int \\ln x \\, dx$, ta sử dụng phương pháp **tích phân từng phần**:\n",
       "\n",
       "**Bước 1:** Đặt  \n",
       "$\\begin{cases}\n",
       "u = \\ln x \\\\\n",
       "dv = dx\n",
       "\\end{cases}$  \n",
       "$\\Rightarrow \\begin{cases}\n",
       "du = \\dfrac{1}{x} dx \\\\\n",
       "v = x\n",
       "\\end{cases}$\n",
       "\n",
       "**Bước 2:** Áp dụng công thức tích phân từng phần $\\int u \\, dv = uv - \\int v \\, du$:  \n",
       "$$\n",
       "\\int \\ln x \\, dx = x \\ln x - \\int x \\cdot \\dfrac{1}{x} dx = x \\ln x - \\int 1 \\, dx\n",
       "$$\n",
       "\n",
       "**Bước 3:** Tính $\\int 1 \\, dx = x + C$:  \n",
       "$$\n",
       "\\int \\ln x \\, dx = x \\ln x - x + C\n",
       "$$\n",
       "\n",
       "**Kiểm tra:** Đạo hàm của $x \\ln x - x$ là:  \n",
       "$\\dfrac{d}{dx}(x \\ln x) - \\dfrac{d}{dx}(x) = \\ln x + 1 - 1 = \\ln x$ (đúng với hàm số ban đầu).\n"
      ],
      "text/plain": [
       "<IPython.core.display.Latex object>"
      ]
     },
     "metadata": {},
     "output_type": "display_data"
    },
    {
     "name": "stderr",
     "output_type": "stream",
     "text": [
      "Processing Questions:   8%|▊         | 7/86 [08:29<1:32:25, 70.20s/it]"
     ]
    },
    {
     "data": {
      "text/latex": [
       "\n",
       "Đặt $u = \\ln x \\Rightarrow du = \\dfrac{1}{x}dx$. Khi đó, tích phân trở thành:\n",
       "\\[\n",
       "\\int \\ln u \\, du\n",
       "\\]\n",
       "Sử dụng tích phân từng phần với $\\begin{cases} f = \\ln u \\\\ dg = du \\end{cases} \\Rightarrow \\begin{cases} df = \\dfrac{1}{u}du \\\\ g = u \\end{cases}$, ta có:\n",
       "\\[\n",
       "\\int \\ln u \\, du = u \\ln u - \\int u \\cdot \\dfrac{1}{u}du = u \\ln u - \\int 1 \\, du = u \\ln u - u + C\n",
       "\\]\n",
       "Thay $u = \\ln x$ vào kết quả, ta được:\n",
       "\\[\n",
       "\\ln x \\cdot \\ln(\\ln x) - \\ln x + C = \\ln x \\left( \\ln(\\ln x) - 1 \\right) + C\n",
       "\\]\n"
      ],
      "text/plain": [
       "<IPython.core.display.Latex object>"
      ]
     },
     "metadata": {},
     "output_type": "display_data"
    },
    {
     "name": "stderr",
     "output_type": "stream",
     "text": [
      "Processing Questions:   9%|▉         | 8/86 [09:34<1:28:56, 68.42s/it]"
     ]
    },
    {
     "data": {
      "text/latex": [
       "\n",
       "Để tìm nguyên hàm của hàm số $\\int (x+2) e^{2x} \\, dx$, ta sử dụng phương pháp tích phân từng phần.\n",
       "\n",
       "**Bước 1:** Đặt $\\begin{cases} \n",
       "u = x + 2 \\\\\n",
       "dv = e^{2x} \\, dx \n",
       "\\end{cases}$  \n",
       "Suy ra $\\begin{cases} \n",
       "du = dx \\\\\n",
       "v = \\dfrac{1}{2} e^{2x} \n",
       "\\end{cases}$.\n",
       "\n",
       "**Bước 2:** Áp dụng công thức tích phân từng phần:\n",
       "\\[\n",
       "\\int (x+2) e^{2x} \\, dx = uv - \\int v \\, du = (x+2) \\cdot \\dfrac{1}{2} e^{2x} - \\int \\dfrac{1}{2} e^{2x} \\, dx\n",
       "\\]\n",
       "\n",
       "**Bước 3:** Tính tích phân còn lại:\n",
       "\\[\n",
       "\\int \\dfrac{1}{2} e^{2x} \\, dx = \\dfrac{1}{2} \\cdot \\dfrac{1}{2} e^{2x} + C = \\dfrac{1}{4} e^{2x} + C\n",
       "\\]\n",
       "\n",
       "**Bước 4:** Thay vào biểu thức ban đầu và rút gọn:\n",
       "\\[\n",
       "\\int (x+2) e^{2x} \\, dx = \\dfrac{1}{2} (x+2) e^{2x} - \\dfrac{1}{4} e^{2x} + C = \\dfrac{e^{2x}}{4} \\left(2x + 4 - 1 \\right) + C = \\dfrac{e^{2x}}{4} (2x + 3) + C\n",
       "\\]\n"
      ],
      "text/plain": [
       "<IPython.core.display.Latex object>"
      ]
     },
     "metadata": {},
     "output_type": "display_data"
    },
    {
     "name": "stderr",
     "output_type": "stream",
     "text": [
      "Processing Questions:  10%|█         | 9/86 [10:42<1:27:36, 68.26s/it]"
     ]
    },
    {
     "data": {
      "text/latex": [
       "\n",
       "Để tìm nguyên hàm $\\int (4x - 1)\\ln(x + 1) dx$, ta sử dụng phương pháp tích phân từng phần:\n",
       "\n",
       "**Bước 1:** Đặt $\\begin{cases} \n",
       "u = \\ln(x + 1) \\\\\n",
       "dv = (4x - 1)dx \n",
       "\\end{cases}$  \n",
       "Suy ra $\\begin{cases} \n",
       "du = \\dfrac{1}{x + 1}dx \\\\\n",
       "v = 2x^2 - x \n",
       "\\end{cases}$\n",
       "\n",
       "**Bước 2:** Áp dụng công thức tích phân từng phần:\n",
       "\\[\n",
       "\\int (4x - 1)\\ln(x + 1) dx = (2x^2 - x)\\ln(x + 1) - \\int \\dfrac{2x^2 - x}{x + 1} dx\n",
       "\\]\n",
       "\n",
       "**Bước 3:** Tính $\\int \\dfrac{2x^2 - x}{x + 1} dx$ bằng cách chia đa thức:\n",
       "\\[\n",
       "\\dfrac{2x^2 - x}{x + 1} = 2x - 3 + \\dfrac{3}{x + 1}\n",
       "\\]\n",
       "Do đó:\n",
       "\\[\n",
       "\\int \\dfrac{2x^2 - x}{x + 1} dx = \\int (2x - 3) dx + \\int \\dfrac{3}{x + 1} dx = x^2 - 3x + 3\\ln|x + 1| + C\n",
       "\\]\n",
       "\n",
       "**Bước 4:** Thay kết quả vào công thức tích phân từng phần:\n",
       "\\[\n",
       "\\int (4x - 1)\\ln(x + 1) dx = (2x^2 - x)\\ln(x + 1) - \\left( x^2 - 3x + 3\\ln|x + 1| \\right) + C\n",
       "\\]\n",
       "\n",
       "**Bước 5:** Rút gọn biểu thức:\n",
       "\\[\n",
       "(2x^2 - x)\\ln(x + 1) - x^2 + 3x - 3\\ln|x + 1| + C\n",
       "\\]\n"
      ],
      "text/plain": [
       "<IPython.core.display.Latex object>"
      ]
     },
     "metadata": {},
     "output_type": "display_data"
    },
    {
     "name": "stderr",
     "output_type": "stream",
     "text": [
      "Processing Questions:  12%|█▏        | 10/86 [12:01<1:30:58, 71.82s/it]"
     ]
    },
    {
     "data": {
      "text/latex": [
       "\n",
       "Để tìm nguyên hàm của hàm số $\\int x^2 \\sin(1-3x) \\, dx$, ta sử dụng phương pháp tích phân từng phần hai lần.\n",
       "\n",
       "**Bước 1:** Đặt $\\begin{cases} \n",
       "u = x^2 \\\\ \n",
       "dv = \\sin(1-3x) \\, dx \n",
       "\\end{cases}$  \n",
       "$\\Rightarrow \\begin{cases} \n",
       "du = 2x \\, dx \\\\ \n",
       "v = \\dfrac{1}{3} \\cos(1-3x) \n",
       "\\end{cases}$\n",
       "\n",
       "Áp dụng công thức tích phân từng phần:\n",
       "\\[\n",
       "\\int x^2 \\sin(1-3x) \\, dx = \\dfrac{x^2}{3} \\cos(1-3x) - \\dfrac{2}{3} \\int x \\cos(1-3x) \\, dx\n",
       "\\]\n",
       "\n",
       "**Bước 2:** Tính $\\int x \\cos(1-3x) \\, dx$ bằng tích phân từng phần:\n",
       "Đặt $\\begin{cases} \n",
       "u = x \\\\ \n",
       "dv = \\cos(1-3x) \\, dx \n",
       "\\end{cases}$  \n",
       "$\\Rightarrow \\begin{cases} \n",
       "du = dx \\\\ \n",
       "v = -\\dfrac{1}{3} \\sin(1-3x) \n",
       "\\end{cases}$\n",
       "\n",
       "Áp dụng công thức tích phân từng phần:\n",
       "\\[\n",
       "\\int x \\cos(1-3x) \\, dx = -\\dfrac{x}{3} \\sin(1-3x) + \\dfrac{1}{3} \\int \\sin(1-3x) \\, dx\n",
       "\\]\n",
       "\\[\n",
       "= -\\dfrac{x}{3} \\sin(1-3x) - \\dfrac{1}{9} \\cos(1-3x) + C\n",
       "\\]\n",
       "\n",
       "**Bước 3:** Thay kết quả vào biểu thức ban đầu:\n",
       "\\[\n",
       "\\int x^2 \\sin(1-3x) \\, dx = \\dfrac{x^2}{3} \\cos(1-3x) - \\dfrac{2}{3} \\left( -\\dfrac{x}{3} \\sin(1-3x) - \\dfrac{1}{9} \\cos(1-3x) \\right) + C\n",
       "\\]\n",
       "\\[\n",
       "= \\dfrac{x^2}{3} \\cos(1-3x) + \\dfrac{2x}{9} \\sin(1-3x) + \\dfrac{2}{27} \\cos(1-3x) + C\n",
       "\\]\n",
       "\n",
       "**Kết hợp các số hạng:**\n",
       "\\[\n",
       "\\int x^2 \\sin(1-3x) \\, dx = \\left( \\dfrac{x^2}{3} + \\dfrac{2}{27} \\right) \\cos(1-3x) + \\dfrac{2x}{9} \\sin(1-3x) + C\n",
       "\\]\n"
      ],
      "text/plain": [
       "<IPython.core.display.Latex object>"
      ]
     },
     "metadata": {},
     "output_type": "display_data"
    },
    {
     "name": "stderr",
     "output_type": "stream",
     "text": [
      "Processing Questions:  13%|█▎        | 11/86 [13:22<1:33:12, 74.57s/it]"
     ]
    },
    {
     "data": {
      "text/latex": [
       "\n",
       "Để tìm nguyên hàm của hàm số $f(x) = \\frac{1}{x^2 + x -2}$, ta thực hiện các bước sau:\n",
       "\n",
       "**Bước 1: Phân tích mẫu số thành nhân tử**\n",
       "\\[\n",
       "x^2 + x - 2 = (x + 2)(x - 1)\n",
       "\\]\n",
       "\n",
       "**Bước 2: Phân tích phân thức hữu tỉ bằng phương pháp hệ số bất định**\n",
       "Giả sử:\n",
       "\\[\n",
       "\\frac{1}{(x + 2)(x - 1)} = \\frac{A}{x + 2} + \\frac{B}{x - 1}\n",
       "\\]\n",
       "Nhân hai vế với $(x + 2)(x - 1)$:\n",
       "\\[\n",
       "1 = A(x - 1) + B(x + 2)\n",
       "\\]\n",
       "Chọn $x = 1$:  \n",
       "$1 = A(0) + B(3) \\Rightarrow B = \\frac{1}{3}$  \n",
       "Chọn $x = -2$:  \n",
       "$1 = A(-3) + B(0) \\Rightarrow A = -\\frac{1}{3}$\n",
       "\n",
       "**Bước 3: Lấy nguyên hàm từng phần**\n",
       "\\[\n",
       "\\int \\frac{1}{x^2 + x -2} dx = -\\frac{1}{3} \\int \\frac{1}{x + 2} dx + \\frac{1}{3} \\int \\frac{1}{x - 1} dx\n",
       "\\]\n",
       "\\[\n",
       "= -\\frac{1}{3} \\ln|x + 2| + \\frac{1}{3} \\ln|x - 1| + C\n",
       "\\]\n",
       "\\[\n",
       "= \\frac{1}{3} \\ln\\left|\\frac{x - 1}{x + 2}\\right| + C\n",
       "\\]\n"
      ],
      "text/plain": [
       "<IPython.core.display.Latex object>"
      ]
     },
     "metadata": {},
     "output_type": "display_data"
    },
    {
     "name": "stderr",
     "output_type": "stream",
     "text": [
      "Processing Questions:  14%|█▍        | 12/86 [14:30<1:29:15, 72.37s/it]"
     ]
    },
    {
     "data": {
      "text/latex": [
       "\n",
       "Để tìm nguyên hàm của hàm số $I = \\int \\frac{x^3 - 1}{x + 1} \\, dx$, ta thực hiện các bước sau:\n",
       "\n",
       "1. **Thực hiện phép chia đa thức**:\n",
       "   Chia tử số $x^3 - 1$ cho mẫu số $x + 1$:\n",
       "   \\[\n",
       "   \\frac{x^3 - 1}{x + 1} = x^2 - x + 1 - \\frac{2}{x + 1}\n",
       "   \\]\n",
       "   \n",
       "2. **Tách tích phân thành các phần đơn giản**:\n",
       "   \\[\n",
       "   I = \\int \\left( x^2 - x + 1 - \\frac{2}{x + 1} \\right) dx = \\int x^2 \\, dx - \\int x \\, dx + \\int 1 \\, dx - 2 \\int \\frac{1}{x + 1} \\, dx\n",
       "   \\]\n",
       "\n",
       "3. **Tính từng tích phân**:\n",
       "   - $\\int x^2 \\, dx = \\frac{1}{3}x^3 + C_1$\n",
       "   - $-\\int x \\, dx = -\\frac{1}{2}x^2 + C_2$\n",
       "   - $\\int 1 \\, dx = x + C_3$\n",
       "   - $-2 \\int \\frac{1}{x + 1} \\, dx = -2 \\ln|x + 1| + C_4$\n",
       "\n",
       "4. **Kết hợp các kết quả**:\n",
       "   \\[\n",
       "   F(x) = \\frac{1}{3}x^3 - \\frac{1}{2}x^2 + x - 2 \\ln|x + 1| + C\n",
       "   \\]\n"
      ],
      "text/plain": [
       "<IPython.core.display.Latex object>"
      ]
     },
     "metadata": {},
     "output_type": "display_data"
    },
    {
     "name": "stderr",
     "output_type": "stream",
     "text": [
      "Processing Questions:  15%|█▌        | 13/86 [15:44<1:28:42, 72.91s/it]"
     ]
    },
    {
     "data": {
      "text/latex": [
       "\n",
       "Để tìm nguyên hàm của hàm số $f(x) = \\frac{1}{x^2 - 6x + 10}$, ta thực hiện các bước sau:\n",
       "\n",
       "1. **Biến đổi mẫu số về dạng bình phương:**\n",
       "   \\[\n",
       "   x^2 - 6x + 10 = (x^2 - 6x + 9) + 1 = (x - 3)^2 + 1\n",
       "   \\]\n",
       "   \n",
       "2. **Đặt ẩn phụ:**\n",
       "   Đặt $u = x - 3 \\Rightarrow du = dx$. Khi đó, nguyên hàm trở thành:\n",
       "   \\[\n",
       "   \\int \\frac{1}{u^2 + 1} \\, du\n",
       "   \\]\n",
       "   \n",
       "3. **Áp dụng công thức nguyên hàm cơ bản:**\n",
       "   \\[\n",
       "   \\int \\frac{1}{u^2 + 1} \\, du = \\arctan(u) + C\n",
       "   \\]\n",
       "   \n",
       "4. **Thay ngược lại biến $x$:**\n",
       "   \\[\n",
       "   \\arctan(u) + C = \\arctan(x - 3) + C\n",
       "   \\]\n",
       "   \n",
       "Vậy nguyên hàm của $f(x)$ là $F(x) = \\arctan(x - 3) + C$.\n"
      ],
      "text/plain": [
       "<IPython.core.display.Latex object>"
      ]
     },
     "metadata": {},
     "output_type": "display_data"
    },
    {
     "name": "stderr",
     "output_type": "stream",
     "text": [
      "Processing Questions:  16%|█▋        | 14/86 [16:47<1:24:07, 70.11s/it]"
     ]
    },
    {
     "data": {
      "text/latex": [
       "\n",
       "Để tính nguyên hàm của hàm số $f(x) = \\dfrac{x+1}{x-1}$, ta thực hiện các bước sau:\n",
       "\n",
       "1. **Tách phân thức:**\n",
       "   \\[\n",
       "   \\dfrac{x+1}{x-1} = \\dfrac{(x-1) + 2}{x-1} = 1 + \\dfrac{2}{x-1}\n",
       "   \\]\n",
       "\n",
       "2. **Tính nguyên hàm từng phần:**\n",
       "   \\[\n",
       "   \\int \\left(1 + \\dfrac{2}{x-1}\\right) dx = \\int 1 \\, dx + 2 \\int \\dfrac{1}{x-1} \\, dx\n",
       "   \\]\n",
       "\n",
       "3. **Giải các tích phân đơn giản:**\n",
       "   - $\\int 1 \\, dx = x + C_1$\n",
       "   - Đặt $u = x - 1 \\Rightarrow du = dx$, khi đó:\n",
       "     \\[\n",
       "     2 \\int \\dfrac{1}{u} \\, du = 2 \\ln|u| + C_2 = 2 \\ln|x - 1| + C_2\n",
       "     \\]\n",
       "\n",
       "4. **Kết hợp kết quả:**\n",
       "   \\[\n",
       "   F(x) = x + 2 \\ln|x - 1| + C \\quad (C = C_1 + C_2)\n",
       "   \\]\n"
      ],
      "text/plain": [
       "<IPython.core.display.Latex object>"
      ]
     },
     "metadata": {},
     "output_type": "display_data"
    },
    {
     "name": "stderr",
     "output_type": "stream",
     "text": [
      "Processing Questions:  17%|█▋        | 15/86 [17:51<1:20:37, 68.14s/it]"
     ]
    },
    {
     "data": {
      "text/latex": [
       "\n",
       "Để tính nguyên hàm $\\int \\frac{3x+3}{-x^2 - x + 2} \\, dx$, ta thực hiện các bước sau:\n",
       "\n",
       "**Bước 1: Phân tích mẫu số thành nhân tử**\n",
       "\\[\n",
       "-x^2 - x + 2 = - (x^2 + x - 2) = - (x + 2)(x - 1)\n",
       "\\]\n",
       "Do đó, tích phân trở thành:\n",
       "\\[\n",
       "\\int \\frac{3x + 3}{- (x + 2)(x - 1)} \\, dx = -\\int \\frac{3x + 3}{(x + 2)(x - 1)} \\, dx\n",
       "\\]\n",
       "\n",
       "**Bước 2: Phân tích phân thức hữu tỉ bằng phương pháp hệ số bất định**\n",
       "Giả sử:\n",
       "\\[\n",
       "\\frac{3x + 3}{(x + 2)(x - 1)} = \\frac{A}{x + 2} + \\frac{B}{x - 1}\n",
       "\\]\n",
       "Nhân hai vế với $(x + 2)(x - 1)$:\n",
       "\\[\n",
       "3x + 3 = A(x - 1) + B(x + 2)\n",
       "\\]\n",
       "Thay $x = 1$ và $x = -2$ để tìm $A$ và $B$:\n",
       "- Khi $x = 1$: $3(1) + 3 = B(3) \\Rightarrow B = -2$\n",
       "- Khi $x = -2$: $3(-2) + 3 = A(-3) \\Rightarrow A = -1$\n",
       "\n",
       "**Bước 3: Thay vào tích phân và tính toán**\n",
       "\\[\n",
       "-\\int \\left( \\frac{-1}{x + 2} + \\frac{-2}{x - 1} \\right) dx = \\int \\frac{1}{x + 2} \\, dx + 2\\int \\frac{1}{x - 1} \\, dx\n",
       "\\]\n",
       "Tích phân từng phần:\n",
       "\\[\n",
       "\\ln|x + 2| + 2\\ln|x - 1| + C\n",
       "\\]\n",
       "Kết hợp với dấu trừ ban đầu:\n",
       "\\[\n",
       "F(x) = -\\ln|x + 2| - 2\\ln|x - 1| + C\n",
       "\\]\n"
      ],
      "text/plain": [
       "<IPython.core.display.Latex object>"
      ]
     },
     "metadata": {},
     "output_type": "display_data"
    },
    {
     "name": "stderr",
     "output_type": "stream",
     "text": [
      "Processing Questions:  19%|█▊        | 16/86 [19:08<1:22:47, 70.96s/it]"
     ]
    },
    {
     "data": {
      "text/latex": [
       "\n",
       "Để tính nguyên hàm $\\int \\frac{1}{x^2 - 7x + 6} dx$, ta thực hiện các bước sau:\n",
       "\n",
       "**Bước 1: Phân tích mẫu số thành nhân tử**\n",
       "\\[\n",
       "x^2 - 7x + 6 = (x - 6)(x - 1)\n",
       "\\]\n",
       "\n",
       "**Bước 2: Phân tích phân thức bằng phương pháp hệ số bất định**\n",
       "Giả sử:\n",
       "\\[\n",
       "\\frac{1}{(x - 6)(x - 1)} = \\frac{A}{x - 6} + \\frac{B}{x - 1}\n",
       "\\]\n",
       "Nhân hai vế với $(x - 6)(x - 1)$:\n",
       "\\[\n",
       "1 = A(x - 1) + B(x - 6)\n",
       "\\]\n",
       "Thay $x = 6$:  \n",
       "$1 = A(5) \\Rightarrow A = \\frac{1}{5}$  \n",
       "Thay $x = 1$:  \n",
       "$1 = B(-5) \\Rightarrow B = -\\frac{1}{5}$\n",
       "\n",
       "**Bước 3: Tích phân từng phần**\n",
       "\\[\n",
       "\\int \\frac{1}{(x - 6)(x - 1)} dx = \\frac{1}{5} \\int \\frac{1}{x - 6} dx - \\frac{1}{5} \\int \\frac{1}{x - 1} dx\n",
       "\\]\n",
       "\\[\n",
       "= \\frac{1}{5} \\ln|x - 6| - \\frac{1}{5} \\ln|x - 1| + C\n",
       "\\]\n",
       "\\[\n",
       "= \\frac{1}{5} \\ln\\left|\\frac{x - 6}{x - 1}\\right| + C\n",
       "\\]\n"
      ],
      "text/plain": [
       "<IPython.core.display.Latex object>"
      ]
     },
     "metadata": {},
     "output_type": "display_data"
    },
    {
     "name": "stderr",
     "output_type": "stream",
     "text": [
      "Processing Questions:  20%|█▉        | 17/86 [20:13<1:19:30, 69.14s/it]"
     ]
    },
    {
     "data": {
      "text/latex": [
       "\n",
       "Để tính nguyên hàm của hàm số $I = \\int \\frac{2x^2 + x + 1}{x - 1} dx$, ta thực hiện các bước sau:\n",
       "\n",
       "**Bước 1: Thực hiện phép chia đa thức**  \n",
       "Chia tử số $2x^2 + x + 1$ cho mẫu số $x - 1$:\n",
       "- Thương: $2x + 3$  \n",
       "- Dư: $4$  \n",
       "Khi đó:  \n",
       "$$\n",
       "\\frac{2x^2 + x + 1}{x - 1} = 2x + 3 + \\frac{4}{x - 1}\n",
       "$$\n",
       "\n",
       "**Bước 2: Tách nguyên hàm**  \n",
       "$$\n",
       "I = \\int \\left(2x + 3 + \\frac{4}{x - 1}\\right) dx = \\int 2x \\, dx + \\int 3 \\, dx + \\int \\frac{4}{x - 1} \\, dx\n",
       "$$\n",
       "\n",
       "**Bước 3: Tính từng nguyên hàm**  \n",
       "- $\\int 2x \\, dx = x^2 + C_1$  \n",
       "- $\\int 3 \\, dx = 3x + C_2$  \n",
       "- $\\int \\frac{4}{x - 1} \\, dx = 4 \\ln|x - 1| + C_3$  \n",
       "\n",
       "**Bước 4: Kết hợp kết quả**  \n",
       "$$\n",
       "F(x) = x^2 + 3x + 4 \\ln|x - 1| + C \\quad (C = C_1 + C_2 + C_3)\n",
       "$$\n"
      ],
      "text/plain": [
       "<IPython.core.display.Latex object>"
      ]
     },
     "metadata": {},
     "output_type": "display_data"
    },
    {
     "name": "stderr",
     "output_type": "stream",
     "text": [
      "Processing Questions:  21%|██        | 18/86 [21:18<1:16:53, 67.84s/it]"
     ]
    },
    {
     "data": {
      "text/latex": [
       "\n",
       "Để tính nguyên hàm $J = \\int \\frac{x^3 + 2x + 1}{x^2 + 2x + 1} \\, dx$, ta thực hiện các bước sau:\n",
       "\n",
       "**Bước 1: Phân tích mẫu số**\n",
       "Mẫu số $x^2 + 2x + 1 = (x + 1)^2$.\n",
       "\n",
       "**Bước 2: Chia đa thức**\n",
       "Chia tử số cho mẫu số:\n",
       "\\[\n",
       "\\frac{x^3 + 2x + 1}{(x + 1)^2} = x - 2 + \\frac{5x + 3}{(x + 1)^2}.\n",
       "\\]\n",
       "\n",
       "**Bước 3: Tách nguyên hàm**\n",
       "\\[\n",
       "J = \\int \\left( x - 2 + \\frac{5x + 3}{(x + 1)^2} \\right) dx = \\int (x - 2) \\, dx + \\int \\frac{5x + 3}{(x + 1)^2} \\, dx.\n",
       "\\]\n",
       "\n",
       "**Bước 4: Tính nguyên hàm từng phần**\n",
       "- Nguyên hàm thứ nhất:\n",
       "\\[\n",
       "\\int (x - 2) \\, dx = \\frac{1}{2}x^2 - 2x + C_1.\n",
       "\\]\n",
       "\n",
       "- Nguyên hàm thứ hai: Đặt $u = x + 1 \\Rightarrow du = dx$, khi đó $x = u - 1$:\n",
       "\\[\n",
       "\\int \\frac{5(u - 1) + 3}{u^2} \\, du = \\int \\left( \\frac{5}{u} - \\frac{2}{u^2} \\right) du = 5\\ln|u| + \\frac{2}{u} + C_2.\n",
       "\\]\n",
       "Thay $u = x + 1$:\n",
       "\\[\n",
       "5\\ln|x + 1| + \\frac{2}{x + 1} + C_2.\n",
       "\\]\n",
       "\n",
       "**Bước 5: Kết hợp kết quả**\n",
       "\\[\n",
       "J = \\frac{1}{2}x^2 - 2x + 5\\ln|x + 1| + \\frac{2}{x + 1} + C \\quad (C = C_1 + C_2).\n",
       "\\]\n"
      ],
      "text/plain": [
       "<IPython.core.display.Latex object>"
      ]
     },
     "metadata": {},
     "output_type": "display_data"
    },
    {
     "name": "stderr",
     "output_type": "stream",
     "text": [
      "Processing Questions:  22%|██▏       | 19/86 [22:35<1:18:45, 70.54s/it]"
     ]
    },
    {
     "data": {
      "text/latex": [
       "\n",
       "Đặt \\( u = x + 1 \\Rightarrow du = dx \\). Khi đó, \\( x = u - 1 \\). Thay vào tử số:\n",
       "\\[\n",
       "2x^2 + 1 = 2(u - 1)^2 + 1 = 2(u^2 - 2u + 1) + 1 = 2u^2 - 4u + 3\n",
       "\\]\n",
       "Nguyên hàm trở thành:\n",
       "\\[\n",
       "\\int \\frac{2u^2 - 4u + 3}{u^5} \\, du = \\int \\left( 2u^{-3} - 4u^{-4} + 3u^{-5} \\right) du\n",
       "\\]\n",
       "Tính từng hạng tử:\n",
       "\\[\n",
       "\\int 2u^{-3} \\, du = 2 \\cdot \\frac{u^{-2}}{-2} = -u^{-2}\n",
       "\\]\n",
       "\\[\n",
       "\\int -4u^{-4} \\, du = -4 \\cdot \\frac{u^{-3}}{-3} = \\frac{4}{3}u^{-3}\n",
       "\\]\n",
       "\\[\n",
       "\\int 3u^{-5} \\, du = 3 \\cdot \\frac{u^{-4}}{-4} = -\\frac{3}{4}u^{-4}\n",
       "\\]\n",
       "Tổng hợp kết quả và thay \\( u = x + 1 \\):\n",
       "\\[\n",
       "-\\frac{1}{(x + 1)^2} + \\frac{4}{3(x + 1)^3} - \\frac{3}{4(x + 1)^4} + C\n",
       "\\]\n"
      ],
      "text/plain": [
       "<IPython.core.display.Latex object>"
      ]
     },
     "metadata": {},
     "output_type": "display_data"
    },
    {
     "name": "stderr",
     "output_type": "stream",
     "text": [
      "Processing Questions:  23%|██▎       | 20/86 [23:43<1:16:48, 69.83s/it]"
     ]
    },
    {
     "data": {
      "text/latex": [
       "\n",
       "Để tính nguyên hàm \\( J = \\int \\frac{dx}{x(x^6+1)^2} \\), ta thực hiện các bước sau:\n",
       "\n",
       "**1. Đặt ẩn phụ:**\n",
       "Đặt \\( u = x^6 + 1 \\Rightarrow du = 6x^5 dx \\Rightarrow dx = \\frac{du}{6x^5} \\).\n",
       "\n",
       "**2. Biến đổi tích phân:**\n",
       "Thay vào nguyên hàm:\n",
       "\\[\n",
       "J = \\int \\frac{1}{x \\cdot u^2} \\cdot \\frac{du}{6x^5} = \\frac{1}{6} \\int \\frac{1}{x^6 \\cdot u^2} du.\n",
       "\\]\n",
       "Vì \\( x^6 = u - 1 \\), ta có:\n",
       "\\[\n",
       "J = \\frac{1}{6} \\int \\frac{1}{(u-1)u^2} du.\n",
       "\\]\n",
       "\n",
       "**3. Phân tích thành phân thức đơn giản:**\n",
       "Giả sử:\n",
       "\\[\n",
       "\\frac{1}{(u-1)u^2} = \\frac{A}{u-1} + \\frac{B}{u} + \\frac{C}{u^2}.\n",
       "\\]\n",
       "Nhân hai vế với \\( (u-1)u^2 \\):\n",
       "\\[\n",
       "1 = A u^2 + B(u-1)u + C(u-1).\n",
       "\\]\n",
       "Đồng nhất hệ số, ta được:\n",
       "\\[\n",
       "A = 1, \\quad B = -1, \\quad C = -1.\n",
       "\\]\n",
       "\n",
       "**4. Tích phân từng phần:**\n",
       "\\[\n",
       "J = \\frac{1}{6} \\int \\left( \\frac{1}{u-1} - \\frac{1}{u} - \\frac{1}{u^2} \\right) du.\n",
       "\\]\n",
       "Tích phân từng hạng tử:\n",
       "\\[\n",
       "\\int \\frac{1}{u-1} du = \\ln|u-1|, \\quad \\int \\frac{1}{u} du = \\ln|u|, \\quad \\int \\frac{1}{u^2} du = -\\frac{1}{u}.\n",
       "\\]\n",
       "Kết hợp các kết quả:\n",
       "\\[\n",
       "J = \\frac{1}{6} \\left( \\ln|u-1| - \\ln|u| + \\frac{1}{u} \\right) + C.\n",
       "\\]\n",
       "\n",
       "**5. Thay ngược lại \\( u = x^6 + 1 \\):**\n",
       "\\[\n",
       "J = \\frac{1}{6} \\left( \\ln|x^6| - \\ln|x^6 + 1| + \\frac{1}{x^6 + 1} \\right) + C.\n",
       "\\]\n",
       "Rút gọn:\n",
       "\\[\n",
       "J = \\ln|x| - \\frac{1}{6} \\ln(x^6 + 1) + \\frac{1}{6(x^6 + 1)} + C.\n",
       "\\]\n"
      ],
      "text/plain": [
       "<IPython.core.display.Latex object>"
      ]
     },
     "metadata": {},
     "output_type": "display_data"
    },
    {
     "name": "stderr",
     "output_type": "stream",
     "text": [
      "Processing Questions:  24%|██▍       | 21/86 [26:04<1:38:41, 91.10s/it]"
     ]
    },
    {
     "data": {
      "text/latex": [
       "\n",
       "Để tìm nguyên hàm $F(x)$ của hàm số $f(x) = (4x+1)e^x$ thỏa mãn $F(1) = e$, ta thực hiện các bước sau:\n",
       "\n",
       "**Bước 1: Sử dụng phương pháp tích phân từng phần**\n",
       "\n",
       "Đặt:\n",
       "\\[\n",
       "\\begin{cases}\n",
       "u = 4x + 1 \\Rightarrow du = 4 \\, dx \\\\\n",
       "dv = e^x \\, dx \\Rightarrow v = e^x\n",
       "\\end{cases}\n",
       "\\]\n",
       "\n",
       "Áp dụng công thức tích phân từng phần $\\int u \\, dv = uv - \\int v \\, du$:\n",
       "\\[\n",
       "\\int (4x+1)e^x \\, dx = (4x+1)e^x - \\int e^x \\cdot 4 \\, dx\n",
       "\\]\n",
       "\n",
       "**Bước 2: Tính tích phân còn lại**\n",
       "\\[\n",
       "\\int 4e^x \\, dx = 4e^x + C\n",
       "\\]\n",
       "\n",
       "**Bước 3: Kết hợp các kết quả**\n",
       "\\[\n",
       "\\int (4x+1)e^x \\, dx = (4x+1)e^x - 4e^x + C = (4x - 3)e^x + C\n",
       "\\]\n",
       "\n",
       "**Bước 4: Xác định hằng số $C$ từ điều kiện $F(1) = e$**\n",
       "Thay $x = 1$ vào nguyên hàm:\n",
       "\\[\n",
       "F(1) = (4 \\cdot 1 - 3)e^1 + C = (1)e + C = e + C\n",
       "\\]\n",
       "Theo đề bài $F(1) = e$, suy ra:\n",
       "\\[\n",
       "e + C = e \\Rightarrow C = 0\n",
       "\\]\n",
       "\n",
       "**Kết luận:** Nguyên hàm cần tìm là:\n",
       "\\[\n",
       "F(x) = (4x - 3)e^x\n",
       "\\]\n"
      ],
      "text/plain": [
       "<IPython.core.display.Latex object>"
      ]
     },
     "metadata": {},
     "output_type": "display_data"
    },
    {
     "name": "stderr",
     "output_type": "stream",
     "text": [
      "Processing Questions:  26%|██▌       | 22/86 [27:11<1:29:35, 83.99s/it]"
     ]
    },
    {
     "data": {
      "text/latex": [
       "\n",
       "Để tìm nguyên hàm $F(x)$ của hàm số $f(x) = \\frac{1}{x-1}$ với điều kiện $F(2) = 1$, ta thực hiện các bước sau:\n",
       "\n",
       "1. **Tìm nguyên hàm tổng quát của $f(x)$:**\n",
       "   \\[\n",
       "   F(x) = \\int \\frac{1}{x-1} \\, dx = \\ln|x-1| + C\n",
       "   \\]\n",
       "   \n",
       "2. **Xác định hằng số $C$ dựa vào điều kiện $F(2) = 1$:**\n",
       "   \\[\n",
       "   F(2) = \\ln|2-1| + C = \\ln(1) + C = 0 + C = 1 \\implies C = 1\n",
       "   \\]\n",
       "   \n",
       "3. **Viết nguyên hàm cụ thể:**\n",
       "   \\[\n",
       "   F(x) = \\ln|x-1| + 1\n",
       "   \\]\n",
       "   \n",
       "4. **Tính $F(3)$:**\n",
       "   \\[\n",
       "   F(3) = \\ln|3-1| + 1 = \\ln(2) + 1\n",
       "   \\]\n"
      ],
      "text/plain": [
       "<IPython.core.display.Latex object>"
      ]
     },
     "metadata": {},
     "output_type": "display_data"
    },
    {
     "name": "stderr",
     "output_type": "stream",
     "text": [
      "Processing Questions:  27%|██▋       | 23/86 [28:14<1:21:28, 77.59s/it]"
     ]
    },
    {
     "data": {
      "text/latex": [
       "\n",
       "Để tìm $F\\left(\\frac{\\pi}{4}\\right)$, ta thực hiện các bước sau:\n",
       "\n",
       "**Bước 1: Tìm nguyên hàm $F(x)$ của $f(x) = x\\sin2x$ bằng phương pháp tích phân từng phần.**\n",
       "Đặt:\n",
       "\\[\n",
       "\\begin{cases}\n",
       "u = x \\Rightarrow du = dx \\\\\n",
       "dv = \\sin2x \\, dx \\Rightarrow v = -\\frac{1}{2}\\cos2x\n",
       "\\end{cases}\n",
       "\\]\n",
       "Áp dụng công thức tích phân từng phần:\n",
       "\\[\n",
       "\\int x\\sin2x \\, dx = -\\frac{x}{2}\\cos2x + \\frac{1}{2}\\int \\cos2x \\, dx = -\\frac{x}{2}\\cos2x + \\frac{1}{4}\\sin2x + C\n",
       "\\]\n",
       "Vậy:\n",
       "\\[\n",
       "F(x) = -\\frac{x}{2}\\cos2x + \\frac{1}{4}\\sin2x + C\n",
       "\\]\n",
       "\n",
       "**Bước 2: Xác định hằng số $C$ từ điều kiện $F(0) + F(\\pi) = -\\frac{\\pi}{2}$.**\n",
       "- Tính $F(0)$:\n",
       "\\[\n",
       "F(0) = -\\frac{0}{2}\\cos0 + \\frac{1}{4}\\sin0 + C = C\n",
       "\\]\n",
       "- Tính $F(\\pi)$:\n",
       "\\[\n",
       "F(\\pi) = -\\frac{\\pi}{2}\\cos2\\pi + \\frac{1}{4}\\sin2\\pi + C = -\\frac{\\pi}{2} + C\n",
       "\\]\n",
       "- Thay vào điều kiện:\n",
       "\\[\n",
       "F(0) + F(\\pi) = C + \\left(-\\frac{\\pi}{2} + C\\right) = 2C - \\frac{\\pi}{2} = -\\frac{\\pi}{2}\n",
       "\\]\n",
       "Giải phương trình:\n",
       "\\[\n",
       "2C = 0 \\Rightarrow C = 0\n",
       "\\]\n",
       "Vậy:\n",
       "\\[\n",
       "F(x) = -\\frac{x}{2}\\cos2x + \\frac{1}{4}\\sin2x\n",
       "\\]\n",
       "\n",
       "**Bước 3: Tính $F\\left(\\frac{\\pi}{4}\\right)$.**\n",
       "Thay $x = \\frac{\\pi}{4}$ vào $F(x)$:\n",
       "\\[\n",
       "F\\left(\\frac{\\pi}{4}\\right) = -\\frac{\\pi}{8}\\cos\\left(\\frac{\\pi}{2}\\right) + \\frac{1}{4}\\sin\\left(\\frac{\\pi}{2}\\right)\n",
       "\\]\n",
       "Với $\\cos\\left(\\frac{\\pi}{2}\\right) = 0$ và $\\sin\\left(\\frac{\\pi}{2}\\right) = 1$, ta được:\n",
       "\\[\n",
       "F\\left(\\frac{\\pi}{4}\\right) = 0 + \\frac{1}{4} \\cdot 1 = \\frac{1}{4}\n",
       "\\]\n"
      ],
      "text/plain": [
       "<IPython.core.display.Latex object>"
      ]
     },
     "metadata": {},
     "output_type": "display_data"
    },
    {
     "name": "stderr",
     "output_type": "stream",
     "text": [
      "Processing Questions:  28%|██▊       | 24/86 [29:25<1:18:14, 75.71s/it]"
     ]
    },
    {
     "data": {
      "text/latex": [
       "\n",
       "Để tìm nguyên hàm $F(x)$ của hàm số $f(x) = \\sin^2\\frac{x}{2}$ thỏa mãn $F\\left(\\frac{\\pi}{2}\\right) = \\frac{\\pi}{4}$, ta thực hiện các bước sau:\n",
       "\n",
       "**Bước 1: Sử dụng công thức hạ bậc**\n",
       "Áp dụng đẳng thức lượng giác:\n",
       "\\[\n",
       "\\sin^2\\theta = \\frac{1 - \\cos2\\theta}{2}\n",
       "\\]\n",
       "Thay $\\theta = \\frac{x}{2}$, ta được:\n",
       "\\[\n",
       "\\sin^2\\frac{x}{2} = \\frac{1 - \\cos x}{2}\n",
       "\\]\n",
       "Do đó, $f(x) = \\frac{1 - \\cos x}{2}$.\n",
       "\n",
       "**Bước 2: Tìm nguyên hàm của $f(x)$**\n",
       "Nguyên hàm của $f(x)$ là:\n",
       "\\[\n",
       "\\int \\frac{1 - \\cos x}{2} \\, dx = \\frac{1}{2} \\int 1 \\, dx - \\frac{1}{2} \\int \\cos x \\, dx\n",
       "\\]\n",
       "Tính từng tích phân:\n",
       "\\[\n",
       "\\frac{1}{2} \\int 1 \\, dx = \\frac{x}{2}, \\quad \\frac{1}{2} \\int \\cos x \\, dx = \\frac{\\sin x}{2}\n",
       "\\]\n",
       "Vậy nguyên hàm tổng quát:\n",
       "\\[\n",
       "F(x) = \\frac{x}{2} - \\frac{\\sin x}{2} + C\n",
       "\\]\n",
       "\n",
       "**Bước 3: Xác định hằng số $C$ từ điều kiện $F\\left(\\frac{\\pi}{2}\\right) = \\frac{\\pi}{4}$**\n",
       "Thay $x = \\frac{\\pi}{2}$ vào $F(x)$:\n",
       "\\[\n",
       "\\frac{\\pi}{4} = \\frac{\\pi}{4} - \\frac{1}{2} + C\n",
       "\\]\n",
       "Giải phương trình:\n",
       "\\[\n",
       "C = \\frac{1}{2}\n",
       "\\]\n",
       "\n",
       "**Kết luận:** Nguyên hàm cần tìm là:\n",
       "\\[\n",
       "F(x) = \\frac{x - \\sin x + 1}{2}\n",
       "\\]\n"
      ],
      "text/plain": [
       "<IPython.core.display.Latex object>"
      ]
     },
     "metadata": {},
     "output_type": "display_data"
    },
    {
     "name": "stderr",
     "output_type": "stream",
     "text": [
      "Processing Questions:  29%|██▉       | 25/86 [30:38<1:15:54, 74.67s/it]"
     ]
    },
    {
     "data": {
      "text/latex": [
       "\n",
       "Để tìm nguyên hàm $F(x)$ của hàm số $f(x) = 2x + \\frac{1}{\\sin^2 x}$ thỏa mãn $F\\left(\\frac{\\pi}{4}\\right) = -1$, ta thực hiện các bước sau:\n",
       "\n",
       "1. **Tích phân từng thành phần của $f(x)$:**\n",
       "   - Tích phân của $2x$:\n",
       "     \\[\n",
       "     \\int 2x \\, dx = x^2 + C_1\n",
       "     \\]\n",
       "   - Tích phân của $\\frac{1}{\\sin^2 x}$:\n",
       "     \\[\n",
       "     \\int \\frac{1}{\\sin^2 x} \\, dx = -\\cot x + C_2\n",
       "     \\]\n",
       "     (vì $\\frac{d}{dx}(-\\cot x) = \\frac{1}{\\sin^2 x}$)\n",
       "\n",
       "2. **Kết hợp các kết quả:**\n",
       "   \\[\n",
       "   F(x) = x^2 - \\cot x + C\n",
       "   \\]\n",
       "   với $C = C_1 + C_2$ là hằng số tích phân.\n",
       "\n",
       "3. **Xác định hằng số $C$ từ điều kiện $F\\left(\\frac{\\pi}{4}\\right) = -1$:**\n",
       "   - Thay $x = \\frac{\\pi}{4}$ vào $F(x)$:\n",
       "     \\[\n",
       "     F\\left(\\frac{\\pi}{4}\\right) = \\left(\\frac{\\pi}{4}\\right)^2 - \\cot\\left(\\frac{\\pi}{4}\\right) + C = \\frac{\\pi^2}{16} - 1 + C\n",
       "     \\]\n",
       "   - Giải phương trình $\\frac{\\pi^2}{16} - 1 + C = -1$:\n",
       "     \\[\n",
       "     C = -\\frac{\\pi^2}{16}\n",
       "     \\]\n",
       "\n",
       "4. **Kết luận nguyên hàm $F(x)$:**\n",
       "   \\[\n",
       "   F(x) = x^2 - \\cot x - \\frac{\\pi^2}{16}\n",
       "   \\]\n"
      ],
      "text/plain": [
       "<IPython.core.display.Latex object>"
      ]
     },
     "metadata": {},
     "output_type": "display_data"
    },
    {
     "name": "stderr",
     "output_type": "stream",
     "text": [
      "Processing Questions:  30%|███       | 26/86 [31:45<1:12:32, 72.54s/it]"
     ]
    },
    {
     "data": {
      "text/latex": [
       "\n",
       "Để tìm nguyên hàm $F(x)$ của hàm số $y = \\frac{\\ln x}{x}$, ta thực hiện các bước sau:\n",
       "\n",
       "1. **Tính nguyên hàm:**\n",
       "   \\[\n",
       "   \\int \\frac{\\ln x}{x} \\, dx\n",
       "   \\]\n",
       "   Đặt $u = \\ln x \\Rightarrow du = \\frac{1}{x} dx$. Khi đó:\n",
       "   \\[\n",
       "   \\int u \\, du = \\frac{1}{2}u^2 + C = \\frac{1}{2}(\\ln x)^2 + C\n",
       "   \\]\n",
       "   Vậy $F(x) = \\frac{1}{2}(\\ln x)^2 + C$.\n",
       "\n",
       "2. **Xác định hằng số $C$ từ điều kiện $F(e^2) = 4$:**\n",
       "   \\[\n",
       "   F(e^2) = \\frac{1}{2}(\\ln e^2)^2 + C = \\frac{1}{2}(2)^2 + C = 2 + C\n",
       "   \\]\n",
       "   Theo đề bài: $2 + C = 4 \\Rightarrow C = 2$.\n",
       "\n",
       "3. **Kết luận nguyên hàm:**\n",
       "   \\[\n",
       "   F(x) = \\frac{1}{2}(\\ln x)^2 + 2\n",
       "   \\]\n",
       "\n",
       "4. **Tính $F(e)$:**\n",
       "   \\[\n",
       "   F(e) = \\frac{1}{2}(\\ln e)^2 + 2 = \\frac{1}{2}(1)^2 + 2 = \\frac{1}{2} + 2 = \\frac{5}{2}\n",
       "   \\]\n"
      ],
      "text/plain": [
       "<IPython.core.display.Latex object>"
      ]
     },
     "metadata": {},
     "output_type": "display_data"
    },
    {
     "name": "stderr",
     "output_type": "stream",
     "text": [
      "Processing Questions:  31%|███▏      | 27/86 [32:51<1:09:24, 70.59s/it]"
     ]
    },
    {
     "data": {
      "text/latex": [
       "\n",
       "Để tìm nguyên hàm $F(x)$ của hàm số $f(x) = ax + \\frac{b}{x^2}$ ($x \\neq 0$), ta thực hiện các bước sau:\n",
       "\n",
       "1. **Tìm nguyên hàm của $f(x)$:**\n",
       "   \\[\n",
       "   F(x) = \\int \\left( ax + \\frac{b}{x^2} \\right) dx = \\frac{a}{2}x^2 - \\frac{b}{x} + C\n",
       "   \\]\n",
       "\n",
       "2. **Sử dụng điều kiện $f(1) = 0$:**\n",
       "   \\[\n",
       "   f(1) = a(1) + \\frac{b}{(1)^2} = a + b = 0 \\implies b = -a\n",
       "   \\]\n",
       "\n",
       "3. **Sử dụng điều kiện $F(1) = 4$ và $F(-1) = 1$:**\n",
       "   - Với $x = 1$:\n",
       "     \\[\n",
       "     \\frac{a}{2}(1)^2 - \\frac{b}{1} + C = \\frac{a}{2} - b + C = 4\n",
       "     \\]\n",
       "   - Với $x = -1$:\n",
       "     \\[\n",
       "     \\frac{a}{2}(-1)^2 - \\frac{b}{-1} + C = \\frac{a}{2} + b + C = 1\n",
       "     \\]\n",
       "\n",
       "4. **Thay $b = -a$ vào hệ phương trình:**\n",
       "   \\[\n",
       "   \\begin{cases}\n",
       "   \\frac{a}{2} + a + C = 4 \\\\\n",
       "   \\frac{a}{2} - a + C = 1\n",
       "   \\end{cases}\n",
       "   \\implies\n",
       "   \\begin{cases}\n",
       "   \\frac{3a}{2} + C = 4 \\\\\n",
       "   -\\frac{a}{2} + C = 1\n",
       "   \\end{cases}\n",
       "   \\]\n",
       "\n",
       "5. **Giải hệ phương trình:**\n",
       "   - Trừ hai phương trình:\n",
       "     \\[\n",
       "     \\left( \\frac{3a}{2} + C \\right) - \\left( -\\frac{a}{2} + C \\right) = 4 - 1 \\implies 2a = 3 \\implies a = \\frac{3}{2}\n",
       "     \\]\n",
       "   - Thay $a = \\frac{3}{2}$ vào $b = -a$:\n",
       "     \\[\n",
       "     b = -\\frac{3}{2}\n",
       "     \\]\n",
       "   - Thay $a = \\frac{3}{2}$ vào $-\\frac{a}{2} + C = 1$:\n",
       "     \\[\n",
       "     -\\frac{3}{4} + C = 1 \\implies C = \\frac{7}{4}\n",
       "     \\]\n",
       "\n",
       "6. **Kết luận nguyên hàm $F(x)$:**\n",
       "   \\[\n",
       "   F(x) = \\frac{3}{4}x^2 + \\frac{3}{2x} + \\frac{7}{4}\n",
       "   \\]\n"
      ],
      "text/plain": [
       "<IPython.core.display.Latex object>"
      ]
     },
     "metadata": {},
     "output_type": "display_data"
    },
    {
     "name": "stderr",
     "output_type": "stream",
     "text": [
      "Processing Questions:  33%|███▎      | 28/86 [34:12<1:11:10, 73.63s/it]"
     ]
    },
    {
     "data": {
      "text/latex": [
       "\n",
       "Để tìm giá trị của tham số \\( m \\), ta thực hiện các bước sau:\n",
       "\n",
       "1. **Tìm nguyên hàm của \\( f(x) \\):**\n",
       "   \\[\n",
       "   F(x) = \\int \\left( \\frac{4m}{\\pi} + \\sin^2 x \\right) \\, dx\n",
       "   \\]\n",
       "   Sử dụng công thức hạ bậc \\( \\sin^2 x = \\frac{1 - \\cos 2x}{2} \\), ta có:\n",
       "   \\[\n",
       "   F(x) = \\int \\left( \\frac{4m}{\\pi} + \\frac{1 - \\cos 2x}{2} \\right) \\, dx\n",
       "   \\]\n",
       "   Tích phân từng phần:\n",
       "   \\[\n",
       "   F(x) = \\frac{4m}{\\pi} x + \\frac{1}{2}x - \\frac{1}{4} \\sin 2x + C\n",
       "   \\]\n",
       "\n",
       "2. **Áp dụng điều kiện \\( F(0) = 1 \\):**\n",
       "   \\[\n",
       "   F(0) = \\frac{4m}{\\pi} \\cdot 0 + \\frac{1}{2} \\cdot 0 - \\frac{1}{4} \\sin 0 + C = C \\implies C = 1\n",
       "   \\]\n",
       "\n",
       "3. **Áp dụng điều kiện \\( F\\left( \\frac{\\pi}{4} \\right) = \\frac{\\pi}{8} \\):**\n",
       "   Thay \\( x = \\frac{\\pi}{4} \\) và \\( C = 1 \\) vào \\( F(x) \\):\n",
       "   \\[\n",
       "   F\\left( \\frac{\\pi}{4} \\right) = \\frac{4m}{\\pi} \\cdot \\frac{\\pi}{4} + \\frac{1}{2} \\cdot \\frac{\\pi}{4} - \\frac{1}{4} \\sin \\left( \\frac{\\pi}{2} \\right) + 1\n",
       "   \\]\n",
       "   Đơn giản hóa từng số hạng:\n",
       "   \\[\n",
       "   F\\left( \\frac{\\pi}{4} \\right) = m + \\frac{\\pi}{8} - \\frac{1}{4} + 1 = m + \\frac{\\pi}{8} + \\frac{3}{4}\n",
       "   \\]\n",
       "   Theo đề bài:\n",
       "   \\[\n",
       "   m + \\frac{\\pi}{8} + \\frac{3}{4} = \\frac{\\pi}{8} \\implies m + \\frac{3}{4} = 0 \\implies m = -\\frac{3}{4}\n",
       "   \\]\n"
      ],
      "text/plain": [
       "<IPython.core.display.Latex object>"
      ]
     },
     "metadata": {},
     "output_type": "display_data"
    },
    {
     "name": "stderr",
     "output_type": "stream",
     "text": [
      "Processing Questions:  34%|███▎      | 29/86 [35:29<1:10:49, 74.55s/it]"
     ]
    },
    {
     "data": {
      "text/latex": [
       "\n",
       "Để tìm nguyên hàm $F(x)$ của hàm số $f(x) = \\sqrt{x}$ thỏa mãn $F(1) = 1$, ta thực hiện các bước sau:\n",
       "\n",
       "1. **Tìm nguyên hàm tổng quát của $f(x)$:**\n",
       "   \\[\n",
       "   \\int \\sqrt{x} \\, dx = \\int x^{\\frac{1}{2}} \\, dx = \\frac{x^{\\frac{3}{2}}}{\\frac{3}{2}} + C = \\frac{2}{3}x^{\\frac{3}{2}} + C\n",
       "   \\]\n",
       "\n",
       "2. **Xác định hằng số $C$ dựa vào điều kiện $F(1) = 1$:**\n",
       "   \\[\n",
       "   F(1) = \\frac{2}{3}(1)^{\\frac{3}{2}} + C = 1 \\implies \\frac{2}{3} + C = 1 \\implies C = 1 - \\frac{2}{3} = \\frac{1}{3}\n",
       "   \\]\n",
       "\n",
       "3. **Kết luận hàm số $F(x)$:**\n",
       "   \\[\n",
       "   F(x) = \\frac{2}{3}x^{\\frac{3}{2}} + \\frac{1}{3}\n",
       "   \\]\n"
      ],
      "text/plain": [
       "<IPython.core.display.Latex object>"
      ]
     },
     "metadata": {},
     "output_type": "display_data"
    },
    {
     "name": "stderr",
     "output_type": "stream",
     "text": [
      "Processing Questions:  35%|███▍      | 30/86 [36:33<1:06:49, 71.60s/it]"
     ]
    },
    {
     "data": {
      "text/latex": [
       "\n",
       "Để tìm $F(0)$, ta cần xác định nguyên hàm $F(x)$ của $f(x) = \\dfrac{\\sin 2x}{1 + \\cos x}$ thỏa mãn $F\\left(\\dfrac{\\pi}{2}\\right) = 0$.\n",
       "\n",
       "**Bước 1: Biến đổi biểu thức nguyên hàm**\n",
       "Ta có:\n",
       "\\[\n",
       "\\int \\dfrac{\\sin 2x}{1 + \\cos x} \\, dx = \\int \\dfrac{2 \\sin x \\cos x}{1 + \\cos x} \\, dx\n",
       "\\]\n",
       "Đặt $t = 1 + \\cos x \\Rightarrow dt = -\\sin x \\, dx \\Rightarrow \\sin x \\, dx = -dt$. Thay vào tích phân:\n",
       "\\[\n",
       "\\int \\dfrac{2 \\cos x}{t} \\cdot (-dt) = -2 \\int \\dfrac{t - 1}{t} \\, dt = -2 \\int \\left(1 - \\dfrac{1}{t}\\right) dt\n",
       "\\]\n",
       "\\[\n",
       "= -2 \\left( t - \\ln |t| \\right) + C = -2 \\left(1 + \\cos x - \\ln(1 + \\cos x)\\right) + C\n",
       "\\]\n",
       "\\[\n",
       "= -2 \\cos x + 2 \\ln(1 + \\cos x) + C'\n",
       "\\]\n",
       "\n",
       "**Bước 2: Xác định hằng số $C$ từ điều kiện $F\\left(\\dfrac{\\pi}{2}\\right) = 0$**\n",
       "Tại $x = \\dfrac{\\pi}{2}$:\n",
       "\\[\n",
       "F\\left(\\dfrac{\\pi}{2}\\right) = -2 \\cos \\dfrac{\\pi}{2} + 2 \\ln\\left(1 + \\cos \\dfrac{\\pi}{2}\\right) + C' = 0\n",
       "\\]\n",
       "\\[\n",
       "\\Rightarrow -2 \\cdot 0 + 2 \\ln 1 + C' = 0 \\Rightarrow C' = 0\n",
       "\\]\n",
       "Vậy nguyên hàm là:\n",
       "\\[\n",
       "F(x) = -2 \\cos x + 2 \\ln(1 + \\cos x)\n",
       "\\]\n",
       "\n",
       "**Bước 3: Tính $F(0)$**\n",
       "Tại $x = 0$:\n",
       "\\[\n",
       "F(0) = -2 \\cos 0 + 2 \\ln(1 + \\cos 0) = -2 \\cdot 1 + 2 \\ln 2 = 2(\\ln 2 - 1)\n",
       "\\]\n"
      ],
      "text/plain": [
       "<IPython.core.display.Latex object>"
      ]
     },
     "metadata": {},
     "output_type": "display_data"
    },
    {
     "name": "stderr",
     "output_type": "stream",
     "text": [
      "Processing Questions:  36%|███▌      | 31/86 [37:54<1:08:02, 74.23s/it]"
     ]
    },
    {
     "data": {
      "text/latex": [
       "\n",
       "Đầu tiên, ta tìm nguyên hàm $F(x)$ của hàm số $f(x) = xe^{-x}$ bằng phương pháp tích phân từng phần:\n",
       "\\[\n",
       "\\begin{aligned}\n",
       "\\text{Đặt } \n",
       "u &= x \\Rightarrow du = dx, \\\\\n",
       "dv &= e^{-x}dx \\Rightarrow v = -e^{-x}.\n",
       "\\end{aligned}\n",
       "\\]\n",
       "Khi đó:\n",
       "\\[\n",
       "\\int xe^{-x}dx = -xe^{-x} + \\int e^{-x}dx = -xe^{-x} - e^{-x} + C.\n",
       "\\]\n",
       "Với điều kiện $F(0) = -1$, ta có:\n",
       "\\[\n",
       "F(0) = -0 \\cdot e^{0} - e^{0} + C = -1 + C = -1 \\Rightarrow C = 0.\n",
       "\\]\n",
       "Vậy $F(x) = -xe^{-x} - e^{-x} = -e^{-x}(x + 1)$.\n",
       "\n",
       "Tính đạo hàm $F'(x)$:\n",
       "\\[\n",
       "F'(x) = \\frac{d}{dx}\\left(-e^{-x}(x + 1)\\right) = e^{-x}(x + 1) - e^{-x} = xe^{-x}.\n",
       "\\]\n",
       "\n",
       "Thay vào phương trình $F(x) + F'(x) + 1 = 0$:\n",
       "\\[\n",
       "\\begin{aligned}\n",
       "-e^{-x}(x + 1) + xe^{-x} + 1 &= 0 \\\\\n",
       "(-xe^{-x} - e^{-x}) + xe^{-x} + 1 &= 0 \\\\\n",
       "- e^{-x} + 1 &= 0 \\\\\n",
       "\\Rightarrow e^{-x} &= 1 \\\\\n",
       "\\Rightarrow x &= 0.\n",
       "\\end{aligned}\n",
       "\\]\n",
       "Phương trình có nghiệm duy nhất $x = 0$. Vậy tổng các nghiệm $S = 0$.\n"
      ],
      "text/plain": [
       "<IPython.core.display.Latex object>"
      ]
     },
     "metadata": {},
     "output_type": "display_data"
    },
    {
     "name": "stderr",
     "output_type": "stream",
     "text": [
      "Processing Questions:  37%|███▋      | 32/86 [39:15<1:08:50, 76.49s/it]"
     ]
    },
    {
     "data": {
      "text/latex": [
       "\n",
       "Đặt $u = \\sin^2 x + 3 \\Rightarrow du = 2\\sin x \\cos x \\, dx = \\sin 2x \\, dx$.  \n",
       "Khi đó, nguyên hàm của $f(x)$ trở thành:\n",
       "\\[\n",
       "\\int \\frac{\\sin 2x}{\\sin^2 x + 3} dx = \\int \\frac{du}{u} = \\ln |u| + C = \\ln (\\sin^2 x + 3) + C\n",
       "\\]\n",
       "Với điều kiện $F(0) = 0$, thay $x = 0$ vào:\n",
       "\\[\n",
       "F(0) = \\ln (\\sin^2 0 + 3) + C = \\ln 3 + C = 0 \\Rightarrow C = -\\ln 3\n",
       "\\]\n",
       "Vậy nguyên hàm cần tìm là:\n",
       "\\[\n",
       "F(x) = \\ln (\\sin^2 x + 3) - \\ln 3 = \\ln \\left( \\frac{\\sin^2 x + 3}{3} \\right)\n",
       "\\]\n"
      ],
      "text/plain": [
       "<IPython.core.display.Latex object>"
      ]
     },
     "metadata": {},
     "output_type": "display_data"
    },
    {
     "name": "stderr",
     "output_type": "stream",
     "text": [
      "Processing Questions:  38%|███▊      | 33/86 [40:23<1:05:13, 73.83s/it]"
     ]
    },
    {
     "data": {
      "text/latex": [
       "\n",
       "Để tìm tập nghiệm $S$ của phương trình $F(x) + \\ln(e^x + 1) = 3$, ta thực hiện các bước sau:\n",
       "\n",
       "**Bước 1: Tìm nguyên hàm $F(x)$ của $f(x) = \\frac{1}{e^x + 1}$**\n",
       "\n",
       "Ta tính nguyên hàm:\n",
       "\\[\n",
       "\\int \\frac{1}{e^x + 1} \\, dx\n",
       "\\]\n",
       "Đặt $u = e^x \\Rightarrow du = e^x dx \\Rightarrow dx = \\frac{du}{u}$. Thay vào tích phân:\n",
       "\\[\n",
       "\\int \\frac{1}{u(u + 1)} \\, du = \\int \\left( \\frac{1}{u} - \\frac{1}{u + 1} \\right) du = \\ln|u| - \\ln|u + 1| + C = x - \\ln(e^x + 1) + C\n",
       "\\]\n",
       "Vậy nguyên hàm tổng quát là $F(x) = x - \\ln(e^x + 1) + C$.\n",
       "\n",
       "**Bước 2: Xác định hằng số $C$ từ điều kiện $F(0) = -\\ln 2$**\n",
       "\n",
       "Thay $x = 0$ vào $F(x)$:\n",
       "\\[\n",
       "F(0) = 0 - \\ln(1 + 1) + C = -\\ln 2 + C\n",
       "\\]\n",
       "Theo đề bài, $F(0) = -\\ln 2 \\Rightarrow -\\ln 2 + C = -\\ln 2 \\Rightarrow C = 0$.  \n",
       "Do đó, $F(x) = x - \\ln(e^x + 1)$.\n",
       "\n",
       "**Bước 3: Giải phương trình $F(x) + \\ln(e^x + 1) = 3$**\n",
       "\n",
       "Thay $F(x)$ vào phương trình:\n",
       "\\[\n",
       "\\left( x - \\ln(e^x + 1) \\right) + \\ln(e^x + 1) = 3 \\Rightarrow x = 3\n",
       "\\]\n",
       "Vậy phương trình có nghiệm duy nhất $x = 3$.\n"
      ],
      "text/plain": [
       "<IPython.core.display.Latex object>"
      ]
     },
     "metadata": {},
     "output_type": "display_data"
    },
    {
     "name": "stderr",
     "output_type": "stream",
     "text": [
      "Processing Questions:  40%|███▉      | 34/86 [41:36<1:03:48, 73.63s/it]"
     ]
    },
    {
     "data": {
      "text/latex": [
       "\n",
       "Tính tích phân $I = \\int_{-1}^{1}(x^3 + 3x + 2)dx$:\n",
       "\n",
       "Ta tách tích phân thành 3 phần:\n",
       "\\[\n",
       "I = \\int_{-1}^{1} x^3 \\, dx + \\int_{-1}^{1} 3x \\, dx + \\int_{-1}^{1} 2 \\, dx\n",
       "\\]\n",
       "\n",
       "1. **Tích phân $\\int_{-1}^{1} x^3 \\, dx$:**\n",
       "   \\[\n",
       "   \\int x^3 \\, dx = \\frac{x^4}{4} + C \\Rightarrow \\left. \\frac{x^4}{4} \\right|_{-1}^{1} = \\frac{1}{4} - \\frac{1}{4} = 0\n",
       "   \\]\n",
       "   (Vì $x^3$ là hàm lẻ, tích phân đối xứng qua 0 bằng 0)\n",
       "\n",
       "2. **Tích phân $\\int_{-1}^{1} 3x \\, dx$:**\n",
       "   \\[\n",
       "   \\int 3x \\, dx = \\frac{3x^2}{2} + C \\Rightarrow \\left. \\frac{3x^2}{2} \\right|_{-1}^{1} = \\frac{3}{2} - \\frac{3}{2} = 0\n",
       "   \\]\n",
       "   (Vì $3x$ là hàm lẻ, tích phân đối xứng qua 0 bằng 0)\n",
       "\n",
       "3. **Tích phân $\\int_{-1}^{1} 2 \\, dx$:**\n",
       "   \\[\n",
       "   \\int 2 \\, dx = 2x + C \\Rightarrow \\left. 2x \\right|_{-1}^{1} = 2(1) - 2(-1) = 4\n",
       "   \\]\n",
       "\n",
       "Cộng các kết quả:\n",
       "\\[\n",
       "I = 0 + 0 + 4 = \\boxed{4}\n",
       "\\]\n"
      ],
      "text/plain": [
       "<IPython.core.display.Latex object>"
      ]
     },
     "metadata": {},
     "output_type": "display_data"
    },
    {
     "name": "stderr",
     "output_type": "stream",
     "text": [
      "Processing Questions:  41%|████      | 35/86 [42:40<1:00:07, 70.74s/it]"
     ]
    },
    {
     "data": {
      "text/latex": [
       "\n",
       "Ta có tích phân cần tính:\n",
       "\\[\n",
       "I = \\int_{1}^{2} \\left( \\frac{1}{x^2} + 2x \\right) dx\n",
       "\\]\n",
       "\n",
       "**Bước 1:** Tách tích phân thành tổng hai tích phân đơn giản:\n",
       "\\[\n",
       "I = \\int_{1}^{2} \\frac{1}{x^2} dx + \\int_{1}^{2} 2x dx\n",
       "\\]\n",
       "\n",
       "**Bước 2:** Tính từng tích phân:\n",
       "- Với \\(\\int \\frac{1}{x^2} dx = \\int x^{-2} dx = \\frac{x^{-1}}{-1} + C = -\\frac{1}{x} + C\\)\n",
       "- Với \\(\\int 2x dx = 2 \\cdot \\frac{x^2}{2} + C = x^2 + C\\)\n",
       "\n",
       "**Bước 3:** Thay cận tích phân:\n",
       "\\[\n",
       "I = \\left[ -\\frac{1}{x} + x^2 \\right]_{1}^{2}\n",
       "\\]\n",
       "\n",
       "**Bước 4:** Tính giá trị tại các cận:\n",
       "- Tại \\(x = 2\\): \\(-\\frac{1}{2} + 2^2 = -\\frac{1}{2} + 4 = \\frac{7}{2}\\)\n",
       "- Tại \\(x = 1\\): \\(-\\frac{1}{1} + 1^2 = -1 + 1 = 0\\)\n",
       "\n",
       "**Bước 5:** Lấy hiệu hai kết quả:\n",
       "\\[\n",
       "I = \\frac{7}{2} - 0 = \\frac{7}{2}\n",
       "\\]\n"
      ],
      "text/plain": [
       "<IPython.core.display.Latex object>"
      ]
     },
     "metadata": {},
     "output_type": "display_data"
    },
    {
     "name": "stderr",
     "output_type": "stream",
     "text": [
      "Processing Questions:  42%|████▏     | 36/86 [43:47<58:01, 69.64s/it]  "
     ]
    },
    {
     "data": {
      "text/latex": [
       "\n",
       "Để tính tích phân $I = \\int_{\\frac{\\pi}{2}}^{\\pi} (\\sin 2x - \\cos 3x) \\, dx$, ta thực hiện các bước sau:\n",
       "\n",
       "1. **Tách tích phân thành tổng các tích phân đơn giản:**\n",
       "   \\[\n",
       "   I = \\int_{\\frac{\\pi}{2}}^{\\pi} \\sin 2x \\, dx - \\int_{\\frac{\\pi}{2}}^{\\pi} \\cos 3x \\, dx\n",
       "   \\]\n",
       "\n",
       "2. **Tính nguyên hàm từng phần:**\n",
       "   - Nguyên hàm của $\\sin 2x$ là $-\\frac{1}{2} \\cos 2x$.\n",
       "   - Nguyên hàm của $\\cos 3x$ là $\\frac{1}{3} \\sin 3x$.\n",
       "\n",
       "   Do đó, nguyên hàm của hàm số đã cho là:\n",
       "   \\[\n",
       "   F(x) = -\\frac{1}{2} \\cos 2x - \\frac{1}{3} \\sin 3x\n",
       "   \\]\n",
       "\n",
       "3. **Thay cận trên và cận dưới:**\n",
       "   - Tại $x = \\pi$:\n",
       "     \\[\n",
       "     F(\\pi) = -\\frac{1}{2} \\cos(2\\pi) - \\frac{1}{3} \\sin(3\\pi) = -\\frac{1}{2}(1) - \\frac{1}{3}(0) = -\\frac{1}{2}\n",
       "     \\]\n",
       "   - Tại $x = \\frac{\\pi}{2}$:\n",
       "     \\[\n",
       "     F\\left(\\frac{\\pi}{2}\\right) = -\\frac{1}{2} \\cos(\\pi) - \\frac{1}{3} \\sin\\left(\\frac{3\\pi}{2}\\right) = -\\frac{1}{2}(-1) - \\frac{1}{3}(-1) = \\frac{1}{2} + \\frac{1}{3} = \\frac{5}{6}\n",
       "     \\]\n",
       "\n",
       "4. **Tính giá trị tích phân:**\n",
       "   \\[\n",
       "   I = F(\\pi) - F\\left(\\frac{\\pi}{2}\\right) = -\\frac{1}{2} - \\frac{5}{6} = -\\frac{3}{6} - \\frac{5}{6} = -\\frac{8}{6} = -\\frac{4}{3}\n",
       "   \\]\n"
      ],
      "text/plain": [
       "<IPython.core.display.Latex object>"
      ]
     },
     "metadata": {},
     "output_type": "display_data"
    },
    {
     "name": "stderr",
     "output_type": "stream",
     "text": [
      "Processing Questions:  43%|████▎     | 37/86 [45:08<59:29, 72.84s/it]"
     ]
    },
    {
     "data": {
      "text/latex": [
       "\n",
       "Đặt $u = 4 - x^2 \\Rightarrow du = -2x dx \\Rightarrow x dx = -\\frac{du}{2}$  \n",
       "Đổi cận:  \n",
       "- Khi $x = 0 \\Rightarrow u = 4$  \n",
       "- Khi $x = 1 \\Rightarrow u = 3$  \n",
       "\n",
       "Tích phân trở thành:  \n",
       "$$\n",
       "I = \\int_{4}^{3} \\frac{-\\frac{du}{2}}{u} = \\frac{1}{2} \\int_{3}^{4} \\frac{1}{u} du = \\frac{1}{2} \\left[ \\ln|u| \\right]_{3}^{4}\n",
       "$$\n",
       "\n",
       "Tính toán:  \n",
       "$$\n",
       "I = \\frac{1}{2} (\\ln 4 - \\ln 3) = \\frac{1}{2} \\ln \\left( \\frac{4}{3} \\right)\n",
       "$$\n"
      ],
      "text/plain": [
       "<IPython.core.display.Latex object>"
      ]
     },
     "metadata": {},
     "output_type": "display_data"
    },
    {
     "name": "stderr",
     "output_type": "stream",
     "text": [
      "Processing Questions:  44%|████▍     | 38/86 [46:30<1:00:29, 75.61s/it]"
     ]
    },
    {
     "data": {
      "text/latex": [
       "\n",
       "Đặt $u = 1 + x \\Rightarrow du = dx$. Đổi cận:\n",
       "- Khi $x = 0 \\Rightarrow u = 1$\n",
       "- Khi $x = 1 \\Rightarrow u = 2$\n",
       "\n",
       "Tích phân trở thành:\n",
       "\\[\n",
       "I = \\int_{1}^{2} \\frac{1}{u^3} du = \\int_{1}^{2} u^{-3} du\n",
       "\\]\n",
       "\n",
       "Tính nguyên hàm:\n",
       "\\[\n",
       "\\int u^{-3} du = \\frac{u^{-2}}{-2} + C = -\\frac{1}{2u^2} + C\n",
       "\\]\n",
       "\n",
       "Thay cận:\n",
       "\\[\n",
       "I = \\left. -\\frac{1}{2u^2} \\right|_{1}^{2} = \\left( -\\frac{1}{2 \\cdot 2^2} \\right) - \\left( -\\frac{1}{2 \\cdot 1^2} \\right) = -\\frac{1}{8} + \\frac{1}{2} = \\frac{3}{8}\n",
       "\\]\n"
      ],
      "text/plain": [
       "<IPython.core.display.Latex object>"
      ]
     },
     "metadata": {},
     "output_type": "display_data"
    },
    {
     "name": "stderr",
     "output_type": "stream",
     "text": [
      "Processing Questions:  45%|████▌     | 39/86 [47:38<57:27, 73.36s/it]  "
     ]
    },
    {
     "data": {
      "text/latex": [
       "\n",
       "Đặt $u = x^2 - 4x + 5 \\Rightarrow du = (2x - 4)dx = 2(x - 2)dx \\Rightarrow (x - 2)dx = \\frac{du}{2}$.\n",
       "\n",
       "Khi đó, tích phân trở thành:\n",
       "\\[\n",
       "I = \\frac{1}{2} \\int_{u(0)}^{u(1)} \\frac{1}{u} du = \\frac{1}{2} \\left[ \\ln|u| \\right]_{5}^{2}\n",
       "\\]\n",
       "\n",
       "Tính giá trị tại các cận:\n",
       "- Khi $x = 1$: $u = 1^2 - 4(1) + 5 = 2$\n",
       "- Khi $x = 0$: $u = 0^2 - 4(0) + 5 = 5$\n",
       "\n",
       "Vậy:\n",
       "\\[\n",
       "I = \\frac{1}{2} (\\ln 2 - \\ln 5) = \\frac{1}{2} \\ln \\left( \\frac{2}{5} \\right)\n",
       "\\]\n"
      ],
      "text/plain": [
       "<IPython.core.display.Latex object>"
      ]
     },
     "metadata": {},
     "output_type": "display_data"
    },
    {
     "name": "stderr",
     "output_type": "stream",
     "text": [
      "Processing Questions:  47%|████▋     | 40/86 [48:54<56:58, 74.32s/it]"
     ]
    },
    {
     "data": {
      "text/latex": [
       "\n",
       "Đặt $u = 2x - 1 \\Rightarrow du = 2dx \\Rightarrow dx = \\dfrac{du}{2}$.\n",
       "\n",
       "Đổi cận:\n",
       "- Khi $x = -1 \\Rightarrow u = 2(-1) - 1 = -3$\n",
       "- Khi $x = 0 \\Rightarrow u = 2(0) - 1 = -1$\n",
       "\n",
       "Tích phân trở thành:\n",
       "\\[\n",
       "I = \\dfrac{1}{2} \\int_{-3}^{-1} \\dfrac{1}{u^2} du = \\dfrac{1}{2} \\left[ -\\dfrac{1}{u} \\right]_{-3}^{-1}\n",
       "\\]\n",
       "\n",
       "Tính giá trị:\n",
       "\\[\n",
       "\\dfrac{1}{2} \\left( -\\dfrac{1}{-1} + \\dfrac{1}{-3} \\right) = \\dfrac{1}{2} \\left( 1 - \\dfrac{1}{3} \\right) = \\dfrac{1}{2} \\cdot \\dfrac{2}{3} = \\dfrac{1}{3}\n",
       "\\]\n"
      ],
      "text/plain": [
       "<IPython.core.display.Latex object>"
      ]
     },
     "metadata": {},
     "output_type": "display_data"
    },
    {
     "name": "stderr",
     "output_type": "stream",
     "text": [
      "Processing Questions:  48%|████▊     | 41/86 [50:02<54:14, 72.31s/it]"
     ]
    },
    {
     "data": {
      "text/latex": [
       "\n",
       "Đặt $u = e^x + 1 \\Rightarrow du = e^x dx$.  \n",
       "Khi $x = 0 \\Rightarrow u = 2$ và $x = 1 \\Rightarrow u = e + 1$.  \n",
       "Tích phân trở thành:  \n",
       "$$\n",
       "I = \\int_{2}^{e+1} \\frac{1}{u} du = \\ln|u| \\Big|_{2}^{e+1} = \\ln(e+1) - \\ln2 = \\ln\\left(\\frac{e+1}{2}\\right)\n",
       "$$\n"
      ],
      "text/plain": [
       "<IPython.core.display.Latex object>"
      ]
     },
     "metadata": {},
     "output_type": "display_data"
    },
    {
     "name": "stderr",
     "output_type": "stream",
     "text": [
      "Processing Questions:  49%|████▉     | 42/86 [51:02<50:18, 68.61s/it]"
     ]
    },
    {
     "data": {
      "text/latex": [
       "\n",
       "Đặt $u = \\sin x \\Rightarrow du = \\cos x \\, dx$.  \n",
       "Khi $x = 0 \\Rightarrow u = 0$; khi $x = \\dfrac{\\pi}{2} \\Rightarrow u = 1$.  \n",
       "Tích phân trở thành:  \n",
       "$$\n",
       "I = \\int_{0}^{1} u^2 \\, du = \\left. \\dfrac{u^3}{3} \\right|_{0}^{1} = \\dfrac{1^3}{3} - \\dfrac{0^3}{3} = \\dfrac{1}{3}\n",
       "$$\n"
      ],
      "text/plain": [
       "<IPython.core.display.Latex object>"
      ]
     },
     "metadata": {},
     "output_type": "display_data"
    },
    {
     "name": "stderr",
     "output_type": "stream",
     "text": [
      "Processing Questions:  50%|█████     | 43/86 [52:04<47:47, 66.69s/it]"
     ]
    },
    {
     "data": {
      "text/latex": [
       "\n",
       "Đặt $u = \\cos x \\Rightarrow du = -\\sin x \\, dx \\Rightarrow -du = \\sin x \\, dx$.  \n",
       "Khi $x = 0 \\Rightarrow u = \\cos 0 = 1$;  \n",
       "Khi $x = \\dfrac{\\pi}{4} \\Rightarrow u = \\cos \\dfrac{\\pi}{4} = \\dfrac{\\sqrt{2}}{2}$.  \n",
       "\n",
       "Tích phân trở thành:  \n",
       "\\[\n",
       "I = \\int_{1}^{\\frac{\\sqrt{2}}{2}} \\frac{-du}{u} = -\\int_{1}^{\\frac{\\sqrt{2}}{2}} \\frac{1}{u} \\, du = -\\left[ \\ln |u| \\right]_{1}^{\\frac{\\sqrt{2}}{2}} = -\\left( \\ln \\dfrac{\\sqrt{2}}{2} - \\ln 1 \\right)\n",
       "\\]  \n",
       "Vì $\\ln 1 = 0$ và $\\ln \\dfrac{\\sqrt{2}}{2} = \\ln \\sqrt{2} - \\ln 2 = \\dfrac{1}{2}\\ln 2 - \\ln 2 = -\\dfrac{1}{2}\\ln 2$, ta có:  \n",
       "\\[\n",
       "I = -\\left( -\\dfrac{1}{2}\\ln 2 \\right) = \\dfrac{1}{2}\\ln 2\n",
       "\\]\n"
      ],
      "text/plain": [
       "<IPython.core.display.Latex object>"
      ]
     },
     "metadata": {},
     "output_type": "display_data"
    },
    {
     "name": "stderr",
     "output_type": "stream",
     "text": [
      "Processing Questions:  51%|█████     | 44/86 [53:13<47:03, 67.22s/it]"
     ]
    },
    {
     "data": {
      "text/latex": [
       "\n",
       "Ta có tích phân $I = \\int_{0}^{\\frac{\\pi}{2}}(x + \\sin^2x)\\cos x \\, dx$. Tách thành tổng hai tích phân:\n",
       "\\[\n",
       "I = \\int_{0}^{\\frac{\\pi}{2}} x\\cos x \\, dx + \\int_{0}^{\\frac{\\pi}{2}} \\sin^2x \\cos x \\, dx\n",
       "\\]\n",
       "\n",
       "**Tính $\\int_{0}^{\\frac{\\pi}{2}} x\\cos x \\, dx$ bằng phương pháp tích phân từng phần:**\n",
       "- Đặt $\\begin{cases} u = x \\\\ dv = \\cos x \\, dx \\end{cases} \\Rightarrow \\begin{cases} du = dx \\\\ v = \\sin x \\end{cases}$\n",
       "- Áp dụng công thức:\n",
       "\\[\n",
       "\\int x\\cos x \\, dx = x\\sin x - \\int \\sin x \\, dx = x\\sin x + \\cos x + C\n",
       "\\]\n",
       "- Thay cận:\n",
       "\\[\n",
       "\\left[ x\\sin x + \\cos x \\right]_0^{\\frac{\\pi}{2}} = \\left( \\frac{\\pi}{2} \\cdot 1 + 0 \\right) - \\left( 0 + 1 \\right) = \\frac{\\pi}{2} - 1\n",
       "\\]\n",
       "\n",
       "**Tính $\\int_{0}^{\\frac{\\pi}{2}} \\sin^2x \\cos x \\, dx$ bằng phương pháp đổi biến:**\n",
       "- Đặt $u = \\sin x \\Rightarrow du = \\cos x \\, dx$\n",
       "- Đổi cận: $x = 0 \\Rightarrow u = 0$; $x = \\frac{\\pi}{2} \\Rightarrow u = 1$\n",
       "- Tích phân trở thành:\n",
       "\\[\n",
       "\\int_{0}^{1} u^2 \\, du = \\left. \\frac{u^3}{3} \\right|_{0}^{1} = \\frac{1}{3} - 0 = \\frac{1}{3}\n",
       "\\]\n",
       "\n",
       "**Tổng hợp kết quả:**\n",
       "\\[\n",
       "I = \\left( \\frac{\\pi}{2} - 1 \\right) + \\frac{1}{3} = \\frac{\\pi}{2} - \\frac{2}{3}\n",
       "\\]\n"
      ],
      "text/plain": [
       "<IPython.core.display.Latex object>"
      ]
     },
     "metadata": {},
     "output_type": "display_data"
    },
    {
     "name": "stderr",
     "output_type": "stream",
     "text": [
      "Processing Questions:  52%|█████▏    | 45/86 [54:21<46:14, 67.68s/it]"
     ]
    },
    {
     "data": {
      "text/latex": [
       "\n",
       "Để tính tích phân $I = \\int_{1}^{2}(4x + 3) \\ln x \\, dx$, ta sử dụng phương pháp tích phân từng phần.\n",
       "\n",
       "**Bước 1:** Đặt:\n",
       "\\[\n",
       "\\begin{cases}\n",
       "u = \\ln x \\\\\n",
       "dv = (4x + 3) dx\n",
       "\\end{cases}\n",
       "\\]\n",
       "Suy ra:\n",
       "\\[\n",
       "\\begin{cases}\n",
       "du = \\dfrac{1}{x} dx \\\\\n",
       "v = \\int (4x + 3) dx = 2x^2 + 3x\n",
       "\\end{cases}\n",
       "\\]\n",
       "\n",
       "**Bước 2:** Áp dụng công thức tích phân từng phần:\n",
       "\\[\n",
       "I = \\left. u \\cdot v \\right|_{1}^{2} - \\int_{1}^{2} v \\cdot du\n",
       "\\]\n",
       "Thay các giá trị vào:\n",
       "\\[\n",
       "I = \\left. \\ln x \\cdot (2x^2 + 3x) \\right|_{1}^{2} - \\int_{1}^{2} (2x^2 + 3x) \\cdot \\dfrac{1}{x} dx\n",
       "\\]\n",
       "\n",
       "**Bước 3:** Đơn giản hóa tích phân còn lại:\n",
       "\\[\n",
       "\\int_{1}^{2} \\dfrac{2x^2 + 3x}{x} dx = \\int_{1}^{2} (2x + 3) dx\n",
       "\\]\n",
       "Tính tích phân:\n",
       "\\[\n",
       "\\int (2x + 3) dx = x^2 + 3x + C\n",
       "\\]\n",
       "\n",
       "**Bước 4:** Thay cận và tính toán:\n",
       "\\[\n",
       "I = \\left[ \\ln x \\cdot (2x^2 + 3x) \\right]_{1}^{2} - \\left[ x^2 + 3x \\right]_{1}^{2}\n",
       "\\]\n",
       "Tính từng phần:\n",
       "- Tại $x = 2$:\n",
       "  \\[\n",
       "  \\ln 2 \\cdot (8 + 6) - (4 + 6) = 14 \\ln 2 - 10\n",
       "  \\]\n",
       "- Tại $x = 1$:\n",
       "  \\[\n",
       "  \\ln 1 \\cdot (2 + 3) - (1 + 3) = 0 - 4 = -4\n",
       "  \\]\n",
       "  \n",
       "**Bước 5:** Kết hợp kết quả:\n",
       "\\[\n",
       "I = (14 \\ln 2 - 10) - (-4) = 14 \\ln 2 - 6\n",
       "\\]\n"
      ],
      "text/plain": [
       "<IPython.core.display.Latex object>"
      ]
     },
     "metadata": {},
     "output_type": "display_data"
    },
    {
     "name": "stderr",
     "output_type": "stream",
     "text": [
      "Processing Questions:  53%|█████▎    | 46/86 [55:33<46:00, 69.02s/it]"
     ]
    },
    {
     "data": {
      "text/latex": [
       "\n",
       "Để tính tích phân $I = \\int_{0}^{\\frac{\\pi}{2}} x(2 + \\sin2x)dx$, ta phân tích thành hai tích phân đơn giản hơn:\n",
       "\n",
       "$$\n",
       "I = \\int_{0}^{\\frac{\\pi}{2}} 2x \\,dx + \\int_{0}^{\\frac{\\pi}{2}} x\\sin2x \\,dx\n",
       "$$\n",
       "\n",
       "**Tính $\\int_{0}^{\\frac{\\pi}{2}} 2x \\,dx$:**\n",
       "$$\n",
       "\\int 2x \\,dx = x^2 \\Big|_{0}^{\\frac{\\pi}{2}} = \\left(\\frac{\\pi}{2}\\right)^2 - 0 = \\frac{\\pi^2}{4}\n",
       "$$\n",
       "\n",
       "**Tính $\\int_{0}^{\\frac{\\pi}{2}} x\\sin2x \\,dx$ bằng phương pháp tích phân từng phần:**\n",
       "- Đặt $\\begin{cases} u = x \\\\ dv = \\sin2x \\,dx \\end{cases} \\Rightarrow \\begin{cases} du = dx \\\\ v = -\\frac{1}{2}\\cos2x \\end{cases}$\n",
       "- Áp dụng công thức tích phân từng phần:\n",
       "$$\n",
       "\\begin{aligned}\n",
       "\\int x\\sin2x \\,dx &= -\\frac{x}{2}\\cos2x + \\frac{1}{2}\\int \\cos2x \\,dx \\\\\n",
       "&= -\\frac{x}{2}\\cos2x + \\frac{1}{4}\\sin2x + C\n",
       "\\end{aligned}\n",
       "$$\n",
       "\n",
       "- Thay cận từ $0$ đến $\\frac{\\pi}{2}$:\n",
       "$$\n",
       "\\begin{aligned}\n",
       "\\left[-\\frac{x}{2}\\cos2x + \\frac{1}{4}\\sin2x\\right]_{0}^{\\frac{\\pi}{2}} &= \\left(-\\frac{\\pi}{4}\\cos\\pi + \\frac{1}{4}\\sin\\pi\\right) - \\left(0 + \\frac{1}{4}\\sin0\\right) \\\\\n",
       "&= \\frac{\\pi}{4} - 0 = \\frac{\\pi}{4}\n",
       "\\end{aligned}\n",
       "$$\n",
       "\n",
       "**Kết hợp kết quả:**\n",
       "$$\n",
       "I = \\frac{\\pi^2}{4} + \\frac{\\pi}{4} = \\frac{\\pi(\\pi + 1)}{4}\n",
       "$$\n"
      ],
      "text/plain": [
       "<IPython.core.display.Latex object>"
      ]
     },
     "metadata": {},
     "output_type": "display_data"
    },
    {
     "name": "stderr",
     "output_type": "stream",
     "text": [
      "Processing Questions:  55%|█████▍    | 47/86 [56:47<45:39, 70.23s/it]"
     ]
    },
    {
     "data": {
      "text/latex": [
       "\n",
       "Để tính tích phân $I = \\int_{2}^{3} x[3x - 2\\ln(x - 1)] \\, dx$, ta thực hiện các bước sau:\n",
       "\n",
       "**Bước 1:** Khai triển biểu thức trong tích phân:\n",
       "\\[\n",
       "I = \\int_{2}^{3} \\left(3x^2 - 2x\\ln(x - 1)\\right) \\, dx = 3\\int_{2}^{3} x^2 \\, dx - 2\\int_{2}^{3} x\\ln(x - 1) \\, dx\n",
       "\\]\n",
       "\n",
       "**Bước 2:** Tính tích phân thứ nhất:\n",
       "\\[\n",
       "3\\int_{2}^{3} x^2 \\, dx = 3 \\left[ \\dfrac{x^3}{3} \\right]_{2}^{3} = \\left[ x^3 \\right]_{2}^{3} = 3^3 - 2^3 = 27 - 8 = 19\n",
       "\\]\n",
       "\n",
       "**Bước 3:** Tính tích phân thứ hai bằng phương pháp tích phân từng phần. Đặt:\n",
       "\\[\n",
       "\\begin{cases}\n",
       "u = \\ln(x - 1) \\Rightarrow du = \\dfrac{1}{x - 1} \\, dx \\\\\n",
       "dv = x \\, dx \\Rightarrow v = \\dfrac{x^2}{2}\n",
       "\\end{cases}\n",
       "\\]\n",
       "Áp dụng công thức tích phân từng phần:\n",
       "\\[\n",
       "\\int x\\ln(x - 1) \\, dx = \\dfrac{x^2}{2}\\ln(x - 1) - \\int \\dfrac{x^2}{2} \\cdot \\dfrac{1}{x - 1} \\, dx\n",
       "\\]\n",
       "\n",
       "**Bước 4:** Tính tích phân còn lại:\n",
       "\\[\n",
       "\\int \\dfrac{x^2}{2(x - 1)} \\, dx = \\dfrac{1}{2} \\int \\left( x - 1 + 2 + \\dfrac{1}{x - 1} \\right) \\, dx = \\dfrac{1}{2} \\left[ \\dfrac{(x - 1)^2}{2} + 2x + \\ln|x - 1| \\right] + C\n",
       "\\]\n",
       "\n",
       "**Bước 5:** Kết hợp các kết quả và tính giới hạn từ 2 đến 3:\n",
       "\\[\n",
       "\\int_{2}^{3} x\\ln(x - 1) \\, dx = \\left[ \\dfrac{x^2}{2}\\ln(x - 1) - \\dfrac{(x - 1)^2}{4} - x - \\dfrac{1}{2}\\ln(x - 1) \\right]_{2}^{3}\n",
       "\\]\n",
       "Tại $x = 3$:\n",
       "\\[\n",
       "\\dfrac{9}{2}\\ln2 - 1 - 3 - \\dfrac{1}{2}\\ln2 = 4\\ln2 - 4\n",
       "\\]\n",
       "Tại $x = 2$:\n",
       "\\[\n",
       "0 - \\dfrac{1}{4} - 2 - 0 = -2.25\n",
       "\\]\n",
       "Suy ra:\n",
       "\\[\n",
       "\\int_{2}^{3} x\\ln(x - 1) \\, dx = (4\\ln2 - 4) - (-2.25) = 4\\ln2 - 1.75\n",
       "\\]\n",
       "\n",
       "**Bước 6:** Thay vào tích phân ban đầu:\n",
       "\\[\n",
       "I = 19 - 2(4\\ln2 - 1.75) = 19 - 8\\ln2 + 3.5 = \\dfrac{45}{2} - 8\\ln2\n",
       "\\]\n"
      ],
      "text/plain": [
       "<IPython.core.display.Latex object>"
      ]
     },
     "metadata": {},
     "output_type": "display_data"
    },
    {
     "name": "stderr",
     "output_type": "stream",
     "text": [
      "Processing Questions:  56%|█████▌    | 48/86 [58:19<48:38, 76.81s/it]"
     ]
    },
    {
     "data": {
      "text/latex": [
       "\n",
       "Ta có:\n",
       "\\[\n",
       "I = \\int_{0}^{1} x\\left(\\sqrt{x^2+1} + e^x\\right)dx = \\int_{0}^{1} x\\sqrt{x^2+1} \\,dx + \\int_{0}^{1} x e^x \\,dx\n",
       "\\]\n",
       "\n",
       "**Tính \\(\\int_{0}^{1} x\\sqrt{x^2+1} \\,dx\\):**\n",
       "- Đặt \\(u = x^2 + 1 \\Rightarrow du = 2x \\,dx \\Rightarrow x \\,dx = \\frac{1}{2}du\\)\n",
       "- Đổi cận: \\(x=0 \\Rightarrow u=1\\); \\(x=1 \\Rightarrow u=2\\)\n",
       "- Khi đó:\n",
       "\\[\n",
       "\\int_{0}^{1} x\\sqrt{x^2+1} \\,dx = \\frac{1}{2} \\int_{1}^{2} \\sqrt{u} \\,du = \\frac{1}{2} \\left[ \\frac{2}{3}u^{3/2} \\right]_1^2 = \\frac{1}{3} \\left(2^{3/2} - 1\\right) = \\frac{2\\sqrt{2} - 1}{3}\n",
       "\\]\n",
       "\n",
       "**Tính \\(\\int_{0}^{1} x e^x \\,dx\\) bằng tích phân từng phần:**\n",
       "- Đặt \\(\\begin{cases} u = x \\\\ dv = e^x \\,dx \\end{cases} \\Rightarrow \\begin{cases} du = dx \\\\ v = e^x \\end{cases}\\)\n",
       "- Áp dụng công thức:\n",
       "\\[\n",
       "\\int x e^x \\,dx = x e^x - \\int e^x \\,dx = x e^x - e^x + C\n",
       "\\]\n",
       "- Thay cận:\n",
       "\\[\n",
       "\\left[ x e^x - e^x \\right]_0^1 = \\left(1 \\cdot e^1 - e^1\\right) - \\left(0 \\cdot e^0 - e^0\\right) = 0 - (-1) = 1\n",
       "\\]\n",
       "\n",
       "**Kết hợp kết quả:**\n",
       "\\[\n",
       "I = \\frac{2\\sqrt{2} - 1}{3} + 1 = \\frac{2\\sqrt{2} - 1 + 3}{3} = \\frac{2\\sqrt{2} + 2}{3} = \\frac{2(\\sqrt{2} + 1)}{3}\n",
       "\\]\n"
      ],
      "text/plain": [
       "<IPython.core.display.Latex object>"
      ]
     },
     "metadata": {},
     "output_type": "display_data"
    },
    {
     "name": "stderr",
     "output_type": "stream",
     "text": [
      "Processing Questions:  57%|█████▋    | 49/86 [59:31<46:37, 75.61s/it]"
     ]
    },
    {
     "data": {
      "text/latex": [
       "\n",
       "Ta có tích phân cần tính:\n",
       "\\[\n",
       "I = \\int_{0}^{\\pi} (x + \\cos^5 x) \\sin x \\, dx\n",
       "\\]\n",
       "Chia tích phân thành hai phần:\n",
       "\\[\n",
       "I = \\int_{0}^{\\pi} x \\sin x \\, dx + \\int_{0}^{\\pi} \\cos^5 x \\sin x \\, dx = I_1 + I_2\n",
       "\\]\n",
       "\n",
       "**Tính \\(I_1 = \\int_{0}^{\\pi} x \\sin x \\, dx\\):**  \n",
       "Sử dụng tích phân từng phần với:\n",
       "\\[\n",
       "\\begin{cases}\n",
       "u = x \\Rightarrow du = dx \\\\\n",
       "dv = \\sin x \\, dx \\Rightarrow v = -\\cos x\n",
       "\\end{cases}\n",
       "\\]\n",
       "Áp dụng công thức tích phân từng phần:\n",
       "\\[\n",
       "I_1 = \\left[ -x \\cos x \\right]_0^{\\pi} + \\int_{0}^{\\pi} \\cos x \\, dx\n",
       "\\]\n",
       "Tính từng phần:\n",
       "\\[\n",
       "\\left[ -x \\cos x \\right]_0^{\\pi} = -\\pi \\cos \\pi + 0 = -\\pi (-1) = \\pi\n",
       "\\]\n",
       "\\[\n",
       "\\int_{0}^{\\pi} \\cos x \\, dx = \\left[ \\sin x \\right]_0^{\\pi} = 0 - 0 = 0\n",
       "\\]\n",
       "Vậy \\(I_1 = \\pi + 0 = \\pi\\).\n",
       "\n",
       "**Tính \\(I_2 = \\int_{0}^{\\pi} \\cos^5 x \\sin x \\, dx\\):**  \n",
       "Đặt \\(u = \\cos x \\Rightarrow du = -\\sin x \\, dx\\). Đổi cận:\n",
       "\\[\n",
       "x = 0 \\Rightarrow u = 1; \\quad x = \\pi \\Rightarrow u = -1\n",
       "\\]\n",
       "Khi đó:\n",
       "\\[\n",
       "I_2 = \\int_{1}^{-1} u^5 (-du) = \\int_{-1}^{1} u^5 \\, du\n",
       "\\]\n",
       "Do \\(u^5\\) là hàm lẻ và tích phân trên khoảng đối xứng \\([-1, 1]\\) nên \\(I_2 = 0\\).\n",
       "\n",
       "**Kết hợp kết quả:**\n",
       "\\[\n",
       "I = I_1 + I_2 = \\pi + 0 = \\pi\n",
       "\\]\n"
      ],
      "text/plain": [
       "<IPython.core.display.Latex object>"
      ]
     },
     "metadata": {},
     "output_type": "display_data"
    },
    {
     "name": "stderr",
     "output_type": "stream",
     "text": [
      "Processing Questions:  58%|█████▊    | 50/86 [1:00:43<44:39, 74.43s/it]"
     ]
    },
    {
     "data": {
      "text/latex": [
       "\n",
       "Để tính tích phân $I = \\int_{1}^{e} \\left( \\frac{1}{x} + \\frac{1}{x^2} \\right) \\ln x \\, dx$, ta tách thành hai tích phân đơn giản hơn:\n",
       "\\[\n",
       "I = \\int_{1}^{e} \\frac{\\ln x}{x} \\, dx + \\int_{1}^{e} \\frac{\\ln x}{x^2} \\, dx\n",
       "\\]\n",
       "\n",
       "**Tính tích phân thứ nhất:**\n",
       "\\[\n",
       "\\int \\frac{\\ln x}{x} \\, dx\n",
       "\\]\n",
       "Đặt $u = (\\ln x)^2$, ta có $du = 2 \\ln x \\cdot \\frac{1}{x} dx$. Do đó:\n",
       "\\[\n",
       "\\int \\frac{\\ln x}{x} \\, dx = \\frac{(\\ln x)^2}{2} + C\n",
       "\\]\n",
       "Tính từ $1$ đến $e$:\n",
       "\\[\n",
       "\\left. \\frac{(\\ln x)^2}{2} \\right|_{1}^{e} = \\frac{1^2}{2} - \\frac{0^2}{2} = \\frac{1}{2}\n",
       "\\]\n",
       "\n",
       "**Tính tích phân thứ hai:**\n",
       "\\[\n",
       "\\int \\frac{\\ln x}{x^2} \\, dx\n",
       "\\]\n",
       "Sử dụng tích phân từng phần với:\n",
       "\\[\n",
       "\\begin{cases}\n",
       "u = \\ln x \\Rightarrow du = \\frac{1}{x} dx \\\\\n",
       "dv = \\frac{1}{x^2} dx \\Rightarrow v = -\\frac{1}{x}\n",
       "\\end{cases}\n",
       "\\]\n",
       "Khi đó:\n",
       "\\[\n",
       "\\int \\frac{\\ln x}{x^2} dx = -\\frac{\\ln x}{x} + \\int \\frac{1}{x^2} dx = -\\frac{\\ln x}{x} - \\frac{1}{x} + C\n",
       "\\]\n",
       "Tính từ $1$ đến $e$:\n",
       "\\[\n",
       "\\left. \\left( -\\frac{\\ln x + 1}{x} \\right) \\right|_{1}^{e} = \\left( -\\frac{1 + 1}{e} \\right) - \\left( -\\frac{0 + 1}{1} \\right) = -\\frac{2}{e} + 1\n",
       "\\]\n",
       "\n",
       "**Tổng hợp kết quả:**\n",
       "\\[\n",
       "I = \\frac{1}{2} + \\left( 1 - \\frac{2}{e} \\right) = \\frac{3}{2} - \\frac{2}{e}\n",
       "\\]\n"
      ],
      "text/plain": [
       "<IPython.core.display.Latex object>"
      ]
     },
     "metadata": {},
     "output_type": "display_data"
    },
    {
     "name": "stderr",
     "output_type": "stream",
     "text": [
      "Processing Questions:  59%|█████▉    | 51/86 [1:02:02<44:08, 75.68s/it]"
     ]
    },
    {
     "data": {
      "text/latex": [
       "\n",
       "Đặt $u = 1 - x^3 \\Rightarrow du = -3x^2 dx \\Rightarrow x^2 dx = -\\dfrac{du}{3}$. Đổi cận:\n",
       "- Khi $x = 0 \\Rightarrow u = 1$\n",
       "- Khi $x = 1 \\Rightarrow u = 0$\n",
       "\n",
       "Biến đổi tích phân:\n",
       "\\[\n",
       "\\begin{aligned}\n",
       "I &= \\int_{0}^{1} x^5(1 - x^3)^6 dx \\\\\n",
       "&= \\int_{0}^{1} x^3 \\cdot x^2 (1 - x^3)^6 dx \\\\\n",
       "&= \\int_{0}^{1} (1 - u) \\cdot u^6 \\cdot \\left(-\\dfrac{du}{3}\\right) \\\\\n",
       "&= \\dfrac{1}{3} \\int_{0}^{1} (1 - u)u^6 du \\\\\n",
       "&= \\dfrac{1}{3} \\left( \\int_{0}^{1} u^6 du - \\int_{0}^{1} u^7 du \\right) \\\\\n",
       "&= \\dfrac{1}{3} \\left( \\left[ \\dfrac{u^7}{7} \\right]_0^1 - \\left[ \\dfrac{u^8}{8} \\right]_0^1 \\right) \\\\\n",
       "&= \\dfrac{1}{3} \\left( \\dfrac{1}{7} - \\dfrac{1}{8} \\right) \\\\\n",
       "&= \\dfrac{1}{3} \\cdot \\dfrac{1}{56} = \\dfrac{1}{168}\n",
       "\\end{aligned}\n",
       "\\]\n"
      ],
      "text/plain": [
       "<IPython.core.display.Latex object>"
      ]
     },
     "metadata": {},
     "output_type": "display_data"
    },
    {
     "name": "stderr",
     "output_type": "stream",
     "text": [
      "Processing Questions:  60%|██████    | 52/86 [1:03:13<42:05, 74.27s/it]"
     ]
    },
    {
     "data": {
      "text/latex": [
       "\n",
       "Đặt $t = x + 1 \\Rightarrow dt = dx$, đổi cận:\n",
       "- Khi $x = -1 \\Rightarrow t = 0$\n",
       "- Khi $x = 0 \\Rightarrow t = 1$\n",
       "\n",
       "Ta có $x = t - 1$, thay vào tích phân:\n",
       "\\[\n",
       "I = \\int_{0}^{1} (t - 1)^2 \\cdot t^9 \\, dt = \\int_{0}^{1} (t^2 - 2t + 1) t^9 \\, dt = \\int_{0}^{1} (t^{11} - 2t^{10} + t^9) \\, dt\n",
       "\\]\n",
       "\n",
       "Tính từng tích phân:\n",
       "\\[\n",
       "\\int t^{11} \\, dt = \\frac{t^{12}}{12}, \\quad \\int -2t^{10} \\, dt = -\\frac{2t^{11}}{11}, \\quad \\int t^9 \\, dt = \\frac{t^{10}}{10}\n",
       "\\]\n",
       "\n",
       "Thay cận $0$ và $1$:\n",
       "\\[\n",
       "I = \\left[ \\frac{1^{12}}{12} - \\frac{2 \\cdot 1^{11}}{11} + \\frac{1^{10}}{10} \\right] - \\left[ 0 \\right] = \\frac{1}{12} - \\frac{2}{11} + \\frac{1}{10}\n",
       "\\]\n",
       "\n",
       "Quy đồng mẫu số chung là $660$:\n",
       "\\[\n",
       "\\frac{55}{660} - \\frac{120}{660} + \\frac{66}{660} = \\frac{55 - 120 + 66}{660} = \\frac{1}{660}\n",
       "\\]\n"
      ],
      "text/plain": [
       "<IPython.core.display.Latex object>"
      ]
     },
     "metadata": {},
     "output_type": "display_data"
    },
    {
     "name": "stderr",
     "output_type": "stream",
     "text": [
      "Processing Questions:  62%|██████▏   | 53/86 [1:04:19<39:33, 71.94s/it]"
     ]
    },
    {
     "data": {
      "text/latex": [
       "\n",
       "Đặt $u = 1 + 2x + 3x^2$  \n",
       "$\\Rightarrow du = (2 + 6x)dx = 2(1 + 3x)dx$  \n",
       "$\\Rightarrow (1 + 3x)dx = \\dfrac{du}{2}$  \n",
       "\n",
       "Đổi cận:  \n",
       "- Khi $x = 0 \\Rightarrow u = 1$  \n",
       "- Khi $x = 1 \\Rightarrow u = 1 + 2(1) + 3(1)^2 = 6$  \n",
       "\n",
       "Tích phân trở thành:  \n",
       "$$\n",
       "I = \\int_{1}^{6} u^{10} \\cdot \\dfrac{du}{2} = \\dfrac{1}{2} \\int_{1}^{6} u^{10} du = \\dfrac{1}{2} \\left[ \\dfrac{u^{11}}{11} \\right]_{1}^{6}\n",
       "$$\n",
       "\n",
       "Tính toán:  \n",
       "$$\n",
       "I = \\dfrac{1}{22} \\left(6^{11} - 1^{11}\\right) = \\dfrac{6^{11} - 1}{22}\n",
       "$$\n"
      ],
      "text/plain": [
       "<IPython.core.display.Latex object>"
      ]
     },
     "metadata": {},
     "output_type": "display_data"
    },
    {
     "name": "stderr",
     "output_type": "stream",
     "text": [
      "Processing Questions:  63%|██████▎   | 54/86 [1:05:27<37:39, 70.60s/it]"
     ]
    },
    {
     "data": {
      "text/latex": [
       "\n",
       "Đặt $u = x^2 - 3 \\Rightarrow du = 2x dx \\Rightarrow x dx = \\dfrac{1}{2}du$  \n",
       "Đổi cận:  \n",
       "- Khi $x = 2 \\Rightarrow u = 2^2 - 3 = 1$  \n",
       "- Khi $x = \\sqrt{7} \\Rightarrow u = (\\sqrt{7})^2 - 3 = 4$  \n",
       "\n",
       "Tích phân trở thành:  \n",
       "$$\n",
       "I = \\dfrac{1}{2} \\int_{1}^{4} \\dfrac{1}{\\sqrt{u}} du = \\dfrac{1}{2} \\left[ 2\\sqrt{u} \\right]_{1}^{4} = \\left[ \\sqrt{u} \\right]_{1}^{4} = \\sqrt{4} - \\sqrt{1} = 2 - 1 = 1\n",
       "$$\n"
      ],
      "text/plain": [
       "<IPython.core.display.Latex object>"
      ]
     },
     "metadata": {},
     "output_type": "display_data"
    },
    {
     "name": "stderr",
     "output_type": "stream",
     "text": [
      "Processing Questions:  64%|██████▍   | 55/86 [1:06:35<36:10, 70.00s/it]"
     ]
    },
    {
     "data": {
      "text/latex": [
       "\n",
       "Đặt $u = 1 + \\ln x$  \n",
       "$\\Rightarrow du = \\frac{1}{x}dx$  \n",
       "Đổi cận:  \n",
       "- Khi $x = 1 \\Rightarrow u = 1 + \\ln 1 = 1$  \n",
       "- Khi $x = e \\Rightarrow u = 1 + \\ln e = 2$  \n",
       "\n",
       "Khi đó:  \n",
       "$$\n",
       "I = \\int_{1}^{2} \\frac{1}{u} du = \\left. \\ln|u| \\right|_{1}^{2} = \\ln 2 - \\ln 1 = \\ln 2\n",
       "$$\n"
      ],
      "text/plain": [
       "<IPython.core.display.Latex object>"
      ]
     },
     "metadata": {},
     "output_type": "display_data"
    },
    {
     "name": "stderr",
     "output_type": "stream",
     "text": [
      "Processing Questions:  65%|██████▌   | 56/86 [1:07:39<34:02, 68.08s/it]"
     ]
    },
    {
     "data": {
      "text/latex": [
       "\n",
       "Đặt $t = \\ln x \\Rightarrow dt = \\dfrac{1}{x}dx$.  \n",
       "Khi $x = 1 \\Rightarrow t = 0$ và $x = e \\Rightarrow t = 1$.  \n",
       "Tích phân trở thành:  \n",
       "$$\n",
       "I = \\int_{0}^{1} \\sin t \\, dt = \\left. -\\cos t \\right|_{0}^{1} = -\\cos 1 + \\cos 0 = 1 - \\cos 1\n",
       "$$\n"
      ],
      "text/plain": [
       "<IPython.core.display.Latex object>"
      ]
     },
     "metadata": {},
     "output_type": "display_data"
    },
    {
     "name": "stderr",
     "output_type": "stream",
     "text": [
      "Processing Questions:  66%|██████▋   | 57/86 [1:08:41<32:01, 66.27s/it]"
     ]
    },
    {
     "data": {
      "text/latex": [
       "\n",
       "Đặt $u = \\ln x \\Rightarrow du = \\dfrac{1}{x}dx$. Đổi cận:\n",
       "- Khi $x = e \\Rightarrow u = 1$\n",
       "- Khi $x = e^2 \\Rightarrow u = 2$\n",
       "\n",
       "Tích phân trở thành:\n",
       "\\[\n",
       "I = \\int_{1}^{2} \\dfrac{1}{u^3} du = \\int_{1}^{2} u^{-3} du\n",
       "\\]\n",
       "\n",
       "Tính nguyên hàm:\n",
       "\\[\n",
       "\\int u^{-3} du = \\dfrac{u^{-2}}{-2} + C = -\\dfrac{1}{2u^2} + C\n",
       "\\]\n",
       "\n",
       "Thay cận:\n",
       "\\[\n",
       "I = \\left. -\\dfrac{1}{2u^2} \\right|_{1}^{2} = -\\dfrac{1}{2 \\cdot 2^2} + \\dfrac{1}{2 \\cdot 1^2} = -\\dfrac{1}{8} + \\dfrac{1}{2} = \\dfrac{3}{8}\n",
       "\\]\n"
      ],
      "text/plain": [
       "<IPython.core.display.Latex object>"
      ]
     },
     "metadata": {},
     "output_type": "display_data"
    },
    {
     "name": "stderr",
     "output_type": "stream",
     "text": [
      "Processing Questions:  67%|██████▋   | 58/86 [1:09:48<31:00, 66.46s/it]"
     ]
    },
    {
     "data": {
      "text/latex": [
       "\n",
       "Để tính tích phân $I = \\int_{\\frac{\\pi}{3}}^{\\frac{\\pi}{2}} \\frac{1 + \\sin x}{\\cos^2 x} \\, dx$, ta thực hiện các bước sau:\n",
       "\n",
       "**Bước 1: Đơn giản hóa biểu thức dưới dấu tích phân**\n",
       "Ta có:\n",
       "\\[\n",
       "\\frac{1 + \\sin x}{\\cos^2 x} = \\frac{1}{\\cos^2 x} + \\frac{\\sin x}{\\cos^2 x} = \\sec^2 x + \\sec x \\tan x\n",
       "\\]\n",
       "\n",
       "**Bước 2: Tìm nguyên hàm**\n",
       "Nguyên hàm của từng thành phần:\n",
       "- $\\int \\sec^2 x \\, dx = \\tan x + C$\n",
       "- $\\int \\sec x \\tan x \\, dx = \\sec x + C$\n",
       "\n",
       "Do đó, nguyên hàm của biểu thức ban đầu là:\n",
       "\\[\n",
       "\\int \\frac{1 + \\sin x}{\\cos^2 x} \\, dx = \\tan x + \\sec x + C\n",
       "\\]\n",
       "\n",
       "**Bước 3: Tính tích phân xác định**\n",
       "Áp dụng công thức Newton-Leibniz:\n",
       "\\[\n",
       "I = \\left[ \\tan x + \\sec x \\right]_{\\frac{\\pi}{3}}^{\\frac{\\pi}{2}}\n",
       "\\]\n",
       "\n",
       "**Bước 4: Đánh giá giới hạn tại cận trên $\\frac{\\pi}{2}$**\n",
       "Khi $x \\to \\frac{\\pi}{2}^-$:\n",
       "- $\\tan x \\to +\\infty$\n",
       "- $\\sec x \\to +\\infty$\n",
       "\n",
       "Do đó, $\\tan x + \\sec x \\to +\\infty$.\n",
       "\n",
       "**Bước 5: Tính giá trị tại cận dưới $\\frac{\\pi}{3}$**\n",
       "\\[\n",
       "\\tan\\left(\\frac{\\pi}{3}\\right) + \\sec\\left(\\frac{\\pi}{3}\\right) = \\sqrt{3} + 2\n",
       "\\]\n",
       "\n",
       "**Kết luận:**\n",
       "Tích phân này phân kỳ vì giới hạn tại cận trên $\\frac{\\pi}{2}$ tiến đến vô cùng. Do đó:\n",
       "\\[\n",
       "I = \\lim_{b \\to \\frac{\\pi}{2}^-} \\left( \\tan b + \\sec b \\right) - \\left( \\sqrt{3} + 2 \\right) = +\\infty\n",
       "\\]\n"
      ],
      "text/plain": [
       "<IPython.core.display.Latex object>"
      ]
     },
     "metadata": {},
     "output_type": "display_data"
    },
    {
     "name": "stderr",
     "output_type": "stream",
     "text": [
      "Processing Questions:  69%|██████▊   | 59/86 [1:12:20<41:24, 92.02s/it]"
     ]
    },
    {
     "data": {
      "text/latex": [
       "\n",
       "Đặt $x = 2\\sin\\theta \\Rightarrow dx = 2\\cos\\theta d\\theta$. Đổi cận:\n",
       "- Khi $x=1 \\Rightarrow \\theta = \\frac{\\pi}{6}$,\n",
       "- Khi $x=2 \\Rightarrow \\theta = \\frac{\\pi}{2}$.\n",
       "\n",
       "Tích phân trở thành:\n",
       "\\[\n",
       "I = \\int_{\\pi/6}^{\\pi/2} (4\\sin^2\\theta)(2\\cos\\theta)(2\\cos\\theta d\\theta) = 16 \\int_{\\pi/6}^{\\pi/2} \\sin^2\\theta \\cos^2\\theta d\\theta\n",
       "\\]\n",
       "\n",
       "Sử dụng công thức lượng giác:\n",
       "\\[\n",
       "\\sin^2\\theta \\cos^2\\theta = \\frac{1 - \\cos4\\theta}{8}\n",
       "\\]\n",
       "\\[\n",
       "I = 16 \\cdot \\frac{1}{8} \\int_{\\pi/6}^{\\pi/2} (1 - \\cos4\\theta) d\\theta = 2 \\int_{\\pi/6}^{\\pi/2} (1 - \\cos4\\theta) d\\theta\n",
       "\\]\n",
       "\n",
       "Tính tích phân:\n",
       "\\[\n",
       "2 \\left[ \\theta - \\frac{1}{4}\\sin4\\theta \\right]_{\\pi/6}^{\\pi/2}\n",
       "\\]\n",
       "\n",
       "Thay cận:\n",
       "- Tại $\\theta = \\frac{\\pi}{2}$: $\\frac{\\pi}{2} - 0 = \\frac{\\pi}{2}$,\n",
       "- Tại $\\theta = \\frac{\\pi}{6}$: $\\frac{\\pi}{6} - \\frac{\\sqrt{3}}{8}$.\n",
       "\n",
       "Kết quả:\n",
       "\\[\n",
       "2 \\left( \\frac{\\pi}{2} - \\frac{\\pi}{6} + \\frac{\\sqrt{3}}{8} \\right) = 2 \\left( \\frac{\\pi}{3} + \\frac{\\sqrt{3}}{8} \\right) = \\frac{2\\pi}{3} + \\frac{\\sqrt{3}}{4}\n",
       "\\]\n"
      ],
      "text/plain": [
       "<IPython.core.display.Latex object>"
      ]
     },
     "metadata": {},
     "output_type": "display_data"
    },
    {
     "name": "stderr",
     "output_type": "stream",
     "text": [
      "Processing Questions:  70%|██████▉   | 60/86 [1:13:58<40:45, 94.04s/it]"
     ]
    },
    {
     "data": {
      "text/latex": [
       "\n",
       "Để tính tích phân $I = \\int_{1}^{\\frac{2}{\\sqrt{3}}} \\frac{dx}{\\sqrt{x^2 - 1}}$, ta sử dụng phương pháp đổi biến hoặc nhận biết nguyên hàm cơ bản.\n",
       "\n",
       "**Bước 1:** Xác định nguyên hàm của hàm số dưới dấu tích phân.  \n",
       "Biết rằng:  \n",
       "\\[\n",
       "\\int \\frac{dx}{\\sqrt{x^2 - 1}} = \\ln\\left|x + \\sqrt{x^2 - 1}\\right| + C\n",
       "\\]\n",
       "hoặc tương đương với $\\cosh^{-1}(x) + C$.\n",
       "\n",
       "**Bước 2:** Áp dụng công thức nguyên hàm vào tích phân xác định:  \n",
       "\\[\n",
       "I = \\left. \\ln\\left(x + \\sqrt{x^2 - 1}\\right) \\right|_{1}^{\\frac{2}{\\sqrt{3}}}\n",
       "\\]\n",
       "\n",
       "**Bước 3:** Tính giá trị tại các cận:  \n",
       "- Tại cận trên $x = \\frac{2}{\\sqrt{3}}$:  \n",
       "\\[\n",
       "\\ln\\left(\\frac{2}{\\sqrt{3}} + \\sqrt{\\left(\\frac{2}{\\sqrt{3}}\\right)^2 - 1}\\right) = \\ln\\left(\\frac{2}{\\sqrt{3}} + \\frac{1}{\\sqrt{3}}\\right) = \\ln\\left(\\sqrt{3}\\right)\n",
       "\\]\n",
       "- Tại cận dưới $x = 1$:  \n",
       "\\[\n",
       "\\ln\\left(1 + \\sqrt{1^2 - 1}\\right) = \\ln(1) = 0\n",
       "\\]\n",
       "\n",
       "**Bước 4:** Tính hiệu các giá trị:  \n",
       "\\[\n",
       "I = \\ln\\left(\\sqrt{3}\\right) - 0 = \\frac{1}{2} \\ln 3\n",
       "\\]\n",
       "\n",
       "**Kết luận:** Giá trị của tích phân là $\\frac{1}{2} \\ln 3$.\n"
      ],
      "text/plain": [
       "<IPython.core.display.Latex object>"
      ]
     },
     "metadata": {},
     "output_type": "display_data"
    },
    {
     "name": "stderr",
     "output_type": "stream",
     "text": [
      "Processing Questions:  71%|███████   | 61/86 [1:15:26<38:26, 92.26s/it]"
     ]
    },
    {
     "data": {
      "text/latex": [
       "\n",
       "Để tính tích phân $I = \\int_{0}^{1} \\frac{1}{1+x^2} dx$, ta sử dụng nguyên hàm cơ bản:\n",
       "\n",
       "\\[\n",
       "\\int \\frac{1}{1+x^2} dx = \\arctan x + C\n",
       "\\]\n",
       "\n",
       "Áp dụng công thức Newton-Leibniz:\n",
       "\n",
       "\\[\n",
       "I = \\left. \\arctan x \\right|_{0}^{1} = \\arctan 1 - \\arctan 0\n",
       "\\]\n",
       "\n",
       "Biết rằng:\n",
       "\\[\n",
       "\\arctan 1 = \\frac{\\pi}{4} \\quad \\text{và} \\quad \\arctan 0 = 0\n",
       "\\]\n",
       "\n",
       "Vậy:\n",
       "\\[\n",
       "I = \\frac{\\pi}{4} - 0 = \\frac{\\pi}{4}\n",
       "\\]\n"
      ],
      "text/plain": [
       "<IPython.core.display.Latex object>"
      ]
     },
     "metadata": {},
     "output_type": "display_data"
    },
    {
     "name": "stderr",
     "output_type": "stream",
     "text": [
      "Processing Questions:  72%|███████▏  | 62/86 [1:16:33<33:47, 84.49s/it]"
     ]
    },
    {
     "data": {
      "text/latex": [
       "\n",
       "Đặt $x = 3\\sin\\theta \\Rightarrow dx = 3\\cos\\theta d\\theta$. Đổi cận:\n",
       "- Khi $x = 0 \\Rightarrow \\theta = 0$\n",
       "- Khi $x = 3 \\Rightarrow \\theta = \\frac{\\pi}{2}$\n",
       "\n",
       "Tích phân trở thành:\n",
       "\\[\n",
       "I = \\int_{0}^{\\frac{\\pi}{2}} (9\\sin^2\\theta)(3\\cos\\theta)(3\\cos\\theta d\\theta) = 81 \\int_{0}^{\\frac{\\pi}{2}} \\sin^2\\theta \\cos^2\\theta d\\theta\n",
       "\\]\n",
       "\n",
       "Sử dụng công thức lượng giác:\n",
       "\\[\n",
       "\\sin^2\\theta \\cos^2\\theta = \\frac{\\sin^2 2\\theta}{4} = \\frac{1 - \\cos4\\theta}{8}\n",
       "\\]\n",
       "\n",
       "Thay vào tích phân:\n",
       "\\[\n",
       "I = \\frac{81}{8} \\int_{0}^{\\frac{\\pi}{2}} (1 - \\cos4\\theta) d\\theta = \\frac{81}{8} \\left[ \\theta - \\frac{\\sin4\\theta}{4} \\right]_{0}^{\\frac{\\pi}{2}}\n",
       "\\]\n",
       "\n",
       "Tính giá trị tại các cận:\n",
       "- Tại $\\theta = \\frac{\\pi}{2}$: $\\frac{\\pi}{2} - \\frac{\\sin2\\pi}{4} = \\frac{\\pi}{2}$\n",
       "- Tại $\\theta = 0$: $0 - \\frac{\\sin0}{4} = 0$\n",
       "\n",
       "Vậy:\n",
       "\\[\n",
       "I = \\frac{81}{8} \\cdot \\frac{\\pi}{2} = \\frac{81\\pi}{16}\n",
       "\\]\n"
      ],
      "text/plain": [
       "<IPython.core.display.Latex object>"
      ]
     },
     "metadata": {},
     "output_type": "display_data"
    },
    {
     "name": "stderr",
     "output_type": "stream",
     "text": [
      "Processing Questions:  73%|███████▎  | 63/86 [1:17:49<31:23, 81.87s/it]"
     ]
    },
    {
     "data": {
      "text/latex": [
       "\n",
       "Để tính tích phân $I = \\int_{0}^{2} |x-1| dx$, ta xét dấu của biểu thức trong dấu giá trị tuyệt đối:\n",
       "\n",
       "- Khi $x < 1$, $|x - 1| = 1 - x$.\n",
       "- Khi $x \\geq 1$, $|x - 1| = x - 1$.\n",
       "\n",
       "Chia tích phân thành hai phần tại $x = 1$:\n",
       "\\[\n",
       "I = \\int_{0}^{1} (1 - x) dx + \\int_{1}^{2} (x - 1) dx\n",
       "\\]\n",
       "\n",
       "Tính từng tích phân:\n",
       "1. $\\int_{0}^{1} (1 - x) dx = \\left[ x - \\frac{x^2}{2} \\right]_{0}^{1} = \\left(1 - \\frac{1}{2}\\right) - 0 = \\frac{1}{2}$.\n",
       "2. $\\int_{1}^{2} (x - 1) dx = \\left[ \\frac{x^2}{2} - x \\right]_{1}^{2} = \\left(2 - 2\\right) - \\left(\\frac{1}{2} - 1\\right) = \\frac{1}{2}$.\n",
       "\n",
       "Cộng kết quả:\n",
       "\\[\n",
       "I = \\frac{1}{2} + \\frac{1}{2} = 1\n",
       "\\]\n"
      ],
      "text/plain": [
       "<IPython.core.display.Latex object>"
      ]
     },
     "metadata": {},
     "output_type": "display_data"
    },
    {
     "name": "stderr",
     "output_type": "stream",
     "text": [
      "Processing Questions:  74%|███████▍  | 64/86 [1:18:54<28:15, 77.05s/it]"
     ]
    },
    {
     "data": {
      "text/latex": [
       "\n",
       "Để tính tích phân $I = \\int_{\\frac{\\pi}{4}}^{\\frac{3\\pi}{2}} |\\sin 2x| \\, dx$, ta xét dấu của $\\sin 2x$ trên đoạn $x \\in \\left[\\frac{\\pi}{4}, \\frac{3\\pi}{2}\\right]$.\n",
       "\n",
       "Đặt $\\theta = 2x$, khi đó $\\theta$ biến thiên từ $\\frac{\\pi}{2}$ đến $3\\pi$. Xét dấu của $\\sin \\theta$:\n",
       "- $\\sin \\theta \\geq 0$ khi $\\theta \\in \\left[\\frac{\\pi}{2}, \\pi\\right] \\cup \\left[2\\pi, 3\\pi\\right]$.\n",
       "- $\\sin \\theta < 0$ khi $\\theta \\in \\left(\\pi, 2\\pi\\right)$.\n",
       "\n",
       "Tương ứng với các khoảng của $x$:\n",
       "1. $x \\in \\left[\\frac{\\pi}{4}, \\frac{\\pi}{2}\\right]$: $\\theta \\in \\left[\\frac{\\pi}{2}, \\pi\\right] \\Rightarrow |\\sin 2x| = \\sin 2x$.\n",
       "2. $x \\in \\left[\\frac{\\pi}{2}, \\pi\\right]$: $\\theta \\in \\left[\\pi, 2\\pi\\right] \\Rightarrow |\\sin 2x| = -\\sin 2x$.\n",
       "3. $x \\in \\left[\\pi, \\frac{3\\pi}{2}\\right]$: $\\theta \\in \\left[2\\pi, 3\\pi\\right] \\Rightarrow |\\sin 2x| = \\sin 2x$.\n",
       "\n",
       "Tách tích phân thành ba phần:\n",
       "\\[\n",
       "I = \\int_{\\frac{\\pi}{4}}^{\\frac{\\pi}{2}} \\sin 2x \\, dx + \\int_{\\frac{\\pi}{2}}^{\\pi} (-\\sin 2x) \\, dx + \\int_{\\pi}^{\\frac{3\\pi}{2}} \\sin 2x \\, dx\n",
       "\\]\n",
       "\n",
       "Tính từng tích phân:\n",
       "1. $\\int \\sin 2x \\, dx = -\\frac{1}{2} \\cos 2x + C$:\n",
       "\\[\n",
       "\\left. -\\frac{1}{2} \\cos 2x \\right|_{\\frac{\\pi}{4}}^{\\frac{\\pi}{2}} = -\\frac{1}{2} \\cos \\pi + \\frac{1}{2} \\cos \\frac{\\pi}{2} = \\frac{1}{2}\n",
       "\\]\n",
       "\n",
       "2. $\\int (-\\sin 2x) \\, dx = \\frac{1}{2} \\cos 2x + C$:\n",
       "\\[\n",
       "\\left. \\frac{1}{2} \\cos 2x \\right|_{\\frac{\\pi}{2}}^{\\pi} = \\frac{1}{2} \\cos 2\\pi - \\frac{1}{2} \\cos \\pi = 1\n",
       "\\]\n",
       "\n",
       "3. $\\int \\sin 2x \\, dx = -\\frac{1}{2} \\cos 2x + C$:\n",
       "\\[\n",
       "\\left. -\\frac{1}{2} \\cos 2x \\right|_{\\pi}^{\\frac{3\\pi}{2}} = -\\frac{1}{2} \\cos 3\\pi + \\frac{1}{2} \\cos 2\\pi = 1\n",
       "\\]\n",
       "\n",
       "Cộng các kết quả:\n",
       "\\[\n",
       "I = \\frac{1}{2} + 1 + 1 = \\frac{5}{2}\n",
       "\\]\n"
      ],
      "text/plain": [
       "<IPython.core.display.Latex object>"
      ]
     },
     "metadata": {},
     "output_type": "display_data"
    },
    {
     "name": "stderr",
     "output_type": "stream",
     "text": [
      "Processing Questions:  76%|███████▌  | 65/86 [1:20:33<29:16, 83.66s/it]"
     ]
    },
    {
     "data": {
      "text/latex": [
       "\n",
       "Để tính tích phân $I = \\int_{0}^{2} |x^2 - 3x + 2| \\, dx$, ta xét dấu của biểu thức bên trong dấu giá trị tuyệt đối.\n",
       "\n",
       "**Bước 1:** Giải phương trình $x^2 - 3x + 2 = 0$  \n",
       "$\\Leftrightarrow (x-1)(x-2) = 0 \\Leftrightarrow x = 1$ hoặc $x = 2$.  \n",
       "Do hệ số của $x^2$ dương, nên:  \n",
       "- $x^2 - 3x + 2 \\geq 0$ khi $x \\in (-\\infty, 1] \\cup [2, +\\infty)$  \n",
       "- $x^2 - 3x + 2 < 0$ khi $x \\in (1, 2)$  \n",
       "\n",
       "Trên đoạn $[0, 2]$, ta có:  \n",
       "- $|x^2 - 3x + 2| = x^2 - 3x + 2$ khi $x \\in [0, 1]$  \n",
       "- $|x^2 - 3x + 2| = -(x^2 - 3x + 2)$ khi $x \\in [1, 2]$  \n",
       "\n",
       "**Bước 2:** Chia tích phân thành hai phần:  \n",
       "$$\n",
       "I = \\int_{0}^{1} (x^2 - 3x + 2) \\, dx + \\int_{1}^{2} -(x^2 - 3x + 2) \\, dx\n",
       "$$\n",
       "\n",
       "**Bước 3:** Tính từng tích phân:  \n",
       "1. **Tích phân thứ nhất:**  \n",
       "$$\n",
       "\\int_{0}^{1} (x^2 - 3x + 2) \\, dx = \\left[ \\frac{x^3}{3} - \\frac{3x^2}{2} + 2x \\right]_{0}^{1}  \n",
       "= \\left( \\frac{1}{3} - \\frac{3}{2} + 2 \\right) - 0 = \\frac{5}{6}\n",
       "$$\n",
       "\n",
       "2. **Tích phân thứ hai:**  \n",
       "$$\n",
       "\\int_{1}^{2} (-x^2 + 3x - 2) \\, dx = \\left[ -\\frac{x^3}{3} + \\frac{3x^2}{2} - 2x \\right]_{1}^{2}  \n",
       "= \\left( -\\frac{8}{3} + 6 - 4 \\right) - \\left( -\\frac{1}{3} + \\frac{3}{2} - 2 \\right) = \\frac{1}{6}\n",
       "$$\n",
       "\n",
       "**Bước 4:** Cộng hai kết quả:  \n",
       "$$\n",
       "I = \\frac{5}{6} + \\frac{1}{6} = 1\n",
       "$$\n"
      ],
      "text/plain": [
       "<IPython.core.display.Latex object>"
      ]
     },
     "metadata": {},
     "output_type": "display_data"
    },
    {
     "name": "stderr",
     "output_type": "stream",
     "text": [
      "Processing Questions:  77%|███████▋  | 66/86 [1:21:54<27:34, 82.74s/it]"
     ]
    },
    {
     "data": {
      "text/latex": [
       "\n",
       "Để tính tích phân $I = \\int_{-2}^{2} |x + 1| dx$, ta xét dấu của biểu thức trong dấu giá trị tuyệt đối:\n",
       "\n",
       "- $x + 1 \\geq 0 \\Leftrightarrow x \\geq -1$\n",
       "\n",
       "Do đó, chia tích phân thành hai phần tại $x = -1$:\n",
       "\\[\n",
       "I = \\int_{-2}^{-1} |x + 1| dx + \\int_{-1}^{2} |x + 1| dx\n",
       "\\]\n",
       "\n",
       "**Tính từng phần:**\n",
       "\n",
       "1. **Khi $x \\in [-2, -1]$:** $|x + 1| = -(x + 1)$\n",
       "\\[\n",
       "\\int_{-2}^{-1} -(x + 1) dx = \\int_{-2}^{-1} (-x - 1) dx = \\left[ -\\frac{1}{2}x^2 - x \\right]_{-2}^{-1}\n",
       "\\]\n",
       "Thay cận:\n",
       "\\[\n",
       "\\left( -\\frac{1}{2}(-1)^2 - (-1) \\right) - \\left( -\\frac{1}{2}(-2)^2 - (-2) \\right) = \\left( -\\frac{1}{2} + 1 \\right) - \\left( -2 + 2 \\right) = \\frac{1}{2} - 0 = \\frac{1}{2}\n",
       "\\]\n",
       "\n",
       "2. **Khi $x \\in [-1, 2]$:** $|x + 1| = x + 1$\n",
       "\\[\n",
       "\\int_{-1}^{2} (x + 1) dx = \\left[ \\frac{1}{2}x^2 + x \\right]_{-1}^{2}\n",
       "\\]\n",
       "Thay cận:\n",
       "\\[\n",
       "\\left( \\frac{1}{2}(2)^2 + 2 \\right) - \\left( \\frac{1}{2}(-1)^2 + (-1) \\right) = (2 + 2) - \\left( \\frac{1}{2} - 1 \\right) = 4 - \\left( -\\frac{1}{2} \\right) = \\frac{9}{2}\n",
       "\\]\n",
       "\n",
       "**Tổng kết:**\n",
       "\\[\n",
       "I = \\frac{1}{2} + \\frac{9}{2} = 5\n",
       "\\]\n"
      ],
      "text/plain": [
       "<IPython.core.display.Latex object>"
      ]
     },
     "metadata": {},
     "output_type": "display_data"
    },
    {
     "name": "stderr",
     "output_type": "stream",
     "text": [
      "Processing Questions:  78%|███████▊  | 67/86 [1:23:04<25:01, 79.02s/it]"
     ]
    },
    {
     "data": {
      "text/latex": [
       "\n",
       "Để tính tích phân $I = \\int_{0}^{1} \\frac{2x^3 + 7x^2 + 3x - 1}{2x+1} \\, dx$, ta thực hiện các bước sau:\n",
       "\n",
       "**Bước 1: Chia đa thức tử số cho mẫu số**  \n",
       "Chia đa thức $2x^3 + 7x^2 + 3x - 1$ cho $2x + 1$:\n",
       "\\[\n",
       "\\begin{aligned}\n",
       "2x^3 + 7x^2 + 3x - 1 &= (2x + 1)(x^2 + 3x) - 1 \\\\\n",
       "\\Rightarrow \\frac{2x^3 + 7x^2 + 3x - 1}{2x + 1} &= x^2 + 3x - \\frac{1}{2x + 1}.\n",
       "\\end{aligned}\n",
       "\\]\n",
       "\n",
       "**Bước 2: Tách tích phân thành các phần đơn giản**  \n",
       "\\[\n",
       "I = \\int_{0}^{1} \\left( x^2 + 3x - \\frac{1}{2x + 1} \\right) dx = \\int_{0}^{1} x^2 \\, dx + 3\\int_{0}^{1} x \\, dx - \\int_{0}^{1} \\frac{1}{2x + 1} \\, dx.\n",
       "\\]\n",
       "\n",
       "**Bước 3: Tính từng tích phân**  \n",
       "1. $\\int_{0}^{1} x^2 \\, dx = \\left. \\frac{x^3}{3} \\right|_{0}^{1} = \\frac{1}{3} - 0 = \\frac{1}{3}$.\n",
       "\n",
       "2. $3\\int_{0}^{1} x \\, dx = 3 \\left. \\frac{x^2}{2} \\right|_{0}^{1} = 3 \\left( \\frac{1}{2} - 0 \\right) = \\frac{3}{2}$.\n",
       "\n",
       "3. Đặt $u = 2x + 1 \\Rightarrow du = 2dx \\Rightarrow dx = \\frac{du}{2}$:\n",
       "\\[\n",
       "\\int \\frac{1}{2x + 1} \\, dx = \\frac{1}{2} \\int \\frac{1}{u} \\, du = \\frac{1}{2} \\ln|u| + C = \\frac{1}{2} \\ln|2x + 1| + C.\n",
       "\\]\n",
       "Do đó:\n",
       "\\[\n",
       "\\int_{0}^{1} \\frac{1}{2x + 1} \\, dx = \\left. \\frac{1}{2} \\ln|2x + 1| \\right|_{0}^{1} = \\frac{1}{2} \\ln 3 - \\frac{1}{2} \\ln 1 = \\frac{1}{2} \\ln 3.\n",
       "\\]\n",
       "Suy ra:\n",
       "\\[\n",
       "- \\int_{0}^{1} \\frac{1}{2x + 1} \\, dx = -\\frac{1}{2} \\ln 3.\n",
       "\\]\n",
       "\n",
       "**Bước 4: Tổng hợp kết quả**  \n",
       "\\[\n",
       "I = \\frac{1}{3} + \\frac{3}{2} - \\frac{1}{2} \\ln 3 = \\frac{11}{6} - \\frac{1}{2} \\ln 3.\n",
       "\\]\n"
      ],
      "text/plain": [
       "<IPython.core.display.Latex object>"
      ]
     },
     "metadata": {},
     "output_type": "display_data"
    },
    {
     "name": "stderr",
     "output_type": "stream",
     "text": [
      "Processing Questions:  79%|███████▉  | 68/86 [1:24:18<23:14, 77.47s/it]"
     ]
    },
    {
     "data": {
      "text/latex": [
       "\n",
       "Để tính tích phân $I = \\int_{1}^{2} \\frac{dx}{x(x+1)^2}$, ta phân tích hàm số dưới dạng phân thức đơn giản:\n",
       "\n",
       "\\[\n",
       "\\frac{1}{x(x+1)^2} = \\frac{A}{x} + \\frac{B}{x+1} + \\frac{C}{(x+1)^2}\n",
       "\\]\n",
       "\n",
       "Nhân hai vế với $x(x+1)^2$ và giải hệ phương trình, ta được $A = 1$, $B = -1$, $C = -1$. Do đó:\n",
       "\n",
       "\\[\n",
       "\\frac{1}{x(x+1)^2} = \\frac{1}{x} - \\frac{1}{x+1} - \\frac{1}{(x+1)^2}\n",
       "\\]\n",
       "\n",
       "Tích phân từng phần:\n",
       "\n",
       "\\[\n",
       "I = \\int_{1}^{2} \\left( \\frac{1}{x} - \\frac{1}{x+1} - \\frac{1}{(x+1)^2} \\right) dx\n",
       "\\]\n",
       "\n",
       "Tính từng tích phân:\n",
       "\n",
       "\\[\n",
       "\\int \\frac{1}{x} dx = \\ln|x|, \\quad \\int \\frac{1}{x+1} dx = \\ln|x+1|, \\quad \\int \\frac{1}{(x+1)^2} dx = -\\frac{1}{x+1}\n",
       "\\]\n",
       "\n",
       "Thay cận từ 1 đến 2:\n",
       "\n",
       "\\[\n",
       "I = \\left[ \\ln|x| - \\ln|x+1| + \\frac{1}{x+1} \\right]_{1}^{2}\n",
       "\\]\n",
       "\n",
       "Tính giá trị tại cận:\n",
       "\n",
       "- Tại $x=2$: $\\ln2 - \\ln3 + \\frac{1}{3}$\n",
       "- Tại $x=1$: $0 - \\ln2 + \\frac{1}{2}$\n",
       "\n",
       "Kết quả:\n",
       "\n",
       "\\[\n",
       "I = \\left( \\ln2 - \\ln3 + \\frac{1}{3} \\right) - \\left( -\\ln2 + \\frac{1}{2} \\right) = 2\\ln2 - \\ln3 - \\frac{1}{6}\n",
       "\\]\n",
       "\n",
       "Hoặc viết gọn: $I = \\ln\\left(\\frac{4}{3}\\right) - \\frac{1}{6}$.\n"
      ],
      "text/plain": [
       "<IPython.core.display.Latex object>"
      ]
     },
     "metadata": {},
     "output_type": "display_data"
    },
    {
     "name": "stderr",
     "output_type": "stream",
     "text": [
      "Processing Questions:  80%|████████  | 69/86 [1:25:35<21:54, 77.33s/it]"
     ]
    },
    {
     "data": {
      "text/latex": [
       "\n",
       "Đặt $D = 4x^2 - 4x + 2$, ta có $D' = 8x - 4$. Phân tích tử số:\n",
       "\\[\n",
       "3x - 1 = \\frac{3}{8}(8x - 4) + \\frac{1}{2}\n",
       "\\]\n",
       "Khi đó, tích phân trở thành:\n",
       "\\[\n",
       "I = \\frac{3}{8} \\int_{0}^{1} \\frac{D'}{D} dx + \\frac{1}{2} \\int_{0}^{1} \\frac{1}{4x^2 - 4x + 2} dx\n",
       "\\]\n",
       "\n",
       "**Tính tích phân thứ nhất:**\n",
       "\\[\n",
       "\\frac{3}{8} \\left[ \\ln|D| \\right]_0^1 = \\frac{3}{8} \\left( \\ln 2 - \\ln 2 \\right) = 0\n",
       "\\]\n",
       "\n",
       "**Tính tích phân thứ hai:**  \n",
       "Hoàn thành bình phương cho mẫu số:\n",
       "\\[\n",
       "4x^2 - 4x + 2 = 4\\left(x - \\frac{1}{2}\\right)^2 + 1\n",
       "\\]\n",
       "Đặt $u = x - \\frac{1}{2}$, $du = dx$, đổi cận:\n",
       "\\[\n",
       "\\frac{1}{2} \\int_{-1/2}^{1/2} \\frac{1}{4u^2 + 1} du = \\frac{1}{8} \\int_{-1/2}^{1/2} \\frac{1}{u^2 + \\left(\\frac{1}{2}\\right)^2} du\n",
       "\\]\n",
       "Sử dụng công thức $\\int \\frac{1}{u^2 + a^2} du = \\frac{1}{a} \\arctan\\left(\\frac{u}{a}\\right)$:\n",
       "\\[\n",
       "\\frac{1}{8} \\cdot 2 \\left[ \\arctan(2u) \\right]_{-1/2}^{1/2} = \\frac{1}{4} \\left( \\frac{\\pi}{4} - \\left(-\\frac{\\pi}{4}\\right) \\right) = \\frac{\\pi}{8}\n",
       "\\]\n",
       "\n",
       "**Kết hợp kết quả:**\n",
       "\\[\n",
       "I = 0 + \\frac{\\pi}{8} = \\frac{\\pi}{8}\n",
       "\\]\n"
      ],
      "text/plain": [
       "<IPython.core.display.Latex object>"
      ]
     },
     "metadata": {},
     "output_type": "display_data"
    },
    {
     "name": "stderr",
     "output_type": "stream",
     "text": [
      "Processing Questions:  81%|████████▏ | 70/86 [1:26:59<21:09, 79.36s/it]"
     ]
    },
    {
     "data": {
      "text/latex": [
       "\n",
       "Ta có tích phân $I = \\int_{0}^{1} \\frac{x^3 - 3x + 2x -1}{x - 2} \\, dx$.  \n",
       "**Bước 1:** Rút gọn tử số:  \n",
       "$x^3 - 3x + 2x -1 = x^3 - x -1$.  \n",
       "**Bước 2:** Thực hiện phép chia đa thức $\\frac{x^3 - x -1}{x - 2}$:  \n",
       "- Chia $x^3$ cho $x$ được $x^2$, nhân ngược lại và trừ:  \n",
       "  $(x^3 - x -1) - (x^3 - 2x^2) = 2x^2 - x -1$.  \n",
       "- Chia $2x^2$ cho $x$ được $2x$, nhân ngược lại và trừ:  \n",
       "  $(2x^2 - x -1) - (2x^2 -4x) = 3x -1$.  \n",
       "- Chia $3x$ cho $x$ được $3$, nhân ngược lại và trừ:  \n",
       "  $(3x -1) - (3x -6) = 5$.  \n",
       "Kết quả: $\\frac{x^3 - x -1}{x - 2} = x^2 + 2x + 3 + \\frac{5}{x - 2}$.  \n",
       "\n",
       "**Bước 3:** Tách tích phân:  \n",
       "$$\n",
       "I = \\int_{0}^{1} \\left( x^2 + 2x + 3 + \\frac{5}{x - 2} \\right) dx\n",
       "$$\n",
       "\n",
       "**Bước 4:** Tính từng tích phân thành phần:  \n",
       "- $\\int x^2 \\, dx = \\frac{1}{3}x^3$  \n",
       "- $\\int 2x \\, dx = x^2$  \n",
       "- $\\int 3 \\, dx = 3x$  \n",
       "- $\\int \\frac{5}{x - 2} \\, dx = 5\\ln|x - 2|$  \n",
       "\n",
       "**Bước 5:** Thay cận từ $0$ đến $1$:  \n",
       "$$\n",
       "I = \\left[ \\frac{1}{3}x^3 + x^2 + 3x + 5\\ln|x - 2| \\right]_{0}^{1}\n",
       "$$\n",
       "\n",
       "Tại $x = 1$:  \n",
       "$$\n",
       "\\frac{1}{3}(1)^3 + (1)^2 + 3(1) + 5\\ln|1 - 2| = \\frac{1}{3} + 1 + 3 + 5\\ln(1) = \\frac{13}{3}\n",
       "$$\n",
       "\n",
       "Tại $x = 0$:  \n",
       "$$\n",
       "\\frac{1}{3}(0)^3 + (0)^2 + 3(0) + 5\\ln|0 - 2| = 5\\ln(2)\n",
       "$$\n",
       "\n",
       "**Kết quả:**  \n",
       "$$\n",
       "I = \\frac{13}{3} - 5\\ln(2)\n",
       "$$\n"
      ],
      "text/plain": [
       "<IPython.core.display.Latex object>"
      ]
     },
     "metadata": {},
     "output_type": "display_data"
    },
    {
     "name": "stderr",
     "output_type": "stream",
     "text": [
      "Processing Questions:  83%|████████▎ | 71/86 [1:28:16<19:38, 78.60s/it]"
     ]
    },
    {
     "data": {
      "text/latex": [
       "\n",
       "Để tính diện tích hình phẳng giới hạn bởi các đường đã cho, ta thực hiện các bước sau:\n",
       "\n",
       "**Bước 1: Xác định giao điểm giữa Parabol $(P)$ và đường thẳng**  \n",
       "Giải phương trình hoành độ giao điểm:\n",
       "\\[\n",
       "3 - x^2 = -2x + 3 \\Leftrightarrow x^2 - 2x = 0 \\Leftrightarrow x(x - 2) = 0 \\Leftrightarrow \\left[\\begin{aligned} x &= 0 \\\\ x &= 2 \\end{aligned}\\right.\n",
       "\\]\n",
       "Trong khoảng $[0, 1]$, hai đường chỉ giao nhau tại $x = 0$.\n",
       "\n",
       "**Bước 2: Xác định vị trí tương đối của Parabol và đường thẳng trên $[0, 1]$**  \n",
       "Chọn điểm $x = 0.5$ trong khoảng $(0, 1)$:\n",
       "- Parabol: $y = 3 - (0.5)^2 = 2.75$\n",
       "- Đường thẳng: $y = -2(0.5) + 3 = 2$\n",
       "\n",
       "Vậy Parabol nằm trên đường thẳng trong khoảng $[0, 1]$.\n",
       "\n",
       "**Bước 3: Thiết lập tích phân tính diện tích**  \n",
       "Diện tích $S$ được tính bằng tích phân của hiệu hai hàm số từ $x = 0$ đến $x = 1$:\n",
       "\\[\n",
       "S = \\int_{0}^{1} \\left[ (3 - x^2) - (-2x + 3) \\right] \\, dx = \\int_{0}^{1} (-x^2 + 2x) \\, dx\n",
       "\\]\n",
       "\n",
       "**Bước 4: Tính tích phân**  \n",
       "Tìm nguyên hàm:\n",
       "\\[\n",
       "\\int (-x^2 + 2x) \\, dx = -\\frac{x^3}{3} + x^2 + C\n",
       "\\]\n",
       "Thay cận:\n",
       "\\[\n",
       "S = \\left[ -\\frac{1^3}{3} + 1^2 \\right] - \\left[ -\\frac{0^3}{3} + 0^2 \\right] = \\left( -\\frac{1}{3} + 1 \\right) - 0 = \\frac{2}{3}\n",
       "\\]\n"
      ],
      "text/plain": [
       "<IPython.core.display.Latex object>"
      ]
     },
     "metadata": {},
     "output_type": "display_data"
    },
    {
     "name": "stderr",
     "output_type": "stream",
     "text": [
      "Processing Questions:  84%|████████▎ | 72/86 [1:29:33<18:14, 78.16s/it]"
     ]
    },
    {
     "data": {
      "text/latex": [
       "\n",
       "Để tính diện tích hình phẳng giới hạn bởi hai đường $y = -2x^2$ và $y = -2x - 4$, ta thực hiện các bước sau:\n",
       "\n",
       "**Bước 1: Tìm hoành độ giao điểm**  \n",
       "Giải phương trình:\n",
       "$$\n",
       "-2x^2 = -2x - 4 \\Leftrightarrow 2x^2 - 2x - 4 = 0 \\Leftrightarrow x^2 - x - 2 = 0\n",
       "$$\n",
       "Tính $\\Delta = (-1)^2 - 4 \\cdot 1 \\cdot (-2) = 9$, suy ra nghiệm:\n",
       "$$\n",
       "x = \\frac{1 \\pm 3}{2} \\Rightarrow x = 2 \\text{ hoặc } x = -1\n",
       "$$\n",
       "\n",
       "**Bước 2: Xác định hàm trên/dưới**  \n",
       "Trong khoảng $[-1, 2]$, xét tại $x = 0$:\n",
       "$$\n",
       "y_1 = -2(0)^2 = 0 \\quad \\text{và} \\quad y_2 = -2(0) - 4 = -4\n",
       "$$\n",
       "Vậy $y = -2x^2$ nằm trên $y = -2x - 4$.\n",
       "\n",
       "**Bước 3: Tính tích phân**  \n",
       "Diện tích $S$ là:\n",
       "$$\n",
       "S = \\int_{-1}^{2} \\left[ (-2x^2) - (-2x - 4) \\right] dx = \\int_{-1}^{2} (-2x^2 + 2x + 4) \\, dx\n",
       "$$\n",
       "Tính nguyên hàm:\n",
       "$$\n",
       "\\int (-2x^2 + 2x + 4) \\, dx = \\left( -\\frac{2}{3}x^3 + x^2 + 4x \\right) + C\n",
       "$$\n",
       "Thay cận:\n",
       "$$\n",
       "\\left[ -\\frac{2}{3}(2)^3 + (2)^2 + 4(2) \\right] - \\left[ -\\frac{2}{3}(-1)^3 + (-1)^2 + 4(-1) \\right] = \\frac{20}{3} - \\left( -\\frac{7}{3} \\right) = 9\n",
       "$$\n"
      ],
      "text/plain": [
       "<IPython.core.display.Latex object>"
      ]
     },
     "metadata": {},
     "output_type": "display_data"
    },
    {
     "name": "stderr",
     "output_type": "stream",
     "text": [
      "Processing Questions:  85%|████████▍ | 73/86 [1:30:47<16:39, 76.87s/it]"
     ]
    },
    {
     "data": {
      "text/latex": [
       "\n",
       "Để tính diện tích hình phẳng giới hạn bởi các đường $y = x^3 - 3x$ và $y = x$, ta thực hiện các bước sau:\n",
       "\n",
       "**Bước 1: Tìm hoành độ giao điểm**  \n",
       "Giải phương trình:\n",
       "\\[\n",
       "x^3 - 3x = x \\iff x^3 - 4x = 0 \\iff x(x^2 - 4) = 0 \\iff \\left[\\begin{aligned} x &= 0 \\\\ x &= \\pm 2 \\end{aligned}\\right.\n",
       "\\]\n",
       "Vậy các giao điểm tại $x = -2$, $x = 0$, và $x = 2$.\n",
       "\n",
       "**Bước 2: Xác định vị trí tương đối của hai đường**  \n",
       "- Trên khoảng $[-2, 0]$: Chọn $x = -1$, ta có $x^3 - 3x = 2 > -1 = x$ nên $x^3 - 3x \\geq x$.  \n",
       "- Trên khoảng $[0, 2]$: Chọn $x = 1$, ta có $x^3 - 3x = -2 < 1 = x$ nên $x \\geq x^3 - 3x$.\n",
       "\n",
       "**Bước 3: Tính diện tích**  \n",
       "Diện tích $S$ được tính bằng tổng các tích phân của hiệu hai hàm trên từng khoảng:\n",
       "\\[\n",
       "S = \\int_{-2}^0 \\left[(x^3 - 3x) - x\\right] \\, dx + \\int_{0}^2 \\left[x - (x^3 - 3x)\\right] \\, dx\n",
       "\\]\n",
       "Đơn giản hóa biểu thức:\n",
       "\\[\n",
       "S = \\int_{-2}^0 (x^3 - 4x) \\, dx + \\int_{0}^2 (-x^3 + 4x) \\, dx\n",
       "\\]\n",
       "\n",
       "**Tính từng tích phân:**  \n",
       "1. Tích phân thứ nhất:\n",
       "\\[\n",
       "\\int_{-2}^0 (x^3 - 4x) \\, dx = \\left[\\frac{x^4}{4} - 2x^2\\right]_{-2}^0 = \\left(0 - 0\\right) - \\left(\\frac{16}{4} - 2 \\cdot 4\\right) = 0 - (4 - 8) = 4\n",
       "\\]\n",
       "\n",
       "2. Tích phân thứ hai:\n",
       "\\[\n",
       "\\int_{0}^2 (-x^3 + 4x) \\, dx = \\left[-\\frac{x^4}{4} + 2x^2\\right]_{0}^2 = \\left(-\\frac{16}{4} + 8\\right) - 0 = (-4 + 8) = 4\n",
       "\\]\n",
       "\n",
       "**Tổng diện tích:**  \n",
       "\\[\n",
       "S = 4 + 4 = 8\n",
       "\\]\n"
      ],
      "text/plain": [
       "<IPython.core.display.Latex object>"
      ]
     },
     "metadata": {},
     "output_type": "display_data"
    },
    {
     "name": "stderr",
     "output_type": "stream",
     "text": [
      "Processing Questions:  86%|████████▌ | 74/86 [1:32:01<15:13, 76.12s/it]"
     ]
    },
    {
     "data": {
      "text/latex": [
       "\n",
       "**Bước 1: Tìm hoành độ giao điểm**  \n",
       "Giải phương trình:  \n",
       "$2x - x^2 = 2 - x$  \n",
       "$\\Leftrightarrow -x^2 + 3x - 2 = 0$  \n",
       "$\\Leftrightarrow x^2 - 3x + 2 = 0$  \n",
       "$\\Leftrightarrow (x - 1)(x - 2) = 0$  \n",
       "$\\Rightarrow x = 1$ hoặc $x = 2$.\n",
       "\n",
       "**Bước 2: Xác định hàm số trên/dưới**  \n",
       "Trên khoảng $(1; 2)$, xét $x = 1.5$:  \n",
       "$y_1 = 2(1.5) - (1.5)^2 = 0.75$  \n",
       "$y_2 = 2 - 1.5 = 0.5$  \n",
       "$\\Rightarrow y = 2x - x^2$ nằm trên $y = 2 - x$.\n",
       "\n",
       "**Bước 3: Tính diện tích**  \n",
       "Diện tích hình phẳng:  \n",
       "$$\n",
       "\\begin{aligned}\n",
       "S &= \\int_{1}^{2} \\left[(2x - x^2) - (2 - x)\\right] dx \\\\\n",
       "&= \\int_{1}^{2} (-x^2 + 3x - 2) dx \\\\\n",
       "&= \\left[ -\\dfrac{x^3}{3} + \\dfrac{3x^2}{2} - 2x \\right]_{1}^{2} \\\\\n",
       "&= \\left( -\\dfrac{8}{3} + 6 - 4 \\right) - \\left( -\\dfrac{1}{3} + \\dfrac{3}{2} - 2 \\right) \\\\\n",
       "&= \\left( -\\dfrac{8}{3} + 2 \\right) - \\left( -\\dfrac{1}{3} - \\dfrac{1}{2} \\right) \\\\\n",
       "&= \\dfrac{1}{6}\n",
       "\\end{aligned}\n",
       "$$\n"
      ],
      "text/plain": [
       "<IPython.core.display.Latex object>"
      ]
     },
     "metadata": {},
     "output_type": "display_data"
    },
    {
     "name": "stderr",
     "output_type": "stream",
     "text": [
      "Processing Questions:  87%|████████▋ | 75/86 [1:33:14<13:46, 75.12s/it]"
     ]
    },
    {
     "data": {
      "text/latex": [
       "\n",
       "Để tính diện tích hình phẳng giới hạn bởi hai đường cong $y = x^3 - x$ và $y = x - x^2$, ta thực hiện các bước sau:\n",
       "\n",
       "**Bước 1: Tìm hoành độ giao điểm**  \n",
       "Giải phương trình:\n",
       "\\[\n",
       "x^3 - x = x - x^2 \\Leftrightarrow x^3 + x^2 - 2x = 0 \\Leftrightarrow x(x^2 + x - 2) = 0\n",
       "\\]\n",
       "\\[\n",
       "\\Leftrightarrow x(x + 2)(x - 1) = 0 \\Rightarrow x = -2,\\ 0,\\ 1\n",
       "\\]\n",
       "\n",
       "**Bước 2: Xác định vị trí tương đối của hai đường cong**  \n",
       "- Trên khoảng $(-2, 0)$: $x^3 - x > x - x^2$  \n",
       "- Trên khoảng $(0, 1)$: $x - x^2 > x^3 - x$\n",
       "\n",
       "**Bước 3: Tính diện tích**  \n",
       "Diện tích $S$ được tính bằng tổng hai tích phân:\n",
       "\\[\n",
       "S = \\int_{-2}^0 \\left[(x^3 - x) - (x - x^2)\\right] \\, dx + \\int_{0}^1 \\left[(x - x^2) - (x^3 - x)\\right] \\, dx\n",
       "\\]\n",
       "Rút gọn biểu thức tích phân:\n",
       "\\[\n",
       "S = \\int_{-2}^0 (x^3 + x^2 - 2x) \\, dx + \\int_{0}^1 (-x^3 - x^2 + 2x) \\, dx\n",
       "\\]\n",
       "\n",
       "**Tính tích phân thứ nhất:**\n",
       "\\[\n",
       "\\int_{-2}^0 (x^3 + x^2 - 2x) \\, dx = \\left[\\frac{x^4}{4} + \\frac{x^3}{3} - x^2\\right]_{-2}^0\n",
       "\\]\n",
       "\\[\n",
       "= \\left(0\\right) - \\left(\\frac{16}{4} - \\frac{8}{3} - 4\\right) = 0 - \\left(-\\frac{8}{3}\\right) = \\frac{8}{3}\n",
       "\\]\n",
       "\n",
       "**Tính tích phân thứ hai:**\n",
       "\\[\n",
       "\\int_{0}^1 (-x^3 - x^2 + 2x) \\, dx = \\left[-\\frac{x^4}{4} - \\frac{x^3}{3} + x^2\\right]_{0}^1\n",
       "\\]\n",
       "\\[\n",
       "= \\left(-\\frac{1}{4} - \\frac{1}{3} + 1\\right) - 0 = \\frac{5}{12}\n",
       "\\]\n",
       "\n",
       "**Tổng diện tích:**\n",
       "\\[\n",
       "S = \\frac{8}{3} + \\frac{5}{12} = \\frac{37}{12}\n",
       "\\]\n"
      ],
      "text/plain": [
       "<IPython.core.display.Latex object>"
      ]
     },
     "metadata": {},
     "output_type": "display_data"
    },
    {
     "name": "stderr",
     "output_type": "stream",
     "text": [
      "Processing Questions:  88%|████████▊ | 76/86 [1:34:44<13:15, 79.60s/it]"
     ]
    },
    {
     "data": {
      "text/latex": [
       "\n",
       "Để tính diện tích hình phẳng giới hạn bởi $y = \\cos x$, $Ox$, $Oy$, và $x = \\pi$, ta xét tích phân của $|\\cos x|$ trên đoạn $[0, \\pi]$.\n",
       "\n",
       "**Bước 1:** Xác định điểm giao giữa $y = \\cos x$ và $Ox$ (y=0) trong $[0, \\pi]$:\n",
       "\\[\n",
       "\\cos x = 0 \\Leftrightarrow x = \\frac{\\pi}{2}\n",
       "\\]\n",
       "\n",
       "**Bước 2:** Tách tích phân thành hai khoảng:\n",
       "\\[\n",
       "S = \\int_{0}^{\\frac{\\pi}{2}} \\cos x \\, dx + \\int_{\\frac{\\pi}{2}}^{\\pi} (-\\cos x) \\, dx\n",
       "\\]\n",
       "\n",
       "**Bước 3:** Tính từng tích phân:\n",
       "\\[\n",
       "\\int_{0}^{\\frac{\\pi}{2}} \\cos x \\, dx = \\sin x \\Big|_{0}^{\\frac{\\pi}{2}} = 1 - 0 = 1\n",
       "\\]\n",
       "\\[\n",
       "\\int_{\\frac{\\pi}{2}}^{\\pi} (-\\cos x) \\, dx = -\\sin x \\Big|_{\\frac{\\pi}{2}}^{\\pi} = -(0 - 1) = 1\n",
       "\\]\n",
       "\n",
       "**Bước 4:** Cộng kết quả:\n",
       "\\[\n",
       "S = 1 + 1 = 2\n"
      ],
      "text/plain": [
       "<IPython.core.display.Latex object>"
      ]
     },
     "metadata": {},
     "output_type": "display_data"
    },
    {
     "name": "stderr",
     "output_type": "stream",
     "text": [
      "Processing Questions:  90%|████████▉ | 77/86 [1:36:05<11:58, 79.79s/it]"
     ]
    },
    {
     "data": {
      "text/latex": [
       "\n",
       "Để tính diện tích hình phẳng giới hạn bởi các đường $y = e^x$, $y = 1$ và $x = 1$, ta thực hiện các bước sau:\n",
       "\n",
       "1. **Xác định giao điểm của các đường:**\n",
       "   - Giao điểm giữa $y = e^x$ và $y = 1$:\n",
       "     \\[\n",
       "     e^x = 1 \\implies x = 0\n",
       "     \\]\n",
       "   - Đường $x = 1$ cắt $y = e^x$ tại $(1, e)$ và cắt $y = 1$ tại $(1, 1)$.\n",
       "\n",
       "2. **Thiết lập tích phân:**\n",
       "   - Hình phẳng được giới hạn từ $x = 0$ đến $x = 1$, với $e^x$ nằm trên $y = 1$.\n",
       "   - Diện tích được tính bằng tích phân:\n",
       "     \\[\n",
       "     S = \\int_{0}^{1} \\left( e^x - 1 \\right) dx\n",
       "     \\]\n",
       "\n",
       "3. **Tính tích phân:**\n",
       "   \\[\n",
       "   \\int \\left( e^x - 1 \\right) dx = e^x - x + C\n",
       "   \\]\n",
       "   - Thay cận:\n",
       "     \\[\n",
       "     S = \\left[ e^x - x \\right]_{0}^{1} = \\left( e^1 - 1 \\right) - \\left( e^0 - 0 \\right) = (e - 1) - 1 = e - 2\n",
       "     \\]\n"
      ],
      "text/plain": [
       "<IPython.core.display.Latex object>"
      ]
     },
     "metadata": {},
     "output_type": "display_data"
    },
    {
     "name": "stderr",
     "output_type": "stream",
     "text": [
      "Processing Questions:  91%|█████████ | 78/86 [1:37:12<10:09, 76.24s/it]"
     ]
    },
    {
     "data": {
      "text/latex": [
       "\n",
       "Để tính diện tích hình phẳng giới hạn bởi các đường $y = (e+1)x$ và $y = (1 + e^x)x$, ta thực hiện các bước sau:\n",
       "\n",
       "**Bước 1: Tìm giao điểm của hai đường**\n",
       "Giải phương trình:\n",
       "$$\n",
       "(e + 1)x = (1 + e^x)x\n",
       "$$\n",
       "- Khi $x \\neq 0$, chia cả hai vế cho $x$:\n",
       "  $$\n",
       "  e + 1 = 1 + e^x \\implies e = e^x \\implies x = 1\n",
       "$$\n",
       "- Khi $x = 0$, hai vế đều bằng 0.\n",
       "\n",
       "Vậy hai đường cắt nhau tại $x = 0$ và $x = 1$.\n",
       "\n",
       "**Bước 2: Xác định hàm số trên và dưới trong khoảng $[0, 1]$**\n",
       "Xét $x \\in (0, 1)$:\n",
       "- Chọn $x = 0.5$: \n",
       "  - $y_1 = (e + 1) \\cdot 0.5 \\approx 1.859$\n",
       "  - $y_2 = (1 + e^{0.5}) \\cdot 0.5 \\approx 1.324$\n",
       "  \n",
       "Suy ra $y = (e + 1)x$ nằm trên $y = (1 + e^x)x$ trong khoảng $[0, 1]$.\n",
       "\n",
       "**Bước 3: Thiết lập tích phân tính diện tích**\n",
       "Diện tích cần tìm:\n",
       "$$\n",
       "S = \\int_{0}^{1} \\left[ (e + 1)x - (1 + e^x)x \\right] dx = \\int_{0}^{1} x(e - e^x) dx\n",
       "$$\n",
       "\n",
       "**Bước 4: Tính tích phân**\n",
       "Tách tích phân thành hai phần:\n",
       "$$\n",
       "S = e \\int_{0}^{1} x \\, dx - \\int_{0}^{1} x e^x \\, dx\n",
       "$$\n",
       "\n",
       "- **Tích phân thứ nhất**:\n",
       "$$\n",
       "e \\int_{0}^{1} x \\, dx = e \\left[ \\frac{x^2}{2} \\right]_0^1 = \\frac{e}{2}\n",
       "$$\n",
       "\n",
       "- **Tích phân thứ hai** (dùng tích phân từng phần):\n",
       "  Đặt $\\begin{cases} u = x \\implies du = dx \\\\ dv = e^x dx \\implies v = e^x \\end{cases}$  \n",
       "  Áp dụng công thức:\n",
       "$$\n",
       "\\int x e^x dx = x e^x - \\int e^x dx = x e^x - e^x + C\n",
       "$$\n",
       "  Thay cận từ 0 đến 1:\n",
       "$$\n",
       "\\left[ x e^x - e^x \\right]_0^1 = (1 \\cdot e - e) - (0 \\cdot 1 - 1) = 0 - (-1) = 1\n",
       "$$\n",
       "\n",
       "**Bước 5: Tổng hợp kết quả**\n",
       "$$\n",
       "S = \\frac{e}{2} - 1\n",
       "$$\n"
      ],
      "text/plain": [
       "<IPython.core.display.Latex object>"
      ]
     },
     "metadata": {},
     "output_type": "display_data"
    },
    {
     "name": "stderr",
     "output_type": "stream",
     "text": [
      "Processing Questions:  92%|█████████▏| 79/86 [1:38:37<09:09, 78.57s/it]"
     ]
    },
    {
     "data": {
      "text/latex": [
       "\n",
       "Để tính diện tích hình phẳng giới hạn bởi các đường $y = \\sin 2x$, $y = \\cos x$, $x = 0$, và $x = \\dfrac{\\pi}{2}$, ta thực hiện các bước sau:\n",
       "\n",
       "**Bước 1: Tìm giao điểm của hai đường cong**  \n",
       "Giải phương trình $\\sin 2x = \\cos x$ trong khoảng $[0, \\dfrac{\\pi}{2}]$:\n",
       "\\[\n",
       "\\sin 2x = \\cos x \\Leftrightarrow 2\\sin x \\cos x = \\cos x \\Leftrightarrow \\cos x (2\\sin x - 1) = 0\n",
       "\\]\n",
       "\\[\n",
       "\\Leftrightarrow \\cos x = 0 \\text{ hoặc } \\sin x = \\dfrac{1}{2}\n",
       "\\]\n",
       "Trong $[0, \\dfrac{\\pi}{2}]$, nghiệm là $x = \\dfrac{\\pi}{6}$ (vì $\\cos x = 0$ cho $x = \\dfrac{\\pi}{2}$ nhưng đã là biên).\n",
       "\n",
       "**Bước 2: Xác định vị trí tương đối của hai đường cong**  \n",
       "- Trên $[0, \\dfrac{\\pi}{6}]$: $\\cos x \\geq \\sin 2x$ (thử $x = 0$, $\\cos 0 = 1 > \\sin 0 = 0$).  \n",
       "- Trên $[\\dfrac{\\pi}{6}, \\dfrac{\\pi}{2}]$: $\\sin 2x \\geq \\cos x$ (thử $x = \\dfrac{\\pi}{4}$, $\\sin \\dfrac{\\pi}{2} = 1 > \\cos \\dfrac{\\pi}{4} = \\dfrac{\\sqrt{2}}{2}$).\n",
       "\n",
       "**Bước 3: Tính diện tích**  \n",
       "Diện tích cần tìm là tổng hai tích phân:\n",
       "\\[\n",
       "S = \\int_{0}^{\\dfrac{\\pi}{6}} (\\cos x - \\sin 2x) \\, dx + \\int_{\\dfrac{\\pi}{6}}^{\\dfrac{\\pi}{2}} (\\sin 2x - \\cos x) \\, dx\n",
       "\\]\n",
       "\n",
       "**Tính tích phân thứ nhất**:\n",
       "\\[\n",
       "\\int (\\cos x - \\sin 2x) \\, dx = \\sin x + \\dfrac{1}{2} \\cos 2x + C\n",
       "\\]\n",
       "Thay cận từ $0$ đến $\\dfrac{\\pi}{6}$:\n",
       "\\[\n",
       "\\left[ \\sin \\dfrac{\\pi}{6} + \\dfrac{1}{2} \\cos \\dfrac{\\pi}{3} \\right] - \\left[ \\sin 0 + \\dfrac{1}{2} \\cos 0 \\right] = \\left( \\dfrac{1}{2} + \\dfrac{1}{4} \\right) - \\dfrac{1}{2} = \\dfrac{1}{4}\n",
       "\\]\n",
       "\n",
       "**Tính tích phân thứ hai**:\n",
       "\\[\n",
       "\\int (\\sin 2x - \\cos x) \\, dx = -\\dfrac{1}{2} \\cos 2x - \\sin x + C\n",
       "\\]\n",
       "Thay cận từ $\\dfrac{\\pi}{6}$ đến $\\dfrac{\\pi}{2}$:\n",
       "\\[\n",
       "\\left[ -\\dfrac{1}{2} \\cos \\pi - \\sin \\dfrac{\\pi}{2} \\right] - \\left[ -\\dfrac{1}{2} \\cos \\dfrac{\\pi}{3} - \\sin \\dfrac{\\pi}{6} \\right] = \\left( \\dfrac{1}{2} - 1 \\right) - \\left( -\\dfrac{1}{4} - \\dfrac{1}{2} \\right) = \\dfrac{1}{4}\n",
       "\\]\n",
       "\n",
       "**Tổng diện tích**:\n",
       "\\[\n",
       "S = \\dfrac{1}{4} + \\dfrac{1}{4} = \\dfrac{1}{2}\n",
       "\\]\n"
      ],
      "text/plain": [
       "<IPython.core.display.Latex object>"
      ]
     },
     "metadata": {},
     "output_type": "display_data"
    },
    {
     "name": "stderr",
     "output_type": "stream",
     "text": [
      "Processing Questions:  93%|█████████▎| 80/86 [1:40:25<08:45, 87.60s/it]"
     ]
    },
    {
     "data": {
      "text/latex": [
       "\n",
       "Để tính thể tích khối tròn xoay sinh ra khi quay hình phẳng giới hạn bởi $y = x^3$, trục $Ox$, $x = -1$, và $x = 1$ quanh trục $Ox$, ta sử dụng công thức tích phân:\n",
       "\n",
       "\\[\n",
       "V = \\pi \\int_{-1}^{1} (x^3)^2 \\, dx\n",
       "\\]\n",
       "\n",
       "**Bước 1:** Xác định biểu thức tính thể tích.  \n",
       "Do $y = x^3$ có thể âm hoặc dương trên $[-1, 1]$, nhưng khi bình phương, ta có $(x^3)^2 = x^6$ không âm. Vì vậy:\n",
       "\n",
       "\\[\n",
       "V = \\pi \\int_{-1}^{1} x^6 \\, dx\n",
       "\\]\n",
       "\n",
       "**Bước 2:** Tính tích phân.  \n",
       "Tích phân của $x^6$ là $\\frac{x^7}{7}$:\n",
       "\n",
       "\\[\n",
       "\\int_{-1}^{1} x^6 \\, dx = \\left[ \\frac{x^7}{7} \\right]_{-1}^{1} = \\frac{1^7}{7} - \\frac{(-1)^7}{7} = \\frac{1}{7} - \\left( -\\frac{1}{7} \\right) = \\frac{2}{7}\n",
       "\\]\n",
       "\n",
       "**Bước 3:** Nhân với $\\pi$ để có kết quả cuối cùng:\n",
       "\n",
       "\\[\n",
       "V = \\pi \\cdot \\frac{2}{7} = \\frac{2\\pi}{7}\n",
       "\\]\n",
       "\n",
       "**Kiểm tra bằng phương pháp đối xứng:**  \n",
       "Hàm $x^6$ chẵn, nên tích phân từ $-1$ đến $1$ bằng 2 lần tích phân từ $0$ đến $1$:\n",
       "\n",
       "\\[\n",
       "2\\pi \\int_{0}^{1} x^6 \\, dx = 2\\pi \\left[ \\frac{x^7}{7} \\right]_0^1 = 2\\pi \\cdot \\frac{1}{7} = \\frac{2\\pi}{7}\n",
       "\\]\n",
       "\n",
       "Kết quả không đổi, xác nhận tính đúng đắn.\n"
      ],
      "text/plain": [
       "<IPython.core.display.Latex object>"
      ]
     },
     "metadata": {},
     "output_type": "display_data"
    },
    {
     "name": "stderr",
     "output_type": "stream",
     "text": [
      "Processing Questions:  94%|█████████▍| 81/86 [1:41:38<06:55, 83.09s/it]"
     ]
    },
    {
     "data": {
      "text/latex": [
       "\n",
       "Để tính thể tích khối tròn xoay tạo bởi hình phẳng (H) giới hạn bởi $y=2x-x^2$ và trục $Ox$ khi quay quanh trục $Ox$, ta thực hiện các bước sau:\n",
       "\n",
       "**Bước 1: Xác định giao điểm với trục $Ox$**  \n",
       "Giải phương trình $2x - x^2 = 0$:\n",
       "$$\n",
       "x(2 - x) = 0 \\Leftrightarrow x = 0 \\text{ hoặc } x = 2.\n",
       "$$\n",
       "Vậy (H) được giới hạn từ $x=0$ đến $x=2$.\n",
       "\n",
       "**Bước 2: Thiết lập công thức thể tích**  \n",
       "Áp dụng công thức tính thể tích khi quay quanh trục $Ox$:\n",
       "$$\n",
       "V = \\pi \\int_{0}^{2} (2x - x^2)^2 \\, dx.\n",
       "$$\n",
       "\n",
       "**Bước 3: Khai triển biểu thức**  \n",
       "Khai triển $(2x - x^2)^2$:\n",
       "$$\n",
       "(2x - x^2)^2 = 4x^2 - 4x^3 + x^4.\n",
       "$$\n",
       "\n",
       "**Bước 4: Tính tích phân**  \n",
       "Tính tích phân từng hạng tử:\n",
       "$$\n",
       "\\int_{0}^{2} (4x^2 - 4x^3 + x^4) \\, dx = \\left[ \\frac{4}{3}x^3 - x^4 + \\frac{1}{5}x^5 \\right]_{0}^{2}.\n",
       "$$\n",
       "\n",
       "**Bước 5: Thay cận và tính toán**  \n",
       "Thay $x=2$ và $x=0$:\n",
       "$$\n",
       "\\begin{aligned}\n",
       "\\left. \\frac{4}{3}x^3 - x^4 + \\frac{1}{5}x^5 \\right|_{0}^{2} &= \\left( \\frac{4}{3} \\cdot 8 - 16 + \\frac{1}{5} \\cdot 32 \\right) - 0 \\\\\n",
       "&= \\frac{32}{3} - 16 + \\frac{32}{5} \\\\\n",
       "&= \\frac{160}{15} - \\frac{240}{15} + \\frac{96}{15} \\\\\n",
       "&= \\frac{16}{15}.\n",
       "\\end{aligned}\n",
       "$$\n",
       "\n",
       "**Kết luận**  \n",
       "Thể tích của khối tròn xoay là:\n",
       "$$\n",
       "V = \\pi \\cdot \\frac{16}{15} = \\frac{16\\pi}{15}.\n",
       "$$\n"
      ],
      "text/plain": [
       "<IPython.core.display.Latex object>"
      ]
     },
     "metadata": {},
     "output_type": "display_data"
    },
    {
     "name": "stderr",
     "output_type": "stream",
     "text": [
      "Processing Questions:  95%|█████████▌| 82/86 [1:43:29<06:05, 91.39s/it]"
     ]
    },
    {
     "data": {
      "text/latex": [
       "\n",
       "Để tính thể tích khối tròn xoay tạo bởi các đường \\( y = 1 - x^2 \\), \\( y = 0 \\), \\( x = 0 \\), và \\( x = 2 \\) khi quay quanh trục Ox, ta sử dụng phương pháp đĩa. Thể tích \\( V \\) được tính bằng công thức:\n",
       "\n",
       "\\[\n",
       "V = \\pi \\int_{0}^{2} (1 - x^2)^2 \\, dx\n",
       "\\]\n",
       "\n",
       "**Bước 1:** Khai triển biểu thức dưới dấu tích phân:\n",
       "\\[\n",
       "(1 - x^2)^2 = 1 - 2x^2 + x^4\n",
       "\\]\n",
       "\n",
       "**Bước 2:** Tính tích phân từng phần:\n",
       "\\[\n",
       "\\int_{0}^{2} (1 - 2x^2 + x^4) \\, dx = \\left[ x - \\frac{2x^3}{3} + \\frac{x^5}{5} \\right]_{0}^{2}\n",
       "\\]\n",
       "\n",
       "**Bước 3:** Thay cận \\( x = 2 \\) và \\( x = 0 \\):\n",
       "\\[\n",
       "\\left( 2 - \\frac{2 \\cdot 8}{3} + \\frac{32}{5} \\right) - \\left( 0 - 0 + 0 \\right) = 2 - \\frac{16}{3} + \\frac{32}{5}\n",
       "\\]\n",
       "\n",
       "**Bước 4:** Quy đồng mẫu số và tính toán:\n",
       "\\[\n",
       "2 = \\frac{30}{15}, \\quad \\frac{16}{3} = \\frac{80}{15}, \\quad \\frac{32}{5} = \\frac{96}{15}\n",
       "\\]\n",
       "\\[\n",
       "\\frac{30}{15} - \\frac{80}{15} + \\frac{96}{15} = \\frac{46}{15}\n",
       "\\]\n",
       "\n",
       "**Bước 5:** Nhân kết quả với \\( \\pi \\):\n",
       "\\[\n",
       "V = \\pi \\cdot \\frac{46}{15} = \\frac{46\\pi}{15}\n",
       "\\]\n",
       "\n"
      ],
      "text/plain": [
       "<IPython.core.display.Latex object>"
      ]
     },
     "metadata": {},
     "output_type": "display_data"
    },
    {
     "name": "stderr",
     "output_type": "stream",
     "text": [
      "Processing Questions:  97%|█████████▋| 83/86 [1:44:50<04:24, 88.33s/it]"
     ]
    },
    {
     "data": {
      "text/latex": [
       "\n",
       "Để tính thể tích khối tròn xoay tạo bởi hình phẳng giới hạn bởi $y = \\sqrt{x}$ và $y = x$ khi quay quanh trục $Ox$, ta thực hiện các bước sau:\n",
       "\n",
       "**Bước 1: Tìm giao điểm của hai đường**\n",
       "Giải phương trình:\n",
       "\\[\n",
       "\\sqrt{x} = x \\quad \\Rightarrow \\quad x = x^2 \\quad \\Rightarrow \\quad x^2 - x = 0 \\quad \\Rightarrow \\quad x(x - 1) = 0\n",
       "\\]\n",
       "Suy ra $x = 0$ hoặc $x = 1$. Vậy hai đường cắt nhau tại $(0,0)$ và $(1,1)$.\n",
       "\n",
       "**Bước 2: Xác định công thức thể tích**\n",
       "Thể tích khối tròn xoay được tính bằng công thức:\n",
       "\\[\n",
       "V = \\pi \\int_{0}^{1} \\left[ (\\sqrt{x})^2 - (x)^2 \\right] dx\n",
       "\\]\n",
       "(vì $\\sqrt{x} \\geq x$ trên đoạn $[0,1]$)\n",
       "\n",
       "**Bước 3: Tính tích phân**\n",
       "\\[\n",
       "V = \\pi \\int_{0}^{1} (x - x^2) dx = \\pi \\left[ \\frac{1}{2}x^2 - \\frac{1}{3}x^3 \\right]_0^1 = \\pi \\left( \\frac{1}{2} - \\frac{1}{3} \\right) = \\pi \\cdot \\frac{1}{6} = \\frac{\\pi}{6}\n",
       "\\]\n"
      ],
      "text/plain": [
       "<IPython.core.display.Latex object>"
      ]
     },
     "metadata": {},
     "output_type": "display_data"
    },
    {
     "name": "stderr",
     "output_type": "stream",
     "text": [
      "Processing Questions:  98%|█████████▊| 84/86 [1:45:56<02:43, 81.60s/it]"
     ]
    },
    {
     "data": {
      "text/latex": [
       "\n",
       "Để tính thể tích khối tròn xoay tạo bởi hình phẳng (H) giới hạn bởi $y = \\tan x$, $Ox$, $x=0$, $x=\\frac{\\pi}{4}$ khi quay quanh trục $Ox$, ta sử dụng công thức thể tích theo phương pháp đĩa:\n",
       "\n",
       "$$\n",
       "V = \\pi \\int_{0}^{\\frac{\\pi}{4}} (\\tan x)^2 \\, dx\n",
       "$$\n",
       "\n",
       "**Bước 1:** Biến đổi biểu thức tích phân.  \n",
       "Sử dụng đẳng thức $\\tan^2 x = \\sec^2 x - 1$:\n",
       "$$\n",
       "\\int (\\tan x)^2 \\, dx = \\int (\\sec^2 x - 1) \\, dx\n",
       "$$\n",
       "\n",
       "**Bước 2:** Tính tích phân xác định:\n",
       "$$\n",
       "\\int_{0}^{\\frac{\\pi}{4}} (\\sec^2 x - 1) \\, dx = \\left[ \\tan x - x \\right]_{0}^{\\frac{\\pi}{4}}\n",
       "$$\n",
       "\n",
       "**Bước 3:** Thay cận:\n",
       "- Tại $x = \\frac{\\pi}{4}$: $\\tan\\left(\\frac{\\pi}{4}\\right) - \\frac{\\pi}{4} = 1 - \\frac{\\pi}{4}$\n",
       "- Tại $x = 0$: $\\tan(0) - 0 = 0$\n",
       "\n",
       "Kết quả tích phân:\n",
       "$$\n",
       "\\left(1 - \\frac{\\pi}{4}\\right) - 0 = 1 - \\frac{\\pi}{4}\n",
       "$$\n",
       "\n",
       "**Bước 4:** Nhân với $\\pi$ để được thể tích:\n",
       "$$\n",
       "V = \\pi \\left(1 - \\frac{\\pi}{4}\\right) = \\pi - \\frac{\\pi^2}{4}\n",
       "$$\n"
      ],
      "text/plain": [
       "<IPython.core.display.Latex object>"
      ]
     },
     "metadata": {},
     "output_type": "display_data"
    },
    {
     "name": "stderr",
     "output_type": "stream",
     "text": [
      "Processing Questions:  99%|█████████▉| 85/86 [1:47:06<01:18, 78.30s/it]"
     ]
    },
    {
     "data": {
      "text/latex": [
       "\n",
       "Để tính thể tích khối tròn xoay tạo bởi $y = \\ln x$, $y = 0$, $x = e$ quay quanh trục $Ox$, ta sử dụng công thức tích phân:\n",
       "\n",
       "$$\n",
       "V = \\pi \\int_{1}^{e} (\\ln x)^2 \\, dx\n",
       "$$\n",
       "\n",
       "**Bước 1:** Xác định miền tích phân.  \n",
       "Giao điểm của $y = \\ln x$ và $y = 0$ là $x = 1$. Miền cần tính từ $x = 1$ đến $x = e$.\n",
       "\n",
       "**Bước 2:** Tính tích phân $\\int (\\ln x)^2 \\, dx$ bằng phương pháp tích phân từng phần.  \n",
       "Đặt:\n",
       "$$\n",
       "\\begin{cases}\n",
       "u = (\\ln x)^2 \\\\\n",
       "dv = dx\n",
       "\\end{cases}\n",
       "\\Rightarrow\n",
       "\\begin{cases}\n",
       "du = 2 \\ln x \\cdot \\dfrac{1}{x} \\, dx \\\\\n",
       "v = x\n",
       "\\end{cases}\n",
       "$$\n",
       "\n",
       "Áp dụng công thức tích phân từng phần:\n",
       "$$\n",
       "\\int (\\ln x)^2 \\, dx = x (\\ln x)^2 - \\int x \\cdot 2 \\ln x \\cdot \\dfrac{1}{x} \\, dx = x (\\ln x)^2 - 2 \\int \\ln x \\, dx\n",
       "$$\n",
       "\n",
       "**Bước 3:** Tính $\\int \\ln x \\, dx$ tiếp tục bằng tích phân từng phần.  \n",
       "Đặt:\n",
       "$$\n",
       "\\begin{cases}\n",
       "u = \\ln x \\\\\n",
       "dv = dx\n",
       "\\end{cases}\n",
       "\\Rightarrow\n",
       "\\begin{cases}\n",
       "du = \\dfrac{1}{x} \\, dx \\\\\n",
       "v = x\n",
       "\\end{cases}\n",
       "$$\n",
       "\n",
       "Khi đó:\n",
       "$$\n",
       "\\int \\ln x \\, dx = x \\ln x - \\int x \\cdot \\dfrac{1}{x} \\, dx = x \\ln x - x + C\n",
       "$$\n",
       "\n",
       "**Bước 4:** Thay vào kết quả trước đó:\n",
       "$$\n",
       "\\int (\\ln x)^2 \\, dx = x (\\ln x)^2 - 2 \\left( x \\ln x - x \\right) + C = x (\\ln x)^2 - 2x \\ln x + 2x + C\n",
       "$$\n",
       "\n",
       "**Bước 5:** Tính giá trị tích phân từ $1$ đến $e$:\n",
       "$$\n",
       "\\left[ x (\\ln x)^2 - 2x \\ln x + 2x \\right]_{1}^{e}\n",
       "$$\n",
       "\n",
       "Tại $x = e$:\n",
       "$$\n",
       "e \\cdot (1)^2 - 2e \\cdot 1 + 2e = e - 2e + 2e = e\n",
       "$$\n",
       "\n",
       "Tại $x = 1$:\n",
       "$$\n",
       "1 \\cdot (0)^2 - 2 \\cdot 1 \\cdot 0 + 2 \\cdot 1 = 2\n",
       "$$\n",
       "\n",
       "Kết quả tích phân:\n",
       "$$\n",
       "e - 2\n",
       "$$\n",
       "\n",
       "**Bước 6:** Thể tích khối tròn xoay:\n",
       "$$\n",
       "V = \\pi (e - 2)\n",
       "$$\n"
      ],
      "text/plain": [
       "<IPython.core.display.Latex object>"
      ]
     },
     "metadata": {},
     "output_type": "display_data"
    },
    {
     "name": "stderr",
     "output_type": "stream",
     "text": [
      "Processing Questions: 100%|██████████| 86/86 [1:48:22<00:00, 75.61s/it]\n"
     ]
    },
    {
     "data": {
      "application/vnd.microsoft.datawrangler.viewer.v0+json": {
       "columns": [
        {
         "name": "index",
         "rawType": "int64",
         "type": "integer"
        },
        {
         "name": "Question",
         "rawType": "object",
         "type": "string"
        },
        {
         "name": "Solution",
         "rawType": "object",
         "type": "string"
        },
        {
         "name": "Answer",
         "rawType": "object",
         "type": "string"
        },
        {
         "name": "AI Solution",
         "rawType": "object",
         "type": "string"
        },
        {
         "name": "AI Answer",
         "rawType": "object",
         "type": "string"
        }
       ],
       "conversionMethod": "pd.DataFrame",
       "ref": "4975404e-4255-47ab-99f6-214d06c77b94",
       "rows": [
        [
         "0",
         "Cho hai số phức $z_1 = 1 + 10i$ và $z_2 = 9 – 2i$. Số phức $z = z_1 + z_2$ có z1 có phần thực là:",
         "Ta có: $z = z_1 + z_2 = (1 + 10i) + ( 9 – 2i) = 10 + 8i$. Do đó, phần thực của số phức z là 10.",
         "10",
         "\nĐể tìm phần thực của số phức $z_1$ khi biết $z = z_1 + z_2$, ta thực hiện các bước sau:\n\n1. **Xác định phần thực của $z_1$:**  \n   Số phức $z_1$ được cho là $z_1 = 1 + 10i$.  \n   Dạng tổng quát của số phức là $a + bi$ với $a$ là phần thực.  \n   → Phần thực của $z_1$ là $1$.\n\n2. **Kết luận:**  \n   Dù $z = z_1 + z_2 = (1 + 9) + (10i - 2i) = 10 + 8i$, phần thực của $z_1$ vẫn không thay đổi và là $1$.\n",
         "\n$\\boxed{1}$\n"
        ],
        [
         "1",
         "Hãy tính số phức z. Biết rằng: $z = 10i – ( 2 + 2i).i$",
         "Ta có: $z = 10i - (2 + 2i).i = 10i – 2i + 2 = 2 + 8i$",
         "2 + 8i",
         "\nĐể tính số phức \\( z \\), ta thực hiện các bước sau:\n\n1. **Tính tích \\( (2 + 2i) \\cdot i \\):**\n\\[\n(2 + 2i) \\cdot i = 2i + 2i^2\n\\]\n2. **Thay \\( i^2 = -1 \\):**\n\\[\n2i + 2(-1) = 2i - 2\n\\]\n3. **Thay vào biểu thức của \\( z \\):**\n\\[\nz = 10i - (2i - 2) = 10i - 2i + 2\n\\]\n4. **Kết hợp các số hạng:**\n\\[\nz = 2 + 8i\n\\]\n",
         "\n\\( z = \\boxed{2 + 8i} \\)\n"
        ],
        [
         "2",
         "Cho hai số phức $z = -2 + 3yi$; $z’ = ( x + 1)- 4i$ với $x,y ∈ R$. Tìm x; y để $z + i= z’ + 2$",
         "Để $z + i = z’ + 2$ => - 2 + 3yi + i = ( x + 1) – 4i + 2 => - 2 + (3y + 1).i = ( x + 3)- 4i. Do đó ta có hệ phương trình : -2 = x+3 , 3y + 1 = -4 => x = -5, y=-5/3",
         "x = -5, y = -5/3",
         "\nĐể tìm $x, y \\in \\mathbb{R}$ thỏa mãn $z + i = z' + 2$, ta thực hiện các bước sau:\n\n1. **Thay thế các số phức vào phương trình:**\n   \\[\n   (-2 + 3yi) + i = (x + 1 - 4i) + 2\n   \\]\n\n2. **Rút gọn hai vế:**\n   - Vế trái: $-2 + (3y + 1)i$\n   - Vế phải: $(x + 3) - 4i$\n\n3. **Đồng nhất phần thực và phần ảo:**\n   \\[\n   \\begin{cases}\n   -2 = x + 3 & \\text{(phần thực)} \\\\\n   3y + 1 = -4 & \\text{(phần ảo)}\n   \\end{cases}\n   \\]\n\n4. **Giải hệ phương trình:**\n   - Từ phương trình phần thực: $x = -2 - 3 = -5$\n   - Từ phương trình phần ảo: $3y = -5 \\Rightarrow y = -\\dfrac{5}{3}$\n",
         "\nVậy nghiệm của bài toán là $\\boxed{x = -5}$ và $\\boxed{y = -\\dfrac{5}{3}}$.\n"
        ],
        [
         "3",
         "Số nào trong các số phức sau là số thuần ảo? A. (√2 + i) - (1 + √2i); B. ( 8 + 2i) + (- 8 + 2i); C. ( - 3 + i) – ( 3 - i); D. (10 + 3i) – ( -10 – 3i)",
         "Ta xét các phương án:A.(√2 + i) - (1 + √2i)= (√2 - 1) - (1 - √2) không là số thuần ảo; B.(8 + 2i) + (- 8 + 2i) = 4i là số thuần ảo; C.(-3 + i) – (3- i) = - 3 + i – 3 + i= - 6 + 2i không là số thuần ảo.; D.(10 + 3i) – ( -10 – 3i) = 10 + 3i + 10 + 3i = 20 + 6i không là số thuần ảo.",
         "B. ( 8 + 2i) + (- 8 + 2i)",
         "\nXét từng phương án:\n\n**A.** $(\\sqrt{2} + i) - (1 + \\sqrt{2}i)$  \nPhần thực: $\\sqrt{2} - 1$  \nPhần ảo: $1 - \\sqrt{2}$  \n→ Kết quả: $(\\sqrt{2} - 1) + (1 - \\sqrt{2})i$ (có phần thực $\\neq 0$ → không thuần ảo)\n\n**B.** $(8 + 2i) + (-8 + 2i)$  \nPhần thực: $8 + (-8) = 0$  \nPhần ảo: $2i + 2i = 4i$  \n→ Kết quả: $0 + 4i$ (phần thực bằng 0 → thuần ảo)\n\n**C.** $(-3 + i) - (3 - i)$  \nPhần thực: $-3 - 3 = -6$  \nPhần ảo: $i - (-i) = 2i$  \n→ Kết quả: $-6 + 2i$ (có phần thực $\\neq 0$ → không thuần ảo)\n\n**D.** $(10 + 3i) - (-10 - 3i)$  \nPhần thực: $10 - (-10) = 20$  \nPhần ảo: $3i - (-3i) = 6i$  \n→ Kết quả: $20 + 6i$ (có phần thực $\\neq 0$ → không thuần ảo)\n\nVậy phương án **B** là số thuần ảo.\n",
         "$\\boxed{B}$"
        ],
        [
         "4",
         "Tính giá trị của P = i^{105} + i^{23} + i^{20} - i^{34}",
         "Ta có: $i^2 = -1 \\Rightarrow i^4 = 1$. Do đó, $P = i^{105} + i^{23} + i^{20} - i^{34} = i^{104+1} + i^{20+3} + i^{4 \\cdot 5} - i^{4 \\cdot 8 + 2} = i \\cdot i^{4 \\cdot 26} + i^2 \\cdot i \\cdot i^{4 \\cdot 5} + 1 - i^2 \\cdot i^{4 \\cdot 8} = i \\cdot 1 + (-1) \\cdot i \\cdot 1 + 1 - (-1) \\cdot 1 = 2$",
         "2",
         "\nTa có chu kỳ của lũy thừa số phức $i$ là 4:\n\\[\ni^1 = i,\\quad i^2 = -1,\\quad i^3 = -i,\\quad i^4 = 1\n\\]\nXét từng hạng tử:\n- $i^{105}$: Vì $105 = 4 \\cdot 26 + 1$ nên $i^{105} = i^{4 \\cdot 26 + 1} = (i^4)^{26} \\cdot i = 1^{26} \\cdot i = i$\n- $i^{23}$: Vì $23 = 4 \\cdot 5 + 3$ nên $i^{23} = i^{4 \\cdot 5 + 3} = (i^4)^5 \\cdot i^3 = 1^5 \\cdot (-i) = -i$\n- $i^{20}$: Vì $20 = 4 \\cdot 5$ nên $i^{20} = (i^4)^5 = 1^5 = 1$\n- $-i^{34}$: Vì $34 = 4 \\cdot 8 + 2$ nên $i^{34} = i^{4 \\cdot 8 + 2} = (i^4)^8 \\cdot i^2 = 1^8 \\cdot (-1) = -1$  \n$\\Rightarrow -i^{34} = -(-1) = 1$\n\nCộng các kết quả:\n\\[\nP = i^{105} + i^{23} + i^{20} - i^{34} = i + (-i) + 1 + 1 = (i - i) + (1 + 1) = 0 + 2 = 2\n\\]\n",
         "\n$\\boxed{2}$\n"
        ],
        [
         "5",
         "Giá trị của biểu thức $A = \\left( \\frac{1+i}{1-i} \\right)^{2016} + \\left( \\frac{1-i}{1+i} \\right)^{2018}$ bằng ?",
         "Ta có: $\\frac{1+i}{1-i} = \\frac{(1+i)^2}{(1-i).(1+i)} = \\frac{1+2i+i^2}{1-i^2} = \\frac{2i}{2} = i$; $\\frac{1-i}{1+i} = \\frac{(1-i)^2}{(1+i).(1-i)} = \\frac{1-2i+i^2}{1-i^2} = \\frac{-2i}{2} = -i$; Suy ra: $A = \\left( \\frac{1+i}{1-i} \\right)^{2016} + \\left( \\frac{1-i}{1+i} \\right)^{2018} = i^{2016} + (-i)^{2018} = (i^2)^{1008} + (i^2)^{1009} = (-1)^{1008} + (-1)^{1009} = 1 - 1 = 0$",
         "0",
         "\nĐầu tiên, ta rút gọn các phân số phức:\n\n\\[\n\\frac{1+i}{1-i} = \\frac{(1+i)(1+i)}{(1-i)(1+i)} = \\frac{2i}{2} = i\n\\]\n\\[\n\\frac{1-i}{1+i} = \\frac{(1-i)(1-i)}{(1+i)(1-i)} = \\frac{-2i}{2} = -i\n\\]\n\nThay vào biểu thức \\(A\\):\n\\[\nA = i^{2016} + (-i)^{2018}\n\\]\n\nTính từng số hạng:\n- Vì \\(i^4 = 1\\), nên \\(i^{2016} = (i^4)^{504} = 1^{504} = 1\\).\n- \\((-i)^{2018} = (-1)^{2018} \\cdot i^{2018} = 1 \\cdot i^{2018}\\). Do \\(i^{2018} = i^{4 \\cdot 504 + 2} = (i^4)^{504} \\cdot i^2 = 1^{504} \\cdot (-1) = -1\\).\n\nVậy:\n\\[\nA = 1 + (-1) = 0\n\\]\n",
         "\n\\boxed{0}\n"
        ],
        [
         "6",
         "Cho $P = 1 + i + i^2 + i^3 + ... + i^{2017}$. Tính P?",
         "Ta có: $P = 1 + i + i^2 + i^3 + ... + i^{2017}$ $iP = i + i^2 + i^3 + ... + i^{2018}$ $\\Rightarrow P - iP = 1 - i^{2018}$ $\\Rightarrow P = \\frac{1 - i^{2018}}{1 - i} = \\frac{1 - (i^2)^{1009}}{1-i} = \\frac{2}{1-i} = \\frac{2(1+i)}{(1-i).(1+i)} = \\frac{2(1+i)}{2} = 1 + i$",
         "1 + i",
         "\nTổng $P$ là một cấp số nhân với số hạng đầu $a = 1$, công bội $r = i$, và có $2018$ số hạng (từ $i^0$ đến $i^{2017}$). Áp dụng công thức tổng cấp số nhân:\n\\[\nP = \\frac{1 - r^{n}}{1 - r} = \\frac{1 - i^{2018}}{1 - i}\n\\]\nTính $i^{2018}$: Vì $i^4 = 1$, ta có $2018 = 4 \\cdot 504 + 2$ nên:\n\\[\ni^{2018} = i^{4 \\cdot 504 + 2} = (i^4)^{504} \\cdot i^2 = 1^{504} \\cdot (-1) = -1\n\\]\nThay vào công thức tổng:\n\\[\nP = \\frac{1 - (-1)}{1 - i} = \\frac{2}{1 - i}\n\\]\nNhân tử và mẫu với $(1 + i)$:\n\\[\nP = \\frac{2(1 + i)}{(1 - i)(1 + i)} = \\frac{2(1 + i)}{1 - i^2} = \\frac{2(1 + i)}{2} = 1 + i\n\\]\n",
         "\n$\\boxed{1 + i}$\n"
        ],
        [
         "7",
         "Cho $A = 1 + i^2 + i^4 + .. + i^{4k-2} + i^{4k}$ với k là số nguyên dương. Tính A?",
         "Do A là tổng của một cấp số nhân (gồm 2k + 1 số hạng) với số hạng đầu $u_1 = 1$, công bội q = $i^2$. Suy ra $A = 1 + i^2 + i^4 + .. + i^{4k-2} + i^{4k} = \\frac{1 - (i^2)^{2k+1}}{1 - i^2} = \\frac{1 - (-1)^{2k+1}}{1 - (-1)} = \\frac{1 - (-1)^{2k} \\cdot (-1)^1}{2} = 1$",
         "1",
         "\nXét tổng $A = 1 + i^2 + i^4 + \\dots + i^{4k-2} + i^{4k}$ với $k$ là số nguyên dương.\n\nNhận xét:\n- Các số mũ của $i$ là các số chẵn từ $0$ đến $4k$, tạo thành cấp số cộng với công sai $2$.\n- Số hạng tổng quát: $i^{2n}$ với $n = 0, 1, 2, \\dots, 2k$.\n- Số lượng số hạng: $2k + 1$.\n\nBiến đổi các số hạng:\n\\[\ni^{2n} = (i^2)^n = (-1)^n\n\\]\nDo đó, tổng $A$ trở thành:\n\\[\nA = \\sum_{n=0}^{2k} (-1)^n\n\\]\nĐây là tổng của cấp số nhân với:\n- Số hạng đầu $a = 1$,\n- Công bội $r = -1$,\n- Số lượng số hạng $N = 2k + 1$.\n\nÁp dụng công thức tổng cấp số nhân:\n\\[\nA = \\frac{a(1 - r^N)}{1 - r} = \\frac{1 \\cdot \\left(1 - (-1)^{2k+1}\\right)}{1 - (-1)} = \\frac{1 - (-1)^{2k+1}}{2}\n\\]\nVì $2k + 1$ là số lẻ nên $(-1)^{2k+1} = -1$:\n\\[\nA = \\frac{1 - (-1)}{2} = \\frac{2}{2} = 1\n\\]\n\n**Kết luận:** Tổng $A$ luôn bằng $1$ với mọi số nguyên dương $k$.\n",
         "\n$\\boxed{1}$\n"
        ],
        [
         "8",
         "Tìm số phức liên hợp của số phức $z = (3 - 2i).(2 + 3i)$",
         "Ta có: $z = (3 - 2i).(2 + 3i) = 6 + 9i - 4i + 6 = 12 + 5i$ \\Rightarrow Số phức liên hợp với số phức z là $\\overline{z} = 12 - 5i$",
         "$12 - 5i$",
         "\nĐể tìm số phức liên hợp của $z = (3 - 2i)(2 + 3i)$, ta thực hiện các bước sau:\n\n**Bước 1:** Thực hiện phép nhân hai số phức:\n\\[\n\\begin{aligned}\nz &= (3 - 2i)(2 + 3i) \\\\\n&= 3 \\cdot 2 + 3 \\cdot 3i - 2i \\cdot 2 - 2i \\cdot 3i \\\\\n&= 6 + 9i - 4i - 6i^2 \\\\\n&= 6 + 5i + 6 \\quad (\\text{vì } i^2 = -1 \\Rightarrow -6i^2 = 6) \\\\\n&= 12 + 5i.\n\\end{aligned}\n\\]\n\n**Bước 2:** Tìm số phức liên hợp của $z = 12 + 5i$:\n\\[\n\\overline{z} = 12 - 5i.\n\\]\n",
         "\nSố phức liên hợp của $z$ là $\\boxed{12 - 5i}$.\n"
        ],
        [
         "9",
         "Cho số phức $z = 5 - 3i$. Tính $1 + \\overline{z} + (\\overline{z})^2$ ta được kết quả:",
         "Ta có $z = 5 - 3i \\Rightarrow \\overline{z} = 5 + 3i$ Suy ra : $1 + \\overline{z} + (\\overline{z})^2 = 1 + (5 + 3i) + (5 + 3i)^2 = (6 + 3i) + (25 + 30i - 9) = 22 + 33i$",
         "22 + 33i",
         "\nCho số phức \\( z = 5 - 3i \\). Số phức liên hợp của \\( z \\) là \\( \\overline{z} = 5 + 3i \\).\n\nTa tính các thành phần:\n\\[\n1 + \\overline{z} = 1 + (5 + 3i) = 6 + 3i\n\\]\n\\[\n(\\overline{z})^2 = (5 + 3i)^2 = 5^2 + 2 \\cdot 5 \\cdot 3i + (3i)^2 = 25 + 30i + 9i^2 = 25 + 30i - 9 = 16 + 30i\n\\]\n\nCộng các kết quả lại:\n\\[\n1 + \\overline{z} + (\\overline{z})^2 = (6 + 3i) + (16 + 30i) = 22 + 33i\n\\]\n",
         "\n\\( 22 + 33i \\)\n"
        ],
        [
         "10",
         "Cho số phức z thỏa $(1 + 3i)z - (2 + 5i) = (2 + i)z$. Tìm số phức liên hợp của số phức z.",
         "Theo giả thiết ta có: $(1 + 3i)z - (2 + 5i) = (2 + i)z \\Rightarrow (1 + 3i - 2 - i)z = 2 + 5i \\Leftrightarrow (-1 + 2i)z = 2 + 5i \\Rightarrow z = \\frac{2 + 5i}{-1 + 2i} = \\frac{8}{5} + \\frac{9}{5}i$",
         "$\\frac{8}{5} + \\frac{9}{5}i$",
         "\nGiải phương trình để tìm số phức $z$:\n\nPhương trình đã cho: \n\\[\n(1 + 3i)z - (2 + 5i) = (2 + i)z\n\\]\n\nChuyển các số hạng chứa $z$ về một vế:\n\\[\n(1 + 3i)z - (2 + i)z = 2 + 5i\n\\]\n\nNhóm hệ số của $z$:\n\\[\n\\left[(1 + 3i) - (2 + i)\\right]z = 2 + 5i\n\\]\n\nTính hệ số:\n\\[\n(1 - 2) + (3i - i) = -1 + 2i\n\\]\nPhương trình trở thành:\n\\[\n(-1 + 2i)z = 2 + 5i\n\\]\n\nGiải $z$:\n\\[\nz = \\frac{2 + 5i}{-1 + 2i}\n\\]\nNhân tử và mẫu với liên hợp của mẫu $(-1 - 2i)$:\n\\[\nz = \\frac{(2 + 5i)(-1 - 2i)}{(-1)^2 + (2)^2} = \\frac{(2 + 5i)(-1 - 2i)}{5}\n\\]\n\nTính tử số:\n\\[\n(2)(-1) + (2)(-2i) + 5i(-1) + 5i(-2i) = -2 -4i -5i -10i^2 = -2 -9i +10 = 8 -9i\n\\]\nVậy:\n\\[\nz = \\frac{8 - 9i}{5} = \\frac{8}{5} - \\frac{9}{5}i\n\\]\n\nSố phức liên hợp của $z$ là:\n\\[\n\\overline{z} = \\frac{8}{5} + \\frac{9}{5}i\n\\]\n",
         "\nSố phức liên hợp của $z$ là $\\boxed{\\dfrac{8}{5} + \\dfrac{9}{5}i}$.\n"
        ],
        [
         "11",
         "Tìm số phức z, biết $z + 2i\\overline{z} + 4 = i$",
         "Gọi số phức z cần tìm là $z = a + bi$ ($a, b \\in R$). Số phức liên hợp với số phức z là: $\\overline{z} = a - bi$. Theo giả thiết: $z + 2i\\overline{z} + 4 = i \\Rightarrow a + bi + 2i(a - bi) + 4 = i \\Rightarrow a + bi + 2ai + 2b + 4 - i = 0 \\Rightarrow (a + 2b + 4) + (b + 2a - 1)i = 0 \\Rightarrow \\begin{cases} a + 2b = -4 \\\\ b + 2a = 1 \\end{cases} \\Rightarrow \\begin{cases} a = 2 \\\\ b = -3 \\end{cases}$ Suy ra $z = 2 - 3i$",
         "2 - 3i",
         "\nGiả sử số phức \\( z \\) có dạng \\( z = a + bi \\) với \\( a, b \\in \\mathbb{R} \\). Khi đó, liên hợp của \\( z \\) là \\( \\overline{z} = a - bi \\).\n\nThay vào phương trình đã cho:\n\\[\nz + 2i\\overline{z} + 4 = i\n\\]\n\\[\n\\Leftrightarrow (a + bi) + 2i(a - bi) + 4 = i\n\\]\nKhai triển và rút gọn:\n\\[\na + bi + 2ai - 2b(i^2) + 4 = i\n\\]\n\\[\n\\Leftrightarrow a + bi + 2ai + 2b + 4 = i \\quad (\\text{vì } i^2 = -1)\n\\]\nNhóm phần thực và phần ảo:\n\\[\n(a + 2b + 4) + (b + 2a)i = 0 + 1i\n\\]\nĐồng nhất hệ số, ta được hệ phương trình:\n\\[\n\\begin{cases}\na + 2b + 4 = 0 \\\\\nb + 2a = 1\n\\end{cases}\n\\]\nGiải hệ:\n- Từ phương trình thứ nhất: \\( a = -2b - 4 \\)\n- Thay vào phương trình thứ hai:\n\\[\nb + 2(-2b - 4) = 1 \\Leftrightarrow b - 4b - 8 = 1 \\Leftrightarrow -3b = 9 \\Leftrightarrow b = -3\n\\]\nSuy ra \\( a = -2(-3) - 4 = 6 - 4 = 2 \\).\n\nVậy số phức cần tìm là \\( z = 2 - 3i \\).\n",
         "\n\\( z = \\boxed{2 - 3i} \\)\n"
        ],
        [
         "12",
         "Tìm số phức z, biết $|z| = \\sqrt{5}$, phần thực bằng 2 lần phần ảo và phần thực dương",
         "Cho số phức $z = a + bi$, ($a, b \\in R$) và $a > 0$. Do phần thực bằng 2 lần phần ảo nên: $a = 2b$ (1). mà $|z| = \\sqrt{5} \\Leftrightarrow \\sqrt{a^2 + b^2} = \\sqrt{5} \\Rightarrow a^2 + b^2 = 5$ (2). Từ (1) và (2) ta có hệ phương trình: $\\begin{cases} a = 2b \\\\ a^2 + b^2 = 5 \\end{cases} \\Leftrightarrow \\begin{cases} a = 2 \\\\ b = 1 \\end{cases}$ Vậy số phức cần tìm là $z = 2 + i$.",
         "2 + i",
         "\nGọi số phức cần tìm là $z = a + bi$ với $a, b \\in \\mathbb{R}$.\n\nTheo đề bài:\n1. $|z| = \\sqrt{5} \\Rightarrow \\sqrt{a^2 + b^2} = \\sqrt{5} \\Rightarrow a^2 + b^2 = 5$  \n2. Phần thực bằng 2 lần phần ảo: $a = 2b$  \n3. Phần thực dương: $a > 0$\n\nThay $a = 2b$ vào phương trình $a^2 + b^2 = 5$:  \n\\[\n(2b)^2 + b^2 = 5 \\Rightarrow 4b^2 + b^2 = 5 \\Rightarrow 5b^2 = 5 \\Rightarrow b^2 = 1 \\Rightarrow b = \\pm 1\n\\]\n\nVì $a = 2b$ và $a > 0$, suy ra $b > 0$. Do đó, $b = 1 \\Rightarrow a = 2 \\cdot 1 = 2$.\n\nVậy số phức cần tìm là $z = 2 + i$.\n",
         "\n$\\boxed{2 + i}$\n"
        ],
        [
         "13",
         "Cho số phức z có phần thực là số nguyên và z thỏa mãn: $|z| - 2\\overline{z} = -7 + 3i + z$. Tính môđun của số phức: $\\omega = 1 - z + z^2$",
         "Gọi số phức cần tìm là $z = a + bi$, ($a, b \\in R$). Số phức liên hợp của số phức z là: $\\overline{z} = a - bi$ và $|z| = \\sqrt{a^2 + b^2}$. Theo giả thiết ta có: $|z| - 2\\overline{z} = -7 + 3i + z \\Leftrightarrow \\sqrt{a^2 + b^2} - 2(a - bi) = -7 + 3i + a + bi \\Leftrightarrow \\begin{cases} \\sqrt{a^2 + b^2} - 2a = -7 + a \\\\ 2b = 3 + b \\end{cases} \\Leftrightarrow \\begin{cases} 8a^2 - 42a + 40 = 0 \\\\ b = 3 \\end{cases} \\Leftrightarrow \\begin{cases} a \\geq \\frac{7}{3} \\\\ b = 3 \\end{cases} \\Leftrightarrow \\begin{cases} a = 4 \\\\ b = 3 \\end{cases}$. vậy $z = 4 + 3i \\Rightarrow \\omega = 1 - (4 + 3i) + (4 + 3i)^2 = 4 + 21i \\Rightarrow |\\omega| = \\sqrt{4^2 + 21^2} = \\sqrt{457}$",
         "$\\sqrt{457}$",
         "\nGọi số phức $z$ có dạng $z = a + bi$ với $a \\in \\mathbb{Z}$ và $b \\in \\mathbb{R}$. Từ giả thiết:\n\\[\n|z| - 2\\overline{z} = -7 + 3i + z\n\\]\nThay $|z| = \\sqrt{a^2 + b^2}$, $\\overline{z} = a - bi$ và $z = a + bi$ vào phương trình:\n\\[\n\\sqrt{a^2 + b^2} - 2(a - bi) = -7 + 3i + (a + bi)\n\\]\nTách phần thực và phần ảo:\n- **Phần thực:** $\\sqrt{a^2 + b^2} - 2a = -7 + a$\n- **Phần ảo:** $2b = 3 + b \\Rightarrow b = 3$\n\nThay $b = 3$ vào phương trình phần thực:\n\\[\n\\sqrt{a^2 + 9} - 2a = a -7 \\Rightarrow \\sqrt{a^2 + 9} = 3a -7\n\\]\nĐiều kiện $3a -7 \\geq 0 \\Rightarrow a \\geq \\frac{7}{3}$. Vì $a \\in \\mathbb{Z}$ nên $a \\geq 3$. Bình phương hai vế:\n\\[\na^2 + 9 = (3a -7)^2 \\Rightarrow a^2 + 9 = 9a^2 -42a +49 \\Rightarrow 8a^2 -42a +40 =0\n\\]\nGiải phương trình:\n\\[\na = \\frac{21 \\pm 11}{8} \\Rightarrow \\left[\\begin{aligned}\na &= 4 \\quad (\\text{nhận}) \\\\\na &= \\frac{5}{4} \\quad (\\text{loại})\n\\end{aligned}\\right.\n\\]\nVậy $z = 4 + 3i$. Tính $\\omega = 1 - z + z^2$:\n\\[\nz^2 = (4 +3i)^2 = 7 +24i \\quad \\Rightarrow \\quad \\omega = (1 -4 -3i) + (7 +24i) = 4 +21i\n\\]\nMôđun của $\\omega$ là:\n\\[\n|\\omega| = \\sqrt{4^2 +21^2} = \\sqrt{457}\n\\]\n",
         "\n$\\boxed{\\sqrt{457}}$\n"
        ],
        [
         "14",
         "Cho hai số phức $z_1$ và $z_2$ thỏa mãn $|z_1| = |z_2| = 1$; $|z_1 + z_2| = \\sqrt{3}$. Tính $|z_1 - z_2|$",
         "Ta có: $3 = |z_1 + z_2|^2 = (z_1 + z_2)(\\overline{z_1} + \\overline{z_2}) \\Rightarrow z_1 \\overline{z_2} + z_2 \\overline{z_1} + z_1 \\overline{z_1} + z_2 \\overline{z_2} = 3 \\Rightarrow z_1 \\overline{z_2} + z_2 \\overline{z_1} = 1$ Vì $|z_1| = |z_2| = 1$ nên $z_1 \\cdot \\overline{z_1} = 1$; $z_2 \\cdot \\overline{z_2} = 1$. Khi đó: $|z_1 - z_2|^2 = (z_1 - z_2)(\\overline{z_1} - \\overline{z_2}) = |z_1|^2 + |z_2|^2 - (z_1 \\overline{z_2} + z_2 \\overline{z_1}) = 1$",
         "1",
         "\nCho hai số phức $z_1$ và $z_2$ thỏa mãn $|z_1| = |z_2| = 1$ và $|z_1 + z_2| = \\sqrt{3}$. Áp dụng công thức hình bình hành cho số phức:\n\\[\n|z_1 + z_2|^2 + |z_1 - z_2|^2 = 2(|z_1|^2 + |z_2|^2)\n\\]\nThay các giá trị đã cho:\n\\[\n(\\sqrt{3})^2 + |z_1 - z_2|^2 = 2(1^2 + 1^2)\n\\]\n\\[\n3 + |z_1 - z_2|^2 = 4\n\\]\nGiải phương trình:\n\\[\n|z_1 - z_2|^2 = 1 \\implies |z_1 - z_2| = 1\n\\]\n",
         "\n$\\boxed{1}$\n"
        ],
        [
         "15",
         "Cho số phức z thỏa mãn $|z + 3| = 5$ và $|z - 2i| = |z - 2 - 2i|$. Tính $|z|$.",
         "Gọi số phức z cần tìm là $z = a + bi$ ($a, b \\in R$). Ta có: $|z + 3| = 5 \\Leftrightarrow |a + bi + 3| = 5 \\Leftrightarrow (a + 3)^2 + b^2 = 25$ (*). $|z - 2i| = |z - 2 - 2i| \\Leftrightarrow |a + bi - 2i| = |a + bi - 2 - 2i| \\Leftrightarrow a^2 + (b - 2)^2 = (a - 2)^2 + (b - 2)^2 \\Leftrightarrow a^2 = (a - 2)^2 \\Leftrightarrow \\begin{cases} a - 2 = a \\\\ a - 2 = -a \\end{cases}$. Thế a = 1 vào (*) ta được $16 + b^2 = 25 \\Rightarrow b^2 = 9$. Do đó, môđun của z là: $|z| = \\sqrt{1^2 + 9} = \\sqrt{10}$",
         "$\\sqrt{10}$",
         "\nGiả sử số phức $z$ có dạng $z = x + yi$ với $x, y \\in \\mathbb{R}$.\n\n**Bước 1:** Từ điều kiện $|z + 3| = 5$, ta có:\n\\[\n|(x + 3) + yi| = 5 \\Leftrightarrow \\sqrt{(x + 3)^2 + y^2} = 5\n\\]\nBình phương hai vế:\n\\[\n(x + 3)^2 + y^2 = 25 \\quad (1)\n\\]\nĐây là phương trình đường tròn tâm $(-3, 0)$, bán kính $5$.\n\n**Bước 2:** Từ điều kiện $|z - 2i| = |z - 2 - 2i|$, ta có:\n\\[\n|x + (y - 2)i| = |(x - 2) + (y - 2)i|\n\\]\nTính mô-đun:\n\\[\n\\sqrt{x^2 + (y - 2)^2} = \\sqrt{(x - 2)^2 + (y - 2)^2}\n\\]\nBình phương hai vế và rút gọn:\n\\[\nx^2 = (x - 2)^2 \\Leftrightarrow x^2 = x^2 - 4x + 4 \\Leftrightarrow 4x = 4 \\Leftrightarrow x = 1 \\quad (2)\n\\]\nĐây là đường thẳng $x = 1$.\n\n**Bước 3:** Thay $x = 1$ vào phương trình (1):\n\\[\n(1 + 3)^2 + y^2 = 25 \\Leftrightarrow 16 + y^2 = 25 \\Leftrightarrow y^2 = 9 \\Leftrightarrow y = 3 \\text{ hoặc } y = -3\n\\]\nVậy có hai số phức thỏa mãn là $z = 1 + 3i$ và $z = 1 - 3i$.\n\n**Bước 4:** Tính $|z|$:\n\\[\n|1 + 3i| = \\sqrt{1^2 + 3^2} = \\sqrt{10}, \\quad |1 - 3i| = \\sqrt{1^2 + (-3)^2} = \\sqrt{10}\n\\]\n",
         "\n$\\boxed{\\sqrt{10}}$\n"
        ],
        [
         "16",
         "Cho số phức $z = 2m + (m + 2)i, (m \\in R)$. Tìm z biết rằng $z^2$ là một số phức có phần thực bằng -5.",
         "Ta có: $z^2 = 4m^2 + 2m(m + 2)i + [(m + 2)i]^2 = 3m^2 + 2m(m + 2)i - 4m - 4$. Do $z^2$ là số phức có phần thực bằng -5 nên ta có: $3m^2 - 4m - 4 = -5 \\Leftrightarrow 3m^2 - 4m + 1 = 0 \\Leftrightarrow m = 1; m = \\frac{1}{3}$. Vậy có hai số phức thỏa mãn là $z_1 = 2 + 3i$ và $z_2 = \\frac{2}{3} + \\frac{7}{3}i$.",
         "$z = 2 + 3i, z = \\frac{2}{3} + \\frac{7}{3}i$",
         "\nCho số phức $z = 2m + (m + 2)i$ ($m \\in \\mathbb{R}$). Ta cần tìm $z$ sao cho phần thực của $z^2$ bằng $-5$.\n\n**Bước 1:** Tính $z^2$:\n\\[\n\\begin{aligned}\nz^2 &= \\left(2m + (m + 2)i\\right)^2 \\\\\n&= (2m)^2 + 2 \\cdot 2m \\cdot (m + 2)i + \\left((m + 2)i\\right)^2 \\\\\n&= 4m^2 + 4m(m + 2)i - (m + 2)^2.\n\\end{aligned}\n\\]\nPhần thực của $z^2$ là $4m^2 - (m + 2)^2$.\n\n**Bước 2:** Đặt phần thực bằng $-5$:\n\\[\n4m^2 - (m + 2)^2 = -5.\n\\]\nKhai triển và rút gọn:\n\\[\n4m^2 - (m^2 + 4m + 4) = -5 \\implies 3m^2 - 4m - 4 = -5 \\implies 3m^2 - 4m + 1 = 0.\n\\]\n\n**Bước 3:** Giải phương trình bậc hai:\n\\[\n\\Delta = (-4)^2 - 4 \\cdot 3 \\cdot 1 = 4 \\implies m = \\frac{4 \\pm 2}{6} \\implies \\left[\\begin{aligned}\nm &= 1, \\\\\nm &= \\frac{1}{3}.\n\\end{aligned}\\right.\n\\]\n\n**Bước 4:** Tìm $z$ tương ứng:\n- Với $m = 1$: $z = 2(1) + (1 + 2)i = 2 + 3i$.\n- Với $m = \\dfrac{1}{3}$: $z = 2\\left(\\dfrac{1}{3}\\right) + \\left(\\dfrac{1}{3} + 2\\right)i = \\dfrac{2}{3} + \\dfrac{7}{3}i$.\n\n**Kiểm tra:**\n- $z = 2 + 3i$: $z^2 = -5 + 12i$ (thỏa mãn).\n- $z = \\dfrac{2}{3} + \\dfrac{7}{3}i$: $z^2 = -5 + \\dfrac{28}{9}i$ (thỏa mãn).\n",
         "\nCác số phức cần tìm là $\\boxed{2 + 3i}$ và $\\boxed{\\dfrac{2}{3} + \\dfrac{7}{3}i}$.\n"
        ],
        [
         "17",
         "Cho số phức $z = m + (m-1)i$; ($m \\in R$) và số phức $z' = 2n + (2-3n)i$ ($n\\in R$). Tìm m và n biết rằng $z - z' = 1 + 7i$",
         "Ta có: $z - z' = [m + (m - 1).i] - [2n + (2 - 3n).i] = (m - 2n) + (m + 3n - 3). i$. Theo giả thiết $z - z' = 1 + 7i$ nên ta có: $(m - 2n) + (m + 3n - 3).i = 1 + 7i$. Từ đó ta có hệ phương trình sau: $\\begin{cases} m - 2n = 1 \\\\ m + 3n - 3 = 7 \\end{cases} \\Leftrightarrow \\begin{cases} m - 2n = 1 \\\\ m + 3n = 10 \\end{cases} \\Leftrightarrow \\begin{cases} m = \\frac{23}{5} \\\\ n = \\frac{9}{5} \\end{cases}$",
         "$m = \\frac{23}{5}; n = \\frac{9}{5}$",
         "\nCho hai số phức $z = m + (m-1)i$ và $z' = 2n + (2-3n)i$ ($m, n \\in \\mathbb{R}$). Ta có:\n\\[\nz - z' = [m - 2n] + [(m - 1) - (2 - 3n)]i = (m - 2n) + (m + 3n - 3)i\n\\]\nTheo đề bài, $z - z' = 1 + 7i$, nên ta có hệ phương trình:\n\\[\n\\begin{cases}\nm - 2n = 1 & \\text{(phần thực)} \\\\\nm + 3n - 3 = 7 & \\text{(phần ảo)}\n\\end{cases}\n\\]\nGiải hệ phương trình:\n1. Từ phương trình thứ nhất: $m = 1 + 2n$  \n2. Thay vào phương trình thứ hai:  \n\\[\n(1 + 2n) + 3n - 3 = 7 \\implies 5n - 2 = 7 \\implies 5n = 9 \\implies n = \\dfrac{9}{5}\n\\]\n3. Thay $n = \\dfrac{9}{5}$ vào $m = 1 + 2n$:  \n\\[\nm = 1 + 2 \\cdot \\dfrac{9}{5} = \\dfrac{23}{5}\n\\]\nVậy $m = \\dfrac{23}{5}$ và $n = \\dfrac{9}{5}$.\n",
         "\n$m = \\boxed{\\dfrac{23}{5}}$ và $n = \\boxed{\\dfrac{9}{5}}$\n"
        ],
        [
         "18",
         "Tìm số phức $z = x + yi, (x, y \\in R)$ thỏa mãn $z + 3x = 2\\overline{z} - 3i$. Tìm $|z|$",
         "Vì $z + 3x = 2\\overline{z} - 3i \\Leftrightarrow x + yi + 3x = 2(x - yi) - 3i \\Leftrightarrow 4x + yi = 2x - (2y + 3)i \\Leftrightarrow \\begin{cases} 4x = 2x \\\\ y = -2y - 3 \\end{cases} \\Leftrightarrow \\begin{cases} x = 0 \\\\ y = -1 \\end{cases}$. Do đó, số phức thỏa mãn đầu $z = -i$ và $|z| = 1$",
         "1",
         "\nGiả sử $z = x + yi$ với $x, y \\in \\mathbb{R}$. Thay vào phương trình:\n\\[\nz + 3x = 2\\overline{z} - 3i\n\\]\nTa có:\n\\[\n(x + yi) + 3x = 2(x - yi) - 3i \\\\\n\\Leftrightarrow 4x + yi = 2x - 2yi - 3i\n\\]\nTách phần thực và phần ảo:\n\\[\n\\begin{cases}\n4x = 2x \\\\\ny = -2y - 3\n\\end{cases}\n\\]\nGiải hệ phương trình:\n- Từ phương trình thực: $4x = 2x \\Rightarrow x = 0$.\n- Từ phương trình ảo: $y = -2y - 3 \\Rightarrow 3y = -3 \\Rightarrow y = -1$.\n\nVậy $z = 0 - i = -i$. Khi đó:\n\\[\n|z| = \\sqrt{0^2 + (-1)^2} = 1\n\\]\n",
         "\n$\\boxed{1}$\n"
        ],
        [
         "19",
         "Có bao nhiêu số phức z có phần ảo gấp ba lần phần thực, đồng thời $|z| = \\sqrt{10}(z + \\overline{z})$",
         "Gọi số phức cần tìm là $z = a + bi$, ($a, b \\in R$). Do số phức z có phần ảo gấp ba lần phần thực nên b = 3a. $\\Rightarrow$ Số phức cần tìm có dạng: $z = a + 3ai$. Số phức liên hợp của số phức z là: $\\overline{z} = a - 3ai$. Theo giả thiết ta có: $|z| = \\sqrt{10}(z + \\overline{z}) \\Leftrightarrow \\sqrt{a^2 + 9a^2} = \\sqrt{10}(a + 3ai + a - 3ai) \\Leftrightarrow \\sqrt{10a^2} = \\sqrt{20}a \\Leftrightarrow 10a^2 = 20a \\Leftrightarrow \\begin{cases} a = 0 \\\\ a = 2 \\end{cases}$. Với a = 0 thì z = 0. Với a = 2 thì z = 2 + 6i. Vậy có hai số phức thỏa mãn là z = 0 hoặc z = 2 + 6i.",
         "2",
         "\nGọi số phức $z$ có dạng $z = a + bi$ với $a, b \\in \\mathbb{R}$. Theo đề bài:\n- Phần ảo gấp ba lần phần thực: $b = 3a$.\n- Điều kiện $|z| = \\sqrt{10}(z + \\overline{z})$.\n\nThay $b = 3a$ vào $z$, ta được $z = a + 3a i = a(1 + 3i)$.\n\nTính các thành phần:\n- Môđun: $|z| = \\sqrt{a^2 + (3a)^2} = \\sqrt{10a^2} = |a|\\sqrt{10}$.\n- $z + \\overline{z} = (a + 3a i) + (a - 3a i) = 2a$.\n\nThay vào phương trình:\n$$\n|a|\\sqrt{10} = \\sqrt{10} \\cdot 2a \\quad \\Leftrightarrow \\quad |a| = 2a.\n$$\n\nGiải phương trình $|a| = 2a$:\n- Nếu $a \\geq 0$: $a = 2a \\Rightarrow a = 0$.\n- Nếu $a < 0$: $-a = 2a \\Rightarrow 3a = 0 \\Rightarrow a = 0$ (không thỏa $a < 0$).\n\nVậy chỉ có nghiệm $a = 0 \\Rightarrow z = 0$. Do đó, có **1** số phức thỏa mãn.\n",
         "\n\\boxed{1}\n"
        ],
        [
         "20",
         "Trong mặt phẳng Oxy cho điểm A là điểm biểu diễn của số phức $z = 1 + 2i$, B là điểm thuộc đường thẳng y=2 sao cho tam giác OAB cân tại O. Tìm số z biểu diễn B.",
         "Ta có, điểm A biểu diễn số phức $z = 1 + 2i$ nên tọa độ A(1 ; 2). Do điểm B nằm trên đường thẳng y=2 nên tọa độ B(x ; 2) ; (x $\\neq$ 1 ). Để tam giác OAB cân tại O khi và chỉ khi OA = OB. $\\Leftrightarrow \\sqrt{1^2 + 2^2} = \\sqrt{x^2 + 2^2} \\Leftrightarrow x^2 + 4 = 5 \\Leftrightarrow \\begin{cases} x = 1 (l) \\\\ x = -1 \\end{cases}$. Suy ra, tọa độ B (-1 ; 2). Do đó,số phức biểu diễn B là $z = -1 + 2i$.",
         "-1 + 2i",
         "\nTrong mặt phẳng Oxy:\n- Điểm $A$ biểu diễn số phức $z = 1 + 2i$ nên tọa độ $A(1; 2)$.\n- Điểm $B$ thuộc đường thẳng $y = 2$ nên tọa độ $B(x; 2)$.\n\nTam giác $OAB$ cân tại $O$ nên $OA = OB$:\n\\[\nOA = \\sqrt{(1 - 0)^2 + (2 - 0)^2} = \\sqrt{5}\n\\]\n\\[\nOB = \\sqrt{(x - 0)^2 + (2 - 0)^2} = \\sqrt{x^2 + 4}\n\\]\nGiải phương trình $OA = OB$:\n\\[\n\\sqrt{5} = \\sqrt{x^2 + 4} \\implies 5 = x^2 + 4 \\implies x^2 = 1 \\implies x = \\pm 1\n\\]\n- Với $x = 1$, điểm $B(1; 2)$ trùng với $A$ (loại).\n- Với $x = -1$, điểm $B(-1; 2)$ thỏa mãn.\n\nVậy số phức biểu diễn điểm $B$ là $z = -1 + 2i$.\n",
         "\n$z = \\boxed{-1 + 2i}$\n"
        ],
        [
         "21",
         "Cho số phức z thỏa mãn: $(2 + i)z + 2 - i = 0$. Tìm phần thực của số phức.",
         "Ta có: $(2 + i).z + 2 - i = 0 \\Leftrightarrow (2 + i)z = -2 + i \\Leftrightarrow z = \\frac{-2 + i}{2 + i} = \\frac{(-2 + i)(2 - i)}{(2 + i).(2 - i)} \\Leftrightarrow z = \\frac{-4 + 2i + 2i - i^2}{4 - i^2} = \\frac{-3 + 4i}{5}$. Do đó, phần thực của số phức cần tìm là $\\frac{-3}{5}$",
         "$\\frac{-3}{5}$",
         "\nGiải phương trình: $(2 + i)z + 2 - i = 0$\n\n**Bước 1:** Chuyển vế hạng tử tự do:\n$$(2 + i)z = -(2 - i)$$\n\n**Bước 2:** Giải tìm $z$ bằng cách chia cả hai vế cho $(2 + i)$:\n$$z = \\frac{-(2 - i)}{2 + i}$$\n\n**Bước 3:** Nhân tử và mẫu với liên hợp của mẫu $(2 - i)$:\n$$\nz = \\frac{-(2 - i)(2 - i)}{(2 + i)(2 - i)}\n$$\n\n**Bước 4:** Tính toán mẫu số:\n$$\n(2 + i)(2 - i) = 2^2 - i^2 = 4 - (-1) = 5\n$$\n\n**Bước 5:** Khai triển tử số:\n$$\n-(2 - i)(2 - i) = -\\left[4 - 2i - 2i + i^2\\right] = -\\left[4 - 4i -1\\right] = -3 + 4i\n$$\n\n**Bước 6:** Kết hợp kết quả:\n$$\nz = \\frac{-3 + 4i}{5} = -\\frac{3}{5} + \\frac{4}{5}i\n$$\n\n**Kết luận:** Phần thực của số phức $z$ là $-\\dfrac{3}{5}$.\n",
         "\nPhần thực của số phức là $\\boxed{-\\dfrac{3}{5}}$\n"
        ],
        [
         "22",
         "Giải phương trình $iz + 3 - 2i = 1 + i$",
         "Ta có: $iz + 3 - 2i = 1 + i \\Leftrightarrow iz = 1 + i - 3 + 2i \\Leftrightarrow iz = -2 + 3i \\Leftrightarrow z = \\frac{-2 + 3i}{i} = \\frac{2i - 3i^2}{-i^2} = 3 + 2i$",
         "3 + 2i",
         "\nĐể giải phương trình $iz + 3 - 2i = 1 + i$, ta thực hiện các bước sau:\n\n1. **Chuyển vế các hạng tử không chứa $z$**:\n   \\[\n   iz = 1 + i - 3 + 2i = -2 + 3i\n   \\]\n\n2. **Giải phương trình cho $z$** bằng cách nhân cả hai vế với $-i$ (nghịch đảo của $i$):\n   \\[\n   z = (-2 + 3i) \\cdot (-i)\n   \\]\n   \n3. **Thực hiện phép nhân**:\n   \\[\n   z = (-2)(-i) + 3i \\cdot (-i) = 2i - 3i^2\n   \\]\n   Vì $i^2 = -1$, nên:\n   \\[\n   z = 2i - 3(-1) = 3 + 2i\n   \\]\n\n**Kết luận**: Nghiệm của phương trình là $z = 3 + 2i$.\n",
         "\n$z = \\boxed{3 + 2i}$\n"
        ],
        [
         "23",
         "Giải phương trình: $(2 + 4i)z + (4 - 2i)z + 2 - 2i = 0$",
         "Ta có: $(2 + 4i).z + (4 - 2i)z + 2 - 2i = 0 \\Leftrightarrow (2 + 4i + 4 - 2i)z = - 2 + 2i \\Leftrightarrow (6 + 2i). z = - 2 + 2i \\Leftrightarrow z = \\frac{-2 + 2i}{6 + 2i} = \\frac{-1 + i}{3 + i} \\Leftrightarrow z = \\frac{(-1 + i).(3 - i)}{(3 + i)(3 - i)} \\Leftrightarrow z = \\frac{-3 + i + 3i - i^2}{9 - i^2} = \\frac{-2 + 4i}{10} = \\frac{-1 + 2i}{5}$",
         "$\\frac{-1 + 2i}{5}$",
         "\nĐể giải phương trình: $(2 + 4i)z + (4 - 2i)z + 2 - 2i = 0$, ta thực hiện các bước sau:\n\n**Bước 1:** Gộp các số hạng chứa $z$:\n\\[\n(2 + 4i + 4 - 2i)z + 2 - 2i = 0\n\\]\n\\[\n(6 + 2i)z + 2 - 2i = 0\n\\]\n\n**Bước 2:** Chuyển hạng tử tự do sang vế phải:\n\\[\n(6 + 2i)z = - (2 - 2i) = -2 + 2i\n\\]\n\n**Bước 3:** Giải phương trình bằng cách chia cả hai vế cho $(6 + 2i)$:\n\\[\nz = \\frac{-2 + 2i}{6 + 2i}\n\\]\nNhân tử và mẫu với liên hợp của mẫu $(6 - 2i)$:\n\\[\nz = \\frac{(-2 + 2i)(6 - 2i)}{(6 + 2i)(6 - 2i)}\n\\]\n\n**Bước 4:** Tính toán tử số và mẫu số:\n- Mẫu số:\n\\[\n(6 + 2i)(6 - 2i) = 6^2 - (2i)^2 = 36 - 4(-1) = 40\n\\]\n- Tử số:\n\\[\n(-2 + 2i)(6 - 2i) = -12 + 4i + 12i - 4i^2 = -12 + 16i + 4 = -8 + 16i\n\\]\n\n**Bước 5:** Rút gọn kết quả:\n\\[\nz = \\frac{-8 + 16i}{40} = \\frac{-1}{5} + \\frac{2}{5}i = \\frac{-1 + 2i}{5}\n\\]\n\n**Kiểm tra:** Thay $z = \\frac{-1 + 2i}{5}$ vào phương trình ban đầu, ta thấy thỏa mãn.\n",
         "\n$z = \\boxed{-\\dfrac{1}{5} + \\dfrac{2}{5}i}$\n"
        ],
        [
         "24",
         "Giải phương trình $(1 + 2i)z + \\frac{2 + 6i}{1 - i} = 0$",
         "Ta có: $(1 + 2i)z + \\frac{2 + 6i}{1 - i} = 0 \\Leftrightarrow (1 + 2i)z = \\frac{-2 - 6i}{1 - i} \\Leftrightarrow (1 + 2i)z = \\frac{(-2 - 6i).(1 + i)}{(1 - i)(1 + i)} \\Leftrightarrow (1 + 2i)z = \\frac{-2 - 2i - 6i - 6i^2}{2} \\Leftrightarrow (1 + 2i)z = \\frac{4 - 8i}{2} \\Leftrightarrow (1 + 2i)z = -2 + 4i \\Leftrightarrow z = \\frac{-2 + 4i}{1 + 2i} = \\frac{(-2 + 4i)(1 - 2i)}{(1 + 2i)(1 - 2i)} \\Leftrightarrow z = \\frac{-2 + 4i + 4i - 8i^2}{1 - 4i^2} \\Leftrightarrow z = \\frac{6 + 8i}{5}$",
         "$\\frac{6 + 8i}{5}$",
         "\nĐể giải phương trình $(1 + 2i)z + \\frac{2 + 6i}{1 - i} = 0$, ta thực hiện các bước sau:\n\n**Bước 1:** Rút gọn phân số $\\frac{2 + 6i}{1 - i}$ bằng cách nhân tử và mẫu với liên hợp của mẫu:\n\\[\n\\frac{2 + 6i}{1 - i} \\cdot \\frac{1 + i}{1 + i} = \\frac{(2 + 6i)(1 + i)}{(1)^2 - (i)^2} = \\frac{(2 + 6i)(1 + i)}{2}\n\\]\nKhai triển tử số:\n\\[\n(2 + 6i)(1 + i) = 2(1) + 2(i) + 6i(1) + 6i(i) = 2 + 2i + 6i + 6i^2 = 2 + 8i - 6 = -4 + 8i\n\\]\nVậy:\n\\[\n\\frac{-4 + 8i}{2} = -2 + 4i\n\\]\n\n**Bước 2:** Thay vào phương trình ban đầu:\n\\[\n(1 + 2i)z + (-2 + 4i) = 0 \\implies (1 + 2i)z = 2 - 4i\n\\]\n\n**Bước 3:** Giải phương trình cho $z$ bằng cách chia cả hai vế cho $1 + 2i$:\n\\[\nz = \\frac{2 - 4i}{1 + 2i} \\cdot \\frac{1 - 2i}{1 - 2i} = \\frac{(2 - 4i)(1 - 2i)}{(1)^2 - (2i)^2} = \\frac{(2 - 4i)(1 - 2i)}{5}\n\\]\nKhai triển tử số:\n\\[\n(2 - 4i)(1 - 2i) = 2(1) + 2(-2i) - 4i(1) + (-4i)(-2i) = 2 - 4i - 4i + 8i^2 = 2 - 8i - 8 = -6 - 8i\n\\]\nVậy:\n\\[\nz = \\frac{-6 - 8i}{5} = -\\frac{6}{5} - \\frac{8}{5}i\n\\]\n",
         "\n$z = -\\dfrac{6}{5} - \\dfrac{8}{5}i$\n"
        ],
        [
         "25",
         "Giải phương trình bậc hai sau: $z^2 - z + 1 = 0$",
         "Ta có: a = 1 ; b = -1 ; c = 1 nên $\\Delta = b^2 - 4ac = -3 < 0$. Phương trình có hai nghiệm phức phân biệt là $x_{1,2} = \\frac{1 \\pm i\\sqrt{3}}{2}$",
         "$\\frac{1 \\pm i\\sqrt{3}}{2}$",
         "\nPhương trình bậc hai $z^2 - z + 1 = 0$ có các hệ số:\n\\[\na = 1,\\quad b = -1,\\quad c = 1\n\\]\nTính biệt thức $\\Delta$:\n\\[\n\\Delta = b^2 - 4ac = (-1)^2 - 4 \\cdot 1 \\cdot 1 = 1 - 4 = -3\n\\]\nVì $\\Delta < 0$, phương trình có hai nghiệm phức:\n\\[\nz = \\frac{-b \\pm \\sqrt{\\Delta}}{2a} = \\frac{1 \\pm \\sqrt{-3}}{2} = \\frac{1 \\pm i\\sqrt{3}}{2}\n\\]\n",
         "\nCác nghiệm của phương trình là:\n\\[\n\\boxed{\\frac{1 + i\\sqrt{3}}{2}} \\quad \\text{và} \\quad \\boxed{\\frac{1 - i\\sqrt{3}}{2}}\n\\]\n"
        ],
        [
         "26",
         "Trong C , nghiệm của phương trình $z^2 + \\sqrt{5} = 0$ là:",
         "$z^2 + \\sqrt{5} = 0 \\Leftrightarrow z^2 = -\\sqrt{5} \\Leftrightarrow z^2 = i^2\\sqrt{5} \\Leftrightarrow z = \\pm i^4\\sqrt{5}$",
         "$\\pm i^4\\sqrt{5}$",
         "\nPhương trình: $z^2 + \\sqrt{5} = 0$  \n$\\Leftrightarrow z^2 = -\\sqrt{5}$  \n$\\Leftrightarrow z = \\pm \\sqrt{-\\sqrt{5}}$  \n$\\Leftrightarrow z = \\pm \\sqrt{\\sqrt{5}} \\cdot i$  \n$\\Leftrightarrow z = \\pm 5^{1/4}i$  \n",
         "\nCác nghiệm của phương trình là $\\boxed{ \\pm \\sqrt[4]{5}i }$\n"
        ],
        [
         "27",
         "Trong C , nghiệm của phương trình $z^3 - 8 = 0$ là:",
         "Sử dụng hằng đẳng thức số 7, ta có: $z^3 - 8 = 0 \\Leftrightarrow (z - 2)(z^2 + 2z + 4) = 0 \\Leftrightarrow \\begin{bmatrix} z = 2 \\\\ z^2 + 2z + 4 = 0 \\end{bmatrix} \\Leftrightarrow \\begin{bmatrix} z = 2 \\\\ (z + 1)^2 = -3 \\end{bmatrix} \\Leftrightarrow \\begin{bmatrix} z = 2 \\\\ z + 1 = \\sqrt{3}i \\\\ z + 1 = -\\sqrt{3}i \\end{bmatrix} \\Leftrightarrow \\begin{bmatrix} z = 2 \\\\ z = -1 + \\sqrt{3}i \\\\ z = -1 - \\sqrt{3}i \\end{bmatrix}$. Vậy phương trình đã cho có 3 nghiệm phân biệt.",
         "$\\begin{bmatrix} z = 2 \\\\ z = -1 + \\sqrt{3}i \\\\ z = -1 - \\sqrt{3}i \\end{bmatrix}$",
         "\nPhương trình $z^3 - 8 = 0$ tương đương với $z^3 = 8$.  \nTa cần tìm các căn bậc ba của 8 trong tập số phức.  \nBiểu diễn 8 dưới dạng lượng giác:  \n$8 = 8(\\cos 0 + i \\sin 0)$.  \n\nTheo công thức De Moivre, các căn bậc ba của 8 có dạng:  \n$$\nz_k = \\sqrt[3]{8} \\left( \\cos \\frac{0 + 2k\\pi}{3} + i \\sin \\frac{0 + 2k\\pi}{3} \\right) \\quad (k = 0, 1, 2)\n$$\n\nTính toán từng nghiệm:  \n- Với $k = 0$:  \n  $z_0 = 2 \\left( \\cos 0 + i \\sin 0 \\right) = 2$.  \n- Với $k = 1$:  \n  $z_1 = 2 \\left( \\cos \\frac{2\\pi}{3} + i \\sin \\frac{2\\pi}{3} \\right) = 2 \\left( -\\frac{1}{2} + i \\frac{\\sqrt{3}}{2} \\right) = -1 + i\\sqrt{3}$.  \n- Với $k = 2$:  \n  $z_2 = 2 \\left( \\cos \\frac{4\\pi}{3} + i \\sin \\frac{4\\pi}{3} \\right) = 2 \\left( -\\frac{1}{2} - i \\frac{\\sqrt{3}}{2} \\right) = -1 - i\\sqrt{3}$.  \n\n**Cách khác:** Phân tích thành nhân tử:  \n$z^3 - 8 = (z - 2)(z^2 + 2z + 4)$.  \nGiải phương trình bậc hai $z^2 + 2z + 4 = 0$ bằng công thức nghiệm:  \n$$\nz = \\frac{-2 \\pm \\sqrt{(2)^2 - 4 \\cdot 1 \\cdot 4}}{2} = \\frac{-2 \\pm \\sqrt{-12}}{2} = -1 \\pm i\\sqrt{3}.\n$$\n",
         "\nCác nghiệm của phương trình là:  \n$\\boxed{2}$, $\\boxed{-1 + i\\sqrt{3}}$, và $\\boxed{-1 - i\\sqrt{3}}$\n"
        ],
        [
         "28",
         "Trong C , phương trình $z^2 + 3iz + 4 = 0$ có nghiệm là:",
         "Ta có : a = 1 ; b = i ; c = 4 nên : $\\Delta = b^2 - 4ac = (3i)^2 - 4.1.4 = -25 < 0$. Phương trình có hai nghiệm phức là: $z_1 = \\frac{-3i + 5i}{2} = i$ và $z_2 = \\frac{-3i - 5i}{2} = -4i$",
         "$\\begin{bmatrix} z = i \\\\ z = -4i \\end{bmatrix}$",
         "\nGiải phương trình bậc hai trong tập số phức $z^2 + 3iz + 4 = 0$:\n\n1. **Xác định hệ số:**  \n   $a = 1$, $b = 3i$, $c = 4$.\n\n2. **Tính biệt thức $\\Delta$:**  \n   \\[\n   \\Delta = b^2 - 4ac = (3i)^2 - 4 \\cdot 1 \\cdot 4 = 9i^2 - 16 = -9 - 16 = -25\n   \\]\n\n3. **Tính căn bậc hai của $\\Delta$:**  \n   \\[\n   \\sqrt{\\Delta} = \\sqrt{-25} = 5i\n   \\]\n\n4. **Áp dụng công thức nghiệm:**  \n   \\[\n   z = \\frac{-b \\pm \\sqrt{\\Delta}}{2a} = \\frac{-3i \\pm 5i}{2}\n   \\]\n   - **Nghiệm thứ nhất:**  \n     \\[\n     z_1 = \\frac{-3i + 5i}{2} = \\frac{2i}{2} = i\n     \\]\n   - **Nghiệm thứ hai:**  \n     \\[\n     z_2 = \\frac{-3i - 5i}{2} = \\frac{-8i}{2} = -4i\n     \\]\n\n5. **Kiểm tra nghiệm:**  \n   - Với $z = i$:  \n     \\[\n     i^2 + 3i \\cdot i + 4 = -1 - 3 + 4 = 0\n     \\]\n   - Với $z = -4i$:  \n     \\[\n     (-4i)^2 + 3i \\cdot (-4i) + 4 = -16 + 12 + 4 = 0\n     \\]\n",
         "\nCác nghiệm của phương trình là $\\boxed{i}$ và $\\boxed{-4i}$.\n"
        ],
        [
         "29",
         "Cho z = 1 - i. Tìm căn bậc hai dạng lượng giác của z:",
         "Ta có $z = 1 - i = \\sqrt{2} \\begin{bmatrix} cos(-\\frac{\\pi}{4}) + i sin(-\\frac{\\pi}{4}) \\end{bmatrix}$ có các căn bậc hai là: $w_1 = ^4\\sqrt{2}(cos(\\frac{7\\pi}{8}) + i sin(\\frac{7\\pi}{8})) ; w_2 = ^4\\sqrt{2}(cos(-\\frac{\\pi}{8}) + i sin(-\\frac{-\\pi}{8}))$",
         "$^4\\sqrt{2}(cos(\\frac{7\\pi}{8}) + i sin(\\frac{7\\pi}{8})) ; ^4\\sqrt{2}(cos(-\\frac{\\pi}{8}) + i sin(-\\frac{-\\pi}{8}))$",
         "\nĐể tìm căn bậc hai dạng lượng giác của $z = 1 - i$, ta thực hiện các bước sau:\n\n1. **Biểu diễn $z$ dưới dạng lượng giác:**\n   - Modulus của $z$ là:\n     \\[\n     r = |z| = \\sqrt{1^2 + (-1)^2} = \\sqrt{2}\n     \\]\n   - Argument của $z$ là:\n     \\[\n     \\theta = -\\frac{\\pi}{4} \\quad (\\text{vì } z \\text{ nằm ở góc phần tư thứ IV})\n     \\]\n   - Dạng lượng giác của $z$:\n     \\[\n     z = \\sqrt{2} \\left[ \\cos\\left(-\\frac{\\pi}{4}\\right) + i \\sin\\left(-\\frac{\\pi}{4}\\right) \\right]\n     \\]\n\n2. **Tìm căn bậc hai dạng lượng giác:**\n   - Căn bậc hai của $z$ có modulus là $\\sqrt[4]{2}$ và argument là $\\frac{\\theta + 2k\\pi}{2}$ với $k = 0, 1$.\n   - Với $k = 0$:\n     \\[\n     \\alpha_0 = \\frac{-\\frac{\\pi}{4} + 2 \\cdot 0}{2} = -\\frac{\\pi}{8}\n     \\]\n     Tuy nhiên, ta biểu diễn góc dương tương đương:\n     \\[\n     -\\frac{\\pi}{8} + 2\\pi = \\frac{15\\pi}{8}\n     \\]\n   - Với $k = 1$:\n     \\[\n     \\alpha_1 = \\frac{-\\frac{\\pi}{4} + 2\\pi}{2} = \\frac{7\\pi}{8}\n     \\]\n   - Kết quả hai căn bậc hai dạng lượng giác của $z$:\n     \\[\n     \\sqrt[4]{2} \\left[ \\cos\\left(\\frac{7\\pi}{8}\\right) + i \\sin\\left(\\frac{7\\pi}{8}\\right) \\right]\n     \\]\n     và\n     \\[\n     \\sqrt[4]{2} \\left[ \\cos\\left(\\frac{15\\pi}{8}\\right) + i \\sin\\left(\\frac{15\\pi}{8}\\right) \\right]\n     \\]\n",
         "\nCác căn bậc hai dạng lượng giác của $z = 1 - i$ là:\n\\[\n\\boxed{\\sqrt[4]{2} \\left( \\cos \\frac{7\\pi}{8} + i \\sin \\frac{7\\pi}{8} \\right)} \\quad \\text{và} \\quad \\boxed{\\sqrt[4]{2} \\left( \\cos \\frac{15\\pi}{8} + i \\sin \\frac{15\\pi}{8} \\right)}\n\\]\n"
        ],
        [
         "30",
         "Tìm các căn bậc hai của $w = -5 + 12i$.",
         "Gọi $z = x + yi$ là một căn bậc hai của số phức $w = -5 + 12i$. Ta có $z^2 = w <=>$ $(x + yi)^2 = -5 + 12i$ $<=> \\begin{cases} x^2 - y^2 = -5 \\\\ 2xy = 12 \\end{cases} <=> \\begin{cases} x^2 = 4 \\\\ y = \\frac{6}{x} \\end{cases} <=> \\begin{cases} x = 2 \\\\ y = 3 \\end{cases} \\\\  \\begin{cases} x = -2 \\\\ y = -3 \\end{cases}$ Vậy số phức w có hai căn bậc hai là $2 + 3i$ và $-2 - 3i$.",
         "$2 + 3i$ và $-2 - 3i$",
         "\nGiả sử căn bậc hai của $w = -5 + 12i$ là số phức $z = a + bi$ ($a, b \\in \\mathbb{R}$). Khi đó:\n\\[\nz^2 = (a + bi)^2 = (a^2 - b^2) + 2abi = -5 + 12i\n\\]\nĐồng nhất phần thực và phần ảo, ta có hệ phương trình:\n\\[\n\\begin{cases}\na^2 - b^2 = -5 \\\\\n2ab = 12\n\\end{cases}\n\\]\nTừ phương trình thứ hai: $ab = 6 \\Rightarrow b = \\dfrac{6}{a}$. Thay vào phương trình đầu:\n\\[\na^2 - \\left(\\dfrac{6}{a}\\right)^2 = -5 \\Leftrightarrow a^4 + 5a^2 - 36 = 0\n\\]\nĐặt $t = a^2 \\geq 0$, phương trình trở thành:\n\\[\nt^2 + 5t - 36 = 0 \\Rightarrow t = \\dfrac{-5 \\pm \\sqrt{25 + 144}}{2} = \\dfrac{-5 \\pm 13}{2}\n\\]\nNhận nghiệm $t = 4$ (do $t \\geq 0$), suy ra $a^2 = 4 \\Rightarrow a = \\pm 2$.\n\n- Với $a = 2 \\Rightarrow b = \\dfrac{6}{2} = 3$.\n- Với $a = -2 \\Rightarrow b = \\dfrac{6}{-2} = -3$.\n\nVậy các căn bậc hai của $w$ là $2 + 3i$ và $-2 - 3i$.\n",
         "\nCác căn bậc hai của $w = -5 + 12i$ là $\\boxed{2 + 3i}$ và $\\boxed{-2 - 3i}$.\n"
        ],
        [
         "31",
         "Khai căn bậc hai số phức $z = -3 + 4i$ có kết quả:",
         "Giả sử $w = x + yi$ là một căn bậc hai của số phức $z = -3 + 4i$. Ta có: $w^2 = z <=> (x + yi)^2 = -3 + 4i$ $<=> \\begin{cases} x^2 - y^2 = -3 \\\\ 2xy = 4 \\end{cases} <=> \\begin{cases} x^2 = 1 \\\\ y = \\frac{2}{x} \\end{cases} <=> \\begin{cases} x = 1 \\\\ y = 2 \\end{cases} \\\\  \\begin{cases} x = -1 \\\\ y = -2 \\end{cases}$ Do đó z có hai căn bậc hai là: $z_1 = 1 + 2i$ và $z_2 = -1 - 2i$",
         "$z_1 = 1 + 2i$ và $z_2 = -1 - 2i$",
         "\nGiả sử căn bậc hai của số phức $z = -3 + 4i$ có dạng $a + bi$ ($a, b \\in \\mathbb{R}$). Khi đó:\n\\[\n(a + bi)^2 = -3 + 4i\n\\]\nKhai triển vế trái:\n\\[\na^2 - b^2 + 2abi = -3 + 4i\n\\]\nĐồng nhất phần thực và phần ảo, ta có hệ phương trình:\n\\[\n\\begin{cases}\na^2 - b^2 = -3 \\quad (1) \\\\\n2ab = 4 \\quad (2)\n\\end{cases}\n\\]\nTừ phương trình (2): $ab = 2 \\Rightarrow b = \\dfrac{2}{a}$ (với $a \\neq 0$). Thay vào phương trình (1):\n\\[\na^2 - \\left(\\dfrac{2}{a}\\right)^2 = -3 \\Leftrightarrow a^4 + 3a^2 - 4 = 0\n\\]\nĐặt $x = a^2$ ($x \\geq 0$), phương trình trở thành:\n\\[\nx^2 + 3x - 4 = 0 \\Leftrightarrow x = 1 \\text{ (nhận) hoặc } x = -4 \\text{ (loại)}\n\\]\nSuy ra $a^2 = 1 \\Rightarrow a = \\pm 1$. Thay vào $b = \\dfrac{2}{a}$:\n\\[\n\\begin{cases}\na = 1 \\Rightarrow b = 2 \\\\\na = -1 \\Rightarrow b = -2\n\\end{cases}\n\\]\nVậy căn bậc hai của $z$ là $1 + 2i$ và $-1 - 2i$.\n",
         "\nCác căn bậc hai của số phức $z = -3 + 4i$ là $\\boxed{1 + 2i}$ và $\\boxed{-1 - 2i}$.\n"
        ],
        [
         "32",
         "Tính căn bậc hai của số phức $z = 8 + 6i$ ra kết quả:",
         "Giả sử $w = x + yi$ là một căn bậc hai của số phức $z = 8 + 6i$. $w^2 = z <=> (x + yi)^2 = 8 + 6i <=> \\begin{cases} x^2 - y^2 = 8 \\\\ 2xy = 6 \\end{cases} <=> \\begin{cases} x^2 = 9 \\\\ y = \\frac{3}{x} \\end{cases} <=> \\begin{cases} x = 3 \\\\ y = 1 \\end{cases} \\\\  \\begin{cases} x = -3 \\\\ y = -1 \\end{cases}$ Ta có: Do đó z có hai căn bậc hai là: $\\begin{bmatrix} z_1 = 3 + i \\\\ z_2 = -3 - i \\end{bmatrix}$",
         "$\\begin{bmatrix} z_1 = 3 + i \\\\ z_2 = -3 - i \\end{bmatrix}$",
         "\nGiả sử căn bậc hai của số phức $z = 8 + 6i$ là $w = a + bi$ ($a, b \\in \\mathbb{R}$). Khi đó:\n\\[\nw^2 = z \\Leftrightarrow (a + bi)^2 = 8 + 6i\n\\]\nKhai triển và đồng nhất phần thực, phần ảo:\n\\[\n\\begin{cases}\na^2 - b^2 = 8 \\quad (1) \\\\\n2ab = 6 \\quad \\quad \\quad (2)\n\\end{cases}\n\\]\nTừ (2) suy ra $ab = 3 \\Rightarrow b = \\dfrac{3}{a}$. Thay vào (1):\n\\[\na^2 - \\left(\\dfrac{3}{a}\\right)^2 = 8 \\Leftrightarrow a^4 - 8a^2 - 9 = 0\n\\]\nĐặt $t = a^2$ ($t \\geq 0$), phương trình trở thành:\n\\[\nt^2 - 8t - 9 = 0 \\Rightarrow t = \\dfrac{8 \\pm \\sqrt{100}}{2} = 9 \\text{ hoặc } -1 \\quad (\\text{loại } t = -1)\n\\]\nSuy ra $a^2 = 9 \\Rightarrow a = \\pm 3$. Khi đó:\n- Với $a = 3 \\Rightarrow b = \\dfrac{3}{3} = 1$\n- Với $a = -3 \\Rightarrow b = \\dfrac{3}{-3} = -1$\n\nVậy căn bậc hai của $z$ là:\n\\[\n\\boxed{3 + i} \\quad \\text{và} \\quad \\boxed{-3 - i}\n\\]\n",
         "\nCác căn bậc hai của $8 + 6i$ là $\\boxed{3 + i}$ và $\\boxed{-3 - i}$.\n"
        ],
        [
         "33",
         "Cho z = 3 + 4i. Tìm căn bậc hai của z.",
         "Giả sử $w = x + yi$ là một căn bậc hai của số phức $z = 3 + 4i$. Ta có: $w^2 = z <=> (x + yi)^2 = 3 + 4i <=> \\begin{cases} x^2 - y^2 = 3 \\\\ 2xy = 4 \\end{cases} <=> \\begin{cases} x^2 = 4 \\\\ y = \\frac{2}{x} \\end{cases} <=> \\begin{cases} x = 2 \\\\ y = 1 \\end{cases} \\\\  \\begin{cases} x = -2 \\\\ y = -1 \\end{cases}$ Do đó z có hai căn bậc hai là $\\begin{bmatrix} z = 2 + i \\\\ z = -2 - i \\end{bmatrix}$",
         "$\\begin{bmatrix} z = 2 + i \\\\ z = -2 - i \\end{bmatrix}$",
         "\nGiả sử căn bậc hai của $z = 3 + 4i$ có dạng $w = a + bi$ ($a, b \\in \\mathbb{R}$). Khi đó:\n$$\nw^2 = z \\Leftrightarrow (a + bi)^2 = 3 + 4i\n$$\nKhai triển vế trái:\n$$\na^2 + 2abi + (bi)^2 = a^2 - b^2 + 2abi\n$$\nĐồng nhất phần thực và phần ảo với $z$, ta có hệ phương trình:\n\\[\n\\begin{cases}\na^2 - b^2 = 3 \\quad (1) \\\\\n2ab = 4 \\quad \\quad \\quad (2)\n\\end{cases}\n\\]\nTừ phương trình (2): $ab = 2 \\Rightarrow b = \\dfrac{2}{a}$ (với $a \\neq 0$). Thay vào (1):\n\\[\na^2 - \\left(\\dfrac{2}{a}\\right)^2 = 3 \\Leftrightarrow a^2 - \\dfrac{4}{a^2} = 3\n\\]\nNhân hai vế với $a^2$:\n\\[\na^4 - 3a^2 - 4 = 0\n\\]\nĐặt $x = a^2$ ($x \\geq 0$), phương trình trở thành:\n\\[\nx^2 - 3x - 4 = 0 \\Leftrightarrow x = \\dfrac{3 \\pm \\sqrt{25}}{2} \\Leftrightarrow \\left[\\begin{aligned}\nx &= 4 \\\\\nx &= -1 \\quad (\\text{loại})\n\\end{aligned}\\right.\n\\]\nSuy ra $a^2 = 4 \\Rightarrow a = 2$ hoặc $a = -2$.\n\n- Với $a = 2$: $b = \\dfrac{2}{2} = 1$\n- Với $a = -2$: $b = \\dfrac{2}{-2} = -1$\n\nVậy căn bậc hai của $z$ là $\\boxed{2 + i}$ và $\\boxed{-2 - i}$.\n",
         "\nCác căn bậc hai của $z = 3 + 4i$ là $\\boxed{2 + i}$ và $\\boxed{-2 - i}$.\n"
        ],
        [
         "34",
         "Căn bậc hai của số phức 4 + 6$\\sqrt{5}$i là:",
         "Giả sử w là một căn bậc hai của 4 + 6$\\sqrt{5}$i. Ta có: $w^2 = 4 + 6\\sqrt{5}i <=> w^2 = (3 + \\sqrt{5}i)^2 => w = \\pm (3 + \\sqrt{5}i).$",
         "$\\pm (3 + \\sqrt{5}i)$",
         "\nGiả sử căn bậc hai của số phức $4 + 6\\sqrt{5}i$ là $z = x + yi$ ($x, y \\in \\mathbb{R}$). Khi đó:\n\\[\nz^2 = (x + yi)^2 = x^2 - y^2 + 2xyi = 4 + 6\\sqrt{5}i\n\\]\nĐồng nhất phần thực và phần ảo, ta có hệ phương trình:\n\\[\n\\begin{cases}\nx^2 - y^2 = 4 \\\\\n2xy = 6\\sqrt{5}\n\\end{cases}\n\\]\nTừ phương trình thứ hai, suy ra $xy = 3\\sqrt{5}$. Thay $y = \\dfrac{3\\sqrt{5}}{x}$ vào phương trình đầu:\n\\[\nx^2 - \\left(\\dfrac{3\\sqrt{5}}{x}\\right)^2 = 4 \\implies x^2 - \\dfrac{45}{x^2} = 4\n\\]\nNhân hai vế với $x^2$:\n\\[\nx^4 - 4x^2 - 45 = 0\n\\]\nĐặt $t = x^2 \\geq 0$, phương trình trở thành:\n\\[\nt^2 - 4t - 45 = 0 \\implies t = \\dfrac{4 \\pm \\sqrt{196}}{2} = \\dfrac{4 \\pm 14}{2}\n\\]\nSuy ra $t = 9$ (vì $t \\geq 0$). Do đó:\n\\[\nx^2 = 9 \\implies x = 3 \\text{ hoặc } x = -3\n\\]\n- Với $x = 3$: $y = \\dfrac{3\\sqrt{5}}{3} = \\sqrt{5}$\n- Với $x = -3$: $y = \\dfrac{3\\sqrt{5}}{-3} = -\\sqrt{5}$\n\nVậy các căn bậc hai của $4 + 6\\sqrt{5}i$ là:\n\\[\n\\boxed{3 + \\sqrt{5}i} \\quad \\text{và} \\quad \\boxed{-3 - \\sqrt{5}i}\n\\]\n",
         "\nCác căn bậc hai của số phức là $\\boxed{3 + \\sqrt{5}i}$ và $\\boxed{-3 - \\sqrt{5}i}$.\n"
        ],
        [
         "35",
         "Gọi z là căn bậc hai có phần ảo âm của 33 - 56i . Phần thực của z là:",
         "Ta có: 33 - 56i = (7 - 4i)^2 => z = 7 - 4i Do đó phần thực của z là 7.",
         "7",
         "\nGiả sử $z = a + bi$ (với $a, b \\in \\mathbb{R}$) là căn bậc hai có phần ảo âm của $33 - 56i$. Khi đó:\n\\[\nz^2 = (a + bi)^2 = a^2 - b^2 + 2abi = 33 - 56i\n\\]\nĐồng nhất phần thực và phần ảo, ta có hệ phương trình:\n\\[\n\\begin{cases}\na^2 - b^2 = 33 \\quad (1) \\\\\n2ab = -56 \\quad (2)\n\\end{cases}\n\\]\nTừ phương trình (2), suy ra $ab = -28$. Vì phần ảo của $z$ âm nên $b < 0$. Thay $b = -\\dfrac{28}{a}$ vào phương trình (1):\n\\[\na^2 - \\left(-\\dfrac{28}{a}\\right)^2 = 33 \\implies a^2 - \\dfrac{784}{a^2} = 33\n\\]\nNhân hai vế với $a^2$:\n\\[\na^4 - 33a^2 - 784 = 0\n\\]\nĐặt $x = a^2$ ($x > 0$), phương trình trở thành:\n\\[\nx^2 - 33x - 784 = 0 \\implies x = \\dfrac{33 \\pm \\sqrt{33^2 + 4 \\cdot 784}}{2} = \\dfrac{33 \\pm 65}{2}\n\\]\nSuy ra $x = 49$ (vì $x = -16$ loại). Do đó:\n\\[\na^2 = 49 \\implies a = \\pm 7\n\\]\nVới $a = 7 \\implies b = -\\dfrac{28}{7} = -4$ (thỏa $b < 0$).  \nVới $a = -7 \\implies b = 4$ (không thỏa $b < 0$).  \nVậy phần thực của $z$ là $7$.\n",
         "\n$\\boxed{7}$\n"
        ],
        [
         "36",
         "Trong C , căn bậc hai của -121 là:",
         "Ta có: z = -121 nên z = (11i)^2. Do đó z có hai căn bậc hai là z = 11i và z = -11i",
         "11i và -11i",
         "\nTrong tập số phức $\\mathbb{C}$, căn bậc hai của $-121$ được tìm như sau:\n\nTa có:\n\\[\n\\sqrt{-121} = \\sqrt{121 \\cdot (-1)} = \\sqrt{121} \\cdot \\sqrt{-1} = 11i \\quad \\text{hoặc} \\quad -11i\n\\]\n(vì $(11i)^2 = 11^2 \\cdot i^2 = 121 \\cdot (-1) = -121$ và tương tự với $(-11i)^2$).\n\nVậy căn bậc hai của $-121$ trong $\\mathbb{C}$ là $11i$ và $-11i$.\n",
         "\n$\\boxed{\\pm 11i}$\n"
        ],
        [
         "37",
         "Tìm các căn bậc hai của -9.",
         "Ta có -9 = 9i^2 nên -9 có các căn bậc hai là 3i và -3i.",
         "3i và -3i",
         "\nĐể tìm các căn bậc hai của $-9$, ta xét số phức $z = a + bi$ ($a, b \\in \\mathbb{R}$) sao cho:\n\\[\nz^2 = -9\n\\]\nKhai triển $z^2$:\n\\[\n(a + bi)^2 = a^2 + 2abi + (bi)^2 = (a^2 - b^2) + 2abi\n\\]\nĐồng nhất phần thực và phần ảo với $-9 = -9 + 0i$, ta có hệ phương trình:\n\\[\n\\begin{cases}\na^2 - b^2 = -9 \\quad \\text{(phần thực)} \\\\\n2ab = 0 \\quad \\text{(phần ảo)}\n\\end{cases}\n\\]\nTừ phương trình thứ hai:\n- Nếu $a = 0$, thay vào phương trình đầu: $-b^2 = -9 \\Rightarrow b^2 = 9 \\Rightarrow b = \\pm 3$.\n- Nếu $b = 0$, thay vào phương trình đầu: $a^2 = -9$ (vô nghiệm vì $a$ là số thực).\n\nVậy các căn bậc hai của $-9$ là:\n\\[\n3i \\quad \\text{và} \\quad -3i\n\\]\n",
         "\nCác căn bậc hai của $-9$ là $\\boxed{3i}$ và $\\boxed{-3i}$.\n"
        ],
        [
         "38",
         "Viết số phức $z = 6 + 6i$ dưới dạng lượng giác?",
         "Ta có: $|z| = r = \\sqrt{6^2 + 6^2} = 6\\sqrt{2}$. Chọn $\\varphi$ là số thực thỏa mãn \\sqrt{6^2 + 6^2} $\\Rightarrow \\varphi = \\frac{\\pi}{4}$. Do đó, dạng lượng giác của số phức z là: $z = 6\\sqrt{2}(cos\\frac{\\pi}{4} + i.sin\\frac{\\pi}{4})$",
         "$z = 6\\sqrt{2}(cos\\frac{\\pi}{4} + i.sin\\frac{\\pi}{4})$",
         "\nĐể viết số phức $z = 6 + 6i$ dưới dạng lượng giác, ta thực hiện các bước sau:\n\n1. **Tính môđun của số phức:**\n   \\[\n   r = \\sqrt{6^2 + 6^2} = \\sqrt{36 + 36} = \\sqrt{72} = 6\\sqrt{2}\n   \\]\n\n2. **Xác định argument (góc) φ:**\n   \\[\n   \\tan \\phi = \\frac{6}{6} = 1 \\implies \\phi = \\arctan(1) = \\frac{\\pi}{4}\n   \\]\n   (Vì $z$ nằm ở góc phần tư thứ nhất)\n\n3. **Viết dạng lượng giác:**\n   \\[\n   z = r \\left( \\cos \\phi + i \\sin \\phi \\right)\n   \\]\n",
         "\n$z = 6\\sqrt{2} \\left( \\cos \\dfrac{\\pi}{4} + i \\sin \\dfrac{\\pi}{4} \\right)$\n"
        ],
        [
         "39",
         "Viết số 10 dưới dạng lượng giác?",
         "Ta có: Số 10 có mô đun là 10 và có một acgumen bằng 0 nên nó có dạng lượng giác là: $10.(cos0 + i.sin0).$",
         "$10.(cos0 + i.sin0)$",
         "\nĐể viết số $10$ dưới dạng lượng giác, ta biểu diễn nó như một số phức có dạng $z = r(\\cos \\phi + i \\sin \\phi)$.\n\n**Bước 1:** Xác định mô-đun $r$:\n\\[\nr = |10| = 10\n\\]\n\n**Bước 2:** Xác định góc $\\phi$ (argument):\nVì số $10$ nằm trên trục thực dương trong mặt phẳng phức, góc $\\phi$ tạo với trục Ox là $0$ radian:\n\\[\n\\phi = 0\n\\]\n\n**Kết luận:** Số $10$ được viết dưới dạng lượng giác là:\n\\[\n10 \\left( \\cos 0 + i \\sin 0 \\right)\n\\]\n",
         "\n$10 \\left( \\cos 0 + i \\sin 0 \\right)$\n"
        ],
        [
         "40",
         "Viết $-\\frac{\\sqrt{3}}{2}$ dưới dạng lượng giác.",
         "Số $-\\frac{\\sqrt{3}}{2}$ có mô đun là $\\frac{\\sqrt{3}}{2}$, có một acgumen là $\\pi$ nên số đó có dạng lượng giác là: $-\\frac{\\sqrt{3}}{2} = \\frac{\\sqrt{3}}{2}(cos\\pi + i.sin\\pi)$",
         "$-\\frac{\\sqrt{3}}{2} = \\frac{\\sqrt{3}}{2}(cos\\pi + i.sin\\pi)$",
         "\nĐể viết số $-\\dfrac{\\sqrt{3}}{2}$ dưới dạng lượng giác, ta xem nó như một số phức trên trục thực. Khi đó:\n\n- **Môđun** của số phức là:  \n  \\[\n  r = \\left| -\\dfrac{\\sqrt{3}}{2} \\right| = \\dfrac{\\sqrt{3}}{2}\n  \\]\n\n- **Argument** (góc) được xác định bởi vị trí của số trên trục thực âm, tương ứng với góc $\\pi$ (180°).  \n\nVậy dạng lượng giác của $-\\dfrac{\\sqrt{3}}{2}$ là:  \n\\[\n\\dfrac{\\sqrt{3}}{2} \\left( \\cos \\pi + i \\sin \\pi \\right)\n\\]\n",
         "\n$-\\dfrac{\\sqrt{3}}{2} = \\boxed{\\dfrac{\\sqrt{3}}{2} \\left( \\cos \\pi + i \\sin \\pi \\right)}$\n"
        ],
        [
         "41",
         "Viết số phức $z = \\frac{1}{2 + 2i}$ dưới dạng lượng giác?",
         "Ta có : $z = \\frac{1}{2 + 2i} = \\frac{1}{2(1 + i)} = \\frac{1 - i}{2(1 + i)(1 - i)} = \\frac{1 - i}{4} = \\frac{1}{4} - \\frac{i}{4}$. Ta có $|z| = \\sqrt{(\\frac{1}{4})^2 + (\\frac{-1}{4})^2} = \\frac{\\sqrt{2}}{4}$. Một acgumen là $\\varphi$ thỏa mãn: $cos\\varphi = \\frac{1}{\\sqrt{2}}$; $sin\\varphi = \\frac{-1}{\\sqrt{2}} => \\varphi = -\\frac{\\pi}{4}$. Do đó ,dạng lượng giác của số phức z là: $z = \\frac{1}{2 + 2i} = \\frac{\\sqrt{2}}{4}[cos(-\\frac{\\pi}{4}) + i sin(-\\frac{\\pi}{4})].$",
         "$z = \\frac{1}{2 + 2i} = \\frac{\\sqrt{2}}{4}[cos(-\\frac{\\pi}{4}) + i sin(-\\frac{\\pi}{4})].$",
         "\nĐể viết số phức $z = \\frac{1}{2 + 2i}$ dưới dạng lượng giác, ta thực hiện các bước sau:\n\n**Bước 1:** Rút gọn $z$ về dạng đại số:\n\\[\nz = \\frac{1}{2 + 2i} \\cdot \\frac{2 - 2i}{2 - 2i} = \\frac{2 - 2i}{(2)^2 + (2)^2} = \\frac{2 - 2i}{8} = \\frac{1 - i}{4} = \\frac{1}{4} - \\frac{1}{4}i.\n\\]\n\n**Bước 2:** Tính môđun $r$ của $z$:\n\\[\nr = \\sqrt{\\left(\\frac{1}{4}\\right)^2 + \\left(-\\frac{1}{4}\\right)^2} = \\sqrt{\\frac{1}{16} + \\frac{1}{16}} = \\sqrt{\\frac{2}{16}} = \\frac{\\sqrt{2}}{4}.\n\\]\n\n**Bước 3:** Xác định argument $\\varphi$ của $z$:\nVì $z$ nằm ở góc phần tư thứ IV, ta có:\n\\[\n\\tan \\varphi = \\frac{-\\frac{1}{4}}{\\frac{1}{4}} = -1 \\Rightarrow \\varphi = -\\frac{\\pi}{4} \\text{ (hoặc } \\frac{7\\pi}{4} \\text{)}.\n\\]\nChọn $\\varphi = \\frac{7\\pi}{4}$ để đảm bảo $\\varphi \\in [0, 2\\pi)$.\n\n**Bước 4:** Biểu diễn $z$ dưới dạng lượng giác:\n\\[\nz = \\frac{\\sqrt{2}}{4} \\left( \\cos \\frac{7\\pi}{4} + i \\sin \\frac{7\\pi}{4} \\right).\n\\]\n",
         "\nSố phức $z$ dưới dạng lượng giác là:\n\\[\n\\boxed{z = \\frac{\\sqrt{2}}{4} \\left( \\cos \\frac{7\\pi}{4} + i \\sin \\frac{7\\pi}{4} \\right)}\n\\]\n"
        ],
        [
         "42",
         "Viết số phức z = 100i dưới dạng lượng giác?",
         "Ta có: $|z| = \\sqrt{0^2 + 100^2} = 100$. Gọi $\\varphi$ là một acgumen của z thì $\\varphi$ thỏa mãn: $cos\\varphi = 0; sin\\varphi = 1 => \\varphi = \\frac{\\pi}{2}$. Do đó, dạng lượng giác của số phức z là: $z = 100(cos\\frac{\\pi}{2} + i.sin\\frac{\\pi}{2})$",
         "$z = 100(cos\\frac{\\pi}{2} + i.sin\\frac{\\pi}{2})$",
         "\nĐể viết số phức $z = 100i$ dưới dạng lượng giác, ta thực hiện các bước sau:\n\n1. **Tính môđun của số phức:**\n   \\[\n   r = |z| = \\sqrt{0^2 + 100^2} = \\sqrt{10000} = 100\n   \\]\n\n2. **Xác định argument (góc) $\\theta$:**\n   Vì $z$ nằm trên trục ảo dương (phần thực bằng $0$, phần ảo dương), nên:\n   \\[\n   \\theta = \\frac{\\pi}{2}\n   \\]\n\n3. **Biểu diễn dạng lượng giác:**\n   \\[\n   z = r \\left( \\cos \\theta + i \\sin \\theta \\right) = 100 \\left( \\cos \\frac{\\pi}{2} + i \\sin \\frac{\\pi}{2} \\right)\n   \\]\n",
         "\n$z = 100 \\left( \\cos \\dfrac{\\pi}{2} + i \\sin \\dfrac{\\pi}{2} \\right)$\n"
        ],
        [
         "43",
         "Viết số phức sau dưới dạng lượng giác $z = (1 - i\\sqrt{3}).(1 + i)$",
         "Ta có: $1 - i\\sqrt{3} = 2.[cos(-\\frac{\\pi}{3}) + i sin(-\\frac{\\pi}{3})]$ và $1 + i = \\sqrt{2}[cos\\frac{\\pi}{4} + i.sin\\frac{\\pi}{4}]$. Áp dụng công thức nhân, chia số phức ta được: $z = (1 - i\\sqrt{3})(1 + i) = 2\\sqrt{2}[cos(-\\frac{\\pi}{12}) + i.sin(-\\frac{\\pi}{12})]$",
         "$2\\sqrt{2}[cos(-\\frac{\\pi}{12}) + i.sin(-\\frac{\\pi}{12})]$",
         "\n**Bước 1: Tính tích hai số phức**\n\\[\n(1 - i\\sqrt{3})(1 + i) = 1 \\cdot 1 + 1 \\cdot i - i\\sqrt{3} \\cdot 1 - i\\sqrt{3} \\cdot i = (1 + \\sqrt{3}) + i(1 - \\sqrt{3})\n\\]\n\n**Bước 2: Chuyển từng số phức về dạng lượng giác**\n- Số phức \\( 1 - i\\sqrt{3} \\):\n  \\[\n  r_1 = 2, \\quad \\theta_1 = -\\frac{\\pi}{3} \\quad \\text{(hoặc } \\frac{5\\pi}{3}\\text{)}\n  \\]\n  \\[\n  \\Rightarrow 2\\left(\\cos\\left(-\\frac{\\pi}{3}\\right) + i \\sin\\left(-\\frac{\\pi}{3}\\right)\\right)\n  \\]\n  \n- Số phức \\( 1 + i \\):\n  \\[\n  r_2 = \\sqrt{2}, \\quad \\theta_2 = \\frac{\\pi}{4}\n  \\]\n  \\[\n  \\Rightarrow \\sqrt{2}\\left(\\cos\\frac{\\pi}{4} + i \\sin\\frac{\\pi}{4}\\right)\n  \\]\n\n**Bước 3: Nhân hai dạng lượng giác**\n\\[\nz = (2 \\cdot \\sqrt{2}) \\left[ \\cos\\left(-\\frac{\\pi}{3} + \\frac{\\pi}{4}\\right) + i \\sin\\left(-\\frac{\\pi}{3} + \\frac{\\pi}{4}\\right) \\right]\n\\]\n\\[\n= 2\\sqrt{2} \\left[ \\cos\\left(-\\frac{\\pi}{12}\\right) + i \\sin\\left(-\\frac{\\pi}{12}\\right) \\right]\n\\]\nĐổi góc về dương:\n\\[\n= 2\\sqrt{2} \\left[ \\cos\\left(\\frac{23\\pi}{12}\\right) + i \\sin\\left(\\frac{23\\pi}{12}\\right) \\right]\n\\]\n",
         "\nSố phức \\( z \\) dưới dạng lượng giác là:\n\\[\n\\boxed{2\\sqrt{2} \\left( \\cos \\frac{23\\pi}{12} + i \\sin \\frac{23\\pi}{12} \\right)}\n\\]\n"
        ],
        [
         "44",
         "Viết số phức sau dưới dạng lượng giác $z = \\frac{2 + 2i}{1 + \\sqrt{3}i}$",
         "Ta có: $2 + 2i = 2\\sqrt{2}[cos\\frac{\\pi}{4} + i.sin\\frac{\\pi}{4}]$ và $1 + \\sqrt{3}i = 2.[cos\\frac{\\pi}{3} + i.sin\\frac{\\pi}{3}]$. Do đó: $z = \\frac{2 + 2i}{1 + \\sqrt{3}i} = \\frac{2\\sqrt{2}[cos\\frac{\\pi}{4} + i.sin\\frac{\\pi}{4}]}{2.[cos\\frac{\\pi}{3} + i.sin\\frac{\\pi}{3}]} = \\sqrt{2}[cos(-\\frac{\\pi}{12}) + i.sin(-\\frac{\\pi}{12})]$",
         "$\\sqrt{2}[cos(-\\frac{\\pi}{12}) + i.sin(-\\frac{\\pi}{12})]$",
         "\nĐể viết số phức $z = \\dfrac{2 + 2i}{1 + \\sqrt{3}i}$ dưới dạng lượng giác, ta thực hiện các bước sau:\n\n**Bước 1: Chuyển tử số và mẫu số về dạng lượng giác**\n- Tử số $2 + 2i$:\n  - Môđun: $r_1 = \\sqrt{2^2 + 2^2} = 2\\sqrt{2}$\n  - Argument: $\\theta_1 = \\arctan\\left(\\dfrac{2}{2}\\right) = \\dfrac{\\pi}{4}$\n  $\\Rightarrow 2 + 2i = 2\\sqrt{2} \\left( \\cos \\dfrac{\\pi}{4} + i \\sin \\dfrac{\\pi}{4} \\right)$\n\n- Mẫu số $1 + \\sqrt{3}i$:\n  - Môđun: $r_2 = \\sqrt{1^2 + (\\sqrt{3})^2} = 2$\n  - Argument: $\\theta_2 = \\arctan\\left(\\dfrac{\\sqrt{3}}{1}\\right) = \\dfrac{\\pi}{3}$\n  $\\Rightarrow 1 + \\sqrt{3}i = 2 \\left( \\cos \\dfrac{\\pi}{3} + i \\sin \\dfrac{\\pi}{3} \\right)$\n\n**Bước 2: Thực hiện phép chia dạng lượng giác**\n- Môđun của $z$: $r = \\dfrac{r_1}{r_2} = \\dfrac{2\\sqrt{2}}{2} = \\sqrt{2}$\n- Argument của $z$: $\\theta = \\theta_1 - \\theta_2 = \\dfrac{\\pi}{4} - \\dfrac{\\pi}{3} = -\\dfrac{\\pi}{12}$  \n  (Điều chỉnh về góc dương: $-\\dfrac{\\pi}{12} + 2\\pi = \\dfrac{23\\pi}{12}$)\n\n**Kết luận**:  \nSố phức $z$ được viết dưới dạng lượng giác là:\n$$\nz = \\sqrt{2} \\left( \\cos \\dfrac{23\\pi}{12} + i \\sin \\dfrac{23\\pi}{12} \\right)\n$$\n",
         "\n$z = \\sqrt{2} \\left( \\cos \\dfrac{23\\pi}{12} + i \\sin \\dfrac{23\\pi}{12} \\right)$\n"
        ],
        [
         "45",
         "Viết số phức sau dưới dạng lượng giác $z = \\frac{3}{10\\sqrt{3} + 10i}$",
         "Ta có: $3 = 3.(cos0 + i.sin0)$ và $10\\sqrt{3} + 10i = 20.(cos\\frac{\\pi}{6} + i.sin\\frac{\\pi}{6})$. Do đó, $z = \\frac{3}{10\\sqrt{3} + 10i} = \\frac{3.(cos 0 + i.sin 0)}{20.(cos\\frac{\\pi}{6} + i.sin\\frac{\\pi}{6})} = \\frac{3}{20}(cos(-\\frac{\\pi}{6}) + i.sin(-\\frac{\\pi}{6}))$",
         "$\\frac{3}{20}(cos(-\\frac{\\pi}{6}) + i.sin(-\\frac{\\pi}{6}))$",
         "\nĐể viết số phức $z = \\dfrac{3}{10\\sqrt{3} + 10i}$ dưới dạng lượng giác, ta thực hiện các bước sau:\n\n**Bước 1:** Rút gọn mẫu số:\n\\[\n10\\sqrt{3} + 10i = 10(\\sqrt{3} + i)\n\\]\nSuy ra:\n\\[\nz = \\dfrac{3}{10(\\sqrt{3} + i)} = \\dfrac{3}{10} \\cdot \\dfrac{1}{\\sqrt{3} + i}\n\\]\n\n**Bước 2:** Biểu diễn $\\sqrt{3} + i$ dưới dạng lượng giác:\n- Môđun: \n\\[\nr = \\sqrt{(\\sqrt{3})^2 + 1^2} = \\sqrt{4} = 2\n\\]\n- Argument:\n\\[\n\\varphi = \\arctan\\left(\\dfrac{1}{\\sqrt{3}}\\right) = \\dfrac{\\pi}{6}\n\\]\nVậy:\n\\[\n\\sqrt{3} + i = 2\\left(\\cos\\dfrac{\\pi}{6} + i\\sin\\dfrac{\\pi}{6}\\right)\n\\]\n\n**Bước 3:** Tính nghịch đảo của $\\sqrt{3} + i$:\n\\[\n\\dfrac{1}{\\sqrt{3} + i} = \\dfrac{1}{2}\\left(\\cos\\left(-\\dfrac{\\pi}{6}\\right) + i\\sin\\left(-\\dfrac{\\pi}{6}\\right)\\right)\n\\]\nHoặc viết dưới dạng argument dương:\n\\[\n\\cos\\left(-\\dfrac{\\pi}{6}\\right) + i\\sin\\left(-\\dfrac{\\pi}{6}\\right) = \\cos\\dfrac{11\\pi}{6} + i\\sin\\dfrac{11\\pi}{6}\n\\]\n\n**Bước 4:** Thay vào biểu thức của $z$:\n\\[\nz = \\dfrac{3}{10} \\cdot \\dfrac{1}{2}\\left(\\cos\\dfrac{11\\pi}{6} + i\\sin\\dfrac{11\\pi}{6}\\right) = \\dfrac{3}{20}\\left(\\cos\\dfrac{11\\pi}{6} + i\\sin\\dfrac{11\\pi}{6}\\right)\n\\]\n",
         "\nSố phức $z$ dưới dạng lượng giác là:\n\\[\n\\boxed{\\dfrac{3}{20} \\left( \\cos \\dfrac{11\\pi}{6} + i \\sin \\dfrac{11\\pi}{6} \\right)}\n\\]\n"
        ],
        [
         "46",
         "Viết số phức sau dưới dạng lượng giác $z = \\frac{1 - i}{(\\sqrt{3} + i)(2 + 2i)}$",
         "Ta có: $\\sqrt{3} + i = 2(cos\\frac{\\pi}{6} + i.sin\\frac{\\pi}{6})$ và $2 + 2i = 2\\sqrt{2}.(cos\\frac{\\pi}{4} + i.sin\\frac{\\pi}{4}) \\Rightarrow (\\sqrt{3} + 1)(2 + 2i) = 4\\sqrt{2}(cos\\frac{5\\pi}{12} + i.sin\\frac{5\\pi}{12})$. Lại có: $1 - i = \\sqrt{2}.(cos(-\\frac{\\pi}{4}) + i.sin(-\\frac{\\pi}{4}))$. Suy ra: $z = \\frac{1 - i}{(\\sqrt{3} + i)(2 + 2i)} = \\frac{\\sqrt{2}}{4\\sqrt{2}}[cos(-\\frac{5\\pi}{12}) + i.sin(-\\frac{5\\pi}{12})] = \\frac{1}{4}[cos(-\\frac{2\\pi}{3}) + i.sin(-\\frac{2\\pi}{3})]$",
         "$\\frac{1}{4}[cos(-\\frac{2\\pi}{3}) + i.sin(-\\frac{2\\pi}{3})]$",
         "\nĐể viết số phức $z = \\frac{1 - i}{(\\sqrt{3} + i)(2 + 2i)}$ dưới dạng lượng giác, ta thực hiện các bước sau:\n\n**Bước 1: Chuyển các số phức ở mẫu về dạng lượng giác**\n- Xét $\\sqrt{3} + i$:\n  - Modun: $r_1 = \\sqrt{(\\sqrt{3})^2 + 1^2} = 2$\n  - Argument: $\\theta_1 = \\arctan\\left(\\frac{1}{\\sqrt{3}}\\right) = \\frac{\\pi}{6}$\n  $\\Rightarrow \\sqrt{3} + i = 2\\left(\\cos\\frac{\\pi}{6} + i\\sin\\frac{\\pi}{6}\\right)$\n\n- Xét $2 + 2i$:\n  - Modun: $r_2 = \\sqrt{2^2 + 2^2} = 2\\sqrt{2}$\n  - Argument: $\\theta_2 = \\arctan\\left(\\frac{2}{2}\\right) = \\frac{\\pi}{4}$\n  $\\Rightarrow 2 + 2i = 2\\sqrt{2}\\left(\\cos\\frac{\\pi}{4} + i\\sin\\frac{\\pi}{4}\\right)$\n\n**Bước 2: Nhân hai số phức ở mẫu dưới dạng lượng giác**\n- Modun mẫu: $R = r_1 \\cdot r_2 = 2 \\cdot 2\\sqrt{2} = 4\\sqrt{2}$\n- Argument mẫu: $\\theta = \\theta_1 + \\theta_2 = \\frac{\\pi}{6} + \\frac{\\pi}{4} = \\frac{5\\pi}{12}$\n  $\\Rightarrow (\\sqrt{3} + i)(2 + 2i) = 4\\sqrt{2}\\left(\\cos\\frac{5\\pi}{12} + i\\sin\\frac{5\\pi}{12}\\right)$\n\n**Bước 3: Chuyển tử số $1 - i$ về dạng lượng giác**\n- Modun: $r_3 = \\sqrt{1^2 + (-1)^2} = \\sqrt{2}$\n- Argument: $\\theta_3 = \\arctan\\left(\\frac{-1}{1}\\right) = \\frac{7\\pi}{4}$\n  $\\Rightarrow 1 - i = \\sqrt{2}\\left(\\cos\\frac{7\\pi}{4} + i\\sin\\frac{7\\pi}{4}\\right)$\n\n**Bước 4: Thực hiện phép chia dưới dạng lượng giác**\n- Modun của $z$: $\\frac{r_3}{R} = \\frac{\\sqrt{2}}{4\\sqrt{2}} = \\frac{1}{4}$\n- Argument của $z$: $\\theta_z = \\theta_3 - \\theta = \\frac{7\\pi}{4} - \\frac{5\\pi}{12} = \\frac{21\\pi}{12} - \\frac{5\\pi}{12} = \\frac{16\\pi}{12} = \\frac{4\\pi}{3}$\n\n**Kết luận**: Số phức $z$ được viết dưới dạng lượng giác là:\n$$\nz = \\frac{1}{4}\\left(\\cos\\frac{4\\pi}{3} + i\\sin\\frac{4\\pi}{3}\\right)\n$$\n",
         "\n$z = \\boxed{\\dfrac{1}{4} \\left( \\cos \\dfrac{4\\pi}{3} + i \\sin \\dfrac{4\\pi}{3} \\right)}$\n"
        ],
        [
         "47",
         "Viết số phức sau dưới dạng lượng giác: $z = (\\sqrt{2} + \\sqrt{2}i)^{10}$",
         "Ta có: $\\sqrt{2} + \\sqrt{2}i = 2.(cos\\frac{\\pi}{4} + i.sin\\frac{\\pi}{4})$. Do đó, $z = (\\sqrt{2} + \\sqrt{2}i)^{10} = [2.(cos\\frac{\\pi}{4} + i.sin\\frac{\\pi}{4})]^{10} = 2^{10}.(cos\\frac{10\\pi}{4} + i.sin\\frac{10\\pi}{4}) = 2^{10}.(cos\\frac{5\\pi}{2} + i.sin\\frac{5\\pi}{2})$",
         "$2^{10}.(cos\\frac{5\\pi}{2} + i.sin\\frac{5\\pi}{2})$",
         "\nĐể viết số phức \\( z = (\\sqrt{2} + \\sqrt{2}i)^{10} \\) dưới dạng lượng giác, ta thực hiện các bước sau:\n\n**Bước 1: Biểu diễn \\( \\sqrt{2} + \\sqrt{2}i \\) dưới dạng lượng giác**\n- **Modulus:** \n  \\[\n  r = \\sqrt{(\\sqrt{2})^2 + (\\sqrt{2})^2} = \\sqrt{2 + 2} = \\sqrt{4} = 2\n  \\]\n- **Argument:** \n  \\[\n  \\theta = \\arctan\\left(\\frac{\\sqrt{2}}{\\sqrt{2}}\\right) = \\arctan(1) = \\frac{\\pi}{4}\n  \\]\n  Vậy:\n  \\[\n  \\sqrt{2} + \\sqrt{2}i = 2 \\left( \\cos \\frac{\\pi}{4} + i \\sin \\frac{\\pi}{4} \\right)\n  \\]\n\n**Bước 2: Áp dụng công thức Moivre để tính lũy thừa bậc 10**\n\\[\n\\left[ 2 \\left( \\cos \\frac{\\pi}{4} + i \\sin \\frac{\\pi}{4} \\right) \\right]^{10} = 2^{10} \\left( \\cos \\left(10 \\cdot \\frac{\\pi}{4}\\right) + i \\sin \\left(10 \\cdot \\frac{\\pi}{4}\\right) \\right)\n\\]\n- Tính \\( 2^{10} = 1024 \\)\n- Tính góc mới:\n  \\[\n  10 \\cdot \\frac{\\pi}{4} = \\frac{10\\pi}{4} = \\frac{5\\pi}{2} = 2\\pi + \\frac{\\pi}{2}\n  \\]\n  Do hàm cos và sin có chu kỳ \\( 2\\pi \\), nên:\n  \\[\n  \\cos \\frac{5\\pi}{2} = \\cos \\frac{\\pi}{2} = 0, \\quad \\sin \\frac{5\\pi}{2} = \\sin \\frac{\\pi}{2} = 1\n  \\]\n\n**Kết quả:**\n\\[\n(\\sqrt{2} + \\sqrt{2}i)^{10} = 1024 \\left( \\cos \\frac{\\pi}{2} + i \\sin \\frac{\\pi}{2} \\right)\n\\]\n",
         "\nSố phức \\( (\\sqrt{2} + \\sqrt{2}i)^{10} \\) dưới dạng lượng giác là:\n\\[\n\\boxed{1024 \\left( \\cos \\frac{\\pi}{2} + i \\sin \\frac{\\pi}{2} \\right)}\n\\]\n"
        ],
        [
         "48",
         "Viết số phức sau dưới dạng lượng giác $z = \\frac{(1 - i)^{10}}{(\\sqrt{3} + i)^9}$",
         "Ta có: $1 - i = \\sqrt{2}[cos(-\\frac{\\pi}{4}) + i.sin(-\\frac{\\pi}{4})] \\Rightarrow (1 - i)^{10} = (\\sqrt{2})^{10}.[cos(-10.\\frac{\\pi}{4}) + i.sin(-10.\\frac{\\pi}{4})] = 2^5[cos(-\\frac{5\\pi}{2}) + i.sin(-\\frac{5\\pi}{2})]$. Lại có: $\\sqrt{3} + i = 2(cos\\frac{\\pi}{6} + i.sin\\frac{\\pi}{6}) \\Rightarrow (\\sqrt{3} + i)^9 = 2^9.(cos9.\\frac{\\pi}{6} + i.sin9.\\frac{\\pi}{6}) = 2^9.(cos\\frac{3\\pi}{2} + i.sin\\frac{3\\pi}{2})$. Do đó, $z = \\frac{(1 - i)^{10}}{(\\sqrt{3} + i)^9} = \\frac{2^5[cos(-\\frac{5\\pi}{2}) + i.sin(-\\frac{5\\pi}{2})]}{2^9.(cos\\frac{3\\pi}{2} + i.sin\\frac{3\\pi}{2})} = \\frac{1}{2^4}(cos(-4\\pi) + i.sin(-4\\pi))$",
         "$\\frac{1}{2^4}(cos(-4\\pi) + i.sin(-4\\pi))$",
         "\nĐể viết số phức \\( z = \\dfrac{(1 - i)^{10}}{(\\sqrt{3} + i)^9} \\) dưới dạng lượng giác, ta thực hiện các bước sau:\n\n**1. Biểu diễn tử số và mẫu số dưới dạng lượng giác:**\n\n- **Tử số: \\( (1 - i)^{10} \\):**\n  - Modulus của \\( 1 - i \\): \\( |1 - i| = \\sqrt{1^2 + (-1)^2} = \\sqrt{2} \\).\n  - Argument: \\( \\theta_1 = -\\dfrac{\\pi}{4} \\) (vì \\( 1 - i \\) nằm ở góc phần tư thứ IV).\n  - Dạng lượng giác: \\( 1 - i = \\sqrt{2} \\left( \\cos \\left(-\\dfrac{\\pi}{4}\\right) + i \\sin \\left(-\\dfrac{\\pi}{4}\\right) \\right) \\).\n  - Áp dụng công thức De Moivre:\n    \\[\n    (1 - i)^{10} = \\left( \\sqrt{2} \\right)^{10} \\left[ \\cos \\left(10 \\cdot \\left(-\\dfrac{\\pi}{4}\\right) \\right) + i \\sin \\left(10 \\cdot \\left(-\\dfrac{\\pi}{4}\\right) \\right) \\right]\n    \\]\n    \\[\n    = 2^5 \\left[ \\cos \\left(-\\dfrac{5\\pi}{2}\\right) + i \\sin \\left(-\\dfrac{5\\pi}{2}\\right) \\right]\n    \\]\n    Điều chỉnh góc về khoảng \\( [0, 2\\pi) \\):\n    \\[\n    -\\dfrac{5\\pi}{2} + 2\\pi \\cdot 2 = \\dfrac{3\\pi}{2}\n    \\]\n    Kết quả:\n    \\[\n    (1 - i)^{10} = 32 \\left( \\cos \\dfrac{3\\pi}{2} + i \\sin \\dfrac{3\\pi}{2} \\right) = -32i\n    \\]\n\n- **Mẫu số: \\( (\\sqrt{3} + i)^9 \\):**\n  - Modulus của \\( \\sqrt{3} + i \\): \\( |\\sqrt{3} + i| = \\sqrt{(\\sqrt{3})^2 + 1^2} = 2 \\).\n  - Argument: \\( \\theta_2 = \\dfrac{\\pi}{6} \\).\n  - Dạng lượng giác: \\( \\sqrt{3} + i = 2 \\left( \\cos \\dfrac{\\pi}{6} + i \\sin \\dfrac{\\pi}{6} \\right) \\).\n  - Áp dụng công thức De Moivre:\n    \\[\n    (\\sqrt{3} + i)^9 = 2^9 \\left[ \\cos \\left(9 \\cdot \\dfrac{\\pi}{6}\\right) + i \\sin \\left(9 \\cdot \\dfrac{\\pi}{6}\\right) \\right]\n    \\]\n    \\[\n    = 512 \\left[ \\cos \\dfrac{3\\pi}{2} + i \\sin \\dfrac{3\\pi}{2} \\right] = -512i\n    \\]\n\n**2. Thực hiện phép chia:**\n\\[\nz = \\dfrac{(1 - i)^{10}}{(\\sqrt{3} + i)^9} = \\dfrac{-32i}{-512i} = \\dfrac{32}{512} = \\dfrac{1}{16}\n\\]\n\n**3. Biểu diễn kết quả dưới dạng lượng giác:**\nVì \\( \\dfrac{1}{16} \\) là số thực dương, dạng lượng giác của nó là:\n\\[\n\\dfrac{1}{16} \\left( \\cos 0 + i \\sin 0 \\right)\n\\]\n",
         "\n\\boxed{\\dfrac{1}{16} \\left( \\cos 0 + i \\sin 0 \\right)}\n"
        ],
        [
         "49",
         "Cho số phức $(\\cos \\frac{\\pi}{3} - i.sin\\frac{\\pi}{3})^5(1 + \\sqrt{3}i)^7$. Tìm phần ảo của số phức.",
         "Ta có: $1 + \\sqrt{3}i = 2.(cos\\frac{\\pi}{3} + i.sin\\frac{\\pi}{3})$ và $i^4 = 1$ nên ta có: $(\\cos \\frac{\\pi}{3} - i.sin\\frac{\\pi}{3})^5(1 + \\sqrt{3}i)^7 = (\\cos \\frac{\\pi}{3} - i.sin\\frac{\\pi}{3})^5.i.[2(cos\\frac{\\pi}{3} + i.sin\\frac{\\pi}{3})]^7 = 2^7(cos(-\\frac{\\pi}{3}) + i.sin(-\\frac{\\pi}{3})).[(\\cos \\frac{7\\pi}{3} + i.sin\\frac{7\\pi}{3})] = 2^7[cos2\\pi + i.sin2\\pi] i = 2^7 i$. Vậy phần ảo bằng $2^7 = 128$.",
         "128",
         "\nĐể tìm phần ảo của số phức \\( (\\cos \\frac{\\pi}{3} - i \\sin \\frac{\\pi}{3})^5(1 + \\sqrt{3}i)^7 \\), ta thực hiện các bước sau:\n\n**Bước 1: Biểu diễn các số phức dưới dạng lượng giác**\n\n- Số phức thứ nhất:  \n  \\( \\cos \\frac{\\pi}{3} - i \\sin \\frac{\\pi}{3} = \\cos(-\\frac{\\pi}{3}) + i \\sin(-\\frac{\\pi}{3}) \\).  \n  Dạng lượng giác: \\( 1 \\left( \\cos \\left( -\\frac{\\pi}{3} \\right) + i \\sin \\left( -\\frac{\\pi}{3} \\right) \\right) \\).\n\n- Số phức thứ hai:  \n  \\( 1 + \\sqrt{3}i \\) có modulus \\( 2 \\) và argument \\( \\frac{\\pi}{3} \\).  \n  Dạng lượng giác: \\( 2 \\left( \\cos \\frac{\\pi}{3} + i \\sin \\frac{\\pi}{3} \\right) \\).\n\n**Bước 2: Áp dụng công thức De Moivre**\n\n- Số phức thứ nhất mũ 5:  \n  \\[\n  \\left( \\cos \\left( -\\frac{\\pi}{3} \\right) + i \\sin \\left( -\\frac{\\pi}{3} \\right) \\right)^5 = \\cos \\left( -\\frac{5\\pi}{3} \\right) + i \\sin \\left( -\\frac{5\\pi}{3} \\right).\n  \\]  \n  Rút gọn góc: \\( -\\frac{5\\pi}{3} + 2\\pi = \\frac{\\pi}{3} \\).  \n  Kết quả: \\( \\cos \\frac{\\pi}{3} + i \\sin \\frac{\\pi}{3} \\).\n\n- Số phức thứ hai mũ 7:  \n  \\[\n  \\left( 2 \\left( \\cos \\frac{\\pi}{3} + i \\sin \\frac{\\pi}{3} \\right) \\right)^7 = 2^7 \\left( \\cos \\frac{7\\pi}{3} + i \\sin \\frac{7\\pi}{3} \\right).\n  \\]  \n  Rút gọn góc: \\( \\frac{7\\pi}{3} - 2\\pi = \\frac{\\pi}{3} \\).  \n  Kết quả: \\( 128 \\left( \\cos \\frac{\\pi}{3} + i \\sin \\frac{\\pi}{3} \\right) \\).\n\n**Bước 3: Nhân hai kết quả**\n\nTích của hai số phức:  \n\\[\n\\left( \\cos \\frac{\\pi}{3} + i \\sin \\frac{\\pi}{3} \\right) \\cdot 128 \\left( \\cos \\frac{\\pi}{3} + i \\sin \\frac{\\pi}{3} \\right) = 128 \\left( \\cos \\frac{2\\pi}{3} + i \\sin \\frac{2\\pi}{3} \\right).\n\\]\n\n**Bước 4: Tính phần ảo**\n\n- \\( \\cos \\frac{2\\pi}{3} = -\\frac{1}{2} \\), \\( \\sin \\frac{2\\pi}{3} = \\frac{\\sqrt{3}}{2} \\).  \n- Phần ảo của số phức:  \n  \\[\n  128 \\cdot \\frac{\\sqrt{3}}{2} = 64\\sqrt{3}.\n  \\]\n",
         "\nPhần ảo của số phức là $\\boxed{64\\sqrt{3}}$.\n"
        ]
       ],
       "shape": {
        "columns": 5,
        "rows": 162
       }
      },
      "text/html": [
       "<div>\n",
       "<style scoped>\n",
       "    .dataframe tbody tr th:only-of-type {\n",
       "        vertical-align: middle;\n",
       "    }\n",
       "\n",
       "    .dataframe tbody tr th {\n",
       "        vertical-align: top;\n",
       "    }\n",
       "\n",
       "    .dataframe thead th {\n",
       "        text-align: right;\n",
       "    }\n",
       "</style>\n",
       "<table border=\"1\" class=\"dataframe\">\n",
       "  <thead>\n",
       "    <tr style=\"text-align: right;\">\n",
       "      <th></th>\n",
       "      <th>Question</th>\n",
       "      <th>Solution</th>\n",
       "      <th>Answer</th>\n",
       "      <th>AI Solution</th>\n",
       "      <th>AI Answer</th>\n",
       "    </tr>\n",
       "  </thead>\n",
       "  <tbody>\n",
       "    <tr>\n",
       "      <th>0</th>\n",
       "      <td>Cho hai số phức $z_1 = 1 + 10i$ và $z_2 = 9 – ...</td>\n",
       "      <td>Ta có: $z = z_1 + z_2 = (1 + 10i) + ( 9 – 2i) ...</td>\n",
       "      <td>10</td>\n",
       "      <td>\\nĐể tìm phần thực của số phức $z_1$ khi biết ...</td>\n",
       "      <td>\\n$\\boxed{1}$\\n</td>\n",
       "    </tr>\n",
       "    <tr>\n",
       "      <th>1</th>\n",
       "      <td>Hãy tính số phức z. Biết rằng: $z = 10i – ( 2 ...</td>\n",
       "      <td>Ta có: $z = 10i - (2 + 2i).i = 10i – 2i + 2 = ...</td>\n",
       "      <td>2 + 8i</td>\n",
       "      <td>\\nĐể tính số phức \\( z \\), ta thực hiện các bư...</td>\n",
       "      <td>\\n\\( z = \\boxed{2 + 8i} \\)\\n</td>\n",
       "    </tr>\n",
       "    <tr>\n",
       "      <th>2</th>\n",
       "      <td>Cho hai số phức $z = -2 + 3yi$; $z’ = ( x + 1)...</td>\n",
       "      <td>Để $z + i = z’ + 2$ =&gt; - 2 + 3yi + i = ( x + 1...</td>\n",
       "      <td>x = -5, y = -5/3</td>\n",
       "      <td>\\nĐể tìm $x, y \\in \\mathbb{R}$ thỏa mãn $z + i...</td>\n",
       "      <td>\\nVậy nghiệm của bài toán là $\\boxed{x = -5}$ ...</td>\n",
       "    </tr>\n",
       "    <tr>\n",
       "      <th>3</th>\n",
       "      <td>Số nào trong các số phức sau là số thuần ảo? A...</td>\n",
       "      <td>Ta xét các phương án:A.(√2 + i) - (1 + √2i)= (...</td>\n",
       "      <td>B. ( 8 + 2i) + (- 8 + 2i)</td>\n",
       "      <td>\\nXét từng phương án:\\n\\n**A.** $(\\sqrt{2} + i...</td>\n",
       "      <td>$\\boxed{B}$</td>\n",
       "    </tr>\n",
       "    <tr>\n",
       "      <th>4</th>\n",
       "      <td>Tính giá trị của P = i^{105} + i^{23} + i^{20}...</td>\n",
       "      <td>Ta có: $i^2 = -1 \\Rightarrow i^4 = 1$. Do đó, ...</td>\n",
       "      <td>2</td>\n",
       "      <td>\\nTa có chu kỳ của lũy thừa số phức $i$ là 4:\\...</td>\n",
       "      <td>\\n$\\boxed{2}$\\n</td>\n",
       "    </tr>\n",
       "    <tr>\n",
       "      <th>...</th>\n",
       "      <td>...</td>\n",
       "      <td>...</td>\n",
       "      <td>...</td>\n",
       "      <td>...</td>\n",
       "      <td>...</td>\n",
       "    </tr>\n",
       "    <tr>\n",
       "      <th>157</th>\n",
       "      <td>Gọi (H) là hình phẳng giới hạn bởi các đường y...</td>\n",
       "      <td>Phương trình hoành độ giao điểm:\\n$2x-x^2 = 0 ...</td>\n",
       "      <td>16/15pi</td>\n",
       "      <td>\\nĐể tính thể tích khối tròn xoay tạo bởi hình...</td>\n",
       "      <td>\\n$\\boxed{\\dfrac{16\\pi}{15}}$\\n</td>\n",
       "    </tr>\n",
       "    <tr>\n",
       "      <th>158</th>\n",
       "      <td>Tính thể tích khối tròn xoay được giới hạn bởi...</td>\n",
       "      <td>Thể tích khối tròn xoay được giới hạn bởi các ...</td>\n",
       "      <td>46/15pi</td>\n",
       "      <td>\\nĐể tính thể tích khối tròn xoay tạo bởi các ...</td>\n",
       "      <td>\\nThể tích khối tròn xoay là \\(\\boxed{\\dfrac{4...</td>\n",
       "    </tr>\n",
       "    <tr>\n",
       "      <th>159</th>\n",
       "      <td>Cho hình phẳng giới hạn bởi các đường y=\\sqrt{...</td>\n",
       "      <td>Giải phương trình $\\sqrt{x} = x \\Leftrightarro...</td>\n",
       "      <td>pi/6</td>\n",
       "      <td>\\nĐể tính thể tích khối tròn xoay tạo bởi hình...</td>\n",
       "      <td>\\n$\\boxed{\\dfrac{\\pi}{6}}$\\n</td>\n",
       "    </tr>\n",
       "    <tr>\n",
       "      <th>160</th>\n",
       "      <td>Gọi (H) là hình phẳng giới hạn bởi các đường y...</td>\n",
       "      <td>Thể tích khối tròn xoay được giới hạn bởi các ...</td>\n",
       "      <td>pi - pi^2/4</td>\n",
       "      <td>\\nĐể tính thể tích khối tròn xoay tạo bởi hình...</td>\n",
       "      <td>\\nThể tích khối tròn xoay là $\\boxed{\\pi - \\df...</td>\n",
       "    </tr>\n",
       "    <tr>\n",
       "      <th>161</th>\n",
       "      <td>Tính thể tích khối tròn xoay giới hạn bởi y=ln...</td>\n",
       "      <td>Phương trình hoành độ giao điểm: $lnx=0 \\Leftr...</td>\n",
       "      <td>pi(e-2)</td>\n",
       "      <td>\\nĐể tính thể tích khối tròn xoay tạo bởi $y =...</td>\n",
       "      <td>\\nThể tích khối tròn xoay là $\\boxed{\\pi (e - ...</td>\n",
       "    </tr>\n",
       "  </tbody>\n",
       "</table>\n",
       "<p>162 rows × 5 columns</p>\n",
       "</div>"
      ],
      "text/plain": [
       "                                              Question  \\\n",
       "0    Cho hai số phức $z_1 = 1 + 10i$ và $z_2 = 9 – ...   \n",
       "1    Hãy tính số phức z. Biết rằng: $z = 10i – ( 2 ...   \n",
       "2    Cho hai số phức $z = -2 + 3yi$; $z’ = ( x + 1)...   \n",
       "3    Số nào trong các số phức sau là số thuần ảo? A...   \n",
       "4    Tính giá trị của P = i^{105} + i^{23} + i^{20}...   \n",
       "..                                                 ...   \n",
       "157  Gọi (H) là hình phẳng giới hạn bởi các đường y...   \n",
       "158  Tính thể tích khối tròn xoay được giới hạn bởi...   \n",
       "159  Cho hình phẳng giới hạn bởi các đường y=\\sqrt{...   \n",
       "160  Gọi (H) là hình phẳng giới hạn bởi các đường y...   \n",
       "161  Tính thể tích khối tròn xoay giới hạn bởi y=ln...   \n",
       "\n",
       "                                              Solution  \\\n",
       "0    Ta có: $z = z_1 + z_2 = (1 + 10i) + ( 9 – 2i) ...   \n",
       "1    Ta có: $z = 10i - (2 + 2i).i = 10i – 2i + 2 = ...   \n",
       "2    Để $z + i = z’ + 2$ => - 2 + 3yi + i = ( x + 1...   \n",
       "3    Ta xét các phương án:A.(√2 + i) - (1 + √2i)= (...   \n",
       "4    Ta có: $i^2 = -1 \\Rightarrow i^4 = 1$. Do đó, ...   \n",
       "..                                                 ...   \n",
       "157  Phương trình hoành độ giao điểm:\\n$2x-x^2 = 0 ...   \n",
       "158  Thể tích khối tròn xoay được giới hạn bởi các ...   \n",
       "159  Giải phương trình $\\sqrt{x} = x \\Leftrightarro...   \n",
       "160  Thể tích khối tròn xoay được giới hạn bởi các ...   \n",
       "161  Phương trình hoành độ giao điểm: $lnx=0 \\Leftr...   \n",
       "\n",
       "                        Answer  \\\n",
       "0                           10   \n",
       "1                       2 + 8i   \n",
       "2             x = -5, y = -5/3   \n",
       "3    B. ( 8 + 2i) + (- 8 + 2i)   \n",
       "4                            2   \n",
       "..                         ...   \n",
       "157                    16/15pi   \n",
       "158                    46/15pi   \n",
       "159                       pi/6   \n",
       "160                pi - pi^2/4   \n",
       "161                    pi(e-2)   \n",
       "\n",
       "                                           AI Solution  \\\n",
       "0    \\nĐể tìm phần thực của số phức $z_1$ khi biết ...   \n",
       "1    \\nĐể tính số phức \\( z \\), ta thực hiện các bư...   \n",
       "2    \\nĐể tìm $x, y \\in \\mathbb{R}$ thỏa mãn $z + i...   \n",
       "3    \\nXét từng phương án:\\n\\n**A.** $(\\sqrt{2} + i...   \n",
       "4    \\nTa có chu kỳ của lũy thừa số phức $i$ là 4:\\...   \n",
       "..                                                 ...   \n",
       "157  \\nĐể tính thể tích khối tròn xoay tạo bởi hình...   \n",
       "158  \\nĐể tính thể tích khối tròn xoay tạo bởi các ...   \n",
       "159  \\nĐể tính thể tích khối tròn xoay tạo bởi hình...   \n",
       "160  \\nĐể tính thể tích khối tròn xoay tạo bởi hình...   \n",
       "161  \\nĐể tính thể tích khối tròn xoay tạo bởi $y =...   \n",
       "\n",
       "                                             AI Answer  \n",
       "0                                      \\n$\\boxed{1}$\\n  \n",
       "1                         \\n\\( z = \\boxed{2 + 8i} \\)\\n  \n",
       "2    \\nVậy nghiệm của bài toán là $\\boxed{x = -5}$ ...  \n",
       "3                                          $\\boxed{B}$  \n",
       "4                                      \\n$\\boxed{2}$\\n  \n",
       "..                                                 ...  \n",
       "157                    \\n$\\boxed{\\dfrac{16\\pi}{15}}$\\n  \n",
       "158  \\nThể tích khối tròn xoay là \\(\\boxed{\\dfrac{4...  \n",
       "159                       \\n$\\boxed{\\dfrac{\\pi}{6}}$\\n  \n",
       "160  \\nThể tích khối tròn xoay là $\\boxed{\\pi - \\df...  \n",
       "161  \\nThể tích khối tròn xoay là $\\boxed{\\pi (e - ...  \n",
       "\n",
       "[162 rows x 5 columns]"
      ]
     },
     "metadata": {},
     "output_type": "display_data"
    }
   ],
   "source": [
    "for q in tqdm(questions_list[76:], desc=\"Processing Questions\"):\n",
    "    ai_response = get_answer(q[\"question\"])  # API Call\n",
    "    display(Latex(ai_response[\"solution\"]))\n",
    "    rows.append([\n",
    "        q[\"question\"], \n",
    "        q[\"solution\"], \n",
    "        q[\"answer\"], \n",
    "        ai_response[\"solution\"], \n",
    "        ai_response[\"answer\"]\n",
    "    ])\n",
    "    \n",
    "    time.sleep(60 / 1.2)  # Sleep to respect 1.2 RPM\n",
    "\n",
    "# Create DataFrame\n",
    "df = pd.DataFrame(rows, columns=[\"Question\", \"Solution\", \"Answer\", \"AI Solution\", \"AI Answer\"])\n",
    "\n",
    "\n",
    "# Display DataFrame\n",
    "display(df)"
   ]
  },
  {
   "cell_type": "code",
   "execution_count": 11,
   "metadata": {},
   "outputs": [],
   "source": [
    "df.to_csv(\"deepseek_r1_test_results.csv\")"
   ]
  },
  {
   "cell_type": "markdown",
   "metadata": {},
   "source": [
    "# Test results"
   ]
  },
  {
   "cell_type": "code",
   "execution_count": 7,
   "metadata": {},
   "outputs": [],
   "source": [
    "import pandas as pd\n",
    "from abc import ABC, abstractmethod\n",
    "from google import genai\n",
    "\n",
    "df = pd.read_csv(\"deepseek_r1_test_results.csv\")\n",
    "gemini_api_key = os.getenv(\"GEMINI_API_KEY\")\n",
    "\n",
    "\n",
    "class LLM(ABC):\n",
    "    @abstractmethod\n",
    "    def generate(self, prompt: str) -> str:\n",
    "        pass\n",
    "    \n",
    "    @abstractmethod\n",
    "    def stream_generate(self, prompt: str):\n",
    "        \n",
    "class GeminiAI(LLM):\n",
    "    def __init__(self):\n",
    "        self.client = genai.Client(api_key=gemini_api_key)\n",
    "    \n",
    "    def generate(self, prompt: str) -> str:\n",
    "        response = self.client.models.generate_content(model=\"gemini-2.0-flash\",contents=[prompt])\n",
    "        return response.text\n",
    "    \n",
    "\n",
    "    def stream_generate(self, prompt: str):\n",
    "        response = self.client.models.generate_content_stream(model=\"gemini-2.0-flash\",contents=[prompt])\n",
    "        \n",
    "        for chunk in response:\n",
    "            if chunk.text:\n",
    "                yield chunk.text\n",
    "        pass\n",
    "model = GeminiAI()"
   ]
  },
  {
   "cell_type": "code",
   "execution_count": 8,
   "metadata": {},
   "outputs": [
    {
     "name": "stderr",
     "output_type": "stream",
     "text": [
      "Checking AI Answers: 100%|██████████| 162/162 [03:45<00:00,  1.39s/it]\n"
     ]
    },
    {
     "data": {
      "application/vnd.microsoft.datawrangler.viewer.v0+json": {
       "columns": [
        {
         "name": "index",
         "rawType": "int64",
         "type": "integer"
        },
        {
         "name": "Unnamed: 0",
         "rawType": "int64",
         "type": "integer"
        },
        {
         "name": "Question",
         "rawType": "object",
         "type": "string"
        },
        {
         "name": "Solution",
         "rawType": "object",
         "type": "string"
        },
        {
         "name": "Answer",
         "rawType": "object",
         "type": "string"
        },
        {
         "name": "AI Solution",
         "rawType": "object",
         "type": "string"
        },
        {
         "name": "AI Answer",
         "rawType": "object",
         "type": "string"
        },
        {
         "name": "Category",
         "rawType": "object",
         "type": "string"
        },
        {
         "name": "Explanation",
         "rawType": "object",
         "type": "string"
        }
       ],
       "conversionMethod": "pd.DataFrame",
       "ref": "90d6df2e-fbb2-4eaf-ba19-5b1748bf3b54",
       "rows": [
        [
         "0",
         "0",
         "Cho hai số phức $z_1 = 1 + 10i$ và $z_2 = 9 – 2i$. Số phức $z = z_1 + z_2$ có z1 có phần thực là:",
         "Ta có: $z = z_1 + z_2 = (1 + 10i) + ( 9 – 2i) = 10 + 8i$. Do đó, phần thực của số phức z là 10.",
         "10",
         "\nĐể giải bài toán, ta thực hiện các bước sau:\n\n1. **Tính tổng hai số phức**:\n   \\[\n   z = z_1 + z_2 = (1 + 10i) + (9 - 2i)\n   \\]\n\n2. **Cộng các phần thực và phần ảo**:\n   - Phần thực: $1 + 9 = 10$\n   - Phần ảo: $10i - 2i = 8i$\n\n   Do đó, ta có:\n   \\[\n   z = 10 + 8i\n   \\]\n\n3. **Xác định phần thực của số phức $z$**:\n   Phần thực của $z$ là $10$.\n\nVậy, phần thực của số phức $z$ là $10$.\n",
         "\nPhần thực của số phức $z$ là $10$.\n",
         "Both Correct",
         "No explanation provided"
        ],
        [
         "1",
         "1",
         "Hãy tính số phức z. Biết rằng: $z = 10i – ( 2 + 2i).i$",
         "Ta có: $z = 10i - (2 + 2i).i = 10i – 2i + 2 = 2 + 8i$",
         "2 + 8i",
         "\nĐể tính số phức $z$, ta sẽ thực hiện các bước sau:\n\n1. **Thay thế và sắp xếp biểu thức**:\n   \\[\n   z = 10i - (2 + 2i)i\n   \\]\n\n2. **Tính toán phần trong dấu ngoặc**:\n   \\[\n   (2 + 2i)i = 2i + 2i^2\n   \\]\n   Biết rằng $i^2 = -1$, ta có:\n   \\[\n   2i^2 = 2(-1) = -2\n   \\]\n   Vậy:\n   \\[\n   (2 + 2i)i = 2i - 2\n   \\]\n\n3. **Thay vào biểu thức của $z$**:\n   \\[\n   z = 10i - (2i - 2)\n   \\]\n\n4. **Phân phối dấu trừ**:\n   \\[\n   z = 10i - 2i + 2\n   \\]\n\n5. **Gộp các phần tương tự**:\n   \\[\n   z = (10i - 2i) + 2 = 8i + 2\n   \\]\n\n6. **Viết lại dưới dạng số phức**:\n   \\[\n   z = 2 + 8i\n   \\]\n\nVậy số phức $z$ là $2 + 8i$.\n",
         "\n$z = 2 + 8i$\n",
         "Both Correct",
         "No explanation provided"
        ],
        [
         "2",
         "2",
         "Cho hai số phức $z = -2 + 3yi$; $z’ = ( x + 1)- 4i$ với $x,y ∈ R$. Tìm x; y để $z + i= z’ + 2$",
         "Để $z + i = z’ + 2$ => - 2 + 3yi + i = ( x + 1) – 4i + 2 => - 2 + (3y + 1).i = ( x + 3)- 4i. Do đó ta có hệ phương trình : -2 = x+3 , 3y + 1 = -4 => x = -5, y=-5/3",
         "x = -5, y = -5/3",
         "\nĐể giải bài toán, ta bắt đầu từ phương trình đã cho:\n\n\\[\nz + i = z' + 2\n\\]\n\nThay các giá trị của $z$ và $z'$ vào phương trình:\n\n\\[\n(-2 + 3yi) + i = (x + 1) - 4i + 2\n\\]\n\nRút gọn hai vế:\n\n\\[\n-2 + (3y + 1)i = (x + 3) - 4i\n\\]\n\nBây giờ, ta tách phần thực và phần ảo của hai vế:\n\n1. Phần thực: \n\\[\n-2 = x + 3\n\\]\n\n2. Phần ảo: \n\\[\n3y + 1 = -4\n\\]\n\nGiải phương trình phần thực:\n\n\\[\nx = -2 - 3 = -5\n\\]\n\nGiải phương trình phần ảo:\n\n\\[\n3y + 1 = -4 \\implies 3y = -4 - 1 \\implies 3y = -5 \\implies y = -\\frac{5}{3}\n\\]\n\nVậy ta có:\n\n\\[\nx = -5, \\quad y = -\\frac{5}{3}\n\\]\n\n",
         "\n$x = -5, \\quad y = -\\frac{5}{3}$\n",
         "Both Correct",
         "No explanation provided"
        ],
        [
         "3",
         "3",
         "Số nào trong các số phức sau là số thuần ảo? A. (√2 + i) - (1 + √2i); B. ( 8 + 2i) + (- 8 + 2i); C. ( - 3 + i) – ( 3 - i); D. (10 + 3i) – ( -10 – 3i)",
         "Ta xét các phương án:A.(√2 + i) - (1 + √2i)= (√2 - 1) - (1 - √2) không là số thuần ảo; B.(8 + 2i) + (- 8 + 2i) = 4i là số thuần ảo; C.(-3 + i) – (3- i) = - 3 + i – 3 + i= - 6 + 2i không là số thuần ảo.; D.(10 + 3i) – ( -10 – 3i) = 10 + 3i + 10 + 3i = 20 + 6i không là số thuần ảo.",
         "B. ( 8 + 2i) + (- 8 + 2i)",
         "\nĐể xác định số nào trong các số phức đã cho là số thuần ảo, ta cần kiểm tra phần thực của từng số phức. Một số phức được gọi là số thuần ảo nếu phần thực của nó bằng 0.\n\nTa sẽ tính từng số phức:\n\nA. \n\\[\n( \\sqrt{2} + i) - (1 + \\sqrt{2}i) = \\sqrt{2} - 1 + (1 - \\sqrt{2})i\n\\]\nPhần thực: $\\sqrt{2} - 1$ (không bằng 0)  \nPhần ảo: $1 - \\sqrt{2}$\n\nB. \n\\[\n(8 + 2i) + (-8 + 2i) = (8 - 8) + (2 + 2)i = 0 + 4i\n\\]\nPhần thực: $0$ (bằng 0)  \nPhần ảo: $4$\n\nC. \n\\[\n(-3 + i) - (3 - i) = -3 - 3 + (1 + 1)i = -6 + 2i\n\\]\nPhần thực: $-6$ (không bằng 0)  \nPhần ảo: $2$\n\nD. \n\\[\n(10 + 3i) - (-10 - 3i) = 10 + 10 + (3 + 3)i = 20 + 6i\n\\]\nPhần thực: $20$ (không bằng 0)  \nPhần ảo: $6$\n\nTóm lại, chỉ có số phức B có phần thực bằng 0, do đó số phức này là số thuần ảo.\n",
         "\nSố thuần ảo là: B. $(8 + 2i) + (-8 + 2i) = 4i$\n",
         "Correct Answer, Wrong Explanation",
         "No explanation provided"
        ],
        [
         "4",
         "4",
         "Tính giá trị của P = i^{105} + i^{23} + i^{20} - i^{34}",
         "Ta có: $i^2 = -1 \\Rightarrow i^4 = 1$. Do đó, $P = i^{105} + i^{23} + i^{20} - i^{34} = i^{104+1} + i^{20+3} + i^{4 \\cdot 5} - i^{4 \\cdot 8 + 2} = i \\cdot i^{4 \\cdot 26} + i^2 \\cdot i \\cdot i^{4 \\cdot 5} + 1 - i^2 \\cdot i^{4 \\cdot 8} = i \\cdot 1 + (-1) \\cdot i \\cdot 1 + 1 - (-1) \\cdot 1 = 2$",
         "2",
         "\nĐể tính giá trị của biểu thức $P = i^{105} + i^{23} + i^{20} - i^{34}$, trước tiên chúng ta cần nhớ rằng số ảo $i$ có tính chất đặc biệt:\n\n\\[\ni^1 = i, \\quad i^2 = -1, \\quad i^3 = -i, \\quad i^4 = 1\n\\]\n\nSau đó, các lũy thừa của $i$ sẽ lặp lại theo chu kỳ 4. Do đó, để tính $i^n$, chúng ta chỉ cần tính $n \\mod 4$.\n\n1. **Tính $i^{105}$**:\n   \\[\n   105 \\mod 4 = 1 \\quad \\Rightarrow \\quad i^{105} = i^1 = i\n   \\]\n\n2. **Tính $i^{23}$**:\n   \\[\n   23 \\mod 4 = 3 \\quad \\Rightarrow \\quad i^{23} = i^3 = -i\n   \\]\n\n3. **Tính $i^{20}$**:\n   \\[\n   20 \\mod 4 = 0 \\quad \\Rightarrow \\quad i^{20} = i^0 = 1\n   \\]\n\n4. **Tính $i^{34}$**:\n   \\[\n   34 \\mod 4 = 2 \\quad \\Rightarrow \\quad i^{34} = i^2 = -1\n   \\]\n\nBây giờ, chúng ta thay các giá trị đã tính vào biểu thức $P$:\n\n\\[\nP = i + (-i) + 1 - (-1)\n\\]\n\nTiến hành tính toán:\n\n\\[\nP = i - i + 1 + 1 = 0 + 2 = 2\n\\]\n\nVậy giá trị của $P$ là:\n\n\\[\nP = 2\n\\]\n",
         "\nP = 2\n",
         "Both Correct",
         "No explanation provided"
        ],
        [
         "5",
         "5",
         "Giá trị của biểu thức $A = \\left( \\frac{1+i}{1-i} \\right)^{2016} + \\left( \\frac{1-i}{1+i} \\right)^{2018}$ bằng ?",
         "Ta có: $\\frac{1+i}{1-i} = \\frac{(1+i)^2}{(1-i).(1+i)} = \\frac{1+2i+i^2}{1-i^2} = \\frac{2i}{2} = i$; $\\frac{1-i}{1+i} = \\frac{(1-i)^2}{(1+i).(1-i)} = \\frac{1-2i+i^2}{1-i^2} = \\frac{-2i}{2} = -i$; Suy ra: $A = \\left( \\frac{1+i}{1-i} \\right)^{2016} + \\left( \\frac{1-i}{1+i} \\right)^{2018} = i^{2016} + (-i)^{2018} = (i^2)^{1008} + (i^2)^{1009} = (-1)^{1008} + (-1)^{1009} = 1 - 1 = 0$",
         "0",
         "\nĐể giải bài toán, ta sẽ tính giá trị của biểu thức $A = \\left( \\frac{1+i}{1-i} \\right)^{2016} + \\left( \\frac{1-i}{1+i} \\right)^{2018}$.\n\nBước 1: Tính giá trị của $\\frac{1+i}{1-i}$.\n\nTa có:\n\\[\n\\frac{1+i}{1-i} = \\frac{(1+i)(1+i)}{(1-i)(1+i)} = \\frac{1 + 2i - 1}{1 + 1} = \\frac{2i}{2} = i\n\\]\n\nBước 2: Tính giá trị của $\\frac{1-i}{1+i}$.\n\nTương tự, ta có:\n\\[\n\\frac{1-i}{1+i} = \\frac{(1-i)(1-i)}{(1+i)(1-i)} = \\frac{1 - 2i - 1}{1 + 1} = \\frac{-2i}{2} = -i\n\\]\n\nBước 3: Thay vào biểu thức $A$.\n\nTa có:\n\\[\nA = \\left( i \\right)^{2016} + \\left( -i \\right)^{2018}\n\\]\n\nBước 4: Tính từng phần.\n\n- Tính $i^{2016}$:\n  - Nhận thấy rằng $i^4 = 1$, do đó $i^{2016} = (i^4)^{504} = 1^{504} = 1$.\n\n- Tính $(-i)^{2018}$:\n  - Ta có $(-i)^{2018} = (-1)^{2018} \\cdot i^{2018} = 1 \\cdot (i^4)^{504} \\cdot i^2 = 1 \\cdot 1 \\cdot (-1) = -1$.\n\nBước 5: Kết hợp các kết quả lại.\n\nVậy:\n\\[\nA = 1 + (-1) = 0\n\\]\n\nCuối cùng, giá trị của biểu thức $A$ là $0$.\n",
         "\n$0$\n",
         "Both Correct",
         "No explanation provided"
        ],
        [
         "6",
         "6",
         "Cho $P = 1 + i + i^2 + i^3 + ... + i^{2017}$. Tính P?",
         "Ta có: $P = 1 + i + i^2 + i^3 + ... + i^{2017}$ $iP = i + i^2 + i^3 + ... + i^{2018}$ $\\Rightarrow P - iP = 1 - i^{2018}$ $\\Rightarrow P = \\frac{1 - i^{2018}}{1 - i} = \\frac{1 - (i^2)^{1009}}{1-i} = \\frac{2}{1-i} = \\frac{2(1+i)}{(1-i).(1+i)} = \\frac{2(1+i)}{2} = 1 + i$",
         "1 + i",
         "\nĐể tính giá trị của $P = 1 + i + i^2 + i^3 + ... + i^{2017}$, ta nhận thấy rằng dãy số này là một chuỗi số phức với cơ số là $i$. \n\nTrước tiên, ta cần biết rằng $i$ là đơn vị ảo, với tính chất:\n\\[\ni^1 = i, \\quad i^2 = -1, \\quad i^3 = -i, \\quad i^4 = 1\n\\]\nSau đó, chu kỳ của $i$ là 4, tức là:\n\\[\ni^n = \n\\begin{cases} \n1 & \\text{nếu } n \\equiv 0 \\mod 4 \\\\ \ni & \\text{nếu } n \\equiv 1 \\mod 4 \\\\ \n-1 & \\text{nếu } n \\equiv 2 \\mod 4 \\\\ \n-i & \\text{nếu } n \\equiv 3 \\mod 4 \n\\end{cases}\n\\]\n\nBây giờ, ta sẽ tính tổng $P$ bằng cách sử dụng công thức tổng của một cấp số cộng. \n\nSố hạng đầu tiên là $1$ và số hạng cuối cùng là $i^{2017}$. Để tìm $i^{2017}$, ta tính $2017 \\mod 4$:\n\\[\n2017 \\div 4 = 504 \\quad \\text{và dư } 1 \\quad \\Rightarrow \\quad 2017 \\equiv 1 \\mod 4 \\quad \\Rightarrow \\quad i^{2017} = i\n\\]\n\nVậy ta có:\n\\[\nP = 1 + i + i^2 + i^3 + ... + i^{2017} = 1 + i + (-1) + (-i) + \\text{(các nhóm 4 số hạng tiếp theo)}\n\\]\n\nMỗi nhóm 4 số hạng $1 + i - 1 - i = 0$. \n\nSố lượng các số hạng từ $i^0$ đến $i^{2017}$ là $2018$ (từ $0$ đến $2017$). \n\nChia $2018$ cho $4$:\n\\[\n2018 \\div 4 = 504 \\quad \\text{và dư } 2\n\\]\nĐiều này có nghĩa là có $504$ nhóm $4$ số hạng, mỗi nhóm cho tổng là $0$, và còn lại $2$ số hạng cuối cùng là $1 + i$.\n\nDo đó, tổng $P$ sẽ là:\n\\[\nP = 504 \\cdot 0 + (1 + i) = 1 + i\n\\]\n",
         "\n$P = 1 + i$\n",
         "Both Correct",
         "No explanation provided"
        ],
        [
         "7",
         "7",
         "Cho $A = 1 + i^2 + i^4 + .. + i^{4k-2} + i^{4k}$ với k là số nguyên dương. Tính A?",
         "Do A là tổng của một cấp số nhân (gồm 2k + 1 số hạng) với số hạng đầu $u_1 = 1$, công bội q = $i^2$. Suy ra $A = 1 + i^2 + i^4 + .. + i^{4k-2} + i^{4k} = \\frac{1 - (i^2)^{2k+1}}{1 - i^2} = \\frac{1 - (-1)^{2k+1}}{1 - (-1)} = \\frac{1 - (-1)^{2k} \\cdot (-1)^1}{2} = 1$",
         "1",
         "\nĐể tính giá trị của $A = 1 + i^2 + i^4 + \\ldots + i^{4k-2} + i^{4k}$, trước tiên ta cần biết các giá trị của số ảo $i$.\n\nSố ảo $i$ được định nghĩa là $i = \\sqrt{-1}$. Các lũy thừa của $i$ có chu kỳ 4 như sau:\n\\[\n\\begin{align*}\ni^0 & = 1, \\\\\ni^1 & = i, \\\\\ni^2 & = -1, \\\\\ni^3 & = -i, \\\\\ni^4 & = 1, \\\\\ni^5 & = i, \\\\\n& \\vdots\n\\end{align*}\n\\]\n\nTừ đó, ta có thể thấy rằng:\n- $i^{4k} = 1$,\n- $i^{4k-2} = -1$,\n- $i^{4k-4} = 1$,\n- $i^{4k-6} = -1$, và cứ tiếp tục như vậy.\n\nBây giờ, ta sẽ nhóm các hạng tử trong $A$:\n\\[\nA = (1 + i^2) + (i^4 + i^6) + \\ldots + (i^{4k-2} + i^{4k}).\n\\]\n\nTa có thể viết lại $A$ như sau:\n\\[\nA = 1 + (-1) + 1 + (-1) + \\ldots + 1 + (-1).\n\\]\n\nSố lượng các hạng tử trong $A$ là $k + 1$ hạng tử (từ $i^0$ đến $i^{4k}$). Trong đó, có $k$ hạng tử là $1$ và $k$ hạng tử là $-1$.\n\nNếu $k$ là số nguyên dương, thì số hạng $1$ và $-1$ sẽ có số lượng bằng nhau, do đó:\n- Nếu $k$ là chẵn, số hạng $1$ và $-1$ sẽ triệt tiêu nhau, và $A = 1$.\n- Nếu $k$ là lẻ, số hạng $1$ sẽ nhiều hơn một hạng tử $-1$, do đó $A = 1$.\n\nVì vậy, trong cả hai trường hợp, ta có:\n\\[\nA = 1.\n\\]\n",
         "\n$A = 1$\n",
         "Both Correct",
         "No explanation provided"
        ],
        [
         "8",
         "8",
         "Tìm số phức liên hợp của số phức $z = (3 - 2i).(2 + 3i)$",
         "Ta có: $z = (3 - 2i).(2 + 3i) = 6 + 9i - 4i + 6 = 12 + 5i$ \\Rightarrow Số phức liên hợp với số phức z là $\\overline{z} = 12 - 5i$",
         "$12 - 5i$",
         "\nĐể tìm số phức liên hợp của số phức $z = (3 - 2i)(2 + 3i)$, ta thực hiện các bước sau:\n\n1. **Tính tích của hai số phức**:\n   Sử dụng quy tắc phân phối để tính tích:\n   \\[\n   z = (3 - 2i)(2 + 3i) = 3 \\cdot 2 + 3 \\cdot 3i - 2i \\cdot 2 - 2i \\cdot 3i\n   \\]\n   Tính từng phần:\n   - $3 \\cdot 2 = 6$\n   - $3 \\cdot 3i = 9i$\n   - $-2i \\cdot 2 = -4i$\n   - $-2i \\cdot 3i = 6$ (vì $i^2 = -1$)\n\n   Kết hợp lại:\n   \\[\n   z = 6 + 9i - 4i + 6 = 12 + 5i\n   \\]\n\n2. **Tìm số phức liên hợp**:\n   Số phức liên hợp của một số phức $a + bi$ là $a - bi$. \n   Ở đây, với $z = 12 + 5i$, số phức liên hợp sẽ là:\n   \\[\n   \\overline{z} = 12 - 5i\n   \\]\n\n3. **Kết luận**:\n   Số phức liên hợp của $z$ là $12 - 5i$.\n",
         "\n$\\overline{z} = 12 - 5i$\n",
         "Both Correct",
         "No explanation provided"
        ],
        [
         "9",
         "9",
         "Cho số phức $z = 5 - 3i$. Tính $1 + \\overline{z} + (\\overline{z})^2$ ta được kết quả:",
         "Ta có $z = 5 - 3i \\Rightarrow \\overline{z} = 5 + 3i$ Suy ra : $1 + \\overline{z} + (\\overline{z})^2 = 1 + (5 + 3i) + (5 + 3i)^2 = (6 + 3i) + (25 + 30i - 9) = 22 + 33i$",
         "22 + 33i",
         "\nĐể giải bài toán, ta thực hiện các bước sau:\n\n1. **Tính giá trị của $\\overline{z}$**:\n   Số phức $z = 5 - 3i$ có phần thực là $5$ và phần ảo là $-3$. Do đó, số phức liên hợp của $z$ được tính như sau:\n   \\[\n   \\overline{z} = 5 + 3i\n   \\]\n\n2. **Tính giá trị của $(\\overline{z})^2$**:\n   Ta sẽ tính bình phương của số phức liên hợp:\n   \\[\n   (\\overline{z})^2 = (5 + 3i)^2\n   \\]\n   Sử dụng công thức bình phương của một tổng:\n   \\[\n   (a + b)^2 = a^2 + 2ab + b^2\n   \\]\n   với $a = 5$ và $b = 3i$, ta có:\n   \\[\n   (5 + 3i)^2 = 5^2 + 2 \\cdot 5 \\cdot 3i + (3i)^2 = 25 + 30i + 9i^2\n   \\]\n   Biết rằng $i^2 = -1$, ta thay vào:\n   \\[\n   9i^2 = 9(-1) = -9\n   \\]\n   Vậy:\n   \\[\n   (5 + 3i)^2 = 25 + 30i - 9 = 16 + 30i\n   \\]\n\n3. **Tính giá trị của $1 + \\overline{z} + (\\overline{z})^2$**:\n   Bây giờ ta thay các giá trị đã tính vào biểu thức:\n   \\[\n   1 + \\overline{z} + (\\overline{z})^2 = 1 + (5 + 3i) + (16 + 30i)\n   \\]\n   Tính từng phần:\n   \\[\n   = 1 + 5 + 16 + (3i + 30i) = 22 + 33i\n   \\]\n\nKết quả cuối cùng là:\n\\[\n1 + \\overline{z} + (\\overline{z})^2 = 22 + 33i\n\\]\n",
         "\n$22 + 33i$\n",
         "Both Correct",
         "No explanation provided"
        ],
        [
         "10",
         "10",
         "Cho số phức z thỏa $(1 + 3i)z - (2 + 5i) = (2 + i)z$. Tìm số phức liên hợp của số phức z.",
         "Theo giả thiết ta có: $(1 + 3i)z - (2 + 5i) = (2 + i)z \\Rightarrow (1 + 3i - 2 - i)z = 2 + 5i \\Leftrightarrow (-1 + 2i)z = 2 + 5i \\Rightarrow z = \\frac{2 + 5i}{-1 + 2i} = \\frac{8}{5} + \\frac{9}{5}i$",
         "$\\frac{8}{5} + \\frac{9}{5}i$",
         "\nBắt đầu từ phương trình đã cho:\n\n$$(1 + 3i)z - (2 + 5i) = (2 + i)z.$$\n\nChúng ta sẽ đưa tất cả các hạng tử về một phía:\n\n$$(1 + 3i)z - (2 + i)z = 2 + 5i.$$\n\nGom nhóm các hạng tử có chứa $z$:\n\n$$(1 + 3i - 2 - i)z = 2 + 5i.$$\n\nTính toán các hệ số:\n\n$$(-1 + 2i)z = 2 + 5i.$$\n\nBây giờ, để tìm $z$, ta chia cả hai vế cho $(-1 + 2i)$:\n\n$$z = \\frac{2 + 5i}{-1 + 2i}.$$\n\nĐể thực hiện phép chia số phức, ta nhân cả tử và mẫu với liên hợp của mẫu:\n\n$$z = \\frac{(2 + 5i)(-1 - 2i)}{(-1 + 2i)(-1 - 2i)}.$$\n\nTính mẫu:\n\n$$(-1 + 2i)(-1 - 2i) = 1 + 4 = 5.$$\n\nTính tử:\n\n\\[\n(2 + 5i)(-1 - 2i) = 2(-1) + 2(-2i) + 5i(-1) + 5i(-2i) = -2 - 4i - 5i + 10 = 8 - 9i.\n\\]\n\nVậy ta có:\n\n$$z = \\frac{8 - 9i}{5} = \\frac{8}{5} - \\frac{9}{5}i.$$\n\nCuối cùng, để tìm số phức liên hợp của $z$, ta chỉ cần đổi dấu phần ảo:\n\n$$\\overline{z} = \\frac{8}{5} + \\frac{9}{5}i.$$\n",
         "\n$$\\overline{z} = \\frac{8}{5} + \\frac{9}{5}i.$$\n",
         "Correct Answer, Wrong Explanation",
         "No explanation provided"
        ],
        [
         "11",
         "11",
         "Tìm số phức z, biết $z + 2i\\overline{z} + 4 = i$",
         "Gọi số phức z cần tìm là $z = a + bi$ ($a, b \\in R$). Số phức liên hợp với số phức z là: $\\overline{z} = a - bi$. Theo giả thiết: $z + 2i\\overline{z} + 4 = i \\Rightarrow a + bi + 2i(a - bi) + 4 = i \\Rightarrow a + bi + 2ai + 2b + 4 - i = 0 \\Rightarrow (a + 2b + 4) + (b + 2a - 1)i = 0 \\Rightarrow \\begin{cases} a + 2b = -4 \\\\ b + 2a = 1 \\end{cases} \\Rightarrow \\begin{cases} a = 2 \\\\ b = -3 \\end{cases}$ Suy ra $z = 2 - 3i$",
         "2 - 3i",
         "\nĐể giải bài toán, ta bắt đầu từ phương trình đã cho:\n\n\\[\nz + 2i\\overline{z} + 4 = i\n\\]\n\nGọi số phức \\( z \\) có dạng \\( z = x + yi \\), trong đó \\( x \\) và \\( y \\) là các số thực. Khi đó, phần liên hợp của \\( z \\) là \\( \\overline{z} = x - yi \\).\n\nThay vào phương trình, ta có:\n\n\\[\n(x + yi) + 2i(x - yi) + 4 = i\n\\]\n\nTiến hành tính toán:\n\n\\[\nx + yi + 2i(x - yi) + 4 = i\n\\]\n\n\\[\nx + yi + 2ix - 2y + 4 = i\n\\]\n\nNhóm các phần thực và phần ảo lại với nhau:\n\n\\[\n(x + 4 - 2y) + (y + 2x)i = i\n\\]\n\nSo sánh phần thực và phần ảo của hai vế, ta có hệ phương trình:\n\n1. \\( x + 4 - 2y = 0 \\)\n2. \\( y + 2x = 1 \\)\n\nGiải hệ phương trình này:\n\nTừ phương trình (1), ta có:\n\n\\[\nx - 2y = -4 \\quad (1)\n\\]\n\nTừ phương trình (2):\n\n\\[\ny + 2x = 1 \\quad (2)\n\\]\n\nTừ (1), ta có \\( x = 2y - 4 \\). Thay vào (2):\n\n\\[\ny + 2(2y - 4) = 1\n\\]\n\n\\[\ny + 4y - 8 = 1\n\\]\n\n\\[\n5y - 8 = 1\n\\]\n\n\\[\n5y = 9 \\implies y = \\frac{9}{5}\n\\]\n\nThay giá trị của \\( y \\) vào (1):\n\n\\[\nx + 4 - 2\\left(\\frac{9}{5}\\right) = 0\n\\]\n\n\\[\nx + 4 - \\frac{18}{5} = 0\n\\]\n\n\\[\nx = \\frac{18}{5} - 4 = \\frac{18}{5} - \\frac{20}{5} = -\\frac{2}{5}\n\\]\n\nVậy ta có:\n\n\\[\nx = -\\frac{2}{5}, \\quad y = \\frac{9}{5}\n\\]\n\nDo đó, số phức \\( z \\) là:\n\n\\[\nz = -\\frac{2}{5} + \\frac{9}{5}i\n\\]\n",
         "\n\\[\nz = -\\frac{2}{5} + \\frac{9}{5}i\n\\]\n",
         "Both Incorrect",
         "No explanation provided"
        ],
        [
         "12",
         "12",
         "Tìm số phức z, biết $|z| = \\sqrt{5}$, phần thực bằng 2 lần phần ảo và phần thực dương",
         "Cho số phức $z = a + bi$, ($a, b \\in R$) và $a > 0$. Do phần thực bằng 2 lần phần ảo nên: $a = 2b$ (1). mà $|z| = \\sqrt{5} \\Leftrightarrow \\sqrt{a^2 + b^2} = \\sqrt{5} \\Rightarrow a^2 + b^2 = 5$ (2). Từ (1) và (2) ta có hệ phương trình: $\\begin{cases} a = 2b \\\\ a^2 + b^2 = 5 \\end{cases} \\Leftrightarrow \\begin{cases} a = 2 \\\\ b = 1 \\end{cases}$ Vậy số phức cần tìm là $z = 2 + i$.",
         "2 + i",
         "\nĐể tìm số phức $z$, ta có thể biểu diễn nó dưới dạng $z = x + yi$, trong đó $x$ là phần thực và $y$ là phần ảo.\n\nTheo đề bài, ta có các điều kiện sau:\n\n1. $|z| = \\sqrt{5}$, tức là $|x + yi| = \\sqrt{x^2 + y^2} = \\sqrt{5}$.\n2. Phần thực bằng 2 lần phần ảo: $x = 2y$.\n3. Phần thực dương: $x > 0$.\n\nBước 1: Sử dụng điều kiện $|z| = \\sqrt{5}$.\n\nTa có:\n\\[\n\\sqrt{x^2 + y^2} = \\sqrt{5} \\implies x^2 + y^2 = 5.\n\\]\n\nBước 2: Thay thế $x$ bằng $2y$ trong phương trình trên.\n\nThay $x = 2y$ vào phương trình $x^2 + y^2 = 5$:\n\\[\n(2y)^2 + y^2 = 5 \\implies 4y^2 + y^2 = 5 \\implies 5y^2 = 5 \\implies y^2 = 1.\n\\]\n\nBước 3: Giải phương trình $y^2 = 1$.\n\nTa có:\n\\[\ny = 1 \\quad \\text{hoặc} \\quad y = -1.\n\\]\n\nBước 4: Tìm giá trị của $x$.\n\n- Nếu $y = 1$, thì $x = 2y = 2 \\cdot 1 = 2$.\n- Nếu $y = -1$, thì $x = 2y = 2 \\cdot (-1) = -2$ (không thỏa mãn điều kiện $x > 0$).\n\nVậy chỉ có nghiệm duy nhất là $y = 1$ và $x = 2$.\n\nBước 5: Kết luận.\n\nSố phức $z$ là:\n\\[\nz = x + yi = 2 + 1i = 2 + i.\n\\]\n",
         "\n$z = 2 + i$\n",
         "Both Correct",
         "No explanation provided"
        ],
        [
         "13",
         "13",
         "Cho số phức z có phần thực là số nguyên và z thỏa mãn: $|z| - 2\\overline{z} = -7 + 3i + z$. Tính môđun của số phức: $\\omega = 1 - z + z^2$",
         "Gọi số phức cần tìm là $z = a + bi$, ($a, b \\in R$). Số phức liên hợp của số phức z là: $\\overline{z} = a - bi$ và $|z| = \\sqrt{a^2 + b^2}$. Theo giả thiết ta có: $|z| - 2\\overline{z} = -7 + 3i + z \\Leftrightarrow \\sqrt{a^2 + b^2} - 2(a - bi) = -7 + 3i + a + bi \\Leftrightarrow \\begin{cases} \\sqrt{a^2 + b^2} - 2a = -7 + a \\\\ 2b = 3 + b \\end{cases} \\Leftrightarrow \\begin{cases} 8a^2 - 42a + 40 = 0 \\\\ b = 3 \\end{cases} \\Leftrightarrow \\begin{cases} a \\geq \\frac{7}{3} \\\\ b = 3 \\end{cases} \\Leftrightarrow \\begin{cases} a = 4 \\\\ b = 3 \\end{cases}$. vậy $z = 4 + 3i \\Rightarrow \\omega = 1 - (4 + 3i) + (4 + 3i)^2 = 4 + 21i \\Rightarrow |\\omega| = \\sqrt{4^2 + 21^2} = \\sqrt{457}$",
         "$\\sqrt{457}$",
         "\nĐể giải bài toán, ta bắt đầu từ phương trình đã cho:\n\n$$|z| - 2\\overline{z} = -7 + 3i + z.$$\n\nGọi số phức $z$ có phần thực là $x$ (số nguyên) và phần ảo là $y$, tức là $z = x + yi$. Khi đó, ta có:\n\n$$\\overline{z} = x - yi,$$\n$$|z| = \\sqrt{x^2 + y^2}.$$\n\nThay vào phương trình, ta có:\n\n$$\\sqrt{x^2 + y^2} - 2(x - yi) = -7 + 3i + (x + yi).$$\n\nRút gọn phương trình:\n\n$$\\sqrt{x^2 + y^2} - 2x + 2yi = -7 + 3i + x + yi.$$\n\nTách phần thực và phần ảo:\n\n1. Phần thực: \n$$\\sqrt{x^2 + y^2} - 2x = -7 + x,$$\n$$\\sqrt{x^2 + y^2} = -7 + 3x.$$\n\n2. Phần ảo:\n$$2y = 3 + y,$$\n$$y = 3.$$\n\nThay $y = 3$ vào phương trình phần thực:\n\n$$\\sqrt{x^2 + 3^2} = -7 + 3x,$$\n$$\\sqrt{x^2 + 9} = -7 + 3x.$$\n\nBình phương hai vế:\n\n$$x^2 + 9 = (-7 + 3x)^2,$$\n$$x^2 + 9 = 49 - 42x + 9x^2.$$\n\nRút gọn:\n\n$$0 = 8x^2 - 42x + 40,$$\n$$0 = 4x^2 - 21x + 20.$$\n\nGiải phương trình bậc hai bằng công thức:\n\n$$x = \\frac{-b \\pm \\sqrt{b^2 - 4ac}}{2a} = \\frac{21 \\pm \\sqrt{(-21)^2 - 4 \\cdot 4 \\cdot 20}}{2 \\cdot 4} = \\frac{21 \\pm \\sqrt{441 - 320}}{8} = \\frac{21 \\pm \\sqrt{121}}{8} = \\frac{21 \\pm 11}{8}.$$\n\nTính các nghiệm:\n\n1. $x_1 = \\frac{32}{8} = 4$.\n2. $x_2 = \\frac{10}{8} = \\frac{5}{4}$ (không phải số nguyên).\n\nVậy $x = 4$ và $y = 3$, suy ra:\n\n$$z = 4 + 3i.$$\n\nTiếp theo, ta tính môđun của số phức $\\omega = 1 - z + z^2$:\n\n$$z^2 = (4 + 3i)^2 = 16 + 24i - 9 = 7 + 24i.$$\n\nVậy:\n\n$$\\omega = 1 - (4 + 3i) + (7 + 24i) = 1 - 4 + 7 + (24 - 3)i = 4 + 21i.$$\n\nCuối cùng, tính môđun của $\\omega$:\n\n$$|\\omega| = |4 + 21i| = \\sqrt{4^2 + 21^2} = \\sqrt{16 + 441} = \\sqrt{457}.$$\n\n",
         "\n$|\\omega| = \\sqrt{457}$\n",
         "Both Correct",
         "No explanation provided"
        ],
        [
         "14",
         "14",
         "Cho hai số phức $z_1$ và $z_2$ thỏa mãn $|z_1| = |z_2| = 1$; $|z_1 + z_2| = \\sqrt{3}$. Tính $|z_1 - z_2|$",
         "Ta có: $3 = |z_1 + z_2|^2 = (z_1 + z_2)(\\overline{z_1} + \\overline{z_2}) \\Rightarrow z_1 \\overline{z_2} + z_2 \\overline{z_1} + z_1 \\overline{z_1} + z_2 \\overline{z_2} = 3 \\Rightarrow z_1 \\overline{z_2} + z_2 \\overline{z_1} = 1$ Vì $|z_1| = |z_2| = 1$ nên $z_1 \\cdot \\overline{z_1} = 1$; $z_2 \\cdot \\overline{z_2} = 1$. Khi đó: $|z_1 - z_2|^2 = (z_1 - z_2)(\\overline{z_1} - \\overline{z_2}) = |z_1|^2 + |z_2|^2 - (z_1 \\overline{z_2} + z_2 \\overline{z_1}) = 1$",
         "1",
         "\nĐể giải bài toán, ta sẽ sử dụng các tính chất của số phức và định lý về độ dài của vector.\n\n1. **Giả sử**: \n   Gọi $z_1 = e^{i\\theta_1}$ và $z_2 = e^{i\\theta_2}$, với $\\theta_1, \\theta_2 \\in \\mathbb{R}$, vì $|z_1| = |z_2| = 1$.\n\n2. **Tính độ dài của tổng**:\n   Ta có:\n   \\[\n   |z_1 + z_2| = |e^{i\\theta_1} + e^{i\\theta_2}| = |e^{i\\theta_1}(1 + e^{i(\\theta_2 - \\theta_1)})| = |1 + e^{i(\\theta_2 - \\theta_1)}|\n   \\]\n   Do đó, ta có:\n   \\[\n   |1 + e^{i(\\theta_2 - \\theta_1)}| = \\sqrt{3}\n   \\]\n\n3. **Sử dụng công thức độ dài**:\n   Gọi $\\phi = \\theta_2 - \\theta_1$. Ta có:\n   \\[\n   |1 + e^{i\\phi}| = \\sqrt{3}\n   \\]\n   Sử dụng công thức độ dài:\n   \\[\n   |1 + e^{i\\phi}|^2 = (1 + \\cos \\phi)^2 + \\sin^2 \\phi = 1 + 2\\cos \\phi + \\cos^2 \\phi + \\sin^2 \\phi = 2 + 2\\cos \\phi\n   \\]\n   Do đó:\n   \\[\n   2 + 2\\cos \\phi = 3 \\implies 2\\cos \\phi = 1 \\implies \\cos \\phi = \\frac{1}{2}\n   \\]\n   Điều này dẫn đến:\n   \\[\n   \\phi = \\frac{\\pi}{3} \\text{ hoặc } \\phi = -\\frac{\\pi}{3}\n   \\]\n\n4. **Tính độ dài của hiệu**:\n   Ta cần tính $|z_1 - z_2|$:\n   \\[\n   |z_1 - z_2| = |e^{i\\theta_1} - e^{i\\theta_2}| = |e^{i\\theta_1}(1 - e^{i(\\theta_2 - \\theta_1)})| = |1 - e^{i\\phi}|\n   \\]\n   Tương tự như trên, ta có:\n   \\[\n   |1 - e^{i\\phi}|^2 = (1 - \\cos \\phi)^2 + \\sin^2 \\phi = 1 - 2\\cos \\phi + \\cos^2 \\phi + \\sin^2 \\phi = 2 - 2\\cos \\phi\n   \\]\n   Thay $\\cos \\phi = \\frac{1}{2}$ vào:\n   \\[\n   |1 - e^{i\\phi}|^2 = 2 - 2 \\cdot \\frac{1}{2} = 1 \\implies |1 - e^{i\\phi}| = 1\n   \\]\n\n5. **Kết luận**:\n   Vậy ta có:\n   \\[\n   |z_1 - z_2| = 1\n   \\]\n",
         "\n$|z_1 - z_2| = 1$\n",
         "Correct Answer, Wrong Explanation",
         "No explanation provided"
        ],
        [
         "15",
         "15",
         "Cho số phức z thỏa mãn $|z + 3| = 5$ và $|z - 2i| = |z - 2 - 2i|$. Tính $|z|$.",
         "Gọi số phức z cần tìm là $z = a + bi$ ($a, b \\in R$). Ta có: $|z + 3| = 5 \\Leftrightarrow |a + bi + 3| = 5 \\Leftrightarrow (a + 3)^2 + b^2 = 25$ (*). $|z - 2i| = |z - 2 - 2i| \\Leftrightarrow |a + bi - 2i| = |a + bi - 2 - 2i| \\Leftrightarrow a^2 + (b - 2)^2 = (a - 2)^2 + (b - 2)^2 \\Leftrightarrow a^2 = (a - 2)^2 \\Leftrightarrow \\begin{cases} a - 2 = a \\\\ a - 2 = -a \\end{cases}$. Thế a = 1 vào (*) ta được $16 + b^2 = 25 \\Rightarrow b^2 = 9$. Do đó, môđun của z là: $|z| = \\sqrt{1^2 + 9} = \\sqrt{10}$",
         "$\\sqrt{10}$",
         "\nĐể giải bài toán, ta sẽ phân tích từng điều kiện của số phức $z$.\n\n1. **Điều kiện đầu tiên**: $|z + 3| = 5$.\n\n   Điều này có nghĩa là số phức $z$ nằm trên một đường tròn có tâm tại $-3$ (trong mặt phẳng phức) và bán kính $5$. Ta có thể viết lại điều kiện này như sau:\n   \\[\n   |z + 3| = 5 \\implies z + 3 = 5e^{i\\theta} \\quad (\\theta \\in [0, 2\\pi])\n   \\]\n   Từ đó, ta có:\n   \\[\n   z = 5e^{i\\theta} - 3\n   \\]\n\n2. **Điều kiện thứ hai**: $|z - 2i| = |z - 2 - 2i|$.\n\n   Điều này có nghĩa là khoảng cách từ $z$ đến $2i$ bằng khoảng cách từ $z$ đến $2 + 2i$. Ta có thể hiểu điều này là $z$ nằm trên đường trung trực của đoạn thẳng nối hai điểm $2i$ và $2 + 2i$.\n\n   Tính tọa độ của hai điểm:\n   - Điểm $A(0, 2)$ (tương ứng với $2i$)\n   - Điểm $B(2, 2)$ (tương ứng với $2 + 2i$)\n\n   Đường trung trực của đoạn thẳng $AB$ là đường thẳng đi qua trung điểm $M(1, 2)$ và vuông góc với đoạn thẳng $AB$. Đoạn thẳng $AB$ nằm ngang, do đó đường trung trực sẽ là đường thẳng đứng tại $x = 1$.\n\n   Vậy điều kiện thứ hai có thể viết lại là:\n   \\[\n   \\text{Re}(z) = 1\n   \\]\n\n3. **Kết hợp hai điều kiện**:\n\n   Từ điều kiện đầu tiên, ta có:\n   \\[\n   z = 5e^{i\\theta} - 3\n   \\]\n   Từ điều kiện thứ hai, ta có:\n   \\[\n   \\text{Re}(z) = 1 \\implies \\text{Re}(5e^{i\\theta} - 3) = 1\n   \\]\n   Suy ra:\n   \\[\n   5\\cos(\\theta) - 3 = 1 \\implies 5\\cos(\\theta) = 4 \\implies \\cos(\\theta) = \\frac{4}{5}\n   \\]\n\n   Từ đó, ta có thể tính được $\\sin(\\theta)$ bằng định lý Pythagore:\n   \\[\n   \\sin^2(\\theta) + \\cos^2(\\theta) = 1 \\implies \\sin^2(\\theta) = 1 - \\left(\\frac{4}{5}\\right)^2 = 1 - \\frac{16}{25} = \\frac{9}{25} \\implies \\sin(\\theta) = \\pm \\frac{3}{5}\n   \\]\n\n4. **Tính $z$**:\n\n   Ta có hai trường hợp cho $z$:\n   - Trường hợp 1: $\\sin(\\theta) = \\frac{3}{5} \\implies z = 5\\left(\\frac{4}{5} + i\\frac{3}{5}\\right) - 3 = 4 + 3i - 3 = 1 + 3i$.\n   - Trường hợp 2: $\\sin(\\theta) = -\\frac{3}{5} \\implies z = 5\\left(\\frac{4}{5} - i\\frac{3}{5}\\right) - 3 = 4 - 3i - 3 = 1 - 3i$.\n\n5. **Tính $|z|$**:\n\n   Tính độ lớn của $z$ trong cả hai trường hợp:\n   - Trường hợp 1: \n   \\[\n   |z| = |1 + 3i| = \\sqrt{1^2 + 3^2} = \\sqrt{10}\n   \\]\n   - Trường hợp 2: \n   \\[\n   |z| = |1 - 3i| = \\sqrt{1^2 + (-3)^2} = \\sqrt{10}\n   \\]\n\nVậy kết quả cuối cùng là:\n\\[\n|z| = \\sqrt{10}\n\\]\n",
         "\n$|z| = \\sqrt{10}$\n",
         "Correct Answer, Wrong Explanation",
         "No explanation provided"
        ],
        [
         "16",
         "16",
         "Cho số phức $z = 2m + (m + 2)i, (m \\in R)$. Tìm z biết rằng $z^2$ là một số phức có phần thực bằng -5.",
         "Ta có: $z^2 = 4m^2 + 2m(m + 2)i + [(m + 2)i]^2 = 3m^2 + 2m(m + 2)i - 4m - 4$. Do $z^2$ là số phức có phần thực bằng -5 nên ta có: $3m^2 - 4m - 4 = -5 \\Leftrightarrow 3m^2 - 4m + 1 = 0 \\Leftrightarrow m = 1; m = \\frac{1}{3}$. Vậy có hai số phức thỏa mãn là $z_1 = 2 + 3i$ và $z_2 = \\frac{2}{3} + \\frac{7}{3}i$.",
         "$z = 2 + 3i, z = \\frac{2}{3} + \\frac{7}{3}i$",
         "\nĐể giải bài toán, ta bắt đầu với số phức $z = 2m + (m + 2)i$, với $m \\in \\mathbb{R}$. \n\nBước 1: Tính $z^2$.\n\\[\nz^2 = (2m + (m + 2)i)^2\n\\]\nÁp dụng công thức bình phương của một tổng:\n\\[\nz^2 = (2m)^2 + 2(2m)((m + 2)i) + ((m + 2)i)^2\n\\]\n\\[\n= 4m^2 + 4m(m + 2)i + (m + 2)^2 i^2\n\\]\nVì $i^2 = -1$, ta có:\n\\[\n= 4m^2 + 4m(m + 2)i - (m + 2)^2\n\\]\n\\[\n= (4m^2 - (m + 2)^2) + 4m(m + 2)i\n\\]\n\nBước 2: Tính phần thực của $z^2$.\n\\[\n\\text{Phần thực} = 4m^2 - (m + 2)^2\n\\]\nMở rộng $(m + 2)^2$:\n\\[\n= 4m^2 - (m^2 + 4m + 4) = 4m^2 - m^2 - 4m - 4 = 3m^2 - 4m - 4\n\\]\n\nBước 3: Đặt điều kiện cho phần thực.\nTheo đề bài, phần thực của $z^2$ bằng -5:\n\\[\n3m^2 - 4m - 4 = -5\n\\]\nGiải phương trình:\n\\[\n3m^2 - 4m - 4 + 5 = 0 \\implies 3m^2 - 4m + 1 = 0\n\\]\n\nBước 4: Tính nghiệm của phương trình bậc 2.\nÁp dụng công thức nghiệm:\n\\[\nm = \\frac{-b \\pm \\sqrt{b^2 - 4ac}}{2a} = \\frac{4 \\pm \\sqrt{(-4)^2 - 4 \\cdot 3 \\cdot 1}}{2 \\cdot 3}\n\\]\n\\[\n= \\frac{4 \\pm \\sqrt{16 - 12}}{6} = \\frac{4 \\pm \\sqrt{4}}{6} = \\frac{4 \\pm 2}{6}\n\\]\nTính các nghiệm:\n\\[\nm_1 = \\frac{6}{6} = 1, \\quad m_2 = \\frac{2}{6} = \\frac{1}{3}\n\\]\n\nBước 5: Tính giá trị của $z$.\nVới $m = 1$:\n\\[\nz_1 = 2(1) + (1 + 2)i = 2 + 3i\n\\]\nVới $m = \\frac{1}{3}$:\n\\[\nz_2 = 2\\left(\\frac{1}{3}\\right) + \\left(\\frac{1}{3} + 2\\right)i = \\frac{2}{3} + \\left(\\frac{1}{3} + \\frac{6}{3}\\right)i = \\frac{2}{3} + \\frac{7}{3}i\n\\]\n\nKết luận: Các giá trị của $z$ là:\n\\[\nz_1 = 2 + 3i \\quad \\text{và} \\quad z_2 = \\frac{2}{3} + \\frac{7}{3}i\n\\]\n",
         "\n$z_1 = 2 + 3i$ và $z_2 = \\frac{2}{3} + \\frac{7}{3}i$\n",
         "Both Correct",
         "No explanation provided"
        ],
        [
         "17",
         "17",
         "Cho số phức $z = m + (m-1)i$; ($m \\in R$) và số phức $z' = 2n + (2-3n)i$ ($n\\in R$). Tìm m và n biết rằng $z - z' = 1 + 7i$",
         "Ta có: $z - z' = [m + (m - 1).i] - [2n + (2 - 3n).i] = (m - 2n) + (m + 3n - 3). i$. Theo giả thiết $z - z' = 1 + 7i$ nên ta có: $(m - 2n) + (m + 3n - 3).i = 1 + 7i$. Từ đó ta có hệ phương trình sau: $\\begin{cases} m - 2n = 1 \\\\ m + 3n - 3 = 7 \\end{cases} \\Leftrightarrow \\begin{cases} m - 2n = 1 \\\\ m + 3n = 10 \\end{cases} \\Leftrightarrow \\begin{cases} m = \\frac{23}{5} \\\\ n = \\frac{9}{5} \\end{cases}$",
         "$m = \\frac{23}{5}; n = \\frac{9}{5}$",
         "\nBắt đầu từ phương trình đã cho:\n\n$$ z - z' = 1 + 7i $$\n\nThay thế $z$ và $z'$ vào phương trình:\n\n$$ (m + (m-1)i) - (2n + (2-3n)i) = 1 + 7i $$\n\nTiến hành tính toán:\n\n$$ m - 2n + ((m-1) - (2-3n))i = 1 + 7i $$\n\nTách phần thực và phần ảo:\n\n1. Phần thực: \n   $$ m - 2n = 1 \\quad (1) $$\n\n2. Phần ảo: \n   $$ (m - 1) - (2 - 3n) = 7 $$\n   $$ m - 1 - 2 + 3n = 7 $$\n   $$ m + 3n - 3 = 7 $$\n   $$ m + 3n = 10 \\quad (2) $$\n\nBây giờ, chúng ta có hệ phương trình:\n\n$$\n\\begin{cases}\nm - 2n = 1 \\quad (1) \\\\\nm + 3n = 10 \\quad (2)\n\\end{cases}\n$$\n\nGiải hệ phương trình này. Từ phương trình (1), ta có:\n\n$$ m = 2n + 1 $$\n\nThay vào phương trình (2):\n\n$$ (2n + 1) + 3n = 10 $$\n$$ 5n + 1 = 10 $$\n$$ 5n = 9 $$\n$$ n = \\frac{9}{5} $$\n\nThay giá trị của $n$ vào phương trình (1) để tìm $m$:\n\n$$ m - 2\\left(\\frac{9}{5}\\right) = 1 $$\n$$ m - \\frac{18}{5} = 1 $$\n$$ m = 1 + \\frac{18}{5} $$\n$$ m = \\frac{5}{5} + \\frac{18}{5} = \\frac{23}{5} $$\n\nVậy ta có:\n\n$$ m = \\frac{23}{5}, \\quad n = \\frac{9}{5} $$\n",
         "\n$m = \\frac{23}{5}, \\quad n = \\frac{9}{5}$\n",
         "Both Correct",
         "No explanation provided"
        ],
        [
         "18",
         "18",
         "Tìm số phức $z = x + yi, (x, y \\in R)$ thỏa mãn $z + 3x = 2\\overline{z} - 3i$. Tìm $|z|$",
         "Vì $z + 3x = 2\\overline{z} - 3i \\Leftrightarrow x + yi + 3x = 2(x - yi) - 3i \\Leftrightarrow 4x + yi = 2x - (2y + 3)i \\Leftrightarrow \\begin{cases} 4x = 2x \\\\ y = -2y - 3 \\end{cases} \\Leftrightarrow \\begin{cases} x = 0 \\\\ y = -1 \\end{cases}$. Do đó, số phức thỏa mãn đầu $z = -i$ và $|z| = 1$",
         "1",
         "\nĐể giải bài toán, ta bắt đầu từ phương trình đã cho:\n\n\\[\nz + 3x = 2\\overline{z} - 3i\n\\]\n\nTrong đó, $z = x + yi$ và $\\overline{z} = x - yi$. Thay thế vào phương trình:\n\n\\[\n(x + yi) + 3x = 2(x - yi) - 3i\n\\]\n\nRút gọn phương trình:\n\n\\[\nx + yi + 3x = 2x - 2yi - 3i\n\\]\n\n\\[\n4x + yi = 2x - 2yi - 3i\n\\]\n\nBây giờ, ta tách phần thực và phần ảo:\n\nPhần thực:\n\n\\[\n4x = 2x \\implies 2x = 0 \\implies x = 0\n\\]\n\nPhần ảo:\n\n\\[\ny = -2y - 3 \\implies 3y = -3 \\implies y = -1\n\\]\n\nVậy ta có:\n\n\\[\nx = 0, \\quad y = -1\n\\]\n\nDo đó, số phức $z$ là:\n\n\\[\nz = 0 - i = -i\n\\]\n\nTiếp theo, ta cần tính độ lớn của số phức $z$:\n\n\\[\n|z| = \\sqrt{x^2 + y^2} = \\sqrt{0^2 + (-1)^2} = \\sqrt{1} = 1\n\\]\n\nVậy kết quả cuối cùng là:\n\n\\[\n|z| = 1\n\\]\n",
         "\n1\n",
         "Both Correct",
         "No explanation provided"
        ],
        [
         "19",
         "19",
         "Có bao nhiêu số phức z có phần ảo gấp ba lần phần thực, đồng thời $|z| = \\sqrt{10}(z + \\overline{z})$",
         "Gọi số phức cần tìm là $z = a + bi$, ($a, b \\in R$). Do số phức z có phần ảo gấp ba lần phần thực nên b = 3a. $\\Rightarrow$ Số phức cần tìm có dạng: $z = a + 3ai$. Số phức liên hợp của số phức z là: $\\overline{z} = a - 3ai$. Theo giả thiết ta có: $|z| = \\sqrt{10}(z + \\overline{z}) \\Leftrightarrow \\sqrt{a^2 + 9a^2} = \\sqrt{10}(a + 3ai + a - 3ai) \\Leftrightarrow \\sqrt{10a^2} = \\sqrt{20}a \\Leftrightarrow 10a^2 = 20a \\Leftrightarrow \\begin{cases} a = 0 \\\\ a = 2 \\end{cases}$. Với a = 0 thì z = 0. Với a = 2 thì z = 2 + 6i. Vậy có hai số phức thỏa mãn là z = 0 hoặc z = 2 + 6i.",
         "2",
         "\nĐể giải bài toán, ta bắt đầu với việc biểu diễn số phức $z$ dưới dạng:\n\n$$ z = x + yi $$\n\nTrong đó $x$ là phần thực và $y$ là phần ảo của số phức $z$. Theo đề bài, phần ảo gấp ba lần phần thực, tức là:\n\n$$ y = 3x $$\n\nTiếp theo, ta thay $y$ vào biểu thức của $z$:\n\n$$ z = x + 3xi = x(1 + 3i) $$\n\nBây giờ, ta cần xem xét điều kiện thứ hai: \n\n$$ |z| = \\sqrt{10}(z + \\overline{z}) $$\n\nTính $|z|$:\n\n$$ |z| = |x(1 + 3i)| = |x| \\cdot |1 + 3i| $$\n\nTính $|1 + 3i|$:\n\n$$ |1 + 3i| = \\sqrt{1^2 + 3^2} = \\sqrt{10} $$\n\nVậy:\n\n$$ |z| = |x| \\cdot \\sqrt{10} $$\n\nTiếp theo, tính $z + \\overline{z}$:\n\n$$ \\overline{z} = x - 3xi = x(1 - 3i) $$\n\nDo đó:\n\n$$ z + \\overline{z} = x(1 + 3i) + x(1 - 3i) = x(2) = 2x $$\n\nThay vào điều kiện thứ hai:\n\n$$ |z| = \\sqrt{10}(z + \\overline{z}) $$\n\nTa có:\n\n$$ |x| \\cdot \\sqrt{10} = \\sqrt{10} \\cdot 2x $$\n\nChia cả hai vế cho $\\sqrt{10}$ (với điều kiện $x \\neq 0$):\n\n$$ |x| = 2x $$\n\nXét hai trường hợp:\n\n1. **Trường hợp 1**: $x \\geq 0$:\n\n   $$ x = 2x \\implies x = 0 $$\n\n2. **Trường hợp 2**: $x < 0$:\n\n   $$ -x = 2x \\implies 3x = 0 \\implies x = 0 $$\n\nTừ cả hai trường hợp, ta thấy $x = 0$. Khi $x = 0$, ta có:\n\n$$ y = 3x = 0 $$\n\nVậy số phức $z$ duy nhất thỏa mãn điều kiện là:\n\n$$ z = 0 + 0i = 0 $$\n\nDo đó, có **1 số phức** thỏa mãn điều kiện đề bài.\n\n",
         "1",
         "Correct Answer, Wrong Explanation",
         "No explanation provided"
        ],
        [
         "20",
         "20",
         "Trong mặt phẳng Oxy cho điểm A là điểm biểu diễn của số phức $z = 1 + 2i$, B là điểm thuộc đường thẳng y=2 sao cho tam giác OAB cân tại O. Tìm số z biểu diễn B.",
         "Ta có, điểm A biểu diễn số phức $z = 1 + 2i$ nên tọa độ A(1 ; 2). Do điểm B nằm trên đường thẳng y=2 nên tọa độ B(x ; 2) ; (x $\\neq$ 1 ). Để tam giác OAB cân tại O khi và chỉ khi OA = OB. $\\Leftrightarrow \\sqrt{1^2 + 2^2} = \\sqrt{x^2 + 2^2} \\Leftrightarrow x^2 + 4 = 5 \\Leftrightarrow \\begin{cases} x = 1 (l) \\\\ x = -1 \\end{cases}$. Suy ra, tọa độ B (-1 ; 2). Do đó,số phức biểu diễn B là $z = -1 + 2i$.",
         "-1 + 2i",
         "\nĐể giải bài toán, ta cần tìm tọa độ điểm B sao cho tam giác OAB cân tại O. \n\n1. **Xác định tọa độ điểm A**:\n   - Điểm A tương ứng với số phức $z = 1 + 2i$, do đó tọa độ của A là $A(1, 2)$.\n\n2. **Xác định đường thẳng y = 2**:\n   - Đường thẳng này là một đường ngang, tức là tất cả các điểm trên đường thẳng này có tọa độ dạng $B(x, 2)$ với $x$ là số thực.\n\n3. **Điều kiện tam giác OAB cân tại O**:\n   - Tam giác OAB cân tại O nếu $OA = OB$. \n   - Tính độ dài OA và OB:\n     - Độ dài $OA = \\sqrt{(1 - 0)^2 + (2 - 0)^2} = \\sqrt{1^2 + 2^2} = \\sqrt{5}$.\n     - Độ dài $OB = \\sqrt{(x - 0)^2 + (2 - 0)^2} = \\sqrt{x^2 + 2^2} = \\sqrt{x^2 + 4}$.\n\n4. **Thiết lập phương trình**:\n   - Để tam giác OAB cân tại O, ta có:\n   $$\n   OA = OB \\implies \\sqrt{5} = \\sqrt{x^2 + 4}\n   $$\n   - Bình phương hai vế:\n   $$\n   5 = x^2 + 4\n   $$\n   - Giải phương trình:\n   $$\n   x^2 = 5 - 4 = 1 \\implies x = \\pm 1\n   $$\n\n5. **Tìm tọa độ điểm B**:\n   - Với $x = 1$, ta có điểm $B(1, 2)$.\n   - Với $x = -1$, ta có điểm $B(-1, 2)$.\n\n6. **Kết luận**:\n   - Số phức biểu diễn điểm B có thể là $z_B = 1 + 2i$ hoặc $z_B = -1 + 2i$.\n\nVậy, số phức biểu diễn điểm B là $z_B = 1 + 2i$ hoặc $z_B = -1 + 2i$.\n",
         "\n$z_B = 1 + 2i \\text{ hoặc } z_B = -1 + 2i$\n",
         "Correct Answer, Wrong Explanation",
         "No explanation provided"
        ],
        [
         "21",
         "21",
         "Cho số phức z thỏa mãn: $(2 + i)z + 2 - i = 0$. Tìm phần thực của số phức.",
         "Ta có: $(2 + i).z + 2 - i = 0 \\Leftrightarrow (2 + i)z = -2 + i \\Leftrightarrow z = \\frac{-2 + i}{2 + i} = \\frac{(-2 + i)(2 - i)}{(2 + i).(2 - i)} \\Leftrightarrow z = \\frac{-4 + 2i + 2i - i^2}{4 - i^2} = \\frac{-3 + 4i}{5}$. Do đó, phần thực của số phức cần tìm là $\\frac{-3}{5}$",
         "$\\frac{-3}{5}$",
         "\nĐể giải bài toán, ta bắt đầu từ phương trình đã cho:\n\n$$(2 + i)z + 2 - i = 0.$$\n\nBước 1: Chuyển vế để tìm $z$.\n\nTa có:\n\n$$(2 + i)z = - (2 - i).$$\n\nBước 2: Chia cả hai vế cho $(2 + i)$ để tìm $z$.\n\n$$z = \\frac{-(2 - i)}{2 + i}.$$\n\nBước 3: Để thực hiện phép chia số phức, ta nhân cả tử và mẫu với phần liên hợp của mẫu:\n\n$$z = \\frac{-(2 - i)(2 - i)}{(2 + i)(2 - i)}.$$\n\nBước 4: Tính toán phần mẫu:\n\n$$(2 + i)(2 - i) = 2^2 - i^2 = 4 + 1 = 5.$$\n\nBước 5: Tính toán phần tử:\n\n$$-(2 - i)(2 - i) = -(4 - 4i + i^2) = - (4 - 4i - 1) = - (3 - 4i) = -3 + 4i.$$\n\nBước 6: Thay vào biểu thức cho $z$:\n\n$$z = \\frac{-3 + 4i}{5} = -\\frac{3}{5} + \\frac{4}{5}i.$$\n\nBước 7: Tìm phần thực của số phức $z$.\n\nPhần thực của $z$ là:\n\n$$\\text{Re}(z) = -\\frac{3}{5}.$$\n\nKết luận, phần thực của số phức $z$ là $-\\frac{3}{5}$.\n",
         "\n-\\frac{3}{5}\n",
         "Both Correct",
         "No explanation provided"
        ],
        [
         "22",
         "22",
         "Giải phương trình $iz + 3 - 2i = 1 + i$",
         "Ta có: $iz + 3 - 2i = 1 + i \\Leftrightarrow iz = 1 + i - 3 + 2i \\Leftrightarrow iz = -2 + 3i \\Leftrightarrow z = \\frac{-2 + 3i}{i} = \\frac{2i - 3i^2}{-i^2} = 3 + 2i$",
         "3 + 2i",
         "\nĐể giải phương trình $iz + 3 - 2i = 1 + i$, ta thực hiện các bước sau:\n\n1. **Chuyển các hạng tử về một phía**:\n   \\[\n   iz + 3 - 2i - 1 - i = 0\n   \\]\n   Rút gọn lại:\n   \\[\n   iz + 2 - 3i = 0\n   \\]\n\n2. **Chuyển hạng tử tự do sang phía bên phải**:\n   \\[\n   iz = 3i - 2\n   \\]\n\n3. **Chia cả hai vế cho $i$** (nhớ rằng $i^2 = -1$):\n   \\[\n   z = \\frac{3i - 2}{i}\n   \\]\n\n4. **Nhân cả tử và mẫu với $-i$ để loại bỏ số ảo trong mẫu**:\n   \\[\n   z = \\frac{(3i - 2)(-i)}{i(-i)} = \\frac{-3i^2 + 2i}{1} = 3 + 2i\n   \\]\n\n5. **Kết luận**:\n   Vậy nghiệm của phương trình là:\n   \\[\n   z = 3 + 2i\n   \\]\n",
         "\n$z = 3 + 2i$\n",
         "Both Correct",
         "No explanation provided"
        ],
        [
         "23",
         "23",
         "Giải phương trình: $(2 + 4i)z + (4 - 2i)z + 2 - 2i = 0$",
         "Ta có: $(2 + 4i).z + (4 - 2i)z + 2 - 2i = 0 \\Leftrightarrow (2 + 4i + 4 - 2i)z = - 2 + 2i \\Leftrightarrow (6 + 2i). z = - 2 + 2i \\Leftrightarrow z = \\frac{-2 + 2i}{6 + 2i} = \\frac{-1 + i}{3 + i} \\Leftrightarrow z = \\frac{(-1 + i).(3 - i)}{(3 + i)(3 - i)} \\Leftrightarrow z = \\frac{-3 + i + 3i - i^2}{9 - i^2} = \\frac{-2 + 4i}{10} = \\frac{-1 + 2i}{5}$",
         "$\\frac{-1 + 2i}{5}$",
         "\nĐể giải phương trình $(2 + 4i)z + (4 - 2i)z + 2 - 2i = 0$, ta thực hiện các bước sau:\n\n1. **Gộp các hạng tử**: \n   Ta có thể gộp các hạng tử chứa $z$ lại với nhau:\n   $$(2 + 4i)z + (4 - 2i)z = ((2 + 4i) + (4 - 2i))z = (6 + 2i)z.$$\n\n   Vậy phương trình trở thành:\n   $$(6 + 2i)z + 2 - 2i = 0.$$\n\n2. **Chuyển hạng tử tự do sang bên phải**:\n   $$ (6 + 2i)z = - (2 - 2i). $$\n\n3. **Chia cả hai vế cho $(6 + 2i)$**:\n   $$ z = \\frac{-(2 - 2i)}{6 + 2i}. $$\n\n4. **Rút gọn phân số**:\n   Để rút gọn, ta nhân tử số và mẫu số với liên hợp của mẫu số:\n   $$ z = \\frac{-(2 - 2i)(6 - 2i)}{(6 + 2i)(6 - 2i)}. $$\n\n   Tính mẫu số:\n   $$(6 + 2i)(6 - 2i) = 6^2 - (2i)^2 = 36 - (-4) = 36 + 4 = 40.$$\n\n   Tính tử số:\n   \\[\n   -(2 - 2i)(6 - 2i) = -[(2 \\cdot 6) + (2 \\cdot -2i) + (-2i \\cdot 6) + (-2i \\cdot -2i)] = -[12 - 4i - 12i + 4] = -[16 - 16i] = -16 + 16i.\n   \\]\n\n   Vậy ta có:\n   $$ z = \\frac{-16 + 16i}{40} = \\frac{-2 + 2i}{5} = -\\frac{2}{5} + \\frac{2}{5}i. $$\n\n5. **Kết luận**:\n   Vậy nghiệm của phương trình là:\n   $$ z = -\\frac{2}{5} + \\frac{2}{5}i. $$\n\n",
         "\n$z = -\\frac{2}{5} + \\frac{2}{5}i$\n",
         "Correct Answer, Wrong Explanation",
         "No explanation provided"
        ],
        [
         "24",
         "24",
         "Giải phương trình $(1 + 2i)z + \\frac{2 + 6i}{1 - i} = 0$",
         "Ta có: $(1 + 2i)z + \\frac{2 + 6i}{1 - i} = 0 \\Leftrightarrow (1 + 2i)z = \\frac{-2 - 6i}{1 - i} \\Leftrightarrow (1 + 2i)z = \\frac{(-2 - 6i).(1 + i)}{(1 - i)(1 + i)} \\Leftrightarrow (1 + 2i)z = \\frac{-2 - 2i - 6i - 6i^2}{2} \\Leftrightarrow (1 + 2i)z = \\frac{4 - 8i}{2} \\Leftrightarrow (1 + 2i)z = -2 + 4i \\Leftrightarrow z = \\frac{-2 + 4i}{1 + 2i} = \\frac{(-2 + 4i)(1 - 2i)}{(1 + 2i)(1 - 2i)} \\Leftrightarrow z = \\frac{-2 + 4i + 4i - 8i^2}{1 - 4i^2} \\Leftrightarrow z = \\frac{6 + 8i}{5}$",
         "$\\frac{6 + 8i}{5}$",
         "\nĐể giải phương trình $(1 + 2i)z + \\frac{2 + 6i}{1 - i} = 0$, ta thực hiện các bước sau:\n\n**Bước 1: Tính giá trị của $\\frac{2 + 6i}{1 - i}$**\n\nĐể tính giá trị này, ta nhân tử số và mẫu số với liên hợp của mẫu số:\n\n\\[\n\\frac{2 + 6i}{1 - i} \\cdot \\frac{1 + i}{1 + i} = \\frac{(2 + 6i)(1 + i)}{(1 - i)(1 + i)}\n\\]\n\nTính mẫu số:\n\n\\[\n(1 - i)(1 + i) = 1^2 - i^2 = 1 - (-1) = 2\n\\]\n\nTính tử số:\n\n\\[\n(2 + 6i)(1 + i) = 2 \\cdot 1 + 2 \\cdot i + 6i \\cdot 1 + 6i \\cdot i = 2 + 2i + 6i - 6 = -4 + 8i\n\\]\n\nVậy ta có:\n\n\\[\n\\frac{2 + 6i}{1 - i} = \\frac{-4 + 8i}{2} = -2 + 4i\n\\]\n\n**Bước 2: Thay vào phương trình ban đầu**\n\nThay giá trị vừa tính vào phương trình:\n\n\\[\n(1 + 2i)z - 2 + 4i = 0\n\\]\n\n**Bước 3: Giải phương trình cho $z$**\n\nChuyển hạng tử sang bên phải:\n\n\\[\n(1 + 2i)z = 2 - 4i\n\\]\n\nChia cả hai vế cho $(1 + 2i)$:\n\n\\[\nz = \\frac{2 - 4i}{1 + 2i}\n\\]\n\n**Bước 4: Tính giá trị của $z$**\n\nTương tự như trước, ta nhân tử số và mẫu số với liên hợp của mẫu số:\n\n\\[\nz = \\frac{(2 - 4i)(1 - 2i)}{(1 + 2i)(1 - 2i)}\n\\]\n\nTính mẫu số:\n\n\\[\n(1 + 2i)(1 - 2i) = 1^2 - (2i)^2 = 1 - (-4) = 5\n\\]\n\nTính tử số:\n\n\\[\n(2 - 4i)(1 - 2i) = 2 \\cdot 1 - 2 \\cdot 2i - 4i \\cdot 1 + 8i^2 = 2 - 4i - 4i - 8 = -6 - 8i\n\\]\n\nVậy ta có:\n\n\\[\nz = \\frac{-6 - 8i}{5} = -\\frac{6}{5} - \\frac{8}{5}i\n\\]\n\n**Kết luận:**\n\nGiá trị của $z$ là:\n\n\\[\nz = -\\frac{6}{5} - \\frac{8}{5}i\n\\]\n",
         "\n$z = -\\frac{6}{5} - \\frac{8}{5}i$\n",
         "Correct Answer, Wrong Explanation",
         "No explanation provided"
        ],
        [
         "25",
         "25",
         "Giải phương trình bậc hai sau: $z^2 - z + 1 = 0$",
         "Ta có: a = 1 ; b = -1 ; c = 1 nên $\\Delta = b^2 - 4ac = -3 < 0$. Phương trình có hai nghiệm phức phân biệt là $x_{1,2} = \\frac{1 \\pm i\\sqrt{3}}{2}$",
         "$\\frac{1 \\pm i\\sqrt{3}}{2}$",
         "\nĐể giải phương trình bậc hai $z^2 - z + 1 = 0$, ta sẽ sử dụng công thức nghiệm của phương trình bậc hai:\n\n$$ z = \\frac{-b \\pm \\sqrt{b^2 - 4ac}}{2a} $$\n\nTrong đó, $a = 1$, $b = -1$, và $c = 1$. \n\nBước 1: Tính $b^2 - 4ac$:\n\n$$ b^2 - 4ac = (-1)^2 - 4 \\cdot 1 \\cdot 1 = 1 - 4 = -3 $$\n\nBước 2: Thay vào công thức nghiệm:\n\n$$ z = \\frac{-(-1) \\pm \\sqrt{-3}}{2 \\cdot 1} = \\frac{1 \\pm \\sqrt{-3}}{2} $$\n\nBước 3: Biểu diễn nghiệm dưới dạng số phức:\n\n$$ z = \\frac{1}{2} \\pm \\frac{\\sqrt{3}}{2} i $$\n\nVậy nghiệm của phương trình là:\n\n$$ z_1 = \\frac{1}{2} + \\frac{\\sqrt{3}}{2} i $$\n$$ z_2 = \\frac{1}{2} - \\frac{\\sqrt{3}}{2} i $$\n\n",
         "\nNghiệm của phương trình $z^2 - z + 1 = 0$ là $z_1 = \\frac{1}{2} + \\frac{\\sqrt{3}}{2} i$ và $z_2 = \\frac{1}{2} - \\frac{\\sqrt{3}}{2} i$.\n",
         "Both Correct",
         "No explanation provided"
        ],
        [
         "26",
         "26",
         "Trong C , nghiệm của phương trình $z^2 + \\sqrt{5} = 0$ là:",
         "$z^2 + \\sqrt{5} = 0 \\Leftrightarrow z^2 = -\\sqrt{5} \\Leftrightarrow z^2 = i^2\\sqrt{5} \\Leftrightarrow z = \\pm i^4\\sqrt{5}$",
         "$\\pm i^4\\sqrt{5}$",
         "\nĐể giải phương trình $z^2 + \\sqrt{5} = 0$, ta thực hiện các bước sau:\n\n1. **Chuyển hạng tử**: \n   Ta có thể chuyển hạng tử $\\sqrt{5}$ sang bên phải phương trình:\n   \\[\n   z^2 = -\\sqrt{5}\n   \\]\n\n2. **Lấy căn bậc hai**: \n   Để tìm $z$, ta lấy căn bậc hai của cả hai vế. Lưu ý rằng khi lấy căn bậc hai của một số âm, ta sẽ có nghiệm phức:\n   \\[\n   z = \\pm \\sqrt{-\\sqrt{5}} = \\pm i \\sqrt{\\sqrt{5}} = \\pm i \\cdot 5^{1/4}\n   \\]\n\n3. **Kết luận**: \n   Vậy nghiệm của phương trình $z^2 + \\sqrt{5} = 0$ là:\n   \\[\n   z = i \\cdot 5^{1/4} \\quad \\text{hoặc} \\quad z = -i \\cdot 5^{1/4}\n   \\]\n\n",
         "\n$z = i \\cdot 5^{1/4} \\quad \\text{hoặc} \\quad z = -i \\cdot 5^{1/4}$\n",
         "Both Correct",
         "No explanation provided"
        ],
        [
         "27",
         "27",
         "Trong C , nghiệm của phương trình $z^3 - 8 = 0$ là:",
         "Sử dụng hằng đẳng thức số 7, ta có: $z^3 - 8 = 0 \\Leftrightarrow (z - 2)(z^2 + 2z + 4) = 0 \\Leftrightarrow \\begin{bmatrix} z = 2 \\\\ z^2 + 2z + 4 = 0 \\end{bmatrix} \\Leftrightarrow \\begin{bmatrix} z = 2 \\\\ (z + 1)^2 = -3 \\end{bmatrix} \\Leftrightarrow \\begin{bmatrix} z = 2 \\\\ z + 1 = \\sqrt{3}i \\\\ z + 1 = -\\sqrt{3}i \\end{bmatrix} \\Leftrightarrow \\begin{bmatrix} z = 2 \\\\ z = -1 + \\sqrt{3}i \\\\ z = -1 - \\sqrt{3}i \\end{bmatrix}$. Vậy phương trình đã cho có 3 nghiệm phân biệt.",
         "$\\begin{bmatrix} z = 2 \\\\ z = -1 + \\sqrt{3}i \\\\ z = -1 - \\sqrt{3}i \\end{bmatrix}$",
         "\nĐể giải phương trình $z^3 - 8 = 0$, ta có thể viết lại phương trình dưới dạng:\n\n$$\nz^3 = 8\n$$\n\nTiếp theo, ta nhận thấy rằng $8$ có thể được viết dưới dạng số phức như sau:\n\n$$\n8 = 8 \\cdot (\\cos(0) + i \\sin(0))\n$$\n\nBây giờ, ta sẽ sử dụng công thức De Moivre để tìm các nghiệm của phương trình. Các nghiệm của phương trình $z^n = r(\\cos \\theta + i \\sin \\theta)$ được cho bởi:\n\n$$\nz_k = r^{1/n} \\left( \\cos\\left(\\frac{\\theta + 2k\\pi}{n}\\right) + i \\sin\\left(\\frac{\\theta + 2k\\pi}{n}\\right) \\right), \\quad k = 0, 1, \\ldots, n-1\n$$\n\nTrong trường hợp này, $r = 8$, $\\theta = 0$, và $n = 3$. \n\nTính $r^{1/3}$:\n\n$$\nr^{1/3} = 8^{1/3} = 2\n$$\n\nBây giờ, ta sẽ tính các nghiệm cho $k = 0, 1, 2$:\n\n1. Với $k = 0$:\n\n$$\nz_0 = 2 \\left( \\cos\\left(\\frac{0 + 2 \\cdot 0 \\cdot \\pi}{3}\\right) + i \\sin\\left(\\frac{0 + 2 \\cdot 0 \\cdot \\pi}{3}\\right) \\right) = 2 \\left( \\cos(0) + i \\sin(0) \\right) = 2\n$$\n\n2. Với $k = 1$:\n\n$$\nz_1 = 2 \\left( \\cos\\left(\\frac{0 + 2 \\cdot 1 \\cdot \\pi}{3}\\right) + i \\sin\\left(\\frac{0 + 2 \\cdot 1 \\cdot \\pi}{3}\\right) \\right) = 2 \\left( \\cos\\left(\\frac{2\\pi}{3}\\right) + i \\sin\\left(\\frac{2\\pi}{3}\\right) \\right)\n$$\n\nTính giá trị:\n\n$$\n\\cos\\left(\\frac{2\\pi}{3}\\right) = -\\frac{1}{2}, \\quad \\sin\\left(\\frac{2\\pi}{3}\\right) = \\frac{\\sqrt{3}}{2}\n$$\n\nVậy:\n\n$$\nz_1 = 2 \\left( -\\frac{1}{2} + i \\frac{\\sqrt{3}}{2} \\right) = -1 + i\\sqrt{3}\n$$\n\n3. Với $k = 2$:\n\n$$\nz_2 = 2 \\left( \\cos\\left(\\frac{0 + 2 \\cdot 2 \\cdot \\pi}{3}\\right) + i \\sin\\left(\\frac{0 + 2 \\cdot 2 \\cdot \\pi}{3}\\right) \\right) = 2 \\left( \\cos\\left(\\frac{4\\pi}{3}\\right) + i \\sin\\left(\\frac{4\\pi}{3}\\right) \\right)\n$$\n\nTính giá trị:\n\n$$\n\\cos\\left(\\frac{4\\pi}{3}\\right) = -\\frac{1}{2}, \\quad \\sin\\left(\\frac{4\\pi}{3}\\right) = -\\frac{\\sqrt{3}}{2}\n$$\n\nVậy:\n\n$$\nz_2 = 2 \\left( -\\frac{1}{2} - i \\frac{\\sqrt{3}}{2} \\right) = -1 - i\\sqrt{3}\n$$\n\nTóm lại, các nghiệm của phương trình $z^3 - 8 = 0$ là:\n\n$$\nz_0 = 2, \\quad z_1 = -1 + i\\sqrt{3}, \\quad z_2 = -1 - i\\sqrt{3}\n$$\n",
         "\nCác nghiệm của phương trình $z^3 - 8 = 0$ là $z_0 = 2$, $z_1 = -1 + i\\sqrt{3}$, $z_2 = -1 - i\\sqrt{3}$.\n",
         "Both Correct",
         "No explanation provided"
        ],
        [
         "28",
         "28",
         "Trong C , phương trình $z^2 + 3iz + 4 = 0$ có nghiệm là:",
         "Ta có : a = 1 ; b = i ; c = 4 nên : $\\Delta = b^2 - 4ac = (3i)^2 - 4.1.4 = -25 < 0$. Phương trình có hai nghiệm phức là: $z_1 = \\frac{-3i + 5i}{2} = i$ và $z_2 = \\frac{-3i - 5i}{2} = -4i$",
         "$\\begin{bmatrix} z = i \\\\ z = -4i \\end{bmatrix}$",
         "\nĐể giải phương trình $z^2 + 3iz + 4 = 0$, chúng ta sẽ sử dụng công thức nghiệm của phương trình bậc hai:\n\n\\[\nz = \\frac{-b \\pm \\sqrt{b^2 - 4ac}}{2a}\n\\]\n\nTrong đó, $a = 1$, $b = 3i$, và $c = 4$. \n\nBước 1: Tính $b^2 - 4ac$.\n\n\\[\nb^2 = (3i)^2 = 9i^2 = 9(-1) = -9\n\\]\n\n\\[\n4ac = 4 \\cdot 1 \\cdot 4 = 16\n\\]\n\nVậy:\n\n\\[\nb^2 - 4ac = -9 - 16 = -25\n\\]\n\nBước 2: Tính $\\sqrt{b^2 - 4ac}$.\n\n\\[\n\\sqrt{-25} = 5i\n\\]\n\nBước 3: Thay vào công thức nghiệm.\n\n\\[\nz = \\frac{-3i \\pm 5i}{2}\n\\]\n\nBước 4: Tính các nghiệm.\n\nNghiệm thứ nhất:\n\n\\[\nz_1 = \\frac{-3i + 5i}{2} = \\frac{2i}{2} = i\n\\]\n\nNghiệm thứ hai:\n\n\\[\nz_2 = \\frac{-3i - 5i}{2} = \\frac{-8i}{2} = -4i\n\\]\n\nVậy nghiệm của phương trình $z^2 + 3iz + 4 = 0$ là:\n\n\\[\nz_1 = i \\quad \\text{và} \\quad z_2 = -4i\n\\]\n",
         "\nNghiệm của phương trình là $z_1 = i$ và $z_2 = -4i$.\n",
         "Both Correct",
         "No explanation provided"
        ],
        [
         "29",
         "29",
         "Cho z = 1 - i. Tìm căn bậc hai dạng lượng giác của z:",
         "Ta có $z = 1 - i = \\sqrt{2} \\begin{bmatrix} cos(-\\frac{\\pi}{4}) + i sin(-\\frac{\\pi}{4}) \\end{bmatrix}$ có các căn bậc hai là: $w_1 = ^4\\sqrt{2}(cos(\\frac{7\\pi}{8}) + i sin(\\frac{7\\pi}{8})) ; w_2 = ^4\\sqrt{2}(cos(-\\frac{\\pi}{8}) + i sin(-\\frac{-\\pi}{8}))$",
         "$^4\\sqrt{2}(cos(\\frac{7\\pi}{8}) + i sin(\\frac{7\\pi}{8})) ; ^4\\sqrt{2}(cos(-\\frac{\\pi}{8}) + i sin(-\\frac{-\\pi}{8}))$",
         "\nĐể tìm căn bậc hai của số phức $z = 1 - i$, trước tiên chúng ta sẽ chuyển đổi số phức này sang dạng lượng giác.\n\n1. **Tính mô-đun của $z$**:\n   Mô-đun của một số phức $z = a + bi$ được tính bằng công thức:\n   \\[\n   |z| = \\sqrt{a^2 + b^2}\n   \\]\n   Trong trường hợp này, $a = 1$ và $b = -1$. Do đó:\n   \\[\n   |z| = \\sqrt{1^2 + (-1)^2} = \\sqrt{1 + 1} = \\sqrt{2}\n   \\]\n\n2. **Tính góc của $z$**:\n   Góc $\\theta$ của số phức $z$ được tính bằng công thức:\n   \\[\n   \\theta = \\tan^{-1}\\left(\\frac{b}{a}\\right)\n   \\]\n   Ở đây, $b = -1$ và $a = 1$, do đó:\n   \\[\n   \\theta = \\tan^{-1}\\left(\\frac{-1}{1}\\right) = \\tan^{-1}(-1) = -\\frac{\\pi}{4}\n   \\]\n   Tuy nhiên, góc này nằm trong phần tư IV, nên chúng ta có thể viết lại góc này dưới dạng:\n   \\[\n   \\theta = \\frac{7\\pi}{4} \\quad (\\text{để nằm trong khoảng } [0, 2\\pi))\n   \\]\n\n3. **Chuyển đổi sang dạng lượng giác**:\n   Số phức $z$ có thể được viết dưới dạng lượng giác như sau:\n   \\[\n   z = |z| \\left(\\cos \\theta + i \\sin \\theta\\right) = \\sqrt{2} \\left(\\cos\\left(-\\frac{\\pi}{4}\\right) + i \\sin\\left(-\\frac{\\pi}{4}\\right)\\right)\n   \\]\n\n4. **Tìm căn bậc hai của $z$**:\n   Căn bậc hai của một số phức trong dạng lượng giác được tính bằng công thức:\n   \\[\n   \\sqrt{z} = \\sqrt{|z|} \\left(\\cos\\left(\\frac{\\theta + 2k\\pi}{2}\\right) + i \\sin\\left(\\frac{\\theta + 2k\\pi}{2}\\right)\\right) \\quad (k = 0, 1)\n   \\]\n   Tính $\\sqrt{|z|}$:\n   \\[\n   \\sqrt{|z|} = \\sqrt{\\sqrt{2}} = 2^{1/4} = \\sqrt[4]{2}\n   \\]\n\n   Với $k = 0$:\n   \\[\n   \\sqrt{z}_0 = \\sqrt[4]{2} \\left(\\cos\\left(\\frac{-\\frac{\\pi}{4}}{2}\\right) + i \\sin\\left(\\frac{-\\frac{\\pi}{4}}{2}\\right)\\right) = \\sqrt[4]{2} \\left(\\cos\\left(-\\frac{\\pi}{8}\\right) + i \\sin\\left(-\\frac{\\pi}{8}\\right)\\right)\n   \\]\n\n   Với $k = 1$:\n   \\[\n   \\sqrt{z}_1 = \\sqrt[4]{2} \\left(\\cos\\left(\\frac{-\\frac{\\pi}{4} + 2\\pi}{2}\\right) + i \\sin\\left(\\frac{-\\frac{\\pi}{4} + 2\\pi}{2}\\right)\\right) = \\sqrt[4]{2} \\left(\\cos\\left(\\frac{7\\pi}{8}\\right) + i \\sin\\left(\\frac{7\\pi}{8}\\right)\\right)\n   \\]\n\n5. **Kết quả**:\n   Vậy hai căn bậc hai của $z = 1 - i$ là:\n   \\[\n   \\sqrt{z}_0 = \\sqrt[4]{2} \\left(\\cos\\left(-\\frac{\\pi}{8}\\right) + i \\sin\\left(-\\frac{\\pi}{8}\\right)\\right)\n   \\]\n   và\n   \\[\n   \\sqrt{z}_1 = \\sqrt[4]{2} \\left(\\cos\\left(\\frac{7\\pi}{8}\\right) + i \\sin\\left(\\frac{7\\pi}{8}\\right)\\right)\n   \\]\n",
         "\nCăn bậc hai của $z = 1 - i$ là:\n\\[\n\\sqrt{z}_0 = \\sqrt[4]{2} \\left(\\cos\\left(-\\frac{\\pi}{8}\\right) + i \\sin\\left(-\\frac{\\pi}{8}\\right)\\right) \\quad \\text{và} \\quad \\sqrt{z}_1 = \\sqrt[4]{2} \\left(\\cos\\left(\\frac{7\\pi}{8}\\right) + i \\sin\\left(\\frac{7\\pi}{8}\\right)\\right)\n\\]\n",
         "Both Correct",
         "No explanation provided"
        ],
        [
         "30",
         "30",
         "Tìm các căn bậc hai của $w = -5 + 12i$.",
         "Gọi $z = x + yi$ là một căn bậc hai của số phức $w = -5 + 12i$. Ta có $z^2 = w <=>$ $(x + yi)^2 = -5 + 12i$ $<=> \\begin{cases} x^2 - y^2 = -5 \\\\ 2xy = 12 \\end{cases} <=> \\begin{cases} x^2 = 4 \\\\ y = \\frac{6}{x} \\end{cases} <=> \\begin{cases} x = 2 \\\\ y = 3 \\end{cases} \\\\  \\begin{cases} x = -2 \\\\ y = -3 \\end{cases}$ Vậy số phức w có hai căn bậc hai là $2 + 3i$ và $-2 - 3i$.",
         "$2 + 3i$ và $-2 - 3i$",
         "\nĐể tìm các căn bậc hai của số phức $w = -5 + 12i$, ta sẽ sử dụng công thức tìm căn bậc hai của một số phức.\n\nGiả sử $z = x + yi$ là căn bậc hai của $w$, tức là:\n\n\\[\nz^2 = w\n\\]\n\nKhi đó, ta có:\n\n\\[\n(x + yi)^2 = -5 + 12i\n\\]\n\nMở rộng vế trái:\n\n\\[\nx^2 + 2xyi - y^2 = -5 + 12i\n\\]\n\nTách phần thực và phần ảo:\n\n\\[\n(x^2 - y^2) + (2xy)i = -5 + 12i\n\\]\n\nTừ đây, ta có hệ phương trình:\n\n1. $x^2 - y^2 = -5$ (1)\n2. $2xy = 12$ (2)\n\nTừ phương trình (2), ta có:\n\n\\[\nxy = 6 \\implies y = \\frac{6}{x} \\quad (x \\neq 0)\n\\]\n\nThay $y$ vào phương trình (1):\n\n\\[\nx^2 - \\left(\\frac{6}{x}\\right)^2 = -5\n\\]\n\nGiải phương trình này:\n\n\\[\nx^2 - \\frac{36}{x^2} = -5\n\\]\n\nNhân cả hai vế với $x^2$ (với $x \\neq 0$):\n\n\\[\nx^4 + 5x^2 - 36 = 0\n\\]\n\nĐặt $u = x^2$, ta có phương trình bậc hai:\n\n\\[\nu^2 + 5u - 36 = 0\n\\]\n\nÁp dụng công thức nghiệm của phương trình bậc hai:\n\n\\[\nu = \\frac{-b \\pm \\sqrt{b^2 - 4ac}}{2a} = \\frac{-5 \\pm \\sqrt{5^2 - 4 \\cdot 1 \\cdot (-36)}}{2 \\cdot 1}\n\\]\n\nTính toán:\n\n\\[\nu = \\frac{-5 \\pm \\sqrt{25 + 144}}{2} = \\frac{-5 \\pm \\sqrt{169}}{2} = \\frac{-5 \\pm 13}{2}\n\\]\n\nTìm các nghiệm:\n\n1. $u_1 = \\frac{8}{2} = 4 \\implies x^2 = 4 \\implies x = 2 \\text{ hoặc } x = -2$\n2. $u_2 = \\frac{-18}{2} = -9 \\implies x^2 = -9 \\text{ (không có nghiệm thực)}$\n\nVới $x = 2$, ta có:\n\n\\[\ny = \\frac{6}{2} = 3\n\\]\n\nVới $x = -2$, ta có:\n\n\\[\ny = \\frac{6}{-2} = -3\n\\]\n\nVậy các căn bậc hai của $w$ là:\n\n\\[\nz_1 = 2 + 3i \\quad \\text{và} \\quad z_2 = -2 - 3i\n\\]\n\nKết luận, các căn bậc hai của $w = -5 + 12i$ là:\n\n\\[\nz_1 = 2 + 3i \\quad \\text{và} \\quad z_2 = -2 - 3i\n\\]\n",
         "\nCác căn bậc hai của $w = -5 + 12i$ là $2 + 3i$ và $-2 - 3i$.\n",
         "Both Correct",
         "No explanation provided"
        ],
        [
         "31",
         "31",
         "Khai căn bậc hai số phức $z = -3 + 4i$ có kết quả:",
         "Giả sử $w = x + yi$ là một căn bậc hai của số phức $z = -3 + 4i$. Ta có: $w^2 = z <=> (x + yi)^2 = -3 + 4i$ $<=> \\begin{cases} x^2 - y^2 = -3 \\\\ 2xy = 4 \\end{cases} <=> \\begin{cases} x^2 = 1 \\\\ y = \\frac{2}{x} \\end{cases} <=> \\begin{cases} x = 1 \\\\ y = 2 \\end{cases} \\\\  \\begin{cases} x = -1 \\\\ y = -2 \\end{cases}$ Do đó z có hai căn bậc hai là: $z_1 = 1 + 2i$ và $z_2 = -1 - 2i$",
         "$z_1 = 1 + 2i$ và $z_2 = -1 - 2i$",
         "\nĐể khai căn bậc hai số phức $z = -3 + 4i$, ta sử dụng công thức khai căn bậc hai cho số phức. Một số phức $z = x + yi$ có thể được viết dưới dạng $r(\\cos \\theta + i \\sin \\theta)$, trong đó $r = |z|$ là độ lớn của số phức và $\\theta = \\arg(z)$ là góc của số phức.\n\n1. **Tính độ lớn $r$ của số phức $z$:**\n   \\[\n   r = |z| = \\sqrt{x^2 + y^2} = \\sqrt{(-3)^2 + (4)^2} = \\sqrt{9 + 16} = \\sqrt{25} = 5\n   \\]\n\n2. **Tính góc $\\theta$:**\n   \\[\n   \\theta = \\tan^{-1}\\left(\\frac{y}{x}\\right) = \\tan^{-1}\\left(\\frac{4}{-3}\\right)\n   \\]\n   Số phức $z$ nằm ở phần tư II, do đó:\n   \\[\n   \\theta = \\pi + \\tan^{-1}\\left(\\frac{4}{-3}\\right) = \\pi - \\tan^{-1}\\left(\\frac{4}{3}\n   \\]\n\n3. **Khai căn bậc hai:**\n   Số phức có dạng $z = r(\\cos \\theta + i \\sin \\theta)$, do đó:\n   \\[\n   \\sqrt{z} = \\sqrt{r}\\left(\\cos\\left(\\frac{\\theta}{2}\\right) + i \\sin\\left(\\frac{\\theta}{2}\\right)\\right)\n   \\]\n   Với $r = 5$, ta có:\n   \\[\n   \\sqrt{r} = \\sqrt{5}\n   \\]\n\n4. **Tính $\\frac{\\theta}{2}$:**\n   \\[\n   \\frac{\\theta}{2} = \\frac{\\pi - \\tan^{-1}\\left(\\frac{4}{3}\\right)}{2}\n   \\]\n\n5. **Kết quả cuối cùng:**\n   Do đó, ta có hai nghiệm cho $\\sqrt{z}$:\n   \\[\n   \\sqrt{z} = \\sqrt{5}\\left(\\cos\\left(\\frac{\\theta}{2}\\right) + i \\sin\\left(\\frac{\\theta}{2}\\right)\\right) \\quad \\text{hoặc} \\quad \\sqrt{5}\\left(\\cos\\left(\\frac{\\theta}{2} + \\pi\\right) + i \\sin\\left(\\frac{\\theta}{2} + \\pi\\right)\\right)\n   \\]\n\nKết quả cuối cùng là:\n\\[\n\\sqrt{z} = \\sqrt{5}\\left(\\cos\\left(\\frac{\\pi - \\tan^{-1}\\left(\\frac{4}{3}\\right)}{2}\\right) + i \\sin\\left(\\frac{\\pi - \\tan^{-1}\\left(\\frac{4}{3}\\right)}{2}\\right)\\right) \\quad \\text{và} \\quad \\sqrt{5}\\left(\\cos\\left(\\frac{\\pi - \\tan^{-1}\\left(\\frac{4}{3}\\right)}{2} + \\pi\\right) + i \\sin\\left(\\frac{\\pi - \\tan^{-1}\\left(\\frac{4}{3}\\right)}{2} + \\pi\\right)\\right)\n\\]\n",
         "\n$\\sqrt{z} = \\sqrt{5}\\left(\\cos\\left(\\frac{\\pi - \\tan^{-1}\\left(\\frac{4}{3}\\right)}{2}\\right) + i \\sin\\left(\\frac{\\pi - \\tan^{-1}\\left(\\frac{4}{3}\\right)}{2}\\right)\\right) \\quad \\text{và} \\quad \\sqrt{5}\\left(\\cos\\left(\\frac{\\pi - \\tan^{-1}\\left(\\frac{4}{3}\\right)}{2} + \\pi\\right) + i \\sin\\left(\\frac{\\pi - \\tan^{-1}\\left(\\frac{4}{3}\\right)}{2} + \\pi\\right)\\right)$\n",
         "Correct Answer, Wrong Explanation",
         "No explanation provided"
        ],
        [
         "32",
         "32",
         "Tính căn bậc hai của số phức $z = 8 + 6i$ ra kết quả:",
         "Giả sử $w = x + yi$ là một căn bậc hai của số phức $z = 8 + 6i$. $w^2 = z <=> (x + yi)^2 = 8 + 6i <=> \\begin{cases} x^2 - y^2 = 8 \\\\ 2xy = 6 \\end{cases} <=> \\begin{cases} x^2 = 9 \\\\ y = \\frac{3}{x} \\end{cases} <=> \\begin{cases} x = 3 \\\\ y = 1 \\end{cases} \\\\  \\begin{cases} x = -3 \\\\ y = -1 \\end{cases}$ Ta có: Do đó z có hai căn bậc hai là: $\\begin{bmatrix} z_1 = 3 + i \\\\ z_2 = -3 - i \\end{bmatrix}$",
         "$\\begin{bmatrix} z_1 = 3 + i \\\\ z_2 = -3 - i \\end{bmatrix}$",
         "\nĐể tính căn bậc hai của số phức $z = 8 + 6i$, ta sẽ sử dụng công thức tổng quát cho căn bậc hai của một số phức.\n\nGiả sử căn bậc hai của $z$ có dạng $w = x + yi$, trong đó $x$ và $y$ là các số thực. Ta có:\n\n\\[\nw^2 = z \\implies (x + yi)^2 = 8 + 6i\n\\]\n\nKhai triển vế trái:\n\n\\[\nx^2 + 2xyi - y^2 = 8 + 6i\n\\]\n\nTừ đó, ta tách thành hai phương trình thực và ảo:\n\n1. Phương trình thực: $x^2 - y^2 = 8$\n2. Phương trình ảo: $2xy = 6$\n\nTừ phương trình 2, ta có:\n\n\\[\nxy = 3 \\implies y = \\frac{3}{x} \\quad (x \\neq 0)\n\\]\n\nThay $y$ vào phương trình 1:\n\n\\[\nx^2 - \\left(\\frac{3}{x}\\right)^2 = 8\n\\]\n\nGiải phương trình này:\n\n\\[\nx^2 - \\frac{9}{x^2} = 8\n\\]\n\nNhân cả hai vế với $x^2$ (với $x \\neq 0$):\n\n\\[\nx^4 - 8x^2 - 9 = 0\n\\]\n\nĐặt $u = x^2$, ta có phương trình bậc hai:\n\n\\[\nu^2 - 8u - 9 = 0\n\\]\n\nÁp dụng công thức nghiệm của phương trình bậc hai:\n\n\\[\nu = \\frac{8 \\pm \\sqrt{(-8)^2 - 4 \\cdot 1 \\cdot (-9)}}{2 \\cdot 1} = \\frac{8 \\pm \\sqrt{64 + 36}}{2} = \\frac{8 \\pm \\sqrt{100}}{2} = \\frac{8 \\pm 10}{2}\n\\]\n\nTính các nghiệm:\n\n1. $u_1 = \\frac{18}{2} = 9 \\implies x^2 = 9 \\implies x = 3$ hoặc $x = -3$.\n2. $u_2 = \\frac{-2}{2} = -1$ (không có nghiệm thực).\n\nVới $x = 3$, ta tính $y$:\n\n\\[\ny = \\frac{3}{3} = 1\n\\]\n\nVới $x = -3$, ta cũng có:\n\n\\[\ny = \\frac{3}{-3} = -1\n\\]\n\nVậy, các nghiệm của $w$ là:\n\n\\[\nw_1 = 3 + i \\quad \\text{và} \\quad w_2 = -3 - i\n\\]\n\nDo đó, căn bậc hai của số phức $z = 8 + 6i$ là:\n\n\\[\nw = 3 + i \\quad \\text{hoặc} \\quad w = -3 - i\n\\]\n",
         "\nCăn bậc hai của số phức $z = 8 + 6i$ là $3 + i$ hoặc $-3 - i$.\n",
         "Both Correct",
         "No explanation provided"
        ],
        [
         "33",
         "33",
         "Cho z = 3 + 4i. Tìm căn bậc hai của z.",
         "Giả sử $w = x + yi$ là một căn bậc hai của số phức $z = 3 + 4i$. Ta có: $w^2 = z <=> (x + yi)^2 = 3 + 4i <=> \\begin{cases} x^2 - y^2 = 3 \\\\ 2xy = 4 \\end{cases} <=> \\begin{cases} x^2 = 4 \\\\ y = \\frac{2}{x} \\end{cases} <=> \\begin{cases} x = 2 \\\\ y = 1 \\end{cases} \\\\  \\begin{cases} x = -2 \\\\ y = -1 \\end{cases}$ Do đó z có hai căn bậc hai là $\\begin{bmatrix} z = 2 + i \\\\ z = -2 - i \\end{bmatrix}$",
         "$\\begin{bmatrix} z = 2 + i \\\\ z = -2 - i \\end{bmatrix}$",
         "\nĐể tìm căn bậc hai của số phức $z = 3 + 4i$, ta sẽ sử dụng công thức tổng quát cho căn bậc hai của một số phức.\n\nGiả sử căn bậc hai của $z$ là $w = x + yi$, với $x$ và $y$ là các số thực. Ta có:\n\n\\[\nw^2 = z \\implies (x + yi)^2 = 3 + 4i\n\\]\n\nKhai triển vế trái:\n\n\\[\nx^2 + 2xyi - y^2 = 3 + 4i\n\\]\n\nTừ đó, ta tách thành hai phương trình thực và ảo:\n\n1. Phương trình thực: $x^2 - y^2 = 3$\n2. Phương trình ảo: $2xy = 4$\n\nTừ phương trình 2, ta có:\n\n\\[\nxy = 2 \\implies y = \\frac{2}{x} \\quad (x \\neq 0)\n\\]\n\nThay $y$ vào phương trình 1:\n\n\\[\nx^2 - \\left(\\frac{2}{x}\\right)^2 = 3\n\\]\n\nGiải phương trình này:\n\n\\[\nx^2 - \\frac{4}{x^2} = 3\n\\]\n\nNhân cả hai vế với $x^2$ (với $x \\neq 0$):\n\n\\[\nx^4 - 3x^2 - 4 = 0\n\\]\n\nĐặt $u = x^2$, ta có phương trình bậc hai:\n\n\\[\nu^2 - 3u - 4 = 0\n\\]\n\nÁp dụng công thức nghiệm của phương trình bậc hai:\n\n\\[\nu = \\frac{-b \\pm \\sqrt{b^2 - 4ac}}{2a} = \\frac{3 \\pm \\sqrt{(-3)^2 - 4 \\cdot 1 \\cdot (-4)}}{2 \\cdot 1} = \\frac{3 \\pm \\sqrt{9 + 16}}{2} = \\frac{3 \\pm 5}{2}\n\\]\n\nTính toán các nghiệm:\n\n1. $u_1 = \\frac{8}{2} = 4 \\implies x^2 = 4 \\implies x = 2$ hoặc $x = -2$.\n2. $u_2 = \\frac{-2}{2} = -1$ (không có nghiệm thực).\n\nVới $x = 2$, ta tính $y$:\n\n\\[\ny = \\frac{2}{x} = \\frac{2}{2} = 1\n\\]\n\nVới $x = -2$, ta cũng có:\n\n\\[\ny = \\frac{2}{-2} = -1\n\\]\n\nVậy, các căn bậc hai của $z$ là:\n\n\\[\nw_1 = 2 + i \\quad \\text{và} \\quad w_2 = -2 - i\n\\]\n\nKết luận, căn bậc hai của số phức $z = 3 + 4i$ là:\n\n\\[\nw = 2 + i \\quad \\text{hoặc} \\quad w = -2 - i\n\\]\n",
         "\nCăn bậc hai của $z = 3 + 4i$ là $2 + i$ hoặc $-2 - i$.\n",
         "Correct Answer, Wrong Explanation",
         "No explanation provided"
        ],
        [
         "34",
         "34",
         "Căn bậc hai của số phức 4 + 6$\\sqrt{5}$i là:",
         "Giả sử w là một căn bậc hai của 4 + 6$\\sqrt{5}$i. Ta có: $w^2 = 4 + 6\\sqrt{5}i <=> w^2 = (3 + \\sqrt{5}i)^2 => w = \\pm (3 + \\sqrt{5}i).$",
         "$\\pm (3 + \\sqrt{5}i)$",
         "\nĐể tìm căn bậc hai của số phức $z = 4 + 6\\sqrt{5}i$, ta sẽ sử dụng công thức cho căn bậc hai của số phức.\n\nGiả sử căn bậc hai của $z$ là $w = x + yi$, trong đó $x$ và $y$ là các số thực. Ta có:\n\n\\[\nw^2 = z \\implies (x + yi)^2 = 4 + 6\\sqrt{5}i\n\\]\n\nKhi khai triển vế trái, ta có:\n\n\\[\nx^2 + 2xyi - y^2 = 4 + 6\\sqrt{5}i\n\\]\n\nTừ đây, ta tách phần thực và phần ảo:\n\n1. Phần thực: $x^2 - y^2 = 4$\n2. Phần ảo: $2xy = 6\\sqrt{5}$\n\nBây giờ, ta có hệ phương trình:\n\n\\[\n\\begin{cases}\nx^2 - y^2 = 4 \\quad (1) \\\\\n2xy = 6\\sqrt{5} \\quad (2)\n\\end{cases}\n\\]\n\nTừ phương trình (2), ta có:\n\n\\[\nxy = 3\\sqrt{5} \\implies y = \\frac{3\\sqrt{5}}{x} \\quad (3)\n\\]\n\nThay (3) vào (1):\n\n\\[\nx^2 - \\left(\\frac{3\\sqrt{5}}{x}\\right)^2 = 4\n\\]\n\nGiải phương trình này:\n\n\\[\nx^2 - \\frac{45}{x^2} = 4\n\\]\n\nNhân cả hai vế với $x^2$ (với $x \\neq 0$):\n\n\\[\nx^4 - 4x^2 - 45 = 0\n\\]\n\nĐặt $u = x^2$, ta có phương trình bậc hai:\n\n\\[\nu^2 - 4u - 45 = 0\n\\]\n\nÁp dụng công thức nghiệm:\n\n\\[\nu = \\frac{4 \\pm \\sqrt{(-4)^2 - 4 \\cdot 1 \\cdot (-45)}}{2 \\cdot 1} = \\frac{4 \\pm \\sqrt{16 + 180}}{2} = \\frac{4 \\pm \\sqrt{196}}{2} = \\frac{4 \\pm 14}{2}\n\\]\n\nTừ đó, ta có hai nghiệm:\n\n\\[\nu_1 = \\frac{18}{2} = 9 \\quad \\text{và} \\quad u_2 = \\frac{-10}{2} = -5 \\quad (\\text{loại bỏ vì } u = x^2 \\geq 0)\n\\]\n\nVậy $x^2 = 9 \\implies x = 3$ hoặc $x = -3$.\n\nThay $x = 3$ vào (3):\n\n\\[\ny = \\frac{3\\sqrt{5}}{3} = \\sqrt{5}\n\\]\n\nVậy một nghiệm là $w_1 = 3 + \\sqrt{5}i$.\n\nNếu $x = -3$, ta có:\n\n\\[\ny = \\frac{3\\sqrt{5}}{-3} = -\\sqrt{5}\n\\]\n\nVậy nghiệm còn lại là $w_2 = -3 - \\sqrt{5}i$.\n\nCuối cùng, căn bậc hai của số phức $4 + 6\\sqrt{5}i$ là:\n\n\\[\nw = 3 + \\sqrt{5}i \\quad \\text{hoặc} \\quad w = -3 - \\sqrt{5}i\n\\]\n",
         "\nCăn bậc hai của số phức $4 + 6\\sqrt{5}i$ là $3 + \\sqrt{5}i$ hoặc $-3 - \\sqrt{5}i$.\n",
         "Correct Answer, Wrong Explanation",
         "No explanation provided"
        ],
        [
         "35",
         "35",
         "Gọi z là căn bậc hai có phần ảo âm của 33 - 56i . Phần thực của z là:",
         "Ta có: 33 - 56i = (7 - 4i)^2 => z = 7 - 4i Do đó phần thực của z là 7.",
         "7",
         "\nĐể tìm phần thực của số phức $z = \\sqrt{33 - 56i}$ với điều kiện phần ảo của $z$ âm, ta thực hiện các bước sau:\n\n1. **Biểu diễn số phức dưới dạng cực**:\n   Số phức $33 - 56i$ có thể được biểu diễn dưới dạng cực. Đầu tiên, ta tính mô-đun và góc của số phức này.\n\n   Mô-đun được tính bằng công thức:\n   \\[\n   r = |33 - 56i| = \\sqrt{33^2 + (-56)^2} = \\sqrt{1089 + 3136} = \\sqrt{4225} = 65\n   \\]\n\n   Góc $\\theta$ được tính bằng:\n   \\[\n   \\theta = \\tan^{-1}\\left(\\frac{-56}{33}\\right)\n   \\]\n\n   Tính giá trị của $\\theta$:\n   \\[\n   \\theta \\approx \\tan^{-1}\\left(-1.696\\right) \\approx -59.04^\\circ \\quad (\\text{hoặc } -\\frac{59.04 \\pi}{180} \\text{ rad})\n   \\]\n\n2. **Biểu diễn số phức dưới dạng lượng giác**:\n   Số phức $33 - 56i$ có thể viết lại dưới dạng:\n   \\[\n   33 - 56i = 65\\left(\\cos(-59.04^\\circ) + i\\sin(-59.04^\\circ)\\right)\n   \\]\n\n3. **Tính căn bậc hai**:\n   Căn bậc hai của số phức có thể được tính bằng công thức:\n   \\[\n   z = \\sqrt{r}\\left(\\cos\\left(\\frac{\\theta + 2k\\pi}{2}\\right) + i\\sin\\left(\\frac{\\theta + 2k\\pi}{2}\\right)\\right) \\quad (k = 0, 1)\n   \\]\n\n   Với $r = 65$ và $\\theta \\approx -59.04^\\circ$, ta có:\n   \\[\n   \\sqrt{r} = \\sqrt{65}\n   \\]\n\n   Tính cho $k = 0$:\n   \\[\n   z_0 = \\sqrt{65}\\left(\\cos\\left(\\frac{-59.04^\\circ}{2}\\right) + i\\sin\\left(\\frac{-59.04^\\circ}{2}\\right)\\right)\n   \\]\n\n   Tính cho $k = 1$:\n   \\[\n   z_1 = \\sqrt{65}\\left(\\cos\\left(\\frac{-59.04^\\circ + 360^\\circ}{2}\\right) + i\\sin\\left(\\frac{-59.04^\\circ + 360^\\circ}{2}\\right)\\right)\n   \\]\n\n   Tính cho $k = 0$:\n   \\[\n   z_0 = \\sqrt{65}\\left(\\cos(-29.52^\\circ) + i\\sin(-29.52^\\circ)\\right)\n   \\]\n\n   Tính cho $k = 1$:\n   \\[\n   z_1 = \\sqrt{65}\\left(\\cos(150.48^\\circ) + i\\sin(150.48^\\circ)\\right)\n   \\]\n\n4. **Tính phần thực**:\n   Phần thực của $z_0$ và $z_1$ lần lượt là:\n   \\[\n   \\text{Re}(z_0) = \\sqrt{65}\\cos(-29.52^\\circ)\n   \\]\n   \\[\n   \\text{Re}(z_1) = \\sqrt{65}\\cos(150.48^\\circ)\n   \\]\n\n   Tính giá trị cụ thể:\n   \\[\n   \\text{Re}(z_0) \\approx \\sqrt{65} \\cdot 0.8746 \\approx 6.5\n   \\]\n   \\[\n   \\text{Re}(z_1) \\approx \\sqrt{65} \\cdot (-0.8746) \\approx -6.5\n   \\]\n\n   Vì phần ảo của $z$ phải âm, ta chọn $z_1$.\n\n5. **Kết luận**:\n   Phần thực của $z$ là:\n   \\[\n   \\text{Re}(z) = -\\sqrt{65} \\cdot 0.8746 \\approx -6.5\n   \\]\n\n",
         "\n$\\text{Re}(z) \\approx -6.5$\n",
         "Correct Answer, Wrong Explanation",
         "No explanation provided"
        ],
        [
         "36",
         "36",
         "Trong C , căn bậc hai của -121 là:",
         "Ta có: z = -121 nên z = (11i)^2. Do đó z có hai căn bậc hai là z = 11i và z = -11i",
         "11i và -11i",
         "\nĐể tìm căn bậc hai của số -121, ta cần nhớ rằng căn bậc hai của một số âm không phải là một số thực. Thay vào đó, nó thuộc về tập số phức.\n\nCụ thể, ta có:\n\n\\[\n\\sqrt{-121} = \\sqrt{121} \\cdot \\sqrt{-1}\n\\]\n\nBiết rằng:\n\n\\[\n\\sqrt{121} = 11\n\\]\n\nVà:\n\n\\[\n\\sqrt{-1} = i\n\\]\n\nDo đó, ta có:\n\n\\[\n\\sqrt{-121} = 11i\n\\]\n\nVậy căn bậc hai của -121 là $11i$.\n",
         "\n$11i$\n",
         "Correct Answer, Wrong Explanation",
         "No explanation provided"
        ],
        [
         "37",
         "37",
         "Tìm các căn bậc hai của -9.",
         "Ta có -9 = 9i^2 nên -9 có các căn bậc hai là 3i và -3i.",
         "3i và -3i",
         "\nĐể tìm các căn bậc hai của số -9, ta cần sử dụng khái niệm số phức, vì căn bậc hai của một số âm không tồn tại trong tập hợp số thực.\n\n1. **Định nghĩa căn bậc hai**: Căn bậc hai của một số $x$ là một số $y$ sao cho $y^2 = x$.\n\n2. **Áp dụng vào bài toán**: Ta cần tìm $y$ sao cho:\n   \\[\n   y^2 = -9\n   \\]\n\n3. **Chuyển đổi sang số phức**: Ta biết rằng $-1$ có thể được biểu diễn dưới dạng số phức như sau:\n   \\[\n   -1 = i^2\n   \\]\n   với $i$ là đơn vị ảo.\n\n4. **Thay thế vào phương trình**:\n   \\[\n   y^2 = -9 \\implies y^2 = 9 \\cdot (-1) = 9 \\cdot i^2\n   \\]\n\n5. **Lấy căn bậc hai**: Ta có:\n   \\[\n   y = \\pm \\sqrt{9 \\cdot i^2} = \\pm \\sqrt{9} \\cdot \\sqrt{i^2} = \\pm 3i\n   \\]\n\n6. **Kết luận**: Các căn bậc hai của -9 là:\n   \\[\n   y = 3i \\quad \\text{hoặc} \\quad y = -3i\n   \\]\n\n",
         "\nCác căn bậc hai của -9 là $3i$ và $-3i$.\n",
         "Both Correct",
         "No explanation provided"
        ],
        [
         "38",
         "38",
         "Viết số phức $z = 6 + 6i$ dưới dạng lượng giác?",
         "Ta có: $|z| = r = \\sqrt{6^2 + 6^2} = 6\\sqrt{2}$. Chọn $\\varphi$ là số thực thỏa mãn \\sqrt{6^2 + 6^2} $\\Rightarrow \\varphi = \\frac{\\pi}{4}$. Do đó, dạng lượng giác của số phức z là: $z = 6\\sqrt{2}(cos\\frac{\\pi}{4} + i.sin\\frac{\\pi}{4})$",
         "$z = 6\\sqrt{2}(cos\\frac{\\pi}{4} + i.sin\\frac{\\pi}{4})$",
         "\nĐể viết số phức $z = 6 + 6i$ dưới dạng lượng giác, ta cần xác định hai thông số: độ lớn $r$ và góc $\\theta$.\n\n1. **Tính độ lớn $r$**:\n   Độ lớn của số phức $z$ được tính bằng công thức:\n   \\[\n   r = |z| = \\sqrt{x^2 + y^2}\n   \\]\n   với $x$ là phần thực và $y$ là phần ảo của số phức. Ở đây, $x = 6$ và $y = 6$.\n\n   Thay vào công thức:\n   \\[\n   r = \\sqrt{6^2 + 6^2} = \\sqrt{36 + 36} = \\sqrt{72} = 6\\sqrt{2}\n   \\]\n\n2. **Tính góc $\\theta$**:\n   Góc $\\theta$ được tính bằng công thức:\n   \\[\n   \\theta = \\tan^{-1}\\left(\\frac{y}{x}\\right)\n   \\]\n   Thay $y = 6$ và $x = 6$ vào công thức:\n   \\[\n   \\theta = \\tan^{-1}\\left(\\frac{6}{6}\\right) = \\tan^{-1}(1) = \\frac{\\pi}{4}\n   \\]\n\n3. **Viết số phức dưới dạng lượng giác**:\n   Số phức $z$ có thể được viết dưới dạng lượng giác như sau:\n   \\[\n   z = r(\\cos \\theta + i \\sin \\theta)\n   \\]\n   Thay $r$ và $\\theta$ vào:\n   \\[\n   z = 6\\sqrt{2} \\left( \\cos\\left(\\frac{\\pi}{4}\\right) + i \\sin\\left(\\frac{\\pi}{4}\\right) \\right)\n   \\]\n\nVậy số phức $z = 6 + 6i$ dưới dạng lượng giác là:\n\\[\nz = 6\\sqrt{2} \\left( \\cos\\left(\\frac{\\pi}{4}\\right) + i \\sin\\left(\\frac{\\pi}{4}\\right) \\right)\n\\]\n",
         "\n$z = 6\\sqrt{2} \\left( \\cos\\left(\\frac{\\pi}{4}\\right) + i \\sin\\left(\\frac{\\pi}{4}\\right) \\right)$\n",
         "Both Correct",
         "No explanation provided"
        ],
        [
         "39",
         "39",
         "Viết số 10 dưới dạng lượng giác?",
         "Ta có: Số 10 có mô đun là 10 và có một acgumen bằng 0 nên nó có dạng lượng giác là: $10.(cos0 + i.sin0).$",
         "$10.(cos0 + i.sin0)$",
         "\nĐể viết số $10$ dưới dạng lượng giác, ta có thể sử dụng các hàm lượng giác như $\\sin$ và $\\cos$. Một cách đơn giản để biểu diễn số $10$ là sử dụng công thức:\n\n\\[\n10 = 10 \\cdot \\left( \\cos(0) + i \\sin(0) \\right)\n\\]\n\nTrong đó, $i$ là đơn vị ảo. Tuy nhiên, để biểu diễn số thực $10$ mà không cần đến phần ảo, ta có thể viết:\n\n\\[\n10 = 10 \\cdot \\cos(0)\n\\]\n\nhoặc\n\n\\[\n10 = 10 \\cdot \\sin\\left(\\frac{\\pi}{2}\\right)\n\\]\n\nCả hai biểu thức trên đều đúng vì:\n\n- $\\cos(0) = 1$\n- $\\sin\\left(\\frac{\\pi}{2}\\right) = 1$\n\nDo đó, số $10$ có thể được viết dưới dạng lượng giác như sau:\n\n\\[\n10 = 10 \\cdot \\cos(0) = 10 \\cdot \\sin\\left(\\frac{\\pi}{2}\\right)\n\\]\n\n",
         "\n$10 = 10 \\cdot \\cos(0) = 10 \\cdot \\sin\\left(\\frac{\\pi}{2}\\right)$\n",
         "Correct Answer, Wrong Explanation",
         "No explanation provided"
        ],
        [
         "40",
         "40",
         "Viết $-\\frac{\\sqrt{3}}{2}$ dưới dạng lượng giác.",
         "Số $-\\frac{\\sqrt{3}}{2}$ có mô đun là $\\frac{\\sqrt{3}}{2}$, có một acgumen là $\\pi$ nên số đó có dạng lượng giác là: $-\\frac{\\sqrt{3}}{2} = \\frac{\\sqrt{3}}{2}(cos\\pi + i.sin\\pi)$",
         "$-\\frac{\\sqrt{3}}{2} = \\frac{\\sqrt{3}}{2}(cos\\pi + i.sin\\pi)$",
         "\nĐể viết $-\\frac{\\sqrt{3}}{2}$ dưới dạng lượng giác, ta cần tìm một góc $\\theta$ sao cho:\n\n\\[\n\\sin(\\theta) = -\\frac{\\sqrt{3}}{2}\n\\]\n\nTa biết rằng:\n\n\\[\n\\sin\\left(-\\frac{\\pi}{3}\\right) = -\\sin\\left(\\frac{\\pi}{3}\\right) = -\\frac{\\sqrt{3}}{2}\n\\]\n\nNgoài ra, $\\sin\\left(\\frac{4\\pi}{3}\\right)$ cũng cho giá trị tương tự, vì:\n\n\\[\n\\sin\\left(\\frac{4\\pi}{3}\\right) = -\\frac{\\sqrt{3}}{2}\n\\]\n\nVậy, các góc $\\theta$ có thể viết dưới dạng lượng giác là:\n\n\\[\n\\theta = -\\frac{\\pi}{3} + 2k\\pi \\quad \\text{hoặc} \\quad \\theta = \\frac{4\\pi}{3} + 2k\\pi \\quad (k \\in \\mathbb{Z})\n\\]\n\nDo đó, $-\\frac{\\sqrt{3}}{2}$ có thể được viết dưới dạng lượng giác như sau:\n\n\\[\n-\\frac{\\sqrt{3}}{2} = \\sin\\left(-\\frac{\\pi}{3}\\right) \\quad \\text{hoặc} \\quad \\sin\\left(\\frac{4\\pi}{3}\\right)\n\\]\n",
         "\n$-\\frac{\\sqrt{3}}{2} = \\sin\\left(-\\frac{\\pi}{3}\\right) \\quad \\text{hoặc} \\quad \\sin\\left(\\frac{4\\pi}{3}\\right)$\n",
         "Correct Answer, Wrong Explanation",
         "No explanation provided"
        ],
        [
         "41",
         "41",
         "Viết số phức $z = \\frac{1}{2 + 2i}$ dưới dạng lượng giác?",
         "Ta có : $z = \\frac{1}{2 + 2i} = \\frac{1}{2(1 + i)} = \\frac{1 - i}{2(1 + i)(1 - i)} = \\frac{1 - i}{4} = \\frac{1}{4} - \\frac{i}{4}$. Ta có $|z| = \\sqrt{(\\frac{1}{4})^2 + (\\frac{-1}{4})^2} = \\frac{\\sqrt{2}}{4}$. Một acgumen là $\\varphi$ thỏa mãn: $cos\\varphi = \\frac{1}{\\sqrt{2}}$; $sin\\varphi = \\frac{-1}{\\sqrt{2}} => \\varphi = -\\frac{\\pi}{4}$. Do đó ,dạng lượng giác của số phức z là: $z = \\frac{1}{2 + 2i} = \\frac{\\sqrt{2}}{4}[cos(-\\frac{\\pi}{4}) + i sin(-\\frac{\\pi}{4})].$",
         "$z = \\frac{1}{2 + 2i} = \\frac{\\sqrt{2}}{4}[cos(-\\frac{\\pi}{4}) + i sin(-\\frac{\\pi}{4})].$",
         "\nĐể viết số phức $z = \\frac{1}{2 + 2i}$ dưới dạng lượng giác, ta thực hiện các bước sau:\n\n1. **Nhân tử liên hợp**: Để loại bỏ phần ảo trong mẫu số, ta nhân cả tử và mẫu với tử liên hợp của mẫu số. Tử liên hợp của $2 + 2i$ là $2 - 2i$.\n\n   \\[\n   z = \\frac{1}{2 + 2i} \\cdot \\frac{2 - 2i}{2 - 2i} = \\frac{2 - 2i}{(2 + 2i)(2 - 2i)}\n   \\]\n\n2. **Tính mẫu số**: Tính tích $(2 + 2i)(2 - 2i)$:\n\n   \\[\n   (2 + 2i)(2 - 2i) = 2^2 - (2i)^2 = 4 - (-4) = 4 + 4 = 8\n   \\]\n\n3. **Thay vào biểu thức**: Thay giá trị mẫu số vào biểu thức của $z$:\n\n   \\[\n   z = \\frac{2 - 2i}{8} = \\frac{1}{4} - \\frac{1}{4}i\n   \\]\n\n4. **Chuyển sang dạng lượng giác**: Để chuyển sang dạng lượng giác, ta cần tính độ lớn và góc của số phức.\n\n   - **Độ lớn**: \n\n   \\[\n   |z| = \\sqrt{\\left(\\frac{1}{4}\\right)^2 + \\left(-\\frac{1}{4}\\right)^2} = \\sqrt{\\frac{1}{16} + \\frac{1}{16}} = \\sqrt{\\frac{2}{16}} = \\sqrt{\\frac{1}{8}} = \\frac{1}{2\\sqrt{2}} = \\frac{\\sqrt{2}}{4}\n   \\]\n\n   - **Góc**: \n\n   \\[\n   \\theta = \\tan^{-1}\\left(\\frac{-\\frac{1}{4}}{\\frac{1}{4}}\\right) = \\tan^{-1}(-1) = -\\frac{\\pi}{4}\n   \\]\n\n5. **Viết dưới dạng lượng giác**: Cuối cùng, ta có thể viết số phức $z$ dưới dạng lượng giác:\n\n   \\[\n   z = |z| \\left( \\cos \\theta + i \\sin \\theta \\right) = \\frac{\\sqrt{2}}{4} \\left( \\cos\\left(-\\frac{\\pi}{4}\\right) + i \\sin\\left(-\\frac{\\pi}{4}\\right) \\right)\n   \\]\n\n   Hoặc có thể viết gọn lại:\n\n   \\[\n   z = \\frac{\\sqrt{2}}{4} \\text{cis}\\left(-\\frac{\\pi}{4}\\right)\n   \\]\n\n",
         "\n$z = \\frac{\\sqrt{2}}{4} \\text{cis}\\left(-\\frac{\\pi}{4}\\right)$\n",
         "Both Correct",
         "No explanation provided"
        ],
        [
         "42",
         "42",
         "Viết số phức z = 100i dưới dạng lượng giác?",
         "Ta có: $|z| = \\sqrt{0^2 + 100^2} = 100$. Gọi $\\varphi$ là một acgumen của z thì $\\varphi$ thỏa mãn: $cos\\varphi = 0; sin\\varphi = 1 => \\varphi = \\frac{\\pi}{2}$. Do đó, dạng lượng giác của số phức z là: $z = 100(cos\\frac{\\pi}{2} + i.sin\\frac{\\pi}{2})$",
         "$z = 100(cos\\frac{\\pi}{2} + i.sin\\frac{\\pi}{2})$",
         "\nĐể viết số phức $z = 100i$ dưới dạng lượng giác, ta cần xác định mô-đun và góc của số phức này.\n\n1. **Mô-đun**: Mô-đun của số phức $z = a + bi$ được tính bằng công thức:\n   \\[\n   |z| = \\sqrt{a^2 + b^2}\n   \\]\n   Trong trường hợp này, $a = 0$ và $b = 100$. Do đó:\n   \\[\n   |z| = \\sqrt{0^2 + 100^2} = \\sqrt{10000} = 100\n   \\]\n\n2. **Góc**: Góc của số phức được tính bằng công thức:\n   \\[\n   \\theta = \\tan^{-1}\\left(\\frac{b}{a}\\right)\n   \\]\n   Ở đây, $a = 0$ và $b = 100$. Vì $a = 0$ và $b > 0$, số phức nằm trên trục ảo dương, do đó:\n   \\[\n   \\theta = \\frac{\\pi}{2}\n   \\]\n\n3. **Dạng lượng giác**: Số phức có thể được viết dưới dạng lượng giác như sau:\n   \\[\n   z = |z| \\left( \\cos \\theta + i \\sin \\theta \\right)\n   \\]\n   Thay các giá trị đã tìm được vào công thức:\n   \\[\n   z = 100 \\left( \\cos\\left(\\frac{\\pi}{2}\\right) + i \\sin\\left(\\frac{\\pi}{2}\\right) \\right)\n   \\]\n\nVậy số phức $z = 100i$ dưới dạng lượng giác là:\n\\[\nz = 100 \\left( 0 + i \\cdot 1 \\right) = 100 \\left( \\cos\\left(\\frac{\\pi}{2}\\right) + i \\sin\\left(\\frac{\\pi}{2}\\right) \\right)\n\\]\n",
         "\n$z = 100 \\left( \\cos\\left(\\frac{\\pi}{2}\\right) + i \\sin\\left(\\frac{\\pi}{2}\\right) \\right)$\n",
         "Both Correct",
         "No explanation provided"
        ],
        [
         "43",
         "43",
         "Viết số phức sau dưới dạng lượng giác $z = (1 - i\\sqrt{3}).(1 + i)$",
         "Ta có: $1 - i\\sqrt{3} = 2.[cos(-\\frac{\\pi}{3}) + i sin(-\\frac{\\pi}{3})]$ và $1 + i = \\sqrt{2}[cos\\frac{\\pi}{4} + i.sin\\frac{\\pi}{4}]$. Áp dụng công thức nhân, chia số phức ta được: $z = (1 - i\\sqrt{3})(1 + i) = 2\\sqrt{2}[cos(-\\frac{\\pi}{12}) + i.sin(-\\frac{\\pi}{12})]$",
         "$2\\sqrt{2}[cos(-\\frac{\\pi}{12}) + i.sin(-\\frac{\\pi}{12})]$",
         "\nĐể viết số phức $z = (1 - i\\sqrt{3})(1 + i)$ dưới dạng lượng giác, ta thực hiện các bước sau:\n\n1. **Tính tích của hai số phức**:\n   \\[\n   z = (1 - i\\sqrt{3})(1 + i) = 1 \\cdot 1 + 1 \\cdot i - i\\sqrt{3} \\cdot 1 - i\\sqrt{3} \\cdot i\n   \\]\n   \\[\n   = 1 + i - i\\sqrt{3} + \\sqrt{3}\n   \\]\n   \\[\n   = (1 + \\sqrt{3}) + (1 - \\sqrt{3})i\n   \\]\n\n2. **Xác định phần thực và phần ảo**:\n   - Phần thực: $a = 1 + \\sqrt{3}$\n   - Phần ảo: $b = 1 - \\sqrt{3}$\n\n3. **Tính độ lớn của số phức**:\n   \\[\n   |z| = \\sqrt{a^2 + b^2} = \\sqrt{(1 + \\sqrt{3})^2 + (1 - \\sqrt{3})^2}\n   \\]\n   Tính từng phần:\n   \\[\n   (1 + \\sqrt{3})^2 = 1 + 2\\sqrt{3} + 3 = 4 + 2\\sqrt{3}\n   \\]\n   \\[\n   (1 - \\sqrt{3})^2 = 1 - 2\\sqrt{3} + 3 = 4 - 2\\sqrt{3}\n   \\]\n   Cộng lại:\n   \\[\n   |z| = \\sqrt{(4 + 2\\sqrt{3}) + (4 - 2\\sqrt{3})} = \\sqrt{8} = 2\\sqrt{2}\n   \\]\n\n4. **Tính góc của số phức**:\n   \\[\n   \\theta = \\tan^{-1}\\left(\\frac{b}{a}\\right) = \\tan^{-1}\\left(\\frac{1 - \\sqrt{3}}{1 + \\sqrt{3}}\\right)\n   \\]\n   Để tính $\\theta$, ta có thể sử dụng công thức:\n   \\[\n   \\tan(\\theta) = \\frac{1 - \\sqrt{3}}{1 + \\sqrt{3}} = \\frac{(1 - \\sqrt{3})(1 - \\sqrt{3})}{(1 + \\sqrt{3})(1 - \\sqrt{3})} = \\frac{(1 - 2\\sqrt{3} + 3)}{(1 - 3)} = \\frac{4 - 2\\sqrt{3}}{-2} = \\sqrt{3} - 2\n   \\]\n   Từ đó, ta có thể xác định góc $\\theta$.\n\n5. **Viết số phức dưới dạng lượng giác**:\n   Cuối cùng, số phức $z$ có thể được viết dưới dạng lượng giác như sau:\n   \\[\n   z = |z| \\left( \\cos(\\theta) + i \\sin(\\theta) \\right)\n   \\]\n   Thay vào:\n   \\[\n   z = 2\\sqrt{2} \\left( \\cos(\\theta) + i \\sin(\\theta) \\right)\n   \\]\n\nKết quả cuối cùng là:\n\\[\nz = 2\\sqrt{2} \\left( \\cos(\\theta) + i \\sin(\\theta) \\right)\n\\]\n",
         "\n$z = 2\\sqrt{2} \\left( \\cos(\\theta) + i \\sin(\\theta) \\right)$\n",
         "Both Correct",
         "No explanation provided"
        ],
        [
         "44",
         "44",
         "Viết số phức sau dưới dạng lượng giác $z = \\frac{2 + 2i}{1 + \\sqrt{3}i}$",
         "Ta có: $2 + 2i = 2\\sqrt{2}[cos\\frac{\\pi}{4} + i.sin\\frac{\\pi}{4}]$ và $1 + \\sqrt{3}i = 2.[cos\\frac{\\pi}{3} + i.sin\\frac{\\pi}{3}]$. Do đó: $z = \\frac{2 + 2i}{1 + \\sqrt{3}i} = \\frac{2\\sqrt{2}[cos\\frac{\\pi}{4} + i.sin\\frac{\\pi}{4}]}{2.[cos\\frac{\\pi}{3} + i.sin\\frac{\\pi}{3}]} = \\sqrt{2}[cos(-\\frac{\\pi}{12}) + i.sin(-\\frac{\\pi}{12})]$",
         "$\\sqrt{2}[cos(-\\frac{\\pi}{12}) + i.sin(-\\frac{\\pi}{12})]$",
         "\nĐể viết số phức $z = \\frac{2 + 2i}{1 + \\sqrt{3}i}$ dưới dạng lượng giác, ta thực hiện các bước sau:\n\n1. **Nhân tử liên hợp**: Để loại bỏ phần ảo ở mẫu số, ta nhân cả tử và mẫu với liên hợp của mẫu số. Liên hợp của $1 + \\sqrt{3}i$ là $1 - \\sqrt{3}i$.\n\n   \\[\n   z = \\frac{(2 + 2i)(1 - \\sqrt{3}i)}{(1 + \\sqrt{3}i)(1 - \\sqrt{3}i)}\n   \\]\n\n2. **Tính mẫu số**: \n\n   \\[\n   (1 + \\sqrt{3}i)(1 - \\sqrt{3}i) = 1^2 - (\\sqrt{3}i)^2 = 1 - (-3) = 1 + 3 = 4\n   \\]\n\n3. **Tính tử số**:\n\n   \\[\n   (2 + 2i)(1 - \\sqrt{3}i) = 2 \\cdot 1 + 2 \\cdot (-\\sqrt{3}i) + 2i \\cdot 1 + 2i \\cdot (-\\sqrt{3}i\n   \\]\n   \\[\n   = 2 - 2\\sqrt{3}i + 2i - 2\\sqrt{3}(-1) = 2 + 2\\sqrt{3} + (2 - 2\\sqrt{3})i\n   \\]\n   \\[\n   = (2 + 2\\sqrt{3}) + (2 - 2\\sqrt{3})i\n   \\]\n\n4. **Kết hợp lại**:\n\n   \\[\n   z = \\frac{(2 + 2\\sqrt{3}) + (2 - 2\\sqrt{3})i}{4} = \\frac{2 + 2\\sqrt{3}}{4} + \\frac{(2 - 2\\sqrt{3})i}{4}\n   \\]\n   \\[\n   = \\frac{1 + \\sqrt{3}}{2} + \\frac{1 - \\sqrt{3}}{2}i\n   \\]\n\n5. **Chuyển sang dạng lượng giác**: Để chuyển sang dạng lượng giác, ta cần tính độ lớn và góc của số phức.\n\n   - **Độ lớn**:\n\n   \\[\n   |z| = \\sqrt{\\left(\\frac{1 + \\sqrt{3}}{2}\\right)^2 + \\left(\\frac{1 - \\sqrt{3}}{2}\\right)^2}\n   \\]\n   \\[\n   = \\sqrt{\\frac{(1 + \\sqrt{3})^2 + (1 - \\sqrt{3})^2}{4}} = \\sqrt{\\frac{1 + 2\\sqrt{3} + 3 + 1 - 2\\sqrt{3} + 3}{4}} = \\sqrt{\\frac{8}{4}} = \\sqrt{2}\n   \\]\n\n   - **Góc**:\n\n   \\[\n   \\theta = \\tan^{-1}\\left(\\frac{\\frac{1 - \\sqrt{3}}{2}}{\\frac{1 + \\sqrt{3}}{2}}\\right) = \\tan^{-1}\\left(\\frac{1 - \\sqrt{3}}{1 + \\sqrt{3}}\\right)\n   \\]\n\n   Để tính $\\theta$, ta có thể sử dụng công thức:\n\n   \\[\n   \\tan(\\theta) = \\frac{1 - \\sqrt{3}}{1 + \\sqrt{3}} = \\tan\\left(-\\frac{\\pi}{6}\\right)\n   \\]\n\n   Vậy $\\theta = -\\frac{\\pi}{6}$.\n\n6. **Viết dưới dạng lượng giác**:\n\n   Cuối cùng, số phức $z$ có thể được viết dưới dạng lượng giác như sau:\n\n   \\[\n   z = |z| \\left(\\cos(\\theta) + i\\sin(\\theta)\\right) = \\sqrt{2} \\left(\\cos\\left(-\\frac{\\pi}{6}\\right) + i\\sin\\left(-\\frac{\\pi}{6}\\right)\\right)\n   \\]\n\n   Hoặc:\n\n   \\[\n   z = \\sqrt{2} \\text{cis}\\left(-\\frac{\\pi}{6}\\right)\n   \\]\n\n",
         "\n$z = \\sqrt{2} \\text{cis}\\left(-\\frac{\\pi}{6}\\right)$\n",
         "Correct Answer, Wrong Explanation",
         "No explanation provided"
        ],
        [
         "45",
         "45",
         "Viết số phức sau dưới dạng lượng giác $z = \\frac{3}{10\\sqrt{3} + 10i}$",
         "Ta có: $3 = 3.(cos0 + i.sin0)$ và $10\\sqrt{3} + 10i = 20.(cos\\frac{\\pi}{6} + i.sin\\frac{\\pi}{6})$. Do đó, $z = \\frac{3}{10\\sqrt{3} + 10i} = \\frac{3.(cos 0 + i.sin 0)}{20.(cos\\frac{\\pi}{6} + i.sin\\frac{\\pi}{6})} = \\frac{3}{20}(cos(-\\frac{\\pi}{6}) + i.sin(-\\frac{\\pi}{6}))$",
         "$\\frac{3}{20}(cos(-\\frac{\\pi}{6}) + i.sin(-\\frac{\\pi}{6}))$",
         "\nĐể viết số phức $z = \\frac{3}{10\\sqrt{3} + 10i}$ dưới dạng lượng giác, ta thực hiện các bước sau:\n\n1. **Nhân tử liên hợp**: Để loại bỏ phần ảo trong mẫu số, ta nhân cả tử và mẫu với liên hợp của mẫu số. Liên hợp của $10\\sqrt{3} + 10i$ là $10\\sqrt{3} - 10i$.\n\n   \\[\n   z = \\frac{3(10\\sqrt{3} - 10i)}{(10\\sqrt{3} + 10i)(10\\sqrt{3} - 10i)}\n   \\]\n\n2. **Tính mẫu số**: Sử dụng công thức $(a + b)(a - b) = a^2 - b^2$:\n\n   \\[\n   (10\\sqrt{3})^2 - (10i)^2 = 300 - (-100) = 300 + 100 = 400\n   \\]\n\n3. **Tính tử số**:\n\n   \\[\n   3(10\\sqrt{3} - 10i) = 30\\sqrt{3} - 30i\n   \\]\n\n4. **Viết lại số phức**:\n\n   \\[\n   z = \\frac{30\\sqrt{3} - 30i}{400} = \\frac{30\\sqrt{3}}{400} - \\frac{30i}{400} = \\frac{3\\sqrt{3}}{40} - \\frac{3i}{40}\n   \\]\n\n5. **Chuyển sang dạng lượng giác**: Để chuyển sang dạng lượng giác, ta cần tính mô-đun và góc của số phức.\n\n   - **Mô-đun**:\n\n   \\[\n   |z| = \\sqrt{\\left(\\frac{3\\sqrt{3}}{40}\\right)^2 + \\left(-\\frac{3}{40}\\right)^2} = \\sqrt{\\frac{27}{1600} + \\frac{9}{1600}} = \\sqrt{\\frac{36}{1600}} = \\frac{6}{40} = \\frac{3}{20}\n   \\]\n\n   - **Góc**:\n\n   \\[\n   \\theta = \\tan^{-1}\\left(\\frac{-\\frac{3}{40}}{\\frac{3\\sqrt{3}}{40}}\\right) = \\tan^{-1}\\left(-\\frac{1}{\\sqrt{3}}\\right) = -\\frac{\\pi}{6}\n   \\]\n\n6. **Viết dưới dạng lượng giác**:\n\n   \\[\n   z = |z| \\left(\\cos \\theta + i \\sin \\theta\\right) = \\frac{3}{20} \\left(\\cos\\left(-\\frac{\\pi}{6}\\right) + i \\sin\\left(-\\frac{\\pi}{6}\\right)\\right)\n   \\]\n\n   Sử dụng tính chất của cos và sin:\n\n   \\[\n   z = \\frac{3}{20} \\left(\\frac{\\sqrt{3}}{2} - i \\frac{1}{2}\\right)\n   \\]\n\n   Cuối cùng, ta có:\n\n   \\[\n   z = \\frac{3\\sqrt{3}}{40} - \\frac{3i}{40}\n   \\]\n\n",
         "\n$z = \\frac{3}{20} \\left(\\cos\\left(-\\frac{\\pi}{6}\\right) + i \\sin\\left(-\\frac{\\pi}{6}\\right)\\right)$\n",
         "Both Correct",
         "No explanation provided"
        ],
        [
         "46",
         "46",
         "Viết số phức sau dưới dạng lượng giác $z = \\frac{1 - i}{(\\sqrt{3} + i)(2 + 2i)}$",
         "Ta có: $\\sqrt{3} + i = 2(cos\\frac{\\pi}{6} + i.sin\\frac{\\pi}{6})$ và $2 + 2i = 2\\sqrt{2}.(cos\\frac{\\pi}{4} + i.sin\\frac{\\pi}{4}) \\Rightarrow (\\sqrt{3} + 1)(2 + 2i) = 4\\sqrt{2}(cos\\frac{5\\pi}{12} + i.sin\\frac{5\\pi}{12})$. Lại có: $1 - i = \\sqrt{2}.(cos(-\\frac{\\pi}{4}) + i.sin(-\\frac{\\pi}{4}))$. Suy ra: $z = \\frac{1 - i}{(\\sqrt{3} + i)(2 + 2i)} = \\frac{\\sqrt{2}}{4\\sqrt{2}}[cos(-\\frac{5\\pi}{12}) + i.sin(-\\frac{5\\pi}{12})] = \\frac{1}{4}[cos(-\\frac{2\\pi}{3}) + i.sin(-\\frac{2\\pi}{3})]$",
         "$\\frac{1}{4}[cos(-\\frac{2\\pi}{3}) + i.sin(-\\frac{2\\pi}{3})]$",
         "\nĐể viết số phức $z = \\frac{1 - i}{(\\sqrt{3} + i)(2 + 2i)}$ dưới dạng lượng giác, ta thực hiện các bước sau:\n\n**Bước 1: Tính mẫu số**\n\nTính tích của hai số phức trong mẫu số:\n\n\\[\n(\\sqrt{3} + i)(2 + 2i) = \\sqrt{3} \\cdot 2 + \\sqrt{3} \\cdot 2i + i \\cdot 2 + i \\cdot 2i\n\\]\n\nTính từng phần:\n\n- Phần thực: $2\\sqrt{3} - 2$ (vì $i^2 = -1$)\n- Phần ảo: $2\\sqrt{3} + 2$\n\nVậy:\n\n\\[\n(\\sqrt{3} + i)(2 + 2i) = (2\\sqrt{3} - 2) + (2\\sqrt{3} + 2)i\n\\]\n\n**Bước 2: Tính tử số**\n\nTử số là $1 - i$.\n\n**Bước 3: Chia số phức**\n\nTa có:\n\n\\[\nz = \\frac{1 - i}{(2\\sqrt{3} - 2) + (2\\sqrt{3} + 2)i}\n\\]\n\nĐể chia số phức, ta nhân cả tử và mẫu với phần liên hợp của mẫu số:\n\n\\[\nz = \\frac{(1 - i)((2\\sqrt{3} - 2) - (2\\sqrt{3} + 2)i)}{((2\\sqrt{3} - 2) + (2\\sqrt{3} + 2)i)((2\\sqrt{3} - 2) - (2\\sqrt{3} + 2)i)}\n\\]\n\n**Bước 4: Tính mẫu số sau khi nhân với liên hợp**\n\nMẫu số trở thành:\n\n\\[\n(2\\sqrt{3} - 2)^2 + (2\\sqrt{3} + 2)^2\n\\]\n\nTính từng phần:\n\n\\[\n(2\\sqrt{3} - 2)^2 = 4(3) - 8\\sqrt{3} + 4 = 12 - 8\\sqrt{3} + 4 = 16 - 8\\sqrt{3}\n\\]\n\n\\[\n(2\\sqrt{3} + 2)^2 = 4(3) + 8\\sqrt{3} + 4 = 12 + 8\\sqrt{3} + 4 = 16 + 8\\sqrt{3}\n\\]\n\nVậy:\n\n\\[\n(2\\sqrt{3} - 2)^2 + (2\\sqrt{3} + 2)^2 = (16 - 8\\sqrt{3}) + (16 + 8\\sqrt{3}) = 32\n\\]\n\n**Bước 5: Tính tử số**\n\nTử số là:\n\n\\[\n(1 - i)((2\\sqrt{3} - 2) - (2\\sqrt{3} + 2)i) = (1 \\cdot (2\\sqrt{3} - 2) - i(2\\sqrt{3} - 2) - i(2\\sqrt{3} + 2) + i^2(2\\sqrt{3} + 2))\n\\]\n\nTính từng phần:\n\n\\[\n= (2\\sqrt{3} - 2) - (2\\sqrt{3} - 2)i - (2\\sqrt{3} + 2)i - (2\\sqrt{3} + 2)\n\\]\n\n\\[\n= (2\\sqrt{3} - 2 - (2\\sqrt{3} + 2)) + (-(2\\sqrt{3} - 2) - (2\\sqrt{3} + 2))i\n\\]\n\n\\[\n= (2\\sqrt{3} - 2 - 2\\sqrt{3} - 2) + (-(2\\sqrt{3} - 2 + 2\\sqrt{3} + 2))i\n\\]\n\n\\[\n= -4 + (-4\\sqrt{3})i\n\\]\n\n**Bước 6: Kết quả cuối cùng**\n\nVậy:\n\n\\[\nz = \\frac{-4 - 4\\sqrt{3}i}{32} = -\\frac{1}{8} - \\frac{\\sqrt{3}}{8}i\n\\]\n\n**Bước 7: Chuyển sang dạng lượng giác**\n\nĐể chuyển sang dạng lượng giác, ta tính độ lớn và góc:\n\n- Độ lớn:\n\n\\[\n|z| = \\sqrt{\\left(-\\frac{1}{8}\\right)^2 + \\left(-\\frac{\\sqrt{3}}{8}\\right)^2} = \\sqrt{\\frac{1}{64} + \\frac{3}{64}} = \\sqrt{\\frac{4}{64}} = \\frac{1}{4}\n\\]\n\n- Góc:\n\n\\[\n\\theta = \\tan^{-1}\\left(\\frac{-\\frac{\\sqrt{3}}{8}}{-\\frac{1}{8}}\\right) = \\tan^{-1}(\\sqrt{3}) = \\frac{5\\pi}{3} \\text{ (vì z nằm trong phần tư 3)}\n\\]\n\nVậy số phức $z$ dưới dạng lượng giác là:\n\n\\[\nz = \\frac{1}{4} \\left( \\cos\\left(\\frac{5\\pi}{3}\\right) + i \\sin\\left(\\frac{5\\pi}{3}\\right) \\right)\n\\]\n\n",
         "\n$z = \\frac{1}{4} \\left( \\cos\\left(\\frac{5\\pi}{3}\\right) + i \\sin\\left(\\frac{5\\pi}{3}\\right) \\right)$\n",
         "Both Correct",
         "No explanation provided"
        ],
        [
         "47",
         "47",
         "Viết số phức sau dưới dạng lượng giác: $z = (\\sqrt{2} + \\sqrt{2}i)^{10}$",
         "Ta có: $\\sqrt{2} + \\sqrt{2}i = 2.(cos\\frac{\\pi}{4} + i.sin\\frac{\\pi}{4})$. Do đó, $z = (\\sqrt{2} + \\sqrt{2}i)^{10} = [2.(cos\\frac{\\pi}{4} + i.sin\\frac{\\pi}{4})]^{10} = 2^{10}.(cos\\frac{10\\pi}{4} + i.sin\\frac{10\\pi}{4}) = 2^{10}.(cos\\frac{5\\pi}{2} + i.sin\\frac{5\\pi}{2})$",
         "$2^{10}.(cos\\frac{5\\pi}{2} + i.sin\\frac{5\\pi}{2})$",
         "\nĐể viết số phức $z = (\\sqrt{2} + \\sqrt{2}i)^{10}$ dưới dạng lượng giác, ta thực hiện các bước sau:\n\n1. **Tìm mô-đun và góc của số phức**:\n   - Mô-đun của số phức $z_0 = \\sqrt{2} + \\sqrt{2}i$ được tính bằng công thức:\n     \\[\n     r = |z_0| = \\sqrt{(\\sqrt{2})^2 + (\\sqrt{2})^2} = \\sqrt{2 + 2} = \\sqrt{4} = 2\n     \\]\n   - Góc (argument) của số phức $z_0$ được tính bằng:\n     \\[\n     \\theta = \\tan^{-1}\\left(\\frac{\\text{Im}(z_0)}{\\text{Re}(z_0)}\\right) = \\tan^{-1}\\left(\\frac{\\sqrt{2}}{\\sqrt{2}}\\right) = \\tan^{-1}(1) = \\frac{\\pi}{4}\n     \\]\n\n2. **Viết số phức dưới dạng lượng giác**:\n   - Số phức $z_0$ có thể được viết dưới dạng lượng giác như sau:\n     \\[\n     z_0 = r(\\cos \\theta + i \\sin \\theta) = 2\\left(\\cos\\frac{\\pi}{4} + i \\sin\\frac{\\pi}{4}\\right)\n     \\]\n\n3. **Tính lũy thừa của số phức**:\n   - Theo định lý De Moivre, ta có:\n     \\[\n     z = z_0^{10} = r^{10}\\left(\\cos(10\\theta) + i \\sin(10\\theta)\\right)\n     \\]\n   - Tính $r^{10}$:\n     \\[\n     r^{10} = 2^{10} = 1024\n     \\]\n   - Tính $10\\theta$:\n     \\[\n     10\\theta = 10 \\cdot \\frac{\\pi}{4} = \\frac{10\\pi}{4} = \\frac{5\\pi}{2}\n     \\]\n\n4. **Tính cos và sin của góc**:\n   - Ta có:\n     \\[\n     \\cos\\left(\\frac{5\\pi}{2}\\right) = \\cos\\left(\\frac{\\pi}{2}\\right) = 0\n     \\]\n     \\[\n     \\sin\\left(\\frac{5\\pi}{2}\\right) = \\sin\\left(\\frac{\\pi}{2}\\right) = 1\n     \\]\n\n5. **Kết hợp lại để có kết quả cuối cùng**:\n   - Vậy số phức $z$ được viết dưới dạng lượng giác là:\n     \\[\n     z = 1024\\left(\\cos\\left(\\frac{5\\pi}{2}\\right) + i \\sin\\left(\\frac{5\\pi}{2}\\right)\\right) = 1024(0 + i \\cdot 1) = 1024i\n     \\]\n\n",
         "\n$z = 1024i$\n",
         "Correct Answer, Wrong Explanation",
         "No explanation provided"
        ],
        [
         "48",
         "48",
         "Viết số phức sau dưới dạng lượng giác $z = \\frac{(1 - i)^{10}}{(\\sqrt{3} + i)^9}$",
         "Ta có: $1 - i = \\sqrt{2}[cos(-\\frac{\\pi}{4}) + i.sin(-\\frac{\\pi}{4})] \\Rightarrow (1 - i)^{10} = (\\sqrt{2})^{10}.[cos(-10.\\frac{\\pi}{4}) + i.sin(-10.\\frac{\\pi}{4})] = 2^5[cos(-\\frac{5\\pi}{2}) + i.sin(-\\frac{5\\pi}{2})]$. Lại có: $\\sqrt{3} + i = 2(cos\\frac{\\pi}{6} + i.sin\\frac{\\pi}{6}) \\Rightarrow (\\sqrt{3} + i)^9 = 2^9.(cos9.\\frac{\\pi}{6} + i.sin9.\\frac{\\pi}{6}) = 2^9.(cos\\frac{3\\pi}{2} + i.sin\\frac{3\\pi}{2})$. Do đó, $z = \\frac{(1 - i)^{10}}{(\\sqrt{3} + i)^9} = \\frac{2^5[cos(-\\frac{5\\pi}{2}) + i.sin(-\\frac{5\\pi}{2})]}{2^9.(cos\\frac{3\\pi}{2} + i.sin\\frac{3\\pi}{2})} = \\frac{1}{2^4}(cos(-4\\pi) + i.sin(-4\\pi))$",
         "$\\frac{1}{2^4}(cos(-4\\pi) + i.sin(-4\\pi))$",
         "\nĐể viết số phức $z = \\frac{(1 - i)^{10}}{(\\sqrt{3} + i)^9}$ dưới dạng lượng giác, ta sẽ thực hiện các bước sau:\n\n**Bước 1: Chuyển đổi từng số phức sang dạng lượng giác.**\n\n1. **Số phức $1 - i$:**\n   - Độ lớn: \n   \\[\n   r_1 = |1 - i| = \\sqrt{1^2 + (-1)^2} = \\sqrt{2}\n   \\]\n   - Góc: \n   \\[\n   \\theta_1 = \\tan^{-1}\\left(\\frac{-1}{1}\\right) = -\\frac{\\pi}{4}\n   \\]\n   - Dạng lượng giác:\n   \\[\n   1 - i = \\sqrt{2} \\left(\\cos\\left(-\\frac{\\pi}{4}\\right) + i \\sin\\left(-\\frac{\\pi}{4}\\right)\\right)\n   \\]\n\n2. **Số phức $\\sqrt{3} + i$:**\n   - Độ lớn: \n   \\[\n   r_2 = |\\sqrt{3} + i| = \\sqrt{(\\sqrt{3})^2 + 1^2} = \\sqrt{4} = 2\n   \\]\n   - Góc: \n   \\[\n   \\theta_2 = \\tan^{-1}\\left(\\frac{1}{\\sqrt{3}}\\right) = \\frac{\\pi}{6}\n   \\]\n   - Dạng lượng giác:\n   \\[\n   \\sqrt{3} + i = 2 \\left(\\cos\\left(\\frac{\\pi}{6}\\right) + i \\sin\\left(\\frac{\\pi}{6}\\right)\\right)\n   \\]\n\n**Bước 2: Tính lũy thừa của các số phức.**\n\n1. **Tính $(1 - i)^{10}$:**\n   \\[\n   (1 - i)^{10} = \\left(\\sqrt{2}\\right)^{10} \\left(\\cos\\left(10 \\cdot -\\frac{\\pi}{4}\\right) + i \\sin\\left(10 \\cdot -\\frac{\\pi}{4}\\right)\\right) = 2^5 \\left(\\cos\\left(-\\frac{10\\pi}{4}\\right) + i \\sin\\left(-\\frac{10\\pi}{4}\\right)\\right)\n   \\]\n   \\[\n   = 32 \\left(\\cos\\left(-\\frac{5\\pi}{2}\\right) + i \\sin\\left(-\\frac{5\\pi}{2}\\right)\\right) = 32 \\left(\\cos\\left(-\\frac{\\pi}{2}\\right) + i \\sin\\left(-\\frac{\\pi}{2}\\right)\\right) = 32(0 - i) = -32i\n   \\]\n\n2. **Tính $(\\sqrt{3} + i)^9$:**\n   \\[\n   (\\sqrt{3} + i)^9 = 2^9 \\left(\\cos\\left(9 \\cdot \\frac{\\pi}{6}\\right) + i \\sin\\left(9 \\cdot \\frac{\\pi}{6}\\right)\\right) = 512 \\left(\\cos\\left(\\frac{3\\pi}{2}\\right) + i \\sin\\left(\\frac{3\\pi}{2}\\right)\\right)\n   \\]\n   \\[\n   = 512(0 - i) = -512i\n   \\]\n\n**Bước 3: Tính $z$.**\n\n\\[\nz = \\frac{(1 - i)^{10}}{(\\sqrt{3} + i)^9} = \\frac{-32i}{-512i} = \\frac{32}{512} = \\frac{1}{16}\n\\]\n\n**Bước 4: Viết kết quả dưới dạng lượng giác.**\n\nSố phức $z$ có thể được viết dưới dạng lượng giác như sau:\n\\[\nz = \\frac{1}{16} \\left(\\cos(0) + i \\sin(0)\\right)\n\\]\n\n",
         "\n$z = \\frac{1}{16} \\left(\\cos(0) + i \\sin(0)\\right)$\n",
         "Both Correct",
         "No explanation provided"
        ],
        [
         "49",
         "49",
         "Cho số phức $(\\cos \\frac{\\pi}{3} - i.sin\\frac{\\pi}{3})^5(1 + \\sqrt{3}i)^7$. Tìm phần ảo của số phức.",
         "Ta có: $1 + \\sqrt{3}i = 2.(cos\\frac{\\pi}{3} + i.sin\\frac{\\pi}{3})$ và $i^4 = 1$ nên ta có: $(\\cos \\frac{\\pi}{3} - i.sin\\frac{\\pi}{3})^5(1 + \\sqrt{3}i)^7 = (\\cos \\frac{\\pi}{3} - i.sin\\frac{\\pi}{3})^5.i.[2(cos\\frac{\\pi}{3} + i.sin\\frac{\\pi}{3})]^7 = 2^7(cos(-\\frac{\\pi}{3}) + i.sin(-\\frac{\\pi}{3})).[(\\cos \\frac{7\\pi}{3} + i.sin\\frac{7\\pi}{3})] = 2^7[cos2\\pi + i.sin2\\pi] i = 2^7 i$. Vậy phần ảo bằng $2^7 = 128$.",
         "128",
         "\nĐể tìm phần ảo của số phức $z = \\left(\\cos \\frac{\\pi}{3} - i \\sin \\frac{\\pi}{3}\\right)^5 (1 + \\sqrt{3}i)^7$, ta sẽ thực hiện các bước sau:\n\n1. **Biểu diễn số phức dưới dạng số phức Euler**:\n   - Số phức $\\cos \\frac{\\pi}{3} - i \\sin \\frac{\\pi}{3}$ có thể viết lại dưới dạng số phức Euler:\n     \\[\n     \\cos \\frac{\\pi}{3} - i \\sin \\frac{\\pi}{3} = e^{-i \\frac{\\pi}{3}}\n     \\]\n   - Do đó, ta có:\n     \\[\n     \\left(\\cos \\frac{\\pi}{3} - i \\sin \\frac{\\pi}{3}\\right)^5 = \\left(e^{-i \\frac{\\pi}{3}}\\right)^5 = e^{-i \\frac{5\\pi}{3}}\n     \\]\n\n2. **Tính số phức $1 + \\sqrt{3}i$**:\n   - Để biểu diễn số phức này dưới dạng số phức Euler, ta tính mô-đun và góc:\n     \\[\n     |1 + \\sqrt{3}i| = \\sqrt{1^2 + (\\sqrt{3})^2} = \\sqrt{1 + 3} = 2\n     \\]\n     \\[\n     \\theta = \\tan^{-1}\\left(\\frac{\\sqrt{3}}{1}\\right) = \\frac{\\pi}{3}\n     \\]\n   - Vậy:\n     \\[\n     1 + \\sqrt{3}i = 2 \\left(\\cos \\frac{\\pi}{3} + i \\sin \\frac{\\pi}{3}\\right) = 2 e^{i \\frac{\\pi}{3}}\n     \\]\n   - Do đó:\n     \\[\n     (1 + \\sqrt{3}i)^7 = (2 e^{i \\frac{\\pi}{3}})^7 = 2^7 e^{i \\frac{7\\pi}{3}} = 128 e^{i \\frac{7\\pi}{3}}\n     \\]\n\n3. **Kết hợp các phần lại**:\n   - Ta có:\n     \\[\n     z = e^{-i \\frac{5\\pi}{3}} \\cdot 128 e^{i \\frac{7\\pi}{3}} = 128 e^{i \\left(-\\frac{5\\pi}{3} + \\frac{7\\pi}{3}\\right)} = 128 e^{i \\frac{2\\pi}{3}}\n     \\]\n\n4. **Tính phần ảo của số phức**:\n   - Phần ảo của số phức $z$ được tính bằng:\n     \\[\n     \\text{Im}(z) = 128 \\sin\\left(\\frac{2\\pi}{3}\\right)\n     \\]\n   - Ta biết rằng:\n     \\[\n     \\sin\\left(\\frac{2\\pi}{3}\\right) = \\sin\\left(\\pi - \\frac{\\pi}{3}\\right) = \\sin\\left(\\frac{\\pi}{3}\\right) = \\frac{\\sqrt{3}}{2}\n     \\]\n   - Vậy:\n     \\[\n     \\text{Im}(z) = 128 \\cdot \\frac{\\sqrt{3}}{2} = 64\\sqrt{3}\n     \\]\n\nCuối cùng, phần ảo của số phức là $64\\sqrt{3}$.\n",
         "\n$64\\sqrt{3}$\n",
         "Both Incorrect",
         "No explanation provided"
        ]
       ],
       "shape": {
        "columns": 8,
        "rows": 162
       }
      },
      "text/html": [
       "<div>\n",
       "<style scoped>\n",
       "    .dataframe tbody tr th:only-of-type {\n",
       "        vertical-align: middle;\n",
       "    }\n",
       "\n",
       "    .dataframe tbody tr th {\n",
       "        vertical-align: top;\n",
       "    }\n",
       "\n",
       "    .dataframe thead th {\n",
       "        text-align: right;\n",
       "    }\n",
       "</style>\n",
       "<table border=\"1\" class=\"dataframe\">\n",
       "  <thead>\n",
       "    <tr style=\"text-align: right;\">\n",
       "      <th></th>\n",
       "      <th>Unnamed: 0</th>\n",
       "      <th>Question</th>\n",
       "      <th>Solution</th>\n",
       "      <th>Answer</th>\n",
       "      <th>AI Solution</th>\n",
       "      <th>AI Answer</th>\n",
       "      <th>Category</th>\n",
       "      <th>Explanation</th>\n",
       "    </tr>\n",
       "  </thead>\n",
       "  <tbody>\n",
       "    <tr>\n",
       "      <th>0</th>\n",
       "      <td>0</td>\n",
       "      <td>Cho hai số phức $z_1 = 1 + 10i$ và $z_2 = 9 – ...</td>\n",
       "      <td>Ta có: $z = z_1 + z_2 = (1 + 10i) + ( 9 – 2i) ...</td>\n",
       "      <td>10</td>\n",
       "      <td>\\nĐể giải bài toán, ta thực hiện các bước sau:...</td>\n",
       "      <td>\\nPhần thực của số phức $z$ là $10$.\\n</td>\n",
       "      <td>Both Correct</td>\n",
       "      <td>No explanation provided</td>\n",
       "    </tr>\n",
       "    <tr>\n",
       "      <th>1</th>\n",
       "      <td>1</td>\n",
       "      <td>Hãy tính số phức z. Biết rằng: $z = 10i – ( 2 ...</td>\n",
       "      <td>Ta có: $z = 10i - (2 + 2i).i = 10i – 2i + 2 = ...</td>\n",
       "      <td>2 + 8i</td>\n",
       "      <td>\\nĐể tính số phức $z$, ta sẽ thực hiện các bướ...</td>\n",
       "      <td>\\n$z = 2 + 8i$\\n</td>\n",
       "      <td>Both Correct</td>\n",
       "      <td>No explanation provided</td>\n",
       "    </tr>\n",
       "    <tr>\n",
       "      <th>2</th>\n",
       "      <td>2</td>\n",
       "      <td>Cho hai số phức $z = -2 + 3yi$; $z’ = ( x + 1)...</td>\n",
       "      <td>Để $z + i = z’ + 2$ =&gt; - 2 + 3yi + i = ( x + 1...</td>\n",
       "      <td>x = -5, y = -5/3</td>\n",
       "      <td>\\nĐể giải bài toán, ta bắt đầu từ phương trình...</td>\n",
       "      <td>\\n$x = -5, \\quad y = -\\frac{5}{3}$\\n</td>\n",
       "      <td>Both Correct</td>\n",
       "      <td>No explanation provided</td>\n",
       "    </tr>\n",
       "    <tr>\n",
       "      <th>3</th>\n",
       "      <td>3</td>\n",
       "      <td>Số nào trong các số phức sau là số thuần ảo? A...</td>\n",
       "      <td>Ta xét các phương án:A.(√2 + i) - (1 + √2i)= (...</td>\n",
       "      <td>B. ( 8 + 2i) + (- 8 + 2i)</td>\n",
       "      <td>\\nĐể xác định số nào trong các số phức đã cho ...</td>\n",
       "      <td>\\nSố thuần ảo là: B. $(8 + 2i) + (-8 + 2i) = 4...</td>\n",
       "      <td>Correct Answer, Wrong Explanation</td>\n",
       "      <td>No explanation provided</td>\n",
       "    </tr>\n",
       "    <tr>\n",
       "      <th>4</th>\n",
       "      <td>4</td>\n",
       "      <td>Tính giá trị của P = i^{105} + i^{23} + i^{20}...</td>\n",
       "      <td>Ta có: $i^2 = -1 \\Rightarrow i^4 = 1$. Do đó, ...</td>\n",
       "      <td>2</td>\n",
       "      <td>\\nĐể tính giá trị của biểu thức $P = i^{105} +...</td>\n",
       "      <td>\\nP = 2\\n</td>\n",
       "      <td>Both Correct</td>\n",
       "      <td>No explanation provided</td>\n",
       "    </tr>\n",
       "    <tr>\n",
       "      <th>...</th>\n",
       "      <td>...</td>\n",
       "      <td>...</td>\n",
       "      <td>...</td>\n",
       "      <td>...</td>\n",
       "      <td>...</td>\n",
       "      <td>...</td>\n",
       "      <td>...</td>\n",
       "      <td>...</td>\n",
       "    </tr>\n",
       "    <tr>\n",
       "      <th>157</th>\n",
       "      <td>157</td>\n",
       "      <td>Gọi (H) là hình phẳng giới hạn bởi các đường y...</td>\n",
       "      <td>Phương trình hoành độ giao điểm:\\n$2x-x^2 = 0 ...</td>\n",
       "      <td>16/15pi</td>\n",
       "      <td>\\nĐể tính thể tích của khối tròn xoay được tạo...</td>\n",
       "      <td>\\n$V = \\frac{16\\pi}{15}$\\n</td>\n",
       "      <td>Both Correct</td>\n",
       "      <td>No explanation provided</td>\n",
       "    </tr>\n",
       "    <tr>\n",
       "      <th>158</th>\n",
       "      <td>158</td>\n",
       "      <td>Tính thể tích khối tròn xoay được giới hạn bởi...</td>\n",
       "      <td>Thể tích khối tròn xoay được giới hạn bởi các ...</td>\n",
       "      <td>46/15pi</td>\n",
       "      <td>\\nĐể tính thể tích khối tròn xoay được giới hạ...</td>\n",
       "      <td>\\n$V = \\frac{46\\pi}{15}$\\n</td>\n",
       "      <td>Both Correct</td>\n",
       "      <td>No explanation provided</td>\n",
       "    </tr>\n",
       "    <tr>\n",
       "      <th>159</th>\n",
       "      <td>159</td>\n",
       "      <td>Cho hình phẳng giới hạn bởi các đường y=\\sqrt{...</td>\n",
       "      <td>Giải phương trình $\\sqrt{x} = x \\Leftrightarro...</td>\n",
       "      <td>pi/6</td>\n",
       "      <td>\\nĐể tính thể tích khối tròn xoay tạo ra khi h...</td>\n",
       "      <td>\\n$V = \\frac{\\pi}{6}$\\n</td>\n",
       "      <td>Both Correct</td>\n",
       "      <td>No explanation provided</td>\n",
       "    </tr>\n",
       "    <tr>\n",
       "      <th>160</th>\n",
       "      <td>160</td>\n",
       "      <td>Gọi (H) là hình phẳng giới hạn bởi các đường y...</td>\n",
       "      <td>Thể tích khối tròn xoay được giới hạn bởi các ...</td>\n",
       "      <td>pi - pi^2/4</td>\n",
       "      <td>\\nĐể tính thể tích của khối tròn xoay được tạo...</td>\n",
       "      <td>\\n$V = \\pi - \\frac{\\pi^2}{4}$\\n</td>\n",
       "      <td>Both Correct</td>\n",
       "      <td>No explanation provided</td>\n",
       "    </tr>\n",
       "    <tr>\n",
       "      <th>161</th>\n",
       "      <td>161</td>\n",
       "      <td>Tính thể tích khối tròn xoay giới hạn bởi y=ln...</td>\n",
       "      <td>Phương trình hoành độ giao điểm: $lnx=0 \\Leftr...</td>\n",
       "      <td>pi(e-2)</td>\n",
       "      <td>\\nĐể tính thể tích khối tròn xoay giới hạn bởi...</td>\n",
       "      <td>\\n$V = \\pi (e - 2)$\\n</td>\n",
       "      <td>Both Correct</td>\n",
       "      <td>No explanation provided</td>\n",
       "    </tr>\n",
       "  </tbody>\n",
       "</table>\n",
       "<p>162 rows × 8 columns</p>\n",
       "</div>"
      ],
      "text/plain": [
       "     Unnamed: 0                                           Question  \\\n",
       "0             0  Cho hai số phức $z_1 = 1 + 10i$ và $z_2 = 9 – ...   \n",
       "1             1  Hãy tính số phức z. Biết rằng: $z = 10i – ( 2 ...   \n",
       "2             2  Cho hai số phức $z = -2 + 3yi$; $z’ = ( x + 1)...   \n",
       "3             3  Số nào trong các số phức sau là số thuần ảo? A...   \n",
       "4             4  Tính giá trị của P = i^{105} + i^{23} + i^{20}...   \n",
       "..          ...                                                ...   \n",
       "157         157  Gọi (H) là hình phẳng giới hạn bởi các đường y...   \n",
       "158         158  Tính thể tích khối tròn xoay được giới hạn bởi...   \n",
       "159         159  Cho hình phẳng giới hạn bởi các đường y=\\sqrt{...   \n",
       "160         160  Gọi (H) là hình phẳng giới hạn bởi các đường y...   \n",
       "161         161  Tính thể tích khối tròn xoay giới hạn bởi y=ln...   \n",
       "\n",
       "                                              Solution  \\\n",
       "0    Ta có: $z = z_1 + z_2 = (1 + 10i) + ( 9 – 2i) ...   \n",
       "1    Ta có: $z = 10i - (2 + 2i).i = 10i – 2i + 2 = ...   \n",
       "2    Để $z + i = z’ + 2$ => - 2 + 3yi + i = ( x + 1...   \n",
       "3    Ta xét các phương án:A.(√2 + i) - (1 + √2i)= (...   \n",
       "4    Ta có: $i^2 = -1 \\Rightarrow i^4 = 1$. Do đó, ...   \n",
       "..                                                 ...   \n",
       "157  Phương trình hoành độ giao điểm:\\n$2x-x^2 = 0 ...   \n",
       "158  Thể tích khối tròn xoay được giới hạn bởi các ...   \n",
       "159  Giải phương trình $\\sqrt{x} = x \\Leftrightarro...   \n",
       "160  Thể tích khối tròn xoay được giới hạn bởi các ...   \n",
       "161  Phương trình hoành độ giao điểm: $lnx=0 \\Leftr...   \n",
       "\n",
       "                        Answer  \\\n",
       "0                           10   \n",
       "1                       2 + 8i   \n",
       "2             x = -5, y = -5/3   \n",
       "3    B. ( 8 + 2i) + (- 8 + 2i)   \n",
       "4                            2   \n",
       "..                         ...   \n",
       "157                    16/15pi   \n",
       "158                    46/15pi   \n",
       "159                       pi/6   \n",
       "160                pi - pi^2/4   \n",
       "161                    pi(e-2)   \n",
       "\n",
       "                                           AI Solution  \\\n",
       "0    \\nĐể giải bài toán, ta thực hiện các bước sau:...   \n",
       "1    \\nĐể tính số phức $z$, ta sẽ thực hiện các bướ...   \n",
       "2    \\nĐể giải bài toán, ta bắt đầu từ phương trình...   \n",
       "3    \\nĐể xác định số nào trong các số phức đã cho ...   \n",
       "4    \\nĐể tính giá trị của biểu thức $P = i^{105} +...   \n",
       "..                                                 ...   \n",
       "157  \\nĐể tính thể tích của khối tròn xoay được tạo...   \n",
       "158  \\nĐể tính thể tích khối tròn xoay được giới hạ...   \n",
       "159  \\nĐể tính thể tích khối tròn xoay tạo ra khi h...   \n",
       "160  \\nĐể tính thể tích của khối tròn xoay được tạo...   \n",
       "161  \\nĐể tính thể tích khối tròn xoay giới hạn bởi...   \n",
       "\n",
       "                                             AI Answer  \\\n",
       "0               \\nPhần thực của số phức $z$ là $10$.\\n   \n",
       "1                                     \\n$z = 2 + 8i$\\n   \n",
       "2                 \\n$x = -5, \\quad y = -\\frac{5}{3}$\\n   \n",
       "3    \\nSố thuần ảo là: B. $(8 + 2i) + (-8 + 2i) = 4...   \n",
       "4                                            \\nP = 2\\n   \n",
       "..                                                 ...   \n",
       "157                         \\n$V = \\frac{16\\pi}{15}$\\n   \n",
       "158                         \\n$V = \\frac{46\\pi}{15}$\\n   \n",
       "159                            \\n$V = \\frac{\\pi}{6}$\\n   \n",
       "160                    \\n$V = \\pi - \\frac{\\pi^2}{4}$\\n   \n",
       "161                              \\n$V = \\pi (e - 2)$\\n   \n",
       "\n",
       "                              Category              Explanation  \n",
       "0                         Both Correct  No explanation provided  \n",
       "1                         Both Correct  No explanation provided  \n",
       "2                         Both Correct  No explanation provided  \n",
       "3    Correct Answer, Wrong Explanation  No explanation provided  \n",
       "4                         Both Correct  No explanation provided  \n",
       "..                                 ...                      ...  \n",
       "157                       Both Correct  No explanation provided  \n",
       "158                       Both Correct  No explanation provided  \n",
       "159                       Both Correct  No explanation provided  \n",
       "160                       Both Correct  No explanation provided  \n",
       "161                       Both Correct  No explanation provided  \n",
       "\n",
       "[162 rows x 8 columns]"
      ]
     },
     "metadata": {},
     "output_type": "display_data"
    }
   ],
   "source": [
    "import time\n",
    "import re\n",
    "import pandas as pd\n",
    "from tqdm import tqdm\n",
    "\n",
    "# Function to classify AI answer correctness\n",
    "def check_answer(correct_answer, ai_answer):\n",
    "    prompt = (f'''Compare the correct answer '{correct_answer}' with the AI-generated answer '{ai_answer}'. \n",
    "              Categorize the result into one of the following:\n",
    "              1. 'Both Correct' - AI answer is meaningfully correct.\n",
    "              2. 'Both Incorrect' - AI uses incorrect reasoning, both are incorrect.\n",
    "              3. 'Correct Answer, Wrong Explanation' - The answer is correct, but the reasoning is flawed.\n",
    "              4. 'Wrong Answer, Correct Explanation' - The answer is wrong, but the reasoning is valid.\n",
    "              5. 'AI Not Generated' - AI did not produce an answer.\n",
    "              \n",
    "              Be lenient in formatting and minor differences as long as the meaning aligns. \n",
    "              Return only the category and a brief explanation.\n",
    "              ''')\n",
    "\n",
    "    global last_api_call_time\n",
    "\n",
    "    # Enforce rate limit (one request every 4 seconds)\n",
    "    elapsed_time = time.time() - last_api_call_time\n",
    "    if elapsed_time < 4:\n",
    "        time.sleep(4 - elapsed_time)\n",
    "\n",
    "    response = model.generate(prompt)  # API call\n",
    "    last_api_call_time = time.time()\n",
    "\n",
    "    if not response:\n",
    "        return \"AI Not Generated\", \"AI failed to generate a response\"\n",
    "\n",
    "    # Ensure response is a string before applying regex\n",
    "    response = str(response)\n",
    "\n",
    "    match = re.search(r\"(Both Correct|Both Incorrect|Correct Answer, Wrong Explanation|Wrong Answer, Correct Explanation|AI Not Generated)\", response)\n",
    "    explanation_match = re.search(r\"Explanation:\\s*(.*)\", response, re.DOTALL)\n",
    "\n",
    "    category = match.group(1) if match else \"Unknown\"\n",
    "    explanation = explanation_match.group(1).strip() if explanation_match else \"No explanation provided\"\n",
    "\n",
    "    return category, explanation\n",
    "\n",
    "# Initialize rate limit tracking\n",
    "last_api_call_time = time.time()\n",
    "\n",
    "# Ensure necessary columns exist\n",
    "if \"Category\" not in df.columns:\n",
    "    df[\"Category\"] = None\n",
    "if \"Explanation\" not in df.columns:\n",
    "    df[\"Explanation\"] = None\n",
    "\n",
    "# Process only unanswered rows\n",
    "for index, row in tqdm(df.iterrows(), total=df.shape[0], desc=\"Checking AI Answers\"):\n",
    "    if pd.notna(row[\"Category\"]):  # Skip rows already processed\n",
    "        continue\n",
    "    \n",
    "    category, explanation = check_answer(row[\"Answer\"], row[\"AI Answer\"])\n",
    "    df.at[index, \"Category\"] = category\n",
    "    df.at[index, \"Explanation\"] = explanation\n",
    "\n",
    "    print(f\"Processed {index + 1}/{df.shape[0]} - Category: {category}\")  # Progress tracking\n",
    "\n",
    "# Display updated DataFrame\n",
    "display(df)\n"
   ]
  },
  {
   "cell_type": "code",
   "execution_count": 9,
   "metadata": {},
   "outputs": [
    {
     "name": "stdout",
     "output_type": "stream",
     "text": [
      "Statistical Summary of AI Answer Classification:\n",
      "Both Correct                         91\n",
      "Correct Answer, Wrong Explanation    55\n",
      "Both Incorrect                       14\n",
      "AI Not Generated                      2\n",
      "Name: Category, dtype: int64\n",
      "\n",
      "Percentage Distribution:\n",
      "Both Correct                         56.172840\n",
      "Correct Answer, Wrong Explanation    33.950617\n",
      "Both Incorrect                        8.641975\n",
      "AI Not Generated                      1.234568\n",
      "Name: Category, dtype: float64\n"
     ]
    },
    {
     "data": {
      "image/png": "[encoded data removed]",
      "text/plain": [
       "<Figure size 800x500 with 1 Axes>"
      ]
     },
     "metadata": {},
     "output_type": "display_data"
    }
   ],
   "source": [
    "import pandas as pd\n",
    "import matplotlib.pyplot as plt\n",
    "\n",
    "# Count occurrences of each classification category\n",
    "category_counts = df[\"Category\"].value_counts()\n",
    "\n",
    "# Compute percentages\n",
    "category_percentages = (category_counts / len(df)) * 100\n",
    "\n",
    "# Display statistical summary\n",
    "print(\"Statistical Summary of AI Answer Classification:\")\n",
    "print(category_counts)\n",
    "print(\"\\nPercentage Distribution:\")\n",
    "print(category_percentages)\n",
    "\n",
    "# Plot bar chart for better visualization\n",
    "plt.figure(figsize=(8, 5))\n",
    "category_counts.plot(kind=\"bar\", color=[\"green\", \"red\", \"orange\", \"blue\", \"gray\"])\n",
    "plt.xlabel(\"Category\")\n",
    "plt.ylabel(\"Count\")\n",
    "plt.title(\"Distribution of AI Answer Classifications\")\n",
    "plt.xticks(rotation=45)\n",
    "plt.grid(axis=\"y\", linestyle=\"--\", alpha=0.7)\n",
    "plt.show()\n"
   ]
  },
  {
   "cell_type": "code",
   "execution_count": 11,
   "metadata": {},
   "outputs": [],
   "source": [
    "df.to_csv(\"deepseek_r1_test_results.csv\")"
   ]
  }
 ],
 "metadata": {
  "kernelspec": {
   "display_name": "mira",
   "language": "python",
   "name": "python3"
  },
  "language_info": {
   "codemirror_mode": {
    "name": "ipython",
    "version": 3
   },
   "file_extension": ".py",
   "mimetype": "text/x-python",
   "name": "python",
   "nbconvert_exporter": "python",
   "pygments_lexer": "ipython3",
   "version": "3.10.12"
  }
 },
 "nbformat": 4,
 "nbformat_minor": 2
}
