{
 "cells": [
  {
   "cell_type": "code",
   "execution_count": 2,
   "metadata": {},
   "outputs": [
    {
     "name": "stdout",
     "output_type": "stream",
     "text": [
      "Total number of questions: 162\n"
     ]
    }
   ],
   "source": [
    "import json\n",
    "\n",
    "with open(\"data.json\", \"r\", encoding=\"utf-8\") as file:\n",
    "    data = json.load(file)\n",
    "\n",
    "question_count = sum(len(topic[\"questions\"]) for chapter in data[\"data\"] for topic in chapter[\"topics\"])\n",
    "\n",
    "print(\"Total number of questions:\", question_count)\n"
   ]
  },
  {
   "cell_type": "code",
   "execution_count": 110,
   "metadata": {},
   "outputs": [],
   "source": [
    "\n",
    "\n",
    "PROMPT_text = \"\"\"\n",
    "Hãy giải bài toán theo từng bước, và giải thích bước làm.\n",
    "Hãy trả về kết quả dạng LaTeX cho các công thức toán học (để trong $...$ cho các biểu thức, số), bảng biến thiên, đồ thị,... nếu có.\n",
    "\n",
    "=========\n",
    "Đây là bài toán:\n",
    "{problem}\n",
    "\n",
    "=========\n",
    "\n",
    "LƯU Ý: \n",
    "- Hãy giải bằng cách ngắn gọn, hiệu quả nhất.\n",
    "- Hãy trình bày khoa học và dùng các ký hiệu toán học nếu có thể để thay cho chữ \n",
    "- Ví dụ dùng kí hiệu toán là dấu \"hoặc\", \"và\" khi giải phương trình, bất phương trình; Hay vẽ bảng biến thiên khảo sát hàm số hay xét dấu,.... \n",
    "- Nên xuống dòng khi cần thiết, tránh một dòng quá dài.\n",
    "-Trả về dưới dạng tag : <solution>solution<solution> <answer>answer<answer> trong đó solution là cách giải, anser là kết quả cuối cùng theo yêu cầu bài toán.\n",
    "-Trả về kết quả dưới dạng Latex\n",
    "\"\"\""
   ]
  },
  {
   "cell_type": "code",
   "execution_count": 1,
   "metadata": {},
   "outputs": [],
   "source": [
    "\n",
    "from dotenv import load_dotenv\n",
    "import os\n",
    "from google import genai\n",
    "\n",
    "load_dotenv()\n",
    "\n",
    "api_key = os.getenv(\"OPENAI_API_KEY\")\n",
    "gemini_api_key = os.getenv(\"GEMINI_API_KEY\")\n",
    "\n",
    "from langchain_openai import OpenAI, ChatOpenAI\n",
    "from typing import List, Dict, Any, Optional, Tuple\n",
    "from abc import ABC, abstractmethod\n",
    "from langchain.schema.messages import HumanMessage, SystemMessage\n",
    "\n",
    "\n",
    "class LLM(ABC):\n",
    "    @abstractmethod\n",
    "    def generate(self, prompt: str) -> str:\n",
    "        pass\n",
    "    \n",
    "    @abstractmethod\n",
    "    def stream_generate(self, prompt: str):\n",
    "        pass\n",
    "\n",
    "class LangchainOpenAI(LLM):\n",
    "    def __init__(self, model_name=\"gpt-4o\"):\n",
    "        self.chat_model = ChatOpenAI(\n",
    "            model=model_name,\n",
    "            temperature=0\n",
    "        )\n",
    "        self.stream_model = ChatOpenAI(\n",
    "            model=model_name,\n",
    "            temperature=0,\n",
    "            streaming=True\n",
    "        )\n",
    "    \n",
    "    def generate(self, prompt: str) -> str:\n",
    "        messages = [HumanMessage(content=prompt)]\n",
    "        return self.chat_model.invoke(messages).content\n",
    "    \n",
    "    def stream_generate(self, prompt: str):\n",
    "        messages = [HumanMessage(content=prompt)]\n",
    "        for chunk in self.stream_model.stream(messages):\n",
    "            if chunk.content:\n",
    "                yield chunk.content\n",
    "\n",
    "class GeminiAI(LLM):\n",
    "    def __init__(self):\n",
    "        self.client = genai.Client(api_key=gemini_api_key)\n",
    "    \n",
    "    def generate(self, prompt: str) -> str:\n",
    "        response = self.client.models.generate_content(model=\"gemini-2.0-flash\",contents=[prompt])\n",
    "        return response.text\n",
    "    \n",
    "\n",
    "    def stream_generate(self, prompt: str):\n",
    "        response = self.client.models.generate_content_stream(model=\"gemini-2.0-flash\",contents=[prompt])\n",
    "        \n",
    "        for chunk in response:\n",
    "            if chunk.text:\n",
    "                yield chunk.text"
   ]
  },
  {
   "cell_type": "code",
   "execution_count": 143,
   "metadata": {},
   "outputs": [],
   "source": [
    "\n",
    "import re\n",
    "import pandas as pd\n",
    "\n",
    "from IPython.display import display, Latex\n",
    "import json\n",
    "\n",
    "from tqdm import tqdm\n",
    "\n",
    "model = GeminiAI()\n",
    "def get_answer(problem):\n",
    "    response =  model.generate(PROMPT_text.format(problem=problem))\n",
    "    if response is None:\n",
    "            return {\"solution\": \"AI failed to generate a solution\", \"answer\": \"AI failed to generate an answer\"}\n",
    "    solution_match = re.search(r\"<solution>(.*?)</solution>\", response, re.DOTALL)\n",
    "    answer_match = re.search(r\"<answer>(.*?)</answer>\", response, re.DOTALL)\n",
    "    \n",
    "    # Extracted values or default\n",
    "    solution = solution_match.group(1) if solution_match else \"No solution found\"\n",
    "    answer = answer_match.group(1) if answer_match else \"No answer found\"\n",
    "    \n",
    "    return {\"solution\": solution, \"answer\": answer}"
   ]
  },
  {
   "cell_type": "code",
   "execution_count": 144,
   "metadata": {},
   "outputs": [
    {
     "name": "stderr",
     "output_type": "stream",
     "text": [
      "Processing Questions:   0%|          | 0/162 [00:00<?, ?it/s]"
     ]
    },
    {
     "data": {
      "text/latex": [
       "\n",
       "Để tìm số phức $z = z_1 + z_2$, ta thực hiện phép cộng hai số phức $z_1$ và $z_2$ như sau:\n",
       "\n",
       "$z = z_1 + z_2 = (1 + 10i) + (9 - 2i)$\n",
       "\n",
       "Ta cộng phần thực với phần thực, và phần ảo với phần ảo:\n",
       "\n",
       "$z = (1 + 9) + (10 - 2)i = 10 + 8i$\n",
       "\n",
       "Số phức $z = 10 + 8i$ có phần thực là $10$ và phần ảo là $8$.\n",
       "\n",
       "Vậy, phần thực của $z$ là $10$.\n",
       "\n"
      ],
      "text/plain": [
       "<IPython.core.display.Latex object>"
      ]
     },
     "metadata": {},
     "output_type": "display_data"
    },
    {
     "name": "stderr",
     "output_type": "stream",
     "text": [
      "Processing Questions:   1%|          | 1/162 [00:02<05:22,  2.00s/it]"
     ]
    },
    {
     "data": {
      "text/latex": [
       "\n",
       "Để tính số phức $z$, ta thực hiện các phép toán theo thứ tự:\n",
       "\n",
       "1. Nhân số phức: $(2 + 2i).i = 2i + 2i^2 = 2i + 2(-1) = -2 + 2i$\n",
       "2. Thay vào biểu thức của $z$: $z = 10i - (-2 + 2i)$\n",
       "3. Thực hiện phép trừ: $z = 10i + 2 - 2i$\n",
       "4. Gom các phần thực và ảo lại: $z = 2 + (10i - 2i) = 2 + 8i$\n",
       "\n",
       "Vậy, $z = 2 + 8i$.\n",
       "\n"
      ],
      "text/plain": [
       "<IPython.core.display.Latex object>"
      ]
     },
     "metadata": {},
     "output_type": "display_data"
    },
    {
     "name": "stderr",
     "output_type": "stream",
     "text": [
      "Processing Questions:   1%|          | 2/162 [00:04<05:20,  2.00s/it]"
     ]
    },
    {
     "data": {
      "text/latex": [
       "\n",
       "Ta có:\n",
       "$z = -2 + 3yi$\n",
       "$z' = (x+1) - 4i$\n",
       "$z + i = z' + 2$\n",
       "\n",
       "Thay $z$ và $z'$ vào phương trình, ta được:\n",
       "$(-2 + 3yi) + i = ((x+1) - 4i) + 2$\n",
       "$-2 + (3y+1)i = (x+3) - 4i$\n",
       "\n",
       "Hai số phức bằng nhau khi và chỉ khi phần thực bằng phần thực và phần ảo bằng phần ảo. Vậy ta có hệ phương trình:\n",
       "$\\begin{cases}\n",
       "-2 = x+3 \\\\\n",
       "3y+1 = -4\n",
       "\\end{cases}$\n",
       "\n",
       "Giải hệ phương trình:\n",
       "$\\begin{cases}\n",
       "x = -2 - 3 \\\\\n",
       "3y = -4 - 1\n",
       "\\end{cases}$\n",
       "\n",
       "$\\begin{cases}\n",
       "x = -5 \\\\\n",
       "3y = -5\n",
       "\\end{cases}$\n",
       "\n",
       "$\\begin{cases}\n",
       "x = -5 \\\\\n",
       "y = -\\frac{5}{3}\n",
       "\\end{cases}$\n",
       "\n",
       "Vậy $x = -5$ và $y = -\\frac{5}{3}$.\n",
       "\n"
      ],
      "text/plain": [
       "<IPython.core.display.Latex object>"
      ]
     },
     "metadata": {},
     "output_type": "display_data"
    },
    {
     "name": "stderr",
     "output_type": "stream",
     "text": [
      "Processing Questions:   2%|▏         | 3/162 [00:07<07:33,  2.85s/it]"
     ]
    },
    {
     "data": {
      "text/latex": [
       "\n",
       "Để một số phức là số thuần ảo, phần thực của nó phải bằng 0. Ta sẽ kiểm tra từng đáp án:\n",
       "\n",
       "A. $(\\sqrt{2} + i) - (1 + \\sqrt{2}i) = (\\sqrt{2} - 1) + (1 - \\sqrt{2})i$. Phần thực là $\\sqrt{2} - 1 \\neq 0$.\n",
       "\n",
       "B. $(8 + 2i) + (-8 + 2i) = (8 - 8) + (2 + 2)i = 0 + 4i = 4i$. Phần thực là 0.\n",
       "\n",
       "C. $(-3 + i) - (3 - i) = (-3 - 3) + (1 + 1)i = -6 + 2i$. Phần thực là -6 $\\neq$ 0.\n",
       "\n",
       "D. $(10 + 3i) - (-10 - 3i) = (10 + 10) + (3 + 3)i = 20 + 6i$. Phần thực là 20 $\\neq$ 0.\n",
       "\n",
       "Vậy, chỉ có đáp án B cho kết quả là một số thuần ảo.\n",
       "\n"
      ],
      "text/plain": [
       "<IPython.core.display.Latex object>"
      ]
     },
     "metadata": {},
     "output_type": "display_data"
    },
    {
     "name": "stderr",
     "output_type": "stream",
     "text": [
      "Processing Questions:   2%|▏         | 4/162 [00:11<08:16,  3.14s/it]"
     ]
    },
    {
     "data": {
      "text/latex": [
       "\n",
       "Ta có $i$ là đơn vị ảo, thỏa mãn $i^2 = -1$.\n",
       "Ta cần tính $P = i^{105} + i^{23} + i^{20} - i^{34}$.\n",
       "\n",
       "Ta có:\n",
       "$i^{105} = i^{4 \\cdot 26 + 1} = (i^4)^{26} \\cdot i = 1^{26} \\cdot i = i$\n",
       "$i^{23} = i^{4 \\cdot 5 + 3} = (i^4)^5 \\cdot i^3 = 1^5 \\cdot i^3 = i^3 = -i$\n",
       "$i^{20} = i^{4 \\cdot 5} = (i^4)^5 = 1^5 = 1$\n",
       "$i^{34} = i^{4 \\cdot 8 + 2} = (i^4)^8 \\cdot i^2 = 1^8 \\cdot i^2 = i^2 = -1$\n",
       "\n",
       "Vậy, $P = i + (-i) + 1 - (-1) = i - i + 1 + 1 = 0 + 2 = 2$.\n",
       "\n"
      ],
      "text/plain": [
       "<IPython.core.display.Latex object>"
      ]
     },
     "metadata": {},
     "output_type": "display_data"
    },
    {
     "name": "stderr",
     "output_type": "stream",
     "text": [
      "Processing Questions:   3%|▎         | 5/162 [00:15<08:38,  3.30s/it]"
     ]
    },
    {
     "data": {
      "text/latex": [
       "\n",
       "Ta có:\n",
       "$\\frac{1+i}{1-i} = \\frac{(1+i)(1+i)}{(1-i)(1+i)} = \\frac{1+2i+i^2}{1-i^2} = \\frac{1+2i-1}{1-(-1)} = \\frac{2i}{2} = i$\n",
       "$\\frac{1-i}{1+i} = \\frac{(1-i)(1-i)}{(1+i)(1-i)} = \\frac{1-2i+i^2}{1-i^2} = \\frac{1-2i-1}{1-(-1)} = \\frac{-2i}{2} = -i$\n",
       "\n",
       "Vậy\n",
       "$A = \\left( \\frac{1+i}{1-i} \\right)^{2016} + \\left( \\frac{1-i}{1+i} \\right)^{2018} = i^{2016} + (-i)^{2018} = (i^4)^{504} + (-1)^{2018} i^{2018} = 1^{504} + i^{2018} = 1 + i^{2016} i^2 = 1 + (i^4)^{504} i^2 = 1 + 1^{504} i^2 = 1 + i^2 = 1 - 1 = 0$\n",
       "\n"
      ],
      "text/plain": [
       "<IPython.core.display.Latex object>"
      ]
     },
     "metadata": {},
     "output_type": "display_data"
    },
    {
     "name": "stderr",
     "output_type": "stream",
     "text": [
      "Processing Questions:   4%|▎         | 6/162 [00:18<08:55,  3.43s/it]"
     ]
    },
    {
     "data": {
      "text/latex": [
       "\n",
       "Ta có $P = 1 + i + i^2 + i^3 + ... + i^{2017}$. Đây là tổng của một cấp số nhân có số hạng đầu $u_1 = 1$, công bội $q = i$, và số số hạng là $n = 2018$.\n",
       "\n",
       "Áp dụng công thức tổng của cấp số nhân:\n",
       "$P = \\frac{u_1(1 - q^n)}{1 - q} = \\frac{1 - i^{2018}}{1 - i}$.\n",
       "\n",
       "Ta có $i^2 = -1$, suy ra $i^4 = 1$.\n",
       "Vậy $i^{2018} = i^{4 \\cdot 504 + 2} = (i^4)^{504} \\cdot i^2 = 1^{504} \\cdot (-1) = -1$.\n",
       "\n",
       "Thay vào công thức tính P:\n",
       "$P = \\frac{1 - (-1)}{1 - i} = \\frac{2}{1 - i}$.\n",
       "\n",
       "Để khử mẫu, ta nhân cả tử và mẫu với liên hợp của mẫu:\n",
       "$P = \\frac{2(1 + i)}{(1 - i)(1 + i)} = \\frac{2(1 + i)}{1 - i^2} = \\frac{2(1 + i)}{1 - (-1)} = \\frac{2(1 + i)}{2} = 1 + i$.\n",
       "\n"
      ],
      "text/plain": [
       "<IPython.core.display.Latex object>"
      ]
     },
     "metadata": {},
     "output_type": "display_data"
    },
    {
     "name": "stderr",
     "output_type": "stream",
     "text": [
      "Processing Questions:   4%|▍         | 7/162 [00:22<09:25,  3.65s/it]"
     ]
    },
    {
     "data": {
      "text/latex": [
       "\n",
       "Ta có $i^2 = -1$, $i^4 = 1$.\n",
       "Tổng $A$ có thể được viết lại như sau:\n",
       "$A = 1 + i^2 + i^4 + \\dots + i^{4k-2} + i^{4k}$\n",
       "$A = 1 + (i^2) + (i^2)^2 + \\dots + (i^2)^{2k-1} + (i^2)^{2k}$\n",
       "$A = 1 + (-1) + (-1)^2 + \\dots + (-1)^{2k-1} + (-1)^{2k}$\n",
       "$A = 1 - 1 + 1 - 1 + \\dots - 1 + 1$\n",
       "\n",
       "Ta nhận thấy rằng các số hạng của $A$ có dạng $ (-1)^n$ với $n$ chạy từ 0 đến $2k$.\n",
       "Số lượng các số hạng trong tổng là $2k+1$.\n",
       "Vì vậy, ta có thể viết lại tổng $A$ như sau:\n",
       "$A = \\sum_{n=0}^{2k} (-1)^n$\n",
       "\n",
       "Nếu $k$ là số nguyên dương thì $2k+1$ là một số lẻ. Vậy số lượng số 1 trong tổng sẽ lớn hơn số lượng số -1 là 1.\n",
       "Ta có thể viết $A$ như sau:\n",
       "$A = (1 - 1) + (1 - 1) + \\dots + (1 - 1) + 1$\n",
       "Số lượng cặp $(1-1)$ là $k$ cặp. Vậy tổng của các cặp này là 0.\n",
       "Vậy $A = 0 + 0 + \\dots + 0 + 1 = 1$\n",
       "\n",
       "Vậy $A = 1$.\n",
       "\n"
      ],
      "text/plain": [
       "<IPython.core.display.Latex object>"
      ]
     },
     "metadata": {},
     "output_type": "display_data"
    },
    {
     "name": "stderr",
     "output_type": "stream",
     "text": [
      "Processing Questions:   5%|▍         | 8/162 [00:26<09:33,  3.73s/it]"
     ]
    },
    {
     "data": {
      "text/latex": [
       "\n",
       "Để tìm số phức liên hợp của số phức $z = (3 - 2i)(2 + 3i)$, ta thực hiện các bước sau:\n",
       "\n",
       "1. Tính số phức $z$:\n",
       "$z = (3 - 2i)(2 + 3i) = 3(2) + 3(3i) - 2i(2) - 2i(3i) = 6 + 9i - 4i - 6i^2 = 6 + 5i - 6(-1) = 6 + 5i + 6 = 12 + 5i$\n",
       "\n",
       "2. Tìm số phức liên hợp của $z$, ký hiệu là $\\bar{z}$:\n",
       "Nếu $z = a + bi$, thì $\\bar{z} = a - bi$.\n",
       "Trong trường hợp này, $z = 12 + 5i$, vậy $\\bar{z} = 12 - 5i$.\n",
       "\n",
       "Vậy, số phức liên hợp của $z$ là $12 - 5i$.\n",
       "\n"
      ],
      "text/plain": [
       "<IPython.core.display.Latex object>"
      ]
     },
     "metadata": {},
     "output_type": "display_data"
    },
    {
     "name": "stderr",
     "output_type": "stream",
     "text": [
      "Processing Questions:   6%|▌         | 9/162 [00:29<08:25,  3.30s/it]"
     ]
    },
    {
     "data": {
      "text/latex": [
       "\n",
       "Ta có số phức $z = 5 - 3i$. Khi đó, số phức liên hợp của $z$ là $\\overline{z} = 5 + 3i$.\n",
       "\n",
       "Ta cần tính $1 + \\overline{z} + (\\overline{z})^2$. Thay $\\overline{z} = 5 + 3i$ vào biểu thức, ta được:\n",
       "\\begin{align*} 1 + \\overline{z} + (\\overline{z})^2 &= 1 + (5 + 3i) + (5 + 3i)^2 \\\\ &= 1 + (5 + 3i) + (25 + 30i + 9i^2) \\\\ &= 1 + (5 + 3i) + (25 + 30i - 9) \\\\ &= 1 + 5 + 3i + 16 + 30i \\\\ &= (1 + 5 + 16) + (3i + 30i) \\\\ &= 22 + 33i\\end{align*}\n",
       "\n",
       "Vậy, $1 + \\overline{z} + (\\overline{z})^2 = 22 + 33i$.\n",
       "\n"
      ],
      "text/plain": [
       "<IPython.core.display.Latex object>"
      ]
     },
     "metadata": {},
     "output_type": "display_data"
    },
    {
     "name": "stderr",
     "output_type": "stream",
     "text": [
      "Processing Questions:   6%|▌         | 10/162 [00:32<08:29,  3.35s/it]"
     ]
    },
    {
     "data": {
      "text/latex": [
       "\n",
       "Ta có phương trình:\n",
       "$(1 + 3i)z - (2 + 5i) = (2 + i)z$\n",
       "\n",
       "$\\Leftrightarrow (1 + 3i)z - (2 + i)z = 2 + 5i$\n",
       "\n",
       "$\\Leftrightarrow (1 + 3i - 2 - i)z = 2 + 5i$\n",
       "\n",
       "$\\Leftrightarrow (-1 + 2i)z = 2 + 5i$\n",
       "\n",
       "$\\Leftrightarrow z = \\frac{2 + 5i}{-1 + 2i}$\n",
       "\n",
       "$\\Leftrightarrow z = \\frac{(2 + 5i)(-1 - 2i)}{(-1 + 2i)(-1 - 2i)}$\n",
       "\n",
       "$\\Leftrightarrow z = \\frac{-2 - 4i - 5i - 10i^2}{1 + 4}$\n",
       "\n",
       "$\\Leftrightarrow z = \\frac{-2 - 9i + 10}{5}$\n",
       "\n",
       "$\\Leftrightarrow z = \\frac{8 - 9i}{5}$\n",
       "\n",
       "$\\Leftrightarrow z = \\frac{8}{5} - \\frac{9}{5}i$\n",
       "\n",
       "Số phức liên hợp của $z$ là:\n",
       "$\\overline{z} = \\frac{8}{5} + \\frac{9}{5}i$\n",
       "\n"
      ],
      "text/plain": [
       "<IPython.core.display.Latex object>"
      ]
     },
     "metadata": {},
     "output_type": "display_data"
    },
    {
     "name": "stderr",
     "output_type": "stream",
     "text": [
      "Processing Questions:   7%|▋         | 11/162 [00:35<08:25,  3.35s/it]"
     ]
    },
    {
     "data": {
      "text/latex": [
       "\n",
       "Đặt $z = x + yi$, với $x, y \\in \\mathbb{R}$. Khi đó $\\overline{z} = x - yi$.\n",
       "Thay vào phương trình, ta có:\n",
       "$x + yi + 2i(x - yi) + 4 = i$\n",
       "$x + yi + 2xi - 2yi^2 + 4 = i$\n",
       "$x + yi + 2xi + 2y + 4 = i$\n",
       "$(x + 2y + 4) + (2x + y)i = i$\n",
       "\n",
       "Đồng nhất phần thực và phần ảo, ta được hệ phương trình:\n",
       "$\\begin{cases} x + 2y + 4 = 0 \\\\ 2x + y = 1 \\end{cases}$\n",
       "Từ phương trình thứ hai, ta có $y = 1 - 2x$. Thay vào phương trình thứ nhất:\n",
       "$x + 2(1 - 2x) + 4 = 0$\n",
       "$x + 2 - 4x + 4 = 0$\n",
       "$-3x + 6 = 0$\n",
       "$3x = 6$\n",
       "$x = 2$\n",
       "\n",
       "Suy ra $y = 1 - 2(2) = 1 - 4 = -3$\n",
       "Vậy $z = 2 - 3i$.\n",
       "\n"
      ],
      "text/plain": [
       "<IPython.core.display.Latex object>"
      ]
     },
     "metadata": {},
     "output_type": "display_data"
    },
    {
     "name": "stderr",
     "output_type": "stream",
     "text": [
      "Processing Questions:   7%|▋         | 12/162 [00:39<08:44,  3.49s/it]"
     ]
    },
    {
     "data": {
      "text/latex": [
       "\n",
       "Gọi số phức $z = a + bi$, với $a, b \\in \\mathbb{R}$.\n",
       "\n",
       "Theo đề bài, ta có các điều kiện sau:\n",
       "1. $|z| = \\sqrt{5}$\n",
       "2. $a = 2b$\n",
       "3. $a > 0$\n",
       "\n",
       "Từ điều kiện 1, ta có:\n",
       "$|z| = \\sqrt{a^2 + b^2} = \\sqrt{5}$\n",
       "$\\Leftrightarrow a^2 + b^2 = 5$  (1)\n",
       "\n",
       "Từ điều kiện 2, ta có: $a = 2b$. Thay vào (1), ta được:\n",
       "$(2b)^2 + b^2 = 5$\n",
       "$4b^2 + b^2 = 5$\n",
       "$5b^2 = 5$\n",
       "$b^2 = 1$\n",
       "$b = \\pm 1$\n",
       "\n",
       "Vậy, ta có hai trường hợp:\n",
       "* Trường hợp 1: $b = 1$, suy ra $a = 2b = 2(1) = 2$.  Vì $a = 2 > 0$, điều kiện 3 thỏa mãn. Vậy $z = 2 + i$.\n",
       "* Trường hợp 2: $b = -1$, suy ra $a = 2b = 2(-1) = -2$. Vì $a = -2 < 0$, điều kiện 3 không thỏa mãn.\n",
       "\n",
       "Vậy, số phức cần tìm là $z = 2 + i$.\n",
       "\n"
      ],
      "text/plain": [
       "<IPython.core.display.Latex object>"
      ]
     },
     "metadata": {},
     "output_type": "display_data"
    },
    {
     "name": "stderr",
     "output_type": "stream",
     "text": [
      "Processing Questions:   8%|▊         | 13/162 [00:43<08:50,  3.56s/it]"
     ]
    },
    {
     "data": {
      "text/latex": [
       "\n",
       "Gọi $z = a + bi$, với $a, b \\in \\mathbb{R}$ và $a \\in \\mathbb{Z}$. Ta có $\\overline{z} = a - bi$.\n",
       "Theo giả thiết: $|z| - 2\\overline{z} = -7 + 3i + z$, suy ra:\n",
       "$\\sqrt{a^2 + b^2} - 2(a - bi) = -7 + 3i + a + bi$\n",
       "$\\sqrt{a^2 + b^2} - 2a + 2bi = -7 + 3i + a + bi$\n",
       "$\\sqrt{a^2 + b^2} - 2a = -7 + a$ và $2b = 3 + b$.\n",
       "Từ $2b = 3 + b$ suy ra $b = 3$.\n",
       "Từ $\\sqrt{a^2 + b^2} - 2a = -7 + a$ suy ra $\\sqrt{a^2 + 3^2} = 3a - 7$.\n",
       "$\\sqrt{a^2 + 9} = 3a - 7$.\n",
       "Điều kiện: $3a - 7 \\geq 0 \\Leftrightarrow a \\geq \\frac{7}{3}$.\n",
       "Bình phương hai vế: $a^2 + 9 = (3a - 7)^2 = 9a^2 - 42a + 49$.\n",
       "$8a^2 - 42a + 40 = 0$\n",
       "$4a^2 - 21a + 20 = 0$\n",
       "$\\Delta = (-21)^2 - 4.4.20 = 441 - 320 = 121$.\n",
       "$a_1 = \\frac{21 + \\sqrt{121}}{8} = \\frac{21 + 11}{8} = \\frac{32}{8} = 4$.\n",
       "$a_2 = \\frac{21 - \\sqrt{121}}{8} = \\frac{21 - 11}{8} = \\frac{10}{8} = \\frac{5}{4} = 1.25$.\n",
       "Do $a \\in \\mathbb{Z}$ và $a \\geq \\frac{7}{3}$, nên $a = 4$.\n",
       "Vậy $z = 4 + 3i$.\n",
       "Ta có $\\omega = 1 - z + z^2 = 1 - (4 + 3i) + (4 + 3i)^2 = 1 - 4 - 3i + 16 + 24i - 9 = 4 + 21i$.\n",
       "$|\\omega| = \\sqrt{4^2 + 21^2} = \\sqrt{16 + 441} = \\sqrt{457}$.\n",
       "\n"
      ],
      "text/plain": [
       "<IPython.core.display.Latex object>"
      ]
     },
     "metadata": {},
     "output_type": "display_data"
    },
    {
     "name": "stderr",
     "output_type": "stream",
     "text": [
      "Processing Questions:   9%|▊         | 14/162 [00:49<10:36,  4.30s/it]"
     ]
    },
    {
     "data": {
      "text/latex": [
       "AI failed to generate a solution"
      ],
      "text/plain": [
       "<IPython.core.display.Latex object>"
      ]
     },
     "metadata": {},
     "output_type": "display_data"
    },
    {
     "name": "stderr",
     "output_type": "stream",
     "text": [
      "Processing Questions:   9%|▉         | 15/162 [00:54<10:59,  4.49s/it]"
     ]
    },
    {
     "data": {
      "text/latex": [
       "\n",
       "Gọi $z = x + yi$, với $x, y \\in \\mathbb{R}$.\n",
       "\n",
       "Từ $|z + 3| = 5$, ta có $|x + yi + 3| = 5 \\Leftrightarrow |(x+3) + yi| = 5$. Suy ra $(x+3)^2 + y^2 = 25$. (1)\n",
       "\n",
       "Từ $|z - 2i| = |z - 2 - 2i|$, ta có $|x + yi - 2i| = |x + yi - 2 - 2i| \\Leftrightarrow |x + (y-2)i| = |(x-2) + (y-2)i|$. Suy ra $x^2 + (y-2)^2 = (x-2)^2 + (y-2)^2$.\n",
       "Điều này tương đương $x^2 = (x-2)^2 \\Leftrightarrow x^2 = x^2 - 4x + 4 \\Leftrightarrow 4x = 4 \\Leftrightarrow x = 1$.\n",
       "\n",
       "Thay $x = 1$ vào (1), ta có $(1+3)^2 + y^2 = 25 \\Leftrightarrow 16 + y^2 = 25 \\Leftrightarrow y^2 = 9 \\Leftrightarrow y = \\pm 3$.\n",
       "\n",
       "Vậy $z = 1 + 3i$ hoặc $z = 1 - 3i$.\n",
       "Khi đó $|z| = \\sqrt{1^2 + 3^2} = \\sqrt{1 + 9} = \\sqrt{10}$.\n",
       "\n",
       "Vậy $|z| = \\sqrt{10}$.\n",
       "\n"
      ],
      "text/plain": [
       "<IPython.core.display.Latex object>"
      ]
     },
     "metadata": {},
     "output_type": "display_data"
    },
    {
     "name": "stderr",
     "output_type": "stream",
     "text": [
      "Processing Questions:  10%|▉         | 16/162 [00:58<10:34,  4.34s/it]"
     ]
    },
    {
     "data": {
      "text/latex": [
       "\n",
       "Ta có $z = 2m + (m+2)i$. Khi đó:\n",
       "$z^2 = (2m + (m+2)i)^2 = (2m)^2 + 2(2m)(m+2)i + ((m+2)i)^2$\n",
       "$= 4m^2 + 4m(m+2)i - (m+2)^2 = 4m^2 - (m^2 + 4m + 4) + 4m(m+2)i$\n",
       "$= 4m^2 - m^2 - 4m - 4 + (4m^2 + 8m)i = (3m^2 - 4m - 4) + (4m^2 + 8m)i$.\n",
       "\n",
       "Vì $z^2$ là một số phức có phần thực bằng -5, nên:\n",
       "$3m^2 - 4m - 4 = -5 \\Leftrightarrow 3m^2 - 4m + 1 = 0$.\n",
       "Giải phương trình bậc hai này, ta có:\n",
       "$\\Delta = (-4)^2 - 4(3)(1) = 16 - 12 = 4 > 0$.\n",
       "Vậy, phương trình có hai nghiệm phân biệt:\n",
       "$m_1 = \\frac{-(-4) + \\sqrt{4}}{2(3)} = \\frac{4+2}{6} = \\frac{6}{6} = 1$\n",
       "$m_2 = \\frac{-(-4) - \\sqrt{4}}{2(3)} = \\frac{4-2}{6} = \\frac{2}{6} = \\frac{1}{3}$\n",
       "\n",
       "Với $m = 1$, ta có: $z = 2(1) + (1+2)i = 2 + 3i$.\n",
       "Với $m = \\frac{1}{3}$, ta có: $z = 2(\\frac{1}{3}) + (\\frac{1}{3} + 2)i = \\frac{2}{3} + \\frac{7}{3}i$.\n",
       "\n",
       "Vậy, $z = 2 + 3i$ hoặc $z = \\frac{2}{3} + \\frac{7}{3}i$.\n",
       "\n"
      ],
      "text/plain": [
       "<IPython.core.display.Latex object>"
      ]
     },
     "metadata": {},
     "output_type": "display_data"
    },
    {
     "name": "stderr",
     "output_type": "stream",
     "text": [
      "Processing Questions:  10%|█         | 17/162 [01:01<09:46,  4.05s/it]"
     ]
    },
    {
     "data": {
      "text/latex": [
       "\n",
       "Ta có $z = m + (m-1)i$ và $z' = 2n + (2-3n)i$.\n",
       "Theo đề bài, $z - z' = 1 + 7i$.\n",
       "Suy ra, $m + (m-1)i - (2n + (2-3n)i) = 1 + 7i$.\n",
       "Tương đương với $(m - 2n) + (m-1 - 2 + 3n)i = 1 + 7i$.\n",
       "Tương đương với $(m - 2n) + (m + 3n - 3)i = 1 + 7i$.\n",
       "Hai số phức bằng nhau khi phần thực bằng phần thực và phần ảo bằng phần ảo.\n",
       "Do đó, ta có hệ phương trình:\n",
       "$\\begin{cases}\n",
       "m - 2n = 1 \\\\\n",
       "m + 3n - 3 = 7\n",
       "\\end{cases}$\n",
       "$\\Leftrightarrow \\begin{cases}\n",
       "m - 2n = 1 \\\\\n",
       "m + 3n = 10\n",
       "\\end{cases}$\n",
       "Lấy phương trình thứ hai trừ phương trình thứ nhất, ta được:\n",
       "$(m + 3n) - (m - 2n) = 10 - 1$\n",
       "$\\Leftrightarrow 5n = 9$\n",
       "$\\Leftrightarrow n = \\frac{9}{5}$\n",
       "Thay $n = \\frac{9}{5}$ vào phương trình $m - 2n = 1$, ta được:\n",
       "$m - 2(\\frac{9}{5}) = 1$\n",
       "$\\Leftrightarrow m - \\frac{18}{5} = 1$\n",
       "$\\Leftrightarrow m = 1 + \\frac{18}{5} = \\frac{5}{5} + \\frac{18}{5} = \\frac{23}{5}$\n",
       "Vậy, $m = \\frac{23}{5}$ và $n = \\frac{9}{5}$.\n",
       "\n"
      ],
      "text/plain": [
       "<IPython.core.display.Latex object>"
      ]
     },
     "metadata": {},
     "output_type": "display_data"
    },
    {
     "name": "stderr",
     "output_type": "stream",
     "text": [
      "Processing Questions:  11%|█         | 18/162 [01:05<09:40,  4.03s/it]"
     ]
    },
    {
     "data": {
      "text/latex": [
       "\n",
       "Ta có $z = x + yi$, với $x, y \\in \\mathbb{R}$. Khi đó $\\overline{z} = x - yi$.\n",
       "Theo đề bài, ta có:\n",
       "$z + 3x = 2\\overline{z} - 3i$\n",
       "$\\Leftrightarrow x + yi + 3x = 2(x - yi) - 3i$\n",
       "$\\Leftrightarrow 4x + yi = 2x - 2yi - 3i$\n",
       "$\\Leftrightarrow 4x + yi = 2x + (-2y - 3)i$\n",
       "$\\Leftrightarrow \\begin{cases} 4x = 2x \\\\ y = -2y - 3 \\end{cases}$\n",
       "$\\Leftrightarrow \\begin{cases} 2x = 0 \\\\ 3y = -3 \\end{cases}$\n",
       "$\\Leftrightarrow \\begin{cases} x = 0 \\\\ y = -1 \\end{cases}$\n",
       "Vậy $z = 0 - i = -i$.\n",
       "Do đó, $|z| = \\sqrt{0^2 + (-1)^2} = \\sqrt{1} = 1$.\n",
       "\n"
      ],
      "text/plain": [
       "<IPython.core.display.Latex object>"
      ]
     },
     "metadata": {},
     "output_type": "display_data"
    },
    {
     "name": "stderr",
     "output_type": "stream",
     "text": [
      "Processing Questions:  12%|█▏        | 19/162 [01:09<09:08,  3.84s/it]"
     ]
    },
    {
     "data": {
      "text/latex": [
       "\n",
       "Gọi số phức $z = x + yi$, với $x, y \\in \\mathbb{R}$.\n",
       "Theo đề bài, phần ảo gấp ba lần phần thực, nên $y = 3x$. Vậy $z = x + 3xi$.\n",
       "Ta có $\\overline{z} = x - 3xi$.\n",
       "$|z| = \\sqrt{x^2 + (3x)^2} = \\sqrt{x^2 + 9x^2} = \\sqrt{10x^2} = |x|\\sqrt{10}$.\n",
       "$z + \\overline{z} = (x + 3xi) + (x - 3xi) = 2x$.\n",
       "Theo giả thiết $|z| = \\sqrt{10}(z + \\overline{z})$, ta có $|x|\\sqrt{10} = \\sqrt{10}(2x)$.\n",
       "Suy ra $|x|\\sqrt{10} = 2x\\sqrt{10}$.\n",
       "Chia cả hai vế cho $\\sqrt{10}$ (vì $\\sqrt{10} \\neq 0$), ta được $|x| = 2x$.\n",
       "Xét hai trường hợp:\n",
       "1. $x \\geq 0$, khi đó $|x| = x$. Phương trình trở thành $x = 2x \\Leftrightarrow x = 0$. Vậy $x = 0$, suy ra $y = 3x = 0$. Vậy $z = 0$.\n",
       "2. $x < 0$, khi đó $|x| = -x$. Phương trình trở thành $-x = 2x \\Leftrightarrow 3x = 0 \\Leftrightarrow x = 0$. Điều này mâu thuẫn với điều kiện $x < 0$.\n",
       "Vậy chỉ có một nghiệm duy nhất là $z = 0$.\n",
       "\n",
       "Tuy nhiên, ta cần kiểm tra lại $z=0$ có thỏa mãn hay không. Khi $z=0$, $|z| = 0$ và $z + \\overline{z} = 0 + 0 = 0$. Vậy $|z| = \\sqrt{10}(z + \\overline{z})$ trở thành $0 = \\sqrt{10}(0)$, hay $0 = 0$, điều này đúng.\n",
       "\n",
       "Vậy có một số phức thỏa mãn điều kiện đề bài là $z = 0$.\n",
       "\n"
      ],
      "text/plain": [
       "<IPython.core.display.Latex object>"
      ]
     },
     "metadata": {},
     "output_type": "display_data"
    },
    {
     "name": "stderr",
     "output_type": "stream",
     "text": [
      "Processing Questions:  12%|█▏        | 20/162 [01:14<10:14,  4.33s/it]"
     ]
    },
    {
     "data": {
      "text/latex": [
       "\n",
       "Gọi $B(x; 2)$ là điểm biểu diễn số phức cần tìm.\n",
       "Vì tam giác $OAB$ cân tại $O$ nên $OA = OB$. Ta có:\n",
       "$OA = |z| = \\sqrt{1^2 + 2^2} = \\sqrt{5}$\n",
       "$OB = \\sqrt{x^2 + 2^2} = \\sqrt{x^2 + 4}$\n",
       "Do $OA = OB$ nên $\\sqrt{5} = \\sqrt{x^2 + 4} \\Leftrightarrow 5 = x^2 + 4 \\Leftrightarrow x^2 = 1 \\Leftrightarrow x = \\pm 1$.\n",
       "Vậy $B(1; 2)$ hoặc $B(-1; 2)$.\n",
       "Số phức biểu diễn $B$ là $1 + 2i$ hoặc $-1 + 2i$.\n"
      ],
      "text/plain": [
       "<IPython.core.display.Latex object>"
      ]
     },
     "metadata": {},
     "output_type": "display_data"
    },
    {
     "name": "stderr",
     "output_type": "stream",
     "text": [
      "Processing Questions:  13%|█▎        | 21/162 [01:17<09:23,  4.00s/it]"
     ]
    },
    {
     "data": {
      "text/latex": [
       "\n",
       "Ta có: $(2 + i)z + 2 - i = 0$\n",
       "$\\Leftrightarrow (2+i)z = -2 + i$\n",
       "$\\Leftrightarrow z = \\frac{-2+i}{2+i}$\n",
       "$\\Leftrightarrow z = \\frac{(-2+i)(2-i)}{(2+i)(2-i)}$\n",
       "$\\Leftrightarrow z = \\frac{-4 + 2i + 2i - i^2}{4 - i^2}$\n",
       "$\\Leftrightarrow z = \\frac{-4 + 4i + 1}{4 + 1}$\n",
       "$\\Leftrightarrow z = \\frac{-3 + 4i}{5}$\n",
       "$\\Leftrightarrow z = -\\frac{3}{5} + \\frac{4}{5}i$\n",
       "Vậy phần thực của số phức $z$ là $-\\frac{3}{5}$.\n",
       "\n"
      ],
      "text/plain": [
       "<IPython.core.display.Latex object>"
      ]
     },
     "metadata": {},
     "output_type": "display_data"
    },
    {
     "name": "stderr",
     "output_type": "stream",
     "text": [
      "Processing Questions:  14%|█▎        | 22/162 [01:20<08:29,  3.64s/it]"
     ]
    },
    {
     "data": {
      "text/latex": [
       "\n",
       "Ta có phương trình $iz + 3 - 2i = 1 + i$.\n",
       "Để giải phương trình này, ta thực hiện các bước sau:\n",
       "1. Chuyển các số hạng không chứa $z$ sang vế phải:\n",
       "$iz = 1 + i - 3 + 2i$\n",
       "2. Rút gọn vế phải:\n",
       "$iz = (1 - 3) + (1 + 2)i$\n",
       "$iz = -2 + 3i$\n",
       "3. Chia cả hai vế cho $i$:\n",
       "$z = \\frac{-2 + 3i}{i}$\n",
       "4. Nhân cả tử và mẫu với $-i$ để khử $i$ ở mẫu:\n",
       "$z = \\frac{(-2 + 3i)(-i)}{i(-i)}$\n",
       "$z = \\frac{2i - 3i^2}{-i^2}$\n",
       "5. Vì $i^2 = -1$, ta có:\n",
       "$z = \\frac{2i - 3(-1)}{-(-1)}$\n",
       "$z = \\frac{2i + 3}{1}$\n",
       "$z = 3 + 2i$\n",
       "\n",
       "Vậy, nghiệm của phương trình là $z = 3 + 2i$.\n",
       "\n"
      ],
      "text/plain": [
       "<IPython.core.display.Latex object>"
      ]
     },
     "metadata": {},
     "output_type": "display_data"
    },
    {
     "name": "stderr",
     "output_type": "stream",
     "text": [
      "Processing Questions:  14%|█▍        | 23/162 [01:24<08:39,  3.73s/it]"
     ]
    },
    {
     "data": {
      "text/latex": [
       "\n",
       "Ta có phương trình:\n",
       "$(2 + 4i)z + (4 - 2i)\\overline{z} + 2 - 2i = 0$\n",
       "\n",
       "Đặt $z = x + yi$, với $x, y \\in \\mathbb{R}$. Khi đó $\\overline{z} = x - yi$. Thay vào phương trình, ta được:\n",
       "\n",
       "$(2 + 4i)(x + yi) + (4 - 2i)(x - yi) + 2 - 2i = 0$\n",
       "\n",
       "$2x + 2yi + 4xi - 4y + 4x - 4yi - 2xi - 2y + 2 - 2i = 0$\n",
       "\n",
       "$(2x - 4y + 4x - 2y + 2) + (2y + 4x - 4y - 2x - 2)i = 0$\n",
       "\n",
       "$(6x - 6y + 2) + (2x - 2y - 2)i = 0$\n",
       "\n",
       "Để phương trình trên bằng 0 thì phần thực và phần ảo đều phải bằng 0:\n",
       "\n",
       "$\\begin{cases}\n",
       "6x - 6y + 2 = 0 \\\\\n",
       "2x - 2y - 2 = 0\n",
       "\\end{cases}$\n",
       "\n",
       "$\\begin{cases}\n",
       "3x - 3y + 1 = 0 \\\\\n",
       "x - y - 1 = 0\n",
       "\\end{cases}$\n",
       "\n",
       "$\\begin{cases}\n",
       "3x - 3y + 1 = 0 \\\\\n",
       "x - y = 1\n",
       "\\end{cases}$\n",
       "\n",
       "Thay $x - y = 1$ vào phương trình đầu, ta được:\n",
       "\n",
       "$3(x - y) + 1 = 0$\n",
       "\n",
       "$3(1) + 1 = 0$\n",
       "\n",
       "$4 = 0$\n",
       "\n",
       "Phương trình vô nghiệm.\n",
       "\n"
      ],
      "text/plain": [
       "<IPython.core.display.Latex object>"
      ]
     },
     "metadata": {},
     "output_type": "display_data"
    },
    {
     "name": "stderr",
     "output_type": "stream",
     "text": [
      "Processing Questions:  15%|█▍        | 24/162 [01:29<09:15,  4.03s/it]"
     ]
    },
    {
     "data": {
      "text/latex": [
       "\n",
       "Để giải phương trình $(1 + 2i)z + \\frac{2 + 6i}{1 - i} = 0$, ta thực hiện các bước sau:\n",
       "\n",
       "1. **Rút gọn biểu thức phức:**\n",
       "\n",
       "Ta có $\\frac{2 + 6i}{1 - i} = \\frac{(2 + 6i)(1 + i)}{(1 - i)(1 + i)} = \\frac{2 + 2i + 6i + 6i^2}{1 - i^2} = \\frac{2 + 8i - 6}{1 + 1} = \\frac{-4 + 8i}{2} = -2 + 4i$.\n",
       "\n",
       "2. **Thay vào phương trình:**\n",
       "\n",
       "Phương trình trở thành $(1 + 2i)z + (-2 + 4i) = 0$.\n",
       "\n",
       "3. **Giải phương trình tìm z:**\n",
       "\n",
       "$(1 + 2i)z = 2 - 4i$\n",
       "$z = \\frac{2 - 4i}{1 + 2i} = \\frac{(2 - 4i)(1 - 2i)}{(1 + 2i)(1 - 2i)} = \\frac{2 - 4i - 4i + 8i^2}{1 - 4i^2} = \\frac{2 - 8i - 8}{1 + 4} = \\frac{-6 - 8i}{5} = -\\frac{6}{5} - \\frac{8}{5}i$.\n",
       "\n",
       "Vậy, nghiệm của phương trình là $z = -\\frac{6}{5} - \\frac{8}{5}i$.\n",
       "\n"
      ],
      "text/plain": [
       "<IPython.core.display.Latex object>"
      ]
     },
     "metadata": {},
     "output_type": "display_data"
    },
    {
     "name": "stderr",
     "output_type": "stream",
     "text": [
      "Processing Questions:  15%|█▌        | 25/162 [01:32<08:53,  3.89s/it]"
     ]
    },
    {
     "data": {
      "text/latex": [
       "\n",
       "Để giải phương trình bậc hai $z^2 - z + 1 = 0$, ta có thể sử dụng công thức nghiệm của phương trình bậc hai.\n",
       "\n",
       "Bước 1: Tính $\\Delta$ (delta)\n",
       "\n",
       "$\\Delta = b^2 - 4ac = (-1)^2 - 4(1)(1) = 1 - 4 = -3$\n",
       "\n",
       "Bước 2: Tìm nghiệm\n",
       "\n",
       "Vì $\\Delta < 0$, phương trình có hai nghiệm phức phân biệt:\n",
       "$z_{1,2} = \\frac{-b \\pm \\sqrt{\\Delta}}{2a} = \\frac{-(-1) \\pm \\sqrt{-3}}{2(1)} = \\frac{1 \\pm \\sqrt{3}i}{2}$\n",
       "\n",
       "Vậy, ta có hai nghiệm phức:\n",
       "$z_1 = \\frac{1}{2} + \\frac{\\sqrt{3}}{2}i$\n",
       "$z_2 = \\frac{1}{2} - \\frac{\\sqrt{3}}{2}i$\n",
       "\n"
      ],
      "text/plain": [
       "<IPython.core.display.Latex object>"
      ]
     },
     "metadata": {},
     "output_type": "display_data"
    },
    {
     "name": "stderr",
     "output_type": "stream",
     "text": [
      "Processing Questions:  16%|█▌        | 26/162 [01:36<08:32,  3.77s/it]"
     ]
    },
    {
     "data": {
      "text/latex": [
       "\n",
       "Để giải phương trình $z^2 + \\sqrt{5} = 0$ trong tập số phức $\\mathbb{C}$, ta thực hiện các bước sau:\n",
       "\n",
       "1. **Chuyển vế:**\n",
       "$z^2 = -\\sqrt{5}$\n",
       "\n",
       "2. **Biểu diễn số phức:**\n",
       "Ta có thể viết $-\\sqrt{5} = \\sqrt{5} \\cdot (-1) = \\sqrt{5} \\cdot e^{i\\pi}$ (hoặc $\\sqrt{5}(\\cos \\pi + i \\sin \\pi)$).\n",
       "\n",
       "3. **Tìm căn bậc hai:**\n",
       "Ta cần tìm $z$ sao cho $z^2 = \\sqrt{5} e^{i\\pi}$.  \n",
       "Đặt $z = re^{i\\theta}$. Khi đó, $z^2 = r^2 e^{2i\\theta}$.\n",
       "Vậy, $r^2 e^{2i\\theta} = \\sqrt{5} e^{i\\pi}$.\n",
       "Suy ra, $r^2 = \\sqrt{5}$ và $2\\theta = \\pi + 2k\\pi$, với $k \\in \\mathbb{Z}$.\n",
       "\n",
       "4. **Giải tìm $r$ và $\\theta$:**\n",
       "- $r = \\sqrt[4]{5}$ (vì $r > 0$).\n",
       "- $\\theta = \\frac{\\pi}{2} + k\\pi$, với $k \\in \\mathbb{Z}$.\n",
       "\n",
       "5. **Tìm các nghiệm phân biệt:**\n",
       "Với $k=0$, ta có $\\theta_1 = \\frac{\\pi}{2}$, suy ra $z_1 = \\sqrt[4]{5} e^{i\\frac{\\pi}{2}} = \\sqrt[4]{5} (\\cos \\frac{\\pi}{2} + i \\sin \\frac{\\pi}{2}) = \\sqrt[4]{5} i$.\n",
       "Với $k=1$, ta có $\\theta_2 = \\frac{3\\pi}{2}$, suy ra $z_2 = \\sqrt[4]{5} e^{i\\frac{3\\pi}{2}} = \\sqrt[4]{5} (\\cos \\frac{3\\pi}{2} + i \\sin \\frac{3\\pi}{2}) = -\\sqrt[4]{5} i$.\n",
       "\n",
       "Vậy, hai nghiệm của phương trình là $z_1 = i\\sqrt[4]{5}$ và $z_2 = -i\\sqrt[4]{5}$.\n",
       "\n"
      ],
      "text/plain": [
       "<IPython.core.display.Latex object>"
      ]
     },
     "metadata": {},
     "output_type": "display_data"
    },
    {
     "name": "stderr",
     "output_type": "stream",
     "text": [
      "Processing Questions:  17%|█▋        | 27/162 [01:42<09:56,  4.42s/it]"
     ]
    },
    {
     "data": {
      "text/latex": [
       "\n",
       "Ta có phương trình: $z^3 - 8 = 0$\n",
       "$\\Leftrightarrow z^3 = 8$\n",
       "$\\Leftrightarrow z^3 = 8(\\cos 0 + i\\sin 0)$\n",
       "\n",
       "Các nghiệm của phương trình là:\n",
       "$z_k = \\sqrt[3]{8} \\left( \\cos \\frac{0 + 2k\\pi}{3} + i \\sin \\frac{0 + 2k\\pi}{3} \\right)$, với $k = 0, 1, 2$.\n",
       "\n",
       "*   Với $k = 0$:\n",
       "    $z_0 = 2(\\cos 0 + i\\sin 0) = 2(1 + i\\cdot 0) = 2$\n",
       "\n",
       "*   Với $k = 1$:\n",
       "    $z_1 = 2\\left(\\cos \\frac{2\\pi}{3} + i\\sin \\frac{2\\pi}{3}\\right) = 2\\left(-\\frac{1}{2} + i\\frac{\\sqrt{3}}{2}\\right) = -1 + i\\sqrt{3}$\n",
       "\n",
       "*   Với $k = 2$:\n",
       "    $z_2 = 2\\left(\\cos \\frac{4\\pi}{3} + i\\sin \\frac{4\\pi}{3}\\right) = 2\\left(-\\frac{1}{2} - i\\frac{\\sqrt{3}}{2}\\right) = -1 - i\\sqrt{3}$\n",
       "\n",
       "Vậy, nghiệm của phương trình $z^3 - 8 = 0$ là $z = 2, z = -1 + i\\sqrt{3}, z = -1 - i\\sqrt{3}$.\n",
       "\n"
      ],
      "text/plain": [
       "<IPython.core.display.Latex object>"
      ]
     },
     "metadata": {},
     "output_type": "display_data"
    },
    {
     "name": "stderr",
     "output_type": "stream",
     "text": [
      "Processing Questions:  17%|█▋        | 28/162 [01:45<09:18,  4.17s/it]"
     ]
    },
    {
     "data": {
      "text/latex": [
       "\n",
       "Để giải phương trình bậc hai $z^2 + 3iz + 4 = 0$ trong tập số phức $\\mathbb{C}$, ta sử dụng công thức nghiệm của phương trình bậc hai:\n",
       "$z = \\frac{-b \\pm \\sqrt{\\Delta}}{2a}$, trong đó $\\Delta = b^2 - 4ac$.\n",
       "\n",
       "Trong trường hợp này, ta có $a = 1$, $b = 3i$, và $c = 4$.\n",
       "Tính $\\Delta$:\n",
       "$\\Delta = (3i)^2 - 4(1)(4) = 9i^2 - 16 = -9 - 16 = -25$.\n",
       "\n",
       "Vì $\\Delta = -25 < 0$, ta có hai nghiệm phức phân biệt.\n",
       "Ta cần tìm căn bậc hai của $\\Delta = -25$. Đặt $\\sqrt{\\Delta} = w = x + iy$, với $x, y \\in \\mathbb{R}$.\n",
       "Khi đó, $w^2 = (x + iy)^2 = x^2 - y^2 + 2ixy = -25$.\n",
       "Suy ra, $x^2 - y^2 = -25$ và $2xy = 0$.\n",
       "Từ $2xy = 0$, ta có $x = 0$ hoặc $y = 0$.\n",
       "\n",
       "Nếu $x = 0$, thì $-y^2 = -25$, suy ra $y^2 = 25$, do đó $y = \\pm 5$.\n",
       "Vậy, $w = \\pm 5i$.\n",
       "\n",
       "Nếu $y = 0$, thì $x^2 = -25$, điều này không thể xảy ra vì $x \\in \\mathbb{R}$.\n",
       "Vậy, $\\sqrt{\\Delta} = \\pm 5i$.\n",
       "\n",
       "Áp dụng công thức nghiệm:\n",
       "$z = \\frac{-3i \\pm 5i}{2(1)} = \\frac{-3i \\pm 5i}{2}$.\n",
       "$z_1 = \\frac{-3i + 5i}{2} = \\frac{2i}{2} = i$.\n",
       "$z_2 = \\frac{-3i - 5i}{2} = \\frac{-8i}{2} = -4i$.\n",
       "\n",
       "Vậy, nghiệm của phương trình là $z_1 = i$ và $z_2 = -4i$.\n",
       "\n"
      ],
      "text/plain": [
       "<IPython.core.display.Latex object>"
      ]
     },
     "metadata": {},
     "output_type": "display_data"
    },
    {
     "name": "stderr",
     "output_type": "stream",
     "text": [
      "Processing Questions:  18%|█▊        | 29/162 [01:51<10:09,  4.58s/it]"
     ]
    },
    {
     "data": {
      "text/latex": [
       "\n",
       "**Bước 1: Biểu diễn số phức $z$ dưới dạng lượng giác**\n",
       "\n",
       "Số phức $z = 1 - i$ có phần thực $a = 1$ và phần ảo $b = -1$.\n",
       "Tính mô-đun của $z$:\n",
       "$r = |z| = \\sqrt{a^2 + b^2} = \\sqrt{1^2 + (-1)^2} = \\sqrt{2}$.\n",
       "\n",
       "Tính argument của $z$:\n",
       "$\\tan(\\theta) = \\frac{b}{a} = \\frac{-1}{1} = -1$.\n",
       "Vì $a > 0$ và $b < 0$, $\\theta$ nằm trong góc phần tư thứ IV. Do đó, $\\theta = -\\frac{\\pi}{4}$.\n",
       "\n",
       "Vậy, dạng lượng giác của $z$ là:\n",
       "$z = \\sqrt{2}\\left(\\cos\\left(-\\frac{\\pi}{4}\\right) + i\\sin\\left(-\\frac{\\pi}{4}\\right)\\right)$.\n",
       "\n",
       "**Bước 2: Tìm căn bậc hai của $z$**\n",
       "\n",
       "Gọi $w = \\rho(\\cos(\\phi) + i\\sin(\\phi))$ là một căn bậc hai của $z$. Khi đó, $w^2 = z$.\n",
       "$w^2 = \\rho^2(\\cos(2\\phi) + i\\sin(2\\phi)) = \\sqrt{2}\\left(\\cos\\left(-\\frac{\\pi}{4}\\right) + i\\sin\\left(-\\frac{\\pi}{4}\\right)\\right)$.\n",
       "\n",
       "Từ đó, ta có:\n",
       "$\\rho^2 = \\sqrt{2} \\Rightarrow \\rho = \\sqrt[4]{2}$\n",
       "$2\\phi = -\\frac{\\pi}{4} + k2\\pi$, với $k \\in \\{0, 1\\}$.\n",
       "\n",
       "*   Trường hợp $k=0$:\n",
       "    $2\\phi = -\\frac{\\pi}{4} \\Rightarrow \\phi = -\\frac{\\pi}{8}$\n",
       "    $w_1 = \\sqrt[4]{2}\\left(\\cos\\left(-\\frac{\\pi}{8}\\right) + i\\sin\\left(-\\frac{\\pi}{8}\\right)\\right)$\n",
       "\n",
       "*   Trường hợp $k=1$:\n",
       "    $2\\phi = -\\frac{\\pi}{4} + 2\\pi = \\frac{7\\pi}{4} \\Rightarrow \\phi = \\frac{7\\pi}{8}$\n",
       "    $w_2 = \\sqrt[4]{2}\\left(\\cos\\left(\\frac{7\\pi}{8}\\right) + i\\sin\\left(\\frac{7\\pi}{8}\\right)\\right)$\n",
       "\n",
       "Vậy, hai căn bậc hai của $z$ là:\n",
       "$w_1 = \\sqrt[4]{2}\\left(\\cos\\left(-\\frac{\\pi}{8}\\right) + i\\sin\\left(-\\frac{\\pi}{8}\\right)\\right)$ và\n",
       "$w_2 = \\sqrt[4]{2}\\left(\\cos\\left(\\frac{7\\pi}{8}\\right) + i\\sin\\left(\\frac{7\\pi}{8}\\right)\\right)$.\n"
      ],
      "text/plain": [
       "<IPython.core.display.Latex object>"
      ]
     },
     "metadata": {},
     "output_type": "display_data"
    },
    {
     "name": "stderr",
     "output_type": "stream",
     "text": [
      "Processing Questions:  19%|█▊        | 30/162 [01:58<11:50,  5.38s/it]"
     ]
    },
    {
     "data": {
      "text/latex": [
       "\n",
       "Để tìm căn bậc hai của số phức $w = -5 + 12i$, ta cần tìm một số phức $z = x + yi$ sao cho $z^2 = w$.\n",
       "Ta có:\n",
       "$(x + yi)^2 = -5 + 12i$\n",
       "$x^2 + 2xyi - y^2 = -5 + 12i$\n",
       "$(x^2 - y^2) + 2xyi = -5 + 12i$\n",
       "\n",
       "Từ đó, ta có hệ phương trình:\n",
       "$\\begin{cases}\n",
       "x^2 - y^2 = -5 \\\\\n",
       "2xy = 12\n",
       "\\end{cases}$\n",
       "\n",
       "Từ phương trình thứ hai, ta có $y = \\frac{6}{x}$. Thay vào phương trình thứ nhất:\n",
       "$x^2 - \\left(\\frac{6}{x}\\right)^2 = -5$\n",
       "$x^2 - \\frac{36}{x^2} = -5$\n",
       "$x^4 - 36 = -5x^2$\n",
       "$x^4 + 5x^2 - 36 = 0$\n",
       "Đặt $t = x^2$, ta có:\n",
       "$t^2 + 5t - 36 = 0$\n",
       "$(t + 9)(t - 4) = 0$\n",
       "$t = -9$ hoặc $t = 4$\n",
       "Vì $x$ là số thực, nên $x^2$ phải không âm. Vậy $t = x^2 = 4$.\n",
       "$x = 2$ hoặc $x = -2$\n",
       "\n",
       "Nếu $x = 2$, thì $y = \\frac{6}{2} = 3$. Vậy $z = 2 + 3i$.\n",
       "Nếu $x = -2$, thì $y = \\frac{6}{-2} = -3$. Vậy $z = -2 - 3i$.\n",
       "\n",
       "Vậy các căn bậc hai của $w = -5 + 12i$ là $2 + 3i$ và $-2 - 3i$.\n",
       "\n"
      ],
      "text/plain": [
       "<IPython.core.display.Latex object>"
      ]
     },
     "metadata": {},
     "output_type": "display_data"
    },
    {
     "name": "stderr",
     "output_type": "stream",
     "text": [
      "Processing Questions:  19%|█▉        | 31/162 [02:03<11:26,  5.24s/it]"
     ]
    },
    {
     "data": {
      "text/latex": [
       "\n",
       "Đặt $w = x + yi$ là căn bậc hai của $z = -3 + 4i$, với $x, y \\in \\mathbb{R}$. Ta có:\n",
       "$w^2 = z$\n",
       "$(x + yi)^2 = -3 + 4i$\n",
       "$x^2 + 2xyi - y^2 = -3 + 4i$\n",
       "$(x^2 - y^2) + 2xyi = -3 + 4i$\n",
       "\n",
       "Ta có hệ phương trình:\n",
       "$\\begin{cases} x^2 - y^2 = -3 \\\\ 2xy = 4 \\end{cases}$\n",
       "$\\Leftrightarrow \\begin{cases} x^2 - y^2 = -3 \\\\ xy = 2 \\end{cases}$\n",
       "Từ $xy = 2 \\Rightarrow y = \\frac{2}{x}$. Thay vào phương trình trên, ta có:\n",
       "$x^2 - (\\frac{2}{x})^2 = -3$\n",
       "$x^2 - \\frac{4}{x^2} = -3$\n",
       "$x^4 - 4 = -3x^2$\n",
       "$x^4 + 3x^2 - 4 = 0$\n",
       "Đặt $t = x^2$ ($t \\ge 0$), ta có:\n",
       "$t^2 + 3t - 4 = 0$\n",
       "$(t - 1)(t + 4) = 0$\n",
       "$t = 1$ hoặc $t = -4$ (loại)\n",
       "Vậy $x^2 = 1 \\Rightarrow x = \\pm 1$.\n",
       "\n",
       "Nếu $x = 1$, thì $y = \\frac{2}{1} = 2$.\n",
       "Nếu $x = -1$, thì $y = \\frac{2}{-1} = -2$.\n",
       "\n",
       "Vậy, các căn bậc hai của $z$ là $1 + 2i$ và $-1 - 2i$.\n",
       "\n"
      ],
      "text/plain": [
       "<IPython.core.display.Latex object>"
      ]
     },
     "metadata": {},
     "output_type": "display_data"
    },
    {
     "name": "stderr",
     "output_type": "stream",
     "text": [
      "Processing Questions:  20%|█▉        | 32/162 [02:07<10:24,  4.81s/it]"
     ]
    },
    {
     "data": {
      "text/latex": [
       "\n",
       "Để tính căn bậc hai của số phức $z = 8 + 6i$, ta tìm số phức $w = a + bi$ sao cho $w^2 = z$.\n",
       "\n",
       "Ta có:\n",
       "$(a + bi)^2 = a^2 + 2abi - b^2 = (a^2 - b^2) + 2abi = 8 + 6i$\n",
       "\n",
       "Từ đó suy ra hệ phương trình:\n",
       "\\begin{cases}\n",
       "a^2 - b^2 = 8 \\\\\n",
       "2ab = 6\n",
       "\\end{cases}\n",
       "\n",
       "Từ phương trình thứ hai, ta có $b = \\frac{3}{a}$. Thay vào phương trình thứ nhất:\n",
       "$a^2 - \\frac{9}{a^2} = 8$\n",
       "$a^4 - 9 = 8a^2$\n",
       "$a^4 - 8a^2 - 9 = 0$\n",
       "Đặt $t = a^2$, ta có:\n",
       "$t^2 - 8t - 9 = 0$\n",
       "$(t - 9)(t + 1) = 0$\n",
       "Suy ra $t = 9$ hoặc $t = -1$. Vì $a$ là số thực nên $a^2 = t \\geq 0$, vậy $t = 9$.\n",
       "\n",
       "Do đó, $a^2 = 9$, suy ra $a = 3$ hoặc $a = -3$.\n",
       "\n",
       "Nếu $a = 3$, thì $b = \\frac{3}{3} = 1$. Vậy $w = 3 + i$.\n",
       "Nếu $a = -3$, thì $b = \\frac{3}{-3} = -1$. Vậy $w = -3 - i$.\n",
       "\n",
       "Vậy, căn bậc hai của $8 + 6i$ là $3 + i$ và $-3 - i$.\n",
       "\n"
      ],
      "text/plain": [
       "<IPython.core.display.Latex object>"
      ]
     },
     "metadata": {},
     "output_type": "display_data"
    },
    {
     "name": "stderr",
     "output_type": "stream",
     "text": [
      "Processing Questions:  20%|██        | 33/162 [02:10<09:04,  4.22s/it]"
     ]
    },
    {
     "data": {
      "text/latex": [
       "\n",
       "Đặt $w = a + bi$ là căn bậc hai của $z = 3 + 4i$. Khi đó, ta có:\n",
       "\n",
       "$w^2 = z$\n",
       "$(a + bi)^2 = 3 + 4i$\n",
       "$a^2 + 2abi - b^2 = 3 + 4i$\n",
       "$(a^2 - b^2) + 2abi = 3 + 4i$\n",
       "\n",
       "Từ đó, ta có hệ phương trình:\n",
       "\n",
       "$\\begin{cases}\n",
       "a^2 - b^2 = 3 \\\\\n",
       "2ab = 4\n",
       "\\end{cases}$\n",
       "\n",
       "Từ phương trình thứ hai, ta có $b = \\frac{2}{a}$. Thay vào phương trình thứ nhất, ta được:\n",
       "\n",
       "$a^2 - (\\frac{2}{a})^2 = 3$\n",
       "$a^2 - \\frac{4}{a^2} = 3$\n",
       "$a^4 - 4 = 3a^2$\n",
       "$a^4 - 3a^2 - 4 = 0$\n",
       "$(a^2 - 4)(a^2 + 1) = 0$\n",
       "\n",
       "Vì $a$ là số thực, nên $a^2 = 4$, suy ra $a = 2$ hoặc $a = -2$.\n",
       "\n",
       "*   Nếu $a = 2$, thì $b = \\frac{2}{2} = 1$. Vậy $w = 2 + i$.\n",
       "*   Nếu $a = -2$, thì $b = \\frac{2}{-2} = -1$. Vậy $w = -2 - i$.\n",
       "\n",
       "Vậy, căn bậc hai của $3 + 4i$ là $2 + i$ và $-2 - i$.\n",
       "\n"
      ],
      "text/plain": [
       "<IPython.core.display.Latex object>"
      ]
     },
     "metadata": {},
     "output_type": "display_data"
    },
    {
     "name": "stderr",
     "output_type": "stream",
     "text": [
      "Processing Questions:  21%|██        | 34/162 [02:14<09:11,  4.31s/it]"
     ]
    },
    {
     "data": {
      "text/latex": [
       "\n",
       "Gọi $z = a + bi$ là căn bậc hai của $4 + 6\\sqrt{5}i$, với $a, b \\in \\mathbb{R}$.\n",
       "Ta có $z^2 = (a+bi)^2 = a^2 - b^2 + 2abi = 4 + 6\\sqrt{5}i$.\n",
       "Suy ra:\n",
       "$\\begin{cases}\n",
       "a^2 - b^2 = 4 \\\\\n",
       "2ab = 6\\sqrt{5}\n",
       "\\end{cases} \\Leftrightarrow \\begin{cases}\n",
       "a^2 - b^2 = 4 \\\\\n",
       "ab = 3\\sqrt{5}\n",
       "\\end{cases}$\n",
       "\n",
       "Từ $ab = 3\\sqrt{5} > 0$, ta có $a, b$ cùng dấu.\n",
       "Ta có: $(a^2 + b^2)^2 = (a^2 - b^2)^2 + 4a^2b^2 = 4^2 + 4(3\\sqrt{5})^2 = 16 + 4(9 \\cdot 5) = 16 + 180 = 196$.\n",
       "Suy ra $a^2 + b^2 = \\sqrt{196} = 14$.\n",
       "\n",
       "Ta có hệ:\n",
       "$\\begin{cases}\n",
       "a^2 - b^2 = 4 \\\\\n",
       "a^2 + b^2 = 14\n",
       "\\end{cases} \\Leftrightarrow \\begin{cases}\n",
       "2a^2 = 18 \\\\\n",
       "2b^2 = 10\n",
       "\\end{cases} \\Leftrightarrow \\begin{cases}\n",
       "a^2 = 9 \\\\\n",
       "b^2 = 5\n",
       "\\end{cases} \\Leftrightarrow \\begin{cases}\n",
       "a = \\pm 3 \\\\\n",
       "b = \\pm \\sqrt{5}\n",
       "\\end{cases}$\n",
       "\n",
       "Vì $a, b$ cùng dấu nên ta có hai nghiệm:\n",
       "$z_1 = 3 + \\sqrt{5}i$ và $z_2 = -3 - \\sqrt{5}i$.\n",
       "\n"
      ],
      "text/plain": [
       "<IPython.core.display.Latex object>"
      ]
     },
     "metadata": {},
     "output_type": "display_data"
    },
    {
     "name": "stderr",
     "output_type": "stream",
     "text": [
      "Processing Questions:  22%|██▏       | 35/162 [02:19<09:34,  4.52s/it]"
     ]
    },
    {
     "data": {
      "text/latex": [
       "\n",
       "Gọi $z = a + bi$ là căn bậc hai của $33 - 56i$, với $a, b \\in \\mathbb{R}$. Khi đó:\n",
       "$z^2 = (a + bi)^2 = a^2 + 2abi - b^2 = (a^2 - b^2) + 2abi = 33 - 56i$\n",
       "\n",
       "Ta có hệ phương trình:\n",
       "$\\begin{cases}\n",
       "a^2 - b^2 = 33 \\\\\n",
       "2ab = -56\n",
       "\\end{cases} \\Leftrightarrow\n",
       "\\begin{cases}\n",
       "a^2 - b^2 = 33 \\\\\n",
       "ab = -28\n",
       "\\end{cases}$\n",
       "\n",
       "Từ $ab = -28 \\Rightarrow b = -\\frac{28}{a}$. Thay vào phương trình đầu tiên:\n",
       "$a^2 - \\left(-\\frac{28}{a}\\right)^2 = 33 \\Leftrightarrow a^2 - \\frac{28^2}{a^2} = 33$\n",
       "$a^4 - 784 = 33a^2 \\Leftrightarrow a^4 - 33a^2 - 784 = 0$\n",
       "\n",
       "Đặt $t = a^2 \\ge 0$. Khi đó: $t^2 - 33t - 784 = 0$\n",
       "$\\Delta = (-33)^2 - 4(1)(-784) = 1089 + 3136 = 4225 = 65^2$\n",
       "$t_1 = \\frac{33 + 65}{2} = \\frac{98}{2} = 49$ (nhận)\n",
       "$t_2 = \\frac{33 - 65}{2} = \\frac{-32}{2} = -16$ (loại)\n",
       "\n",
       "Vậy $a^2 = 49 \\Rightarrow a = \\pm 7$.\n",
       "Nếu $a = 7$ thì $b = -\\frac{28}{7} = -4$.\n",
       "Nếu $a = -7$ thì $b = -\\frac{28}{-7} = 4$.\n",
       "Vậy $z = 7 - 4i$ hoặc $z = -7 + 4i$.\n",
       "\n",
       "Vì z có phần ảo âm, nên $z = 7 - 4i$.\n",
       "Phần thực của z là 7.\n",
       "\n"
      ],
      "text/plain": [
       "<IPython.core.display.Latex object>"
      ]
     },
     "metadata": {},
     "output_type": "display_data"
    },
    {
     "name": "stderr",
     "output_type": "stream",
     "text": [
      "Processing Questions:  22%|██▏       | 36/162 [02:24<09:29,  4.52s/it]"
     ]
    },
    {
     "data": {
      "text/latex": [
       "\n",
       "Ta cần tìm căn bậc hai của $-121$ trong tập số phức $\\mathbb{C}$.\n",
       "Ta biết rằng $i^2 = -1$, do đó $-1 = i^2$.\n",
       "Vậy $-121 = 121 \\cdot (-1) = 121 \\cdot i^2$.\n",
       "Suy ra, căn bậc hai của $-121$ là $\\pm \\sqrt{-121} = \\pm \\sqrt{121 \\cdot i^2} = \\pm \\sqrt{121} \\cdot \\sqrt{i^2} = \\pm 11i$.\n",
       "\n",
       "Vậy căn bậc hai của $-121$ là $11i$ và $-11i$.\n",
       "\n"
      ],
      "text/plain": [
       "<IPython.core.display.Latex object>"
      ]
     },
     "metadata": {},
     "output_type": "display_data"
    },
    {
     "name": "stderr",
     "output_type": "stream",
     "text": [
      "Processing Questions:  23%|██▎       | 37/162 [02:27<08:34,  4.11s/it]"
     ]
    },
    {
     "data": {
      "text/latex": [
       "\n",
       "Để tìm các căn bậc hai của -9, ta cần tìm các số $z$ sao cho $z^2 = -9$.\n",
       "\n",
       "Ta biết rằng $i^2 = -1$, vì vậy $-9 = 9 \\cdot (-1) = 9i^2 = (3i)^2 = (-3i)^2$.\n",
       "\n",
       "Vậy, các căn bậc hai của -9 là $3i$ và $-3i$.\n",
       "\n"
      ],
      "text/plain": [
       "<IPython.core.display.Latex object>"
      ]
     },
     "metadata": {},
     "output_type": "display_data"
    },
    {
     "name": "stderr",
     "output_type": "stream",
     "text": [
      "Processing Questions:  23%|██▎       | 38/162 [02:30<07:33,  3.65s/it]"
     ]
    },
    {
     "data": {
      "text/latex": [
       "\n",
       "Để viết số phức $z = 6 + 6i$ dưới dạng lượng giác, ta thực hiện các bước sau:\n",
       "\n",
       "1. **Tính môđun của $z$**:\n",
       "   $|z| = \\sqrt{a^2 + b^2}$ với $z = a + bi$. Trong trường hợp này, $a = 6$ và $b = 6$.\n",
       "   $|z| = \\sqrt{6^2 + 6^2} = \\sqrt{36 + 36} = \\sqrt{72} = 6\\sqrt{2}$.\n",
       "\n",
       "2. **Tìm argument của $z$**:\n",
       "   Ta có $\\cos \\theta = \\frac{a}{|z|} = \\frac{6}{6\\sqrt{2}} = \\frac{1}{\\sqrt{2}} = \\frac{\\sqrt{2}}{2}$\n",
       "   và $\\sin \\theta = \\frac{b}{|z|} = \\frac{6}{6\\sqrt{2}} = \\frac{1}{\\sqrt{2}} = \\frac{\\sqrt{2}}{2}$.\n",
       "   Vậy $\\theta = \\frac{\\pi}{4}$.\n",
       "\n",
       "3. **Viết dạng lượng giác**:\n",
       "   $z = |z|(\\cos \\theta + i \\sin \\theta) = 6\\sqrt{2} \\left( \\cos \\frac{\\pi}{4} + i \\sin \\frac{\\pi}{4} \\right)$.\n",
       "\n"
      ],
      "text/plain": [
       "<IPython.core.display.Latex object>"
      ]
     },
     "metadata": {},
     "output_type": "display_data"
    },
    {
     "name": "stderr",
     "output_type": "stream",
     "text": [
      "Processing Questions:  24%|██▍       | 39/162 [02:33<07:07,  3.47s/it]"
     ]
    },
    {
     "data": {
      "text/latex": [
       "\n",
       "Số 10 là một số thực, có thể được biểu diễn dưới dạng lượng giác như sau:\n",
       "\n",
       "$10 = 10 + 0i$\n",
       "\n",
       "Số phức $z = a + bi$ có thể biểu diễn dưới dạng lượng giác là $z = r(\\cos \\varphi + i \\sin \\varphi)$, trong đó:\n",
       "\n",
       "*   $r = |z| = \\sqrt{a^2 + b^2}$ là module của $z$.\n",
       "*   $\\varphi$ là argument của $z$, thỏa mãn $\\cos \\varphi = \\frac{a}{r}$ và $\\sin \\varphi = \\frac{b}{r}$.\n",
       "\n",
       "Trong trường hợp này, $a = 10$ và $b = 0$. Vậy:\n",
       "\n",
       "*   $r = \\sqrt{10^2 + 0^2} = \\sqrt{100} = 10$.\n",
       "*   $\\cos \\varphi = \\frac{10}{10} = 1$\n",
       "*   $\\sin \\varphi = \\frac{0}{10} = 0$\n",
       "\n",
       "Suy ra, $\\varphi = 0 + k2\\pi$ ($k \\in \\mathbb{Z}$). Chọn $k = 0$, ta có $\\varphi = 0$.\n",
       "\n",
       "Vậy, biểu diễn lượng giác của số 10 là:\n",
       "\n",
       "$10 = 10(\\cos 0 + i \\sin 0)$\n"
      ],
      "text/plain": [
       "<IPython.core.display.Latex object>"
      ]
     },
     "metadata": {},
     "output_type": "display_data"
    },
    {
     "name": "stderr",
     "output_type": "stream",
     "text": [
      "Processing Questions:  25%|██▍       | 40/162 [02:37<07:26,  3.66s/it]"
     ]
    },
    {
     "data": {
      "text/latex": [
       "\n",
       "Ta cần viết $-\\frac{\\sqrt{3}}{2}$ dưới dạng lượng giác $cos(\\alpha) + i sin(\\alpha)$ hoặc $e^{i\\alpha}$.\n",
       "\n",
       "Vì $-\\frac{\\sqrt{3}}{2}$ là một số thực, ta có thể viết nó dưới dạng $z = -\\frac{\\sqrt{3}}{2} + 0i$.\n",
       "Ta cần tìm $\\alpha$ sao cho $cos(\\alpha) = -\\frac{\\sqrt{3}}{2}$ và $sin(\\alpha) = 0$.\n",
       "\n",
       "Ta biết rằng $cos(\\frac{5\\pi}{6}) = -\\frac{\\sqrt{3}}{2}$ và $sin(\\frac{5\\pi}{6}) = \\frac{1}{2} \\neq 0$.\n",
       "$cos(\\frac{7\\pi}{6}) = -\\frac{\\sqrt{3}}{2}$ và $sin(\\frac{7\\pi}{6}) = -\\frac{1}{2} \\neq 0$.\n",
       "Vậy không có góc $\\alpha$ nào thỏa mãn cả $cos(\\alpha) = -\\frac{\\sqrt{3}}{2}$ và $sin(\\alpha) = 0$.\n",
       "\n",
       "Tuy nhiên, ta có thể viết $-\\frac{\\sqrt{3}}{2} = -\\frac{\\sqrt{3}}{2} + 0i$. Ta cần tìm $\\alpha$ sao cho $cos(\\alpha) = -\\frac{\\sqrt{3}}{2}$ và $sin(\\alpha) = 0$.\n",
       "Giá trị $sin(\\alpha)=0$ khi $\\alpha = k\\pi$ với $k \\in \\mathbb{Z}$.\n",
       "Với $\\alpha = k\\pi$, ta có $cos(k\\pi) = (-1)^k$. Như vậy $cos(k\\pi) = -\\frac{\\sqrt{3}}{2}$ là điều không thể.\n",
       "\n",
       "Ta cần viết $-\\frac{\\sqrt{3}}{2}$ dưới dạng lượng giác $r(cos(\\alpha) + isin(\\alpha))$. Ở đây $r = |-\\frac{\\sqrt{3}}{2}| = \\frac{\\sqrt{3}}{2}$.\n",
       "\n",
       "Khi đó, $-\\frac{\\sqrt{3}}{2} = \\frac{\\sqrt{3}}{2}(cos(\\pi) + isin(\\pi))$ không đúng. Vì $\\frac{\\sqrt{3}}{2} \\ne 1$.\n",
       "\n",
       "Nhận thấy $-\\frac{\\sqrt{3}}{2}$ là một số thực âm.\n",
       "Ta có $-\\frac{\\sqrt{3}}{2} = \\frac{\\sqrt{3}}{2} (-1) = \\frac{\\sqrt{3}}{2} (cos(\\pi) + isin(\\pi))$.\n",
       "Tuy nhiên, biểu diễn lượng giác của một số thực $a$ là $a = |a| (cos(0) + isin(0))$ nếu $a > 0$ và $a = |a| (cos(\\pi) + isin(\\pi))$ nếu $a < 0$.\n",
       "\n",
       "Vì vậy, $-\\frac{\\sqrt{3}}{2} = \\frac{\\sqrt{3}}{2}e^{i\\pi}$.\n",
       "Nhưng theo đề bài ta cần viết $-\\frac{\\sqrt{3}}{2}$ dưới dạng lượng giác. Ta viết $-\\frac{\\sqrt{3}}{2} = -\\frac{\\sqrt{3}}{2} + 0i$.\n",
       "\n",
       "Ta tìm $r$ và $\\theta$ sao cho $-\\frac{\\sqrt{3}}{2} + 0i = r(cos\\theta + isin\\theta)$.\n",
       "$r = \\sqrt{(-\\frac{\\sqrt{3}}{2})^2 + 0^2} = \\frac{\\sqrt{3}}{2}$.\n",
       "$cos\\theta = \\frac{-\\frac{\\sqrt{3}}{2}}{\\frac{\\sqrt{3}}{2}} = -1$\n",
       "$sin\\theta = \\frac{0}{\\frac{\\sqrt{3}}{2}} = 0$\n",
       "Suy ra $\\theta = \\pi$.\n",
       "\n",
       "Vậy $-\\frac{\\sqrt{3}}{2} = \\frac{\\sqrt{3}}{2}(cos(\\pi) + isin(\\pi))$.\n",
       "\n"
      ],
      "text/plain": [
       "<IPython.core.display.Latex object>"
      ]
     },
     "metadata": {},
     "output_type": "display_data"
    },
    {
     "name": "stderr",
     "output_type": "stream",
     "text": [
      "Processing Questions:  25%|██▌       | 41/162 [02:44<09:37,  4.77s/it]"
     ]
    },
    {
     "data": {
      "text/latex": [
       "\n",
       "Để viết số phức $z = \\frac{1}{2 + 2i}$ dưới dạng lượng giác, ta thực hiện các bước sau:\n",
       "\n",
       "**Bước 1: Tìm dạng đại số của $z$**\n",
       "\n",
       "Ta có:\n",
       "$z = \\frac{1}{2 + 2i} = \\frac{1}{2 + 2i} \\cdot \\frac{2 - 2i}{2 - 2i} = \\frac{2 - 2i}{4 - (4i^2)} = \\frac{2 - 2i}{4 + 4} = \\frac{2 - 2i}{8} = \\frac{1}{4} - \\frac{1}{4}i$\n",
       "\n",
       "**Bước 2: Tìm module của $z$**\n",
       "\n",
       "$|z| = \\sqrt{\\left(\\frac{1}{4}\\right)^2 + \\left(-\\frac{1}{4}\\right)^2} = \\sqrt{\\frac{1}{16} + \\frac{1}{16}} = \\sqrt{\\frac{2}{16}} = \\sqrt{\\frac{1}{8}} = \\frac{1}{2\\sqrt{2}} = \\frac{\\sqrt{2}}{4}$\n",
       "\n",
       "**Bước 3: Tìm argument của $z$**\n",
       "\n",
       "Ta có:\n",
       "$\\cos \\theta = \\frac{\\text{Re}(z)}{|z|} = \\frac{1/4}{\\sqrt{2}/4} = \\frac{1}{\\sqrt{2}} = \\frac{\\sqrt{2}}{2}$\n",
       "$\\sin \\theta = \\frac{\\text{Im}(z)}{|z|} = \\frac{-1/4}{\\sqrt{2}/4} = -\\frac{1}{\\sqrt{2}} = -\\frac{\\sqrt{2}}{2}$\n",
       "\n",
       "Vậy, $\\theta = -\\frac{\\pi}{4}$ (hoặc $\\theta = \\frac{7\\pi}{4}$).\n",
       "\n",
       "**Bước 4: Viết dạng lượng giác của $z$**\n",
       "\n",
       "$z = |z|(\\cos \\theta + i \\sin \\theta) = \\frac{\\sqrt{2}}{4} \\left( \\cos\\left(-\\frac{\\pi}{4}\\right) + i \\sin\\left(-\\frac{\\pi}{4}\\right) \\right)$\n",
       "Hay\n",
       "$z = \\frac{\\sqrt{2}}{4} \\left( \\cos\\left(\\frac{7\\pi}{4}\\right) + i \\sin\\left(\\frac{7\\pi}{4}\\right) \\right)$\n"
      ],
      "text/plain": [
       "<IPython.core.display.Latex object>"
      ]
     },
     "metadata": {},
     "output_type": "display_data"
    },
    {
     "name": "stderr",
     "output_type": "stream",
     "text": [
      "Processing Questions:  26%|██▌       | 42/162 [02:49<09:26,  4.72s/it]"
     ]
    },
    {
     "data": {
      "text/latex": [
       "\n",
       "Ta có số phức $z = 100i$. Để viết $z$ dưới dạng lượng giác $z = r(\\cos \\varphi + i \\sin \\varphi)$, ta cần tìm $r$ và $\\varphi$.\n",
       "\n",
       "1. **Tìm mô-đun $r$**:\n",
       "   $r = |z| = \\sqrt{0^2 + 100^2} = \\sqrt{10000} = 100$.\n",
       "\n",
       "2. **Tìm argument $\\varphi$**:\n",
       "   Ta có $z = 100i = 100(0 + i \\cdot 1)$.\n",
       "   Vậy $\\cos \\varphi = 0$ và $\\sin \\varphi = 1$.\n",
       "   Do đó, $\\varphi = \\frac{\\pi}{2}$.\n",
       "\n",
       "3. **Viết dạng lượng giác**:\n",
       "   $z = 100 \\left( \\cos \\frac{\\pi}{2} + i \\sin \\frac{\\pi}{2} \\right)$.\n",
       "\n"
      ],
      "text/plain": [
       "<IPython.core.display.Latex object>"
      ]
     },
     "metadata": {},
     "output_type": "display_data"
    },
    {
     "name": "stderr",
     "output_type": "stream",
     "text": [
      "Processing Questions:  27%|██▋       | 43/162 [02:52<08:41,  4.38s/it]"
     ]
    },
    {
     "data": {
      "text/latex": [
       "\n",
       "Để viết số phức $z = (1 - i\\sqrt{3})(1 + i)$ dưới dạng lượng giác, ta thực hiện các bước sau:\n",
       "\n",
       "1. **Tính tích:**\n",
       "$z = (1 - i\\sqrt{3})(1 + i) = 1 + i - i\\sqrt{3} - i^2\\sqrt{3} = 1 + i - i\\sqrt{3} + \\sqrt{3} = (1 + \\sqrt{3}) + (1 - \\sqrt{3})i$\n",
       "\n",
       "2. **Tìm module của $z$:**\n",
       "$|z| = \\sqrt{(1 + \\sqrt{3})^2 + (1 - \\sqrt{3})^2} = \\sqrt{1 + 2\\sqrt{3} + 3 + 1 - 2\\sqrt{3} + 3} = \\sqrt{8} = 2\\sqrt{2}$\n",
       "\n",
       "3. **Tìm argument của $z$:**\n",
       "Gọi $\\theta$ là argument của $z$, ta có:\n",
       "$\\cos(\\theta) = \\frac{1 + \\sqrt{3}}{2\\sqrt{2}} = \\frac{\\sqrt{2} + \\sqrt{6}}{4}$\n",
       "$\\sin(\\theta) = \\frac{1 - \\sqrt{3}}{2\\sqrt{2}} = \\frac{\\sqrt{2} - \\sqrt{6}}{4}$\n",
       "Ta nhận thấy $\\theta = -\\frac{\\pi}{12}$, do $\\cos(-\\frac{\\pi}{12}) = \\frac{\\sqrt{2} + \\sqrt{6}}{4}$ và $\\sin(-\\frac{\\pi}{12}) = \\frac{\\sqrt{2} - \\sqrt{6}}{-4}=\\frac{-\\sqrt{2} + \\sqrt{6}}{4}$.\n",
       "Vậy $\\theta = \\arctan{\\frac{1-\\sqrt{3}}{1+\\sqrt{3}}}= \\arctan{\\frac{(1-\\sqrt{3})^2}{-2}}=\\arctan{\\frac{4-2\\sqrt{3}}{-2}}=\\arctan(\\sqrt{3}-2) = -\\frac{\\pi}{12}$\n",
       "\n",
       "4. **Viết dạng lượng giác:**\n",
       "$z = |z|(\\cos(\\theta) + i\\sin(\\theta)) = 2\\sqrt{2}\\left(\\cos\\left(-\\frac{\\pi}{12}\\right) + i\\sin\\left(-\\frac{\\pi}{12}\\right)\\right) = 2\\sqrt{2}\\left(\\cos\\left(\\frac{\\pi}{12}\\right) - i\\sin\\left(\\frac{\\pi}{12}\\right)\\right)$\n",
       "\n",
       "Vậy, $z = 2\\sqrt{2}\\left(\\cos\\left(-\\frac{\\pi}{12}\\right) + i\\sin\\left(-\\frac{\\pi}{12}\\right)\\right)$\n",
       "\n"
      ],
      "text/plain": [
       "<IPython.core.display.Latex object>"
      ]
     },
     "metadata": {},
     "output_type": "display_data"
    },
    {
     "name": "stderr",
     "output_type": "stream",
     "text": [
      "Processing Questions:  27%|██▋       | 44/162 [02:56<08:26,  4.29s/it]"
     ]
    },
    {
     "data": {
      "text/latex": [
       "\n",
       "**Bước 1: Biến đổi tử và mẫu về dạng lượng giác**\n",
       "\n",
       "*   **Tử số:** $2 + 2i$\n",
       "    *   Tính module: $r_1 = \\sqrt{2^2 + 2^2} = \\sqrt{8} = 2\\sqrt{2}$\n",
       "    *   Tính argument: $\\tan(\\theta_1) = \\frac{2}{2} = 1 \\Rightarrow \\theta_1 = \\frac{\\pi}{4}$\n",
       "    *   Dạng lượng giác: $2 + 2i = 2\\sqrt{2}(\\cos(\\frac{\\pi}{4}) + i\\sin(\\frac{\\pi}{4}))$\n",
       "\n",
       "*   **Mẫu số:** $1 + \\sqrt{3}i$\n",
       "    *   Tính module: $r_2 = \\sqrt{1^2 + (\\sqrt{3})^2} = \\sqrt{4} = 2$\n",
       "    *   Tính argument: $\\tan(\\theta_2) = \\frac{\\sqrt{3}}{1} = \\sqrt{3} \\Rightarrow \\theta_2 = \\frac{\\pi}{3}$\n",
       "    *   Dạng lượng giác: $1 + \\sqrt{3}i = 2(\\cos(\\frac{\\pi}{3}) + i\\sin(\\frac{\\pi}{3}))$\n",
       "\n",
       "**Bước 2: Chia hai số phức ở dạng lượng giác**\n",
       "\n",
       "$z = \\frac{2 + 2i}{1 + \\sqrt{3}i} = \\frac{2\\sqrt{2}(\\cos(\\frac{\\pi}{4}) + i\\sin(\\frac{\\pi}{4}))}{2(\\cos(\\frac{\\pi}{3}) + i\\sin(\\frac{\\pi}{3}))}$\n",
       "\n",
       "Khi chia hai số phức ở dạng lượng giác, ta chia module và trừ argument:\n",
       "\n",
       "$z = \\frac{2\\sqrt{2}}{2} \\left[ \\cos\\left(\\frac{\\pi}{4} - \\frac{\\pi}{3}\\right) + i\\sin\\left(\\frac{\\pi}{4} - \\frac{\\pi}{3}\\right) \\right]$\n",
       "\n",
       "$z = \\sqrt{2} \\left[ \\cos\\left(\\frac{3\\pi - 4\\pi}{12}\\right) + i\\sin\\left(\\frac{3\\pi - 4\\pi}{12}\\right) \\right]$\n",
       "\n",
       "$z = \\sqrt{2} \\left[ \\cos\\left(-\\frac{\\pi}{12}\\right) + i\\sin\\left(-\\frac{\\pi}{12}\\right) \\right]$\n",
       "\n",
       "$z = \\sqrt{2} \\left[ \\cos\\left(\\frac{\\pi}{12}\\right) - i\\sin\\left(\\frac{\\pi}{12}\\right) \\right]$\n",
       "\n",
       "**Bước 3: Rút gọn (nếu cần)**\n",
       "\n",
       "Ta đã có dạng lượng giác của số phức z.\n",
       "\n"
      ],
      "text/plain": [
       "<IPython.core.display.Latex object>"
      ]
     },
     "metadata": {},
     "output_type": "display_data"
    },
    {
     "name": "stderr",
     "output_type": "stream",
     "text": [
      "Processing Questions:  28%|██▊       | 45/162 [03:03<09:42,  4.97s/it]"
     ]
    },
    {
     "data": {
      "text/latex": [
       "\n",
       "Ta có số phức $z = \\frac{3}{10\\sqrt{3} + 10i}$.\n",
       "\n",
       "**Bước 1: Tìm module và argument của mẫu số**\n",
       "\n",
       "Mẫu số là $w = 10\\sqrt{3} + 10i$.\n",
       "*   Module của $w$: $|w| = \\sqrt{(10\\sqrt{3})^2 + 10^2} = \\sqrt{300 + 100} = \\sqrt{400} = 20$.\n",
       "*   Argument của $w$: $\\tan(\\theta) = \\frac{10}{10\\sqrt{3}} = \\frac{1}{\\sqrt{3}}$. Suy ra $\\theta = \\frac{\\pi}{6}$.\n",
       "\n",
       "Vậy, $w = 20\\left(\\cos\\left(\\frac{\\pi}{6}\\right) + i\\sin\\left(\\frac{\\pi}{6}\\right)\\right)$.\n",
       "\n",
       "**Bước 2: Viết số phức $z$ lại**\n",
       "\n",
       "$z = \\frac{3}{10\\sqrt{3} + 10i} = \\frac{3}{20\\left(\\cos\\left(\\frac{\\pi}{6}\\right) + i\\sin\\left(\\frac{\\pi}{6}\\right)\\right)} = \\frac{3}{20} \\cdot \\frac{1}{\\cos\\left(\\frac{\\pi}{6}\\right) + i\\sin\\left(\\frac{\\pi}{6}\\right)}$.\n",
       "\n",
       "**Bước 3: Sử dụng công thức nghịch đảo của số phức**\n",
       "\n",
       "$\\frac{1}{\\cos(\\theta) + i\\sin(\\theta)} = \\cos(-\\theta) + i\\sin(-\\theta)$.\n",
       "\n",
       "Do đó, $\\frac{1}{\\cos\\left(\\frac{\\pi}{6}\\right) + i\\sin\\left(\\frac{\\pi}{6}\\right)} = \\cos\\left(-\\frac{\\pi}{6}\\right) + i\\sin\\left(-\\frac{\\pi}{6}\\right)$.\n",
       "\n",
       "**Bước 4: Viết số phức $z$ dưới dạng lượng giác**\n",
       "\n",
       "$z = \\frac{3}{20}\\left(\\cos\\left(-\\frac{\\pi}{6}\\right) + i\\sin\\left(-\\frac{\\pi}{6}\\right)\\right)$.\n",
       "\n"
      ],
      "text/plain": [
       "<IPython.core.display.Latex object>"
      ]
     },
     "metadata": {},
     "output_type": "display_data"
    },
    {
     "name": "stderr",
     "output_type": "stream",
     "text": [
      "Processing Questions:  28%|██▊       | 46/162 [03:08<09:45,  5.05s/it]"
     ]
    },
    {
     "data": {
      "text/latex": [
       "\n",
       "Để viết số phức $z = \\frac{1 - i}{(\\sqrt{3} + i)(2 + 2i)}$ dưới dạng lượng giác, ta thực hiện các bước sau:\n",
       "\n",
       "1. **Biến đổi tử số và mẫu số về dạng lượng giác:**\n",
       "\n",
       "*   $1 - i = \\sqrt{2}(\\cos(-\\frac{\\pi}{4}) + i\\sin(-\\frac{\\pi}{4})) = \\sqrt{2}e^{-i\\frac{\\pi}{4}}$\n",
       "*   $\\sqrt{3} + i = 2(\\cos(\\frac{\\pi}{6}) + i\\sin(\\frac{\\pi}{6})) = 2e^{i\\frac{\\pi}{6}}$\n",
       "*   $2 + 2i = 2\\sqrt{2}(\\cos(\\frac{\\pi}{4}) + i\\sin(\\frac{\\pi}{4})) = 2\\sqrt{2}e^{i\\frac{\\pi}{4}}$\n",
       "\n",
       "2.  **Thay vào biểu thức z:**\n",
       "\n",
       "$z = \\frac{\\sqrt{2}e^{-i\\frac{\\pi}{4}}}{(2e^{i\\frac{\\pi}{6}})(2\\sqrt{2}e^{i\\frac{\\pi}{4}})} = \\frac{\\sqrt{2}e^{-i\\frac{\\pi}{4}}}{4\\sqrt{2}e^{i(\\frac{\\pi}{6} + \\frac{\\pi}{4})}} = \\frac{1}{4}e^{-i\\frac{\\pi}{4} - i(\\frac{\\pi}{6} + \\frac{\\pi}{4})} = \\frac{1}{4}e^{-i(\\frac{\\pi}{2} + \\frac{\\pi}{6})} = \\frac{1}{4}e^{-i\\frac{2\\pi}{3}}$\n",
       "\n",
       "3. **Viết lại dạng lượng giác:**\n",
       "\n",
       "$z = \\frac{1}{4}(\\cos(-\\frac{2\\pi}{3}) + i\\sin(-\\frac{2\\pi}{3})) = \\frac{1}{4}(\\cos(\\frac{2\\pi}{3}) - i\\sin(\\frac{2\\pi}{3})) = \\frac{1}{4}(-\\frac{1}{2} - i\\frac{\\sqrt{3}}{2}) = -\\frac{1}{8} - i\\frac{\\sqrt{3}}{8}$\n",
       "\n",
       "Vậy, dạng lượng giác của $z$ là:\n",
       "\n",
       "$z = \\frac{1}{4}(\\cos(-\\frac{2\\pi}{3}) + i\\sin(-\\frac{2\\pi}{3})) = \\frac{1}{4}e^{-i\\frac{2\\pi}{3}}$\n"
      ],
      "text/plain": [
       "<IPython.core.display.Latex object>"
      ]
     },
     "metadata": {},
     "output_type": "display_data"
    },
    {
     "name": "stderr",
     "output_type": "stream",
     "text": [
      "Processing Questions:  29%|██▉       | 47/162 [03:12<09:03,  4.72s/it]"
     ]
    },
    {
     "data": {
      "text/latex": [
       "\n",
       "Ta có số phức $z = (\\sqrt{2} + \\sqrt{2}i)^{10}$.\n",
       "Để đưa $z$ về dạng lượng giác, ta đưa số phức $\\sqrt{2} + \\sqrt{2}i$ về dạng lượng giác trước.\n",
       "\n",
       "Đặt $w = \\sqrt{2} + \\sqrt{2}i$.\n",
       "Ta có $|w| = \\sqrt{(\\sqrt{2})^2 + (\\sqrt{2})^2} = \\sqrt{2 + 2} = \\sqrt{4} = 2$.\n",
       "Suy ra $w = 2(\\frac{\\sqrt{2}}{2} + \\frac{\\sqrt{2}}{2}i)$.\n",
       "Do $\\cos(\\frac{\\pi}{4}) = \\frac{\\sqrt{2}}{2}$ và $\\sin(\\frac{\\pi}{4}) = \\frac{\\sqrt{2}}{2}$ nên $w = 2(\\cos(\\frac{\\pi}{4}) + i\\sin(\\frac{\\pi}{4}))$.\n",
       "Vậy $w = 2(\\cos(\\frac{\\pi}{4}) + i\\sin(\\frac{\\pi}{4})) = 2e^{i\\frac{\\pi}{4}}$.\n",
       "\n",
       "Khi đó, $z = w^{10} = (2(\\cos(\\frac{\\pi}{4}) + i\\sin(\\frac{\\pi}{4})))^{10} = 2^{10}(\\cos(\\frac{10\\pi}{4}) + i\\sin(\\frac{10\\pi}{4})) = 2^{10}(\\cos(\\frac{5\\pi}{2}) + i\\sin(\\frac{5\\pi}{2}))$.\n",
       "Vì $\\frac{5\\pi}{2} = 2\\pi + \\frac{\\pi}{2}$ nên $\\cos(\\frac{5\\pi}{2}) = \\cos(\\frac{\\pi}{2}) = 0$ và $\\sin(\\frac{5\\pi}{2}) = \\sin(\\frac{\\pi}{2}) = 1$.\n",
       "Suy ra $z = 2^{10}(0 + i(1)) = 2^{10}i = 1024i$.\n",
       "Vậy $z = 1024i = 1024(\\cos(\\frac{\\pi}{2}) + i\\sin(\\frac{\\pi}{2}))$.\n",
       "\n",
       "Vậy dạng lượng giác của $z$ là $1024(\\cos(\\frac{\\pi}{2}) + i\\sin(\\frac{\\pi}{2}))$.\n"
      ],
      "text/plain": [
       "<IPython.core.display.Latex object>"
      ]
     },
     "metadata": {},
     "output_type": "display_data"
    },
    {
     "name": "stderr",
     "output_type": "stream",
     "text": [
      "Processing Questions:  30%|██▉       | 48/162 [03:16<08:45,  4.61s/it]"
     ]
    },
    {
     "data": {
      "text/latex": [
       "\n",
       "Ta sẽ đưa cả tử và mẫu về dạng lượng giác, sau đó thực hiện phép chia số phức.\n",
       "\n",
       "Bước 1: Đưa $1 - i$ về dạng lượng giác.\n",
       "$|1 - i| = \\sqrt{1^2 + (-1)^2} = \\sqrt{2}$.\n",
       "$\\arg(1 - i) = \\arctan\\left(\\frac{-1}{1}\\right) = -\\frac{\\pi}{4}$.\n",
       "Vậy, $1 - i = \\sqrt{2}\\left(\\cos\\left(-\\frac{\\pi}{4}\\right) + i\\sin\\left(-\\frac{\\pi}{4}\\right)\\right)$.\n",
       "\n",
       "Bước 2: Tính $(1 - i)^{10}$.\n",
       "$(1 - i)^{10} = \\left(\\sqrt{2}\\left(\\cos\\left(-\\frac{\\pi}{4}\\right) + i\\sin\\left(-\\frac{\\pi}{4}\\right)\\right)\\right)^{10} = (\\sqrt{2})^{10}\\left(\\cos\\left(-\\frac{10\\pi}{4}\\right) + i\\sin\\left(-\\frac{10\\pi}{4}\\right)\\right) = 2^5\\left(\\cos\\left(-\\frac{5\\pi}{2}\\right) + i\\sin\\left(-\\frac{5\\pi}{2}\\right)\\right) = 32\\left(\\cos\\left(-\\frac{\\pi}{2}\\right) + i\\sin\\left(-\\frac{\\pi}{2}\\right)\\right) = 32(0 - i) = -32i$.\n",
       "\n",
       "Bước 3: Đưa $\\sqrt{3} + i$ về dạng lượng giác.\n",
       "$|\\sqrt{3} + i| = \\sqrt{(\\sqrt{3})^2 + 1^2} = \\sqrt{3 + 1} = 2$.\n",
       "$\\arg(\\sqrt{3} + i) = \\arctan\\left(\\frac{1}{\\sqrt{3}}\\right) = \\frac{\\pi}{6}$.\n",
       "Vậy, $\\sqrt{3} + i = 2\\left(\\cos\\left(\\frac{\\pi}{6}\\right) + i\\sin\\left(\\frac{\\pi}{6}\\right)\\right)$.\n",
       "\n",
       "Bước 4: Tính $(\\sqrt{3} + i)^9$.\n",
       "$(\\sqrt{3} + i)^9 = \\left(2\\left(\\cos\\left(\\frac{\\pi}{6}\\right) + i\\sin\\left(\\frac{\\pi}{6}\\right)\\right)\\right)^9 = 2^9\\left(\\cos\\left(\\frac{9\\pi}{6}\\right) + i\\sin\\left(\\frac{9\\pi}{6}\\right)\\right) = 512\\left(\\cos\\left(\\frac{3\\pi}{2}\\right) + i\\sin\\left(\\frac{3\\pi}{2}\\right)\\right) = 512(0 - i) = -512i$.\n",
       "\n",
       "Bước 5: Tính $z = \\frac{(1 - i)^{10}}{(\\sqrt{3} + i)^9}$.\n",
       "$z = \\frac{-32i}{-512i} = \\frac{32}{512} = \\frac{1}{16}$.\n",
       "\n",
       "Bước 6: Đưa $\\frac{1}{16}$ về dạng lượng giác.\n",
       "$\\frac{1}{16} = \\frac{1}{16} + 0i$.\n",
       "$|\\frac{1}{16}| = \\sqrt{\\left(\\frac{1}{16}\\right)^2 + 0^2} = \\frac{1}{16}$.\n",
       "$\\arg\\left(\\frac{1}{16}\\right) = \\arctan\\left(\\frac{0}{\\frac{1}{16}}\\right) = 0$.\n",
       "Vậy, $z = \\frac{1}{16}\\left(\\cos(0) + i\\sin(0)\\right)$.\n",
       "\n"
      ],
      "text/plain": [
       "<IPython.core.display.Latex object>"
      ]
     },
     "metadata": {},
     "output_type": "display_data"
    },
    {
     "name": "stderr",
     "output_type": "stream",
     "text": [
      "Processing Questions:  30%|███       | 49/162 [03:24<10:17,  5.47s/it]"
     ]
    },
    {
     "data": {
      "text/latex": [
       "\n",
       "Ta có số phức $z = (\\cos \\frac{\\pi}{3} - i\\sin\\frac{\\pi}{3})^5(1 + \\sqrt{3}i)^7$.\n",
       "Đầu tiên, ta biến đổi $(\\cos \\frac{\\pi}{3} - i\\sin\\frac{\\pi}{3})^5$. Sử dụng công thức Euler, ta có:\n",
       "$\\cos \\frac{\\pi}{3} - i\\sin\\frac{\\pi}{3} = e^{-i\\frac{\\pi}{3}}$.\n",
       "Vậy, $(\\cos \\frac{\\pi}{3} - i\\sin\\frac{\\pi}{3})^5 = (e^{-i\\frac{\\pi}{3}})^5 = e^{-i\\frac{5\\pi}{3}} = \\cos(-\\frac{5\\pi}{3}) + i\\sin(-\\frac{5\\pi}{3}) = \\cos(\\frac{5\\pi}{3}) - i\\sin(\\frac{5\\pi}{3}) = \\cos(2\\pi - \\frac{\\pi}{3}) - i\\sin(2\\pi - \\frac{\\pi}{3}) = \\cos(\\frac{\\pi}{3}) + i\\sin(\\frac{\\pi}{3}) = \\frac{1}{2} + i\\frac{\\sqrt{3}}{2}$.\n",
       "\n",
       "Tiếp theo, ta biến đổi $(1 + \\sqrt{3}i)^7$. Ta đưa $1 + \\sqrt{3}i$ về dạng lượng giác.\n",
       "$1 + \\sqrt{3}i = R(\\cos\\theta + i\\sin\\theta)$.\n",
       "$R = \\sqrt{1^2 + (\\sqrt{3})^2} = \\sqrt{1 + 3} = 2$.\n",
       "$\\cos\\theta = \\frac{1}{2}$ và $\\sin\\theta = \\frac{\\sqrt{3}}{2}$, suy ra $\\theta = \\frac{\\pi}{3}$.\n",
       "Vậy, $1 + \\sqrt{3}i = 2(\\cos\\frac{\\pi}{3} + i\\sin\\frac{\\pi}{3}) = 2e^{i\\frac{\\pi}{3}}$.\n",
       "$(1 + \\sqrt{3}i)^7 = (2e^{i\\frac{\\pi}{3}})^7 = 2^7e^{i\\frac{7\\pi}{3}} = 128(\\cos\\frac{7\\pi}{3} + i\\sin\\frac{7\\pi}{3}) = 128(\\cos(2\\pi + \\frac{\\pi}{3}) + i\\sin(2\\pi + \\frac{\\pi}{3})) = 128(\\cos\\frac{\\pi}{3} + i\\sin\\frac{\\pi}{3}) = 128(\\frac{1}{2} + i\\frac{\\sqrt{3}}{2}) = 64 + 64\\sqrt{3}i$.\n",
       "\n",
       "Vậy, $z = (\\frac{1}{2} + i\\frac{\\sqrt{3}}{2})(64 + 64\\sqrt{3}i) = \\frac{1}{2}(64 + 64\\sqrt{3}i) + i\\frac{\\sqrt{3}}{2}(64 + 64\\sqrt{3}i) = 32 + 32\\sqrt{3}i + 32\\sqrt{3}i + 32\\sqrt{3}\\sqrt{3}i^2 = 32 + 64\\sqrt{3}i - 96 = -64 + 64\\sqrt{3}i$.\n",
       "\n",
       "Phần ảo của số phức $z$ là $64\\sqrt{3}$.\n",
       "\n"
      ],
      "text/plain": [
       "<IPython.core.display.Latex object>"
      ]
     },
     "metadata": {},
     "output_type": "display_data"
    },
    {
     "name": "stderr",
     "output_type": "stream",
     "text": [
      "Processing Questions:  31%|███       | 50/162 [03:30<10:48,  5.79s/it]"
     ]
    },
    {
     "data": {
      "text/latex": [
       "\n",
       "Ta sẽ biểu diễn các số phức về dạng lượng giác, sau đó áp dụng công thức De Moivre.\n",
       "\n",
       "$1 - i = \\sqrt{2}(\\cos(-\\frac{\\pi}{4}) + i\\sin(-\\frac{\\pi}{4}))$\n",
       "\n",
       "$\\sqrt{3} + i = 2(\\cos(\\frac{\\pi}{6}) + i\\sin(\\frac{\\pi}{6}))$\n",
       "\n",
       "$-1 - i\\sqrt{3} = 2(\\cos(-\\frac{2\\pi}{3}) + i\\sin(-\\frac{2\\pi}{3}))$\n",
       "\n",
       "Khi đó:\n",
       "\n",
       "$(1 - i)^{10} = (\\sqrt{2})^{10}(\\cos(-\\frac{10\\pi}{4}) + i\\sin(-\\frac{10\\pi}{4})) = 2^5(\\cos(-\\frac{5\\pi}{2}) + i\\sin(-\\frac{5\\pi}{2})) = 32(\\cos(-\\frac{\\pi}{2}) + i\\sin(-\\frac{\\pi}{2})) = 32(0 - i) = -32i$\n",
       "\n",
       "$(\\sqrt{3} + i)^5 = 2^5(\\cos(\\frac{5\\pi}{6}) + i\\sin(\\frac{5\\pi}{6})) = 32(\\cos(\\frac{5\\pi}{6}) + i\\sin(\\frac{5\\pi}{6})) = 32(-\\frac{\\sqrt{3}}{2} + \\frac{1}{2}i) = -16\\sqrt{3} + 16i$\n",
       "\n",
       "$(-1 - i\\sqrt{3})^{10} = 2^{10}(\\cos(-\\frac{20\\pi}{3}) + i\\sin(-\\frac{20\\pi}{3})) = 1024(\\cos(-\\frac{2\\pi}{3}) + i\\sin(-\\frac{2\\pi}{3})) = 1024(-\\frac{1}{2} - \\frac{\\sqrt{3}}{2}i) = -512 - 512\\sqrt{3}i$\n",
       "\n",
       "Vậy:\n",
       "$\\frac{(1 - i)^{10}(\\sqrt{3} + i)^5}{(-1 - i\\sqrt{3})^{10}} = \\frac{(-32i)(-16\\sqrt{3} + 16i)}{-512 - 512\\sqrt{3}i} = \\frac{512\\sqrt{3}i - 512i^2}{-512 - 512\\sqrt{3}i} = \\frac{512 + 512\\sqrt{3}i}{-512 - 512\\sqrt{3}i} = -1$\n",
       "\n"
      ],
      "text/plain": [
       "<IPython.core.display.Latex object>"
      ]
     },
     "metadata": {},
     "output_type": "display_data"
    },
    {
     "name": "stderr",
     "output_type": "stream",
     "text": [
      "Processing Questions:  31%|███▏      | 51/162 [03:36<10:37,  5.74s/it]"
     ]
    },
    {
     "data": {
      "text/latex": [
       "\n",
       "Ta có $z = 1 - \\cos\\frac{\\pi}{8} + i \\sin\\frac{\\pi}{8}$.\n",
       "Ta biến đổi $z$ như sau:\n",
       "$z = 1 - \\cos\\frac{\\pi}{8} + i \\sin\\frac{\\pi}{8} = 2\\sin^2\\frac{\\pi}{16} + 2i \\sin\\frac{\\pi}{16}\\cos\\frac{\\pi}{16} = 2\\sin\\frac{\\pi}{16}(\\sin\\frac{\\pi}{16} + i\\cos\\frac{\\pi}{16}) = 2\\sin\\frac{\\pi}{16}(\\cos(\\frac{\\pi}{2} - \\frac{\\pi}{16}) + i\\sin(\\frac{\\pi}{2} - \\frac{\\pi}{16})) = 2\\sin\\frac{\\pi}{16}(\\cos\\frac{7\\pi}{16} + i\\sin\\frac{7\\pi}{16}) = 2\\sin\\frac{\\pi}{16}e^{i\\frac{7\\pi}{16}}$.\n",
       "\n",
       "Vậy $z^{2012} = (2\\sin\\frac{\\pi}{16})^{2012} e^{i\\frac{7\\pi}{16}.2012} = (2\\sin\\frac{\\pi}{16})^{2012} e^{i\\frac{503.7\\pi}{4}} = (2\\sin\\frac{\\pi}{16})^{2012} e^{i\\frac{3521\\pi}{4}}$.\n",
       "$\\frac{3521}{4} = 880 + \\frac{1}{4}$ nên $\\frac{3521\\pi}{4} = 880\\pi + \\frac{\\pi}{4}$.\n",
       "$e^{i\\frac{3521\\pi}{4}} = e^{i(880\\pi + \\frac{\\pi}{4})} = e^{i(440.2\\pi + \\frac{\\pi}{4})} = e^{i\\frac{\\pi}{4}} = \\cos\\frac{\\pi}{4} + i\\sin\\frac{\\pi}{4} = \\frac{\\sqrt{2}}{2} + i\\frac{\\sqrt{2}}{2}$.\n",
       "Vậy $z^{2012} = (2\\sin\\frac{\\pi}{16})^{2012} (\\frac{\\sqrt{2}}{2} + i\\frac{\\sqrt{2}}{2}) = (2\\sin\\frac{\\pi}{16})^{2012} \\frac{\\sqrt{2}}{2} (1+i)$.\n"
      ],
      "text/plain": [
       "<IPython.core.display.Latex object>"
      ]
     },
     "metadata": {},
     "output_type": "display_data"
    },
    {
     "name": "stderr",
     "output_type": "stream",
     "text": [
      "Processing Questions:  32%|███▏      | 52/162 [03:41<10:07,  5.53s/it]"
     ]
    },
    {
     "data": {
      "text/latex": [
       "\n",
       "Ta có phương trình:\n",
       "$z^5 + z^4 + z^3 + z^2 + z + 1 = 0$\n",
       "Nhận thấy $z=1$ không là nghiệm của phương trình. Nhân cả hai vế của phương trình với $(z-1)$ ta được:\n",
       "$(z-1)(z^5 + z^4 + z^3 + z^2 + z + 1) = 0$\n",
       "$z^6 - 1 = 0$\n",
       "$z^6 = 1$\n",
       "\n",
       "Vậy $z$ là căn bậc 6 của 1. Ta có: $z = e^{i \\frac{2\\pi k}{6}} = e^{i \\frac{\\pi k}{3}}$ với $k = 0, 1, 2, 3, 4, 5$.\n",
       "\n",
       "Vì $z=1$ không là nghiệm của phương trình ban đầu, nên ta loại nghiệm $k=0$. Vậy các nghiệm của phương trình là:\n",
       "$z = e^{i \\frac{\\pi}{3}}, e^{i \\frac{2\\pi}{3}}, e^{i \\frac{3\\pi}{3}}, e^{i \\frac{4\\pi}{3}}, e^{i \\frac{5\\pi}{3}}$\n",
       "\n",
       "Hay:\n",
       "$z_1 = cos(\\frac{\\pi}{3}) + i sin(\\frac{\\pi}{3}) = \\frac{1}{2} + i \\frac{\\sqrt{3}}{2}$\n",
       "$z_2 = cos(\\frac{2\\pi}{3}) + i sin(\\frac{2\\pi}{3}) = -\\frac{1}{2} + i \\frac{\\sqrt{3}}{2}$\n",
       "$z_3 = cos(\\pi) + i sin(\\pi) = -1$\n",
       "$z_4 = cos(\\frac{4\\pi}{3}) + i sin(\\frac{4\\pi}{3}) = -\\frac{1}{2} - i \\frac{\\sqrt{3}}{2}$\n",
       "$z_5 = cos(\\frac{5\\pi}{3}) + i sin(\\frac{5\\pi}{3}) = \\frac{1}{2} - i \\frac{\\sqrt{3}}{2}$\n"
      ],
      "text/plain": [
       "<IPython.core.display.Latex object>"
      ]
     },
     "metadata": {},
     "output_type": "display_data"
    },
    {
     "name": "stderr",
     "output_type": "stream",
     "text": [
      "Processing Questions:  33%|███▎      | 53/162 [03:45<09:22,  5.16s/it]"
     ]
    },
    {
     "data": {
      "text/latex": [
       "\n",
       "Để giải phương trình $z^6 + 64 = 0$, ta có thể viết lại phương trình như sau:\n",
       "$z^6 = -64$\n",
       "\n",
       "Chúng ta biểu diễn $-64$ dưới dạng lượng giác:\n",
       "$-64 = 64(\\cos(\\pi + k2\\pi) + i\\sin(\\pi + k2\\pi))$ với $k \\in \\mathbb{Z}$.\n",
       "\n",
       "Sử dụng công thức De Moivre để tìm các nghiệm $z$:\n",
       "$z = \\sqrt[6]{64} \\left( \\cos\\left(\\frac{\\pi + k2\\pi}{6}\\right) + i\\sin\\left(\\frac{\\pi + k2\\pi}{6}\\right) \\right)$, với $k = 0, 1, 2, 3, 4, 5$.\n",
       "Vì $\\sqrt[6]{64} = 2$, ta có:\n",
       "$z = 2 \\left( \\cos\\left(\\frac{\\pi + k2\\pi}{6}\\right) + i\\sin\\left(\\frac{\\pi + k2\\pi}{6}\\right) \\right)$\n",
       "\n",
       "Với $k = 0$:\n",
       "$z_0 = 2\\left(\\cos\\frac{\\pi}{6} + i\\sin\\frac{\\pi}{6}\\right) = 2\\left(\\frac{\\sqrt{3}}{2} + i\\frac{1}{2}\\right) = \\sqrt{3} + i$\n",
       "\n",
       "Với $k = 1$:\n",
       "$z_1 = 2\\left(\\cos\\frac{\\pi}{2} + i\\sin\\frac{\\pi}{2}\\right) = 2(0 + i) = 2i$\n",
       "\n",
       "Với $k = 2$:\n",
       "$z_2 = 2\\left(\\cos\\frac{5\\pi}{6} + i\\sin\\frac{5\\pi}{6}\\right) = 2\\left(-\\frac{\\sqrt{3}}{2} + i\\frac{1}{2}\\right) = -\\sqrt{3} + i$\n",
       "\n",
       "Với $k = 3$:\n",
       "$z_3 = 2\\left(\\cos\\frac{7\\pi}{6} + i\\sin\\frac{7\\pi}{6}\\right) = 2\\left(-\\frac{\\sqrt{3}}{2} - i\\frac{1}{2}\\right) = -\\sqrt{3} - i$\n",
       "\n",
       "Với $k = 4$:\n",
       "$z_4 = 2\\left(\\cos\\frac{3\\pi}{2} + i\\sin\\frac{3\\pi}{2}\\right) = 2(0 - i) = -2i$\n",
       "\n",
       "Với $k = 5$:\n",
       "$z_5 = 2\\left(\\cos\\frac{11\\pi}{6} + i\\sin\\frac{11\\pi}{6}\\right) = 2\\left(\\frac{\\sqrt{3}}{2} - i\\frac{1}{2}\\right) = \\sqrt{3} - i$\n",
       "\n",
       "Vậy các nghiệm của phương trình là: $\\sqrt{3} + i, 2i, -\\sqrt{3} + i, -\\sqrt{3} - i, -2i, \\sqrt{3} - i$.\n"
      ],
      "text/plain": [
       "<IPython.core.display.Latex object>"
      ]
     },
     "metadata": {},
     "output_type": "display_data"
    },
    {
     "name": "stderr",
     "output_type": "stream",
     "text": [
      "Processing Questions:  33%|███▎      | 54/162 [03:52<09:59,  5.55s/it]"
     ]
    },
    {
     "data": {
      "text/latex": [
       "\n",
       "Ta có $z = (1 + i\\sqrt{3})^n$. Để $z$ là số thực thì phần ảo của $z$ phải bằng 0.\n",
       "\n",
       "Đổi $1 + i\\sqrt{3}$ sang dạng lượng giác:\n",
       "$r = \\sqrt{1^2 + (\\sqrt{3})^2} = \\sqrt{1+3} = 2$\n",
       "$\\cos\\varphi = \\frac{1}{2}$\n",
       "$\\sin\\varphi = \\frac{\\sqrt{3}}{2}$\n",
       "$\\Rightarrow \\varphi = \\frac{\\pi}{3}$\n",
       "Vậy $1 + i\\sqrt{3} = 2(\\cos\\frac{\\pi}{3} + i\\sin\\frac{\\pi}{3})$\n",
       "\n",
       "Khi đó:\n",
       "$z = (1 + i\\sqrt{3})^n = [2(\\cos\\frac{\\pi}{3} + i\\sin\\frac{\\pi}{3})]^n = 2^n(\\cos\\frac{n\\pi}{3} + i\\sin\\frac{n\\pi}{3})$\n",
       "Để $z$ là số thực thì $\\sin\\frac{n\\pi}{3} = 0 \\Leftrightarrow \\frac{n\\pi}{3} = k\\pi$, $k \\in \\mathbb{Z}$\n",
       "$\\Leftrightarrow n = 3k$, $k \\in \\mathbb{Z}$\n",
       "\n",
       "Vì $n \\in [1; 10]$ và $n \\in \\mathbb{Z}^+$ nên $1 \\le n \\le 10$.\n",
       "$1 \\le 3k \\le 10 \\Leftrightarrow \\frac{1}{3} \\le k \\le \\frac{10}{3} = 3\\frac{1}{3}$\n",
       "Vì $k \\in \\mathbb{Z}$ nên $k \\in \\{1, 2, 3\\}$\n",
       "Vậy $n \\in \\{3, 6, 9\\}$.\n",
       "\n",
       "Số phần tử của tập $S$ là 3.\n",
       "\n"
      ],
      "text/plain": [
       "<IPython.core.display.Latex object>"
      ]
     },
     "metadata": {},
     "output_type": "display_data"
    },
    {
     "name": "stderr",
     "output_type": "stream",
     "text": [
      "Processing Questions:  34%|███▍      | 55/162 [03:56<09:06,  5.11s/it]"
     ]
    },
    {
     "data": {
      "text/latex": [
       "\n",
       "Gọi $z = re^{i\\theta}$, với $r \\ge 0$ và $\\theta \\in \\mathbb{R}$. Khi đó $\\overline{z} = re^{-i\\theta}$.\n",
       "Ta có $z^5 = r^5 e^{5i\\theta}$ và $\\frac{1}{\\overline{z}^2} = \\frac{1}{r^2 e^{-2i\\theta}} = \\frac{1}{r^2} e^{2i\\theta}$.\n",
       "Theo đề bài, $z^5$ và $\\frac{1}{\\overline{z}^2}$ là hai số phức liên hợp, nên\n",
       "$$ z^5 = \\overline{\\left( \\frac{1}{\\overline{z}^2} \\right)} = \\frac{1}{z^2} $$\n",
       "$$ z^7 = 1 $$\n",
       "Suy ra $r^7 e^{7i\\theta} = 1$. Do đó $r^7 = 1$ và $7\\theta = 2k\\pi$, với $k \\in \\mathbb{Z}$.\n",
       "Vậy $r = 1$ và $\\theta = \\frac{2k\\pi}{7}$, với $k = 0, 1, ..., 6$.\n",
       "Do đó $z = e^{\\frac{2k\\pi}{7}i}$, với $k = 0, 1, 2, 3, 4, 5, 6$.\n",
       "Vậy có 7 nghiệm:\n",
       "$$ z_k = \\cos\\left(\\frac{2k\\pi}{7}\\right) + i\\sin\\left(\\frac{2k\\pi}{7}\\right), \\quad k = 0, 1, ..., 6 $$\n",
       "\n",
       "Kiểm tra lại:\n",
       "Nếu $z^5 = \\overline{\\left( \\frac{1}{\\overline{z}^2} \\right)}$, thì\n",
       "$$ z^5 = \\frac{1}{z^2} $$\n",
       "$$ z^7 = 1 $$\n",
       "Nếu $z^7 = 1$, thì $z = e^{\\frac{2k\\pi}{7}i}$, $k = 0, 1, ..., 6$.\n",
       "Khi đó $z^5 = e^{\\frac{10k\\pi}{7}i}$ và $\\frac{1}{\\overline{z}^2} = \\frac{1}{e^{-\\frac{4k\\pi}{7}i}} = e^{\\frac{4k\\pi}{7}i}$.\n",
       "$\\overline{\\left(\\frac{1}{\\overline{z}^2}\\right)} = e^{-\\frac{4k\\pi}{7}i}$.\n",
       "Ta cần $z^5 = \\overline{\\left(\\frac{1}{\\overline{z}^2}\\right)}$, tức là\n",
       "$$ e^{\\frac{10k\\pi}{7}i} = e^{-\\frac{4k\\pi}{7}i} $$\n",
       "$$ e^{\\frac{14k\\pi}{7}i} = 1 $$\n",
       "$$ e^{2k\\pi i} = 1 $$\n",
       "Điều này luôn đúng với mọi $k \\in \\mathbb{Z}$.\n",
       "\n"
      ],
      "text/plain": [
       "<IPython.core.display.Latex object>"
      ]
     },
     "metadata": {},
     "output_type": "display_data"
    },
    {
     "name": "stderr",
     "output_type": "stream",
     "text": [
      "Processing Questions:  35%|███▍      | 56/162 [04:03<09:50,  5.57s/it]"
     ]
    },
    {
     "data": {
      "text/latex": [
       "\n",
       "Ta xét khai triển nhị thức Newton:\n",
       "$(1+i)^n = C_n^0 + C_n^1 i + C_n^2 i^2 + C_n^3 i^3 + C_n^4 i^4 + C_n^5 i^5 + ...$\n",
       "$(1-i)^n = C_n^0 - C_n^1 i + C_n^2 i^2 - C_n^3 i^3 + C_n^4 i^4 - C_n^5 i^5 + ...$\n",
       "\n",
       "Cộng hai đẳng thức trên, ta được:\n",
       "$(1+i)^n + (1-i)^n = 2(C_n^0 + C_n^2 i^2 + C_n^4 i^4 + C_n^6 i^6 + ...)$\n",
       "$(1+i)^n + (1-i)^n = 2(C_n^0 - C_n^2 + C_n^4 - C_n^6 + ...)$\n",
       "$(1+i)^n + (1-i)^n = 2S_1$\n",
       "$S_1 = \\frac{(1+i)^n + (1-i)^n}{2}$\n",
       "\n",
       "Ta có $1+i = \\sqrt{2}(\\cos(\\frac{\\pi}{4}) + i\\sin(\\frac{\\pi}{4})) = \\sqrt{2}e^{i\\frac{\\pi}{4}}$\n",
       "$1-i = \\sqrt{2}(\\cos(\\frac{-\\pi}{4}) + i\\sin(\\frac{-\\pi}{4})) = \\sqrt{2}e^{-i\\frac{\\pi}{4}}$\n",
       "\n",
       "$(1+i)^n = (\\sqrt{2})^n e^{i\\frac{n\\pi}{4}} = 2^{\\frac{n}{2}} (\\cos(\\frac{n\\pi}{4}) + i\\sin(\\frac{n\\pi}{4}))$\n",
       "$(1-i)^n = (\\sqrt{2})^n e^{-i\\frac{n\\pi}{4}} = 2^{\\frac{n}{2}} (\\cos(\\frac{-n\\pi}{4}) + i\\sin(\\frac{-n\\pi}{4})) = 2^{\\frac{n}{2}} (\\cos(\\frac{n\\pi}{4}) - i\\sin(\\frac{n\\pi}{4}))$\n",
       "\n",
       "$S_1 = \\frac{2^{\\frac{n}{2}} (\\cos(\\frac{n\\pi}{4}) + i\\sin(\\frac{n\\pi}{4})) + 2^{\\frac{n}{2}} (\\cos(\\frac{n\\pi}{4}) - i\\sin(\\frac{n\\pi}{4}))}{2}$\n",
       "$S_1 = \\frac{2^{\\frac{n}{2}} 2\\cos(\\frac{n\\pi}{4})}{2} = 2^{\\frac{n}{2}} \\cos(\\frac{n\\pi}{4}) = 2^{\\frac{n}{2}-1} \\cdot 2 \\cos(\\frac{n\\pi}{4})$\n",
       "$S_1 = 2^{\\frac{n}{2}}\\cos(\\frac{n\\pi}{4})$\n",
       "\n"
      ],
      "text/plain": [
       "<IPython.core.display.Latex object>"
      ]
     },
     "metadata": {},
     "output_type": "display_data"
    },
    {
     "name": "stderr",
     "output_type": "stream",
     "text": [
      "Processing Questions:  35%|███▌      | 57/162 [04:08<09:36,  5.49s/it]"
     ]
    },
    {
     "data": {
      "text/latex": [
       "\n",
       "Gọi $z = x + yi$, với $x, y \\in \\mathbb{R}$. Ta có:\n",
       "$|z - (1 + i)| = |z + 2i|$\n",
       "$\\Leftrightarrow |x + yi - (1 + i)| = |x + yi + 2i|$\n",
       "$\\Leftrightarrow |(x - 1) + (y - 1)i| = |x + (y + 2)i|$\n",
       "$\\Leftrightarrow \\sqrt{(x - 1)^2 + (y - 1)^2} = \\sqrt{x^2 + (y + 2)^2}$\n",
       "$\\Leftrightarrow (x - 1)^2 + (y - 1)^2 = x^2 + (y + 2)^2$\n",
       "$\\Leftrightarrow x^2 - 2x + 1 + y^2 - 2y + 1 = x^2 + y^2 + 4y + 4$\n",
       "$\\Leftrightarrow -2x - 2y + 2 = 4y + 4$\n",
       "$\\Leftrightarrow -2x - 6y - 2 = 0$\n",
       "$\\Leftrightarrow x + 3y + 1 = 0$\n",
       "$\\Leftrightarrow x + 3y = -1$\n",
       "\n",
       "Đây là phương trình đường thẳng.\n",
       "\n"
      ],
      "text/plain": [
       "<IPython.core.display.Latex object>"
      ]
     },
     "metadata": {},
     "output_type": "display_data"
    },
    {
     "name": "stderr",
     "output_type": "stream",
     "text": [
      "Processing Questions:  36%|███▌      | 58/162 [04:11<08:14,  4.75s/it]"
     ]
    },
    {
     "data": {
      "text/latex": [
       "\n",
       "Gọi $M(x; y)$ là điểm biểu diễn số phức $z = x + yi$ trên mặt phẳng phức. Ta có:\n",
       "\n",
       "$|z - 2i| = |z + 1|$\n",
       "\n",
       "$\\Leftrightarrow |x + (y-2)i| = |(x+1) + yi|$\n",
       "\n",
       "$\\Leftrightarrow \\sqrt{x^2 + (y-2)^2} = \\sqrt{(x+1)^2 + y^2}$\n",
       "\n",
       "$\\Leftrightarrow x^2 + (y-2)^2 = (x+1)^2 + y^2$\n",
       "\n",
       "$\\Leftrightarrow x^2 + y^2 - 4y + 4 = x^2 + 2x + 1 + y^2$\n",
       "\n",
       "$\\Leftrightarrow -4y + 4 = 2x + 1$\n",
       "\n",
       "$\\Leftrightarrow 2x + 4y - 3 = 0$\n",
       "\n",
       "Vậy, tập hợp các điểm $M$ biểu diễn số phức $z$ là đường thẳng có phương trình $2x + 4y - 3 = 0$.\n",
       "\n"
      ],
      "text/plain": [
       "<IPython.core.display.Latex object>"
      ]
     },
     "metadata": {},
     "output_type": "display_data"
    },
    {
     "name": "stderr",
     "output_type": "stream",
     "text": [
      "Processing Questions:  36%|███▋      | 59/162 [04:14<07:29,  4.36s/it]"
     ]
    },
    {
     "data": {
      "text/latex": [
       "\n",
       "Gọi $z = x + yi$, với $x, y \\in \\mathbb{R}$.\n",
       "Ta có $|z - 2 + 3i| = |z - 4i| \\Leftrightarrow |x + yi - 2 + 3i| = |x + yi - 4i|$\n",
       "$\\Leftrightarrow |(x - 2) + (y + 3)i| = |x + (y - 4)i|$\n",
       "$\\Leftrightarrow \\sqrt{(x - 2)^2 + (y + 3)^2} = \\sqrt{x^2 + (y - 4)^2}$\n",
       "$\\Leftrightarrow (x - 2)^2 + (y + 3)^2 = x^2 + (y - 4)^2$\n",
       "$\\Leftrightarrow x^2 - 4x + 4 + y^2 + 6y + 9 = x^2 + y^2 - 8y + 16$\n",
       "$\\Leftrightarrow -4x + 6y + 13 = -8y + 16$\n",
       "$\\Leftrightarrow -4x + 14y - 3 = 0$\n",
       "$\\Leftrightarrow 4x - 14y + 3 = 0$\n",
       "Vậy tập hợp các điểm biểu diễn số phức $z$ là đường thẳng $4x - 14y + 3 = 0$.\n",
       "\n"
      ],
      "text/plain": [
       "<IPython.core.display.Latex object>"
      ]
     },
     "metadata": {},
     "output_type": "display_data"
    },
    {
     "name": "stderr",
     "output_type": "stream",
     "text": [
      "Processing Questions:  37%|███▋      | 60/162 [04:18<07:01,  4.13s/it]"
     ]
    },
    {
     "data": {
      "text/latex": [
       "\n",
       "Gọi $z = x + yi$, với $x, y \\in \\mathbb{R}$.\n",
       "Ta có $|z - 2 + 5i| = 4 \\Leftrightarrow |(x - 2) + (y + 5)i| = 4$\n",
       "$\\Leftrightarrow \\sqrt{(x - 2)^2 + (y + 5)^2} = 4$\n",
       "$\\Leftrightarrow (x - 2)^2 + (y + 5)^2 = 16 = 4^2$\n",
       "\n",
       "Vậy tập hợp các điểm M biểu diễn số phức $z$ là đường tròn tâm $I(2, -5)$ và bán kính $R = 4$.\n",
       "\n"
      ],
      "text/plain": [
       "<IPython.core.display.Latex object>"
      ]
     },
     "metadata": {},
     "output_type": "display_data"
    },
    {
     "name": "stderr",
     "output_type": "stream",
     "text": [
      "Processing Questions:  38%|███▊      | 61/162 [04:20<05:54,  3.51s/it]"
     ]
    },
    {
     "data": {
      "text/latex": [
       "\n",
       "Đặt $z = x + yi$, với $x, y \\in \\mathbb{R}$.\n",
       "Theo giả thiết, $|z - 2| = 2$, suy ra $|x + yi - 2| = 2$, hay $|(x - 2) + yi| = 2$.\n",
       "Vậy $(x - 2)^2 + y^2 = 4$.\n",
       "\n",
       "Ta có $w = (1 - i)z + i = (1 - i)(x + yi) + i = x + yi - xi - yi^2 + i = x + yi - xi + y + i = (x + y) + (y - x + 1)i$.\n",
       "Đặt $w = u + vi$, với $u, v \\in \\mathbb{R}$.\n",
       "Khi đó $u = x + y$ và $v = y - x + 1$.\n",
       "Suy ra $x = \\frac{u - v + 1}{2}$ và $y = \\frac{u + v - 1}{2}$.\n",
       "\n",
       "Thay vào $(x - 2)^2 + y^2 = 4$, ta được:\n",
       "$(\\frac{u - v + 1}{2} - 2)^2 + (\\frac{u + v - 1}{2})^2 = 4$\n",
       "$(\\frac{u - v + 1 - 4}{2})^2 + (\\frac{u + v - 1}{2})^2 = 4$\n",
       "$(\\frac{u - v - 3}{2})^2 + (\\frac{u + v - 1}{2})^2 = 4$\n",
       "$(u - v - 3)^2 + (u + v - 1)^2 = 16$\n",
       "$(u - v)^2 - 6(u - v) + 9 + (u + v)^2 - 2(u + v) + 1 = 16$\n",
       "$u^2 - 2uv + v^2 - 6u + 6v + 9 + u^2 + 2uv + v^2 - 2u - 2v + 1 = 16$\n",
       "$2u^2 + 2v^2 - 8u + 4v + 10 = 16$\n",
       "$2u^2 + 2v^2 - 8u + 4v - 6 = 0$\n",
       "$u^2 + v^2 - 4u + 2v - 3 = 0$\n",
       "$(u^2 - 4u + 4) + (v^2 + 2v + 1) = 3 + 4 + 1$\n",
       "$(u - 2)^2 + (v + 1)^2 = 8$\n",
       "\n",
       "Vậy tập hợp các điểm biểu diễn số phức $w$ là một đường tròn có tâm $I(2; -1)$ và bán kính $r = \\sqrt{8} = 2\\sqrt{2}$.\n",
       "\n"
      ],
      "text/plain": [
       "<IPython.core.display.Latex object>"
      ]
     },
     "metadata": {},
     "output_type": "display_data"
    },
    {
     "name": "stderr",
     "output_type": "stream",
     "text": [
      "Processing Questions:  38%|███▊      | 62/162 [04:26<07:09,  4.30s/it]"
     ]
    },
    {
     "data": {
      "text/latex": [
       "\n",
       "Gọi $z = x + yi$, $w = u + vi$, với $x, y, u, v \\in \\mathbb{R}$.\n",
       "Ta có $|z - 1| = 2$, suy ra $|x + yi - 1| = 2$, hay $|(x-1) + yi| = 2$.\n",
       "Vậy $(x-1)^2 + y^2 = 4$. Đây là đường tròn tâm $I(1; 0)$, bán kính $R = 2$.\n",
       "\n",
       "Ta có $w = (1 + \\sqrt{3}i)z + 2 = (1 + \\sqrt{3}i)(x + yi) + 2 = x + yi + \\sqrt{3}xi - \\sqrt{3}y + 2 = (x - \\sqrt{3}y + 2) + (y + \\sqrt{3}x)i$.\n",
       "Suy ra $u = x - \\sqrt{3}y + 2$ và $v = y + \\sqrt{3}x$.\n",
       "Ta có $x = \\frac{\\sqrt{3}u + v - 2\\sqrt{3}}{4}$ và $y = \\frac{-\\sqrt{3}u + v + 2}{4}$.\n",
       "Thay vào $(x-1)^2 + y^2 = 4$, ta được:\n",
       "$(\\frac{\\sqrt{3}u + v - 2\\sqrt{3}}{4} - 1)^2 + (\\frac{-\\sqrt{3}u + v + 2}{4})^2 = 4$\n",
       "$(\\frac{\\sqrt{3}u + v - 2\\sqrt{3} - 4}{4})^2 + (\\frac{-\\sqrt{3}u + v + 2}{4})^2 = 4$\n",
       "$(\\sqrt{3}u + v - 2\\sqrt{3} - 4)^2 + (-\\sqrt{3}u + v + 2)^2 = 64$\n",
       "$(3u^2 + v^2 + 12 + 16\\sqrt{3} + 2\\sqrt{3}uv - 4\\sqrt{3}(2\\sqrt{3} + 4)u - 2(2\\sqrt{3} + 4)v) + (3u^2 + v^2 + 4 - 2\\sqrt{3}uv - 4(-\\sqrt{3}u) + 4v) = 64$\n",
       "$3u^2 + v^2 + 12 + 16\\sqrt{3} + 2\\sqrt{3}uv - (12 + 16\\sqrt{3})u - (4\\sqrt{3} + 8)v + 3u^2 + v^2 + 4 + 4\\sqrt{3}u + 4v - 2\\sqrt{3}uv = 64$\n",
       "$6u^2 + 2v^2 - (12 + 12\\sqrt{3})u - (4\\sqrt{3} + 4)v + 16 + 16\\sqrt{3} = 64$\n",
       "$6u^2 + 2v^2 - 12u - 12\\sqrt{3}u - 4\\sqrt{3}v - 4v - 48 + 16\\sqrt{3} = 0$\n",
       "$3u^2 + v^2 - 6u - 6\\sqrt{3}u - 2\\sqrt{3}v - 2v - 24 + 8\\sqrt{3} = 0$\n",
       "$|w - 2| = |(1 + \\sqrt{3}i)z| = |1 + \\sqrt{3}i||z| = 2|z|$\n",
       "$|w - 2| = |1 + \\sqrt{3}i||z| = \\sqrt{1^2 + (\\sqrt{3})^2}|z| = 2|z|$\n",
       "Ta có $|z - 1| = 2$, suy ra $z = 1 + 2e^{i\\theta}$, với $\\theta \\in [0, 2\\pi)$.\n",
       "$w = (1 + \\sqrt{3}i)(1 + 2e^{i\\theta}) + 2 = 1 + 2e^{i\\theta} + \\sqrt{3}i + 2\\sqrt{3}ie^{i\\theta} + 2 = 3 + \\sqrt{3}i + 2(1 + \\sqrt{3}i)e^{i\\theta}$.\n",
       "$|w - (3 + \\sqrt{3}i)| = |2(1 + \\sqrt{3}i)e^{i\\theta}| = 2|1 + \\sqrt{3}i||e^{i\\theta}| = 2 \\cdot 2 \\cdot 1 = 4$.\n",
       "Vậy tập hợp các điểm biểu diễn số phức $w$ là đường tròn tâm $I(3; \\sqrt{3})$ và bán kính $R = 4$.\n",
       "\n"
      ],
      "text/plain": [
       "<IPython.core.display.Latex object>"
      ]
     },
     "metadata": {},
     "output_type": "display_data"
    },
    {
     "name": "stderr",
     "output_type": "stream",
     "text": [
      "Processing Questions:  39%|███▉      | 63/162 [04:36<09:49,  5.96s/it]"
     ]
    },
    {
     "data": {
      "text/latex": [
       "AI failed to generate a solution"
      ],
      "text/plain": [
       "<IPython.core.display.Latex object>"
      ]
     },
     "metadata": {},
     "output_type": "display_data"
    },
    {
     "name": "stderr",
     "output_type": "stream",
     "text": [
      "Processing Questions:  40%|███▉      | 64/162 [04:51<14:13,  8.71s/it]"
     ]
    },
    {
     "data": {
      "text/latex": [
       "\n",
       "a) $\\int \\frac{2\\sin x}{1+3\\cos x} dx$\n",
       "Đặt $u = 1+3\\cos x \\Rightarrow du = -3\\sin x dx \\Rightarrow \\sin x dx = -\\frac{1}{3} du$\n",
       "$\\int \\frac{2\\sin x}{1+3\\cos x} dx = \\int \\frac{2}{u} (-\\frac{1}{3}) du = -\\frac{2}{3} \\int \\frac{1}{u} du = -\\frac{2}{3} \\ln |u| + C$\n",
       "$= -\\frac{2}{3} \\ln |1+3\\cos x| + C$\n",
       "\n",
       "b) $\\int \\frac{\\ln^{x-1}}{x\\ln x} dx$\n",
       "Ta hiểu đề bài là $\\int \\frac{(\\ln x)^{x-1}}{x\\ln x} dx$ hay $\\int \\frac{\\ln(x-1)}{x\\ln x} dx$ ?\n",
       "Nếu đề bài là $\\int \\frac{(\\ln x)^{x-1}}{x\\ln x} dx$ thì nguyên hàm này không có dạng sơ cấp.\n",
       "Nếu đề bài là $\\int \\frac{\\ln(x-1)}{x\\ln x} dx$ thì nguyên hàm này cũng không có dạng sơ cấp.\n",
       "\n",
       "Giả sử đề bài là $\\int \\frac{\\ln(x-1)}{x \\ln x}dx$, có lẽ là sai đề.\n",
       "\n",
       "Tuy nhiên nếu đề là  $\\int \\frac{(\\ln x)^{x-1}}{x} dx$ thì ta có thể viết lại thành $\\int \\frac{(\\ln x)^{x}}{\\ln x} \\frac{dx}{x}$.\n",
       "\n",
       "Xét $\\int \\frac{ln^{x-1}}{xlnx} dx = \\int \\frac{(lnx)^{x-1}}{xlnx}dx$. Đặt $u = \\ln x$, $du = \\frac{1}{x}dx$. Ta có $\\int \\frac{u^{x-1}}{u}du = \\int u^{x-2} du$\n",
       "\n",
       "Đặt $t = \\ln x$, $dt = \\frac{dx}{x}$,\n",
       "$\\int \\frac{(\\ln x)^{x-1}}{x \\ln x}dx = \\int \\frac{t^{x-1}}{t}dt = \\int t^{x-2}dt$\n",
       "\n",
       "Nếu đề bài là $\\int \\frac{1}{x\\ln x} dx$, đặt $u = \\ln x \\implies du = \\frac{1}{x}dx$\n",
       "$\\int \\frac{1}{x\\ln x} dx = \\int \\frac{1}{u} du = \\ln|u| + C = \\ln|\\ln x| + C$\n",
       "\n",
       "Nếu đề bài là $\\int \\frac{\\ln(x-1)}{x \\ln x}dx$ thì không giải được\n",
       "\n",
       "Vậy có lẽ đề bài là $\\int \\frac{1}{x\\ln x} dx$\n",
       "\n"
      ],
      "text/plain": [
       "<IPython.core.display.Latex object>"
      ]
     },
     "metadata": {},
     "output_type": "display_data"
    },
    {
     "name": "stderr",
     "output_type": "stream",
     "text": [
      "Processing Questions:  40%|████      | 65/162 [04:58<13:02,  8.07s/it]"
     ]
    },
    {
     "data": {
      "text/latex": [
       "\n",
       "a) Tính $\\int xe^{x^2} dx$\n",
       "\n",
       "Đặt $t = x^2$, suy ra $dt = 2x dx$, hay $xdx = \\frac{1}{2} dt$.\n",
       "Khi đó,\n",
       "$\\int xe^{x^2} dx = \\int e^t \\frac{1}{2} dt = \\frac{1}{2} \\int e^t dt = \\frac{1}{2} e^t + C = \\frac{1}{2} e^{x^2} + C$.\n",
       "\n",
       "b) Tính $\\int \\frac{e^{tanx}}{cos^2x} dx$\n",
       "\n",
       "Đặt $t = tanx$, suy ra $dt = \\frac{1}{cos^2x} dx$.\n",
       "Khi đó,\n",
       "$\\int \\frac{e^{tanx}}{cos^2x} dx = \\int e^t dt = e^t + C = e^{tanx} + C$.\n",
       "\n"
      ],
      "text/plain": [
       "<IPython.core.display.Latex object>"
      ]
     },
     "metadata": {},
     "output_type": "display_data"
    },
    {
     "name": "stderr",
     "output_type": "stream",
     "text": [
      "Processing Questions:  41%|████      | 66/162 [05:00<10:15,  6.41s/it]"
     ]
    },
    {
     "data": {
      "text/latex": [
       "\n",
       "Để tìm họ nguyên hàm của hàm số $f(x) = \\sqrt[3]{x} - 2$, ta thực hiện tích phân:\n",
       "$$\n",
       "\\int (\\sqrt[3]{x} - 2) dx\n",
       "$$\n",
       "\n",
       "Ta có:\n",
       "$$\n",
       "\\int (\\sqrt[3]{x} - 2) dx = \\int \\sqrt[3]{x} dx - \\int 2 dx\n",
       "$$\n",
       "\n",
       "Tính $\\int \\sqrt[3]{x} dx$:\n",
       "$$\n",
       "\\int \\sqrt[3]{x} dx = \\int x^{\\frac{1}{3}} dx = \\frac{x^{\\frac{1}{3}+1}}{\\frac{1}{3}+1} + C_1 = \\frac{x^{\\frac{4}{3}}}{\\frac{4}{3}} + C_1 = \\frac{3}{4} x^{\\frac{4}{3}} + C_1\n",
       "$$\n",
       "\n",
       "Tính $\\int 2 dx$:\n",
       "$$\n",
       "\\int 2 dx = 2x + C_2\n",
       "$$\n",
       "\n",
       "Vậy:\n",
       "$$\n",
       "\\int (\\sqrt[3]{x} - 2) dx = \\frac{3}{4} x^{\\frac{4}{3}} - 2x + C\n",
       "$$\n",
       "trong đó $C = C_1 - C_2$.\n",
       "\n"
      ],
      "text/plain": [
       "<IPython.core.display.Latex object>"
      ]
     },
     "metadata": {},
     "output_type": "display_data"
    },
    {
     "name": "stderr",
     "output_type": "stream",
     "text": [
      "Processing Questions:  41%|████▏     | 67/162 [05:04<08:50,  5.59s/it]"
     ]
    },
    {
     "data": {
      "text/latex": [
       "\n",
       "Để tìm họ nguyên hàm của hàm số $e^{\\sin^2 x} \\sin 2x$, ta thực hiện các bước sau:\n",
       "\n",
       "**Bước 1: Đặt ẩn phụ**\n",
       "\n",
       "Đặt $t = \\sin^2 x$. Khi đó, $dt = 2\\sin x \\cos x dx = \\sin 2x dx$.\n",
       "\n",
       "**Bước 2: Thay thế vào tích phân**\n",
       "\n",
       "Thay $t$ và $dt$ vào tích phân ban đầu, ta có:\n",
       "$$\\int e^{\\sin^2 x} \\sin 2x dx = \\int e^t dt$$\n",
       "\n",
       "**Bước 3: Tính tích phân đơn giản**\n",
       "\n",
       "Tích phân của $e^t$ là $e^t$.  Do đó,\n",
       "$$\\int e^t dt = e^t + C$$\n",
       "\n",
       "**Bước 4: Thay biến trở lại**\n",
       "\n",
       "Thay $t = \\sin^2 x$ trở lại, ta được:\n",
       "$$e^t + C = e^{\\sin^2 x} + C$$\n",
       "\n",
       "Vậy, họ nguyên hàm của hàm số $e^{\\sin^2 x} \\sin 2x$ là $e^{\\sin^2 x} + C$.\n",
       "\n"
      ],
      "text/plain": [
       "<IPython.core.display.Latex object>"
      ]
     },
     "metadata": {},
     "output_type": "display_data"
    },
    {
     "name": "stderr",
     "output_type": "stream",
     "text": [
      "Processing Questions:  42%|████▏     | 68/162 [05:08<07:53,  5.04s/it]"
     ]
    },
    {
     "data": {
      "text/latex": [
       "\n",
       "Để tìm họ nguyên hàm của hàm số $f(x) = \\frac{x}{(2x+1)^3}$, ta sử dụng phương pháp đổi biến.\n",
       "\n",
       "Đặt $t = 2x + 1$, suy ra $x = \\frac{t-1}{2}$ và $dx = \\frac{1}{2} dt$.\n",
       "Khi đó, ta có:\n",
       "$$\n",
       "\\int \\frac{x}{(2x+1)^3} dx = \\int \\frac{\\frac{t-1}{2}}{t^3} \\cdot \\frac{1}{2} dt = \\frac{1}{4} \\int \\frac{t-1}{t^3} dt = \\frac{1}{4} \\int \\left( \\frac{t}{t^3} - \\frac{1}{t^3} \\right) dt\n",
       "$$\n",
       "$$\n",
       "= \\frac{1}{4} \\int \\left( \\frac{1}{t^2} - \\frac{1}{t^3} \\right) dt = \\frac{1}{4} \\int (t^{-2} - t^{-3}) dt = \\frac{1}{4} \\left( \\frac{t^{-1}}{-1} - \\frac{t^{-2}}{-2} \\right) + C\n",
       "$$\n",
       "$$\n",
       "= \\frac{1}{4} \\left( -\\frac{1}{t} + \\frac{1}{2t^2} \\right) + C = \\frac{1}{4} \\left( \\frac{-2t + 1}{2t^2} \\right) + C = \\frac{-2t+1}{8t^2} + C\n",
       "$$\n",
       "Thay $t = 2x+1$ vào, ta được:\n",
       "$$\n",
       "\\frac{-2(2x+1)+1}{8(2x+1)^2} + C = \\frac{-4x-2+1}{8(2x+1)^2} + C = \\frac{-4x-1}{8(2x+1)^2} + C\n",
       "$$\n",
       "Vậy họ nguyên hàm của hàm số là $\\frac{-4x-1}{8(2x+1)^2} + C$.\n",
       "\n"
      ],
      "text/plain": [
       "<IPython.core.display.Latex object>"
      ]
     },
     "metadata": {},
     "output_type": "display_data"
    },
    {
     "name": "stderr",
     "output_type": "stream",
     "text": [
      "Processing Questions:  43%|████▎     | 69/162 [05:13<07:47,  5.02s/it]"
     ]
    },
    {
     "data": {
      "text/latex": [
       "\n",
       "Đặt $t = 1 - x^3$, suy ra $x^3 = 1 - t$ và $dt = -3x^2 dx$. Ta có $x^5 dx = x^3 \\cdot x^2 dx = (1 - t) \\cdot \\frac{-1}{3} dt$.\n",
       "Vậy\n",
       "\\begin{align*} \\label{eq:1} \\int x^5 (1 - x^3)^6 dx &= \\int x^3 (1 - x^3)^6 x^2 dx \\\\ &= \\int (1 - t) t^6 \\frac{-1}{3} dt \\\\ &= -\\frac{1}{3} \\int (t^6 - t^7) dt \\\\ &= -\\frac{1}{3} \\left( \\frac{t^7}{7} - \\frac{t^8}{8} \\right) + C \\\\ &= -\\frac{1}{3} \\left( \\frac{(1 - x^3)^7}{7} - \\frac{(1 - x^3)^8}{8} \\right) + C \\\\ &= -\\frac{(1 - x^3)^7}{21} + \\frac{(1 - x^3)^8}{24} + C \\end{align*}\n"
      ],
      "text/plain": [
       "<IPython.core.display.Latex object>"
      ]
     },
     "metadata": {},
     "output_type": "display_data"
    },
    {
     "name": "stderr",
     "output_type": "stream",
     "text": [
      "Processing Questions:  43%|████▎     | 70/162 [05:16<07:07,  4.64s/it]"
     ]
    },
    {
     "data": {
      "text/latex": [
       "\n",
       "Đặt $t = 1 - x^2 \\Rightarrow dt = -2xdx \\Rightarrow xdx = -\\frac{1}{2}dt$.\n",
       "Khi đó, ta có:\n",
       "$$I = \\int x \\sqrt[4]{1-x^2}dx = \\int \\sqrt[4]{t} (-\\frac{1}{2})dt = -\\frac{1}{2} \\int t^{\\frac{1}{4}}dt$$\n",
       "$$ = -\\frac{1}{2} \\cdot \\frac{t^{\\frac{1}{4}+1}}{\\frac{1}{4}+1} + C = -\\frac{1}{2} \\cdot \\frac{t^{\\frac{5}{4}}}{\\frac{5}{4}} + C = -\\frac{1}{2} \\cdot \\frac{4}{5} t^{\\frac{5}{4}} + C$$\n",
       "$$ = -\\frac{2}{5} t^{\\frac{5}{4}} + C = -\\frac{2}{5} (1-x^2)^{\\frac{5}{4}} + C = -\\frac{2}{5} \\sqrt[4]{(1-x^2)^5} + C$$\n",
       "\n",
       "Vậy họ nguyên hàm của hàm số là $-\\frac{2}{5} \\sqrt[4]{(1-x^2)^5} + C$.\n"
      ],
      "text/plain": [
       "<IPython.core.display.Latex object>"
      ]
     },
     "metadata": {},
     "output_type": "display_data"
    },
    {
     "name": "stderr",
     "output_type": "stream",
     "text": [
      "Processing Questions:  44%|████▍     | 71/162 [05:20<06:40,  4.40s/it]"
     ]
    },
    {
     "data": {
      "text/latex": [
       "\n",
       "Để tìm họ nguyên hàm của hàm số $\\int \\frac{x\\ln(x^2+1)}{x^2+1} dx$, ta thực hiện các bước sau:\n",
       "\n",
       "1. **Đặt ẩn phụ:**\n",
       "Đặt $u = x^2 + 1$. Khi đó, $du = 2x dx$, suy ra $x dx = \\frac{1}{2} du$.\n",
       "\n",
       "2. **Thay thế vào tích phân:**\n",
       "Thay $u$ và $du$ vào tích phân ban đầu, ta có:\n",
       "$$\n",
       "\\int \\frac{x\\ln(x^2+1)}{x^2+1} dx = \\int \\frac{\\ln(u)}{u} \\cdot \\frac{1}{2} du = \\frac{1}{2} \\int \\frac{\\ln(u)}{u} du\n",
       "$$\n",
       "\n",
       "3. **Đặt ẩn phụ tiếp:**\n",
       "Đặt $v = \\ln(u)$. Khi đó, $dv = \\frac{1}{u} du$.\n",
       "\n",
       "4. **Thay thế vào tích phân:**\n",
       "Thay $v$ và $dv$ vào tích phân, ta có:\n",
       "$$\n",
       "\\frac{1}{2} \\int \\frac{\\ln(u)}{u} du = \\frac{1}{2} \\int v dv\n",
       "$$\n",
       "\n",
       "5. **Tính tích phân:**\n",
       "$$\n",
       "\\frac{1}{2} \\int v dv = \\frac{1}{2} \\cdot \\frac{v^2}{2} + C = \\frac{v^2}{4} + C\n",
       "$$\n",
       "\n",
       "6. **Thay biến ngược trở lại:**\n",
       "Thay $v = \\ln(u)$, ta có:\n",
       "$$\n",
       "\\frac{v^2}{4} + C = \\frac{(\\ln(u))^2}{4} + C\n",
       "$$\n",
       "Thay $u = x^2 + 1$, ta có:\n",
       "$$\n",
       "\\frac{(\\ln(x^2+1))^2}{4} + C\n",
       "$$\n",
       "\n",
       "Vậy họ nguyên hàm của hàm số là $\\frac{(\\ln(x^2+1))^2}{4} + C$.\n",
       "\n"
      ],
      "text/plain": [
       "<IPython.core.display.Latex object>"
      ]
     },
     "metadata": {},
     "output_type": "display_data"
    },
    {
     "name": "stderr",
     "output_type": "stream",
     "text": [
      "Processing Questions:  44%|████▍     | 72/162 [05:24<06:18,  4.20s/it]"
     ]
    },
    {
     "data": {
      "text/latex": [
       "\n",
       "Để tìm họ nguyên hàm của hàm số $\\int \\sin^4x \\cos x \\, dx$, ta sử dụng phương pháp đổi biến số.\n",
       "\n",
       "Đặt $u = \\sin x$. Khi đó, $du = \\cos x \\, dx$.\n",
       "\n",
       "Vậy, tích phân trở thành:\n",
       "$\\int u^4 \\, du$\n",
       "\n",
       "Nguyên hàm của $u^4$ là $\\frac{u^5}{5} + C$, với $C$ là hằng số tích phân.\n",
       "\n",
       "Thay $u = \\sin x$ trở lại, ta được:\n",
       "$\\frac{\\sin^5 x}{5} + C$\n",
       "\n",
       "Vậy, họ nguyên hàm của hàm số $\\sin^4 x \\cos x$ là $\\frac{\\sin^5 x}{5} + C$.\n",
       "\n"
      ],
      "text/plain": [
       "<IPython.core.display.Latex object>"
      ]
     },
     "metadata": {},
     "output_type": "display_data"
    },
    {
     "name": "stderr",
     "output_type": "stream",
     "text": [
      "Processing Questions:  45%|████▌     | 73/162 [05:27<05:44,  3.87s/it]"
     ]
    },
    {
     "data": {
      "text/latex": [
       "\n",
       "Ta cần tìm họ nguyên hàm của hàm số $f(x) = \\frac{x^3 - 1}{x^4 + x}$.\n",
       "\n",
       "**Bước 1: Phân tích biểu thức**\n",
       "\n",
       "Ta có thể phân tích mẫu số thành: $x^4 + x = x(x^3 + 1) = x(x+1)(x^2 - x + 1)$.\n",
       "Khi đó, biểu thức trở thành:\n",
       "$f(x) = \\frac{x^3 - 1}{x(x+1)(x^2 - x + 1)} = \\frac{(x-1)(x^2 + x + 1)}{x(x+1)(x^2 - x + 1)}$.\n",
       "\n",
       "**Bước 2: Phân tích thành phân thức đơn giản**\n",
       "\n",
       "Ta phân tích $f(x)$ thành các phân thức đơn giản bằng cách sử dụng phương pháp hệ số bất định:\n",
       "\n",
       "$\\frac{x^3 - 1}{x(x+1)(x^2 - x + 1)} = \\frac{A}{x} + \\frac{B}{x+1} + \\frac{Cx + D}{x^2 - x + 1}$\n",
       "\n",
       "Quy đồng mẫu số và khử mẫu:\n",
       "\n",
       "$x^3 - 1 = A(x+1)(x^2 - x + 1) + Bx(x^2 - x + 1) + (Cx+D)x(x+1)$\n",
       "$x^3 - 1 = A(x^3 + 1) + B(x^3 - x^2 + x) + (Cx+D)(x^2+x)$\n",
       "$x^3 - 1 = A(x^3 + 1) + B(x^3 - x^2 + x) + C(x^3+x^2) + D(x^2+x)$\n",
       "$x^3 - 1 = (A+B+C)x^3 + (-B+C+D)x^2 + (B+D)x + A$\n",
       "\n",
       "Đồng nhất hệ số:\n",
       "$\\begin{cases} A+B+C = 1 \\\\ -B+C+D = 0 \\\\ B+D = 0 \\\\ A = -1 \\end{cases}$\n",
       "\n",
       "Thay $A = -1$ vào phương trình đầu tiên:\n",
       "$B+C = 2$\n",
       "\n",
       "Thay $D = -B$ vào phương trình thứ hai:\n",
       "$-B + C - B = 0 \\Rightarrow C = 2B$\n",
       "\n",
       "Thay $C = 2B$ vào $B+C = 2$:\n",
       "$B+2B = 2 \\Rightarrow 3B = 2 \\Rightarrow B = \\frac{2}{3}$\n",
       "\n",
       "$C = 2B = \\frac{4}{3}$\n",
       "$D = -B = -\\frac{2}{3}$\n",
       "\n",
       "Vậy:\n",
       "$f(x) = \\frac{-1}{x} + \\frac{2/3}{x+1} + \\frac{(4/3)x - 2/3}{x^2 - x + 1}$\n",
       "\n",
       "**Bước 3: Tính nguyên hàm**\n",
       "\n",
       "$\\int f(x) dx = \\int \\left( \\frac{-1}{x} + \\frac{2/3}{x+1} + \\frac{(4/3)x - 2/3}{x^2 - x + 1} \\right) dx$\n",
       "$= -\\int \\frac{1}{x} dx + \\frac{2}{3} \\int \\frac{1}{x+1} dx + \\frac{2}{3} \\int \\frac{2x - 1}{x^2 - x + 1} dx$\n",
       "$= -\\ln|x| + \\frac{2}{3} \\ln|x+1| + \\frac{2}{3} \\ln|x^2 - x + 1| + C$\n",
       "$= \\ln\\left| \\frac{(x+1)^{2/3} (x^2-x+1)^{2/3}}{x} \\right| + C$\n",
       "$= \\ln\\left| \\frac{\\sqrt[3]{(x+1)^2 (x^2-x+1)^2}}{x} \\right| + C$\n",
       "\n"
      ],
      "text/plain": [
       "<IPython.core.display.Latex object>"
      ]
     },
     "metadata": {},
     "output_type": "display_data"
    },
    {
     "name": "stderr",
     "output_type": "stream",
     "text": [
      "Processing Questions:  46%|████▌     | 74/162 [05:36<07:59,  5.44s/it]"
     ]
    },
    {
     "data": {
      "text/latex": [
       "\n",
       "Đặt $t = \\sqrt{\\ln x} \\Rightarrow t^2 = \\ln x \\Rightarrow 2t dt = \\frac{dx}{x}$.\n",
       "Khi đó,\n",
       "$$I = \\int \\frac{\\ln^2 x}{x(1+\\sqrt{\\ln x})} dx = \\int \\frac{t^4}{1+t} 2t dt = 2\\int \\frac{t^5}{1+t} dt$$\n",
       "Ta có:\n",
       "$$\\frac{t^5}{1+t} = t^4 - t^3 + t^2 - t + 1 - \\frac{1}{1+t}$$\n",
       "Do đó,\n",
       "$$I = 2\\int \\left(t^4 - t^3 + t^2 - t + 1 - \\frac{1}{1+t}\\right) dt = 2\\left(\\frac{t^5}{5} - \\frac{t^4}{4} + \\frac{t^3}{3} - \\frac{t^2}{2} + t - \\ln|1+t|\\right) + C$$\n",
       "$$= \\frac{2}{5}t^5 - \\frac{1}{2}t^4 + \\frac{2}{3}t^3 - t^2 + 2t - 2\\ln|1+t| + C$$\n",
       "Thay $t = \\sqrt{\\ln x}$, ta được\n",
       "$$I = \\frac{2}{5}(\\ln x)^{5/2} - \\frac{1}{2}(\\ln x)^2 + \\frac{2}{3}(\\ln x)^{3/2} - \\ln x + 2\\sqrt{\\ln x} - 2\\ln|1+\\sqrt{\\ln x}| + C$$\n",
       "\n"
      ],
      "text/plain": [
       "<IPython.core.display.Latex object>"
      ]
     },
     "metadata": {},
     "output_type": "display_data"
    },
    {
     "name": "stderr",
     "output_type": "stream",
     "text": [
      "Processing Questions:  46%|████▋     | 75/162 [05:41<07:45,  5.35s/it]"
     ]
    },
    {
     "data": {
      "text/latex": [
       "\n",
       "Ta có:\n",
       "$\\frac{(x+1)^3}{x^2+2x-3} = \\frac{(x+1)^3}{(x+3)(x-1)}$\n",
       "Thực hiện phép chia đa thức:\n",
       "$(x+1)^3 = x^3 + 3x^2 + 3x + 1$\n",
       "$x^3 + 3x^2 + 3x + 1 = (x^2 + 2x - 3)(x+1) + 4x + 4 = (x^2 + 2x - 3)(x+1) + 4(x+1)$\n",
       "Vậy $\\frac{(x+1)^3}{x^2+2x-3} = x+1 + \\frac{4(x+1)}{x^2+2x-3} = x+1 + \\frac{4(x+1)}{(x+3)(x-1)}$\n",
       "Ta phân tích $\\frac{4(x+1)}{(x+3)(x-1)}$ thành dạng $\\frac{A}{x+3} + \\frac{B}{x-1}$\n",
       "$4(x+1) = A(x-1) + B(x+3)$\n",
       "Chọn $x = 1$, ta được $4(1+1) = B(1+3) \\Rightarrow 8 = 4B \\Rightarrow B = 2$\n",
       "Chọn $x = -3$, ta được $4(-3+1) = A(-3-1) \\Rightarrow -8 = -4A \\Rightarrow A = 2$\n",
       "Vậy $\\frac{4(x+1)}{(x+3)(x-1)} = \\frac{2}{x+3} + \\frac{2}{x-1}$\n",
       "$\\frac{(x+1)^3}{x^2+2x-3} = x+1 + \\frac{2}{x+3} + \\frac{2}{x-1}$\n",
       "$\\int \\frac{(x+1)^3}{x^2+2x-3} dx = \\int (x+1 + \\frac{2}{x+3} + \\frac{2}{x-1}) dx = \\int (x+1) dx + \\int \\frac{2}{x+3} dx + \\int \\frac{2}{x-1} dx$\n",
       "$= \\frac{x^2}{2} + x + 2\\ln|x+3| + 2\\ln|x-1| + C$\n",
       "$= \\frac{x^2}{2} + x + 2(\\ln|x+3| + \\ln|x-1|) + C$\n",
       "$= \\frac{x^2}{2} + x + 2\\ln|(x+3)(x-1)| + C$\n",
       "$= \\frac{x^2}{2} + x + 2\\ln|x^2+2x-3| + C$\n",
       "\n"
      ],
      "text/plain": [
       "<IPython.core.display.Latex object>"
      ]
     },
     "metadata": {},
     "output_type": "display_data"
    },
    {
     "name": "stderr",
     "output_type": "stream",
     "text": [
      "Processing Questions:  47%|████▋     | 76/162 [05:46<07:31,  5.25s/it]"
     ]
    },
    {
     "data": {
      "text/latex": [
       "\n",
       "**a) Tính $\\int x\\sin x dx$**\n",
       "\n",
       "Ta sử dụng phương pháp tích phân từng phần.\n",
       "Đặt $u = x$, $dv = \\sin x dx$.\n",
       "Khi đó, $du = dx$, $v = -\\cos x$.\n",
       "Áp dụng công thức tích phân từng phần $\\int u dv = uv - \\int v du$, ta có:\n",
       "$$ \\int x \\sin x dx = -x\\cos x - \\int (-\\cos x) dx $$\n",
       "$$ = -x\\cos x + \\int \\cos x dx $$\n",
       "$$ = -x\\cos x + \\sin x + C $$\n",
       "\n",
       "**b) Tính $\\int e^x \\sin x dx$**\n",
       "\n",
       "Ta sử dụng phương pháp tích phân từng phần hai lần.\n",
       "Đặt $I = \\int e^x \\sin x dx$.\n",
       "Lần 1: Đặt $u = \\sin x$, $dv = e^x dx$.\n",
       "Khi đó, $du = \\cos x dx$, $v = e^x$.\n",
       "$$ I = e^x \\sin x - \\int e^x \\cos x dx $$\n",
       "Lần 2: Đặt $J = \\int e^x \\cos x dx$. Đặt $u = \\cos x$, $dv = e^x dx$.\n",
       "Khi đó, $du = -\\sin x dx$, $v = e^x$.\n",
       "$$ J = e^x \\cos x - \\int e^x (-\\sin x) dx = e^x \\cos x + \\int e^x \\sin x dx = e^x \\cos x + I $$\n",
       "Thay $J$ vào biểu thức của $I$, ta có:\n",
       "$$ I = e^x \\sin x - (e^x \\cos x + I) $$\n",
       "$$ I = e^x \\sin x - e^x \\cos x - I $$\n",
       "$$ 2I = e^x \\sin x - e^x \\cos x $$\n",
       "$$ I = \\frac{1}{2} (e^x \\sin x - e^x \\cos x) + C $$\n",
       "$$ I = \\frac{1}{2} e^x (\\sin x - \\cos x) + C $$\n",
       "\n"
      ],
      "text/plain": [
       "<IPython.core.display.Latex object>"
      ]
     },
     "metadata": {},
     "output_type": "display_data"
    },
    {
     "name": "stderr",
     "output_type": "stream",
     "text": [
      "Processing Questions:  48%|████▊     | 77/162 [05:52<07:30,  5.30s/it]"
     ]
    },
    {
     "data": {
      "text/latex": [
       "\n",
       "a) Tính $\\int x \\cdot 2^x dx$\n",
       "\n",
       "Sử dụng phương pháp tích phân từng phần: $\\int u dv = uv - \\int v du$\n",
       "\n",
       "Đặt $u = x$, $dv = 2^x dx$\n",
       "Suy ra $du = dx$, $v = \\int 2^x dx = \\frac{2^x}{\\ln 2}$\n",
       "\n",
       "Vậy $\\int x \\cdot 2^x dx = x \\cdot \\frac{2^x}{\\ln 2} - \\int \\frac{2^x}{\\ln 2} dx = \\frac{x 2^x}{\\ln 2} - \\frac{1}{\\ln 2} \\int 2^x dx = \\frac{x 2^x}{\\ln 2} - \\frac{1}{\\ln 2} \\cdot \\frac{2^x}{\\ln 2} + C = \\frac{x 2^x}{\\ln 2} - \\frac{2^x}{(\\ln 2)^2} + C$\n",
       "\n",
       "b) Tính $\\int (x^2 - 1) e^x dx$\n",
       "\n",
       "Sử dụng phương pháp tích phân từng phần hai lần:\n",
       "Đặt $u = x^2 - 1$, $dv = e^x dx$\n",
       "Suy ra $du = 2x dx$, $v = e^x$\n",
       "\n",
       "$\\int (x^2 - 1) e^x dx = (x^2 - 1)e^x - \\int 2x e^x dx = (x^2 - 1)e^x - 2 \\int x e^x dx$\n",
       "\n",
       "Tính $\\int x e^x dx$ bằng tích phân từng phần:\n",
       "Đặt $u = x$, $dv = e^x dx$\n",
       "Suy ra $du = dx$, $v = e^x$\n",
       "$\\int x e^x dx = x e^x - \\int e^x dx = x e^x - e^x + C_1$\n",
       "\n",
       "Thay vào biểu thức ban đầu:\n",
       "$\\int (x^2 - 1) e^x dx = (x^2 - 1)e^x - 2(x e^x - e^x) + C = (x^2 - 1)e^x - 2x e^x + 2e^x + C = (x^2 - 2x + 1)e^x + C = (x-1)^2 e^x + C$\n"
      ],
      "text/plain": [
       "<IPython.core.display.Latex object>"
      ]
     },
     "metadata": {},
     "output_type": "display_data"
    },
    {
     "name": "stderr",
     "output_type": "stream",
     "text": [
      "Processing Questions:  48%|████▊     | 78/162 [05:58<07:38,  5.46s/it]"
     ]
    },
    {
     "data": {
      "text/latex": [
       "\n",
       "**a) Tính $\\int 2x\\ln(x-1) dx$**\n",
       "\n",
       "Sử dụng phương pháp tích phân từng phần:\n",
       "Đặt $u = \\ln(x-1)$ và $dv = 2x dx$.\n",
       "Khi đó, $du = \\frac{1}{x-1} dx$ và $v = x^2$.\n",
       "\n",
       "Áp dụng công thức tích phân từng phần $\\int u dv = uv - \\int v du$, ta có:\n",
       "$\\int 2x \\ln(x-1) dx = x^2 \\ln(x-1) - \\int x^2 \\frac{1}{x-1} dx = x^2 \\ln(x-1) - \\int \\frac{x^2}{x-1} dx$\n",
       "\n",
       "Để tính $\\int \\frac{x^2}{x-1} dx$, ta thực hiện phép chia đa thức:\n",
       "$x^2 = (x-1)(x+1) + 1$\n",
       "Suy ra $\\frac{x^2}{x-1} = x+1 + \\frac{1}{x-1}$\n",
       "Do đó, $\\int \\frac{x^2}{x-1} dx = \\int (x+1 + \\frac{1}{x-1}) dx = \\int x dx + \\int 1 dx + \\int \\frac{1}{x-1} dx = \\frac{x^2}{2} + x + \\ln|x-1| + C_1$\n",
       "\n",
       "Vậy, $\\int 2x \\ln(x-1) dx = x^2 \\ln(x-1) - (\\frac{x^2}{2} + x + \\ln|x-1|) + C = x^2 \\ln(x-1) - \\frac{x^2}{2} - x - \\ln|x-1| + C$\n",
       "$= (x^2 - 1)\\ln(x-1) - \\frac{x^2}{2} - x + C$\n",
       "\n",
       "**b) Tính $\\int \\frac{\\ln(1+x)}{x^2} dx$**\n",
       "\n",
       "Sử dụng phương pháp tích phân từng phần:\n",
       "Đặt $u = \\ln(1+x)$ và $dv = \\frac{1}{x^2} dx$.\n",
       "Khi đó, $du = \\frac{1}{1+x} dx$ và $v = -\\frac{1}{x}$.\n",
       "\n",
       "Áp dụng công thức tích phân từng phần $\\int u dv = uv - \\int v du$, ta có:\n",
       "$\\int \\frac{\\ln(1+x)}{x^2} dx = -\\frac{1}{x} \\ln(1+x) - \\int (-\\frac{1}{x}) \\frac{1}{1+x} dx = -\\frac{\\ln(1+x)}{x} + \\int \\frac{1}{x(1+x)} dx$\n",
       "\n",
       "Để tính $\\int \\frac{1}{x(1+x)} dx$, ta phân tích thành phân số đơn giản:\n",
       "$\\frac{1}{x(1+x)} = \\frac{A}{x} + \\frac{B}{1+x}$\n",
       "$1 = A(1+x) + Bx = A + (A+B)x$\n",
       "Suy ra $A = 1$ và $A+B = 0$ nên $B = -1$.\n",
       "Do đó, $\\frac{1}{x(1+x)} = \\frac{1}{x} - \\frac{1}{1+x}$\n",
       "$\\int \\frac{1}{x(1+x)} dx = \\int (\\frac{1}{x} - \\frac{1}{1+x}) dx = \\int \\frac{1}{x} dx - \\int \\frac{1}{1+x} dx = \\ln|x| - \\ln|1+x| + C_1 = \\ln|\\frac{x}{1+x}| + C_1$\n",
       "\n",
       "Vậy, $\\int \\frac{\\ln(1+x)}{x^2} dx = -\\frac{\\ln(1+x)}{x} + \\ln|\\frac{x}{1+x}| + C$\n",
       "$= -\\frac{\\ln(1+x)}{x} + \\ln|x| - \\ln|1+x| + C$\n"
      ],
      "text/plain": [
       "<IPython.core.display.Latex object>"
      ]
     },
     "metadata": {},
     "output_type": "display_data"
    },
    {
     "name": "stderr",
     "output_type": "stream",
     "text": [
      "Processing Questions:  49%|████▉     | 79/162 [06:06<08:51,  6.40s/it]"
     ]
    },
    {
     "data": {
      "text/latex": [
       "\n",
       "Ta cần tìm họ nguyên hàm của hàm số $f(x) = (1-x)\\cos x$. Ta sẽ sử dụng phương pháp tích phân từng phần.\n",
       "Đặt $u = 1-x$ và $dv = \\cos x dx$. Khi đó, ta có $du = -dx$ và $v = \\int \\cos x dx = \\sin x$.\n",
       "\n",
       "Áp dụng công thức tích phân từng phần $\\int u dv = uv - \\int v du$, ta có:\n",
       "$$ \\int (1-x)\\cos x dx = (1-x)\\sin x - \\int \\sin x (-dx) = (1-x)\\sin x + \\int \\sin x dx$$\n",
       "$$ = (1-x)\\sin x - \\cos x + C = \\sin x - x\\sin x - \\cos x + C$$\n",
       "\n",
       "Vậy, họ nguyên hàm của hàm số $f(x) = (1-x)\\cos x$ là $\\sin x - x\\sin x - \\cos x + C$.\n",
       "\n"
      ],
      "text/plain": [
       "<IPython.core.display.Latex object>"
      ]
     },
     "metadata": {},
     "output_type": "display_data"
    },
    {
     "name": "stderr",
     "output_type": "stream",
     "text": [
      "Processing Questions:  49%|████▉     | 80/162 [06:10<07:33,  5.53s/it]"
     ]
    },
    {
     "data": {
      "text/latex": [
       "\n",
       "Để tìm họ nguyên hàm của hàm số $f(x) = x\\sin(2x)$, ta sử dụng phương pháp tích phân từng phần.\n",
       "Đặt:\n",
       "$u = x$ $\\Rightarrow$ $du = dx$\n",
       "$dv = \\sin(2x)dx$ $\\Rightarrow$ $v = \\int \\sin(2x)dx = -\\frac{1}{2}\\cos(2x)$\n",
       "\n",
       "Áp dụng công thức tích phân từng phần: $\\int udv = uv - \\int vdu$, ta có:\n",
       "$\\int x\\sin(2x)dx = x\\left(-\\frac{1}{2}\\cos(2x)\\right) - \\int \\left(-\\frac{1}{2}\\cos(2x)\\right)dx$\n",
       "$= -\\frac{1}{2}x\\cos(2x) + \\frac{1}{2}\\int \\cos(2x)dx$\n",
       "$= -\\frac{1}{2}x\\cos(2x) + \\frac{1}{2} \\cdot \\frac{1}{2}\\sin(2x) + C$\n",
       "$= -\\frac{1}{2}x\\cos(2x) + \\frac{1}{4}\\sin(2x) + C$\n",
       "\n",
       "Vậy, họ nguyên hàm của hàm số $x\\sin(2x)$ là $-\\frac{1}{2}x\\cos(2x) + \\frac{1}{4}\\sin(2x) + C$.\n",
       "\n"
      ],
      "text/plain": [
       "<IPython.core.display.Latex object>"
      ]
     },
     "metadata": {},
     "output_type": "display_data"
    },
    {
     "name": "stderr",
     "output_type": "stream",
     "text": [
      "Processing Questions:  50%|█████     | 81/162 [06:14<06:52,  5.10s/it]"
     ]
    },
    {
     "data": {
      "text/latex": [
       "\n",
       "Ta sẽ tìm họ nguyên hàm của hàm số $x^2\\cos x$ bằng phương pháp tích phân từng phần.\n",
       "\n",
       "Đặt $u = x^2$ và $dv = \\cos x dx$. Suy ra $du = 2x dx$ và $v = \\sin x$.\n",
       "Khi đó:\n",
       "$\\int x^2\\cos x dx = x^2\\sin x - \\int 2x\\sin x dx = x^2\\sin x - 2\\int x\\sin x dx$\n",
       "\n",
       "Tiếp tục tính $\\int x\\sin x dx$ bằng phương pháp tích phân từng phần.\n",
       "Đặt $u = x$ và $dv = \\sin x dx$. Suy ra $du = dx$ và $v = -\\cos x$.\n",
       "Khi đó:\n",
       "$\\int x\\sin x dx = -x\\cos x - \\int (-\\cos x) dx = -x\\cos x + \\int \\cos x dx = -x\\cos x + \\sin x + C_1$\n",
       "\n",
       "Thay vào biểu thức ban đầu, ta có:\n",
       "$\\int x^2\\cos x dx = x^2\\sin x - 2(-x\\cos x + \\sin x) + C$\n",
       "$= x^2\\sin x + 2x\\cos x - 2\\sin x + C$\n",
       "$= (x^2 - 2)\\sin x + 2x\\cos x + C$\n",
       "\n",
       "Vậy, họ nguyên hàm của hàm số $x^2\\cos x$ là $(x^2 - 2)\\sin x + 2x\\cos x + C$.\n",
       "\n"
      ],
      "text/plain": [
       "<IPython.core.display.Latex object>"
      ]
     },
     "metadata": {},
     "output_type": "display_data"
    },
    {
     "name": "stderr",
     "output_type": "stream",
     "text": [
      "Processing Questions:  51%|█████     | 82/162 [06:18<06:31,  4.89s/it]"
     ]
    },
    {
     "data": {
      "text/latex": [
       "\n",
       "Để tìm họ nguyên hàm của hàm số $f(x) = \\ln x$, ta sử dụng phương pháp tích phân từng phần.\n",
       "\n",
       "Đặt $u = \\ln x$ và $dv = dx$. Khi đó:\n",
       "\n",
       "*   $du = \\frac{1}{x} dx$\n",
       "*   $v = x$\n",
       "\n",
       "Áp dụng công thức tích phân từng phần: $\\int u dv = uv - \\int v du$, ta có:\n",
       "\n",
       "$\\int \\ln x \\, dx = x \\ln x - \\int x \\cdot \\frac{1}{x} dx = x \\ln x - \\int 1 \\, dx = x \\ln x - x + C$\n",
       "\n",
       "Vậy, họ nguyên hàm của $\\ln x$ là $x \\ln x - x + C$, với $C$ là hằng số tích phân.\n",
       "\n"
      ],
      "text/plain": [
       "<IPython.core.display.Latex object>"
      ]
     },
     "metadata": {},
     "output_type": "display_data"
    },
    {
     "name": "stderr",
     "output_type": "stream",
     "text": [
      "Processing Questions:  51%|█████     | 83/162 [06:21<05:26,  4.13s/it]"
     ]
    },
    {
     "data": {
      "text/latex": [
       "\n",
       "Để tìm họ nguyên hàm của hàm số $\\int \\frac{\\ln(\\ln x)}{x} dx$, ta sử dụng phương pháp đổi biến.\n",
       "\n",
       "Đặt $t = \\ln x$, suy ra $dt = \\frac{1}{x} dx$.\n",
       "Khi đó, tích phân trở thành:\n",
       "$\\int \\frac{\\ln(\\ln x)}{x} dx = \\int \\ln(\\ln x) \\cdot \\frac{1}{x} dx = \\int \\ln(t) dt$\n",
       "\n",
       "Tiếp theo, ta tính $\\int \\ln t dt$ bằng phương pháp tích phân từng phần.\n",
       "Đặt $u = \\ln t$, $dv = dt$.\n",
       "Suy ra $du = \\frac{1}{t} dt$, $v = t$.\n",
       "Áp dụng công thức tích phân từng phần $\\int u dv = uv - \\int v du$, ta có:\n",
       "$\\int \\ln t dt = t \\ln t - \\int t \\cdot \\frac{1}{t} dt = t \\ln t - \\int dt = t \\ln t - t + C$\n",
       "\n",
       "Thay $t = \\ln x$ vào, ta được:\n",
       "$\\int \\frac{\\ln(\\ln x)}{x} dx = (\\ln x) \\ln (\\ln x) - \\ln x + C$\n",
       "\n",
       "Vậy, họ nguyên hàm của hàm số $\\frac{\\ln(\\ln x)}{x}$ là $(\\ln x) \\ln (\\ln x) - \\ln x + C$.\n",
       "\n"
      ],
      "text/plain": [
       "<IPython.core.display.Latex object>"
      ]
     },
     "metadata": {},
     "output_type": "display_data"
    },
    {
     "name": "stderr",
     "output_type": "stream",
     "text": [
      "Processing Questions:  52%|█████▏    | 84/162 [06:24<05:02,  3.87s/it]"
     ]
    },
    {
     "data": {
      "text/latex": [
       "\n",
       "Để tìm họ nguyên hàm của hàm số $\\int (x+2) e^{2x} dx$, ta sử dụng phương pháp tích phân từng phần.\n",
       "\n",
       "Đặt $u = x+2$ và $dv = e^{2x} dx$. Khi đó, ta có:\n",
       "$du = dx$ và $v = \\int e^{2x} dx = \\frac{1}{2} e^{2x}$.\n",
       "\n",
       "Áp dụng công thức tích phân từng phần $\\int u dv = uv - \\int v du$, ta được:\n",
       "$\\int (x+2) e^{2x} dx = (x+2) \\cdot \\frac{1}{2} e^{2x} - \\int \\frac{1}{2} e^{2x} dx$\n",
       "$= \\frac{1}{2} (x+2) e^{2x} - \\frac{1}{2} \\int e^{2x} dx$\n",
       "$= \\frac{1}{2} (x+2) e^{2x} - \\frac{1}{2} \\cdot \\frac{1}{2} e^{2x} + C$\n",
       "$= \\frac{1}{2} (x+2) e^{2x} - \\frac{1}{4} e^{2x} + C$\n",
       "$= \\frac{1}{2} xe^{2x} + e^{2x} - \\frac{1}{4} e^{2x} + C$\n",
       "$= \\frac{1}{2} xe^{2x} + \\frac{3}{4} e^{2x} + C$\n",
       "$= e^{2x} \\left( \\frac{1}{2}x + \\frac{3}{4} \\right) + C$\n",
       "$= \\frac{1}{4} e^{2x} (2x + 3) + C$\n",
       "\n",
       "Vậy, họ nguyên hàm của hàm số là $\\frac{1}{4} e^{2x} (2x + 3) + C$.\n",
       "\n"
      ],
      "text/plain": [
       "<IPython.core.display.Latex object>"
      ]
     },
     "metadata": {},
     "output_type": "display_data"
    },
    {
     "name": "stderr",
     "output_type": "stream",
     "text": [
      "Processing Questions:  52%|█████▏    | 85/162 [06:28<04:58,  3.88s/it]"
     ]
    },
    {
     "data": {
      "text/latex": [
       "\n",
       "Để tìm họ nguyên hàm của hàm số $\\int (4x-1)\\ln(x+1) dx$, ta sử dụng phương pháp tích phân từng phần.\n",
       "\n",
       "Đặt:\n",
       "$u = \\ln(x+1) \\Rightarrow du = \\frac{1}{x+1} dx$\n",
       "$dv = (4x-1) dx \\Rightarrow v = \\int (4x-1) dx = 2x^2 - x$\n",
       "\n",
       "Khi đó, ta có:\n",
       "$\\int (4x-1)\\ln(x+1) dx = uv - \\int v du = (2x^2-x)\\ln(x+1) - \\int (2x^2-x) \\frac{1}{x+1} dx$\n",
       "Xét tích phân $\\int \\frac{2x^2-x}{x+1} dx$. Ta thực hiện phép chia đa thức:\n",
       "$2x^2 - x = (2x-3)(x+1) + 3$\n",
       "Vậy, $\\frac{2x^2-x}{x+1} = 2x-3 + \\frac{3}{x+1}$\n",
       "Do đó, $\\int \\frac{2x^2-x}{x+1} dx = \\int (2x-3+\\frac{3}{x+1}) dx = x^2 - 3x + 3\\ln|x+1| + C_1$\n",
       "\n",
       "Thay vào biểu thức ban đầu, ta có:\n",
       "$\\int (4x-1)\\ln(x+1) dx = (2x^2-x)\\ln(x+1) - (x^2-3x+3\\ln|x+1|) + C$\n",
       "$= (2x^2-x)\\ln(x+1) - x^2 + 3x - 3\\ln(x+1) + C$\n",
       "$= (2x^2-x-3)\\ln(x+1) - x^2 + 3x + C$\n",
       "$= (2x^2-x-3)\\ln(x+1) - x^2 + 3x + C$\n"
      ],
      "text/plain": [
       "<IPython.core.display.Latex object>"
      ]
     },
     "metadata": {},
     "output_type": "display_data"
    },
    {
     "name": "stderr",
     "output_type": "stream",
     "text": [
      "Processing Questions:  53%|█████▎    | 86/162 [06:32<05:11,  4.10s/it]"
     ]
    },
    {
     "data": {
      "text/latex": [
       "\n",
       "Để tìm họ nguyên hàm của hàm số $x^2 \\sin(1-3x)$, ta sử dụng phương pháp tích phân từng phần.\n",
       "\n",
       "Đặt $u = x^2$ và $dv = \\sin(1-3x)dx$. Khi đó, ta có $du = 2xdx$ và $v = \\int \\sin(1-3x)dx = \\frac{1}{3}\\cos(1-3x)$.\n",
       "\n",
       "Áp dụng công thức tích phân từng phần $\\int udv = uv - \\int vdu$, ta có:\n",
       "\n",
       "$\\int x^2 \\sin(1-3x) dx = x^2 \\cdot \\frac{1}{3}\\cos(1-3x) - \\int \\frac{1}{3}\\cos(1-3x) \\cdot 2xdx = \\frac{1}{3}x^2 \\cos(1-3x) - \\frac{2}{3} \\int x\\cos(1-3x) dx$.\n",
       "\n",
       "Tiếp tục tích phân từng phần cho $\\int x\\cos(1-3x) dx$. Đặt $u = x$ và $dv = \\cos(1-3x)dx$. Khi đó, ta có $du = dx$ và $v = \\int \\cos(1-3x)dx = -\\frac{1}{3}\\sin(1-3x)$.\n",
       "\n",
       "Vậy $\\int x\\cos(1-3x) dx = x(-\\frac{1}{3}\\sin(1-3x)) - \\int (-\\frac{1}{3}\\sin(1-3x)) dx = -\\frac{1}{3}x\\sin(1-3x) + \\frac{1}{3} \\int \\sin(1-3x) dx = -\\frac{1}{3}x\\sin(1-3x) + \\frac{1}{3} (-\\frac{1}{3}\\cos(1-3x)) = -\\frac{1}{3}x\\sin(1-3x) - \\frac{1}{9}\\cos(1-3x)$.\n",
       "\n",
       "Thay vào biểu thức ban đầu:\n",
       "$\\int x^2 \\sin(1-3x) dx = \\frac{1}{3}x^2 \\cos(1-3x) - \\frac{2}{3} \\left( -\\frac{1}{3}x\\sin(1-3x) - \\frac{1}{9}\\cos(1-3x) \\right) + C$\n",
       "$= \\frac{1}{3}x^2 \\cos(1-3x) + \\frac{2}{9}x\\sin(1-3x) + \\frac{2}{27}\\cos(1-3x) + C$\n",
       "$= \\frac{1}{3}x^2 \\cos(1-3x) + \\frac{2}{9}x\\sin(1-3x) + \\frac{2}{27}\\cos(1-3x) + C$\n"
      ],
      "text/plain": [
       "<IPython.core.display.Latex object>"
      ]
     },
     "metadata": {},
     "output_type": "display_data"
    },
    {
     "name": "stderr",
     "output_type": "stream",
     "text": [
      "Processing Questions:  54%|█████▎    | 87/162 [06:38<05:34,  4.46s/it]"
     ]
    },
    {
     "data": {
      "text/latex": [
       "\n",
       "Ta tìm nguyên hàm $F(x)$ của hàm số $f(x) = \\frac{1}{x^2 + x - 2}$.\n",
       "\n",
       "**Bước 1: Phân tích mẫu thức**\n",
       "\n",
       "Ta phân tích mẫu thức thành nhân tử:\n",
       "$x^2 + x - 2 = (x-1)(x+2)$\n",
       "\n",
       "**Bước 2: Phân tích thành phân thức đơn giản**\n",
       "\n",
       "Ta phân tích $f(x)$ thành tổng của các phân thức đơn giản:\n",
       "$\\frac{1}{x^2 + x - 2} = \\frac{1}{(x-1)(x+2)} = \\frac{A}{x-1} + \\frac{B}{x+2}$\n",
       "\n",
       "Quy đồng mẫu số và khử mẫu:\n",
       "$1 = A(x+2) + B(x-1)$\n",
       "\n",
       "Để tìm $A$ và $B$, ta có thể chọn các giá trị đặc biệt của $x$:\n",
       "*   $x = 1$: $1 = A(1+2) + B(1-1) \\Rightarrow 1 = 3A \\Rightarrow A = \\frac{1}{3}$\n",
       "*   $x = -2$: $1 = A(-2+2) + B(-2-1) \\Rightarrow 1 = -3B \\Rightarrow B = -\\frac{1}{3}$\n",
       "\n",
       "Vậy, $f(x) = \\frac{1}{3(x-1)} - \\frac{1}{3(x+2)}$\n",
       "\n",
       "**Bước 3: Tìm nguyên hàm**\n",
       "\n",
       "Ta tìm nguyên hàm của $f(x)$:\n",
       "$F(x) = \\int f(x) \\, dx = \\int \\left(\\frac{1}{3(x-1)} - \\frac{1}{3(x+2)}\\right) \\, dx$\n",
       "$F(x) = \\frac{1}{3} \\int \\frac{1}{x-1} \\, dx - \\frac{1}{3} \\int \\frac{1}{x+2} \\, dx$\n",
       "$F(x) = \\frac{1}{3} \\ln|x-1| - \\frac{1}{3} \\ln|x+2| + C$\n",
       "$F(x) = \\frac{1}{3} (\\ln|x-1| - \\ln|x+2|) + C$\n",
       "$F(x) = \\frac{1}{3} \\ln\\left|\\frac{x-1}{x+2}\\right| + C$\n",
       "\n"
      ],
      "text/plain": [
       "<IPython.core.display.Latex object>"
      ]
     },
     "metadata": {},
     "output_type": "display_data"
    },
    {
     "name": "stderr",
     "output_type": "stream",
     "text": [
      "Processing Questions:  54%|█████▍    | 88/162 [06:42<05:35,  4.54s/it]"
     ]
    },
    {
     "data": {
      "text/latex": [
       "\n",
       "Để tìm nguyên hàm $F(x)$ của hàm số $f(x) = \\frac{x^3 - 1}{x+1}$, ta thực hiện các bước sau:\n",
       "\n",
       "1. **Phân tích biểu thức:**\n",
       "Ta có thể phân tích tử số $x^3 - 1$ thành $(x-1)(x^2 + x + 1)$. Tuy nhiên, để đơn giản hóa việc tính toán, ta thực hiện phép chia đa thức:\n",
       "\n",
       "$\\frac{x^3 - 1}{x+1} = \\frac{x^3 + 1 - 2}{x+1} = \\frac{(x+1)(x^2 - x + 1) - 2}{x+1} = x^2 - x + 1 - \\frac{2}{x+1}$.\n",
       "\n",
       "2. **Tính nguyên hàm:**\n",
       "Ta có:\n",
       "$I = \\int \\frac{x^3 - 1}{x+1} dx = \\int \\left(x^2 - x + 1 - \\frac{2}{x+1}\\right) dx$.\n",
       "\n",
       "Áp dụng tính chất tuyến tính của tích phân, ta có:\n",
       "$I = \\int x^2 dx - \\int x dx + \\int 1 dx - \\int \\frac{2}{x+1} dx$.\n",
       "\n",
       "Tính từng nguyên hàm:\n",
       "*   $\\int x^2 dx = \\frac{x^3}{3} + C_1$\n",
       "*   $\\int x dx = \\frac{x^2}{2} + C_2$\n",
       "*   $\\int 1 dx = x + C_3$\n",
       "*   $\\int \\frac{2}{x+1} dx = 2 \\int \\frac{1}{x+1} dx = 2 \\ln|x+1| + C_4$\n",
       "\n",
       "Vậy:\n",
       "$I = \\frac{x^3}{3} - \\frac{x^2}{2} + x - 2 \\ln|x+1| + C$, với $C = C_1 - C_2 + C_3 - C_4$.\n",
       "\n",
       "3. **Kết luận:**\n",
       "Nguyên hàm của hàm số là:\n",
       "$F(x) = \\frac{x^3}{3} - \\frac{x^2}{2} + x - 2 \\ln|x+1| + C$\n"
      ],
      "text/plain": [
       "<IPython.core.display.Latex object>"
      ]
     },
     "metadata": {},
     "output_type": "display_data"
    },
    {
     "name": "stderr",
     "output_type": "stream",
     "text": [
      "Processing Questions:  55%|█████▍    | 89/162 [06:48<05:50,  4.81s/it]"
     ]
    },
    {
     "data": {
      "text/latex": [
       "\n",
       "Để tìm nguyên hàm của hàm số $f(x) = \\frac{1}{x^2 - 6x + 10}$, ta thực hiện các bước sau:\n",
       "\n",
       "1. **Biến đổi mẫu thức:**\n",
       "\n",
       "Ta biến đổi mẫu thức thành dạng $(x - a)^2 + b^2$ bằng cách hoàn thành bình phương:\n",
       "$x^2 - 6x + 10 = (x^2 - 6x + 9) + 1 = (x - 3)^2 + 1$\n",
       "\n",
       "2. **Thay đổi biến số:**\n",
       "\n",
       "Đặt $u = x - 3$, suy ra $du = dx$.  Khi đó:\n",
       "$f(x) = \\frac{1}{(x - 3)^2 + 1} = \\frac{1}{u^2 + 1}$\n",
       "\n",
       "3. **Tìm nguyên hàm:**\n",
       "\n",
       "Ta có:\n",
       "$F(x) = \\int f(x) dx = \\int \\frac{1}{u^2 + 1} du = \\arctan(u) + C$\n",
       "\n",
       "4. **Thay biến số trở lại:**\n",
       "\n",
       "Thay $u = x - 3$ vào, ta được:\n",
       "$F(x) = \\arctan(x - 3) + C$\n",
       "\n",
       "Vậy, nguyên hàm của $f(x)$ là $F(x) = \\arctan(x - 3) + C$, với C là hằng số tích phân.\n",
       "\n"
      ],
      "text/plain": [
       "<IPython.core.display.Latex object>"
      ]
     },
     "metadata": {},
     "output_type": "display_data"
    },
    {
     "name": "stderr",
     "output_type": "stream",
     "text": [
      "Processing Questions:  56%|█████▌    | 90/162 [06:51<05:10,  4.32s/it]"
     ]
    },
    {
     "data": {
      "text/latex": [
       "\n",
       "Ta cần tìm nguyên hàm $F(x)$ của hàm số $f(x) = \\frac{x+1}{x-1}$.\n",
       "\n",
       "**Bước 1: Biến đổi hàm số**\n",
       "\n",
       "Ta có thể viết lại $f(x)$ như sau:\n",
       "$f(x) = \\frac{x+1}{x-1} = \\frac{x-1+2}{x-1} = \\frac{x-1}{x-1} + \\frac{2}{x-1} = 1 + \\frac{2}{x-1}$\n",
       "\n",
       "**Bước 2: Tính nguyên hàm**\n",
       "\n",
       "Khi đó, nguyên hàm của $f(x)$ là:\n",
       "$F(x) = \\int f(x) dx = \\int \\left(1 + \\frac{2}{x-1}\\right) dx = \\int 1 dx + \\int \\frac{2}{x-1} dx$\n",
       "$= x + 2\\int \\frac{1}{x-1} dx$\n",
       "\n",
       "Đặt $u = x-1$, suy ra $du = dx$.  Vậy,\n",
       "$\\int \\frac{1}{x-1} dx = \\int \\frac{1}{u} du = \\ln|u| + C_1 = \\ln|x-1| + C_1$\n",
       "\n",
       "Do đó,\n",
       "$F(x) = x + 2\\ln|x-1| + C$\n",
       "\n",
       "Vậy, nguyên hàm của $f(x) = \\frac{x+1}{x-1}$ là $F(x) = x + 2\\ln|x-1| + C$, với C là hằng số.\n",
       "\n"
      ],
      "text/plain": [
       "<IPython.core.display.Latex object>"
      ]
     },
     "metadata": {},
     "output_type": "display_data"
    },
    {
     "name": "stderr",
     "output_type": "stream",
     "text": [
      "Processing Questions:  56%|█████▌    | 91/162 [06:55<05:01,  4.25s/it]"
     ]
    },
    {
     "data": {
      "text/latex": [
       "\n",
       "Ta cần tính nguyên hàm:\n",
       "$F(x) = \\int \\frac{3x+3}{-x^2 - x + 2} dx$\n",
       "\n",
       "**Bước 1: Phân tích mẫu số**\n",
       "Phân tích mẫu số thành nhân tử:\n",
       "$-x^2 - x + 2 = -(x^2 + x - 2) = -(x-1)(x+2)$\n",
       "\n",
       "**Bước 2: Phân tích phân thức thành tổng các phân thức đơn giản**\n",
       "Ta có:\n",
       "$\\frac{3x+3}{-(x-1)(x+2)} = \\frac{A}{x-1} + \\frac{B}{x+2}$\n",
       "\n",
       "Quy đồng mẫu số:\n",
       "$3x+3 = -A(x+2) - B(x-1)$\n",
       "$3x+3 = -Ax - 2A - Bx + B$\n",
       "$3x+3 = (-A-B)x + (B-2A)$\n",
       "\n",
       "Đồng nhất hệ số:\n",
       "$\\begin{cases} -A-B = 3 \\\\ B-2A = 3 \\end{cases}$\n",
       "\n",
       "Giải hệ phương trình:\n",
       "Từ phương trình thứ nhất: $B = -A - 3$\n",
       "Thay vào phương trình thứ hai: $-A-3 - 2A = 3$\n",
       "$-3A = 6$\n",
       "$A = -2$\n",
       "\n",
       "Suy ra $B = -(-2) - 3 = 2-3 = -1$\n",
       "\n",
       "Vậy, $\\frac{3x+3}{-x^2 - x + 2} = \\frac{-2}{x-1} + \\frac{-1}{x+2} = -\\frac{2}{x-1} - \\frac{1}{x+2}$\n",
       "\n",
       "**Bước 3: Tính nguyên hàm**\n",
       "$F(x) = \\int \\left(-\\frac{2}{x-1} - \\frac{1}{x+2}\\right) dx = -2\\int \\frac{1}{x-1} dx - \\int \\frac{1}{x+2} dx$\n",
       "$F(x) = -2\\ln|x-1| - \\ln|x+2| + C$\n",
       "\n",
       "Vậy, $F(x) = -2\\ln|x-1| - \\ln|x+2| + C$\n"
      ],
      "text/plain": [
       "<IPython.core.display.Latex object>"
      ]
     },
     "metadata": {},
     "output_type": "display_data"
    },
    {
     "name": "stderr",
     "output_type": "stream",
     "text": [
      "Processing Questions:  57%|█████▋    | 92/162 [07:00<05:07,  4.39s/it]"
     ]
    },
    {
     "data": {
      "text/latex": [
       "\n",
       "Để tính nguyên hàm $F(x) = \\int \\frac{1}{x^2 - 7x + 6} dx$, ta thực hiện các bước sau:\n",
       "\n",
       "1. **Phân tích mẫu số:**\n",
       "   Phân tích mẫu số thành nhân tử: $x^2 - 7x + 6 = (x - 1)(x - 6)$\n",
       "\n",
       "2. **Phân tích thành phân số đơn giản:**\n",
       "   Ta phân tích biểu thức dưới dấu tích phân thành tổng của các phân số đơn giản:\n",
       "   $\\frac{1}{x^2 - 7x + 6} = \\frac{1}{(x - 1)(x - 6)} = \\frac{A}{x - 1} + \\frac{B}{x - 6}$\n",
       "   Quy đồng mẫu số:\n",
       "   $1 = A(x - 6) + B(x - 1)$\n",
       "\n",
       "3. **Tìm A và B:**\n",
       "   * Cho $x = 1$: $1 = A(1 - 6) + B(1 - 1) \\Rightarrow 1 = -5A \\Rightarrow A = -\\frac{1}{5}$\n",
       "   * Cho $x = 6$: $1 = A(6 - 6) + B(6 - 1) \\Rightarrow 1 = 5B \\Rightarrow B = \\frac{1}{5}$\n",
       "   Vậy, $\\frac{1}{x^2 - 7x + 6} = \\frac{-1/5}{x - 1} + \\frac{1/5}{x - 6} = \\frac{1}{5} \\left( \\frac{1}{x - 6} - \\frac{1}{x - 1} \\right)$\n",
       "\n",
       "4. **Tính nguyên hàm:**\n",
       "   $F(x) = \\int \\frac{1}{x^2 - 7x + 6} dx = \\frac{1}{5} \\int \\left( \\frac{1}{x - 6} - \\frac{1}{x - 1} \\right) dx$\n",
       "   $F(x) = \\frac{1}{5} \\left( \\int \\frac{1}{x - 6} dx - \\int \\frac{1}{x - 1} dx \\right)$\n",
       "   $F(x) = \\frac{1}{5} \\left( \\ln|x - 6| - \\ln|x - 1| \\right) + C$\n",
       "   $F(x) = \\frac{1}{5} \\ln \\left| \\frac{x - 6}{x - 1} \\right| + C$\n"
      ],
      "text/plain": [
       "<IPython.core.display.Latex object>"
      ]
     },
     "metadata": {},
     "output_type": "display_data"
    },
    {
     "name": "stderr",
     "output_type": "stream",
     "text": [
      "Processing Questions:  57%|█████▋    | 93/162 [07:05<05:29,  4.78s/it]"
     ]
    },
    {
     "data": {
      "text/latex": [
       "\n",
       "Để tính nguyên hàm $I = \\int \\frac{2x^2+x+1}{x-1} dx$, ta thực hiện phép chia đa thức:\n",
       "\n",
       "$2x^2+x+1 = (x-1)(2x+3) + 4$\n",
       "\n",
       "Vậy $\\frac{2x^2+x+1}{x-1} = 2x+3 + \\frac{4}{x-1}$\n",
       "\n",
       "Khi đó:\n",
       "$I = \\int (2x+3+\\frac{4}{x-1}) dx = \\int 2x dx + \\int 3 dx + \\int \\frac{4}{x-1} dx$\n",
       "$= x^2 + 3x + 4\\int \\frac{1}{x-1} dx$\n",
       "$= x^2 + 3x + 4\\ln|x-1| + C$\n",
       "\n",
       "Vậy nguyên hàm của hàm số là $F(x) = x^2 + 3x + 4\\ln|x-1| + C$\n"
      ],
      "text/plain": [
       "<IPython.core.display.Latex object>"
      ]
     },
     "metadata": {},
     "output_type": "display_data"
    },
    {
     "name": "stderr",
     "output_type": "stream",
     "text": [
      "Processing Questions:  58%|█████▊    | 94/162 [07:09<04:56,  4.36s/it]"
     ]
    },
    {
     "data": {
      "text/latex": [
       "\n",
       "Ta có:\n",
       "$J = \\int \\frac{x^3+2x+1}{x^2+2x+1} dx = \\int \\frac{x^3+1+2x}{(x+1)^2}dx$\n",
       "$= \\int \\frac{(x+1)(x^2-x+1)+2x}{(x+1)^2}dx = \\int \\frac{(x+1)(x^2-x+1)}{(x+1)^2}dx + \\int \\frac{2x}{(x+1)^2}dx$\n",
       "$= \\int \\frac{x^2-x+1}{x+1}dx + \\int \\frac{2x}{(x+1)^2}dx$\n",
       "$= \\int \\frac{x^2+x-2x-2+3}{x+1}dx + \\int \\frac{2x+2-2}{(x+1)^2}dx$\n",
       "$= \\int \\frac{x(x+1)-2(x+1)+3}{x+1}dx + \\int \\frac{2(x+1)-2}{(x+1)^2}dx$\n",
       "$= \\int (x-2+\\frac{3}{x+1})dx + \\int (\\frac{2}{x+1} - \\frac{2}{(x+1)^2})dx$\n",
       "$= \\int (x-2)dx + \\int \\frac{3}{x+1}dx + \\int \\frac{2}{x+1}dx - \\int \\frac{2}{(x+1)^2}dx$\n",
       "$= \\int (x-2)dx + \\int \\frac{5}{x+1}dx - \\int \\frac{2}{(x+1)^2}dx$\n",
       "$= \\frac{x^2}{2} - 2x + 5\\ln|x+1| + \\frac{2}{x+1} + C$\n",
       "\n",
       "Vậy $F(x) = \\frac{x^2}{2} - 2x + 5\\ln|x+1| + \\frac{2}{x+1} + C$\n"
      ],
      "text/plain": [
       "<IPython.core.display.Latex object>"
      ]
     },
     "metadata": {},
     "output_type": "display_data"
    },
    {
     "name": "stderr",
     "output_type": "stream",
     "text": [
      "Processing Questions:  59%|█████▊    | 95/162 [07:13<04:49,  4.32s/it]"
     ]
    },
    {
     "data": {
      "text/latex": [
       "\n",
       "Để tính nguyên hàm $F(x) = \\int \\frac{2x^2+1}{(x+1)^5} dx$, ta thực hiện các bước sau:\n",
       "\n",
       "1. **Đặt ẩn phụ:**\n",
       "Đặt $t = x+1$, suy ra $x = t-1$ và $dx = dt$.\n",
       "\n",
       "2. **Thay đổi biến số:**\n",
       "Khi đó, $2x^2+1 = 2(t-1)^2 + 1 = 2(t^2 - 2t + 1) + 1 = 2t^2 - 4t + 3$.\n",
       "Vậy, $F(x) = \\int \\frac{2t^2 - 4t + 3}{t^5} dt = \\int \\left(\\frac{2t^2}{t^5} - \\frac{4t}{t^5} + \\frac{3}{t^5}\\right) dt = \\int \\left(\\frac{2}{t^3} - \\frac{4}{t^4} + \\frac{3}{t^5}\\right) dt$.\n",
       "\n",
       "3. **Tính nguyên hàm theo biến t:**\n",
       "$F(x) = \\int (2t^{-3} - 4t^{-4} + 3t^{-5}) dt = 2\\int t^{-3} dt - 4\\int t^{-4} dt + 3\\int t^{-5} dt = 2 \\cdot \\frac{t^{-2}}{-2} - 4 \\cdot \\frac{t^{-3}}{-3} + 3 \\cdot \\frac{t^{-4}}{-4} + C = -t^{-2} + \\frac{4}{3} t^{-3} - \\frac{3}{4} t^{-4} + C$.\n",
       "\n",
       "4. **Thay đổi trở lại biến x:**\n",
       "$F(x) = -\\frac{1}{(x+1)^2} + \\frac{4}{3(x+1)^3} - \\frac{3}{4(x+1)^4} + C$.\n",
       "\n",
       "5. **Rút gọn biểu thức:**\n",
       "$F(x) = \\frac{-12(x+1)^2 + 16(x+1) - 9}{12(x+1)^4} + C = \\frac{-12(x^2+2x+1) + 16x + 16 - 9}{12(x+1)^4} + C = \\frac{-12x^2 - 24x - 12 + 16x + 7}{12(x+1)^4} + C = \\frac{-12x^2 - 8x - 5}{12(x+1)^4} + C$.\n",
       "\n",
       "Vậy, $F(x) = \\frac{-12x^2 - 8x - 5}{12(x+1)^4} + C$.\n"
      ],
      "text/plain": [
       "<IPython.core.display.Latex object>"
      ]
     },
     "metadata": {},
     "output_type": "display_data"
    },
    {
     "name": "stderr",
     "output_type": "stream",
     "text": [
      "Processing Questions:  59%|█████▉    | 96/162 [07:18<05:07,  4.65s/it]"
     ]
    },
    {
     "data": {
      "text/latex": [
       "\n",
       "Ta cần tính nguyên hàm $F(x) = \\int \\frac{dx}{x(x^6+1)^2}$.\n",
       "Đặt $t = x^6$, suy ra $dt = 6x^5 dx$, do đó $dx = \\frac{dt}{6x^5} = \\frac{dt}{6t^{5/6}}$.\n",
       "Khi đó, $F(x) = \\int \\frac{1}{x(x^6+1)^2} dx = \\int \\frac{1}{x(t+1)^2} \\frac{dt}{6x^5} = \\int \\frac{dt}{6x^6(t+1)^2} = \\int \\frac{dt}{6t(t+1)^2}$.\n",
       "\n",
       "Ta phân tích $\\frac{1}{t(t+1)^2}$ thành tổng các phân thức đơn giản:\n",
       "$\\frac{1}{t(t+1)^2} = \\frac{A}{t} + \\frac{B}{t+1} + \\frac{C}{(t+1)^2}$\n",
       "$\\Leftrightarrow 1 = A(t+1)^2 + Bt(t+1) + Ct$\n",
       "$\\Leftrightarrow 1 = A(t^2 + 2t + 1) + B(t^2 + t) + Ct$\n",
       "$\\Leftrightarrow 1 = (A+B)t^2 + (2A+B+C)t + A$\n",
       "\n",
       "Đồng nhất hệ số, ta có:\n",
       "$A+B = 0$\n",
       "$2A+B+C = 0$\n",
       "$A = 1$\n",
       "\n",
       "Suy ra $B = -1$, $C = -2A - B = -2 - (-1) = -1$.\n",
       "Vậy $\\frac{1}{t(t+1)^2} = \\frac{1}{t} - \\frac{1}{t+1} - \\frac{1}{(t+1)^2}$.\n",
       "\n",
       "Do đó, $F(x) = \\int \\frac{dt}{6t(t+1)^2} = \\frac{1}{6} \\int \\left( \\frac{1}{t} - \\frac{1}{t+1} - \\frac{1}{(t+1)^2} \\right) dt$\n",
       "$= \\frac{1}{6} \\left( \\int \\frac{dt}{t} - \\int \\frac{dt}{t+1} - \\int \\frac{dt}{(t+1)^2} \\right)$\n",
       "$= \\frac{1}{6} \\left( \\ln|t| - \\ln|t+1| + \\frac{1}{t+1} \\right) + C$\n",
       "$= \\frac{1}{6} \\left( \\ln|x^6| - \\ln|x^6+1| + \\frac{1}{x^6+1} \\right) + C$\n",
       "$= \\frac{1}{6} \\left( 6\\ln|x| - \\ln|x^6+1| + \\frac{1}{x^6+1} \\right) + C$\n",
       "$= \\ln|x| - \\frac{1}{6} \\ln(x^6+1) + \\frac{1}{6(x^6+1)} + C$.\n",
       "\n"
      ],
      "text/plain": [
       "<IPython.core.display.Latex object>"
      ]
     },
     "metadata": {},
     "output_type": "display_data"
    },
    {
     "name": "stderr",
     "output_type": "stream",
     "text": [
      "Processing Questions:  60%|█████▉    | 97/162 [07:25<05:47,  5.35s/it]"
     ]
    },
    {
     "data": {
      "text/latex": [
       "\n",
       "Ta cần tìm nguyên hàm $F(x)$ của $f(x) = (4x+1)e^x$ thỏa mãn $F(1) = e$.\n",
       "\n",
       "Bước 1: Tìm nguyên hàm tổng quát của $f(x)$.\n",
       "Ta sử dụng phương pháp tích phân từng phần. Đặt:\n",
       "$u = 4x+1 \\Rightarrow du = 4dx$\n",
       "$dv = e^x dx \\Rightarrow v = e^x$\n",
       "Khi đó,\n",
       "$\\int (4x+1)e^x dx = (4x+1)e^x - \\int 4e^x dx = (4x+1)e^x - 4e^x + C = (4x-3)e^x + C$\n",
       "Vậy $F(x) = (4x-3)e^x + C$\n",
       "\n",
       "Bước 2: Tìm hằng số C.\n",
       "Ta có $F(1) = e$, suy ra $(4(1)-3)e^1 + C = e$, hay $e + C = e$, do đó $C = 0$.\n",
       "\n",
       "Bước 3: Kết luận.\n",
       "Vậy nguyên hàm cần tìm là $F(x) = (4x-3)e^x$.\n",
       "\n"
      ],
      "text/plain": [
       "<IPython.core.display.Latex object>"
      ]
     },
     "metadata": {},
     "output_type": "display_data"
    },
    {
     "name": "stderr",
     "output_type": "stream",
     "text": [
      "Processing Questions:  60%|██████    | 98/162 [07:29<05:16,  4.94s/it]"
     ]
    },
    {
     "data": {
      "text/latex": [
       "\n",
       "Ta có $F(x)$ là một nguyên hàm của $f(x) = \\frac{1}{x-1}$, nên:\n",
       "$F(x) = \\int f(x) dx = \\int \\frac{1}{x-1} dx$\n",
       "Đặt $u = x-1$, suy ra $du = dx$. Khi đó:\n",
       "$F(x) = \\int \\frac{1}{u} du = ln|u| + C = ln|x-1| + C$\n",
       "Theo đề bài, $F(2) = 1$, nên:\n",
       "$F(2) = ln|2-1| + C = ln(1) + C = 0 + C = 1$\n",
       "Suy ra $C = 1$. Vậy:\n",
       "$F(x) = ln|x-1| + 1$\n",
       "Khi đó:\n",
       "$F(3) = ln|3-1| + 1 = ln(2) + 1$\n",
       "\n"
      ],
      "text/plain": [
       "<IPython.core.display.Latex object>"
      ]
     },
     "metadata": {},
     "output_type": "display_data"
    },
    {
     "name": "stderr",
     "output_type": "stream",
     "text": [
      "Processing Questions:  61%|██████    | 99/162 [07:32<04:30,  4.29s/it]"
     ]
    },
    {
     "data": {
      "text/latex": [
       "\n",
       "Ta có $f(x) = x\\sin(2x)$. Để tìm nguyên hàm $F(x)$ của $f(x)$, ta sử dụng tích phân từng phần.\n",
       "Đặt $u = x$ và $dv = \\sin(2x) dx$. Khi đó $du = dx$ và $v = -\\frac{1}{2}\\cos(2x)$.\n",
       "Vậy\n",
       "$$F(x) = \\int x\\sin(2x) dx = -\\frac{1}{2}x\\cos(2x) - \\int -\\frac{1}{2}\\cos(2x) dx$$\n",
       "$$= -\\frac{1}{2}x\\cos(2x) + \\frac{1}{2}\\int \\cos(2x) dx = -\\frac{1}{2}x\\cos(2x) + \\frac{1}{2}\\cdot\\frac{1}{2}\\sin(2x) + C$$\n",
       "$$F(x) = -\\frac{1}{2}x\\cos(2x) + \\frac{1}{4}\\sin(2x) + C$$\n",
       "Theo đề bài, $F(0) + F(\\pi) = -\\frac{\\pi}{2}$.\n",
       "$$F(0) = -\\frac{1}{2}\\cdot 0\\cdot \\cos(0) + \\frac{1}{4}\\sin(0) + C = 0 + 0 + C = C$$\n",
       "$$F(\\pi) = -\\frac{1}{2}\\pi\\cos(2\\pi) + \\frac{1}{4}\\sin(2\\pi) + C = -\\frac{1}{2}\\pi\\cdot 1 + \\frac{1}{4}\\cdot 0 + C = -\\frac{\\pi}{2} + C$$\n",
       "Do đó, $F(0) + F(\\pi) = C + (-\\frac{\\pi}{2} + C) = 2C - \\frac{\\pi}{2} = -\\frac{\\pi}{2}$.\n",
       "Suy ra $2C = 0$, hay $C = 0$.\n",
       "Vậy $F(x) = -\\frac{1}{2}x\\cos(2x) + \\frac{1}{4}\\sin(2x)$.\n",
       "Ta cần tính $F(\\frac{\\pi}{4})$.\n",
       "$$F(\\frac{\\pi}{4}) = -\\frac{1}{2}\\cdot\\frac{\\pi}{4}\\cos(\\frac{\\pi}{2}) + \\frac{1}{4}\\sin(\\frac{\\pi}{2}) = -\\frac{\\pi}{8}\\cdot 0 + \\frac{1}{4}\\cdot 1 = 0 + \\frac{1}{4} = \\frac{1}{4}$$\n",
       "\n"
      ],
      "text/plain": [
       "<IPython.core.display.Latex object>"
      ]
     },
     "metadata": {},
     "output_type": "display_data"
    },
    {
     "name": "stderr",
     "output_type": "stream",
     "text": [
      "Processing Questions:  62%|██████▏   | 100/162 [07:38<04:55,  4.76s/it]"
     ]
    },
    {
     "data": {
      "text/latex": [
       "\n",
       "Để tìm nguyên hàm $F(x)$ của hàm số $f(x) = \\sin^2\\frac{x}{2}$ thỏa mãn $F(\\frac{\\pi}{2}) = \\frac{\\pi}{4}$, ta thực hiện các bước sau:\n",
       "\n",
       "1. **Tìm nguyên hàm tổng quát của $f(x)$:**\n",
       "\n",
       "Sử dụng công thức hạ bậc: $\\sin^2\\alpha = \\frac{1 - \\cos 2\\alpha}{2}$.\n",
       "Ta có:\n",
       "$f(x) = \\sin^2\\frac{x}{2} = \\frac{1 - \\cos x}{2} = \\frac{1}{2} - \\frac{1}{2}\\cos x$.\n",
       "\n",
       "Nguyên hàm của $f(x)$ là:\n",
       "$F(x) = \\int f(x) dx = \\int (\\frac{1}{2} - \\frac{1}{2}\\cos x) dx = \\frac{1}{2} \\int dx - \\frac{1}{2} \\int \\cos x dx = \\frac{1}{2}x - \\frac{1}{2}\\sin x + C$.\n",
       "\n",
       "2. **Xác định hằng số C:**\n",
       "\n",
       "Theo đề bài, $F(\\frac{\\pi}{2}) = \\frac{\\pi}{4}$. Thay $x = \\frac{\\pi}{2}$ vào biểu thức $F(x)$:\n",
       "$F(\\frac{\\pi}{2}) = \\frac{1}{2}(\\frac{\\pi}{2}) - \\frac{1}{2}\\sin(\\frac{\\pi}{2}) + C = \\frac{\\pi}{4} - \\frac{1}{2}(1) + C = \\frac{\\pi}{4} - \\frac{1}{2} + C$.\n",
       "\n",
       "Mà $F(\\frac{\\pi}{2}) = \\frac{\\pi}{4}$, nên:\n",
       "$\\frac{\\pi}{4} - \\frac{1}{2} + C = \\frac{\\pi}{4}$\n",
       "$C = \\frac{1}{2}$.\n",
       "\n",
       "3. **Kết luận:**\n",
       "\n",
       "Vậy, nguyên hàm cần tìm là:\n",
       "$F(x) = \\frac{1}{2}x - \\frac{1}{2}\\sin x + \\frac{1}{2}$.\n",
       "\n"
      ],
      "text/plain": [
       "<IPython.core.display.Latex object>"
      ]
     },
     "metadata": {},
     "output_type": "display_data"
    },
    {
     "name": "stderr",
     "output_type": "stream",
     "text": [
      "Processing Questions:  62%|██████▏   | 101/162 [07:43<04:56,  4.86s/it]"
     ]
    },
    {
     "data": {
      "text/latex": [
       "\n",
       "Để tìm nguyên hàm $F(x)$ của hàm số $f(x) = 2x + \\frac{1}{\\sin^2 x}$ thỏa mãn $F(\\frac{\\pi}{4}) = -1$, ta thực hiện các bước sau:\n",
       "\n",
       "1. **Tìm nguyên hàm tổng quát của $f(x)$:**\n",
       "   Ta tìm nguyên hàm của từng thành phần của $f(x)$:\n",
       "   - Nguyên hàm của $2x$ là $x^2 + C_1$.\n",
       "   - Nguyên hàm của $\\frac{1}{\\sin^2 x}$ là $-\\cot x + C_2$.\n",
       "   Vậy, nguyên hàm tổng quát của $f(x)$ là:\n",
       "   $F(x) = x^2 - \\cot x + C$, với $C = C_1 + C_2$ là hằng số tích phân.\n",
       "\n",
       "2. **Xác định hằng số tích phân $C$ bằng điều kiện $F(\\frac{\\pi}{4}) = -1$:**\n",
       "   Thay $x = \\frac{\\pi}{4}$ vào $F(x)$ và sử dụng điều kiện $F(\\frac{\\pi}{4}) = -1$, ta có:\n",
       "   $F(\\frac{\\pi}{4}) = (\\frac{\\pi}{4})^2 - \\cot(\\frac{\\pi}{4}) + C = -1$\n",
       "   $\\frac{\\pi^2}{16} - 1 + C = -1$\n",
       "   $C = -\\frac{\\pi^2}{16}$\n",
       "\n",
       "3. **Viết nguyên hàm $F(x)$ cụ thể:**\n",
       "   Thay giá trị của $C$ vào biểu thức của $F(x)$, ta được:\n",
       "   $F(x) = x^2 - \\cot x - \\frac{\\pi^2}{16}$\n",
       "\n",
       "Vậy, nguyên hàm cần tìm là $F(x) = x^2 - \\cot x - \\frac{\\pi^2}{16}$.\n",
       "\n"
      ],
      "text/plain": [
       "<IPython.core.display.Latex object>"
      ]
     },
     "metadata": {},
     "output_type": "display_data"
    },
    {
     "name": "stderr",
     "output_type": "stream",
     "text": [
      "Processing Questions:  63%|██████▎   | 102/162 [07:48<04:54,  4.91s/it]"
     ]
    },
    {
     "data": {
      "text/latex": [
       "\n",
       "Ta có $F(x)$ là một nguyên hàm của $y = \\frac{\\ln x}{x}$, nên:\n",
       "$F(x) = \\int \\frac{\\ln x}{x} dx$\n",
       "\n",
       "Đặt $t = \\ln x$, suy ra $dt = \\frac{1}{x} dx$. Khi đó:\n",
       "$F(x) = \\int t dt = \\frac{t^2}{2} + C = \\frac{(\\ln x)^2}{2} + C$\n",
       "\n",
       "Theo đề bài, $F(e^2) = 4$, ta có:\n",
       "$F(e^2) = \\frac{(\\ln e^2)^2}{2} + C = \\frac{(2)^2}{2} + C = 2 + C = 4$\n",
       "Suy ra $C = 2$.\n",
       "\n",
       "Vậy, $F(x) = \\frac{(\\ln x)^2}{2} + 2$.\n",
       "\n",
       "Khi đó, $F(e) = \\frac{(\\ln e)^2}{2} + 2 = \\frac{1^2}{2} + 2 = \\frac{1}{2} + 2 = \\frac{5}{2}$.\n",
       "\n"
      ],
      "text/plain": [
       "<IPython.core.display.Latex object>"
      ]
     },
     "metadata": {},
     "output_type": "display_data"
    },
    {
     "name": "stderr",
     "output_type": "stream",
     "text": [
      "Processing Questions:  64%|██████▎   | 103/162 [07:52<04:26,  4.51s/it]"
     ]
    },
    {
     "data": {
      "text/latex": [
       "\n",
       "Ta có $f(x) = ax + \\frac{b}{x^2} = ax + bx^{-2}$.\n",
       "Để tìm nguyên hàm F(x) của f(x), ta tính tích phân bất định:\n",
       "$F(x) = \\int f(x) dx = \\int (ax + bx^{-2}) dx = \\int ax dx + \\int bx^{-2} dx = a\\int x dx + b\\int x^{-2} dx = a\\frac{x^2}{2} + b\\frac{x^{-1}}{-1} + C = \\frac{ax^2}{2} - \\frac{b}{x} + C$, với C là hằng số tích phân.\n",
       "\n",
       "Ta có $f(1) = 0 \\Leftrightarrow a(1) + \\frac{b}{1^2} = 0 \\Leftrightarrow a + b = 0 \\Leftrightarrow b = -a$.\n",
       "Vậy $F(x) = \\frac{ax^2}{2} + \\frac{a}{x} + C$.\n",
       "\n",
       "Ta có $F(-1) = 1 \\Leftrightarrow \\frac{a(-1)^2}{2} + \\frac{a}{-1} + C = 1 \\Leftrightarrow \\frac{a}{2} - a + C = 1 \\Leftrightarrow -\\frac{a}{2} + C = 1$.\n",
       "Và $F(1) = 4 \\Leftrightarrow \\frac{a(1)^2}{2} + \\frac{a}{1} + C = 4 \\Leftrightarrow \\frac{a}{2} + a + C = 4 \\Leftrightarrow \\frac{3a}{2} + C = 4$.\n",
       "\n",
       "Ta có hệ phương trình:\n",
       "$\\begin{cases} -\\frac{a}{2} + C = 1 \\\\ \\frac{3a}{2} + C = 4 \\end{cases}$\n",
       "Lấy phương trình dưới trừ phương trình trên, ta được:\n",
       "$\\frac{3a}{2} - (-\\frac{a}{2}) + C - C = 4 - 1 \\Leftrightarrow \\frac{4a}{2} = 3 \\Leftrightarrow 2a = 3 \\Leftrightarrow a = \\frac{3}{2}$.\n",
       "Suy ra $b = -a = -\\frac{3}{2}$.\n",
       "Thay $a = \\frac{3}{2}$ vào phương trình $-\\frac{a}{2} + C = 1$, ta có:\n",
       "$-\\frac{3/2}{2} + C = 1 \\Leftrightarrow -\\frac{3}{4} + C = 1 \\Leftrightarrow C = 1 + \\frac{3}{4} = \\frac{7}{4}$.\n",
       "Vậy $F(x) = \\frac{(3/2)x^2}{2} + \\frac{3/2}{x} + \\frac{7}{4} = \\frac{3x^2}{4} + \\frac{3}{2x} + \\frac{7}{4}$.\n",
       "\n"
      ],
      "text/plain": [
       "<IPython.core.display.Latex object>"
      ]
     },
     "metadata": {},
     "output_type": "display_data"
    },
    {
     "name": "stderr",
     "output_type": "stream",
     "text": [
      "Processing Questions:  64%|██████▍   | 104/162 [07:58<04:53,  5.06s/it]"
     ]
    },
    {
     "data": {
      "text/latex": [
       "\n",
       "Ta có $f(x) = \\frac{4m}{\\pi} + \\sin^2 x$.\n",
       "Nguyên hàm của $f(x)$ là:\n",
       "$F(x) = \\int f(x) dx = \\int (\\frac{4m}{\\pi} + \\sin^2 x) dx = \\int (\\frac{4m}{\\pi} + \\frac{1 - \\cos 2x}{2}) dx$\n",
       "$F(x) = \\frac{4m}{\\pi}x + \\int \\frac{1 - \\cos 2x}{2} dx = \\frac{4m}{\\pi}x + \\frac{1}{2}x - \\frac{1}{4}\\sin 2x + C$\n",
       "$F(x) = (\\frac{4m}{\\pi} + \\frac{1}{2})x - \\frac{1}{4}\\sin 2x + C$\n",
       "Theo điều kiện $F(0) = 1$, ta có:\n",
       "$F(0) = (\\frac{4m}{\\pi} + \\frac{1}{2}) \\cdot 0 - \\frac{1}{4}\\sin(2 \\cdot 0) + C = 0 - 0 + C = 1 \\Rightarrow C = 1$\n",
       "Vậy $F(x) = (\\frac{4m}{\\pi} + \\frac{1}{2})x - \\frac{1}{4}\\sin 2x + 1$\n",
       "Theo điều kiện $F(\\frac{\\pi}{4}) = \\frac{\\pi}{8}$, ta có:\n",
       "$F(\\frac{\\pi}{4}) = (\\frac{4m}{\\pi} + \\frac{1}{2}) \\cdot \\frac{\\pi}{4} - \\frac{1}{4}\\sin(2 \\cdot \\frac{\\pi}{4}) + 1 = \\frac{\\pi}{8}$\n",
       "$\\frac{4m}{\\pi} \\cdot \\frac{\\pi}{4} + \\frac{1}{2} \\cdot \\frac{\\pi}{4} - \\frac{1}{4}\\sin(\\frac{\\pi}{2}) + 1 = \\frac{\\pi}{8}$\n",
       "$m + \\frac{\\pi}{8} - \\frac{1}{4} + 1 = \\frac{\\pi}{8}$\n",
       "$m - \\frac{1}{4} + 1 = 0$\n",
       "$m + \\frac{3}{4} = 0$\n",
       "$m = -\\frac{3}{4}$\n",
       "\n"
      ],
      "text/plain": [
       "<IPython.core.display.Latex object>"
      ]
     },
     "metadata": {},
     "output_type": "display_data"
    },
    {
     "name": "stderr",
     "output_type": "stream",
     "text": [
      "Processing Questions:  65%|██████▍   | 105/162 [08:03<04:44,  4.99s/it]"
     ]
    },
    {
     "data": {
      "text/latex": [
       "\n",
       "Để tìm hàm số $F(x)$ là một nguyên hàm của $f(x) = \\sqrt{x}$ và thỏa mãn $F(1) = 1$, ta thực hiện các bước sau:\n",
       "\n",
       "1. **Tìm nguyên hàm tổng quát của $f(x)$:**\n",
       "Ta có $f(x) = \\sqrt{x} = x^{\\frac{1}{2}}$.\n",
       "Nguyên hàm của $f(x)$ là:\n",
       "$\\int f(x) dx = \\int x^{\\frac{1}{2}} dx = \\frac{x^{\\frac{1}{2} + 1}}{\\frac{1}{2} + 1} + C = \\frac{x^{\\frac{3}{2}}}{\\frac{3}{2}} + C = \\frac{2}{3}x^{\\frac{3}{2}} + C$, với $C$ là hằng số tích phân.\n",
       "Vậy, $F(x) = \\frac{2}{3}x^{\\frac{3}{2}} + C$.\n",
       "\n",
       "2. **Xác định hằng số $C$ dựa vào điều kiện $F(1) = 1$:**\n",
       "Ta có $F(1) = \\frac{2}{3}(1)^{\\frac{3}{2}} + C = \\frac{2}{3} + C$.\n",
       "Theo đề bài, $F(1) = 1$, suy ra $\\frac{2}{3} + C = 1$.\n",
       "Do đó, $C = 1 - \\frac{2}{3} = \\frac{1}{3}$.\n",
       "\n",
       "3. **Kết luận hàm số $F(x)$:**\n",
       "Thay $C = \\frac{1}{3}$ vào biểu thức nguyên hàm tổng quát, ta được:\n",
       "$F(x) = \\frac{2}{3}x^{\\frac{3}{2}} + \\frac{1}{3}$.\n",
       "\n"
      ],
      "text/plain": [
       "<IPython.core.display.Latex object>"
      ]
     },
     "metadata": {},
     "output_type": "display_data"
    },
    {
     "name": "stderr",
     "output_type": "stream",
     "text": [
      "Processing Questions:  65%|██████▌   | 106/162 [08:08<04:36,  4.93s/it]"
     ]
    },
    {
     "data": {
      "text/latex": [
       "\n",
       "Ta có: $f(x) = \\frac{\\sin 2x}{1 + \\cos x} = \\frac{2 \\sin x \\cos x}{1 + \\cos x}$.\n",
       "\n",
       "Để tìm nguyên hàm $F(x)$ của $f(x)$, ta tính tích phân:\n",
       "$F(x) = \\int f(x) dx = \\int \\frac{2 \\sin x \\cos x}{1 + \\cos x} dx$.\n",
       "\n",
       "Đặt $t = 1 + \\cos x \\Rightarrow dt = - \\sin x dx \\Rightarrow \\sin x dx = -dt$.\n",
       "$\\cos x = t - 1$.\n",
       "Khi đó:\n",
       "$F(x) = \\int \\frac{2 (t-1)}{t} (-dt) = -2 \\int \\frac{t-1}{t} dt = -2 \\int (1 - \\frac{1}{t}) dt = -2 (t - \\ln |t|) + C = -2(1 + \\cos x - \\ln |1 + \\cos x|) + C$.\n",
       "$F(x) = -2 - 2\\cos x + 2 \\ln |1 + \\cos x| + C$.\n",
       "\n",
       "Theo đề bài, $F(\\frac{\\pi}{2}) = 0$.\n",
       "$F(\\frac{\\pi}{2}) = -2 - 2\\cos(\\frac{\\pi}{2}) + 2 \\ln |1 + \\cos(\\frac{\\pi}{2})| + C = -2 - 2(0) + 2 \\ln |1 + 0| + C = -2 + 2 \\ln 1 + C = -2 + 0 + C = 0$.\n",
       "Vậy $C = 2$.\n",
       "Do đó, $F(x) = -2 - 2\\cos x + 2 \\ln |1 + \\cos x| + 2 = -2\\cos x + 2 \\ln |1 + \\cos x|$.\n",
       "\n",
       "Tính $F(0)$:\n",
       "$F(0) = -2\\cos(0) + 2 \\ln |1 + \\cos(0)| = -2(1) + 2 \\ln |1 + 1| = -2 + 2 \\ln 2$.\n",
       "\n"
      ],
      "text/plain": [
       "<IPython.core.display.Latex object>"
      ]
     },
     "metadata": {},
     "output_type": "display_data"
    },
    {
     "name": "stderr",
     "output_type": "stream",
     "text": [
      "Processing Questions:  66%|██████▌   | 107/162 [08:12<04:24,  4.81s/it]"
     ]
    },
    {
     "data": {
      "text/latex": [
       "\n",
       "**Bước 1: Tìm nguyên hàm F(x)**\n",
       "\n",
       "Ta có $f(x) = xe^{-x}$. Sử dụng tích phân từng phần, đặt $u=x$ và $dv=e^{-x}dx$. Suy ra $du=dx$ và $v=-e^{-x}$.\n",
       "Khi đó:\n",
       "$F(x) = \\int xe^{-x} dx = -xe^{-x} - \\int -e^{-x} dx = -xe^{-x} - e^{-x} + C = -(x+1)e^{-x} + C$.\n",
       "\n",
       "**Bước 2: Xác định hằng số C**\n",
       "\n",
       "Theo giả thiết $F(0) = -1$, ta có:\n",
       "$F(0) = -(0+1)e^{-0} + C = -1 + C = -1$.\n",
       "Suy ra $C = 0$.\n",
       "Vậy $F(x) = -(x+1)e^{-x}$.\n",
       "\n",
       "**Bước 3: Tính F'(x)**\n",
       "\n",
       "$F'(x) = f(x) = xe^{-x}$.\n",
       "\n",
       "**Bước 4: Giải phương trình F(x) + F'(x) + 1 = 0**\n",
       "\n",
       "Ta có phương trình:\n",
       "$-(x+1)e^{-x} + xe^{-x} + 1 = 0$\n",
       "$-xe^{-x} - e^{-x} + xe^{-x} + 1 = 0$\n",
       "$-e^{-x} + 1 = 0$\n",
       "$e^{-x} = 1$\n",
       "$-x = 0$\n",
       "$x = 0$.\n",
       "\n",
       "**Bước 5: Tính tổng S các nghiệm**\n",
       "\n",
       "Phương trình $F(x) + F'(x) + 1 = 0$ có nghiệm duy nhất $x = 0$.\n",
       "Vậy $S = 0$.\n",
       "\n"
      ],
      "text/plain": [
       "<IPython.core.display.Latex object>"
      ]
     },
     "metadata": {},
     "output_type": "display_data"
    },
    {
     "name": "stderr",
     "output_type": "stream",
     "text": [
      "Processing Questions:  67%|██████▋   | 108/162 [08:16<04:06,  4.56s/it]"
     ]
    },
    {
     "data": {
      "text/latex": [
       "\n",
       "Ta cần tìm nguyên hàm $F(x)$ của $f(x) = \\frac{\\sin 2x}{\\sin^2 x + 3}$ sao cho $F(0) = 0$.\n",
       "\n",
       "Ta có:\n",
       "$F(x) = \\int f(x) dx = \\int \\frac{\\sin 2x}{\\sin^2 x + 3} dx = \\int \\frac{2 \\sin x \\cos x}{\\sin^2 x + 3} dx$\n",
       "\n",
       "Đặt $u = \\sin^2 x + 3$, suy ra $du = 2 \\sin x \\cos x dx$.\n",
       "\n",
       "Khi đó:\n",
       "$F(x) = \\int \\frac{du}{u} = \\ln |u| + C = \\ln |\\sin^2 x + 3| + C$\n",
       "\n",
       "Vì $\\sin^2 x + 3 > 0$ với mọi $x$, nên $F(x) = \\ln (\\sin^2 x + 3) + C$.\n",
       "\n",
       "Theo đề bài, $F(0) = 0$, suy ra:\n",
       "$0 = \\ln (\\sin^2 0 + 3) + C = \\ln (0 + 3) + C = \\ln 3 + C$\n",
       "Vậy $C = - \\ln 3$.\n",
       "\n",
       "Do đó, $F(x) = \\ln (\\sin^2 x + 3) - \\ln 3 = \\ln \\left( \\frac{\\sin^2 x + 3}{3} \\right)$.\n",
       "\n"
      ],
      "text/plain": [
       "<IPython.core.display.Latex object>"
      ]
     },
     "metadata": {},
     "output_type": "display_data"
    },
    {
     "name": "stderr",
     "output_type": "stream",
     "text": [
      "Processing Questions:  67%|██████▋   | 109/162 [08:19<03:39,  4.15s/it]"
     ]
    },
    {
     "data": {
      "text/latex": [
       "\n",
       "Ta có $f(x) = \\frac{1}{e^x + 1}$. Để tìm nguyên hàm $F(x)$ của $f(x)$, ta tính tích phân:\n",
       "$F(x) = \\int \\frac{1}{e^x + 1} dx = \\int \\frac{e^{-x}}{1 + e^{-x}} dx$.\n",
       "Đặt $u = 1 + e^{-x}$, suy ra $du = -e^{-x}dx$, hay $-du = e^{-x}dx$.\n",
       "Vậy $F(x) = \\int \\frac{-du}{u} = -ln|u| + C = -ln(1 + e^{-x}) + C$.\n",
       "Vì $F(0) = -ln2$, nên $-ln(1 + e^0) + C = -ln2 \\Leftrightarrow -ln(1+1) + C = -ln2 \\Leftrightarrow -ln2 + C = -ln2 \\Leftrightarrow C = 0$.\n",
       "Do đó $F(x) = -ln(1 + e^{-x})$.\n",
       "\n",
       "Ta có phương trình $F(x) + ln(e^x + 1) = 3$, hay $-ln(1 + e^{-x}) + ln(e^x + 1) = 3$.\n",
       "$-ln(1 + \\frac{1}{e^x}) + ln(e^x + 1) = 3$\n",
       "$-ln(\\frac{e^x + 1}{e^x}) + ln(e^x + 1) = 3$\n",
       "$-[ln(e^x + 1) - ln(e^x)] + ln(e^x + 1) = 3$\n",
       "$-ln(e^x + 1) + ln(e^x) + ln(e^x + 1) = 3$\n",
       "$ln(e^x) = 3$\n",
       "$x = 3$\n",
       "\n",
       "Vậy tập nghiệm của phương trình là $S = \\{3\\}$.\n",
       "\n"
      ],
      "text/plain": [
       "<IPython.core.display.Latex object>"
      ]
     },
     "metadata": {},
     "output_type": "display_data"
    },
    {
     "name": "stderr",
     "output_type": "stream",
     "text": [
      "Processing Questions:  68%|██████▊   | 110/162 [08:24<03:44,  4.32s/it]"
     ]
    },
    {
     "data": {
      "text/latex": [
       "\n",
       "Ta có tích phân $I = \\int_{-1}^{1}(x^3 + 3x + 2)dx$.\n",
       "\n",
       "Ta tách tích phân thành tổng các tích phân:\n",
       "$I = \\int_{-1}^{1} x^3 dx + \\int_{-1}^{1} 3x dx + \\int_{-1}^{1} 2 dx$\n",
       "\n",
       "Tính từng tích phân:\n",
       "1. $\\int_{-1}^{1} x^3 dx = \\frac{x^4}{4} \\Big|_{-1}^{1} = \\frac{1^4}{4} - \\frac{(-1)^4}{4} = \\frac{1}{4} - \\frac{1}{4} = 0$\n",
       "2. $\\int_{-1}^{1} 3x dx = \\frac{3x^2}{2} \\Big|_{-1}^{1} = \\frac{3(1)^2}{2} - \\frac{3(-1)^2}{2} = \\frac{3}{2} - \\frac{3}{2} = 0$\n",
       "3. $\\int_{-1}^{1} 2 dx = 2x \\Big|_{-1}^{1} = 2(1) - 2(-1) = 2 + 2 = 4$\n",
       "\n",
       "Vậy, $I = 0 + 0 + 4 = 4$.\n",
       "\n"
      ],
      "text/plain": [
       "<IPython.core.display.Latex object>"
      ]
     },
     "metadata": {},
     "output_type": "display_data"
    },
    {
     "name": "stderr",
     "output_type": "stream",
     "text": [
      "Processing Questions:  69%|██████▊   | 111/162 [08:27<03:16,  3.85s/it]"
     ]
    },
    {
     "data": {
      "text/latex": [
       "\n",
       "Ta cần tính tích phân $I = \\int_{1}^{2}(\\frac{1}{x^2} + 2x) dx$.\n",
       "\n",
       "Bước 1: Tìm nguyên hàm của hàm số $f(x) = \\frac{1}{x^2} + 2x$.\n",
       "Nguyên hàm của $\\frac{1}{x^2}$ là $\\int x^{-2} dx = \\frac{x^{-1}}{-1} = -\\frac{1}{x}$.\n",
       "Nguyên hàm của $2x$ là $\\int 2x dx = x^2$.\n",
       "Vậy, nguyên hàm của $f(x)$ là $F(x) = -\\frac{1}{x} + x^2$.\n",
       "\n",
       "Bước 2: Tính giá trị của nguyên hàm tại cận trên và cận dưới.\n",
       "$F(2) = -\\frac{1}{2} + 2^2 = -\\frac{1}{2} + 4 = \\frac{7}{2}$.\n",
       "$F(1) = -\\frac{1}{1} + 1^2 = -1 + 1 = 0$.\n",
       "\n",
       "Bước 3: Tính tích phân bằng cách lấy hiệu giá trị nguyên hàm tại cận trên và cận dưới.\n",
       "$I = F(2) - F(1) = \\frac{7}{2} - 0 = \\frac{7}{2}$.\n",
       "\n",
       "Vậy, $I = \\int_{1}^{2}(\\frac{1}{x^2} + 2x) dx = \\frac{7}{2}$.\n",
       "\n"
      ],
      "text/plain": [
       "<IPython.core.display.Latex object>"
      ]
     },
     "metadata": {},
     "output_type": "display_data"
    },
    {
     "name": "stderr",
     "output_type": "stream",
     "text": [
      "Processing Questions:  69%|██████▉   | 112/162 [08:30<03:00,  3.61s/it]"
     ]
    },
    {
     "data": {
      "text/latex": [
       "\n",
       "Để tính tích phân $I = \\int_{\\frac{\\pi}{2}}^{\\pi}(\\sin2x - \\cos3x)dx$, ta thực hiện các bước sau:\n",
       "\n",
       "1. **Tính tích phân của từng hàm số:**\n",
       "   - $\\int \\sin2x \\, dx = -\\frac{1}{2}\\cos2x + C_1$\n",
       "   - $\\int \\cos3x \\, dx = \\frac{1}{3}\\sin3x + C_2$\n",
       "\n",
       "2. **Tính tích phân xác định:**\n",
       "   $I = \\int_{\\frac{\\pi}{2}}^{\\pi}(\\sin2x - \\cos3x)dx = \\int_{\\frac{\\pi}{2}}^{\\pi}\\sin2x \\, dx - \\int_{\\frac{\\pi}{2}}^{\\pi}\\cos3x \\, dx$\n",
       "   $I = \\left[-\\frac{1}{2}\\cos2x\\right]_{\\frac{\\pi}{2}}^{\\pi} - \\left[\\frac{1}{3}\\sin3x\\right]_{\\frac{\\pi}{2}}^{\\pi}$\n",
       "\n",
       "3. **Thay cận vào:**\n",
       "   $I = \\left(-\\frac{1}{2}\\cos(2\\pi) - \\left(-\\frac{1}{2}\\cos(\\pi)\\right)\\right) - \\left(\\frac{1}{3}\\sin(3\\pi) - \\frac{1}{3}\\sin(\\frac{3\\pi}{2})\\right)$\n",
       "   $I = \\left(-\\frac{1}{2}(1) - \\left(-\\frac{1}{2}(-1)\\right)\\right) - \\left(\\frac{1}{3}(0) - \\frac{1}{3}(-1)\\right)$\n",
       "   $I = \\left(-\\frac{1}{2} - \\frac{1}{2}\\right) - \\left(0 + \\frac{1}{3}\\right)$\n",
       "   $I = -1 - \\frac{1}{3}$\n",
       "   $I = -\\frac{4}{3}$\n",
       "\n",
       "Vậy, $I = -\\frac{4}{3}$.\n",
       "\n"
      ],
      "text/plain": [
       "<IPython.core.display.Latex object>"
      ]
     },
     "metadata": {},
     "output_type": "display_data"
    },
    {
     "name": "stderr",
     "output_type": "stream",
     "text": [
      "Processing Questions:  70%|██████▉   | 113/162 [08:34<03:05,  3.79s/it]"
     ]
    },
    {
     "data": {
      "text/latex": [
       "\n",
       "Để tính tích phân $I = \\int_{0}^{1} \\frac{x}{4-x^2} dx$, ta thực hiện các bước sau:\n",
       "\n",
       "1. **Đặt ẩn phụ:** Đặt $u = 4 - x^2$. Khi đó, $du = -2x dx$, suy ra $x dx = -\\frac{1}{2} du$.\n",
       "\n",
       "2. **Đổi cận tích phân:**\n",
       "    * Khi $x = 0$, ta có $u = 4 - 0^2 = 4$.\n",
       "    * Khi $x = 1$, ta có $u = 4 - 1^2 = 3$.\n",
       "\n",
       "3. **Thay thế vào tích phân:**\n",
       "$I = \\int_{4}^{3} \\frac{-\\frac{1}{2} du}{u} = -\\frac{1}{2} \\int_{4}^{3} \\frac{1}{u} du$\n",
       "\n",
       "4. **Đổi cận và đổi dấu:**\n",
       "$I = \\frac{1}{2} \\int_{3}^{4} \\frac{1}{u} du$\n",
       "\n",
       "5. **Tính tích phân:**\n",
       "$I = \\frac{1}{2} [\\ln|u|]_{3}^{4} = \\frac{1}{2} (\\ln 4 - \\ln 3) = \\frac{1}{2} \\ln \\frac{4}{3}$\n",
       "\n",
       "Vậy, $I = \\frac{1}{2} \\ln \\frac{4}{3}$.\n",
       "\n"
      ],
      "text/plain": [
       "<IPython.core.display.Latex object>"
      ]
     },
     "metadata": {},
     "output_type": "display_data"
    },
    {
     "name": "stderr",
     "output_type": "stream",
     "text": [
      "Processing Questions:  70%|███████   | 114/162 [08:37<02:53,  3.61s/it]"
     ]
    },
    {
     "data": {
      "text/latex": [
       "\n",
       "Để tính tích phân $I = \\int_{0}^{1} \\frac{dx}{(1+x)^3}$, ta thực hiện các bước sau:\n",
       "\n",
       "**Bước 1: Đặt biến**\n",
       "\n",
       "Đặt $u = 1 + x$. Khi đó, $du = dx$.\n",
       "\n",
       "**Bước 2: Đổi cận tích phân**\n",
       "\n",
       "*   Khi $x = 0$, ta có $u = 1 + 0 = 1$.\n",
       "*   Khi $x = 1$, ta có $u = 1 + 1 = 2$.\n",
       "\n",
       "**Bước 3: Thay đổi tích phân theo biến mới**\n",
       "\n",
       "Tích phân trở thành:\n",
       "$I = \\int_{1}^{2} \\frac{du}{u^3} = \\int_{1}^{2} u^{-3} du$\n",
       "\n",
       "**Bước 4: Tính tích phân**\n",
       "\n",
       "Sử dụng công thức $\\int x^n dx = \\frac{x^{n+1}}{n+1} + C$, ta có:\n",
       "\n",
       "$I = \\int_{1}^{2} u^{-3} du = \\left[ \\frac{u^{-2}}{-2} \\right]_{1}^{2} = \\left[ -\\frac{1}{2u^2} \\right]_{1}^{2}$\n",
       "\n",
       "**Bước 5: Thay cận và tính kết quả**\n",
       "\n",
       "$I = -\\frac{1}{2(2^2)} - \\left(-\\frac{1}{2(1^2)}\\right) = -\\frac{1}{8} + \\frac{1}{2} = \\frac{-1+4}{8} = \\frac{3}{8}$\n",
       "\n",
       "Vậy, $I = \\frac{3}{8}$.\n",
       "\n"
      ],
      "text/plain": [
       "<IPython.core.display.Latex object>"
      ]
     },
     "metadata": {},
     "output_type": "display_data"
    },
    {
     "name": "stderr",
     "output_type": "stream",
     "text": [
      "Processing Questions:  71%|███████   | 115/162 [08:42<03:04,  3.94s/it]"
     ]
    },
    {
     "data": {
      "text/latex": [
       "\n",
       "Ta có:\n",
       "$I = \\int_{0}^{1} \\frac{x-2}{x^2-4x+5} dx$\n",
       "\n",
       "Đặt $t = x^2 - 4x + 5$, suy ra $dt = (2x-4) dx = 2(x-2) dx$. Do đó $(x-2) dx = \\frac{1}{2} dt$.\n",
       "Khi $x=0$, $t = 0^2 - 4(0) + 5 = 5$.\n",
       "Khi $x=1$, $t = 1^2 - 4(1) + 5 = 2$.\n",
       "\n",
       "Vậy:\n",
       "$I = \\int_{5}^{2} \\frac{1}{t} \\frac{1}{2} dt = \\frac{1}{2} \\int_{5}^{2} \\frac{1}{t} dt = \\frac{1}{2} [\\ln |t|]_{5}^{2} = \\frac{1}{2} (\\ln 2 - \\ln 5) = \\frac{1}{2} \\ln \\frac{2}{5}$\n",
       "\n",
       "Vậy $I = \\frac{1}{2} \\ln \\frac{2}{5}$\n",
       "\n"
      ],
      "text/plain": [
       "<IPython.core.display.Latex object>"
      ]
     },
     "metadata": {},
     "output_type": "display_data"
    },
    {
     "name": "stderr",
     "output_type": "stream",
     "text": [
      "Processing Questions:  72%|███████▏  | 116/162 [08:45<02:41,  3.51s/it]"
     ]
    },
    {
     "data": {
      "text/latex": [
       "\n",
       "Ta có tích phân $I = \\int_{-1}^{0} \\frac{dx}{(2x-1)^2}$.\n",
       "\n",
       "Đặt $u = 2x - 1$, suy ra $du = 2dx$, hay $dx = \\frac{1}{2} du$.\n",
       "Khi $x = -1$, $u = 2(-1) - 1 = -3$.\n",
       "Khi $x = 0$, $u = 2(0) - 1 = -1$.\n",
       "\n",
       "Do đó,\n",
       "$$I = \\int_{-3}^{-1} \\frac{1}{u^2} \\cdot \\frac{1}{2} du = \\frac{1}{2} \\int_{-3}^{-1} u^{-2} du = \\frac{1}{2} \\left[ \\frac{u^{-1}}{-1} \\right]_{-3}^{-1} = \\frac{1}{2} \\left[ -\\frac{1}{u} \\right]_{-3}^{-1}$$\n",
       "$$I = \\frac{1}{2} \\left( -\\frac{1}{-1} - \\left(-\\frac{1}{-3}\\right) \\right) = \\frac{1}{2} \\left( 1 - \\frac{1}{3} \\right) = \\frac{1}{2} \\cdot \\frac{2}{3} = \\frac{1}{3}$$\n",
       "\n",
       "Vậy, $I = \\frac{1}{3}$.\n",
       "\n"
      ],
      "text/plain": [
       "<IPython.core.display.Latex object>"
      ]
     },
     "metadata": {},
     "output_type": "display_data"
    },
    {
     "name": "stderr",
     "output_type": "stream",
     "text": [
      "Processing Questions:  72%|███████▏  | 117/162 [08:48<02:42,  3.61s/it]"
     ]
    },
    {
     "data": {
      "text/latex": [
       "\n",
       "Để tính tích phân $I = \\int_{0}^{1} \\frac{e^x}{e^x+1} dx$, ta thực hiện các bước sau:\n",
       "\n",
       "1. Đặt $u = e^x + 1$. Khi đó, $du = e^x dx$.\n",
       "2. Đổi cận tích phân:\n",
       "   - Khi $x = 0$, ta có $u = e^0 + 1 = 1 + 1 = 2$.\n",
       "   - Khi $x = 1$, ta có $u = e^1 + 1 = e + 1$.\n",
       "3. Thay thế vào tích phân, ta được:\n",
       "   $I = \\int_{2}^{e+1} \\frac{1}{u} du$\n",
       "4. Tính tích phân:\n",
       "   $I = \\left[ \\ln|u| \\right]_{2}^{e+1} = \\ln(e+1) - \\ln(2) = \\ln\\left(\\frac{e+1}{2}\\right)$\n",
       "\n",
       "Vậy, $I = \\ln\\left(\\frac{e+1}{2}\\right)$\n",
       "\n"
      ],
      "text/plain": [
       "<IPython.core.display.Latex object>"
      ]
     },
     "metadata": {},
     "output_type": "display_data"
    },
    {
     "name": "stderr",
     "output_type": "stream",
     "text": [
      "Processing Questions:  73%|███████▎  | 118/162 [08:52<02:37,  3.58s/it]"
     ]
    },
    {
     "data": {
      "text/latex": [
       "\n",
       "Ta có tích phân $I = \\int_{0}^{\\frac{\\pi}{2}} \\sin^2x \\cos x dx$.\n",
       "Đặt $t = \\sin x$. Khi đó $dt = \\cos x dx$.\n",
       "Đổi cận:\n",
       "- Khi $x = 0$, thì $t = \\sin 0 = 0$.\n",
       "- Khi $x = \\frac{\\pi}{2}$, thì $t = \\sin \\frac{\\pi}{2} = 1$.\n",
       "Vậy, tích phân trở thành:\n",
       "$I = \\int_{0}^{1} t^2 dt = \\left[ \\frac{t^3}{3} \\right]_0^1 = \\frac{1^3}{3} - \\frac{0^3}{3} = \\frac{1}{3} - 0 = \\frac{1}{3}$.\n",
       "\n"
      ],
      "text/plain": [
       "<IPython.core.display.Latex object>"
      ]
     },
     "metadata": {},
     "output_type": "display_data"
    },
    {
     "name": "stderr",
     "output_type": "stream",
     "text": [
      "Processing Questions:  73%|███████▎  | 119/162 [08:55<02:25,  3.39s/it]"
     ]
    },
    {
     "data": {
      "text/latex": [
       "\n",
       "Để tính tích phân $I = \\int_{0}^{\\frac{\\pi}{4}} \\frac{\\sin x}{\\cos x} dx$, ta có thể sử dụng phương pháp đổi biến số.\n",
       "\n",
       "Đặt $u = \\cos x$, suy ra $du = -\\sin x dx$, hay $\\sin x dx = -du$.\n",
       "\n",
       "Khi $x = 0$, ta có $u = \\cos 0 = 1$.\n",
       "Khi $x = \\frac{\\pi}{4}$, ta có $u = \\cos \\frac{\\pi}{4} = \\frac{\\sqrt{2}}{2}$.\n",
       "\n",
       "Vậy, tích phân trở thành:\n",
       "$I = \\int_{1}^{\\frac{\\sqrt{2}}{2}} \\frac{-du}{u} = -\\int_{1}^{\\frac{\\sqrt{2}}{2}} \\frac{1}{u} du = -[\\ln |u|]_{1}^{\\frac{\\sqrt{2}}{2}} = -(\\ln \\frac{\\sqrt{2}}{2} - \\ln 1) = -(\\ln \\frac{\\sqrt{2}}{2} - 0) = -\\ln \\frac{\\sqrt{2}}{2} = -\\ln (2^{-\\frac{1}{2}}) = -(-\\frac{1}{2} \\ln 2) = \\frac{1}{2} \\ln 2$.\n",
       "\n"
      ],
      "text/plain": [
       "<IPython.core.display.Latex object>"
      ]
     },
     "metadata": {},
     "output_type": "display_data"
    },
    {
     "name": "stderr",
     "output_type": "stream",
     "text": [
      "Processing Questions:  74%|███████▍  | 120/162 [08:59<02:28,  3.54s/it]"
     ]
    },
    {
     "data": {
      "text/latex": [
       "\n",
       "Ta có tích phân $I = \\int_{0}^{\\frac{\\pi}{2}}(x + \\sin^2x)\\cos x dx$.\n",
       "Ta tách tích phân thành hai phần:\n",
       "$I = \\int_{0}^{\\frac{\\pi}{2}}x\\cos x dx + \\int_{0}^{\\frac{\\pi}{2}}\\sin^2x \\cos x dx$\n",
       "Tính $I_1 = \\int_{0}^{\\frac{\\pi}{2}}x\\cos x dx$ bằng phương pháp tích phân từng phần:\n",
       "Đặt $u = x$, $dv = \\cos x dx$. Khi đó $du = dx$, $v = \\sin x$.\n",
       "$I_1 = x\\sin x \\Big|_{0}^{\\frac{\\pi}{2}} - \\int_{0}^{\\frac{\\pi}{2}}\\sin x dx = \\frac{\\pi}{2}\\sin(\\frac{\\pi}{2}) - 0 - (-\\cos x)\\Big|_{0}^{\\frac{\\pi}{2}} = \\frac{\\pi}{2} + \\cos(\\frac{\\pi}{2}) - \\cos(0) = \\frac{\\pi}{2} + 0 - 1 = \\frac{\\pi}{2} - 1$.\n",
       "Tính $I_2 = \\int_{0}^{\\frac{\\pi}{2}}\\sin^2x \\cos x dx$.\n",
       "Đặt $t = \\sin x$, suy ra $dt = \\cos x dx$. Khi $x = 0$ thì $t = 0$, khi $x = \\frac{\\pi}{2}$ thì $t = 1$.\n",
       "$I_2 = \\int_{0}^{1}t^2 dt = \\frac{t^3}{3}\\Big|_{0}^{1} = \\frac{1}{3} - 0 = \\frac{1}{3}$.\n",
       "Vậy $I = I_1 + I_2 = \\frac{\\pi}{2} - 1 + \\frac{1}{3} = \\frac{\\pi}{2} - \\frac{2}{3}$.\n",
       "\n"
      ],
      "text/plain": [
       "<IPython.core.display.Latex object>"
      ]
     },
     "metadata": {},
     "output_type": "display_data"
    },
    {
     "name": "stderr",
     "output_type": "stream",
     "text": [
      "Processing Questions:  75%|███████▍  | 121/162 [09:03<02:30,  3.67s/it]"
     ]
    },
    {
     "data": {
      "text/latex": [
       "\n",
       "Để tính tích phân $I = \\int_{1}^{2}(4x + 3) \\ln x dx$, ta sử dụng phương pháp tích phân từng phần.\n",
       "\n",
       "Đặt $u = \\ln x$ và $dv = (4x + 3) dx$. Khi đó, ta có $du = \\frac{1}{x} dx$ và $v = \\int (4x + 3) dx = 2x^2 + 3x$.\n",
       "\n",
       "Áp dụng công thức tích phân từng phần $\\int u dv = uv - \\int v du$, ta có:\n",
       "$I = \\int_{1}^{2}(4x + 3) \\ln x dx = (2x^2 + 3x)\\ln x \\Big|_1^2 - \\int_1^2 (2x^2 + 3x) \\frac{1}{x} dx$\n",
       "$= (2(2^2) + 3(2))\\ln 2 - (2(1^2) + 3(1))\\ln 1 - \\int_1^2 (2x + 3) dx$\n",
       "$= (8 + 6)\\ln 2 - (2 + 3)(0) - [x^2 + 3x]_1^2$\n",
       "$= 14 \\ln 2 - [(2^2 + 3(2)) - (1^2 + 3(1))]$\n",
       "$= 14 \\ln 2 - [(4 + 6) - (1 + 3)]$\n",
       "$= 14 \\ln 2 - [10 - 4]$\n",
       "$= 14 \\ln 2 - 6$\n",
       "\n",
       "Vậy, $I = 14 \\ln 2 - 6$.\n",
       "\n"
      ],
      "text/plain": [
       "<IPython.core.display.Latex object>"
      ]
     },
     "metadata": {},
     "output_type": "display_data"
    },
    {
     "name": "stderr",
     "output_type": "stream",
     "text": [
      "Processing Questions:  75%|███████▌  | 122/162 [09:07<02:34,  3.86s/it]"
     ]
    },
    {
     "data": {
      "text/latex": [
       "\n",
       "Ta có:\n",
       "$I = \\int_{0}^{\\frac{\\pi}{2}} x(2 + \\sin 2x) dx = \\int_{0}^{\\frac{\\pi}{2}} 2x dx + \\int_{0}^{\\frac{\\pi}{2}} x \\sin 2x dx$\n",
       "\n",
       "Tính $I_1 = \\int_{0}^{\\frac{\\pi}{2}} 2x dx$:\n",
       "$I_1 = [x^2]_{0}^{\\frac{\\pi}{2}} = (\\frac{\\pi}{2})^2 - 0^2 = \\frac{\\pi^2}{4}$\n",
       "\n",
       "Tính $I_2 = \\int_{0}^{\\frac{\\pi}{2}} x \\sin 2x dx$:\n",
       "Sử dụng tích phân từng phần:\n",
       "Đặt $u = x$, $dv = \\sin 2x dx$\n",
       "$du = dx$, $v = -\\frac{1}{2} \\cos 2x$\n",
       "\n",
       "$I_2 = \\int_{0}^{\\frac{\\pi}{2}} x \\sin 2x dx = [-\\frac{1}{2} x \\cos 2x]_{0}^{\\frac{\\pi}{2}} - \\int_{0}^{\\frac{\\pi}{2}} -\\frac{1}{2} \\cos 2x dx$\n",
       "$I_2 = [-\\frac{1}{2} x \\cos 2x]_{0}^{\\frac{\\pi}{2}} + \\frac{1}{2} \\int_{0}^{\\frac{\\pi}{2}} \\cos 2x dx$\n",
       "$I_2 = [-\\frac{1}{2} x \\cos 2x]_{0}^{\\frac{\\pi}{2}} + \\frac{1}{2} [\\frac{1}{2} \\sin 2x]_{0}^{\\frac{\\pi}{2}}$\n",
       "$I_2 = (-\\frac{1}{2} \\cdot \\frac{\\pi}{2} \\cos \\pi - 0) + \\frac{1}{4} (\\sin \\pi - \\sin 0)$\n",
       "$I_2 = -\\frac{1}{2} \\cdot \\frac{\\pi}{2} (-1) + \\frac{1}{4} (0 - 0) = \\frac{\\pi}{4}$\n",
       "\n",
       "Vậy, $I = I_1 + I_2 = \\frac{\\pi^2}{4} + \\frac{\\pi}{4} = \\frac{\\pi^2 + \\pi}{4} = \\frac{\\pi(\\pi + 1)}{4}$\n",
       "\n"
      ],
      "text/plain": [
       "<IPython.core.display.Latex object>"
      ]
     },
     "metadata": {},
     "output_type": "display_data"
    },
    {
     "name": "stderr",
     "output_type": "stream",
     "text": [
      "Processing Questions:  76%|███████▌  | 123/162 [09:11<02:37,  4.03s/it]"
     ]
    },
    {
     "data": {
      "text/latex": [
       "\n",
       "Ta cần tính tích phân $I = \\int_{2}^{3} x[3x - 2\\ln(x - 1)]dx$. Ta tách tích phân này thành hai phần:\n",
       "$I = \\int_{2}^{3} 3x^2 dx - \\int_{2}^{3} 2x\\ln(x - 1) dx = I_1 - I_2$, với $I_1 = \\int_{2}^{3} 3x^2 dx$ và $I_2 = \\int_{2}^{3} 2x\\ln(x - 1) dx$.\n",
       "\n",
       "Tính $I_1$:\n",
       "$I_1 = \\int_{2}^{3} 3x^2 dx = x^3 \\Big|_2^3 = 3^3 - 2^3 = 27 - 8 = 19$.\n",
       "\n",
       "Tính $I_2$:\n",
       "Đặt $u = \\ln(x - 1)$ và $dv = 2x dx$. Khi đó, $du = \\frac{1}{x - 1} dx$ và $v = x^2$.\n",
       "Áp dụng tích phân từng phần:\n",
       "$I_2 = \\int_{2}^{3} 2x\\ln(x - 1) dx = x^2\\ln(x - 1) \\Big|_2^3 - \\int_{2}^{3} \\frac{x^2}{x - 1} dx$\n",
       "$= [3^2\\ln(3 - 1) - 2^2\\ln(2 - 1)] - \\int_{2}^{3} \\frac{x^2 - 1 + 1}{x - 1} dx$\n",
       "$= 9\\ln 2 - 4\\ln 1 - \\int_{2}^{3} \\frac{(x - 1)(x + 1) + 1}{x - 1} dx$\n",
       "$= 9\\ln 2 - 0 - \\int_{2}^{3} (x + 1 + \\frac{1}{x - 1}) dx$\n",
       "$= 9\\ln 2 - [\\frac{x^2}{2} + x + \\ln|x - 1|] \\Big|_2^3$\n",
       "$= 9\\ln 2 - [(\\frac{3^2}{2} + 3 + \\ln|3 - 1|) - (\\frac{2^2}{2} + 2 + \\ln|2 - 1|)]$\n",
       "$= 9\\ln 2 - [(\\frac{9}{2} + 3 + \\ln 2) - (2 + 2 + 0)]$\n",
       "$= 9\\ln 2 - (\\frac{15}{2} + \\ln 2 - 4)$\n",
       "$= 9\\ln 2 - \\frac{7}{2} - \\ln 2 = 8\\ln 2 - \\frac{7}{2}$.\n",
       "\n",
       "Vậy, $I = I_1 - I_2 = 19 - (8\\ln 2 - \\frac{7}{2}) = 19 - 8\\ln 2 + \\frac{7}{2} = \\frac{38 + 7}{2} - 8\\ln 2 = \\frac{45}{2} - 8\\ln 2$.\n",
       "\n"
      ],
      "text/plain": [
       "<IPython.core.display.Latex object>"
      ]
     },
     "metadata": {},
     "output_type": "display_data"
    },
    {
     "name": "stderr",
     "output_type": "stream",
     "text": [
      "Processing Questions:  77%|███████▋  | 124/162 [09:18<03:01,  4.78s/it]"
     ]
    },
    {
     "data": {
      "text/latex": [
       "\n",
       "Ta có:\n",
       "$I = \\int_{0}^{1} x(\\sqrt{x^2+1} + e^x)dx = \\int_{0}^{1} x\\sqrt{x^2+1} dx + \\int_{0}^{1} xe^x dx$\n",
       "\n",
       "Tính $I_1 = \\int_{0}^{1} x\\sqrt{x^2+1} dx$:\n",
       "Đặt $t = x^2 + 1 \\Rightarrow dt = 2x dx \\Rightarrow x dx = \\frac{1}{2} dt$\n",
       "Khi $x = 0 \\Rightarrow t = 1$\n",
       "Khi $x = 1 \\Rightarrow t = 2$\n",
       "Vậy $I_1 = \\int_{1}^{2} \\frac{1}{2} \\sqrt{t} dt = \\frac{1}{2} \\int_{1}^{2} t^{\\frac{1}{2}} dt = \\frac{1}{2} \\left[ \\frac{t^{\\frac{3}{2}}}{\\frac{3}{2}} \\right]_{1}^{2} = \\frac{1}{2} \\cdot \\frac{2}{3} \\left[ t^{\\frac{3}{2}} \\right]_{1}^{2} = \\frac{1}{3} (2\\sqrt{2} - 1)$\n",
       "\n",
       "Tính $I_2 = \\int_{0}^{1} xe^x dx$:\n",
       "Sử dụng tích phân từng phần:\n",
       "Đặt $u = x, dv = e^x dx$\n",
       "$\\Rightarrow du = dx, v = e^x$\n",
       "$I_2 = \\left[ xe^x \\right]_{0}^{1} - \\int_{0}^{1} e^x dx = (1 \\cdot e^1 - 0 \\cdot e^0) - \\left[ e^x \\right]_{0}^{1} = e - (e^1 - e^0) = e - e + 1 = 1$\n",
       "\n",
       "Vậy $I = I_1 + I_2 = \\frac{1}{3} (2\\sqrt{2} - 1) + 1 = \\frac{2\\sqrt{2} - 1 + 3}{3} = \\frac{2\\sqrt{2} + 2}{3}$\n",
       "\n"
      ],
      "text/plain": [
       "<IPython.core.display.Latex object>"
      ]
     },
     "metadata": {},
     "output_type": "display_data"
    },
    {
     "name": "stderr",
     "output_type": "stream",
     "text": [
      "Processing Questions:  77%|███████▋  | 125/162 [09:23<03:01,  4.92s/it]"
     ]
    },
    {
     "data": {
      "text/latex": [
       "\n",
       "Ta có tích phân $I = \\int_{0}^{\\pi} (x + \\cos^5 x) \\sin x dx = \\int_{0}^{\\pi} x \\sin x dx + \\int_{0}^{\\pi} \\cos^5 x \\sin x dx$.\n",
       "\n",
       "Tính $I_1 = \\int_{0}^{\\pi} x \\sin x dx$. Sử dụng tích phân từng phần:\n",
       "Đặt $u = x$ và $dv = \\sin x dx$. Suy ra $du = dx$ và $v = -\\cos x$.\n",
       "$I_1 = \\int_{0}^{\\pi} x \\sin x dx = -x \\cos x \\Big|_0^{\\pi} - \\int_{0}^{\\pi} (-\\cos x) dx = -x \\cos x \\Big|_0^{\\pi} + \\int_{0}^{\\pi} \\cos x dx = -x \\cos x \\Big|_0^{\\pi} + \\sin x \\Big|_0^{\\pi} = (-\\pi \\cos \\pi - 0) + (\\sin \\pi - \\sin 0) = -\\pi(-1) + 0 = \\pi$.\n",
       "\n",
       "Tính $I_2 = \\int_{0}^{\\pi} \\cos^5 x \\sin x dx$.\n",
       "Đặt $t = \\cos x$, suy ra $dt = -\\sin x dx$. Khi $x = 0$ thì $t = \\cos 0 = 1$, khi $x = \\pi$ thì $t = \\cos \\pi = -1$.\n",
       "$I_2 = \\int_{0}^{\\pi} \\cos^5 x \\sin x dx = \\int_{1}^{-1} t^5 (-dt) = -\\int_{1}^{-1} t^5 dt = \\int_{-1}^{1} t^5 dt = \\frac{t^6}{6} \\Big|_{-1}^{1} = \\frac{1^6}{6} - \\frac{(-1)^6}{6} = \\frac{1}{6} - \\frac{1}{6} = 0$.\n",
       "\n",
       "Vậy $I = I_1 + I_2 = \\pi + 0 = \\pi$.\n",
       "\n"
      ],
      "text/plain": [
       "<IPython.core.display.Latex object>"
      ]
     },
     "metadata": {},
     "output_type": "display_data"
    },
    {
     "name": "stderr",
     "output_type": "stream",
     "text": [
      "Processing Questions:  78%|███████▊  | 126/162 [09:28<02:53,  4.82s/it]"
     ]
    },
    {
     "data": {
      "text/latex": [
       "\n",
       "Ta tính tích phân $I = \\int_{1}^{e} (\\frac{1}{x} + \\frac{1}{x^2}) \\ln x dx$\n",
       "Đặt $u = \\ln x \\Rightarrow du = \\frac{1}{x} dx$\n",
       "$dv = (\\frac{1}{x} + \\frac{1}{x^2}) dx \\Rightarrow v = \\int (\\frac{1}{x} + \\frac{1}{x^2}) dx = \\ln x - \\frac{1}{x}$\n",
       "Khi đó\n",
       "$I = (\\ln x - \\frac{1}{x})\\ln x|_{1}^{e} - \\int_{1}^{e} \\frac{1}{x}(\\ln x - \\frac{1}{x}) dx$\n",
       "$= (\\ln e - \\frac{1}{e})\\ln e - (\\ln 1 - \\frac{1}{1})\\ln 1 - \\int_{1}^{e} (\\frac{\\ln x}{x} - \\frac{1}{x^2}) dx$\n",
       "$= (1 - \\frac{1}{e}).1 - (0 - 1).0 - \\int_{1}^{e} \\frac{\\ln x}{x} dx + \\int_{1}^{e} \\frac{1}{x^2} dx$\n",
       "$= 1 - \\frac{1}{e} - \\int_{1}^{e} \\frac{\\ln x}{x} dx + \\int_{1}^{e} \\frac{1}{x^2} dx$\n",
       "Tính $I_1 = \\int_{1}^{e} \\frac{\\ln x}{x} dx$\n",
       "Đặt $t = \\ln x \\Rightarrow dt = \\frac{1}{x} dx$\n",
       "$x = 1 \\Rightarrow t = 0$\n",
       "$x = e \\Rightarrow t = 1$\n",
       "$I_1 = \\int_{0}^{1} t dt = \\frac{t^2}{2}|_{0}^{1} = \\frac{1}{2}$\n",
       "Tính $I_2 = \\int_{1}^{e} \\frac{1}{x^2} dx = -\\frac{1}{x}|_{1}^{e} = -\\frac{1}{e} - (-1) = 1 - \\frac{1}{e}$\n",
       "Vậy $I = 1 - \\frac{1}{e} - \\frac{1}{2} + 1 - \\frac{1}{e} = 2 - \\frac{1}{2} - \\frac{2}{e} = \\frac{3}{2} - \\frac{2}{e}$\n",
       "\n",
       "Vậy $I = \\frac{3}{2} - \\frac{2}{e}$\n",
       "\n"
      ],
      "text/plain": [
       "<IPython.core.display.Latex object>"
      ]
     },
     "metadata": {},
     "output_type": "display_data"
    },
    {
     "name": "stderr",
     "output_type": "stream",
     "text": [
      "Processing Questions:  78%|███████▊  | 127/162 [09:33<02:56,  5.03s/it]"
     ]
    },
    {
     "data": {
      "text/latex": [
       "\n",
       "Đặt $t = x^3$, suy ra $dt = 3x^2 dx$, do đó $x^2 dx = \\frac{1}{3} dt$.\n",
       "Ta có $x^5 (1 - x^3)^6 dx = x^3 (1 - x^3)^6 x^2 dx = t(1 - t)^6 \\frac{1}{3} dt$.\n",
       "Đổi cận:\n",
       "Khi $x = 0$, $t = 0^3 = 0$.\n",
       "Khi $x = 1$, $t = 1^3 = 1$.\n",
       "Vậy\n",
       "$I = \\int_{0}^{1} x^5 (1 - x^3)^6 dx = \\int_{0}^{1} t (1 - t)^6 \\frac{1}{3} dt = \\frac{1}{3} \\int_{0}^{1} t (1 - t)^6 dt$.\n",
       "\n",
       "Tính tích phân $\\int_{0}^{1} t (1 - t)^6 dt$ bằng phương pháp tích phân từng phần.\n",
       "Đặt $u = t$, $dv = (1 - t)^6 dt$.\n",
       "Suy ra $du = dt$, $v = \\int (1 - t)^6 dt = -\\frac{(1 - t)^7}{7}$.\n",
       "Vậy\n",
       "$\\int_{0}^{1} t (1 - t)^6 dt = \\left[ -\\frac{t (1 - t)^7}{7} \\right]_{0}^{1} - \\int_{0}^{1} -\\frac{(1 - t)^7}{7} dt = \\left[ -\\frac{t (1 - t)^7}{7} \\right]_{0}^{1} + \\frac{1}{7} \\int_{0}^{1} (1 - t)^7 dt$\n",
       "$= \\left( -\\frac{1 (1 - 1)^7}{7} - \\left( -\\frac{0 (1 - 0)^7}{7} \\right) \\right) + \\frac{1}{7} \\left[ -\\frac{(1 - t)^8}{8} \\right]_{0}^{1} = (0 - 0) + \\frac{1}{7} \\left( -\\frac{(1 - 1)^8}{8} - \\left( -\\frac{(1 - 0)^8}{8} \\right) \\right)$\n",
       "$= 0 + \\frac{1}{7} \\left( 0 + \\frac{1}{8} \\right) = \\frac{1}{56}$.\n",
       "Vậy $I = \\frac{1}{3} \\cdot \\frac{1}{56} = \\frac{1}{168}$.\n",
       "\n"
      ],
      "text/plain": [
       "<IPython.core.display.Latex object>"
      ]
     },
     "metadata": {},
     "output_type": "display_data"
    },
    {
     "name": "stderr",
     "output_type": "stream",
     "text": [
      "Processing Questions:  79%|███████▉  | 128/162 [09:39<02:59,  5.28s/it]"
     ]
    },
    {
     "data": {
      "text/latex": [
       "\n",
       "Để tính tích phân $I = \\int_{-1}^{0} x^2(x + 1)^9 dx$, ta sử dụng phương pháp đổi biến.\n",
       "\n",
       "Đặt $t = x + 1$, suy ra $x = t - 1$ và $dx = dt$. Khi $x = -1$ thì $t = 0$, và khi $x = 0$ thì $t = 1$.\n",
       "\n",
       "Khi đó, tích phân trở thành:\n",
       "$I = \\int_{0}^{1} (t - 1)^2 t^9 dt = \\int_{0}^{1} (t^2 - 2t + 1) t^9 dt = \\int_{0}^{1} (t^{11} - 2t^{10} + t^9) dt$\n",
       "\n",
       "$I = \\int_{0}^{1} t^{11} dt - 2 \\int_{0}^{1} t^{10} dt + \\int_{0}^{1} t^9 dt$\n",
       "$I = \\left[ \\frac{t^{12}}{12} \\right]_0^1 - 2 \\left[ \\frac{t^{11}}{11} \\right]_0^1 + \\left[ \\frac{t^{10}}{10} \\right]_0^1$\n",
       "$I = \\frac{1^{12}}{12} - \\frac{0^{12}}{12} - 2 \\left( \\frac{1^{11}}{11} - \\frac{0^{11}}{11} \\right) + \\frac{1^{10}}{10} - \\frac{0^{10}}{10}$\n",
       "$I = \\frac{1}{12} - \\frac{2}{11} + \\frac{1}{10} = \\frac{1}{12} + \\frac{1}{10} - \\frac{2}{11}$\n",
       "$I = \\frac{5}{60} + \\frac{6}{60} - \\frac{2}{11} = \\frac{11}{60} - \\frac{2}{11} = \\frac{11 \\cdot 11 - 2 \\cdot 60}{660} = \\frac{121 - 120}{660} = \\frac{1}{660}$\n",
       "\n",
       "Vậy, $I = \\frac{1}{660}$.\n"
      ],
      "text/plain": [
       "<IPython.core.display.Latex object>"
      ]
     },
     "metadata": {},
     "output_type": "display_data"
    },
    {
     "name": "stderr",
     "output_type": "stream",
     "text": [
      "Processing Questions:  80%|███████▉  | 129/162 [09:44<02:53,  5.26s/it]"
     ]
    },
    {
     "data": {
      "text/latex": [
       "\n",
       "Đặt $u = 1 + 2x + 3x^2$. Khi đó $du = (2 + 6x) dx = 2(1 + 3x) dx$.\n",
       "Vậy $(1 + 3x) dx = \\frac{1}{2} du$.\n",
       "\n",
       "Khi $x = 0$, ta có $u = 1 + 2(0) + 3(0)^2 = 1$.\n",
       "Khi $x = 1$, ta có $u = 1 + 2(1) + 3(1)^2 = 1 + 2 + 3 = 6$.\n",
       "\n",
       "Do đó, tích phân trở thành:\n",
       "$$I = \\int_{0}^{1} (1 + 3x)(1 + 2x + 3x^2)^{10} dx = \\int_{1}^{6} u^{10} \\frac{1}{2} du = \\frac{1}{2} \\int_{1}^{6} u^{10} du$$\n",
       "$$= \\frac{1}{2} \\left[ \\frac{u^{11}}{11} \\right]_{1}^{6} = \\frac{1}{2} \\left( \\frac{6^{11}}{11} - \\frac{1^{11}}{11} \\right) = \\frac{1}{2} \\left( \\frac{6^{11} - 1}{11} \\right) = \\frac{6^{11} - 1}{22}$$\n",
       "$$= \\frac{362797056 - 1}{22} = \\frac{362797055}{22} = 16490775.2272727...$$\n",
       "\n",
       "Vậy $I = \\frac{6^{11} - 1}{22}$.\n",
       "\n"
      ],
      "text/plain": [
       "<IPython.core.display.Latex object>"
      ]
     },
     "metadata": {},
     "output_type": "display_data"
    },
    {
     "name": "stderr",
     "output_type": "stream",
     "text": [
      "Processing Questions:  80%|████████  | 130/162 [09:49<02:42,  5.09s/it]"
     ]
    },
    {
     "data": {
      "text/latex": [
       "\n",
       "Để tính tích phân $I = \\int_{2}^{\\sqrt{7}} \\frac{x}{\\sqrt{x^2-3}} dx$, ta sử dụng phương pháp đổi biến.\n",
       "\n",
       "Đặt $u = x^2 - 3$. Khi đó, $du = 2x dx$, suy ra $x dx = \\frac{1}{2} du$.\n",
       "\n",
       "Đổi cận:\n",
       "- Khi $x = 2$, $u = 2^2 - 3 = 4 - 3 = 1$.\n",
       "- Khi $x = \\sqrt{7}$, $u = (\\sqrt{7})^2 - 3 = 7 - 3 = 4$.\n",
       "\n",
       "Vậy, tích phân trở thành:\n",
       "$I = \\int_{1}^{4} \\frac{1}{\\sqrt{u}} \\cdot \\frac{1}{2} du = \\frac{1}{2} \\int_{1}^{4} u^{-1/2} du$\n",
       "\n",
       "Tính tích phân:\n",
       "$I = \\frac{1}{2} \\left[ \\frac{u^{1/2}}{1/2} \\right]_{1}^{4} = \\frac{1}{2} \\cdot 2 \\left[ \\sqrt{u} \\right]_{1}^{4} = \\left[ \\sqrt{u} \\right]_{1}^{4} = \\sqrt{4} - \\sqrt{1} = 2 - 1 = 1$\n",
       "\n"
      ],
      "text/plain": [
       "<IPython.core.display.Latex object>"
      ]
     },
     "metadata": {},
     "output_type": "display_data"
    },
    {
     "name": "stderr",
     "output_type": "stream",
     "text": [
      "Processing Questions:  81%|████████  | 131/162 [09:53<02:26,  4.72s/it]"
     ]
    },
    {
     "data": {
      "text/latex": [
       "\n",
       "Để tính tích phân $I = \\int_{1}^{e} \\frac{1}{x(1+\\ln x)} dx$, ta sử dụng phương pháp đổi biến số.\n",
       "\n",
       "Đặt $t = 1 + \\ln x$. Khi đó, $dt = \\frac{1}{x} dx$.\n",
       "\n",
       "Khi $x = 1$, ta có $t = 1 + \\ln 1 = 1 + 0 = 1$.\n",
       "\n",
       "Khi $x = e$, ta có $t = 1 + \\ln e = 1 + 1 = 2$.\n",
       "\n",
       "Vậy, tích phân trở thành:\n",
       "\n",
       "$I = \\int_{1}^{2} \\frac{1}{t} dt$\n",
       "\n",
       "$I = \\ln |t| \\Big|_{1}^{2}$\n",
       "\n",
       "$I = \\ln 2 - \\ln 1$\n",
       "\n",
       "$I = \\ln 2 - 0$\n",
       "\n",
       "$I = \\ln 2$\n",
       "\n",
       "Vậy, tích phân $I = \\int_{1}^{e} \\frac{1}{x(1+\\ln x)} dx = \\ln 2$.\n"
      ],
      "text/plain": [
       "<IPython.core.display.Latex object>"
      ]
     },
     "metadata": {},
     "output_type": "display_data"
    },
    {
     "name": "stderr",
     "output_type": "stream",
     "text": [
      "Processing Questions:  81%|████████▏ | 132/162 [09:56<02:09,  4.32s/it]"
     ]
    },
    {
     "data": {
      "text/latex": [
       "\n",
       "Đặt $t = \\ln x$. Khi đó, $dt = \\frac{1}{x} dx$.\n",
       "Khi $x=1$, ta có $t = \\ln 1 = 0$.\n",
       "Khi $x=e$, ta có $t = \\ln e = 1$.\n",
       "\n",
       "Vậy, tích phân trở thành:\n",
       "$I = \\int_{0}^{1} \\sin(t) dt$\n",
       "\n",
       "Ta có:\n",
       "$\\int \\sin(t) dt = -\\cos(t) + C$\n",
       "\n",
       "Do đó:\n",
       "$I = [-\\cos(t)]_{0}^{1} = -\\cos(1) - (-\\cos(0)) = -\\cos(1) + \\cos(0) = -\\cos(1) + 1 = 1 - \\cos(1)$.\n",
       "\n"
      ],
      "text/plain": [
       "<IPython.core.display.Latex object>"
      ]
     },
     "metadata": {},
     "output_type": "display_data"
    },
    {
     "name": "stderr",
     "output_type": "stream",
     "text": [
      "Processing Questions:  82%|████████▏ | 133/162 [09:59<01:53,  3.93s/it]"
     ]
    },
    {
     "data": {
      "text/latex": [
       "\n",
       "Ta có tích phân:\n",
       "$I = \\int_{e}^{e^2} \\frac{\\ln^2x}{x\\ln^5x} dx = \\int_{e}^{e^2} \\frac{1}{x\\ln^3x} dx$\n",
       "\n",
       "Đặt $t = \\ln x$, suy ra $dt = \\frac{1}{x}dx$.\n",
       "Khi $x = e$, thì $t = \\ln e = 1$.\n",
       "Khi $x = e^2$, thì $t = \\ln e^2 = 2$.\n",
       "\n",
       "Vậy, tích phân trở thành:\n",
       "$I = \\int_{1}^{2} \\frac{1}{t^3} dt = \\int_{1}^{2} t^{-3} dt$\n",
       "\n",
       "$I = \\left[ \\frac{t^{-2}}{-2} \\right]_{1}^{2} = \\left[ -\\frac{1}{2t^2} \\right]_{1}^{2}$\n",
       "\n",
       "$I = -\\frac{1}{2(2^2)} - \\left(-\\frac{1}{2(1^2)}\\right) = -\\frac{1}{8} + \\frac{1}{2} = \\frac{-1 + 4}{8} = \\frac{3}{8}$\n",
       "\n"
      ],
      "text/plain": [
       "<IPython.core.display.Latex object>"
      ]
     },
     "metadata": {},
     "output_type": "display_data"
    },
    {
     "name": "stderr",
     "output_type": "stream",
     "text": [
      "Processing Questions:  83%|████████▎ | 134/162 [10:03<01:46,  3.81s/it]"
     ]
    },
    {
     "data": {
      "text/latex": [
       "\n",
       "Ta có:\n",
       "$I = \\int_{\\frac{\\pi}{3}}^{\\frac{\\pi}{2}} \\frac{1 + \\sin x}{\\cos^2 x} dx$\n",
       "$= \\int_{\\frac{\\pi}{3}}^{\\frac{\\pi}{2}} \\left( \\frac{1}{\\cos^2 x} + \\frac{\\sin x}{\\cos^2 x} \\right) dx$\n",
       "$= \\int_{\\frac{\\pi}{3}}^{\\frac{\\pi}{2}} \\left( \\frac{1}{\\cos^2 x} + \\frac{\\sin x}{\\cos x} \\cdot \\frac{1}{\\cos x} \\right) dx$\n",
       "$= \\int_{\\frac{\\pi}{3}}^{\\frac{\\pi}{2}} \\left( \\frac{1}{\\cos^2 x} + \\tan x \\cdot \\frac{1}{\\cos x} \\right) dx$\n",
       "$= \\int_{\\frac{\\pi}{3}}^{\\frac{\\pi}{2}} \\frac{1}{\\cos^2 x} dx + \\int_{\\frac{\\pi}{3}}^{\\frac{\\pi}{2}} \\frac{\\sin x}{\\cos^2 x} dx$\n",
       "$= \\left[ \\tan x \\right]_{\\frac{\\pi}{3}}^{\\frac{\\pi}{2}} + \\int_{\\frac{\\pi}{3}}^{\\frac{\\pi}{2}} \\frac{\\sin x}{\\cos^2 x} dx$\n",
       "\n",
       "Đặt $t = \\cos x \\Rightarrow dt = -\\sin x dx \\Rightarrow -dt = \\sin x dx$.\n",
       "Khi $x = \\frac{\\pi}{3} \\Rightarrow t = \\cos \\frac{\\pi}{3} = \\frac{1}{2}$.\n",
       "Khi $x = \\frac{\\pi}{2} \\Rightarrow t = \\cos \\frac{\\pi}{2} = 0$.\n",
       "Do đó:\n",
       "$\\int_{\\frac{\\pi}{3}}^{\\frac{\\pi}{2}} \\frac{\\sin x}{\\cos^2 x} dx = \\int_{\\frac{1}{2}}^{0} \\frac{-dt}{t^2} = \\int_{0}^{\\frac{1}{2}} \\frac{dt}{t^2} = \\int_{0}^{\\frac{1}{2}} t^{-2} dt = \\left[ \\frac{t^{-1}}{-1} \\right]_{0}^{\\frac{1}{2}} = \\left[ -\\frac{1}{t} \\right]_{0}^{\\frac{1}{2}} = -2 - \\lim_{t \\to 0} \\left( -\\frac{1}{t} \\right)$.\n",
       "Tuy nhiên, $\\int_{\\frac{\\pi}{3}}^{\\frac{\\pi}{2}} \\frac{\\sin x}{\\cos^2 x} dx$ hội tụ. Vậy\n",
       "$\\int_{\\frac{\\pi}{3}}^{\\frac{\\pi}{2}} \\frac{\\sin x}{\\cos^2 x} dx = \\left[ \\frac{1}{\\cos x} \\right]_{\\frac{\\pi}{3}}^{\\frac{\\pi}{2}} = \\lim_{x \\to \\frac{\\pi}{2}} \\frac{1}{\\cos x} - \\frac{1}{\\cos \\frac{\\pi}{3}} = \\lim_{x \\to \\frac{\\pi}{2}} \\frac{1}{\\cos x} - 2$\n",
       "Vì $\\lim_{x \\to \\frac{\\pi}{2}} \\frac{1}{\\cos x} = +\\infty$ nên tích phân này không hội tụ.\n",
       "\n",
       "Ta viết lại tích phân như sau:\n",
       "$I = \\int_{\\frac{\\pi}{3}}^{\\frac{\\pi}{2}} \\frac{1 + \\sin x}{\\cos^2 x} dx = \\left[ \\tan x + \\frac{1}{\\cos x} \\right]_{\\frac{\\pi}{3}}^{\\frac{\\pi}{2}} = \\lim_{x \\to \\frac{\\pi}{2}} (\\tan x + \\frac{1}{\\cos x}) - (\\tan \\frac{\\pi}{3} + \\frac{1}{\\cos \\frac{\\pi}{3}})$\n",
       "$= \\lim_{x \\to \\frac{\\pi}{2}} (\\tan x + \\frac{1}{\\cos x}) - (\\sqrt{3} + 2)$\n",
       "$= \\lim_{x \\to \\frac{\\pi}{2}} (\\frac{\\sin x}{\\cos x} + \\frac{1}{\\cos x}) - (\\sqrt{3} + 2) = \\lim_{x \\to \\frac{\\pi}{2}} (\\frac{1 + \\sin x}{\\cos x}) - (\\sqrt{3} + 2)$\n",
       "Sử dụng quy tắc L'Hopital:\n",
       "$\\lim_{x \\to \\frac{\\pi}{2}} \\frac{1 + \\sin x}{\\cos x} = \\lim_{x \\to \\frac{\\pi}{2}} \\frac{\\cos x}{-\\sin x} = \\frac{0}{-1} = 0$.\n",
       "Vậy tích phân này không hội tụ.\n",
       "Tuy nhiên, $\\int \\frac{\\sin x}{\\cos^2 x} dx = \\frac{1}{\\cos x} + C$\n",
       "$I = [\\tan x + \\frac{1}{\\cos x}]_{\\frac{\\pi}{3}}^{\\frac{\\pi}{2}} = \\lim_{x \\to \\frac{\\pi}{2}} \\left( \\tan x + \\frac{1}{\\cos x} \\right) - (\\tan \\frac{\\pi}{3} + \\frac{1}{\\cos \\frac{\\pi}{3}}) = \\lim_{x \\to \\frac{\\pi}{2}} \\left( \\tan x + \\frac{1}{\\cos x} \\right) - (\\sqrt{3} + 2)$\n",
       "\n",
       "Có lẽ đề bài có vấn đề, vì tích phân này không hội tụ.\n",
       "Tuy nhiên, nếu coi như tích phân suy rộng, ta làm như sau:\n",
       "$I = \\int_{\\frac{\\pi}{3}}^{\\frac{\\pi}{2}} \\frac{1 + \\sin x}{\\cos^2 x} dx = \\lim_{b \\to \\frac{\\pi}{2}^-} \\int_{\\frac{\\pi}{3}}^{b} \\frac{1 + \\sin x}{\\cos^2 x} dx = \\lim_{b \\to \\frac{\\pi}{2}^-} [\\tan x + \\frac{1}{\\cos x}]_{\\frac{\\pi}{3}}^{b}$\n",
       "$= \\lim_{b \\to \\frac{\\pi}{2}^-} (\\tan b + \\frac{1}{\\cos b}) - (\\tan \\frac{\\pi}{3} + \\frac{1}{\\cos \\frac{\\pi}{3}}) = \\lim_{b \\to \\frac{\\pi}{2}^-} (\\tan b + \\frac{1}{\\cos b}) - (\\sqrt{3} + 2)$\n",
       "$\\lim_{x \\to \\frac{\\pi}{2}^-} (\\frac{\\sin x + 1}{\\cos x}) = \\lim_{x \\to \\frac{\\pi}{2}^-} \\frac{\\cos x}{-\\sin x} = \\frac{0}{-1} = 0$\n",
       "Vậy nên tích phân này không hội tụ.\n",
       "\n"
      ],
      "text/plain": [
       "<IPython.core.display.Latex object>"
      ]
     },
     "metadata": {},
     "output_type": "display_data"
    },
    {
     "name": "stderr",
     "output_type": "stream",
     "text": [
      "Processing Questions:  83%|████████▎ | 135/162 [10:15<02:47,  6.21s/it]"
     ]
    },
    {
     "data": {
      "text/latex": [
       "\n",
       "Đặt $x = 2\\sin t$, khi đó $dx = 2\\cos t dt$.\n",
       "Đổi cận:\n",
       "$x = 1 \\Rightarrow \\sin t = \\frac{1}{2} \\Rightarrow t = \\frac{\\pi}{6}$\n",
       "$x = 2 \\Rightarrow \\sin t = 1 \\Rightarrow t = \\frac{\\pi}{2}$\n",
       "Khi đó:\n",
       "$I = \\int_{\\frac{\\pi}{6}}^{\\frac{\\pi}{2}} (4\\sin^2 t) \\sqrt{4 - 4\\sin^2 t} (2\\cos t) dt$\n",
       "$= \\int_{\\frac{\\pi}{6}}^{\\frac{\\pi}{2}} 4\\sin^2 t \\cdot 2\\cos t \\cdot 2\\cos t dt$\n",
       "$= 16 \\int_{\\frac{\\pi}{6}}^{\\frac{\\pi}{2}} \\sin^2 t \\cos^2 t dt$\n",
       "$= 16 \\int_{\\frac{\\pi}{6}}^{\\frac{\\pi}{2}} \\frac{1}{4} \\sin^2 (2t) dt$\n",
       "$= 4 \\int_{\\frac{\\pi}{6}}^{\\frac{\\pi}{2}} \\frac{1 - \\cos(4t)}{2} dt$\n",
       "$= 2 \\int_{\\frac{\\pi}{6}}^{\\frac{\\pi}{2}} (1 - \\cos(4t)) dt$\n",
       "$= 2 \\left[t - \\frac{1}{4}\\sin(4t)\\right]_{\\frac{\\pi}{6}}^{\\frac{\\pi}{2}}$\n",
       "$= 2 \\left[ \\left(\\frac{\\pi}{2} - \\frac{1}{4}\\sin(2\\pi)\\right) - \\left(\\frac{\\pi}{6} - \\frac{1}{4}\\sin(\\frac{2\\pi}{3})\\right)\\right]$\n",
       "$= 2 \\left[ \\frac{\\pi}{2} - \\frac{\\pi}{6} + \\frac{1}{4} \\sin(\\frac{2\\pi}{3})\\right]$\n",
       "$= 2 \\left[ \\frac{\\pi}{3} + \\frac{1}{4} \\frac{\\sqrt{3}}{2}\\right]$\n",
       "$= \\frac{2\\pi}{3} + \\frac{\\sqrt{3}}{4}$\n",
       "\n"
      ],
      "text/plain": [
       "<IPython.core.display.Latex object>"
      ]
     },
     "metadata": {},
     "output_type": "display_data"
    },
    {
     "name": "stderr",
     "output_type": "stream",
     "text": [
      "Processing Questions:  84%|████████▍ | 136/162 [10:19<02:26,  5.64s/it]"
     ]
    },
    {
     "data": {
      "text/latex": [
       "\n",
       "Ta cần tính tích phân $I = \\int_{1}^{\\frac{2}{\\sqrt{3}}} \\frac{dx}{\\sqrt{x^2 - 1}}$.\n",
       "\n",
       "Đặt $x = \\cosh t$, suy ra $dx = \\sinh t dt$.\n",
       "Khi $x = 1$, ta có $\\cosh t = 1$, suy ra $t = 0$.\n",
       "Khi $x = \\frac{2}{\\sqrt{3}}$, ta có $\\cosh t = \\frac{2}{\\sqrt{3}}$, suy ra $t = \\operatorname{arcosh} \\frac{2}{\\sqrt{3}}$.\n",
       "Ta có $\\sqrt{x^2 - 1} = \\sqrt{\\cosh^2 t - 1} = \\sqrt{\\sinh^2 t} = |\\sinh t|$.\n",
       "Vì $t \\ge 0$, nên $\\sinh t \\ge 0$, suy ra $\\sqrt{x^2 - 1} = \\sinh t$.\n",
       "\n",
       "Vậy\n",
       "$$I = \\int_{0}^{\\operatorname{arcosh} \\frac{2}{\\sqrt{3}}} \\frac{\\sinh t dt}{\\sinh t} = \\int_{0}^{\\operatorname{arcosh} \\frac{2}{\\sqrt{3}}} dt = \\left. t \\right|_{0}^{\\operatorname{arcosh} \\frac{2}{\\sqrt{3}}} = \\operatorname{arcosh} \\frac{2}{\\sqrt{3}}$$\n",
       "Ta có $\\operatorname{arcosh} x = \\ln(x + \\sqrt{x^2 - 1})$.\n",
       "Vậy $\\operatorname{arcosh} \\frac{2}{\\sqrt{3}} = \\ln \\left( \\frac{2}{\\sqrt{3}} + \\sqrt{\\frac{4}{3} - 1} \\right) = \\ln \\left( \\frac{2}{\\sqrt{3}} + \\frac{1}{\\sqrt{3}} \\right) = \\ln \\frac{3}{\\sqrt{3}} = \\ln \\sqrt{3} = \\ln 3^{\\frac{1}{2}} = \\frac{1}{2} \\ln 3$.\n",
       "\n",
       "Một cách khác, đặt $x = \\sec \\theta$.\n",
       "Khi đó $dx = \\sec \\theta \\tan \\theta d\\theta$.\n",
       "$\\sqrt{x^2 - 1} = \\sqrt{\\sec^2 \\theta - 1} = \\sqrt{\\tan^2 \\theta} = |\\tan \\theta|$.\n",
       "\n",
       "Khi $x = 1$, $\\sec \\theta = 1$, suy ra $\\theta = 0$.\n",
       "Khi $x = \\frac{2}{\\sqrt{3}}$, $\\sec \\theta = \\frac{2}{\\sqrt{3}}$, suy ra $\\cos \\theta = \\frac{\\sqrt{3}}{2}$, suy ra $\\theta = \\frac{\\pi}{6}$.\n",
       "Với $\\theta \\in [0, \\frac{\\pi}{6}]$, ta có $\\tan \\theta \\ge 0$.\n",
       "\n",
       "Vậy\n",
       "$I = \\int_{0}^{\\frac{\\pi}{6}} \\frac{\\sec \\theta \\tan \\theta d\\theta}{\\tan \\theta} = \\int_{0}^{\\frac{\\pi}{6}} \\sec \\theta d\\theta = \\int_{0}^{\\frac{\\pi}{6}} \\frac{1}{\\cos \\theta} d\\theta = \\left. \\ln |\\sec \\theta + \\tan \\theta| \\right|_{0}^{\\frac{\\pi}{6}}$\n",
       "$= \\ln \\left| \\frac{2}{\\sqrt{3}} + \\frac{1}{\\sqrt{3}} \\right| - \\ln |1 + 0| = \\ln \\frac{3}{\\sqrt{3}} - 0 = \\ln \\sqrt{3} = \\frac{1}{2} \\ln 3$.\n",
       "\n"
      ],
      "text/plain": [
       "<IPython.core.display.Latex object>"
      ]
     },
     "metadata": {},
     "output_type": "display_data"
    },
    {
     "name": "stderr",
     "output_type": "stream",
     "text": [
      "Processing Questions:  85%|████████▍ | 137/162 [10:25<02:26,  5.85s/it]"
     ]
    },
    {
     "data": {
      "text/latex": [
       "\n",
       "Để tính tích phân $I = \\int_{0}^{1} \\frac{1}{1+x^2} dx$, ta nhận thấy rằng $\\frac{d}{dx}(\\arctan(x)) = \\frac{1}{1+x^2}$.\n",
       "Do đó, $I = \\int_{0}^{1} \\frac{1}{1+x^2} dx = \\arctan(x) \\Big|_0^1 = \\arctan(1) - \\arctan(0)$.\n",
       "Ta biết rằng $\\arctan(1) = \\frac{\\pi}{4}$ và $\\arctan(0) = 0$.\n",
       "Vậy, $I = \\frac{\\pi}{4} - 0 = \\frac{\\pi}{4}$.\n",
       "\n"
      ],
      "text/plain": [
       "<IPython.core.display.Latex object>"
      ]
     },
     "metadata": {},
     "output_type": "display_data"
    },
    {
     "name": "stderr",
     "output_type": "stream",
     "text": [
      "Processing Questions:  85%|████████▌ | 138/162 [10:27<01:50,  4.62s/it]"
     ]
    },
    {
     "data": {
      "text/latex": [
       "\n",
       "Để tính tích phân $I = \\int_{0}^{3} x^2\\sqrt{9 - x^2} dx$, ta sử dụng phương pháp đổi biến lượng giác.\n",
       "\n",
       "Đặt $x = 3\\sin t$, suy ra $dx = 3\\cos t dt$.\n",
       "Khi $x = 0$, ta có $3\\sin t = 0 \\implies \\sin t = 0 \\implies t = 0$.\n",
       "Khi $x = 3$, ta có $3\\sin t = 3 \\implies \\sin t = 1 \\implies t = \\frac{\\pi}{2}$.\n",
       "Khi đó,\n",
       "\\begin{align*}I &= \\int_{0}^{\\frac{\\pi}{2}} (3\\sin t)^2 \\sqrt{9 - (3\\sin t)^2} (3\\cos t) dt \\\\&= \\int_{0}^{\\frac{\\pi}{2}} 9\\sin^2 t \\sqrt{9 - 9\\sin^2 t} (3\\cos t) dt \\\\&= \\int_{0}^{\\frac{\\pi}{2}} 9\\sin^2 t \\sqrt{9(1 - \\sin^2 t)} (3\\cos t) dt \\\\&= \\int_{0}^{\\frac{\\pi}{2}} 9\\sin^2 t (3\\cos t) (3\\cos t) dt \\\\&= 81 \\int_{0}^{\\frac{\\pi}{2}} \\sin^2 t \\cos^2 t dt \\\\&= 81 \\int_{0}^{\\frac{\\pi}{2}} (\\sin t \\cos t)^2 dt \\\\&= 81 \\int_{0}^{\\frac{\\pi}{2}} \\left(\\frac{1}{2}\\sin 2t\\right)^2 dt \\\\&= 81 \\int_{0}^{\\frac{\\pi}{2}} \\frac{1}{4} \\sin^2 2t dt \\\\&= \\frac{81}{4} \\int_{0}^{\\frac{\\pi}{2}} \\sin^2 2t dt \\\\&= \\frac{81}{4} \\int_{0}^{\\frac{\\pi}{2}} \\frac{1 - \\cos 4t}{2} dt \\\\&= \\frac{81}{8} \\int_{0}^{\\frac{\\pi}{2}} (1 - \\cos 4t) dt \\\\&= \\frac{81}{8} \\left[ t - \\frac{1}{4}\\sin 4t \\right]_{0}^{\\frac{\\pi}{2}} \\\\&= \\frac{81}{8} \\left[ \\left(\\frac{\\pi}{2} - \\frac{1}{4}\\sin 2\\pi\\right) - \\left(0 - \\frac{1}{4}\\sin 0\\right) \\right] \\\\&= \\frac{81}{8} \\left[ \\frac{\\pi}{2} - 0 - 0 + 0 \\right] \\\\&= \\frac{81}{8} \\cdot \\frac{\\pi}{2} \\\\&= \\frac{81\\pi}{16}\\end{align*}\n",
       "\n",
       "Vậy $I = \\frac{81\\pi}{16}$.\n"
      ],
      "text/plain": [
       "<IPython.core.display.Latex object>"
      ]
     },
     "metadata": {},
     "output_type": "display_data"
    },
    {
     "name": "stderr",
     "output_type": "stream",
     "text": [
      "Processing Questions:  86%|████████▌ | 139/162 [10:33<01:57,  5.11s/it]"
     ]
    },
    {
     "data": {
      "text/latex": [
       "\n",
       "Để tính tích phân $I = \\int_{0}^{2} |x-1| dx$, ta xét dấu của biểu thức $x-1$ trên đoạn $[0, 2]$.\n",
       "Ta có $x-1 = 0 \\Leftrightarrow x = 1$.\n",
       "Khi $x \\in [0, 1]$, $x-1 \\le 0$, suy ra $|x-1| = -(x-1) = 1-x$.\n",
       "Khi $x \\in [1, 2]$, $x-1 \\ge 0$, suy ra $|x-1| = x-1$.\n",
       "Vậy, ta phân tích tích phân $I$ thành hai tích phân như sau:\n",
       "$I = \\int_{0}^{1} |x-1| dx + \\int_{1}^{2} |x-1| dx = \\int_{0}^{1} (1-x) dx + \\int_{1}^{2} (x-1) dx$\n",
       "Tính tích phân thứ nhất:\n",
       "$\\int_{0}^{1} (1-x) dx = \\left[ x - \\frac{x^2}{2} \\right]_{0}^{1} = \\left( 1 - \\frac{1}{2} \\right) - (0 - 0) = \\frac{1}{2}$\n",
       "Tính tích phân thứ hai:\n",
       "$\\int_{1}^{2} (x-1) dx = \\left[ \\frac{x^2}{2} - x \\right]_{1}^{2} = \\left( \\frac{4}{2} - 2 \\right) - \\left( \\frac{1}{2} - 1 \\right) = (2-2) - \\left( -\\frac{1}{2} \\right) = 0 + \\frac{1}{2} = \\frac{1}{2}$\n",
       "Vậy, $I = \\frac{1}{2} + \\frac{1}{2} = 1$.\n",
       "\n"
      ],
      "text/plain": [
       "<IPython.core.display.Latex object>"
      ]
     },
     "metadata": {},
     "output_type": "display_data"
    },
    {
     "name": "stderr",
     "output_type": "stream",
     "text": [
      "Processing Questions:  86%|████████▋ | 140/162 [10:38<01:46,  4.84s/it]"
     ]
    },
    {
     "data": {
      "text/latex": [
       "\n",
       "Để tính tích phân $I = \\int_{\\frac{\\pi}{4}}^{\\frac{3\\pi}{2}} |sin2x| dx$, ta xét dấu của $sin2x$ trên đoạn $\\left[\\frac{\\pi}{4}, \\frac{3\\pi}{2}\\right]$.\n",
       "$sin2x = 0 \\Leftrightarrow 2x = k\\pi \\Leftrightarrow x = \\frac{k\\pi}{2}$, với $k \\in \\mathbb{Z}$.\n",
       "Trên đoạn $\\left[\\frac{\\pi}{4}, \\frac{3\\pi}{2}\\right]$, ta có các nghiệm:\n",
       "$x_1 = \\frac{\\pi}{2}, x_2 = \\pi, x_3 = \\frac{3\\pi}{2}$.\n",
       "\n",
       "Vậy ta có:\n",
       "$I = \\int_{\\frac{\\pi}{4}}^{\\frac{3\\pi}{2}} |sin2x| dx = \\int_{\\frac{\\pi}{4}}^{\\frac{\\pi}{2}} sin2x dx + \\int_{\\frac{\\pi}{2}}^{\\pi} (-sin2x) dx + \\int_{\\pi}^{\\frac{3\\pi}{2}} sin2x dx $\n",
       "$= \\left[ -\\frac{1}{2}cos2x \\right]_{\\frac{\\pi}{4}}^{\\frac{\\pi}{2}} + \\left[ \\frac{1}{2}cos2x \\right]_{\\frac{\\pi}{2}}^{\\pi} + \\left[ -\\frac{1}{2}cos2x \\right]_{\\pi}^{\\frac{3\\pi}{2}}$\n",
       "$= -\\frac{1}{2}cos(\\pi) + \\frac{1}{2}cos(\\frac{\\pi}{2}) + \\frac{1}{2}cos(2\\pi) - \\frac{1}{2}cos(\\pi) -\\frac{1}{2}cos(3\\pi) + \\frac{1}{2}cos(2\\pi)$\n",
       "$= -\\frac{1}{2}(-1) + \\frac{1}{2}(0) + \\frac{1}{2}(1) - \\frac{1}{2}(-1) - \\frac{1}{2}(-1) + \\frac{1}{2}(1)$\n",
       "$= \\frac{1}{2} + 0 + \\frac{1}{2} + \\frac{1}{2} + \\frac{1}{2} + \\frac{1}{2} = \\frac{5}{2}$.\n",
       "\n"
      ],
      "text/plain": [
       "<IPython.core.display.Latex object>"
      ]
     },
     "metadata": {},
     "output_type": "display_data"
    },
    {
     "name": "stderr",
     "output_type": "stream",
     "text": [
      "Processing Questions:  87%|████████▋ | 141/162 [10:43<01:44,  4.98s/it]"
     ]
    },
    {
     "data": {
      "text/latex": [
       "\n",
       "Ta có $x^2 - 3x + 2 = (x-1)(x-2)$.\n",
       "Xét dấu của $x^2 - 3x + 2$ trên đoạn $[0;2]$:\n",
       "$x^2 - 3x + 2 = 0$ khi $x = 1$ hoặc $x = 2$.\n",
       "Vậy:\n",
       "- $0 \\le x < 1$: $x^2 - 3x + 2 > 0$\n",
       "- $1 < x < 2$: $x^2 - 3x + 2 < 0$\n",
       "- $x = 1$ hoặc $x = 2$: $x^2 - 3x + 2 = 0$\n",
       "\n",
       "Do đó,\n",
       "$|x^2 - 3x + 2| = \\begin{cases} x^2 - 3x + 2 & \\text{if } 0 \\le x \\le 1 \\\\ -(x^2 - 3x + 2) & \\text{if } 1 < x \\le 2 \\end{cases}$\n",
       "\n",
       "Vậy,\n",
       "\\begin{align*} I &= \\int_{0}^{2} |x^2 - 3x + 2| dx \\\\ &= \\int_{0}^{1} (x^2 - 3x + 2) dx + \\int_{1}^{2} (-x^2 + 3x - 2) dx \\\\ &= \\left[ \\frac{x^3}{3} - \\frac{3x^2}{2} + 2x \\right]_0^1 + \\left[ -\\frac{x^3}{3} + \\frac{3x^2}{2} - 2x \\right]_1^2 \\\\ &= \\left( \\frac{1}{3} - \\frac{3}{2} + 2 \\right) - 0 + \\left( -\\frac{8}{3} + \\frac{12}{2} - 4 \\right) - \\left( -\\frac{1}{3} + \\frac{3}{2} - 2 \\right) \\\\ &= \\frac{1}{3} - \\frac{3}{2} + 2 - \\frac{8}{3} + 6 - 4 + \\frac{1}{3} - \\frac{3}{2} + 2 \\\\ &= \\frac{2}{3} - \\frac{8}{3} - \\frac{6}{2} + 10 \\\\ &= -2 - 3 + 10 = 5 - 2 = 3 - \\frac{9}{2} + 4 = \\frac{5}{6} + \\frac{1}{6} = \\frac{1}{6} + \\frac{1}{6} = \\frac{1}{3} \\\\ &= \\frac{2 - 9 + 12}{6} + \\frac{-16 + 36 - 24 + 2 - 9 + 12}{6} = \\frac{5}{6} + \\frac{-16 + 36 - 24 + 5}{6} \\\\ &= \\frac{5}{6} - \\frac{-16 + 36 - 19}{6} = \\frac{5}{6} + \\frac{3}{6} = \\frac{1}{3}\\end{aligned}\n",
       "$\n",
       "$ \\left[ \\frac{x^3}{3} - \\frac{3x^2}{2} + 2x \\right]_0^1 = \\frac{1}{3} - \\frac{3}{2} + 2 = \\frac{2-9+12}{6} = \\frac{5}{6} $\n",
       "$ \\left[ -\\frac{x^3}{3} + \\frac{3x^2}{2} - 2x \\right]_1^2 = -\\frac{8}{3} + 6 - 4 - (-\\frac{1}{3} + \\frac{3}{2} - 2) = -\\frac{8}{3} + 2 + \\frac{1}{3} - \\frac{3}{2} + 2 = -\\frac{7}{3} + 4 - \\frac{3}{2} = \\frac{-14 + 24 - 9}{6} = \\frac{1}{6} $\n",
       "$ I = \\frac{5}{6} + \\frac{1}{6} = \\frac{6}{6} = 1 $\n"
      ],
      "text/plain": [
       "<IPython.core.display.Latex object>"
      ]
     },
     "metadata": {},
     "output_type": "display_data"
    },
    {
     "name": "stderr",
     "output_type": "stream",
     "text": [
      "Processing Questions:  88%|████████▊ | 142/162 [10:50<01:54,  5.72s/it]"
     ]
    },
    {
     "data": {
      "text/latex": [
       "\n",
       "Để tính tích phân $I = \\int_{-2}^{2} |x + 1| dx$, ta xét dấu của biểu thức $x + 1$.\n",
       "\n",
       "$x + 1 = 0 \\Leftrightarrow x = -1$.\n",
       "\n",
       "Vậy, ta có:\n",
       "$|x + 1| = \\begin{cases} x + 1, & \\text{nếu } x \\geq -1 \\\\ -(x + 1), & \\text{nếu } x < -1 \\end{cases}$\n",
       "\n",
       "Do đó, ta tách tích phân thành hai phần:\n",
       "$I = \\int_{-2}^{2} |x + 1| dx = \\int_{-2}^{-1} -(x + 1) dx + \\int_{-1}^{2} (x + 1) dx$\n",
       "\n",
       "Tính tích phân thứ nhất:\n",
       "$\\int_{-2}^{-1} -(x + 1) dx = -\\int_{-2}^{-1} (x + 1) dx = -\\left[ \\frac{x^2}{2} + x \\right]_{-2}^{-1} = -\\left[ \\left(\\frac{(-1)^2}{2} + (-1)\\right) - \\left(\\frac{(-2)^2}{2} + (-2)\\right) \\right] = -\\left[ \\frac{1}{2} - 1 - (2 - 2) \\right] = -\\left( -\\frac{1}{2} \\right) = \\frac{1}{2}$\n",
       "\n",
       "Tính tích phân thứ hai:\n",
       "$\\int_{-1}^{2} (x + 1) dx = \\left[ \\frac{x^2}{2} + x \\right]_{-1}^{2} = \\left( \\frac{2^2}{2} + 2 \\right) - \\left( \\frac{(-1)^2}{2} + (-1) \\right) = (2 + 2) - \\left( \\frac{1}{2} - 1 \\right) = 4 - \\left( -\\frac{1}{2} \\right) = 4 + \\frac{1}{2} = \\frac{9}{2}$\n",
       "\n",
       "Vậy, $I = \\frac{1}{2} + \\frac{9}{2} = \\frac{10}{2} = 5$.\n",
       "\n"
      ],
      "text/plain": [
       "<IPython.core.display.Latex object>"
      ]
     },
     "metadata": {},
     "output_type": "display_data"
    },
    {
     "name": "stderr",
     "output_type": "stream",
     "text": [
      "Processing Questions:  88%|████████▊ | 143/162 [10:55<01:44,  5.51s/it]"
     ]
    },
    {
     "data": {
      "text/latex": [
       "\n",
       "Để tính tích phân $I = \\int_{0}^{1} \\frac{2x^3 + 7x^2 + 3x - 1}{2x+1} dx$, ta thực hiện phép chia đa thức trước.\n",
       "\n",
       "Chia đa thức $2x^3 + 7x^2 + 3x - 1$ cho $2x+1$, ta được:\n",
       "$2x^3 + 7x^2 + 3x - 1 = (2x+1)(x^2 + 3x) - 1$\n",
       "$2x^3 + x^2 + 6x^2 + 3x - 1 = (2x+1)(x^2 + 3x) - 1$\n",
       "Vậy $\\frac{2x^3 + 7x^2 + 3x - 1}{2x+1} = x^2 + 3x - \\frac{1}{2x+1}$\n",
       "\n",
       "Do đó,\n",
       "$I = \\int_{0}^{1} (x^2 + 3x - \\frac{1}{2x+1}) dx = \\int_{0}^{1} x^2 dx + \\int_{0}^{1} 3x dx - \\int_{0}^{1} \\frac{1}{2x+1} dx$\n",
       "\n",
       "Tính từng tích phân:\n",
       "$\\int_{0}^{1} x^2 dx = \\frac{x^3}{3} \\Big|_0^1 = \\frac{1}{3}$\n",
       "$\\int_{0}^{1} 3x dx = \\frac{3x^2}{2} \\Big|_0^1 = \\frac{3}{2}$\n",
       "$\\int_{0}^{1} \\frac{1}{2x+1} dx = \\frac{1}{2} \\ln |2x+1| \\Big|_0^1 = \\frac{1}{2} (\\ln 3 - \\ln 1) = \\frac{1}{2} \\ln 3$\n",
       "\n",
       "Vậy $I = \\frac{1}{3} + \\frac{3}{2} - \\frac{1}{2} \\ln 3 = \\frac{2+9}{6} - \\frac{1}{2} \\ln 3 = \\frac{11}{6} - \\frac{1}{2} \\ln 3$\n"
      ],
      "text/plain": [
       "<IPython.core.display.Latex object>"
      ]
     },
     "metadata": {},
     "output_type": "display_data"
    },
    {
     "name": "stderr",
     "output_type": "stream",
     "text": [
      "Processing Questions:  89%|████████▉ | 144/162 [11:00<01:36,  5.36s/it]"
     ]
    },
    {
     "data": {
      "text/latex": [
       "\n",
       "Ta cần tính tích phân $I = \\int_{1}^{2} \\frac{dx}{x(x+1)^2}$.\n",
       "\n",
       "**Bước 1: Phân tích thành phân thức đơn giản**\n",
       "\n",
       "Ta phân tích phân thức $\\frac{1}{x(x+1)^2}$ thành các phân thức đơn giản. Giả sử:\n",
       "$\\frac{1}{x(x+1)^2} = \\frac{A}{x} + \\frac{B}{x+1} + \\frac{C}{(x+1)^2}$\n",
       "Quy đồng mẫu số, ta được:\n",
       "$1 = A(x+1)^2 + Bx(x+1) + Cx$\n",
       "$1 = A(x^2 + 2x + 1) + B(x^2 + x) + Cx$\n",
       "$1 = (A+B)x^2 + (2A+B+C)x + A$\n",
       "\n",
       "So sánh các hệ số, ta có hệ phương trình:\n",
       "$\\begin{cases}\n",
       "A+B = 0 \\\\\n",
       "2A+B+C = 0 \\\\\n",
       "A = 1\n",
       "\\end{cases}$\n",
       "\n",
       "Từ $A=1$, ta có $B = -A = -1$.\n",
       "Thay $A=1$ và $B=-1$ vào phương trình thứ hai, ta có:\n",
       "$2(1) + (-1) + C = 0 \\Rightarrow 1 + C = 0 \\Rightarrow C = -1$.\n",
       "\n",
       "Vậy, $\\frac{1}{x(x+1)^2} = \\frac{1}{x} - \\frac{1}{x+1} - \\frac{1}{(x+1)^2}$.\n",
       "\n",
       "**Bước 2: Tính tích phân**\n",
       "\n",
       "$I = \\int_{1}^{2} \\left( \\frac{1}{x} - \\frac{1}{x+1} - \\frac{1}{(x+1)^2} \\right) dx$\n",
       "$I = \\int_{1}^{2} \\frac{1}{x} dx - \\int_{1}^{2} \\frac{1}{x+1} dx - \\int_{1}^{2} \\frac{1}{(x+1)^2} dx$\n",
       "$I = \\left[ \\ln|x| \\right]_{1}^{2} - \\left[ \\ln|x+1| \\right]_{1}^{2} - \\left[ -\\frac{1}{x+1} \\right]_{1}^{2}$\n",
       "$I = (\\ln 2 - \\ln 1) - (\\ln 3 - \\ln 2) - \\left( -\\frac{1}{3} - \\left(-\\frac{1}{2}\\right) \\right)$\n",
       "$I = \\ln 2 - 0 - \\ln 3 + \\ln 2 + \\frac{1}{3} - \\frac{1}{2}$\n",
       "$I = 2\\ln 2 - \\ln 3 + \\frac{2}{6} - \\frac{3}{6}$\n",
       "$I = \\ln 4 - \\ln 3 - \\frac{1}{6}$\n",
       "$I = \\ln \\frac{4}{3} - \\frac{1}{6}$\n",
       "\n"
      ],
      "text/plain": [
       "<IPython.core.display.Latex object>"
      ]
     },
     "metadata": {},
     "output_type": "display_data"
    },
    {
     "name": "stderr",
     "output_type": "stream",
     "text": [
      "Processing Questions:  90%|████████▉ | 145/162 [11:07<01:36,  5.66s/it]"
     ]
    },
    {
     "data": {
      "text/latex": [
       "\n",
       "Ta có:\n",
       "$I = \\int_{0}^{1} \\frac{3x-1}{4x^2-4x+2} dx$\n",
       "\n",
       "Đặt $t = 4x^2 - 4x + 2$, suy ra $dt = (8x - 4) dx = 4(2x-1) dx$.\n",
       "Ta có $3x - 1 = \\frac{3}{2} (2x - 1) + \\frac{1}{2}$.\n",
       "Vậy,\n",
       "$I = \\int_{0}^{1} \\frac{\\frac{3}{2}(2x-1) + \\frac{1}{2}}{4x^2-4x+2} dx = \\frac{3}{2} \\int_{0}^{1} \\frac{2x-1}{4x^2-4x+2} dx + \\frac{1}{2} \\int_{0}^{1} \\frac{1}{4x^2-4x+2} dx$\n",
       "$= \\frac{3}{8} \\int_{0}^{1} \\frac{8x-4}{4x^2-4x+2} dx + \\frac{1}{2} \\int_{0}^{1} \\frac{1}{4(x^2-x) + 2} dx$\n",
       "$= \\frac{3}{8} \\int_{0}^{1} \\frac{dt}{t} + \\frac{1}{2} \\int_{0}^{1} \\frac{1}{4(x^2-x+\\frac{1}{4}) - 1 + 2} dx$\n",
       "$= \\frac{3}{8} \\int_{0}^{1} \\frac{dt}{t} + \\frac{1}{2} \\int_{0}^{1} \\frac{1}{4(x-\\frac{1}{2})^2 + 1} dx$\n",
       "$= \\frac{3}{8} \\ln|t| \\Big|_0^1 + \\frac{1}{2} \\int_{0}^{1} \\frac{1}{4(x-\\frac{1}{2})^2 + 1} dx$\n",
       "\n",
       "Khi $x = 0$, $t = 2$. Khi $x = 1$, $t = 2$.\n",
       "Vậy $\\frac{3}{8} \\ln|t| \\Big|_2^2 = \\frac{3}{8} (\\ln 2 - \\ln 2) = 0$.\n",
       "\n",
       "Đặt $u = 2(x - \\frac{1}{2}) = 2x - 1$, suy ra $du = 2dx$.\n",
       "Khi $x = 0$, $u = -1$. Khi $x = 1$, $u = 1$.\n",
       "$\\frac{1}{2} \\int_{0}^{1} \\frac{1}{4(x-\\frac{1}{2})^2 + 1} dx = \\frac{1}{2} \\int_{-1}^{1} \\frac{1}{u^2 + 1} \\frac{1}{2} du = \\frac{1}{4} \\int_{-1}^{1} \\frac{1}{u^2 + 1} du = \\frac{1}{4} \\arctan(u) \\Big|_{-1}^{1}$\n",
       "$= \\frac{1}{4} (\\arctan(1) - \\arctan(-1)) = \\frac{1}{4} (\\frac{\\pi}{4} - (-\\frac{\\pi}{4})) = \\frac{1}{4} (\\frac{\\pi}{2}) = \\frac{\\pi}{8}$\n",
       "\n",
       "Vậy $I = 0 + \\frac{\\pi}{8} = \\frac{\\pi}{8}$.\n",
       "\n"
      ],
      "text/plain": [
       "<IPython.core.display.Latex object>"
      ]
     },
     "metadata": {},
     "output_type": "display_data"
    },
    {
     "name": "stderr",
     "output_type": "stream",
     "text": [
      "Processing Questions:  90%|█████████ | 146/162 [11:12<01:27,  5.45s/it]"
     ]
    },
    {
     "data": {
      "text/latex": [
       "\n",
       "Ta có:\n",
       "$I = \\int_{0}^{1} \\frac{x^3 - 3x^2 + 2x - 1}{x-2} dx$\n",
       "\n",
       "Thực hiện phép chia đa thức:\n",
       "$x^3 - 3x^2 + 2x - 1 = (x-2)(x^2 - x) - 1$\n",
       "Suy ra\n",
       "$\\frac{x^3 - 3x^2 + 2x - 1}{x-2} = \\frac{(x-2)(x^2-x) - 1}{x-2} = x^2 - x - \\frac{1}{x-2}$\n",
       "\n",
       "Vậy\n",
       "$I = \\int_{0}^{1} \\left( x^2 - x - \\frac{1}{x-2} \\right) dx$\n",
       "$I = \\int_{0}^{1} x^2 dx - \\int_{0}^{1} x dx - \\int_{0}^{1} \\frac{1}{x-2} dx$\n",
       "$I = \\left[ \\frac{x^3}{3} \\right]_0^1 - \\left[ \\frac{x^2}{2} \\right]_0^1 - \\left[ \\ln|x-2| \\right]_0^1$\n",
       "$I = \\left( \\frac{1}{3} - 0 \\right) - \\left( \\frac{1}{2} - 0 \\right) - \\left( \\ln|1-2| - \\ln|0-2| \\right)$\n",
       "$I = \\frac{1}{3} - \\frac{1}{2} - (\\ln(1) - \\ln(2))$\n",
       "$I = \\frac{2-3}{6} - (0 - \\ln(2))$\n",
       "$I = -\\frac{1}{6} + \\ln(2)$\n",
       "\n"
      ],
      "text/plain": [
       "<IPython.core.display.Latex object>"
      ]
     },
     "metadata": {},
     "output_type": "display_data"
    },
    {
     "name": "stderr",
     "output_type": "stream",
     "text": [
      "Processing Questions:  91%|█████████ | 147/162 [11:15<01:13,  4.92s/it]"
     ]
    },
    {
     "data": {
      "text/latex": [
       "\n",
       "Để tính diện tích $S$ của hình phẳng giới hạn bởi parabol $(P): y = 3 - x^2$, đường thẳng $y = -2x + 3$, trục tung và $x = 1$, ta thực hiện các bước sau:\n",
       "\n",
       "1. **Tìm giao điểm của parabol và đường thẳng:**\n",
       "\n",
       "Giải phương trình $3 - x^2 = -2x + 3 \\Leftrightarrow x^2 - 2x = 0 \\Leftrightarrow x(x - 2) = 0$.\n",
       "Vậy $x = 0$ hoặc $x = 2$.\n",
       "Do đó, giao điểm của $(P)$ và đường thẳng là $(0, 3)$ và $(2, -1)$.\n",
       "\n",
       "2. **Xác định miền tích phân:**\n",
       "Miền tích phân được giới hạn bởi trục tung ($x=0$), đường thẳng $x=1$. Vì vậy, $x$ chạy từ $0$ đến $1$.\n",
       "\n",
       "3. **Xác định hàm số trên và hàm số dưới:**\n",
       "Trên đoạn $[0, 1]$, ta cần so sánh $y_1 = 3 - x^2$ và $y_2 = -2x + 3$.\n",
       "Xét hiệu $y_1 - y_2 = (3 - x^2) - (-2x + 3) = -x^2 + 2x = x(2 - x)$.\n",
       "Vì $0 \\le x \\le 1$, suy ra $2 - x > 0$, do đó $x(2 - x) \\ge 0$. Vậy $y_1 \\ge y_2$ trên đoạn $[0, 1]$.\n",
       "\n",
       "4. **Tính diện tích:**\n",
       "Diện tích $S$ được tính bởi tích phân:\n",
       "$S = \\int_{0}^{1} (y_1 - y_2) dx = \\int_{0}^{1} (3 - x^2 - (-2x + 3)) dx = \\int_{0}^{1} (-x^2 + 2x) dx$\n",
       "$S = \\int_{0}^{1} (-x^2 + 2x) dx = \\left[ -\\frac{x^3}{3} + x^2 \\right]_{0}^{1} = -\\frac{1}{3} + 1 = \\frac{2}{3}$.\n",
       "\n",
       "Vậy diện tích $S = \\frac{2}{3}$.\n",
       "\n"
      ],
      "text/plain": [
       "<IPython.core.display.Latex object>"
      ]
     },
     "metadata": {},
     "output_type": "display_data"
    },
    {
     "name": "stderr",
     "output_type": "stream",
     "text": [
      "Processing Questions:  91%|█████████▏| 148/162 [11:20<01:08,  4.92s/it]"
     ]
    },
    {
     "data": {
      "text/latex": [
       "\n",
       "Để tính diện tích hình phẳng giới hạn bởi hai đường $y = -2x^2$ và $y = -2x - 4$, ta thực hiện các bước sau:\n",
       "\n",
       "1. **Tìm giao điểm của hai đường:**\n",
       "Giải phương trình $-2x^2 = -2x - 4$.\n",
       "$-2x^2 + 2x + 4 = 0$\n",
       "$x^2 - x - 2 = 0$\n",
       "$(x - 2)(x + 1) = 0$\n",
       "Vậy $x = 2$ hoặc $x = -1$.\n",
       "Các giao điểm là $(-1, -2)$ và $(2, -8)$.\n",
       "\n",
       "2. **Xác định hàm số trên và hàm số dưới:**\n",
       "Trên đoạn $[-1, 2]$, ta cần xác định đường nào nằm trên và đường nào nằm dưới.\n",
       "Xét $f(x) = -2x^2$ và $g(x) = -2x - 4$.\n",
       "Chọn $x = 0$ (thuộc $[-1, 2]$).\n",
       "$f(0) = 0$ và $g(0) = -4$.\n",
       "Vậy $-2x^2 > -2x - 4$ trên đoạn $[-1, 2]$.\n",
       "\n",
       "3. **Tính diện tích:**\n",
       "Diện tích $S$ được tính bởi tích phân:\n",
       "$S = \\int_{-1}^{2} (-2x^2 - (-2x - 4)) dx = \\int_{-1}^{2} (-2x^2 + 2x + 4) dx$\n",
       "$S = \\left[-\\frac{2}{3}x^3 + x^2 + 4x\\right]_{-1}^{2}$\n",
       "$S = \\left(-\\frac{2}{3}(2)^3 + (2)^2 + 4(2)\\right) - \\left(-\\frac{2}{3}(-1)^3 + (-1)^2 + 4(-1)\\right)$\n",
       "$S = \\left(-\\frac{16}{3} + 4 + 8\\right) - \\left(\\frac{2}{3} + 1 - 4\\right)$\n",
       "$S = \\left(-\\frac{16}{3} + 12\\right) - \\left(\\frac{2}{3} - 3\\right)$\n",
       "$S = -\\frac{16}{3} + 12 - \\frac{2}{3} + 3 = 15 - \\frac{18}{3} = 15 - 6 = 9$\n",
       "\n",
       "Vậy diện tích hình phẳng là $9$.\n",
       "\n"
      ],
      "text/plain": [
       "<IPython.core.display.Latex object>"
      ]
     },
     "metadata": {},
     "output_type": "display_data"
    },
    {
     "name": "stderr",
     "output_type": "stream",
     "text": [
      "Processing Questions:  92%|█████████▏| 149/162 [11:25<01:04,  4.95s/it]"
     ]
    },
    {
     "data": {
      "text/latex": [
       "\n",
       "**1. Tìm giao điểm của hai đường:**\n",
       "\n",
       "Giải phương trình $x^3 - 3x = x$  $\\Leftrightarrow$ $x^3 - 4x = 0$ $\\Leftrightarrow$ $x(x^2 - 4) = 0$ $\\Leftrightarrow$ $x(x-2)(x+2) = 0$.\n",
       "\n",
       "Vậy các giao điểm là $x = -2$, $x = 0$, $x = 2$.\n",
       "\n",
       "**2. Tính diện tích:**\n",
       "\n",
       "Diện tích hình phẳng giới hạn bởi hai đường $y = f(x)$ và $y = g(x)$ từ $x = a$ đến $x = b$ là $S = \\int_a^b |f(x) - g(x)| dx$.\n",
       "\n",
       "Trong trường hợp này, ta có $f(x) = x^3 - 3x$ và $g(x) = x$. Vì vậy, diện tích cần tính là:\n",
       "\n",
       "$S = \\int_{-2}^{2} |x^3 - 3x - x| dx = \\int_{-2}^{2} |x^3 - 4x| dx$.\n",
       "\n",
       "Ta xét dấu của $x^3 - 4x$ trên khoảng $[-2, 2]$:\n",
       "*   Trên khoảng $[-2, 0]$: $x^3 - 4x \\geq 0$.\n",
       "*   Trên khoảng $[0, 2]$: $x^3 - 4x \\leq 0$.\n",
       "\n",
       "Do đó, ta tách tích phân:\n",
       "$S = \\int_{-2}^{0} (x^3 - 4x) dx + \\int_{0}^{2} (4x - x^3) dx$\n",
       "\n",
       "$= \\left[ \\frac{x^4}{4} - 2x^2 \\right]_{-2}^{0} + \\left[ 2x^2 - \\frac{x^4}{4} \\right]_{0}^{2}$\n",
       "\n",
       "$= \\left( 0 - (\\frac{(-2)^4}{4} - 2(-2)^2) \\right) + \\left( (2(2)^2 - \\frac{(2)^4}{4}) - 0 \\right)$\n",
       "\n",
       "$= -(4 - 8) + (8 - 4) = 4 + 4 = 8$.\n",
       "\n",
       "Vậy diện tích hình phẳng là 8.\n",
       "\n"
      ],
      "text/plain": [
       "<IPython.core.display.Latex object>"
      ]
     },
     "metadata": {},
     "output_type": "display_data"
    },
    {
     "name": "stderr",
     "output_type": "stream",
     "text": [
      "Processing Questions:  93%|█████████▎| 150/162 [11:31<01:00,  5.06s/it]"
     ]
    },
    {
     "data": {
      "text/latex": [
       "\n",
       "**1. Tìm giao điểm của hai đường:**\n",
       "\n",
       "*   Giải phương trình hoành độ giao điểm:\n",
       "    $2x - x^2 = 2 - x$\n",
       "    $\\Leftrightarrow x^2 - 3x + 2 = 0$\n",
       "    $\\Leftrightarrow (x-1)(x-2) = 0$\n",
       "    $\\Leftrightarrow x = 1 \\vee x = 2$\n",
       "\n",
       "*   Với $x = 1 \\Rightarrow y = 2 - 1 = 1$. Giao điểm là $(1; 1)$.\n",
       "*   Với $x = 2 \\Rightarrow y = 2 - 2 = 0$. Giao điểm là $(2; 0)$.\n",
       "\n",
       "**2. Xác định cận tích phân:**\n",
       "\n",
       "*   Cận tích phân là $x = 1$ và $x = 2$.\n",
       "\n",
       "**3. Xác định hàm số trên và hàm số dưới:**\n",
       "\n",
       "*   Xét hàm số $f(x) = 2x - x^2$ và $g(x) = 2 - x$.\n",
       "*   Trên khoảng $(1; 2)$, ta chọn $x = 1.5$.\n",
       "    *   $f(1.5) = 2(1.5) - (1.5)^2 = 3 - 2.25 = 0.75$\n",
       "    *   $g(1.5) = 2 - 1.5 = 0.5$\n",
       "*   Do $f(1.5) > g(1.5)$ nên $f(x) \\geq g(x)$ trên $[1; 2]$.\n",
       "\n",
       "**4. Tính diện tích:**\n",
       "\n",
       "*   Diện tích hình phẳng giới hạn bởi hai đường là:\n",
       "    $S = \\int_{1}^{2} |f(x) - g(x)| dx = \\int_{1}^{2} (2x - x^2 - (2 - x)) dx = \\int_{1}^{2} (-x^2 + 3x - 2) dx$\n",
       "    $S = \\left[ -\\frac{x^3}{3} + \\frac{3x^2}{2} - 2x \\right]_{1}^{2} = \\left(-\\frac{8}{3} + \\frac{12}{2} - 4\\right) - \\left(-\\frac{1}{3} + \\frac{3}{2} - 2\\right)$\n",
       "    $S = \\left(-\\frac{8}{3} + 6 - 4\\right) - \\left(-\\frac{1}{3} + \\frac{3}{2} - 2\\right) = -\\frac{8}{3} + 2 + \\frac{1}{3} - \\frac{3}{2} + 2 = -\\frac{7}{3} - \\frac{3}{2} + 4 = \\frac{-14-9+24}{6} = \\frac{1}{6}$\n",
       "\n",
       "Vậy diện tích hình phẳng là $\\frac{1}{6}$.\n"
      ],
      "text/plain": [
       "<IPython.core.display.Latex object>"
      ]
     },
     "metadata": {},
     "output_type": "display_data"
    },
    {
     "name": "stderr",
     "output_type": "stream",
     "text": [
      "Processing Questions:  93%|█████████▎| 151/162 [11:36<00:57,  5.23s/it]"
     ]
    },
    {
     "data": {
      "text/latex": [
       "\n",
       "Để tính diện tích hình phẳng giới hạn bởi các đường $y = x^3 - x$ và $y = x - x^2$, ta thực hiện các bước sau:\n",
       "\n",
       "1. **Tìm giao điểm của hai đường:**\n",
       "Giải phương trình $x^3 - x = x - x^2$, ta có:\n",
       "$x^3 + x^2 - 2x = 0$\n",
       "$x(x^2 + x - 2) = 0$\n",
       "$x(x - 1)(x + 2) = 0$\n",
       "Vậy, giao điểm của hai đường là $x = -2, x = 0, x = 1$.\n",
       "\n",
       "2. **Tính diện tích:**\n",
       "Diện tích S được tính bằng tích phân của trị tuyệt đối của hiệu hai hàm số trên các khoảng xác định bởi các giao điểm:\n",
       "$S = \\int_{-2}^{1} |(x^3 - x) - (x - x^2)| dx = \\int_{-2}^{1} |x^3 + x^2 - 2x| dx$\n",
       "Ta xét dấu của $f(x) = x^3 + x^2 - 2x = x(x-1)(x+2)$ trên các khoảng $(-2, 0)$ và $(0, 1)$:\n",
       "*   Trên $(-2, 0)$, chọn $x = -1$, ta có $f(-1) = (-1)(-2)(1) = 2 > 0$.\n",
       "*   Trên $(0, 1)$, chọn $x = 0.5$, ta có $f(0.5) = (0.5)(-0.5)(2.5) = -0.625 < 0$.\n",
       "Vậy:\n",
       "$S = \\int_{-2}^{0} (x^3 + x^2 - 2x) dx + \\int_{0}^{1} -(x^3 + x^2 - 2x) dx$\n",
       "$S = \\int_{-2}^{0} (x^3 + x^2 - 2x) dx - \\int_{0}^{1} (x^3 + x^2 - 2x) dx$\n",
       "\n",
       "3. **Tính các tích phân:**\n",
       "$\\int (x^3 + x^2 - 2x) dx = \\frac{x^4}{4} + \\frac{x^3}{3} - x^2 + C$\n",
       "Vậy:\n",
       "$\\int_{-2}^{0} (x^3 + x^2 - 2x) dx = \\left[\\frac{x^4}{4} + \\frac{x^3}{3} - x^2\\right]_{-2}^{0} = 0 - \\left(\\frac{16}{4} + \\frac{-8}{3} - 4\\right) = 0 - \\left(4 - \\frac{8}{3} - 4\\right) = \\frac{8}{3}$\n",
       "\n",
       "$\\int_{0}^{1} (x^3 + x^2 - 2x) dx = \\left[\\frac{x^4}{4} + \\frac{x^3}{3} - x^2\\right]_{0}^{1} = \\left(\\frac{1}{4} + \\frac{1}{3} - 1\\right) - 0 = \\frac{3 + 4 - 12}{12} = \\frac{-5}{12}$\n",
       "\n",
       "4. **Kết quả:**\n",
       "$S = \\frac{8}{3} - \\left(-\\frac{5}{12}\\right) = \\frac{8}{3} + \\frac{5}{12} = \\frac{32 + 5}{12} = \\frac{37}{12}$\n",
       "\n"
      ],
      "text/plain": [
       "<IPython.core.display.Latex object>"
      ]
     },
     "metadata": {},
     "output_type": "display_data"
    },
    {
     "name": "stderr",
     "output_type": "stream",
     "text": [
      "Processing Questions:  94%|█████████▍| 152/162 [11:42<00:52,  5.26s/it]"
     ]
    },
    {
     "data": {
      "text/latex": [
       "\n",
       "Để tính diện tích hình phẳng giới hạn bởi các đường $y = \\cos x$, trục $Ox$, trục $Oy$ và đường thẳng $x = \\pi$, ta thực hiện các bước sau:\n",
       "\n",
       "1. **Xác định cận tích phân:**\n",
       "   - Trục $Oy$ tương ứng với $x = 0$.\n",
       "   - Đường thẳng $x = \\pi$.\n",
       "   Vậy cận tích phân là từ $0$ đến $\\pi$.\n",
       "\n",
       "2. **Xác định hàm số cần tích phân:**\n",
       "   - Hàm số là $y = \\cos x$.\n",
       "\n",
       "3. **Tính tích phân:**\n",
       "   - Diện tích $S$ được tính bởi công thức:\n",
       "   $S = \\int_{0}^{\\pi} |\\cos x| dx$\n",
       "\n",
       "4. **Xét dấu của cos x trên đoạn [0, pi]:**\n",
       "   - $\\cos x \\ge 0$ khi $x \\in [0, \\frac{\\pi}{2}]$\n",
       "   - $\\cos x \\le 0$ khi $x \\in [\\frac{\\pi}{2}, \\pi]$\n",
       "\n",
       "5. **Chia tích phân thành hai phần:**\n",
       "\n",
       "$S = \\int_{0}^{\\pi} |\\cos x| dx = \\int_{0}^{\\frac{\\pi}{2}} \\cos x dx + \\int_{\\frac{\\pi}{2}}^{\\pi} (-\\cos x) dx$\n",
       "\n",
       "6. **Tính các tích phân:**\n",
       "   - $\\int_{0}^{\\frac{\\pi}{2}} \\cos x dx = [\\sin x]_{0}^{\\frac{\\pi}{2}} = \\sin(\\frac{\\pi}{2}) - \\sin(0) = 1 - 0 = 1$\n",
       "   - $\\int_{\\frac{\\pi}{2}}^{\\pi} (-\\cos x) dx = [-\\sin x]_{\\frac{\\pi}{2}}^{\\pi} = -\\sin(\\pi) - (-\\sin(\\frac{\\pi}{2})) = -0 + 1 = 1$\n",
       "\n",
       "7. **Tính tổng:**\n",
       "   $S = 1 + 1 = 2$\n",
       "\n",
       "Vậy diện tích hình phẳng là 2.\n"
      ],
      "text/plain": [
       "<IPython.core.display.Latex object>"
      ]
     },
     "metadata": {},
     "output_type": "display_data"
    },
    {
     "name": "stderr",
     "output_type": "stream",
     "text": [
      "Processing Questions:  94%|█████████▍| 153/162 [11:47<00:46,  5.22s/it]"
     ]
    },
    {
     "data": {
      "text/latex": [
       "\n",
       "Bài toán yêu cầu tính diện tích hình phẳng giới hạn bởi các đường $y = e^x$, $y = 1$, và $x = 1$.\n",
       "\n",
       "**Bước 1: Xác định miền tích phân**\n",
       "\n",
       "Ta cần xác định cận tích phân.  Đường $y = 1$ cắt đường $y = e^x$ tại $e^x = 1 \\Rightarrow x = 0$. Đường thẳng $x = 1$ là một trong các cận, do đó miền tích phân giới hạn bởi $x = 0$ và $x = 1$.\n",
       "\n",
       "**Bước 2: Xác định hàm số dưới dấu tích phân**\n",
       "\n",
       "Trong khoảng $[0, 1]$, ta có $e^x \\ge 1$.  Do đó, diện tích hình phẳng cần tìm là:\n",
       "\n",
       "$S = \\int_{0}^{1} (e^x - 1) dx$\n",
       "\n",
       "**Bước 3: Tính tích phân**\n",
       "\n",
       "$S = \\int_{0}^{1} (e^x - 1) dx = \\left[ e^x - x \\right]_{0}^{1} = (e^1 - 1) - (e^0 - 0) = (e - 1) - (1 - 0) = e - 1 - 1 = e - 2$\n",
       "\n"
      ],
      "text/plain": [
       "<IPython.core.display.Latex object>"
      ]
     },
     "metadata": {},
     "output_type": "display_data"
    },
    {
     "name": "stderr",
     "output_type": "stream",
     "text": [
      "Processing Questions:  95%|█████████▌| 154/162 [11:50<00:38,  4.81s/it]"
     ]
    },
    {
     "data": {
      "text/latex": [
       "\n",
       "Để tính diện tích hình phẳng giới hạn bởi các đường $y = (e+1)x$ và $y = (1+e^x)x$, ta thực hiện các bước sau:\n",
       "\n",
       "1. **Tìm giao điểm của hai đường:**\n",
       "Giải phương trình $(e+1)x = (1+e^x)x$.\n",
       "$(e+1)x - (1+e^x)x = 0$\n",
       "$x(e+1 - 1 - e^x) = 0$\n",
       "$x(e - e^x) = 0$\n",
       "Suy ra $x=0$ hoặc $e = e^x$, tức là $x=1$.\n",
       "Vậy hai đường cắt nhau tại $x=0$ và $x=1$.\n",
       "\n",
       "2. **Xác định hàm số nào lớn hơn trên khoảng (0,1):**\n",
       "Xét hàm số $f(x) = (e+1)x - (1+e^x)x = x(e-e^x)$.\n",
       "Trên khoảng $(0, 1)$, ta có $x > 0$ và $e > e^x$ (vì $e > e^0 = 1 > e^1$ không đúng, e > 1 nên $e > e^x$ với $0 < x < 1$ là sai. Đúng ra $e^x < e$, suy ra $e - e^x > 0$, suy ra $f(x) > 0$.\n",
       "Vậy $(e+1)x > (1+e^x)x$ trên khoảng $(0, 1)$.\n",
       "\n",
       "3. **Tính diện tích hình phẳng:**\n",
       "Diện tích hình phẳng giới hạn bởi hai đường là:\n",
       "$S = \\int_0^1 |(e+1)x - (1+e^x)x| dx = \\int_0^1 ((e+1)x - (1+e^x)x) dx$\n",
       "$S = \\int_0^1 (ex + x - x - xe^x) dx = \\int_0^1 (ex - xe^x) dx = e\\int_0^1 x dx - \\int_0^1 xe^x dx$\n",
       "\n",
       "Tính $\\int_0^1 x dx = \\frac{x^2}{2} \\Big|_0^1 = \\frac{1}{2}$\n",
       "Tính $\\int_0^1 xe^x dx$: Sử dụng tích phân từng phần:\n",
       "Đặt $u = x, dv = e^x dx \\Rightarrow du = dx, v = e^x$\n",
       "$\\int_0^1 xe^x dx = xe^x \\Big|_0^1 - \\int_0^1 e^x dx = (1e^1 - 0) - (e^x \\Big|_0^1) = e - (e^1 - e^0) = e - e + 1 = 1$\n",
       "\n",
       "Vậy $S = e(\\frac{1}{2}) - 1 = \\frac{e}{2} - 1 = \\frac{e-2}{2}$\n",
       "\n"
      ],
      "text/plain": [
       "<IPython.core.display.Latex object>"
      ]
     },
     "metadata": {},
     "output_type": "display_data"
    },
    {
     "name": "stderr",
     "output_type": "stream",
     "text": [
      "Processing Questions:  96%|█████████▌| 155/162 [11:58<00:38,  5.47s/it]"
     ]
    },
    {
     "data": {
      "text/latex": [
       "\n",
       "Để tính diện tích hình phẳng giới hạn bởi các đường $y = \\sin 2x$, $y = \\cos x$, $x = 0$ và $x = \\frac{\\pi}{2}$, ta thực hiện các bước sau:\n",
       "\n",
       "1. **Tìm giao điểm của hai đường cong:**\n",
       "Giải phương trình $\\sin 2x = \\cos x$, hay $2\\sin x \\cos x = \\cos x$.\n",
       "$\\Leftrightarrow \\cos x (2\\sin x - 1) = 0$.\n",
       "$\\Leftrightarrow \\cos x = 0$ hoặc $\\sin x = \\frac{1}{2}$.\n",
       "Trong khoảng $[0, \\frac{\\pi}{2}]$, ta có:\n",
       "$\\cos x = 0 \\Leftrightarrow x = \\frac{\\pi}{2}$.\n",
       "$\\sin x = \\frac{1}{2} \\Leftrightarrow x = \\frac{\\pi}{6}$.\n",
       "\n",
       "2. **Xác định dấu của $\\sin 2x - \\cos x$ trên các khoảng:**\n",
       "- Trên khoảng $(0, \\frac{\\pi}{6})$: Chọn $x = \\frac{\\pi}{12}$. Khi đó, $\\sin(2\\cdot\\frac{\\pi}{12}) = \\sin(\\frac{\\pi}{6}) = \\frac{1}{2}$ và $\\cos(\\frac{\\pi}{12}) > \\frac{\\sqrt{3}}{2} /2 = \\sqrt{6}+\\sqrt{2}$. Do đó, $\\cos x > \\sin 2x$. Vậy $\\cos x - \\sin 2x > 0$.\n",
       "- Trên khoảng $(\\frac{\\pi}{6}, \\frac{\\pi}{2})$: Chọn $x = \\frac{\\pi}{4}$. Khi đó, $\\sin(2\\cdot\\frac{\\pi}{4}) = \\sin(\\frac{\\pi}{2}) = 1$ và $\\cos(\\frac{\\pi}{4}) = \\frac{\\sqrt{2}}{2} < 1$. Do đó, $\\sin 2x > \\cos x$. Vậy $\\sin 2x - \\cos x > 0$.\n",
       "\n",
       "3. **Tính diện tích:**\n",
       "Diện tích hình phẳng cần tìm là:\n",
       "$S = \\int_{0}^{\\frac{\\pi}{2}} |\\sin 2x - \\cos x| dx = \\int_{0}^{\\frac{\\pi}{6}} (\\cos x - \\sin 2x) dx + \\int_{\\frac{\\pi}{6}}^{\\frac{\\pi}{2}} (\\sin 2x - \\cos x) dx$\n",
       "$= \\left[ \\sin x + \\frac{1}{2}\\cos 2x \\right]_{0}^{\\frac{\\pi}{6}} + \\left[ -\\frac{1}{2}\\cos 2x - \\sin x \\right]_{\\frac{\\pi}{6}}^{\\frac{\\pi}{2}}$\n",
       "$= \\left( \\sin \\frac{\\pi}{6} + \\frac{1}{2}\\cos \\frac{\\pi}{3} \\right) - \\left( \\sin 0 + \\frac{1}{2}\\cos 0 \\right) + \\left( -\\frac{1}{2}\\cos \\pi - \\sin \\frac{\\pi}{2} \\right) - \\left( -\\frac{1}{2}\\cos \\frac{\\pi}{3} - \\sin \\frac{\\pi}{6} \\right)$\n",
       "$= \\left( \\frac{1}{2} + \\frac{1}{2}\\cdot\\frac{1}{2} \\right) - \\left( 0 + \\frac{1}{2}\\cdot 1 \\right) + \\left( -\\frac{1}{2}(-1) - 1 \\right) - \\left( -\\frac{1}{2}\\cdot\\frac{1}{2} - \\frac{1}{2} \\right)$\n",
       "$= \\frac{1}{2} + \\frac{1}{4} - \\frac{1}{2} + \\frac{1}{2} - 1 + \\frac{1}{4} + \\frac{1}{2} = \\frac{1}{2} + \\frac{1}{2} = 1$\n"
      ],
      "text/plain": [
       "<IPython.core.display.Latex object>"
      ]
     },
     "metadata": {},
     "output_type": "display_data"
    },
    {
     "name": "stderr",
     "output_type": "stream",
     "text": [
      "Processing Questions:  96%|█████████▋| 156/162 [12:05<00:37,  6.22s/it]"
     ]
    },
    {
     "data": {
      "text/latex": [
       "\n",
       "Để tính thể tích khối tròn xoay sinh ra khi quay hình phẳng giới hạn bởi các đường $y = x^3$, trục Ox ($y = 0$), $x = -1$, và $x = 1$ quanh trục Ox, ta sử dụng công thức tính thể tích khối tròn xoay:\n",
       "\n",
       "$V = \\pi \\int_{a}^{b} [f(x)]^2 dx$\n",
       "\n",
       "Trong đó:\n",
       "- $f(x)$ là hàm số giới hạn hình phẳng, ở đây là $y = x^3$.\n",
       "- $a$ và $b$ là giới hạn của biến $x$, ở đây là $x = -1$ và $x = 1$.\n",
       "\n",
       "Vậy, ta có:\n",
       "\n",
       "$V = \\pi \\int_{-1}^{1} (x^3)^2 dx = \\pi \\int_{-1}^{1} x^6 dx$\n",
       "\n",
       "Tính tích phân:\n",
       "\n",
       "$\\int_{-1}^{1} x^6 dx = \\frac{x^7}{7} \\Big|_{-1}^{1} = \\frac{1^7}{7} - \\frac{(-1)^7}{7} = \\frac{1}{7} - \\frac{-1}{7} = \\frac{1}{7} + \\frac{1}{7} = \\frac{2}{7}$\n",
       "\n",
       "Do đó, thể tích khối tròn xoay là:\n",
       "\n",
       "$V = \\pi \\cdot \\frac{2}{7} = \\frac{2\\pi}{7}$\n",
       "\n"
      ],
      "text/plain": [
       "<IPython.core.display.Latex object>"
      ]
     },
     "metadata": {},
     "output_type": "display_data"
    },
    {
     "name": "stderr",
     "output_type": "stream",
     "text": [
      "Processing Questions:  97%|█████████▋| 157/162 [12:09<00:27,  5.55s/it]"
     ]
    },
    {
     "data": {
      "text/latex": [
       "\n",
       "Để tính thể tích khối tròn xoay tạo thành khi quay hình phẳng (H) giới hạn bởi $y = 2x - x^2$ và trục Ox quanh trục Ox, ta thực hiện các bước sau:\n",
       "\n",
       "1. **Tìm cận tích phân:**\n",
       "   Xác định giao điểm của đường cong $y = 2x - x^2$ với trục Ox ($y = 0$).\n",
       "   $2x - x^2 = 0 \\Leftrightarrow x(2 - x) = 0 \\Leftrightarrow x = 0 \\vee x = 2$.\n",
       "   Vậy cận tích phân là $a = 0$ và $b = 2$.\n",
       "\n",
       "2. **Áp dụng công thức tính thể tích:**\n",
       "   Thể tích khối tròn xoay được tính theo công thức:\n",
       "   $V = \\pi \\int_a^b y^2 dx = \\pi \\int_0^2 (2x - x^2)^2 dx$\n",
       "\n",
       "3. **Tính tích phân:**\n",
       "   $V = \\pi \\int_0^2 (4x^2 - 4x^3 + x^4) dx = \\pi \\left[ \\frac{4}{3}x^3 - x^4 + \\frac{1}{5}x^5 \\right]_0^2$\n",
       "   $V = \\pi \\left( \\frac{4}{3}(2)^3 - (2)^4 + \\frac{1}{5}(2)^5 \\right) - \\pi(0)$\n",
       "   $V = \\pi \\left( \\frac{32}{3} - 16 + \\frac{32}{5} \\right) = \\pi \\left( \\frac{32 \\cdot 5 - 16 \\cdot 15 + 32 \\cdot 3}{15} \\right)$\n",
       "   $V = \\pi \\left( \\frac{160 - 240 + 96}{15} \\right) = \\pi \\left( \\frac{16}{15} \\right)$\n",
       "   $V = \\frac{16\\pi}{15}$.\n",
       "\n",
       "Vậy, thể tích của khối tròn xoay là $\\frac{16\\pi}{15}$.\n",
       "\n"
      ],
      "text/plain": [
       "<IPython.core.display.Latex object>"
      ]
     },
     "metadata": {},
     "output_type": "display_data"
    },
    {
     "name": "stderr",
     "output_type": "stream",
     "text": [
      "Processing Questions:  98%|█████████▊| 158/162 [12:14<00:20,  5.16s/it]"
     ]
    },
    {
     "data": {
      "text/latex": [
       "\n",
       "Bài toán yêu cầu tính thể tích khối tròn xoay tạo thành khi quay miền giới hạn bởi $y = 1-x^2$, $y=0$, $x=0$ và $x=2$ quanh trục $Ox$.\n",
       "\n",
       "Ta có công thức tính thể tích khối tròn xoay khi quay quanh trục $Ox$ là:\n",
       "$V = \\pi \\int_a^b [f(x)]^2 dx$, với $f(x)$ là hàm số giới hạn miền quay, và $[a, b]$ là đoạn giới hạn bởi $x$.\n",
       "\n",
       "Trong bài toán này, $f(x) = 1 - x^2$, $a = 0$, $b = 2$.\n",
       "Vậy,\n",
       "$V = \\pi \\int_0^2 (1 - x^2)^2 dx$\n",
       "$V = \\pi \\int_0^2 (1 - 2x^2 + x^4) dx$\n",
       "$V = \\pi \\left[ x - \\frac{2}{3}x^3 + \\frac{1}{5}x^5 \\right]_0^2$\n",
       "$V = \\pi \\left[ (2 - \\frac{2}{3}(2)^3 + \\frac{1}{5}(2)^5) - (0 - 0 + 0) \\right]$\n",
       "$V = \\pi \\left[ 2 - \\frac{16}{3} + \\frac{32}{5} \\right]$\n",
       "$V = \\pi \\left[ \\frac{30 - 80 + 96}{15} \\right]$\n",
       "$V = \\pi \\left[ \\frac{46}{15} \\right]$\n",
       "$V = \\frac{46\\pi}{15}$\n",
       "\n"
      ],
      "text/plain": [
       "<IPython.core.display.Latex object>"
      ]
     },
     "metadata": {},
     "output_type": "display_data"
    },
    {
     "name": "stderr",
     "output_type": "stream",
     "text": [
      "Processing Questions:  98%|█████████▊| 159/162 [12:18<00:14,  4.95s/it]"
     ]
    },
    {
     "data": {
      "text/latex": [
       "\n",
       "Để giải bài toán này, ta thực hiện các bước sau:\n",
       "\n",
       "**1. Xác định giao điểm của hai đường:**\n",
       "\n",
       "Giải phương trình $\\sqrt{x} = x$.\n",
       "Bình phương hai vế, ta được $x = x^2$.\n",
       "Suy ra $x^2 - x = 0 \\Leftrightarrow x(x-1) = 0$.\n",
       "Vậy $x = 0$ hoặc $x = 1$.\n",
       "Vậy hai đường cong cắt nhau tại $(0,0)$ và $(1,1)$.\n",
       "\n",
       "**2. Xác định thể tích khối tròn xoay:**\n",
       "\n",
       "Thể tích khối tròn xoay tạo thành khi quay hình phẳng giới hạn bởi $y = f(x)$, $y = g(x)$, $x = a$, $x = b$ quanh trục Ox là:\n",
       "$V = \\pi \\int_a^b |f(x)^2 - g(x)^2| dx$.\n",
       "\n",
       "Trong bài toán này, $f(x) = \\sqrt{x}$, $g(x) = x$, $a = 0$, $b = 1$.\n",
       "Vì $\\sqrt{x} \\ge x$ trên đoạn $[0, 1]$, ta có:\n",
       "\n",
       "$V = \\pi \\int_0^1 (\\sqrt{x}^2 - x^2) dx = \\pi \\int_0^1 (x - x^2) dx$.\n",
       "\n",
       "**3. Tính tích phân:**\n",
       "\n",
       "$\\int_0^1 (x - x^2) dx = \\left[ \\frac{x^2}{2} - \\frac{x^3}{3} \\right]_0^1 = \\left( \\frac{1}{2} - \\frac{1}{3} \\right) - (0 - 0) = \\frac{3}{6} - \\frac{2}{6} = \\frac{1}{6}$.\n",
       "\n",
       "**4. Kết luận:**\n",
       "\n",
       "Vậy thể tích khối tròn xoay là $V = \\pi \\cdot \\frac{1}{6} = \\frac{\\pi}{6}$.\n",
       "\n"
      ],
      "text/plain": [
       "<IPython.core.display.Latex object>"
      ]
     },
     "metadata": {},
     "output_type": "display_data"
    },
    {
     "name": "stderr",
     "output_type": "stream",
     "text": [
      "Processing Questions:  99%|█████████▉| 160/162 [12:23<00:09,  4.82s/it]"
     ]
    },
    {
     "data": {
      "text/latex": [
       "\n",
       "Để tính thể tích khối tròn xoay tạo thành khi quay hình phẳng (H) quanh trục Ox, ta sử dụng công thức:\n",
       "\n",
       "$V = \\pi \\int_{a}^{b} [f(x)]^2 dx$\n",
       "\n",
       "Trong đó:\n",
       "*   $f(x)$ là hàm số giới hạn hình phẳng (H) ở phía trên (trong trường hợp này là $y = \\tan x$).\n",
       "*   $[a, b]$ là khoảng giới hạn của $x$ (trong trường hợp này là $[0, \\frac{\\pi}{4}]$).\n",
       "\n",
       "Vậy, thể tích khối tròn xoay là:\n",
       "\n",
       "$V = \\pi \\int_{0}^{\\frac{\\pi}{4}} (\\tan x)^2 dx$\n",
       "\n",
       "Ta có:\n",
       "$\\tan^2 x = \\frac{1 - \\cos^2 x}{\\cos^2 x} = \\frac{1}{\\cos^2 x} - 1 = 1 + \\tan^2 x -1 $\n",
       "\n",
       "Do đó:\n",
       "\n",
       "$V = \\pi \\int_{0}^{\\frac{\\pi}{4}} (\\tan^2 x) dx = \\pi \\int_{0}^{\\frac{\\pi}{4}} (\\frac{1}{\\cos^2 x} - 1) dx$\n",
       "\n",
       "$V = \\pi \\left[ \\int_{0}^{\\frac{\\pi}{4}} \\frac{1}{\\cos^2 x} dx - \\int_{0}^{\\frac{\\pi}{4}} 1 dx \\right]$\n",
       "\n",
       "$V = \\pi \\left[ \\tan x \\Big|_0^{\\frac{\\pi}{4}} - x \\Big|_0^{\\frac{\\pi}{4}} \\right]$\n",
       "\n",
       "$V = \\pi \\left[ \\tan(\\frac{\\pi}{4}) - \\tan(0) - (\\frac{\\pi}{4} - 0) \\right]$\n",
       "\n",
       "$V = \\pi \\left[ 1 - 0 - \\frac{\\pi}{4} \\right]$\n",
       "\n",
       "$V = \\pi \\left( 1 - \\frac{\\pi}{4} \\right)$\n",
       "\n",
       "$V = \\pi - \\frac{\\pi^2}{4}$\n"
      ],
      "text/plain": [
       "<IPython.core.display.Latex object>"
      ]
     },
     "metadata": {},
     "output_type": "display_data"
    },
    {
     "name": "stderr",
     "output_type": "stream",
     "text": [
      "Processing Questions:  99%|█████████▉| 161/162 [12:28<00:04,  4.88s/it]"
     ]
    },
    {
     "data": {
      "text/latex": [
       "\n",
       "Để tính thể tích khối tròn xoay giới hạn bởi $y = \\ln x$, $y = 0$, $x = e$ khi quay quanh trục Ox, ta sử dụng công thức tính thể tích khối tròn xoay:\n",
       "\n",
       "$V = \\pi \\int_{a}^{b} [f(x)]^2 dx$\n",
       "\n",
       "Trong trường hợp này, $f(x) = \\ln x$, $a = 1$ (vì $\\ln x = 0 \\Leftrightarrow x = 1$), và $b = e$. Vậy,\n",
       "\n",
       "$V = \\pi \\int_{1}^{e} (\\ln x)^2 dx$\n",
       "\n",
       "Để tính tích phân này, ta sử dụng tích phân từng phần hai lần:\n",
       "\n",
       "Đặt $u = (\\ln x)^2$, $dv = dx$. Khi đó, $du = 2 \\ln x \\cdot \\frac{1}{x} dx$, $v = x$.\n",
       "\n",
       "$\\int (\\ln x)^2 dx = x(\\ln x)^2 - \\int x \\cdot 2 \\ln x \\cdot \\frac{1}{x} dx = x(\\ln x)^2 - 2 \\int \\ln x dx$\n",
       "\n",
       "Tiếp tục tích phân từng phần cho $\\int \\ln x dx$. Đặt $u = \\ln x$, $dv = dx$. Khi đó, $du = \\frac{1}{x} dx$, $v = x$.\n",
       "\n",
       "$\\int \\ln x dx = x \\ln x - \\int x \\cdot \\frac{1}{x} dx = x \\ln x - \\int dx = x \\ln x - x + C$\n",
       "\n",
       "Thay vào biểu thức trước:\n",
       "\n",
       "$\\int (\\ln x)^2 dx = x(\\ln x)^2 - 2(x \\ln x - x) + C = x(\\ln x)^2 - 2x \\ln x + 2x + C$\n",
       "\n",
       "Vậy,\n",
       "\n",
       "$V = \\pi \\int_{1}^{e} (\\ln x)^2 dx = \\pi [x(\\ln x)^2 - 2x \\ln x + 2x]_{1}^{e}$\n",
       "\n",
       "$V = \\pi [(e(\\ln e)^2 - 2e \\ln e + 2e) - (1(\\ln 1)^2 - 2(1) \\ln 1 + 2(1))]$\n",
       "\n",
       "$V = \\pi [(e(1)^2 - 2e(1) + 2e) - (1(0)^2 - 2(1)(0) + 2)]$\n",
       "\n",
       "$V = \\pi [(e - 2e + 2e) - 2] = \\pi [e - 2] = \\pi (e - 2)$\n",
       "\n"
      ],
      "text/plain": [
       "<IPython.core.display.Latex object>"
      ]
     },
     "metadata": {},
     "output_type": "display_data"
    },
    {
     "name": "stderr",
     "output_type": "stream",
     "text": [
      "Processing Questions: 100%|██████████| 162/162 [12:33<00:00,  4.65s/it]\n"
     ]
    },
    {
     "data": {
      "application/vnd.microsoft.datawrangler.viewer.v0+json": {
       "columns": [
        {
         "name": "index",
         "rawType": "int64",
         "type": "integer"
        },
        {
         "name": "Question",
         "rawType": "object",
         "type": "string"
        },
        {
         "name": "Solution",
         "rawType": "object",
         "type": "string"
        },
        {
         "name": "Answer",
         "rawType": "object",
         "type": "string"
        },
        {
         "name": "AI Solution",
         "rawType": "object",
         "type": "string"
        },
        {
         "name": "AI Answer",
         "rawType": "object",
         "type": "string"
        }
       ],
       "conversionMethod": "pd.DataFrame",
       "ref": "cfdbf36c-2420-4050-899d-f79d5824a024",
       "rows": [
        [
         "0",
         "Cho hai số phức $z_1 = 1 + 10i$ và $z_2 = 9 – 2i$. Số phức $z = z_1 + z_2$ có z1 có phần thực là:",
         "Ta có: $z = z_1 + z_2 = (1 + 10i) + ( 9 – 2i) = 10 + 8i$. Do đó, phần thực của số phức z là 10.",
         "10",
         "\nĐể tìm số phức $z = z_1 + z_2$, ta thực hiện phép cộng hai số phức $z_1$ và $z_2$ như sau:\n\n$z = z_1 + z_2 = (1 + 10i) + (9 - 2i)$\n\nTa cộng phần thực với phần thực, và phần ảo với phần ảo:\n\n$z = (1 + 9) + (10 - 2)i = 10 + 8i$\n\nSố phức $z = 10 + 8i$ có phần thực là $10$ và phần ảo là $8$.\n\nVậy, phần thực của $z$ là $10$.\n\n",
         "\n$10$\n"
        ],
        [
         "1",
         "Hãy tính số phức z. Biết rằng: $z = 10i – ( 2 + 2i).i$",
         "Ta có: $z = 10i - (2 + 2i).i = 10i – 2i + 2 = 2 + 8i$",
         "2 + 8i",
         "\nĐể tính số phức $z$, ta thực hiện các phép toán theo thứ tự:\n\n1. Nhân số phức: $(2 + 2i).i = 2i + 2i^2 = 2i + 2(-1) = -2 + 2i$\n2. Thay vào biểu thức của $z$: $z = 10i - (-2 + 2i)$\n3. Thực hiện phép trừ: $z = 10i + 2 - 2i$\n4. Gom các phần thực và ảo lại: $z = 2 + (10i - 2i) = 2 + 8i$\n\nVậy, $z = 2 + 8i$.\n\n",
         "\n$z = 2 + 8i$\n"
        ],
        [
         "2",
         "Cho hai số phức $z = -2 + 3yi$; $z’ = ( x + 1)- 4i$ với $x,y ∈ R$. Tìm x; y để $z + i= z’ + 2$",
         "Để $z + i = z’ + 2$ => - 2 + 3yi + i = ( x + 1) – 4i + 2 => - 2 + (3y + 1).i = ( x + 3)- 4i. Do đó ta có hệ phương trình : -2 = x+3 , 3y + 1 = -4 => x = -5, y=-5/3",
         "x = -5, y = -5/3",
         "\nTa có:\n$z = -2 + 3yi$\n$z' = (x+1) - 4i$\n$z + i = z' + 2$\n\nThay $z$ và $z'$ vào phương trình, ta được:\n$(-2 + 3yi) + i = ((x+1) - 4i) + 2$\n$-2 + (3y+1)i = (x+3) - 4i$\n\nHai số phức bằng nhau khi và chỉ khi phần thực bằng phần thực và phần ảo bằng phần ảo. Vậy ta có hệ phương trình:\n$\\begin{cases}\n-2 = x+3 \\\\\n3y+1 = -4\n\\end{cases}$\n\nGiải hệ phương trình:\n$\\begin{cases}\nx = -2 - 3 \\\\\n3y = -4 - 1\n\\end{cases}$\n\n$\\begin{cases}\nx = -5 \\\\\n3y = -5\n\\end{cases}$\n\n$\\begin{cases}\nx = -5 \\\\\ny = -\\frac{5}{3}\n\\end{cases}$\n\nVậy $x = -5$ và $y = -\\frac{5}{3}$.\n\n",
         "\n$x = -5$\n$y = -\\frac{5}{3}$\n"
        ],
        [
         "3",
         "Số nào trong các số phức sau là số thuần ảo? A. (√2 + i) - (1 + √2i); B. ( 8 + 2i) + (- 8 + 2i); C. ( - 3 + i) – ( 3 - i); D. (10 + 3i) – ( -10 – 3i)",
         "Ta xét các phương án:A.(√2 + i) - (1 + √2i)= (√2 - 1) - (1 - √2) không là số thuần ảo; B.(8 + 2i) + (- 8 + 2i) = 4i là số thuần ảo; C.(-3 + i) – (3- i) = - 3 + i – 3 + i= - 6 + 2i không là số thuần ảo.; D.(10 + 3i) – ( -10 – 3i) = 10 + 3i + 10 + 3i = 20 + 6i không là số thuần ảo.",
         "B. ( 8 + 2i) + (- 8 + 2i)",
         "\nĐể một số phức là số thuần ảo, phần thực của nó phải bằng 0. Ta sẽ kiểm tra từng đáp án:\n\nA. $(\\sqrt{2} + i) - (1 + \\sqrt{2}i) = (\\sqrt{2} - 1) + (1 - \\sqrt{2})i$. Phần thực là $\\sqrt{2} - 1 \\neq 0$.\n\nB. $(8 + 2i) + (-8 + 2i) = (8 - 8) + (2 + 2)i = 0 + 4i = 4i$. Phần thực là 0.\n\nC. $(-3 + i) - (3 - i) = (-3 - 3) + (1 + 1)i = -6 + 2i$. Phần thực là -6 $\\neq$ 0.\n\nD. $(10 + 3i) - (-10 - 3i) = (10 + 10) + (3 + 3)i = 20 + 6i$. Phần thực là 20 $\\neq$ 0.\n\nVậy, chỉ có đáp án B cho kết quả là một số thuần ảo.\n\n",
         "\nB. $(8 + 2i) + (- 8 + 2i)$\n"
        ],
        [
         "4",
         "Tính giá trị của P = i^{105} + i^{23} + i^{20} - i^{34}",
         "Ta có: $i^2 = -1 \\Rightarrow i^4 = 1$. Do đó, $P = i^{105} + i^{23} + i^{20} - i^{34} = i^{104+1} + i^{20+3} + i^{4 \\cdot 5} - i^{4 \\cdot 8 + 2} = i \\cdot i^{4 \\cdot 26} + i^2 \\cdot i \\cdot i^{4 \\cdot 5} + 1 - i^2 \\cdot i^{4 \\cdot 8} = i \\cdot 1 + (-1) \\cdot i \\cdot 1 + 1 - (-1) \\cdot 1 = 2$",
         "2",
         "\nTa có $i$ là đơn vị ảo, thỏa mãn $i^2 = -1$.\nTa cần tính $P = i^{105} + i^{23} + i^{20} - i^{34}$.\n\nTa có:\n$i^{105} = i^{4 \\cdot 26 + 1} = (i^4)^{26} \\cdot i = 1^{26} \\cdot i = i$\n$i^{23} = i^{4 \\cdot 5 + 3} = (i^4)^5 \\cdot i^3 = 1^5 \\cdot i^3 = i^3 = -i$\n$i^{20} = i^{4 \\cdot 5} = (i^4)^5 = 1^5 = 1$\n$i^{34} = i^{4 \\cdot 8 + 2} = (i^4)^8 \\cdot i^2 = 1^8 \\cdot i^2 = i^2 = -1$\n\nVậy, $P = i + (-i) + 1 - (-1) = i - i + 1 + 1 = 0 + 2 = 2$.\n\n",
         "\n$P = 2$\n"
        ],
        [
         "5",
         "Giá trị của biểu thức $A = \\left( \\frac{1+i}{1-i} \\right)^{2016} + \\left( \\frac{1-i}{1+i} \\right)^{2018}$ bằng ?",
         "Ta có: $\\frac{1+i}{1-i} = \\frac{(1+i)^2}{(1-i).(1+i)} = \\frac{1+2i+i^2}{1-i^2} = \\frac{2i}{2} = i$; $\\frac{1-i}{1+i} = \\frac{(1-i)^2}{(1+i).(1-i)} = \\frac{1-2i+i^2}{1-i^2} = \\frac{-2i}{2} = -i$; Suy ra: $A = \\left( \\frac{1+i}{1-i} \\right)^{2016} + \\left( \\frac{1-i}{1+i} \\right)^{2018} = i^{2016} + (-i)^{2018} = (i^2)^{1008} + (i^2)^{1009} = (-1)^{1008} + (-1)^{1009} = 1 - 1 = 0$",
         "0",
         "\nTa có:\n$\\frac{1+i}{1-i} = \\frac{(1+i)(1+i)}{(1-i)(1+i)} = \\frac{1+2i+i^2}{1-i^2} = \\frac{1+2i-1}{1-(-1)} = \\frac{2i}{2} = i$\n$\\frac{1-i}{1+i} = \\frac{(1-i)(1-i)}{(1+i)(1-i)} = \\frac{1-2i+i^2}{1-i^2} = \\frac{1-2i-1}{1-(-1)} = \\frac{-2i}{2} = -i$\n\nVậy\n$A = \\left( \\frac{1+i}{1-i} \\right)^{2016} + \\left( \\frac{1-i}{1+i} \\right)^{2018} = i^{2016} + (-i)^{2018} = (i^4)^{504} + (-1)^{2018} i^{2018} = 1^{504} + i^{2018} = 1 + i^{2016} i^2 = 1 + (i^4)^{504} i^2 = 1 + 1^{504} i^2 = 1 + i^2 = 1 - 1 = 0$\n\n",
         "\n0\n"
        ],
        [
         "6",
         "Cho $P = 1 + i + i^2 + i^3 + ... + i^{2017}$. Tính P?",
         "Ta có: $P = 1 + i + i^2 + i^3 + ... + i^{2017}$ $iP = i + i^2 + i^3 + ... + i^{2018}$ $\\Rightarrow P - iP = 1 - i^{2018}$ $\\Rightarrow P = \\frac{1 - i^{2018}}{1 - i} = \\frac{1 - (i^2)^{1009}}{1-i} = \\frac{2}{1-i} = \\frac{2(1+i)}{(1-i).(1+i)} = \\frac{2(1+i)}{2} = 1 + i$",
         "1 + i",
         "\nTa có $P = 1 + i + i^2 + i^3 + ... + i^{2017}$. Đây là tổng của một cấp số nhân có số hạng đầu $u_1 = 1$, công bội $q = i$, và số số hạng là $n = 2018$.\n\nÁp dụng công thức tổng của cấp số nhân:\n$P = \\frac{u_1(1 - q^n)}{1 - q} = \\frac{1 - i^{2018}}{1 - i}$.\n\nTa có $i^2 = -1$, suy ra $i^4 = 1$.\nVậy $i^{2018} = i^{4 \\cdot 504 + 2} = (i^4)^{504} \\cdot i^2 = 1^{504} \\cdot (-1) = -1$.\n\nThay vào công thức tính P:\n$P = \\frac{1 - (-1)}{1 - i} = \\frac{2}{1 - i}$.\n\nĐể khử mẫu, ta nhân cả tử và mẫu với liên hợp của mẫu:\n$P = \\frac{2(1 + i)}{(1 - i)(1 + i)} = \\frac{2(1 + i)}{1 - i^2} = \\frac{2(1 + i)}{1 - (-1)} = \\frac{2(1 + i)}{2} = 1 + i$.\n\n",
         "\n$P = 1 + i$\n"
        ],
        [
         "7",
         "Cho $A = 1 + i^2 + i^4 + .. + i^{4k-2} + i^{4k}$ với k là số nguyên dương. Tính A?",
         "Do A là tổng của một cấp số nhân (gồm 2k + 1 số hạng) với số hạng đầu $u_1 = 1$, công bội q = $i^2$. Suy ra $A = 1 + i^2 + i^4 + .. + i^{4k-2} + i^{4k} = \\frac{1 - (i^2)^{2k+1}}{1 - i^2} = \\frac{1 - (-1)^{2k+1}}{1 - (-1)} = \\frac{1 - (-1)^{2k} \\cdot (-1)^1}{2} = 1$",
         "1",
         "\nTa có $i^2 = -1$, $i^4 = 1$.\nTổng $A$ có thể được viết lại như sau:\n$A = 1 + i^2 + i^4 + \\dots + i^{4k-2} + i^{4k}$\n$A = 1 + (i^2) + (i^2)^2 + \\dots + (i^2)^{2k-1} + (i^2)^{2k}$\n$A = 1 + (-1) + (-1)^2 + \\dots + (-1)^{2k-1} + (-1)^{2k}$\n$A = 1 - 1 + 1 - 1 + \\dots - 1 + 1$\n\nTa nhận thấy rằng các số hạng của $A$ có dạng $ (-1)^n$ với $n$ chạy từ 0 đến $2k$.\nSố lượng các số hạng trong tổng là $2k+1$.\nVì vậy, ta có thể viết lại tổng $A$ như sau:\n$A = \\sum_{n=0}^{2k} (-1)^n$\n\nNếu $k$ là số nguyên dương thì $2k+1$ là một số lẻ. Vậy số lượng số 1 trong tổng sẽ lớn hơn số lượng số -1 là 1.\nTa có thể viết $A$ như sau:\n$A = (1 - 1) + (1 - 1) + \\dots + (1 - 1) + 1$\nSố lượng cặp $(1-1)$ là $k$ cặp. Vậy tổng của các cặp này là 0.\nVậy $A = 0 + 0 + \\dots + 0 + 1 = 1$\n\nVậy $A = 1$.\n\n",
         "\n$A = 1$\n"
        ],
        [
         "8",
         "Tìm số phức liên hợp của số phức $z = (3 - 2i).(2 + 3i)$",
         "Ta có: $z = (3 - 2i).(2 + 3i) = 6 + 9i - 4i + 6 = 12 + 5i$ \\Rightarrow Số phức liên hợp với số phức z là $\\overline{z} = 12 - 5i$",
         "$12 - 5i$",
         "\nĐể tìm số phức liên hợp của số phức $z = (3 - 2i)(2 + 3i)$, ta thực hiện các bước sau:\n\n1. Tính số phức $z$:\n$z = (3 - 2i)(2 + 3i) = 3(2) + 3(3i) - 2i(2) - 2i(3i) = 6 + 9i - 4i - 6i^2 = 6 + 5i - 6(-1) = 6 + 5i + 6 = 12 + 5i$\n\n2. Tìm số phức liên hợp của $z$, ký hiệu là $\\bar{z}$:\nNếu $z = a + bi$, thì $\\bar{z} = a - bi$.\nTrong trường hợp này, $z = 12 + 5i$, vậy $\\bar{z} = 12 - 5i$.\n\nVậy, số phức liên hợp của $z$ là $12 - 5i$.\n\n",
         "\n$\\bar{z} = 12 - 5i$\n"
        ],
        [
         "9",
         "Cho số phức $z = 5 - 3i$. Tính $1 + \\overline{z} + (\\overline{z})^2$ ta được kết quả:",
         "Ta có $z = 5 - 3i \\Rightarrow \\overline{z} = 5 + 3i$ Suy ra : $1 + \\overline{z} + (\\overline{z})^2 = 1 + (5 + 3i) + (5 + 3i)^2 = (6 + 3i) + (25 + 30i - 9) = 22 + 33i$",
         "22 + 33i",
         "\nTa có số phức $z = 5 - 3i$. Khi đó, số phức liên hợp của $z$ là $\\overline{z} = 5 + 3i$.\n\nTa cần tính $1 + \\overline{z} + (\\overline{z})^2$. Thay $\\overline{z} = 5 + 3i$ vào biểu thức, ta được:\n\\begin{align*} 1 + \\overline{z} + (\\overline{z})^2 &= 1 + (5 + 3i) + (5 + 3i)^2 \\\\ &= 1 + (5 + 3i) + (25 + 30i + 9i^2) \\\\ &= 1 + (5 + 3i) + (25 + 30i - 9) \\\\ &= 1 + 5 + 3i + 16 + 30i \\\\ &= (1 + 5 + 16) + (3i + 30i) \\\\ &= 22 + 33i\\end{align*}\n\nVậy, $1 + \\overline{z} + (\\overline{z})^2 = 22 + 33i$.\n\n",
         "\n$22 + 33i$\n"
        ],
        [
         "10",
         "Cho số phức z thỏa $(1 + 3i)z - (2 + 5i) = (2 + i)z$. Tìm số phức liên hợp của số phức z.",
         "Theo giả thiết ta có: $(1 + 3i)z - (2 + 5i) = (2 + i)z \\Rightarrow (1 + 3i - 2 - i)z = 2 + 5i \\Leftrightarrow (-1 + 2i)z = 2 + 5i \\Rightarrow z = \\frac{2 + 5i}{-1 + 2i} = \\frac{8}{5} + \\frac{9}{5}i$",
         "$\\frac{8}{5} + \\frac{9}{5}i$",
         "\nTa có phương trình:\n$(1 + 3i)z - (2 + 5i) = (2 + i)z$\n\n$\\Leftrightarrow (1 + 3i)z - (2 + i)z = 2 + 5i$\n\n$\\Leftrightarrow (1 + 3i - 2 - i)z = 2 + 5i$\n\n$\\Leftrightarrow (-1 + 2i)z = 2 + 5i$\n\n$\\Leftrightarrow z = \\frac{2 + 5i}{-1 + 2i}$\n\n$\\Leftrightarrow z = \\frac{(2 + 5i)(-1 - 2i)}{(-1 + 2i)(-1 - 2i)}$\n\n$\\Leftrightarrow z = \\frac{-2 - 4i - 5i - 10i^2}{1 + 4}$\n\n$\\Leftrightarrow z = \\frac{-2 - 9i + 10}{5}$\n\n$\\Leftrightarrow z = \\frac{8 - 9i}{5}$\n\n$\\Leftrightarrow z = \\frac{8}{5} - \\frac{9}{5}i$\n\nSố phức liên hợp của $z$ là:\n$\\overline{z} = \\frac{8}{5} + \\frac{9}{5}i$\n\n",
         "\n$\\overline{z} = \\frac{8}{5} + \\frac{9}{5}i$\n"
        ],
        [
         "11",
         "Tìm số phức z, biết $z + 2i\\overline{z} + 4 = i$",
         "Gọi số phức z cần tìm là $z = a + bi$ ($a, b \\in R$). Số phức liên hợp với số phức z là: $\\overline{z} = a - bi$. Theo giả thiết: $z + 2i\\overline{z} + 4 = i \\Rightarrow a + bi + 2i(a - bi) + 4 = i \\Rightarrow a + bi + 2ai + 2b + 4 - i = 0 \\Rightarrow (a + 2b + 4) + (b + 2a - 1)i = 0 \\Rightarrow \\begin{cases} a + 2b = -4 \\\\ b + 2a = 1 \\end{cases} \\Rightarrow \\begin{cases} a = 2 \\\\ b = -3 \\end{cases}$ Suy ra $z = 2 - 3i$",
         "2 - 3i",
         "\nĐặt $z = x + yi$, với $x, y \\in \\mathbb{R}$. Khi đó $\\overline{z} = x - yi$.\nThay vào phương trình, ta có:\n$x + yi + 2i(x - yi) + 4 = i$\n$x + yi + 2xi - 2yi^2 + 4 = i$\n$x + yi + 2xi + 2y + 4 = i$\n$(x + 2y + 4) + (2x + y)i = i$\n\nĐồng nhất phần thực và phần ảo, ta được hệ phương trình:\n$\\begin{cases} x + 2y + 4 = 0 \\\\ 2x + y = 1 \\end{cases}$\nTừ phương trình thứ hai, ta có $y = 1 - 2x$. Thay vào phương trình thứ nhất:\n$x + 2(1 - 2x) + 4 = 0$\n$x + 2 - 4x + 4 = 0$\n$-3x + 6 = 0$\n$3x = 6$\n$x = 2$\n\nSuy ra $y = 1 - 2(2) = 1 - 4 = -3$\nVậy $z = 2 - 3i$.\n\n",
         "\n$z = 2 - 3i$\n"
        ],
        [
         "12",
         "Tìm số phức z, biết $|z| = \\sqrt{5}$, phần thực bằng 2 lần phần ảo và phần thực dương",
         "Cho số phức $z = a + bi$, ($a, b \\in R$) và $a > 0$. Do phần thực bằng 2 lần phần ảo nên: $a = 2b$ (1). mà $|z| = \\sqrt{5} \\Leftrightarrow \\sqrt{a^2 + b^2} = \\sqrt{5} \\Rightarrow a^2 + b^2 = 5$ (2). Từ (1) và (2) ta có hệ phương trình: $\\begin{cases} a = 2b \\\\ a^2 + b^2 = 5 \\end{cases} \\Leftrightarrow \\begin{cases} a = 2 \\\\ b = 1 \\end{cases}$ Vậy số phức cần tìm là $z = 2 + i$.",
         "2 + i",
         "\nGọi số phức $z = a + bi$, với $a, b \\in \\mathbb{R}$.\n\nTheo đề bài, ta có các điều kiện sau:\n1. $|z| = \\sqrt{5}$\n2. $a = 2b$\n3. $a > 0$\n\nTừ điều kiện 1, ta có:\n$|z| = \\sqrt{a^2 + b^2} = \\sqrt{5}$\n$\\Leftrightarrow a^2 + b^2 = 5$  (1)\n\nTừ điều kiện 2, ta có: $a = 2b$. Thay vào (1), ta được:\n$(2b)^2 + b^2 = 5$\n$4b^2 + b^2 = 5$\n$5b^2 = 5$\n$b^2 = 1$\n$b = \\pm 1$\n\nVậy, ta có hai trường hợp:\n* Trường hợp 1: $b = 1$, suy ra $a = 2b = 2(1) = 2$.  Vì $a = 2 > 0$, điều kiện 3 thỏa mãn. Vậy $z = 2 + i$.\n* Trường hợp 2: $b = -1$, suy ra $a = 2b = 2(-1) = -2$. Vì $a = -2 < 0$, điều kiện 3 không thỏa mãn.\n\nVậy, số phức cần tìm là $z = 2 + i$.\n\n",
         "\n$z = 2 + i$\n"
        ],
        [
         "13",
         "Cho số phức z có phần thực là số nguyên và z thỏa mãn: $|z| - 2\\overline{z} = -7 + 3i + z$. Tính môđun của số phức: $\\omega = 1 - z + z^2$",
         "Gọi số phức cần tìm là $z = a + bi$, ($a, b \\in R$). Số phức liên hợp của số phức z là: $\\overline{z} = a - bi$ và $|z| = \\sqrt{a^2 + b^2}$. Theo giả thiết ta có: $|z| - 2\\overline{z} = -7 + 3i + z \\Leftrightarrow \\sqrt{a^2 + b^2} - 2(a - bi) = -7 + 3i + a + bi \\Leftrightarrow \\begin{cases} \\sqrt{a^2 + b^2} - 2a = -7 + a \\\\ 2b = 3 + b \\end{cases} \\Leftrightarrow \\begin{cases} 8a^2 - 42a + 40 = 0 \\\\ b = 3 \\end{cases} \\Leftrightarrow \\begin{cases} a \\geq \\frac{7}{3} \\\\ b = 3 \\end{cases} \\Leftrightarrow \\begin{cases} a = 4 \\\\ b = 3 \\end{cases}$. vậy $z = 4 + 3i \\Rightarrow \\omega = 1 - (4 + 3i) + (4 + 3i)^2 = 4 + 21i \\Rightarrow |\\omega| = \\sqrt{4^2 + 21^2} = \\sqrt{457}$",
         "$\\sqrt{457}$",
         "\nGọi $z = a + bi$, với $a, b \\in \\mathbb{R}$ và $a \\in \\mathbb{Z}$. Ta có $\\overline{z} = a - bi$.\nTheo giả thiết: $|z| - 2\\overline{z} = -7 + 3i + z$, suy ra:\n$\\sqrt{a^2 + b^2} - 2(a - bi) = -7 + 3i + a + bi$\n$\\sqrt{a^2 + b^2} - 2a + 2bi = -7 + 3i + a + bi$\n$\\sqrt{a^2 + b^2} - 2a = -7 + a$ và $2b = 3 + b$.\nTừ $2b = 3 + b$ suy ra $b = 3$.\nTừ $\\sqrt{a^2 + b^2} - 2a = -7 + a$ suy ra $\\sqrt{a^2 + 3^2} = 3a - 7$.\n$\\sqrt{a^2 + 9} = 3a - 7$.\nĐiều kiện: $3a - 7 \\geq 0 \\Leftrightarrow a \\geq \\frac{7}{3}$.\nBình phương hai vế: $a^2 + 9 = (3a - 7)^2 = 9a^2 - 42a + 49$.\n$8a^2 - 42a + 40 = 0$\n$4a^2 - 21a + 20 = 0$\n$\\Delta = (-21)^2 - 4.4.20 = 441 - 320 = 121$.\n$a_1 = \\frac{21 + \\sqrt{121}}{8} = \\frac{21 + 11}{8} = \\frac{32}{8} = 4$.\n$a_2 = \\frac{21 - \\sqrt{121}}{8} = \\frac{21 - 11}{8} = \\frac{10}{8} = \\frac{5}{4} = 1.25$.\nDo $a \\in \\mathbb{Z}$ và $a \\geq \\frac{7}{3}$, nên $a = 4$.\nVậy $z = 4 + 3i$.\nTa có $\\omega = 1 - z + z^2 = 1 - (4 + 3i) + (4 + 3i)^2 = 1 - 4 - 3i + 16 + 24i - 9 = 4 + 21i$.\n$|\\omega| = \\sqrt{4^2 + 21^2} = \\sqrt{16 + 441} = \\sqrt{457}$.\n\n",
         "\n$\\sqrt{457}$\n"
        ],
        [
         "14",
         "Cho hai số phức $z_1$ và $z_2$ thỏa mãn $|z_1| = |z_2| = 1$; $|z_1 + z_2| = \\sqrt{3}$. Tính $|z_1 - z_2|$",
         "Ta có: $3 = |z_1 + z_2|^2 = (z_1 + z_2)(\\overline{z_1} + \\overline{z_2}) \\Rightarrow z_1 \\overline{z_2} + z_2 \\overline{z_1} + z_1 \\overline{z_1} + z_2 \\overline{z_2} = 3 \\Rightarrow z_1 \\overline{z_2} + z_2 \\overline{z_1} = 1$ Vì $|z_1| = |z_2| = 1$ nên $z_1 \\cdot \\overline{z_1} = 1$; $z_2 \\cdot \\overline{z_2} = 1$. Khi đó: $|z_1 - z_2|^2 = (z_1 - z_2)(\\overline{z_1} - \\overline{z_2}) = |z_1|^2 + |z_2|^2 - (z_1 \\overline{z_2} + z_2 \\overline{z_1}) = 1$",
         "1",
         "AI failed to generate a solution",
         "AI failed to generate an answer"
        ],
        [
         "15",
         "Cho số phức z thỏa mãn $|z + 3| = 5$ và $|z - 2i| = |z - 2 - 2i|$. Tính $|z|$.",
         "Gọi số phức z cần tìm là $z = a + bi$ ($a, b \\in R$). Ta có: $|z + 3| = 5 \\Leftrightarrow |a + bi + 3| = 5 \\Leftrightarrow (a + 3)^2 + b^2 = 25$ (*). $|z - 2i| = |z - 2 - 2i| \\Leftrightarrow |a + bi - 2i| = |a + bi - 2 - 2i| \\Leftrightarrow a^2 + (b - 2)^2 = (a - 2)^2 + (b - 2)^2 \\Leftrightarrow a^2 = (a - 2)^2 \\Leftrightarrow \\begin{cases} a - 2 = a \\\\ a - 2 = -a \\end{cases}$. Thế a = 1 vào (*) ta được $16 + b^2 = 25 \\Rightarrow b^2 = 9$. Do đó, môđun của z là: $|z| = \\sqrt{1^2 + 9} = \\sqrt{10}$",
         "$\\sqrt{10}$",
         "\nGọi $z = x + yi$, với $x, y \\in \\mathbb{R}$.\n\nTừ $|z + 3| = 5$, ta có $|x + yi + 3| = 5 \\Leftrightarrow |(x+3) + yi| = 5$. Suy ra $(x+3)^2 + y^2 = 25$. (1)\n\nTừ $|z - 2i| = |z - 2 - 2i|$, ta có $|x + yi - 2i| = |x + yi - 2 - 2i| \\Leftrightarrow |x + (y-2)i| = |(x-2) + (y-2)i|$. Suy ra $x^2 + (y-2)^2 = (x-2)^2 + (y-2)^2$.\nĐiều này tương đương $x^2 = (x-2)^2 \\Leftrightarrow x^2 = x^2 - 4x + 4 \\Leftrightarrow 4x = 4 \\Leftrightarrow x = 1$.\n\nThay $x = 1$ vào (1), ta có $(1+3)^2 + y^2 = 25 \\Leftrightarrow 16 + y^2 = 25 \\Leftrightarrow y^2 = 9 \\Leftrightarrow y = \\pm 3$.\n\nVậy $z = 1 + 3i$ hoặc $z = 1 - 3i$.\nKhi đó $|z| = \\sqrt{1^2 + 3^2} = \\sqrt{1 + 9} = \\sqrt{10}$.\n\nVậy $|z| = \\sqrt{10}$.\n\n",
         "\n$\\sqrt{10}$\n"
        ],
        [
         "16",
         "Cho số phức $z = 2m + (m + 2)i, (m \\in R)$. Tìm z biết rằng $z^2$ là một số phức có phần thực bằng -5.",
         "Ta có: $z^2 = 4m^2 + 2m(m + 2)i + [(m + 2)i]^2 = 3m^2 + 2m(m + 2)i - 4m - 4$. Do $z^2$ là số phức có phần thực bằng -5 nên ta có: $3m^2 - 4m - 4 = -5 \\Leftrightarrow 3m^2 - 4m + 1 = 0 \\Leftrightarrow m = 1; m = \\frac{1}{3}$. Vậy có hai số phức thỏa mãn là $z_1 = 2 + 3i$ và $z_2 = \\frac{2}{3} + \\frac{7}{3}i$.",
         "$z = 2 + 3i, z = \\frac{2}{3} + \\frac{7}{3}i$",
         "\nTa có $z = 2m + (m+2)i$. Khi đó:\n$z^2 = (2m + (m+2)i)^2 = (2m)^2 + 2(2m)(m+2)i + ((m+2)i)^2$\n$= 4m^2 + 4m(m+2)i - (m+2)^2 = 4m^2 - (m^2 + 4m + 4) + 4m(m+2)i$\n$= 4m^2 - m^2 - 4m - 4 + (4m^2 + 8m)i = (3m^2 - 4m - 4) + (4m^2 + 8m)i$.\n\nVì $z^2$ là một số phức có phần thực bằng -5, nên:\n$3m^2 - 4m - 4 = -5 \\Leftrightarrow 3m^2 - 4m + 1 = 0$.\nGiải phương trình bậc hai này, ta có:\n$\\Delta = (-4)^2 - 4(3)(1) = 16 - 12 = 4 > 0$.\nVậy, phương trình có hai nghiệm phân biệt:\n$m_1 = \\frac{-(-4) + \\sqrt{4}}{2(3)} = \\frac{4+2}{6} = \\frac{6}{6} = 1$\n$m_2 = \\frac{-(-4) - \\sqrt{4}}{2(3)} = \\frac{4-2}{6} = \\frac{2}{6} = \\frac{1}{3}$\n\nVới $m = 1$, ta có: $z = 2(1) + (1+2)i = 2 + 3i$.\nVới $m = \\frac{1}{3}$, ta có: $z = 2(\\frac{1}{3}) + (\\frac{1}{3} + 2)i = \\frac{2}{3} + \\frac{7}{3}i$.\n\nVậy, $z = 2 + 3i$ hoặc $z = \\frac{2}{3} + \\frac{7}{3}i$.\n\n",
         "\n$z = 2 + 3i$ hoặc $z = \\frac{2}{3} + \\frac{7}{3}i$.\n"
        ],
        [
         "17",
         "Cho số phức $z = m + (m-1)i$; ($m \\in R$) và số phức $z' = 2n + (2-3n)i$ ($n\\in R$). Tìm m và n biết rằng $z - z' = 1 + 7i$",
         "Ta có: $z - z' = [m + (m - 1).i] - [2n + (2 - 3n).i] = (m - 2n) + (m + 3n - 3). i$. Theo giả thiết $z - z' = 1 + 7i$ nên ta có: $(m - 2n) + (m + 3n - 3).i = 1 + 7i$. Từ đó ta có hệ phương trình sau: $\\begin{cases} m - 2n = 1 \\\\ m + 3n - 3 = 7 \\end{cases} \\Leftrightarrow \\begin{cases} m - 2n = 1 \\\\ m + 3n = 10 \\end{cases} \\Leftrightarrow \\begin{cases} m = \\frac{23}{5} \\\\ n = \\frac{9}{5} \\end{cases}$",
         "$m = \\frac{23}{5}; n = \\frac{9}{5}$",
         "\nTa có $z = m + (m-1)i$ và $z' = 2n + (2-3n)i$.\nTheo đề bài, $z - z' = 1 + 7i$.\nSuy ra, $m + (m-1)i - (2n + (2-3n)i) = 1 + 7i$.\nTương đương với $(m - 2n) + (m-1 - 2 + 3n)i = 1 + 7i$.\nTương đương với $(m - 2n) + (m + 3n - 3)i = 1 + 7i$.\nHai số phức bằng nhau khi phần thực bằng phần thực và phần ảo bằng phần ảo.\nDo đó, ta có hệ phương trình:\n$\\begin{cases}\nm - 2n = 1 \\\\\nm + 3n - 3 = 7\n\\end{cases}$\n$\\Leftrightarrow \\begin{cases}\nm - 2n = 1 \\\\\nm + 3n = 10\n\\end{cases}$\nLấy phương trình thứ hai trừ phương trình thứ nhất, ta được:\n$(m + 3n) - (m - 2n) = 10 - 1$\n$\\Leftrightarrow 5n = 9$\n$\\Leftrightarrow n = \\frac{9}{5}$\nThay $n = \\frac{9}{5}$ vào phương trình $m - 2n = 1$, ta được:\n$m - 2(\\frac{9}{5}) = 1$\n$\\Leftrightarrow m - \\frac{18}{5} = 1$\n$\\Leftrightarrow m = 1 + \\frac{18}{5} = \\frac{5}{5} + \\frac{18}{5} = \\frac{23}{5}$\nVậy, $m = \\frac{23}{5}$ và $n = \\frac{9}{5}$.\n\n",
         "\n$m = \\frac{23}{5}$\n$n = \\frac{9}{5}$\n"
        ],
        [
         "18",
         "Tìm số phức $z = x + yi, (x, y \\in R)$ thỏa mãn $z + 3x = 2\\overline{z} - 3i$. Tìm $|z|$",
         "Vì $z + 3x = 2\\overline{z} - 3i \\Leftrightarrow x + yi + 3x = 2(x - yi) - 3i \\Leftrightarrow 4x + yi = 2x - (2y + 3)i \\Leftrightarrow \\begin{cases} 4x = 2x \\\\ y = -2y - 3 \\end{cases} \\Leftrightarrow \\begin{cases} x = 0 \\\\ y = -1 \\end{cases}$. Do đó, số phức thỏa mãn đầu $z = -i$ và $|z| = 1$",
         "1",
         "\nTa có $z = x + yi$, với $x, y \\in \\mathbb{R}$. Khi đó $\\overline{z} = x - yi$.\nTheo đề bài, ta có:\n$z + 3x = 2\\overline{z} - 3i$\n$\\Leftrightarrow x + yi + 3x = 2(x - yi) - 3i$\n$\\Leftrightarrow 4x + yi = 2x - 2yi - 3i$\n$\\Leftrightarrow 4x + yi = 2x + (-2y - 3)i$\n$\\Leftrightarrow \\begin{cases} 4x = 2x \\\\ y = -2y - 3 \\end{cases}$\n$\\Leftrightarrow \\begin{cases} 2x = 0 \\\\ 3y = -3 \\end{cases}$\n$\\Leftrightarrow \\begin{cases} x = 0 \\\\ y = -1 \\end{cases}$\nVậy $z = 0 - i = -i$.\nDo đó, $|z| = \\sqrt{0^2 + (-1)^2} = \\sqrt{1} = 1$.\n\n",
         "\n$|z| = 1$\n"
        ],
        [
         "19",
         "Có bao nhiêu số phức z có phần ảo gấp ba lần phần thực, đồng thời $|z| = \\sqrt{10}(z + \\overline{z})$",
         "Gọi số phức cần tìm là $z = a + bi$, ($a, b \\in R$). Do số phức z có phần ảo gấp ba lần phần thực nên b = 3a. $\\Rightarrow$ Số phức cần tìm có dạng: $z = a + 3ai$. Số phức liên hợp của số phức z là: $\\overline{z} = a - 3ai$. Theo giả thiết ta có: $|z| = \\sqrt{10}(z + \\overline{z}) \\Leftrightarrow \\sqrt{a^2 + 9a^2} = \\sqrt{10}(a + 3ai + a - 3ai) \\Leftrightarrow \\sqrt{10a^2} = \\sqrt{20}a \\Leftrightarrow 10a^2 = 20a \\Leftrightarrow \\begin{cases} a = 0 \\\\ a = 2 \\end{cases}$. Với a = 0 thì z = 0. Với a = 2 thì z = 2 + 6i. Vậy có hai số phức thỏa mãn là z = 0 hoặc z = 2 + 6i.",
         "2",
         "\nGọi số phức $z = x + yi$, với $x, y \\in \\mathbb{R}$.\nTheo đề bài, phần ảo gấp ba lần phần thực, nên $y = 3x$. Vậy $z = x + 3xi$.\nTa có $\\overline{z} = x - 3xi$.\n$|z| = \\sqrt{x^2 + (3x)^2} = \\sqrt{x^2 + 9x^2} = \\sqrt{10x^2} = |x|\\sqrt{10}$.\n$z + \\overline{z} = (x + 3xi) + (x - 3xi) = 2x$.\nTheo giả thiết $|z| = \\sqrt{10}(z + \\overline{z})$, ta có $|x|\\sqrt{10} = \\sqrt{10}(2x)$.\nSuy ra $|x|\\sqrt{10} = 2x\\sqrt{10}$.\nChia cả hai vế cho $\\sqrt{10}$ (vì $\\sqrt{10} \\neq 0$), ta được $|x| = 2x$.\nXét hai trường hợp:\n1. $x \\geq 0$, khi đó $|x| = x$. Phương trình trở thành $x = 2x \\Leftrightarrow x = 0$. Vậy $x = 0$, suy ra $y = 3x = 0$. Vậy $z = 0$.\n2. $x < 0$, khi đó $|x| = -x$. Phương trình trở thành $-x = 2x \\Leftrightarrow 3x = 0 \\Leftrightarrow x = 0$. Điều này mâu thuẫn với điều kiện $x < 0$.\nVậy chỉ có một nghiệm duy nhất là $z = 0$.\n\nTuy nhiên, ta cần kiểm tra lại $z=0$ có thỏa mãn hay không. Khi $z=0$, $|z| = 0$ và $z + \\overline{z} = 0 + 0 = 0$. Vậy $|z| = \\sqrt{10}(z + \\overline{z})$ trở thành $0 = \\sqrt{10}(0)$, hay $0 = 0$, điều này đúng.\n\nVậy có một số phức thỏa mãn điều kiện đề bài là $z = 0$.\n\n",
         "\n1\n"
        ],
        [
         "20",
         "Trong mặt phẳng Oxy cho điểm A là điểm biểu diễn của số phức $z = 1 + 2i$, B là điểm thuộc đường thẳng y=2 sao cho tam giác OAB cân tại O. Tìm số z biểu diễn B.",
         "Ta có, điểm A biểu diễn số phức $z = 1 + 2i$ nên tọa độ A(1 ; 2). Do điểm B nằm trên đường thẳng y=2 nên tọa độ B(x ; 2) ; (x $\\neq$ 1 ). Để tam giác OAB cân tại O khi và chỉ khi OA = OB. $\\Leftrightarrow \\sqrt{1^2 + 2^2} = \\sqrt{x^2 + 2^2} \\Leftrightarrow x^2 + 4 = 5 \\Leftrightarrow \\begin{cases} x = 1 (l) \\\\ x = -1 \\end{cases}$. Suy ra, tọa độ B (-1 ; 2). Do đó,số phức biểu diễn B là $z = -1 + 2i$.",
         "-1 + 2i",
         "\nGọi $B(x; 2)$ là điểm biểu diễn số phức cần tìm.\nVì tam giác $OAB$ cân tại $O$ nên $OA = OB$. Ta có:\n$OA = |z| = \\sqrt{1^2 + 2^2} = \\sqrt{5}$\n$OB = \\sqrt{x^2 + 2^2} = \\sqrt{x^2 + 4}$\nDo $OA = OB$ nên $\\sqrt{5} = \\sqrt{x^2 + 4} \\Leftrightarrow 5 = x^2 + 4 \\Leftrightarrow x^2 = 1 \\Leftrightarrow x = \\pm 1$.\nVậy $B(1; 2)$ hoặc $B(-1; 2)$.\nSố phức biểu diễn $B$ là $1 + 2i$ hoặc $-1 + 2i$.\n",
         "\nSố phức z biểu diễn B là $z = 1 + 2i$ hoặc $z = -1 + 2i$.\n"
        ],
        [
         "21",
         "Cho số phức z thỏa mãn: $(2 + i)z + 2 - i = 0$. Tìm phần thực của số phức.",
         "Ta có: $(2 + i).z + 2 - i = 0 \\Leftrightarrow (2 + i)z = -2 + i \\Leftrightarrow z = \\frac{-2 + i}{2 + i} = \\frac{(-2 + i)(2 - i)}{(2 + i).(2 - i)} \\Leftrightarrow z = \\frac{-4 + 2i + 2i - i^2}{4 - i^2} = \\frac{-3 + 4i}{5}$. Do đó, phần thực của số phức cần tìm là $\\frac{-3}{5}$",
         "$\\frac{-3}{5}$",
         "\nTa có: $(2 + i)z + 2 - i = 0$\n$\\Leftrightarrow (2+i)z = -2 + i$\n$\\Leftrightarrow z = \\frac{-2+i}{2+i}$\n$\\Leftrightarrow z = \\frac{(-2+i)(2-i)}{(2+i)(2-i)}$\n$\\Leftrightarrow z = \\frac{-4 + 2i + 2i - i^2}{4 - i^2}$\n$\\Leftrightarrow z = \\frac{-4 + 4i + 1}{4 + 1}$\n$\\Leftrightarrow z = \\frac{-3 + 4i}{5}$\n$\\Leftrightarrow z = -\\frac{3}{5} + \\frac{4}{5}i$\nVậy phần thực của số phức $z$ là $-\\frac{3}{5}$.\n\n",
         "\n$-\\frac{3}{5}$\n"
        ],
        [
         "22",
         "Giải phương trình $iz + 3 - 2i = 1 + i$",
         "Ta có: $iz + 3 - 2i = 1 + i \\Leftrightarrow iz = 1 + i - 3 + 2i \\Leftrightarrow iz = -2 + 3i \\Leftrightarrow z = \\frac{-2 + 3i}{i} = \\frac{2i - 3i^2}{-i^2} = 3 + 2i$",
         "3 + 2i",
         "\nTa có phương trình $iz + 3 - 2i = 1 + i$.\nĐể giải phương trình này, ta thực hiện các bước sau:\n1. Chuyển các số hạng không chứa $z$ sang vế phải:\n$iz = 1 + i - 3 + 2i$\n2. Rút gọn vế phải:\n$iz = (1 - 3) + (1 + 2)i$\n$iz = -2 + 3i$\n3. Chia cả hai vế cho $i$:\n$z = \\frac{-2 + 3i}{i}$\n4. Nhân cả tử và mẫu với $-i$ để khử $i$ ở mẫu:\n$z = \\frac{(-2 + 3i)(-i)}{i(-i)}$\n$z = \\frac{2i - 3i^2}{-i^2}$\n5. Vì $i^2 = -1$, ta có:\n$z = \\frac{2i - 3(-1)}{-(-1)}$\n$z = \\frac{2i + 3}{1}$\n$z = 3 + 2i$\n\nVậy, nghiệm của phương trình là $z = 3 + 2i$.\n\n",
         "\n$z = 3 + 2i$\n"
        ],
        [
         "23",
         "Giải phương trình: $(2 + 4i)z + (4 - 2i)z + 2 - 2i = 0$",
         "Ta có: $(2 + 4i).z + (4 - 2i)z + 2 - 2i = 0 \\Leftrightarrow (2 + 4i + 4 - 2i)z = - 2 + 2i \\Leftrightarrow (6 + 2i). z = - 2 + 2i \\Leftrightarrow z = \\frac{-2 + 2i}{6 + 2i} = \\frac{-1 + i}{3 + i} \\Leftrightarrow z = \\frac{(-1 + i).(3 - i)}{(3 + i)(3 - i)} \\Leftrightarrow z = \\frac{-3 + i + 3i - i^2}{9 - i^2} = \\frac{-2 + 4i}{10} = \\frac{-1 + 2i}{5}$",
         "$\\frac{-1 + 2i}{5}$",
         "\nTa có phương trình:\n$(2 + 4i)z + (4 - 2i)\\overline{z} + 2 - 2i = 0$\n\nĐặt $z = x + yi$, với $x, y \\in \\mathbb{R}$. Khi đó $\\overline{z} = x - yi$. Thay vào phương trình, ta được:\n\n$(2 + 4i)(x + yi) + (4 - 2i)(x - yi) + 2 - 2i = 0$\n\n$2x + 2yi + 4xi - 4y + 4x - 4yi - 2xi - 2y + 2 - 2i = 0$\n\n$(2x - 4y + 4x - 2y + 2) + (2y + 4x - 4y - 2x - 2)i = 0$\n\n$(6x - 6y + 2) + (2x - 2y - 2)i = 0$\n\nĐể phương trình trên bằng 0 thì phần thực và phần ảo đều phải bằng 0:\n\n$\\begin{cases}\n6x - 6y + 2 = 0 \\\\\n2x - 2y - 2 = 0\n\\end{cases}$\n\n$\\begin{cases}\n3x - 3y + 1 = 0 \\\\\nx - y - 1 = 0\n\\end{cases}$\n\n$\\begin{cases}\n3x - 3y + 1 = 0 \\\\\nx - y = 1\n\\end{cases}$\n\nThay $x - y = 1$ vào phương trình đầu, ta được:\n\n$3(x - y) + 1 = 0$\n\n$3(1) + 1 = 0$\n\n$4 = 0$\n\nPhương trình vô nghiệm.\n\n",
         "\nPhương trình vô nghiệm.\n"
        ],
        [
         "24",
         "Giải phương trình $(1 + 2i)z + \\frac{2 + 6i}{1 - i} = 0$",
         "Ta có: $(1 + 2i)z + \\frac{2 + 6i}{1 - i} = 0 \\Leftrightarrow (1 + 2i)z = \\frac{-2 - 6i}{1 - i} \\Leftrightarrow (1 + 2i)z = \\frac{(-2 - 6i).(1 + i)}{(1 - i)(1 + i)} \\Leftrightarrow (1 + 2i)z = \\frac{-2 - 2i - 6i - 6i^2}{2} \\Leftrightarrow (1 + 2i)z = \\frac{4 - 8i}{2} \\Leftrightarrow (1 + 2i)z = -2 + 4i \\Leftrightarrow z = \\frac{-2 + 4i}{1 + 2i} = \\frac{(-2 + 4i)(1 - 2i)}{(1 + 2i)(1 - 2i)} \\Leftrightarrow z = \\frac{-2 + 4i + 4i - 8i^2}{1 - 4i^2} \\Leftrightarrow z = \\frac{6 + 8i}{5}$",
         "$\\frac{6 + 8i}{5}$",
         "\nĐể giải phương trình $(1 + 2i)z + \\frac{2 + 6i}{1 - i} = 0$, ta thực hiện các bước sau:\n\n1. **Rút gọn biểu thức phức:**\n\nTa có $\\frac{2 + 6i}{1 - i} = \\frac{(2 + 6i)(1 + i)}{(1 - i)(1 + i)} = \\frac{2 + 2i + 6i + 6i^2}{1 - i^2} = \\frac{2 + 8i - 6}{1 + 1} = \\frac{-4 + 8i}{2} = -2 + 4i$.\n\n2. **Thay vào phương trình:**\n\nPhương trình trở thành $(1 + 2i)z + (-2 + 4i) = 0$.\n\n3. **Giải phương trình tìm z:**\n\n$(1 + 2i)z = 2 - 4i$\n$z = \\frac{2 - 4i}{1 + 2i} = \\frac{(2 - 4i)(1 - 2i)}{(1 + 2i)(1 - 2i)} = \\frac{2 - 4i - 4i + 8i^2}{1 - 4i^2} = \\frac{2 - 8i - 8}{1 + 4} = \\frac{-6 - 8i}{5} = -\\frac{6}{5} - \\frac{8}{5}i$.\n\nVậy, nghiệm của phương trình là $z = -\\frac{6}{5} - \\frac{8}{5}i$.\n\n",
         "\n$z = -\\frac{6}{5} - \\frac{8}{5}i$\n"
        ],
        [
         "25",
         "Giải phương trình bậc hai sau: $z^2 - z + 1 = 0$",
         "Ta có: a = 1 ; b = -1 ; c = 1 nên $\\Delta = b^2 - 4ac = -3 < 0$. Phương trình có hai nghiệm phức phân biệt là $x_{1,2} = \\frac{1 \\pm i\\sqrt{3}}{2}$",
         "$\\frac{1 \\pm i\\sqrt{3}}{2}$",
         "\nĐể giải phương trình bậc hai $z^2 - z + 1 = 0$, ta có thể sử dụng công thức nghiệm của phương trình bậc hai.\n\nBước 1: Tính $\\Delta$ (delta)\n\n$\\Delta = b^2 - 4ac = (-1)^2 - 4(1)(1) = 1 - 4 = -3$\n\nBước 2: Tìm nghiệm\n\nVì $\\Delta < 0$, phương trình có hai nghiệm phức phân biệt:\n$z_{1,2} = \\frac{-b \\pm \\sqrt{\\Delta}}{2a} = \\frac{-(-1) \\pm \\sqrt{-3}}{2(1)} = \\frac{1 \\pm \\sqrt{3}i}{2}$\n\nVậy, ta có hai nghiệm phức:\n$z_1 = \\frac{1}{2} + \\frac{\\sqrt{3}}{2}i$\n$z_2 = \\frac{1}{2} - \\frac{\\sqrt{3}}{2}i$\n\n",
         "\n$z_1 = \\frac{1}{2} + \\frac{\\sqrt{3}}{2}i$\n$z_2 = \\frac{1}{2} - \\frac{\\sqrt{3}}{2}i$\n"
        ],
        [
         "26",
         "Trong C , nghiệm của phương trình $z^2 + \\sqrt{5} = 0$ là:",
         "$z^2 + \\sqrt{5} = 0 \\Leftrightarrow z^2 = -\\sqrt{5} \\Leftrightarrow z^2 = i^2\\sqrt{5} \\Leftrightarrow z = \\pm i^4\\sqrt{5}$",
         "$\\pm i^4\\sqrt{5}$",
         "\nĐể giải phương trình $z^2 + \\sqrt{5} = 0$ trong tập số phức $\\mathbb{C}$, ta thực hiện các bước sau:\n\n1. **Chuyển vế:**\n$z^2 = -\\sqrt{5}$\n\n2. **Biểu diễn số phức:**\nTa có thể viết $-\\sqrt{5} = \\sqrt{5} \\cdot (-1) = \\sqrt{5} \\cdot e^{i\\pi}$ (hoặc $\\sqrt{5}(\\cos \\pi + i \\sin \\pi)$).\n\n3. **Tìm căn bậc hai:**\nTa cần tìm $z$ sao cho $z^2 = \\sqrt{5} e^{i\\pi}$.  \nĐặt $z = re^{i\\theta}$. Khi đó, $z^2 = r^2 e^{2i\\theta}$.\nVậy, $r^2 e^{2i\\theta} = \\sqrt{5} e^{i\\pi}$.\nSuy ra, $r^2 = \\sqrt{5}$ và $2\\theta = \\pi + 2k\\pi$, với $k \\in \\mathbb{Z}$.\n\n4. **Giải tìm $r$ và $\\theta$:**\n- $r = \\sqrt[4]{5}$ (vì $r > 0$).\n- $\\theta = \\frac{\\pi}{2} + k\\pi$, với $k \\in \\mathbb{Z}$.\n\n5. **Tìm các nghiệm phân biệt:**\nVới $k=0$, ta có $\\theta_1 = \\frac{\\pi}{2}$, suy ra $z_1 = \\sqrt[4]{5} e^{i\\frac{\\pi}{2}} = \\sqrt[4]{5} (\\cos \\frac{\\pi}{2} + i \\sin \\frac{\\pi}{2}) = \\sqrt[4]{5} i$.\nVới $k=1$, ta có $\\theta_2 = \\frac{3\\pi}{2}$, suy ra $z_2 = \\sqrt[4]{5} e^{i\\frac{3\\pi}{2}} = \\sqrt[4]{5} (\\cos \\frac{3\\pi}{2} + i \\sin \\frac{3\\pi}{2}) = -\\sqrt[4]{5} i$.\n\nVậy, hai nghiệm của phương trình là $z_1 = i\\sqrt[4]{5}$ và $z_2 = -i\\sqrt[4]{5}$.\n\n",
         "\n$z = \\pm i\\sqrt[4]{5}$\n"
        ],
        [
         "27",
         "Trong C , nghiệm của phương trình $z^3 - 8 = 0$ là:",
         "Sử dụng hằng đẳng thức số 7, ta có: $z^3 - 8 = 0 \\Leftrightarrow (z - 2)(z^2 + 2z + 4) = 0 \\Leftrightarrow \\begin{bmatrix} z = 2 \\\\ z^2 + 2z + 4 = 0 \\end{bmatrix} \\Leftrightarrow \\begin{bmatrix} z = 2 \\\\ (z + 1)^2 = -3 \\end{bmatrix} \\Leftrightarrow \\begin{bmatrix} z = 2 \\\\ z + 1 = \\sqrt{3}i \\\\ z + 1 = -\\sqrt{3}i \\end{bmatrix} \\Leftrightarrow \\begin{bmatrix} z = 2 \\\\ z = -1 + \\sqrt{3}i \\\\ z = -1 - \\sqrt{3}i \\end{bmatrix}$. Vậy phương trình đã cho có 3 nghiệm phân biệt.",
         "$\\begin{bmatrix} z = 2 \\\\ z = -1 + \\sqrt{3}i \\\\ z = -1 - \\sqrt{3}i \\end{bmatrix}$",
         "\nTa có phương trình: $z^3 - 8 = 0$\n$\\Leftrightarrow z^3 = 8$\n$\\Leftrightarrow z^3 = 8(\\cos 0 + i\\sin 0)$\n\nCác nghiệm của phương trình là:\n$z_k = \\sqrt[3]{8} \\left( \\cos \\frac{0 + 2k\\pi}{3} + i \\sin \\frac{0 + 2k\\pi}{3} \\right)$, với $k = 0, 1, 2$.\n\n*   Với $k = 0$:\n    $z_0 = 2(\\cos 0 + i\\sin 0) = 2(1 + i\\cdot 0) = 2$\n\n*   Với $k = 1$:\n    $z_1 = 2\\left(\\cos \\frac{2\\pi}{3} + i\\sin \\frac{2\\pi}{3}\\right) = 2\\left(-\\frac{1}{2} + i\\frac{\\sqrt{3}}{2}\\right) = -1 + i\\sqrt{3}$\n\n*   Với $k = 2$:\n    $z_2 = 2\\left(\\cos \\frac{4\\pi}{3} + i\\sin \\frac{4\\pi}{3}\\right) = 2\\left(-\\frac{1}{2} - i\\frac{\\sqrt{3}}{2}\\right) = -1 - i\\sqrt{3}$\n\nVậy, nghiệm của phương trình $z^3 - 8 = 0$ là $z = 2, z = -1 + i\\sqrt{3}, z = -1 - i\\sqrt{3}$.\n\n",
         "\n$z = 2, z = -1 + i\\sqrt{3}, z = -1 - i\\sqrt{3}$\n"
        ],
        [
         "28",
         "Trong C , phương trình $z^2 + 3iz + 4 = 0$ có nghiệm là:",
         "Ta có : a = 1 ; b = i ; c = 4 nên : $\\Delta = b^2 - 4ac = (3i)^2 - 4.1.4 = -25 < 0$. Phương trình có hai nghiệm phức là: $z_1 = \\frac{-3i + 5i}{2} = i$ và $z_2 = \\frac{-3i - 5i}{2} = -4i$",
         "$\\begin{bmatrix} z = i \\\\ z = -4i \\end{bmatrix}$",
         "\nĐể giải phương trình bậc hai $z^2 + 3iz + 4 = 0$ trong tập số phức $\\mathbb{C}$, ta sử dụng công thức nghiệm của phương trình bậc hai:\n$z = \\frac{-b \\pm \\sqrt{\\Delta}}{2a}$, trong đó $\\Delta = b^2 - 4ac$.\n\nTrong trường hợp này, ta có $a = 1$, $b = 3i$, và $c = 4$.\nTính $\\Delta$:\n$\\Delta = (3i)^2 - 4(1)(4) = 9i^2 - 16 = -9 - 16 = -25$.\n\nVì $\\Delta = -25 < 0$, ta có hai nghiệm phức phân biệt.\nTa cần tìm căn bậc hai của $\\Delta = -25$. Đặt $\\sqrt{\\Delta} = w = x + iy$, với $x, y \\in \\mathbb{R}$.\nKhi đó, $w^2 = (x + iy)^2 = x^2 - y^2 + 2ixy = -25$.\nSuy ra, $x^2 - y^2 = -25$ và $2xy = 0$.\nTừ $2xy = 0$, ta có $x = 0$ hoặc $y = 0$.\n\nNếu $x = 0$, thì $-y^2 = -25$, suy ra $y^2 = 25$, do đó $y = \\pm 5$.\nVậy, $w = \\pm 5i$.\n\nNếu $y = 0$, thì $x^2 = -25$, điều này không thể xảy ra vì $x \\in \\mathbb{R}$.\nVậy, $\\sqrt{\\Delta} = \\pm 5i$.\n\nÁp dụng công thức nghiệm:\n$z = \\frac{-3i \\pm 5i}{2(1)} = \\frac{-3i \\pm 5i}{2}$.\n$z_1 = \\frac{-3i + 5i}{2} = \\frac{2i}{2} = i$.\n$z_2 = \\frac{-3i - 5i}{2} = \\frac{-8i}{2} = -4i$.\n\nVậy, nghiệm của phương trình là $z_1 = i$ và $z_2 = -4i$.\n\n",
         "\n$z = i$ hoặc $z = -4i$\n"
        ],
        [
         "29",
         "Cho z = 1 - i. Tìm căn bậc hai dạng lượng giác của z:",
         "Ta có $z = 1 - i = \\sqrt{2} \\begin{bmatrix} cos(-\\frac{\\pi}{4}) + i sin(-\\frac{\\pi}{4}) \\end{bmatrix}$ có các căn bậc hai là: $w_1 = ^4\\sqrt{2}(cos(\\frac{7\\pi}{8}) + i sin(\\frac{7\\pi}{8})) ; w_2 = ^4\\sqrt{2}(cos(-\\frac{\\pi}{8}) + i sin(-\\frac{-\\pi}{8}))$",
         "$^4\\sqrt{2}(cos(\\frac{7\\pi}{8}) + i sin(\\frac{7\\pi}{8})) ; ^4\\sqrt{2}(cos(-\\frac{\\pi}{8}) + i sin(-\\frac{-\\pi}{8}))$",
         "\n**Bước 1: Biểu diễn số phức $z$ dưới dạng lượng giác**\n\nSố phức $z = 1 - i$ có phần thực $a = 1$ và phần ảo $b = -1$.\nTính mô-đun của $z$:\n$r = |z| = \\sqrt{a^2 + b^2} = \\sqrt{1^2 + (-1)^2} = \\sqrt{2}$.\n\nTính argument của $z$:\n$\\tan(\\theta) = \\frac{b}{a} = \\frac{-1}{1} = -1$.\nVì $a > 0$ và $b < 0$, $\\theta$ nằm trong góc phần tư thứ IV. Do đó, $\\theta = -\\frac{\\pi}{4}$.\n\nVậy, dạng lượng giác của $z$ là:\n$z = \\sqrt{2}\\left(\\cos\\left(-\\frac{\\pi}{4}\\right) + i\\sin\\left(-\\frac{\\pi}{4}\\right)\\right)$.\n\n**Bước 2: Tìm căn bậc hai của $z$**\n\nGọi $w = \\rho(\\cos(\\phi) + i\\sin(\\phi))$ là một căn bậc hai của $z$. Khi đó, $w^2 = z$.\n$w^2 = \\rho^2(\\cos(2\\phi) + i\\sin(2\\phi)) = \\sqrt{2}\\left(\\cos\\left(-\\frac{\\pi}{4}\\right) + i\\sin\\left(-\\frac{\\pi}{4}\\right)\\right)$.\n\nTừ đó, ta có:\n$\\rho^2 = \\sqrt{2} \\Rightarrow \\rho = \\sqrt[4]{2}$\n$2\\phi = -\\frac{\\pi}{4} + k2\\pi$, với $k \\in \\{0, 1\\}$.\n\n*   Trường hợp $k=0$:\n    $2\\phi = -\\frac{\\pi}{4} \\Rightarrow \\phi = -\\frac{\\pi}{8}$\n    $w_1 = \\sqrt[4]{2}\\left(\\cos\\left(-\\frac{\\pi}{8}\\right) + i\\sin\\left(-\\frac{\\pi}{8}\\right)\\right)$\n\n*   Trường hợp $k=1$:\n    $2\\phi = -\\frac{\\pi}{4} + 2\\pi = \\frac{7\\pi}{4} \\Rightarrow \\phi = \\frac{7\\pi}{8}$\n    $w_2 = \\sqrt[4]{2}\\left(\\cos\\left(\\frac{7\\pi}{8}\\right) + i\\sin\\left(\\frac{7\\pi}{8}\\right)\\right)$\n\nVậy, hai căn bậc hai của $z$ là:\n$w_1 = \\sqrt[4]{2}\\left(\\cos\\left(-\\frac{\\pi}{8}\\right) + i\\sin\\left(-\\frac{\\pi}{8}\\right)\\right)$ và\n$w_2 = \\sqrt[4]{2}\\left(\\cos\\left(\\frac{7\\pi}{8}\\right) + i\\sin\\left(\\frac{7\\pi}{8}\\right)\\right)$.\n",
         "\nCác căn bậc hai của $z = 1 - i$ là:\n$w_1 = \\sqrt[4]{2}\\left(\\cos\\left(-\\frac{\\pi}{8}\\right) + i\\sin\\left(-\\frac{\\pi}{8}\\right)\\right)$\n$w_2 = \\sqrt[4]{2}\\left(\\cos\\left(\\frac{7\\pi}{8}\\right) + i\\sin\\left(\\frac{7\\pi}{8}\\right)\\right)$\n"
        ],
        [
         "30",
         "Tìm các căn bậc hai của $w = -5 + 12i$.",
         "Gọi $z = x + yi$ là một căn bậc hai của số phức $w = -5 + 12i$. Ta có $z^2 = w <=>$ $(x + yi)^2 = -5 + 12i$ $<=> \\begin{cases} x^2 - y^2 = -5 \\\\ 2xy = 12 \\end{cases} <=> \\begin{cases} x^2 = 4 \\\\ y = \\frac{6}{x} \\end{cases} <=> \\begin{cases} x = 2 \\\\ y = 3 \\end{cases} \\\\  \\begin{cases} x = -2 \\\\ y = -3 \\end{cases}$ Vậy số phức w có hai căn bậc hai là $2 + 3i$ và $-2 - 3i$.",
         "$2 + 3i$ và $-2 - 3i$",
         "\nĐể tìm căn bậc hai của số phức $w = -5 + 12i$, ta cần tìm một số phức $z = x + yi$ sao cho $z^2 = w$.\nTa có:\n$(x + yi)^2 = -5 + 12i$\n$x^2 + 2xyi - y^2 = -5 + 12i$\n$(x^2 - y^2) + 2xyi = -5 + 12i$\n\nTừ đó, ta có hệ phương trình:\n$\\begin{cases}\nx^2 - y^2 = -5 \\\\\n2xy = 12\n\\end{cases}$\n\nTừ phương trình thứ hai, ta có $y = \\frac{6}{x}$. Thay vào phương trình thứ nhất:\n$x^2 - \\left(\\frac{6}{x}\\right)^2 = -5$\n$x^2 - \\frac{36}{x^2} = -5$\n$x^4 - 36 = -5x^2$\n$x^4 + 5x^2 - 36 = 0$\nĐặt $t = x^2$, ta có:\n$t^2 + 5t - 36 = 0$\n$(t + 9)(t - 4) = 0$\n$t = -9$ hoặc $t = 4$\nVì $x$ là số thực, nên $x^2$ phải không âm. Vậy $t = x^2 = 4$.\n$x = 2$ hoặc $x = -2$\n\nNếu $x = 2$, thì $y = \\frac{6}{2} = 3$. Vậy $z = 2 + 3i$.\nNếu $x = -2$, thì $y = \\frac{6}{-2} = -3$. Vậy $z = -2 - 3i$.\n\nVậy các căn bậc hai của $w = -5 + 12i$ là $2 + 3i$ và $-2 - 3i$.\n\n",
         "\nCác căn bậc hai của $w = -5 + 12i$ là $2 + 3i$ và $-2 - 3i$.\n"
        ],
        [
         "31",
         "Khai căn bậc hai số phức $z = -3 + 4i$ có kết quả:",
         "Giả sử $w = x + yi$ là một căn bậc hai của số phức $z = -3 + 4i$. Ta có: $w^2 = z <=> (x + yi)^2 = -3 + 4i$ $<=> \\begin{cases} x^2 - y^2 = -3 \\\\ 2xy = 4 \\end{cases} <=> \\begin{cases} x^2 = 1 \\\\ y = \\frac{2}{x} \\end{cases} <=> \\begin{cases} x = 1 \\\\ y = 2 \\end{cases} \\\\  \\begin{cases} x = -1 \\\\ y = -2 \\end{cases}$ Do đó z có hai căn bậc hai là: $z_1 = 1 + 2i$ và $z_2 = -1 - 2i$",
         "$z_1 = 1 + 2i$ và $z_2 = -1 - 2i$",
         "\nĐặt $w = x + yi$ là căn bậc hai của $z = -3 + 4i$, với $x, y \\in \\mathbb{R}$. Ta có:\n$w^2 = z$\n$(x + yi)^2 = -3 + 4i$\n$x^2 + 2xyi - y^2 = -3 + 4i$\n$(x^2 - y^2) + 2xyi = -3 + 4i$\n\nTa có hệ phương trình:\n$\\begin{cases} x^2 - y^2 = -3 \\\\ 2xy = 4 \\end{cases}$\n$\\Leftrightarrow \\begin{cases} x^2 - y^2 = -3 \\\\ xy = 2 \\end{cases}$\nTừ $xy = 2 \\Rightarrow y = \\frac{2}{x}$. Thay vào phương trình trên, ta có:\n$x^2 - (\\frac{2}{x})^2 = -3$\n$x^2 - \\frac{4}{x^2} = -3$\n$x^4 - 4 = -3x^2$\n$x^4 + 3x^2 - 4 = 0$\nĐặt $t = x^2$ ($t \\ge 0$), ta có:\n$t^2 + 3t - 4 = 0$\n$(t - 1)(t + 4) = 0$\n$t = 1$ hoặc $t = -4$ (loại)\nVậy $x^2 = 1 \\Rightarrow x = \\pm 1$.\n\nNếu $x = 1$, thì $y = \\frac{2}{1} = 2$.\nNếu $x = -1$, thì $y = \\frac{2}{-1} = -2$.\n\nVậy, các căn bậc hai của $z$ là $1 + 2i$ và $-1 - 2i$.\n\n",
         "\n$1 + 2i$ và $-1 - 2i$\n"
        ],
        [
         "32",
         "Tính căn bậc hai của số phức $z = 8 + 6i$ ra kết quả:",
         "Giả sử $w = x + yi$ là một căn bậc hai của số phức $z = 8 + 6i$. $w^2 = z <=> (x + yi)^2 = 8 + 6i <=> \\begin{cases} x^2 - y^2 = 8 \\\\ 2xy = 6 \\end{cases} <=> \\begin{cases} x^2 = 9 \\\\ y = \\frac{3}{x} \\end{cases} <=> \\begin{cases} x = 3 \\\\ y = 1 \\end{cases} \\\\  \\begin{cases} x = -3 \\\\ y = -1 \\end{cases}$ Ta có: Do đó z có hai căn bậc hai là: $\\begin{bmatrix} z_1 = 3 + i \\\\ z_2 = -3 - i \\end{bmatrix}$",
         "$\\begin{bmatrix} z_1 = 3 + i \\\\ z_2 = -3 - i \\end{bmatrix}$",
         "\nĐể tính căn bậc hai của số phức $z = 8 + 6i$, ta tìm số phức $w = a + bi$ sao cho $w^2 = z$.\n\nTa có:\n$(a + bi)^2 = a^2 + 2abi - b^2 = (a^2 - b^2) + 2abi = 8 + 6i$\n\nTừ đó suy ra hệ phương trình:\n\\begin{cases}\na^2 - b^2 = 8 \\\\\n2ab = 6\n\\end{cases}\n\nTừ phương trình thứ hai, ta có $b = \\frac{3}{a}$. Thay vào phương trình thứ nhất:\n$a^2 - \\frac{9}{a^2} = 8$\n$a^4 - 9 = 8a^2$\n$a^4 - 8a^2 - 9 = 0$\nĐặt $t = a^2$, ta có:\n$t^2 - 8t - 9 = 0$\n$(t - 9)(t + 1) = 0$\nSuy ra $t = 9$ hoặc $t = -1$. Vì $a$ là số thực nên $a^2 = t \\geq 0$, vậy $t = 9$.\n\nDo đó, $a^2 = 9$, suy ra $a = 3$ hoặc $a = -3$.\n\nNếu $a = 3$, thì $b = \\frac{3}{3} = 1$. Vậy $w = 3 + i$.\nNếu $a = -3$, thì $b = \\frac{3}{-3} = -1$. Vậy $w = -3 - i$.\n\nVậy, căn bậc hai của $8 + 6i$ là $3 + i$ và $-3 - i$.\n\n",
         "\n$\\pm(3+i)$\n"
        ],
        [
         "33",
         "Cho z = 3 + 4i. Tìm căn bậc hai của z.",
         "Giả sử $w = x + yi$ là một căn bậc hai của số phức $z = 3 + 4i$. Ta có: $w^2 = z <=> (x + yi)^2 = 3 + 4i <=> \\begin{cases} x^2 - y^2 = 3 \\\\ 2xy = 4 \\end{cases} <=> \\begin{cases} x^2 = 4 \\\\ y = \\frac{2}{x} \\end{cases} <=> \\begin{cases} x = 2 \\\\ y = 1 \\end{cases} \\\\  \\begin{cases} x = -2 \\\\ y = -1 \\end{cases}$ Do đó z có hai căn bậc hai là $\\begin{bmatrix} z = 2 + i \\\\ z = -2 - i \\end{bmatrix}$",
         "$\\begin{bmatrix} z = 2 + i \\\\ z = -2 - i \\end{bmatrix}$",
         "\nĐặt $w = a + bi$ là căn bậc hai của $z = 3 + 4i$. Khi đó, ta có:\n\n$w^2 = z$\n$(a + bi)^2 = 3 + 4i$\n$a^2 + 2abi - b^2 = 3 + 4i$\n$(a^2 - b^2) + 2abi = 3 + 4i$\n\nTừ đó, ta có hệ phương trình:\n\n$\\begin{cases}\na^2 - b^2 = 3 \\\\\n2ab = 4\n\\end{cases}$\n\nTừ phương trình thứ hai, ta có $b = \\frac{2}{a}$. Thay vào phương trình thứ nhất, ta được:\n\n$a^2 - (\\frac{2}{a})^2 = 3$\n$a^2 - \\frac{4}{a^2} = 3$\n$a^4 - 4 = 3a^2$\n$a^4 - 3a^2 - 4 = 0$\n$(a^2 - 4)(a^2 + 1) = 0$\n\nVì $a$ là số thực, nên $a^2 = 4$, suy ra $a = 2$ hoặc $a = -2$.\n\n*   Nếu $a = 2$, thì $b = \\frac{2}{2} = 1$. Vậy $w = 2 + i$.\n*   Nếu $a = -2$, thì $b = \\frac{2}{-2} = -1$. Vậy $w = -2 - i$.\n\nVậy, căn bậc hai của $3 + 4i$ là $2 + i$ và $-2 - i$.\n\n",
         "\nCác căn bậc hai của $z = 3 + 4i$ là $2 + i$ và $-2 - i$.\n"
        ],
        [
         "34",
         "Căn bậc hai của số phức 4 + 6$\\sqrt{5}$i là:",
         "Giả sử w là một căn bậc hai của 4 + 6$\\sqrt{5}$i. Ta có: $w^2 = 4 + 6\\sqrt{5}i <=> w^2 = (3 + \\sqrt{5}i)^2 => w = \\pm (3 + \\sqrt{5}i).$",
         "$\\pm (3 + \\sqrt{5}i)$",
         "\nGọi $z = a + bi$ là căn bậc hai của $4 + 6\\sqrt{5}i$, với $a, b \\in \\mathbb{R}$.\nTa có $z^2 = (a+bi)^2 = a^2 - b^2 + 2abi = 4 + 6\\sqrt{5}i$.\nSuy ra:\n$\\begin{cases}\na^2 - b^2 = 4 \\\\\n2ab = 6\\sqrt{5}\n\\end{cases} \\Leftrightarrow \\begin{cases}\na^2 - b^2 = 4 \\\\\nab = 3\\sqrt{5}\n\\end{cases}$\n\nTừ $ab = 3\\sqrt{5} > 0$, ta có $a, b$ cùng dấu.\nTa có: $(a^2 + b^2)^2 = (a^2 - b^2)^2 + 4a^2b^2 = 4^2 + 4(3\\sqrt{5})^2 = 16 + 4(9 \\cdot 5) = 16 + 180 = 196$.\nSuy ra $a^2 + b^2 = \\sqrt{196} = 14$.\n\nTa có hệ:\n$\\begin{cases}\na^2 - b^2 = 4 \\\\\na^2 + b^2 = 14\n\\end{cases} \\Leftrightarrow \\begin{cases}\n2a^2 = 18 \\\\\n2b^2 = 10\n\\end{cases} \\Leftrightarrow \\begin{cases}\na^2 = 9 \\\\\nb^2 = 5\n\\end{cases} \\Leftrightarrow \\begin{cases}\na = \\pm 3 \\\\\nb = \\pm \\sqrt{5}\n\\end{cases}$\n\nVì $a, b$ cùng dấu nên ta có hai nghiệm:\n$z_1 = 3 + \\sqrt{5}i$ và $z_2 = -3 - \\sqrt{5}i$.\n\n",
         "\n$3 + \\sqrt{5}i$ và $-3 - \\sqrt{5}i$.\n"
        ],
        [
         "35",
         "Gọi z là căn bậc hai có phần ảo âm của 33 - 56i . Phần thực của z là:",
         "Ta có: 33 - 56i = (7 - 4i)^2 => z = 7 - 4i Do đó phần thực của z là 7.",
         "7",
         "\nGọi $z = a + bi$ là căn bậc hai của $33 - 56i$, với $a, b \\in \\mathbb{R}$. Khi đó:\n$z^2 = (a + bi)^2 = a^2 + 2abi - b^2 = (a^2 - b^2) + 2abi = 33 - 56i$\n\nTa có hệ phương trình:\n$\\begin{cases}\na^2 - b^2 = 33 \\\\\n2ab = -56\n\\end{cases} \\Leftrightarrow\n\\begin{cases}\na^2 - b^2 = 33 \\\\\nab = -28\n\\end{cases}$\n\nTừ $ab = -28 \\Rightarrow b = -\\frac{28}{a}$. Thay vào phương trình đầu tiên:\n$a^2 - \\left(-\\frac{28}{a}\\right)^2 = 33 \\Leftrightarrow a^2 - \\frac{28^2}{a^2} = 33$\n$a^4 - 784 = 33a^2 \\Leftrightarrow a^4 - 33a^2 - 784 = 0$\n\nĐặt $t = a^2 \\ge 0$. Khi đó: $t^2 - 33t - 784 = 0$\n$\\Delta = (-33)^2 - 4(1)(-784) = 1089 + 3136 = 4225 = 65^2$\n$t_1 = \\frac{33 + 65}{2} = \\frac{98}{2} = 49$ (nhận)\n$t_2 = \\frac{33 - 65}{2} = \\frac{-32}{2} = -16$ (loại)\n\nVậy $a^2 = 49 \\Rightarrow a = \\pm 7$.\nNếu $a = 7$ thì $b = -\\frac{28}{7} = -4$.\nNếu $a = -7$ thì $b = -\\frac{28}{-7} = 4$.\nVậy $z = 7 - 4i$ hoặc $z = -7 + 4i$.\n\nVì z có phần ảo âm, nên $z = 7 - 4i$.\nPhần thực của z là 7.\n\n",
         "\n$7$\n"
        ],
        [
         "36",
         "Trong C , căn bậc hai của -121 là:",
         "Ta có: z = -121 nên z = (11i)^2. Do đó z có hai căn bậc hai là z = 11i và z = -11i",
         "11i và -11i",
         "\nTa cần tìm căn bậc hai của $-121$ trong tập số phức $\\mathbb{C}$.\nTa biết rằng $i^2 = -1$, do đó $-1 = i^2$.\nVậy $-121 = 121 \\cdot (-1) = 121 \\cdot i^2$.\nSuy ra, căn bậc hai của $-121$ là $\\pm \\sqrt{-121} = \\pm \\sqrt{121 \\cdot i^2} = \\pm \\sqrt{121} \\cdot \\sqrt{i^2} = \\pm 11i$.\n\nVậy căn bậc hai của $-121$ là $11i$ và $-11i$.\n\n",
         "\n$\\pm 11i$\n"
        ],
        [
         "37",
         "Tìm các căn bậc hai của -9.",
         "Ta có -9 = 9i^2 nên -9 có các căn bậc hai là 3i và -3i.",
         "3i và -3i",
         "\nĐể tìm các căn bậc hai của -9, ta cần tìm các số $z$ sao cho $z^2 = -9$.\n\nTa biết rằng $i^2 = -1$, vì vậy $-9 = 9 \\cdot (-1) = 9i^2 = (3i)^2 = (-3i)^2$.\n\nVậy, các căn bậc hai của -9 là $3i$ và $-3i$.\n\n",
         "\nCác căn bậc hai của -9 là $3i$ và $-3i$.\n"
        ],
        [
         "38",
         "Viết số phức $z = 6 + 6i$ dưới dạng lượng giác?",
         "Ta có: $|z| = r = \\sqrt{6^2 + 6^2} = 6\\sqrt{2}$. Chọn $\\varphi$ là số thực thỏa mãn \\sqrt{6^2 + 6^2} $\\Rightarrow \\varphi = \\frac{\\pi}{4}$. Do đó, dạng lượng giác của số phức z là: $z = 6\\sqrt{2}(cos\\frac{\\pi}{4} + i.sin\\frac{\\pi}{4})$",
         "$z = 6\\sqrt{2}(cos\\frac{\\pi}{4} + i.sin\\frac{\\pi}{4})$",
         "\nĐể viết số phức $z = 6 + 6i$ dưới dạng lượng giác, ta thực hiện các bước sau:\n\n1. **Tính môđun của $z$**:\n   $|z| = \\sqrt{a^2 + b^2}$ với $z = a + bi$. Trong trường hợp này, $a = 6$ và $b = 6$.\n   $|z| = \\sqrt{6^2 + 6^2} = \\sqrt{36 + 36} = \\sqrt{72} = 6\\sqrt{2}$.\n\n2. **Tìm argument của $z$**:\n   Ta có $\\cos \\theta = \\frac{a}{|z|} = \\frac{6}{6\\sqrt{2}} = \\frac{1}{\\sqrt{2}} = \\frac{\\sqrt{2}}{2}$\n   và $\\sin \\theta = \\frac{b}{|z|} = \\frac{6}{6\\sqrt{2}} = \\frac{1}{\\sqrt{2}} = \\frac{\\sqrt{2}}{2}$.\n   Vậy $\\theta = \\frac{\\pi}{4}$.\n\n3. **Viết dạng lượng giác**:\n   $z = |z|(\\cos \\theta + i \\sin \\theta) = 6\\sqrt{2} \\left( \\cos \\frac{\\pi}{4} + i \\sin \\frac{\\pi}{4} \\right)$.\n\n",
         "\n$z = 6\\sqrt{2} \\left( \\cos \\frac{\\pi}{4} + i \\sin \\frac{\\pi}{4} \\right)$\n"
        ],
        [
         "39",
         "Viết số 10 dưới dạng lượng giác?",
         "Ta có: Số 10 có mô đun là 10 và có một acgumen bằng 0 nên nó có dạng lượng giác là: $10.(cos0 + i.sin0).$",
         "$10.(cos0 + i.sin0)$",
         "\nSố 10 là một số thực, có thể được biểu diễn dưới dạng lượng giác như sau:\n\n$10 = 10 + 0i$\n\nSố phức $z = a + bi$ có thể biểu diễn dưới dạng lượng giác là $z = r(\\cos \\varphi + i \\sin \\varphi)$, trong đó:\n\n*   $r = |z| = \\sqrt{a^2 + b^2}$ là module của $z$.\n*   $\\varphi$ là argument của $z$, thỏa mãn $\\cos \\varphi = \\frac{a}{r}$ và $\\sin \\varphi = \\frac{b}{r}$.\n\nTrong trường hợp này, $a = 10$ và $b = 0$. Vậy:\n\n*   $r = \\sqrt{10^2 + 0^2} = \\sqrt{100} = 10$.\n*   $\\cos \\varphi = \\frac{10}{10} = 1$\n*   $\\sin \\varphi = \\frac{0}{10} = 0$\n\nSuy ra, $\\varphi = 0 + k2\\pi$ ($k \\in \\mathbb{Z}$). Chọn $k = 0$, ta có $\\varphi = 0$.\n\nVậy, biểu diễn lượng giác của số 10 là:\n\n$10 = 10(\\cos 0 + i \\sin 0)$\n",
         "\n$10 = 10(\\cos 0 + i \\sin 0)$\n"
        ],
        [
         "40",
         "Viết $-\\frac{\\sqrt{3}}{2}$ dưới dạng lượng giác.",
         "Số $-\\frac{\\sqrt{3}}{2}$ có mô đun là $\\frac{\\sqrt{3}}{2}$, có một acgumen là $\\pi$ nên số đó có dạng lượng giác là: $-\\frac{\\sqrt{3}}{2} = \\frac{\\sqrt{3}}{2}(cos\\pi + i.sin\\pi)$",
         "$-\\frac{\\sqrt{3}}{2} = \\frac{\\sqrt{3}}{2}(cos\\pi + i.sin\\pi)$",
         "\nTa cần viết $-\\frac{\\sqrt{3}}{2}$ dưới dạng lượng giác $cos(\\alpha) + i sin(\\alpha)$ hoặc $e^{i\\alpha}$.\n\nVì $-\\frac{\\sqrt{3}}{2}$ là một số thực, ta có thể viết nó dưới dạng $z = -\\frac{\\sqrt{3}}{2} + 0i$.\nTa cần tìm $\\alpha$ sao cho $cos(\\alpha) = -\\frac{\\sqrt{3}}{2}$ và $sin(\\alpha) = 0$.\n\nTa biết rằng $cos(\\frac{5\\pi}{6}) = -\\frac{\\sqrt{3}}{2}$ và $sin(\\frac{5\\pi}{6}) = \\frac{1}{2} \\neq 0$.\n$cos(\\frac{7\\pi}{6}) = -\\frac{\\sqrt{3}}{2}$ và $sin(\\frac{7\\pi}{6}) = -\\frac{1}{2} \\neq 0$.\nVậy không có góc $\\alpha$ nào thỏa mãn cả $cos(\\alpha) = -\\frac{\\sqrt{3}}{2}$ và $sin(\\alpha) = 0$.\n\nTuy nhiên, ta có thể viết $-\\frac{\\sqrt{3}}{2} = -\\frac{\\sqrt{3}}{2} + 0i$. Ta cần tìm $\\alpha$ sao cho $cos(\\alpha) = -\\frac{\\sqrt{3}}{2}$ và $sin(\\alpha) = 0$.\nGiá trị $sin(\\alpha)=0$ khi $\\alpha = k\\pi$ với $k \\in \\mathbb{Z}$.\nVới $\\alpha = k\\pi$, ta có $cos(k\\pi) = (-1)^k$. Như vậy $cos(k\\pi) = -\\frac{\\sqrt{3}}{2}$ là điều không thể.\n\nTa cần viết $-\\frac{\\sqrt{3}}{2}$ dưới dạng lượng giác $r(cos(\\alpha) + isin(\\alpha))$. Ở đây $r = |-\\frac{\\sqrt{3}}{2}| = \\frac{\\sqrt{3}}{2}$.\n\nKhi đó, $-\\frac{\\sqrt{3}}{2} = \\frac{\\sqrt{3}}{2}(cos(\\pi) + isin(\\pi))$ không đúng. Vì $\\frac{\\sqrt{3}}{2} \\ne 1$.\n\nNhận thấy $-\\frac{\\sqrt{3}}{2}$ là một số thực âm.\nTa có $-\\frac{\\sqrt{3}}{2} = \\frac{\\sqrt{3}}{2} (-1) = \\frac{\\sqrt{3}}{2} (cos(\\pi) + isin(\\pi))$.\nTuy nhiên, biểu diễn lượng giác của một số thực $a$ là $a = |a| (cos(0) + isin(0))$ nếu $a > 0$ và $a = |a| (cos(\\pi) + isin(\\pi))$ nếu $a < 0$.\n\nVì vậy, $-\\frac{\\sqrt{3}}{2} = \\frac{\\sqrt{3}}{2}e^{i\\pi}$.\nNhưng theo đề bài ta cần viết $-\\frac{\\sqrt{3}}{2}$ dưới dạng lượng giác. Ta viết $-\\frac{\\sqrt{3}}{2} = -\\frac{\\sqrt{3}}{2} + 0i$.\n\nTa tìm $r$ và $\\theta$ sao cho $-\\frac{\\sqrt{3}}{2} + 0i = r(cos\\theta + isin\\theta)$.\n$r = \\sqrt{(-\\frac{\\sqrt{3}}{2})^2 + 0^2} = \\frac{\\sqrt{3}}{2}$.\n$cos\\theta = \\frac{-\\frac{\\sqrt{3}}{2}}{\\frac{\\sqrt{3}}{2}} = -1$\n$sin\\theta = \\frac{0}{\\frac{\\sqrt{3}}{2}} = 0$\nSuy ra $\\theta = \\pi$.\n\nVậy $-\\frac{\\sqrt{3}}{2} = \\frac{\\sqrt{3}}{2}(cos(\\pi) + isin(\\pi))$.\n\n",
         "\n$-\\frac{\\sqrt{3}}{2} = \\frac{\\sqrt{3}}{2}(cos(\\pi) + i sin(\\pi))$\n"
        ],
        [
         "41",
         "Viết số phức $z = \\frac{1}{2 + 2i}$ dưới dạng lượng giác?",
         "Ta có : $z = \\frac{1}{2 + 2i} = \\frac{1}{2(1 + i)} = \\frac{1 - i}{2(1 + i)(1 - i)} = \\frac{1 - i}{4} = \\frac{1}{4} - \\frac{i}{4}$. Ta có $|z| = \\sqrt{(\\frac{1}{4})^2 + (\\frac{-1}{4})^2} = \\frac{\\sqrt{2}}{4}$. Một acgumen là $\\varphi$ thỏa mãn: $cos\\varphi = \\frac{1}{\\sqrt{2}}$; $sin\\varphi = \\frac{-1}{\\sqrt{2}} => \\varphi = -\\frac{\\pi}{4}$. Do đó ,dạng lượng giác của số phức z là: $z = \\frac{1}{2 + 2i} = \\frac{\\sqrt{2}}{4}[cos(-\\frac{\\pi}{4}) + i sin(-\\frac{\\pi}{4})].$",
         "$z = \\frac{1}{2 + 2i} = \\frac{\\sqrt{2}}{4}[cos(-\\frac{\\pi}{4}) + i sin(-\\frac{\\pi}{4})].$",
         "\nĐể viết số phức $z = \\frac{1}{2 + 2i}$ dưới dạng lượng giác, ta thực hiện các bước sau:\n\n**Bước 1: Tìm dạng đại số của $z$**\n\nTa có:\n$z = \\frac{1}{2 + 2i} = \\frac{1}{2 + 2i} \\cdot \\frac{2 - 2i}{2 - 2i} = \\frac{2 - 2i}{4 - (4i^2)} = \\frac{2 - 2i}{4 + 4} = \\frac{2 - 2i}{8} = \\frac{1}{4} - \\frac{1}{4}i$\n\n**Bước 2: Tìm module của $z$**\n\n$|z| = \\sqrt{\\left(\\frac{1}{4}\\right)^2 + \\left(-\\frac{1}{4}\\right)^2} = \\sqrt{\\frac{1}{16} + \\frac{1}{16}} = \\sqrt{\\frac{2}{16}} = \\sqrt{\\frac{1}{8}} = \\frac{1}{2\\sqrt{2}} = \\frac{\\sqrt{2}}{4}$\n\n**Bước 3: Tìm argument của $z$**\n\nTa có:\n$\\cos \\theta = \\frac{\\text{Re}(z)}{|z|} = \\frac{1/4}{\\sqrt{2}/4} = \\frac{1}{\\sqrt{2}} = \\frac{\\sqrt{2}}{2}$\n$\\sin \\theta = \\frac{\\text{Im}(z)}{|z|} = \\frac{-1/4}{\\sqrt{2}/4} = -\\frac{1}{\\sqrt{2}} = -\\frac{\\sqrt{2}}{2}$\n\nVậy, $\\theta = -\\frac{\\pi}{4}$ (hoặc $\\theta = \\frac{7\\pi}{4}$).\n\n**Bước 4: Viết dạng lượng giác của $z$**\n\n$z = |z|(\\cos \\theta + i \\sin \\theta) = \\frac{\\sqrt{2}}{4} \\left( \\cos\\left(-\\frac{\\pi}{4}\\right) + i \\sin\\left(-\\frac{\\pi}{4}\\right) \\right)$\nHay\n$z = \\frac{\\sqrt{2}}{4} \\left( \\cos\\left(\\frac{7\\pi}{4}\\right) + i \\sin\\left(\\frac{7\\pi}{4}\\right) \\right)$\n",
         "\n$z = \\frac{\\sqrt{2}}{4} \\left( \\cos\\left(-\\frac{\\pi}{4}\\right) + i \\sin\\left(-\\frac{\\pi}{4}\\right) \\right)$\n"
        ],
        [
         "42",
         "Viết số phức z = 100i dưới dạng lượng giác?",
         "Ta có: $|z| = \\sqrt{0^2 + 100^2} = 100$. Gọi $\\varphi$ là một acgumen của z thì $\\varphi$ thỏa mãn: $cos\\varphi = 0; sin\\varphi = 1 => \\varphi = \\frac{\\pi}{2}$. Do đó, dạng lượng giác của số phức z là: $z = 100(cos\\frac{\\pi}{2} + i.sin\\frac{\\pi}{2})$",
         "$z = 100(cos\\frac{\\pi}{2} + i.sin\\frac{\\pi}{2})$",
         "\nTa có số phức $z = 100i$. Để viết $z$ dưới dạng lượng giác $z = r(\\cos \\varphi + i \\sin \\varphi)$, ta cần tìm $r$ và $\\varphi$.\n\n1. **Tìm mô-đun $r$**:\n   $r = |z| = \\sqrt{0^2 + 100^2} = \\sqrt{10000} = 100$.\n\n2. **Tìm argument $\\varphi$**:\n   Ta có $z = 100i = 100(0 + i \\cdot 1)$.\n   Vậy $\\cos \\varphi = 0$ và $\\sin \\varphi = 1$.\n   Do đó, $\\varphi = \\frac{\\pi}{2}$.\n\n3. **Viết dạng lượng giác**:\n   $z = 100 \\left( \\cos \\frac{\\pi}{2} + i \\sin \\frac{\\pi}{2} \\right)$.\n\n",
         "\n$z = 100 \\left( \\cos \\frac{\\pi}{2} + i \\sin \\frac{\\pi}{2} \\right)$\n"
        ],
        [
         "43",
         "Viết số phức sau dưới dạng lượng giác $z = (1 - i\\sqrt{3}).(1 + i)$",
         "Ta có: $1 - i\\sqrt{3} = 2.[cos(-\\frac{\\pi}{3}) + i sin(-\\frac{\\pi}{3})]$ và $1 + i = \\sqrt{2}[cos\\frac{\\pi}{4} + i.sin\\frac{\\pi}{4}]$. Áp dụng công thức nhân, chia số phức ta được: $z = (1 - i\\sqrt{3})(1 + i) = 2\\sqrt{2}[cos(-\\frac{\\pi}{12}) + i.sin(-\\frac{\\pi}{12})]$",
         "$2\\sqrt{2}[cos(-\\frac{\\pi}{12}) + i.sin(-\\frac{\\pi}{12})]$",
         "\nĐể viết số phức $z = (1 - i\\sqrt{3})(1 + i)$ dưới dạng lượng giác, ta thực hiện các bước sau:\n\n1. **Tính tích:**\n$z = (1 - i\\sqrt{3})(1 + i) = 1 + i - i\\sqrt{3} - i^2\\sqrt{3} = 1 + i - i\\sqrt{3} + \\sqrt{3} = (1 + \\sqrt{3}) + (1 - \\sqrt{3})i$\n\n2. **Tìm module của $z$:**\n$|z| = \\sqrt{(1 + \\sqrt{3})^2 + (1 - \\sqrt{3})^2} = \\sqrt{1 + 2\\sqrt{3} + 3 + 1 - 2\\sqrt{3} + 3} = \\sqrt{8} = 2\\sqrt{2}$\n\n3. **Tìm argument của $z$:**\nGọi $\\theta$ là argument của $z$, ta có:\n$\\cos(\\theta) = \\frac{1 + \\sqrt{3}}{2\\sqrt{2}} = \\frac{\\sqrt{2} + \\sqrt{6}}{4}$\n$\\sin(\\theta) = \\frac{1 - \\sqrt{3}}{2\\sqrt{2}} = \\frac{\\sqrt{2} - \\sqrt{6}}{4}$\nTa nhận thấy $\\theta = -\\frac{\\pi}{12}$, do $\\cos(-\\frac{\\pi}{12}) = \\frac{\\sqrt{2} + \\sqrt{6}}{4}$ và $\\sin(-\\frac{\\pi}{12}) = \\frac{\\sqrt{2} - \\sqrt{6}}{-4}=\\frac{-\\sqrt{2} + \\sqrt{6}}{4}$.\nVậy $\\theta = \\arctan{\\frac{1-\\sqrt{3}}{1+\\sqrt{3}}}= \\arctan{\\frac{(1-\\sqrt{3})^2}{-2}}=\\arctan{\\frac{4-2\\sqrt{3}}{-2}}=\\arctan(\\sqrt{3}-2) = -\\frac{\\pi}{12}$\n\n4. **Viết dạng lượng giác:**\n$z = |z|(\\cos(\\theta) + i\\sin(\\theta)) = 2\\sqrt{2}\\left(\\cos\\left(-\\frac{\\pi}{12}\\right) + i\\sin\\left(-\\frac{\\pi}{12}\\right)\\right) = 2\\sqrt{2}\\left(\\cos\\left(\\frac{\\pi}{12}\\right) - i\\sin\\left(\\frac{\\pi}{12}\\right)\\right)$\n\nVậy, $z = 2\\sqrt{2}\\left(\\cos\\left(-\\frac{\\pi}{12}\\right) + i\\sin\\left(-\\frac{\\pi}{12}\\right)\\right)$\n\n",
         "\n$z = 2\\sqrt{2}\\left(\\cos\\left(-\\frac{\\pi}{12}\\right) + i\\sin\\left(-\\frac{\\pi}{12}\\right)\\right)$\n"
        ],
        [
         "44",
         "Viết số phức sau dưới dạng lượng giác $z = \\frac{2 + 2i}{1 + \\sqrt{3}i}$",
         "Ta có: $2 + 2i = 2\\sqrt{2}[cos\\frac{\\pi}{4} + i.sin\\frac{\\pi}{4}]$ và $1 + \\sqrt{3}i = 2.[cos\\frac{\\pi}{3} + i.sin\\frac{\\pi}{3}]$. Do đó: $z = \\frac{2 + 2i}{1 + \\sqrt{3}i} = \\frac{2\\sqrt{2}[cos\\frac{\\pi}{4} + i.sin\\frac{\\pi}{4}]}{2.[cos\\frac{\\pi}{3} + i.sin\\frac{\\pi}{3}]} = \\sqrt{2}[cos(-\\frac{\\pi}{12}) + i.sin(-\\frac{\\pi}{12})]$",
         "$\\sqrt{2}[cos(-\\frac{\\pi}{12}) + i.sin(-\\frac{\\pi}{12})]$",
         "\n**Bước 1: Biến đổi tử và mẫu về dạng lượng giác**\n\n*   **Tử số:** $2 + 2i$\n    *   Tính module: $r_1 = \\sqrt{2^2 + 2^2} = \\sqrt{8} = 2\\sqrt{2}$\n    *   Tính argument: $\\tan(\\theta_1) = \\frac{2}{2} = 1 \\Rightarrow \\theta_1 = \\frac{\\pi}{4}$\n    *   Dạng lượng giác: $2 + 2i = 2\\sqrt{2}(\\cos(\\frac{\\pi}{4}) + i\\sin(\\frac{\\pi}{4}))$\n\n*   **Mẫu số:** $1 + \\sqrt{3}i$\n    *   Tính module: $r_2 = \\sqrt{1^2 + (\\sqrt{3})^2} = \\sqrt{4} = 2$\n    *   Tính argument: $\\tan(\\theta_2) = \\frac{\\sqrt{3}}{1} = \\sqrt{3} \\Rightarrow \\theta_2 = \\frac{\\pi}{3}$\n    *   Dạng lượng giác: $1 + \\sqrt{3}i = 2(\\cos(\\frac{\\pi}{3}) + i\\sin(\\frac{\\pi}{3}))$\n\n**Bước 2: Chia hai số phức ở dạng lượng giác**\n\n$z = \\frac{2 + 2i}{1 + \\sqrt{3}i} = \\frac{2\\sqrt{2}(\\cos(\\frac{\\pi}{4}) + i\\sin(\\frac{\\pi}{4}))}{2(\\cos(\\frac{\\pi}{3}) + i\\sin(\\frac{\\pi}{3}))}$\n\nKhi chia hai số phức ở dạng lượng giác, ta chia module và trừ argument:\n\n$z = \\frac{2\\sqrt{2}}{2} \\left[ \\cos\\left(\\frac{\\pi}{4} - \\frac{\\pi}{3}\\right) + i\\sin\\left(\\frac{\\pi}{4} - \\frac{\\pi}{3}\\right) \\right]$\n\n$z = \\sqrt{2} \\left[ \\cos\\left(\\frac{3\\pi - 4\\pi}{12}\\right) + i\\sin\\left(\\frac{3\\pi - 4\\pi}{12}\\right) \\right]$\n\n$z = \\sqrt{2} \\left[ \\cos\\left(-\\frac{\\pi}{12}\\right) + i\\sin\\left(-\\frac{\\pi}{12}\\right) \\right]$\n\n$z = \\sqrt{2} \\left[ \\cos\\left(\\frac{\\pi}{12}\\right) - i\\sin\\left(\\frac{\\pi}{12}\\right) \\right]$\n\n**Bước 3: Rút gọn (nếu cần)**\n\nTa đã có dạng lượng giác của số phức z.\n\n",
         "\n$z = \\sqrt{2} \\left( \\cos\\left(-\\frac{\\pi}{12}\\right) + i\\sin\\left(-\\frac{\\pi}{12}\\right) \\right) = \\sqrt{2} \\left( \\cos\\left(\\frac{\\pi}{12}\\right) - i\\sin\\left(\\frac{\\pi}{12}\\right) \\right)$\n"
        ],
        [
         "45",
         "Viết số phức sau dưới dạng lượng giác $z = \\frac{3}{10\\sqrt{3} + 10i}$",
         "Ta có: $3 = 3.(cos0 + i.sin0)$ và $10\\sqrt{3} + 10i = 20.(cos\\frac{\\pi}{6} + i.sin\\frac{\\pi}{6})$. Do đó, $z = \\frac{3}{10\\sqrt{3} + 10i} = \\frac{3.(cos 0 + i.sin 0)}{20.(cos\\frac{\\pi}{6} + i.sin\\frac{\\pi}{6})} = \\frac{3}{20}(cos(-\\frac{\\pi}{6}) + i.sin(-\\frac{\\pi}{6}))$",
         "$\\frac{3}{20}(cos(-\\frac{\\pi}{6}) + i.sin(-\\frac{\\pi}{6}))$",
         "\nTa có số phức $z = \\frac{3}{10\\sqrt{3} + 10i}$.\n\n**Bước 1: Tìm module và argument của mẫu số**\n\nMẫu số là $w = 10\\sqrt{3} + 10i$.\n*   Module của $w$: $|w| = \\sqrt{(10\\sqrt{3})^2 + 10^2} = \\sqrt{300 + 100} = \\sqrt{400} = 20$.\n*   Argument của $w$: $\\tan(\\theta) = \\frac{10}{10\\sqrt{3}} = \\frac{1}{\\sqrt{3}}$. Suy ra $\\theta = \\frac{\\pi}{6}$.\n\nVậy, $w = 20\\left(\\cos\\left(\\frac{\\pi}{6}\\right) + i\\sin\\left(\\frac{\\pi}{6}\\right)\\right)$.\n\n**Bước 2: Viết số phức $z$ lại**\n\n$z = \\frac{3}{10\\sqrt{3} + 10i} = \\frac{3}{20\\left(\\cos\\left(\\frac{\\pi}{6}\\right) + i\\sin\\left(\\frac{\\pi}{6}\\right)\\right)} = \\frac{3}{20} \\cdot \\frac{1}{\\cos\\left(\\frac{\\pi}{6}\\right) + i\\sin\\left(\\frac{\\pi}{6}\\right)}$.\n\n**Bước 3: Sử dụng công thức nghịch đảo của số phức**\n\n$\\frac{1}{\\cos(\\theta) + i\\sin(\\theta)} = \\cos(-\\theta) + i\\sin(-\\theta)$.\n\nDo đó, $\\frac{1}{\\cos\\left(\\frac{\\pi}{6}\\right) + i\\sin\\left(\\frac{\\pi}{6}\\right)} = \\cos\\left(-\\frac{\\pi}{6}\\right) + i\\sin\\left(-\\frac{\\pi}{6}\\right)$.\n\n**Bước 4: Viết số phức $z$ dưới dạng lượng giác**\n\n$z = \\frac{3}{20}\\left(\\cos\\left(-\\frac{\\pi}{6}\\right) + i\\sin\\left(-\\frac{\\pi}{6}\\right)\\right)$.\n\n",
         "\n$z = \\frac{3}{20}\\left(\\cos\\left(-\\frac{\\pi}{6}\\right) + i\\sin\\left(-\\frac{\\pi}{6}\\right)\\right)$\n"
        ],
        [
         "46",
         "Viết số phức sau dưới dạng lượng giác $z = \\frac{1 - i}{(\\sqrt{3} + i)(2 + 2i)}$",
         "Ta có: $\\sqrt{3} + i = 2(cos\\frac{\\pi}{6} + i.sin\\frac{\\pi}{6})$ và $2 + 2i = 2\\sqrt{2}.(cos\\frac{\\pi}{4} + i.sin\\frac{\\pi}{4}) \\Rightarrow (\\sqrt{3} + 1)(2 + 2i) = 4\\sqrt{2}(cos\\frac{5\\pi}{12} + i.sin\\frac{5\\pi}{12})$. Lại có: $1 - i = \\sqrt{2}.(cos(-\\frac{\\pi}{4}) + i.sin(-\\frac{\\pi}{4}))$. Suy ra: $z = \\frac{1 - i}{(\\sqrt{3} + i)(2 + 2i)} = \\frac{\\sqrt{2}}{4\\sqrt{2}}[cos(-\\frac{5\\pi}{12}) + i.sin(-\\frac{5\\pi}{12})] = \\frac{1}{4}[cos(-\\frac{2\\pi}{3}) + i.sin(-\\frac{2\\pi}{3})]$",
         "$\\frac{1}{4}[cos(-\\frac{2\\pi}{3}) + i.sin(-\\frac{2\\pi}{3})]$",
         "\nĐể viết số phức $z = \\frac{1 - i}{(\\sqrt{3} + i)(2 + 2i)}$ dưới dạng lượng giác, ta thực hiện các bước sau:\n\n1. **Biến đổi tử số và mẫu số về dạng lượng giác:**\n\n*   $1 - i = \\sqrt{2}(\\cos(-\\frac{\\pi}{4}) + i\\sin(-\\frac{\\pi}{4})) = \\sqrt{2}e^{-i\\frac{\\pi}{4}}$\n*   $\\sqrt{3} + i = 2(\\cos(\\frac{\\pi}{6}) + i\\sin(\\frac{\\pi}{6})) = 2e^{i\\frac{\\pi}{6}}$\n*   $2 + 2i = 2\\sqrt{2}(\\cos(\\frac{\\pi}{4}) + i\\sin(\\frac{\\pi}{4})) = 2\\sqrt{2}e^{i\\frac{\\pi}{4}}$\n\n2.  **Thay vào biểu thức z:**\n\n$z = \\frac{\\sqrt{2}e^{-i\\frac{\\pi}{4}}}{(2e^{i\\frac{\\pi}{6}})(2\\sqrt{2}e^{i\\frac{\\pi}{4}})} = \\frac{\\sqrt{2}e^{-i\\frac{\\pi}{4}}}{4\\sqrt{2}e^{i(\\frac{\\pi}{6} + \\frac{\\pi}{4})}} = \\frac{1}{4}e^{-i\\frac{\\pi}{4} - i(\\frac{\\pi}{6} + \\frac{\\pi}{4})} = \\frac{1}{4}e^{-i(\\frac{\\pi}{2} + \\frac{\\pi}{6})} = \\frac{1}{4}e^{-i\\frac{2\\pi}{3}}$\n\n3. **Viết lại dạng lượng giác:**\n\n$z = \\frac{1}{4}(\\cos(-\\frac{2\\pi}{3}) + i\\sin(-\\frac{2\\pi}{3})) = \\frac{1}{4}(\\cos(\\frac{2\\pi}{3}) - i\\sin(\\frac{2\\pi}{3})) = \\frac{1}{4}(-\\frac{1}{2} - i\\frac{\\sqrt{3}}{2}) = -\\frac{1}{8} - i\\frac{\\sqrt{3}}{8}$\n\nVậy, dạng lượng giác của $z$ là:\n\n$z = \\frac{1}{4}(\\cos(-\\frac{2\\pi}{3}) + i\\sin(-\\frac{2\\pi}{3})) = \\frac{1}{4}e^{-i\\frac{2\\pi}{3}}$\n",
         "\n$z = \\frac{1}{4} \\left( \\cos\\left(-\\frac{2\\pi}{3}\\right) + i \\sin\\left(-\\frac{2\\pi}{3}\\right) \\right) = \\frac{1}{4} e^{-i\\frac{2\\pi}{3}}$\n"
        ],
        [
         "47",
         "Viết số phức sau dưới dạng lượng giác: $z = (\\sqrt{2} + \\sqrt{2}i)^{10}$",
         "Ta có: $\\sqrt{2} + \\sqrt{2}i = 2.(cos\\frac{\\pi}{4} + i.sin\\frac{\\pi}{4})$. Do đó, $z = (\\sqrt{2} + \\sqrt{2}i)^{10} = [2.(cos\\frac{\\pi}{4} + i.sin\\frac{\\pi}{4})]^{10} = 2^{10}.(cos\\frac{10\\pi}{4} + i.sin\\frac{10\\pi}{4}) = 2^{10}.(cos\\frac{5\\pi}{2} + i.sin\\frac{5\\pi}{2})$",
         "$2^{10}.(cos\\frac{5\\pi}{2} + i.sin\\frac{5\\pi}{2})$",
         "\nTa có số phức $z = (\\sqrt{2} + \\sqrt{2}i)^{10}$.\nĐể đưa $z$ về dạng lượng giác, ta đưa số phức $\\sqrt{2} + \\sqrt{2}i$ về dạng lượng giác trước.\n\nĐặt $w = \\sqrt{2} + \\sqrt{2}i$.\nTa có $|w| = \\sqrt{(\\sqrt{2})^2 + (\\sqrt{2})^2} = \\sqrt{2 + 2} = \\sqrt{4} = 2$.\nSuy ra $w = 2(\\frac{\\sqrt{2}}{2} + \\frac{\\sqrt{2}}{2}i)$.\nDo $\\cos(\\frac{\\pi}{4}) = \\frac{\\sqrt{2}}{2}$ và $\\sin(\\frac{\\pi}{4}) = \\frac{\\sqrt{2}}{2}$ nên $w = 2(\\cos(\\frac{\\pi}{4}) + i\\sin(\\frac{\\pi}{4}))$.\nVậy $w = 2(\\cos(\\frac{\\pi}{4}) + i\\sin(\\frac{\\pi}{4})) = 2e^{i\\frac{\\pi}{4}}$.\n\nKhi đó, $z = w^{10} = (2(\\cos(\\frac{\\pi}{4}) + i\\sin(\\frac{\\pi}{4})))^{10} = 2^{10}(\\cos(\\frac{10\\pi}{4}) + i\\sin(\\frac{10\\pi}{4})) = 2^{10}(\\cos(\\frac{5\\pi}{2}) + i\\sin(\\frac{5\\pi}{2}))$.\nVì $\\frac{5\\pi}{2} = 2\\pi + \\frac{\\pi}{2}$ nên $\\cos(\\frac{5\\pi}{2}) = \\cos(\\frac{\\pi}{2}) = 0$ và $\\sin(\\frac{5\\pi}{2}) = \\sin(\\frac{\\pi}{2}) = 1$.\nSuy ra $z = 2^{10}(0 + i(1)) = 2^{10}i = 1024i$.\nVậy $z = 1024i = 1024(\\cos(\\frac{\\pi}{2}) + i\\sin(\\frac{\\pi}{2}))$.\n\nVậy dạng lượng giác của $z$ là $1024(\\cos(\\frac{\\pi}{2}) + i\\sin(\\frac{\\pi}{2}))$.\n",
         "\n$z = 1024\\left(\\cos\\left(\\frac{\\pi}{2}\\right) + i\\sin\\left(\\frac{\\pi}{2}\\right)\\right)$\n"
        ],
        [
         "48",
         "Viết số phức sau dưới dạng lượng giác $z = \\frac{(1 - i)^{10}}{(\\sqrt{3} + i)^9}$",
         "Ta có: $1 - i = \\sqrt{2}[cos(-\\frac{\\pi}{4}) + i.sin(-\\frac{\\pi}{4})] \\Rightarrow (1 - i)^{10} = (\\sqrt{2})^{10}.[cos(-10.\\frac{\\pi}{4}) + i.sin(-10.\\frac{\\pi}{4})] = 2^5[cos(-\\frac{5\\pi}{2}) + i.sin(-\\frac{5\\pi}{2})]$. Lại có: $\\sqrt{3} + i = 2(cos\\frac{\\pi}{6} + i.sin\\frac{\\pi}{6}) \\Rightarrow (\\sqrt{3} + i)^9 = 2^9.(cos9.\\frac{\\pi}{6} + i.sin9.\\frac{\\pi}{6}) = 2^9.(cos\\frac{3\\pi}{2} + i.sin\\frac{3\\pi}{2})$. Do đó, $z = \\frac{(1 - i)^{10}}{(\\sqrt{3} + i)^9} = \\frac{2^5[cos(-\\frac{5\\pi}{2}) + i.sin(-\\frac{5\\pi}{2})]}{2^9.(cos\\frac{3\\pi}{2} + i.sin\\frac{3\\pi}{2})} = \\frac{1}{2^4}(cos(-4\\pi) + i.sin(-4\\pi))$",
         "$\\frac{1}{2^4}(cos(-4\\pi) + i.sin(-4\\pi))$",
         "\nTa sẽ đưa cả tử và mẫu về dạng lượng giác, sau đó thực hiện phép chia số phức.\n\nBước 1: Đưa $1 - i$ về dạng lượng giác.\n$|1 - i| = \\sqrt{1^2 + (-1)^2} = \\sqrt{2}$.\n$\\arg(1 - i) = \\arctan\\left(\\frac{-1}{1}\\right) = -\\frac{\\pi}{4}$.\nVậy, $1 - i = \\sqrt{2}\\left(\\cos\\left(-\\frac{\\pi}{4}\\right) + i\\sin\\left(-\\frac{\\pi}{4}\\right)\\right)$.\n\nBước 2: Tính $(1 - i)^{10}$.\n$(1 - i)^{10} = \\left(\\sqrt{2}\\left(\\cos\\left(-\\frac{\\pi}{4}\\right) + i\\sin\\left(-\\frac{\\pi}{4}\\right)\\right)\\right)^{10} = (\\sqrt{2})^{10}\\left(\\cos\\left(-\\frac{10\\pi}{4}\\right) + i\\sin\\left(-\\frac{10\\pi}{4}\\right)\\right) = 2^5\\left(\\cos\\left(-\\frac{5\\pi}{2}\\right) + i\\sin\\left(-\\frac{5\\pi}{2}\\right)\\right) = 32\\left(\\cos\\left(-\\frac{\\pi}{2}\\right) + i\\sin\\left(-\\frac{\\pi}{2}\\right)\\right) = 32(0 - i) = -32i$.\n\nBước 3: Đưa $\\sqrt{3} + i$ về dạng lượng giác.\n$|\\sqrt{3} + i| = \\sqrt{(\\sqrt{3})^2 + 1^2} = \\sqrt{3 + 1} = 2$.\n$\\arg(\\sqrt{3} + i) = \\arctan\\left(\\frac{1}{\\sqrt{3}}\\right) = \\frac{\\pi}{6}$.\nVậy, $\\sqrt{3} + i = 2\\left(\\cos\\left(\\frac{\\pi}{6}\\right) + i\\sin\\left(\\frac{\\pi}{6}\\right)\\right)$.\n\nBước 4: Tính $(\\sqrt{3} + i)^9$.\n$(\\sqrt{3} + i)^9 = \\left(2\\left(\\cos\\left(\\frac{\\pi}{6}\\right) + i\\sin\\left(\\frac{\\pi}{6}\\right)\\right)\\right)^9 = 2^9\\left(\\cos\\left(\\frac{9\\pi}{6}\\right) + i\\sin\\left(\\frac{9\\pi}{6}\\right)\\right) = 512\\left(\\cos\\left(\\frac{3\\pi}{2}\\right) + i\\sin\\left(\\frac{3\\pi}{2}\\right)\\right) = 512(0 - i) = -512i$.\n\nBước 5: Tính $z = \\frac{(1 - i)^{10}}{(\\sqrt{3} + i)^9}$.\n$z = \\frac{-32i}{-512i} = \\frac{32}{512} = \\frac{1}{16}$.\n\nBước 6: Đưa $\\frac{1}{16}$ về dạng lượng giác.\n$\\frac{1}{16} = \\frac{1}{16} + 0i$.\n$|\\frac{1}{16}| = \\sqrt{\\left(\\frac{1}{16}\\right)^2 + 0^2} = \\frac{1}{16}$.\n$\\arg\\left(\\frac{1}{16}\\right) = \\arctan\\left(\\frac{0}{\\frac{1}{16}}\\right) = 0$.\nVậy, $z = \\frac{1}{16}\\left(\\cos(0) + i\\sin(0)\\right)$.\n\n",
         "\n$z = \\frac{1}{16}(\\cos(0) + i\\sin(0))$\n"
        ],
        [
         "49",
         "Cho số phức $(\\cos \\frac{\\pi}{3} - i.sin\\frac{\\pi}{3})^5(1 + \\sqrt{3}i)^7$. Tìm phần ảo của số phức.",
         "Ta có: $1 + \\sqrt{3}i = 2.(cos\\frac{\\pi}{3} + i.sin\\frac{\\pi}{3})$ và $i^4 = 1$ nên ta có: $(\\cos \\frac{\\pi}{3} - i.sin\\frac{\\pi}{3})^5(1 + \\sqrt{3}i)^7 = (\\cos \\frac{\\pi}{3} - i.sin\\frac{\\pi}{3})^5.i.[2(cos\\frac{\\pi}{3} + i.sin\\frac{\\pi}{3})]^7 = 2^7(cos(-\\frac{\\pi}{3}) + i.sin(-\\frac{\\pi}{3})).[(\\cos \\frac{7\\pi}{3} + i.sin\\frac{7\\pi}{3})] = 2^7[cos2\\pi + i.sin2\\pi] i = 2^7 i$. Vậy phần ảo bằng $2^7 = 128$.",
         "128",
         "\nTa có số phức $z = (\\cos \\frac{\\pi}{3} - i\\sin\\frac{\\pi}{3})^5(1 + \\sqrt{3}i)^7$.\nĐầu tiên, ta biến đổi $(\\cos \\frac{\\pi}{3} - i\\sin\\frac{\\pi}{3})^5$. Sử dụng công thức Euler, ta có:\n$\\cos \\frac{\\pi}{3} - i\\sin\\frac{\\pi}{3} = e^{-i\\frac{\\pi}{3}}$.\nVậy, $(\\cos \\frac{\\pi}{3} - i\\sin\\frac{\\pi}{3})^5 = (e^{-i\\frac{\\pi}{3}})^5 = e^{-i\\frac{5\\pi}{3}} = \\cos(-\\frac{5\\pi}{3}) + i\\sin(-\\frac{5\\pi}{3}) = \\cos(\\frac{5\\pi}{3}) - i\\sin(\\frac{5\\pi}{3}) = \\cos(2\\pi - \\frac{\\pi}{3}) - i\\sin(2\\pi - \\frac{\\pi}{3}) = \\cos(\\frac{\\pi}{3}) + i\\sin(\\frac{\\pi}{3}) = \\frac{1}{2} + i\\frac{\\sqrt{3}}{2}$.\n\nTiếp theo, ta biến đổi $(1 + \\sqrt{3}i)^7$. Ta đưa $1 + \\sqrt{3}i$ về dạng lượng giác.\n$1 + \\sqrt{3}i = R(\\cos\\theta + i\\sin\\theta)$.\n$R = \\sqrt{1^2 + (\\sqrt{3})^2} = \\sqrt{1 + 3} = 2$.\n$\\cos\\theta = \\frac{1}{2}$ và $\\sin\\theta = \\frac{\\sqrt{3}}{2}$, suy ra $\\theta = \\frac{\\pi}{3}$.\nVậy, $1 + \\sqrt{3}i = 2(\\cos\\frac{\\pi}{3} + i\\sin\\frac{\\pi}{3}) = 2e^{i\\frac{\\pi}{3}}$.\n$(1 + \\sqrt{3}i)^7 = (2e^{i\\frac{\\pi}{3}})^7 = 2^7e^{i\\frac{7\\pi}{3}} = 128(\\cos\\frac{7\\pi}{3} + i\\sin\\frac{7\\pi}{3}) = 128(\\cos(2\\pi + \\frac{\\pi}{3}) + i\\sin(2\\pi + \\frac{\\pi}{3})) = 128(\\cos\\frac{\\pi}{3} + i\\sin\\frac{\\pi}{3}) = 128(\\frac{1}{2} + i\\frac{\\sqrt{3}}{2}) = 64 + 64\\sqrt{3}i$.\n\nVậy, $z = (\\frac{1}{2} + i\\frac{\\sqrt{3}}{2})(64 + 64\\sqrt{3}i) = \\frac{1}{2}(64 + 64\\sqrt{3}i) + i\\frac{\\sqrt{3}}{2}(64 + 64\\sqrt{3}i) = 32 + 32\\sqrt{3}i + 32\\sqrt{3}i + 32\\sqrt{3}\\sqrt{3}i^2 = 32 + 64\\sqrt{3}i - 96 = -64 + 64\\sqrt{3}i$.\n\nPhần ảo của số phức $z$ là $64\\sqrt{3}$.\n\n",
         "\n$64\\sqrt{3}$\n"
        ]
       ],
       "shape": {
        "columns": 5,
        "rows": 162
       }
      },
      "text/html": [
       "<div>\n",
       "<style scoped>\n",
       "    .dataframe tbody tr th:only-of-type {\n",
       "        vertical-align: middle;\n",
       "    }\n",
       "\n",
       "    .dataframe tbody tr th {\n",
       "        vertical-align: top;\n",
       "    }\n",
       "\n",
       "    .dataframe thead th {\n",
       "        text-align: right;\n",
       "    }\n",
       "</style>\n",
       "<table border=\"1\" class=\"dataframe\">\n",
       "  <thead>\n",
       "    <tr style=\"text-align: right;\">\n",
       "      <th></th>\n",
       "      <th>Question</th>\n",
       "      <th>Solution</th>\n",
       "      <th>Answer</th>\n",
       "      <th>AI Solution</th>\n",
       "      <th>AI Answer</th>\n",
       "    </tr>\n",
       "  </thead>\n",
       "  <tbody>\n",
       "    <tr>\n",
       "      <th>0</th>\n",
       "      <td>Cho hai số phức $z_1 = 1 + 10i$ và $z_2 = 9 – ...</td>\n",
       "      <td>Ta có: $z = z_1 + z_2 = (1 + 10i) + ( 9 – 2i) ...</td>\n",
       "      <td>10</td>\n",
       "      <td>\\nĐể tìm số phức $z = z_1 + z_2$, ta thực hiện...</td>\n",
       "      <td>\\n$10$\\n</td>\n",
       "    </tr>\n",
       "    <tr>\n",
       "      <th>1</th>\n",
       "      <td>Hãy tính số phức z. Biết rằng: $z = 10i – ( 2 ...</td>\n",
       "      <td>Ta có: $z = 10i - (2 + 2i).i = 10i – 2i + 2 = ...</td>\n",
       "      <td>2 + 8i</td>\n",
       "      <td>\\nĐể tính số phức $z$, ta thực hiện các phép t...</td>\n",
       "      <td>\\n$z = 2 + 8i$\\n</td>\n",
       "    </tr>\n",
       "    <tr>\n",
       "      <th>2</th>\n",
       "      <td>Cho hai số phức $z = -2 + 3yi$; $z’ = ( x + 1)...</td>\n",
       "      <td>Để $z + i = z’ + 2$ =&gt; - 2 + 3yi + i = ( x + 1...</td>\n",
       "      <td>x = -5, y = -5/3</td>\n",
       "      <td>\\nTa có:\\n$z = -2 + 3yi$\\n$z' = (x+1) - 4i$\\n$...</td>\n",
       "      <td>\\n$x = -5$\\n$y = -\\frac{5}{3}$\\n</td>\n",
       "    </tr>\n",
       "    <tr>\n",
       "      <th>3</th>\n",
       "      <td>Số nào trong các số phức sau là số thuần ảo? A...</td>\n",
       "      <td>Ta xét các phương án:A.(√2 + i) - (1 + √2i)= (...</td>\n",
       "      <td>B. ( 8 + 2i) + (- 8 + 2i)</td>\n",
       "      <td>\\nĐể một số phức là số thuần ảo, phần thực của...</td>\n",
       "      <td>\\nB. $(8 + 2i) + (- 8 + 2i)$\\n</td>\n",
       "    </tr>\n",
       "    <tr>\n",
       "      <th>4</th>\n",
       "      <td>Tính giá trị của P = i^{105} + i^{23} + i^{20}...</td>\n",
       "      <td>Ta có: $i^2 = -1 \\Rightarrow i^4 = 1$. Do đó, ...</td>\n",
       "      <td>2</td>\n",
       "      <td>\\nTa có $i$ là đơn vị ảo, thỏa mãn $i^2 = -1$....</td>\n",
       "      <td>\\n$P = 2$\\n</td>\n",
       "    </tr>\n",
       "    <tr>\n",
       "      <th>...</th>\n",
       "      <td>...</td>\n",
       "      <td>...</td>\n",
       "      <td>...</td>\n",
       "      <td>...</td>\n",
       "      <td>...</td>\n",
       "    </tr>\n",
       "    <tr>\n",
       "      <th>157</th>\n",
       "      <td>Gọi (H) là hình phẳng giới hạn bởi các đường y...</td>\n",
       "      <td>Phương trình hoành độ giao điểm:\\n$2x-x^2 = 0 ...</td>\n",
       "      <td>16/15pi</td>\n",
       "      <td>\\nĐể tính thể tích khối tròn xoay tạo thành kh...</td>\n",
       "      <td>\\n$V = \\frac{16\\pi}{15}$\\n</td>\n",
       "    </tr>\n",
       "    <tr>\n",
       "      <th>158</th>\n",
       "      <td>Tính thể tích khối tròn xoay được giới hạn bởi...</td>\n",
       "      <td>Thể tích khối tròn xoay được giới hạn bởi các ...</td>\n",
       "      <td>46/15pi</td>\n",
       "      <td>\\nBài toán yêu cầu tính thể tích khối tròn xoa...</td>\n",
       "      <td>\\n$V = \\frac{46\\pi}{15}$\\n</td>\n",
       "    </tr>\n",
       "    <tr>\n",
       "      <th>159</th>\n",
       "      <td>Cho hình phẳng giới hạn bởi các đường y=\\sqrt{...</td>\n",
       "      <td>Giải phương trình $\\sqrt{x} = x \\Leftrightarro...</td>\n",
       "      <td>pi/6</td>\n",
       "      <td>\\nĐể giải bài toán này, ta thực hiện các bước ...</td>\n",
       "      <td>\\n$V = \\frac{\\pi}{6}$\\n</td>\n",
       "    </tr>\n",
       "    <tr>\n",
       "      <th>160</th>\n",
       "      <td>Gọi (H) là hình phẳng giới hạn bởi các đường y...</td>\n",
       "      <td>Thể tích khối tròn xoay được giới hạn bởi các ...</td>\n",
       "      <td>pi - pi^2/4</td>\n",
       "      <td>\\nĐể tính thể tích khối tròn xoay tạo thành kh...</td>\n",
       "      <td>\\n$V = \\pi - \\frac{\\pi^2}{4}$\\n</td>\n",
       "    </tr>\n",
       "    <tr>\n",
       "      <th>161</th>\n",
       "      <td>Tính thể tích khối tròn xoay giới hạn bởi y=ln...</td>\n",
       "      <td>Phương trình hoành độ giao điểm: $lnx=0 \\Leftr...</td>\n",
       "      <td>pi(e-2)</td>\n",
       "      <td>\\nĐể tính thể tích khối tròn xoay giới hạn bởi...</td>\n",
       "      <td>\\n$V = \\pi(e-2)$\\n</td>\n",
       "    </tr>\n",
       "  </tbody>\n",
       "</table>\n",
       "<p>162 rows × 5 columns</p>\n",
       "</div>"
      ],
      "text/plain": [
       "                                              Question  \\\n",
       "0    Cho hai số phức $z_1 = 1 + 10i$ và $z_2 = 9 – ...   \n",
       "1    Hãy tính số phức z. Biết rằng: $z = 10i – ( 2 ...   \n",
       "2    Cho hai số phức $z = -2 + 3yi$; $z’ = ( x + 1)...   \n",
       "3    Số nào trong các số phức sau là số thuần ảo? A...   \n",
       "4    Tính giá trị của P = i^{105} + i^{23} + i^{20}...   \n",
       "..                                                 ...   \n",
       "157  Gọi (H) là hình phẳng giới hạn bởi các đường y...   \n",
       "158  Tính thể tích khối tròn xoay được giới hạn bởi...   \n",
       "159  Cho hình phẳng giới hạn bởi các đường y=\\sqrt{...   \n",
       "160  Gọi (H) là hình phẳng giới hạn bởi các đường y...   \n",
       "161  Tính thể tích khối tròn xoay giới hạn bởi y=ln...   \n",
       "\n",
       "                                              Solution  \\\n",
       "0    Ta có: $z = z_1 + z_2 = (1 + 10i) + ( 9 – 2i) ...   \n",
       "1    Ta có: $z = 10i - (2 + 2i).i = 10i – 2i + 2 = ...   \n",
       "2    Để $z + i = z’ + 2$ => - 2 + 3yi + i = ( x + 1...   \n",
       "3    Ta xét các phương án:A.(√2 + i) - (1 + √2i)= (...   \n",
       "4    Ta có: $i^2 = -1 \\Rightarrow i^4 = 1$. Do đó, ...   \n",
       "..                                                 ...   \n",
       "157  Phương trình hoành độ giao điểm:\\n$2x-x^2 = 0 ...   \n",
       "158  Thể tích khối tròn xoay được giới hạn bởi các ...   \n",
       "159  Giải phương trình $\\sqrt{x} = x \\Leftrightarro...   \n",
       "160  Thể tích khối tròn xoay được giới hạn bởi các ...   \n",
       "161  Phương trình hoành độ giao điểm: $lnx=0 \\Leftr...   \n",
       "\n",
       "                        Answer  \\\n",
       "0                           10   \n",
       "1                       2 + 8i   \n",
       "2             x = -5, y = -5/3   \n",
       "3    B. ( 8 + 2i) + (- 8 + 2i)   \n",
       "4                            2   \n",
       "..                         ...   \n",
       "157                    16/15pi   \n",
       "158                    46/15pi   \n",
       "159                       pi/6   \n",
       "160                pi - pi^2/4   \n",
       "161                    pi(e-2)   \n",
       "\n",
       "                                           AI Solution  \\\n",
       "0    \\nĐể tìm số phức $z = z_1 + z_2$, ta thực hiện...   \n",
       "1    \\nĐể tính số phức $z$, ta thực hiện các phép t...   \n",
       "2    \\nTa có:\\n$z = -2 + 3yi$\\n$z' = (x+1) - 4i$\\n$...   \n",
       "3    \\nĐể một số phức là số thuần ảo, phần thực của...   \n",
       "4    \\nTa có $i$ là đơn vị ảo, thỏa mãn $i^2 = -1$....   \n",
       "..                                                 ...   \n",
       "157  \\nĐể tính thể tích khối tròn xoay tạo thành kh...   \n",
       "158  \\nBài toán yêu cầu tính thể tích khối tròn xoa...   \n",
       "159  \\nĐể giải bài toán này, ta thực hiện các bước ...   \n",
       "160  \\nĐể tính thể tích khối tròn xoay tạo thành kh...   \n",
       "161  \\nĐể tính thể tích khối tròn xoay giới hạn bởi...   \n",
       "\n",
       "                            AI Answer  \n",
       "0                            \\n$10$\\n  \n",
       "1                    \\n$z = 2 + 8i$\\n  \n",
       "2    \\n$x = -5$\\n$y = -\\frac{5}{3}$\\n  \n",
       "3      \\nB. $(8 + 2i) + (- 8 + 2i)$\\n  \n",
       "4                         \\n$P = 2$\\n  \n",
       "..                                ...  \n",
       "157        \\n$V = \\frac{16\\pi}{15}$\\n  \n",
       "158        \\n$V = \\frac{46\\pi}{15}$\\n  \n",
       "159           \\n$V = \\frac{\\pi}{6}$\\n  \n",
       "160   \\n$V = \\pi - \\frac{\\pi^2}{4}$\\n  \n",
       "161                \\n$V = \\pi(e-2)$\\n  \n",
       "\n",
       "[162 rows x 5 columns]"
      ]
     },
     "metadata": {},
     "output_type": "display_data"
    }
   ],
   "source": [
    "rows = []\n",
    "questions_list = [q for chapter in data[\"data\"] for topic in chapter[\"topics\"] for q in topic[\"questions\"]]\n",
    "\n",
    "for q in tqdm(questions_list, desc=\"Processing Questions\"):\n",
    "    ai_response = get_answer(q[\"question\"])\n",
    "    display(Latex(ai_response[\"solution\"]))\n",
    "    rows.append([\n",
    "        q[\"question\"], \n",
    "        q[\"solution\"], \n",
    "        q[\"answer\"], \n",
    "        ai_response[\"solution\"], \n",
    "        ai_response[\"answer\"]\n",
    "    ])\n",
    "\n",
    "# Create DataFrame\n",
    "df = pd.DataFrame(rows, columns=[\"Question\", \"Solution\", \"Answer\", \"AI Solution\", \"AI Answer\"])\n",
    "\n",
    "\n",
    "# Display DataFrame\n",
    "display(df)"
   ]
  },
  {
   "cell_type": "code",
   "execution_count": 7,
   "metadata": {},
   "outputs": [],
   "source": [
    "import pandas as pd\n",
    "df = pd.read_csv(\"ai_test_results.csv\")"
   ]
  },
  {
   "cell_type": "code",
   "execution_count": 8,
   "metadata": {},
   "outputs": [
    {
     "name": "stderr",
     "output_type": "stream",
     "text": [
      "Checking AI Answers: 100%|██████████| 162/162 [15:53<00:00,  5.89s/it]\n"
     ]
    },
    {
     "data": {
      "application/vnd.microsoft.datawrangler.viewer.v0+json": {
       "columns": [
        {
         "name": "index",
         "rawType": "int64",
         "type": "integer"
        },
        {
         "name": "Unnamed: 0",
         "rawType": "int64",
         "type": "integer"
        },
        {
         "name": "Question",
         "rawType": "object",
         "type": "string"
        },
        {
         "name": "Solution",
         "rawType": "object",
         "type": "string"
        },
        {
         "name": "Answer",
         "rawType": "object",
         "type": "string"
        },
        {
         "name": "AI Solution",
         "rawType": "object",
         "type": "string"
        },
        {
         "name": "AI Answer",
         "rawType": "object",
         "type": "string"
        },
        {
         "name": "Category",
         "rawType": "object",
         "type": "string"
        },
        {
         "name": "Explanation",
         "rawType": "object",
         "type": "string"
        }
       ],
       "conversionMethod": "pd.DataFrame",
       "ref": "6036799d-5040-4d38-948f-b41cc2e74714",
       "rows": [
        [
         "0",
         "0",
         "Cho hai số phức $z_1 = 1 + 10i$ và $z_2 = 9 – 2i$. Số phức $z = z_1 + z_2$ có z1 có phần thực là:",
         "Ta có: $z = z_1 + z_2 = (1 + 10i) + ( 9 – 2i) = 10 + 8i$. Do đó, phần thực của số phức z là 10.",
         "10",
         "\nĐể tìm số phức $z = z_1 + z_2$, ta thực hiện phép cộng hai số phức $z_1$ và $z_2$ như sau:\n\n$z = z_1 + z_2 = (1 + 10i) + (9 - 2i)$\n\nTa cộng phần thực với phần thực, và phần ảo với phần ảo:\n\n$z = (1 + 9) + (10 - 2)i = 10 + 8i$\n\nSố phức $z = 10 + 8i$ có phần thực là $10$ và phần ảo là $8$.\n\nVậy, phần thực của $z$ là $10$.\n\n",
         "\n$10$\n",
         "Both Correct",
         "No explanation provided"
        ],
        [
         "1",
         "1",
         "Hãy tính số phức z. Biết rằng: $z = 10i – ( 2 + 2i).i$",
         "Ta có: $z = 10i - (2 + 2i).i = 10i – 2i + 2 = 2 + 8i$",
         "2 + 8i",
         "\nĐể tính số phức $z$, ta thực hiện các phép toán theo thứ tự:\n\n1. Nhân số phức: $(2 + 2i).i = 2i + 2i^2 = 2i + 2(-1) = -2 + 2i$\n2. Thay vào biểu thức của $z$: $z = 10i - (-2 + 2i)$\n3. Thực hiện phép trừ: $z = 10i + 2 - 2i$\n4. Gom các phần thực và ảo lại: $z = 2 + (10i - 2i) = 2 + 8i$\n\nVậy, $z = 2 + 8i$.\n\n",
         "\n$z = 2 + 8i$\n",
         "Both Correct",
         "No explanation provided"
        ],
        [
         "2",
         "2",
         "Cho hai số phức $z = -2 + 3yi$; $z’ = ( x + 1)- 4i$ với $x,y ∈ R$. Tìm x; y để $z + i= z’ + 2$",
         "Để $z + i = z’ + 2$ => - 2 + 3yi + i = ( x + 1) – 4i + 2 => - 2 + (3y + 1).i = ( x + 3)- 4i. Do đó ta có hệ phương trình : -2 = x+3 , 3y + 1 = -4 => x = -5, y=-5/3",
         "x = -5, y = -5/3",
         "\nTa có:\n$z = -2 + 3yi$\n$z' = (x+1) - 4i$\n$z + i = z' + 2$\n\nThay $z$ và $z'$ vào phương trình, ta được:\n$(-2 + 3yi) + i = ((x+1) - 4i) + 2$\n$-2 + (3y+1)i = (x+3) - 4i$\n\nHai số phức bằng nhau khi và chỉ khi phần thực bằng phần thực và phần ảo bằng phần ảo. Vậy ta có hệ phương trình:\n$\\begin{cases}\n-2 = x+3 \\\\\n3y+1 = -4\n\\end{cases}$\n\nGiải hệ phương trình:\n$\\begin{cases}\nx = -2 - 3 \\\\\n3y = -4 - 1\n\\end{cases}$\n\n$\\begin{cases}\nx = -5 \\\\\n3y = -5\n\\end{cases}$\n\n$\\begin{cases}\nx = -5 \\\\\ny = -\\frac{5}{3}\n\\end{cases}$\n\nVậy $x = -5$ và $y = -\\frac{5}{3}$.\n\n",
         "\n$x = -5$\n$y = -\\frac{5}{3}$\n",
         "Both Correct",
         "No explanation provided"
        ],
        [
         "3",
         "3",
         "Số nào trong các số phức sau là số thuần ảo? A. (√2 + i) - (1 + √2i); B. ( 8 + 2i) + (- 8 + 2i); C. ( - 3 + i) – ( 3 - i); D. (10 + 3i) – ( -10 – 3i)",
         "Ta xét các phương án:A.(√2 + i) - (1 + √2i)= (√2 - 1) - (1 - √2) không là số thuần ảo; B.(8 + 2i) + (- 8 + 2i) = 4i là số thuần ảo; C.(-3 + i) – (3- i) = - 3 + i – 3 + i= - 6 + 2i không là số thuần ảo.; D.(10 + 3i) – ( -10 – 3i) = 10 + 3i + 10 + 3i = 20 + 6i không là số thuần ảo.",
         "B. ( 8 + 2i) + (- 8 + 2i)",
         "\nĐể một số phức là số thuần ảo, phần thực của nó phải bằng 0. Ta sẽ kiểm tra từng đáp án:\n\nA. $(\\sqrt{2} + i) - (1 + \\sqrt{2}i) = (\\sqrt{2} - 1) + (1 - \\sqrt{2})i$. Phần thực là $\\sqrt{2} - 1 \\neq 0$.\n\nB. $(8 + 2i) + (-8 + 2i) = (8 - 8) + (2 + 2)i = 0 + 4i = 4i$. Phần thực là 0.\n\nC. $(-3 + i) - (3 - i) = (-3 - 3) + (1 + 1)i = -6 + 2i$. Phần thực là -6 $\\neq$ 0.\n\nD. $(10 + 3i) - (-10 - 3i) = (10 + 10) + (3 + 3)i = 20 + 6i$. Phần thực là 20 $\\neq$ 0.\n\nVậy, chỉ có đáp án B cho kết quả là một số thuần ảo.\n\n",
         "\nB. $(8 + 2i) + (- 8 + 2i)$\n",
         "Both Correct",
         "No explanation provided"
        ],
        [
         "4",
         "4",
         "Tính giá trị của P = i^{105} + i^{23} + i^{20} - i^{34}",
         "Ta có: $i^2 = -1 \\Rightarrow i^4 = 1$. Do đó, $P = i^{105} + i^{23} + i^{20} - i^{34} = i^{104+1} + i^{20+3} + i^{4 \\cdot 5} - i^{4 \\cdot 8 + 2} = i \\cdot i^{4 \\cdot 26} + i^2 \\cdot i \\cdot i^{4 \\cdot 5} + 1 - i^2 \\cdot i^{4 \\cdot 8} = i \\cdot 1 + (-1) \\cdot i \\cdot 1 + 1 - (-1) \\cdot 1 = 2$",
         "2",
         "\nTa có $i$ là đơn vị ảo, thỏa mãn $i^2 = -1$.\nTa cần tính $P = i^{105} + i^{23} + i^{20} - i^{34}$.\n\nTa có:\n$i^{105} = i^{4 \\cdot 26 + 1} = (i^4)^{26} \\cdot i = 1^{26} \\cdot i = i$\n$i^{23} = i^{4 \\cdot 5 + 3} = (i^4)^5 \\cdot i^3 = 1^5 \\cdot i^3 = i^3 = -i$\n$i^{20} = i^{4 \\cdot 5} = (i^4)^5 = 1^5 = 1$\n$i^{34} = i^{4 \\cdot 8 + 2} = (i^4)^8 \\cdot i^2 = 1^8 \\cdot i^2 = i^2 = -1$\n\nVậy, $P = i + (-i) + 1 - (-1) = i - i + 1 + 1 = 0 + 2 = 2$.\n\n",
         "\n$P = 2$\n",
         "Both Correct",
         "No explanation provided"
        ],
        [
         "5",
         "5",
         "Giá trị của biểu thức $A = \\left( \\frac{1+i}{1-i} \\right)^{2016} + \\left( \\frac{1-i}{1+i} \\right)^{2018}$ bằng ?",
         "Ta có: $\\frac{1+i}{1-i} = \\frac{(1+i)^2}{(1-i).(1+i)} = \\frac{1+2i+i^2}{1-i^2} = \\frac{2i}{2} = i$; $\\frac{1-i}{1+i} = \\frac{(1-i)^2}{(1+i).(1-i)} = \\frac{1-2i+i^2}{1-i^2} = \\frac{-2i}{2} = -i$; Suy ra: $A = \\left( \\frac{1+i}{1-i} \\right)^{2016} + \\left( \\frac{1-i}{1+i} \\right)^{2018} = i^{2016} + (-i)^{2018} = (i^2)^{1008} + (i^2)^{1009} = (-1)^{1008} + (-1)^{1009} = 1 - 1 = 0$",
         "0",
         "\nTa có:\n$\\frac{1+i}{1-i} = \\frac{(1+i)(1+i)}{(1-i)(1+i)} = \\frac{1+2i+i^2}{1-i^2} = \\frac{1+2i-1}{1-(-1)} = \\frac{2i}{2} = i$\n$\\frac{1-i}{1+i} = \\frac{(1-i)(1-i)}{(1+i)(1-i)} = \\frac{1-2i+i^2}{1-i^2} = \\frac{1-2i-1}{1-(-1)} = \\frac{-2i}{2} = -i$\n\nVậy\n$A = \\left( \\frac{1+i}{1-i} \\right)^{2016} + \\left( \\frac{1-i}{1+i} \\right)^{2018} = i^{2016} + (-i)^{2018} = (i^4)^{504} + (-1)^{2018} i^{2018} = 1^{504} + i^{2018} = 1 + i^{2016} i^2 = 1 + (i^4)^{504} i^2 = 1 + 1^{504} i^2 = 1 + i^2 = 1 - 1 = 0$\n\n",
         "\n0\n",
         "Both Correct",
         "No explanation provided"
        ],
        [
         "6",
         "6",
         "Cho $P = 1 + i + i^2 + i^3 + ... + i^{2017}$. Tính P?",
         "Ta có: $P = 1 + i + i^2 + i^3 + ... + i^{2017}$ $iP = i + i^2 + i^3 + ... + i^{2018}$ $\\Rightarrow P - iP = 1 - i^{2018}$ $\\Rightarrow P = \\frac{1 - i^{2018}}{1 - i} = \\frac{1 - (i^2)^{1009}}{1-i} = \\frac{2}{1-i} = \\frac{2(1+i)}{(1-i).(1+i)} = \\frac{2(1+i)}{2} = 1 + i$",
         "1 + i",
         "\nTa có $P = 1 + i + i^2 + i^3 + ... + i^{2017}$. Đây là tổng của một cấp số nhân có số hạng đầu $u_1 = 1$, công bội $q = i$, và số số hạng là $n = 2018$.\n\nÁp dụng công thức tổng của cấp số nhân:\n$P = \\frac{u_1(1 - q^n)}{1 - q} = \\frac{1 - i^{2018}}{1 - i}$.\n\nTa có $i^2 = -1$, suy ra $i^4 = 1$.\nVậy $i^{2018} = i^{4 \\cdot 504 + 2} = (i^4)^{504} \\cdot i^2 = 1^{504} \\cdot (-1) = -1$.\n\nThay vào công thức tính P:\n$P = \\frac{1 - (-1)}{1 - i} = \\frac{2}{1 - i}$.\n\nĐể khử mẫu, ta nhân cả tử và mẫu với liên hợp của mẫu:\n$P = \\frac{2(1 + i)}{(1 - i)(1 + i)} = \\frac{2(1 + i)}{1 - i^2} = \\frac{2(1 + i)}{1 - (-1)} = \\frac{2(1 + i)}{2} = 1 + i$.\n\n",
         "\n$P = 1 + i$\n",
         "Both Correct",
         "No explanation provided"
        ],
        [
         "7",
         "7",
         "Cho $A = 1 + i^2 + i^4 + .. + i^{4k-2} + i^{4k}$ với k là số nguyên dương. Tính A?",
         "Do A là tổng của một cấp số nhân (gồm 2k + 1 số hạng) với số hạng đầu $u_1 = 1$, công bội q = $i^2$. Suy ra $A = 1 + i^2 + i^4 + .. + i^{4k-2} + i^{4k} = \\frac{1 - (i^2)^{2k+1}}{1 - i^2} = \\frac{1 - (-1)^{2k+1}}{1 - (-1)} = \\frac{1 - (-1)^{2k} \\cdot (-1)^1}{2} = 1$",
         "1",
         "\nTa có $i^2 = -1$, $i^4 = 1$.\nTổng $A$ có thể được viết lại như sau:\n$A = 1 + i^2 + i^4 + \\dots + i^{4k-2} + i^{4k}$\n$A = 1 + (i^2) + (i^2)^2 + \\dots + (i^2)^{2k-1} + (i^2)^{2k}$\n$A = 1 + (-1) + (-1)^2 + \\dots + (-1)^{2k-1} + (-1)^{2k}$\n$A = 1 - 1 + 1 - 1 + \\dots - 1 + 1$\n\nTa nhận thấy rằng các số hạng của $A$ có dạng $ (-1)^n$ với $n$ chạy từ 0 đến $2k$.\nSố lượng các số hạng trong tổng là $2k+1$.\nVì vậy, ta có thể viết lại tổng $A$ như sau:\n$A = \\sum_{n=0}^{2k} (-1)^n$\n\nNếu $k$ là số nguyên dương thì $2k+1$ là một số lẻ. Vậy số lượng số 1 trong tổng sẽ lớn hơn số lượng số -1 là 1.\nTa có thể viết $A$ như sau:\n$A = (1 - 1) + (1 - 1) + \\dots + (1 - 1) + 1$\nSố lượng cặp $(1-1)$ là $k$ cặp. Vậy tổng của các cặp này là 0.\nVậy $A = 0 + 0 + \\dots + 0 + 1 = 1$\n\nVậy $A = 1$.\n\n",
         "\n$A = 1$\n",
         "Both Correct",
         "No explanation provided"
        ],
        [
         "8",
         "8",
         "Tìm số phức liên hợp của số phức $z = (3 - 2i).(2 + 3i)$",
         "Ta có: $z = (3 - 2i).(2 + 3i) = 6 + 9i - 4i + 6 = 12 + 5i$ \\Rightarrow Số phức liên hợp với số phức z là $\\overline{z} = 12 - 5i$",
         "$12 - 5i$",
         "\nĐể tìm số phức liên hợp của số phức $z = (3 - 2i)(2 + 3i)$, ta thực hiện các bước sau:\n\n1. Tính số phức $z$:\n$z = (3 - 2i)(2 + 3i) = 3(2) + 3(3i) - 2i(2) - 2i(3i) = 6 + 9i - 4i - 6i^2 = 6 + 5i - 6(-1) = 6 + 5i + 6 = 12 + 5i$\n\n2. Tìm số phức liên hợp của $z$, ký hiệu là $\\bar{z}$:\nNếu $z = a + bi$, thì $\\bar{z} = a - bi$.\nTrong trường hợp này, $z = 12 + 5i$, vậy $\\bar{z} = 12 - 5i$.\n\nVậy, số phức liên hợp của $z$ là $12 - 5i$.\n\n",
         "\n$\\bar{z} = 12 - 5i$\n",
         "Both Correct",
         "No explanation provided"
        ],
        [
         "9",
         "9",
         "Cho số phức $z = 5 - 3i$. Tính $1 + \\overline{z} + (\\overline{z})^2$ ta được kết quả:",
         "Ta có $z = 5 - 3i \\Rightarrow \\overline{z} = 5 + 3i$ Suy ra : $1 + \\overline{z} + (\\overline{z})^2 = 1 + (5 + 3i) + (5 + 3i)^2 = (6 + 3i) + (25 + 30i - 9) = 22 + 33i$",
         "22 + 33i",
         "\nTa có số phức $z = 5 - 3i$. Khi đó, số phức liên hợp của $z$ là $\\overline{z} = 5 + 3i$.\n\nTa cần tính $1 + \\overline{z} + (\\overline{z})^2$. Thay $\\overline{z} = 5 + 3i$ vào biểu thức, ta được:\n\\begin{align*} 1 + \\overline{z} + (\\overline{z})^2 &= 1 + (5 + 3i) + (5 + 3i)^2 \\\\ &= 1 + (5 + 3i) + (25 + 30i + 9i^2) \\\\ &= 1 + (5 + 3i) + (25 + 30i - 9) \\\\ &= 1 + 5 + 3i + 16 + 30i \\\\ &= (1 + 5 + 16) + (3i + 30i) \\\\ &= 22 + 33i\\end{align*}\n\nVậy, $1 + \\overline{z} + (\\overline{z})^2 = 22 + 33i$.\n\n",
         "\n$22 + 33i$\n",
         "Both Correct",
         "No explanation provided"
        ],
        [
         "10",
         "10",
         "Cho số phức z thỏa $(1 + 3i)z - (2 + 5i) = (2 + i)z$. Tìm số phức liên hợp của số phức z.",
         "Theo giả thiết ta có: $(1 + 3i)z - (2 + 5i) = (2 + i)z \\Rightarrow (1 + 3i - 2 - i)z = 2 + 5i \\Leftrightarrow (-1 + 2i)z = 2 + 5i \\Rightarrow z = \\frac{2 + 5i}{-1 + 2i} = \\frac{8}{5} + \\frac{9}{5}i$",
         "$\\frac{8}{5} + \\frac{9}{5}i$",
         "\nTa có phương trình:\n$(1 + 3i)z - (2 + 5i) = (2 + i)z$\n\n$\\Leftrightarrow (1 + 3i)z - (2 + i)z = 2 + 5i$\n\n$\\Leftrightarrow (1 + 3i - 2 - i)z = 2 + 5i$\n\n$\\Leftrightarrow (-1 + 2i)z = 2 + 5i$\n\n$\\Leftrightarrow z = \\frac{2 + 5i}{-1 + 2i}$\n\n$\\Leftrightarrow z = \\frac{(2 + 5i)(-1 - 2i)}{(-1 + 2i)(-1 - 2i)}$\n\n$\\Leftrightarrow z = \\frac{-2 - 4i - 5i - 10i^2}{1 + 4}$\n\n$\\Leftrightarrow z = \\frac{-2 - 9i + 10}{5}$\n\n$\\Leftrightarrow z = \\frac{8 - 9i}{5}$\n\n$\\Leftrightarrow z = \\frac{8}{5} - \\frac{9}{5}i$\n\nSố phức liên hợp của $z$ là:\n$\\overline{z} = \\frac{8}{5} + \\frac{9}{5}i$\n\n",
         "\n$\\overline{z} = \\frac{8}{5} + \\frac{9}{5}i$\n",
         "Both Correct",
         "No explanation provided"
        ],
        [
         "11",
         "11",
         "Tìm số phức z, biết $z + 2i\\overline{z} + 4 = i$",
         "Gọi số phức z cần tìm là $z = a + bi$ ($a, b \\in R$). Số phức liên hợp với số phức z là: $\\overline{z} = a - bi$. Theo giả thiết: $z + 2i\\overline{z} + 4 = i \\Rightarrow a + bi + 2i(a - bi) + 4 = i \\Rightarrow a + bi + 2ai + 2b + 4 - i = 0 \\Rightarrow (a + 2b + 4) + (b + 2a - 1)i = 0 \\Rightarrow \\begin{cases} a + 2b = -4 \\\\ b + 2a = 1 \\end{cases} \\Rightarrow \\begin{cases} a = 2 \\\\ b = -3 \\end{cases}$ Suy ra $z = 2 - 3i$",
         "2 - 3i",
         "\nĐặt $z = x + yi$, với $x, y \\in \\mathbb{R}$. Khi đó $\\overline{z} = x - yi$.\nThay vào phương trình, ta có:\n$x + yi + 2i(x - yi) + 4 = i$\n$x + yi + 2xi - 2yi^2 + 4 = i$\n$x + yi + 2xi + 2y + 4 = i$\n$(x + 2y + 4) + (2x + y)i = i$\n\nĐồng nhất phần thực và phần ảo, ta được hệ phương trình:\n$\\begin{cases} x + 2y + 4 = 0 \\\\ 2x + y = 1 \\end{cases}$\nTừ phương trình thứ hai, ta có $y = 1 - 2x$. Thay vào phương trình thứ nhất:\n$x + 2(1 - 2x) + 4 = 0$\n$x + 2 - 4x + 4 = 0$\n$-3x + 6 = 0$\n$3x = 6$\n$x = 2$\n\nSuy ra $y = 1 - 2(2) = 1 - 4 = -3$\nVậy $z = 2 - 3i$.\n\n",
         "\n$z = 2 - 3i$\n",
         "Both Correct",
         "No explanation provided"
        ],
        [
         "12",
         "12",
         "Tìm số phức z, biết $|z| = \\sqrt{5}$, phần thực bằng 2 lần phần ảo và phần thực dương",
         "Cho số phức $z = a + bi$, ($a, b \\in R$) và $a > 0$. Do phần thực bằng 2 lần phần ảo nên: $a = 2b$ (1). mà $|z| = \\sqrt{5} \\Leftrightarrow \\sqrt{a^2 + b^2} = \\sqrt{5} \\Rightarrow a^2 + b^2 = 5$ (2). Từ (1) và (2) ta có hệ phương trình: $\\begin{cases} a = 2b \\\\ a^2 + b^2 = 5 \\end{cases} \\Leftrightarrow \\begin{cases} a = 2 \\\\ b = 1 \\end{cases}$ Vậy số phức cần tìm là $z = 2 + i$.",
         "2 + i",
         "\nGọi số phức $z = a + bi$, với $a, b \\in \\mathbb{R}$.\n\nTheo đề bài, ta có các điều kiện sau:\n1. $|z| = \\sqrt{5}$\n2. $a = 2b$\n3. $a > 0$\n\nTừ điều kiện 1, ta có:\n$|z| = \\sqrt{a^2 + b^2} = \\sqrt{5}$\n$\\Leftrightarrow a^2 + b^2 = 5$  (1)\n\nTừ điều kiện 2, ta có: $a = 2b$. Thay vào (1), ta được:\n$(2b)^2 + b^2 = 5$\n$4b^2 + b^2 = 5$\n$5b^2 = 5$\n$b^2 = 1$\n$b = \\pm 1$\n\nVậy, ta có hai trường hợp:\n* Trường hợp 1: $b = 1$, suy ra $a = 2b = 2(1) = 2$.  Vì $a = 2 > 0$, điều kiện 3 thỏa mãn. Vậy $z = 2 + i$.\n* Trường hợp 2: $b = -1$, suy ra $a = 2b = 2(-1) = -2$. Vì $a = -2 < 0$, điều kiện 3 không thỏa mãn.\n\nVậy, số phức cần tìm là $z = 2 + i$.\n\n",
         "\n$z = 2 + i$\n",
         "Both Correct",
         "No explanation provided"
        ],
        [
         "13",
         "13",
         "Cho số phức z có phần thực là số nguyên và z thỏa mãn: $|z| - 2\\overline{z} = -7 + 3i + z$. Tính môđun của số phức: $\\omega = 1 - z + z^2$",
         "Gọi số phức cần tìm là $z = a + bi$, ($a, b \\in R$). Số phức liên hợp của số phức z là: $\\overline{z} = a - bi$ và $|z| = \\sqrt{a^2 + b^2}$. Theo giả thiết ta có: $|z| - 2\\overline{z} = -7 + 3i + z \\Leftrightarrow \\sqrt{a^2 + b^2} - 2(a - bi) = -7 + 3i + a + bi \\Leftrightarrow \\begin{cases} \\sqrt{a^2 + b^2} - 2a = -7 + a \\\\ 2b = 3 + b \\end{cases} \\Leftrightarrow \\begin{cases} 8a^2 - 42a + 40 = 0 \\\\ b = 3 \\end{cases} \\Leftrightarrow \\begin{cases} a \\geq \\frac{7}{3} \\\\ b = 3 \\end{cases} \\Leftrightarrow \\begin{cases} a = 4 \\\\ b = 3 \\end{cases}$. vậy $z = 4 + 3i \\Rightarrow \\omega = 1 - (4 + 3i) + (4 + 3i)^2 = 4 + 21i \\Rightarrow |\\omega| = \\sqrt{4^2 + 21^2} = \\sqrt{457}$",
         "$\\sqrt{457}$",
         "\nGọi $z = a + bi$, với $a, b \\in \\mathbb{R}$ và $a \\in \\mathbb{Z}$. Ta có $\\overline{z} = a - bi$.\nTheo giả thiết: $|z| - 2\\overline{z} = -7 + 3i + z$, suy ra:\n$\\sqrt{a^2 + b^2} - 2(a - bi) = -7 + 3i + a + bi$\n$\\sqrt{a^2 + b^2} - 2a + 2bi = -7 + 3i + a + bi$\n$\\sqrt{a^2 + b^2} - 2a = -7 + a$ và $2b = 3 + b$.\nTừ $2b = 3 + b$ suy ra $b = 3$.\nTừ $\\sqrt{a^2 + b^2} - 2a = -7 + a$ suy ra $\\sqrt{a^2 + 3^2} = 3a - 7$.\n$\\sqrt{a^2 + 9} = 3a - 7$.\nĐiều kiện: $3a - 7 \\geq 0 \\Leftrightarrow a \\geq \\frac{7}{3}$.\nBình phương hai vế: $a^2 + 9 = (3a - 7)^2 = 9a^2 - 42a + 49$.\n$8a^2 - 42a + 40 = 0$\n$4a^2 - 21a + 20 = 0$\n$\\Delta = (-21)^2 - 4.4.20 = 441 - 320 = 121$.\n$a_1 = \\frac{21 + \\sqrt{121}}{8} = \\frac{21 + 11}{8} = \\frac{32}{8} = 4$.\n$a_2 = \\frac{21 - \\sqrt{121}}{8} = \\frac{21 - 11}{8} = \\frac{10}{8} = \\frac{5}{4} = 1.25$.\nDo $a \\in \\mathbb{Z}$ và $a \\geq \\frac{7}{3}$, nên $a = 4$.\nVậy $z = 4 + 3i$.\nTa có $\\omega = 1 - z + z^2 = 1 - (4 + 3i) + (4 + 3i)^2 = 1 - 4 - 3i + 16 + 24i - 9 = 4 + 21i$.\n$|\\omega| = \\sqrt{4^2 + 21^2} = \\sqrt{16 + 441} = \\sqrt{457}$.\n\n",
         "\n$\\sqrt{457}$\n",
         "Both Correct",
         "No explanation provided"
        ],
        [
         "14",
         "14",
         "Cho hai số phức $z_1$ và $z_2$ thỏa mãn $|z_1| = |z_2| = 1$; $|z_1 + z_2| = \\sqrt{3}$. Tính $|z_1 - z_2|$",
         "Ta có: $3 = |z_1 + z_2|^2 = (z_1 + z_2)(\\overline{z_1} + \\overline{z_2}) \\Rightarrow z_1 \\overline{z_2} + z_2 \\overline{z_1} + z_1 \\overline{z_1} + z_2 \\overline{z_2} = 3 \\Rightarrow z_1 \\overline{z_2} + z_2 \\overline{z_1} = 1$ Vì $|z_1| = |z_2| = 1$ nên $z_1 \\cdot \\overline{z_1} = 1$; $z_2 \\cdot \\overline{z_2} = 1$. Khi đó: $|z_1 - z_2|^2 = (z_1 - z_2)(\\overline{z_1} - \\overline{z_2}) = |z_1|^2 + |z_2|^2 - (z_1 \\overline{z_2} + z_2 \\overline{z_1}) = 1$",
         "1",
         "AI failed to generate a solution",
         "AI failed to generate an answer",
         "AI Not Generated",
         "No explanation provided"
        ],
        [
         "15",
         "15",
         "Cho số phức z thỏa mãn $|z + 3| = 5$ và $|z - 2i| = |z - 2 - 2i|$. Tính $|z|$.",
         "Gọi số phức z cần tìm là $z = a + bi$ ($a, b \\in R$). Ta có: $|z + 3| = 5 \\Leftrightarrow |a + bi + 3| = 5 \\Leftrightarrow (a + 3)^2 + b^2 = 25$ (*). $|z - 2i| = |z - 2 - 2i| \\Leftrightarrow |a + bi - 2i| = |a + bi - 2 - 2i| \\Leftrightarrow a^2 + (b - 2)^2 = (a - 2)^2 + (b - 2)^2 \\Leftrightarrow a^2 = (a - 2)^2 \\Leftrightarrow \\begin{cases} a - 2 = a \\\\ a - 2 = -a \\end{cases}$. Thế a = 1 vào (*) ta được $16 + b^2 = 25 \\Rightarrow b^2 = 9$. Do đó, môđun của z là: $|z| = \\sqrt{1^2 + 9} = \\sqrt{10}$",
         "$\\sqrt{10}$",
         "\nGọi $z = x + yi$, với $x, y \\in \\mathbb{R}$.\n\nTừ $|z + 3| = 5$, ta có $|x + yi + 3| = 5 \\Leftrightarrow |(x+3) + yi| = 5$. Suy ra $(x+3)^2 + y^2 = 25$. (1)\n\nTừ $|z - 2i| = |z - 2 - 2i|$, ta có $|x + yi - 2i| = |x + yi - 2 - 2i| \\Leftrightarrow |x + (y-2)i| = |(x-2) + (y-2)i|$. Suy ra $x^2 + (y-2)^2 = (x-2)^2 + (y-2)^2$.\nĐiều này tương đương $x^2 = (x-2)^2 \\Leftrightarrow x^2 = x^2 - 4x + 4 \\Leftrightarrow 4x = 4 \\Leftrightarrow x = 1$.\n\nThay $x = 1$ vào (1), ta có $(1+3)^2 + y^2 = 25 \\Leftrightarrow 16 + y^2 = 25 \\Leftrightarrow y^2 = 9 \\Leftrightarrow y = \\pm 3$.\n\nVậy $z = 1 + 3i$ hoặc $z = 1 - 3i$.\nKhi đó $|z| = \\sqrt{1^2 + 3^2} = \\sqrt{1 + 9} = \\sqrt{10}$.\n\nVậy $|z| = \\sqrt{10}$.\n\n",
         "\n$\\sqrt{10}$\n",
         "Both Correct",
         "No explanation provided"
        ],
        [
         "16",
         "16",
         "Cho số phức $z = 2m + (m + 2)i, (m \\in R)$. Tìm z biết rằng $z^2$ là một số phức có phần thực bằng -5.",
         "Ta có: $z^2 = 4m^2 + 2m(m + 2)i + [(m + 2)i]^2 = 3m^2 + 2m(m + 2)i - 4m - 4$. Do $z^2$ là số phức có phần thực bằng -5 nên ta có: $3m^2 - 4m - 4 = -5 \\Leftrightarrow 3m^2 - 4m + 1 = 0 \\Leftrightarrow m = 1; m = \\frac{1}{3}$. Vậy có hai số phức thỏa mãn là $z_1 = 2 + 3i$ và $z_2 = \\frac{2}{3} + \\frac{7}{3}i$.",
         "$z = 2 + 3i, z = \\frac{2}{3} + \\frac{7}{3}i$",
         "\nTa có $z = 2m + (m+2)i$. Khi đó:\n$z^2 = (2m + (m+2)i)^2 = (2m)^2 + 2(2m)(m+2)i + ((m+2)i)^2$\n$= 4m^2 + 4m(m+2)i - (m+2)^2 = 4m^2 - (m^2 + 4m + 4) + 4m(m+2)i$\n$= 4m^2 - m^2 - 4m - 4 + (4m^2 + 8m)i = (3m^2 - 4m - 4) + (4m^2 + 8m)i$.\n\nVì $z^2$ là một số phức có phần thực bằng -5, nên:\n$3m^2 - 4m - 4 = -5 \\Leftrightarrow 3m^2 - 4m + 1 = 0$.\nGiải phương trình bậc hai này, ta có:\n$\\Delta = (-4)^2 - 4(3)(1) = 16 - 12 = 4 > 0$.\nVậy, phương trình có hai nghiệm phân biệt:\n$m_1 = \\frac{-(-4) + \\sqrt{4}}{2(3)} = \\frac{4+2}{6} = \\frac{6}{6} = 1$\n$m_2 = \\frac{-(-4) - \\sqrt{4}}{2(3)} = \\frac{4-2}{6} = \\frac{2}{6} = \\frac{1}{3}$\n\nVới $m = 1$, ta có: $z = 2(1) + (1+2)i = 2 + 3i$.\nVới $m = \\frac{1}{3}$, ta có: $z = 2(\\frac{1}{3}) + (\\frac{1}{3} + 2)i = \\frac{2}{3} + \\frac{7}{3}i$.\n\nVậy, $z = 2 + 3i$ hoặc $z = \\frac{2}{3} + \\frac{7}{3}i$.\n\n",
         "\n$z = 2 + 3i$ hoặc $z = \\frac{2}{3} + \\frac{7}{3}i$.\n",
         "Both Correct",
         "No explanation provided"
        ],
        [
         "17",
         "17",
         "Cho số phức $z = m + (m-1)i$; ($m \\in R$) và số phức $z' = 2n + (2-3n)i$ ($n\\in R$). Tìm m và n biết rằng $z - z' = 1 + 7i$",
         "Ta có: $z - z' = [m + (m - 1).i] - [2n + (2 - 3n).i] = (m - 2n) + (m + 3n - 3). i$. Theo giả thiết $z - z' = 1 + 7i$ nên ta có: $(m - 2n) + (m + 3n - 3).i = 1 + 7i$. Từ đó ta có hệ phương trình sau: $\\begin{cases} m - 2n = 1 \\\\ m + 3n - 3 = 7 \\end{cases} \\Leftrightarrow \\begin{cases} m - 2n = 1 \\\\ m + 3n = 10 \\end{cases} \\Leftrightarrow \\begin{cases} m = \\frac{23}{5} \\\\ n = \\frac{9}{5} \\end{cases}$",
         "$m = \\frac{23}{5}; n = \\frac{9}{5}$",
         "\nTa có $z = m + (m-1)i$ và $z' = 2n + (2-3n)i$.\nTheo đề bài, $z - z' = 1 + 7i$.\nSuy ra, $m + (m-1)i - (2n + (2-3n)i) = 1 + 7i$.\nTương đương với $(m - 2n) + (m-1 - 2 + 3n)i = 1 + 7i$.\nTương đương với $(m - 2n) + (m + 3n - 3)i = 1 + 7i$.\nHai số phức bằng nhau khi phần thực bằng phần thực và phần ảo bằng phần ảo.\nDo đó, ta có hệ phương trình:\n$\\begin{cases}\nm - 2n = 1 \\\\\nm + 3n - 3 = 7\n\\end{cases}$\n$\\Leftrightarrow \\begin{cases}\nm - 2n = 1 \\\\\nm + 3n = 10\n\\end{cases}$\nLấy phương trình thứ hai trừ phương trình thứ nhất, ta được:\n$(m + 3n) - (m - 2n) = 10 - 1$\n$\\Leftrightarrow 5n = 9$\n$\\Leftrightarrow n = \\frac{9}{5}$\nThay $n = \\frac{9}{5}$ vào phương trình $m - 2n = 1$, ta được:\n$m - 2(\\frac{9}{5}) = 1$\n$\\Leftrightarrow m - \\frac{18}{5} = 1$\n$\\Leftrightarrow m = 1 + \\frac{18}{5} = \\frac{5}{5} + \\frac{18}{5} = \\frac{23}{5}$\nVậy, $m = \\frac{23}{5}$ và $n = \\frac{9}{5}$.\n\n",
         "\n$m = \\frac{23}{5}$\n$n = \\frac{9}{5}$\n",
         "Both Correct",
         "No explanation provided"
        ],
        [
         "18",
         "18",
         "Tìm số phức $z = x + yi, (x, y \\in R)$ thỏa mãn $z + 3x = 2\\overline{z} - 3i$. Tìm $|z|$",
         "Vì $z + 3x = 2\\overline{z} - 3i \\Leftrightarrow x + yi + 3x = 2(x - yi) - 3i \\Leftrightarrow 4x + yi = 2x - (2y + 3)i \\Leftrightarrow \\begin{cases} 4x = 2x \\\\ y = -2y - 3 \\end{cases} \\Leftrightarrow \\begin{cases} x = 0 \\\\ y = -1 \\end{cases}$. Do đó, số phức thỏa mãn đầu $z = -i$ và $|z| = 1$",
         "1",
         "\nTa có $z = x + yi$, với $x, y \\in \\mathbb{R}$. Khi đó $\\overline{z} = x - yi$.\nTheo đề bài, ta có:\n$z + 3x = 2\\overline{z} - 3i$\n$\\Leftrightarrow x + yi + 3x = 2(x - yi) - 3i$\n$\\Leftrightarrow 4x + yi = 2x - 2yi - 3i$\n$\\Leftrightarrow 4x + yi = 2x + (-2y - 3)i$\n$\\Leftrightarrow \\begin{cases} 4x = 2x \\\\ y = -2y - 3 \\end{cases}$\n$\\Leftrightarrow \\begin{cases} 2x = 0 \\\\ 3y = -3 \\end{cases}$\n$\\Leftrightarrow \\begin{cases} x = 0 \\\\ y = -1 \\end{cases}$\nVậy $z = 0 - i = -i$.\nDo đó, $|z| = \\sqrt{0^2 + (-1)^2} = \\sqrt{1} = 1$.\n\n",
         "\n$|z| = 1$\n",
         "Correct Answer, Wrong Explanation",
         "No explanation provided"
        ],
        [
         "19",
         "19",
         "Có bao nhiêu số phức z có phần ảo gấp ba lần phần thực, đồng thời $|z| = \\sqrt{10}(z + \\overline{z})$",
         "Gọi số phức cần tìm là $z = a + bi$, ($a, b \\in R$). Do số phức z có phần ảo gấp ba lần phần thực nên b = 3a. $\\Rightarrow$ Số phức cần tìm có dạng: $z = a + 3ai$. Số phức liên hợp của số phức z là: $\\overline{z} = a - 3ai$. Theo giả thiết ta có: $|z| = \\sqrt{10}(z + \\overline{z}) \\Leftrightarrow \\sqrt{a^2 + 9a^2} = \\sqrt{10}(a + 3ai + a - 3ai) \\Leftrightarrow \\sqrt{10a^2} = \\sqrt{20}a \\Leftrightarrow 10a^2 = 20a \\Leftrightarrow \\begin{cases} a = 0 \\\\ a = 2 \\end{cases}$. Với a = 0 thì z = 0. Với a = 2 thì z = 2 + 6i. Vậy có hai số phức thỏa mãn là z = 0 hoặc z = 2 + 6i.",
         "2",
         "\nGọi số phức $z = x + yi$, với $x, y \\in \\mathbb{R}$.\nTheo đề bài, phần ảo gấp ba lần phần thực, nên $y = 3x$. Vậy $z = x + 3xi$.\nTa có $\\overline{z} = x - 3xi$.\n$|z| = \\sqrt{x^2 + (3x)^2} = \\sqrt{x^2 + 9x^2} = \\sqrt{10x^2} = |x|\\sqrt{10}$.\n$z + \\overline{z} = (x + 3xi) + (x - 3xi) = 2x$.\nTheo giả thiết $|z| = \\sqrt{10}(z + \\overline{z})$, ta có $|x|\\sqrt{10} = \\sqrt{10}(2x)$.\nSuy ra $|x|\\sqrt{10} = 2x\\sqrt{10}$.\nChia cả hai vế cho $\\sqrt{10}$ (vì $\\sqrt{10} \\neq 0$), ta được $|x| = 2x$.\nXét hai trường hợp:\n1. $x \\geq 0$, khi đó $|x| = x$. Phương trình trở thành $x = 2x \\Leftrightarrow x = 0$. Vậy $x = 0$, suy ra $y = 3x = 0$. Vậy $z = 0$.\n2. $x < 0$, khi đó $|x| = -x$. Phương trình trở thành $-x = 2x \\Leftrightarrow 3x = 0 \\Leftrightarrow x = 0$. Điều này mâu thuẫn với điều kiện $x < 0$.\nVậy chỉ có một nghiệm duy nhất là $z = 0$.\n\nTuy nhiên, ta cần kiểm tra lại $z=0$ có thỏa mãn hay không. Khi $z=0$, $|z| = 0$ và $z + \\overline{z} = 0 + 0 = 0$. Vậy $|z| = \\sqrt{10}(z + \\overline{z})$ trở thành $0 = \\sqrt{10}(0)$, hay $0 = 0$, điều này đúng.\n\nVậy có một số phức thỏa mãn điều kiện đề bài là $z = 0$.\n\n",
         "\n1\n",
         "Wrong Answer, Correct Explanation",
         "No explanation provided"
        ],
        [
         "20",
         "20",
         "Trong mặt phẳng Oxy cho điểm A là điểm biểu diễn của số phức $z = 1 + 2i$, B là điểm thuộc đường thẳng y=2 sao cho tam giác OAB cân tại O. Tìm số z biểu diễn B.",
         "Ta có, điểm A biểu diễn số phức $z = 1 + 2i$ nên tọa độ A(1 ; 2). Do điểm B nằm trên đường thẳng y=2 nên tọa độ B(x ; 2) ; (x $\\neq$ 1 ). Để tam giác OAB cân tại O khi và chỉ khi OA = OB. $\\Leftrightarrow \\sqrt{1^2 + 2^2} = \\sqrt{x^2 + 2^2} \\Leftrightarrow x^2 + 4 = 5 \\Leftrightarrow \\begin{cases} x = 1 (l) \\\\ x = -1 \\end{cases}$. Suy ra, tọa độ B (-1 ; 2). Do đó,số phức biểu diễn B là $z = -1 + 2i$.",
         "-1 + 2i",
         "\nGọi $B(x; 2)$ là điểm biểu diễn số phức cần tìm.\nVì tam giác $OAB$ cân tại $O$ nên $OA = OB$. Ta có:\n$OA = |z| = \\sqrt{1^2 + 2^2} = \\sqrt{5}$\n$OB = \\sqrt{x^2 + 2^2} = \\sqrt{x^2 + 4}$\nDo $OA = OB$ nên $\\sqrt{5} = \\sqrt{x^2 + 4} \\Leftrightarrow 5 = x^2 + 4 \\Leftrightarrow x^2 = 1 \\Leftrightarrow x = \\pm 1$.\nVậy $B(1; 2)$ hoặc $B(-1; 2)$.\nSố phức biểu diễn $B$ là $1 + 2i$ hoặc $-1 + 2i$.\n",
         "\nSố phức z biểu diễn B là $z = 1 + 2i$ hoặc $z = -1 + 2i$.\n",
         "Correct Answer, Wrong Explanation",
         "No explanation provided"
        ],
        [
         "21",
         "21",
         "Cho số phức z thỏa mãn: $(2 + i)z + 2 - i = 0$. Tìm phần thực của số phức.",
         "Ta có: $(2 + i).z + 2 - i = 0 \\Leftrightarrow (2 + i)z = -2 + i \\Leftrightarrow z = \\frac{-2 + i}{2 + i} = \\frac{(-2 + i)(2 - i)}{(2 + i).(2 - i)} \\Leftrightarrow z = \\frac{-4 + 2i + 2i - i^2}{4 - i^2} = \\frac{-3 + 4i}{5}$. Do đó, phần thực của số phức cần tìm là $\\frac{-3}{5}$",
         "$\\frac{-3}{5}$",
         "\nTa có: $(2 + i)z + 2 - i = 0$\n$\\Leftrightarrow (2+i)z = -2 + i$\n$\\Leftrightarrow z = \\frac{-2+i}{2+i}$\n$\\Leftrightarrow z = \\frac{(-2+i)(2-i)}{(2+i)(2-i)}$\n$\\Leftrightarrow z = \\frac{-4 + 2i + 2i - i^2}{4 - i^2}$\n$\\Leftrightarrow z = \\frac{-4 + 4i + 1}{4 + 1}$\n$\\Leftrightarrow z = \\frac{-3 + 4i}{5}$\n$\\Leftrightarrow z = -\\frac{3}{5} + \\frac{4}{5}i$\nVậy phần thực của số phức $z$ là $-\\frac{3}{5}$.\n\n",
         "\n$-\\frac{3}{5}$\n",
         "Both Correct",
         "No explanation provided"
        ],
        [
         "22",
         "22",
         "Giải phương trình $iz + 3 - 2i = 1 + i$",
         "Ta có: $iz + 3 - 2i = 1 + i \\Leftrightarrow iz = 1 + i - 3 + 2i \\Leftrightarrow iz = -2 + 3i \\Leftrightarrow z = \\frac{-2 + 3i}{i} = \\frac{2i - 3i^2}{-i^2} = 3 + 2i$",
         "3 + 2i",
         "\nTa có phương trình $iz + 3 - 2i = 1 + i$.\nĐể giải phương trình này, ta thực hiện các bước sau:\n1. Chuyển các số hạng không chứa $z$ sang vế phải:\n$iz = 1 + i - 3 + 2i$\n2. Rút gọn vế phải:\n$iz = (1 - 3) + (1 + 2)i$\n$iz = -2 + 3i$\n3. Chia cả hai vế cho $i$:\n$z = \\frac{-2 + 3i}{i}$\n4. Nhân cả tử và mẫu với $-i$ để khử $i$ ở mẫu:\n$z = \\frac{(-2 + 3i)(-i)}{i(-i)}$\n$z = \\frac{2i - 3i^2}{-i^2}$\n5. Vì $i^2 = -1$, ta có:\n$z = \\frac{2i - 3(-1)}{-(-1)}$\n$z = \\frac{2i + 3}{1}$\n$z = 3 + 2i$\n\nVậy, nghiệm của phương trình là $z = 3 + 2i$.\n\n",
         "\n$z = 3 + 2i$\n",
         "Both Correct",
         "No explanation provided"
        ],
        [
         "23",
         "23",
         "Giải phương trình: $(2 + 4i)z + (4 - 2i)z + 2 - 2i = 0$",
         "Ta có: $(2 + 4i).z + (4 - 2i)z + 2 - 2i = 0 \\Leftrightarrow (2 + 4i + 4 - 2i)z = - 2 + 2i \\Leftrightarrow (6 + 2i). z = - 2 + 2i \\Leftrightarrow z = \\frac{-2 + 2i}{6 + 2i} = \\frac{-1 + i}{3 + i} \\Leftrightarrow z = \\frac{(-1 + i).(3 - i)}{(3 + i)(3 - i)} \\Leftrightarrow z = \\frac{-3 + i + 3i - i^2}{9 - i^2} = \\frac{-2 + 4i}{10} = \\frac{-1 + 2i}{5}$",
         "$\\frac{-1 + 2i}{5}$",
         "\nTa có phương trình:\n$(2 + 4i)z + (4 - 2i)\\overline{z} + 2 - 2i = 0$\n\nĐặt $z = x + yi$, với $x, y \\in \\mathbb{R}$. Khi đó $\\overline{z} = x - yi$. Thay vào phương trình, ta được:\n\n$(2 + 4i)(x + yi) + (4 - 2i)(x - yi) + 2 - 2i = 0$\n\n$2x + 2yi + 4xi - 4y + 4x - 4yi - 2xi - 2y + 2 - 2i = 0$\n\n$(2x - 4y + 4x - 2y + 2) + (2y + 4x - 4y - 2x - 2)i = 0$\n\n$(6x - 6y + 2) + (2x - 2y - 2)i = 0$\n\nĐể phương trình trên bằng 0 thì phần thực và phần ảo đều phải bằng 0:\n\n$\\begin{cases}\n6x - 6y + 2 = 0 \\\\\n2x - 2y - 2 = 0\n\\end{cases}$\n\n$\\begin{cases}\n3x - 3y + 1 = 0 \\\\\nx - y - 1 = 0\n\\end{cases}$\n\n$\\begin{cases}\n3x - 3y + 1 = 0 \\\\\nx - y = 1\n\\end{cases}$\n\nThay $x - y = 1$ vào phương trình đầu, ta được:\n\n$3(x - y) + 1 = 0$\n\n$3(1) + 1 = 0$\n\n$4 = 0$\n\nPhương trình vô nghiệm.\n\n",
         "\nPhương trình vô nghiệm.\n",
         "Both Incorrect",
         "No explanation provided"
        ],
        [
         "24",
         "24",
         "Giải phương trình $(1 + 2i)z + \\frac{2 + 6i}{1 - i} = 0$",
         "Ta có: $(1 + 2i)z + \\frac{2 + 6i}{1 - i} = 0 \\Leftrightarrow (1 + 2i)z = \\frac{-2 - 6i}{1 - i} \\Leftrightarrow (1 + 2i)z = \\frac{(-2 - 6i).(1 + i)}{(1 - i)(1 + i)} \\Leftrightarrow (1 + 2i)z = \\frac{-2 - 2i - 6i - 6i^2}{2} \\Leftrightarrow (1 + 2i)z = \\frac{4 - 8i}{2} \\Leftrightarrow (1 + 2i)z = -2 + 4i \\Leftrightarrow z = \\frac{-2 + 4i}{1 + 2i} = \\frac{(-2 + 4i)(1 - 2i)}{(1 + 2i)(1 - 2i)} \\Leftrightarrow z = \\frac{-2 + 4i + 4i - 8i^2}{1 - 4i^2} \\Leftrightarrow z = \\frac{6 + 8i}{5}$",
         "$\\frac{6 + 8i}{5}$",
         "\nĐể giải phương trình $(1 + 2i)z + \\frac{2 + 6i}{1 - i} = 0$, ta thực hiện các bước sau:\n\n1. **Rút gọn biểu thức phức:**\n\nTa có $\\frac{2 + 6i}{1 - i} = \\frac{(2 + 6i)(1 + i)}{(1 - i)(1 + i)} = \\frac{2 + 2i + 6i + 6i^2}{1 - i^2} = \\frac{2 + 8i - 6}{1 + 1} = \\frac{-4 + 8i}{2} = -2 + 4i$.\n\n2. **Thay vào phương trình:**\n\nPhương trình trở thành $(1 + 2i)z + (-2 + 4i) = 0$.\n\n3. **Giải phương trình tìm z:**\n\n$(1 + 2i)z = 2 - 4i$\n$z = \\frac{2 - 4i}{1 + 2i} = \\frac{(2 - 4i)(1 - 2i)}{(1 + 2i)(1 - 2i)} = \\frac{2 - 4i - 4i + 8i^2}{1 - 4i^2} = \\frac{2 - 8i - 8}{1 + 4} = \\frac{-6 - 8i}{5} = -\\frac{6}{5} - \\frac{8}{5}i$.\n\nVậy, nghiệm của phương trình là $z = -\\frac{6}{5} - \\frac{8}{5}i$.\n\n",
         "\n$z = -\\frac{6}{5} - \\frac{8}{5}i$\n",
         "Both Incorrect",
         "No explanation provided"
        ],
        [
         "25",
         "25",
         "Giải phương trình bậc hai sau: $z^2 - z + 1 = 0$",
         "Ta có: a = 1 ; b = -1 ; c = 1 nên $\\Delta = b^2 - 4ac = -3 < 0$. Phương trình có hai nghiệm phức phân biệt là $x_{1,2} = \\frac{1 \\pm i\\sqrt{3}}{2}$",
         "$\\frac{1 \\pm i\\sqrt{3}}{2}$",
         "\nĐể giải phương trình bậc hai $z^2 - z + 1 = 0$, ta có thể sử dụng công thức nghiệm của phương trình bậc hai.\n\nBước 1: Tính $\\Delta$ (delta)\n\n$\\Delta = b^2 - 4ac = (-1)^2 - 4(1)(1) = 1 - 4 = -3$\n\nBước 2: Tìm nghiệm\n\nVì $\\Delta < 0$, phương trình có hai nghiệm phức phân biệt:\n$z_{1,2} = \\frac{-b \\pm \\sqrt{\\Delta}}{2a} = \\frac{-(-1) \\pm \\sqrt{-3}}{2(1)} = \\frac{1 \\pm \\sqrt{3}i}{2}$\n\nVậy, ta có hai nghiệm phức:\n$z_1 = \\frac{1}{2} + \\frac{\\sqrt{3}}{2}i$\n$z_2 = \\frac{1}{2} - \\frac{\\sqrt{3}}{2}i$\n\n",
         "\n$z_1 = \\frac{1}{2} + \\frac{\\sqrt{3}}{2}i$\n$z_2 = \\frac{1}{2} - \\frac{\\sqrt{3}}{2}i$\n",
         "Both Correct",
         "No explanation provided"
        ],
        [
         "26",
         "26",
         "Trong C , nghiệm của phương trình $z^2 + \\sqrt{5} = 0$ là:",
         "$z^2 + \\sqrt{5} = 0 \\Leftrightarrow z^2 = -\\sqrt{5} \\Leftrightarrow z^2 = i^2\\sqrt{5} \\Leftrightarrow z = \\pm i^4\\sqrt{5}$",
         "$\\pm i^4\\sqrt{5}$",
         "\nĐể giải phương trình $z^2 + \\sqrt{5} = 0$ trong tập số phức $\\mathbb{C}$, ta thực hiện các bước sau:\n\n1. **Chuyển vế:**\n$z^2 = -\\sqrt{5}$\n\n2. **Biểu diễn số phức:**\nTa có thể viết $-\\sqrt{5} = \\sqrt{5} \\cdot (-1) = \\sqrt{5} \\cdot e^{i\\pi}$ (hoặc $\\sqrt{5}(\\cos \\pi + i \\sin \\pi)$).\n\n3. **Tìm căn bậc hai:**\nTa cần tìm $z$ sao cho $z^2 = \\sqrt{5} e^{i\\pi}$.  \nĐặt $z = re^{i\\theta}$. Khi đó, $z^2 = r^2 e^{2i\\theta}$.\nVậy, $r^2 e^{2i\\theta} = \\sqrt{5} e^{i\\pi}$.\nSuy ra, $r^2 = \\sqrt{5}$ và $2\\theta = \\pi + 2k\\pi$, với $k \\in \\mathbb{Z}$.\n\n4. **Giải tìm $r$ và $\\theta$:**\n- $r = \\sqrt[4]{5}$ (vì $r > 0$).\n- $\\theta = \\frac{\\pi}{2} + k\\pi$, với $k \\in \\mathbb{Z}$.\n\n5. **Tìm các nghiệm phân biệt:**\nVới $k=0$, ta có $\\theta_1 = \\frac{\\pi}{2}$, suy ra $z_1 = \\sqrt[4]{5} e^{i\\frac{\\pi}{2}} = \\sqrt[4]{5} (\\cos \\frac{\\pi}{2} + i \\sin \\frac{\\pi}{2}) = \\sqrt[4]{5} i$.\nVới $k=1$, ta có $\\theta_2 = \\frac{3\\pi}{2}$, suy ra $z_2 = \\sqrt[4]{5} e^{i\\frac{3\\pi}{2}} = \\sqrt[4]{5} (\\cos \\frac{3\\pi}{2} + i \\sin \\frac{3\\pi}{2}) = -\\sqrt[4]{5} i$.\n\nVậy, hai nghiệm của phương trình là $z_1 = i\\sqrt[4]{5}$ và $z_2 = -i\\sqrt[4]{5}$.\n\n",
         "\n$z = \\pm i\\sqrt[4]{5}$\n",
         "Both Incorrect",
         "No explanation provided"
        ],
        [
         "27",
         "27",
         "Trong C , nghiệm của phương trình $z^3 - 8 = 0$ là:",
         "Sử dụng hằng đẳng thức số 7, ta có: $z^3 - 8 = 0 \\Leftrightarrow (z - 2)(z^2 + 2z + 4) = 0 \\Leftrightarrow \\begin{bmatrix} z = 2 \\\\ z^2 + 2z + 4 = 0 \\end{bmatrix} \\Leftrightarrow \\begin{bmatrix} z = 2 \\\\ (z + 1)^2 = -3 \\end{bmatrix} \\Leftrightarrow \\begin{bmatrix} z = 2 \\\\ z + 1 = \\sqrt{3}i \\\\ z + 1 = -\\sqrt{3}i \\end{bmatrix} \\Leftrightarrow \\begin{bmatrix} z = 2 \\\\ z = -1 + \\sqrt{3}i \\\\ z = -1 - \\sqrt{3}i \\end{bmatrix}$. Vậy phương trình đã cho có 3 nghiệm phân biệt.",
         "$\\begin{bmatrix} z = 2 \\\\ z = -1 + \\sqrt{3}i \\\\ z = -1 - \\sqrt{3}i \\end{bmatrix}$",
         "\nTa có phương trình: $z^3 - 8 = 0$\n$\\Leftrightarrow z^3 = 8$\n$\\Leftrightarrow z^3 = 8(\\cos 0 + i\\sin 0)$\n\nCác nghiệm của phương trình là:\n$z_k = \\sqrt[3]{8} \\left( \\cos \\frac{0 + 2k\\pi}{3} + i \\sin \\frac{0 + 2k\\pi}{3} \\right)$, với $k = 0, 1, 2$.\n\n*   Với $k = 0$:\n    $z_0 = 2(\\cos 0 + i\\sin 0) = 2(1 + i\\cdot 0) = 2$\n\n*   Với $k = 1$:\n    $z_1 = 2\\left(\\cos \\frac{2\\pi}{3} + i\\sin \\frac{2\\pi}{3}\\right) = 2\\left(-\\frac{1}{2} + i\\frac{\\sqrt{3}}{2}\\right) = -1 + i\\sqrt{3}$\n\n*   Với $k = 2$:\n    $z_2 = 2\\left(\\cos \\frac{4\\pi}{3} + i\\sin \\frac{4\\pi}{3}\\right) = 2\\left(-\\frac{1}{2} - i\\frac{\\sqrt{3}}{2}\\right) = -1 - i\\sqrt{3}$\n\nVậy, nghiệm của phương trình $z^3 - 8 = 0$ là $z = 2, z = -1 + i\\sqrt{3}, z = -1 - i\\sqrt{3}$.\n\n",
         "\n$z = 2, z = -1 + i\\sqrt{3}, z = -1 - i\\sqrt{3}$\n",
         "Both Correct",
         "No explanation provided"
        ],
        [
         "28",
         "28",
         "Trong C , phương trình $z^2 + 3iz + 4 = 0$ có nghiệm là:",
         "Ta có : a = 1 ; b = i ; c = 4 nên : $\\Delta = b^2 - 4ac = (3i)^2 - 4.1.4 = -25 < 0$. Phương trình có hai nghiệm phức là: $z_1 = \\frac{-3i + 5i}{2} = i$ và $z_2 = \\frac{-3i - 5i}{2} = -4i$",
         "$\\begin{bmatrix} z = i \\\\ z = -4i \\end{bmatrix}$",
         "\nĐể giải phương trình bậc hai $z^2 + 3iz + 4 = 0$ trong tập số phức $\\mathbb{C}$, ta sử dụng công thức nghiệm của phương trình bậc hai:\n$z = \\frac{-b \\pm \\sqrt{\\Delta}}{2a}$, trong đó $\\Delta = b^2 - 4ac$.\n\nTrong trường hợp này, ta có $a = 1$, $b = 3i$, và $c = 4$.\nTính $\\Delta$:\n$\\Delta = (3i)^2 - 4(1)(4) = 9i^2 - 16 = -9 - 16 = -25$.\n\nVì $\\Delta = -25 < 0$, ta có hai nghiệm phức phân biệt.\nTa cần tìm căn bậc hai của $\\Delta = -25$. Đặt $\\sqrt{\\Delta} = w = x + iy$, với $x, y \\in \\mathbb{R}$.\nKhi đó, $w^2 = (x + iy)^2 = x^2 - y^2 + 2ixy = -25$.\nSuy ra, $x^2 - y^2 = -25$ và $2xy = 0$.\nTừ $2xy = 0$, ta có $x = 0$ hoặc $y = 0$.\n\nNếu $x = 0$, thì $-y^2 = -25$, suy ra $y^2 = 25$, do đó $y = \\pm 5$.\nVậy, $w = \\pm 5i$.\n\nNếu $y = 0$, thì $x^2 = -25$, điều này không thể xảy ra vì $x \\in \\mathbb{R}$.\nVậy, $\\sqrt{\\Delta} = \\pm 5i$.\n\nÁp dụng công thức nghiệm:\n$z = \\frac{-3i \\pm 5i}{2(1)} = \\frac{-3i \\pm 5i}{2}$.\n$z_1 = \\frac{-3i + 5i}{2} = \\frac{2i}{2} = i$.\n$z_2 = \\frac{-3i - 5i}{2} = \\frac{-8i}{2} = -4i$.\n\nVậy, nghiệm của phương trình là $z_1 = i$ và $z_2 = -4i$.\n\n",
         "\n$z = i$ hoặc $z = -4i$\n",
         "Both Correct",
         "No explanation provided"
        ],
        [
         "29",
         "29",
         "Cho z = 1 - i. Tìm căn bậc hai dạng lượng giác của z:",
         "Ta có $z = 1 - i = \\sqrt{2} \\begin{bmatrix} cos(-\\frac{\\pi}{4}) + i sin(-\\frac{\\pi}{4}) \\end{bmatrix}$ có các căn bậc hai là: $w_1 = ^4\\sqrt{2}(cos(\\frac{7\\pi}{8}) + i sin(\\frac{7\\pi}{8})) ; w_2 = ^4\\sqrt{2}(cos(-\\frac{\\pi}{8}) + i sin(-\\frac{-\\pi}{8}))$",
         "$^4\\sqrt{2}(cos(\\frac{7\\pi}{8}) + i sin(\\frac{7\\pi}{8})) ; ^4\\sqrt{2}(cos(-\\frac{\\pi}{8}) + i sin(-\\frac{-\\pi}{8}))$",
         "\n**Bước 1: Biểu diễn số phức $z$ dưới dạng lượng giác**\n\nSố phức $z = 1 - i$ có phần thực $a = 1$ và phần ảo $b = -1$.\nTính mô-đun của $z$:\n$r = |z| = \\sqrt{a^2 + b^2} = \\sqrt{1^2 + (-1)^2} = \\sqrt{2}$.\n\nTính argument của $z$:\n$\\tan(\\theta) = \\frac{b}{a} = \\frac{-1}{1} = -1$.\nVì $a > 0$ và $b < 0$, $\\theta$ nằm trong góc phần tư thứ IV. Do đó, $\\theta = -\\frac{\\pi}{4}$.\n\nVậy, dạng lượng giác của $z$ là:\n$z = \\sqrt{2}\\left(\\cos\\left(-\\frac{\\pi}{4}\\right) + i\\sin\\left(-\\frac{\\pi}{4}\\right)\\right)$.\n\n**Bước 2: Tìm căn bậc hai của $z$**\n\nGọi $w = \\rho(\\cos(\\phi) + i\\sin(\\phi))$ là một căn bậc hai của $z$. Khi đó, $w^2 = z$.\n$w^2 = \\rho^2(\\cos(2\\phi) + i\\sin(2\\phi)) = \\sqrt{2}\\left(\\cos\\left(-\\frac{\\pi}{4}\\right) + i\\sin\\left(-\\frac{\\pi}{4}\\right)\\right)$.\n\nTừ đó, ta có:\n$\\rho^2 = \\sqrt{2} \\Rightarrow \\rho = \\sqrt[4]{2}$\n$2\\phi = -\\frac{\\pi}{4} + k2\\pi$, với $k \\in \\{0, 1\\}$.\n\n*   Trường hợp $k=0$:\n    $2\\phi = -\\frac{\\pi}{4} \\Rightarrow \\phi = -\\frac{\\pi}{8}$\n    $w_1 = \\sqrt[4]{2}\\left(\\cos\\left(-\\frac{\\pi}{8}\\right) + i\\sin\\left(-\\frac{\\pi}{8}\\right)\\right)$\n\n*   Trường hợp $k=1$:\n    $2\\phi = -\\frac{\\pi}{4} + 2\\pi = \\frac{7\\pi}{4} \\Rightarrow \\phi = \\frac{7\\pi}{8}$\n    $w_2 = \\sqrt[4]{2}\\left(\\cos\\left(\\frac{7\\pi}{8}\\right) + i\\sin\\left(\\frac{7\\pi}{8}\\right)\\right)$\n\nVậy, hai căn bậc hai của $z$ là:\n$w_1 = \\sqrt[4]{2}\\left(\\cos\\left(-\\frac{\\pi}{8}\\right) + i\\sin\\left(-\\frac{\\pi}{8}\\right)\\right)$ và\n$w_2 = \\sqrt[4]{2}\\left(\\cos\\left(\\frac{7\\pi}{8}\\right) + i\\sin\\left(\\frac{7\\pi}{8}\\right)\\right)$.\n",
         "\nCác căn bậc hai của $z = 1 - i$ là:\n$w_1 = \\sqrt[4]{2}\\left(\\cos\\left(-\\frac{\\pi}{8}\\right) + i\\sin\\left(-\\frac{\\pi}{8}\\right)\\right)$\n$w_2 = \\sqrt[4]{2}\\left(\\cos\\left(\\frac{7\\pi}{8}\\right) + i\\sin\\left(\\frac{7\\pi}{8}\\right)\\right)$\n",
         "Both Correct",
         "No explanation provided"
        ],
        [
         "30",
         "30",
         "Tìm các căn bậc hai của $w = -5 + 12i$.",
         "Gọi $z = x + yi$ là một căn bậc hai của số phức $w = -5 + 12i$. Ta có $z^2 = w <=>$ $(x + yi)^2 = -5 + 12i$ $<=> \\begin{cases} x^2 - y^2 = -5 \\\\ 2xy = 12 \\end{cases} <=> \\begin{cases} x^2 = 4 \\\\ y = \\frac{6}{x} \\end{cases} <=> \\begin{cases} x = 2 \\\\ y = 3 \\end{cases} \\\\  \\begin{cases} x = -2 \\\\ y = -3 \\end{cases}$ Vậy số phức w có hai căn bậc hai là $2 + 3i$ và $-2 - 3i$.",
         "$2 + 3i$ và $-2 - 3i$",
         "\nĐể tìm căn bậc hai của số phức $w = -5 + 12i$, ta cần tìm một số phức $z = x + yi$ sao cho $z^2 = w$.\nTa có:\n$(x + yi)^2 = -5 + 12i$\n$x^2 + 2xyi - y^2 = -5 + 12i$\n$(x^2 - y^2) + 2xyi = -5 + 12i$\n\nTừ đó, ta có hệ phương trình:\n$\\begin{cases}\nx^2 - y^2 = -5 \\\\\n2xy = 12\n\\end{cases}$\n\nTừ phương trình thứ hai, ta có $y = \\frac{6}{x}$. Thay vào phương trình thứ nhất:\n$x^2 - \\left(\\frac{6}{x}\\right)^2 = -5$\n$x^2 - \\frac{36}{x^2} = -5$\n$x^4 - 36 = -5x^2$\n$x^4 + 5x^2 - 36 = 0$\nĐặt $t = x^2$, ta có:\n$t^2 + 5t - 36 = 0$\n$(t + 9)(t - 4) = 0$\n$t = -9$ hoặc $t = 4$\nVì $x$ là số thực, nên $x^2$ phải không âm. Vậy $t = x^2 = 4$.\n$x = 2$ hoặc $x = -2$\n\nNếu $x = 2$, thì $y = \\frac{6}{2} = 3$. Vậy $z = 2 + 3i$.\nNếu $x = -2$, thì $y = \\frac{6}{-2} = -3$. Vậy $z = -2 - 3i$.\n\nVậy các căn bậc hai của $w = -5 + 12i$ là $2 + 3i$ và $-2 - 3i$.\n\n",
         "\nCác căn bậc hai của $w = -5 + 12i$ là $2 + 3i$ và $-2 - 3i$.\n",
         "Both Correct",
         "No explanation provided"
        ],
        [
         "31",
         "31",
         "Khai căn bậc hai số phức $z = -3 + 4i$ có kết quả:",
         "Giả sử $w = x + yi$ là một căn bậc hai của số phức $z = -3 + 4i$. Ta có: $w^2 = z <=> (x + yi)^2 = -3 + 4i$ $<=> \\begin{cases} x^2 - y^2 = -3 \\\\ 2xy = 4 \\end{cases} <=> \\begin{cases} x^2 = 1 \\\\ y = \\frac{2}{x} \\end{cases} <=> \\begin{cases} x = 1 \\\\ y = 2 \\end{cases} \\\\  \\begin{cases} x = -1 \\\\ y = -2 \\end{cases}$ Do đó z có hai căn bậc hai là: $z_1 = 1 + 2i$ và $z_2 = -1 - 2i$",
         "$z_1 = 1 + 2i$ và $z_2 = -1 - 2i$",
         "\nĐặt $w = x + yi$ là căn bậc hai của $z = -3 + 4i$, với $x, y \\in \\mathbb{R}$. Ta có:\n$w^2 = z$\n$(x + yi)^2 = -3 + 4i$\n$x^2 + 2xyi - y^2 = -3 + 4i$\n$(x^2 - y^2) + 2xyi = -3 + 4i$\n\nTa có hệ phương trình:\n$\\begin{cases} x^2 - y^2 = -3 \\\\ 2xy = 4 \\end{cases}$\n$\\Leftrightarrow \\begin{cases} x^2 - y^2 = -3 \\\\ xy = 2 \\end{cases}$\nTừ $xy = 2 \\Rightarrow y = \\frac{2}{x}$. Thay vào phương trình trên, ta có:\n$x^2 - (\\frac{2}{x})^2 = -3$\n$x^2 - \\frac{4}{x^2} = -3$\n$x^4 - 4 = -3x^2$\n$x^4 + 3x^2 - 4 = 0$\nĐặt $t = x^2$ ($t \\ge 0$), ta có:\n$t^2 + 3t - 4 = 0$\n$(t - 1)(t + 4) = 0$\n$t = 1$ hoặc $t = -4$ (loại)\nVậy $x^2 = 1 \\Rightarrow x = \\pm 1$.\n\nNếu $x = 1$, thì $y = \\frac{2}{1} = 2$.\nNếu $x = -1$, thì $y = \\frac{2}{-1} = -2$.\n\nVậy, các căn bậc hai của $z$ là $1 + 2i$ và $-1 - 2i$.\n\n",
         "\n$1 + 2i$ và $-1 - 2i$\n",
         "Both Correct",
         "No explanation provided"
        ],
        [
         "32",
         "32",
         "Tính căn bậc hai của số phức $z = 8 + 6i$ ra kết quả:",
         "Giả sử $w = x + yi$ là một căn bậc hai của số phức $z = 8 + 6i$. $w^2 = z <=> (x + yi)^2 = 8 + 6i <=> \\begin{cases} x^2 - y^2 = 8 \\\\ 2xy = 6 \\end{cases} <=> \\begin{cases} x^2 = 9 \\\\ y = \\frac{3}{x} \\end{cases} <=> \\begin{cases} x = 3 \\\\ y = 1 \\end{cases} \\\\  \\begin{cases} x = -3 \\\\ y = -1 \\end{cases}$ Ta có: Do đó z có hai căn bậc hai là: $\\begin{bmatrix} z_1 = 3 + i \\\\ z_2 = -3 - i \\end{bmatrix}$",
         "$\\begin{bmatrix} z_1 = 3 + i \\\\ z_2 = -3 - i \\end{bmatrix}$",
         "\nĐể tính căn bậc hai của số phức $z = 8 + 6i$, ta tìm số phức $w = a + bi$ sao cho $w^2 = z$.\n\nTa có:\n$(a + bi)^2 = a^2 + 2abi - b^2 = (a^2 - b^2) + 2abi = 8 + 6i$\n\nTừ đó suy ra hệ phương trình:\n\\begin{cases}\na^2 - b^2 = 8 \\\\\n2ab = 6\n\\end{cases}\n\nTừ phương trình thứ hai, ta có $b = \\frac{3}{a}$. Thay vào phương trình thứ nhất:\n$a^2 - \\frac{9}{a^2} = 8$\n$a^4 - 9 = 8a^2$\n$a^4 - 8a^2 - 9 = 0$\nĐặt $t = a^2$, ta có:\n$t^2 - 8t - 9 = 0$\n$(t - 9)(t + 1) = 0$\nSuy ra $t = 9$ hoặc $t = -1$. Vì $a$ là số thực nên $a^2 = t \\geq 0$, vậy $t = 9$.\n\nDo đó, $a^2 = 9$, suy ra $a = 3$ hoặc $a = -3$.\n\nNếu $a = 3$, thì $b = \\frac{3}{3} = 1$. Vậy $w = 3 + i$.\nNếu $a = -3$, thì $b = \\frac{3}{-3} = -1$. Vậy $w = -3 - i$.\n\nVậy, căn bậc hai của $8 + 6i$ là $3 + i$ và $-3 - i$.\n\n",
         "\n$\\pm(3+i)$\n",
         "Both Correct",
         "No explanation provided"
        ],
        [
         "33",
         "33",
         "Cho z = 3 + 4i. Tìm căn bậc hai của z.",
         "Giả sử $w = x + yi$ là một căn bậc hai của số phức $z = 3 + 4i$. Ta có: $w^2 = z <=> (x + yi)^2 = 3 + 4i <=> \\begin{cases} x^2 - y^2 = 3 \\\\ 2xy = 4 \\end{cases} <=> \\begin{cases} x^2 = 4 \\\\ y = \\frac{2}{x} \\end{cases} <=> \\begin{cases} x = 2 \\\\ y = 1 \\end{cases} \\\\  \\begin{cases} x = -2 \\\\ y = -1 \\end{cases}$ Do đó z có hai căn bậc hai là $\\begin{bmatrix} z = 2 + i \\\\ z = -2 - i \\end{bmatrix}$",
         "$\\begin{bmatrix} z = 2 + i \\\\ z = -2 - i \\end{bmatrix}$",
         "\nĐặt $w = a + bi$ là căn bậc hai của $z = 3 + 4i$. Khi đó, ta có:\n\n$w^2 = z$\n$(a + bi)^2 = 3 + 4i$\n$a^2 + 2abi - b^2 = 3 + 4i$\n$(a^2 - b^2) + 2abi = 3 + 4i$\n\nTừ đó, ta có hệ phương trình:\n\n$\\begin{cases}\na^2 - b^2 = 3 \\\\\n2ab = 4\n\\end{cases}$\n\nTừ phương trình thứ hai, ta có $b = \\frac{2}{a}$. Thay vào phương trình thứ nhất, ta được:\n\n$a^2 - (\\frac{2}{a})^2 = 3$\n$a^2 - \\frac{4}{a^2} = 3$\n$a^4 - 4 = 3a^2$\n$a^4 - 3a^2 - 4 = 0$\n$(a^2 - 4)(a^2 + 1) = 0$\n\nVì $a$ là số thực, nên $a^2 = 4$, suy ra $a = 2$ hoặc $a = -2$.\n\n*   Nếu $a = 2$, thì $b = \\frac{2}{2} = 1$. Vậy $w = 2 + i$.\n*   Nếu $a = -2$, thì $b = \\frac{2}{-2} = -1$. Vậy $w = -2 - i$.\n\nVậy, căn bậc hai của $3 + 4i$ là $2 + i$ và $-2 - i$.\n\n",
         "\nCác căn bậc hai của $z = 3 + 4i$ là $2 + i$ và $-2 - i$.\n",
         "Both Correct",
         "No explanation provided"
        ],
        [
         "34",
         "34",
         "Căn bậc hai của số phức 4 + 6$\\sqrt{5}$i là:",
         "Giả sử w là một căn bậc hai của 4 + 6$\\sqrt{5}$i. Ta có: $w^2 = 4 + 6\\sqrt{5}i <=> w^2 = (3 + \\sqrt{5}i)^2 => w = \\pm (3 + \\sqrt{5}i).$",
         "$\\pm (3 + \\sqrt{5}i)$",
         "\nGọi $z = a + bi$ là căn bậc hai của $4 + 6\\sqrt{5}i$, với $a, b \\in \\mathbb{R}$.\nTa có $z^2 = (a+bi)^2 = a^2 - b^2 + 2abi = 4 + 6\\sqrt{5}i$.\nSuy ra:\n$\\begin{cases}\na^2 - b^2 = 4 \\\\\n2ab = 6\\sqrt{5}\n\\end{cases} \\Leftrightarrow \\begin{cases}\na^2 - b^2 = 4 \\\\\nab = 3\\sqrt{5}\n\\end{cases}$\n\nTừ $ab = 3\\sqrt{5} > 0$, ta có $a, b$ cùng dấu.\nTa có: $(a^2 + b^2)^2 = (a^2 - b^2)^2 + 4a^2b^2 = 4^2 + 4(3\\sqrt{5})^2 = 16 + 4(9 \\cdot 5) = 16 + 180 = 196$.\nSuy ra $a^2 + b^2 = \\sqrt{196} = 14$.\n\nTa có hệ:\n$\\begin{cases}\na^2 - b^2 = 4 \\\\\na^2 + b^2 = 14\n\\end{cases} \\Leftrightarrow \\begin{cases}\n2a^2 = 18 \\\\\n2b^2 = 10\n\\end{cases} \\Leftrightarrow \\begin{cases}\na^2 = 9 \\\\\nb^2 = 5\n\\end{cases} \\Leftrightarrow \\begin{cases}\na = \\pm 3 \\\\\nb = \\pm \\sqrt{5}\n\\end{cases}$\n\nVì $a, b$ cùng dấu nên ta có hai nghiệm:\n$z_1 = 3 + \\sqrt{5}i$ và $z_2 = -3 - \\sqrt{5}i$.\n\n",
         "\n$3 + \\sqrt{5}i$ và $-3 - \\sqrt{5}i$.\n",
         "Both Correct",
         "No explanation provided"
        ],
        [
         "35",
         "35",
         "Gọi z là căn bậc hai có phần ảo âm của 33 - 56i . Phần thực của z là:",
         "Ta có: 33 - 56i = (7 - 4i)^2 => z = 7 - 4i Do đó phần thực của z là 7.",
         "7",
         "\nGọi $z = a + bi$ là căn bậc hai của $33 - 56i$, với $a, b \\in \\mathbb{R}$. Khi đó:\n$z^2 = (a + bi)^2 = a^2 + 2abi - b^2 = (a^2 - b^2) + 2abi = 33 - 56i$\n\nTa có hệ phương trình:\n$\\begin{cases}\na^2 - b^2 = 33 \\\\\n2ab = -56\n\\end{cases} \\Leftrightarrow\n\\begin{cases}\na^2 - b^2 = 33 \\\\\nab = -28\n\\end{cases}$\n\nTừ $ab = -28 \\Rightarrow b = -\\frac{28}{a}$. Thay vào phương trình đầu tiên:\n$a^2 - \\left(-\\frac{28}{a}\\right)^2 = 33 \\Leftrightarrow a^2 - \\frac{28^2}{a^2} = 33$\n$a^4 - 784 = 33a^2 \\Leftrightarrow a^4 - 33a^2 - 784 = 0$\n\nĐặt $t = a^2 \\ge 0$. Khi đó: $t^2 - 33t - 784 = 0$\n$\\Delta = (-33)^2 - 4(1)(-784) = 1089 + 3136 = 4225 = 65^2$\n$t_1 = \\frac{33 + 65}{2} = \\frac{98}{2} = 49$ (nhận)\n$t_2 = \\frac{33 - 65}{2} = \\frac{-32}{2} = -16$ (loại)\n\nVậy $a^2 = 49 \\Rightarrow a = \\pm 7$.\nNếu $a = 7$ thì $b = -\\frac{28}{7} = -4$.\nNếu $a = -7$ thì $b = -\\frac{28}{-7} = 4$.\nVậy $z = 7 - 4i$ hoặc $z = -7 + 4i$.\n\nVì z có phần ảo âm, nên $z = 7 - 4i$.\nPhần thực của z là 7.\n\n",
         "\n$7$\n",
         "Both Correct",
         "No explanation provided"
        ],
        [
         "36",
         "36",
         "Trong C , căn bậc hai của -121 là:",
         "Ta có: z = -121 nên z = (11i)^2. Do đó z có hai căn bậc hai là z = 11i và z = -11i",
         "11i và -11i",
         "\nTa cần tìm căn bậc hai của $-121$ trong tập số phức $\\mathbb{C}$.\nTa biết rằng $i^2 = -1$, do đó $-1 = i^2$.\nVậy $-121 = 121 \\cdot (-1) = 121 \\cdot i^2$.\nSuy ra, căn bậc hai của $-121$ là $\\pm \\sqrt{-121} = \\pm \\sqrt{121 \\cdot i^2} = \\pm \\sqrt{121} \\cdot \\sqrt{i^2} = \\pm 11i$.\n\nVậy căn bậc hai của $-121$ là $11i$ và $-11i$.\n\n",
         "\n$\\pm 11i$\n",
         "Both Correct",
         "No explanation provided"
        ],
        [
         "37",
         "37",
         "Tìm các căn bậc hai của -9.",
         "Ta có -9 = 9i^2 nên -9 có các căn bậc hai là 3i và -3i.",
         "3i và -3i",
         "\nĐể tìm các căn bậc hai của -9, ta cần tìm các số $z$ sao cho $z^2 = -9$.\n\nTa biết rằng $i^2 = -1$, vì vậy $-9 = 9 \\cdot (-1) = 9i^2 = (3i)^2 = (-3i)^2$.\n\nVậy, các căn bậc hai của -9 là $3i$ và $-3i$.\n\n",
         "\nCác căn bậc hai của -9 là $3i$ và $-3i$.\n",
         "Both Correct",
         "No explanation provided"
        ],
        [
         "38",
         "38",
         "Viết số phức $z = 6 + 6i$ dưới dạng lượng giác?",
         "Ta có: $|z| = r = \\sqrt{6^2 + 6^2} = 6\\sqrt{2}$. Chọn $\\varphi$ là số thực thỏa mãn \\sqrt{6^2 + 6^2} $\\Rightarrow \\varphi = \\frac{\\pi}{4}$. Do đó, dạng lượng giác của số phức z là: $z = 6\\sqrt{2}(cos\\frac{\\pi}{4} + i.sin\\frac{\\pi}{4})$",
         "$z = 6\\sqrt{2}(cos\\frac{\\pi}{4} + i.sin\\frac{\\pi}{4})$",
         "\nĐể viết số phức $z = 6 + 6i$ dưới dạng lượng giác, ta thực hiện các bước sau:\n\n1. **Tính môđun của $z$**:\n   $|z| = \\sqrt{a^2 + b^2}$ với $z = a + bi$. Trong trường hợp này, $a = 6$ và $b = 6$.\n   $|z| = \\sqrt{6^2 + 6^2} = \\sqrt{36 + 36} = \\sqrt{72} = 6\\sqrt{2}$.\n\n2. **Tìm argument của $z$**:\n   Ta có $\\cos \\theta = \\frac{a}{|z|} = \\frac{6}{6\\sqrt{2}} = \\frac{1}{\\sqrt{2}} = \\frac{\\sqrt{2}}{2}$\n   và $\\sin \\theta = \\frac{b}{|z|} = \\frac{6}{6\\sqrt{2}} = \\frac{1}{\\sqrt{2}} = \\frac{\\sqrt{2}}{2}$.\n   Vậy $\\theta = \\frac{\\pi}{4}$.\n\n3. **Viết dạng lượng giác**:\n   $z = |z|(\\cos \\theta + i \\sin \\theta) = 6\\sqrt{2} \\left( \\cos \\frac{\\pi}{4} + i \\sin \\frac{\\pi}{4} \\right)$.\n\n",
         "\n$z = 6\\sqrt{2} \\left( \\cos \\frac{\\pi}{4} + i \\sin \\frac{\\pi}{4} \\right)$\n",
         "Both Correct",
         "No explanation provided"
        ],
        [
         "39",
         "39",
         "Viết số 10 dưới dạng lượng giác?",
         "Ta có: Số 10 có mô đun là 10 và có một acgumen bằng 0 nên nó có dạng lượng giác là: $10.(cos0 + i.sin0).$",
         "$10.(cos0 + i.sin0)$",
         "\nSố 10 là một số thực, có thể được biểu diễn dưới dạng lượng giác như sau:\n\n$10 = 10 + 0i$\n\nSố phức $z = a + bi$ có thể biểu diễn dưới dạng lượng giác là $z = r(\\cos \\varphi + i \\sin \\varphi)$, trong đó:\n\n*   $r = |z| = \\sqrt{a^2 + b^2}$ là module của $z$.\n*   $\\varphi$ là argument của $z$, thỏa mãn $\\cos \\varphi = \\frac{a}{r}$ và $\\sin \\varphi = \\frac{b}{r}$.\n\nTrong trường hợp này, $a = 10$ và $b = 0$. Vậy:\n\n*   $r = \\sqrt{10^2 + 0^2} = \\sqrt{100} = 10$.\n*   $\\cos \\varphi = \\frac{10}{10} = 1$\n*   $\\sin \\varphi = \\frac{0}{10} = 0$\n\nSuy ra, $\\varphi = 0 + k2\\pi$ ($k \\in \\mathbb{Z}$). Chọn $k = 0$, ta có $\\varphi = 0$.\n\nVậy, biểu diễn lượng giác của số 10 là:\n\n$10 = 10(\\cos 0 + i \\sin 0)$\n",
         "\n$10 = 10(\\cos 0 + i \\sin 0)$\n",
         "Both Correct",
         "No explanation provided"
        ],
        [
         "40",
         "40",
         "Viết $-\\frac{\\sqrt{3}}{2}$ dưới dạng lượng giác.",
         "Số $-\\frac{\\sqrt{3}}{2}$ có mô đun là $\\frac{\\sqrt{3}}{2}$, có một acgumen là $\\pi$ nên số đó có dạng lượng giác là: $-\\frac{\\sqrt{3}}{2} = \\frac{\\sqrt{3}}{2}(cos\\pi + i.sin\\pi)$",
         "$-\\frac{\\sqrt{3}}{2} = \\frac{\\sqrt{3}}{2}(cos\\pi + i.sin\\pi)$",
         "\nTa cần viết $-\\frac{\\sqrt{3}}{2}$ dưới dạng lượng giác $cos(\\alpha) + i sin(\\alpha)$ hoặc $e^{i\\alpha}$.\n\nVì $-\\frac{\\sqrt{3}}{2}$ là một số thực, ta có thể viết nó dưới dạng $z = -\\frac{\\sqrt{3}}{2} + 0i$.\nTa cần tìm $\\alpha$ sao cho $cos(\\alpha) = -\\frac{\\sqrt{3}}{2}$ và $sin(\\alpha) = 0$.\n\nTa biết rằng $cos(\\frac{5\\pi}{6}) = -\\frac{\\sqrt{3}}{2}$ và $sin(\\frac{5\\pi}{6}) = \\frac{1}{2} \\neq 0$.\n$cos(\\frac{7\\pi}{6}) = -\\frac{\\sqrt{3}}{2}$ và $sin(\\frac{7\\pi}{6}) = -\\frac{1}{2} \\neq 0$.\nVậy không có góc $\\alpha$ nào thỏa mãn cả $cos(\\alpha) = -\\frac{\\sqrt{3}}{2}$ và $sin(\\alpha) = 0$.\n\nTuy nhiên, ta có thể viết $-\\frac{\\sqrt{3}}{2} = -\\frac{\\sqrt{3}}{2} + 0i$. Ta cần tìm $\\alpha$ sao cho $cos(\\alpha) = -\\frac{\\sqrt{3}}{2}$ và $sin(\\alpha) = 0$.\nGiá trị $sin(\\alpha)=0$ khi $\\alpha = k\\pi$ với $k \\in \\mathbb{Z}$.\nVới $\\alpha = k\\pi$, ta có $cos(k\\pi) = (-1)^k$. Như vậy $cos(k\\pi) = -\\frac{\\sqrt{3}}{2}$ là điều không thể.\n\nTa cần viết $-\\frac{\\sqrt{3}}{2}$ dưới dạng lượng giác $r(cos(\\alpha) + isin(\\alpha))$. Ở đây $r = |-\\frac{\\sqrt{3}}{2}| = \\frac{\\sqrt{3}}{2}$.\n\nKhi đó, $-\\frac{\\sqrt{3}}{2} = \\frac{\\sqrt{3}}{2}(cos(\\pi) + isin(\\pi))$ không đúng. Vì $\\frac{\\sqrt{3}}{2} \\ne 1$.\n\nNhận thấy $-\\frac{\\sqrt{3}}{2}$ là một số thực âm.\nTa có $-\\frac{\\sqrt{3}}{2} = \\frac{\\sqrt{3}}{2} (-1) = \\frac{\\sqrt{3}}{2} (cos(\\pi) + isin(\\pi))$.\nTuy nhiên, biểu diễn lượng giác của một số thực $a$ là $a = |a| (cos(0) + isin(0))$ nếu $a > 0$ và $a = |a| (cos(\\pi) + isin(\\pi))$ nếu $a < 0$.\n\nVì vậy, $-\\frac{\\sqrt{3}}{2} = \\frac{\\sqrt{3}}{2}e^{i\\pi}$.\nNhưng theo đề bài ta cần viết $-\\frac{\\sqrt{3}}{2}$ dưới dạng lượng giác. Ta viết $-\\frac{\\sqrt{3}}{2} = -\\frac{\\sqrt{3}}{2} + 0i$.\n\nTa tìm $r$ và $\\theta$ sao cho $-\\frac{\\sqrt{3}}{2} + 0i = r(cos\\theta + isin\\theta)$.\n$r = \\sqrt{(-\\frac{\\sqrt{3}}{2})^2 + 0^2} = \\frac{\\sqrt{3}}{2}$.\n$cos\\theta = \\frac{-\\frac{\\sqrt{3}}{2}}{\\frac{\\sqrt{3}}{2}} = -1$\n$sin\\theta = \\frac{0}{\\frac{\\sqrt{3}}{2}} = 0$\nSuy ra $\\theta = \\pi$.\n\nVậy $-\\frac{\\sqrt{3}}{2} = \\frac{\\sqrt{3}}{2}(cos(\\pi) + isin(\\pi))$.\n\n",
         "\n$-\\frac{\\sqrt{3}}{2} = \\frac{\\sqrt{3}}{2}(cos(\\pi) + i sin(\\pi))$\n",
         "Both Correct",
         "No explanation provided"
        ],
        [
         "41",
         "41",
         "Viết số phức $z = \\frac{1}{2 + 2i}$ dưới dạng lượng giác?",
         "Ta có : $z = \\frac{1}{2 + 2i} = \\frac{1}{2(1 + i)} = \\frac{1 - i}{2(1 + i)(1 - i)} = \\frac{1 - i}{4} = \\frac{1}{4} - \\frac{i}{4}$. Ta có $|z| = \\sqrt{(\\frac{1}{4})^2 + (\\frac{-1}{4})^2} = \\frac{\\sqrt{2}}{4}$. Một acgumen là $\\varphi$ thỏa mãn: $cos\\varphi = \\frac{1}{\\sqrt{2}}$; $sin\\varphi = \\frac{-1}{\\sqrt{2}} => \\varphi = -\\frac{\\pi}{4}$. Do đó ,dạng lượng giác của số phức z là: $z = \\frac{1}{2 + 2i} = \\frac{\\sqrt{2}}{4}[cos(-\\frac{\\pi}{4}) + i sin(-\\frac{\\pi}{4})].$",
         "$z = \\frac{1}{2 + 2i} = \\frac{\\sqrt{2}}{4}[cos(-\\frac{\\pi}{4}) + i sin(-\\frac{\\pi}{4})].$",
         "\nĐể viết số phức $z = \\frac{1}{2 + 2i}$ dưới dạng lượng giác, ta thực hiện các bước sau:\n\n**Bước 1: Tìm dạng đại số của $z$**\n\nTa có:\n$z = \\frac{1}{2 + 2i} = \\frac{1}{2 + 2i} \\cdot \\frac{2 - 2i}{2 - 2i} = \\frac{2 - 2i}{4 - (4i^2)} = \\frac{2 - 2i}{4 + 4} = \\frac{2 - 2i}{8} = \\frac{1}{4} - \\frac{1}{4}i$\n\n**Bước 2: Tìm module của $z$**\n\n$|z| = \\sqrt{\\left(\\frac{1}{4}\\right)^2 + \\left(-\\frac{1}{4}\\right)^2} = \\sqrt{\\frac{1}{16} + \\frac{1}{16}} = \\sqrt{\\frac{2}{16}} = \\sqrt{\\frac{1}{8}} = \\frac{1}{2\\sqrt{2}} = \\frac{\\sqrt{2}}{4}$\n\n**Bước 3: Tìm argument của $z$**\n\nTa có:\n$\\cos \\theta = \\frac{\\text{Re}(z)}{|z|} = \\frac{1/4}{\\sqrt{2}/4} = \\frac{1}{\\sqrt{2}} = \\frac{\\sqrt{2}}{2}$\n$\\sin \\theta = \\frac{\\text{Im}(z)}{|z|} = \\frac{-1/4}{\\sqrt{2}/4} = -\\frac{1}{\\sqrt{2}} = -\\frac{\\sqrt{2}}{2}$\n\nVậy, $\\theta = -\\frac{\\pi}{4}$ (hoặc $\\theta = \\frac{7\\pi}{4}$).\n\n**Bước 4: Viết dạng lượng giác của $z$**\n\n$z = |z|(\\cos \\theta + i \\sin \\theta) = \\frac{\\sqrt{2}}{4} \\left( \\cos\\left(-\\frac{\\pi}{4}\\right) + i \\sin\\left(-\\frac{\\pi}{4}\\right) \\right)$\nHay\n$z = \\frac{\\sqrt{2}}{4} \\left( \\cos\\left(\\frac{7\\pi}{4}\\right) + i \\sin\\left(\\frac{7\\pi}{4}\\right) \\right)$\n",
         "\n$z = \\frac{\\sqrt{2}}{4} \\left( \\cos\\left(-\\frac{\\pi}{4}\\right) + i \\sin\\left(-\\frac{\\pi}{4}\\right) \\right)$\n",
         "Both Correct",
         "No explanation provided"
        ],
        [
         "42",
         "42",
         "Viết số phức z = 100i dưới dạng lượng giác?",
         "Ta có: $|z| = \\sqrt{0^2 + 100^2} = 100$. Gọi $\\varphi$ là một acgumen của z thì $\\varphi$ thỏa mãn: $cos\\varphi = 0; sin\\varphi = 1 => \\varphi = \\frac{\\pi}{2}$. Do đó, dạng lượng giác của số phức z là: $z = 100(cos\\frac{\\pi}{2} + i.sin\\frac{\\pi}{2})$",
         "$z = 100(cos\\frac{\\pi}{2} + i.sin\\frac{\\pi}{2})$",
         "\nTa có số phức $z = 100i$. Để viết $z$ dưới dạng lượng giác $z = r(\\cos \\varphi + i \\sin \\varphi)$, ta cần tìm $r$ và $\\varphi$.\n\n1. **Tìm mô-đun $r$**:\n   $r = |z| = \\sqrt{0^2 + 100^2} = \\sqrt{10000} = 100$.\n\n2. **Tìm argument $\\varphi$**:\n   Ta có $z = 100i = 100(0 + i \\cdot 1)$.\n   Vậy $\\cos \\varphi = 0$ và $\\sin \\varphi = 1$.\n   Do đó, $\\varphi = \\frac{\\pi}{2}$.\n\n3. **Viết dạng lượng giác**:\n   $z = 100 \\left( \\cos \\frac{\\pi}{2} + i \\sin \\frac{\\pi}{2} \\right)$.\n\n",
         "\n$z = 100 \\left( \\cos \\frac{\\pi}{2} + i \\sin \\frac{\\pi}{2} \\right)$\n",
         "Both Correct",
         "No explanation provided"
        ],
        [
         "43",
         "43",
         "Viết số phức sau dưới dạng lượng giác $z = (1 - i\\sqrt{3}).(1 + i)$",
         "Ta có: $1 - i\\sqrt{3} = 2.[cos(-\\frac{\\pi}{3}) + i sin(-\\frac{\\pi}{3})]$ và $1 + i = \\sqrt{2}[cos\\frac{\\pi}{4} + i.sin\\frac{\\pi}{4}]$. Áp dụng công thức nhân, chia số phức ta được: $z = (1 - i\\sqrt{3})(1 + i) = 2\\sqrt{2}[cos(-\\frac{\\pi}{12}) + i.sin(-\\frac{\\pi}{12})]$",
         "$2\\sqrt{2}[cos(-\\frac{\\pi}{12}) + i.sin(-\\frac{\\pi}{12})]$",
         "\nĐể viết số phức $z = (1 - i\\sqrt{3})(1 + i)$ dưới dạng lượng giác, ta thực hiện các bước sau:\n\n1. **Tính tích:**\n$z = (1 - i\\sqrt{3})(1 + i) = 1 + i - i\\sqrt{3} - i^2\\sqrt{3} = 1 + i - i\\sqrt{3} + \\sqrt{3} = (1 + \\sqrt{3}) + (1 - \\sqrt{3})i$\n\n2. **Tìm module của $z$:**\n$|z| = \\sqrt{(1 + \\sqrt{3})^2 + (1 - \\sqrt{3})^2} = \\sqrt{1 + 2\\sqrt{3} + 3 + 1 - 2\\sqrt{3} + 3} = \\sqrt{8} = 2\\sqrt{2}$\n\n3. **Tìm argument của $z$:**\nGọi $\\theta$ là argument của $z$, ta có:\n$\\cos(\\theta) = \\frac{1 + \\sqrt{3}}{2\\sqrt{2}} = \\frac{\\sqrt{2} + \\sqrt{6}}{4}$\n$\\sin(\\theta) = \\frac{1 - \\sqrt{3}}{2\\sqrt{2}} = \\frac{\\sqrt{2} - \\sqrt{6}}{4}$\nTa nhận thấy $\\theta = -\\frac{\\pi}{12}$, do $\\cos(-\\frac{\\pi}{12}) = \\frac{\\sqrt{2} + \\sqrt{6}}{4}$ và $\\sin(-\\frac{\\pi}{12}) = \\frac{\\sqrt{2} - \\sqrt{6}}{-4}=\\frac{-\\sqrt{2} + \\sqrt{6}}{4}$.\nVậy $\\theta = \\arctan{\\frac{1-\\sqrt{3}}{1+\\sqrt{3}}}= \\arctan{\\frac{(1-\\sqrt{3})^2}{-2}}=\\arctan{\\frac{4-2\\sqrt{3}}{-2}}=\\arctan(\\sqrt{3}-2) = -\\frac{\\pi}{12}$\n\n4. **Viết dạng lượng giác:**\n$z = |z|(\\cos(\\theta) + i\\sin(\\theta)) = 2\\sqrt{2}\\left(\\cos\\left(-\\frac{\\pi}{12}\\right) + i\\sin\\left(-\\frac{\\pi}{12}\\right)\\right) = 2\\sqrt{2}\\left(\\cos\\left(\\frac{\\pi}{12}\\right) - i\\sin\\left(\\frac{\\pi}{12}\\right)\\right)$\n\nVậy, $z = 2\\sqrt{2}\\left(\\cos\\left(-\\frac{\\pi}{12}\\right) + i\\sin\\left(-\\frac{\\pi}{12}\\right)\\right)$\n\n",
         "\n$z = 2\\sqrt{2}\\left(\\cos\\left(-\\frac{\\pi}{12}\\right) + i\\sin\\left(-\\frac{\\pi}{12}\\right)\\right)$\n",
         "Both Correct",
         "No explanation provided"
        ],
        [
         "44",
         "44",
         "Viết số phức sau dưới dạng lượng giác $z = \\frac{2 + 2i}{1 + \\sqrt{3}i}$",
         "Ta có: $2 + 2i = 2\\sqrt{2}[cos\\frac{\\pi}{4} + i.sin\\frac{\\pi}{4}]$ và $1 + \\sqrt{3}i = 2.[cos\\frac{\\pi}{3} + i.sin\\frac{\\pi}{3}]$. Do đó: $z = \\frac{2 + 2i}{1 + \\sqrt{3}i} = \\frac{2\\sqrt{2}[cos\\frac{\\pi}{4} + i.sin\\frac{\\pi}{4}]}{2.[cos\\frac{\\pi}{3} + i.sin\\frac{\\pi}{3}]} = \\sqrt{2}[cos(-\\frac{\\pi}{12}) + i.sin(-\\frac{\\pi}{12})]$",
         "$\\sqrt{2}[cos(-\\frac{\\pi}{12}) + i.sin(-\\frac{\\pi}{12})]$",
         "\n**Bước 1: Biến đổi tử và mẫu về dạng lượng giác**\n\n*   **Tử số:** $2 + 2i$\n    *   Tính module: $r_1 = \\sqrt{2^2 + 2^2} = \\sqrt{8} = 2\\sqrt{2}$\n    *   Tính argument: $\\tan(\\theta_1) = \\frac{2}{2} = 1 \\Rightarrow \\theta_1 = \\frac{\\pi}{4}$\n    *   Dạng lượng giác: $2 + 2i = 2\\sqrt{2}(\\cos(\\frac{\\pi}{4}) + i\\sin(\\frac{\\pi}{4}))$\n\n*   **Mẫu số:** $1 + \\sqrt{3}i$\n    *   Tính module: $r_2 = \\sqrt{1^2 + (\\sqrt{3})^2} = \\sqrt{4} = 2$\n    *   Tính argument: $\\tan(\\theta_2) = \\frac{\\sqrt{3}}{1} = \\sqrt{3} \\Rightarrow \\theta_2 = \\frac{\\pi}{3}$\n    *   Dạng lượng giác: $1 + \\sqrt{3}i = 2(\\cos(\\frac{\\pi}{3}) + i\\sin(\\frac{\\pi}{3}))$\n\n**Bước 2: Chia hai số phức ở dạng lượng giác**\n\n$z = \\frac{2 + 2i}{1 + \\sqrt{3}i} = \\frac{2\\sqrt{2}(\\cos(\\frac{\\pi}{4}) + i\\sin(\\frac{\\pi}{4}))}{2(\\cos(\\frac{\\pi}{3}) + i\\sin(\\frac{\\pi}{3}))}$\n\nKhi chia hai số phức ở dạng lượng giác, ta chia module và trừ argument:\n\n$z = \\frac{2\\sqrt{2}}{2} \\left[ \\cos\\left(\\frac{\\pi}{4} - \\frac{\\pi}{3}\\right) + i\\sin\\left(\\frac{\\pi}{4} - \\frac{\\pi}{3}\\right) \\right]$\n\n$z = \\sqrt{2} \\left[ \\cos\\left(\\frac{3\\pi - 4\\pi}{12}\\right) + i\\sin\\left(\\frac{3\\pi - 4\\pi}{12}\\right) \\right]$\n\n$z = \\sqrt{2} \\left[ \\cos\\left(-\\frac{\\pi}{12}\\right) + i\\sin\\left(-\\frac{\\pi}{12}\\right) \\right]$\n\n$z = \\sqrt{2} \\left[ \\cos\\left(\\frac{\\pi}{12}\\right) - i\\sin\\left(\\frac{\\pi}{12}\\right) \\right]$\n\n**Bước 3: Rút gọn (nếu cần)**\n\nTa đã có dạng lượng giác của số phức z.\n\n",
         "\n$z = \\sqrt{2} \\left( \\cos\\left(-\\frac{\\pi}{12}\\right) + i\\sin\\left(-\\frac{\\pi}{12}\\right) \\right) = \\sqrt{2} \\left( \\cos\\left(\\frac{\\pi}{12}\\right) - i\\sin\\left(\\frac{\\pi}{12}\\right) \\right)$\n",
         "Both Correct",
         "No explanation provided"
        ],
        [
         "45",
         "45",
         "Viết số phức sau dưới dạng lượng giác $z = \\frac{3}{10\\sqrt{3} + 10i}$",
         "Ta có: $3 = 3.(cos0 + i.sin0)$ và $10\\sqrt{3} + 10i = 20.(cos\\frac{\\pi}{6} + i.sin\\frac{\\pi}{6})$. Do đó, $z = \\frac{3}{10\\sqrt{3} + 10i} = \\frac{3.(cos 0 + i.sin 0)}{20.(cos\\frac{\\pi}{6} + i.sin\\frac{\\pi}{6})} = \\frac{3}{20}(cos(-\\frac{\\pi}{6}) + i.sin(-\\frac{\\pi}{6}))$",
         "$\\frac{3}{20}(cos(-\\frac{\\pi}{6}) + i.sin(-\\frac{\\pi}{6}))$",
         "\nTa có số phức $z = \\frac{3}{10\\sqrt{3} + 10i}$.\n\n**Bước 1: Tìm module và argument của mẫu số**\n\nMẫu số là $w = 10\\sqrt{3} + 10i$.\n*   Module của $w$: $|w| = \\sqrt{(10\\sqrt{3})^2 + 10^2} = \\sqrt{300 + 100} = \\sqrt{400} = 20$.\n*   Argument của $w$: $\\tan(\\theta) = \\frac{10}{10\\sqrt{3}} = \\frac{1}{\\sqrt{3}}$. Suy ra $\\theta = \\frac{\\pi}{6}$.\n\nVậy, $w = 20\\left(\\cos\\left(\\frac{\\pi}{6}\\right) + i\\sin\\left(\\frac{\\pi}{6}\\right)\\right)$.\n\n**Bước 2: Viết số phức $z$ lại**\n\n$z = \\frac{3}{10\\sqrt{3} + 10i} = \\frac{3}{20\\left(\\cos\\left(\\frac{\\pi}{6}\\right) + i\\sin\\left(\\frac{\\pi}{6}\\right)\\right)} = \\frac{3}{20} \\cdot \\frac{1}{\\cos\\left(\\frac{\\pi}{6}\\right) + i\\sin\\left(\\frac{\\pi}{6}\\right)}$.\n\n**Bước 3: Sử dụng công thức nghịch đảo của số phức**\n\n$\\frac{1}{\\cos(\\theta) + i\\sin(\\theta)} = \\cos(-\\theta) + i\\sin(-\\theta)$.\n\nDo đó, $\\frac{1}{\\cos\\left(\\frac{\\pi}{6}\\right) + i\\sin\\left(\\frac{\\pi}{6}\\right)} = \\cos\\left(-\\frac{\\pi}{6}\\right) + i\\sin\\left(-\\frac{\\pi}{6}\\right)$.\n\n**Bước 4: Viết số phức $z$ dưới dạng lượng giác**\n\n$z = \\frac{3}{20}\\left(\\cos\\left(-\\frac{\\pi}{6}\\right) + i\\sin\\left(-\\frac{\\pi}{6}\\right)\\right)$.\n\n",
         "\n$z = \\frac{3}{20}\\left(\\cos\\left(-\\frac{\\pi}{6}\\right) + i\\sin\\left(-\\frac{\\pi}{6}\\right)\\right)$\n",
         "Both Correct",
         "No explanation provided"
        ],
        [
         "46",
         "46",
         "Viết số phức sau dưới dạng lượng giác $z = \\frac{1 - i}{(\\sqrt{3} + i)(2 + 2i)}$",
         "Ta có: $\\sqrt{3} + i = 2(cos\\frac{\\pi}{6} + i.sin\\frac{\\pi}{6})$ và $2 + 2i = 2\\sqrt{2}.(cos\\frac{\\pi}{4} + i.sin\\frac{\\pi}{4}) \\Rightarrow (\\sqrt{3} + 1)(2 + 2i) = 4\\sqrt{2}(cos\\frac{5\\pi}{12} + i.sin\\frac{5\\pi}{12})$. Lại có: $1 - i = \\sqrt{2}.(cos(-\\frac{\\pi}{4}) + i.sin(-\\frac{\\pi}{4}))$. Suy ra: $z = \\frac{1 - i}{(\\sqrt{3} + i)(2 + 2i)} = \\frac{\\sqrt{2}}{4\\sqrt{2}}[cos(-\\frac{5\\pi}{12}) + i.sin(-\\frac{5\\pi}{12})] = \\frac{1}{4}[cos(-\\frac{2\\pi}{3}) + i.sin(-\\frac{2\\pi}{3})]$",
         "$\\frac{1}{4}[cos(-\\frac{2\\pi}{3}) + i.sin(-\\frac{2\\pi}{3})]$",
         "\nĐể viết số phức $z = \\frac{1 - i}{(\\sqrt{3} + i)(2 + 2i)}$ dưới dạng lượng giác, ta thực hiện các bước sau:\n\n1. **Biến đổi tử số và mẫu số về dạng lượng giác:**\n\n*   $1 - i = \\sqrt{2}(\\cos(-\\frac{\\pi}{4}) + i\\sin(-\\frac{\\pi}{4})) = \\sqrt{2}e^{-i\\frac{\\pi}{4}}$\n*   $\\sqrt{3} + i = 2(\\cos(\\frac{\\pi}{6}) + i\\sin(\\frac{\\pi}{6})) = 2e^{i\\frac{\\pi}{6}}$\n*   $2 + 2i = 2\\sqrt{2}(\\cos(\\frac{\\pi}{4}) + i\\sin(\\frac{\\pi}{4})) = 2\\sqrt{2}e^{i\\frac{\\pi}{4}}$\n\n2.  **Thay vào biểu thức z:**\n\n$z = \\frac{\\sqrt{2}e^{-i\\frac{\\pi}{4}}}{(2e^{i\\frac{\\pi}{6}})(2\\sqrt{2}e^{i\\frac{\\pi}{4}})} = \\frac{\\sqrt{2}e^{-i\\frac{\\pi}{4}}}{4\\sqrt{2}e^{i(\\frac{\\pi}{6} + \\frac{\\pi}{4})}} = \\frac{1}{4}e^{-i\\frac{\\pi}{4} - i(\\frac{\\pi}{6} + \\frac{\\pi}{4})} = \\frac{1}{4}e^{-i(\\frac{\\pi}{2} + \\frac{\\pi}{6})} = \\frac{1}{4}e^{-i\\frac{2\\pi}{3}}$\n\n3. **Viết lại dạng lượng giác:**\n\n$z = \\frac{1}{4}(\\cos(-\\frac{2\\pi}{3}) + i\\sin(-\\frac{2\\pi}{3})) = \\frac{1}{4}(\\cos(\\frac{2\\pi}{3}) - i\\sin(\\frac{2\\pi}{3})) = \\frac{1}{4}(-\\frac{1}{2} - i\\frac{\\sqrt{3}}{2}) = -\\frac{1}{8} - i\\frac{\\sqrt{3}}{8}$\n\nVậy, dạng lượng giác của $z$ là:\n\n$z = \\frac{1}{4}(\\cos(-\\frac{2\\pi}{3}) + i\\sin(-\\frac{2\\pi}{3})) = \\frac{1}{4}e^{-i\\frac{2\\pi}{3}}$\n",
         "\n$z = \\frac{1}{4} \\left( \\cos\\left(-\\frac{2\\pi}{3}\\right) + i \\sin\\left(-\\frac{2\\pi}{3}\\right) \\right) = \\frac{1}{4} e^{-i\\frac{2\\pi}{3}}$\n",
         "Both Correct",
         "No explanation provided"
        ],
        [
         "47",
         "47",
         "Viết số phức sau dưới dạng lượng giác: $z = (\\sqrt{2} + \\sqrt{2}i)^{10}$",
         "Ta có: $\\sqrt{2} + \\sqrt{2}i = 2.(cos\\frac{\\pi}{4} + i.sin\\frac{\\pi}{4})$. Do đó, $z = (\\sqrt{2} + \\sqrt{2}i)^{10} = [2.(cos\\frac{\\pi}{4} + i.sin\\frac{\\pi}{4})]^{10} = 2^{10}.(cos\\frac{10\\pi}{4} + i.sin\\frac{10\\pi}{4}) = 2^{10}.(cos\\frac{5\\pi}{2} + i.sin\\frac{5\\pi}{2})$",
         "$2^{10}.(cos\\frac{5\\pi}{2} + i.sin\\frac{5\\pi}{2})$",
         "\nTa có số phức $z = (\\sqrt{2} + \\sqrt{2}i)^{10}$.\nĐể đưa $z$ về dạng lượng giác, ta đưa số phức $\\sqrt{2} + \\sqrt{2}i$ về dạng lượng giác trước.\n\nĐặt $w = \\sqrt{2} + \\sqrt{2}i$.\nTa có $|w| = \\sqrt{(\\sqrt{2})^2 + (\\sqrt{2})^2} = \\sqrt{2 + 2} = \\sqrt{4} = 2$.\nSuy ra $w = 2(\\frac{\\sqrt{2}}{2} + \\frac{\\sqrt{2}}{2}i)$.\nDo $\\cos(\\frac{\\pi}{4}) = \\frac{\\sqrt{2}}{2}$ và $\\sin(\\frac{\\pi}{4}) = \\frac{\\sqrt{2}}{2}$ nên $w = 2(\\cos(\\frac{\\pi}{4}) + i\\sin(\\frac{\\pi}{4}))$.\nVậy $w = 2(\\cos(\\frac{\\pi}{4}) + i\\sin(\\frac{\\pi}{4})) = 2e^{i\\frac{\\pi}{4}}$.\n\nKhi đó, $z = w^{10} = (2(\\cos(\\frac{\\pi}{4}) + i\\sin(\\frac{\\pi}{4})))^{10} = 2^{10}(\\cos(\\frac{10\\pi}{4}) + i\\sin(\\frac{10\\pi}{4})) = 2^{10}(\\cos(\\frac{5\\pi}{2}) + i\\sin(\\frac{5\\pi}{2}))$.\nVì $\\frac{5\\pi}{2} = 2\\pi + \\frac{\\pi}{2}$ nên $\\cos(\\frac{5\\pi}{2}) = \\cos(\\frac{\\pi}{2}) = 0$ và $\\sin(\\frac{5\\pi}{2}) = \\sin(\\frac{\\pi}{2}) = 1$.\nSuy ra $z = 2^{10}(0 + i(1)) = 2^{10}i = 1024i$.\nVậy $z = 1024i = 1024(\\cos(\\frac{\\pi}{2}) + i\\sin(\\frac{\\pi}{2}))$.\n\nVậy dạng lượng giác của $z$ là $1024(\\cos(\\frac{\\pi}{2}) + i\\sin(\\frac{\\pi}{2}))$.\n",
         "\n$z = 1024\\left(\\cos\\left(\\frac{\\pi}{2}\\right) + i\\sin\\left(\\frac{\\pi}{2}\\right)\\right)$\n",
         "Both Correct",
         "The correct answer is $2^{10}.(cos\\frac{5\\pi}{2} + i.sin\\frac{5\\pi}{2})$.\nSince $2^{10} = 1024$ and $\\frac{5\\pi}{2} = 2\\pi + \\frac{\\pi}{2}$, we have $cos\\frac{5\\pi}{2} = cos\\frac{\\pi}{2}$ and $sin\\frac{5\\pi}{2} = sin\\frac{\\pi}{2}$.\nTherefore, $2^{10}.(cos\\frac{5\\pi}{2} + i.sin\\frac{5\\pi}{2}) = 1024(cos\\frac{\\pi}{2} + i.sin\\frac{\\pi}{2})$.\nThe AI-generated answer is $z = 1024\\left(\\cos\\left(\\frac{\\pi}{2}\\right) + i\\sin\\left(\\frac{\\pi}{2}\\right)\\right)$.\nThe AI answer is equivalent to the correct answer."
        ],
        [
         "48",
         "48",
         "Viết số phức sau dưới dạng lượng giác $z = \\frac{(1 - i)^{10}}{(\\sqrt{3} + i)^9}$",
         "Ta có: $1 - i = \\sqrt{2}[cos(-\\frac{\\pi}{4}) + i.sin(-\\frac{\\pi}{4})] \\Rightarrow (1 - i)^{10} = (\\sqrt{2})^{10}.[cos(-10.\\frac{\\pi}{4}) + i.sin(-10.\\frac{\\pi}{4})] = 2^5[cos(-\\frac{5\\pi}{2}) + i.sin(-\\frac{5\\pi}{2})]$. Lại có: $\\sqrt{3} + i = 2(cos\\frac{\\pi}{6} + i.sin\\frac{\\pi}{6}) \\Rightarrow (\\sqrt{3} + i)^9 = 2^9.(cos9.\\frac{\\pi}{6} + i.sin9.\\frac{\\pi}{6}) = 2^9.(cos\\frac{3\\pi}{2} + i.sin\\frac{3\\pi}{2})$. Do đó, $z = \\frac{(1 - i)^{10}}{(\\sqrt{3} + i)^9} = \\frac{2^5[cos(-\\frac{5\\pi}{2}) + i.sin(-\\frac{5\\pi}{2})]}{2^9.(cos\\frac{3\\pi}{2} + i.sin\\frac{3\\pi}{2})} = \\frac{1}{2^4}(cos(-4\\pi) + i.sin(-4\\pi))$",
         "$\\frac{1}{2^4}(cos(-4\\pi) + i.sin(-4\\pi))$",
         "\nTa sẽ đưa cả tử và mẫu về dạng lượng giác, sau đó thực hiện phép chia số phức.\n\nBước 1: Đưa $1 - i$ về dạng lượng giác.\n$|1 - i| = \\sqrt{1^2 + (-1)^2} = \\sqrt{2}$.\n$\\arg(1 - i) = \\arctan\\left(\\frac{-1}{1}\\right) = -\\frac{\\pi}{4}$.\nVậy, $1 - i = \\sqrt{2}\\left(\\cos\\left(-\\frac{\\pi}{4}\\right) + i\\sin\\left(-\\frac{\\pi}{4}\\right)\\right)$.\n\nBước 2: Tính $(1 - i)^{10}$.\n$(1 - i)^{10} = \\left(\\sqrt{2}\\left(\\cos\\left(-\\frac{\\pi}{4}\\right) + i\\sin\\left(-\\frac{\\pi}{4}\\right)\\right)\\right)^{10} = (\\sqrt{2})^{10}\\left(\\cos\\left(-\\frac{10\\pi}{4}\\right) + i\\sin\\left(-\\frac{10\\pi}{4}\\right)\\right) = 2^5\\left(\\cos\\left(-\\frac{5\\pi}{2}\\right) + i\\sin\\left(-\\frac{5\\pi}{2}\\right)\\right) = 32\\left(\\cos\\left(-\\frac{\\pi}{2}\\right) + i\\sin\\left(-\\frac{\\pi}{2}\\right)\\right) = 32(0 - i) = -32i$.\n\nBước 3: Đưa $\\sqrt{3} + i$ về dạng lượng giác.\n$|\\sqrt{3} + i| = \\sqrt{(\\sqrt{3})^2 + 1^2} = \\sqrt{3 + 1} = 2$.\n$\\arg(\\sqrt{3} + i) = \\arctan\\left(\\frac{1}{\\sqrt{3}}\\right) = \\frac{\\pi}{6}$.\nVậy, $\\sqrt{3} + i = 2\\left(\\cos\\left(\\frac{\\pi}{6}\\right) + i\\sin\\left(\\frac{\\pi}{6}\\right)\\right)$.\n\nBước 4: Tính $(\\sqrt{3} + i)^9$.\n$(\\sqrt{3} + i)^9 = \\left(2\\left(\\cos\\left(\\frac{\\pi}{6}\\right) + i\\sin\\left(\\frac{\\pi}{6}\\right)\\right)\\right)^9 = 2^9\\left(\\cos\\left(\\frac{9\\pi}{6}\\right) + i\\sin\\left(\\frac{9\\pi}{6}\\right)\\right) = 512\\left(\\cos\\left(\\frac{3\\pi}{2}\\right) + i\\sin\\left(\\frac{3\\pi}{2}\\right)\\right) = 512(0 - i) = -512i$.\n\nBước 5: Tính $z = \\frac{(1 - i)^{10}}{(\\sqrt{3} + i)^9}$.\n$z = \\frac{-32i}{-512i} = \\frac{32}{512} = \\frac{1}{16}$.\n\nBước 6: Đưa $\\frac{1}{16}$ về dạng lượng giác.\n$\\frac{1}{16} = \\frac{1}{16} + 0i$.\n$|\\frac{1}{16}| = \\sqrt{\\left(\\frac{1}{16}\\right)^2 + 0^2} = \\frac{1}{16}$.\n$\\arg\\left(\\frac{1}{16}\\right) = \\arctan\\left(\\frac{0}{\\frac{1}{16}}\\right) = 0$.\nVậy, $z = \\frac{1}{16}\\left(\\cos(0) + i\\sin(0)\\right)$.\n\n",
         "\n$z = \\frac{1}{16}(\\cos(0) + i\\sin(0))$\n",
         "Both Correct",
         "No explanation provided"
        ],
        [
         "49",
         "49",
         "Cho số phức $(\\cos \\frac{\\pi}{3} - i.sin\\frac{\\pi}{3})^5(1 + \\sqrt{3}i)^7$. Tìm phần ảo của số phức.",
         "Ta có: $1 + \\sqrt{3}i = 2.(cos\\frac{\\pi}{3} + i.sin\\frac{\\pi}{3})$ và $i^4 = 1$ nên ta có: $(\\cos \\frac{\\pi}{3} - i.sin\\frac{\\pi}{3})^5(1 + \\sqrt{3}i)^7 = (\\cos \\frac{\\pi}{3} - i.sin\\frac{\\pi}{3})^5.i.[2(cos\\frac{\\pi}{3} + i.sin\\frac{\\pi}{3})]^7 = 2^7(cos(-\\frac{\\pi}{3}) + i.sin(-\\frac{\\pi}{3})).[(\\cos \\frac{7\\pi}{3} + i.sin\\frac{7\\pi}{3})] = 2^7[cos2\\pi + i.sin2\\pi] i = 2^7 i$. Vậy phần ảo bằng $2^7 = 128$.",
         "128",
         "\nTa có số phức $z = (\\cos \\frac{\\pi}{3} - i\\sin\\frac{\\pi}{3})^5(1 + \\sqrt{3}i)^7$.\nĐầu tiên, ta biến đổi $(\\cos \\frac{\\pi}{3} - i\\sin\\frac{\\pi}{3})^5$. Sử dụng công thức Euler, ta có:\n$\\cos \\frac{\\pi}{3} - i\\sin\\frac{\\pi}{3} = e^{-i\\frac{\\pi}{3}}$.\nVậy, $(\\cos \\frac{\\pi}{3} - i\\sin\\frac{\\pi}{3})^5 = (e^{-i\\frac{\\pi}{3}})^5 = e^{-i\\frac{5\\pi}{3}} = \\cos(-\\frac{5\\pi}{3}) + i\\sin(-\\frac{5\\pi}{3}) = \\cos(\\frac{5\\pi}{3}) - i\\sin(\\frac{5\\pi}{3}) = \\cos(2\\pi - \\frac{\\pi}{3}) - i\\sin(2\\pi - \\frac{\\pi}{3}) = \\cos(\\frac{\\pi}{3}) + i\\sin(\\frac{\\pi}{3}) = \\frac{1}{2} + i\\frac{\\sqrt{3}}{2}$.\n\nTiếp theo, ta biến đổi $(1 + \\sqrt{3}i)^7$. Ta đưa $1 + \\sqrt{3}i$ về dạng lượng giác.\n$1 + \\sqrt{3}i = R(\\cos\\theta + i\\sin\\theta)$.\n$R = \\sqrt{1^2 + (\\sqrt{3})^2} = \\sqrt{1 + 3} = 2$.\n$\\cos\\theta = \\frac{1}{2}$ và $\\sin\\theta = \\frac{\\sqrt{3}}{2}$, suy ra $\\theta = \\frac{\\pi}{3}$.\nVậy, $1 + \\sqrt{3}i = 2(\\cos\\frac{\\pi}{3} + i\\sin\\frac{\\pi}{3}) = 2e^{i\\frac{\\pi}{3}}$.\n$(1 + \\sqrt{3}i)^7 = (2e^{i\\frac{\\pi}{3}})^7 = 2^7e^{i\\frac{7\\pi}{3}} = 128(\\cos\\frac{7\\pi}{3} + i\\sin\\frac{7\\pi}{3}) = 128(\\cos(2\\pi + \\frac{\\pi}{3}) + i\\sin(2\\pi + \\frac{\\pi}{3})) = 128(\\cos\\frac{\\pi}{3} + i\\sin\\frac{\\pi}{3}) = 128(\\frac{1}{2} + i\\frac{\\sqrt{3}}{2}) = 64 + 64\\sqrt{3}i$.\n\nVậy, $z = (\\frac{1}{2} + i\\frac{\\sqrt{3}}{2})(64 + 64\\sqrt{3}i) = \\frac{1}{2}(64 + 64\\sqrt{3}i) + i\\frac{\\sqrt{3}}{2}(64 + 64\\sqrt{3}i) = 32 + 32\\sqrt{3}i + 32\\sqrt{3}i + 32\\sqrt{3}\\sqrt{3}i^2 = 32 + 64\\sqrt{3}i - 96 = -64 + 64\\sqrt{3}i$.\n\nPhần ảo của số phức $z$ là $64\\sqrt{3}$.\n\n",
         "\n$64\\sqrt{3}$\n",
         "Wrong Answer, Correct Explanation",
         "No explanation provided"
        ]
       ],
       "shape": {
        "columns": 8,
        "rows": 162
       }
      },
      "text/html": [
       "<div>\n",
       "<style scoped>\n",
       "    .dataframe tbody tr th:only-of-type {\n",
       "        vertical-align: middle;\n",
       "    }\n",
       "\n",
       "    .dataframe tbody tr th {\n",
       "        vertical-align: top;\n",
       "    }\n",
       "\n",
       "    .dataframe thead th {\n",
       "        text-align: right;\n",
       "    }\n",
       "</style>\n",
       "<table border=\"1\" class=\"dataframe\">\n",
       "  <thead>\n",
       "    <tr style=\"text-align: right;\">\n",
       "      <th></th>\n",
       "      <th>Unnamed: 0</th>\n",
       "      <th>Question</th>\n",
       "      <th>Solution</th>\n",
       "      <th>Answer</th>\n",
       "      <th>AI Solution</th>\n",
       "      <th>AI Answer</th>\n",
       "      <th>Category</th>\n",
       "      <th>Explanation</th>\n",
       "    </tr>\n",
       "  </thead>\n",
       "  <tbody>\n",
       "    <tr>\n",
       "      <th>0</th>\n",
       "      <td>0</td>\n",
       "      <td>Cho hai số phức $z_1 = 1 + 10i$ và $z_2 = 9 – ...</td>\n",
       "      <td>Ta có: $z = z_1 + z_2 = (1 + 10i) + ( 9 – 2i) ...</td>\n",
       "      <td>10</td>\n",
       "      <td>\\nĐể tìm số phức $z = z_1 + z_2$, ta thực hiện...</td>\n",
       "      <td>\\n$10$\\n</td>\n",
       "      <td>Both Correct</td>\n",
       "      <td>No explanation provided</td>\n",
       "    </tr>\n",
       "    <tr>\n",
       "      <th>1</th>\n",
       "      <td>1</td>\n",
       "      <td>Hãy tính số phức z. Biết rằng: $z = 10i – ( 2 ...</td>\n",
       "      <td>Ta có: $z = 10i - (2 + 2i).i = 10i – 2i + 2 = ...</td>\n",
       "      <td>2 + 8i</td>\n",
       "      <td>\\nĐể tính số phức $z$, ta thực hiện các phép t...</td>\n",
       "      <td>\\n$z = 2 + 8i$\\n</td>\n",
       "      <td>Both Correct</td>\n",
       "      <td>No explanation provided</td>\n",
       "    </tr>\n",
       "    <tr>\n",
       "      <th>2</th>\n",
       "      <td>2</td>\n",
       "      <td>Cho hai số phức $z = -2 + 3yi$; $z’ = ( x + 1)...</td>\n",
       "      <td>Để $z + i = z’ + 2$ =&gt; - 2 + 3yi + i = ( x + 1...</td>\n",
       "      <td>x = -5, y = -5/3</td>\n",
       "      <td>\\nTa có:\\n$z = -2 + 3yi$\\n$z' = (x+1) - 4i$\\n$...</td>\n",
       "      <td>\\n$x = -5$\\n$y = -\\frac{5}{3}$\\n</td>\n",
       "      <td>Both Correct</td>\n",
       "      <td>No explanation provided</td>\n",
       "    </tr>\n",
       "    <tr>\n",
       "      <th>3</th>\n",
       "      <td>3</td>\n",
       "      <td>Số nào trong các số phức sau là số thuần ảo? A...</td>\n",
       "      <td>Ta xét các phương án:A.(√2 + i) - (1 + √2i)= (...</td>\n",
       "      <td>B. ( 8 + 2i) + (- 8 + 2i)</td>\n",
       "      <td>\\nĐể một số phức là số thuần ảo, phần thực của...</td>\n",
       "      <td>\\nB. $(8 + 2i) + (- 8 + 2i)$\\n</td>\n",
       "      <td>Both Correct</td>\n",
       "      <td>No explanation provided</td>\n",
       "    </tr>\n",
       "    <tr>\n",
       "      <th>4</th>\n",
       "      <td>4</td>\n",
       "      <td>Tính giá trị của P = i^{105} + i^{23} + i^{20}...</td>\n",
       "      <td>Ta có: $i^2 = -1 \\Rightarrow i^4 = 1$. Do đó, ...</td>\n",
       "      <td>2</td>\n",
       "      <td>\\nTa có $i$ là đơn vị ảo, thỏa mãn $i^2 = -1$....</td>\n",
       "      <td>\\n$P = 2$\\n</td>\n",
       "      <td>Both Correct</td>\n",
       "      <td>No explanation provided</td>\n",
       "    </tr>\n",
       "    <tr>\n",
       "      <th>...</th>\n",
       "      <td>...</td>\n",
       "      <td>...</td>\n",
       "      <td>...</td>\n",
       "      <td>...</td>\n",
       "      <td>...</td>\n",
       "      <td>...</td>\n",
       "      <td>...</td>\n",
       "      <td>...</td>\n",
       "    </tr>\n",
       "    <tr>\n",
       "      <th>157</th>\n",
       "      <td>157</td>\n",
       "      <td>Gọi (H) là hình phẳng giới hạn bởi các đường y...</td>\n",
       "      <td>Phương trình hoành độ giao điểm:\\n$2x-x^2 = 0 ...</td>\n",
       "      <td>16/15pi</td>\n",
       "      <td>\\nĐể tính thể tích khối tròn xoay tạo thành kh...</td>\n",
       "      <td>\\n$V = \\frac{16\\pi}{15}$\\n</td>\n",
       "      <td>Both Correct</td>\n",
       "      <td>No explanation provided</td>\n",
       "    </tr>\n",
       "    <tr>\n",
       "      <th>158</th>\n",
       "      <td>158</td>\n",
       "      <td>Tính thể tích khối tròn xoay được giới hạn bởi...</td>\n",
       "      <td>Thể tích khối tròn xoay được giới hạn bởi các ...</td>\n",
       "      <td>46/15pi</td>\n",
       "      <td>\\nBài toán yêu cầu tính thể tích khối tròn xoa...</td>\n",
       "      <td>\\n$V = \\frac{46\\pi}{15}$\\n</td>\n",
       "      <td>Both Correct</td>\n",
       "      <td>No explanation provided</td>\n",
       "    </tr>\n",
       "    <tr>\n",
       "      <th>159</th>\n",
       "      <td>159</td>\n",
       "      <td>Cho hình phẳng giới hạn bởi các đường y=\\sqrt{...</td>\n",
       "      <td>Giải phương trình $\\sqrt{x} = x \\Leftrightarro...</td>\n",
       "      <td>pi/6</td>\n",
       "      <td>\\nĐể giải bài toán này, ta thực hiện các bước ...</td>\n",
       "      <td>\\n$V = \\frac{\\pi}{6}$\\n</td>\n",
       "      <td>Both Correct</td>\n",
       "      <td>No explanation provided</td>\n",
       "    </tr>\n",
       "    <tr>\n",
       "      <th>160</th>\n",
       "      <td>160</td>\n",
       "      <td>Gọi (H) là hình phẳng giới hạn bởi các đường y...</td>\n",
       "      <td>Thể tích khối tròn xoay được giới hạn bởi các ...</td>\n",
       "      <td>pi - pi^2/4</td>\n",
       "      <td>\\nĐể tính thể tích khối tròn xoay tạo thành kh...</td>\n",
       "      <td>\\n$V = \\pi - \\frac{\\pi^2}{4}$\\n</td>\n",
       "      <td>Both Correct</td>\n",
       "      <td>No explanation provided</td>\n",
       "    </tr>\n",
       "    <tr>\n",
       "      <th>161</th>\n",
       "      <td>161</td>\n",
       "      <td>Tính thể tích khối tròn xoay giới hạn bởi y=ln...</td>\n",
       "      <td>Phương trình hoành độ giao điểm: $lnx=0 \\Leftr...</td>\n",
       "      <td>pi(e-2)</td>\n",
       "      <td>\\nĐể tính thể tích khối tròn xoay giới hạn bởi...</td>\n",
       "      <td>\\n$V = \\pi(e-2)$\\n</td>\n",
       "      <td>Both Correct</td>\n",
       "      <td>No explanation provided</td>\n",
       "    </tr>\n",
       "  </tbody>\n",
       "</table>\n",
       "<p>162 rows × 8 columns</p>\n",
       "</div>"
      ],
      "text/plain": [
       "     Unnamed: 0                                           Question  \\\n",
       "0             0  Cho hai số phức $z_1 = 1 + 10i$ và $z_2 = 9 – ...   \n",
       "1             1  Hãy tính số phức z. Biết rằng: $z = 10i – ( 2 ...   \n",
       "2             2  Cho hai số phức $z = -2 + 3yi$; $z’ = ( x + 1)...   \n",
       "3             3  Số nào trong các số phức sau là số thuần ảo? A...   \n",
       "4             4  Tính giá trị của P = i^{105} + i^{23} + i^{20}...   \n",
       "..          ...                                                ...   \n",
       "157         157  Gọi (H) là hình phẳng giới hạn bởi các đường y...   \n",
       "158         158  Tính thể tích khối tròn xoay được giới hạn bởi...   \n",
       "159         159  Cho hình phẳng giới hạn bởi các đường y=\\sqrt{...   \n",
       "160         160  Gọi (H) là hình phẳng giới hạn bởi các đường y...   \n",
       "161         161  Tính thể tích khối tròn xoay giới hạn bởi y=ln...   \n",
       "\n",
       "                                              Solution  \\\n",
       "0    Ta có: $z = z_1 + z_2 = (1 + 10i) + ( 9 – 2i) ...   \n",
       "1    Ta có: $z = 10i - (2 + 2i).i = 10i – 2i + 2 = ...   \n",
       "2    Để $z + i = z’ + 2$ => - 2 + 3yi + i = ( x + 1...   \n",
       "3    Ta xét các phương án:A.(√2 + i) - (1 + √2i)= (...   \n",
       "4    Ta có: $i^2 = -1 \\Rightarrow i^4 = 1$. Do đó, ...   \n",
       "..                                                 ...   \n",
       "157  Phương trình hoành độ giao điểm:\\n$2x-x^2 = 0 ...   \n",
       "158  Thể tích khối tròn xoay được giới hạn bởi các ...   \n",
       "159  Giải phương trình $\\sqrt{x} = x \\Leftrightarro...   \n",
       "160  Thể tích khối tròn xoay được giới hạn bởi các ...   \n",
       "161  Phương trình hoành độ giao điểm: $lnx=0 \\Leftr...   \n",
       "\n",
       "                        Answer  \\\n",
       "0                           10   \n",
       "1                       2 + 8i   \n",
       "2             x = -5, y = -5/3   \n",
       "3    B. ( 8 + 2i) + (- 8 + 2i)   \n",
       "4                            2   \n",
       "..                         ...   \n",
       "157                    16/15pi   \n",
       "158                    46/15pi   \n",
       "159                       pi/6   \n",
       "160                pi - pi^2/4   \n",
       "161                    pi(e-2)   \n",
       "\n",
       "                                           AI Solution  \\\n",
       "0    \\nĐể tìm số phức $z = z_1 + z_2$, ta thực hiện...   \n",
       "1    \\nĐể tính số phức $z$, ta thực hiện các phép t...   \n",
       "2    \\nTa có:\\n$z = -2 + 3yi$\\n$z' = (x+1) - 4i$\\n$...   \n",
       "3    \\nĐể một số phức là số thuần ảo, phần thực của...   \n",
       "4    \\nTa có $i$ là đơn vị ảo, thỏa mãn $i^2 = -1$....   \n",
       "..                                                 ...   \n",
       "157  \\nĐể tính thể tích khối tròn xoay tạo thành kh...   \n",
       "158  \\nBài toán yêu cầu tính thể tích khối tròn xoa...   \n",
       "159  \\nĐể giải bài toán này, ta thực hiện các bước ...   \n",
       "160  \\nĐể tính thể tích khối tròn xoay tạo thành kh...   \n",
       "161  \\nĐể tính thể tích khối tròn xoay giới hạn bởi...   \n",
       "\n",
       "                            AI Answer      Category              Explanation  \n",
       "0                            \\n$10$\\n  Both Correct  No explanation provided  \n",
       "1                    \\n$z = 2 + 8i$\\n  Both Correct  No explanation provided  \n",
       "2    \\n$x = -5$\\n$y = -\\frac{5}{3}$\\n  Both Correct  No explanation provided  \n",
       "3      \\nB. $(8 + 2i) + (- 8 + 2i)$\\n  Both Correct  No explanation provided  \n",
       "4                         \\n$P = 2$\\n  Both Correct  No explanation provided  \n",
       "..                                ...           ...                      ...  \n",
       "157        \\n$V = \\frac{16\\pi}{15}$\\n  Both Correct  No explanation provided  \n",
       "158        \\n$V = \\frac{46\\pi}{15}$\\n  Both Correct  No explanation provided  \n",
       "159           \\n$V = \\frac{\\pi}{6}$\\n  Both Correct  No explanation provided  \n",
       "160   \\n$V = \\pi - \\frac{\\pi^2}{4}$\\n  Both Correct  No explanation provided  \n",
       "161                \\n$V = \\pi(e-2)$\\n  Both Correct  No explanation provided  \n",
       "\n",
       "[162 rows x 8 columns]"
      ]
     },
     "metadata": {},
     "output_type": "display_data"
    }
   ],
   "source": [
    "import time\n",
    "import re\n",
    "import pandas as pd\n",
    "from tqdm import tqdm\n",
    "\n",
    "# Function to classify AI answer correctness\n",
    "\n",
    "model = GeminiAI()\n",
    "\n",
    "def check_answer(correct_answer, ai_answer):\n",
    "    prompt = (f'''Compare the correct answer '{correct_answer}' with the AI-generated answer '{ai_answer}'. \n",
    "              Categorize the result into one of the following:\n",
    "              1. 'Both Correct' - AI answer is meaningfully correct.\n",
    "              2. 'Both Incorrect' - AI uses incorrect reasoning, both is incorrect.\n",
    "              3. 'Correct Answer, Wrong Explanation' - The answer is correct, but the reasoning is flawed.\n",
    "              4. 'Wrong Answer, Correct Explanation' - The answer is wrong, but the reasoning is valid.\n",
    "              5. 'AI Not Generated' - AI did not produce an answer.\n",
    "              \n",
    "              Be lenient in formatting and minor differences as long as the meaning aligns. \n",
    "              Return only the category and a brief explanation.\n",
    "              ''')\n",
    "\n",
    "    global last_api_call_time\n",
    "    elapsed_time = time.time() - last_api_call_time\n",
    "    if elapsed_time < 4:\n",
    "        time.sleep(4 - elapsed_time)  # Enforce rate limit\n",
    "\n",
    "    response = model.generate(prompt)\n",
    "    last_api_call_time = time.time()\n",
    "\n",
    "    if response is None:\n",
    "        return \"AI Not Generated\", \"AI failed to generate a response\"\n",
    "\n",
    "    match = re.search(r\"(Both Correct|Both Incorrect|Correct Answer, Wrong Explanation|Wrong Answer, Correct Explanation|AI Not Generated)\", response)\n",
    "    explanation_match = re.search(r\"Explanation:\\s*(.*)\", response, re.DOTALL)\n",
    "    \n",
    "    category = match.group(1) if match else \"Unknown\"\n",
    "    explanation = explanation_match.group(1).strip() if explanation_match else \"No explanation provided\"\n",
    "    \n",
    "    return category, explanation\n",
    "\n",
    "# Initialize rate limit tracking\n",
    "last_api_call_time = time.time()\n",
    "\n",
    "# Ensure necessary columns exist\n",
    "if \"Category\" not in df.columns:\n",
    "    df[\"Category\"] = None\n",
    "if \"Explanation\" not in df.columns:\n",
    "    df[\"Explanation\"] = None\n",
    "\n",
    "# Iterate through DataFrame\n",
    "for index, row in tqdm(df.iterrows(), total=df.shape[0], desc=\"Checking AI Answers\"):\n",
    "    if pd.notna(row[\"Category\"]):\n",
    "        continue\n",
    "    \n",
    "    category, explanation = check_answer(row[\"Answer\"], row[\"AI Answer\"])\n",
    "    df.at[index, \"Category\"] = category\n",
    "    df.at[index, \"Explanation\"] = explanation\n",
    "\n",
    "# Display updated DataFrame\n",
    "display(df)\n"
   ]
  },
  {
   "cell_type": "code",
   "execution_count": 9,
   "metadata": {},
   "outputs": [
    {
     "name": "stdout",
     "output_type": "stream",
     "text": [
      "Statistical Summary of AI Answer Classification:\n",
      "Both Correct                         128\n",
      "Both Incorrect                        13\n",
      "Wrong Answer, Correct Explanation     11\n",
      "Correct Answer, Wrong Explanation      8\n",
      "AI Not Generated                       2\n",
      "Name: Category, dtype: int64\n",
      "\n",
      "Percentage Distribution:\n",
      "Both Correct                         79.012346\n",
      "Both Incorrect                        8.024691\n",
      "Wrong Answer, Correct Explanation     6.790123\n",
      "Correct Answer, Wrong Explanation     4.938272\n",
      "AI Not Generated                      1.234568\n",
      "Name: Category, dtype: float64\n"
     ]
    },
    {
     "data": {
      "image/png": "[encoded data removed]",
      "text/plain": [
       "<Figure size 800x500 with 1 Axes>"
      ]
     },
     "metadata": {},
     "output_type": "display_data"
    }
   ],
   "source": [
    "import pandas as pd\n",
    "import matplotlib.pyplot as plt\n",
    "\n",
    "# Count occurrences of each classification category\n",
    "category_counts = df[\"Category\"].value_counts()\n",
    "\n",
    "# Compute percentages\n",
    "category_percentages = (category_counts / len(df)) * 100\n",
    "\n",
    "# Display statistical summary\n",
    "print(\"Statistical Summary of AI Answer Classification:\")\n",
    "print(category_counts)\n",
    "print(\"\\nPercentage Distribution:\")\n",
    "print(category_percentages)\n",
    "\n",
    "# Plot bar chart for better visualization\n",
    "plt.figure(figsize=(8, 5))\n",
    "category_counts.plot(kind=\"bar\", color=[\"green\", \"red\", \"orange\", \"blue\", \"gray\"])\n",
    "plt.xlabel(\"Category\")\n",
    "plt.ylabel(\"Count\")\n",
    "plt.title(\"Distribution of AI Answer Classifications\")\n",
    "plt.xticks(rotation=45)\n",
    "plt.grid(axis=\"y\", linestyle=\"--\", alpha=0.7)\n",
    "plt.show()\n"
   ]
  },
  {
   "cell_type": "code",
   "execution_count": 10,
   "metadata": {},
   "outputs": [],
   "source": [
    "df.to_csv(\"gemini_test_results.csv\")"
   ]
  }
 ],
 "metadata": {
  "kernelspec": {
   "display_name": "mira",
   "language": "python",
   "name": "python3"
  },
  "language_info": {
   "codemirror_mode": {
    "name": "ipython",
    "version": 3
   },
   "file_extension": ".py",
   "mimetype": "text/x-python",
   "name": "python",
   "nbconvert_exporter": "python",
   "pygments_lexer": "ipython3",
   "version": "3.10.12"
  }
 },
 "nbformat": 4,
 "nbformat_minor": 2
}
